{
 "cells": [
  {
   "cell_type": "markdown",
   "id": "e30c57ca",
   "metadata": {},
   "source": [
    "## 데이터 시각화"
   ]
  },
  {
   "cell_type": "markdown",
   "id": "2d61073c",
   "metadata": {},
   "source": [
    "### 관련 라이브러리 호출"
   ]
  },
  {
   "cell_type": "code",
   "execution_count": 1,
   "id": "2bc21f8c",
   "metadata": {},
   "outputs": [],
   "source": [
    "# 관련 라이브러리를 호출합니다.\n",
    "import os\n",
    "import joblib\n",
    "import numpy as np\n",
    "import pandas as pd\n",
    "import seaborn as sns\n",
    "import matplotlib.pyplot as plt"
   ]
  },
  {
   "cell_type": "markdown",
   "id": "18e4fc31",
   "metadata": {},
   "source": [
    "### 작업 경로 확인 및 변경"
   ]
  },
  {
   "cell_type": "code",
   "execution_count": 2,
   "id": "e68fab1a",
   "metadata": {},
   "outputs": [
    {
     "data": {
      "text/plain": [
       "'/Users/hdsceokevin/Documents/Lectures/PythonAdvanced/basic_review'"
      ]
     },
     "execution_count": 2,
     "metadata": {},
     "output_type": "execute_result"
    }
   ],
   "source": [
    "# 현재 작업 경로를 확인합니다.\n",
    "os.getcwd()"
   ]
  },
  {
   "cell_type": "code",
   "execution_count": 3,
   "id": "4721962c",
   "metadata": {},
   "outputs": [],
   "source": [
    "# data 폴더로 작업 경로를 변경합니다.\n",
    "os.chdir(path = '../data')"
   ]
  },
  {
   "cell_type": "code",
   "execution_count": 4,
   "id": "bedc2bee",
   "metadata": {},
   "outputs": [
    {
     "data": {
      "text/plain": [
       "['Seafood_Trade_Prep.z',\n",
       " 'Used_Cars_Price.csv',\n",
       " 'Used_Cars_Price.xlsx',\n",
       " 'Used_Cars_Price.z',\n",
       " 'Used_Cars_Price_Prep.z']"
      ]
     },
     "execution_count": 4,
     "metadata": {},
     "output_type": "execute_result"
    }
   ],
   "source": [
    "# 작업 경로에 있는 폴더명과 파일명을 출력합니다.\n",
    "sorted(os.listdir())"
   ]
  },
  {
   "cell_type": "markdown",
   "id": "59049419",
   "metadata": {},
   "source": [
    "### 실습 데이터셋 준비"
   ]
  },
  {
   "cell_type": "code",
   "execution_count": 5,
   "id": "db374512",
   "metadata": {},
   "outputs": [
    {
     "data": {
      "text/plain": [
       "[        month nation    mpritm imxprt     weight     grand\n",
       " 0      202101     대만   클로렐라 효모     수입     500.00    13.456\n",
       " 1      202101     일본   클로렐라 효모     수입      84.00     1.326\n",
       " 2      202101     미국   클로렐라 효모     수입       4.84     0.193\n",
       " 3      202101    캐나다  스리루리나 효모     수입    1505.78    33.789\n",
       " 4      202101     일본  스리루리나 효모     수입     665.28    17.319\n",
       " ...       ...    ...       ...    ...        ...       ...\n",
       " 31517  202112     독일      미꾸라지     수입       1.00     0.242\n",
       " 31518  202112     미국      미꾸라지     수출     371.00     6.209\n",
       " 31519  202112     중국      미꾸라지     수입  643363.00  2593.251\n",
       " 31520  202112     일본         돔     수입      52.80     2.249\n",
       " 31521  202112     중국         돔     수출    1696.00     6.100\n",
       " \n",
       " [31522 rows x 6 columns],\n",
       "        국가           수입          수출         무역수지     국민소득 국가등급\n",
       " 0      일본   170243.592  634750.935   464507.343  42620.0  선진국\n",
       " 1      미국   250113.606  394052.534   143938.928  70430.0  선진국\n",
       " 2     프랑스    34315.325   66501.431    32186.106  43880.0  선진국\n",
       " 3    이탈리아    25683.273   52960.489    27277.216  35710.0  선진국\n",
       " 4      독일     1263.392   27185.831    25922.439  51040.0  선진국\n",
       " ..    ...          ...         ...          ...      ...  ...\n",
       " 160    페루   165384.173    2708.109  -162676.064   6520.0  개도국\n",
       " 161    중국  1300449.248  726488.682  -573960.566  11890.0  신흥국\n",
       " 162  노르웨이   575973.581    1884.646  -574088.935  84090.0  선진국\n",
       " 163   베트남   808388.014  177117.491  -631270.523   3560.0  개도국\n",
       " 164   러시아  1219825.619   53475.703 -1166349.916  11600.0  신흥국\n",
       " \n",
       " [165 rows x 6 columns]]"
      ]
     },
     "execution_count": 5,
     "metadata": {},
     "output_type": "execute_result"
    }
   ],
   "source": [
    "# 압축 파일을 호출합니다.\n",
    "# [힌트] joblib.load() 함수를 사용하세요.\n",
    "# [참고] 두 데이터프레임을 원소로 갖는 리스트를 반환합니다.\n",
    "joblib.load(filename = 'Seafood_Trade_Prep.z')"
   ]
  },
  {
   "cell_type": "code",
   "execution_count": 6,
   "id": "a62ece21",
   "metadata": {},
   "outputs": [],
   "source": [
    "# 압축 파일을 호출하고 sfd, mgd에 할당합니다.\n",
    "sfd, mgd = joblib.load(filename = 'Seafood_Trade_Prep.z')"
   ]
  },
  {
   "cell_type": "code",
   "execution_count": 7,
   "id": "0953a52b",
   "metadata": {},
   "outputs": [
    {
     "name": "stdout",
     "output_type": "stream",
     "text": [
      "<class 'pandas.core.frame.DataFrame'>\n",
      "RangeIndex: 31522 entries, 0 to 31521\n",
      "Data columns (total 6 columns):\n",
      " #   Column  Non-Null Count  Dtype  \n",
      "---  ------  --------------  -----  \n",
      " 0   month   31522 non-null  object \n",
      " 1   nation  31522 non-null  object \n",
      " 2   mpritm  28824 non-null  object \n",
      " 3   imxprt  31522 non-null  object \n",
      " 4   weight  31522 non-null  float64\n",
      " 5   grand   31522 non-null  float64\n",
      "dtypes: float64(2), object(4)\n",
      "memory usage: 1.4+ MB\n"
     ]
    }
   ],
   "source": [
    "# sfd의 정보를 확인합니다.\n",
    "sfd.info()"
   ]
  },
  {
   "cell_type": "code",
   "execution_count": 8,
   "id": "dc37137c",
   "metadata": {},
   "outputs": [
    {
     "data": {
      "text/html": [
       "<div>\n",
       "<style scoped>\n",
       "    .dataframe tbody tr th:only-of-type {\n",
       "        vertical-align: middle;\n",
       "    }\n",
       "\n",
       "    .dataframe tbody tr th {\n",
       "        vertical-align: top;\n",
       "    }\n",
       "\n",
       "    .dataframe thead th {\n",
       "        text-align: right;\n",
       "    }\n",
       "</style>\n",
       "<table border=\"1\" class=\"dataframe\">\n",
       "  <thead>\n",
       "    <tr style=\"text-align: right;\">\n",
       "      <th></th>\n",
       "      <th>month</th>\n",
       "      <th>nation</th>\n",
       "      <th>mpritm</th>\n",
       "      <th>imxprt</th>\n",
       "      <th>weight</th>\n",
       "      <th>grand</th>\n",
       "    </tr>\n",
       "  </thead>\n",
       "  <tbody>\n",
       "    <tr>\n",
       "      <th>0</th>\n",
       "      <td>202101</td>\n",
       "      <td>대만</td>\n",
       "      <td>클로렐라 효모</td>\n",
       "      <td>수입</td>\n",
       "      <td>500.00</td>\n",
       "      <td>13.456</td>\n",
       "    </tr>\n",
       "    <tr>\n",
       "      <th>1</th>\n",
       "      <td>202101</td>\n",
       "      <td>일본</td>\n",
       "      <td>클로렐라 효모</td>\n",
       "      <td>수입</td>\n",
       "      <td>84.00</td>\n",
       "      <td>1.326</td>\n",
       "    </tr>\n",
       "    <tr>\n",
       "      <th>2</th>\n",
       "      <td>202101</td>\n",
       "      <td>미국</td>\n",
       "      <td>클로렐라 효모</td>\n",
       "      <td>수입</td>\n",
       "      <td>4.84</td>\n",
       "      <td>0.193</td>\n",
       "    </tr>\n",
       "    <tr>\n",
       "      <th>3</th>\n",
       "      <td>202101</td>\n",
       "      <td>캐나다</td>\n",
       "      <td>스리루리나 효모</td>\n",
       "      <td>수입</td>\n",
       "      <td>1505.78</td>\n",
       "      <td>33.789</td>\n",
       "    </tr>\n",
       "    <tr>\n",
       "      <th>4</th>\n",
       "      <td>202101</td>\n",
       "      <td>일본</td>\n",
       "      <td>스리루리나 효모</td>\n",
       "      <td>수입</td>\n",
       "      <td>665.28</td>\n",
       "      <td>17.319</td>\n",
       "    </tr>\n",
       "  </tbody>\n",
       "</table>\n",
       "</div>"
      ],
      "text/plain": [
       "    month nation    mpritm imxprt   weight   grand\n",
       "0  202101     대만   클로렐라 효모     수입   500.00  13.456\n",
       "1  202101     일본   클로렐라 효모     수입    84.00   1.326\n",
       "2  202101     미국   클로렐라 효모     수입     4.84   0.193\n",
       "3  202101    캐나다  스리루리나 효모     수입  1505.78  33.789\n",
       "4  202101     일본  스리루리나 효모     수입   665.28  17.319"
      ]
     },
     "execution_count": 8,
     "metadata": {},
     "output_type": "execute_result"
    }
   ],
   "source": [
    "# sfd의 처음 5행을 출력합니다.\n",
    "sfd.head()"
   ]
  },
  {
   "cell_type": "code",
   "execution_count": 9,
   "id": "11996a2b",
   "metadata": {},
   "outputs": [
    {
     "name": "stdout",
     "output_type": "stream",
     "text": [
      "<class 'pandas.core.frame.DataFrame'>\n",
      "Int64Index: 165 entries, 0 to 164\n",
      "Data columns (total 6 columns):\n",
      " #   Column  Non-Null Count  Dtype  \n",
      "---  ------  --------------  -----  \n",
      " 0   국가      165 non-null    object \n",
      " 1   수입      165 non-null    float64\n",
      " 2   수출      165 non-null    float64\n",
      " 3   무역수지    165 non-null    float64\n",
      " 4   국민소득    137 non-null    float64\n",
      " 5   국가등급    165 non-null    object \n",
      "dtypes: float64(4), object(2)\n",
      "memory usage: 9.0+ KB\n"
     ]
    }
   ],
   "source": [
    "# mgd의 정보를 확인합니다.\n",
    "mgd.info()"
   ]
  },
  {
   "cell_type": "code",
   "execution_count": 10,
   "id": "a0723168",
   "metadata": {},
   "outputs": [
    {
     "data": {
      "text/html": [
       "<div>\n",
       "<style scoped>\n",
       "    .dataframe tbody tr th:only-of-type {\n",
       "        vertical-align: middle;\n",
       "    }\n",
       "\n",
       "    .dataframe tbody tr th {\n",
       "        vertical-align: top;\n",
       "    }\n",
       "\n",
       "    .dataframe thead th {\n",
       "        text-align: right;\n",
       "    }\n",
       "</style>\n",
       "<table border=\"1\" class=\"dataframe\">\n",
       "  <thead>\n",
       "    <tr style=\"text-align: right;\">\n",
       "      <th></th>\n",
       "      <th>국가</th>\n",
       "      <th>수입</th>\n",
       "      <th>수출</th>\n",
       "      <th>무역수지</th>\n",
       "      <th>국민소득</th>\n",
       "      <th>국가등급</th>\n",
       "    </tr>\n",
       "  </thead>\n",
       "  <tbody>\n",
       "    <tr>\n",
       "      <th>0</th>\n",
       "      <td>일본</td>\n",
       "      <td>170243.592</td>\n",
       "      <td>634750.935</td>\n",
       "      <td>464507.343</td>\n",
       "      <td>42620.0</td>\n",
       "      <td>선진국</td>\n",
       "    </tr>\n",
       "    <tr>\n",
       "      <th>1</th>\n",
       "      <td>미국</td>\n",
       "      <td>250113.606</td>\n",
       "      <td>394052.534</td>\n",
       "      <td>143938.928</td>\n",
       "      <td>70430.0</td>\n",
       "      <td>선진국</td>\n",
       "    </tr>\n",
       "    <tr>\n",
       "      <th>2</th>\n",
       "      <td>프랑스</td>\n",
       "      <td>34315.325</td>\n",
       "      <td>66501.431</td>\n",
       "      <td>32186.106</td>\n",
       "      <td>43880.0</td>\n",
       "      <td>선진국</td>\n",
       "    </tr>\n",
       "    <tr>\n",
       "      <th>3</th>\n",
       "      <td>이탈리아</td>\n",
       "      <td>25683.273</td>\n",
       "      <td>52960.489</td>\n",
       "      <td>27277.216</td>\n",
       "      <td>35710.0</td>\n",
       "      <td>선진국</td>\n",
       "    </tr>\n",
       "    <tr>\n",
       "      <th>4</th>\n",
       "      <td>독일</td>\n",
       "      <td>1263.392</td>\n",
       "      <td>27185.831</td>\n",
       "      <td>25922.439</td>\n",
       "      <td>51040.0</td>\n",
       "      <td>선진국</td>\n",
       "    </tr>\n",
       "  </tbody>\n",
       "</table>\n",
       "</div>"
      ],
      "text/plain": [
       "     국가          수입          수출        무역수지     국민소득 국가등급\n",
       "0    일본  170243.592  634750.935  464507.343  42620.0  선진국\n",
       "1    미국  250113.606  394052.534  143938.928  70430.0  선진국\n",
       "2   프랑스   34315.325   66501.431   32186.106  43880.0  선진국\n",
       "3  이탈리아   25683.273   52960.489   27277.216  35710.0  선진국\n",
       "4    독일    1263.392   27185.831   25922.439  51040.0  선진국"
      ]
     },
     "execution_count": 10,
     "metadata": {},
     "output_type": "execute_result"
    }
   ],
   "source": [
    "# mgd의 처음 5행을 출력합니다.\n",
    "mgd.head()"
   ]
  },
  {
   "cell_type": "markdown",
   "id": "da51b04d",
   "metadata": {},
   "source": [
    "### 그래픽 파라미터 설정"
   ]
  },
  {
   "cell_type": "code",
   "execution_count": 11,
   "id": "2c65b901",
   "metadata": {},
   "outputs": [],
   "source": [
    "# 그래픽 파라미터를 설정합니다.\n",
    "plt.rc(group = 'font', family = 'Gowun Dodum', size = 8)\n",
    "plt.rc(group = 'figure', figsize = (4, 4), dpi = 150)\n",
    "plt.rc(group = 'axes', unicode_minus = False)\n",
    "plt.rc(group = 'legend', frameon = True, fc = '1', ec = '0')"
   ]
  },
  {
   "cell_type": "markdown",
   "id": "83b221bf",
   "metadata": {},
   "source": [
    "### 히스토그램 시각화"
   ]
  },
  {
   "cell_type": "code",
   "execution_count": 12,
   "id": "33a25f78",
   "metadata": {},
   "outputs": [
    {
     "data": {
      "text/plain": [
       "count      137.000000\n",
       "mean     15546.423358\n",
       "std      20658.408477\n",
       "min        450.000000\n",
       "25%       2300.000000\n",
       "50%       6130.000000\n",
       "75%      17740.000000\n",
       "max      90360.000000\n",
       "Name: 국민소득, dtype: float64"
      ]
     },
     "execution_count": 12,
     "metadata": {},
     "output_type": "execute_result"
    }
   ],
   "source": [
    "# mgd의 국민소득에 대한 기술통계량을 확인합니다.\n",
    "# [참고] 히스토그램을 그리기 전에 연속형 변수의 최솟값과 최댓값을 확인합니다.\n",
    "mgd['국민소득'].describe()"
   ]
  },
  {
   "cell_type": "code",
   "execution_count": 13,
   "id": "04ce0f66",
   "metadata": {},
   "outputs": [
    {
     "data": {
      "image/png": "[encoded data removed]",
      "text/plain": [
       "<Figure size 600x600 with 1 Axes>"
      ]
     },
     "metadata": {},
     "output_type": "display_data"
    }
   ],
   "source": [
    "# mgd의 국민소득로 히스토그램을 그립니다.\n",
    "# [힌트] sns.histplot() 함수를 사용하세요.\n",
    "# [참고] binrange와 binwidth 매개변수를 추가하면 계급을 지정할 수 있습니다.\n",
    "# [참고] fc(채우기색) 및 ec(테두리색) 매개변수를 추가하면 색을 지정할 수 있습니다.\n",
    "sns.histplot(data = mgd, x = '국민소득', binrange = (0, 100000), binwidth = 10000,\n",
    "             fc = 'silver', ec = 'black')\n",
    "\n",
    "# 그래프 제목을 '국민소득 분포'로 지정합니다.\n",
    "plt.title(label = '국민소득 분포');"
   ]
  },
  {
   "cell_type": "markdown",
   "id": "239fab6e",
   "metadata": {},
   "source": [
    "### 국가별 수산물품목별 무역수지를 반환하는 함수 생성"
   ]
  },
  {
   "cell_type": "code",
   "execution_count": 14,
   "id": "c86d20e0",
   "metadata": {},
   "outputs": [],
   "source": [
    "# 국가명을 지정하면 수산물품목별 무역수지를 반환하는 함수를 생성합니다.\n",
    "def getMpritmList(nation):\n",
    "    \n",
    "    # sfd에서 nation에 해당하는 행을 df에 할당합니다.\n",
    "    df = sfd[sfd['nation'].eq(nation)]\n",
    "    \n",
    "    # df로 피벗 테이블을 생성하고 mpr에 할당합니다.\n",
    "    mpr = pd.pivot_table(\n",
    "        data = df, \n",
    "        values = 'grand', \n",
    "        index = 'mpritm', \n",
    "        columns = 'imxprt', \n",
    "        aggfunc = np.sum\n",
    "    )\n",
    "    \n",
    "    # mpr에 있는 결측값을 0으로 대체하고 mpr에 재할당합니다.\n",
    "    mpr = mpr.fillna(value = 0)\n",
    "    \n",
    "    # mpr의 행이름 네임을 '수산물'로 변경합니다.\n",
    "    mpr.index.name = '수산물'\n",
    "    \n",
    "    # mpr의 열이름 네임을 삭제합니다.\n",
    "    mpr.columns.name = None\n",
    "    \n",
    "    # mpr의 수출에서 수입을 뺀 무역수지를 생성합니다.\n",
    "    mpr['무역수지'] = mpr['수출'] - mpr['수입']\n",
    "    \n",
    "    # mpr을 무역수지로 내림차순 정렬하고 mpr에 재할당합니다.\n",
    "    mpr = mpr.sort_values(by = ['무역수지'], ascending = False)\n",
    "    \n",
    "    # mpr의 행이름을 초기화하고 mpr에 재할당합니다.\n",
    "    mpr = mpr.reset_index()\n",
    "\n",
    "    # 결과를 반환합니다.\n",
    "    return mpr"
   ]
  },
  {
   "cell_type": "code",
   "execution_count": 15,
   "id": "4ee2d643",
   "metadata": {},
   "outputs": [],
   "source": [
    "# 일본의 수산물품목별 무역수지를 계산하고 mpr에 할당합니다.\n",
    "mpr = getMpritmList(nation = '일본')"
   ]
  },
  {
   "cell_type": "code",
   "execution_count": 16,
   "id": "abf7ca0f",
   "metadata": {},
   "outputs": [
    {
     "data": {
      "text/html": [
       "<div>\n",
       "<style scoped>\n",
       "    .dataframe tbody tr th:only-of-type {\n",
       "        vertical-align: middle;\n",
       "    }\n",
       "\n",
       "    .dataframe tbody tr th {\n",
       "        vertical-align: top;\n",
       "    }\n",
       "\n",
       "    .dataframe thead th {\n",
       "        text-align: right;\n",
       "    }\n",
       "</style>\n",
       "<table border=\"1\" class=\"dataframe\">\n",
       "  <thead>\n",
       "    <tr style=\"text-align: right;\">\n",
       "      <th></th>\n",
       "      <th>수산물</th>\n",
       "      <th>수입</th>\n",
       "      <th>수출</th>\n",
       "      <th>무역수지</th>\n",
       "    </tr>\n",
       "  </thead>\n",
       "  <tbody>\n",
       "    <tr>\n",
       "      <th>0</th>\n",
       "      <td>다랑어</td>\n",
       "      <td>1275.258</td>\n",
       "      <td>128950.909</td>\n",
       "      <td>127675.651</td>\n",
       "    </tr>\n",
       "    <tr>\n",
       "      <th>1</th>\n",
       "      <td>김</td>\n",
       "      <td>436.750</td>\n",
       "      <td>114139.670</td>\n",
       "      <td>113702.920</td>\n",
       "    </tr>\n",
       "    <tr>\n",
       "      <th>2</th>\n",
       "      <td>전복</td>\n",
       "      <td>36.525</td>\n",
       "      <td>42698.612</td>\n",
       "      <td>42662.087</td>\n",
       "    </tr>\n",
       "    <tr>\n",
       "      <th>3</th>\n",
       "      <td>붕장어</td>\n",
       "      <td>0.000</td>\n",
       "      <td>31125.801</td>\n",
       "      <td>31125.801</td>\n",
       "    </tr>\n",
       "    <tr>\n",
       "      <th>4</th>\n",
       "      <td>냉동한 것</td>\n",
       "      <td>501.435</td>\n",
       "      <td>22728.785</td>\n",
       "      <td>22227.350</td>\n",
       "    </tr>\n",
       "    <tr>\n",
       "      <th>5</th>\n",
       "      <td>붉은 대게살</td>\n",
       "      <td>62.880</td>\n",
       "      <td>21318.554</td>\n",
       "      <td>21255.674</td>\n",
       "    </tr>\n",
       "    <tr>\n",
       "      <th>6</th>\n",
       "      <td>황새치</td>\n",
       "      <td>402.789</td>\n",
       "      <td>19485.220</td>\n",
       "      <td>19082.431</td>\n",
       "    </tr>\n",
       "    <tr>\n",
       "      <th>7</th>\n",
       "      <td>바지락</td>\n",
       "      <td>0.000</td>\n",
       "      <td>17493.784</td>\n",
       "      <td>17493.784</td>\n",
       "    </tr>\n",
       "    <tr>\n",
       "      <th>8</th>\n",
       "      <td>전갱이</td>\n",
       "      <td>2.444</td>\n",
       "      <td>17431.010</td>\n",
       "      <td>17428.566</td>\n",
       "    </tr>\n",
       "    <tr>\n",
       "      <th>9</th>\n",
       "      <td>넙치</td>\n",
       "      <td>0.000</td>\n",
       "      <td>17113.017</td>\n",
       "      <td>17113.017</td>\n",
       "    </tr>\n",
       "  </tbody>\n",
       "</table>\n",
       "</div>"
      ],
      "text/plain": [
       "      수산물        수입          수출        무역수지\n",
       "0     다랑어  1275.258  128950.909  127675.651\n",
       "1       김   436.750  114139.670  113702.920\n",
       "2      전복    36.525   42698.612   42662.087\n",
       "3     붕장어     0.000   31125.801   31125.801\n",
       "4   냉동한 것   501.435   22728.785   22227.350\n",
       "5  붉은 대게살    62.880   21318.554   21255.674\n",
       "6     황새치   402.789   19485.220   19082.431\n",
       "7     바지락     0.000   17493.784   17493.784\n",
       "8     전갱이     2.444   17431.010   17428.566\n",
       "9      넙치     0.000   17113.017   17113.017"
      ]
     },
     "execution_count": 16,
     "metadata": {},
     "output_type": "execute_result"
    }
   ],
   "source": [
    "# mpr의 처음 10행을 출력합니다.\n",
    "mpr.head(n = 10)"
   ]
  },
  {
   "cell_type": "code",
   "execution_count": 17,
   "id": "8309b43b",
   "metadata": {},
   "outputs": [
    {
     "data": {
      "text/html": [
       "<div>\n",
       "<style scoped>\n",
       "    .dataframe tbody tr th:only-of-type {\n",
       "        vertical-align: middle;\n",
       "    }\n",
       "\n",
       "    .dataframe tbody tr th {\n",
       "        vertical-align: top;\n",
       "    }\n",
       "\n",
       "    .dataframe thead th {\n",
       "        text-align: right;\n",
       "    }\n",
       "</style>\n",
       "<table border=\"1\" class=\"dataframe\">\n",
       "  <thead>\n",
       "    <tr style=\"text-align: right;\">\n",
       "      <th></th>\n",
       "      <th>수산물</th>\n",
       "      <th>수입</th>\n",
       "      <th>수출</th>\n",
       "      <th>무역수지</th>\n",
       "    </tr>\n",
       "  </thead>\n",
       "  <tbody>\n",
       "    <tr>\n",
       "      <th>157</th>\n",
       "      <td>농어</td>\n",
       "      <td>2228.608</td>\n",
       "      <td>469.551</td>\n",
       "      <td>-1759.057</td>\n",
       "    </tr>\n",
       "    <tr>\n",
       "      <th>158</th>\n",
       "      <td>개아지살</td>\n",
       "      <td>3220.833</td>\n",
       "      <td>693.652</td>\n",
       "      <td>-2527.181</td>\n",
       "    </tr>\n",
       "    <tr>\n",
       "      <th>159</th>\n",
       "      <td>갈치</td>\n",
       "      <td>3618.230</td>\n",
       "      <td>253.127</td>\n",
       "      <td>-3365.103</td>\n",
       "    </tr>\n",
       "    <tr>\n",
       "      <th>160</th>\n",
       "      <td>포유동물</td>\n",
       "      <td>4056.177</td>\n",
       "      <td>0.000</td>\n",
       "      <td>-4056.177</td>\n",
       "    </tr>\n",
       "    <tr>\n",
       "      <th>161</th>\n",
       "      <td>가오리와 홍어</td>\n",
       "      <td>4621.557</td>\n",
       "      <td>0.000</td>\n",
       "      <td>-4621.557</td>\n",
       "    </tr>\n",
       "    <tr>\n",
       "      <th>162</th>\n",
       "      <td>명태</td>\n",
       "      <td>6158.574</td>\n",
       "      <td>100.207</td>\n",
       "      <td>-6058.367</td>\n",
       "    </tr>\n",
       "    <tr>\n",
       "      <th>163</th>\n",
       "      <td>우렁쉥이</td>\n",
       "      <td>7345.288</td>\n",
       "      <td>0.000</td>\n",
       "      <td>-7345.288</td>\n",
       "    </tr>\n",
       "    <tr>\n",
       "      <th>164</th>\n",
       "      <td>방어</td>\n",
       "      <td>36058.005</td>\n",
       "      <td>3505.671</td>\n",
       "      <td>-32552.334</td>\n",
       "    </tr>\n",
       "    <tr>\n",
       "      <th>165</th>\n",
       "      <td>돔</td>\n",
       "      <td>36402.686</td>\n",
       "      <td>21.139</td>\n",
       "      <td>-36381.547</td>\n",
       "    </tr>\n",
       "    <tr>\n",
       "      <th>166</th>\n",
       "      <td>가리비과</td>\n",
       "      <td>39305.985</td>\n",
       "      <td>13.476</td>\n",
       "      <td>-39292.509</td>\n",
       "    </tr>\n",
       "  </tbody>\n",
       "</table>\n",
       "</div>"
      ],
      "text/plain": [
       "         수산물         수입        수출       무역수지\n",
       "157       농어   2228.608   469.551  -1759.057\n",
       "158     개아지살   3220.833   693.652  -2527.181\n",
       "159       갈치   3618.230   253.127  -3365.103\n",
       "160     포유동물   4056.177     0.000  -4056.177\n",
       "161  가오리와 홍어   4621.557     0.000  -4621.557\n",
       "162       명태   6158.574   100.207  -6058.367\n",
       "163     우렁쉥이   7345.288     0.000  -7345.288\n",
       "164       방어  36058.005  3505.671 -32552.334\n",
       "165        돔  36402.686    21.139 -36381.547\n",
       "166     가리비과  39305.985    13.476 -39292.509"
      ]
     },
     "execution_count": 17,
     "metadata": {},
     "output_type": "execute_result"
    }
   ],
   "source": [
    "# mpr의 마지막 10행을 출력합니다.\n",
    "mpr.tail(n = 10)"
   ]
  },
  {
   "cell_type": "markdown",
   "id": "5ecdc9f3",
   "metadata": {},
   "source": [
    "### 막대그래프 그리기"
   ]
  },
  {
   "cell_type": "code",
   "execution_count": 18,
   "id": "3964cce7",
   "metadata": {},
   "outputs": [
    {
     "data": {
      "image/png": "[encoded data removed]",
      "text/plain": [
       "<Figure size 600x600 with 1 Axes>"
      ]
     },
     "metadata": {},
     "output_type": "display_data"
    }
   ],
   "source": [
    "# mpr의 처음 10행을 top10에 할당합니다.\n",
    "top10 = mpr.head(n = 10)\n",
    "\n",
    "# top10으로 막대그래프를 그립니다\n",
    "# [힌트] sns.barplot() 함수를 사용하세요.\n",
    "# [참고] x 매개변수에 범주형, y 매개변수에 연속형 변수를 지정합니다.\n",
    "sns.barplot(data = top10, x = '수산물', y = '무역수지', palette = 'Spectral')\n",
    "\n",
    "# 그래프 제목을 '수출 상위 10위 수산물 목록'으로 지정합니다.\n",
    "plt.title(label = '수출 상위 10위 수산물 목록')\n",
    "\n",
    "# x축 눈금명을 90도 회전시킵니다.\n",
    "plt.xticks(rotation = 90)\n",
    "\n",
    "# 막대 위에 무역수지를 반올림하여 정수만 남긴 수를 텍스트로 추가합니다.\n",
    "for i, v in enumerate(top10['무역수지']):\n",
    "    plt.text(x = i, y = v, s = int(round(v, 0)), ha = 'center', va = 'bottom', fontsize = 8);"
   ]
  },
  {
   "cell_type": "markdown",
   "id": "0cefefe6",
   "metadata": {},
   "source": [
    "### 선 그래프 그리기"
   ]
  },
  {
   "cell_type": "code",
   "execution_count": 19,
   "id": "d7ea342e",
   "metadata": {},
   "outputs": [
    {
     "data": {
      "image/png": "[encoded data removed]",
      "text/plain": [
       "<Figure size 600x600 with 1 Axes>"
      ]
     },
     "metadata": {},
     "output_type": "display_data"
    }
   ],
   "source": [
    "# sfd의 month별 수출/수입 합계를 선 그래프로 그립니다.\n",
    "# [힌트] sns.lineplot() 함수를 사용하세요.\n",
    "sns.lineplot(data = sfd, x = 'month', y = 'grand', hue = 'imxprt', errorbar = None)\n",
    "\n",
    "# 그래프 제목을 '월별 수출입 금액 합계'로 지정합니다.\n",
    "plt.title(label = '월별 수출입 금액 합계')\n",
    "\n",
    "# x축 눈금명을 90도 회전시킵니다.\n",
    "plt.xticks(rotation = 90);"
   ]
  },
  {
   "cell_type": "markdown",
   "id": "6de4b29f",
   "metadata": {},
   "source": [
    "### 산점도 그리기"
   ]
  },
  {
   "cell_type": "code",
   "execution_count": 20,
   "id": "28a20718",
   "metadata": {},
   "outputs": [
    {
     "data": {
      "image/png": "[encoded data removed]",
      "text/plain": [
       "<Figure size 600x600 with 1 Axes>"
      ]
     },
     "metadata": {},
     "output_type": "display_data"
    }
   ],
   "source": [
    "# mgd의 국민소득과 수출로 산점도를 그립니다.\n",
    "# [힌트] sns.scatterplot() 함수를 사용하세요.\n",
    "# [참고] hue 매개변수에 범주형 변수명을 지정하면 점의 채우기 색을 다르게 지정합니다.\n",
    "# [참고] 점의 크기는 s 매개변수에 정수로 지정합니다.(기본값: 50)\n",
    "sns.scatterplot(data = mgd, x = '국민소득', y = '수출', hue = '국가등급')\n",
    "\n",
    "# 그래프 제목을 '국민소득과 수출의 관계'로 지정합니다.\n",
    "plt.title(label = '국민소득과 수출의 관계')\n",
    "\n",
    "# 범례의 위치를 오른쪽 위로 지정합니다.\n",
    "plt.legend(loc = 'upper right');"
   ]
  },
  {
   "cell_type": "markdown",
   "id": "e4cf499e",
   "metadata": {},
   "source": [
    "## End of Document"
   ]
  }
 ],
 "metadata": {
  "kernelspec": {
   "display_name": "Python 3 (ipykernel)",
   "language": "python",
   "name": "python3"
  },
  "language_info": {
   "codemirror_mode": {
    "name": "ipython",
    "version": 3
   },
   "file_extension": ".py",
   "mimetype": "text/x-python",
   "name": "python",
   "nbconvert_exporter": "python",
   "pygments_lexer": "ipython3",
   "version": "3.10.9"
  },
  "toc": {
   "base_numbering": 1,
   "nav_menu": {},
   "number_sections": false,
   "sideBar": true,
   "skip_h1_title": false,
   "title_cell": "Table of Contents",
   "title_sidebar": "Contents",
   "toc_cell": false,
   "toc_position": {},
   "toc_section_display": true,
   "toc_window_display": false
  },
  "varInspector": {
   "cols": {
    "lenName": 16,
    "lenType": 16,
    "lenVar": 40
   },
   "kernels_config": {
    "python": {
     "delete_cmd_postfix": "",
     "delete_cmd_prefix": "del ",
     "library": "var_list.py",
     "varRefreshCmd": "print(var_dic_list())"
    },
    "r": {
     "delete_cmd_postfix": ") ",
     "delete_cmd_prefix": "rm(",
     "library": "var_list.r",
     "varRefreshCmd": "cat(var_dic_list()) "
    }
   },
   "types_to_exclude": [
    "module",
    "function",
    "builtin_function_or_method",
    "instance",
    "_Feature"
   ],
   "window_display": false
  }
 },
 "nbformat": 4,
 "nbformat_minor": 5
}
