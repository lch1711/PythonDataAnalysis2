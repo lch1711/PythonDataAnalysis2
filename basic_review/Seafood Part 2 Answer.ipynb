{
 "cells": [
  {
   "cell_type": "markdown",
   "id": "e30c57ca",
   "metadata": {},
   "source": [
    "## 데이터 시각화"
   ]
  },
  {
   "cell_type": "markdown",
   "id": "2d61073c",
   "metadata": {},
   "source": [
    "### 관련 라이브러리 호출"
   ]
  },
  {
   "cell_type": "code",
   "execution_count": null,
   "id": "2bc21f8c",
   "metadata": {},
   "outputs": [],
   "source": [
    "# 관련 라이브러리를 호출합니다.\n",
    "import os\n",
    "import joblib\n",
    "import numpy as np\n",
    "import pandas as pd\n",
    "import seaborn as sns\n",
    "import matplotlib.pyplot as plt"
   ]
  },
  {
   "cell_type": "markdown",
   "id": "18e4fc31",
   "metadata": {},
   "source": [
    "### 작업 경로 확인 및 변경"
   ]
  },
  {
   "cell_type": "code",
   "execution_count": null,
   "id": "e68fab1a",
   "metadata": {},
   "outputs": [],
   "source": [
    "# 현재 작업 경로를 확인합니다.\n",
    "os.getcwd()"
   ]
  },
  {
   "cell_type": "code",
   "execution_count": null,
   "id": "4721962c",
   "metadata": {},
   "outputs": [],
   "source": [
    "# data 폴더로 작업 경로를 변경합니다.\n",
    "os.chdir(path = '../data')"
   ]
  },
  {
   "cell_type": "code",
   "execution_count": null,
   "id": "bedc2bee",
   "metadata": {},
   "outputs": [],
   "source": [
    "# 작업 경로에 있는 폴더명과 파일명을 출력합니다.\n",
    "sorted(os.listdir())"
   ]
  },
  {
   "cell_type": "markdown",
   "id": "59049419",
   "metadata": {},
   "source": [
    "### 실습 데이터셋 준비"
   ]
  },
  {
   "cell_type": "code",
   "execution_count": null,
   "id": "db374512",
   "metadata": {},
   "outputs": [],
   "source": [
    "# 'Seafood_Trade_Prep.z' 파일을 호출합니다.\n",
    "# [힌트] joblib.load() 함수를 사용하세요.\n",
    "# [참고] 두 데이터프레임을 원소로 갖는 리스트를 반환합니다.\n",
    "joblib.load(filename = 'Seafood_Trade_Prep.z')"
   ]
  },
  {
   "cell_type": "code",
   "execution_count": null,
   "id": "a62ece21",
   "metadata": {},
   "outputs": [],
   "source": [
    "# 압축 파일을 호출하고 sfd, mgd에 할당합니다.\n",
    "sfd, mgd = joblib.load(filename = 'Seafood_Trade_Prep.z')"
   ]
  },
  {
   "cell_type": "code",
   "execution_count": null,
   "id": "0953a52b",
   "metadata": {},
   "outputs": [],
   "source": [
    "# sfd의 정보를 확인합니다.\n",
    "sfd.info()"
   ]
  },
  {
   "cell_type": "code",
   "execution_count": null,
   "id": "dc37137c",
   "metadata": {},
   "outputs": [],
   "source": [
    "# sfd의 처음 5행을 출력합니다.\n",
    "sfd.head()"
   ]
  },
  {
   "cell_type": "code",
   "execution_count": null,
   "id": "11996a2b",
   "metadata": {},
   "outputs": [],
   "source": [
    "# mgd의 정보를 확인합니다.\n",
    "mgd.info()"
   ]
  },
  {
   "cell_type": "code",
   "execution_count": null,
   "id": "a0723168",
   "metadata": {},
   "outputs": [],
   "source": [
    "# mgd의 처음 5행을 출력합니다.\n",
    "mgd.head()"
   ]
  },
  {
   "cell_type": "markdown",
   "id": "da51b04d",
   "metadata": {},
   "source": [
    "### 그래픽 파라미터 설정"
   ]
  },
  {
   "cell_type": "code",
   "execution_count": null,
   "id": "2c65b901",
   "metadata": {},
   "outputs": [],
   "source": [
    "# 그래픽 파라미터를 설정합니다.\n",
    "# [주의] 해당 폰트를 먼저 설치해야 합니다.\n",
    "plt.rc(group = 'font', family = 'Gowun Dodum', size = 8)\n",
    "plt.rc(group = 'figure', figsize = (4, 4), dpi = 150)\n",
    "plt.rc(group = 'axes', unicode_minus = False)\n",
    "plt.rc(group = 'legend', frameon = True, fc = '1', ec = '0')"
   ]
  },
  {
   "cell_type": "markdown",
   "id": "83b221bf",
   "metadata": {},
   "source": [
    "### 히스토그램 시각화"
   ]
  },
  {
   "cell_type": "code",
   "execution_count": null,
   "id": "33a25f78",
   "metadata": {},
   "outputs": [],
   "source": [
    "# mgd의 국민소득에 대한 기술통계량을 확인합니다.\n",
    "# [참고] 히스토그램을 그리기 전에 연속형 변수의 최솟값과 최댓값을 확인합니다.\n",
    "mgd['국민소득'].describe()"
   ]
  },
  {
   "cell_type": "code",
   "execution_count": null,
   "id": "04ce0f66",
   "metadata": {},
   "outputs": [],
   "source": [
    "# mgd의 국민소득로 히스토그램을 그립니다.\n",
    "# [힌트] sns.histplot() 함수를 사용하세요.\n",
    "# [참고] binrange와 binwidth 매개변수를 추가하면 계급을 지정할 수 있습니다.\n",
    "# [참고] fc(채우기색) 및 ec(테두리색) 매개변수를 추가하면 색을 지정할 수 있습니다.\n",
    "sns.histplot(data = mgd, x = '국민소득', binrange = (0, 100000), binwidth = 10000,\n",
    "             fc = 'silver', ec = 'black')\n",
    "\n",
    "# 그래프 제목을 '국민소득 분포'로 지정합니다.\n",
    "plt.title(label = '국민소득 분포');"
   ]
  },
  {
   "cell_type": "markdown",
   "id": "239fab6e",
   "metadata": {},
   "source": [
    "### 국가별 수산물품목별 무역수지를 반환하는 함수 생성"
   ]
  },
  {
   "cell_type": "code",
   "execution_count": null,
   "id": "c86d20e0",
   "metadata": {},
   "outputs": [],
   "source": [
    "# 국가명을 지정하면 수산물품목별 무역수지를 반환하는 함수를 생성합니다.\n",
    "def getMpritmList(nation):\n",
    "    \n",
    "    # sfd에서 nation에 해당하는 행을 df에 할당합니다.\n",
    "    df = sfd[sfd['nation'].eq(nation)]\n",
    "    \n",
    "    # df로 피벗 테이블을 생성하고 mpr에 할당합니다.\n",
    "    mpr = pd.pivot_table(\n",
    "        data = df, \n",
    "        values = 'grand', \n",
    "        index = 'mpritm', \n",
    "        columns = 'imxprt', \n",
    "        aggfunc = np.sum\n",
    "    )\n",
    "    \n",
    "    # mpr에 있는 결측값을 0으로 대체하고 mpr에 재할당합니다.\n",
    "    mpr = mpr.fillna(value = 0)\n",
    "    \n",
    "    # mpr의 행이름 네임을 '수산물'로 변경합니다.\n",
    "    mpr.index.name = '수산물'\n",
    "    \n",
    "    # mpr의 열이름 네임을 삭제합니다.\n",
    "    mpr.columns.name = None\n",
    "    \n",
    "    # mpr의 수출에서 수입을 뺀 무역수지를 생성합니다.\n",
    "    mpr['무역수지'] = mpr['수출'] - mpr['수입']\n",
    "    \n",
    "    # mpr을 무역수지로 내림차순 정렬하고 mpr에 재할당합니다.\n",
    "    mpr = mpr.sort_values(by = ['무역수지'], ascending = False)\n",
    "    \n",
    "    # mpr의 행이름을 초기화하고 mpr에 재할당합니다.\n",
    "    mpr = mpr.reset_index()\n",
    "\n",
    "    # 결과를 반환합니다.\n",
    "    return mpr"
   ]
  },
  {
   "cell_type": "code",
   "execution_count": null,
   "id": "4ee2d643",
   "metadata": {},
   "outputs": [],
   "source": [
    "# 일본의 수산물품목별 무역수지를 계산하고 mpr에 할당합니다.\n",
    "mpr = getMpritmList(nation = '일본')"
   ]
  },
  {
   "cell_type": "code",
   "execution_count": null,
   "id": "abf7ca0f",
   "metadata": {},
   "outputs": [],
   "source": [
    "# mpr의 처음 10행을 출력합니다.\n",
    "mpr.head(n = 10)"
   ]
  },
  {
   "cell_type": "code",
   "execution_count": null,
   "id": "8309b43b",
   "metadata": {},
   "outputs": [],
   "source": [
    "# mpr의 마지막 10행을 출력합니다.\n",
    "mpr.tail(n = 10)"
   ]
  },
  {
   "cell_type": "markdown",
   "id": "5ecdc9f3",
   "metadata": {},
   "source": [
    "### 막대그래프 그리기"
   ]
  },
  {
   "cell_type": "code",
   "execution_count": null,
   "id": "3964cce7",
   "metadata": {},
   "outputs": [],
   "source": [
    "# mpr의 처음 10행을 top10에 할당합니다.\n",
    "top10 = mpr.head(n = 10)\n",
    "\n",
    "# top10으로 막대그래프를 그립니다\n",
    "# [힌트] sns.barplot() 함수를 사용하세요.\n",
    "# [참고] x 매개변수에 범주형, y 매개변수에 연속형 변수를 지정합니다.\n",
    "sns.barplot(data = top10, x = '수산물', y = '무역수지', palette = 'Spectral')\n",
    "\n",
    "# 그래프 제목을 '수출 상위 10위 수산물 목록'으로 지정합니다.\n",
    "plt.title(label = '수출 상위 10위 수산물 목록')\n",
    "\n",
    "# x축 눈금명을 90도 회전시킵니다.\n",
    "plt.xticks(rotation = 90)\n",
    "\n",
    "# 막대 위에 무역수지를 반올림하여 정수만 남긴 수를 텍스트로 추가합니다.\n",
    "for i, v in enumerate(top10['무역수지']):\n",
    "    plt.text(x = i, y = v, s = int(round(v, 0)), ha = 'center', va = 'bottom', fontsize = 8);"
   ]
  },
  {
   "cell_type": "markdown",
   "id": "0cefefe6",
   "metadata": {},
   "source": [
    "### 선 그래프 그리기"
   ]
  },
  {
   "cell_type": "code",
   "execution_count": null,
   "id": "d7ea342e",
   "metadata": {},
   "outputs": [],
   "source": [
    "# sfd의 month별 수출/수입 합계를 선 그래프로 그립니다.\n",
    "# [힌트] sns.lineplot() 함수를 사용하세요.\n",
    "sns.lineplot(data = sfd, x = 'month', y = 'grand', hue = 'imxprt', errorbar = None)\n",
    "\n",
    "# 그래프 제목을 '월별 수출입 금액 합계'로 지정합니다.\n",
    "plt.title(label = '월별 수출입 금액 합계')\n",
    "\n",
    "# x축 눈금명을 90도 회전시킵니다.\n",
    "plt.xticks(rotation = 90);"
   ]
  },
  {
   "cell_type": "markdown",
   "id": "6de4b29f",
   "metadata": {},
   "source": [
    "### 산점도 그리기"
   ]
  },
  {
   "cell_type": "code",
   "execution_count": null,
   "id": "28a20718",
   "metadata": {},
   "outputs": [],
   "source": [
    "# mgd의 국민소득과 수출로 산점도를 그립니다.\n",
    "# [힌트] sns.scatterplot() 함수를 사용하세요.\n",
    "# [참고] hue 매개변수에 범주형 변수명을 지정하면 점의 채우기 색을 다르게 지정합니다.\n",
    "# [참고] 점의 크기는 s 매개변수에 정수로 지정합니다.(기본값: 50)\n",
    "sns.scatterplot(data = mgd, x = '국민소득', y = '수출', hue = '국가등급')\n",
    "\n",
    "# 그래프 제목을 '국민소득과 수출의 관계'로 지정합니다.\n",
    "plt.title(label = '국민소득과 수출의 관계')\n",
    "\n",
    "# 범례의 위치를 오른쪽 위로 지정합니다.\n",
    "plt.legend(loc = 'upper right');"
   ]
  },
  {
   "cell_type": "markdown",
   "id": "e4cf499e",
   "metadata": {},
   "source": [
    "## End of Document"
   ]
  }
 ],
 "metadata": {
  "kernelspec": {
   "display_name": "Python 3",
   "language": "python",
   "name": "python3"
  },
  "language_info": {
   "codemirror_mode": {
    "name": "ipython",
    "version": 3
   },
   "file_extension": ".py",
   "mimetype": "text/x-python",
   "name": "python",
   "nbconvert_exporter": "python",
   "pygments_lexer": "ipython3",
   "version": "3.11.1"
  },
  "toc": {
   "base_numbering": 1,
   "nav_menu": {},
   "number_sections": false,
   "sideBar": true,
   "skip_h1_title": false,
   "title_cell": "Table of Contents",
   "title_sidebar": "Contents",
   "toc_cell": false,
   "toc_position": {},
   "toc_section_display": true,
   "toc_window_display": false
  },
  "varInspector": {
   "cols": {
    "lenName": 16,
    "lenType": 16,
    "lenVar": 40
   },
   "kernels_config": {
    "python": {
     "delete_cmd_postfix": "",
     "delete_cmd_prefix": "del ",
     "library": "var_list.py",
     "varRefreshCmd": "print(var_dic_list())"
    },
    "r": {
     "delete_cmd_postfix": ") ",
     "delete_cmd_prefix": "rm(",
     "library": "var_list.r",
     "varRefreshCmd": "cat(var_dic_list()) "
    }
   },
   "types_to_exclude": [
    "module",
    "function",
    "builtin_function_or_method",
    "instance",
    "_Feature"
   ],
   "window_display": false
  }
 },
 "nbformat": 4,
 "nbformat_minor": 5
}
