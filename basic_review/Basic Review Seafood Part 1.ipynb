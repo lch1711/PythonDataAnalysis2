{
 "cells": [
  {
   "cell_type": "markdown",
   "id": "dde8d412",
   "metadata": {},
   "source": [
    "## 데이터 전처리"
   ]
  },
  {
   "cell_type": "markdown",
   "id": "d844785c",
   "metadata": {},
   "source": [
    "### 실습 데이터셋 안내\n",
    "\n",
    "- 2021년 1~12월에 전세계 165여 개 국가와 수산물 수출입 내역입니다.<br><br>\n",
    "\n",
    "- 변수(열)에 대한 간단한 설명입니다.\n",
    "  - stdYymm: 기준년월(yyyymm)\n",
    "  - nationCode: 국가코드\n",
    "  - mprcExipitmCode: 수산물수출입품목코드(10자리 숫자)\n",
    "  - imxprtSeCode: 수출입구분코드(E, I)\n",
    "  - nationNm: 국가명\n",
    "  - ecoblNm: 경제권명\n",
    "  - mprcExipitmNm: 수산물수출입품목명\n",
    "  - imxprtSeNm: 수출입구분명(수출, 수입)\n",
    "  - imxprtWt: 수출입중량(kg)\n",
    "  - imxprtDollarAmount: 수출입금액($)<br><br>\n",
    "\n",
    "- 실습 데이터인 csv 파일을 아래 링크로 제공합니다.\n",
    "  - https://bit.ly/Seafood_Trade_2021_CP949\n",
    "  - 구분자는 콤마(,)이고 인코딩방식은 CP949입니다."
   ]
  },
  {
   "cell_type": "markdown",
   "id": "49db7b5e",
   "metadata": {},
   "source": [
    "### 관련 라이브러리 호출"
   ]
  },
  {
   "cell_type": "code",
   "execution_count": 1,
   "id": "b387b6b6",
   "metadata": {},
   "outputs": [],
   "source": [
    "# 관련 라이브러리를 호출합니다.\n",
    "import requests\n",
    "import chardet\n",
    "import numpy as np\n",
    "import pandas as pd\n",
    "import os\n",
    "import joblib"
   ]
  },
  {
   "cell_type": "markdown",
   "id": "3f40ad22",
   "metadata": {},
   "source": [
    "### 인코딩 방식 확인"
   ]
  },
  {
   "cell_type": "code",
   "execution_count": 2,
   "id": "04b2f80a",
   "metadata": {},
   "outputs": [],
   "source": [
    "# 온라인으로 공유 중인 csv 파일 주소를 변수에 할당합니다.\n",
    "url = 'https://bit.ly/Seafood_Trade_2021_CP949'"
   ]
  },
  {
   "cell_type": "code",
   "execution_count": 3,
   "id": "2d02dab4",
   "metadata": {},
   "outputs": [],
   "source": [
    "# 링크에 있는 텍스트를 내려받습니다.(HTTP Requests)\n",
    "# [힌트] requests.get() 함수를 사용하세요.\n",
    "res = requests.get(url = url)"
   ]
  },
  {
   "cell_type": "code",
   "execution_count": 4,
   "id": "3e38bcc5",
   "metadata": {},
   "outputs": [
    {
     "data": {
      "text/plain": [
       "b'stdYymm,nationCode,mprcExipitmCode,imxprtSeCode,nationNm,ecoblNm,mprcExipitmNm,imxprtSeNm,imxprtWt,imxprtDollarAmount\\n202101,TW,2102203090,I,\\xb4\\xeb\\xb8\\xb8,\\xbe\\xc6\\xbd\\xc3\\xbe\\xc6.\\xc5\\xc2\\xc6\\xf2\\xbe\\xe7 \\xb0\\xe6\\xc1\\xa6\\xc7\\xf9\\xb7\\xc2\\xc3\\xbc,\\xc5\\xac\\xb7\\xce\\xb7\\xbc\\xb6\\xf3 \\xc8\\xbf\\xb8\\xf0,\\xbc\\xf6\\xc0\\xd4,500,13456\\n'"
      ]
     },
     "execution_count": 4,
     "metadata": {},
     "output_type": "execute_result"
    }
   ],
   "source": [
    "# res에서 바이너리 텍스트의 일부를 출력합니다.\n",
    "# [힌트] content 속성을 사용하세요.\n",
    "res.content[:200]"
   ]
  },
  {
   "cell_type": "code",
   "execution_count": 5,
   "id": "afb5643a",
   "metadata": {},
   "outputs": [
    {
     "data": {
      "text/plain": [
       "{'encoding': 'EUC-KR', 'confidence': 0.99, 'language': 'Korean'}"
      ]
     },
     "execution_count": 5,
     "metadata": {},
     "output_type": "execute_result"
    }
   ],
   "source": [
    "# 바이너리 텍스트의 인코딩 방식을 확인합니다.\n",
    "# [힌트] chardet.detect() 함수를 사용하세요.\n",
    "chardet.detect(res.content)"
   ]
  },
  {
   "cell_type": "markdown",
   "id": "d42d8e11",
   "metadata": {},
   "source": [
    "### 실습 데이터셋 준비"
   ]
  },
  {
   "cell_type": "code",
   "execution_count": 6,
   "id": "7a40dc11",
   "metadata": {},
   "outputs": [],
   "source": [
    "# 링크를 읽고 데이터프레임 sfd를 생성합니다.\n",
    "# [힌트] pd.read_csv() 함수를 사용하세요.\n",
    "# [참고] EUC-KR은 CP949의 부분집합입니다.\n",
    "sfd = pd.read_csv(filepath_or_buffer = url, encoding = 'CP949')"
   ]
  },
  {
   "cell_type": "code",
   "execution_count": 7,
   "id": "b34ac766",
   "metadata": {},
   "outputs": [
    {
     "name": "stdout",
     "output_type": "stream",
     "text": [
      "<class 'pandas.core.frame.DataFrame'>\n",
      "RangeIndex: 31522 entries, 0 to 31521\n",
      "Data columns (total 10 columns):\n",
      " #   Column              Non-Null Count  Dtype  \n",
      "---  ------              --------------  -----  \n",
      " 0   stdYymm             31522 non-null  int64  \n",
      " 1   nationCode          31499 non-null  object \n",
      " 2   mprcExipitmCode     31522 non-null  int64  \n",
      " 3   imxprtSeCode        31522 non-null  object \n",
      " 4   nationNm            31522 non-null  object \n",
      " 5   ecoblNm             26878 non-null  object \n",
      " 6   mprcExipitmNm       28824 non-null  object \n",
      " 7   imxprtSeNm          31522 non-null  object \n",
      " 8   imxprtWt            31522 non-null  float64\n",
      " 9   imxprtDollarAmount  31522 non-null  int64  \n",
      "dtypes: float64(1), int64(3), object(6)\n",
      "memory usage: 2.4+ MB\n"
     ]
    }
   ],
   "source": [
    "# sfd의 정보를 확인합니다.\n",
    "# [힌트] info() 함수를 사용하세요.\n",
    "sfd.info()"
   ]
  },
  {
   "cell_type": "code",
   "execution_count": 8,
   "id": "41997d0f",
   "metadata": {},
   "outputs": [
    {
     "data": {
      "text/html": [
       "<div>\n",
       "<style scoped>\n",
       "    .dataframe tbody tr th:only-of-type {\n",
       "        vertical-align: middle;\n",
       "    }\n",
       "\n",
       "    .dataframe tbody tr th {\n",
       "        vertical-align: top;\n",
       "    }\n",
       "\n",
       "    .dataframe thead th {\n",
       "        text-align: right;\n",
       "    }\n",
       "</style>\n",
       "<table border=\"1\" class=\"dataframe\">\n",
       "  <thead>\n",
       "    <tr style=\"text-align: right;\">\n",
       "      <th></th>\n",
       "      <th>stdYymm</th>\n",
       "      <th>nationCode</th>\n",
       "      <th>mprcExipitmCode</th>\n",
       "      <th>imxprtSeCode</th>\n",
       "      <th>nationNm</th>\n",
       "      <th>ecoblNm</th>\n",
       "      <th>mprcExipitmNm</th>\n",
       "      <th>imxprtSeNm</th>\n",
       "      <th>imxprtWt</th>\n",
       "      <th>imxprtDollarAmount</th>\n",
       "    </tr>\n",
       "  </thead>\n",
       "  <tbody>\n",
       "    <tr>\n",
       "      <th>0</th>\n",
       "      <td>202101</td>\n",
       "      <td>TW</td>\n",
       "      <td>2102203090</td>\n",
       "      <td>I</td>\n",
       "      <td>대만</td>\n",
       "      <td>아시아.태평양 경제협력체</td>\n",
       "      <td>클로렐라 효모</td>\n",
       "      <td>수입</td>\n",
       "      <td>500.00</td>\n",
       "      <td>13456</td>\n",
       "    </tr>\n",
       "    <tr>\n",
       "      <th>1</th>\n",
       "      <td>202101</td>\n",
       "      <td>JP</td>\n",
       "      <td>2102203090</td>\n",
       "      <td>I</td>\n",
       "      <td>일본</td>\n",
       "      <td>아시아.태평양 경제협력체/경제협력개발기구</td>\n",
       "      <td>클로렐라 효모</td>\n",
       "      <td>수입</td>\n",
       "      <td>84.00</td>\n",
       "      <td>1326</td>\n",
       "    </tr>\n",
       "    <tr>\n",
       "      <th>2</th>\n",
       "      <td>202101</td>\n",
       "      <td>US</td>\n",
       "      <td>2102203090</td>\n",
       "      <td>I</td>\n",
       "      <td>미국</td>\n",
       "      <td>아시아.태평양 경제협력체/경제협력개발기구/북미자유무역연합</td>\n",
       "      <td>클로렐라 효모</td>\n",
       "      <td>수입</td>\n",
       "      <td>4.84</td>\n",
       "      <td>193</td>\n",
       "    </tr>\n",
       "    <tr>\n",
       "      <th>3</th>\n",
       "      <td>202101</td>\n",
       "      <td>CA</td>\n",
       "      <td>2102204010</td>\n",
       "      <td>I</td>\n",
       "      <td>캐나다</td>\n",
       "      <td>아시아.태평양 경제협력체/경제협력개발기구/북미자유무역연합</td>\n",
       "      <td>스리루리나 효모</td>\n",
       "      <td>수입</td>\n",
       "      <td>1505.78</td>\n",
       "      <td>33789</td>\n",
       "    </tr>\n",
       "    <tr>\n",
       "      <th>4</th>\n",
       "      <td>202101</td>\n",
       "      <td>JP</td>\n",
       "      <td>2102204010</td>\n",
       "      <td>I</td>\n",
       "      <td>일본</td>\n",
       "      <td>아시아.태평양 경제협력체/경제협력개발기구</td>\n",
       "      <td>스리루리나 효모</td>\n",
       "      <td>수입</td>\n",
       "      <td>665.28</td>\n",
       "      <td>17319</td>\n",
       "    </tr>\n",
       "    <tr>\n",
       "      <th>...</th>\n",
       "      <td>...</td>\n",
       "      <td>...</td>\n",
       "      <td>...</td>\n",
       "      <td>...</td>\n",
       "      <td>...</td>\n",
       "      <td>...</td>\n",
       "      <td>...</td>\n",
       "      <td>...</td>\n",
       "      <td>...</td>\n",
       "      <td>...</td>\n",
       "    </tr>\n",
       "    <tr>\n",
       "      <th>31517</th>\n",
       "      <td>202112</td>\n",
       "      <td>DE</td>\n",
       "      <td>301999070</td>\n",
       "      <td>I</td>\n",
       "      <td>독일</td>\n",
       "      <td>유럽연합/경제협력개발기구</td>\n",
       "      <td>미꾸라지</td>\n",
       "      <td>수입</td>\n",
       "      <td>1.00</td>\n",
       "      <td>242</td>\n",
       "    </tr>\n",
       "    <tr>\n",
       "      <th>31518</th>\n",
       "      <td>202112</td>\n",
       "      <td>US</td>\n",
       "      <td>301999070</td>\n",
       "      <td>E</td>\n",
       "      <td>미국</td>\n",
       "      <td>아시아.태평양 경제협력체/경제협력개발기구/북미자유무역연합</td>\n",
       "      <td>미꾸라지</td>\n",
       "      <td>수출</td>\n",
       "      <td>371.00</td>\n",
       "      <td>6209</td>\n",
       "    </tr>\n",
       "    <tr>\n",
       "      <th>31519</th>\n",
       "      <td>202112</td>\n",
       "      <td>CN</td>\n",
       "      <td>301999070</td>\n",
       "      <td>I</td>\n",
       "      <td>중국</td>\n",
       "      <td>아시아.태평양 경제협력체</td>\n",
       "      <td>미꾸라지</td>\n",
       "      <td>수입</td>\n",
       "      <td>643363.00</td>\n",
       "      <td>2593251</td>\n",
       "    </tr>\n",
       "    <tr>\n",
       "      <th>31520</th>\n",
       "      <td>202112</td>\n",
       "      <td>JP</td>\n",
       "      <td>302896000</td>\n",
       "      <td>I</td>\n",
       "      <td>일본</td>\n",
       "      <td>아시아.태평양 경제협력체/경제협력개발기구</td>\n",
       "      <td>돔</td>\n",
       "      <td>수입</td>\n",
       "      <td>52.80</td>\n",
       "      <td>2249</td>\n",
       "    </tr>\n",
       "    <tr>\n",
       "      <th>31521</th>\n",
       "      <td>202112</td>\n",
       "      <td>CN</td>\n",
       "      <td>302896000</td>\n",
       "      <td>E</td>\n",
       "      <td>중국</td>\n",
       "      <td>아시아.태평양 경제협력체</td>\n",
       "      <td>돔</td>\n",
       "      <td>수출</td>\n",
       "      <td>1696.00</td>\n",
       "      <td>6100</td>\n",
       "    </tr>\n",
       "  </tbody>\n",
       "</table>\n",
       "<p>31522 rows × 10 columns</p>\n",
       "</div>"
      ],
      "text/plain": [
       "       stdYymm nationCode  mprcExipitmCode imxprtSeCode nationNm  \\\n",
       "0       202101         TW       2102203090            I       대만   \n",
       "1       202101         JP       2102203090            I       일본   \n",
       "2       202101         US       2102203090            I       미국   \n",
       "3       202101         CA       2102204010            I      캐나다   \n",
       "4       202101         JP       2102204010            I       일본   \n",
       "...        ...        ...              ...          ...      ...   \n",
       "31517   202112         DE        301999070            I       독일   \n",
       "31518   202112         US        301999070            E       미국   \n",
       "31519   202112         CN        301999070            I       중국   \n",
       "31520   202112         JP        302896000            I       일본   \n",
       "31521   202112         CN        302896000            E       중국   \n",
       "\n",
       "                               ecoblNm mprcExipitmNm imxprtSeNm   imxprtWt  \\\n",
       "0                        아시아.태평양 경제협력체       클로렐라 효모         수입     500.00   \n",
       "1               아시아.태평양 경제협력체/경제협력개발기구       클로렐라 효모         수입      84.00   \n",
       "2      아시아.태평양 경제협력체/경제협력개발기구/북미자유무역연합       클로렐라 효모         수입       4.84   \n",
       "3      아시아.태평양 경제협력체/경제협력개발기구/북미자유무역연합      스리루리나 효모         수입    1505.78   \n",
       "4               아시아.태평양 경제협력체/경제협력개발기구      스리루리나 효모         수입     665.28   \n",
       "...                                ...           ...        ...        ...   \n",
       "31517                    유럽연합/경제협력개발기구          미꾸라지         수입       1.00   \n",
       "31518  아시아.태평양 경제협력체/경제협력개발기구/북미자유무역연합          미꾸라지         수출     371.00   \n",
       "31519                    아시아.태평양 경제협력체          미꾸라지         수입  643363.00   \n",
       "31520           아시아.태평양 경제협력체/경제협력개발기구             돔         수입      52.80   \n",
       "31521                    아시아.태평양 경제협력체             돔         수출    1696.00   \n",
       "\n",
       "       imxprtDollarAmount  \n",
       "0                   13456  \n",
       "1                    1326  \n",
       "2                     193  \n",
       "3                   33789  \n",
       "4                   17319  \n",
       "...                   ...  \n",
       "31517                 242  \n",
       "31518                6209  \n",
       "31519             2593251  \n",
       "31520                2249  \n",
       "31521                6100  \n",
       "\n",
       "[31522 rows x 10 columns]"
      ]
     },
     "execution_count": 8,
     "metadata": {},
     "output_type": "execute_result"
    }
   ],
   "source": [
    "# sfd를 출력합니다.\n",
    "sfd"
   ]
  },
  {
   "cell_type": "code",
   "execution_count": 9,
   "id": "66413e2b",
   "metadata": {},
   "outputs": [
    {
     "data": {
      "text/html": [
       "<div>\n",
       "<style scoped>\n",
       "    .dataframe tbody tr th:only-of-type {\n",
       "        vertical-align: middle;\n",
       "    }\n",
       "\n",
       "    .dataframe tbody tr th {\n",
       "        vertical-align: top;\n",
       "    }\n",
       "\n",
       "    .dataframe thead th {\n",
       "        text-align: right;\n",
       "    }\n",
       "</style>\n",
       "<table border=\"1\" class=\"dataframe\">\n",
       "  <thead>\n",
       "    <tr style=\"text-align: right;\">\n",
       "      <th></th>\n",
       "      <th>stdYymm</th>\n",
       "      <th>nationCode</th>\n",
       "      <th>mprcExipitmCode</th>\n",
       "      <th>imxprtSeCode</th>\n",
       "      <th>nationNm</th>\n",
       "      <th>ecoblNm</th>\n",
       "      <th>mprcExipitmNm</th>\n",
       "      <th>imxprtSeNm</th>\n",
       "      <th>imxprtWt</th>\n",
       "      <th>imxprtDollarAmount</th>\n",
       "    </tr>\n",
       "  </thead>\n",
       "  <tbody>\n",
       "    <tr>\n",
       "      <th>0</th>\n",
       "      <td>202101</td>\n",
       "      <td>TW</td>\n",
       "      <td>2102203090</td>\n",
       "      <td>I</td>\n",
       "      <td>대만</td>\n",
       "      <td>아시아.태평양 경제협력체</td>\n",
       "      <td>클로렐라 효모</td>\n",
       "      <td>수입</td>\n",
       "      <td>500.00</td>\n",
       "      <td>13456</td>\n",
       "    </tr>\n",
       "    <tr>\n",
       "      <th>1</th>\n",
       "      <td>202101</td>\n",
       "      <td>JP</td>\n",
       "      <td>2102203090</td>\n",
       "      <td>I</td>\n",
       "      <td>일본</td>\n",
       "      <td>아시아.태평양 경제협력체/경제협력개발기구</td>\n",
       "      <td>클로렐라 효모</td>\n",
       "      <td>수입</td>\n",
       "      <td>84.00</td>\n",
       "      <td>1326</td>\n",
       "    </tr>\n",
       "    <tr>\n",
       "      <th>2</th>\n",
       "      <td>202101</td>\n",
       "      <td>US</td>\n",
       "      <td>2102203090</td>\n",
       "      <td>I</td>\n",
       "      <td>미국</td>\n",
       "      <td>아시아.태평양 경제협력체/경제협력개발기구/북미자유무역연합</td>\n",
       "      <td>클로렐라 효모</td>\n",
       "      <td>수입</td>\n",
       "      <td>4.84</td>\n",
       "      <td>193</td>\n",
       "    </tr>\n",
       "    <tr>\n",
       "      <th>3</th>\n",
       "      <td>202101</td>\n",
       "      <td>CA</td>\n",
       "      <td>2102204010</td>\n",
       "      <td>I</td>\n",
       "      <td>캐나다</td>\n",
       "      <td>아시아.태평양 경제협력체/경제협력개발기구/북미자유무역연합</td>\n",
       "      <td>스리루리나 효모</td>\n",
       "      <td>수입</td>\n",
       "      <td>1505.78</td>\n",
       "      <td>33789</td>\n",
       "    </tr>\n",
       "    <tr>\n",
       "      <th>4</th>\n",
       "      <td>202101</td>\n",
       "      <td>JP</td>\n",
       "      <td>2102204010</td>\n",
       "      <td>I</td>\n",
       "      <td>일본</td>\n",
       "      <td>아시아.태평양 경제협력체/경제협력개발기구</td>\n",
       "      <td>스리루리나 효모</td>\n",
       "      <td>수입</td>\n",
       "      <td>665.28</td>\n",
       "      <td>17319</td>\n",
       "    </tr>\n",
       "  </tbody>\n",
       "</table>\n",
       "</div>"
      ],
      "text/plain": [
       "   stdYymm nationCode  mprcExipitmCode imxprtSeCode nationNm  \\\n",
       "0   202101         TW       2102203090            I       대만   \n",
       "1   202101         JP       2102203090            I       일본   \n",
       "2   202101         US       2102203090            I       미국   \n",
       "3   202101         CA       2102204010            I      캐나다   \n",
       "4   202101         JP       2102204010            I       일본   \n",
       "\n",
       "                           ecoblNm mprcExipitmNm imxprtSeNm  imxprtWt  \\\n",
       "0                    아시아.태평양 경제협력체       클로렐라 효모         수입    500.00   \n",
       "1           아시아.태평양 경제협력체/경제협력개발기구       클로렐라 효모         수입     84.00   \n",
       "2  아시아.태평양 경제협력체/경제협력개발기구/북미자유무역연합       클로렐라 효모         수입      4.84   \n",
       "3  아시아.태평양 경제협력체/경제협력개발기구/북미자유무역연합      스리루리나 효모         수입   1505.78   \n",
       "4           아시아.태평양 경제협력체/경제협력개발기구      스리루리나 효모         수입    665.28   \n",
       "\n",
       "   imxprtDollarAmount  \n",
       "0               13456  \n",
       "1                1326  \n",
       "2                 193  \n",
       "3               33789  \n",
       "4               17319  "
      ]
     },
     "execution_count": 9,
     "metadata": {},
     "output_type": "execute_result"
    }
   ],
   "source": [
    "# sfd의 처음 5행을 출력합니다.\n",
    "# [힌트] head() 함수를 사용하세요.\n",
    "sfd.head()"
   ]
  },
  {
   "cell_type": "code",
   "execution_count": 10,
   "id": "b01559d8",
   "metadata": {},
   "outputs": [
    {
     "data": {
      "text/html": [
       "<div>\n",
       "<style scoped>\n",
       "    .dataframe tbody tr th:only-of-type {\n",
       "        vertical-align: middle;\n",
       "    }\n",
       "\n",
       "    .dataframe tbody tr th {\n",
       "        vertical-align: top;\n",
       "    }\n",
       "\n",
       "    .dataframe thead th {\n",
       "        text-align: right;\n",
       "    }\n",
       "</style>\n",
       "<table border=\"1\" class=\"dataframe\">\n",
       "  <thead>\n",
       "    <tr style=\"text-align: right;\">\n",
       "      <th></th>\n",
       "      <th>stdYymm</th>\n",
       "      <th>nationCode</th>\n",
       "      <th>mprcExipitmCode</th>\n",
       "      <th>imxprtSeCode</th>\n",
       "      <th>nationNm</th>\n",
       "      <th>ecoblNm</th>\n",
       "      <th>mprcExipitmNm</th>\n",
       "      <th>imxprtSeNm</th>\n",
       "      <th>imxprtWt</th>\n",
       "      <th>imxprtDollarAmount</th>\n",
       "    </tr>\n",
       "  </thead>\n",
       "  <tbody>\n",
       "    <tr>\n",
       "      <th>31517</th>\n",
       "      <td>202112</td>\n",
       "      <td>DE</td>\n",
       "      <td>301999070</td>\n",
       "      <td>I</td>\n",
       "      <td>독일</td>\n",
       "      <td>유럽연합/경제협력개발기구</td>\n",
       "      <td>미꾸라지</td>\n",
       "      <td>수입</td>\n",
       "      <td>1.0</td>\n",
       "      <td>242</td>\n",
       "    </tr>\n",
       "    <tr>\n",
       "      <th>31518</th>\n",
       "      <td>202112</td>\n",
       "      <td>US</td>\n",
       "      <td>301999070</td>\n",
       "      <td>E</td>\n",
       "      <td>미국</td>\n",
       "      <td>아시아.태평양 경제협력체/경제협력개발기구/북미자유무역연합</td>\n",
       "      <td>미꾸라지</td>\n",
       "      <td>수출</td>\n",
       "      <td>371.0</td>\n",
       "      <td>6209</td>\n",
       "    </tr>\n",
       "    <tr>\n",
       "      <th>31519</th>\n",
       "      <td>202112</td>\n",
       "      <td>CN</td>\n",
       "      <td>301999070</td>\n",
       "      <td>I</td>\n",
       "      <td>중국</td>\n",
       "      <td>아시아.태평양 경제협력체</td>\n",
       "      <td>미꾸라지</td>\n",
       "      <td>수입</td>\n",
       "      <td>643363.0</td>\n",
       "      <td>2593251</td>\n",
       "    </tr>\n",
       "    <tr>\n",
       "      <th>31520</th>\n",
       "      <td>202112</td>\n",
       "      <td>JP</td>\n",
       "      <td>302896000</td>\n",
       "      <td>I</td>\n",
       "      <td>일본</td>\n",
       "      <td>아시아.태평양 경제협력체/경제협력개발기구</td>\n",
       "      <td>돔</td>\n",
       "      <td>수입</td>\n",
       "      <td>52.8</td>\n",
       "      <td>2249</td>\n",
       "    </tr>\n",
       "    <tr>\n",
       "      <th>31521</th>\n",
       "      <td>202112</td>\n",
       "      <td>CN</td>\n",
       "      <td>302896000</td>\n",
       "      <td>E</td>\n",
       "      <td>중국</td>\n",
       "      <td>아시아.태평양 경제협력체</td>\n",
       "      <td>돔</td>\n",
       "      <td>수출</td>\n",
       "      <td>1696.0</td>\n",
       "      <td>6100</td>\n",
       "    </tr>\n",
       "  </tbody>\n",
       "</table>\n",
       "</div>"
      ],
      "text/plain": [
       "       stdYymm nationCode  mprcExipitmCode imxprtSeCode nationNm  \\\n",
       "31517   202112         DE        301999070            I       독일   \n",
       "31518   202112         US        301999070            E       미국   \n",
       "31519   202112         CN        301999070            I       중국   \n",
       "31520   202112         JP        302896000            I       일본   \n",
       "31521   202112         CN        302896000            E       중국   \n",
       "\n",
       "                               ecoblNm mprcExipitmNm imxprtSeNm  imxprtWt  \\\n",
       "31517                    유럽연합/경제협력개발기구          미꾸라지         수입       1.0   \n",
       "31518  아시아.태평양 경제협력체/경제협력개발기구/북미자유무역연합          미꾸라지         수출     371.0   \n",
       "31519                    아시아.태평양 경제협력체          미꾸라지         수입  643363.0   \n",
       "31520           아시아.태평양 경제협력체/경제협력개발기구             돔         수입      52.8   \n",
       "31521                    아시아.태평양 경제협력체             돔         수출    1696.0   \n",
       "\n",
       "       imxprtDollarAmount  \n",
       "31517                 242  \n",
       "31518                6209  \n",
       "31519             2593251  \n",
       "31520                2249  \n",
       "31521                6100  "
      ]
     },
     "execution_count": 10,
     "metadata": {},
     "output_type": "execute_result"
    }
   ],
   "source": [
    "# sfd의 마지막 5행을 출력합니다.\n",
    "# [힌트] tail() 함수를 사용하세요.\n",
    "sfd.tail()"
   ]
  },
  {
   "cell_type": "markdown",
   "id": "5aac4c94",
   "metadata": {},
   "source": [
    "### 실습 데이터셋 전처리"
   ]
  },
  {
   "cell_type": "code",
   "execution_count": 11,
   "id": "b2c6add0",
   "metadata": {},
   "outputs": [
    {
     "data": {
      "text/plain": [
       "Index(['stdYymm', 'nationCode', 'mprcExipitmCode', 'imxprtSeCode', 'nationNm',\n",
       "       'ecoblNm', 'mprcExipitmNm', 'imxprtSeNm', 'imxprtWt',\n",
       "       'imxprtDollarAmount'],\n",
       "      dtype='object')"
      ]
     },
     "execution_count": 11,
     "metadata": {},
     "output_type": "execute_result"
    }
   ],
   "source": [
    "# sfd의 열이름을 출력합니다.\n",
    "sfd.columns"
   ]
  },
  {
   "cell_type": "code",
   "execution_count": 12,
   "id": "b537108c",
   "metadata": {},
   "outputs": [],
   "source": [
    "# sfd에서 선택할 열이름을 변수에 할당합니다.\n",
    "cols = ['stdYymm', 'nationNm', 'mprcExipitmNm', 'imxprtSeNm', 'imxprtWt', 'imxprtDollarAmount']"
   ]
  },
  {
   "cell_type": "code",
   "execution_count": 13,
   "id": "a8bf513a",
   "metadata": {},
   "outputs": [
    {
     "data": {
      "text/html": [
       "<div>\n",
       "<style scoped>\n",
       "    .dataframe tbody tr th:only-of-type {\n",
       "        vertical-align: middle;\n",
       "    }\n",
       "\n",
       "    .dataframe tbody tr th {\n",
       "        vertical-align: top;\n",
       "    }\n",
       "\n",
       "    .dataframe thead th {\n",
       "        text-align: right;\n",
       "    }\n",
       "</style>\n",
       "<table border=\"1\" class=\"dataframe\">\n",
       "  <thead>\n",
       "    <tr style=\"text-align: right;\">\n",
       "      <th></th>\n",
       "      <th>stdYymm</th>\n",
       "      <th>nationNm</th>\n",
       "      <th>mprcExipitmNm</th>\n",
       "      <th>imxprtSeNm</th>\n",
       "      <th>imxprtWt</th>\n",
       "      <th>imxprtDollarAmount</th>\n",
       "    </tr>\n",
       "  </thead>\n",
       "  <tbody>\n",
       "    <tr>\n",
       "      <th>0</th>\n",
       "      <td>202101</td>\n",
       "      <td>대만</td>\n",
       "      <td>클로렐라 효모</td>\n",
       "      <td>수입</td>\n",
       "      <td>500.00</td>\n",
       "      <td>13456</td>\n",
       "    </tr>\n",
       "    <tr>\n",
       "      <th>1</th>\n",
       "      <td>202101</td>\n",
       "      <td>일본</td>\n",
       "      <td>클로렐라 효모</td>\n",
       "      <td>수입</td>\n",
       "      <td>84.00</td>\n",
       "      <td>1326</td>\n",
       "    </tr>\n",
       "    <tr>\n",
       "      <th>2</th>\n",
       "      <td>202101</td>\n",
       "      <td>미국</td>\n",
       "      <td>클로렐라 효모</td>\n",
       "      <td>수입</td>\n",
       "      <td>4.84</td>\n",
       "      <td>193</td>\n",
       "    </tr>\n",
       "    <tr>\n",
       "      <th>3</th>\n",
       "      <td>202101</td>\n",
       "      <td>캐나다</td>\n",
       "      <td>스리루리나 효모</td>\n",
       "      <td>수입</td>\n",
       "      <td>1505.78</td>\n",
       "      <td>33789</td>\n",
       "    </tr>\n",
       "    <tr>\n",
       "      <th>4</th>\n",
       "      <td>202101</td>\n",
       "      <td>일본</td>\n",
       "      <td>스리루리나 효모</td>\n",
       "      <td>수입</td>\n",
       "      <td>665.28</td>\n",
       "      <td>17319</td>\n",
       "    </tr>\n",
       "    <tr>\n",
       "      <th>...</th>\n",
       "      <td>...</td>\n",
       "      <td>...</td>\n",
       "      <td>...</td>\n",
       "      <td>...</td>\n",
       "      <td>...</td>\n",
       "      <td>...</td>\n",
       "    </tr>\n",
       "    <tr>\n",
       "      <th>31517</th>\n",
       "      <td>202112</td>\n",
       "      <td>독일</td>\n",
       "      <td>미꾸라지</td>\n",
       "      <td>수입</td>\n",
       "      <td>1.00</td>\n",
       "      <td>242</td>\n",
       "    </tr>\n",
       "    <tr>\n",
       "      <th>31518</th>\n",
       "      <td>202112</td>\n",
       "      <td>미국</td>\n",
       "      <td>미꾸라지</td>\n",
       "      <td>수출</td>\n",
       "      <td>371.00</td>\n",
       "      <td>6209</td>\n",
       "    </tr>\n",
       "    <tr>\n",
       "      <th>31519</th>\n",
       "      <td>202112</td>\n",
       "      <td>중국</td>\n",
       "      <td>미꾸라지</td>\n",
       "      <td>수입</td>\n",
       "      <td>643363.00</td>\n",
       "      <td>2593251</td>\n",
       "    </tr>\n",
       "    <tr>\n",
       "      <th>31520</th>\n",
       "      <td>202112</td>\n",
       "      <td>일본</td>\n",
       "      <td>돔</td>\n",
       "      <td>수입</td>\n",
       "      <td>52.80</td>\n",
       "      <td>2249</td>\n",
       "    </tr>\n",
       "    <tr>\n",
       "      <th>31521</th>\n",
       "      <td>202112</td>\n",
       "      <td>중국</td>\n",
       "      <td>돔</td>\n",
       "      <td>수출</td>\n",
       "      <td>1696.00</td>\n",
       "      <td>6100</td>\n",
       "    </tr>\n",
       "  </tbody>\n",
       "</table>\n",
       "<p>31522 rows × 6 columns</p>\n",
       "</div>"
      ],
      "text/plain": [
       "       stdYymm nationNm mprcExipitmNm imxprtSeNm   imxprtWt  \\\n",
       "0       202101       대만       클로렐라 효모         수입     500.00   \n",
       "1       202101       일본       클로렐라 효모         수입      84.00   \n",
       "2       202101       미국       클로렐라 효모         수입       4.84   \n",
       "3       202101      캐나다      스리루리나 효모         수입    1505.78   \n",
       "4       202101       일본      스리루리나 효모         수입     665.28   \n",
       "...        ...      ...           ...        ...        ...   \n",
       "31517   202112       독일          미꾸라지         수입       1.00   \n",
       "31518   202112       미국          미꾸라지         수출     371.00   \n",
       "31519   202112       중국          미꾸라지         수입  643363.00   \n",
       "31520   202112       일본             돔         수입      52.80   \n",
       "31521   202112       중국             돔         수출    1696.00   \n",
       "\n",
       "       imxprtDollarAmount  \n",
       "0                   13456  \n",
       "1                    1326  \n",
       "2                     193  \n",
       "3                   33789  \n",
       "4                   17319  \n",
       "...                   ...  \n",
       "31517                 242  \n",
       "31518                6209  \n",
       "31519             2593251  \n",
       "31520                2249  \n",
       "31521                6100  \n",
       "\n",
       "[31522 rows x 6 columns]"
      ]
     },
     "execution_count": 13,
     "metadata": {},
     "output_type": "execute_result"
    }
   ],
   "source": [
    "# sfd에서 cols만 선택한 결과를 출력합니다.\n",
    "sfd[cols]"
   ]
  },
  {
   "cell_type": "code",
   "execution_count": 14,
   "id": "3caf4d36",
   "metadata": {},
   "outputs": [],
   "source": [
    "# 인덱싱 결과를 sfd에 재할당합니다.\n",
    "sfd = sfd[cols]"
   ]
  },
  {
   "cell_type": "code",
   "execution_count": 15,
   "id": "b32f8ba0",
   "metadata": {},
   "outputs": [],
   "source": [
    "# sfd의 열이름을 변경합니다.\n",
    "sfd.columns = ['month', 'nation', 'mpritm', 'imxprt', 'weight', 'dollar']"
   ]
  },
  {
   "cell_type": "code",
   "execution_count": 16,
   "id": "755e0181",
   "metadata": {},
   "outputs": [
    {
     "data": {
      "text/plain": [
       "month       int64\n",
       "nation     object\n",
       "mpritm     object\n",
       "imxprt     object\n",
       "weight    float64\n",
       "dollar      int64\n",
       "dtype: object"
      ]
     },
     "execution_count": 16,
     "metadata": {},
     "output_type": "execute_result"
    }
   ],
   "source": [
    "# sfd의 열별 자료형을 확인합니다.\n",
    "sfd.dtypes"
   ]
  },
  {
   "cell_type": "code",
   "execution_count": 17,
   "id": "35948017",
   "metadata": {},
   "outputs": [
    {
     "name": "stderr",
     "output_type": "stream",
     "text": [
      "/var/folders/w0/zkdyjrqx66g94n4qfn2t2dl40000gn/T/ipykernel_26776/1227254585.py:3: SettingWithCopyWarning: \n",
      "A value is trying to be set on a copy of a slice from a DataFrame.\n",
      "Try using .loc[row_indexer,col_indexer] = value instead\n",
      "\n",
      "See the caveats in the documentation: https://pandas.pydata.org/pandas-docs/stable/user_guide/indexing.html#returning-a-view-versus-a-copy\n",
      "  sfd['month'] = sfd['month'].astype(str)\n"
     ]
    }
   ],
   "source": [
    "# month의 자료형을 문자열로 변환하고 month에 할당합니다. \n",
    "# [힌트] astype() 함수를 사용하세요.\n",
    "sfd['month'] = sfd['month'].astype(str)"
   ]
  },
  {
   "cell_type": "code",
   "execution_count": 18,
   "id": "d982ac5e",
   "metadata": {},
   "outputs": [
    {
     "name": "stderr",
     "output_type": "stream",
     "text": [
      "/var/folders/w0/zkdyjrqx66g94n4qfn2t2dl40000gn/T/ipykernel_26776/3130233863.py:3: SettingWithCopyWarning: \n",
      "A value is trying to be set on a copy of a slice from a DataFrame.\n",
      "Try using .loc[row_indexer,col_indexer] = value instead\n",
      "\n",
      "See the caveats in the documentation: https://pandas.pydata.org/pandas-docs/stable/user_guide/indexing.html#returning-a-view-versus-a-copy\n",
      "  sfd['grand'] = sfd['dollar'] / 1000\n"
     ]
    }
   ],
   "source": [
    "# dollar를 1000으로 나눈 결과를 grand에 할당합니다.\n",
    "# [참고] 데이터프레임 오른쪽 끝에 새 변수를 추가합니다.\n",
    "sfd['grand'] = sfd['dollar'] / 1000"
   ]
  },
  {
   "cell_type": "code",
   "execution_count": 19,
   "id": "05d2de74",
   "metadata": {},
   "outputs": [
    {
     "data": {
      "text/html": [
       "<div>\n",
       "<style scoped>\n",
       "    .dataframe tbody tr th:only-of-type {\n",
       "        vertical-align: middle;\n",
       "    }\n",
       "\n",
       "    .dataframe tbody tr th {\n",
       "        vertical-align: top;\n",
       "    }\n",
       "\n",
       "    .dataframe thead th {\n",
       "        text-align: right;\n",
       "    }\n",
       "</style>\n",
       "<table border=\"1\" class=\"dataframe\">\n",
       "  <thead>\n",
       "    <tr style=\"text-align: right;\">\n",
       "      <th></th>\n",
       "      <th>month</th>\n",
       "      <th>nation</th>\n",
       "      <th>mpritm</th>\n",
       "      <th>imxprt</th>\n",
       "      <th>weight</th>\n",
       "      <th>grand</th>\n",
       "    </tr>\n",
       "  </thead>\n",
       "  <tbody>\n",
       "    <tr>\n",
       "      <th>0</th>\n",
       "      <td>202101</td>\n",
       "      <td>대만</td>\n",
       "      <td>클로렐라 효모</td>\n",
       "      <td>수입</td>\n",
       "      <td>500.00</td>\n",
       "      <td>13.456</td>\n",
       "    </tr>\n",
       "    <tr>\n",
       "      <th>1</th>\n",
       "      <td>202101</td>\n",
       "      <td>일본</td>\n",
       "      <td>클로렐라 효모</td>\n",
       "      <td>수입</td>\n",
       "      <td>84.00</td>\n",
       "      <td>1.326</td>\n",
       "    </tr>\n",
       "    <tr>\n",
       "      <th>2</th>\n",
       "      <td>202101</td>\n",
       "      <td>미국</td>\n",
       "      <td>클로렐라 효모</td>\n",
       "      <td>수입</td>\n",
       "      <td>4.84</td>\n",
       "      <td>0.193</td>\n",
       "    </tr>\n",
       "    <tr>\n",
       "      <th>3</th>\n",
       "      <td>202101</td>\n",
       "      <td>캐나다</td>\n",
       "      <td>스리루리나 효모</td>\n",
       "      <td>수입</td>\n",
       "      <td>1505.78</td>\n",
       "      <td>33.789</td>\n",
       "    </tr>\n",
       "    <tr>\n",
       "      <th>4</th>\n",
       "      <td>202101</td>\n",
       "      <td>일본</td>\n",
       "      <td>스리루리나 효모</td>\n",
       "      <td>수입</td>\n",
       "      <td>665.28</td>\n",
       "      <td>17.319</td>\n",
       "    </tr>\n",
       "    <tr>\n",
       "      <th>...</th>\n",
       "      <td>...</td>\n",
       "      <td>...</td>\n",
       "      <td>...</td>\n",
       "      <td>...</td>\n",
       "      <td>...</td>\n",
       "      <td>...</td>\n",
       "    </tr>\n",
       "    <tr>\n",
       "      <th>31517</th>\n",
       "      <td>202112</td>\n",
       "      <td>독일</td>\n",
       "      <td>미꾸라지</td>\n",
       "      <td>수입</td>\n",
       "      <td>1.00</td>\n",
       "      <td>0.242</td>\n",
       "    </tr>\n",
       "    <tr>\n",
       "      <th>31518</th>\n",
       "      <td>202112</td>\n",
       "      <td>미국</td>\n",
       "      <td>미꾸라지</td>\n",
       "      <td>수출</td>\n",
       "      <td>371.00</td>\n",
       "      <td>6.209</td>\n",
       "    </tr>\n",
       "    <tr>\n",
       "      <th>31519</th>\n",
       "      <td>202112</td>\n",
       "      <td>중국</td>\n",
       "      <td>미꾸라지</td>\n",
       "      <td>수입</td>\n",
       "      <td>643363.00</td>\n",
       "      <td>2593.251</td>\n",
       "    </tr>\n",
       "    <tr>\n",
       "      <th>31520</th>\n",
       "      <td>202112</td>\n",
       "      <td>일본</td>\n",
       "      <td>돔</td>\n",
       "      <td>수입</td>\n",
       "      <td>52.80</td>\n",
       "      <td>2.249</td>\n",
       "    </tr>\n",
       "    <tr>\n",
       "      <th>31521</th>\n",
       "      <td>202112</td>\n",
       "      <td>중국</td>\n",
       "      <td>돔</td>\n",
       "      <td>수출</td>\n",
       "      <td>1696.00</td>\n",
       "      <td>6.100</td>\n",
       "    </tr>\n",
       "  </tbody>\n",
       "</table>\n",
       "<p>31522 rows × 6 columns</p>\n",
       "</div>"
      ],
      "text/plain": [
       "        month nation    mpritm imxprt     weight     grand\n",
       "0      202101     대만   클로렐라 효모     수입     500.00    13.456\n",
       "1      202101     일본   클로렐라 효모     수입      84.00     1.326\n",
       "2      202101     미국   클로렐라 효모     수입       4.84     0.193\n",
       "3      202101    캐나다  스리루리나 효모     수입    1505.78    33.789\n",
       "4      202101     일본  스리루리나 효모     수입     665.28    17.319\n",
       "...       ...    ...       ...    ...        ...       ...\n",
       "31517  202112     독일      미꾸라지     수입       1.00     0.242\n",
       "31518  202112     미국      미꾸라지     수출     371.00     6.209\n",
       "31519  202112     중국      미꾸라지     수입  643363.00  2593.251\n",
       "31520  202112     일본         돔     수입      52.80     2.249\n",
       "31521  202112     중국         돔     수출    1696.00     6.100\n",
       "\n",
       "[31522 rows x 6 columns]"
      ]
     },
     "execution_count": 19,
     "metadata": {},
     "output_type": "execute_result"
    }
   ],
   "source": [
    "# sfd에서 dollar를 삭제한 결과를 출력합니다.\n",
    "# [힌트] drop() 함수를 사용하세요.\n",
    "sfd.drop(columns = ['dollar'])"
   ]
  },
  {
   "cell_type": "code",
   "execution_count": 20,
   "id": "c08c5c30",
   "metadata": {},
   "outputs": [],
   "source": [
    "# sfd에서 dollar를 삭제한 결과를 sfd에 재할당합니다.\n",
    "sfd = sfd.drop(columns = ['dollar'])"
   ]
  },
  {
   "cell_type": "code",
   "execution_count": 21,
   "id": "1ab7c7d6",
   "metadata": {},
   "outputs": [
    {
     "data": {
      "text/html": [
       "<div>\n",
       "<style scoped>\n",
       "    .dataframe tbody tr th:only-of-type {\n",
       "        vertical-align: middle;\n",
       "    }\n",
       "\n",
       "    .dataframe tbody tr th {\n",
       "        vertical-align: top;\n",
       "    }\n",
       "\n",
       "    .dataframe thead th {\n",
       "        text-align: right;\n",
       "    }\n",
       "</style>\n",
       "<table border=\"1\" class=\"dataframe\">\n",
       "  <thead>\n",
       "    <tr style=\"text-align: right;\">\n",
       "      <th></th>\n",
       "      <th>weight</th>\n",
       "      <th>grand</th>\n",
       "    </tr>\n",
       "  </thead>\n",
       "  <tbody>\n",
       "    <tr>\n",
       "      <th>count</th>\n",
       "      <td>3.152200e+04</td>\n",
       "      <td>31522.000000</td>\n",
       "    </tr>\n",
       "    <tr>\n",
       "      <th>mean</th>\n",
       "      <td>2.280180e+05</td>\n",
       "      <td>285.383959</td>\n",
       "    </tr>\n",
       "    <tr>\n",
       "      <th>std</th>\n",
       "      <td>4.831261e+06</td>\n",
       "      <td>1395.727239</td>\n",
       "    </tr>\n",
       "    <tr>\n",
       "      <th>min</th>\n",
       "      <td>0.000000e+00</td>\n",
       "      <td>0.000000</td>\n",
       "    </tr>\n",
       "    <tr>\n",
       "      <th>25%</th>\n",
       "      <td>5.200000e+01</td>\n",
       "      <td>0.854000</td>\n",
       "    </tr>\n",
       "    <tr>\n",
       "      <th>50%</th>\n",
       "      <td>7.564800e+02</td>\n",
       "      <td>8.355000</td>\n",
       "    </tr>\n",
       "    <tr>\n",
       "      <th>75%</th>\n",
       "      <td>1.516800e+04</td>\n",
       "      <td>79.552250</td>\n",
       "    </tr>\n",
       "    <tr>\n",
       "      <th>max</th>\n",
       "      <td>3.071980e+08</td>\n",
       "      <td>40737.080000</td>\n",
       "    </tr>\n",
       "  </tbody>\n",
       "</table>\n",
       "</div>"
      ],
      "text/plain": [
       "             weight         grand\n",
       "count  3.152200e+04  31522.000000\n",
       "mean   2.280180e+05    285.383959\n",
       "std    4.831261e+06   1395.727239\n",
       "min    0.000000e+00      0.000000\n",
       "25%    5.200000e+01      0.854000\n",
       "50%    7.564800e+02      8.355000\n",
       "75%    1.516800e+04     79.552250\n",
       "max    3.071980e+08  40737.080000"
      ]
     },
     "execution_count": 21,
     "metadata": {},
     "output_type": "execute_result"
    }
   ],
   "source": [
    "# sfd의 수치(정수 또는 실수)형 변수의 기술통계량을 확인합니다.\n",
    "# [힌트] describe() 함수를 사용하세요.\n",
    "sfd.describe()"
   ]
  },
  {
   "cell_type": "code",
   "execution_count": 22,
   "id": "4e8acce6",
   "metadata": {},
   "outputs": [
    {
     "data": {
      "text/html": [
       "<div>\n",
       "<style scoped>\n",
       "    .dataframe tbody tr th:only-of-type {\n",
       "        vertical-align: middle;\n",
       "    }\n",
       "\n",
       "    .dataframe tbody tr th {\n",
       "        vertical-align: top;\n",
       "    }\n",
       "\n",
       "    .dataframe thead th {\n",
       "        text-align: right;\n",
       "    }\n",
       "</style>\n",
       "<table border=\"1\" class=\"dataframe\">\n",
       "  <thead>\n",
       "    <tr style=\"text-align: right;\">\n",
       "      <th></th>\n",
       "      <th>month</th>\n",
       "      <th>nation</th>\n",
       "      <th>mpritm</th>\n",
       "      <th>imxprt</th>\n",
       "    </tr>\n",
       "  </thead>\n",
       "  <tbody>\n",
       "    <tr>\n",
       "      <th>count</th>\n",
       "      <td>31522</td>\n",
       "      <td>31522</td>\n",
       "      <td>28824</td>\n",
       "      <td>31522</td>\n",
       "    </tr>\n",
       "    <tr>\n",
       "      <th>unique</th>\n",
       "      <td>12</td>\n",
       "      <td>165</td>\n",
       "      <td>217</td>\n",
       "      <td>2</td>\n",
       "    </tr>\n",
       "    <tr>\n",
       "      <th>top</th>\n",
       "      <td>202104</td>\n",
       "      <td>미국</td>\n",
       "      <td>김</td>\n",
       "      <td>수출</td>\n",
       "    </tr>\n",
       "    <tr>\n",
       "      <th>freq</th>\n",
       "      <td>2751</td>\n",
       "      <td>3299</td>\n",
       "      <td>1450</td>\n",
       "      <td>17450</td>\n",
       "    </tr>\n",
       "  </tbody>\n",
       "</table>\n",
       "</div>"
      ],
      "text/plain": [
       "         month nation mpritm imxprt\n",
       "count    31522  31522  28824  31522\n",
       "unique      12    165    217      2\n",
       "top     202104     미국      김     수출\n",
       "freq      2751   3299   1450  17450"
      ]
     },
     "execution_count": 22,
     "metadata": {},
     "output_type": "execute_result"
    }
   ],
   "source": [
    "# sfd의 범주형 변수의 기술통계량을 확인합니다.\n",
    "sfd.describe(include = object)"
   ]
  },
  {
   "cell_type": "code",
   "execution_count": 23,
   "id": "613f92e9",
   "metadata": {},
   "outputs": [
    {
     "data": {
      "text/plain": [
       "미국        3299\n",
       "중국        2886\n",
       "일본        2586\n",
       "베트남       1932\n",
       "캐나다       1349\n",
       "          ... \n",
       "조지아          1\n",
       "세인트루시아       1\n",
       "우간다          1\n",
       "가봉           1\n",
       "통가           1\n",
       "Name: nation, Length: 165, dtype: int64"
      ]
     },
     "execution_count": 23,
     "metadata": {},
     "output_type": "execute_result"
    }
   ],
   "source": [
    "# nation의 빈도수를 확인합니다.\n",
    "# [힌트] value_counts() 함수를 사용하세요.\n",
    "sfd['nation'].value_counts()"
   ]
  },
  {
   "cell_type": "code",
   "execution_count": 24,
   "id": "4269250f",
   "metadata": {},
   "outputs": [
    {
     "data": {
      "text/plain": [
       "미국        0.104657\n",
       "중국        0.091555\n",
       "일본        0.082038\n",
       "베트남       0.061291\n",
       "캐나다       0.042796\n",
       "            ...   \n",
       "조지아       0.000032\n",
       "세인트루시아    0.000032\n",
       "우간다       0.000032\n",
       "가봉        0.000032\n",
       "통가        0.000032\n",
       "Name: nation, Length: 165, dtype: float64"
      ]
     },
     "execution_count": 24,
     "metadata": {},
     "output_type": "execute_result"
    }
   ],
   "source": [
    "# nation의 상대도수를 확인합니다.\n",
    "# [힌트] value_counts() 함수에 normalize 매개변수를 추가하세요.\n",
    "sfd['nation'].value_counts(normalize = True)"
   ]
  },
  {
   "cell_type": "markdown",
   "id": "1d73330c",
   "metadata": {},
   "source": [
    "### 수산물품목별 수출입금액을 합산하고 무역수지 계산"
   ]
  },
  {
   "cell_type": "code",
   "execution_count": 25,
   "id": "1cd5b1b6",
   "metadata": {},
   "outputs": [],
   "source": [
    "# 아래 조건을 만족하는 피벗 테이블을 mpr에 할당합니다.\n",
    "# [힌트] pd.pivot_table() 함수를 사용하세요.\n",
    "# 데이터(data)는 sfd, 값(values)은 grand, 행이름(index)은 mpritm, \n",
    "# 열이름(columns)은 imxprt, 집계함수는 np.sum을 지정하세요.\n",
    "mpr = pd.pivot_table(\n",
    "    data = sfd, \n",
    "    values = 'grand', \n",
    "    index = 'mpritm', \n",
    "    columns = 'imxprt', \n",
    "    aggfunc = np.sum\n",
    ")"
   ]
  },
  {
   "cell_type": "code",
   "execution_count": 26,
   "id": "0c6945a3",
   "metadata": {},
   "outputs": [
    {
     "data": {
      "text/html": [
       "<div>\n",
       "<style scoped>\n",
       "    .dataframe tbody tr th:only-of-type {\n",
       "        vertical-align: middle;\n",
       "    }\n",
       "\n",
       "    .dataframe tbody tr th {\n",
       "        vertical-align: top;\n",
       "    }\n",
       "\n",
       "    .dataframe thead th {\n",
       "        text-align: right;\n",
       "    }\n",
       "</style>\n",
       "<table border=\"1\" class=\"dataframe\">\n",
       "  <thead>\n",
       "    <tr style=\"text-align: right;\">\n",
       "      <th>imxprt</th>\n",
       "      <th>수입</th>\n",
       "      <th>수출</th>\n",
       "    </tr>\n",
       "    <tr>\n",
       "      <th>mpritm</th>\n",
       "      <th></th>\n",
       "      <th></th>\n",
       "    </tr>\n",
       "  </thead>\n",
       "  <tbody>\n",
       "    <tr>\n",
       "      <th>가공하지 않은 것</th>\n",
       "      <td>1.050</td>\n",
       "      <td>0.041</td>\n",
       "    </tr>\n",
       "    <tr>\n",
       "      <th>가공한 것</th>\n",
       "      <td>6.872</td>\n",
       "      <td>1.076</td>\n",
       "    </tr>\n",
       "    <tr>\n",
       "      <th>가다랑어줄무늬버니토우</th>\n",
       "      <td>2581.407</td>\n",
       "      <td>120207.758</td>\n",
       "    </tr>\n",
       "    <tr>\n",
       "      <th>가다랭이</th>\n",
       "      <td>169.757</td>\n",
       "      <td>4937.192</td>\n",
       "    </tr>\n",
       "    <tr>\n",
       "      <th>가리비과</th>\n",
       "      <td>50757.462</td>\n",
       "      <td>430.921</td>\n",
       "    </tr>\n",
       "  </tbody>\n",
       "</table>\n",
       "</div>"
      ],
      "text/plain": [
       "imxprt              수입          수출\n",
       "mpritm                            \n",
       "가공하지 않은 것        1.050       0.041\n",
       "가공한 것            6.872       1.076\n",
       "가다랑어줄무늬버니토우   2581.407  120207.758\n",
       "가다랭이           169.757    4937.192\n",
       "가리비과         50757.462     430.921"
      ]
     },
     "execution_count": 26,
     "metadata": {},
     "output_type": "execute_result"
    }
   ],
   "source": [
    "# mpr의 처음 5행을 출력합니다.\n",
    "mpr.head()"
   ]
  },
  {
   "cell_type": "code",
   "execution_count": 27,
   "id": "15abcf07",
   "metadata": {},
   "outputs": [
    {
     "data": {
      "text/plain": [
       "217"
      ]
     },
     "execution_count": 27,
     "metadata": {},
     "output_type": "execute_result"
    }
   ],
   "source": [
    "# mpr의 행 개수를 출력합니다.\n",
    "# [힌트] shape 속성 결과에 0번 인덱스 원소를 선택하세요.\n",
    "mpr.shape[0]"
   ]
  },
  {
   "cell_type": "code",
   "execution_count": 28,
   "id": "ea52497c",
   "metadata": {},
   "outputs": [
    {
     "data": {
      "text/plain": [
       "imxprt\n",
       "수입    11\n",
       "수출    23\n",
       "dtype: int64"
      ]
     },
     "execution_count": 28,
     "metadata": {},
     "output_type": "execute_result"
    }
   ],
   "source": [
    "# mpr의 열별 결측값 개수를 확인합니다.\n",
    "mpr.isna().sum()"
   ]
  },
  {
   "cell_type": "code",
   "execution_count": 29,
   "id": "7c49ba7f",
   "metadata": {},
   "outputs": [],
   "source": [
    "# mpr에 있는 결측값을 0으로 대체하고 mpr에 재할당합니다.\n",
    "# [힌트] fillna() 함수를 사용하세요.\n",
    "mpr = mpr.fillna(value = 0)"
   ]
  },
  {
   "cell_type": "code",
   "execution_count": 30,
   "id": "0c19ea88",
   "metadata": {},
   "outputs": [],
   "source": [
    "# 수출에서 수입을 뺀 무역수지를 생성합니다.\n",
    "mpr['무역수지'] = mpr['수출'] - mpr['수입']"
   ]
  },
  {
   "cell_type": "code",
   "execution_count": 31,
   "id": "3d250bb4",
   "metadata": {},
   "outputs": [],
   "source": [
    "# mpr를 무역수지로 내림차순 정렬하고 mpr에 재할당합니다.\n",
    "# [힌트] sort_values() 함수를 사용하세요.\n",
    "mpr = mpr.sort_values(by = ['무역수지'], ascending = False)"
   ]
  },
  {
   "cell_type": "code",
   "execution_count": 32,
   "id": "87ab59cf",
   "metadata": {},
   "outputs": [
    {
     "data": {
      "text/html": [
       "<div>\n",
       "<style scoped>\n",
       "    .dataframe tbody tr th:only-of-type {\n",
       "        vertical-align: middle;\n",
       "    }\n",
       "\n",
       "    .dataframe tbody tr th {\n",
       "        vertical-align: top;\n",
       "    }\n",
       "\n",
       "    .dataframe thead th {\n",
       "        text-align: right;\n",
       "    }\n",
       "</style>\n",
       "<table border=\"1\" class=\"dataframe\">\n",
       "  <thead>\n",
       "    <tr style=\"text-align: right;\">\n",
       "      <th>imxprt</th>\n",
       "      <th>수입</th>\n",
       "      <th>수출</th>\n",
       "      <th>무역수지</th>\n",
       "    </tr>\n",
       "    <tr>\n",
       "      <th>mpritm</th>\n",
       "      <th></th>\n",
       "      <th></th>\n",
       "      <th></th>\n",
       "    </tr>\n",
       "  </thead>\n",
       "  <tbody>\n",
       "    <tr>\n",
       "      <th>김</th>\n",
       "      <td>1897.017</td>\n",
       "      <td>692914.925</td>\n",
       "      <td>691017.908</td>\n",
       "    </tr>\n",
       "    <tr>\n",
       "      <th>다랑어</th>\n",
       "      <td>16423.863</td>\n",
       "      <td>250867.731</td>\n",
       "      <td>234443.868</td>\n",
       "    </tr>\n",
       "    <tr>\n",
       "      <th>가다랑어줄무늬버니토우</th>\n",
       "      <td>2581.407</td>\n",
       "      <td>120207.758</td>\n",
       "      <td>117626.351</td>\n",
       "    </tr>\n",
       "    <tr>\n",
       "      <th>황다랑어</th>\n",
       "      <td>6581.331</td>\n",
       "      <td>81277.196</td>\n",
       "      <td>74695.865</td>\n",
       "    </tr>\n",
       "    <tr>\n",
       "      <th>삼치</th>\n",
       "      <td>60.283</td>\n",
       "      <td>48632.085</td>\n",
       "      <td>48571.802</td>\n",
       "    </tr>\n",
       "    <tr>\n",
       "      <th>생선묵</th>\n",
       "      <td>12528.566</td>\n",
       "      <td>59985.938</td>\n",
       "      <td>47457.372</td>\n",
       "    </tr>\n",
       "    <tr>\n",
       "      <th>냉동한 것</th>\n",
       "      <td>7294.560</td>\n",
       "      <td>47682.240</td>\n",
       "      <td>40387.680</td>\n",
       "    </tr>\n",
       "    <tr>\n",
       "      <th>전복</th>\n",
       "      <td>11498.031</td>\n",
       "      <td>51780.192</td>\n",
       "      <td>40282.161</td>\n",
       "    </tr>\n",
       "    <tr>\n",
       "      <th>이빨고기</th>\n",
       "      <td>7709.321</td>\n",
       "      <td>45160.795</td>\n",
       "      <td>37451.474</td>\n",
       "    </tr>\n",
       "    <tr>\n",
       "      <th>넙치</th>\n",
       "      <td>11116.997</td>\n",
       "      <td>46825.952</td>\n",
       "      <td>35708.955</td>\n",
       "    </tr>\n",
       "  </tbody>\n",
       "</table>\n",
       "</div>"
      ],
      "text/plain": [
       "imxprt              수입          수출        무역수지\n",
       "mpritm                                        \n",
       "김             1897.017  692914.925  691017.908\n",
       "다랑어          16423.863  250867.731  234443.868\n",
       "가다랑어줄무늬버니토우   2581.407  120207.758  117626.351\n",
       "황다랑어          6581.331   81277.196   74695.865\n",
       "삼치              60.283   48632.085   48571.802\n",
       "생선묵          12528.566   59985.938   47457.372\n",
       "냉동한 것         7294.560   47682.240   40387.680\n",
       "전복           11498.031   51780.192   40282.161\n",
       "이빨고기          7709.321   45160.795   37451.474\n",
       "넙치           11116.997   46825.952   35708.955"
      ]
     },
     "execution_count": 32,
     "metadata": {},
     "output_type": "execute_result"
    }
   ],
   "source": [
    "# mpr의 처음 10행을 출력합니다.\n",
    "mpr.head(n = 10)"
   ]
  },
  {
   "cell_type": "code",
   "execution_count": 33,
   "id": "3101a168",
   "metadata": {},
   "outputs": [
    {
     "data": {
      "text/html": [
       "<div>\n",
       "<style scoped>\n",
       "    .dataframe tbody tr th:only-of-type {\n",
       "        vertical-align: middle;\n",
       "    }\n",
       "\n",
       "    .dataframe tbody tr th {\n",
       "        vertical-align: top;\n",
       "    }\n",
       "\n",
       "    .dataframe thead th {\n",
       "        text-align: right;\n",
       "    }\n",
       "</style>\n",
       "<table border=\"1\" class=\"dataframe\">\n",
       "  <thead>\n",
       "    <tr style=\"text-align: right;\">\n",
       "      <th>imxprt</th>\n",
       "      <th>수입</th>\n",
       "      <th>수출</th>\n",
       "      <th>무역수지</th>\n",
       "    </tr>\n",
       "    <tr>\n",
       "      <th>mpritm</th>\n",
       "      <th></th>\n",
       "      <th></th>\n",
       "      <th></th>\n",
       "    </tr>\n",
       "  </thead>\n",
       "  <tbody>\n",
       "    <tr>\n",
       "      <th>분.조분 및 펠리트</th>\n",
       "      <td>121402.589</td>\n",
       "      <td>2648.745</td>\n",
       "      <td>-118753.844</td>\n",
       "    </tr>\n",
       "    <tr>\n",
       "      <th>게</th>\n",
       "      <td>225809.371</td>\n",
       "      <td>65924.962</td>\n",
       "      <td>-159884.409</td>\n",
       "    </tr>\n",
       "    <tr>\n",
       "      <th>냉동연육</th>\n",
       "      <td>170071.911</td>\n",
       "      <td>2365.547</td>\n",
       "      <td>-167706.364</td>\n",
       "    </tr>\n",
       "    <tr>\n",
       "      <th>천일염</th>\n",
       "      <td>172481.091</td>\n",
       "      <td>778.823</td>\n",
       "      <td>-171702.268</td>\n",
       "    </tr>\n",
       "    <tr>\n",
       "      <th>새우류</th>\n",
       "      <td>196128.871</td>\n",
       "      <td>2789.326</td>\n",
       "      <td>-193339.545</td>\n",
       "    </tr>\n",
       "    <tr>\n",
       "      <th>쭈꾸미</th>\n",
       "      <td>199286.827</td>\n",
       "      <td>307.404</td>\n",
       "      <td>-198979.423</td>\n",
       "    </tr>\n",
       "    <tr>\n",
       "      <th>대게</th>\n",
       "      <td>231239.287</td>\n",
       "      <td>6407.234</td>\n",
       "      <td>-224832.053</td>\n",
       "    </tr>\n",
       "    <tr>\n",
       "      <th>명태</th>\n",
       "      <td>411130.903</td>\n",
       "      <td>150444.642</td>\n",
       "      <td>-260686.261</td>\n",
       "    </tr>\n",
       "    <tr>\n",
       "      <th>낙지</th>\n",
       "      <td>282730.841</td>\n",
       "      <td>818.847</td>\n",
       "      <td>-281911.994</td>\n",
       "    </tr>\n",
       "    <tr>\n",
       "      <th>대서양 연어</th>\n",
       "      <td>305322.417</td>\n",
       "      <td>79.442</td>\n",
       "      <td>-305242.975</td>\n",
       "    </tr>\n",
       "  </tbody>\n",
       "</table>\n",
       "</div>"
      ],
      "text/plain": [
       "imxprt              수입          수출        무역수지\n",
       "mpritm                                        \n",
       "분.조분 및 펠리트  121402.589    2648.745 -118753.844\n",
       "게           225809.371   65924.962 -159884.409\n",
       "냉동연육        170071.911    2365.547 -167706.364\n",
       "천일염         172481.091     778.823 -171702.268\n",
       "새우류         196128.871    2789.326 -193339.545\n",
       "쭈꾸미         199286.827     307.404 -198979.423\n",
       "대게          231239.287    6407.234 -224832.053\n",
       "명태          411130.903  150444.642 -260686.261\n",
       "낙지          282730.841     818.847 -281911.994\n",
       "대서양 연어      305322.417      79.442 -305242.975"
      ]
     },
     "execution_count": 33,
     "metadata": {},
     "output_type": "execute_result"
    }
   ],
   "source": [
    "# mpr의 마지막 10행을 출력합니다.\n",
    "mpr.tail(n = 10)"
   ]
  },
  {
   "cell_type": "markdown",
   "id": "1b46c7be",
   "metadata": {},
   "source": [
    "### 특정 수산물품목에 대한 국가별 수출단가 계산"
   ]
  },
  {
   "cell_type": "code",
   "execution_count": 34,
   "id": "3f6b5957",
   "metadata": {},
   "outputs": [],
   "source": [
    "# 아래 조건을 만족하는 피벗 테이블을 itm에 할당합니다.\n",
    "# [힌트] pd.pivot_table() 함수를 사용하세요.\n",
    "# 데이터(data)는 sfd에서 특정 조건을 만족하는 행을 지정하세요.\n",
    "# 값(values)은 grand와 weight를 리스트로 지정하세요.\n",
    "# 행이름(index)은 nation, 집계함수는 np.sum을 지정하세요.\n",
    "itm = pd.pivot_table(\n",
    "    data = sfd[sfd['mpritm'].eq('김') & sfd['imxprt'].eq('수출')], \n",
    "    values = ['grand', 'weight'], \n",
    "    index = 'nation', \n",
    "    aggfunc = np.sum\n",
    ")"
   ]
  },
  {
   "cell_type": "code",
   "execution_count": 35,
   "id": "7358c38c",
   "metadata": {},
   "outputs": [
    {
     "data": {
      "text/html": [
       "<div>\n",
       "<style scoped>\n",
       "    .dataframe tbody tr th:only-of-type {\n",
       "        vertical-align: middle;\n",
       "    }\n",
       "\n",
       "    .dataframe tbody tr th {\n",
       "        vertical-align: top;\n",
       "    }\n",
       "\n",
       "    .dataframe thead th {\n",
       "        text-align: right;\n",
       "    }\n",
       "</style>\n",
       "<table border=\"1\" class=\"dataframe\">\n",
       "  <thead>\n",
       "    <tr style=\"text-align: right;\">\n",
       "      <th></th>\n",
       "      <th>grand</th>\n",
       "      <th>weight</th>\n",
       "    </tr>\n",
       "    <tr>\n",
       "      <th>nation</th>\n",
       "      <th></th>\n",
       "      <th></th>\n",
       "    </tr>\n",
       "  </thead>\n",
       "  <tbody>\n",
       "    <tr>\n",
       "      <th>가나</th>\n",
       "      <td>0.336</td>\n",
       "      <td>32.000</td>\n",
       "    </tr>\n",
       "    <tr>\n",
       "      <th>과테말라</th>\n",
       "      <td>71.627</td>\n",
       "      <td>5388.050</td>\n",
       "    </tr>\n",
       "    <tr>\n",
       "      <th>괌</th>\n",
       "      <td>228.435</td>\n",
       "      <td>9863.141</td>\n",
       "    </tr>\n",
       "    <tr>\n",
       "      <th>그리스</th>\n",
       "      <td>174.915</td>\n",
       "      <td>6312.100</td>\n",
       "    </tr>\n",
       "    <tr>\n",
       "      <th>나이지리아</th>\n",
       "      <td>2.108</td>\n",
       "      <td>129.900</td>\n",
       "    </tr>\n",
       "  </tbody>\n",
       "</table>\n",
       "</div>"
      ],
      "text/plain": [
       "          grand    weight\n",
       "nation                   \n",
       "가나        0.336    32.000\n",
       "과테말라     71.627  5388.050\n",
       "괌       228.435  9863.141\n",
       "그리스     174.915  6312.100\n",
       "나이지리아     2.108   129.900"
      ]
     },
     "execution_count": 35,
     "metadata": {},
     "output_type": "execute_result"
    }
   ],
   "source": [
    "# itm의 처음 5행을 출력합니다.\n",
    "itm.head()"
   ]
  },
  {
   "cell_type": "code",
   "execution_count": 36,
   "id": "b17a5b6b",
   "metadata": {},
   "outputs": [
    {
     "data": {
      "text/plain": [
       "114"
      ]
     },
     "execution_count": 36,
     "metadata": {},
     "output_type": "execute_result"
    }
   ],
   "source": [
    "# itm의 행 개수를 출력합니다.\n",
    "itm.shape[0]"
   ]
  },
  {
   "cell_type": "code",
   "execution_count": 37,
   "id": "79b035fc",
   "metadata": {},
   "outputs": [
    {
     "data": {
      "text/plain": [
       "grand     0\n",
       "weight    0\n",
       "dtype: int64"
      ]
     },
     "execution_count": 37,
     "metadata": {},
     "output_type": "execute_result"
    }
   ],
   "source": [
    "# itm의 열별 결측값 개수를 확인합니다.\n",
    "itm.isna().sum()"
   ]
  },
  {
   "cell_type": "code",
   "execution_count": 38,
   "id": "e85d7527",
   "metadata": {},
   "outputs": [],
   "source": [
    "# itm의 열이름을 변경합니다.\n",
    "itm.columns = ['금액', '중량']"
   ]
  },
  {
   "cell_type": "code",
   "execution_count": 39,
   "id": "7407c707",
   "metadata": {},
   "outputs": [],
   "source": [
    "# 금액을 중량으로 나눈 값에 1000을 곱한 수출단가(달러)를 생성합니다.\n",
    "itm['수출단가'] = itm['금액'] / itm['중량'] * 1000"
   ]
  },
  {
   "cell_type": "code",
   "execution_count": 40,
   "id": "dffc61eb",
   "metadata": {},
   "outputs": [],
   "source": [
    "# itm을 수출단가로 내림차순 정렬하고 itm에 재할당합니다.\n",
    "# [힌트] sort_values() 함수를 사용하세요.\n",
    "itm = itm.sort_values(by = ['수출단가'], ascending = False)"
   ]
  },
  {
   "cell_type": "code",
   "execution_count": 41,
   "id": "9434843c",
   "metadata": {},
   "outputs": [
    {
     "data": {
      "text/html": [
       "<div>\n",
       "<style scoped>\n",
       "    .dataframe tbody tr th:only-of-type {\n",
       "        vertical-align: middle;\n",
       "    }\n",
       "\n",
       "    .dataframe tbody tr th {\n",
       "        vertical-align: top;\n",
       "    }\n",
       "\n",
       "    .dataframe thead th {\n",
       "        text-align: right;\n",
       "    }\n",
       "</style>\n",
       "<table border=\"1\" class=\"dataframe\">\n",
       "  <thead>\n",
       "    <tr style=\"text-align: right;\">\n",
       "      <th></th>\n",
       "      <th>금액</th>\n",
       "      <th>중량</th>\n",
       "      <th>수출단가</th>\n",
       "    </tr>\n",
       "    <tr>\n",
       "      <th>nation</th>\n",
       "      <th></th>\n",
       "      <th></th>\n",
       "      <th></th>\n",
       "    </tr>\n",
       "  </thead>\n",
       "  <tbody>\n",
       "    <tr>\n",
       "      <th>부탄</th>\n",
       "      <td>22.730</td>\n",
       "      <td>121.04</td>\n",
       "      <td>187.789161</td>\n",
       "    </tr>\n",
       "    <tr>\n",
       "      <th>니카라과</th>\n",
       "      <td>7.713</td>\n",
       "      <td>75.00</td>\n",
       "      <td>102.840000</td>\n",
       "    </tr>\n",
       "    <tr>\n",
       "      <th>파키스탄</th>\n",
       "      <td>35.162</td>\n",
       "      <td>556.92</td>\n",
       "      <td>63.136537</td>\n",
       "    </tr>\n",
       "    <tr>\n",
       "      <th>모로코</th>\n",
       "      <td>1.660</td>\n",
       "      <td>29.70</td>\n",
       "      <td>55.892256</td>\n",
       "    </tr>\n",
       "    <tr>\n",
       "      <th>루마니아</th>\n",
       "      <td>28.034</td>\n",
       "      <td>550.00</td>\n",
       "      <td>50.970909</td>\n",
       "    </tr>\n",
       "    <tr>\n",
       "      <th>방글라데시</th>\n",
       "      <td>14.966</td>\n",
       "      <td>299.72</td>\n",
       "      <td>49.933271</td>\n",
       "    </tr>\n",
       "    <tr>\n",
       "      <th>바레인</th>\n",
       "      <td>28.146</td>\n",
       "      <td>631.01</td>\n",
       "      <td>44.604681</td>\n",
       "    </tr>\n",
       "    <tr>\n",
       "      <th>이집트</th>\n",
       "      <td>18.297</td>\n",
       "      <td>413.60</td>\n",
       "      <td>44.238395</td>\n",
       "    </tr>\n",
       "    <tr>\n",
       "      <th>룩셈부르크</th>\n",
       "      <td>0.371</td>\n",
       "      <td>8.48</td>\n",
       "      <td>43.750000</td>\n",
       "    </tr>\n",
       "    <tr>\n",
       "      <th>도미니카공화국</th>\n",
       "      <td>6.845</td>\n",
       "      <td>159.26</td>\n",
       "      <td>42.980033</td>\n",
       "    </tr>\n",
       "  </tbody>\n",
       "</table>\n",
       "</div>"
      ],
      "text/plain": [
       "             금액      중량        수출단가\n",
       "nation                             \n",
       "부탄       22.730  121.04  187.789161\n",
       "니카라과      7.713   75.00  102.840000\n",
       "파키스탄     35.162  556.92   63.136537\n",
       "모로코       1.660   29.70   55.892256\n",
       "루마니아     28.034  550.00   50.970909\n",
       "방글라데시    14.966  299.72   49.933271\n",
       "바레인      28.146  631.01   44.604681\n",
       "이집트      18.297  413.60   44.238395\n",
       "룩셈부르크     0.371    8.48   43.750000\n",
       "도미니카공화국   6.845  159.26   42.980033"
      ]
     },
     "execution_count": 41,
     "metadata": {},
     "output_type": "execute_result"
    }
   ],
   "source": [
    "# itm의 처음 10행을 출력합니다.\n",
    "itm.head(n = 10)"
   ]
  },
  {
   "cell_type": "code",
   "execution_count": 42,
   "id": "5bbcaa7f",
   "metadata": {},
   "outputs": [
    {
     "data": {
      "text/html": [
       "<div>\n",
       "<style scoped>\n",
       "    .dataframe tbody tr th:only-of-type {\n",
       "        vertical-align: middle;\n",
       "    }\n",
       "\n",
       "    .dataframe tbody tr th {\n",
       "        vertical-align: top;\n",
       "    }\n",
       "\n",
       "    .dataframe thead th {\n",
       "        text-align: right;\n",
       "    }\n",
       "</style>\n",
       "<table border=\"1\" class=\"dataframe\">\n",
       "  <thead>\n",
       "    <tr style=\"text-align: right;\">\n",
       "      <th></th>\n",
       "      <th>금액</th>\n",
       "      <th>중량</th>\n",
       "      <th>수출단가</th>\n",
       "    </tr>\n",
       "    <tr>\n",
       "      <th>nation</th>\n",
       "      <th></th>\n",
       "      <th></th>\n",
       "      <th></th>\n",
       "    </tr>\n",
       "  </thead>\n",
       "  <tbody>\n",
       "    <tr>\n",
       "      <th>브루나이</th>\n",
       "      <td>65.897</td>\n",
       "      <td>5915.94</td>\n",
       "      <td>11.138889</td>\n",
       "    </tr>\n",
       "    <tr>\n",
       "      <th>가나</th>\n",
       "      <td>0.336</td>\n",
       "      <td>32.00</td>\n",
       "      <td>10.500000</td>\n",
       "    </tr>\n",
       "    <tr>\n",
       "      <th>마다가스카르</th>\n",
       "      <td>2.931</td>\n",
       "      <td>365.00</td>\n",
       "      <td>8.030137</td>\n",
       "    </tr>\n",
       "    <tr>\n",
       "      <th>마카오</th>\n",
       "      <td>3.877</td>\n",
       "      <td>487.00</td>\n",
       "      <td>7.960986</td>\n",
       "    </tr>\n",
       "    <tr>\n",
       "      <th>잠비아</th>\n",
       "      <td>0.389</td>\n",
       "      <td>52.60</td>\n",
       "      <td>7.395437</td>\n",
       "    </tr>\n",
       "    <tr>\n",
       "      <th>팔라우</th>\n",
       "      <td>13.461</td>\n",
       "      <td>2641.18</td>\n",
       "      <td>5.096586</td>\n",
       "    </tr>\n",
       "    <tr>\n",
       "      <th>튀니지</th>\n",
       "      <td>0.432</td>\n",
       "      <td>91.40</td>\n",
       "      <td>4.726477</td>\n",
       "    </tr>\n",
       "    <tr>\n",
       "      <th>세네갈</th>\n",
       "      <td>0.154</td>\n",
       "      <td>46.00</td>\n",
       "      <td>3.347826</td>\n",
       "    </tr>\n",
       "    <tr>\n",
       "      <th>우간다</th>\n",
       "      <td>0.550</td>\n",
       "      <td>560.00</td>\n",
       "      <td>0.982143</td>\n",
       "    </tr>\n",
       "    <tr>\n",
       "      <th>수단</th>\n",
       "      <td>0.038</td>\n",
       "      <td>100.00</td>\n",
       "      <td>0.380000</td>\n",
       "    </tr>\n",
       "  </tbody>\n",
       "</table>\n",
       "</div>"
      ],
      "text/plain": [
       "            금액       중량       수출단가\n",
       "nation                            \n",
       "브루나이    65.897  5915.94  11.138889\n",
       "가나       0.336    32.00  10.500000\n",
       "마다가스카르   2.931   365.00   8.030137\n",
       "마카오      3.877   487.00   7.960986\n",
       "잠비아      0.389    52.60   7.395437\n",
       "팔라우     13.461  2641.18   5.096586\n",
       "튀니지      0.432    91.40   4.726477\n",
       "세네갈      0.154    46.00   3.347826\n",
       "우간다      0.550   560.00   0.982143\n",
       "수단       0.038   100.00   0.380000"
      ]
     },
     "execution_count": 42,
     "metadata": {},
     "output_type": "execute_result"
    }
   ],
   "source": [
    "# itm의 마지막 10행을 출력합니다.\n",
    "itm.tail(n = 10)"
   ]
  },
  {
   "cell_type": "markdown",
   "id": "36f90f2a",
   "metadata": {},
   "source": [
    "### 국가별 수출입금액을 합산하고 무역수지 계산"
   ]
  },
  {
   "cell_type": "code",
   "execution_count": 43,
   "id": "03ff7157",
   "metadata": {},
   "outputs": [],
   "source": [
    "# 아래 조건을 만족하는 피벗 테이블을 pvt에 할당합니다.\n",
    "# [힌트] pd.pivot_table() 함수를 사용하세요.\n",
    "# 데이터(data)는 sfd, 값(values)은 grand, 행이름(index)은 nation, \n",
    "# 열이름(columns)은 imxprt, 집계함수는 np.sum을 지정하세요.\n",
    "pvt = pd.pivot_table(\n",
    "    data = sfd, \n",
    "    values = 'grand', \n",
    "    index = 'nation', \n",
    "    columns = 'imxprt', \n",
    "    aggfunc = np.sum\n",
    ")"
   ]
  },
  {
   "cell_type": "code",
   "execution_count": 44,
   "id": "3d73d02b",
   "metadata": {},
   "outputs": [
    {
     "data": {
      "text/html": [
       "<div>\n",
       "<style scoped>\n",
       "    .dataframe tbody tr th:only-of-type {\n",
       "        vertical-align: middle;\n",
       "    }\n",
       "\n",
       "    .dataframe tbody tr th {\n",
       "        vertical-align: top;\n",
       "    }\n",
       "\n",
       "    .dataframe thead th {\n",
       "        text-align: right;\n",
       "    }\n",
       "</style>\n",
       "<table border=\"1\" class=\"dataframe\">\n",
       "  <thead>\n",
       "    <tr style=\"text-align: right;\">\n",
       "      <th>imxprt</th>\n",
       "      <th>수입</th>\n",
       "      <th>수출</th>\n",
       "    </tr>\n",
       "    <tr>\n",
       "      <th>nation</th>\n",
       "      <th></th>\n",
       "      <th></th>\n",
       "    </tr>\n",
       "  </thead>\n",
       "  <tbody>\n",
       "    <tr>\n",
       "      <th>가나</th>\n",
       "      <td>1847.987</td>\n",
       "      <td>8088.674</td>\n",
       "    </tr>\n",
       "    <tr>\n",
       "      <th>가봉</th>\n",
       "      <td>0.026</td>\n",
       "      <td>NaN</td>\n",
       "    </tr>\n",
       "    <tr>\n",
       "      <th>가이아나</th>\n",
       "      <td>17.290</td>\n",
       "      <td>0.036</td>\n",
       "    </tr>\n",
       "    <tr>\n",
       "      <th>감비아</th>\n",
       "      <td>2065.081</td>\n",
       "      <td>NaN</td>\n",
       "    </tr>\n",
       "    <tr>\n",
       "      <th>과테말라</th>\n",
       "      <td>NaN</td>\n",
       "      <td>131.373</td>\n",
       "    </tr>\n",
       "  </tbody>\n",
       "</table>\n",
       "</div>"
      ],
      "text/plain": [
       "imxprt        수입        수출\n",
       "nation                    \n",
       "가나      1847.987  8088.674\n",
       "가봉         0.026       NaN\n",
       "가이아나      17.290     0.036\n",
       "감비아     2065.081       NaN\n",
       "과테말라         NaN   131.373"
      ]
     },
     "execution_count": 44,
     "metadata": {},
     "output_type": "execute_result"
    }
   ],
   "source": [
    "# pvt의 처음 5행을 출력합니다.\n",
    "pvt.head()"
   ]
  },
  {
   "cell_type": "code",
   "execution_count": 45,
   "id": "2f9ca474",
   "metadata": {},
   "outputs": [
    {
     "data": {
      "text/plain": [
       "165"
      ]
     },
     "execution_count": 45,
     "metadata": {},
     "output_type": "execute_result"
    }
   ],
   "source": [
    "# pvt의 행 개수를 출력합니다.\n",
    "pvt.shape[0]"
   ]
  },
  {
   "cell_type": "code",
   "execution_count": 46,
   "id": "a6d01e11",
   "metadata": {},
   "outputs": [
    {
     "data": {
      "text/plain": [
       "imxprt\n",
       "수입    31\n",
       "수출    20\n",
       "dtype: int64"
      ]
     },
     "execution_count": 46,
     "metadata": {},
     "output_type": "execute_result"
    }
   ],
   "source": [
    "# pvt의 열별 결측값 개수를 확인합니다.\n",
    "pvt.isna().sum()"
   ]
  },
  {
   "cell_type": "code",
   "execution_count": 47,
   "id": "75d9bdf1",
   "metadata": {},
   "outputs": [],
   "source": [
    "# pvt에 있는 결측값을 0으로 대체하고 pvt에 재할당합니다.\n",
    "# [힌트] fillna() 함수를 사용하세요.\n",
    "pvt = pvt.fillna(value = 0)"
   ]
  },
  {
   "cell_type": "code",
   "execution_count": 48,
   "id": "86700d15",
   "metadata": {},
   "outputs": [],
   "source": [
    "# 수출에서 수입을 뺀 무역수지를 생성합니다.\n",
    "pvt['무역수지'] = pvt['수출'] - pvt['수입']"
   ]
  },
  {
   "cell_type": "code",
   "execution_count": 49,
   "id": "5d9ca547",
   "metadata": {},
   "outputs": [],
   "source": [
    "# pvt를 무역수지로 내림차순 정렬하고 pvt에 재할당합니다.\n",
    "# [힌트] sort_values() 함수를 사용하세요.\n",
    "pvt = pvt.sort_values(by = ['무역수지'], ascending = False)"
   ]
  },
  {
   "cell_type": "code",
   "execution_count": 50,
   "id": "b8366a66",
   "metadata": {},
   "outputs": [
    {
     "data": {
      "text/html": [
       "<div>\n",
       "<style scoped>\n",
       "    .dataframe tbody tr th:only-of-type {\n",
       "        vertical-align: middle;\n",
       "    }\n",
       "\n",
       "    .dataframe tbody tr th {\n",
       "        vertical-align: top;\n",
       "    }\n",
       "\n",
       "    .dataframe thead th {\n",
       "        text-align: right;\n",
       "    }\n",
       "</style>\n",
       "<table border=\"1\" class=\"dataframe\">\n",
       "  <thead>\n",
       "    <tr style=\"text-align: right;\">\n",
       "      <th>imxprt</th>\n",
       "      <th>수입</th>\n",
       "      <th>수출</th>\n",
       "      <th>무역수지</th>\n",
       "    </tr>\n",
       "    <tr>\n",
       "      <th>nation</th>\n",
       "      <th></th>\n",
       "      <th></th>\n",
       "      <th></th>\n",
       "    </tr>\n",
       "  </thead>\n",
       "  <tbody>\n",
       "    <tr>\n",
       "      <th>일본</th>\n",
       "      <td>170243.592</td>\n",
       "      <td>634750.935</td>\n",
       "      <td>464507.343</td>\n",
       "    </tr>\n",
       "    <tr>\n",
       "      <th>미국</th>\n",
       "      <td>250113.606</td>\n",
       "      <td>394052.534</td>\n",
       "      <td>143938.928</td>\n",
       "    </tr>\n",
       "    <tr>\n",
       "      <th>프랑스</th>\n",
       "      <td>34315.325</td>\n",
       "      <td>66501.431</td>\n",
       "      <td>32186.106</td>\n",
       "    </tr>\n",
       "    <tr>\n",
       "      <th>이탈리아</th>\n",
       "      <td>25683.273</td>\n",
       "      <td>52960.489</td>\n",
       "      <td>27277.216</td>\n",
       "    </tr>\n",
       "    <tr>\n",
       "      <th>독일</th>\n",
       "      <td>1263.392</td>\n",
       "      <td>27185.831</td>\n",
       "      <td>25922.439</td>\n",
       "    </tr>\n",
       "  </tbody>\n",
       "</table>\n",
       "</div>"
      ],
      "text/plain": [
       "imxprt          수입          수출        무역수지\n",
       "nation                                    \n",
       "일본      170243.592  634750.935  464507.343\n",
       "미국      250113.606  394052.534  143938.928\n",
       "프랑스      34315.325   66501.431   32186.106\n",
       "이탈리아     25683.273   52960.489   27277.216\n",
       "독일        1263.392   27185.831   25922.439"
      ]
     },
     "execution_count": 50,
     "metadata": {},
     "output_type": "execute_result"
    }
   ],
   "source": [
    "# pvt의 처음 5행을 출력합니다.\n",
    "pvt.head()"
   ]
  },
  {
   "cell_type": "code",
   "execution_count": 51,
   "id": "f128fd7e",
   "metadata": {},
   "outputs": [
    {
     "data": {
      "text/plain": [
       "Index(['일본', '미국', '프랑스', '이탈리아', '독일', '홍콩', '싱가포르', '네덜란드', '필리핀', '미령사모아',\n",
       "       ...\n",
       "       '아르헨티나', '대만', '캐나다', '인도', '칠레', '페루', '중국', '노르웨이', '베트남', '러시아'],\n",
       "      dtype='object', name='nation', length=165)"
      ]
     },
     "execution_count": 51,
     "metadata": {},
     "output_type": "execute_result"
    }
   ],
   "source": [
    "# pvt의 행이름을 출력합니다.\n",
    "# [힌트] index 속성을 사용하세요.\n",
    "pvt.index"
   ]
  },
  {
   "cell_type": "code",
   "execution_count": 52,
   "id": "0b09f03c",
   "metadata": {},
   "outputs": [],
   "source": [
    "# pvt의 행이름 네임을 '국가'로 변경합니다.\n",
    "# [힌트] index.name 속성을 사용하세요.\n",
    "pvt.index.name = '국가'"
   ]
  },
  {
   "cell_type": "code",
   "execution_count": 53,
   "id": "0213f0d7",
   "metadata": {},
   "outputs": [
    {
     "data": {
      "text/plain": [
       "Index(['수입', '수출', '무역수지'], dtype='object', name='imxprt')"
      ]
     },
     "execution_count": 53,
     "metadata": {},
     "output_type": "execute_result"
    }
   ],
   "source": [
    "# pvt의 열이름을 출력합니다.\n",
    "# [힌트] columns 속성을 사용하세요.\n",
    "pvt.columns"
   ]
  },
  {
   "cell_type": "code",
   "execution_count": 54,
   "id": "1715518a",
   "metadata": {},
   "outputs": [],
   "source": [
    "# pvt의 열이름 네임을 삭제합니다.\n",
    "# [힌트] columns.name 속성을 사용하세요.\n",
    "# [참고] None을 할당하면 객체를 삭제합니다.\n",
    "pvt.columns.name = None"
   ]
  },
  {
   "cell_type": "code",
   "execution_count": 55,
   "id": "556fda6c",
   "metadata": {},
   "outputs": [
    {
     "data": {
      "text/html": [
       "<div>\n",
       "<style scoped>\n",
       "    .dataframe tbody tr th:only-of-type {\n",
       "        vertical-align: middle;\n",
       "    }\n",
       "\n",
       "    .dataframe tbody tr th {\n",
       "        vertical-align: top;\n",
       "    }\n",
       "\n",
       "    .dataframe thead th {\n",
       "        text-align: right;\n",
       "    }\n",
       "</style>\n",
       "<table border=\"1\" class=\"dataframe\">\n",
       "  <thead>\n",
       "    <tr style=\"text-align: right;\">\n",
       "      <th></th>\n",
       "      <th>수입</th>\n",
       "      <th>수출</th>\n",
       "      <th>무역수지</th>\n",
       "    </tr>\n",
       "    <tr>\n",
       "      <th>국가</th>\n",
       "      <th></th>\n",
       "      <th></th>\n",
       "      <th></th>\n",
       "    </tr>\n",
       "  </thead>\n",
       "  <tbody>\n",
       "    <tr>\n",
       "      <th>일본</th>\n",
       "      <td>170243.592</td>\n",
       "      <td>634750.935</td>\n",
       "      <td>464507.343</td>\n",
       "    </tr>\n",
       "    <tr>\n",
       "      <th>미국</th>\n",
       "      <td>250113.606</td>\n",
       "      <td>394052.534</td>\n",
       "      <td>143938.928</td>\n",
       "    </tr>\n",
       "    <tr>\n",
       "      <th>프랑스</th>\n",
       "      <td>34315.325</td>\n",
       "      <td>66501.431</td>\n",
       "      <td>32186.106</td>\n",
       "    </tr>\n",
       "    <tr>\n",
       "      <th>이탈리아</th>\n",
       "      <td>25683.273</td>\n",
       "      <td>52960.489</td>\n",
       "      <td>27277.216</td>\n",
       "    </tr>\n",
       "    <tr>\n",
       "      <th>독일</th>\n",
       "      <td>1263.392</td>\n",
       "      <td>27185.831</td>\n",
       "      <td>25922.439</td>\n",
       "    </tr>\n",
       "  </tbody>\n",
       "</table>\n",
       "</div>"
      ],
      "text/plain": [
       "              수입          수출        무역수지\n",
       "국가                                      \n",
       "일본    170243.592  634750.935  464507.343\n",
       "미국    250113.606  394052.534  143938.928\n",
       "프랑스    34315.325   66501.431   32186.106\n",
       "이탈리아   25683.273   52960.489   27277.216\n",
       "독일      1263.392   27185.831   25922.439"
      ]
     },
     "execution_count": 55,
     "metadata": {},
     "output_type": "execute_result"
    }
   ],
   "source": [
    "# pvt의 처음 5행을 출력합니다.\n",
    "pvt.head()"
   ]
  },
  {
   "cell_type": "code",
   "execution_count": 56,
   "id": "65f3a7fc",
   "metadata": {
    "scrolled": false
   },
   "outputs": [
    {
     "data": {
      "text/html": [
       "<div>\n",
       "<style scoped>\n",
       "    .dataframe tbody tr th:only-of-type {\n",
       "        vertical-align: middle;\n",
       "    }\n",
       "\n",
       "    .dataframe tbody tr th {\n",
       "        vertical-align: top;\n",
       "    }\n",
       "\n",
       "    .dataframe thead th {\n",
       "        text-align: right;\n",
       "    }\n",
       "</style>\n",
       "<table border=\"1\" class=\"dataframe\">\n",
       "  <thead>\n",
       "    <tr style=\"text-align: right;\">\n",
       "      <th></th>\n",
       "      <th>국가</th>\n",
       "      <th>수입</th>\n",
       "      <th>수출</th>\n",
       "      <th>무역수지</th>\n",
       "    </tr>\n",
       "  </thead>\n",
       "  <tbody>\n",
       "    <tr>\n",
       "      <th>0</th>\n",
       "      <td>일본</td>\n",
       "      <td>170243.592</td>\n",
       "      <td>634750.935</td>\n",
       "      <td>464507.343</td>\n",
       "    </tr>\n",
       "    <tr>\n",
       "      <th>1</th>\n",
       "      <td>미국</td>\n",
       "      <td>250113.606</td>\n",
       "      <td>394052.534</td>\n",
       "      <td>143938.928</td>\n",
       "    </tr>\n",
       "    <tr>\n",
       "      <th>2</th>\n",
       "      <td>프랑스</td>\n",
       "      <td>34315.325</td>\n",
       "      <td>66501.431</td>\n",
       "      <td>32186.106</td>\n",
       "    </tr>\n",
       "    <tr>\n",
       "      <th>3</th>\n",
       "      <td>이탈리아</td>\n",
       "      <td>25683.273</td>\n",
       "      <td>52960.489</td>\n",
       "      <td>27277.216</td>\n",
       "    </tr>\n",
       "    <tr>\n",
       "      <th>4</th>\n",
       "      <td>독일</td>\n",
       "      <td>1263.392</td>\n",
       "      <td>27185.831</td>\n",
       "      <td>25922.439</td>\n",
       "    </tr>\n",
       "    <tr>\n",
       "      <th>...</th>\n",
       "      <td>...</td>\n",
       "      <td>...</td>\n",
       "      <td>...</td>\n",
       "      <td>...</td>\n",
       "    </tr>\n",
       "    <tr>\n",
       "      <th>160</th>\n",
       "      <td>페루</td>\n",
       "      <td>165384.173</td>\n",
       "      <td>2708.109</td>\n",
       "      <td>-162676.064</td>\n",
       "    </tr>\n",
       "    <tr>\n",
       "      <th>161</th>\n",
       "      <td>중국</td>\n",
       "      <td>1300449.248</td>\n",
       "      <td>726488.682</td>\n",
       "      <td>-573960.566</td>\n",
       "    </tr>\n",
       "    <tr>\n",
       "      <th>162</th>\n",
       "      <td>노르웨이</td>\n",
       "      <td>575973.581</td>\n",
       "      <td>1884.646</td>\n",
       "      <td>-574088.935</td>\n",
       "    </tr>\n",
       "    <tr>\n",
       "      <th>163</th>\n",
       "      <td>베트남</td>\n",
       "      <td>808388.014</td>\n",
       "      <td>177117.491</td>\n",
       "      <td>-631270.523</td>\n",
       "    </tr>\n",
       "    <tr>\n",
       "      <th>164</th>\n",
       "      <td>러시아</td>\n",
       "      <td>1219825.619</td>\n",
       "      <td>53475.703</td>\n",
       "      <td>-1166349.916</td>\n",
       "    </tr>\n",
       "  </tbody>\n",
       "</table>\n",
       "<p>165 rows × 4 columns</p>\n",
       "</div>"
      ],
      "text/plain": [
       "       국가           수입          수출         무역수지\n",
       "0      일본   170243.592  634750.935   464507.343\n",
       "1      미국   250113.606  394052.534   143938.928\n",
       "2     프랑스    34315.325   66501.431    32186.106\n",
       "3    이탈리아    25683.273   52960.489    27277.216\n",
       "4      독일     1263.392   27185.831    25922.439\n",
       "..    ...          ...         ...          ...\n",
       "160    페루   165384.173    2708.109  -162676.064\n",
       "161    중국  1300449.248  726488.682  -573960.566\n",
       "162  노르웨이   575973.581    1884.646  -574088.935\n",
       "163   베트남   808388.014  177117.491  -631270.523\n",
       "164   러시아  1219825.619   53475.703 -1166349.916\n",
       "\n",
       "[165 rows x 4 columns]"
      ]
     },
     "execution_count": 56,
     "metadata": {},
     "output_type": "execute_result"
    }
   ],
   "source": [
    "# pvt의 행이름을 초기화한 결과를 출력합니다.\n",
    "# [힌트] reset_index() 함수를 사용하세요.\n",
    "# [참고] 기존 행이름을 맨 처음 열로 추가합니다.\n",
    "# [참고] drop = True를 추가하면 기존 행이름을 삭제합니다.\n",
    "pvt.reset_index()"
   ]
  },
  {
   "cell_type": "code",
   "execution_count": 57,
   "id": "6291f48f",
   "metadata": {},
   "outputs": [],
   "source": [
    "# pvt의 행이름을 초기화하고 pvt에 재할당합니다.\n",
    "pvt = pvt.reset_index()"
   ]
  },
  {
   "cell_type": "code",
   "execution_count": 58,
   "id": "5ff82669",
   "metadata": {},
   "outputs": [
    {
     "data": {
      "text/html": [
       "<div>\n",
       "<style scoped>\n",
       "    .dataframe tbody tr th:only-of-type {\n",
       "        vertical-align: middle;\n",
       "    }\n",
       "\n",
       "    .dataframe tbody tr th {\n",
       "        vertical-align: top;\n",
       "    }\n",
       "\n",
       "    .dataframe thead th {\n",
       "        text-align: right;\n",
       "    }\n",
       "</style>\n",
       "<table border=\"1\" class=\"dataframe\">\n",
       "  <thead>\n",
       "    <tr style=\"text-align: right;\">\n",
       "      <th></th>\n",
       "      <th>국가</th>\n",
       "      <th>수입</th>\n",
       "      <th>수출</th>\n",
       "      <th>무역수지</th>\n",
       "    </tr>\n",
       "  </thead>\n",
       "  <tbody>\n",
       "    <tr>\n",
       "      <th>0</th>\n",
       "      <td>일본</td>\n",
       "      <td>170243.592</td>\n",
       "      <td>634750.935</td>\n",
       "      <td>464507.343</td>\n",
       "    </tr>\n",
       "    <tr>\n",
       "      <th>1</th>\n",
       "      <td>미국</td>\n",
       "      <td>250113.606</td>\n",
       "      <td>394052.534</td>\n",
       "      <td>143938.928</td>\n",
       "    </tr>\n",
       "    <tr>\n",
       "      <th>2</th>\n",
       "      <td>프랑스</td>\n",
       "      <td>34315.325</td>\n",
       "      <td>66501.431</td>\n",
       "      <td>32186.106</td>\n",
       "    </tr>\n",
       "    <tr>\n",
       "      <th>3</th>\n",
       "      <td>이탈리아</td>\n",
       "      <td>25683.273</td>\n",
       "      <td>52960.489</td>\n",
       "      <td>27277.216</td>\n",
       "    </tr>\n",
       "    <tr>\n",
       "      <th>4</th>\n",
       "      <td>독일</td>\n",
       "      <td>1263.392</td>\n",
       "      <td>27185.831</td>\n",
       "      <td>25922.439</td>\n",
       "    </tr>\n",
       "    <tr>\n",
       "      <th>5</th>\n",
       "      <td>홍콩</td>\n",
       "      <td>32389.424</td>\n",
       "      <td>54539.763</td>\n",
       "      <td>22150.339</td>\n",
       "    </tr>\n",
       "    <tr>\n",
       "      <th>6</th>\n",
       "      <td>싱가포르</td>\n",
       "      <td>2593.154</td>\n",
       "      <td>21322.274</td>\n",
       "      <td>18729.120</td>\n",
       "    </tr>\n",
       "    <tr>\n",
       "      <th>7</th>\n",
       "      <td>네덜란드</td>\n",
       "      <td>5373.894</td>\n",
       "      <td>19642.801</td>\n",
       "      <td>14268.907</td>\n",
       "    </tr>\n",
       "    <tr>\n",
       "      <th>8</th>\n",
       "      <td>필리핀</td>\n",
       "      <td>29771.506</td>\n",
       "      <td>37645.066</td>\n",
       "      <td>7873.560</td>\n",
       "    </tr>\n",
       "    <tr>\n",
       "      <th>9</th>\n",
       "      <td>미령사모아</td>\n",
       "      <td>811.309</td>\n",
       "      <td>8649.957</td>\n",
       "      <td>7838.648</td>\n",
       "    </tr>\n",
       "  </tbody>\n",
       "</table>\n",
       "</div>"
      ],
      "text/plain": [
       "      국가          수입          수출        무역수지\n",
       "0     일본  170243.592  634750.935  464507.343\n",
       "1     미국  250113.606  394052.534  143938.928\n",
       "2    프랑스   34315.325   66501.431   32186.106\n",
       "3   이탈리아   25683.273   52960.489   27277.216\n",
       "4     독일    1263.392   27185.831   25922.439\n",
       "5     홍콩   32389.424   54539.763   22150.339\n",
       "6   싱가포르    2593.154   21322.274   18729.120\n",
       "7   네덜란드    5373.894   19642.801   14268.907\n",
       "8    필리핀   29771.506   37645.066    7873.560\n",
       "9  미령사모아     811.309    8649.957    7838.648"
      ]
     },
     "execution_count": 58,
     "metadata": {},
     "output_type": "execute_result"
    }
   ],
   "source": [
    "# pvt의 처음 10행을 출력합니다.(무역수지 흑자 국가)\n",
    "pvt.head(n = 10)"
   ]
  },
  {
   "cell_type": "code",
   "execution_count": 59,
   "id": "ee9b7ad0",
   "metadata": {
    "scrolled": true
   },
   "outputs": [
    {
     "data": {
      "text/html": [
       "<div>\n",
       "<style scoped>\n",
       "    .dataframe tbody tr th:only-of-type {\n",
       "        vertical-align: middle;\n",
       "    }\n",
       "\n",
       "    .dataframe tbody tr th {\n",
       "        vertical-align: top;\n",
       "    }\n",
       "\n",
       "    .dataframe thead th {\n",
       "        text-align: right;\n",
       "    }\n",
       "</style>\n",
       "<table border=\"1\" class=\"dataframe\">\n",
       "  <thead>\n",
       "    <tr style=\"text-align: right;\">\n",
       "      <th></th>\n",
       "      <th>국가</th>\n",
       "      <th>수입</th>\n",
       "      <th>수출</th>\n",
       "      <th>무역수지</th>\n",
       "    </tr>\n",
       "  </thead>\n",
       "  <tbody>\n",
       "    <tr>\n",
       "      <th>155</th>\n",
       "      <td>아르헨티나</td>\n",
       "      <td>69720.069</td>\n",
       "      <td>53.530</td>\n",
       "      <td>-69666.539</td>\n",
       "    </tr>\n",
       "    <tr>\n",
       "      <th>156</th>\n",
       "      <td>대만</td>\n",
       "      <td>129664.240</td>\n",
       "      <td>58164.339</td>\n",
       "      <td>-71499.901</td>\n",
       "    </tr>\n",
       "    <tr>\n",
       "      <th>157</th>\n",
       "      <td>캐나다</td>\n",
       "      <td>113857.715</td>\n",
       "      <td>41894.865</td>\n",
       "      <td>-71962.850</td>\n",
       "    </tr>\n",
       "    <tr>\n",
       "      <th>158</th>\n",
       "      <td>인도</td>\n",
       "      <td>106905.400</td>\n",
       "      <td>686.292</td>\n",
       "      <td>-106219.108</td>\n",
       "    </tr>\n",
       "    <tr>\n",
       "      <th>159</th>\n",
       "      <td>칠레</td>\n",
       "      <td>119811.899</td>\n",
       "      <td>1426.241</td>\n",
       "      <td>-118385.658</td>\n",
       "    </tr>\n",
       "    <tr>\n",
       "      <th>160</th>\n",
       "      <td>페루</td>\n",
       "      <td>165384.173</td>\n",
       "      <td>2708.109</td>\n",
       "      <td>-162676.064</td>\n",
       "    </tr>\n",
       "    <tr>\n",
       "      <th>161</th>\n",
       "      <td>중국</td>\n",
       "      <td>1300449.248</td>\n",
       "      <td>726488.682</td>\n",
       "      <td>-573960.566</td>\n",
       "    </tr>\n",
       "    <tr>\n",
       "      <th>162</th>\n",
       "      <td>노르웨이</td>\n",
       "      <td>575973.581</td>\n",
       "      <td>1884.646</td>\n",
       "      <td>-574088.935</td>\n",
       "    </tr>\n",
       "    <tr>\n",
       "      <th>163</th>\n",
       "      <td>베트남</td>\n",
       "      <td>808388.014</td>\n",
       "      <td>177117.491</td>\n",
       "      <td>-631270.523</td>\n",
       "    </tr>\n",
       "    <tr>\n",
       "      <th>164</th>\n",
       "      <td>러시아</td>\n",
       "      <td>1219825.619</td>\n",
       "      <td>53475.703</td>\n",
       "      <td>-1166349.916</td>\n",
       "    </tr>\n",
       "  </tbody>\n",
       "</table>\n",
       "</div>"
      ],
      "text/plain": [
       "        국가           수입          수출         무역수지\n",
       "155  아르헨티나    69720.069      53.530   -69666.539\n",
       "156     대만   129664.240   58164.339   -71499.901\n",
       "157    캐나다   113857.715   41894.865   -71962.850\n",
       "158     인도   106905.400     686.292  -106219.108\n",
       "159     칠레   119811.899    1426.241  -118385.658\n",
       "160     페루   165384.173    2708.109  -162676.064\n",
       "161     중국  1300449.248  726488.682  -573960.566\n",
       "162   노르웨이   575973.581    1884.646  -574088.935\n",
       "163    베트남   808388.014  177117.491  -631270.523\n",
       "164    러시아  1219825.619   53475.703 -1166349.916"
      ]
     },
     "execution_count": 59,
     "metadata": {},
     "output_type": "execute_result"
    }
   ],
   "source": [
    "# pvt의 마지막 10행을 출력합니다.(무역수지 적자 국가)\n",
    "pvt.tail(n = 10)"
   ]
  },
  {
   "cell_type": "markdown",
   "id": "79d7600a",
   "metadata": {},
   "source": [
    "## 데이터 병합"
   ]
  },
  {
   "cell_type": "markdown",
   "id": "3e7fe721",
   "metadata": {},
   "source": [
    "### 실습 데이터셋 안내\n",
    "\n",
    "- 2021년 전세계 국가별 1인당 국민총소득입니다.\n",
    "  - 출처: 통계청 KOSIS > 국제통계 > 주제별 통계 > 국민계정 > 1인당 국민총소득<br><br>\n",
    "\n",
    "- 변수(열)에 대한 간단한 설명입니다.\n",
    "  - nation: 국가명\n",
    "  - gdp_2019: 2019년 1인당 국민총소득\n",
    "  - gdp_2020: 2020년 1인당 국민총소득\n",
    "  - gdp_2021: 2021년 1인당 국민총소득<br><br>\n",
    "\n",
    "- 실습 데이터인 csv 파일을 아래 링크로 제공합니다.\n",
    "  - https://bit.ly/GDP_Per_Capita_2021_UTF8\n",
    "  - 구분자는 콤마(,)이고 인코딩방식은 UTF-8입니다."
   ]
  },
  {
   "cell_type": "code",
   "execution_count": 60,
   "id": "6fe1815a",
   "metadata": {},
   "outputs": [],
   "source": [
    "# 온라인으로 공유 중인 csv 파일 주소를 변수에 할당합니다.\n",
    "url = 'https://bit.ly/GDP_Per_Capita_2021_UTF8'"
   ]
  },
  {
   "cell_type": "code",
   "execution_count": 61,
   "id": "7e8b9ecc",
   "metadata": {},
   "outputs": [],
   "source": [
    "# 링크에 있는 텍스트를 내려받습니다.(HTTP Requests)\n",
    "res = requests.get(url = url)"
   ]
  },
  {
   "cell_type": "code",
   "execution_count": 62,
   "id": "a1cd67d5",
   "metadata": {},
   "outputs": [
    {
     "data": {
      "text/plain": [
       "b'\"nation\",\"gdp_2019\",\"gdp_2020\",\"gdp_2021\"\\n\"\\xec\\x95\\x84\\xed\\x94\\x84\\xea\\xb0\\x80\\xeb\\x8b\\x88\\xec\\x8a\\xa4\\xed\\x83\\x84\",520,\"500\",\"-\"\\n\"\\xec\\x95\\x84\\xeb\\xa5\\xb4\\xeb\\xa9\\x94\\xeb\\x8b\\x88\\xec\\x95\\x84\",4660,\"4220\",\"4560\"\\n\"\\xec\\x95\\x84\\xec\\xa0\\x9c\\xeb\\xa5\\xb4\\xeb\\xb0\\x94\\xec\\x9d\\xb4\\xec\\x9e\\x94\",4510,\"4480\",\"4880\"\\n\"\\xeb\\xb0\\x94\\xeb\\xa0\\x88\\xec\\x9d\\xb8\",22230,\"19930\",\"-\"\\n\"\\xeb\\xb0\\xa9\\xea\\xb8\\x80\\xeb\\x9d\\xbc\\xeb\\x8d\\xb0\\xec\\x8b\\x9c'"
      ]
     },
     "execution_count": 62,
     "metadata": {},
     "output_type": "execute_result"
    }
   ],
   "source": [
    "# res에서 바이너리 텍스트의 일부를 출력합니다.\n",
    "res.content[:200]"
   ]
  },
  {
   "cell_type": "code",
   "execution_count": 63,
   "id": "602a5f72",
   "metadata": {},
   "outputs": [
    {
     "data": {
      "text/plain": [
       "{'encoding': 'utf-8', 'confidence': 0.99, 'language': ''}"
      ]
     },
     "execution_count": 63,
     "metadata": {},
     "output_type": "execute_result"
    }
   ],
   "source": [
    "# 바이너리 텍스트의 인코딩 방식을 확인합니다.\n",
    "chardet.detect(res.content[:200])"
   ]
  },
  {
   "cell_type": "code",
   "execution_count": 64,
   "id": "36992419",
   "metadata": {},
   "outputs": [],
   "source": [
    "# 링크를 읽고 데이터프레임 gdp를 생성합니다.\n",
    "# [참고] 인코딩 방식이 UTF-8이면 encoding 매개변수를 생략할 수 있습니다.\n",
    "gdp = pd.read_csv(filepath_or_buffer = url, encoding = 'UTF-8')"
   ]
  },
  {
   "cell_type": "code",
   "execution_count": 65,
   "id": "cca9c451",
   "metadata": {},
   "outputs": [
    {
     "name": "stdout",
     "output_type": "stream",
     "text": [
      "<class 'pandas.core.frame.DataFrame'>\n",
      "RangeIndex: 193 entries, 0 to 192\n",
      "Data columns (total 4 columns):\n",
      " #   Column    Non-Null Count  Dtype \n",
      "---  ------    --------------  ----- \n",
      " 0   nation    193 non-null    object\n",
      " 1   gdp_2019  193 non-null    int64 \n",
      " 2   gdp_2020  193 non-null    object\n",
      " 3   gdp_2021  193 non-null    object\n",
      "dtypes: int64(1), object(3)\n",
      "memory usage: 6.2+ KB\n"
     ]
    }
   ],
   "source": [
    "# gdp의 정보를 확인합니다.\n",
    "gdp.info()"
   ]
  },
  {
   "cell_type": "code",
   "execution_count": 66,
   "id": "76ee7267",
   "metadata": {},
   "outputs": [
    {
     "data": {
      "text/html": [
       "<div>\n",
       "<style scoped>\n",
       "    .dataframe tbody tr th:only-of-type {\n",
       "        vertical-align: middle;\n",
       "    }\n",
       "\n",
       "    .dataframe tbody tr th {\n",
       "        vertical-align: top;\n",
       "    }\n",
       "\n",
       "    .dataframe thead th {\n",
       "        text-align: right;\n",
       "    }\n",
       "</style>\n",
       "<table border=\"1\" class=\"dataframe\">\n",
       "  <thead>\n",
       "    <tr style=\"text-align: right;\">\n",
       "      <th></th>\n",
       "      <th>nation</th>\n",
       "      <th>gdp_2019</th>\n",
       "      <th>gdp_2020</th>\n",
       "      <th>gdp_2021</th>\n",
       "    </tr>\n",
       "  </thead>\n",
       "  <tbody>\n",
       "    <tr>\n",
       "      <th>0</th>\n",
       "      <td>아프가니스탄</td>\n",
       "      <td>520</td>\n",
       "      <td>500</td>\n",
       "      <td>-</td>\n",
       "    </tr>\n",
       "    <tr>\n",
       "      <th>1</th>\n",
       "      <td>아르메니아</td>\n",
       "      <td>4660</td>\n",
       "      <td>4220</td>\n",
       "      <td>4560</td>\n",
       "    </tr>\n",
       "    <tr>\n",
       "      <th>2</th>\n",
       "      <td>아제르바이잔</td>\n",
       "      <td>4510</td>\n",
       "      <td>4480</td>\n",
       "      <td>4880</td>\n",
       "    </tr>\n",
       "    <tr>\n",
       "      <th>3</th>\n",
       "      <td>바레인</td>\n",
       "      <td>22230</td>\n",
       "      <td>19930</td>\n",
       "      <td>-</td>\n",
       "    </tr>\n",
       "    <tr>\n",
       "      <th>4</th>\n",
       "      <td>방글라데시</td>\n",
       "      <td>2250</td>\n",
       "      <td>2340</td>\n",
       "      <td>2620</td>\n",
       "    </tr>\n",
       "  </tbody>\n",
       "</table>\n",
       "</div>"
      ],
      "text/plain": [
       "   nation  gdp_2019 gdp_2020 gdp_2021\n",
       "0  아프가니스탄       520      500        -\n",
       "1   아르메니아      4660     4220     4560\n",
       "2  아제르바이잔      4510     4480     4880\n",
       "3     바레인     22230    19930        -\n",
       "4   방글라데시      2250     2340     2620"
      ]
     },
     "execution_count": 66,
     "metadata": {},
     "output_type": "execute_result"
    }
   ],
   "source": [
    "# gdp의 처음 5행을 출력합니다.\n",
    "gdp.head()"
   ]
  },
  {
   "cell_type": "code",
   "execution_count": 67,
   "id": "f9e0fd0c",
   "metadata": {},
   "outputs": [
    {
     "data": {
      "text/plain": [
       "Index(['nation', 'gdp_2019', 'gdp_2020', 'gdp_2021'], dtype='object')"
      ]
     },
     "execution_count": 67,
     "metadata": {},
     "output_type": "execute_result"
    }
   ],
   "source": [
    "# gdp의 열이름을 출력합니다.\n",
    "gdp.columns"
   ]
  },
  {
   "cell_type": "code",
   "execution_count": 68,
   "id": "afbc28d3",
   "metadata": {},
   "outputs": [],
   "source": [
    "# gdp에서 일부 열을 삭제합니다.\n",
    "# [힌트] drop() 함수를 사용하세요.\n",
    "gdp = gdp.drop(columns = ['gdp_2019', 'gdp_2020'])"
   ]
  },
  {
   "cell_type": "code",
   "execution_count": 69,
   "id": "921daa3e",
   "metadata": {},
   "outputs": [
    {
     "data": {
      "text/html": [
       "<div>\n",
       "<style scoped>\n",
       "    .dataframe tbody tr th:only-of-type {\n",
       "        vertical-align: middle;\n",
       "    }\n",
       "\n",
       "    .dataframe tbody tr th {\n",
       "        vertical-align: top;\n",
       "    }\n",
       "\n",
       "    .dataframe thead th {\n",
       "        text-align: right;\n",
       "    }\n",
       "</style>\n",
       "<table border=\"1\" class=\"dataframe\">\n",
       "  <thead>\n",
       "    <tr style=\"text-align: right;\">\n",
       "      <th></th>\n",
       "      <th>nation</th>\n",
       "      <th>gdp_2021</th>\n",
       "    </tr>\n",
       "  </thead>\n",
       "  <tbody>\n",
       "    <tr>\n",
       "      <th>188</th>\n",
       "      <td>사모아</td>\n",
       "      <td>3860</td>\n",
       "    </tr>\n",
       "    <tr>\n",
       "      <th>189</th>\n",
       "      <td>솔로몬제도</td>\n",
       "      <td>2300</td>\n",
       "    </tr>\n",
       "    <tr>\n",
       "      <th>190</th>\n",
       "      <td>통가</td>\n",
       "      <td>-</td>\n",
       "    </tr>\n",
       "    <tr>\n",
       "      <th>191</th>\n",
       "      <td>투발루</td>\n",
       "      <td>6760</td>\n",
       "    </tr>\n",
       "    <tr>\n",
       "      <th>192</th>\n",
       "      <td>바누아투</td>\n",
       "      <td>3140</td>\n",
       "    </tr>\n",
       "  </tbody>\n",
       "</table>\n",
       "</div>"
      ],
      "text/plain": [
       "    nation gdp_2021\n",
       "188    사모아     3860\n",
       "189  솔로몬제도     2300\n",
       "190     통가        -\n",
       "191    투발루     6760\n",
       "192   바누아투     3140"
      ]
     },
     "execution_count": 69,
     "metadata": {},
     "output_type": "execute_result"
    }
   ],
   "source": [
    "# gdp의 마지막 5행을 출력합니다.\n",
    "gdp.tail()"
   ]
  },
  {
   "cell_type": "code",
   "execution_count": 70,
   "id": "b4d9591d",
   "metadata": {},
   "outputs": [],
   "source": [
    "# gdp_2021의 원소가 '-'이면 결측값(np.nan)으로 변경합니다.\n",
    "# [힌트] np.where()와 eq() 함수를 사용하세요.\n",
    "gdp['gdp_2021'] = np.where(gdp['gdp_2021'].eq('-'), np.nan, gdp['gdp_2021'])"
   ]
  },
  {
   "cell_type": "code",
   "execution_count": 71,
   "id": "a135af72",
   "metadata": {},
   "outputs": [
    {
     "data": {
      "text/plain": [
       "nation       0\n",
       "gdp_2021    21\n",
       "dtype: int64"
      ]
     },
     "execution_count": 71,
     "metadata": {},
     "output_type": "execute_result"
    }
   ],
   "source": [
    "# gdp의 열별 결측값 개수를 확인합니다.\n",
    "# [힌트] isna()와 sum() 함수를 사용하세요.\n",
    "gdp.isna().sum()"
   ]
  },
  {
   "cell_type": "code",
   "execution_count": 72,
   "id": "b194d91e",
   "metadata": {},
   "outputs": [
    {
     "name": "stdout",
     "output_type": "stream",
     "text": [
      "<class 'pandas.core.frame.DataFrame'>\n",
      "RangeIndex: 193 entries, 0 to 192\n",
      "Data columns (total 2 columns):\n",
      " #   Column    Non-Null Count  Dtype \n",
      "---  ------    --------------  ----- \n",
      " 0   nation    193 non-null    object\n",
      " 1   gdp_2021  172 non-null    object\n",
      "dtypes: object(2)\n",
      "memory usage: 3.1+ KB\n"
     ]
    }
   ],
   "source": [
    "# gdp의 정보를 확인합니다.\n",
    "gdp.info()"
   ]
  },
  {
   "cell_type": "code",
   "execution_count": 73,
   "id": "3e359a6f",
   "metadata": {},
   "outputs": [
    {
     "data": {
      "text/html": [
       "<div>\n",
       "<style scoped>\n",
       "    .dataframe tbody tr th:only-of-type {\n",
       "        vertical-align: middle;\n",
       "    }\n",
       "\n",
       "    .dataframe tbody tr th {\n",
       "        vertical-align: top;\n",
       "    }\n",
       "\n",
       "    .dataframe thead th {\n",
       "        text-align: right;\n",
       "    }\n",
       "</style>\n",
       "<table border=\"1\" class=\"dataframe\">\n",
       "  <thead>\n",
       "    <tr style=\"text-align: right;\">\n",
       "      <th></th>\n",
       "      <th>nation</th>\n",
       "      <th>gdp_2021</th>\n",
       "    </tr>\n",
       "  </thead>\n",
       "  <tbody>\n",
       "    <tr>\n",
       "      <th>0</th>\n",
       "      <td>아프가니스탄</td>\n",
       "      <td>NaN</td>\n",
       "    </tr>\n",
       "    <tr>\n",
       "      <th>1</th>\n",
       "      <td>아르메니아</td>\n",
       "      <td>4560</td>\n",
       "    </tr>\n",
       "    <tr>\n",
       "      <th>2</th>\n",
       "      <td>아제르바이잔</td>\n",
       "      <td>4880</td>\n",
       "    </tr>\n",
       "    <tr>\n",
       "      <th>3</th>\n",
       "      <td>바레인</td>\n",
       "      <td>NaN</td>\n",
       "    </tr>\n",
       "    <tr>\n",
       "      <th>4</th>\n",
       "      <td>방글라데시</td>\n",
       "      <td>2620</td>\n",
       "    </tr>\n",
       "  </tbody>\n",
       "</table>\n",
       "</div>"
      ],
      "text/plain": [
       "   nation gdp_2021\n",
       "0  아프가니스탄      NaN\n",
       "1   아르메니아     4560\n",
       "2  아제르바이잔     4880\n",
       "3     바레인      NaN\n",
       "4   방글라데시     2620"
      ]
     },
     "execution_count": 73,
     "metadata": {},
     "output_type": "execute_result"
    }
   ],
   "source": [
    "# gdp의 처음 5행을 출력합니다.\n",
    "gdp.head()"
   ]
  },
  {
   "cell_type": "code",
   "execution_count": 74,
   "id": "f45db904",
   "metadata": {},
   "outputs": [],
   "source": [
    "# gdp에서 결측값이 있는 행을 삭제합니다.\n",
    "gdp = gdp.dropna()"
   ]
  },
  {
   "cell_type": "code",
   "execution_count": 75,
   "id": "f4fc0802",
   "metadata": {},
   "outputs": [
    {
     "data": {
      "text/plain": [
       "172"
      ]
     },
     "execution_count": 75,
     "metadata": {},
     "output_type": "execute_result"
    }
   ],
   "source": [
    "# gdp의 행 개수를 출력합니다.\n",
    "# [힌트] shape 속성 결과에 0번 인덱스 원소를 선택하세요.\n",
    "gdp.shape[0]"
   ]
  },
  {
   "cell_type": "code",
   "execution_count": 76,
   "id": "b6f43eff",
   "metadata": {},
   "outputs": [],
   "source": [
    "# gdp_2021의 자료형을 정수로 변환합니다.\n",
    "gdp['gdp_2021'] = gdp['gdp_2021'].astype(int)"
   ]
  },
  {
   "cell_type": "code",
   "execution_count": 77,
   "id": "16c9f393",
   "metadata": {},
   "outputs": [
    {
     "data": {
      "text/plain": [
       "nation      object\n",
       "gdp_2021     int64\n",
       "dtype: object"
      ]
     },
     "execution_count": 77,
     "metadata": {},
     "output_type": "execute_result"
    }
   ],
   "source": [
    "# gdp의 열별 자료형을 확인합니다.\n",
    "gdp.dtypes"
   ]
  },
  {
   "cell_type": "markdown",
   "id": "99a8eedd",
   "metadata": {},
   "source": [
    "### 데이터 병합\n",
    "\n",
    "두 데이터프레임을 좌우로 병합할 때 기준이 되는 열을 외래키라고 합니다.<br>\n",
    "두 외래키에서 일치하는 원소가 없으면 병합했을 때 행 개수가 0일 수 있습니다.<br>\n",
    "병합 방법은 내부병합, 외부병합, 왼쪽병합 등이 있습니다.<br>\n",
    "실습 데이터셋 오른쪽에 새로운 열을 추가할 때 왼쪽병합을 주로 사용합니다."
   ]
  },
  {
   "cell_type": "code",
   "execution_count": 78,
   "id": "8a55b848",
   "metadata": {
    "scrolled": true
   },
   "outputs": [
    {
     "data": {
      "text/plain": [
       "{'괌',\n",
       " '그린란드',\n",
       " '기타국',\n",
       " '네덜란드령 안틸레스',\n",
       " '누벨칼레도니',\n",
       " '니우에',\n",
       " '대만',\n",
       " '룩셈부르크',\n",
       " '마카오',\n",
       " '미령사모아',\n",
       " '바레인',\n",
       " '베네수엘라',\n",
       " '부탄',\n",
       " '북마리아나제도',\n",
       " '브루나이',\n",
       " '사우디아라비아',\n",
       " '아랍에미리트',\n",
       " '예멘',\n",
       " '오만',\n",
       " '이란',\n",
       " '쿠웨이트',\n",
       " '키리바시',\n",
       " '통가',\n",
       " '팔라우',\n",
       " '페로제도',\n",
       " '포클랜드제도',\n",
       " '푸에르토리코',\n",
       " '프랑스령 폴리네시아'}"
      ]
     },
     "execution_count": 78,
     "metadata": {},
     "output_type": "execute_result"
    }
   ],
   "source": [
    "# 왼쪽 외래키에는 있지만 오른쪽 외래키에 없는 원소를 확인합니다.\n",
    "# [힌트] set() 함수를 사용하여 시리즈를 집합으로 변환하세요.\n",
    "# 두 집합으로 차집합을 실행하세요.\n",
    "set(pvt['국가']) - set(gdp['nation'])"
   ]
  },
  {
   "cell_type": "code",
   "execution_count": 79,
   "id": "13820258",
   "metadata": {},
   "outputs": [
    {
     "data": {
      "text/html": [
       "<div>\n",
       "<style scoped>\n",
       "    .dataframe tbody tr th:only-of-type {\n",
       "        vertical-align: middle;\n",
       "    }\n",
       "\n",
       "    .dataframe tbody tr th {\n",
       "        vertical-align: top;\n",
       "    }\n",
       "\n",
       "    .dataframe thead th {\n",
       "        text-align: right;\n",
       "    }\n",
       "</style>\n",
       "<table border=\"1\" class=\"dataframe\">\n",
       "  <thead>\n",
       "    <tr style=\"text-align: right;\">\n",
       "      <th></th>\n",
       "      <th>국가</th>\n",
       "      <th>수입</th>\n",
       "      <th>수출</th>\n",
       "      <th>무역수지</th>\n",
       "      <th>nation</th>\n",
       "      <th>gdp_2021</th>\n",
       "    </tr>\n",
       "  </thead>\n",
       "  <tbody>\n",
       "    <tr>\n",
       "      <th>0</th>\n",
       "      <td>일본</td>\n",
       "      <td>170243.592</td>\n",
       "      <td>634750.935</td>\n",
       "      <td>464507.343</td>\n",
       "      <td>일본</td>\n",
       "      <td>42620.0</td>\n",
       "    </tr>\n",
       "    <tr>\n",
       "      <th>1</th>\n",
       "      <td>미국</td>\n",
       "      <td>250113.606</td>\n",
       "      <td>394052.534</td>\n",
       "      <td>143938.928</td>\n",
       "      <td>미국</td>\n",
       "      <td>70430.0</td>\n",
       "    </tr>\n",
       "    <tr>\n",
       "      <th>2</th>\n",
       "      <td>프랑스</td>\n",
       "      <td>34315.325</td>\n",
       "      <td>66501.431</td>\n",
       "      <td>32186.106</td>\n",
       "      <td>프랑스</td>\n",
       "      <td>43880.0</td>\n",
       "    </tr>\n",
       "    <tr>\n",
       "      <th>3</th>\n",
       "      <td>이탈리아</td>\n",
       "      <td>25683.273</td>\n",
       "      <td>52960.489</td>\n",
       "      <td>27277.216</td>\n",
       "      <td>이탈리아</td>\n",
       "      <td>35710.0</td>\n",
       "    </tr>\n",
       "    <tr>\n",
       "      <th>4</th>\n",
       "      <td>독일</td>\n",
       "      <td>1263.392</td>\n",
       "      <td>27185.831</td>\n",
       "      <td>25922.439</td>\n",
       "      <td>독일</td>\n",
       "      <td>51040.0</td>\n",
       "    </tr>\n",
       "    <tr>\n",
       "      <th>...</th>\n",
       "      <td>...</td>\n",
       "      <td>...</td>\n",
       "      <td>...</td>\n",
       "      <td>...</td>\n",
       "      <td>...</td>\n",
       "      <td>...</td>\n",
       "    </tr>\n",
       "    <tr>\n",
       "      <th>160</th>\n",
       "      <td>페루</td>\n",
       "      <td>165384.173</td>\n",
       "      <td>2708.109</td>\n",
       "      <td>-162676.064</td>\n",
       "      <td>페루</td>\n",
       "      <td>6520.0</td>\n",
       "    </tr>\n",
       "    <tr>\n",
       "      <th>161</th>\n",
       "      <td>중국</td>\n",
       "      <td>1300449.248</td>\n",
       "      <td>726488.682</td>\n",
       "      <td>-573960.566</td>\n",
       "      <td>중국</td>\n",
       "      <td>11890.0</td>\n",
       "    </tr>\n",
       "    <tr>\n",
       "      <th>162</th>\n",
       "      <td>노르웨이</td>\n",
       "      <td>575973.581</td>\n",
       "      <td>1884.646</td>\n",
       "      <td>-574088.935</td>\n",
       "      <td>노르웨이</td>\n",
       "      <td>84090.0</td>\n",
       "    </tr>\n",
       "    <tr>\n",
       "      <th>163</th>\n",
       "      <td>베트남</td>\n",
       "      <td>808388.014</td>\n",
       "      <td>177117.491</td>\n",
       "      <td>-631270.523</td>\n",
       "      <td>베트남</td>\n",
       "      <td>3560.0</td>\n",
       "    </tr>\n",
       "    <tr>\n",
       "      <th>164</th>\n",
       "      <td>러시아</td>\n",
       "      <td>1219825.619</td>\n",
       "      <td>53475.703</td>\n",
       "      <td>-1166349.916</td>\n",
       "      <td>러시아</td>\n",
       "      <td>11600.0</td>\n",
       "    </tr>\n",
       "  </tbody>\n",
       "</table>\n",
       "<p>165 rows × 6 columns</p>\n",
       "</div>"
      ],
      "text/plain": [
       "       국가           수입          수출         무역수지 nation  gdp_2021\n",
       "0      일본   170243.592  634750.935   464507.343     일본   42620.0\n",
       "1      미국   250113.606  394052.534   143938.928     미국   70430.0\n",
       "2     프랑스    34315.325   66501.431    32186.106    프랑스   43880.0\n",
       "3    이탈리아    25683.273   52960.489    27277.216   이탈리아   35710.0\n",
       "4      독일     1263.392   27185.831    25922.439     독일   51040.0\n",
       "..    ...          ...         ...          ...    ...       ...\n",
       "160    페루   165384.173    2708.109  -162676.064     페루    6520.0\n",
       "161    중국  1300449.248  726488.682  -573960.566     중국   11890.0\n",
       "162  노르웨이   575973.581    1884.646  -574088.935   노르웨이   84090.0\n",
       "163   베트남   808388.014  177117.491  -631270.523    베트남    3560.0\n",
       "164   러시아  1219825.619   53475.703 -1166349.916    러시아   11600.0\n",
       "\n",
       "[165 rows x 6 columns]"
      ]
     },
     "execution_count": 79,
     "metadata": {},
     "output_type": "execute_result"
    }
   ],
   "source": [
    "# pvt와 gdp를 왼쪽병합합니다.\n",
    "# [힌트] pd.merge() 함수를 사용하세요.\n",
    "# 왼쪽병합은 how 매개변수에 'left'를 지정합니다.\n",
    "# 외래키는 on 매개변수에 열이름을 문자열로 지정합니다.\n",
    "# [참고] 외래키 열이름이 다르면 left_on, right_on 매개변수에 각각 지정해야 합니다.\n",
    "pd.merge(left = pvt, right = gdp, how = 'left', left_on = '국가', right_on = 'nation')"
   ]
  },
  {
   "cell_type": "code",
   "execution_count": 80,
   "id": "5fe3f348",
   "metadata": {},
   "outputs": [],
   "source": [
    "# gdp의 열이름을 변경합니다.\n",
    "# [힌트] rename() 함수를 사용하세요.\n",
    "gdp = gdp.rename(columns = {'nation': '국가', 'gdp_2021': '국민소득'})"
   ]
  },
  {
   "cell_type": "code",
   "execution_count": 81,
   "id": "7a811a29",
   "metadata": {},
   "outputs": [],
   "source": [
    "# pvt와 gdp를 왼쪽병합하고 mgd에 할당합니다.\n",
    "mgd = pd.merge(left = pvt, right = gdp, how = 'left', on = '국가')"
   ]
  },
  {
   "cell_type": "code",
   "execution_count": 82,
   "id": "ad10ccf3",
   "metadata": {},
   "outputs": [
    {
     "name": "stdout",
     "output_type": "stream",
     "text": [
      "<class 'pandas.core.frame.DataFrame'>\n",
      "Int64Index: 165 entries, 0 to 164\n",
      "Data columns (total 5 columns):\n",
      " #   Column  Non-Null Count  Dtype  \n",
      "---  ------  --------------  -----  \n",
      " 0   국가      165 non-null    object \n",
      " 1   수입      165 non-null    float64\n",
      " 2   수출      165 non-null    float64\n",
      " 3   무역수지    165 non-null    float64\n",
      " 4   국민소득    137 non-null    float64\n",
      "dtypes: float64(4), object(1)\n",
      "memory usage: 7.7+ KB\n"
     ]
    }
   ],
   "source": [
    "# mgd의 정보를 확인합니다.\n",
    "mgd.info()"
   ]
  },
  {
   "cell_type": "code",
   "execution_count": 83,
   "id": "0b54ff0a",
   "metadata": {},
   "outputs": [
    {
     "data": {
      "text/html": [
       "<div>\n",
       "<style scoped>\n",
       "    .dataframe tbody tr th:only-of-type {\n",
       "        vertical-align: middle;\n",
       "    }\n",
       "\n",
       "    .dataframe tbody tr th {\n",
       "        vertical-align: top;\n",
       "    }\n",
       "\n",
       "    .dataframe thead th {\n",
       "        text-align: right;\n",
       "    }\n",
       "</style>\n",
       "<table border=\"1\" class=\"dataframe\">\n",
       "  <thead>\n",
       "    <tr style=\"text-align: right;\">\n",
       "      <th></th>\n",
       "      <th>국가</th>\n",
       "      <th>수입</th>\n",
       "      <th>수출</th>\n",
       "      <th>무역수지</th>\n",
       "      <th>국민소득</th>\n",
       "    </tr>\n",
       "  </thead>\n",
       "  <tbody>\n",
       "    <tr>\n",
       "      <th>0</th>\n",
       "      <td>일본</td>\n",
       "      <td>170243.592</td>\n",
       "      <td>634750.935</td>\n",
       "      <td>464507.343</td>\n",
       "      <td>42620.0</td>\n",
       "    </tr>\n",
       "    <tr>\n",
       "      <th>1</th>\n",
       "      <td>미국</td>\n",
       "      <td>250113.606</td>\n",
       "      <td>394052.534</td>\n",
       "      <td>143938.928</td>\n",
       "      <td>70430.0</td>\n",
       "    </tr>\n",
       "    <tr>\n",
       "      <th>2</th>\n",
       "      <td>프랑스</td>\n",
       "      <td>34315.325</td>\n",
       "      <td>66501.431</td>\n",
       "      <td>32186.106</td>\n",
       "      <td>43880.0</td>\n",
       "    </tr>\n",
       "    <tr>\n",
       "      <th>3</th>\n",
       "      <td>이탈리아</td>\n",
       "      <td>25683.273</td>\n",
       "      <td>52960.489</td>\n",
       "      <td>27277.216</td>\n",
       "      <td>35710.0</td>\n",
       "    </tr>\n",
       "    <tr>\n",
       "      <th>4</th>\n",
       "      <td>독일</td>\n",
       "      <td>1263.392</td>\n",
       "      <td>27185.831</td>\n",
       "      <td>25922.439</td>\n",
       "      <td>51040.0</td>\n",
       "    </tr>\n",
       "  </tbody>\n",
       "</table>\n",
       "</div>"
      ],
      "text/plain": [
       "     국가          수입          수출        무역수지     국민소득\n",
       "0    일본  170243.592  634750.935  464507.343  42620.0\n",
       "1    미국  250113.606  394052.534  143938.928  70430.0\n",
       "2   프랑스   34315.325   66501.431   32186.106  43880.0\n",
       "3  이탈리아   25683.273   52960.489   27277.216  35710.0\n",
       "4    독일    1263.392   27185.831   25922.439  51040.0"
      ]
     },
     "execution_count": 83,
     "metadata": {},
     "output_type": "execute_result"
    }
   ],
   "source": [
    "# mgd의 처음 5행을 출력합니다.\n",
    "mgd.head()"
   ]
  },
  {
   "cell_type": "markdown",
   "id": "50f91cc3",
   "metadata": {},
   "source": [
    "### 연속형 변수의 구간화(binning)\n",
    "\n",
    "연속형 변수를 기준에 따라 범주형으로 변환하는 것을 구간화(binning)라고 합니다.<br>\n",
    "구간화는 이상치와 비선형 문제를 해결하고, 결측값을 쉽게 처리할 수 있습니다.<br>\n",
    "범주가 2개면 np.where(), 3개 이상이면 np.seelct() 함수를 사용하는 것이 좋습니다."
   ]
  },
  {
   "cell_type": "code",
   "execution_count": 84,
   "id": "9c59908e",
   "metadata": {},
   "outputs": [
    {
     "data": {
      "text/plain": [
       "count      137.000000\n",
       "mean     15546.423358\n",
       "std      20658.408477\n",
       "min        450.000000\n",
       "25%       2300.000000\n",
       "50%       6130.000000\n",
       "75%      17740.000000\n",
       "max      90360.000000\n",
       "Name: 국민소득, dtype: float64"
      ]
     },
     "execution_count": 84,
     "metadata": {},
     "output_type": "execute_result"
    }
   ],
   "source": [
    "# 국민소득의 기술통계량을 확인합니다.\n",
    "# [힌트] describe() 함수를 사용하세요.\n",
    "mgd['국민소득'].describe()"
   ]
  },
  {
   "cell_type": "code",
   "execution_count": 85,
   "id": "842e8b3e",
   "metadata": {},
   "outputs": [],
   "source": [
    "# 국민소득이 23,000 달러 이상이면 '선진국', 6,500 ~ 23000 달러 미만이면 '신흥국', \n",
    "# 6,500 달러 미만이면 '개도국'인 원소를 갖는 국가등급 열을 생성합니다.\n",
    "# [힌트] np.select() 함수를 사용하세요.\n",
    "# condlist 매개변수에 조건, choicelist 매개변수에 원소를 리스트로 지정합니다.\n",
    "mgd['국가등급'] = np.select(\n",
    "    condlist = [mgd['국민소득'].ge(23000),\n",
    "                mgd['국민소득'].ge(10000),\n",
    "                mgd['국민소득'].lt(10000),\n",
    "                mgd['국민소득'].isna()],\n",
    "    choicelist = ['선진국', '신흥국', '개도국', '없음']\n",
    ")"
   ]
  },
  {
   "cell_type": "code",
   "execution_count": 86,
   "id": "adabccfc",
   "metadata": {},
   "outputs": [
    {
     "data": {
      "text/plain": [
       "개도국    87\n",
       "선진국    30\n",
       "없음     28\n",
       "신흥국    20\n",
       "Name: 국가등급, dtype: int64"
      ]
     },
     "execution_count": 86,
     "metadata": {},
     "output_type": "execute_result"
    }
   ],
   "source": [
    "# 국가등급의 원소별 빈도수를 확인합니다.\n",
    "# [힌트] value_counts() 함수를 사용하세요.\n",
    "mgd['국가등급'].value_counts()"
   ]
  },
  {
   "cell_type": "code",
   "execution_count": 87,
   "id": "4dd99e94",
   "metadata": {},
   "outputs": [
    {
     "data": {
      "text/plain": [
       "개도국    0.527273\n",
       "선진국    0.181818\n",
       "없음     0.169697\n",
       "신흥국    0.121212\n",
       "Name: 국가등급, dtype: float64"
      ]
     },
     "execution_count": 87,
     "metadata": {},
     "output_type": "execute_result"
    }
   ],
   "source": [
    "# 국가등급의 원소별 상대도수를 확인합니다.\n",
    "# [힌트] value_counts() 함수에 normalize 매개변수를 추가하세요.\n",
    "mgd['국가등급'].value_counts(normalize = True)"
   ]
  },
  {
   "cell_type": "code",
   "execution_count": 88,
   "id": "320dc8f2",
   "metadata": {
    "scrolled": false
   },
   "outputs": [
    {
     "data": {
      "text/html": [
       "<div>\n",
       "<style scoped>\n",
       "    .dataframe tbody tr th:only-of-type {\n",
       "        vertical-align: middle;\n",
       "    }\n",
       "\n",
       "    .dataframe tbody tr th {\n",
       "        vertical-align: top;\n",
       "    }\n",
       "\n",
       "    .dataframe thead th {\n",
       "        text-align: right;\n",
       "    }\n",
       "</style>\n",
       "<table border=\"1\" class=\"dataframe\">\n",
       "  <thead>\n",
       "    <tr style=\"text-align: right;\">\n",
       "      <th></th>\n",
       "      <th>국가</th>\n",
       "      <th>수입</th>\n",
       "      <th>수출</th>\n",
       "      <th>무역수지</th>\n",
       "      <th>국민소득</th>\n",
       "      <th>국가등급</th>\n",
       "    </tr>\n",
       "  </thead>\n",
       "  <tbody>\n",
       "    <tr>\n",
       "      <th>9</th>\n",
       "      <td>미령사모아</td>\n",
       "      <td>811.309</td>\n",
       "      <td>8649.957</td>\n",
       "      <td>7838.648</td>\n",
       "      <td>NaN</td>\n",
       "      <td>없음</td>\n",
       "    </tr>\n",
       "    <tr>\n",
       "      <th>23</th>\n",
       "      <td>아랍에미리트</td>\n",
       "      <td>550.097</td>\n",
       "      <td>2275.399</td>\n",
       "      <td>1725.302</td>\n",
       "      <td>NaN</td>\n",
       "      <td>없음</td>\n",
       "    </tr>\n",
       "    <tr>\n",
       "      <th>29</th>\n",
       "      <td>괌</td>\n",
       "      <td>0.248</td>\n",
       "      <td>1157.706</td>\n",
       "      <td>1157.458</td>\n",
       "      <td>NaN</td>\n",
       "      <td>없음</td>\n",
       "    </tr>\n",
       "    <tr>\n",
       "      <th>34</th>\n",
       "      <td>북마리아나제도</td>\n",
       "      <td>0.000</td>\n",
       "      <td>614.004</td>\n",
       "      <td>614.004</td>\n",
       "      <td>NaN</td>\n",
       "      <td>없음</td>\n",
       "    </tr>\n",
       "    <tr>\n",
       "      <th>45</th>\n",
       "      <td>쿠웨이트</td>\n",
       "      <td>0.000</td>\n",
       "      <td>171.606</td>\n",
       "      <td>171.606</td>\n",
       "      <td>NaN</td>\n",
       "      <td>없음</td>\n",
       "    </tr>\n",
       "    <tr>\n",
       "      <th>48</th>\n",
       "      <td>브루나이</td>\n",
       "      <td>0.000</td>\n",
       "      <td>123.405</td>\n",
       "      <td>123.405</td>\n",
       "      <td>NaN</td>\n",
       "      <td>없음</td>\n",
       "    </tr>\n",
       "    <tr>\n",
       "      <th>52</th>\n",
       "      <td>마카오</td>\n",
       "      <td>19.235</td>\n",
       "      <td>126.330</td>\n",
       "      <td>107.095</td>\n",
       "      <td>NaN</td>\n",
       "      <td>없음</td>\n",
       "    </tr>\n",
       "    <tr>\n",
       "      <th>58</th>\n",
       "      <td>기타국</td>\n",
       "      <td>1.853</td>\n",
       "      <td>51.576</td>\n",
       "      <td>49.723</td>\n",
       "      <td>NaN</td>\n",
       "      <td>없음</td>\n",
       "    </tr>\n",
       "    <tr>\n",
       "      <th>63</th>\n",
       "      <td>부탄</td>\n",
       "      <td>0.000</td>\n",
       "      <td>30.202</td>\n",
       "      <td>30.202</td>\n",
       "      <td>NaN</td>\n",
       "      <td>없음</td>\n",
       "    </tr>\n",
       "    <tr>\n",
       "      <th>68</th>\n",
       "      <td>팔라우</td>\n",
       "      <td>0.405</td>\n",
       "      <td>19.791</td>\n",
       "      <td>19.386</td>\n",
       "      <td>NaN</td>\n",
       "      <td>없음</td>\n",
       "    </tr>\n",
       "    <tr>\n",
       "      <th>79</th>\n",
       "      <td>룩셈부르크</td>\n",
       "      <td>0.000</td>\n",
       "      <td>0.371</td>\n",
       "      <td>0.371</td>\n",
       "      <td>NaN</td>\n",
       "      <td>없음</td>\n",
       "    </tr>\n",
       "    <tr>\n",
       "      <th>80</th>\n",
       "      <td>네덜란드령 안틸레스</td>\n",
       "      <td>0.000</td>\n",
       "      <td>0.299</td>\n",
       "      <td>0.299</td>\n",
       "      <td>NaN</td>\n",
       "      <td>없음</td>\n",
       "    </tr>\n",
       "    <tr>\n",
       "      <th>81</th>\n",
       "      <td>누벨칼레도니</td>\n",
       "      <td>0.000</td>\n",
       "      <td>0.040</td>\n",
       "      <td>0.040</td>\n",
       "      <td>NaN</td>\n",
       "      <td>없음</td>\n",
       "    </tr>\n",
       "    <tr>\n",
       "      <th>83</th>\n",
       "      <td>푸에르토리코</td>\n",
       "      <td>0.000</td>\n",
       "      <td>0.008</td>\n",
       "      <td>0.008</td>\n",
       "      <td>NaN</td>\n",
       "      <td>없음</td>\n",
       "    </tr>\n",
       "    <tr>\n",
       "      <th>85</th>\n",
       "      <td>통가</td>\n",
       "      <td>0.048</td>\n",
       "      <td>0.000</td>\n",
       "      <td>-0.048</td>\n",
       "      <td>NaN</td>\n",
       "      <td>없음</td>\n",
       "    </tr>\n",
       "    <tr>\n",
       "      <th>87</th>\n",
       "      <td>니우에</td>\n",
       "      <td>0.222</td>\n",
       "      <td>0.000</td>\n",
       "      <td>-0.222</td>\n",
       "      <td>NaN</td>\n",
       "      <td>없음</td>\n",
       "    </tr>\n",
       "    <tr>\n",
       "      <th>94</th>\n",
       "      <td>포클랜드제도</td>\n",
       "      <td>46.157</td>\n",
       "      <td>0.000</td>\n",
       "      <td>-46.157</td>\n",
       "      <td>NaN</td>\n",
       "      <td>없음</td>\n",
       "    </tr>\n",
       "    <tr>\n",
       "      <th>97</th>\n",
       "      <td>이란</td>\n",
       "      <td>130.495</td>\n",
       "      <td>0.000</td>\n",
       "      <td>-130.495</td>\n",
       "      <td>NaN</td>\n",
       "      <td>없음</td>\n",
       "    </tr>\n",
       "    <tr>\n",
       "      <th>98</th>\n",
       "      <td>프랑스령 폴리네시아</td>\n",
       "      <td>185.324</td>\n",
       "      <td>0.000</td>\n",
       "      <td>-185.324</td>\n",
       "      <td>NaN</td>\n",
       "      <td>없음</td>\n",
       "    </tr>\n",
       "    <tr>\n",
       "      <th>106</th>\n",
       "      <td>그린란드</td>\n",
       "      <td>468.529</td>\n",
       "      <td>0.000</td>\n",
       "      <td>-468.529</td>\n",
       "      <td>NaN</td>\n",
       "      <td>없음</td>\n",
       "    </tr>\n",
       "    <tr>\n",
       "      <th>110</th>\n",
       "      <td>사우디아라비아</td>\n",
       "      <td>1029.563</td>\n",
       "      <td>212.599</td>\n",
       "      <td>-816.964</td>\n",
       "      <td>NaN</td>\n",
       "      <td>없음</td>\n",
       "    </tr>\n",
       "    <tr>\n",
       "      <th>113</th>\n",
       "      <td>예멘</td>\n",
       "      <td>1002.208</td>\n",
       "      <td>0.000</td>\n",
       "      <td>-1002.208</td>\n",
       "      <td>NaN</td>\n",
       "      <td>없음</td>\n",
       "    </tr>\n",
       "    <tr>\n",
       "      <th>118</th>\n",
       "      <td>페로제도</td>\n",
       "      <td>1480.140</td>\n",
       "      <td>0.000</td>\n",
       "      <td>-1480.140</td>\n",
       "      <td>NaN</td>\n",
       "      <td>없음</td>\n",
       "    </tr>\n",
       "    <tr>\n",
       "      <th>127</th>\n",
       "      <td>키리바시</td>\n",
       "      <td>3394.866</td>\n",
       "      <td>118.518</td>\n",
       "      <td>-3276.348</td>\n",
       "      <td>NaN</td>\n",
       "      <td>없음</td>\n",
       "    </tr>\n",
       "    <tr>\n",
       "      <th>132</th>\n",
       "      <td>오만</td>\n",
       "      <td>7354.874</td>\n",
       "      <td>5.953</td>\n",
       "      <td>-7348.921</td>\n",
       "      <td>NaN</td>\n",
       "      <td>없음</td>\n",
       "    </tr>\n",
       "    <tr>\n",
       "      <th>134</th>\n",
       "      <td>바레인</td>\n",
       "      <td>7878.994</td>\n",
       "      <td>40.690</td>\n",
       "      <td>-7838.304</td>\n",
       "      <td>NaN</td>\n",
       "      <td>없음</td>\n",
       "    </tr>\n",
       "    <tr>\n",
       "      <th>135</th>\n",
       "      <td>베네수엘라</td>\n",
       "      <td>8581.131</td>\n",
       "      <td>0.000</td>\n",
       "      <td>-8581.131</td>\n",
       "      <td>NaN</td>\n",
       "      <td>없음</td>\n",
       "    </tr>\n",
       "    <tr>\n",
       "      <th>156</th>\n",
       "      <td>대만</td>\n",
       "      <td>129664.240</td>\n",
       "      <td>58164.339</td>\n",
       "      <td>-71499.901</td>\n",
       "      <td>NaN</td>\n",
       "      <td>없음</td>\n",
       "    </tr>\n",
       "  </tbody>\n",
       "</table>\n",
       "</div>"
      ],
      "text/plain": [
       "             국가          수입         수출       무역수지  국민소득 국가등급\n",
       "9         미령사모아     811.309   8649.957   7838.648   NaN   없음\n",
       "23       아랍에미리트     550.097   2275.399   1725.302   NaN   없음\n",
       "29            괌       0.248   1157.706   1157.458   NaN   없음\n",
       "34      북마리아나제도       0.000    614.004    614.004   NaN   없음\n",
       "45         쿠웨이트       0.000    171.606    171.606   NaN   없음\n",
       "48         브루나이       0.000    123.405    123.405   NaN   없음\n",
       "52          마카오      19.235    126.330    107.095   NaN   없음\n",
       "58          기타국       1.853     51.576     49.723   NaN   없음\n",
       "63           부탄       0.000     30.202     30.202   NaN   없음\n",
       "68          팔라우       0.405     19.791     19.386   NaN   없음\n",
       "79        룩셈부르크       0.000      0.371      0.371   NaN   없음\n",
       "80   네덜란드령 안틸레스       0.000      0.299      0.299   NaN   없음\n",
       "81       누벨칼레도니       0.000      0.040      0.040   NaN   없음\n",
       "83       푸에르토리코       0.000      0.008      0.008   NaN   없음\n",
       "85           통가       0.048      0.000     -0.048   NaN   없음\n",
       "87          니우에       0.222      0.000     -0.222   NaN   없음\n",
       "94       포클랜드제도      46.157      0.000    -46.157   NaN   없음\n",
       "97           이란     130.495      0.000   -130.495   NaN   없음\n",
       "98   프랑스령 폴리네시아     185.324      0.000   -185.324   NaN   없음\n",
       "106        그린란드     468.529      0.000   -468.529   NaN   없음\n",
       "110     사우디아라비아    1029.563    212.599   -816.964   NaN   없음\n",
       "113          예멘    1002.208      0.000  -1002.208   NaN   없음\n",
       "118        페로제도    1480.140      0.000  -1480.140   NaN   없음\n",
       "127        키리바시    3394.866    118.518  -3276.348   NaN   없음\n",
       "132          오만    7354.874      5.953  -7348.921   NaN   없음\n",
       "134         바레인    7878.994     40.690  -7838.304   NaN   없음\n",
       "135       베네수엘라    8581.131      0.000  -8581.131   NaN   없음\n",
       "156          대만  129664.240  58164.339 -71499.901   NaN   없음"
      ]
     },
     "execution_count": 88,
     "metadata": {},
     "output_type": "execute_result"
    }
   ],
   "source": [
    "# 국가등급이 '없음'인 행을 출력합니다.\n",
    "mgd[mgd['국가등급'].eq('없음')]"
   ]
  },
  {
   "cell_type": "markdown",
   "id": "40ec7f23",
   "metadata": {},
   "source": [
    "### 외부 파일로 저장"
   ]
  },
  {
   "cell_type": "code",
   "execution_count": 89,
   "id": "6c16bf09",
   "metadata": {},
   "outputs": [
    {
     "data": {
      "text/plain": [
       "'/Users/hdsceokevin/Documents/Lectures/PythonAdvanced/basic_review'"
      ]
     },
     "execution_count": 89,
     "metadata": {},
     "output_type": "execute_result"
    }
   ],
   "source": [
    "# 현재 작업 경로를 확인합니다.\n",
    "os.getcwd()"
   ]
  },
  {
   "cell_type": "code",
   "execution_count": 90,
   "id": "26556bfd",
   "metadata": {},
   "outputs": [],
   "source": [
    "# data 폴더로 작업 경로를 변경합니다.\n",
    "os.chdir(path = '../data')"
   ]
  },
  {
   "cell_type": "code",
   "execution_count": 91,
   "id": "0eeb375d",
   "metadata": {},
   "outputs": [
    {
     "name": "stdout",
     "output_type": "stream",
     "text": [
      "Variable   Type         Data/Info\n",
      "---------------------------------\n",
      "chardet    module       <module 'chardet' from '/<...>ges/chardet/__init__.py'>\n",
      "cols       list         n=6\n",
      "gdp        DataFrame             국가   국민소득\\n1    <...>n\\n[172 rows x 2 columns]\n",
      "itm        DataFrame                금액       중량  <...>n\\n[114 rows x 3 columns]\n",
      "joblib     module       <module 'joblib' from '/U<...>ages/joblib/__init__.py'>\n",
      "mgd        DataFrame           국가           수입   <...>n\\n[165 rows x 6 columns]\n",
      "mpr        DataFrame    imxprt               수입  <...>n\\n[217 rows x 3 columns]\n",
      "np         module       <module 'numpy' from '/Us<...>kages/numpy/__init__.py'>\n",
      "os         module       <module 'os' from '/Libra<...>10/lib/python3.10/os.py'>\n",
      "pd         module       <module 'pandas' from '/U<...>ages/pandas/__init__.py'>\n",
      "pvt        DataFrame           국가           수입   <...>n\\n[165 rows x 4 columns]\n",
      "requests   module       <module 'requests' from '<...>es/requests/__init__.py'>\n",
      "res        Response     <Response [200]>\n",
      "sfd        DataFrame            month nation    m<...>n[31522 rows x 6 columns]\n",
      "url        str          https://bit.ly/GDP_Per_Capita_2021_UTF8\n"
     ]
    }
   ],
   "source": [
    "# 전역 변수 목록을 출력합니다.\n",
    "%whos"
   ]
  },
  {
   "cell_type": "code",
   "execution_count": 92,
   "id": "fa4047f0",
   "metadata": {},
   "outputs": [
    {
     "data": {
      "text/plain": [
       "['Seafood_Trade_Prep.z']"
      ]
     },
     "execution_count": 92,
     "metadata": {},
     "output_type": "execute_result"
    }
   ],
   "source": [
    "# 여러 객체를 하나의 압축 파일로 저장합니다.\n",
    "# [힌트] joblib.dump() 함수를 사용하세요.\n",
    "joblib.dump(value = [sfd, mgd], filename = 'Seafood_Trade_Prep.z')"
   ]
  },
  {
   "cell_type": "code",
   "execution_count": 93,
   "id": "702003f1",
   "metadata": {},
   "outputs": [
    {
     "data": {
      "text/plain": [
       "['Seafood_Trade_Prep.z',\n",
       " 'Used_Cars_Price.csv',\n",
       " 'Used_Cars_Price.xlsx',\n",
       " 'Used_Cars_Price.z',\n",
       " 'Used_Cars_Price_Prep.z']"
      ]
     },
     "execution_count": 93,
     "metadata": {},
     "output_type": "execute_result"
    }
   ],
   "source": [
    "# 작업 경로에 있는 폴더명과 파일명을 출력합니다.\n",
    "sorted(os.listdir())"
   ]
  },
  {
   "cell_type": "markdown",
   "id": "e4cf499e",
   "metadata": {},
   "source": [
    "## End of Document"
   ]
  }
 ],
 "metadata": {
  "kernelspec": {
   "display_name": "Python 3 (ipykernel)",
   "language": "python",
   "name": "python3"
  },
  "language_info": {
   "codemirror_mode": {
    "name": "ipython",
    "version": 3
   },
   "file_extension": ".py",
   "mimetype": "text/x-python",
   "name": "python",
   "nbconvert_exporter": "python",
   "pygments_lexer": "ipython3",
   "version": "3.10.9"
  },
  "toc": {
   "base_numbering": 1,
   "nav_menu": {},
   "number_sections": false,
   "sideBar": true,
   "skip_h1_title": false,
   "title_cell": "Table of Contents",
   "title_sidebar": "Contents",
   "toc_cell": false,
   "toc_position": {},
   "toc_section_display": true,
   "toc_window_display": false
  },
  "varInspector": {
   "cols": {
    "lenName": 16,
    "lenType": 16,
    "lenVar": 40
   },
   "kernels_config": {
    "python": {
     "delete_cmd_postfix": "",
     "delete_cmd_prefix": "del ",
     "library": "var_list.py",
     "varRefreshCmd": "print(var_dic_list())"
    },
    "r": {
     "delete_cmd_postfix": ") ",
     "delete_cmd_prefix": "rm(",
     "library": "var_list.r",
     "varRefreshCmd": "cat(var_dic_list()) "
    }
   },
   "types_to_exclude": [
    "module",
    "function",
    "builtin_function_or_method",
    "instance",
    "_Feature"
   ],
   "window_display": false
  }
 },
 "nbformat": 4,
 "nbformat_minor": 5
}
