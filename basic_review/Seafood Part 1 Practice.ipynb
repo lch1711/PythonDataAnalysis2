{
 "cells": [
  {
   "cell_type": "markdown",
   "id": "dde8d412",
   "metadata": {},
   "source": [
    "## 데이터 전처리"
   ]
  },
  {
   "cell_type": "markdown",
   "id": "d844785c",
   "metadata": {},
   "source": [
    "### 실습 데이터셋 안내\n",
    "\n",
    "- 2021년 1~12월에 전세계 165여 개 국가와 수산물 수출입 내역입니다.<br><br>\n",
    "\n",
    "- 변수(열)에 대한 간단한 설명입니다.\n",
    "  - stdYymm: 기준년월(yyyymm)\n",
    "  - nationCode: 국가코드\n",
    "  - mprcExipitmCode: 수산물수출입품목코드(10자리 숫자)\n",
    "  - imxprtSeCode: 수출입구분코드(E, I)\n",
    "  - nationNm: 국가명\n",
    "  - ecoblNm: 경제권명\n",
    "  - mprcExipitmNm: 수산물수출입품목명\n",
    "  - imxprtSeNm: 수출입구분명(수출, 수입)\n",
    "  - imxprtWt: 수출입중량(kg)\n",
    "  - imxprtDollarAmount: 수출입금액($)<br><br>\n",
    "\n",
    "- 실습 데이터인 csv 파일을 아래 링크로 제공합니다.\n",
    "  - https://bit.ly/Seafood_Trade_2021_CP949\n",
    "  - 구분자는 콤마(,)이고 인코딩방식은 CP949입니다."
   ]
  },
  {
   "cell_type": "markdown",
   "id": "49db7b5e",
   "metadata": {},
   "source": [
    "### 관련 라이브러리 호출"
   ]
  },
  {
   "cell_type": "code",
   "execution_count": null,
   "id": "b387b6b6",
   "metadata": {},
   "outputs": [],
   "source": [
    "# 관련 라이브러리를 호출합니다.\n",
    "import requests\n",
    "import chardet\n",
    "import numpy as np\n",
    "import pandas as pd\n",
    "import os\n",
    "import joblib"
   ]
  },
  {
   "cell_type": "markdown",
   "id": "3f40ad22",
   "metadata": {},
   "source": [
    "### 인코딩 방식 확인"
   ]
  },
  {
   "cell_type": "code",
   "execution_count": null,
   "id": "04b2f80a",
   "metadata": {},
   "outputs": [],
   "source": [
    "# 온라인으로 공유 중인 csv 파일 주소를 변수에 할당합니다.\n",
    "url = ''"
   ]
  },
  {
   "cell_type": "code",
   "execution_count": null,
   "id": "2d02dab4",
   "metadata": {},
   "outputs": [],
   "source": [
    "# 링크에 있는 텍스트를 내려받습니다.(HTTP Requests)\n",
    "# [힌트] requests.get() 함수를 사용하세요.\n",
    "res = "
   ]
  },
  {
   "cell_type": "code",
   "execution_count": null,
   "id": "3e38bcc5",
   "metadata": {},
   "outputs": [],
   "source": [
    "# res에서 바이너리 텍스트의 일부를 출력합니다.\n",
    "# [힌트] content 속성을 사용하세요.\n"
   ]
  },
  {
   "cell_type": "code",
   "execution_count": null,
   "id": "afb5643a",
   "metadata": {},
   "outputs": [],
   "source": [
    "# 바이너리 텍스트의 인코딩 방식을 확인합니다.\n",
    "# [힌트] chardet.detect() 함수를 사용하세요.\n"
   ]
  },
  {
   "cell_type": "markdown",
   "id": "d42d8e11",
   "metadata": {},
   "source": [
    "### 실습 데이터셋 준비"
   ]
  },
  {
   "cell_type": "code",
   "execution_count": null,
   "id": "7a40dc11",
   "metadata": {},
   "outputs": [],
   "source": [
    "# 링크를 읽고 데이터프레임 sfd를 생성합니다.\n",
    "# [힌트] pd.read_csv() 함수를 사용하세요.\n",
    "# [참고] EUC-KR은 CP949의 부분집합입니다.\n",
    "sfd = "
   ]
  },
  {
   "cell_type": "code",
   "execution_count": null,
   "id": "b34ac766",
   "metadata": {},
   "outputs": [],
   "source": [
    "# sfd의 정보를 확인합니다.\n",
    "# [힌트] info() 함수를 사용하세요.\n"
   ]
  },
  {
   "cell_type": "code",
   "execution_count": null,
   "id": "41997d0f",
   "metadata": {},
   "outputs": [],
   "source": [
    "# sfd를 출력합니다.\n"
   ]
  },
  {
   "cell_type": "code",
   "execution_count": null,
   "id": "66413e2b",
   "metadata": {},
   "outputs": [],
   "source": [
    "# sfd의 처음 5행을 출력합니다.\n",
    "# [힌트] head() 함수를 사용하세요.\n"
   ]
  },
  {
   "cell_type": "code",
   "execution_count": null,
   "id": "b01559d8",
   "metadata": {},
   "outputs": [],
   "source": [
    "# sfd의 마지막 5행을 출력합니다.\n",
    "# [힌트] tail() 함수를 사용하세요.\n"
   ]
  },
  {
   "cell_type": "markdown",
   "id": "5aac4c94",
   "metadata": {},
   "source": [
    "### 실습 데이터셋 전처리"
   ]
  },
  {
   "cell_type": "code",
   "execution_count": null,
   "id": "b2c6add0",
   "metadata": {},
   "outputs": [],
   "source": [
    "# sfd의 열이름을 출력합니다.\n"
   ]
  },
  {
   "cell_type": "code",
   "execution_count": null,
   "id": "b537108c",
   "metadata": {},
   "outputs": [],
   "source": [
    "# sfd에서 'stdYymm', 'nationNm', 'mprcExipitmNm', 'imxprtSeNm', 'imxprtWt', 'imxprtDollarAmount'를\n",
    "# 선택하기 위해 열이름을 원소로 갖는 리스트를 변수에 할당합니다.\n",
    "cols = "
   ]
  },
  {
   "cell_type": "code",
   "execution_count": null,
   "id": "a8bf513a",
   "metadata": {},
   "outputs": [],
   "source": [
    "# sfd에서 cols만 선택한 결과를 출력합니다.\n"
   ]
  },
  {
   "cell_type": "code",
   "execution_count": null,
   "id": "3caf4d36",
   "metadata": {},
   "outputs": [],
   "source": [
    "# 인덱싱 결과를 sfd에 재할당합니다.\n",
    "sfd = "
   ]
  },
  {
   "cell_type": "code",
   "execution_count": null,
   "id": "b32f8ba0",
   "metadata": {},
   "outputs": [],
   "source": [
    "# sfd의 전체 열이름을 'month', 'nation', 'mpritm', 'imxprt', 'weight', 'dollar'으로 변경합니다.\n"
   ]
  },
  {
   "cell_type": "code",
   "execution_count": null,
   "id": "755e0181",
   "metadata": {},
   "outputs": [],
   "source": [
    "# sfd의 열별 자료형을 확인합니다.\n"
   ]
  },
  {
   "cell_type": "code",
   "execution_count": null,
   "id": "35948017",
   "metadata": {},
   "outputs": [],
   "source": [
    "# month의 자료형을 문자열로 변환하고 month에 할당합니다. \n",
    "# [힌트] astype() 함수를 사용하세요.\n",
    "sfd['month'] = "
   ]
  },
  {
   "cell_type": "code",
   "execution_count": null,
   "id": "d982ac5e",
   "metadata": {},
   "outputs": [],
   "source": [
    "# dollar를 1000으로 나눈 결과를 grand에 할당합니다.\n",
    "# [참고] 데이터프레임 오른쪽 끝에 새 변수를 추가합니다.\n",
    "sfd['grand'] = "
   ]
  },
  {
   "cell_type": "code",
   "execution_count": null,
   "id": "05d2de74",
   "metadata": {},
   "outputs": [],
   "source": [
    "# sfd에서 dollar를 삭제한 결과를 출력합니다.\n",
    "# [힌트] drop() 함수를 사용하세요.\n"
   ]
  },
  {
   "cell_type": "code",
   "execution_count": null,
   "id": "c08c5c30",
   "metadata": {},
   "outputs": [],
   "source": [
    "# sfd에서 dollar를 삭제한 결과를 sfd에 재할당합니다.\n",
    "sfd = "
   ]
  },
  {
   "cell_type": "code",
   "execution_count": null,
   "id": "1ab7c7d6",
   "metadata": {},
   "outputs": [],
   "source": [
    "# sfd의 수치(정수 또는 실수)형 변수의 기술통계량을 확인합니다.\n",
    "# [힌트] describe() 함수를 사용하세요.\n"
   ]
  },
  {
   "cell_type": "code",
   "execution_count": null,
   "id": "4e8acce6",
   "metadata": {},
   "outputs": [],
   "source": [
    "# sfd의 범주형 변수의 기술통계량을 확인합니다.\n"
   ]
  },
  {
   "cell_type": "code",
   "execution_count": null,
   "id": "613f92e9",
   "metadata": {},
   "outputs": [],
   "source": [
    "# nation의 빈도수를 확인합니다.\n",
    "# [힌트] value_counts() 함수를 사용하세요.\n"
   ]
  },
  {
   "cell_type": "code",
   "execution_count": null,
   "id": "4269250f",
   "metadata": {},
   "outputs": [],
   "source": [
    "# nation의 상대도수를 확인합니다.\n",
    "# [힌트] value_counts() 함수에 normalize 매개변수를 추가하세요.\n"
   ]
  },
  {
   "cell_type": "markdown",
   "id": "1d73330c",
   "metadata": {},
   "source": [
    "### 수산물품목별 수출입금액을 합산하고 무역수지 계산"
   ]
  },
  {
   "cell_type": "code",
   "execution_count": null,
   "id": "1cd5b1b6",
   "metadata": {},
   "outputs": [],
   "source": [
    "# 아래 조건을 만족하는 피벗 테이블을 mpr에 할당합니다.\n",
    "# [힌트] pd.pivot_table() 함수를 사용하세요.\n",
    "# 데이터(data)는 sfd, 값(values)은 grand, 행이름(index)은 mpritm, \n",
    "# 열이름(columns)은 imxprt, 집계함수는 np.sum을 지정하세요.\n",
    "mpr = "
   ]
  },
  {
   "cell_type": "code",
   "execution_count": null,
   "id": "0c6945a3",
   "metadata": {},
   "outputs": [],
   "source": [
    "# mpr의 처음 5행을 출력합니다.\n"
   ]
  },
  {
   "cell_type": "code",
   "execution_count": null,
   "id": "15abcf07",
   "metadata": {},
   "outputs": [],
   "source": [
    "# mpr의 행 개수를 출력합니다.\n",
    "# [힌트] shape 속성 결과에 0번 인덱스 원소를 선택하세요.\n"
   ]
  },
  {
   "cell_type": "code",
   "execution_count": null,
   "id": "ea52497c",
   "metadata": {},
   "outputs": [],
   "source": [
    "# mpr의 열별 결측값 개수를 확인합니다.\n",
    "# [힌트] isna() 함수를 사용하세요.\n"
   ]
  },
  {
   "cell_type": "code",
   "execution_count": null,
   "id": "7c49ba7f",
   "metadata": {},
   "outputs": [],
   "source": [
    "# mpr에 있는 결측값을 0으로 대체하고 mpr에 재할당합니다.\n",
    "# [힌트] fillna() 함수를 사용하세요.\n"
   ]
  },
  {
   "cell_type": "code",
   "execution_count": null,
   "id": "0c19ea88",
   "metadata": {},
   "outputs": [],
   "source": [
    "# 수출에서 수입을 뺀 무역수지를 생성합니다.\n",
    "mpr['무역수지'] = "
   ]
  },
  {
   "cell_type": "code",
   "execution_count": null,
   "id": "3d250bb4",
   "metadata": {},
   "outputs": [],
   "source": [
    "# mpr를 무역수지로 내림차순 정렬하고 mpr에 재할당합니다.\n",
    "# [힌트] sort_values() 함수를 사용하세요.\n",
    "mpr = "
   ]
  },
  {
   "cell_type": "code",
   "execution_count": null,
   "id": "87ab59cf",
   "metadata": {},
   "outputs": [],
   "source": [
    "# mpr의 처음 10행을 출력합니다.\n"
   ]
  },
  {
   "cell_type": "code",
   "execution_count": null,
   "id": "3101a168",
   "metadata": {},
   "outputs": [],
   "source": [
    "# mpr의 마지막 10행을 출력합니다.\n"
   ]
  },
  {
   "cell_type": "markdown",
   "id": "1b46c7be",
   "metadata": {},
   "source": [
    "### 특정 수산물품목에 대한 국가별 수출단가 계산"
   ]
  },
  {
   "cell_type": "code",
   "execution_count": null,
   "id": "3f6b5957",
   "metadata": {},
   "outputs": [],
   "source": [
    "# 아래 조건을 만족하는 피벗 테이블을 itm에 할당합니다.\n",
    "# [힌트] pd.pivot_table() 함수를 사용하세요.\n",
    "# 데이터(data)는 sfd에서 '김' & '수출' 행을 지정하세요.\n",
    "# 값(values)은 grand와 weight를 리스트로 지정하세요.\n",
    "# 행이름(index)은 nation, 집계함수는 np.sum을 지정하세요.\n",
    "itm = "
   ]
  },
  {
   "cell_type": "code",
   "execution_count": null,
   "id": "7358c38c",
   "metadata": {},
   "outputs": [],
   "source": [
    "# itm의 처음 5행을 출력합니다.\n"
   ]
  },
  {
   "cell_type": "code",
   "execution_count": null,
   "id": "b17a5b6b",
   "metadata": {},
   "outputs": [],
   "source": [
    "# itm의 행 개수를 출력합니다.\n"
   ]
  },
  {
   "cell_type": "code",
   "execution_count": null,
   "id": "79b035fc",
   "metadata": {},
   "outputs": [],
   "source": [
    "# itm의 열별 결측값 개수를 확인합니다.\n"
   ]
  },
  {
   "cell_type": "code",
   "execution_count": null,
   "id": "e85d7527",
   "metadata": {},
   "outputs": [],
   "source": [
    "# itm의 열이름을 '금액', '중량'으로 변경합니다.\n"
   ]
  },
  {
   "cell_type": "code",
   "execution_count": null,
   "id": "7407c707",
   "metadata": {},
   "outputs": [],
   "source": [
    "# 금액을 중량으로 나눈 값에 1000을 곱한 수출단가(달러)를 생성합니다.\n",
    "itm['수출단가'] = "
   ]
  },
  {
   "cell_type": "code",
   "execution_count": null,
   "id": "dffc61eb",
   "metadata": {},
   "outputs": [],
   "source": [
    "# itm을 수출단가로 내림차순 정렬하고 itm에 재할당합니다.\n",
    "# [힌트] sort_values() 함수를 사용하세요.\n",
    "itm = "
   ]
  },
  {
   "cell_type": "code",
   "execution_count": null,
   "id": "9434843c",
   "metadata": {},
   "outputs": [],
   "source": [
    "# itm의 처음 10행을 출력합니다.\n"
   ]
  },
  {
   "cell_type": "code",
   "execution_count": null,
   "id": "5bbcaa7f",
   "metadata": {},
   "outputs": [],
   "source": [
    "# itm의 마지막 10행을 출력합니다.\n"
   ]
  },
  {
   "cell_type": "markdown",
   "id": "36f90f2a",
   "metadata": {},
   "source": [
    "### 국가별 수출입금액을 합산하고 무역수지 계산"
   ]
  },
  {
   "cell_type": "code",
   "execution_count": null,
   "id": "03ff7157",
   "metadata": {},
   "outputs": [],
   "source": [
    "# 아래 조건을 만족하는 피벗 테이블을 pvt에 할당합니다.\n",
    "# [힌트] pd.pivot_table() 함수를 사용하세요.\n",
    "# 데이터(data)는 sfd, 값(values)은 grand, 행이름(index)은 nation, \n",
    "# 열이름(columns)은 imxprt, 집계함수는 np.sum을 지정하세요.\n",
    "pvt = "
   ]
  },
  {
   "cell_type": "code",
   "execution_count": null,
   "id": "3d73d02b",
   "metadata": {},
   "outputs": [],
   "source": [
    "# pvt의 처음 5행을 출력합니다.\n"
   ]
  },
  {
   "cell_type": "code",
   "execution_count": null,
   "id": "2f9ca474",
   "metadata": {},
   "outputs": [],
   "source": [
    "# pvt의 행 개수를 출력합니다.\n"
   ]
  },
  {
   "cell_type": "code",
   "execution_count": null,
   "id": "a6d01e11",
   "metadata": {},
   "outputs": [],
   "source": [
    "# pvt의 열별 결측값 개수를 확인합니다.\n"
   ]
  },
  {
   "cell_type": "code",
   "execution_count": null,
   "id": "75d9bdf1",
   "metadata": {},
   "outputs": [],
   "source": [
    "# pvt에 있는 결측값을 0으로 대체하고 pvt에 재할당합니다.\n",
    "# [힌트] fillna() 함수를 사용하세요.\n",
    "pvt = "
   ]
  },
  {
   "cell_type": "code",
   "execution_count": null,
   "id": "86700d15",
   "metadata": {},
   "outputs": [],
   "source": [
    "# 수출에서 수입을 뺀 무역수지를 생성합니다.\n",
    "pvt['무역수지'] = "
   ]
  },
  {
   "cell_type": "code",
   "execution_count": null,
   "id": "5d9ca547",
   "metadata": {},
   "outputs": [],
   "source": [
    "# pvt를 무역수지로 내림차순 정렬하고 pvt에 재할당합니다.\n",
    "# [힌트] sort_values() 함수를 사용하세요.\n",
    "pvt = "
   ]
  },
  {
   "cell_type": "code",
   "execution_count": null,
   "id": "b8366a66",
   "metadata": {},
   "outputs": [],
   "source": [
    "# pvt의 처음 5행을 출력합니다.\n"
   ]
  },
  {
   "cell_type": "code",
   "execution_count": null,
   "id": "f128fd7e",
   "metadata": {},
   "outputs": [],
   "source": [
    "# pvt의 행이름을 출력합니다.\n",
    "# [힌트] index 속성을 사용하세요.\n"
   ]
  },
  {
   "cell_type": "code",
   "execution_count": null,
   "id": "0b09f03c",
   "metadata": {},
   "outputs": [],
   "source": [
    "# pvt의 행이름 네임을 '국가'로 변경합니다.\n",
    "# [힌트] index.name 속성을 사용하세요.\n"
   ]
  },
  {
   "cell_type": "code",
   "execution_count": null,
   "id": "0213f0d7",
   "metadata": {},
   "outputs": [],
   "source": [
    "# pvt의 열이름을 출력합니다.\n",
    "# [힌트] columns 속성을 사용하세요.\n"
   ]
  },
  {
   "cell_type": "code",
   "execution_count": null,
   "id": "1715518a",
   "metadata": {},
   "outputs": [],
   "source": [
    "# pvt의 열이름 네임을 삭제합니다.\n",
    "# [힌트] columns.name 속성을 사용하세요.\n",
    "# [참고] None을 할당하면 객체를 삭제합니다.\n"
   ]
  },
  {
   "cell_type": "code",
   "execution_count": null,
   "id": "556fda6c",
   "metadata": {},
   "outputs": [],
   "source": [
    "# pvt의 처음 5행을 출력합니다.\n"
   ]
  },
  {
   "cell_type": "code",
   "execution_count": null,
   "id": "65f3a7fc",
   "metadata": {
    "scrolled": false
   },
   "outputs": [],
   "source": [
    "# pvt의 행이름을 초기화한 결과를 출력합니다.\n",
    "# [힌트] reset_index() 함수를 사용하세요.\n",
    "# [참고] 기존 행이름을 맨 처음 열로 추가합니다.\n",
    "# [참고] drop = True를 추가하면 기존 행이름을 삭제합니다.\n"
   ]
  },
  {
   "cell_type": "code",
   "execution_count": null,
   "id": "6291f48f",
   "metadata": {},
   "outputs": [],
   "source": [
    "# pvt의 행이름을 초기화하고 pvt에 재할당합니다.\n",
    "pvt = "
   ]
  },
  {
   "cell_type": "code",
   "execution_count": null,
   "id": "5ff82669",
   "metadata": {},
   "outputs": [],
   "source": [
    "# pvt의 처음 10행을 출력합니다.(무역수지 흑자 국가)\n"
   ]
  },
  {
   "cell_type": "code",
   "execution_count": null,
   "id": "ee9b7ad0",
   "metadata": {
    "scrolled": true
   },
   "outputs": [],
   "source": [
    "# pvt의 마지막 10행을 출력합니다.(무역수지 적자 국가)\n"
   ]
  },
  {
   "cell_type": "markdown",
   "id": "79d7600a",
   "metadata": {},
   "source": [
    "## 데이터 병합"
   ]
  },
  {
   "cell_type": "markdown",
   "id": "3e7fe721",
   "metadata": {},
   "source": [
    "### 실습 데이터셋 안내\n",
    "\n",
    "- 2021년 전세계 국가별 1인당 국민총소득입니다.\n",
    "  - 출처: 통계청 KOSIS > 국제통계 > 주제별 통계 > 국민계정 > 1인당 국민총소득<br><br>\n",
    "\n",
    "- 변수(열)에 대한 간단한 설명입니다.\n",
    "  - nation: 국가명\n",
    "  - gdp_2019: 2019년 1인당 국민총소득\n",
    "  - gdp_2020: 2020년 1인당 국민총소득\n",
    "  - gdp_2021: 2021년 1인당 국민총소득<br><br>\n",
    "\n",
    "- 실습 데이터인 csv 파일을 아래 링크로 제공합니다.\n",
    "  - https://bit.ly/GDP_Per_Capita_2021_UTF8\n",
    "  - 구분자는 콤마(,)이고 인코딩방식은 UTF-8입니다."
   ]
  },
  {
   "cell_type": "code",
   "execution_count": null,
   "id": "6fe1815a",
   "metadata": {},
   "outputs": [],
   "source": [
    "# 온라인으로 공유 중인 csv 파일 주소를 변수에 할당합니다.\n",
    "url = ''"
   ]
  },
  {
   "cell_type": "code",
   "execution_count": null,
   "id": "7e8b9ecc",
   "metadata": {},
   "outputs": [],
   "source": [
    "# 링크에 있는 텍스트를 내려받습니다.(HTTP Requests)\n",
    "res = "
   ]
  },
  {
   "cell_type": "code",
   "execution_count": null,
   "id": "a1cd67d5",
   "metadata": {},
   "outputs": [],
   "source": [
    "# res에서 바이너리 텍스트의 일부를 출력합니다.\n"
   ]
  },
  {
   "cell_type": "code",
   "execution_count": null,
   "id": "602a5f72",
   "metadata": {},
   "outputs": [],
   "source": [
    "# 바이너리 텍스트의 인코딩 방식을 확인합니다.\n"
   ]
  },
  {
   "cell_type": "code",
   "execution_count": null,
   "id": "36992419",
   "metadata": {},
   "outputs": [],
   "source": [
    "# 링크를 읽고 데이터프레임 gdp를 생성합니다.\n",
    "# [참고] 인코딩 방식이 UTF-8이면 encoding 매개변수를 생략할 수 있습니다.\n",
    "gdp = "
   ]
  },
  {
   "cell_type": "code",
   "execution_count": null,
   "id": "cca9c451",
   "metadata": {},
   "outputs": [],
   "source": [
    "# gdp의 정보를 확인합니다.\n"
   ]
  },
  {
   "cell_type": "code",
   "execution_count": null,
   "id": "76ee7267",
   "metadata": {},
   "outputs": [],
   "source": [
    "# gdp의 처음 5행을 출력합니다.\n"
   ]
  },
  {
   "cell_type": "code",
   "execution_count": null,
   "id": "f9e0fd0c",
   "metadata": {},
   "outputs": [],
   "source": [
    "# gdp의 열이름을 출력합니다.\n"
   ]
  },
  {
   "cell_type": "code",
   "execution_count": null,
   "id": "afbc28d3",
   "metadata": {},
   "outputs": [],
   "source": [
    "# gdp에서 열이름이 'gdp_2019', 'gdp_2020'인 열을 삭제합니다.\n",
    "# [힌트] drop() 함수를 사용하세요.\n",
    "gdp = "
   ]
  },
  {
   "cell_type": "code",
   "execution_count": null,
   "id": "921daa3e",
   "metadata": {},
   "outputs": [],
   "source": [
    "# gdp의 마지막 5행을 출력합니다.\n"
   ]
  },
  {
   "cell_type": "code",
   "execution_count": null,
   "id": "b4d9591d",
   "metadata": {},
   "outputs": [],
   "source": [
    "# gdp_2021의 원소가 '-'이면 결측값(np.nan)으로 변경합니다.\n",
    "# [힌트] np.where()와 eq() 함수를 사용하세요.\n",
    "gdp['gdp_2021'] = "
   ]
  },
  {
   "cell_type": "code",
   "execution_count": null,
   "id": "a135af72",
   "metadata": {},
   "outputs": [],
   "source": [
    "# gdp의 열별 결측값 개수를 확인합니다.\n",
    "# [힌트] isna()와 sum() 함수를 사용하세요.\n"
   ]
  },
  {
   "cell_type": "code",
   "execution_count": null,
   "id": "b194d91e",
   "metadata": {},
   "outputs": [],
   "source": [
    "# gdp의 정보를 확인합니다.\n"
   ]
  },
  {
   "cell_type": "code",
   "execution_count": null,
   "id": "3e359a6f",
   "metadata": {},
   "outputs": [],
   "source": [
    "# gdp의 처음 5행을 출력합니다.\n"
   ]
  },
  {
   "cell_type": "code",
   "execution_count": null,
   "id": "f45db904",
   "metadata": {},
   "outputs": [],
   "source": [
    "# gdp에서 결측값이 있는 행을 삭제합니다.\n",
    "gdp = "
   ]
  },
  {
   "cell_type": "code",
   "execution_count": null,
   "id": "f4fc0802",
   "metadata": {},
   "outputs": [],
   "source": [
    "# gdp의 행 개수를 출력합니다.\n",
    "# [힌트] shape 속성 결과에 0번 인덱스 원소를 선택하세요.\n"
   ]
  },
  {
   "cell_type": "code",
   "execution_count": null,
   "id": "b6f43eff",
   "metadata": {},
   "outputs": [],
   "source": [
    "# gdp_2021의 자료형을 정수로 변환합니다.\n",
    "gdp['gdp_2021'] = "
   ]
  },
  {
   "cell_type": "code",
   "execution_count": null,
   "id": "16c9f393",
   "metadata": {},
   "outputs": [],
   "source": [
    "# gdp의 열별 자료형을 확인합니다.\n"
   ]
  },
  {
   "cell_type": "markdown",
   "id": "99a8eedd",
   "metadata": {},
   "source": [
    "### 데이터 병합\n",
    "\n",
    "두 데이터프레임을 좌우로 병합할 때 기준이 되는 열을 외래키라고 합니다.<br>\n",
    "두 외래키에서 일치하는 원소가 없으면 병합했을 때 행 개수가 0일 수 있습니다.<br>\n",
    "병합 방법은 내부병합, 외부병합, 왼쪽병합 등이 있습니다.<br>\n",
    "실습 데이터셋 오른쪽에 새로운 열을 추가할 때 왼쪽병합을 주로 사용합니다."
   ]
  },
  {
   "cell_type": "code",
   "execution_count": null,
   "id": "8a55b848",
   "metadata": {
    "scrolled": true
   },
   "outputs": [],
   "source": [
    "# 왼쪽 외래키에는 있지만 오른쪽 외래키에 없는 원소를 확인합니다.\n",
    "# [힌트] set() 함수를 사용하여 시리즈를 집합으로 변환하세요.\n",
    "# 두 집합으로 차집합을 실행하세요.\n"
   ]
  },
  {
   "cell_type": "code",
   "execution_count": null,
   "id": "13820258",
   "metadata": {},
   "outputs": [],
   "source": [
    "# pvt와 gdp를 왼쪽병합합니다.\n",
    "# [힌트] pd.merge() 함수를 사용하세요.\n",
    "# 왼쪽병합은 how 매개변수에 'left'를 지정합니다.\n",
    "# 외래키는 on 매개변수에 열이름을 문자열로 지정합니다.\n",
    "# [참고] 외래키 열이름이 다르면 left_on, right_on 매개변수에 각각 지정해야 합니다.\n"
   ]
  },
  {
   "cell_type": "code",
   "execution_count": null,
   "id": "5fe3f348",
   "metadata": {},
   "outputs": [],
   "source": [
    "# gdp의 열이름 중 'nation'을 '국가', 'gdp_2021'을 '국민소득'으로 변경합니다.\n",
    "# [힌트] rename() 함수를 사용하세요.\n",
    "gdp = "
   ]
  },
  {
   "cell_type": "code",
   "execution_count": null,
   "id": "7a811a29",
   "metadata": {},
   "outputs": [],
   "source": [
    "# pvt와 gdp를 왼쪽병합하고 mgd에 할당합니다.\n",
    "mgd = "
   ]
  },
  {
   "cell_type": "code",
   "execution_count": null,
   "id": "ad10ccf3",
   "metadata": {},
   "outputs": [],
   "source": [
    "# mgd의 정보를 확인합니다.\n"
   ]
  },
  {
   "cell_type": "code",
   "execution_count": null,
   "id": "0b54ff0a",
   "metadata": {},
   "outputs": [],
   "source": [
    "# mgd의 처음 5행을 출력합니다.\n"
   ]
  },
  {
   "cell_type": "markdown",
   "id": "50f91cc3",
   "metadata": {},
   "source": [
    "### 연속형 변수의 구간화(binning)\n",
    "\n",
    "연속형 변수를 기준에 따라 범주형으로 변환하는 것을 구간화(binning)라고 합니다.<br>\n",
    "구간화는 이상치와 비선형 문제를 해결하고, 결측값을 쉽게 처리할 수 있습니다.<br>\n",
    "범주가 2개면 np.where(), 3개 이상이면 np.seelct() 함수를 사용하는 것이 좋습니다."
   ]
  },
  {
   "cell_type": "code",
   "execution_count": null,
   "id": "9c59908e",
   "metadata": {},
   "outputs": [],
   "source": [
    "# 국민소득의 기술통계량을 확인합니다.\n",
    "# [힌트] describe() 함수를 사용하세요.\n"
   ]
  },
  {
   "cell_type": "code",
   "execution_count": null,
   "id": "842e8b3e",
   "metadata": {},
   "outputs": [],
   "source": [
    "# 국민소득이 23,000 달러 이상이면 '선진국', 6,500 ~ 23000 달러 미만이면 '신흥국', \n",
    "# 6,500 달러 미만이면 '개도국'인 원소를 갖는 국가등급 열을 생성합니다.\n",
    "# [힌트] np.select() 함수를 사용하세요.\n",
    "# condlist 매개변수에 조건, choicelist 매개변수에 원소를 리스트로 지정합니다.\n",
    "mgd['국가등급'] = "
   ]
  },
  {
   "cell_type": "code",
   "execution_count": null,
   "id": "adabccfc",
   "metadata": {},
   "outputs": [],
   "source": [
    "# 국가등급의 원소별 빈도수를 확인합니다.\n",
    "# [힌트] value_counts() 함수를 사용하세요.\n"
   ]
  },
  {
   "cell_type": "code",
   "execution_count": null,
   "id": "4dd99e94",
   "metadata": {},
   "outputs": [],
   "source": [
    "# 국가등급의 원소별 상대도수를 확인합니다.\n",
    "# [힌트] value_counts() 함수에 normalize 매개변수를 추가하세요.\n"
   ]
  },
  {
   "cell_type": "code",
   "execution_count": null,
   "id": "320dc8f2",
   "metadata": {
    "scrolled": false
   },
   "outputs": [],
   "source": [
    "# 국가등급이 '없음'인 행을 출력합니다.\n"
   ]
  },
  {
   "cell_type": "markdown",
   "id": "40ec7f23",
   "metadata": {},
   "source": [
    "### 외부 파일로 저장"
   ]
  },
  {
   "cell_type": "code",
   "execution_count": null,
   "id": "6c16bf09",
   "metadata": {},
   "outputs": [],
   "source": [
    "# 현재 작업 경로를 확인합니다.\n"
   ]
  },
  {
   "cell_type": "code",
   "execution_count": null,
   "id": "26556bfd",
   "metadata": {},
   "outputs": [],
   "source": [
    "# data 폴더로 작업 경로를 변경합니다.\n"
   ]
  },
  {
   "cell_type": "code",
   "execution_count": null,
   "id": "0eeb375d",
   "metadata": {},
   "outputs": [],
   "source": [
    "# 전역 변수 목록을 출력합니다.\n"
   ]
  },
  {
   "cell_type": "code",
   "execution_count": null,
   "id": "fa4047f0",
   "metadata": {},
   "outputs": [],
   "source": [
    "# 여러 객체를 하나의 압축 파일로 저장합니다.\n",
    "# 파일명은 'Seafood_Trade_Prep.z'으로 지정하세요.\n",
    "# [힌트] joblib.dump() 함수를 사용하세요.\n"
   ]
  },
  {
   "cell_type": "code",
   "execution_count": null,
   "id": "702003f1",
   "metadata": {},
   "outputs": [],
   "source": [
    "# 작업 경로에 있는 폴더명과 파일명을 출력합니다.\n"
   ]
  },
  {
   "cell_type": "markdown",
   "id": "e4cf499e",
   "metadata": {},
   "source": [
    "## End of Document"
   ]
  }
 ],
 "metadata": {
  "kernelspec": {
   "display_name": "Python 3",
   "language": "python",
   "name": "python3"
  },
  "language_info": {
   "codemirror_mode": {
    "name": "ipython",
    "version": 3
   },
   "file_extension": ".py",
   "mimetype": "text/x-python",
   "name": "python",
   "nbconvert_exporter": "python",
   "pygments_lexer": "ipython3",
   "version": "3.11.1"
  },
  "toc": {
   "base_numbering": 1,
   "nav_menu": {},
   "number_sections": false,
   "sideBar": true,
   "skip_h1_title": false,
   "title_cell": "Table of Contents",
   "title_sidebar": "Contents",
   "toc_cell": false,
   "toc_position": {},
   "toc_section_display": true,
   "toc_window_display": false
  },
  "varInspector": {
   "cols": {
    "lenName": 16,
    "lenType": 16,
    "lenVar": 40
   },
   "kernels_config": {
    "python": {
     "delete_cmd_postfix": "",
     "delete_cmd_prefix": "del ",
     "library": "var_list.py",
     "varRefreshCmd": "print(var_dic_list())"
    },
    "r": {
     "delete_cmd_postfix": ") ",
     "delete_cmd_prefix": "rm(",
     "library": "var_list.r",
     "varRefreshCmd": "cat(var_dic_list()) "
    }
   },
   "types_to_exclude": [
    "module",
    "function",
    "builtin_function_or_method",
    "instance",
    "_Feature"
   ],
   "window_display": false
  }
 },
 "nbformat": 4,
 "nbformat_minor": 5
}
