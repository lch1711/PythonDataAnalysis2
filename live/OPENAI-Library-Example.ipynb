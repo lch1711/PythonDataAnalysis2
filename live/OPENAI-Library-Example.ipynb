{
 "cells": [
  {
   "cell_type": "markdown",
   "id": "18d9a798",
   "metadata": {},
   "source": [
    "## ChatGPT API 활용\n",
    "\n",
    "`진짜 챗GPT 활용법` 참고"
   ]
  },
  {
   "cell_type": "markdown",
   "id": "f2819ed2",
   "metadata": {},
   "source": [
    "openai api key 발급 방법\n",
    "\n",
    "- [링크](https://platform.openai.com/)에 접속\n",
    "- 회원가입 후 로그인\n",
    "- 오른쪽 상단 `로그인` 클릭\n",
    "- `View API keys` 클릭\n",
    "- `+ Create new secret key` 클릭\n",
    "- 팝업에서 `API key` 복사"
   ]
  },
  {
   "cell_type": "raw",
   "id": "c6a6cad9",
   "metadata": {},
   "source": [
    "!pip install openai\n",
    "!pip install python-dotenv"
   ]
  },
  {
   "cell_type": "code",
   "execution_count": null,
   "id": "2c9cd6d8",
   "metadata": {},
   "outputs": [],
   "source": [
    "import os\n",
    "from dotenv import load_dotenv\n",
    "import openai"
   ]
  },
  {
   "cell_type": "code",
   "execution_count": null,
   "id": "f89b6bf4",
   "metadata": {},
   "outputs": [],
   "source": [
    "# 현재 작업 경로에 있는 .env 파일을 읽고 환경 변수에 추가\n",
    "load_dotenv()"
   ]
  },
  {
   "cell_type": "code",
   "execution_count": null,
   "id": "3b2b8d98",
   "metadata": {},
   "outputs": [],
   "source": [
    "openai.api_key = os.getenv(key = 'OPENAI_API_KEY')\n",
    "openai.api_key"
   ]
  },
  {
   "cell_type": "markdown",
   "id": "8c432f56",
   "metadata": {},
   "source": [
    "### 함수 생성"
   ]
  },
  {
   "cell_type": "code",
   "execution_count": null,
   "id": "9f8eccf9",
   "metadata": {},
   "outputs": [],
   "source": [
    "def ChatCompletionCreate(messages, model = 'gpt-3.5-turbo'):\n",
    "    res = openai.ChatCompletion.create(\n",
    "        model = model, \n",
    "        messages = messages\n",
    "    )\n",
    "    answer = res['choices'][0]['message']['content']\n",
    "    return answer"
   ]
  },
  {
   "cell_type": "markdown",
   "id": "6a8bdef0",
   "metadata": {},
   "source": [
    "### 기본 답변"
   ]
  },
  {
   "cell_type": "code",
   "execution_count": null,
   "id": "f60a5d36",
   "metadata": {},
   "outputs": [],
   "source": [
    "ChatCompletionCreate(messages = [\n",
    "    {'role': 'user', \n",
    "     'content': '파이썬에서 엑셀 파일을 읽고 데이터프레임 만드는 코드를 알려줘.'}\n",
    "])"
   ]
  },
  {
   "cell_type": "markdown",
   "id": "0ed1e28d",
   "metadata": {},
   "source": [
    "파이썬에서 엑셀 파일을 읽고 데이터프레임으로 만드는 방법은 pandas 라이브러리를 사용하는 것이 가장 간편합니다. \\n\\n1. pandas 라이브러리를 import 합니다.\\n\\n```python\\nimport pandas as pd\\n```\\n\\n2. read_excel 함수를 사용하여 엑셀 파일을 읽습니다. 인자로는 파일 경로와 파일 이름을 문자열로 전달합니다.\\n\\n```python\\ndf = pd.read_excel('파일경로/파일명.xlsx')\\n```\\n\\n3. 데이터프레임을 출력하거나, 분석을 위해 다양한 데이터 처리 작업을 수행합니다.\\n\\n```python\\nprint(df.head())\\n```\\n\\n전체 코드는 다음과 같습니다.\\n\\n```python\\nimport pandas as pd\\n\\ndf = pd.read_excel('파일경로/파일명.xlsx')\\nprint(df.head())\\n``` \\n\\n위 코드를 실행하면 엑셀 파일이 읽혀서 데이터프레임으로 만들어지는 것을 확인할 수 있습니다. 만약 다른 옵션을 설정하여 데이터프레임을 생성하고 싶다면, pandas 문서를 참고하시면 됩니다."
   ]
  },
  {
   "cell_type": "markdown",
   "id": "190dfa08",
   "metadata": {},
   "source": [
    "### 역할 부여"
   ]
  },
  {
   "cell_type": "code",
   "execution_count": null,
   "id": "a82c3d0d",
   "metadata": {},
   "outputs": [],
   "source": [
    "ChatCompletionCreate(messages = [\n",
    "    {'role': 'system', \n",
    "     'content': '너는 파이썬을 가르치는 아주 친절한 AI 강사야.'},\n",
    "    {'role': 'user', \n",
    "     'content': '파이썬에서 엑셀 파일을 읽고 데이터프레임 만드는 코드를 알려줘.'}\n",
    "])"
   ]
  },
  {
   "cell_type": "markdown",
   "id": "cd95a4bf",
   "metadata": {},
   "source": [
    "파이썬에서 엑셀 파일을 읽어와 데이터프레임을 만들려면 pandas 모듈을 사용할 수 있습니다. 아래는 예시 코드입니다.\\n\\n```python\\nimport pandas as pd\\n\\n# 엑셀 파일 경로\\nexcel_file_path = \"파일 경로.xlsx\"\\n\\n# 엑셀 파일 읽기\\ndf = pd.read_excel(excel_file_path)\\n\\n# 데이터프레임 출력\\nprint(df)\\n```\\n\\n위 코드에서 `read_excel()` 함수를 사용하여 엑셀 파일을 읽어와서 데이터프레임을 생성합니다. `pd`는 pandas 모듈의 별칭(alias)으로 사용되며, `df`는 데이터프레임을 저장할 변수명입니다. 만약 한글이 포함된 파일명을 사용하면 인코딩 에러가 발생할 수 있으므로, 인코딩 옵션을 설정해 주는 것이 좋습니다. 일반적으로 한글 파일의 인코딩은 `utf-8`을 사용합니다."
   ]
  },
  {
   "cell_type": "markdown",
   "id": "6bcfd5d3",
   "metadata": {},
   "source": [
    "### 지시문 추가"
   ]
  },
  {
   "cell_type": "code",
   "execution_count": null,
   "id": "5e8931e7",
   "metadata": {},
   "outputs": [],
   "source": [
    "ChatCompletionCreate(messages = [\n",
    "    {'role': 'system', \n",
    "     'content': 'You\\'re a chatbot that answers questions in Korean.'},\n",
    "    {'role': 'user', \n",
    "     'content': '2020년 월드시리즈에서 누가 우승했어?'}\n",
    "])"
   ]
  },
  {
   "cell_type": "code",
   "execution_count": null,
   "id": "1e37449d",
   "metadata": {},
   "outputs": [],
   "source": [
    "ChatCompletionCreate(messages = [\n",
    "    {'role': 'system', \n",
    "     'content': '너는 질문에 답변하는 챗봇이야. 답변은 한글로 해줘.'},\n",
    "    {'role': 'user', \n",
    "     'content': '2020년 월드시리즈에서 누가 우승했어?'}\n",
    "])"
   ]
  },
  {
   "cell_type": "markdown",
   "id": "00c3cc17",
   "metadata": {},
   "source": [
    "### 답변 거부"
   ]
  },
  {
   "cell_type": "code",
   "execution_count": null,
   "id": "47ed6279",
   "metadata": {},
   "outputs": [],
   "source": [
    "ChatCompletionCreate(messages = [\n",
    "    {'role': 'system', \n",
    "     'content': 'You\\'re a chatbot that refuses to answer and say sorry when users ask questions.'},\n",
    "    {'role': 'user', \n",
    "     'content': '2020년 월드시리즈에서 누가 우승했어?'}\n",
    "])"
   ]
  },
  {
   "cell_type": "markdown",
   "id": "b07bf72e",
   "metadata": {},
   "source": [
    "### 번역"
   ]
  },
  {
   "cell_type": "code",
   "execution_count": null,
   "id": "a8aa2aab",
   "metadata": {},
   "outputs": [],
   "source": [
    "ChatCompletionCreate(messages = [\n",
    "    {'role': 'system', \n",
    "     'content': 'You\\'re a translator who translates user input.'},\n",
    "    {'role': 'user', \n",
    "     'content': '2020년 월드시리즈에서 누가 우승했어?'}\n",
    "])"
   ]
  },
  {
   "cell_type": "markdown",
   "id": "0d147496",
   "metadata": {},
   "source": [
    "### 이전 대화 포함하여 답변: 인컨텍스 러닝"
   ]
  },
  {
   "cell_type": "code",
   "execution_count": null,
   "id": "264d010b",
   "metadata": {},
   "outputs": [],
   "source": [
    "answer = ChatCompletionCreate(messages = [\n",
    "    {'role': 'user', \n",
    "     'content': '2002년 월드컵에서 가장 화제가 되었던 나라는 어디야?'}\n",
    "])"
   ]
  },
  {
   "cell_type": "code",
   "execution_count": null,
   "id": "67b4ffa8",
   "metadata": {},
   "outputs": [],
   "source": [
    "answer"
   ]
  },
  {
   "cell_type": "code",
   "execution_count": null,
   "id": "5869d00c",
   "metadata": {},
   "outputs": [],
   "source": [
    "ChatCompletionCreate(messages = [\n",
    "    {'role': 'user', \n",
    "     'content': '그 나라가 화제가 되었던 이유를 자세하게 설명해줘.'}\n",
    "])"
   ]
  },
  {
   "cell_type": "code",
   "execution_count": null,
   "id": "76ef5f42",
   "metadata": {},
   "outputs": [],
   "source": [
    "ChatCompletionCreate(messages = [\n",
    "    {'role': 'user', \n",
    "     'content': '2002년 월드컵에서 가장 화제가 되었던 나라는 어디야?'},\n",
    "    {'role': 'assistant', \n",
    "     'content': answer},\n",
    "    {'role': 'user', \n",
    "     'content': '그 나라가 화제가 되었던 이유를 자세하게 설명해줘.'}\n",
    "])"
   ]
  },
  {
   "cell_type": "code",
   "execution_count": null,
   "id": "4d7760c4",
   "metadata": {},
   "outputs": [],
   "source": []
  }
 ],
 "metadata": {
  "kernelspec": {
   "display_name": "Python 3 (ipykernel)",
   "language": "python",
   "name": "python3"
  },
  "language_info": {
   "codemirror_mode": {
    "name": "ipython",
    "version": 3
   },
   "file_extension": ".py",
   "mimetype": "text/x-python",
   "name": "python",
   "nbconvert_exporter": "python",
   "pygments_lexer": "ipython3",
   "version": "3.11.3"
  },
  "varInspector": {
   "cols": {
    "lenName": 16,
    "lenType": 16,
    "lenVar": 40
   },
   "kernels_config": {
    "python": {
     "delete_cmd_postfix": "",
     "delete_cmd_prefix": "del ",
     "library": "var_list.py",
     "varRefreshCmd": "print(var_dic_list())"
    },
    "r": {
     "delete_cmd_postfix": ") ",
     "delete_cmd_prefix": "rm(",
     "library": "var_list.r",
     "varRefreshCmd": "cat(var_dic_list()) "
    }
   },
   "types_to_exclude": [
    "module",
    "function",
    "builtin_function_or_method",
    "instance",
    "_Feature"
   ],
   "window_display": false
  }
 },
 "nbformat": 4,
 "nbformat_minor": 5
}
