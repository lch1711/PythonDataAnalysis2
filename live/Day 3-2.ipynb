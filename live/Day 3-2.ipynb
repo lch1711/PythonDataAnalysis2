{
 "cells": [
  {
   "cell_type": "markdown",
   "id": "fc09e07d",
   "metadata": {},
   "source": [
    "## 로지스틱 회귀분석"
   ]
  },
  {
   "cell_type": "markdown",
   "id": "7d56d659",
   "metadata": {},
   "source": [
    "### 관련 라이브러리 호출"
   ]
  },
  {
   "cell_type": "code",
   "execution_count": 1,
   "id": "alien-controversy",
   "metadata": {
    "ExecuteTime": {
     "end_time": "2022-06-11T04:55:04.050027Z",
     "start_time": "2022-06-11T04:55:02.854491Z"
    }
   },
   "outputs": [],
   "source": [
    "# 관련 라이브러리를 호출합니다.\n",
    "import os\n",
    "import joblib\n",
    "import numpy as np\n",
    "import pandas as pd\n",
    "from scipy import stats\n",
    "import pingouin as pg"
   ]
  },
  {
   "cell_type": "code",
   "execution_count": 2,
   "id": "3c3ad5fc",
   "metadata": {
    "ExecuteTime": {
     "end_time": "2022-06-11T04:55:04.338408Z",
     "start_time": "2022-06-11T04:55:04.052268Z"
    }
   },
   "outputs": [],
   "source": [
    "# 시각화 설정 모듈을 호출합니다.\n",
    "from GraphicSetting import *\n",
    "\n",
    "# EDA 시각화 및 통계 분석 관련 모듈을 호출합니다.\n",
    "import hds_stats as hds"
   ]
  },
  {
   "cell_type": "markdown",
   "id": "separate-davis",
   "metadata": {},
   "source": [
    "### 실습 데이터셋 준비"
   ]
  },
  {
   "cell_type": "code",
   "execution_count": 3,
   "id": "realistic-noise",
   "metadata": {
    "ExecuteTime": {
     "end_time": "2022-06-11T04:55:04.919444Z",
     "start_time": "2022-06-11T04:55:04.340122Z"
    }
   },
   "outputs": [],
   "source": [
    "# 인터넷에 공유 중인 텍스트 데이터를 읽고 데이터프레임 df를 생성합니다.\n",
    "df = pd.read_csv(filepath_or_buffer = 'https://bit.ly/UnivAdmit')"
   ]
  },
  {
   "cell_type": "code",
   "execution_count": 4,
   "id": "martial-jacket",
   "metadata": {
    "ExecuteTime": {
     "end_time": "2022-06-11T04:55:04.930110Z",
     "start_time": "2022-06-11T04:55:04.922394Z"
    }
   },
   "outputs": [
    {
     "name": "stdout",
     "output_type": "stream",
     "text": [
      "<class 'pandas.core.frame.DataFrame'>\n",
      "RangeIndex: 1687 entries, 0 to 1686\n",
      "Data columns (total 4 columns):\n",
      " #   Column  Non-Null Count  Dtype  \n",
      "---  ------  --------------  -----  \n",
      " 0   admit   1687 non-null   object \n",
      " 1   gre     1687 non-null   float64\n",
      " 2   gpa     1687 non-null   float64\n",
      " 3   rank    1687 non-null   int64  \n",
      "dtypes: float64(2), int64(1), object(1)\n",
      "memory usage: 52.8+ KB\n"
     ]
    }
   ],
   "source": [
    "# df의 정보를 확인합니다.\n",
    "df.info()"
   ]
  },
  {
   "cell_type": "code",
   "execution_count": 5,
   "id": "2d6ab82d",
   "metadata": {
    "ExecuteTime": {
     "end_time": "2022-06-11T04:55:04.944649Z",
     "start_time": "2022-06-11T04:55:04.931736Z"
    }
   },
   "outputs": [
    {
     "data": {
      "text/html": [
       "<div>\n",
       "<style scoped>\n",
       "    .dataframe tbody tr th:only-of-type {\n",
       "        vertical-align: middle;\n",
       "    }\n",
       "\n",
       "    .dataframe tbody tr th {\n",
       "        vertical-align: top;\n",
       "    }\n",
       "\n",
       "    .dataframe thead th {\n",
       "        text-align: right;\n",
       "    }\n",
       "</style>\n",
       "<table border=\"1\" class=\"dataframe\">\n",
       "  <thead>\n",
       "    <tr style=\"text-align: right;\">\n",
       "      <th></th>\n",
       "      <th>admit</th>\n",
       "      <th>gre</th>\n",
       "      <th>gpa</th>\n",
       "      <th>rank</th>\n",
       "    </tr>\n",
       "  </thead>\n",
       "  <tbody>\n",
       "    <tr>\n",
       "      <th>0</th>\n",
       "      <td>Fail</td>\n",
       "      <td>380.0</td>\n",
       "      <td>3.61</td>\n",
       "      <td>3</td>\n",
       "    </tr>\n",
       "    <tr>\n",
       "      <th>1</th>\n",
       "      <td>Pass</td>\n",
       "      <td>660.0</td>\n",
       "      <td>3.67</td>\n",
       "      <td>3</td>\n",
       "    </tr>\n",
       "    <tr>\n",
       "      <th>2</th>\n",
       "      <td>Pass</td>\n",
       "      <td>800.0</td>\n",
       "      <td>4.00</td>\n",
       "      <td>1</td>\n",
       "    </tr>\n",
       "    <tr>\n",
       "      <th>3</th>\n",
       "      <td>Pass</td>\n",
       "      <td>640.0</td>\n",
       "      <td>3.19</td>\n",
       "      <td>4</td>\n",
       "    </tr>\n",
       "    <tr>\n",
       "      <th>4</th>\n",
       "      <td>Fail</td>\n",
       "      <td>520.0</td>\n",
       "      <td>2.93</td>\n",
       "      <td>4</td>\n",
       "    </tr>\n",
       "  </tbody>\n",
       "</table>\n",
       "</div>"
      ],
      "text/plain": [
       "  admit    gre   gpa  rank\n",
       "0  Fail  380.0  3.61     3\n",
       "1  Pass  660.0  3.67     3\n",
       "2  Pass  800.0  4.00     1\n",
       "3  Pass  640.0  3.19     4\n",
       "4  Fail  520.0  2.93     4"
      ]
     },
     "execution_count": 5,
     "metadata": {},
     "output_type": "execute_result"
    }
   ],
   "source": [
    "# df의 처음 5행을 출력합니다.\n",
    "df.head()"
   ]
  },
  {
   "cell_type": "code",
   "execution_count": 6,
   "id": "45c4361e",
   "metadata": {},
   "outputs": [],
   "source": [
    "# y절편 역할을 수행할 상수 1을 df의 두 번째 열로 삽입합니다.\n",
    "df.insert(loc = 1, column = 'const', value = 1)"
   ]
  },
  {
   "cell_type": "markdown",
   "id": "67a7417f",
   "metadata": {},
   "source": [
    "### 실습 데이터셋 전처리"
   ]
  },
  {
   "cell_type": "code",
   "execution_count": 7,
   "id": "31cf2953",
   "metadata": {
    "ExecuteTime": {
     "end_time": "2022-06-11T04:55:04.949060Z",
     "start_time": "2022-06-11T04:55:04.946349Z"
    }
   },
   "outputs": [],
   "source": [
    "# rank를 범주형으로 변환합니다.\n",
    "df['rank'] = df['rank'].astype(str)"
   ]
  },
  {
   "cell_type": "code",
   "execution_count": 8,
   "id": "f901099a",
   "metadata": {
    "ExecuteTime": {
     "end_time": "2022-06-11T04:55:04.961759Z",
     "start_time": "2022-06-11T04:55:04.950593Z"
    }
   },
   "outputs": [
    {
     "data": {
      "text/html": [
       "<div>\n",
       "<style scoped>\n",
       "    .dataframe tbody tr th:only-of-type {\n",
       "        vertical-align: middle;\n",
       "    }\n",
       "\n",
       "    .dataframe tbody tr th {\n",
       "        vertical-align: top;\n",
       "    }\n",
       "\n",
       "    .dataframe thead th {\n",
       "        text-align: right;\n",
       "    }\n",
       "</style>\n",
       "<table border=\"1\" class=\"dataframe\">\n",
       "  <thead>\n",
       "    <tr style=\"text-align: right;\">\n",
       "      <th></th>\n",
       "      <th>const</th>\n",
       "      <th>gre</th>\n",
       "      <th>gpa</th>\n",
       "    </tr>\n",
       "  </thead>\n",
       "  <tbody>\n",
       "    <tr>\n",
       "      <th>count</th>\n",
       "      <td>1687.0</td>\n",
       "      <td>1687.000000</td>\n",
       "      <td>1687.000000</td>\n",
       "    </tr>\n",
       "    <tr>\n",
       "      <th>mean</th>\n",
       "      <td>1.0</td>\n",
       "      <td>574.303497</td>\n",
       "      <td>3.346183</td>\n",
       "    </tr>\n",
       "    <tr>\n",
       "      <th>std</th>\n",
       "      <td>0.0</td>\n",
       "      <td>97.923750</td>\n",
       "      <td>0.321537</td>\n",
       "    </tr>\n",
       "    <tr>\n",
       "      <th>min</th>\n",
       "      <td>1.0</td>\n",
       "      <td>220.000000</td>\n",
       "      <td>2.260000</td>\n",
       "    </tr>\n",
       "    <tr>\n",
       "      <th>25%</th>\n",
       "      <td>1.0</td>\n",
       "      <td>510.000000</td>\n",
       "      <td>3.130000</td>\n",
       "    </tr>\n",
       "    <tr>\n",
       "      <th>50%</th>\n",
       "      <td>1.0</td>\n",
       "      <td>580.000000</td>\n",
       "      <td>3.360000</td>\n",
       "    </tr>\n",
       "    <tr>\n",
       "      <th>75%</th>\n",
       "      <td>1.0</td>\n",
       "      <td>640.000000</td>\n",
       "      <td>3.580000</td>\n",
       "    </tr>\n",
       "    <tr>\n",
       "      <th>max</th>\n",
       "      <td>1.0</td>\n",
       "      <td>800.000000</td>\n",
       "      <td>4.000000</td>\n",
       "    </tr>\n",
       "  </tbody>\n",
       "</table>\n",
       "</div>"
      ],
      "text/plain": [
       "        const          gre          gpa\n",
       "count  1687.0  1687.000000  1687.000000\n",
       "mean      1.0   574.303497     3.346183\n",
       "std       0.0    97.923750     0.321537\n",
       "min       1.0   220.000000     2.260000\n",
       "25%       1.0   510.000000     3.130000\n",
       "50%       1.0   580.000000     3.360000\n",
       "75%       1.0   640.000000     3.580000\n",
       "max       1.0   800.000000     4.000000"
      ]
     },
     "execution_count": 8,
     "metadata": {},
     "output_type": "execute_result"
    }
   ],
   "source": [
    "# 연속형 변수의 기술통계량을 확인합니다.\n",
    "df.describe()"
   ]
  },
  {
   "cell_type": "code",
   "execution_count": 9,
   "id": "5a658311",
   "metadata": {
    "ExecuteTime": {
     "end_time": "2022-06-11T04:55:04.970987Z",
     "start_time": "2022-06-11T04:55:04.963353Z"
    }
   },
   "outputs": [
    {
     "data": {
      "text/html": [
       "<div>\n",
       "<style scoped>\n",
       "    .dataframe tbody tr th:only-of-type {\n",
       "        vertical-align: middle;\n",
       "    }\n",
       "\n",
       "    .dataframe tbody tr th {\n",
       "        vertical-align: top;\n",
       "    }\n",
       "\n",
       "    .dataframe thead th {\n",
       "        text-align: right;\n",
       "    }\n",
       "</style>\n",
       "<table border=\"1\" class=\"dataframe\">\n",
       "  <thead>\n",
       "    <tr style=\"text-align: right;\">\n",
       "      <th></th>\n",
       "      <th>admit</th>\n",
       "      <th>rank</th>\n",
       "    </tr>\n",
       "  </thead>\n",
       "  <tbody>\n",
       "    <tr>\n",
       "      <th>count</th>\n",
       "      <td>1687</td>\n",
       "      <td>1687</td>\n",
       "    </tr>\n",
       "    <tr>\n",
       "      <th>unique</th>\n",
       "      <td>2</td>\n",
       "      <td>4</td>\n",
       "    </tr>\n",
       "    <tr>\n",
       "      <th>top</th>\n",
       "      <td>Fail</td>\n",
       "      <td>2</td>\n",
       "    </tr>\n",
       "    <tr>\n",
       "      <th>freq</th>\n",
       "      <td>1163</td>\n",
       "      <td>568</td>\n",
       "    </tr>\n",
       "  </tbody>\n",
       "</table>\n",
       "</div>"
      ],
      "text/plain": [
       "       admit  rank\n",
       "count   1687  1687\n",
       "unique     2     4\n",
       "top     Fail     2\n",
       "freq    1163   568"
      ]
     },
     "execution_count": 9,
     "metadata": {},
     "output_type": "execute_result"
    }
   ],
   "source": [
    "# 범주형 변수의 기술통계량을 확인합니다.\n",
    "df.describe(include = object)"
   ]
  },
  {
   "cell_type": "code",
   "execution_count": 10,
   "id": "4010d7a9",
   "metadata": {
    "ExecuteTime": {
     "end_time": "2022-06-11T04:55:04.978897Z",
     "start_time": "2022-06-11T04:55:04.973525Z"
    }
   },
   "outputs": [
    {
     "data": {
      "text/plain": [
       "rank\n",
       "1    273\n",
       "2    568\n",
       "3    540\n",
       "4    306\n",
       "Name: count, dtype: int64"
      ]
     },
     "execution_count": 10,
     "metadata": {},
     "output_type": "execute_result"
    }
   ],
   "source": [
    "# rank의 범주별 빈도수를 출력합니다.\n",
    "df['rank'].value_counts().sort_index()"
   ]
  },
  {
   "cell_type": "markdown",
   "id": "112fc20e",
   "metadata": {},
   "source": [
    "### 목표변수 시각화"
   ]
  },
  {
   "cell_type": "code",
   "execution_count": 11,
   "id": "shared-database",
   "metadata": {
    "ExecuteTime": {
     "end_time": "2022-06-11T04:55:05.081896Z",
     "start_time": "2022-06-11T04:55:04.982892Z"
    }
   },
   "outputs": [
    {
     "data": {
      "image/png": "[encoded data removed]",
      "text/plain": [
       "<Figure size 400x400 with 1 Axes>"
      ]
     },
     "metadata": {},
     "output_type": "display_data"
    }
   ],
   "source": [
    "# 목표변수 범주별 빈도수로 일변량 막대 그래프를 그립니다.\n",
    "hds.plot.bar_freq(\n",
    "    data = df, \n",
    "    x = 'admit', \n",
    "    pal = ['skyblue', 'orange']\n",
    ")"
   ]
  },
  {
   "cell_type": "markdown",
   "id": "attempted-operations",
   "metadata": {},
   "source": [
    "### 입력변수와 관계 파악: gre"
   ]
  },
  {
   "cell_type": "code",
   "execution_count": 12,
   "id": "important-college",
   "metadata": {
    "ExecuteTime": {
     "end_time": "2022-06-11T04:55:05.193009Z",
     "start_time": "2022-06-11T04:55:05.083701Z"
    }
   },
   "outputs": [
    {
     "data": {
      "image/png": "[encoded data removed]",
      "text/plain": [
       "<Figure size 400x400 with 1 Axes>"
      ]
     },
     "metadata": {},
     "output_type": "display_data"
    }
   ],
   "source": [
    "# admit 범주별 gre의 상자 수염 그림을 그립니다.\n",
    "hds.plot.box_group(\n",
    "    data = df, \n",
    "    x = 'admit', \n",
    "    y = 'gre', \n",
    "    pal = ['skyblue', 'orange']\n",
    ")"
   ]
  },
  {
   "cell_type": "markdown",
   "id": "b781873a",
   "metadata": {},
   "source": [
    "### 입력변수와 관계 파악: gpa"
   ]
  },
  {
   "cell_type": "code",
   "execution_count": 13,
   "id": "synthetic-leader",
   "metadata": {
    "ExecuteTime": {
     "end_time": "2022-06-11T04:55:05.305686Z",
     "start_time": "2022-06-11T04:55:05.194837Z"
    }
   },
   "outputs": [
    {
     "data": {
      "image/png": "[encoded data removed]",
      "text/plain": [
       "<Figure size 400x400 with 1 Axes>"
      ]
     },
     "metadata": {},
     "output_type": "display_data"
    }
   ],
   "source": [
    "# admit 범주별 gpa의 상자 수염 그림을 그립니다.\n",
    "hds.plot.box_group(\n",
    "    data = df, \n",
    "    x = 'admit', \n",
    "    y = 'gpa', \n",
    "    pal = ['skyblue', 'orange']\n",
    ")"
   ]
  },
  {
   "cell_type": "markdown",
   "id": "a8aec4e6",
   "metadata": {},
   "source": [
    "### 입력변수와 관계 파악: rank"
   ]
  },
  {
   "cell_type": "code",
   "execution_count": 14,
   "id": "a599e972",
   "metadata": {
    "ExecuteTime": {
     "end_time": "2022-06-11T04:55:05.481819Z",
     "start_time": "2022-06-11T04:55:05.307470Z"
    }
   },
   "outputs": [
    {
     "data": {
      "image/png": "[encoded data removed]",
      "text/plain": [
       "<Figure size 400x400 with 1 Axes>"
      ]
     },
     "metadata": {},
     "output_type": "display_data"
    }
   ],
   "source": [
    "# rank 범주별 admit의 빈도수로 묶음 막대 그래프를 그립니다.\n",
    "hds.plot.bar_dodge_freq(\n",
    "    data = df, \n",
    "    x = 'rank', \n",
    "    group = 'admit', \n",
    "    pal = ['skyblue', 'orange']\n",
    ")"
   ]
  },
  {
   "cell_type": "code",
   "execution_count": 15,
   "id": "f09eb2ab",
   "metadata": {
    "ExecuteTime": {
     "end_time": "2022-06-11T04:55:05.609597Z",
     "start_time": "2022-06-11T04:55:05.483540Z"
    }
   },
   "outputs": [
    {
     "data": {
      "image/png": "[encoded data removed]",
      "text/plain": [
       "<Figure size 400x400 with 1 Axes>"
      ]
     },
     "metadata": {},
     "output_type": "display_data"
    }
   ],
   "source": [
    "# rank 범주별 admit의 빈도수로 쌓은 막대 그래프를 그립니다.\n",
    "hds.plot.bar_stack_freq(\n",
    "    data = df, \n",
    "    x = 'rank', \n",
    "    group = 'admit', \n",
    "    pal = ['skyblue', 'orange']\n",
    ")"
   ]
  },
  {
   "cell_type": "code",
   "execution_count": 16,
   "id": "rental-homeless",
   "metadata": {
    "ExecuteTime": {
     "end_time": "2022-06-11T04:55:05.734227Z",
     "start_time": "2022-06-11T04:55:05.611463Z"
    }
   },
   "outputs": [
    {
     "data": {
      "image/png": "[encoded data removed]",
      "text/plain": [
       "<Figure size 400x400 with 1 Axes>"
      ]
     },
     "metadata": {},
     "output_type": "display_data"
    }
   ],
   "source": [
    "# rank 범주별 admit의 상대도수로 쌓은 막대 그래프를 그립니다.\n",
    "hds.plot.bar_stack_prop(\n",
    "    data = df, \n",
    "    x = 'rank', \n",
    "    group = 'admit', \n",
    "    pal = ['skyblue', 'orange']\n",
    ");"
   ]
  },
  {
   "cell_type": "markdown",
   "id": "5fde44a8",
   "metadata": {},
   "source": [
    "### t-검정: gre"
   ]
  },
  {
   "cell_type": "code",
   "execution_count": 17,
   "id": "5a4ad707",
   "metadata": {},
   "outputs": [
    {
     "data": {
      "text/html": [
       "<div>\n",
       "<style scoped>\n",
       "    .dataframe tbody tr th:only-of-type {\n",
       "        vertical-align: middle;\n",
       "    }\n",
       "\n",
       "    .dataframe tbody tr th {\n",
       "        vertical-align: top;\n",
       "    }\n",
       "\n",
       "    .dataframe thead th {\n",
       "        text-align: right;\n",
       "    }\n",
       "</style>\n",
       "<table border=\"1\" class=\"dataframe\">\n",
       "  <thead>\n",
       "    <tr style=\"text-align: right;\">\n",
       "      <th></th>\n",
       "      <th>W</th>\n",
       "      <th>pval</th>\n",
       "      <th>normal</th>\n",
       "    </tr>\n",
       "    <tr>\n",
       "      <th>admit</th>\n",
       "      <th></th>\n",
       "      <th></th>\n",
       "      <th></th>\n",
       "    </tr>\n",
       "  </thead>\n",
       "  <tbody>\n",
       "    <tr>\n",
       "      <th>Fail</th>\n",
       "      <td>0.990862</td>\n",
       "      <td>0.000001</td>\n",
       "      <td>False</td>\n",
       "    </tr>\n",
       "    <tr>\n",
       "      <th>Pass</th>\n",
       "      <td>0.992275</td>\n",
       "      <td>0.008149</td>\n",
       "      <td>False</td>\n",
       "    </tr>\n",
       "  </tbody>\n",
       "</table>\n",
       "</div>"
      ],
      "text/plain": [
       "              W      pval  normal\n",
       "admit                            \n",
       "Fail   0.990862  0.000001   False\n",
       "Pass   0.992275  0.008149   False"
      ]
     },
     "execution_count": 17,
     "metadata": {},
     "output_type": "execute_result"
    }
   ],
   "source": [
    "pg.normality(data = df, dv = 'gre', group = 'admit')"
   ]
  },
  {
   "cell_type": "code",
   "execution_count": 21,
   "id": "aa628fb4",
   "metadata": {},
   "outputs": [
    {
     "data": {
      "text/plain": [
       "admit\n",
       "Fail    556.079106\n",
       "Pass    614.751908\n",
       "Name: gre, dtype: float64"
      ]
     },
     "execution_count": 21,
     "metadata": {},
     "output_type": "execute_result"
    }
   ],
   "source": [
    "df.groupby(by = 'admit')['gre'].mean()"
   ]
  },
  {
   "cell_type": "code",
   "execution_count": 27,
   "id": "4f086339",
   "metadata": {},
   "outputs": [
    {
     "data": {
      "image/png": "[encoded data removed]",
      "text/plain": [
       "<Figure size 400x400 with 1 Axes>"
      ]
     },
     "metadata": {},
     "output_type": "display_data"
    }
   ],
   "source": [
    "sns.kdeplot(data = df, x = 'gre', hue = 'admit', fill = True)\n",
    "plt.axvline(x = 556.1, color = 'blue', lw = 0.5, ls = '--')\n",
    "plt.axvline(x = 614.8, color = 'orange', lw = 0.5, ls = '--');"
   ]
  },
  {
   "cell_type": "code",
   "execution_count": 28,
   "id": "d03bd596",
   "metadata": {
    "ExecuteTime": {
     "end_time": "2022-06-11T04:55:05.745577Z",
     "start_time": "2022-06-11T04:55:05.735942Z"
    }
   },
   "outputs": [
    {
     "data": {
      "text/html": [
       "<div>\n",
       "<style scoped>\n",
       "    .dataframe tbody tr th:only-of-type {\n",
       "        vertical-align: middle;\n",
       "    }\n",
       "\n",
       "    .dataframe tbody tr th {\n",
       "        vertical-align: top;\n",
       "    }\n",
       "\n",
       "    .dataframe thead th {\n",
       "        text-align: right;\n",
       "    }\n",
       "</style>\n",
       "<table border=\"1\" class=\"dataframe\">\n",
       "  <thead>\n",
       "    <tr style=\"text-align: right;\">\n",
       "      <th></th>\n",
       "      <th>W</th>\n",
       "      <th>pval</th>\n",
       "      <th>equal_var</th>\n",
       "    </tr>\n",
       "  </thead>\n",
       "  <tbody>\n",
       "    <tr>\n",
       "      <th>levene</th>\n",
       "      <td>3.596208</td>\n",
       "      <td>0.058082</td>\n",
       "      <td>True</td>\n",
       "    </tr>\n",
       "  </tbody>\n",
       "</table>\n",
       "</div>"
      ],
      "text/plain": [
       "               W      pval  equal_var\n",
       "levene  3.596208  0.058082       True"
      ]
     },
     "execution_count": 28,
     "metadata": {},
     "output_type": "execute_result"
    }
   ],
   "source": [
    "# (정규성 가정 만족) 등분산 검정을 실행합니다.\n",
    "pg.homoscedasticity(data = df, dv = 'gre', group = 'admit')"
   ]
  },
  {
   "cell_type": "code",
   "execution_count": 29,
   "id": "010f1451",
   "metadata": {
    "ExecuteTime": {
     "end_time": "2022-06-11T04:55:05.750178Z",
     "start_time": "2022-06-11T04:55:05.747245Z"
    }
   },
   "outputs": [],
   "source": [
    "# admit 범주별 gre로 시리즈를 생성합니다.\n",
    "sp1 = df['gre'][df['admit'].eq('Fail')]\n",
    "sp2 = df['gre'][df['admit'].eq('Pass')]"
   ]
  },
  {
   "cell_type": "code",
   "execution_count": 30,
   "id": "dba616fe",
   "metadata": {
    "ExecuteTime": {
     "end_time": "2022-06-11T04:55:05.761349Z",
     "start_time": "2022-06-11T04:55:05.752140Z"
    }
   },
   "outputs": [
    {
     "data": {
      "text/html": [
       "<div>\n",
       "<style scoped>\n",
       "    .dataframe tbody tr th:only-of-type {\n",
       "        vertical-align: middle;\n",
       "    }\n",
       "\n",
       "    .dataframe tbody tr th {\n",
       "        vertical-align: top;\n",
       "    }\n",
       "\n",
       "    .dataframe thead th {\n",
       "        text-align: right;\n",
       "    }\n",
       "</style>\n",
       "<table border=\"1\" class=\"dataframe\">\n",
       "  <thead>\n",
       "    <tr style=\"text-align: right;\">\n",
       "      <th></th>\n",
       "      <th>T</th>\n",
       "      <th>dof</th>\n",
       "      <th>alternative</th>\n",
       "      <th>p-val</th>\n",
       "      <th>CI95%</th>\n",
       "      <th>cohen-d</th>\n",
       "      <th>BF10</th>\n",
       "      <th>power</th>\n",
       "    </tr>\n",
       "  </thead>\n",
       "  <tbody>\n",
       "    <tr>\n",
       "      <th>T-test</th>\n",
       "      <td>-11.849448</td>\n",
       "      <td>1685</td>\n",
       "      <td>two-sided</td>\n",
       "      <td>3.604961e-31</td>\n",
       "      <td>[-68.38, -48.96]</td>\n",
       "      <td>0.623448</td>\n",
       "      <td>6.726e+27</td>\n",
       "      <td>1.0</td>\n",
       "    </tr>\n",
       "  </tbody>\n",
       "</table>\n",
       "</div>"
      ],
      "text/plain": [
       "                T   dof alternative         p-val             CI95%   cohen-d   \n",
       "T-test -11.849448  1685   two-sided  3.604961e-31  [-68.38, -48.96]  0.623448  \\\n",
       "\n",
       "             BF10  power  \n",
       "T-test  6.726e+27    1.0  "
      ]
     },
     "execution_count": 30,
     "metadata": {},
     "output_type": "execute_result"
    }
   ],
   "source": [
    "# (정규성 가정 만족) 등분산 가정된 독립표본 t-검정을 실행합니다.\n",
    "pg.ttest(x = sp1, y = sp2, correction = False)"
   ]
  },
  {
   "cell_type": "markdown",
   "id": "cb9ba4a3",
   "metadata": {},
   "source": [
    "### t-검정 : gpa"
   ]
  },
  {
   "cell_type": "code",
   "execution_count": 31,
   "id": "a0775fdc",
   "metadata": {},
   "outputs": [
    {
     "data": {
      "text/html": [
       "<div>\n",
       "<style scoped>\n",
       "    .dataframe tbody tr th:only-of-type {\n",
       "        vertical-align: middle;\n",
       "    }\n",
       "\n",
       "    .dataframe tbody tr th {\n",
       "        vertical-align: top;\n",
       "    }\n",
       "\n",
       "    .dataframe thead th {\n",
       "        text-align: right;\n",
       "    }\n",
       "</style>\n",
       "<table border=\"1\" class=\"dataframe\">\n",
       "  <thead>\n",
       "    <tr style=\"text-align: right;\">\n",
       "      <th></th>\n",
       "      <th>W</th>\n",
       "      <th>pval</th>\n",
       "      <th>normal</th>\n",
       "    </tr>\n",
       "    <tr>\n",
       "      <th>admit</th>\n",
       "      <th></th>\n",
       "      <th></th>\n",
       "      <th></th>\n",
       "    </tr>\n",
       "  </thead>\n",
       "  <tbody>\n",
       "    <tr>\n",
       "      <th>Fail</th>\n",
       "      <td>0.993334</td>\n",
       "      <td>0.000044</td>\n",
       "      <td>False</td>\n",
       "    </tr>\n",
       "    <tr>\n",
       "      <th>Pass</th>\n",
       "      <td>0.984166</td>\n",
       "      <td>0.000018</td>\n",
       "      <td>False</td>\n",
       "    </tr>\n",
       "  </tbody>\n",
       "</table>\n",
       "</div>"
      ],
      "text/plain": [
       "              W      pval  normal\n",
       "admit                            \n",
       "Fail   0.993334  0.000044   False\n",
       "Pass   0.984166  0.000018   False"
      ]
     },
     "execution_count": 31,
     "metadata": {},
     "output_type": "execute_result"
    }
   ],
   "source": [
    "pg.normality(data = df, dv = 'gpa', group = 'admit')"
   ]
  },
  {
   "cell_type": "code",
   "execution_count": 32,
   "id": "6adf2484",
   "metadata": {},
   "outputs": [
    {
     "data": {
      "text/plain": [
       "admit\n",
       "Fail    3.287954\n",
       "Pass    3.475420\n",
       "Name: gpa, dtype: float64"
      ]
     },
     "execution_count": 32,
     "metadata": {},
     "output_type": "execute_result"
    }
   ],
   "source": [
    "df.groupby(by = 'admit')['gpa'].mean()"
   ]
  },
  {
   "cell_type": "code",
   "execution_count": 33,
   "id": "a57d5370",
   "metadata": {},
   "outputs": [
    {
     "data": {
      "image/png": "[encoded data removed]",
      "text/plain": [
       "<Figure size 400x400 with 1 Axes>"
      ]
     },
     "metadata": {},
     "output_type": "display_data"
    }
   ],
   "source": [
    "sns.kdeplot(data = df, x = 'gpa', hue = 'admit', fill = True)\n",
    "plt.axvline(x = 3.287954, color = 'blue', lw = 0.5, ls = '--')\n",
    "plt.axvline(x = 3.475420, color = 'orange', lw = 0.5, ls = '--');"
   ]
  },
  {
   "cell_type": "code",
   "execution_count": 34,
   "id": "8e1eedbe",
   "metadata": {
    "ExecuteTime": {
     "end_time": "2022-06-11T04:55:05.772349Z",
     "start_time": "2022-06-11T04:55:05.762901Z"
    }
   },
   "outputs": [
    {
     "data": {
      "text/html": [
       "<div>\n",
       "<style scoped>\n",
       "    .dataframe tbody tr th:only-of-type {\n",
       "        vertical-align: middle;\n",
       "    }\n",
       "\n",
       "    .dataframe tbody tr th {\n",
       "        vertical-align: top;\n",
       "    }\n",
       "\n",
       "    .dataframe thead th {\n",
       "        text-align: right;\n",
       "    }\n",
       "</style>\n",
       "<table border=\"1\" class=\"dataframe\">\n",
       "  <thead>\n",
       "    <tr style=\"text-align: right;\">\n",
       "      <th></th>\n",
       "      <th>W</th>\n",
       "      <th>pval</th>\n",
       "      <th>equal_var</th>\n",
       "    </tr>\n",
       "  </thead>\n",
       "  <tbody>\n",
       "    <tr>\n",
       "      <th>levene</th>\n",
       "      <td>0.678495</td>\n",
       "      <td>0.410222</td>\n",
       "      <td>True</td>\n",
       "    </tr>\n",
       "  </tbody>\n",
       "</table>\n",
       "</div>"
      ],
      "text/plain": [
       "               W      pval  equal_var\n",
       "levene  0.678495  0.410222       True"
      ]
     },
     "execution_count": 34,
     "metadata": {},
     "output_type": "execute_result"
    }
   ],
   "source": [
    "# (정규성 가정 만족) 등분산 검정을 실행합니다.\n",
    "pg.homoscedasticity(data = df, dv = 'gpa', group = 'admit')"
   ]
  },
  {
   "cell_type": "code",
   "execution_count": 35,
   "id": "b84be5e7",
   "metadata": {
    "ExecuteTime": {
     "end_time": "2022-06-11T04:55:05.778289Z",
     "start_time": "2022-06-11T04:55:05.774442Z"
    }
   },
   "outputs": [],
   "source": [
    "# admit 범주별 gpa로 시리즈를 생성합니다.\n",
    "sp1 = df['gpa'][df['admit'].eq('Fail')]\n",
    "sp2 = df['gpa'][df['admit'].eq('Pass')]"
   ]
  },
  {
   "cell_type": "code",
   "execution_count": 36,
   "id": "7ae06bb1",
   "metadata": {
    "ExecuteTime": {
     "end_time": "2022-06-11T04:55:05.788886Z",
     "start_time": "2022-06-11T04:55:05.779958Z"
    }
   },
   "outputs": [
    {
     "data": {
      "text/html": [
       "<div>\n",
       "<style scoped>\n",
       "    .dataframe tbody tr th:only-of-type {\n",
       "        vertical-align: middle;\n",
       "    }\n",
       "\n",
       "    .dataframe tbody tr th {\n",
       "        vertical-align: top;\n",
       "    }\n",
       "\n",
       "    .dataframe thead th {\n",
       "        text-align: right;\n",
       "    }\n",
       "</style>\n",
       "<table border=\"1\" class=\"dataframe\">\n",
       "  <thead>\n",
       "    <tr style=\"text-align: right;\">\n",
       "      <th></th>\n",
       "      <th>T</th>\n",
       "      <th>dof</th>\n",
       "      <th>alternative</th>\n",
       "      <th>p-val</th>\n",
       "      <th>CI95%</th>\n",
       "      <th>cohen-d</th>\n",
       "      <th>BF10</th>\n",
       "      <th>power</th>\n",
       "    </tr>\n",
       "  </thead>\n",
       "  <tbody>\n",
       "    <tr>\n",
       "      <th>T-test</th>\n",
       "      <td>-11.50489</td>\n",
       "      <td>1685</td>\n",
       "      <td>two-sided</td>\n",
       "      <td>1.531444e-29</td>\n",
       "      <td>[-0.22, -0.16]</td>\n",
       "      <td>0.605319</td>\n",
       "      <td>1.664e+26</td>\n",
       "      <td>1.0</td>\n",
       "    </tr>\n",
       "  </tbody>\n",
       "</table>\n",
       "</div>"
      ],
      "text/plain": [
       "               T   dof alternative         p-val           CI95%   cohen-d   \n",
       "T-test -11.50489  1685   two-sided  1.531444e-29  [-0.22, -0.16]  0.605319  \\\n",
       "\n",
       "             BF10  power  \n",
       "T-test  1.664e+26    1.0  "
      ]
     },
     "execution_count": 36,
     "metadata": {},
     "output_type": "execute_result"
    }
   ],
   "source": [
    "# (정규성 가정 만족) 등분산 가정된 독립표본 t-검정을 실행합니다.\n",
    "pg.ttest(x = sp1, y = sp2, correction = False)"
   ]
  },
  {
   "cell_type": "markdown",
   "id": "386a1ff4",
   "metadata": {},
   "source": [
    "### 교차분석: rank"
   ]
  },
  {
   "cell_type": "code",
   "execution_count": 37,
   "id": "697025d7",
   "metadata": {
    "ExecuteTime": {
     "end_time": "2022-06-11T04:55:05.818625Z",
     "start_time": "2022-06-11T04:55:05.791244Z"
    }
   },
   "outputs": [
    {
     "data": {
      "text/html": [
       "<div>\n",
       "<style scoped>\n",
       "    .dataframe tbody tr th:only-of-type {\n",
       "        vertical-align: middle;\n",
       "    }\n",
       "\n",
       "    .dataframe tbody tr th {\n",
       "        vertical-align: top;\n",
       "    }\n",
       "\n",
       "    .dataframe thead th {\n",
       "        text-align: right;\n",
       "    }\n",
       "</style>\n",
       "<table border=\"1\" class=\"dataframe\">\n",
       "  <thead>\n",
       "    <tr style=\"text-align: right;\">\n",
       "      <th>admit</th>\n",
       "      <th>Fail</th>\n",
       "      <th>Pass</th>\n",
       "    </tr>\n",
       "    <tr>\n",
       "      <th>rank</th>\n",
       "      <th></th>\n",
       "      <th></th>\n",
       "    </tr>\n",
       "  </thead>\n",
       "  <tbody>\n",
       "    <tr>\n",
       "      <th>1</th>\n",
       "      <td>0.450549</td>\n",
       "      <td>0.549451</td>\n",
       "    </tr>\n",
       "    <tr>\n",
       "      <th>2</th>\n",
       "      <td>0.644366</td>\n",
       "      <td>0.355634</td>\n",
       "    </tr>\n",
       "    <tr>\n",
       "      <th>3</th>\n",
       "      <td>0.779630</td>\n",
       "      <td>0.220370</td>\n",
       "    </tr>\n",
       "    <tr>\n",
       "      <th>4</th>\n",
       "      <td>0.826797</td>\n",
       "      <td>0.173203</td>\n",
       "    </tr>\n",
       "    <tr>\n",
       "      <th>합계</th>\n",
       "      <td>0.689389</td>\n",
       "      <td>0.310611</td>\n",
       "    </tr>\n",
       "  </tbody>\n",
       "</table>\n",
       "</div>"
      ],
      "text/plain": [
       "admit      Fail      Pass\n",
       "rank                     \n",
       "1      0.450549  0.549451\n",
       "2      0.644366  0.355634\n",
       "3      0.779630  0.220370\n",
       "4      0.826797  0.173203\n",
       "합계     0.689389  0.310611"
      ]
     },
     "execution_count": 37,
     "metadata": {},
     "output_type": "execute_result"
    }
   ],
   "source": [
    "# 범주형 입력변수 rank와 목표변수의 교차테이블을 출력합니다.\n",
    "pd.crosstab(index = df['rank'], \n",
    "            columns = df['admit'], \n",
    "            margins = True, \n",
    "            margins_name = '합계', \n",
    "            normalize = 'index')"
   ]
  },
  {
   "cell_type": "code",
   "execution_count": 38,
   "id": "0e998d5b",
   "metadata": {
    "ExecuteTime": {
     "end_time": "2022-06-11T04:55:05.843067Z",
     "start_time": "2022-06-11T04:55:05.820265Z"
    }
   },
   "outputs": [
    {
     "data": {
      "text/html": [
       "<div>\n",
       "<style scoped>\n",
       "    .dataframe tbody tr th:only-of-type {\n",
       "        vertical-align: middle;\n",
       "    }\n",
       "\n",
       "    .dataframe tbody tr th {\n",
       "        vertical-align: top;\n",
       "    }\n",
       "\n",
       "    .dataframe thead th {\n",
       "        text-align: right;\n",
       "    }\n",
       "</style>\n",
       "<table border=\"1\" class=\"dataframe\">\n",
       "  <thead>\n",
       "    <tr style=\"text-align: right;\">\n",
       "      <th></th>\n",
       "      <th>test</th>\n",
       "      <th>lambda</th>\n",
       "      <th>chi2</th>\n",
       "      <th>dof</th>\n",
       "      <th>pval</th>\n",
       "      <th>cramer</th>\n",
       "      <th>power</th>\n",
       "    </tr>\n",
       "  </thead>\n",
       "  <tbody>\n",
       "    <tr>\n",
       "      <th>0</th>\n",
       "      <td>pearson</td>\n",
       "      <td>1.000000</td>\n",
       "      <td>125.621299</td>\n",
       "      <td>3.0</td>\n",
       "      <td>4.748649e-27</td>\n",
       "      <td>0.272882</td>\n",
       "      <td>1.0</td>\n",
       "    </tr>\n",
       "    <tr>\n",
       "      <th>1</th>\n",
       "      <td>cressie-read</td>\n",
       "      <td>0.666667</td>\n",
       "      <td>124.433926</td>\n",
       "      <td>3.0</td>\n",
       "      <td>8.558048e-27</td>\n",
       "      <td>0.271589</td>\n",
       "      <td>1.0</td>\n",
       "    </tr>\n",
       "    <tr>\n",
       "      <th>2</th>\n",
       "      <td>log-likelihood</td>\n",
       "      <td>0.000000</td>\n",
       "      <td>123.670615</td>\n",
       "      <td>3.0</td>\n",
       "      <td>1.249714e-26</td>\n",
       "      <td>0.270755</td>\n",
       "      <td>1.0</td>\n",
       "    </tr>\n",
       "    <tr>\n",
       "      <th>3</th>\n",
       "      <td>freeman-tukey</td>\n",
       "      <td>-0.500000</td>\n",
       "      <td>124.456830</td>\n",
       "      <td>3.0</td>\n",
       "      <td>8.461367e-27</td>\n",
       "      <td>0.271614</td>\n",
       "      <td>1.0</td>\n",
       "    </tr>\n",
       "    <tr>\n",
       "      <th>4</th>\n",
       "      <td>mod-log-likelihood</td>\n",
       "      <td>-1.000000</td>\n",
       "      <td>126.396483</td>\n",
       "      <td>3.0</td>\n",
       "      <td>3.232631e-27</td>\n",
       "      <td>0.273722</td>\n",
       "      <td>1.0</td>\n",
       "    </tr>\n",
       "    <tr>\n",
       "      <th>5</th>\n",
       "      <td>neyman</td>\n",
       "      <td>-2.000000</td>\n",
       "      <td>133.872388</td>\n",
       "      <td>3.0</td>\n",
       "      <td>7.915429e-29</td>\n",
       "      <td>0.281701</td>\n",
       "      <td>1.0</td>\n",
       "    </tr>\n",
       "  </tbody>\n",
       "</table>\n",
       "</div>"
      ],
      "text/plain": [
       "                 test    lambda        chi2  dof          pval    cramer   \n",
       "0             pearson  1.000000  125.621299  3.0  4.748649e-27  0.272882  \\\n",
       "1        cressie-read  0.666667  124.433926  3.0  8.558048e-27  0.271589   \n",
       "2      log-likelihood  0.000000  123.670615  3.0  1.249714e-26  0.270755   \n",
       "3       freeman-tukey -0.500000  124.456830  3.0  8.461367e-27  0.271614   \n",
       "4  mod-log-likelihood -1.000000  126.396483  3.0  3.232631e-27  0.273722   \n",
       "5              neyman -2.000000  133.872388  3.0  7.915429e-29  0.281701   \n",
       "\n",
       "   power  \n",
       "0    1.0  \n",
       "1    1.0  \n",
       "2    1.0  \n",
       "3    1.0  \n",
       "4    1.0  \n",
       "5    1.0  "
      ]
     },
     "execution_count": 38,
     "metadata": {},
     "output_type": "execute_result"
    }
   ],
   "source": [
    "# 교차테이블 빈도수로 교차분석(카이제곱 검정)을 실행합니다.\n",
    "test = pg.chi2_independence(data = df, x = 'rank', y = 'admit')\n",
    "test[2]"
   ]
  },
  {
   "cell_type": "markdown",
   "id": "97a19a13",
   "metadata": {},
   "source": [
    "### 더미변수 생성"
   ]
  },
  {
   "cell_type": "code",
   "execution_count": 39,
   "id": "10c35656",
   "metadata": {},
   "outputs": [
    {
     "data": {
      "text/html": [
       "<div>\n",
       "<style scoped>\n",
       "    .dataframe tbody tr th:only-of-type {\n",
       "        vertical-align: middle;\n",
       "    }\n",
       "\n",
       "    .dataframe tbody tr th {\n",
       "        vertical-align: top;\n",
       "    }\n",
       "\n",
       "    .dataframe thead th {\n",
       "        text-align: right;\n",
       "    }\n",
       "</style>\n",
       "<table border=\"1\" class=\"dataframe\">\n",
       "  <thead>\n",
       "    <tr style=\"text-align: right;\">\n",
       "      <th></th>\n",
       "      <th>admit</th>\n",
       "      <th>const</th>\n",
       "      <th>gre</th>\n",
       "      <th>gpa</th>\n",
       "      <th>rank</th>\n",
       "    </tr>\n",
       "  </thead>\n",
       "  <tbody>\n",
       "    <tr>\n",
       "      <th>0</th>\n",
       "      <td>Fail</td>\n",
       "      <td>1</td>\n",
       "      <td>380.0</td>\n",
       "      <td>3.61</td>\n",
       "      <td>3</td>\n",
       "    </tr>\n",
       "    <tr>\n",
       "      <th>1</th>\n",
       "      <td>Pass</td>\n",
       "      <td>1</td>\n",
       "      <td>660.0</td>\n",
       "      <td>3.67</td>\n",
       "      <td>3</td>\n",
       "    </tr>\n",
       "    <tr>\n",
       "      <th>2</th>\n",
       "      <td>Pass</td>\n",
       "      <td>1</td>\n",
       "      <td>800.0</td>\n",
       "      <td>4.00</td>\n",
       "      <td>1</td>\n",
       "    </tr>\n",
       "    <tr>\n",
       "      <th>3</th>\n",
       "      <td>Pass</td>\n",
       "      <td>1</td>\n",
       "      <td>640.0</td>\n",
       "      <td>3.19</td>\n",
       "      <td>4</td>\n",
       "    </tr>\n",
       "    <tr>\n",
       "      <th>4</th>\n",
       "      <td>Fail</td>\n",
       "      <td>1</td>\n",
       "      <td>520.0</td>\n",
       "      <td>2.93</td>\n",
       "      <td>4</td>\n",
       "    </tr>\n",
       "  </tbody>\n",
       "</table>\n",
       "</div>"
      ],
      "text/plain": [
       "  admit  const    gre   gpa rank\n",
       "0  Fail      1  380.0  3.61    3\n",
       "1  Pass      1  660.0  3.67    3\n",
       "2  Pass      1  800.0  4.00    1\n",
       "3  Pass      1  640.0  3.19    4\n",
       "4  Fail      1  520.0  2.93    4"
      ]
     },
     "execution_count": 39,
     "metadata": {},
     "output_type": "execute_result"
    }
   ],
   "source": [
    "df.head()"
   ]
  },
  {
   "cell_type": "code",
   "execution_count": 40,
   "id": "01d35410",
   "metadata": {},
   "outputs": [],
   "source": [
    "# 범주형 입력변수로 더미변수를 생성합니다.\n",
    "df = pd.get_dummies(data = df, \n",
    "                    prefix = ['rank', None], \n",
    "                    columns = ['rank', 'admit'], \n",
    "                    drop_first = True, \n",
    "                    dtype = np.uint8)"
   ]
  },
  {
   "cell_type": "code",
   "execution_count": 41,
   "id": "above-vulnerability",
   "metadata": {
    "ExecuteTime": {
     "end_time": "2022-06-11T04:55:05.867448Z",
     "start_time": "2022-06-11T04:55:05.860294Z"
    }
   },
   "outputs": [
    {
     "data": {
      "text/html": [
       "<div>\n",
       "<style scoped>\n",
       "    .dataframe tbody tr th:only-of-type {\n",
       "        vertical-align: middle;\n",
       "    }\n",
       "\n",
       "    .dataframe tbody tr th {\n",
       "        vertical-align: top;\n",
       "    }\n",
       "\n",
       "    .dataframe thead th {\n",
       "        text-align: right;\n",
       "    }\n",
       "</style>\n",
       "<table border=\"1\" class=\"dataframe\">\n",
       "  <thead>\n",
       "    <tr style=\"text-align: right;\">\n",
       "      <th></th>\n",
       "      <th>const</th>\n",
       "      <th>gre</th>\n",
       "      <th>gpa</th>\n",
       "      <th>rank_2</th>\n",
       "      <th>rank_3</th>\n",
       "      <th>rank_4</th>\n",
       "      <th>Pass</th>\n",
       "    </tr>\n",
       "  </thead>\n",
       "  <tbody>\n",
       "    <tr>\n",
       "      <th>0</th>\n",
       "      <td>1</td>\n",
       "      <td>380.0</td>\n",
       "      <td>3.61</td>\n",
       "      <td>0</td>\n",
       "      <td>1</td>\n",
       "      <td>0</td>\n",
       "      <td>0</td>\n",
       "    </tr>\n",
       "    <tr>\n",
       "      <th>1</th>\n",
       "      <td>1</td>\n",
       "      <td>660.0</td>\n",
       "      <td>3.67</td>\n",
       "      <td>0</td>\n",
       "      <td>1</td>\n",
       "      <td>0</td>\n",
       "      <td>1</td>\n",
       "    </tr>\n",
       "    <tr>\n",
       "      <th>2</th>\n",
       "      <td>1</td>\n",
       "      <td>800.0</td>\n",
       "      <td>4.00</td>\n",
       "      <td>0</td>\n",
       "      <td>0</td>\n",
       "      <td>0</td>\n",
       "      <td>1</td>\n",
       "    </tr>\n",
       "    <tr>\n",
       "      <th>3</th>\n",
       "      <td>1</td>\n",
       "      <td>640.0</td>\n",
       "      <td>3.19</td>\n",
       "      <td>0</td>\n",
       "      <td>0</td>\n",
       "      <td>1</td>\n",
       "      <td>1</td>\n",
       "    </tr>\n",
       "    <tr>\n",
       "      <th>4</th>\n",
       "      <td>1</td>\n",
       "      <td>520.0</td>\n",
       "      <td>2.93</td>\n",
       "      <td>0</td>\n",
       "      <td>0</td>\n",
       "      <td>1</td>\n",
       "      <td>0</td>\n",
       "    </tr>\n",
       "    <tr>\n",
       "      <th>5</th>\n",
       "      <td>1</td>\n",
       "      <td>760.0</td>\n",
       "      <td>3.00</td>\n",
       "      <td>1</td>\n",
       "      <td>0</td>\n",
       "      <td>0</td>\n",
       "      <td>1</td>\n",
       "    </tr>\n",
       "    <tr>\n",
       "      <th>6</th>\n",
       "      <td>1</td>\n",
       "      <td>560.0</td>\n",
       "      <td>2.98</td>\n",
       "      <td>0</td>\n",
       "      <td>0</td>\n",
       "      <td>0</td>\n",
       "      <td>1</td>\n",
       "    </tr>\n",
       "    <tr>\n",
       "      <th>7</th>\n",
       "      <td>1</td>\n",
       "      <td>400.0</td>\n",
       "      <td>3.08</td>\n",
       "      <td>1</td>\n",
       "      <td>0</td>\n",
       "      <td>0</td>\n",
       "      <td>0</td>\n",
       "    </tr>\n",
       "    <tr>\n",
       "      <th>8</th>\n",
       "      <td>1</td>\n",
       "      <td>540.0</td>\n",
       "      <td>3.39</td>\n",
       "      <td>0</td>\n",
       "      <td>1</td>\n",
       "      <td>0</td>\n",
       "      <td>1</td>\n",
       "    </tr>\n",
       "    <tr>\n",
       "      <th>9</th>\n",
       "      <td>1</td>\n",
       "      <td>700.0</td>\n",
       "      <td>3.92</td>\n",
       "      <td>1</td>\n",
       "      <td>0</td>\n",
       "      <td>0</td>\n",
       "      <td>0</td>\n",
       "    </tr>\n",
       "  </tbody>\n",
       "</table>\n",
       "</div>"
      ],
      "text/plain": [
       "   const    gre   gpa  rank_2  rank_3  rank_4  Pass\n",
       "0      1  380.0  3.61       0       1       0     0\n",
       "1      1  660.0  3.67       0       1       0     1\n",
       "2      1  800.0  4.00       0       0       0     1\n",
       "3      1  640.0  3.19       0       0       1     1\n",
       "4      1  520.0  2.93       0       0       1     0\n",
       "5      1  760.0  3.00       1       0       0     1\n",
       "6      1  560.0  2.98       0       0       0     1\n",
       "7      1  400.0  3.08       1       0       0     0\n",
       "8      1  540.0  3.39       0       1       0     1\n",
       "9      1  700.0  3.92       1       0       0     0"
      ]
     },
     "execution_count": 41,
     "metadata": {},
     "output_type": "execute_result"
    }
   ],
   "source": [
    "# df의 처음 10행을 출력합니다.\n",
    "df.head(n = 10)"
   ]
  },
  {
   "cell_type": "markdown",
   "id": "swiss-chuck",
   "metadata": {},
   "source": [
    "### 실습 데이터셋 분할"
   ]
  },
  {
   "cell_type": "code",
   "execution_count": 42,
   "id": "latter-administrator",
   "metadata": {
    "ExecuteTime": {
     "end_time": "2022-06-11T04:55:05.895778Z",
     "start_time": "2022-06-11T04:55:05.893675Z"
    }
   },
   "outputs": [],
   "source": [
    "# 관련 라이브러리를 호출합니다.\n",
    "from sklearn.model_selection import train_test_split"
   ]
  },
  {
   "cell_type": "code",
   "execution_count": 43,
   "id": "conscious-brunswick",
   "metadata": {
    "ExecuteTime": {
     "end_time": "2022-06-11T04:55:05.909437Z",
     "start_time": "2022-06-11T04:55:05.905762Z"
    }
   },
   "outputs": [],
   "source": [
    "# 전체 데이터의 70%를 훈련셋, 30%를 검증셋으로 분할합니다.\n",
    "train, valid = train_test_split(df, train_size = 0.7, random_state = 0, \n",
    "                                stratify = df['Pass'])"
   ]
  },
  {
   "cell_type": "code",
   "execution_count": 44,
   "id": "0cd10edf-8d18-4f1f-bbf5-223c6deb3e87",
   "metadata": {},
   "outputs": [],
   "source": [
    "# 목표변수명을 변수에 할당합니다.\n",
    "yvar = 'Pass'"
   ]
  },
  {
   "cell_type": "markdown",
   "id": "4d024575-0668-41a6-a597-02daa32bc2a0",
   "metadata": {
    "tags": []
   },
   "source": [
    "### 입력변수와 목표변수 분리"
   ]
  },
  {
   "cell_type": "code",
   "execution_count": 45,
   "id": "d5466346-7ff2-431c-9cbf-7d2a6ac4944d",
   "metadata": {},
   "outputs": [],
   "source": [
    "# 훈련셋을 입력변수 행렬과 목표변수 벡터로 분리합니다.\n",
    "trainX = train.drop(columns = [yvar])\n",
    "trReal = train[yvar].copy()"
   ]
  },
  {
   "cell_type": "code",
   "execution_count": 46,
   "id": "amber-shopping",
   "metadata": {
    "ExecuteTime": {
     "end_time": "2022-06-11T04:55:05.915379Z",
     "start_time": "2022-06-11T04:55:05.911087Z"
    }
   },
   "outputs": [
    {
     "data": {
      "text/plain": [
       "Pass\n",
       "0    0.688983\n",
       "1    0.311017\n",
       "Name: proportion, dtype: float64"
      ]
     },
     "execution_count": 46,
     "metadata": {},
     "output_type": "execute_result"
    }
   ],
   "source": [
    "# 훈련셋의 목표변수 범주별 상대도수를 확인합니다.\n",
    "trReal.value_counts(normalize = True)"
   ]
  },
  {
   "cell_type": "code",
   "execution_count": 47,
   "id": "1c692b1a",
   "metadata": {
    "ExecuteTime": {
     "end_time": "2022-06-11T04:55:05.946804Z",
     "start_time": "2022-06-11T04:55:05.940413Z"
    }
   },
   "outputs": [],
   "source": [
    "# 검증셋을 입력변수 행렬과 목표변수 벡터로 분리합니다.\n",
    "validX = valid.drop(columns = [yvar])\n",
    "vaReal = valid[yvar].copy()"
   ]
  },
  {
   "cell_type": "code",
   "execution_count": 48,
   "id": "fiscal-buffer",
   "metadata": {
    "ExecuteTime": {
     "end_time": "2022-06-11T04:55:05.921225Z",
     "start_time": "2022-06-11T04:55:05.917033Z"
    }
   },
   "outputs": [
    {
     "data": {
      "text/plain": [
       "Pass\n",
       "0    0.690335\n",
       "1    0.309665\n",
       "Name: proportion, dtype: float64"
      ]
     },
     "execution_count": 48,
     "metadata": {},
     "output_type": "execute_result"
    }
   ],
   "source": [
    "# 검증셋의 목표변수 범주별 상대도수를 확인합니다.\n",
    "vaReal.value_counts(normalize = True)"
   ]
  },
  {
   "cell_type": "markdown",
   "id": "03d162be",
   "metadata": {},
   "source": [
    "### 로지스틱 회귀모형 적합 및 결과 확인"
   ]
  },
  {
   "cell_type": "code",
   "execution_count": 49,
   "id": "fbabeecb",
   "metadata": {},
   "outputs": [],
   "source": [
    "??hds.stat.glm"
   ]
  },
  {
   "cell_type": "code",
   "execution_count": 50,
   "id": "fa4411bb",
   "metadata": {
    "ExecuteTime": {
     "end_time": "2022-06-11T04:55:05.953968Z",
     "start_time": "2022-06-11T04:55:05.948453Z"
    }
   },
   "outputs": [],
   "source": [
    "# 훈련셋으로 로지스틱 회귀모형을 적합합니다.\n",
    "fit1 = hds.stat.glm(y = trReal, X = trainX)"
   ]
  },
  {
   "cell_type": "code",
   "execution_count": 51,
   "id": "6e8c6b30",
   "metadata": {
    "ExecuteTime": {
     "end_time": "2022-06-11T04:55:05.965519Z",
     "start_time": "2022-06-11T04:55:05.955564Z"
    }
   },
   "outputs": [
    {
     "data": {
      "text/html": [
       "<table class=\"simpletable\">\n",
       "<caption>Generalized Linear Model Regression Results</caption>\n",
       "<tr>\n",
       "  <th>Dep. Variable:</th>         <td>Pass</td>       <th>  No. Observations:  </th>  <td>  1180</td> \n",
       "</tr>\n",
       "<tr>\n",
       "  <th>Model:</th>                  <td>GLM</td>       <th>  Df Residuals:      </th>  <td>  1174</td> \n",
       "</tr>\n",
       "<tr>\n",
       "  <th>Model Family:</th>        <td>Binomial</td>     <th>  Df Model:          </th>  <td>     5</td> \n",
       "</tr>\n",
       "<tr>\n",
       "  <th>Link Function:</th>         <td>Logit</td>      <th>  Scale:             </th> <td>  1.0000</td>\n",
       "</tr>\n",
       "<tr>\n",
       "  <th>Method:</th>                <td>IRLS</td>       <th>  Log-Likelihood:    </th> <td> -642.79</td>\n",
       "</tr>\n",
       "<tr>\n",
       "  <th>Date:</th>            <td>Thu, 25 May 2023</td> <th>  Deviance:          </th> <td>  1285.6</td>\n",
       "</tr>\n",
       "<tr>\n",
       "  <th>Time:</th>                <td>15:17:02</td>     <th>  Pearson chi2:      </th> <td>1.19e+03</td>\n",
       "</tr>\n",
       "<tr>\n",
       "  <th>No. Iterations:</th>          <td>5</td>        <th>  Pseudo R-squ. (CS):</th>  <td>0.1396</td> \n",
       "</tr>\n",
       "<tr>\n",
       "  <th>Covariance Type:</th>     <td>nonrobust</td>    <th>                     </th>     <td> </td>   \n",
       "</tr>\n",
       "</table>\n",
       "<table class=\"simpletable\">\n",
       "<tr>\n",
       "     <td></td>       <th>coef</th>     <th>std err</th>      <th>z</th>      <th>P>|z|</th>  <th>[0.025</th>    <th>0.975]</th>  \n",
       "</tr>\n",
       "<tr>\n",
       "  <th>const</th>  <td>   -5.6439</td> <td>    0.822</td> <td>   -6.867</td> <td> 0.000</td> <td>   -7.255</td> <td>   -4.033</td>\n",
       "</tr>\n",
       "<tr>\n",
       "  <th>gre</th>    <td>    0.0036</td> <td>    0.001</td> <td>    3.089</td> <td> 0.002</td> <td>    0.001</td> <td>    0.006</td>\n",
       "</tr>\n",
       "<tr>\n",
       "  <th>gpa</th>    <td>    1.1031</td> <td>    0.347</td> <td>    3.177</td> <td> 0.001</td> <td>    0.423</td> <td>    1.784</td>\n",
       "</tr>\n",
       "<tr>\n",
       "  <th>rank_2</th> <td>   -0.7408</td> <td>    0.190</td> <td>   -3.899</td> <td> 0.000</td> <td>   -1.113</td> <td>   -0.368</td>\n",
       "</tr>\n",
       "<tr>\n",
       "  <th>rank_3</th> <td>   -1.3718</td> <td>    0.201</td> <td>   -6.823</td> <td> 0.000</td> <td>   -1.766</td> <td>   -0.978</td>\n",
       "</tr>\n",
       "<tr>\n",
       "  <th>rank_4</th> <td>   -1.7917</td> <td>    0.249</td> <td>   -7.206</td> <td> 0.000</td> <td>   -2.279</td> <td>   -1.304</td>\n",
       "</tr>\n",
       "</table>"
      ],
      "text/latex": [
       "\\begin{center}\n",
       "\\begin{tabular}{lclc}\n",
       "\\toprule\n",
       "\\textbf{Dep. Variable:}   &       Pass       & \\textbf{  No. Observations:  } &     1180    \\\\\n",
       "\\textbf{Model:}           &       GLM        & \\textbf{  Df Residuals:      } &     1174    \\\\\n",
       "\\textbf{Model Family:}    &     Binomial     & \\textbf{  Df Model:          } &        5    \\\\\n",
       "\\textbf{Link Function:}   &      Logit       & \\textbf{  Scale:             } &    1.0000   \\\\\n",
       "\\textbf{Method:}          &       IRLS       & \\textbf{  Log-Likelihood:    } &   -642.79   \\\\\n",
       "\\textbf{Date:}            & Thu, 25 May 2023 & \\textbf{  Deviance:          } &    1285.6   \\\\\n",
       "\\textbf{Time:}            &     15:17:02     & \\textbf{  Pearson chi2:      } &  1.19e+03   \\\\\n",
       "\\textbf{No. Iterations:}  &        5         & \\textbf{  Pseudo R-squ. (CS):} &   0.1396    \\\\\n",
       "\\textbf{Covariance Type:} &    nonrobust     & \\textbf{                     } &             \\\\\n",
       "\\bottomrule\n",
       "\\end{tabular}\n",
       "\\begin{tabular}{lcccccc}\n",
       "                 & \\textbf{coef} & \\textbf{std err} & \\textbf{z} & \\textbf{P$> |$z$|$} & \\textbf{[0.025} & \\textbf{0.975]}  \\\\\n",
       "\\midrule\n",
       "\\textbf{const}   &      -5.6439  &        0.822     &    -6.867  &         0.000        &       -7.255    &       -4.033     \\\\\n",
       "\\textbf{gre}     &       0.0036  &        0.001     &     3.089  &         0.002        &        0.001    &        0.006     \\\\\n",
       "\\textbf{gpa}     &       1.1031  &        0.347     &     3.177  &         0.001        &        0.423    &        1.784     \\\\\n",
       "\\textbf{rank\\_2} &      -0.7408  &        0.190     &    -3.899  &         0.000        &       -1.113    &       -0.368     \\\\\n",
       "\\textbf{rank\\_3} &      -1.3718  &        0.201     &    -6.823  &         0.000        &       -1.766    &       -0.978     \\\\\n",
       "\\textbf{rank\\_4} &      -1.7917  &        0.249     &    -7.206  &         0.000        &       -2.279    &       -1.304     \\\\\n",
       "\\bottomrule\n",
       "\\end{tabular}\n",
       "%\\caption{Generalized Linear Model Regression Results}\n",
       "\\end{center}"
      ],
      "text/plain": [
       "<class 'statsmodels.iolib.summary.Summary'>\n",
       "\"\"\"\n",
       "                 Generalized Linear Model Regression Results                  \n",
       "==============================================================================\n",
       "Dep. Variable:                   Pass   No. Observations:                 1180\n",
       "Model:                            GLM   Df Residuals:                     1174\n",
       "Model Family:                Binomial   Df Model:                            5\n",
       "Link Function:                  Logit   Scale:                          1.0000\n",
       "Method:                          IRLS   Log-Likelihood:                -642.79\n",
       "Date:                Thu, 25 May 2023   Deviance:                       1285.6\n",
       "Time:                        15:17:02   Pearson chi2:                 1.19e+03\n",
       "No. Iterations:                     5   Pseudo R-squ. (CS):             0.1396\n",
       "Covariance Type:            nonrobust                                         \n",
       "==============================================================================\n",
       "                 coef    std err          z      P>|z|      [0.025      0.975]\n",
       "------------------------------------------------------------------------------\n",
       "const         -5.6439      0.822     -6.867      0.000      -7.255      -4.033\n",
       "gre            0.0036      0.001      3.089      0.002       0.001       0.006\n",
       "gpa            1.1031      0.347      3.177      0.001       0.423       1.784\n",
       "rank_2        -0.7408      0.190     -3.899      0.000      -1.113      -0.368\n",
       "rank_3        -1.3718      0.201     -6.823      0.000      -1.766      -0.978\n",
       "rank_4        -1.7917      0.249     -7.206      0.000      -2.279      -1.304\n",
       "==============================================================================\n",
       "\"\"\""
      ]
     },
     "execution_count": 51,
     "metadata": {},
     "output_type": "execute_result"
    }
   ],
   "source": [
    "# fit1 모형의 적합 결과를 확인합니다.\n",
    "fit1.summary()"
   ]
  },
  {
   "cell_type": "markdown",
   "id": "9d9dfcb3",
   "metadata": {},
   "source": [
    "### 로지스틱 회귀모형의 유의성 검정"
   ]
  },
  {
   "cell_type": "code",
   "execution_count": 52,
   "id": "d357b2d6",
   "metadata": {
    "ExecuteTime": {
     "end_time": "2022-06-11T04:55:05.970556Z",
     "start_time": "2022-06-11T04:55:05.967128Z"
    }
   },
   "outputs": [
    {
     "data": {
      "text/plain": [
       "177.40741951219684"
      ]
     },
     "execution_count": 52,
     "metadata": {},
     "output_type": "execute_result"
    }
   ],
   "source": [
    "# 두 모형의 이탈도 차이를 출력합니다.(검정통계량)\n",
    "devGap = fit1.null_deviance - fit1.deviance\n",
    "devGap"
   ]
  },
  {
   "cell_type": "code",
   "execution_count": 53,
   "id": "d003bc73",
   "metadata": {
    "ExecuteTime": {
     "end_time": "2022-06-11T04:55:05.975366Z",
     "start_time": "2022-06-11T04:55:05.972126Z"
    }
   },
   "outputs": [
    {
     "data": {
      "text/plain": [
       "5"
      ]
     },
     "execution_count": 53,
     "metadata": {},
     "output_type": "execute_result"
    }
   ],
   "source": [
    "# 두 모형의 자유도 차이를 출력합니다.(카이제곱 분포의 자유도)\n",
    "dofGap = fit1.df_model.copy()\n",
    "dofGap"
   ]
  },
  {
   "cell_type": "code",
   "execution_count": 54,
   "id": "8624cff4",
   "metadata": {
    "ExecuteTime": {
     "end_time": "2022-06-11T04:55:05.980334Z",
     "start_time": "2022-06-11T04:55:05.976976Z"
    }
   },
   "outputs": [
    {
     "data": {
      "text/plain": [
       "0.0"
      ]
     },
     "execution_count": 54,
     "metadata": {},
     "output_type": "execute_result"
    }
   ],
   "source": [
    "# 검정통계량과 자유도로 유의확률을 출력합니다.\n",
    "1 - stats.chi2.cdf(x = devGap, df = dofGap)"
   ]
  },
  {
   "cell_type": "markdown",
   "id": "5910432d",
   "metadata": {},
   "source": [
    "### 다중공선성 확인"
   ]
  },
  {
   "cell_type": "code",
   "execution_count": 55,
   "id": "5954cf60",
   "metadata": {
    "ExecuteTime": {
     "end_time": "2022-06-11T04:55:05.991466Z",
     "start_time": "2022-06-11T04:55:05.981944Z"
    }
   },
   "outputs": [
    {
     "data": {
      "text/html": [
       "<div>\n",
       "<style scoped>\n",
       "    .dataframe tbody tr th:only-of-type {\n",
       "        vertical-align: middle;\n",
       "    }\n",
       "\n",
       "    .dataframe tbody tr th {\n",
       "        vertical-align: top;\n",
       "    }\n",
       "\n",
       "    .dataframe thead th {\n",
       "        text-align: right;\n",
       "    }\n",
       "</style>\n",
       "<table border=\"1\" class=\"dataframe\">\n",
       "  <thead>\n",
       "    <tr style=\"text-align: right;\">\n",
       "      <th></th>\n",
       "      <th>gre</th>\n",
       "      <th>gpa</th>\n",
       "      <th>rank_2</th>\n",
       "      <th>rank_3</th>\n",
       "      <th>rank_4</th>\n",
       "    </tr>\n",
       "  </thead>\n",
       "  <tbody>\n",
       "    <tr>\n",
       "      <th>0</th>\n",
       "      <td>2.737893</td>\n",
       "      <td>2.7351</td>\n",
       "      <td>2.110802</td>\n",
       "      <td>2.090639</td>\n",
       "      <td>1.7885</td>\n",
       "    </tr>\n",
       "  </tbody>\n",
       "</table>\n",
       "</div>"
      ],
      "text/plain": [
       "        gre     gpa    rank_2    rank_3  rank_4\n",
       "0  2.737893  2.7351  2.110802  2.090639  1.7885"
      ]
     },
     "execution_count": 55,
     "metadata": {},
     "output_type": "execute_result"
    }
   ],
   "source": [
    "# 분산팽창지수를 출력하고 다중공선성 입력변수를 확인합니다.\n",
    "hds.stat.vif(X = trainX)"
   ]
  },
  {
   "cell_type": "markdown",
   "id": "abdcbec6",
   "metadata": {},
   "source": [
    "### 오즈비 확인"
   ]
  },
  {
   "cell_type": "code",
   "execution_count": 56,
   "id": "856810c4",
   "metadata": {},
   "outputs": [
    {
     "data": {
      "text/plain": [
       "const    -5.643940\n",
       "gre       0.003554\n",
       "gpa       1.103116\n",
       "rank_2   -0.740847\n",
       "rank_3   -1.371836\n",
       "rank_4   -1.791702\n",
       "dtype: float64"
      ]
     },
     "execution_count": 56,
     "metadata": {},
     "output_type": "execute_result"
    }
   ],
   "source": [
    "fit1.params"
   ]
  },
  {
   "cell_type": "code",
   "execution_count": 57,
   "id": "b199d2c9",
   "metadata": {
    "ExecuteTime": {
     "end_time": "2022-06-11T04:55:05.997644Z",
     "start_time": "2022-06-11T04:55:05.993225Z"
    }
   },
   "outputs": [
    {
     "data": {
      "text/plain": [
       "const     0.003539\n",
       "gre       1.003561\n",
       "gpa       3.013542\n",
       "rank_2    0.476710\n",
       "rank_3    0.253641\n",
       "rank_4    0.166676\n",
       "dtype: float64"
      ]
     },
     "execution_count": 57,
     "metadata": {},
     "output_type": "execute_result"
    }
   ],
   "source": [
    "# 입력변수별 회귀계수의 오즈비를 출력합니다.\n",
    "np.exp(fit1.params)"
   ]
  },
  {
   "cell_type": "markdown",
   "id": "918b5c0a",
   "metadata": {
    "tags": []
   },
   "source": [
    "### 표준화 회귀계수 확인"
   ]
  },
  {
   "cell_type": "code",
   "execution_count": 58,
   "id": "c9f97f96",
   "metadata": {
    "ExecuteTime": {
     "end_time": "2022-06-11T04:55:06.003692Z",
     "start_time": "2022-06-11T04:55:05.999214Z"
    }
   },
   "outputs": [
    {
     "data": {
      "text/plain": [
       "const    -5.643940\n",
       "gre       0.003554\n",
       "gpa       1.103116\n",
       "rank_2   -0.740847\n",
       "rank_3   -1.371836\n",
       "rank_4   -1.791702\n",
       "dtype: float64"
      ]
     },
     "execution_count": 58,
     "metadata": {},
     "output_type": "execute_result"
    }
   ],
   "source": [
    "# fit1 모형의 회귀계수를 출력합니다.\n",
    "fit1.params"
   ]
  },
  {
   "cell_type": "code",
   "execution_count": 59,
   "id": "2e1fbcda",
   "metadata": {
    "ExecuteTime": {
     "end_time": "2022-06-11T04:55:06.011102Z",
     "start_time": "2022-06-11T04:55:06.005399Z"
    }
   },
   "outputs": [
    {
     "data": {
      "text/plain": [
       "const    -0.000000\n",
       "gre       0.350900\n",
       "gpa       0.360374\n",
       "rank_2   -0.351684\n",
       "rank_3   -0.640826\n",
       "rank_4   -0.689399\n",
       "dtype: float64"
      ]
     },
     "execution_count": 59,
     "metadata": {},
     "output_type": "execute_result"
    }
   ],
   "source": [
    "# 표준화 회귀계수를 생성합니다.\n",
    "beta_z = hds.stat.std_coefs(model = fit1)\n",
    "beta_z"
   ]
  },
  {
   "cell_type": "code",
   "execution_count": 60,
   "id": "b188f3ed",
   "metadata": {
    "ExecuteTime": {
     "end_time": "2022-06-11T04:55:06.016733Z",
     "start_time": "2022-06-11T04:55:06.012836Z"
    }
   },
   "outputs": [
    {
     "data": {
      "text/plain": [
       "const     0.000000\n",
       "gre       0.350900\n",
       "rank_2    0.351684\n",
       "gpa       0.360374\n",
       "rank_3    0.640826\n",
       "rank_4    0.689399\n",
       "dtype: float64"
      ]
     },
     "execution_count": 60,
     "metadata": {},
     "output_type": "execute_result"
    }
   ],
   "source": [
    "# 표준화 회귀계수의 절대값을 오름차순 정렬한 결과를 출력합니다.\n",
    "beta_z.abs().sort_values()"
   ]
  },
  {
   "cell_type": "markdown",
   "id": "582f73eb",
   "metadata": {},
   "source": [
    "### 목표변수의 추정확률 생성"
   ]
  },
  {
   "cell_type": "code",
   "execution_count": 61,
   "id": "57cce4c0",
   "metadata": {
    "ExecuteTime": {
     "end_time": "2022-06-11T04:55:06.026225Z",
     "start_time": "2022-06-11T04:55:06.018541Z"
    }
   },
   "outputs": [
    {
     "data": {
      "text/html": [
       "<div>\n",
       "<style scoped>\n",
       "    .dataframe tbody tr th:only-of-type {\n",
       "        vertical-align: middle;\n",
       "    }\n",
       "\n",
       "    .dataframe tbody tr th {\n",
       "        vertical-align: top;\n",
       "    }\n",
       "\n",
       "    .dataframe thead th {\n",
       "        text-align: right;\n",
       "    }\n",
       "</style>\n",
       "<table border=\"1\" class=\"dataframe\">\n",
       "  <thead>\n",
       "    <tr style=\"text-align: right;\">\n",
       "      <th></th>\n",
       "      <th>Real</th>\n",
       "      <th>Prob</th>\n",
       "    </tr>\n",
       "  </thead>\n",
       "  <tbody>\n",
       "    <tr>\n",
       "      <th>714</th>\n",
       "      <td>0</td>\n",
       "      <td>0.350491</td>\n",
       "    </tr>\n",
       "    <tr>\n",
       "      <th>869</th>\n",
       "      <td>0</td>\n",
       "      <td>0.142222</td>\n",
       "    </tr>\n",
       "    <tr>\n",
       "      <th>667</th>\n",
       "      <td>0</td>\n",
       "      <td>0.042834</td>\n",
       "    </tr>\n",
       "    <tr>\n",
       "      <th>1260</th>\n",
       "      <td>0</td>\n",
       "      <td>0.045609</td>\n",
       "    </tr>\n",
       "    <tr>\n",
       "      <th>1559</th>\n",
       "      <td>0</td>\n",
       "      <td>0.302838</td>\n",
       "    </tr>\n",
       "    <tr>\n",
       "      <th>...</th>\n",
       "      <td>...</td>\n",
       "      <td>...</td>\n",
       "    </tr>\n",
       "    <tr>\n",
       "      <th>1106</th>\n",
       "      <td>0</td>\n",
       "      <td>0.211400</td>\n",
       "    </tr>\n",
       "    <tr>\n",
       "      <th>538</th>\n",
       "      <td>1</td>\n",
       "      <td>0.454211</td>\n",
       "    </tr>\n",
       "    <tr>\n",
       "      <th>104</th>\n",
       "      <td>1</td>\n",
       "      <td>0.578908</td>\n",
       "    </tr>\n",
       "    <tr>\n",
       "      <th>560</th>\n",
       "      <td>0</td>\n",
       "      <td>0.294922</td>\n",
       "    </tr>\n",
       "    <tr>\n",
       "      <th>1404</th>\n",
       "      <td>0</td>\n",
       "      <td>0.175886</td>\n",
       "    </tr>\n",
       "  </tbody>\n",
       "</table>\n",
       "<p>1180 rows × 2 columns</p>\n",
       "</div>"
      ],
      "text/plain": [
       "      Real      Prob\n",
       "714      0  0.350491\n",
       "869      0  0.142222\n",
       "667      0  0.042834\n",
       "1260     0  0.045609\n",
       "1559     0  0.302838\n",
       "...    ...       ...\n",
       "1106     0  0.211400\n",
       "538      1  0.454211\n",
       "104      1  0.578908\n",
       "560      0  0.294922\n",
       "1404     0  0.175886\n",
       "\n",
       "[1180 rows x 2 columns]"
      ]
     },
     "execution_count": 61,
     "metadata": {},
     "output_type": "execute_result"
    }
   ],
   "source": [
    "# 훈련셋으로 fit1 모형의 추정확률을 생성하고 실제값과 비교합니다.\n",
    "trProb = fit1.predict(exog = trainX)\n",
    "pd.DataFrame(data = {'Real': trReal, 'Prob': trProb})"
   ]
  },
  {
   "cell_type": "code",
   "execution_count": 62,
   "id": "a80c548b",
   "metadata": {
    "ExecuteTime": {
     "end_time": "2022-06-11T04:55:06.038306Z",
     "start_time": "2022-06-11T04:55:06.027853Z"
    }
   },
   "outputs": [
    {
     "data": {
      "text/html": [
       "<div>\n",
       "<style scoped>\n",
       "    .dataframe tbody tr th:only-of-type {\n",
       "        vertical-align: middle;\n",
       "    }\n",
       "\n",
       "    .dataframe tbody tr th {\n",
       "        vertical-align: top;\n",
       "    }\n",
       "\n",
       "    .dataframe thead th {\n",
       "        text-align: right;\n",
       "    }\n",
       "</style>\n",
       "<table border=\"1\" class=\"dataframe\">\n",
       "  <thead>\n",
       "    <tr style=\"text-align: right;\">\n",
       "      <th></th>\n",
       "      <th>Real</th>\n",
       "      <th>Prob</th>\n",
       "    </tr>\n",
       "  </thead>\n",
       "  <tbody>\n",
       "    <tr>\n",
       "      <th>1141</th>\n",
       "      <td>0</td>\n",
       "      <td>0.556953</td>\n",
       "    </tr>\n",
       "    <tr>\n",
       "      <th>1529</th>\n",
       "      <td>1</td>\n",
       "      <td>0.370885</td>\n",
       "    </tr>\n",
       "    <tr>\n",
       "      <th>501</th>\n",
       "      <td>0</td>\n",
       "      <td>0.474188</td>\n",
       "    </tr>\n",
       "    <tr>\n",
       "      <th>1046</th>\n",
       "      <td>0</td>\n",
       "      <td>0.074716</td>\n",
       "    </tr>\n",
       "    <tr>\n",
       "      <th>920</th>\n",
       "      <td>0</td>\n",
       "      <td>0.158329</td>\n",
       "    </tr>\n",
       "    <tr>\n",
       "      <th>...</th>\n",
       "      <td>...</td>\n",
       "      <td>...</td>\n",
       "    </tr>\n",
       "    <tr>\n",
       "      <th>493</th>\n",
       "      <td>0</td>\n",
       "      <td>0.251894</td>\n",
       "    </tr>\n",
       "    <tr>\n",
       "      <th>771</th>\n",
       "      <td>0</td>\n",
       "      <td>0.401326</td>\n",
       "    </tr>\n",
       "    <tr>\n",
       "      <th>827</th>\n",
       "      <td>0</td>\n",
       "      <td>0.158329</td>\n",
       "    </tr>\n",
       "    <tr>\n",
       "      <th>1432</th>\n",
       "      <td>1</td>\n",
       "      <td>0.651841</td>\n",
       "    </tr>\n",
       "    <tr>\n",
       "      <th>857</th>\n",
       "      <td>1</td>\n",
       "      <td>0.619919</td>\n",
       "    </tr>\n",
       "  </tbody>\n",
       "</table>\n",
       "<p>507 rows × 2 columns</p>\n",
       "</div>"
      ],
      "text/plain": [
       "      Real      Prob\n",
       "1141     0  0.556953\n",
       "1529     1  0.370885\n",
       "501      0  0.474188\n",
       "1046     0  0.074716\n",
       "920      0  0.158329\n",
       "...    ...       ...\n",
       "493      0  0.251894\n",
       "771      0  0.401326\n",
       "827      0  0.158329\n",
       "1432     1  0.651841\n",
       "857      1  0.619919\n",
       "\n",
       "[507 rows x 2 columns]"
      ]
     },
     "execution_count": 62,
     "metadata": {},
     "output_type": "execute_result"
    }
   ],
   "source": [
    "# 검증셋으로 fit1 모형의 추정확률을 생성하고 실제값과 비교합니다.\n",
    "vaProb = fit1.predict(exog = validX)\n",
    "pd.DataFrame(data = {'Real': vaReal, 'Prob': vaProb})"
   ]
  },
  {
   "cell_type": "markdown",
   "id": "fitting-termination",
   "metadata": {},
   "source": [
    "### 분류모형 성능 평가 : ROC 곡선"
   ]
  },
  {
   "cell_type": "code",
   "execution_count": 63,
   "id": "hairy-cincinnati",
   "metadata": {
    "ExecuteTime": {
     "end_time": "2022-06-11T04:55:06.160890Z",
     "start_time": "2022-06-11T04:55:06.039933Z"
    }
   },
   "outputs": [
    {
     "data": {
      "image/png": "[encoded data removed]",
      "text/plain": [
       "<Figure size 400x400 with 1 Axes>"
      ]
     },
     "metadata": {},
     "output_type": "display_data"
    }
   ],
   "source": [
    "# 훈련셋과 검증셋의 추정확률로 ROC 곡선을 그립니다.\n",
    "hds.stat.roc_curve(y_true = trReal, y_prob = trProb, color = 'red')\n",
    "hds.stat.roc_curve(y_true = vaReal, y_prob = vaProb, color = 'blue')"
   ]
  },
  {
   "cell_type": "markdown",
   "id": "7ed34cd6",
   "metadata": {},
   "source": [
    "### 목표변수의 추정값 생성"
   ]
  },
  {
   "cell_type": "code",
   "execution_count": 64,
   "id": "c1e64445",
   "metadata": {
    "ExecuteTime": {
     "end_time": "2022-06-11T04:55:06.164904Z",
     "start_time": "2022-06-11T04:55:06.162633Z"
    }
   },
   "outputs": [],
   "source": [
    "# 분리 기준점을 0.5로 설정합니다.\n",
    "cutoff = 0.5"
   ]
  },
  {
   "cell_type": "code",
   "execution_count": 65,
   "id": "c6aea886",
   "metadata": {
    "ExecuteTime": {
     "end_time": "2022-06-11T04:55:06.169152Z",
     "start_time": "2022-06-11T04:55:06.166585Z"
    }
   },
   "outputs": [],
   "source": [
    "# 훈련셋의 목표변수 추정값(라벨)을 생성합니다.\n",
    "trPred1 = np.where(trProb >= cutoff, 1, 0)"
   ]
  },
  {
   "cell_type": "code",
   "execution_count": 66,
   "id": "e2d63a8d",
   "metadata": {
    "ExecuteTime": {
     "end_time": "2022-06-11T04:55:06.173917Z",
     "start_time": "2022-06-11T04:55:06.171425Z"
    }
   },
   "outputs": [],
   "source": [
    "# 검증셋의 목표변수 추정값(라벨)을 생성합니다.\n",
    "vaPred1 = np.where(vaProb >= cutoff, 1, 0)"
   ]
  },
  {
   "cell_type": "markdown",
   "id": "2ead22d7",
   "metadata": {},
   "source": [
    "### 분류모형 성능 평가 : 혼동행렬 리포트"
   ]
  },
  {
   "cell_type": "code",
   "execution_count": 67,
   "id": "9a830c56",
   "metadata": {
    "ExecuteTime": {
     "end_time": "2022-06-11T04:55:06.183008Z",
     "start_time": "2022-06-11T04:55:06.175933Z"
    }
   },
   "outputs": [
    {
     "name": "stdout",
     "output_type": "stream",
     "text": [
      "▶ Confusion Matrix\n",
      "[[736  77]\n",
      " [252 115]]\n",
      "\n",
      "▶ Classification Report\n",
      "              precision    recall  f1-score   support\n",
      "\n",
      "           0     0.7449    0.9053    0.8173       813\n",
      "           1     0.5990    0.3134    0.4114       367\n",
      "\n",
      "    accuracy                         0.7212      1180\n",
      "   macro avg     0.6719    0.6093    0.6144      1180\n",
      "weighted avg     0.6995    0.7212    0.6911      1180\n",
      "\n"
     ]
    }
   ],
   "source": [
    "# 훈련셋 추정값으로 혼동행렬 리포트를 출력합니다.\n",
    "hds.stat.clfmetrics(y_true = trReal, y_pred = trPred1)"
   ]
  },
  {
   "cell_type": "code",
   "execution_count": 68,
   "id": "722b899b",
   "metadata": {
    "ExecuteTime": {
     "end_time": "2022-06-11T04:55:06.192623Z",
     "start_time": "2022-06-11T04:55:06.184689Z"
    }
   },
   "outputs": [
    {
     "name": "stdout",
     "output_type": "stream",
     "text": [
      "▶ Confusion Matrix\n",
      "[[312  38]\n",
      " [105  52]]\n",
      "\n",
      "▶ Classification Report\n",
      "              precision    recall  f1-score   support\n",
      "\n",
      "           0     0.7482    0.8914    0.8136       350\n",
      "           1     0.5778    0.3312    0.4211       157\n",
      "\n",
      "    accuracy                         0.7179       507\n",
      "   macro avg     0.6630    0.6113    0.6173       507\n",
      "weighted avg     0.6954    0.7179    0.6920       507\n",
      "\n"
     ]
    }
   ],
   "source": [
    "# 검증셋 추정값으로 혼동행렬 리포트를 출력합니다.\n",
    "hds.stat.clfmetrics(y_true = vaReal, y_pred = vaPred1)"
   ]
  },
  {
   "cell_type": "markdown",
   "id": "gross-motion",
   "metadata": {},
   "source": [
    "### [참고] 혼동행렬 관련 함수"
   ]
  },
  {
   "cell_type": "code",
   "execution_count": null,
   "id": "european-assistant",
   "metadata": {
    "ExecuteTime": {
     "end_time": "2022-06-11T04:55:06.196806Z",
     "start_time": "2022-06-11T04:55:06.194417Z"
    }
   },
   "outputs": [],
   "source": [
    "# 관련 라이브러리를 호출합니다.\n",
    "from sklearn import metrics"
   ]
  },
  {
   "cell_type": "code",
   "execution_count": null,
   "id": "6898a97c",
   "metadata": {
    "ExecuteTime": {
     "end_time": "2022-06-11T04:55:06.202479Z",
     "start_time": "2022-06-11T04:55:06.198898Z"
    }
   },
   "outputs": [],
   "source": [
    "# 검증셋 추정값으로 혼동행렬을 출력합니다.\n",
    "print(metrics.confusion_matrix(y_true = vaReal, y_pred = vaPred1))"
   ]
  },
  {
   "cell_type": "code",
   "execution_count": null,
   "id": "organizational-arrangement",
   "metadata": {
    "ExecuteTime": {
     "end_time": "2022-06-11T04:55:06.210491Z",
     "start_time": "2022-06-11T04:55:06.204150Z"
    }
   },
   "outputs": [],
   "source": [
    "# 검증셋 추정값으로 분류모형 리포트를 출력합니다.\n",
    "print(metrics.classification_report(y_true = vaReal, y_pred = vaPred1))"
   ]
  },
  {
   "cell_type": "code",
   "execution_count": null,
   "id": "parallel-mercy",
   "metadata": {
    "ExecuteTime": {
     "end_time": "2022-06-11T04:55:06.216754Z",
     "start_time": "2022-06-11T04:55:06.212059Z"
    }
   },
   "outputs": [],
   "source": [
    "# 검증셋 추정값으로 F1 점수를 출력합니다.\n",
    "metrics.f1_score(y_true = vaReal, y_pred = vaPred1, pos_label = 1)"
   ]
  },
  {
   "cell_type": "markdown",
   "id": "e0019005",
   "metadata": {},
   "source": [
    "### [참고] 목표변수의 범주별 추정확률 분포"
   ]
  },
  {
   "cell_type": "code",
   "execution_count": 69,
   "id": "804dfbd6",
   "metadata": {
    "ExecuteTime": {
     "end_time": "2022-06-11T04:55:06.314970Z",
     "start_time": "2022-06-11T04:55:06.218317Z"
    }
   },
   "outputs": [
    {
     "data": {
      "image/png": "[encoded data removed]",
      "text/plain": [
       "<Figure size 400x400 with 1 Axes>"
      ]
     },
     "metadata": {},
     "output_type": "display_data"
    }
   ],
   "source": [
    "# 목표변수 범주별 추정확률 분포를 비교합니다.\n",
    "sns.boxplot(x = trReal, y = trProb)\n",
    "plt.title(label = '범주별 추정확률')\n",
    "plt.xlabel(xlabel = '실제값')\n",
    "plt.ylabel(ylabel = '추정확률')\n",
    "plt.axhline(y = 0.5, color = 'red', lw = 1.5, ls = '--');"
   ]
  },
  {
   "cell_type": "markdown",
   "id": "d8ead17c",
   "metadata": {},
   "source": [
    "### [참고] 최적의 분리 기준점 탐색"
   ]
  },
  {
   "cell_type": "code",
   "execution_count": 70,
   "id": "bbfeee05",
   "metadata": {
    "ExecuteTime": {
     "end_time": "2022-06-11T04:55:06.892208Z",
     "start_time": "2022-06-11T04:55:06.691966Z"
    }
   },
   "outputs": [
    {
     "data": {
      "image/png": "[encoded data removed]",
      "text/plain": [
       "<Figure size 400x400 with 1 Axes>"
      ]
     },
     "metadata": {},
     "output_type": "display_data"
    }
   ],
   "source": [
    "# 분리 기준점마다 민감도와 특이도를 계산하고 두 값의 합계가 최댓값일 때의 \n",
    "# 분리 기준점을 ROC 곡선 위에 빨간 점으로 표시합니다.\n",
    "hds.stat.EpiROC(y_true = vaReal, y_prob = vaProb)"
   ]
  },
  {
   "cell_type": "markdown",
   "id": "ca981333",
   "metadata": {},
   "source": [
    "### [참고] 최적의 분리 기준점으로 성능지표 확인"
   ]
  },
  {
   "cell_type": "code",
   "execution_count": 71,
   "id": "42e5d9a4",
   "metadata": {
    "ExecuteTime": {
     "end_time": "2022-06-11T04:55:06.896099Z",
     "start_time": "2022-06-11T04:55:06.893966Z"
    }
   },
   "outputs": [],
   "source": [
    "# 최적의 분리 기준점을 설정합니다.\n",
    "cutoff = 0.27"
   ]
  },
  {
   "cell_type": "code",
   "execution_count": 72,
   "id": "b3b2b850",
   "metadata": {
    "ExecuteTime": {
     "end_time": "2022-06-11T04:55:06.900428Z",
     "start_time": "2022-06-11T04:55:06.897825Z"
    }
   },
   "outputs": [],
   "source": [
    "# 분리 기준점 변경 후 검증셋의 목표변수 추정값(라벨)을 생성합니다.\n",
    "vaPred2 = np.where(vaProb >= cutoff, 1, 0)"
   ]
  },
  {
   "cell_type": "code",
   "execution_count": 73,
   "id": "590879c1",
   "metadata": {
    "ExecuteTime": {
     "end_time": "2022-06-11T04:55:06.909816Z",
     "start_time": "2022-06-11T04:55:06.902730Z"
    }
   },
   "outputs": [
    {
     "name": "stdout",
     "output_type": "stream",
     "text": [
      "▶ Confusion Matrix\n",
      "[[202 148]\n",
      " [ 31 126]]\n",
      "\n",
      "▶ Classification Report\n",
      "              precision    recall  f1-score   support\n",
      "\n",
      "           0     0.8670    0.5771    0.6930       350\n",
      "           1     0.4599    0.8025    0.5847       157\n",
      "\n",
      "    accuracy                         0.6469       507\n",
      "   macro avg     0.6634    0.6898    0.6388       507\n",
      "weighted avg     0.7409    0.6469    0.6594       507\n",
      "\n"
     ]
    }
   ],
   "source": [
    "# 분리 기준점 변경 후 검증셋 추정값으로 혼동행렬 리포트를 출력합니다.\n",
    "hds.stat.clfmetrics(y_true = vaReal, y_pred = vaPred2)"
   ]
  },
  {
   "cell_type": "code",
   "execution_count": 74,
   "id": "8b23d834",
   "metadata": {
    "ExecuteTime": {
     "end_time": "2022-06-11T04:55:06.919560Z",
     "start_time": "2022-06-11T04:55:06.911760Z"
    }
   },
   "outputs": [
    {
     "name": "stdout",
     "output_type": "stream",
     "text": [
      "▶ Confusion Matrix\n",
      "[[312  38]\n",
      " [105  52]]\n",
      "\n",
      "▶ Classification Report\n",
      "              precision    recall  f1-score   support\n",
      "\n",
      "           0     0.7482    0.8914    0.8136       350\n",
      "           1     0.5778    0.3312    0.4211       157\n",
      "\n",
      "    accuracy                         0.7179       507\n",
      "   macro avg     0.6630    0.6113    0.6173       507\n",
      "weighted avg     0.6954    0.7179    0.6920       507\n",
      "\n"
     ]
    }
   ],
   "source": [
    "# 분리 기준점 변경 전 검증셋 추정값으로 혼동행렬 리포트와 비교합니다.\n",
    "hds.stat.clfmetrics(y_true = vaReal, y_pred = vaPred1)"
   ]
  },
  {
   "cell_type": "markdown",
   "id": "4c115486",
   "metadata": {},
   "source": [
    "### [참고] 매튜의 상관계수"
   ]
  },
  {
   "cell_type": "code",
   "execution_count": 77,
   "id": "d208848a",
   "metadata": {},
   "outputs": [],
   "source": [
    "from sklearn import metrics"
   ]
  },
  {
   "cell_type": "code",
   "execution_count": 78,
   "id": "e6c51ffc",
   "metadata": {
    "ExecuteTime": {
     "end_time": "2022-06-11T04:55:06.926843Z",
     "start_time": "2022-06-11T04:55:06.921558Z"
    }
   },
   "outputs": [
    {
     "data": {
      "text/plain": [
       "0.26939860688985623"
      ]
     },
     "execution_count": 78,
     "metadata": {},
     "output_type": "execute_result"
    }
   ],
   "source": [
    "# 분리 기준점 변경 전 검증셋 추정값으로 매튜의 상관계수를 출력합니다.\n",
    "metrics.matthews_corrcoef(y_true = vaReal, y_pred = vaPred1)"
   ]
  },
  {
   "cell_type": "code",
   "execution_count": 79,
   "id": "0ad49ee0",
   "metadata": {
    "ExecuteTime": {
     "end_time": "2022-06-11T04:55:06.933441Z",
     "start_time": "2022-06-11T04:55:06.928594Z"
    }
   },
   "outputs": [
    {
     "data": {
      "text/plain": [
       "0.35225769077122454"
      ]
     },
     "execution_count": 79,
     "metadata": {},
     "output_type": "execute_result"
    }
   ],
   "source": [
    "# 분리 기준점 변경 후 검증셋 추정값으로 매튜의 상관계수와 비교합니다.\n",
    "metrics.matthews_corrcoef(y_true = vaReal, y_pred = vaPred2)"
   ]
  },
  {
   "cell_type": "markdown",
   "id": "a7ba46af",
   "metadata": {},
   "source": [
    "### [참고] 최적의 분리 기준점 탐색 with MCC"
   ]
  },
  {
   "cell_type": "code",
   "execution_count": 80,
   "id": "99cfa37d",
   "metadata": {},
   "outputs": [],
   "source": [
    "# 분리 기준점 후보를 설정합니다.\n",
    "cutoffs = np.linspace(start = 0, stop = 1, num = 100 + 1)"
   ]
  },
  {
   "cell_type": "code",
   "execution_count": 81,
   "id": "8b52000c",
   "metadata": {},
   "outputs": [],
   "source": [
    "# 매튜의 상관계수를 저장할 빈 리스트를 생성합니다.\n",
    "mccs = []"
   ]
  },
  {
   "cell_type": "code",
   "execution_count": 82,
   "id": "751acd16",
   "metadata": {},
   "outputs": [],
   "source": [
    "# for 반복문으로 분리 기준점 후보마다 매튜의 상관계수를 계산합니다.\n",
    "for cutoff in cutoffs:\n",
    "    vaPred = np.where(vaProb >= cutoff, 1, 0)\n",
    "    mcc = metrics.matthews_corrcoef(y_true = vaReal, y_pred = vaPred)\n",
    "    mccs.append(mcc)"
   ]
  },
  {
   "cell_type": "code",
   "execution_count": 83,
   "id": "4428b83c",
   "metadata": {},
   "outputs": [
    {
     "data": {
      "text/plain": [
       "0.27"
      ]
     },
     "execution_count": 83,
     "metadata": {},
     "output_type": "execute_result"
    }
   ],
   "source": [
    "# 최적의 분리 기준점을 반환합니다.\n",
    "cutoffs[np.argmax(a = mccs)]"
   ]
  },
  {
   "cell_type": "code",
   "execution_count": 84,
   "id": "b6055629",
   "metadata": {},
   "outputs": [
    {
     "data": {
      "image/png": "[encoded data removed]",
      "text/plain": [
       "<Figure size 400x400 with 1 Axes>"
      ]
     },
     "metadata": {},
     "output_type": "display_data"
    }
   ],
   "source": [
    "sns.lineplot(x = cutoffs, y = mccs, color = 'black', lw = 0.5);"
   ]
  },
  {
   "cell_type": "markdown",
   "id": "33a2aaf1",
   "metadata": {},
   "source": [
    "## End of Document"
   ]
  }
 ],
 "metadata": {
  "kernelspec": {
   "display_name": "Python 3 (ipykernel)",
   "language": "python",
   "name": "python3"
  },
  "language_info": {
   "codemirror_mode": {
    "name": "ipython",
    "version": 3
   },
   "file_extension": ".py",
   "mimetype": "text/x-python",
   "name": "python",
   "nbconvert_exporter": "python",
   "pygments_lexer": "ipython3",
   "version": "3.11.3"
  },
  "toc": {
   "base_numbering": 1,
   "nav_menu": {},
   "number_sections": false,
   "sideBar": true,
   "skip_h1_title": false,
   "title_cell": "Table of Contents",
   "title_sidebar": "Contents",
   "toc_cell": false,
   "toc_position": {},
   "toc_section_display": true,
   "toc_window_display": false
  },
  "varInspector": {
   "cols": {
    "lenName": 16,
    "lenType": 16,
    "lenVar": 40
   },
   "kernels_config": {
    "python": {
     "delete_cmd_postfix": "",
     "delete_cmd_prefix": "del ",
     "library": "var_list.py",
     "varRefreshCmd": "print(var_dic_list())"
    },
    "r": {
     "delete_cmd_postfix": ") ",
     "delete_cmd_prefix": "rm(",
     "library": "var_list.r",
     "varRefreshCmd": "cat(var_dic_list()) "
    }
   },
   "types_to_exclude": [
    "module",
    "function",
    "builtin_function_or_method",
    "instance",
    "_Feature"
   ],
   "window_display": false
  }
 },
 "nbformat": 4,
 "nbformat_minor": 5
}
