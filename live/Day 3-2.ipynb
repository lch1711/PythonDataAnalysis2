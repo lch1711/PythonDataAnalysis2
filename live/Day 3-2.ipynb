{
 "cells": [
  {
   "cell_type": "markdown",
   "id": "fc09e07d",
   "metadata": {},
   "source": [
    "## 로지스틱 회귀분석"
   ]
  },
  {
   "cell_type": "markdown",
   "id": "7d56d659",
   "metadata": {},
   "source": [
    "### 관련 라이브러리 호출"
   ]
  },
  {
   "cell_type": "code",
   "execution_count": 1,
   "id": "alien-controversy",
   "metadata": {
    "ExecuteTime": {
     "end_time": "2022-06-11T04:55:04.050027Z",
     "start_time": "2022-06-11T04:55:02.854491Z"
    }
   },
   "outputs": [],
   "source": [
    "# 관련 라이브러리를 호출합니다.\n",
    "import os\n",
    "import joblib\n",
    "import numpy as np\n",
    "import pandas as pd"
   ]
  },
  {
   "cell_type": "code",
   "execution_count": 6,
   "id": "ba0bf184",
   "metadata": {},
   "outputs": [
    {
     "data": {
      "text/plain": [
       "['C:\\\\Users\\\\hdsce\\\\Documents\\\\PythonDataAnalysis2\\\\live',\n",
       " 'C:\\\\Users\\\\hdsce\\\\Documents\\\\MyPath',\n",
       " 'C:\\\\Users\\\\hdsce\\\\AppData\\\\Local\\\\Programs\\\\Python\\\\Python311\\\\python311.zip',\n",
       " 'C:\\\\Users\\\\hdsce\\\\AppData\\\\Local\\\\Programs\\\\Python\\\\Python311\\\\DLLs',\n",
       " 'C:\\\\Users\\\\hdsce\\\\AppData\\\\Local\\\\Programs\\\\Python\\\\Python311\\\\Lib',\n",
       " 'C:\\\\Users\\\\hdsce\\\\AppData\\\\Local\\\\Programs\\\\Python\\\\Python311',\n",
       " 'C:\\\\Users\\\\hdsce\\\\ve311',\n",
       " '',\n",
       " 'C:\\\\Users\\\\hdsce\\\\ve311\\\\Lib\\\\site-packages',\n",
       " 'C:\\\\Users\\\\hdsce\\\\ve311\\\\Lib\\\\site-packages\\\\win32',\n",
       " 'C:\\\\Users\\\\hdsce\\\\ve311\\\\Lib\\\\site-packages\\\\win32\\\\lib',\n",
       " 'C:\\\\Users\\\\hdsce\\\\ve311\\\\Lib\\\\site-packages\\\\Pythonwin']"
      ]
     },
     "execution_count": 6,
     "metadata": {},
     "output_type": "execute_result"
    }
   ],
   "source": [
    "import sys\n",
    "sys.path"
   ]
  },
  {
   "cell_type": "raw",
   "id": "21af5927",
   "metadata": {},
   "source": [
    "sys.path.append(r'C:\\Users\\hdsce\\Documents\\MyPath')"
   ]
  },
  {
   "cell_type": "code",
   "execution_count": 2,
   "id": "96998714",
   "metadata": {},
   "outputs": [],
   "source": [
    "# 시각화 설정 모듈을 호출합니다.\n",
    "from GraphicSetting import *"
   ]
  },
  {
   "cell_type": "code",
   "execution_count": 3,
   "id": "d10214c0",
   "metadata": {},
   "outputs": [],
   "source": [
    "# 통계 관련 라이브러리를 호출합니다.\n",
    "from scipy import stats\n",
    "import pingouin as pg"
   ]
  },
  {
   "cell_type": "code",
   "execution_count": 4,
   "id": "3c3ad5fc",
   "metadata": {
    "ExecuteTime": {
     "end_time": "2022-06-11T04:55:04.338408Z",
     "start_time": "2022-06-11T04:55:04.052268Z"
    }
   },
   "outputs": [],
   "source": [
    "# EDA 시각화 및 통계 분석 관련 모듈을 호출합니다.\n",
    "import hds_stats as hds"
   ]
  },
  {
   "cell_type": "code",
   "execution_count": 5,
   "id": "9e0e2f38",
   "metadata": {},
   "outputs": [],
   "source": [
    "# 실수를 출력할 소수점 자릿수를 설정합니다.\n",
    "%precision 3\n",
    "pd.set_option('display.float_format', lambda x: f'{x:.3f}')"
   ]
  },
  {
   "cell_type": "markdown",
   "id": "separate-davis",
   "metadata": {},
   "source": [
    "### 실습 데이터셋 준비"
   ]
  },
  {
   "cell_type": "code",
   "execution_count": 8,
   "id": "realistic-noise",
   "metadata": {
    "ExecuteTime": {
     "end_time": "2022-06-11T04:55:04.919444Z",
     "start_time": "2022-06-11T04:55:04.340122Z"
    }
   },
   "outputs": [],
   "source": [
    "# 인터넷에 공유 중인 텍스트 데이터를 읽고 데이터프레임 df를 생성합니다.\n",
    "df = pd.read_csv(filepath_or_buffer = 'https://bit.ly/UnivAdmit')"
   ]
  },
  {
   "cell_type": "code",
   "execution_count": 9,
   "id": "martial-jacket",
   "metadata": {
    "ExecuteTime": {
     "end_time": "2022-06-11T04:55:04.930110Z",
     "start_time": "2022-06-11T04:55:04.922394Z"
    }
   },
   "outputs": [
    {
     "name": "stdout",
     "output_type": "stream",
     "text": [
      "<class 'pandas.core.frame.DataFrame'>\n",
      "RangeIndex: 1687 entries, 0 to 1686\n",
      "Data columns (total 4 columns):\n",
      " #   Column  Non-Null Count  Dtype  \n",
      "---  ------  --------------  -----  \n",
      " 0   admit   1687 non-null   object \n",
      " 1   gre     1687 non-null   float64\n",
      " 2   gpa     1687 non-null   float64\n",
      " 3   rank    1687 non-null   int64  \n",
      "dtypes: float64(2), int64(1), object(1)\n",
      "memory usage: 52.8+ KB\n"
     ]
    }
   ],
   "source": [
    "# df의 정보를 확인합니다.\n",
    "df.info()"
   ]
  },
  {
   "cell_type": "code",
   "execution_count": 10,
   "id": "2d6ab82d",
   "metadata": {
    "ExecuteTime": {
     "end_time": "2022-06-11T04:55:04.944649Z",
     "start_time": "2022-06-11T04:55:04.931736Z"
    }
   },
   "outputs": [
    {
     "data": {
      "text/html": [
       "<div>\n",
       "<style scoped>\n",
       "    .dataframe tbody tr th:only-of-type {\n",
       "        vertical-align: middle;\n",
       "    }\n",
       "\n",
       "    .dataframe tbody tr th {\n",
       "        vertical-align: top;\n",
       "    }\n",
       "\n",
       "    .dataframe thead th {\n",
       "        text-align: right;\n",
       "    }\n",
       "</style>\n",
       "<table border=\"1\" class=\"dataframe\">\n",
       "  <thead>\n",
       "    <tr style=\"text-align: right;\">\n",
       "      <th></th>\n",
       "      <th>admit</th>\n",
       "      <th>gre</th>\n",
       "      <th>gpa</th>\n",
       "      <th>rank</th>\n",
       "    </tr>\n",
       "  </thead>\n",
       "  <tbody>\n",
       "    <tr>\n",
       "      <th>0</th>\n",
       "      <td>Fail</td>\n",
       "      <td>380.000</td>\n",
       "      <td>3.610</td>\n",
       "      <td>3</td>\n",
       "    </tr>\n",
       "    <tr>\n",
       "      <th>1</th>\n",
       "      <td>Pass</td>\n",
       "      <td>660.000</td>\n",
       "      <td>3.670</td>\n",
       "      <td>3</td>\n",
       "    </tr>\n",
       "    <tr>\n",
       "      <th>2</th>\n",
       "      <td>Pass</td>\n",
       "      <td>800.000</td>\n",
       "      <td>4.000</td>\n",
       "      <td>1</td>\n",
       "    </tr>\n",
       "    <tr>\n",
       "      <th>3</th>\n",
       "      <td>Pass</td>\n",
       "      <td>640.000</td>\n",
       "      <td>3.190</td>\n",
       "      <td>4</td>\n",
       "    </tr>\n",
       "    <tr>\n",
       "      <th>4</th>\n",
       "      <td>Fail</td>\n",
       "      <td>520.000</td>\n",
       "      <td>2.930</td>\n",
       "      <td>4</td>\n",
       "    </tr>\n",
       "  </tbody>\n",
       "</table>\n",
       "</div>"
      ],
      "text/plain": [
       "  admit     gre   gpa  rank\n",
       "0  Fail 380.000 3.610     3\n",
       "1  Pass 660.000 3.670     3\n",
       "2  Pass 800.000 4.000     1\n",
       "3  Pass 640.000 3.190     4\n",
       "4  Fail 520.000 2.930     4"
      ]
     },
     "execution_count": 10,
     "metadata": {},
     "output_type": "execute_result"
    }
   ],
   "source": [
    "# df의 처음 5행을 출력합니다.\n",
    "df.head()"
   ]
  },
  {
   "cell_type": "code",
   "execution_count": 11,
   "id": "45c4361e",
   "metadata": {},
   "outputs": [],
   "source": [
    "# y절편 역할을 수행할 상수 1을 df의 두 번째 열로 삽입합니다.\n",
    "df.insert(loc = 1, column = 'const', value = 1)"
   ]
  },
  {
   "cell_type": "markdown",
   "id": "67a7417f",
   "metadata": {},
   "source": [
    "### 실습 데이터셋 전처리"
   ]
  },
  {
   "cell_type": "code",
   "execution_count": 12,
   "id": "31cf2953",
   "metadata": {
    "ExecuteTime": {
     "end_time": "2022-06-11T04:55:04.949060Z",
     "start_time": "2022-06-11T04:55:04.946349Z"
    }
   },
   "outputs": [],
   "source": [
    "# rank를 범주형으로 변환합니다.\n",
    "df['rank'] = df['rank'].astype(str)"
   ]
  },
  {
   "cell_type": "code",
   "execution_count": 13,
   "id": "f901099a",
   "metadata": {
    "ExecuteTime": {
     "end_time": "2022-06-11T04:55:04.961759Z",
     "start_time": "2022-06-11T04:55:04.950593Z"
    }
   },
   "outputs": [
    {
     "data": {
      "text/html": [
       "<div>\n",
       "<style scoped>\n",
       "    .dataframe tbody tr th:only-of-type {\n",
       "        vertical-align: middle;\n",
       "    }\n",
       "\n",
       "    .dataframe tbody tr th {\n",
       "        vertical-align: top;\n",
       "    }\n",
       "\n",
       "    .dataframe thead th {\n",
       "        text-align: right;\n",
       "    }\n",
       "</style>\n",
       "<table border=\"1\" class=\"dataframe\">\n",
       "  <thead>\n",
       "    <tr style=\"text-align: right;\">\n",
       "      <th></th>\n",
       "      <th>const</th>\n",
       "      <th>gre</th>\n",
       "      <th>gpa</th>\n",
       "    </tr>\n",
       "  </thead>\n",
       "  <tbody>\n",
       "    <tr>\n",
       "      <th>count</th>\n",
       "      <td>1687.000</td>\n",
       "      <td>1687.000</td>\n",
       "      <td>1687.000</td>\n",
       "    </tr>\n",
       "    <tr>\n",
       "      <th>mean</th>\n",
       "      <td>1.000</td>\n",
       "      <td>574.303</td>\n",
       "      <td>3.346</td>\n",
       "    </tr>\n",
       "    <tr>\n",
       "      <th>std</th>\n",
       "      <td>0.000</td>\n",
       "      <td>97.924</td>\n",
       "      <td>0.322</td>\n",
       "    </tr>\n",
       "    <tr>\n",
       "      <th>min</th>\n",
       "      <td>1.000</td>\n",
       "      <td>220.000</td>\n",
       "      <td>2.260</td>\n",
       "    </tr>\n",
       "    <tr>\n",
       "      <th>25%</th>\n",
       "      <td>1.000</td>\n",
       "      <td>510.000</td>\n",
       "      <td>3.130</td>\n",
       "    </tr>\n",
       "    <tr>\n",
       "      <th>50%</th>\n",
       "      <td>1.000</td>\n",
       "      <td>580.000</td>\n",
       "      <td>3.360</td>\n",
       "    </tr>\n",
       "    <tr>\n",
       "      <th>75%</th>\n",
       "      <td>1.000</td>\n",
       "      <td>640.000</td>\n",
       "      <td>3.580</td>\n",
       "    </tr>\n",
       "    <tr>\n",
       "      <th>max</th>\n",
       "      <td>1.000</td>\n",
       "      <td>800.000</td>\n",
       "      <td>4.000</td>\n",
       "    </tr>\n",
       "  </tbody>\n",
       "</table>\n",
       "</div>"
      ],
      "text/plain": [
       "         const      gre      gpa\n",
       "count 1687.000 1687.000 1687.000\n",
       "mean     1.000  574.303    3.346\n",
       "std      0.000   97.924    0.322\n",
       "min      1.000  220.000    2.260\n",
       "25%      1.000  510.000    3.130\n",
       "50%      1.000  580.000    3.360\n",
       "75%      1.000  640.000    3.580\n",
       "max      1.000  800.000    4.000"
      ]
     },
     "execution_count": 13,
     "metadata": {},
     "output_type": "execute_result"
    }
   ],
   "source": [
    "# 연속형 변수의 기술통계량을 확인합니다.\n",
    "df.describe()"
   ]
  },
  {
   "cell_type": "code",
   "execution_count": 14,
   "id": "5a658311",
   "metadata": {
    "ExecuteTime": {
     "end_time": "2022-06-11T04:55:04.970987Z",
     "start_time": "2022-06-11T04:55:04.963353Z"
    }
   },
   "outputs": [
    {
     "data": {
      "text/html": [
       "<div>\n",
       "<style scoped>\n",
       "    .dataframe tbody tr th:only-of-type {\n",
       "        vertical-align: middle;\n",
       "    }\n",
       "\n",
       "    .dataframe tbody tr th {\n",
       "        vertical-align: top;\n",
       "    }\n",
       "\n",
       "    .dataframe thead th {\n",
       "        text-align: right;\n",
       "    }\n",
       "</style>\n",
       "<table border=\"1\" class=\"dataframe\">\n",
       "  <thead>\n",
       "    <tr style=\"text-align: right;\">\n",
       "      <th></th>\n",
       "      <th>admit</th>\n",
       "      <th>rank</th>\n",
       "    </tr>\n",
       "  </thead>\n",
       "  <tbody>\n",
       "    <tr>\n",
       "      <th>count</th>\n",
       "      <td>1687</td>\n",
       "      <td>1687</td>\n",
       "    </tr>\n",
       "    <tr>\n",
       "      <th>unique</th>\n",
       "      <td>2</td>\n",
       "      <td>4</td>\n",
       "    </tr>\n",
       "    <tr>\n",
       "      <th>top</th>\n",
       "      <td>Fail</td>\n",
       "      <td>2</td>\n",
       "    </tr>\n",
       "    <tr>\n",
       "      <th>freq</th>\n",
       "      <td>1163</td>\n",
       "      <td>568</td>\n",
       "    </tr>\n",
       "  </tbody>\n",
       "</table>\n",
       "</div>"
      ],
      "text/plain": [
       "       admit  rank\n",
       "count   1687  1687\n",
       "unique     2     4\n",
       "top     Fail     2\n",
       "freq    1163   568"
      ]
     },
     "execution_count": 14,
     "metadata": {},
     "output_type": "execute_result"
    }
   ],
   "source": [
    "# 범주형 변수의 기술통계량을 확인합니다.\n",
    "df.describe(include = object)"
   ]
  },
  {
   "cell_type": "code",
   "execution_count": 15,
   "id": "4010d7a9",
   "metadata": {
    "ExecuteTime": {
     "end_time": "2022-06-11T04:55:04.978897Z",
     "start_time": "2022-06-11T04:55:04.973525Z"
    }
   },
   "outputs": [
    {
     "data": {
      "text/plain": [
       "rank\n",
       "1    273\n",
       "2    568\n",
       "3    540\n",
       "4    306\n",
       "Name: count, dtype: int64"
      ]
     },
     "execution_count": 15,
     "metadata": {},
     "output_type": "execute_result"
    }
   ],
   "source": [
    "# rank의 범주별 빈도수를 출력합니다.\n",
    "df['rank'].value_counts().sort_index()"
   ]
  },
  {
   "cell_type": "markdown",
   "id": "112fc20e",
   "metadata": {},
   "source": [
    "### 목표변수 시각화"
   ]
  },
  {
   "cell_type": "code",
   "execution_count": 16,
   "id": "shared-database",
   "metadata": {
    "ExecuteTime": {
     "end_time": "2022-06-11T04:55:05.081896Z",
     "start_time": "2022-06-11T04:55:04.982892Z"
    }
   },
   "outputs": [
    {
     "data": {
      "image/png": "[encoded data removed]",
      "text/plain": [
       "<Figure size 400x400 with 1 Axes>"
      ]
     },
     "metadata": {},
     "output_type": "display_data"
    }
   ],
   "source": [
    "# 목표변수 범주별 빈도수로 일변량 막대 그래프를 그립니다.\n",
    "hds.plot.bar_freq(\n",
    "    data = df, \n",
    "    x = 'admit', \n",
    "    pal = ['skyblue', 'orange']\n",
    ")"
   ]
  },
  {
   "cell_type": "markdown",
   "id": "attempted-operations",
   "metadata": {},
   "source": [
    "### 입력변수와 관계 파악: gre"
   ]
  },
  {
   "cell_type": "code",
   "execution_count": 17,
   "id": "important-college",
   "metadata": {
    "ExecuteTime": {
     "end_time": "2022-06-11T04:55:05.193009Z",
     "start_time": "2022-06-11T04:55:05.083701Z"
    }
   },
   "outputs": [
    {
     "data": {
      "image/png": "[encoded data removed]",
      "text/plain": [
       "<Figure size 400x400 with 1 Axes>"
      ]
     },
     "metadata": {},
     "output_type": "display_data"
    }
   ],
   "source": [
    "# admit 범주별 gre의 상자 수염 그림을 그립니다.\n",
    "hds.plot.box_group(\n",
    "    data = df, \n",
    "    x = 'admit', \n",
    "    y = 'gre', \n",
    "    pal = ['skyblue', 'orange']\n",
    ")"
   ]
  },
  {
   "cell_type": "markdown",
   "id": "b781873a",
   "metadata": {},
   "source": [
    "### 입력변수와 관계 파악: gpa"
   ]
  },
  {
   "cell_type": "code",
   "execution_count": 18,
   "id": "synthetic-leader",
   "metadata": {
    "ExecuteTime": {
     "end_time": "2022-06-11T04:55:05.305686Z",
     "start_time": "2022-06-11T04:55:05.194837Z"
    }
   },
   "outputs": [
    {
     "data": {
      "image/png": "[encoded data removed]",
      "text/plain": [
       "<Figure size 400x400 with 1 Axes>"
      ]
     },
     "metadata": {},
     "output_type": "display_data"
    }
   ],
   "source": [
    "# admit 범주별 gpa의 상자 수염 그림을 그립니다.\n",
    "hds.plot.box_group(\n",
    "    data = df, \n",
    "    x = 'admit', \n",
    "    y = 'gpa', \n",
    "    pal = ['skyblue', 'orange']\n",
    ")"
   ]
  },
  {
   "cell_type": "markdown",
   "id": "a8aec4e6",
   "metadata": {},
   "source": [
    "### 입력변수와 관계 파악: rank"
   ]
  },
  {
   "cell_type": "code",
   "execution_count": 19,
   "id": "a599e972",
   "metadata": {
    "ExecuteTime": {
     "end_time": "2022-06-11T04:55:05.481819Z",
     "start_time": "2022-06-11T04:55:05.307470Z"
    }
   },
   "outputs": [
    {
     "data": {
      "image/png": "[encoded data removed]",
      "text/plain": [
       "<Figure size 400x400 with 1 Axes>"
      ]
     },
     "metadata": {},
     "output_type": "display_data"
    }
   ],
   "source": [
    "# rank 범주별 admit의 빈도수로 묶음 막대 그래프를 그립니다.\n",
    "hds.plot.bar_dodge_freq(\n",
    "    data = df, \n",
    "    x = 'rank', \n",
    "    group = 'admit', \n",
    "    pal = ['skyblue', 'orange']\n",
    ")"
   ]
  },
  {
   "cell_type": "code",
   "execution_count": 20,
   "id": "f09eb2ab",
   "metadata": {
    "ExecuteTime": {
     "end_time": "2022-06-11T04:55:05.609597Z",
     "start_time": "2022-06-11T04:55:05.483540Z"
    }
   },
   "outputs": [
    {
     "data": {
      "image/png": "[encoded data removed]",
      "text/plain": [
       "<Figure size 400x400 with 1 Axes>"
      ]
     },
     "metadata": {},
     "output_type": "display_data"
    }
   ],
   "source": [
    "# rank 범주별 admit의 빈도수로 쌓은 막대 그래프를 그립니다.\n",
    "hds.plot.bar_stack_freq(\n",
    "    data = df, \n",
    "    x = 'rank', \n",
    "    group = 'admit', \n",
    "    pal = ['skyblue', 'orange']\n",
    ")"
   ]
  },
  {
   "cell_type": "code",
   "execution_count": 21,
   "id": "rental-homeless",
   "metadata": {
    "ExecuteTime": {
     "end_time": "2022-06-11T04:55:05.734227Z",
     "start_time": "2022-06-11T04:55:05.611463Z"
    }
   },
   "outputs": [
    {
     "data": {
      "image/png": "[encoded data removed]",
      "text/plain": [
       "<Figure size 400x400 with 1 Axes>"
      ]
     },
     "metadata": {},
     "output_type": "display_data"
    }
   ],
   "source": [
    "# rank 범주별 admit의 상대도수로 쌓은 막대 그래프를 그립니다.\n",
    "hds.plot.bar_stack_prop(\n",
    "    data = df, \n",
    "    x = 'rank', \n",
    "    group = 'admit', \n",
    "    pal = ['skyblue', 'orange']\n",
    ");"
   ]
  },
  {
   "cell_type": "markdown",
   "id": "5fde44a8",
   "metadata": {},
   "source": [
    "### t-검정: gre"
   ]
  },
  {
   "cell_type": "code",
   "execution_count": 22,
   "id": "d03bd596",
   "metadata": {
    "ExecuteTime": {
     "end_time": "2022-06-11T04:55:05.745577Z",
     "start_time": "2022-06-11T04:55:05.735942Z"
    }
   },
   "outputs": [
    {
     "data": {
      "text/html": [
       "<div>\n",
       "<style scoped>\n",
       "    .dataframe tbody tr th:only-of-type {\n",
       "        vertical-align: middle;\n",
       "    }\n",
       "\n",
       "    .dataframe tbody tr th {\n",
       "        vertical-align: top;\n",
       "    }\n",
       "\n",
       "    .dataframe thead th {\n",
       "        text-align: right;\n",
       "    }\n",
       "</style>\n",
       "<table border=\"1\" class=\"dataframe\">\n",
       "  <thead>\n",
       "    <tr style=\"text-align: right;\">\n",
       "      <th></th>\n",
       "      <th>W</th>\n",
       "      <th>pval</th>\n",
       "      <th>equal_var</th>\n",
       "    </tr>\n",
       "  </thead>\n",
       "  <tbody>\n",
       "    <tr>\n",
       "      <th>levene</th>\n",
       "      <td>3.596</td>\n",
       "      <td>0.058</td>\n",
       "      <td>True</td>\n",
       "    </tr>\n",
       "  </tbody>\n",
       "</table>\n",
       "</div>"
      ],
      "text/plain": [
       "           W  pval  equal_var\n",
       "levene 3.596 0.058       True"
      ]
     },
     "execution_count": 22,
     "metadata": {},
     "output_type": "execute_result"
    }
   ],
   "source": [
    "# (정규성 가정 만족) 등분산 검정을 실행합니다.\n",
    "pg.homoscedasticity(data = df, dv = 'gre', group = 'admit')"
   ]
  },
  {
   "cell_type": "code",
   "execution_count": 23,
   "id": "010f1451",
   "metadata": {
    "ExecuteTime": {
     "end_time": "2022-06-11T04:55:05.750178Z",
     "start_time": "2022-06-11T04:55:05.747245Z"
    }
   },
   "outputs": [],
   "source": [
    "# admit 범주별 gre로 시리즈를 생성합니다.\n",
    "sp1 = df['gre'][df['admit'].eq('Fail')]\n",
    "sp2 = df['gre'][df['admit'].eq('Pass')]"
   ]
  },
  {
   "cell_type": "code",
   "execution_count": 24,
   "id": "af0852e5",
   "metadata": {},
   "outputs": [
    {
     "data": {
      "text/plain": [
       "admit\n",
       "Fail   556.079\n",
       "Pass   614.752\n",
       "Name: gre, dtype: float64"
      ]
     },
     "execution_count": 24,
     "metadata": {},
     "output_type": "execute_result"
    }
   ],
   "source": [
    "df.groupby(by = ['admit'])['gre'].mean()"
   ]
  },
  {
   "cell_type": "code",
   "execution_count": 25,
   "id": "dba616fe",
   "metadata": {
    "ExecuteTime": {
     "end_time": "2022-06-11T04:55:05.761349Z",
     "start_time": "2022-06-11T04:55:05.752140Z"
    }
   },
   "outputs": [
    {
     "data": {
      "text/html": [
       "<div>\n",
       "<style scoped>\n",
       "    .dataframe tbody tr th:only-of-type {\n",
       "        vertical-align: middle;\n",
       "    }\n",
       "\n",
       "    .dataframe tbody tr th {\n",
       "        vertical-align: top;\n",
       "    }\n",
       "\n",
       "    .dataframe thead th {\n",
       "        text-align: right;\n",
       "    }\n",
       "</style>\n",
       "<table border=\"1\" class=\"dataframe\">\n",
       "  <thead>\n",
       "    <tr style=\"text-align: right;\">\n",
       "      <th></th>\n",
       "      <th>T</th>\n",
       "      <th>dof</th>\n",
       "      <th>alternative</th>\n",
       "      <th>p-val</th>\n",
       "      <th>CI95%</th>\n",
       "      <th>cohen-d</th>\n",
       "      <th>BF10</th>\n",
       "      <th>power</th>\n",
       "    </tr>\n",
       "  </thead>\n",
       "  <tbody>\n",
       "    <tr>\n",
       "      <th>T-test</th>\n",
       "      <td>-11.849</td>\n",
       "      <td>1685</td>\n",
       "      <td>two-sided</td>\n",
       "      <td>0.000</td>\n",
       "      <td>[-68.38, -48.96]</td>\n",
       "      <td>0.623</td>\n",
       "      <td>6.726e+27</td>\n",
       "      <td>1.000</td>\n",
       "    </tr>\n",
       "  </tbody>\n",
       "</table>\n",
       "</div>"
      ],
      "text/plain": [
       "             T   dof alternative  p-val             CI95%  cohen-d       BF10   \n",
       "T-test -11.849  1685   two-sided  0.000  [-68.38, -48.96]    0.623  6.726e+27  \\\n",
       "\n",
       "        power  \n",
       "T-test  1.000  "
      ]
     },
     "execution_count": 25,
     "metadata": {},
     "output_type": "execute_result"
    }
   ],
   "source": [
    "# (정규성 가정 만족) 등분산 가정된 독립표본 t-검정을 실행합니다.\n",
    "pg.ttest(x = sp1, y = sp2, correction = False)"
   ]
  },
  {
   "cell_type": "markdown",
   "id": "cb9ba4a3",
   "metadata": {},
   "source": [
    "### t-검정 : gpa"
   ]
  },
  {
   "cell_type": "code",
   "execution_count": 26,
   "id": "8e1eedbe",
   "metadata": {
    "ExecuteTime": {
     "end_time": "2022-06-11T04:55:05.772349Z",
     "start_time": "2022-06-11T04:55:05.762901Z"
    }
   },
   "outputs": [
    {
     "data": {
      "text/html": [
       "<div>\n",
       "<style scoped>\n",
       "    .dataframe tbody tr th:only-of-type {\n",
       "        vertical-align: middle;\n",
       "    }\n",
       "\n",
       "    .dataframe tbody tr th {\n",
       "        vertical-align: top;\n",
       "    }\n",
       "\n",
       "    .dataframe thead th {\n",
       "        text-align: right;\n",
       "    }\n",
       "</style>\n",
       "<table border=\"1\" class=\"dataframe\">\n",
       "  <thead>\n",
       "    <tr style=\"text-align: right;\">\n",
       "      <th></th>\n",
       "      <th>W</th>\n",
       "      <th>pval</th>\n",
       "      <th>equal_var</th>\n",
       "    </tr>\n",
       "  </thead>\n",
       "  <tbody>\n",
       "    <tr>\n",
       "      <th>levene</th>\n",
       "      <td>0.678</td>\n",
       "      <td>0.410</td>\n",
       "      <td>True</td>\n",
       "    </tr>\n",
       "  </tbody>\n",
       "</table>\n",
       "</div>"
      ],
      "text/plain": [
       "           W  pval  equal_var\n",
       "levene 0.678 0.410       True"
      ]
     },
     "execution_count": 26,
     "metadata": {},
     "output_type": "execute_result"
    }
   ],
   "source": [
    "# (정규성 가정 만족) 등분산 검정을 실행합니다.\n",
    "pg.homoscedasticity(data = df, dv = 'gpa', group = 'admit')"
   ]
  },
  {
   "cell_type": "code",
   "execution_count": 27,
   "id": "b84be5e7",
   "metadata": {
    "ExecuteTime": {
     "end_time": "2022-06-11T04:55:05.778289Z",
     "start_time": "2022-06-11T04:55:05.774442Z"
    }
   },
   "outputs": [],
   "source": [
    "# admit 범주별 gpa로 시리즈를 생성합니다.\n",
    "sp1 = df['gpa'][df['admit'].eq('Fail')]\n",
    "sp2 = df['gpa'][df['admit'].eq('Pass')]"
   ]
  },
  {
   "cell_type": "code",
   "execution_count": 28,
   "id": "c3f5dfea",
   "metadata": {},
   "outputs": [
    {
     "data": {
      "text/plain": [
       "admit\n",
       "Fail   3.288\n",
       "Pass   3.475\n",
       "Name: gpa, dtype: float64"
      ]
     },
     "execution_count": 28,
     "metadata": {},
     "output_type": "execute_result"
    }
   ],
   "source": [
    "df.groupby(by = ['admit'])['gpa'].mean()"
   ]
  },
  {
   "cell_type": "code",
   "execution_count": 29,
   "id": "7ae06bb1",
   "metadata": {
    "ExecuteTime": {
     "end_time": "2022-06-11T04:55:05.788886Z",
     "start_time": "2022-06-11T04:55:05.779958Z"
    }
   },
   "outputs": [
    {
     "data": {
      "text/html": [
       "<div>\n",
       "<style scoped>\n",
       "    .dataframe tbody tr th:only-of-type {\n",
       "        vertical-align: middle;\n",
       "    }\n",
       "\n",
       "    .dataframe tbody tr th {\n",
       "        vertical-align: top;\n",
       "    }\n",
       "\n",
       "    .dataframe thead th {\n",
       "        text-align: right;\n",
       "    }\n",
       "</style>\n",
       "<table border=\"1\" class=\"dataframe\">\n",
       "  <thead>\n",
       "    <tr style=\"text-align: right;\">\n",
       "      <th></th>\n",
       "      <th>T</th>\n",
       "      <th>dof</th>\n",
       "      <th>alternative</th>\n",
       "      <th>p-val</th>\n",
       "      <th>CI95%</th>\n",
       "      <th>cohen-d</th>\n",
       "      <th>BF10</th>\n",
       "      <th>power</th>\n",
       "    </tr>\n",
       "  </thead>\n",
       "  <tbody>\n",
       "    <tr>\n",
       "      <th>T-test</th>\n",
       "      <td>-11.505</td>\n",
       "      <td>1685</td>\n",
       "      <td>two-sided</td>\n",
       "      <td>0.000</td>\n",
       "      <td>[-0.22, -0.16]</td>\n",
       "      <td>0.605</td>\n",
       "      <td>1.664e+26</td>\n",
       "      <td>1.000</td>\n",
       "    </tr>\n",
       "  </tbody>\n",
       "</table>\n",
       "</div>"
      ],
      "text/plain": [
       "             T   dof alternative  p-val           CI95%  cohen-d       BF10   \n",
       "T-test -11.505  1685   two-sided  0.000  [-0.22, -0.16]    0.605  1.664e+26  \\\n",
       "\n",
       "        power  \n",
       "T-test  1.000  "
      ]
     },
     "execution_count": 29,
     "metadata": {},
     "output_type": "execute_result"
    }
   ],
   "source": [
    "# (정규성 가정 만족) 등분산 가정된 독립표본 t-검정을 실행합니다.\n",
    "pg.ttest(x = sp1, y = sp2, correction = False)"
   ]
  },
  {
   "cell_type": "markdown",
   "id": "386a1ff4",
   "metadata": {},
   "source": [
    "### 교차분석: rank"
   ]
  },
  {
   "cell_type": "code",
   "execution_count": 30,
   "id": "697025d7",
   "metadata": {
    "ExecuteTime": {
     "end_time": "2022-06-11T04:55:05.818625Z",
     "start_time": "2022-06-11T04:55:05.791244Z"
    }
   },
   "outputs": [
    {
     "data": {
      "text/html": [
       "<div>\n",
       "<style scoped>\n",
       "    .dataframe tbody tr th:only-of-type {\n",
       "        vertical-align: middle;\n",
       "    }\n",
       "\n",
       "    .dataframe tbody tr th {\n",
       "        vertical-align: top;\n",
       "    }\n",
       "\n",
       "    .dataframe thead th {\n",
       "        text-align: right;\n",
       "    }\n",
       "</style>\n",
       "<table border=\"1\" class=\"dataframe\">\n",
       "  <thead>\n",
       "    <tr style=\"text-align: right;\">\n",
       "      <th>admit</th>\n",
       "      <th>Fail</th>\n",
       "      <th>Pass</th>\n",
       "    </tr>\n",
       "    <tr>\n",
       "      <th>rank</th>\n",
       "      <th></th>\n",
       "      <th></th>\n",
       "    </tr>\n",
       "  </thead>\n",
       "  <tbody>\n",
       "    <tr>\n",
       "      <th>1</th>\n",
       "      <td>0.451</td>\n",
       "      <td>0.549</td>\n",
       "    </tr>\n",
       "    <tr>\n",
       "      <th>2</th>\n",
       "      <td>0.644</td>\n",
       "      <td>0.356</td>\n",
       "    </tr>\n",
       "    <tr>\n",
       "      <th>3</th>\n",
       "      <td>0.780</td>\n",
       "      <td>0.220</td>\n",
       "    </tr>\n",
       "    <tr>\n",
       "      <th>4</th>\n",
       "      <td>0.827</td>\n",
       "      <td>0.173</td>\n",
       "    </tr>\n",
       "    <tr>\n",
       "      <th>All</th>\n",
       "      <td>0.689</td>\n",
       "      <td>0.311</td>\n",
       "    </tr>\n",
       "  </tbody>\n",
       "</table>\n",
       "</div>"
      ],
      "text/plain": [
       "admit  Fail  Pass\n",
       "rank             \n",
       "1     0.451 0.549\n",
       "2     0.644 0.356\n",
       "3     0.780 0.220\n",
       "4     0.827 0.173\n",
       "All   0.689 0.311"
      ]
     },
     "execution_count": 30,
     "metadata": {},
     "output_type": "execute_result"
    }
   ],
   "source": [
    "# 범주형 입력변수 rank와 목표변수의 교차테이블을 출력합니다.\n",
    "pd.crosstab(index = df['rank'], \n",
    "            columns = df['admit'], \n",
    "            normalize = 'index', \n",
    "            margins = True)"
   ]
  },
  {
   "cell_type": "code",
   "execution_count": 31,
   "id": "0e998d5b",
   "metadata": {
    "ExecuteTime": {
     "end_time": "2022-06-11T04:55:05.843067Z",
     "start_time": "2022-06-11T04:55:05.820265Z"
    }
   },
   "outputs": [
    {
     "data": {
      "text/plain": [
       "(admit    Fail    Pass\n",
       " rank                 \n",
       " 1     188.203  84.797\n",
       " 2     391.573 176.427\n",
       " 3     372.270 167.730\n",
       " 4     210.953  95.047,\n",
       " admit  Fail  Pass\n",
       " rank             \n",
       " 1       123   150\n",
       " 2       366   202\n",
       " 3       421   119\n",
       " 4       253    53,\n",
       "                  test  lambda    chi2   dof  pval  cramer  power\n",
       " 0             pearson   1.000 125.621 3.000 0.000   0.273  1.000\n",
       " 1        cressie-read   0.667 124.434 3.000 0.000   0.272  1.000\n",
       " 2      log-likelihood   0.000 123.671 3.000 0.000   0.271  1.000\n",
       " 3       freeman-tukey  -0.500 124.457 3.000 0.000   0.272  1.000\n",
       " 4  mod-log-likelihood  -1.000 126.396 3.000 0.000   0.274  1.000\n",
       " 5              neyman  -2.000 133.872 3.000 0.000   0.282  1.000)"
      ]
     },
     "execution_count": 31,
     "metadata": {},
     "output_type": "execute_result"
    }
   ],
   "source": [
    "# 교차테이블 빈도수로 교차분석(카이제곱 검정)을 실행합니다.\n",
    "pg.chi2_independence(data = df, x = 'rank', y = 'admit')"
   ]
  },
  {
   "cell_type": "markdown",
   "id": "97a19a13",
   "metadata": {},
   "source": [
    "### 더미변수 생성"
   ]
  },
  {
   "cell_type": "code",
   "execution_count": 35,
   "id": "ea213bfd",
   "metadata": {
    "collapsed": true
   },
   "outputs": [
    {
     "data": {
      "text/html": [
       "<div>\n",
       "<style scoped>\n",
       "    .dataframe tbody tr th:only-of-type {\n",
       "        vertical-align: middle;\n",
       "    }\n",
       "\n",
       "    .dataframe tbody tr th {\n",
       "        vertical-align: top;\n",
       "    }\n",
       "\n",
       "    .dataframe thead th {\n",
       "        text-align: right;\n",
       "    }\n",
       "</style>\n",
       "<table border=\"1\" class=\"dataframe\">\n",
       "  <thead>\n",
       "    <tr style=\"text-align: right;\">\n",
       "      <th></th>\n",
       "      <th>const</th>\n",
       "      <th>gre</th>\n",
       "      <th>gpa</th>\n",
       "      <th>Pass</th>\n",
       "      <th>rank_2</th>\n",
       "      <th>rank_3</th>\n",
       "      <th>rank_4</th>\n",
       "    </tr>\n",
       "  </thead>\n",
       "  <tbody>\n",
       "    <tr>\n",
       "      <th>0</th>\n",
       "      <td>1</td>\n",
       "      <td>380.000</td>\n",
       "      <td>3.610</td>\n",
       "      <td>0</td>\n",
       "      <td>0</td>\n",
       "      <td>1</td>\n",
       "      <td>0</td>\n",
       "    </tr>\n",
       "    <tr>\n",
       "      <th>1</th>\n",
       "      <td>1</td>\n",
       "      <td>660.000</td>\n",
       "      <td>3.670</td>\n",
       "      <td>1</td>\n",
       "      <td>0</td>\n",
       "      <td>1</td>\n",
       "      <td>0</td>\n",
       "    </tr>\n",
       "    <tr>\n",
       "      <th>2</th>\n",
       "      <td>1</td>\n",
       "      <td>800.000</td>\n",
       "      <td>4.000</td>\n",
       "      <td>1</td>\n",
       "      <td>0</td>\n",
       "      <td>0</td>\n",
       "      <td>0</td>\n",
       "    </tr>\n",
       "    <tr>\n",
       "      <th>3</th>\n",
       "      <td>1</td>\n",
       "      <td>640.000</td>\n",
       "      <td>3.190</td>\n",
       "      <td>1</td>\n",
       "      <td>0</td>\n",
       "      <td>0</td>\n",
       "      <td>1</td>\n",
       "    </tr>\n",
       "    <tr>\n",
       "      <th>4</th>\n",
       "      <td>1</td>\n",
       "      <td>520.000</td>\n",
       "      <td>2.930</td>\n",
       "      <td>0</td>\n",
       "      <td>0</td>\n",
       "      <td>0</td>\n",
       "      <td>1</td>\n",
       "    </tr>\n",
       "    <tr>\n",
       "      <th>...</th>\n",
       "      <td>...</td>\n",
       "      <td>...</td>\n",
       "      <td>...</td>\n",
       "      <td>...</td>\n",
       "      <td>...</td>\n",
       "      <td>...</td>\n",
       "      <td>...</td>\n",
       "    </tr>\n",
       "    <tr>\n",
       "      <th>1682</th>\n",
       "      <td>1</td>\n",
       "      <td>450.000</td>\n",
       "      <td>2.950</td>\n",
       "      <td>0</td>\n",
       "      <td>1</td>\n",
       "      <td>0</td>\n",
       "      <td>0</td>\n",
       "    </tr>\n",
       "    <tr>\n",
       "      <th>1683</th>\n",
       "      <td>1</td>\n",
       "      <td>480.000</td>\n",
       "      <td>3.040</td>\n",
       "      <td>0</td>\n",
       "      <td>0</td>\n",
       "      <td>1</td>\n",
       "      <td>0</td>\n",
       "    </tr>\n",
       "    <tr>\n",
       "      <th>1684</th>\n",
       "      <td>1</td>\n",
       "      <td>670.000</td>\n",
       "      <td>3.670</td>\n",
       "      <td>0</td>\n",
       "      <td>0</td>\n",
       "      <td>1</td>\n",
       "      <td>0</td>\n",
       "    </tr>\n",
       "    <tr>\n",
       "      <th>1685</th>\n",
       "      <td>1</td>\n",
       "      <td>530.000</td>\n",
       "      <td>3.210</td>\n",
       "      <td>0</td>\n",
       "      <td>1</td>\n",
       "      <td>0</td>\n",
       "      <td>0</td>\n",
       "    </tr>\n",
       "    <tr>\n",
       "      <th>1686</th>\n",
       "      <td>1</td>\n",
       "      <td>490.000</td>\n",
       "      <td>3.060</td>\n",
       "      <td>0</td>\n",
       "      <td>0</td>\n",
       "      <td>1</td>\n",
       "      <td>0</td>\n",
       "    </tr>\n",
       "  </tbody>\n",
       "</table>\n",
       "<p>1687 rows × 7 columns</p>\n",
       "</div>"
      ],
      "text/plain": [
       "      const     gre   gpa  Pass  rank_2  rank_3  rank_4\n",
       "0         1 380.000 3.610     0       0       1       0\n",
       "1         1 660.000 3.670     1       0       1       0\n",
       "2         1 800.000 4.000     1       0       0       0\n",
       "3         1 640.000 3.190     1       0       0       1\n",
       "4         1 520.000 2.930     0       0       0       1\n",
       "...     ...     ...   ...   ...     ...     ...     ...\n",
       "1682      1 450.000 2.950     0       1       0       0\n",
       "1683      1 480.000 3.040     0       0       1       0\n",
       "1684      1 670.000 3.670     0       0       1       0\n",
       "1685      1 530.000 3.210     0       1       0       0\n",
       "1686      1 490.000 3.060     0       0       1       0\n",
       "\n",
       "[1687 rows x 7 columns]"
      ]
     },
     "execution_count": 35,
     "metadata": {},
     "output_type": "execute_result"
    }
   ],
   "source": [
    "pd.get_dummies(data = df, prefix = [None, 'rank'], \n",
    "               columns = ['admit', 'rank'], drop_first = True, \n",
    "               dtype = 'int64')"
   ]
  },
  {
   "cell_type": "code",
   "execution_count": 36,
   "id": "2f6e2ea7",
   "metadata": {
    "ExecuteTime": {
     "end_time": "2022-06-11T04:55:05.853380Z",
     "start_time": "2022-06-11T04:55:05.848640Z"
    }
   },
   "outputs": [],
   "source": [
    "# 범주형 입력변수로 더미변수를 생성합니다.\n",
    "df = pd.get_dummies(data = df, prefix = ['rank', None], \n",
    "                    columns = ['rank', 'admit'], \n",
    "                    drop_first = True, dtype = 'int64')"
   ]
  },
  {
   "cell_type": "code",
   "execution_count": 37,
   "id": "above-vulnerability",
   "metadata": {
    "ExecuteTime": {
     "end_time": "2022-06-11T04:55:05.867448Z",
     "start_time": "2022-06-11T04:55:05.860294Z"
    }
   },
   "outputs": [
    {
     "data": {
      "text/html": [
       "<div>\n",
       "<style scoped>\n",
       "    .dataframe tbody tr th:only-of-type {\n",
       "        vertical-align: middle;\n",
       "    }\n",
       "\n",
       "    .dataframe tbody tr th {\n",
       "        vertical-align: top;\n",
       "    }\n",
       "\n",
       "    .dataframe thead th {\n",
       "        text-align: right;\n",
       "    }\n",
       "</style>\n",
       "<table border=\"1\" class=\"dataframe\">\n",
       "  <thead>\n",
       "    <tr style=\"text-align: right;\">\n",
       "      <th></th>\n",
       "      <th>const</th>\n",
       "      <th>gre</th>\n",
       "      <th>gpa</th>\n",
       "      <th>rank_2</th>\n",
       "      <th>rank_3</th>\n",
       "      <th>rank_4</th>\n",
       "      <th>Pass</th>\n",
       "    </tr>\n",
       "  </thead>\n",
       "  <tbody>\n",
       "    <tr>\n",
       "      <th>0</th>\n",
       "      <td>1</td>\n",
       "      <td>380.000</td>\n",
       "      <td>3.610</td>\n",
       "      <td>0</td>\n",
       "      <td>1</td>\n",
       "      <td>0</td>\n",
       "      <td>0</td>\n",
       "    </tr>\n",
       "    <tr>\n",
       "      <th>1</th>\n",
       "      <td>1</td>\n",
       "      <td>660.000</td>\n",
       "      <td>3.670</td>\n",
       "      <td>0</td>\n",
       "      <td>1</td>\n",
       "      <td>0</td>\n",
       "      <td>1</td>\n",
       "    </tr>\n",
       "    <tr>\n",
       "      <th>2</th>\n",
       "      <td>1</td>\n",
       "      <td>800.000</td>\n",
       "      <td>4.000</td>\n",
       "      <td>0</td>\n",
       "      <td>0</td>\n",
       "      <td>0</td>\n",
       "      <td>1</td>\n",
       "    </tr>\n",
       "    <tr>\n",
       "      <th>3</th>\n",
       "      <td>1</td>\n",
       "      <td>640.000</td>\n",
       "      <td>3.190</td>\n",
       "      <td>0</td>\n",
       "      <td>0</td>\n",
       "      <td>1</td>\n",
       "      <td>1</td>\n",
       "    </tr>\n",
       "    <tr>\n",
       "      <th>4</th>\n",
       "      <td>1</td>\n",
       "      <td>520.000</td>\n",
       "      <td>2.930</td>\n",
       "      <td>0</td>\n",
       "      <td>0</td>\n",
       "      <td>1</td>\n",
       "      <td>0</td>\n",
       "    </tr>\n",
       "    <tr>\n",
       "      <th>5</th>\n",
       "      <td>1</td>\n",
       "      <td>760.000</td>\n",
       "      <td>3.000</td>\n",
       "      <td>1</td>\n",
       "      <td>0</td>\n",
       "      <td>0</td>\n",
       "      <td>1</td>\n",
       "    </tr>\n",
       "    <tr>\n",
       "      <th>6</th>\n",
       "      <td>1</td>\n",
       "      <td>560.000</td>\n",
       "      <td>2.980</td>\n",
       "      <td>0</td>\n",
       "      <td>0</td>\n",
       "      <td>0</td>\n",
       "      <td>1</td>\n",
       "    </tr>\n",
       "    <tr>\n",
       "      <th>7</th>\n",
       "      <td>1</td>\n",
       "      <td>400.000</td>\n",
       "      <td>3.080</td>\n",
       "      <td>1</td>\n",
       "      <td>0</td>\n",
       "      <td>0</td>\n",
       "      <td>0</td>\n",
       "    </tr>\n",
       "    <tr>\n",
       "      <th>8</th>\n",
       "      <td>1</td>\n",
       "      <td>540.000</td>\n",
       "      <td>3.390</td>\n",
       "      <td>0</td>\n",
       "      <td>1</td>\n",
       "      <td>0</td>\n",
       "      <td>1</td>\n",
       "    </tr>\n",
       "    <tr>\n",
       "      <th>9</th>\n",
       "      <td>1</td>\n",
       "      <td>700.000</td>\n",
       "      <td>3.920</td>\n",
       "      <td>1</td>\n",
       "      <td>0</td>\n",
       "      <td>0</td>\n",
       "      <td>0</td>\n",
       "    </tr>\n",
       "  </tbody>\n",
       "</table>\n",
       "</div>"
      ],
      "text/plain": [
       "   const     gre   gpa  rank_2  rank_3  rank_4  Pass\n",
       "0      1 380.000 3.610       0       1       0     0\n",
       "1      1 660.000 3.670       0       1       0     1\n",
       "2      1 800.000 4.000       0       0       0     1\n",
       "3      1 640.000 3.190       0       0       1     1\n",
       "4      1 520.000 2.930       0       0       1     0\n",
       "5      1 760.000 3.000       1       0       0     1\n",
       "6      1 560.000 2.980       0       0       0     1\n",
       "7      1 400.000 3.080       1       0       0     0\n",
       "8      1 540.000 3.390       0       1       0     1\n",
       "9      1 700.000 3.920       1       0       0     0"
      ]
     },
     "execution_count": 37,
     "metadata": {},
     "output_type": "execute_result"
    }
   ],
   "source": [
    "# df의 처음 10행을 출력합니다.\n",
    "df.head(n = 10)"
   ]
  },
  {
   "cell_type": "code",
   "execution_count": 38,
   "id": "a315394a",
   "metadata": {
    "ExecuteTime": {
     "end_time": "2022-06-11T04:55:05.883907Z",
     "start_time": "2022-06-11T04:55:05.881229Z"
    }
   },
   "outputs": [],
   "source": [
    "# 목표변수명을 'admit'으로 변경합니다.\n",
    "df = df.rename(columns = {'Pass': 'admit'})"
   ]
  },
  {
   "cell_type": "markdown",
   "id": "swiss-chuck",
   "metadata": {},
   "source": [
    "### 실습 데이터셋 분할"
   ]
  },
  {
   "cell_type": "code",
   "execution_count": 39,
   "id": "latter-administrator",
   "metadata": {
    "ExecuteTime": {
     "end_time": "2022-06-11T04:55:05.895778Z",
     "start_time": "2022-06-11T04:55:05.893675Z"
    }
   },
   "outputs": [],
   "source": [
    "# 관련 라이브러리를 호출합니다.\n",
    "from sklearn.model_selection import train_test_split"
   ]
  },
  {
   "cell_type": "code",
   "execution_count": 40,
   "id": "conscious-brunswick",
   "metadata": {
    "ExecuteTime": {
     "end_time": "2022-06-11T04:55:05.909437Z",
     "start_time": "2022-06-11T04:55:05.905762Z"
    }
   },
   "outputs": [],
   "source": [
    "# 전체 데이터의 70%를 훈련셋, 30%를 시험셋으로 분할합니다.\n",
    "trSet, teSet = train_test_split(df, test_size = 0.3, random_state = 0)"
   ]
  },
  {
   "cell_type": "code",
   "execution_count": 41,
   "id": "amber-shopping",
   "metadata": {
    "ExecuteTime": {
     "end_time": "2022-06-11T04:55:05.915379Z",
     "start_time": "2022-06-11T04:55:05.911087Z"
    }
   },
   "outputs": [
    {
     "data": {
      "text/plain": [
       "admit\n",
       "0   0.692\n",
       "1   0.308\n",
       "Name: proportion, dtype: float64"
      ]
     },
     "execution_count": 41,
     "metadata": {},
     "output_type": "execute_result"
    }
   ],
   "source": [
    "# 훈련셋의 목표변수 범주별 상대도수를 확인합니다.\n",
    "trSet['admit'].value_counts(normalize = True)"
   ]
  },
  {
   "cell_type": "code",
   "execution_count": 42,
   "id": "fiscal-buffer",
   "metadata": {
    "ExecuteTime": {
     "end_time": "2022-06-11T04:55:05.921225Z",
     "start_time": "2022-06-11T04:55:05.917033Z"
    }
   },
   "outputs": [
    {
     "data": {
      "text/plain": [
       "admit\n",
       "0   0.684\n",
       "1   0.316\n",
       "Name: proportion, dtype: float64"
      ]
     },
     "execution_count": 42,
     "metadata": {},
     "output_type": "execute_result"
    }
   ],
   "source": [
    "# 시험셋의 목표변수 범주별 상대도수를 확인합니다.\n",
    "teSet['admit'].value_counts(normalize = True)"
   ]
  },
  {
   "cell_type": "markdown",
   "id": "4d024575-0668-41a6-a597-02daa32bc2a0",
   "metadata": {
    "tags": []
   },
   "source": [
    "### 입력변수와 목표변수 분리"
   ]
  },
  {
   "cell_type": "code",
   "execution_count": 43,
   "id": "0cd10edf-8d18-4f1f-bbf5-223c6deb3e87",
   "metadata": {},
   "outputs": [],
   "source": [
    "# 목표변수명을 변수에 할당합니다.\n",
    "yvar = 'admit'"
   ]
  },
  {
   "cell_type": "code",
   "execution_count": 44,
   "id": "d5466346-7ff2-431c-9cbf-7d2a6ac4944d",
   "metadata": {},
   "outputs": [],
   "source": [
    "# 훈련셋을 목표변수 벡터와 입력변수 행렬로 분리합니다.\n",
    "trReal = trSet[yvar].copy()\n",
    "trSetX = trSet.drop(columns = [yvar])"
   ]
  },
  {
   "cell_type": "code",
   "execution_count": 45,
   "id": "1c692b1a",
   "metadata": {
    "ExecuteTime": {
     "end_time": "2022-06-11T04:55:05.946804Z",
     "start_time": "2022-06-11T04:55:05.940413Z"
    }
   },
   "outputs": [],
   "source": [
    "# 시험셋을 목표변수 벡터와 입력변수 행렬로 분리합니다.\n",
    "teReal = teSet[yvar].copy()\n",
    "teSetX = teSet.drop(columns = [yvar])"
   ]
  },
  {
   "cell_type": "markdown",
   "id": "03d162be",
   "metadata": {},
   "source": [
    "### 로지스틱 회귀모형 적합 및 결과 확인"
   ]
  },
  {
   "cell_type": "code",
   "execution_count": 46,
   "id": "fa4411bb",
   "metadata": {
    "ExecuteTime": {
     "end_time": "2022-06-11T04:55:05.953968Z",
     "start_time": "2022-06-11T04:55:05.948453Z"
    }
   },
   "outputs": [],
   "source": [
    "# 훈련셋으로 로지스틱 회귀모형을 적합합니다.\n",
    "fit1 = hds.stat.glm(y = trReal, X = trSetX)"
   ]
  },
  {
   "cell_type": "code",
   "execution_count": 47,
   "id": "6e8c6b30",
   "metadata": {
    "ExecuteTime": {
     "end_time": "2022-06-11T04:55:05.965519Z",
     "start_time": "2022-06-11T04:55:05.955564Z"
    }
   },
   "outputs": [
    {
     "data": {
      "text/html": [
       "<table class=\"simpletable\">\n",
       "<caption>Generalized Linear Model Regression Results</caption>\n",
       "<tr>\n",
       "  <th>Dep. Variable:</th>         <td>admit</td>      <th>  No. Observations:  </th>  <td>  1180</td> \n",
       "</tr>\n",
       "<tr>\n",
       "  <th>Model:</th>                  <td>GLM</td>       <th>  Df Residuals:      </th>  <td>  1174</td> \n",
       "</tr>\n",
       "<tr>\n",
       "  <th>Model Family:</th>        <td>Binomial</td>     <th>  Df Model:          </th>  <td>     5</td> \n",
       "</tr>\n",
       "<tr>\n",
       "  <th>Link Function:</th>         <td>Logit</td>      <th>  Scale:             </th> <td>  1.0000</td>\n",
       "</tr>\n",
       "<tr>\n",
       "  <th>Method:</th>                <td>IRLS</td>       <th>  Log-Likelihood:    </th> <td> -637.55</td>\n",
       "</tr>\n",
       "<tr>\n",
       "  <th>Date:</th>            <td>Fri, 21 Apr 2023</td> <th>  Deviance:          </th> <td>  1275.1</td>\n",
       "</tr>\n",
       "<tr>\n",
       "  <th>Time:</th>                <td>15:27:32</td>     <th>  Pearson chi2:      </th> <td>1.16e+03</td>\n",
       "</tr>\n",
       "<tr>\n",
       "  <th>No. Iterations:</th>          <td>5</td>        <th>  Pseudo R-squ. (CS):</th>  <td>0.1437</td> \n",
       "</tr>\n",
       "<tr>\n",
       "  <th>Covariance Type:</th>     <td>nonrobust</td>    <th>                     </th>     <td> </td>   \n",
       "</tr>\n",
       "</table>\n",
       "<table class=\"simpletable\">\n",
       "<tr>\n",
       "     <td></td>       <th>coef</th>     <th>std err</th>      <th>z</th>      <th>P>|z|</th>  <th>[0.025</th>    <th>0.975]</th>  \n",
       "</tr>\n",
       "<tr>\n",
       "  <th>const</th>  <td>   -6.2059</td> <td>    0.858</td> <td>   -7.235</td> <td> 0.000</td> <td>   -7.887</td> <td>   -4.525</td>\n",
       "</tr>\n",
       "<tr>\n",
       "  <th>gre</th>    <td>    0.0040</td> <td>    0.001</td> <td>    3.399</td> <td> 0.001</td> <td>    0.002</td> <td>    0.006</td>\n",
       "</tr>\n",
       "<tr>\n",
       "  <th>gpa</th>    <td>    1.1545</td> <td>    0.363</td> <td>    3.183</td> <td> 0.001</td> <td>    0.444</td> <td>    1.865</td>\n",
       "</tr>\n",
       "<tr>\n",
       "  <th>rank_2</th> <td>   -0.6268</td> <td>    0.189</td> <td>   -3.323</td> <td> 0.001</td> <td>   -0.997</td> <td>   -0.257</td>\n",
       "</tr>\n",
       "<tr>\n",
       "  <th>rank_3</th> <td>   -1.3495</td> <td>    0.201</td> <td>   -6.716</td> <td> 0.000</td> <td>   -1.743</td> <td>   -0.956</td>\n",
       "</tr>\n",
       "<tr>\n",
       "  <th>rank_4</th> <td>   -1.6492</td> <td>    0.247</td> <td>   -6.687</td> <td> 0.000</td> <td>   -2.133</td> <td>   -1.166</td>\n",
       "</tr>\n",
       "</table>"
      ],
      "text/plain": [
       "<class 'statsmodels.iolib.summary.Summary'>\n",
       "\"\"\"\n",
       "                 Generalized Linear Model Regression Results                  \n",
       "==============================================================================\n",
       "Dep. Variable:                  admit   No. Observations:                 1180\n",
       "Model:                            GLM   Df Residuals:                     1174\n",
       "Model Family:                Binomial   Df Model:                            5\n",
       "Link Function:                  Logit   Scale:                          1.0000\n",
       "Method:                          IRLS   Log-Likelihood:                -637.55\n",
       "Date:                Fri, 21 Apr 2023   Deviance:                       1275.1\n",
       "Time:                        15:27:32   Pearson chi2:                 1.16e+03\n",
       "No. Iterations:                     5   Pseudo R-squ. (CS):             0.1437\n",
       "Covariance Type:            nonrobust                                         \n",
       "==============================================================================\n",
       "                 coef    std err          z      P>|z|      [0.025      0.975]\n",
       "------------------------------------------------------------------------------\n",
       "const         -6.2059      0.858     -7.235      0.000      -7.887      -4.525\n",
       "gre            0.0040      0.001      3.399      0.001       0.002       0.006\n",
       "gpa            1.1545      0.363      3.183      0.001       0.444       1.865\n",
       "rank_2        -0.6268      0.189     -3.323      0.001      -0.997      -0.257\n",
       "rank_3        -1.3495      0.201     -6.716      0.000      -1.743      -0.956\n",
       "rank_4        -1.6492      0.247     -6.687      0.000      -2.133      -1.166\n",
       "==============================================================================\n",
       "\"\"\""
      ]
     },
     "execution_count": 47,
     "metadata": {},
     "output_type": "execute_result"
    }
   ],
   "source": [
    "# fit1 모형의 적합 결과를 확인합니다.\n",
    "fit1.summary()"
   ]
  },
  {
   "cell_type": "markdown",
   "id": "9d9dfcb3",
   "metadata": {},
   "source": [
    "### 로지스틱 회귀모형의 유의성 검정"
   ]
  },
  {
   "cell_type": "code",
   "execution_count": 48,
   "id": "d357b2d6",
   "metadata": {
    "ExecuteTime": {
     "end_time": "2022-06-11T04:55:05.970556Z",
     "start_time": "2022-06-11T04:55:05.967128Z"
    }
   },
   "outputs": [
    {
     "data": {
      "text/plain": [
       "183.080"
      ]
     },
     "execution_count": 48,
     "metadata": {},
     "output_type": "execute_result"
    }
   ],
   "source": [
    "# 두 모형의 이탈도 차이를 출력합니다.(검정통계량)\n",
    "devGap = fit1.null_deviance - fit1.deviance\n",
    "devGap"
   ]
  },
  {
   "cell_type": "code",
   "execution_count": 49,
   "id": "d003bc73",
   "metadata": {
    "ExecuteTime": {
     "end_time": "2022-06-11T04:55:05.975366Z",
     "start_time": "2022-06-11T04:55:05.972126Z"
    }
   },
   "outputs": [
    {
     "data": {
      "text/plain": [
       "5"
      ]
     },
     "execution_count": 49,
     "metadata": {},
     "output_type": "execute_result"
    }
   ],
   "source": [
    "# 두 모형의 자유도 차이를 출력합니다.(카이제곱 분포의 자유도)\n",
    "dofGap = fit1.df_model\n",
    "dofGap"
   ]
  },
  {
   "cell_type": "code",
   "execution_count": 50,
   "id": "8624cff4",
   "metadata": {
    "ExecuteTime": {
     "end_time": "2022-06-11T04:55:05.980334Z",
     "start_time": "2022-06-11T04:55:05.976976Z"
    }
   },
   "outputs": [
    {
     "data": {
      "text/plain": [
       "0.000"
      ]
     },
     "execution_count": 50,
     "metadata": {},
     "output_type": "execute_result"
    }
   ],
   "source": [
    "# 검정통계량과 자유도로 유의확률을 출력합니다.\n",
    "1 - stats.chi2.cdf(x = devGap, df = dofGap)"
   ]
  },
  {
   "cell_type": "markdown",
   "id": "5910432d",
   "metadata": {},
   "source": [
    "### 다중공선성 확인"
   ]
  },
  {
   "cell_type": "code",
   "execution_count": 51,
   "id": "5954cf60",
   "metadata": {
    "ExecuteTime": {
     "end_time": "2022-06-11T04:55:05.991466Z",
     "start_time": "2022-06-11T04:55:05.981944Z"
    }
   },
   "outputs": [
    {
     "data": {
      "text/html": [
       "<div>\n",
       "<style scoped>\n",
       "    .dataframe tbody tr th:only-of-type {\n",
       "        vertical-align: middle;\n",
       "    }\n",
       "\n",
       "    .dataframe tbody tr th {\n",
       "        vertical-align: top;\n",
       "    }\n",
       "\n",
       "    .dataframe thead th {\n",
       "        text-align: right;\n",
       "    }\n",
       "</style>\n",
       "<table border=\"1\" class=\"dataframe\">\n",
       "  <thead>\n",
       "    <tr style=\"text-align: right;\">\n",
       "      <th></th>\n",
       "      <th>gre</th>\n",
       "      <th>gpa</th>\n",
       "      <th>rank_2</th>\n",
       "      <th>rank_3</th>\n",
       "      <th>rank_4</th>\n",
       "    </tr>\n",
       "  </thead>\n",
       "  <tbody>\n",
       "    <tr>\n",
       "      <th>0</th>\n",
       "      <td>2.832</td>\n",
       "      <td>2.816</td>\n",
       "      <td>2.052</td>\n",
       "      <td>2.042</td>\n",
       "      <td>1.734</td>\n",
       "    </tr>\n",
       "  </tbody>\n",
       "</table>\n",
       "</div>"
      ],
      "text/plain": [
       "    gre   gpa  rank_2  rank_3  rank_4\n",
       "0 2.832 2.816   2.052   2.042   1.734"
      ]
     },
     "execution_count": 51,
     "metadata": {},
     "output_type": "execute_result"
    }
   ],
   "source": [
    "# 분산팽창지수를 출력하고 다중공선성 입력변수를 확인합니다.\n",
    "hds.stat.vif(X = trSetX)"
   ]
  },
  {
   "cell_type": "markdown",
   "id": "abdcbec6",
   "metadata": {},
   "source": [
    "### 오즈비 확인"
   ]
  },
  {
   "cell_type": "code",
   "execution_count": 53,
   "id": "c5342b4a",
   "metadata": {},
   "outputs": [
    {
     "data": {
      "text/plain": [
       "const    -6.206\n",
       "gre       0.004\n",
       "gpa       1.154\n",
       "rank_2   -0.627\n",
       "rank_3   -1.349\n",
       "rank_4   -1.649\n",
       "dtype: float64"
      ]
     },
     "execution_count": 53,
     "metadata": {},
     "output_type": "execute_result"
    }
   ],
   "source": [
    "fit1.params"
   ]
  },
  {
   "cell_type": "code",
   "execution_count": 52,
   "id": "b199d2c9",
   "metadata": {
    "ExecuteTime": {
     "end_time": "2022-06-11T04:55:05.997644Z",
     "start_time": "2022-06-11T04:55:05.993225Z"
    }
   },
   "outputs": [
    {
     "data": {
      "text/plain": [
       "const    0.002\n",
       "gre      1.004\n",
       "gpa      3.172\n",
       "rank_2   0.534\n",
       "rank_3   0.259\n",
       "rank_4   0.192\n",
       "dtype: float64"
      ]
     },
     "execution_count": 52,
     "metadata": {},
     "output_type": "execute_result"
    }
   ],
   "source": [
    "# 입력변수별 회귀계수의 오즈비를 출력합니다.\n",
    "np.exp(fit1.params)"
   ]
  },
  {
   "cell_type": "markdown",
   "id": "918b5c0a",
   "metadata": {
    "tags": []
   },
   "source": [
    "### 표준화 회귀계수 확인"
   ]
  },
  {
   "cell_type": "code",
   "execution_count": 54,
   "id": "c9f97f96",
   "metadata": {
    "ExecuteTime": {
     "end_time": "2022-06-11T04:55:06.003692Z",
     "start_time": "2022-06-11T04:55:05.999214Z"
    }
   },
   "outputs": [
    {
     "data": {
      "text/plain": [
       "const    -6.206\n",
       "gre       0.004\n",
       "gpa       1.154\n",
       "rank_2   -0.627\n",
       "rank_3   -1.349\n",
       "rank_4   -1.649\n",
       "dtype: float64"
      ]
     },
     "execution_count": 54,
     "metadata": {},
     "output_type": "execute_result"
    }
   ],
   "source": [
    "# fit1 모형의 회귀계수를 출력합니다.\n",
    "fit1.params"
   ]
  },
  {
   "cell_type": "code",
   "execution_count": 55,
   "id": "2e1fbcda",
   "metadata": {
    "ExecuteTime": {
     "end_time": "2022-06-11T04:55:06.011102Z",
     "start_time": "2022-06-11T04:55:06.005399Z"
    }
   },
   "outputs": [
    {
     "data": {
      "text/plain": [
       "const    -0.000\n",
       "gre       0.397\n",
       "gpa       0.367\n",
       "rank_2   -0.297\n",
       "rank_3   -0.631\n",
       "rank_4   -0.628\n",
       "dtype: float64"
      ]
     },
     "execution_count": 55,
     "metadata": {},
     "output_type": "execute_result"
    }
   ],
   "source": [
    "# 표준화 회귀계수를 생성합니다.\n",
    "beta_z = hds.stat.std_coefs(model = fit1)\n",
    "beta_z"
   ]
  },
  {
   "cell_type": "code",
   "execution_count": 56,
   "id": "b188f3ed",
   "metadata": {
    "ExecuteTime": {
     "end_time": "2022-06-11T04:55:06.016733Z",
     "start_time": "2022-06-11T04:55:06.012836Z"
    }
   },
   "outputs": [
    {
     "data": {
      "text/plain": [
       "const    0.000\n",
       "rank_2   0.297\n",
       "gpa      0.367\n",
       "gre      0.397\n",
       "rank_4   0.628\n",
       "rank_3   0.631\n",
       "dtype: float64"
      ]
     },
     "execution_count": 56,
     "metadata": {},
     "output_type": "execute_result"
    }
   ],
   "source": [
    "# 표준화 회귀계수의 절대값을 오름차순 정렬한 결과를 출력합니다.\n",
    "beta_z.abs().sort_values()"
   ]
  },
  {
   "cell_type": "markdown",
   "id": "582f73eb",
   "metadata": {},
   "source": [
    "### 목표변수의 추정확률 생성"
   ]
  },
  {
   "cell_type": "code",
   "execution_count": 57,
   "id": "57cce4c0",
   "metadata": {
    "ExecuteTime": {
     "end_time": "2022-06-11T04:55:06.026225Z",
     "start_time": "2022-06-11T04:55:06.018541Z"
    }
   },
   "outputs": [
    {
     "data": {
      "text/html": [
       "<div>\n",
       "<style scoped>\n",
       "    .dataframe tbody tr th:only-of-type {\n",
       "        vertical-align: middle;\n",
       "    }\n",
       "\n",
       "    .dataframe tbody tr th {\n",
       "        vertical-align: top;\n",
       "    }\n",
       "\n",
       "    .dataframe thead th {\n",
       "        text-align: right;\n",
       "    }\n",
       "</style>\n",
       "<table border=\"1\" class=\"dataframe\">\n",
       "  <thead>\n",
       "    <tr style=\"text-align: right;\">\n",
       "      <th></th>\n",
       "      <th>Real</th>\n",
       "      <th>Prob</th>\n",
       "    </tr>\n",
       "  </thead>\n",
       "  <tbody>\n",
       "    <tr>\n",
       "      <th>1679</th>\n",
       "      <td>0</td>\n",
       "      <td>0.481</td>\n",
       "    </tr>\n",
       "    <tr>\n",
       "      <th>519</th>\n",
       "      <td>0</td>\n",
       "      <td>0.177</td>\n",
       "    </tr>\n",
       "    <tr>\n",
       "      <th>522</th>\n",
       "      <td>0</td>\n",
       "      <td>0.142</td>\n",
       "    </tr>\n",
       "    <tr>\n",
       "      <th>140</th>\n",
       "      <td>0</td>\n",
       "      <td>0.571</td>\n",
       "    </tr>\n",
       "    <tr>\n",
       "      <th>878</th>\n",
       "      <td>0</td>\n",
       "      <td>0.348</td>\n",
       "    </tr>\n",
       "    <tr>\n",
       "      <th>...</th>\n",
       "      <td>...</td>\n",
       "      <td>...</td>\n",
       "    </tr>\n",
       "    <tr>\n",
       "      <th>835</th>\n",
       "      <td>0</td>\n",
       "      <td>0.329</td>\n",
       "    </tr>\n",
       "    <tr>\n",
       "      <th>1216</th>\n",
       "      <td>1</td>\n",
       "      <td>0.320</td>\n",
       "    </tr>\n",
       "    <tr>\n",
       "      <th>1653</th>\n",
       "      <td>1</td>\n",
       "      <td>0.604</td>\n",
       "    </tr>\n",
       "    <tr>\n",
       "      <th>559</th>\n",
       "      <td>0</td>\n",
       "      <td>0.349</td>\n",
       "    </tr>\n",
       "    <tr>\n",
       "      <th>684</th>\n",
       "      <td>0</td>\n",
       "      <td>0.190</td>\n",
       "    </tr>\n",
       "  </tbody>\n",
       "</table>\n",
       "<p>1180 rows × 2 columns</p>\n",
       "</div>"
      ],
      "text/plain": [
       "      Real  Prob\n",
       "1679     0 0.481\n",
       "519      0 0.177\n",
       "522      0 0.142\n",
       "140      0 0.571\n",
       "878      0 0.348\n",
       "...    ...   ...\n",
       "835      0 0.329\n",
       "1216     1 0.320\n",
       "1653     1 0.604\n",
       "559      0 0.349\n",
       "684      0 0.190\n",
       "\n",
       "[1180 rows x 2 columns]"
      ]
     },
     "execution_count": 57,
     "metadata": {},
     "output_type": "execute_result"
    }
   ],
   "source": [
    "# 훈련셋으로 fit1 모형의 추정확률을 생성하고 실제값과 비교합니다.\n",
    "trProb = fit1.predict(exog = trSetX)\n",
    "pd.DataFrame(data = {'Real': trReal, 'Prob': trProb})"
   ]
  },
  {
   "cell_type": "code",
   "execution_count": 58,
   "id": "a80c548b",
   "metadata": {
    "ExecuteTime": {
     "end_time": "2022-06-11T04:55:06.038306Z",
     "start_time": "2022-06-11T04:55:06.027853Z"
    }
   },
   "outputs": [
    {
     "data": {
      "text/html": [
       "<div>\n",
       "<style scoped>\n",
       "    .dataframe tbody tr th:only-of-type {\n",
       "        vertical-align: middle;\n",
       "    }\n",
       "\n",
       "    .dataframe tbody tr th {\n",
       "        vertical-align: top;\n",
       "    }\n",
       "\n",
       "    .dataframe thead th {\n",
       "        text-align: right;\n",
       "    }\n",
       "</style>\n",
       "<table border=\"1\" class=\"dataframe\">\n",
       "  <thead>\n",
       "    <tr style=\"text-align: right;\">\n",
       "      <th></th>\n",
       "      <th>Real</th>\n",
       "      <th>Prob</th>\n",
       "    </tr>\n",
       "  </thead>\n",
       "  <tbody>\n",
       "    <tr>\n",
       "      <th>34</th>\n",
       "      <td>0</td>\n",
       "      <td>0.244</td>\n",
       "    </tr>\n",
       "    <tr>\n",
       "      <th>740</th>\n",
       "      <td>1</td>\n",
       "      <td>0.374</td>\n",
       "    </tr>\n",
       "    <tr>\n",
       "      <th>638</th>\n",
       "      <td>0</td>\n",
       "      <td>0.269</td>\n",
       "    </tr>\n",
       "    <tr>\n",
       "      <th>901</th>\n",
       "      <td>0</td>\n",
       "      <td>0.286</td>\n",
       "    </tr>\n",
       "    <tr>\n",
       "      <th>1188</th>\n",
       "      <td>1</td>\n",
       "      <td>0.444</td>\n",
       "    </tr>\n",
       "    <tr>\n",
       "      <th>...</th>\n",
       "      <td>...</td>\n",
       "      <td>...</td>\n",
       "    </tr>\n",
       "    <tr>\n",
       "      <th>1017</th>\n",
       "      <td>0</td>\n",
       "      <td>0.490</td>\n",
       "    </tr>\n",
       "    <tr>\n",
       "      <th>568</th>\n",
       "      <td>0</td>\n",
       "      <td>0.349</td>\n",
       "    </tr>\n",
       "    <tr>\n",
       "      <th>362</th>\n",
       "      <td>0</td>\n",
       "      <td>0.386</td>\n",
       "    </tr>\n",
       "    <tr>\n",
       "      <th>904</th>\n",
       "      <td>0</td>\n",
       "      <td>0.289</td>\n",
       "    </tr>\n",
       "    <tr>\n",
       "      <th>420</th>\n",
       "      <td>0</td>\n",
       "      <td>0.357</td>\n",
       "    </tr>\n",
       "  </tbody>\n",
       "</table>\n",
       "<p>507 rows × 2 columns</p>\n",
       "</div>"
      ],
      "text/plain": [
       "      Real  Prob\n",
       "34       0 0.244\n",
       "740      1 0.374\n",
       "638      0 0.269\n",
       "901      0 0.286\n",
       "1188     1 0.444\n",
       "...    ...   ...\n",
       "1017     0 0.490\n",
       "568      0 0.349\n",
       "362      0 0.386\n",
       "904      0 0.289\n",
       "420      0 0.357\n",
       "\n",
       "[507 rows x 2 columns]"
      ]
     },
     "execution_count": 58,
     "metadata": {},
     "output_type": "execute_result"
    }
   ],
   "source": [
    "# 시험셋으로 fit1 모형의 추정확률을 생성하고 실제값과 비교합니다.\n",
    "teProb = fit1.predict(exog = teSetX)\n",
    "pd.DataFrame(data = {'Real': teReal, 'Prob': teProb})"
   ]
  },
  {
   "cell_type": "markdown",
   "id": "fitting-termination",
   "metadata": {},
   "source": [
    "### 분류모형 성능 평가 : ROC 곡선"
   ]
  },
  {
   "cell_type": "code",
   "execution_count": 59,
   "id": "hairy-cincinnati",
   "metadata": {
    "ExecuteTime": {
     "end_time": "2022-06-11T04:55:06.160890Z",
     "start_time": "2022-06-11T04:55:06.039933Z"
    }
   },
   "outputs": [
    {
     "data": {
      "image/png": "[encoded data removed]",
      "text/plain": [
       "<Figure size 400x400 with 1 Axes>"
      ]
     },
     "metadata": {},
     "output_type": "display_data"
    }
   ],
   "source": [
    "# 훈련셋과 시험셋의 추정확률로 ROC 곡선을 그립니다.\n",
    "hds.stat.roc_curve(y_true = trReal, y_prob = trProb, color = 'red')\n",
    "hds.stat.roc_curve(y_true = teReal, y_prob = teProb, color = 'blue')"
   ]
  },
  {
   "cell_type": "markdown",
   "id": "7ed34cd6",
   "metadata": {},
   "source": [
    "### 목표변수의 추정값 생성"
   ]
  },
  {
   "cell_type": "code",
   "execution_count": 60,
   "id": "c1e64445",
   "metadata": {
    "ExecuteTime": {
     "end_time": "2022-06-11T04:55:06.164904Z",
     "start_time": "2022-06-11T04:55:06.162633Z"
    }
   },
   "outputs": [],
   "source": [
    "# 분리 기준점을 0.5로 설정합니다.\n",
    "cutoff = 0.5"
   ]
  },
  {
   "cell_type": "code",
   "execution_count": 61,
   "id": "c6aea886",
   "metadata": {
    "ExecuteTime": {
     "end_time": "2022-06-11T04:55:06.169152Z",
     "start_time": "2022-06-11T04:55:06.166585Z"
    }
   },
   "outputs": [],
   "source": [
    "# 훈련셋의 목표변수 추정값(라벨)을 생성합니다.\n",
    "trPred1 = np.where(trProb >= cutoff, 1, 0)"
   ]
  },
  {
   "cell_type": "code",
   "execution_count": 62,
   "id": "e2d63a8d",
   "metadata": {
    "ExecuteTime": {
     "end_time": "2022-06-11T04:55:06.173917Z",
     "start_time": "2022-06-11T04:55:06.171425Z"
    }
   },
   "outputs": [],
   "source": [
    "# 시험셋의 목표변수 추정값(라벨)을 생성합니다.\n",
    "tePred1 = np.where(teProb >= cutoff, 1, 0)"
   ]
  },
  {
   "cell_type": "markdown",
   "id": "2ead22d7",
   "metadata": {},
   "source": [
    "### 분류모형 성능 평가 : 혼동행렬 리포트"
   ]
  },
  {
   "cell_type": "code",
   "execution_count": 63,
   "id": "9a830c56",
   "metadata": {
    "ExecuteTime": {
     "end_time": "2022-06-11T04:55:06.183008Z",
     "start_time": "2022-06-11T04:55:06.175933Z"
    }
   },
   "outputs": [
    {
     "name": "stdout",
     "output_type": "stream",
     "text": [
      "▶ Confusion Matrix\n",
      "[[739  77]\n",
      " [246 118]]\n",
      "\n",
      "▶ Classification Report\n",
      "              precision    recall  f1-score   support\n",
      "\n",
      "           0     0.7503    0.9056    0.8207       816\n",
      "           1     0.6051    0.3242    0.4222       364\n",
      "\n",
      "    accuracy                         0.7263      1180\n",
      "   macro avg     0.6777    0.6149    0.6214      1180\n",
      "weighted avg     0.7055    0.7263    0.6977      1180\n",
      "\n"
     ]
    }
   ],
   "source": [
    "# 훈련셋 추정값으로 혼동행렬 리포트를 출력합니다.\n",
    "hds.stat.clfmetrics(y_true = trReal, y_pred = trPred1)"
   ]
  },
  {
   "cell_type": "code",
   "execution_count": 64,
   "id": "722b899b",
   "metadata": {
    "ExecuteTime": {
     "end_time": "2022-06-11T04:55:06.192623Z",
     "start_time": "2022-06-11T04:55:06.184689Z"
    }
   },
   "outputs": [
    {
     "name": "stdout",
     "output_type": "stream",
     "text": [
      "▶ Confusion Matrix\n",
      "[[316  31]\n",
      " [108  52]]\n",
      "\n",
      "▶ Classification Report\n",
      "              precision    recall  f1-score   support\n",
      "\n",
      "           0     0.7453    0.9107    0.8197       347\n",
      "           1     0.6265    0.3250    0.4280       160\n",
      "\n",
      "    accuracy                         0.7258       507\n",
      "   macro avg     0.6859    0.6178    0.6238       507\n",
      "weighted avg     0.7078    0.7258    0.6961       507\n",
      "\n"
     ]
    }
   ],
   "source": [
    "# 시험셋 추정값으로 혼동행렬 리포트를 출력합니다.\n",
    "hds.stat.clfmetrics(y_true = teReal, y_pred = tePred1)"
   ]
  },
  {
   "cell_type": "markdown",
   "id": "gross-motion",
   "metadata": {},
   "source": [
    "### [참고] 혼동행렬 관련 함수"
   ]
  },
  {
   "cell_type": "code",
   "execution_count": 65,
   "id": "european-assistant",
   "metadata": {
    "ExecuteTime": {
     "end_time": "2022-06-11T04:55:06.196806Z",
     "start_time": "2022-06-11T04:55:06.194417Z"
    }
   },
   "outputs": [],
   "source": [
    "# 관련 라이브러리를 호출합니다.\n",
    "from sklearn import metrics"
   ]
  },
  {
   "cell_type": "code",
   "execution_count": 66,
   "id": "6898a97c",
   "metadata": {
    "ExecuteTime": {
     "end_time": "2022-06-11T04:55:06.202479Z",
     "start_time": "2022-06-11T04:55:06.198898Z"
    }
   },
   "outputs": [
    {
     "name": "stdout",
     "output_type": "stream",
     "text": [
      "[[316  31]\n",
      " [108  52]]\n"
     ]
    }
   ],
   "source": [
    "# 시험셋 추정값으로 혼동행렬을 출력합니다.\n",
    "print(metrics.confusion_matrix(y_true = teReal, y_pred = tePred1))"
   ]
  },
  {
   "cell_type": "code",
   "execution_count": 67,
   "id": "organizational-arrangement",
   "metadata": {
    "ExecuteTime": {
     "end_time": "2022-06-11T04:55:06.210491Z",
     "start_time": "2022-06-11T04:55:06.204150Z"
    }
   },
   "outputs": [
    {
     "name": "stdout",
     "output_type": "stream",
     "text": [
      "              precision    recall  f1-score   support\n",
      "\n",
      "           0       0.75      0.91      0.82       347\n",
      "           1       0.63      0.33      0.43       160\n",
      "\n",
      "    accuracy                           0.73       507\n",
      "   macro avg       0.69      0.62      0.62       507\n",
      "weighted avg       0.71      0.73      0.70       507\n",
      "\n"
     ]
    }
   ],
   "source": [
    "# 시험셋 추정값으로 분류모형 리포트를 출력합니다.\n",
    "print(metrics.classification_report(y_true = teReal, y_pred = tePred1))"
   ]
  },
  {
   "cell_type": "code",
   "execution_count": 68,
   "id": "parallel-mercy",
   "metadata": {
    "ExecuteTime": {
     "end_time": "2022-06-11T04:55:06.216754Z",
     "start_time": "2022-06-11T04:55:06.212059Z"
    }
   },
   "outputs": [
    {
     "data": {
      "text/plain": [
       "0.428"
      ]
     },
     "execution_count": 68,
     "metadata": {},
     "output_type": "execute_result"
    }
   ],
   "source": [
    "# 시험셋 추정값으로 F1 점수를 출력합니다.\n",
    "metrics.f1_score(y_true = teReal, y_pred = tePred1, pos_label = 1)"
   ]
  },
  {
   "cell_type": "markdown",
   "id": "e0019005",
   "metadata": {},
   "source": [
    "### [참고] 목표변수의 범주별 추정확률 분포"
   ]
  },
  {
   "cell_type": "code",
   "execution_count": 69,
   "id": "804dfbd6",
   "metadata": {
    "ExecuteTime": {
     "end_time": "2022-06-11T04:55:06.314970Z",
     "start_time": "2022-06-11T04:55:06.218317Z"
    }
   },
   "outputs": [
    {
     "data": {
      "image/png": "[encoded data removed]",
      "text/plain": [
       "<Figure size 400x400 with 1 Axes>"
      ]
     },
     "metadata": {},
     "output_type": "display_data"
    }
   ],
   "source": [
    "# 목표변수 범주별 추정확률 분포를 비교합니다.\n",
    "sns.boxplot(x = trReal, y = trProb)\n",
    "plt.title(label = '범주별 추정확률')\n",
    "plt.xlabel(xlabel = '실제값')\n",
    "plt.ylabel(ylabel = '추정확률')\n",
    "plt.axhline(y = 0.5, color = 'red', lw = 1.5, ls = '--');"
   ]
  },
  {
   "cell_type": "markdown",
   "id": "d8ead17c",
   "metadata": {},
   "source": [
    "### [참고] 최적의 분리 기준점 탐색"
   ]
  },
  {
   "cell_type": "code",
   "execution_count": 70,
   "id": "bbfeee05",
   "metadata": {
    "ExecuteTime": {
     "end_time": "2022-06-11T04:55:06.892208Z",
     "start_time": "2022-06-11T04:55:06.691966Z"
    }
   },
   "outputs": [
    {
     "data": {
      "image/png": "[encoded data removed]",
      "text/plain": [
       "<Figure size 400x400 with 1 Axes>"
      ]
     },
     "metadata": {},
     "output_type": "display_data"
    }
   ],
   "source": [
    "# 분리 기준점마다 민감도와 특이도를 계산하고 두 값의 합계가 최댓값일 때의 \n",
    "# 분리 기준점을 ROC 곡선 위에 빨간 점으로 표시합니다.\n",
    "hds.stat.EpiROC(y_true = trReal, y_prob = trProb)"
   ]
  },
  {
   "cell_type": "markdown",
   "id": "ca981333",
   "metadata": {},
   "source": [
    "### [참고] 최적의 분리 기준점으로 성능지표 확인"
   ]
  },
  {
   "cell_type": "code",
   "execution_count": 71,
   "id": "42e5d9a4",
   "metadata": {
    "ExecuteTime": {
     "end_time": "2022-06-11T04:55:06.896099Z",
     "start_time": "2022-06-11T04:55:06.893966Z"
    }
   },
   "outputs": [],
   "source": [
    "# 최적의 분리 기준점을 설정합니다.\n",
    "cutoff = 0.35"
   ]
  },
  {
   "cell_type": "code",
   "execution_count": 72,
   "id": "b3b2b850",
   "metadata": {
    "ExecuteTime": {
     "end_time": "2022-06-11T04:55:06.900428Z",
     "start_time": "2022-06-11T04:55:06.897825Z"
    }
   },
   "outputs": [],
   "source": [
    "# 분리 기준점 변경 후 시험셋의 목표변수 추정값(라벨)을 생성합니다.\n",
    "tePred2 = np.where(teProb >= cutoff, 1, 0)"
   ]
  },
  {
   "cell_type": "code",
   "execution_count": 73,
   "id": "590879c1",
   "metadata": {
    "ExecuteTime": {
     "end_time": "2022-06-11T04:55:06.909816Z",
     "start_time": "2022-06-11T04:55:06.902730Z"
    }
   },
   "outputs": [
    {
     "name": "stdout",
     "output_type": "stream",
     "text": [
      "▶ Confusion Matrix\n",
      "[[264  83]\n",
      " [ 66  94]]\n",
      "\n",
      "▶ Classification Report\n",
      "              precision    recall  f1-score   support\n",
      "\n",
      "           0     0.8000    0.7608    0.7799       347\n",
      "           1     0.5311    0.5875    0.5579       160\n",
      "\n",
      "    accuracy                         0.7061       507\n",
      "   macro avg     0.6655    0.6742    0.6689       507\n",
      "weighted avg     0.7151    0.7061    0.7098       507\n",
      "\n"
     ]
    }
   ],
   "source": [
    "# 분리 기준점 변경 후 시험셋 추정값으로 혼동행렬 리포트를 출력합니다.\n",
    "hds.stat.clfmetrics(y_true = teReal, y_pred = tePred2)"
   ]
  },
  {
   "cell_type": "code",
   "execution_count": 74,
   "id": "8b23d834",
   "metadata": {
    "ExecuteTime": {
     "end_time": "2022-06-11T04:55:06.919560Z",
     "start_time": "2022-06-11T04:55:06.911760Z"
    }
   },
   "outputs": [
    {
     "name": "stdout",
     "output_type": "stream",
     "text": [
      "▶ Confusion Matrix\n",
      "[[316  31]\n",
      " [108  52]]\n",
      "\n",
      "▶ Classification Report\n",
      "              precision    recall  f1-score   support\n",
      "\n",
      "           0     0.7453    0.9107    0.8197       347\n",
      "           1     0.6265    0.3250    0.4280       160\n",
      "\n",
      "    accuracy                         0.7258       507\n",
      "   macro avg     0.6859    0.6178    0.6238       507\n",
      "weighted avg     0.7078    0.7258    0.6961       507\n",
      "\n"
     ]
    }
   ],
   "source": [
    "# 분리 기준점 변경 전 시험셋 추정값으로 혼동행렬 리포트와 비교합니다.\n",
    "hds.stat.clfmetrics(y_true = teReal, y_pred = tePred1)"
   ]
  },
  {
   "cell_type": "markdown",
   "id": "4c115486",
   "metadata": {},
   "source": [
    "### [참고] 매튜의 상관계수"
   ]
  },
  {
   "cell_type": "code",
   "execution_count": 75,
   "id": "e6c51ffc",
   "metadata": {
    "ExecuteTime": {
     "end_time": "2022-06-11T04:55:06.926843Z",
     "start_time": "2022-06-11T04:55:06.921558Z"
    }
   },
   "outputs": [
    {
     "data": {
      "text/plain": [
       "0.296"
      ]
     },
     "execution_count": 75,
     "metadata": {},
     "output_type": "execute_result"
    }
   ],
   "source": [
    "# 분리 기준점 변경 전 시험셋 추정값으로 매튜의 상관계수를 출력합니다.\n",
    "metrics.matthews_corrcoef(y_true = teReal, y_pred = tePred1)"
   ]
  },
  {
   "cell_type": "code",
   "execution_count": 76,
   "id": "0ad49ee0",
   "metadata": {
    "ExecuteTime": {
     "end_time": "2022-06-11T04:55:06.933441Z",
     "start_time": "2022-06-11T04:55:06.928594Z"
    }
   },
   "outputs": [
    {
     "data": {
      "text/plain": [
       "0.340"
      ]
     },
     "execution_count": 76,
     "metadata": {},
     "output_type": "execute_result"
    }
   ],
   "source": [
    "# 분리 기준점 변경 후 시험셋 추정값으로 매튜의 상관계수와 비교합니다.\n",
    "metrics.matthews_corrcoef(y_true = teReal, y_pred = tePred2)"
   ]
  },
  {
   "cell_type": "code",
   "execution_count": 77,
   "id": "40762f63",
   "metadata": {},
   "outputs": [],
   "source": [
    "cutoffs = np.arange(0.0, 1.01, 0.01)"
   ]
  },
  {
   "cell_type": "code",
   "execution_count": 79,
   "id": "401f3103",
   "metadata": {},
   "outputs": [],
   "source": [
    "mccs = []\n",
    "for cutoff in cutoffs:\n",
    "    tePred = np.where(teProb >= cutoff, 1, 0)\n",
    "    mccs.append(metrics.matthews_corrcoef(y_true = teReal, y_pred = tePred))"
   ]
  },
  {
   "cell_type": "code",
   "execution_count": 80,
   "id": "f39cd17b",
   "metadata": {
    "collapsed": true
   },
   "outputs": [
    {
     "data": {
      "image/png": "[encoded data removed]",
      "text/plain": [
       "<Figure size 400x400 with 1 Axes>"
      ]
     },
     "metadata": {},
     "output_type": "display_data"
    }
   ],
   "source": [
    "sns.lineplot(x = cutoffs, y = mccs);"
   ]
  },
  {
   "cell_type": "code",
   "execution_count": 81,
   "id": "709ca793",
   "metadata": {},
   "outputs": [
    {
     "data": {
      "text/plain": [
       "36"
      ]
     },
     "execution_count": 81,
     "metadata": {},
     "output_type": "execute_result"
    }
   ],
   "source": [
    "np.argmax(mccs)"
   ]
  },
  {
   "cell_type": "code",
   "execution_count": 82,
   "id": "15ef721f",
   "metadata": {},
   "outputs": [
    {
     "data": {
      "text/plain": [
       "0.348"
      ]
     },
     "execution_count": 82,
     "metadata": {},
     "output_type": "execute_result"
    }
   ],
   "source": [
    "mccs[36]"
   ]
  },
  {
   "cell_type": "code",
   "execution_count": 83,
   "id": "534310f7",
   "metadata": {},
   "outputs": [
    {
     "data": {
      "text/plain": [
       "0.360"
      ]
     },
     "execution_count": 83,
     "metadata": {},
     "output_type": "execute_result"
    }
   ],
   "source": [
    "cutoffs[36]"
   ]
  },
  {
   "cell_type": "markdown",
   "id": "33a2aaf1",
   "metadata": {},
   "source": [
    "## End of Document"
   ]
  }
 ],
 "metadata": {
  "kernelspec": {
   "display_name": "Python 3 (ipykernel)",
   "language": "python",
   "name": "python3"
  },
  "language_info": {
   "codemirror_mode": {
    "name": "ipython",
    "version": 3
   },
   "file_extension": ".py",
   "mimetype": "text/x-python",
   "name": "python",
   "nbconvert_exporter": "python",
   "pygments_lexer": "ipython3",
   "version": "3.11.3"
  },
  "toc": {
   "base_numbering": 1,
   "nav_menu": {},
   "number_sections": false,
   "sideBar": true,
   "skip_h1_title": false,
   "title_cell": "Table of Contents",
   "title_sidebar": "Contents",
   "toc_cell": false,
   "toc_position": {},
   "toc_section_display": true,
   "toc_window_display": false
  },
  "varInspector": {
   "cols": {
    "lenName": 16,
    "lenType": 16,
    "lenVar": 40
   },
   "kernels_config": {
    "python": {
     "delete_cmd_postfix": "",
     "delete_cmd_prefix": "del ",
     "library": "var_list.py",
     "varRefreshCmd": "print(var_dic_list())"
    },
    "r": {
     "delete_cmd_postfix": ") ",
     "delete_cmd_prefix": "rm(",
     "library": "var_list.r",
     "varRefreshCmd": "cat(var_dic_list()) "
    }
   },
   "types_to_exclude": [
    "module",
    "function",
    "builtin_function_or_method",
    "instance",
    "_Feature"
   ],
   "window_display": false
  }
 },
 "nbformat": 4,
 "nbformat_minor": 5
}
