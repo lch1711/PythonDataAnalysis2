{
 "cells": [
  {
   "cell_type": "raw",
   "id": "50411189",
   "metadata": {},
   "source": [
    "!pip install pingouin"
   ]
  },
  {
   "cell_type": "code",
   "execution_count": 1,
   "id": "bc006c03",
   "metadata": {},
   "outputs": [],
   "source": [
    "import os\n",
    "import joblib\n",
    "import numpy as np\n",
    "import pandas as pd\n",
    "from scipy import stats\n",
    "import pingouin as pg"
   ]
  },
  {
   "cell_type": "code",
   "execution_count": 2,
   "id": "d9c62a04",
   "metadata": {},
   "outputs": [
    {
     "data": {
      "text/plain": [
       "'C:\\\\Users\\\\hdsce\\\\Documents\\\\PythonDataAnalysis2\\\\live'"
      ]
     },
     "execution_count": 2,
     "metadata": {},
     "output_type": "execute_result"
    }
   ],
   "source": [
    "os.getcwd()"
   ]
  },
  {
   "cell_type": "code",
   "execution_count": 3,
   "id": "9ffa977c",
   "metadata": {},
   "outputs": [],
   "source": [
    "os.chdir('../data')"
   ]
  },
  {
   "cell_type": "code",
   "execution_count": 4,
   "id": "f8586e08",
   "metadata": {},
   "outputs": [
    {
     "data": {
      "text/plain": [
       "['Used_Cars_Price.csv', 'Used_Cars_Price.xlsx', 'Used_Cars_Price.z']"
      ]
     },
     "execution_count": 4,
     "metadata": {},
     "output_type": "execute_result"
    }
   ],
   "source": [
    "os.listdir()"
   ]
  },
  {
   "cell_type": "code",
   "execution_count": 5,
   "id": "2f39fd0b",
   "metadata": {},
   "outputs": [],
   "source": [
    "df = joblib.load('Used_Cars_Price.z')"
   ]
  },
  {
   "cell_type": "code",
   "execution_count": 6,
   "id": "76ebc185",
   "metadata": {},
   "outputs": [
    {
     "name": "stdout",
     "output_type": "stream",
     "text": [
      "<class 'pandas.core.frame.DataFrame'>\n",
      "RangeIndex: 1268 entries, 0 to 1267\n",
      "Data columns (total 10 columns):\n",
      " #   Column     Non-Null Count  Dtype \n",
      "---  ------     --------------  ----- \n",
      " 0   Price      1268 non-null   int64 \n",
      " 1   Age        1268 non-null   int64 \n",
      " 2   KM         1268 non-null   int64 \n",
      " 3   FuelType   1268 non-null   object\n",
      " 4   HP         1268 non-null   int64 \n",
      " 5   MetColor   1268 non-null   object\n",
      " 6   Automatic  1268 non-null   object\n",
      " 7   CC         1268 non-null   int64 \n",
      " 8   Doors      1268 non-null   int64 \n",
      " 9   Weight     1268 non-null   int64 \n",
      "dtypes: int64(7), object(3)\n",
      "memory usage: 99.2+ KB\n"
     ]
    }
   ],
   "source": [
    "df.info()"
   ]
  },
  {
   "cell_type": "code",
   "execution_count": 7,
   "id": "98cf346b",
   "metadata": {},
   "outputs": [
    {
     "data": {
      "text/plain": [
       "-22157.692905818418"
      ]
     },
     "execution_count": 7,
     "metadata": {},
     "output_type": "execute_result"
    }
   ],
   "source": [
    "df['Age'].cov(df['Price'])"
   ]
  },
  {
   "cell_type": "code",
   "execution_count": 10,
   "id": "05dbfe7f",
   "metadata": {},
   "outputs": [],
   "source": [
    "pd.set_option('display.float_format', lambda x: f'{x:.4f}')"
   ]
  },
  {
   "cell_type": "code",
   "execution_count": 11,
   "id": "e14c6be4",
   "metadata": {},
   "outputs": [
    {
     "data": {
      "text/html": [
       "<div>\n",
       "<style scoped>\n",
       "    .dataframe tbody tr th:only-of-type {\n",
       "        vertical-align: middle;\n",
       "    }\n",
       "\n",
       "    .dataframe tbody tr th {\n",
       "        vertical-align: top;\n",
       "    }\n",
       "\n",
       "    .dataframe thead th {\n",
       "        text-align: right;\n",
       "    }\n",
       "</style>\n",
       "<table border=\"1\" class=\"dataframe\">\n",
       "  <thead>\n",
       "    <tr style=\"text-align: right;\">\n",
       "      <th></th>\n",
       "      <th>Price</th>\n",
       "      <th>Age</th>\n",
       "      <th>KM</th>\n",
       "      <th>HP</th>\n",
       "      <th>CC</th>\n",
       "      <th>Doors</th>\n",
       "      <th>Weight</th>\n",
       "    </tr>\n",
       "  </thead>\n",
       "  <tbody>\n",
       "    <tr>\n",
       "      <th>Price</th>\n",
       "      <td>4117236.3700</td>\n",
       "      <td>-22157.6929</td>\n",
       "      <td>-37441074.7735</td>\n",
       "      <td>5899.6856</td>\n",
       "      <td>18808.7476</td>\n",
       "      <td>317.0113</td>\n",
       "      <td>15155.2218</td>\n",
       "    </tr>\n",
       "    <tr>\n",
       "      <th>Age</th>\n",
       "      <td>-22157.6929</td>\n",
       "      <td>187.9416</td>\n",
       "      <td>171187.1245</td>\n",
       "      <td>-7.9903</td>\n",
       "      <td>-213.6068</td>\n",
       "      <td>-1.1809</td>\n",
       "      <td>-98.2257</td>\n",
       "    </tr>\n",
       "    <tr>\n",
       "      <th>KM</th>\n",
       "      <td>-37441074.7735</td>\n",
       "      <td>171187.1245</td>\n",
       "      <td>1285819949.2532</td>\n",
       "      <td>-155996.1200</td>\n",
       "      <td>2557934.8056</td>\n",
       "      <td>595.8727</td>\n",
       "      <td>359258.4576</td>\n",
       "    </tr>\n",
       "    <tr>\n",
       "      <th>HP</th>\n",
       "      <td>5899.6856</td>\n",
       "      <td>-7.9903</td>\n",
       "      <td>-155996.1200</td>\n",
       "      <td>171.6076</td>\n",
       "      <td>-46.6858</td>\n",
       "      <td>1.4965</td>\n",
       "      <td>-39.0906</td>\n",
       "    </tr>\n",
       "    <tr>\n",
       "      <th>CC</th>\n",
       "      <td>18808.7476</td>\n",
       "      <td>-213.6068</td>\n",
       "      <td>2557934.8056</td>\n",
       "      <td>-46.6858</td>\n",
       "      <td>33729.9986</td>\n",
       "      <td>23.8543</td>\n",
       "      <td>5001.2930</td>\n",
       "    </tr>\n",
       "    <tr>\n",
       "      <th>Doors</th>\n",
       "      <td>317.0113</td>\n",
       "      <td>-1.1809</td>\n",
       "      <td>595.8727</td>\n",
       "      <td>1.4965</td>\n",
       "      <td>23.8543</td>\n",
       "      <td>0.8998</td>\n",
       "      <td>13.2114</td>\n",
       "    </tr>\n",
       "    <tr>\n",
       "      <th>Weight</th>\n",
       "      <td>15155.2218</td>\n",
       "      <td>-98.2257</td>\n",
       "      <td>359258.4576</td>\n",
       "      <td>-39.0906</td>\n",
       "      <td>5001.2930</td>\n",
       "      <td>13.2114</td>\n",
       "      <td>1145.0785</td>\n",
       "    </tr>\n",
       "  </tbody>\n",
       "</table>\n",
       "</div>"
      ],
      "text/plain": [
       "                Price         Age              KM           HP           CC   \n",
       "Price    4117236.3700 -22157.6929  -37441074.7735    5899.6856   18808.7476  \\\n",
       "Age       -22157.6929    187.9416     171187.1245      -7.9903    -213.6068   \n",
       "KM     -37441074.7735 171187.1245 1285819949.2532 -155996.1200 2557934.8056   \n",
       "HP          5899.6856     -7.9903    -155996.1200     171.6076     -46.6858   \n",
       "CC         18808.7476   -213.6068    2557934.8056     -46.6858   33729.9986   \n",
       "Doors        317.0113     -1.1809        595.8727       1.4965      23.8543   \n",
       "Weight     15155.2218    -98.2257     359258.4576     -39.0906    5001.2930   \n",
       "\n",
       "          Doors      Weight  \n",
       "Price  317.0113  15155.2218  \n",
       "Age     -1.1809    -98.2257  \n",
       "KM     595.8727 359258.4576  \n",
       "HP       1.4965    -39.0906  \n",
       "CC      23.8543   5001.2930  \n",
       "Doors    0.8998     13.2114  \n",
       "Weight  13.2114   1145.0785  "
      ]
     },
     "execution_count": 11,
     "metadata": {},
     "output_type": "execute_result"
    }
   ],
   "source": [
    "df.cov(numeric_only = True)"
   ]
  },
  {
   "cell_type": "code",
   "execution_count": 12,
   "id": "9a41791a",
   "metadata": {},
   "outputs": [
    {
     "data": {
      "text/plain": [
       "-0.7965447290519272"
      ]
     },
     "execution_count": 12,
     "metadata": {},
     "output_type": "execute_result"
    }
   ],
   "source": [
    "df['Age'].corr(df['Price'])"
   ]
  },
  {
   "cell_type": "code",
   "execution_count": 13,
   "id": "ea341348",
   "metadata": {},
   "outputs": [
    {
     "data": {
      "text/html": [
       "<div>\n",
       "<style scoped>\n",
       "    .dataframe tbody tr th:only-of-type {\n",
       "        vertical-align: middle;\n",
       "    }\n",
       "\n",
       "    .dataframe tbody tr th {\n",
       "        vertical-align: top;\n",
       "    }\n",
       "\n",
       "    .dataframe thead th {\n",
       "        text-align: right;\n",
       "    }\n",
       "</style>\n",
       "<table border=\"1\" class=\"dataframe\">\n",
       "  <thead>\n",
       "    <tr style=\"text-align: right;\">\n",
       "      <th></th>\n",
       "      <th>Price</th>\n",
       "      <th>Age</th>\n",
       "      <th>KM</th>\n",
       "      <th>HP</th>\n",
       "      <th>CC</th>\n",
       "      <th>Doors</th>\n",
       "      <th>Weight</th>\n",
       "    </tr>\n",
       "  </thead>\n",
       "  <tbody>\n",
       "    <tr>\n",
       "      <th>Price</th>\n",
       "      <td>1.0000</td>\n",
       "      <td>-0.7965</td>\n",
       "      <td>-0.5146</td>\n",
       "      <td>0.2220</td>\n",
       "      <td>0.0505</td>\n",
       "      <td>0.1647</td>\n",
       "      <td>0.2207</td>\n",
       "    </tr>\n",
       "    <tr>\n",
       "      <th>Age</th>\n",
       "      <td>-0.7965</td>\n",
       "      <td>1.0000</td>\n",
       "      <td>0.3482</td>\n",
       "      <td>-0.0445</td>\n",
       "      <td>-0.0848</td>\n",
       "      <td>-0.0908</td>\n",
       "      <td>-0.2117</td>\n",
       "    </tr>\n",
       "    <tr>\n",
       "      <th>KM</th>\n",
       "      <td>-0.5146</td>\n",
       "      <td>0.3482</td>\n",
       "      <td>1.0000</td>\n",
       "      <td>-0.3321</td>\n",
       "      <td>0.3884</td>\n",
       "      <td>0.0175</td>\n",
       "      <td>0.2961</td>\n",
       "    </tr>\n",
       "    <tr>\n",
       "      <th>HP</th>\n",
       "      <td>0.2220</td>\n",
       "      <td>-0.0445</td>\n",
       "      <td>-0.3321</td>\n",
       "      <td>1.0000</td>\n",
       "      <td>-0.0194</td>\n",
       "      <td>0.1204</td>\n",
       "      <td>-0.0882</td>\n",
       "    </tr>\n",
       "    <tr>\n",
       "      <th>CC</th>\n",
       "      <td>0.0505</td>\n",
       "      <td>-0.0848</td>\n",
       "      <td>0.3884</td>\n",
       "      <td>-0.0194</td>\n",
       "      <td>1.0000</td>\n",
       "      <td>0.1369</td>\n",
       "      <td>0.8047</td>\n",
       "    </tr>\n",
       "    <tr>\n",
       "      <th>Doors</th>\n",
       "      <td>0.1647</td>\n",
       "      <td>-0.0908</td>\n",
       "      <td>0.0175</td>\n",
       "      <td>0.1204</td>\n",
       "      <td>0.1369</td>\n",
       "      <td>1.0000</td>\n",
       "      <td>0.4116</td>\n",
       "    </tr>\n",
       "    <tr>\n",
       "      <th>Weight</th>\n",
       "      <td>0.2207</td>\n",
       "      <td>-0.2117</td>\n",
       "      <td>0.2961</td>\n",
       "      <td>-0.0882</td>\n",
       "      <td>0.8047</td>\n",
       "      <td>0.4116</td>\n",
       "      <td>1.0000</td>\n",
       "    </tr>\n",
       "  </tbody>\n",
       "</table>\n",
       "</div>"
      ],
      "text/plain": [
       "         Price     Age      KM      HP      CC   Doors  Weight\n",
       "Price   1.0000 -0.7965 -0.5146  0.2220  0.0505  0.1647  0.2207\n",
       "Age    -0.7965  1.0000  0.3482 -0.0445 -0.0848 -0.0908 -0.2117\n",
       "KM     -0.5146  0.3482  1.0000 -0.3321  0.3884  0.0175  0.2961\n",
       "HP      0.2220 -0.0445 -0.3321  1.0000 -0.0194  0.1204 -0.0882\n",
       "CC      0.0505 -0.0848  0.3884 -0.0194  1.0000  0.1369  0.8047\n",
       "Doors   0.1647 -0.0908  0.0175  0.1204  0.1369  1.0000  0.4116\n",
       "Weight  0.2207 -0.2117  0.2961 -0.0882  0.8047  0.4116  1.0000"
      ]
     },
     "execution_count": 13,
     "metadata": {},
     "output_type": "execute_result"
    }
   ],
   "source": [
    "df.corr(numeric_only = True)"
   ]
  },
  {
   "cell_type": "code",
   "execution_count": 14,
   "id": "471c5afa",
   "metadata": {},
   "outputs": [
    {
     "data": {
      "text/html": [
       "<div>\n",
       "<style scoped>\n",
       "    .dataframe tbody tr th:only-of-type {\n",
       "        vertical-align: middle;\n",
       "    }\n",
       "\n",
       "    .dataframe tbody tr th {\n",
       "        vertical-align: top;\n",
       "    }\n",
       "\n",
       "    .dataframe thead th {\n",
       "        text-align: right;\n",
       "    }\n",
       "</style>\n",
       "<table border=\"1\" class=\"dataframe\">\n",
       "  <thead>\n",
       "    <tr style=\"text-align: right;\">\n",
       "      <th></th>\n",
       "      <th>n</th>\n",
       "      <th>r</th>\n",
       "      <th>CI95%</th>\n",
       "      <th>p-val</th>\n",
       "      <th>BF10</th>\n",
       "      <th>power</th>\n",
       "    </tr>\n",
       "  </thead>\n",
       "  <tbody>\n",
       "    <tr>\n",
       "      <th>pearson</th>\n",
       "      <td>1268</td>\n",
       "      <td>-0.7965</td>\n",
       "      <td>[-0.82, -0.78]</td>\n",
       "      <td>0.0000</td>\n",
       "      <td>6.169e+274</td>\n",
       "      <td>1.0000</td>\n",
       "    </tr>\n",
       "  </tbody>\n",
       "</table>\n",
       "</div>"
      ],
      "text/plain": [
       "            n       r           CI95%  p-val        BF10  power\n",
       "pearson  1268 -0.7965  [-0.82, -0.78] 0.0000  6.169e+274 1.0000"
      ]
     },
     "execution_count": 14,
     "metadata": {},
     "output_type": "execute_result"
    }
   ],
   "source": [
    "pg.corr(x = df['Age'], y = df['Price'])"
   ]
  },
  {
   "cell_type": "code",
   "execution_count": 15,
   "id": "471c8100",
   "metadata": {},
   "outputs": [
    {
     "data": {
      "text/plain": [
       "pearson   0.0000\n",
       "Name: p-val, dtype: float64"
      ]
     },
     "execution_count": 15,
     "metadata": {},
     "output_type": "execute_result"
    }
   ],
   "source": [
    "pg.corr(x = df['Age'], y = df['Price'])['p-val']"
   ]
  },
  {
   "cell_type": "code",
   "execution_count": 16,
   "id": "ee1e633a",
   "metadata": {},
   "outputs": [],
   "source": [
    "corr = lambda x: pg.corr(x = x, y = df['Price'])['p-val']"
   ]
  },
  {
   "cell_type": "code",
   "execution_count": 17,
   "id": "7048f5ce",
   "metadata": {},
   "outputs": [
    {
     "data": {
      "text/plain": [
       "pearson   0.0000\n",
       "Name: p-val, dtype: float64"
      ]
     },
     "execution_count": 17,
     "metadata": {},
     "output_type": "execute_result"
    }
   ],
   "source": [
    "corr(x = df['Age'])"
   ]
  },
  {
   "cell_type": "code",
   "execution_count": 18,
   "id": "d5e4b71a",
   "metadata": {
    "collapsed": true
   },
   "outputs": [
    {
     "data": {
      "text/plain": [
       "Price         int64\n",
       "Age           int64\n",
       "KM            int64\n",
       "FuelType     object\n",
       "HP            int64\n",
       "MetColor     object\n",
       "Automatic    object\n",
       "CC            int64\n",
       "Doors         int64\n",
       "Weight        int64\n",
       "dtype: object"
      ]
     },
     "execution_count": 18,
     "metadata": {},
     "output_type": "execute_result"
    }
   ],
   "source": [
    "df.dtypes"
   ]
  },
  {
   "cell_type": "code",
   "execution_count": 21,
   "id": "6e226a2d",
   "metadata": {},
   "outputs": [],
   "source": [
    "locs = (df.dtypes == 'int64') | (df.dtypes == 'float64')"
   ]
  },
  {
   "cell_type": "code",
   "execution_count": 22,
   "id": "1ae74b0d",
   "metadata": {
    "collapsed": true
   },
   "outputs": [
    {
     "data": {
      "text/html": [
       "<div>\n",
       "<style scoped>\n",
       "    .dataframe tbody tr th:only-of-type {\n",
       "        vertical-align: middle;\n",
       "    }\n",
       "\n",
       "    .dataframe tbody tr th {\n",
       "        vertical-align: top;\n",
       "    }\n",
       "\n",
       "    .dataframe thead th {\n",
       "        text-align: right;\n",
       "    }\n",
       "</style>\n",
       "<table border=\"1\" class=\"dataframe\">\n",
       "  <thead>\n",
       "    <tr style=\"text-align: right;\">\n",
       "      <th></th>\n",
       "      <th>Price</th>\n",
       "      <th>Age</th>\n",
       "      <th>KM</th>\n",
       "      <th>HP</th>\n",
       "      <th>CC</th>\n",
       "      <th>Doors</th>\n",
       "      <th>Weight</th>\n",
       "    </tr>\n",
       "  </thead>\n",
       "  <tbody>\n",
       "    <tr>\n",
       "      <th>0</th>\n",
       "      <td>13500</td>\n",
       "      <td>23</td>\n",
       "      <td>46986</td>\n",
       "      <td>90</td>\n",
       "      <td>2000</td>\n",
       "      <td>3</td>\n",
       "      <td>1165</td>\n",
       "    </tr>\n",
       "    <tr>\n",
       "      <th>1</th>\n",
       "      <td>13750</td>\n",
       "      <td>23</td>\n",
       "      <td>72937</td>\n",
       "      <td>90</td>\n",
       "      <td>2000</td>\n",
       "      <td>3</td>\n",
       "      <td>1165</td>\n",
       "    </tr>\n",
       "    <tr>\n",
       "      <th>2</th>\n",
       "      <td>13950</td>\n",
       "      <td>24</td>\n",
       "      <td>41711</td>\n",
       "      <td>90</td>\n",
       "      <td>2000</td>\n",
       "      <td>3</td>\n",
       "      <td>1165</td>\n",
       "    </tr>\n",
       "    <tr>\n",
       "      <th>3</th>\n",
       "      <td>14950</td>\n",
       "      <td>26</td>\n",
       "      <td>48000</td>\n",
       "      <td>90</td>\n",
       "      <td>2000</td>\n",
       "      <td>3</td>\n",
       "      <td>1165</td>\n",
       "    </tr>\n",
       "    <tr>\n",
       "      <th>4</th>\n",
       "      <td>13750</td>\n",
       "      <td>30</td>\n",
       "      <td>38500</td>\n",
       "      <td>90</td>\n",
       "      <td>2000</td>\n",
       "      <td>3</td>\n",
       "      <td>1170</td>\n",
       "    </tr>\n",
       "    <tr>\n",
       "      <th>...</th>\n",
       "      <td>...</td>\n",
       "      <td>...</td>\n",
       "      <td>...</td>\n",
       "      <td>...</td>\n",
       "      <td>...</td>\n",
       "      <td>...</td>\n",
       "      <td>...</td>\n",
       "    </tr>\n",
       "    <tr>\n",
       "      <th>1263</th>\n",
       "      <td>15950</td>\n",
       "      <td>25</td>\n",
       "      <td>25000</td>\n",
       "      <td>97</td>\n",
       "      <td>1400</td>\n",
       "      <td>3</td>\n",
       "      <td>1100</td>\n",
       "    </tr>\n",
       "    <tr>\n",
       "      <th>1264</th>\n",
       "      <td>15500</td>\n",
       "      <td>25</td>\n",
       "      <td>49163</td>\n",
       "      <td>110</td>\n",
       "      <td>1600</td>\n",
       "      <td>5</td>\n",
       "      <td>1165</td>\n",
       "    </tr>\n",
       "    <tr>\n",
       "      <th>1265</th>\n",
       "      <td>15950</td>\n",
       "      <td>25</td>\n",
       "      <td>29719</td>\n",
       "      <td>97</td>\n",
       "      <td>1400</td>\n",
       "      <td>5</td>\n",
       "      <td>1110</td>\n",
       "    </tr>\n",
       "    <tr>\n",
       "      <th>1266</th>\n",
       "      <td>15950</td>\n",
       "      <td>19</td>\n",
       "      <td>51884</td>\n",
       "      <td>97</td>\n",
       "      <td>1400</td>\n",
       "      <td>3</td>\n",
       "      <td>1100</td>\n",
       "    </tr>\n",
       "    <tr>\n",
       "      <th>1267</th>\n",
       "      <td>15950</td>\n",
       "      <td>20</td>\n",
       "      <td>36000</td>\n",
       "      <td>110</td>\n",
       "      <td>1600</td>\n",
       "      <td>5</td>\n",
       "      <td>1075</td>\n",
       "    </tr>\n",
       "  </tbody>\n",
       "</table>\n",
       "<p>1268 rows × 7 columns</p>\n",
       "</div>"
      ],
      "text/plain": [
       "      Price  Age     KM   HP    CC  Doors  Weight\n",
       "0     13500   23  46986   90  2000      3    1165\n",
       "1     13750   23  72937   90  2000      3    1165\n",
       "2     13950   24  41711   90  2000      3    1165\n",
       "3     14950   26  48000   90  2000      3    1165\n",
       "4     13750   30  38500   90  2000      3    1170\n",
       "...     ...  ...    ...  ...   ...    ...     ...\n",
       "1263  15950   25  25000   97  1400      3    1100\n",
       "1264  15500   25  49163  110  1600      5    1165\n",
       "1265  15950   25  29719   97  1400      5    1110\n",
       "1266  15950   19  51884   97  1400      3    1100\n",
       "1267  15950   20  36000  110  1600      5    1075\n",
       "\n",
       "[1268 rows x 7 columns]"
      ]
     },
     "execution_count": 22,
     "metadata": {},
     "output_type": "execute_result"
    }
   ],
   "source": [
    "df.loc[:, locs]"
   ]
  },
  {
   "cell_type": "code",
   "execution_count": 32,
   "id": "405c39e8",
   "metadata": {
    "collapsed": true
   },
   "outputs": [
    {
     "data": {
      "text/html": [
       "<div>\n",
       "<style scoped>\n",
       "    .dataframe tbody tr th:only-of-type {\n",
       "        vertical-align: middle;\n",
       "    }\n",
       "\n",
       "    .dataframe tbody tr th {\n",
       "        vertical-align: top;\n",
       "    }\n",
       "\n",
       "    .dataframe thead th {\n",
       "        text-align: right;\n",
       "    }\n",
       "</style>\n",
       "<table border=\"1\" class=\"dataframe\">\n",
       "  <thead>\n",
       "    <tr style=\"text-align: right;\">\n",
       "      <th></th>\n",
       "      <th>Price</th>\n",
       "      <th>Age</th>\n",
       "      <th>KM</th>\n",
       "      <th>HP</th>\n",
       "      <th>CC</th>\n",
       "      <th>Doors</th>\n",
       "      <th>Weight</th>\n",
       "    </tr>\n",
       "  </thead>\n",
       "  <tbody>\n",
       "    <tr>\n",
       "      <th>0</th>\n",
       "      <td>13500</td>\n",
       "      <td>23</td>\n",
       "      <td>46986</td>\n",
       "      <td>90</td>\n",
       "      <td>2000</td>\n",
       "      <td>3</td>\n",
       "      <td>1165</td>\n",
       "    </tr>\n",
       "    <tr>\n",
       "      <th>1</th>\n",
       "      <td>13750</td>\n",
       "      <td>23</td>\n",
       "      <td>72937</td>\n",
       "      <td>90</td>\n",
       "      <td>2000</td>\n",
       "      <td>3</td>\n",
       "      <td>1165</td>\n",
       "    </tr>\n",
       "    <tr>\n",
       "      <th>2</th>\n",
       "      <td>13950</td>\n",
       "      <td>24</td>\n",
       "      <td>41711</td>\n",
       "      <td>90</td>\n",
       "      <td>2000</td>\n",
       "      <td>3</td>\n",
       "      <td>1165</td>\n",
       "    </tr>\n",
       "    <tr>\n",
       "      <th>3</th>\n",
       "      <td>14950</td>\n",
       "      <td>26</td>\n",
       "      <td>48000</td>\n",
       "      <td>90</td>\n",
       "      <td>2000</td>\n",
       "      <td>3</td>\n",
       "      <td>1165</td>\n",
       "    </tr>\n",
       "    <tr>\n",
       "      <th>4</th>\n",
       "      <td>13750</td>\n",
       "      <td>30</td>\n",
       "      <td>38500</td>\n",
       "      <td>90</td>\n",
       "      <td>2000</td>\n",
       "      <td>3</td>\n",
       "      <td>1170</td>\n",
       "    </tr>\n",
       "    <tr>\n",
       "      <th>...</th>\n",
       "      <td>...</td>\n",
       "      <td>...</td>\n",
       "      <td>...</td>\n",
       "      <td>...</td>\n",
       "      <td>...</td>\n",
       "      <td>...</td>\n",
       "      <td>...</td>\n",
       "    </tr>\n",
       "    <tr>\n",
       "      <th>1263</th>\n",
       "      <td>15950</td>\n",
       "      <td>25</td>\n",
       "      <td>25000</td>\n",
       "      <td>97</td>\n",
       "      <td>1400</td>\n",
       "      <td>3</td>\n",
       "      <td>1100</td>\n",
       "    </tr>\n",
       "    <tr>\n",
       "      <th>1264</th>\n",
       "      <td>15500</td>\n",
       "      <td>25</td>\n",
       "      <td>49163</td>\n",
       "      <td>110</td>\n",
       "      <td>1600</td>\n",
       "      <td>5</td>\n",
       "      <td>1165</td>\n",
       "    </tr>\n",
       "    <tr>\n",
       "      <th>1265</th>\n",
       "      <td>15950</td>\n",
       "      <td>25</td>\n",
       "      <td>29719</td>\n",
       "      <td>97</td>\n",
       "      <td>1400</td>\n",
       "      <td>5</td>\n",
       "      <td>1110</td>\n",
       "    </tr>\n",
       "    <tr>\n",
       "      <th>1266</th>\n",
       "      <td>15950</td>\n",
       "      <td>19</td>\n",
       "      <td>51884</td>\n",
       "      <td>97</td>\n",
       "      <td>1400</td>\n",
       "      <td>3</td>\n",
       "      <td>1100</td>\n",
       "    </tr>\n",
       "    <tr>\n",
       "      <th>1267</th>\n",
       "      <td>15950</td>\n",
       "      <td>20</td>\n",
       "      <td>36000</td>\n",
       "      <td>110</td>\n",
       "      <td>1600</td>\n",
       "      <td>5</td>\n",
       "      <td>1075</td>\n",
       "    </tr>\n",
       "  </tbody>\n",
       "</table>\n",
       "<p>1268 rows × 7 columns</p>\n",
       "</div>"
      ],
      "text/plain": [
       "      Price  Age     KM   HP    CC  Doors  Weight\n",
       "0     13500   23  46986   90  2000      3    1165\n",
       "1     13750   23  72937   90  2000      3    1165\n",
       "2     13950   24  41711   90  2000      3    1165\n",
       "3     14950   26  48000   90  2000      3    1165\n",
       "4     13750   30  38500   90  2000      3    1170\n",
       "...     ...  ...    ...  ...   ...    ...     ...\n",
       "1263  15950   25  25000   97  1400      3    1100\n",
       "1264  15500   25  49163  110  1600      5    1165\n",
       "1265  15950   25  29719   97  1400      5    1110\n",
       "1266  15950   19  51884   97  1400      3    1100\n",
       "1267  15950   20  36000  110  1600      5    1075\n",
       "\n",
       "[1268 rows x 7 columns]"
      ]
     },
     "execution_count": 32,
     "metadata": {},
     "output_type": "execute_result"
    }
   ],
   "source": [
    "# df.select_dtypes(include = [int, float])\n",
    "df.select_dtypes(exclude = [object])"
   ]
  },
  {
   "cell_type": "code",
   "execution_count": 26,
   "id": "a32ee04f",
   "metadata": {},
   "outputs": [
    {
     "data": {
      "text/html": [
       "<div>\n",
       "<style scoped>\n",
       "    .dataframe tbody tr th:only-of-type {\n",
       "        vertical-align: middle;\n",
       "    }\n",
       "\n",
       "    .dataframe tbody tr th {\n",
       "        vertical-align: top;\n",
       "    }\n",
       "\n",
       "    .dataframe thead th {\n",
       "        text-align: right;\n",
       "    }\n",
       "</style>\n",
       "<table border=\"1\" class=\"dataframe\">\n",
       "  <thead>\n",
       "    <tr style=\"text-align: right;\">\n",
       "      <th></th>\n",
       "      <th>Price</th>\n",
       "      <th>Age</th>\n",
       "      <th>KM</th>\n",
       "      <th>HP</th>\n",
       "      <th>CC</th>\n",
       "      <th>Doors</th>\n",
       "      <th>Weight</th>\n",
       "    </tr>\n",
       "  </thead>\n",
       "  <tbody>\n",
       "    <tr>\n",
       "      <th>pearson</th>\n",
       "      <td>1.0000</td>\n",
       "      <td>-0.7965</td>\n",
       "      <td>-0.5146</td>\n",
       "      <td>0.2220</td>\n",
       "      <td>0.0505</td>\n",
       "      <td>0.1647</td>\n",
       "      <td>0.2207</td>\n",
       "    </tr>\n",
       "  </tbody>\n",
       "</table>\n",
       "</div>"
      ],
      "text/plain": [
       "         Price     Age      KM     HP     CC  Doors  Weight\n",
       "pearson 1.0000 -0.7965 -0.5146 0.2220 0.0505 0.1647  0.2207"
      ]
     },
     "execution_count": 26,
     "metadata": {},
     "output_type": "execute_result"
    }
   ],
   "source": [
    "df.loc[:, locs].apply(func = lambda x: pg.corr(x = x, y = df['Price'])['r'])"
   ]
  },
  {
   "cell_type": "code",
   "execution_count": 25,
   "id": "9067d4a4",
   "metadata": {},
   "outputs": [
    {
     "data": {
      "text/html": [
       "<div>\n",
       "<style scoped>\n",
       "    .dataframe tbody tr th:only-of-type {\n",
       "        vertical-align: middle;\n",
       "    }\n",
       "\n",
       "    .dataframe tbody tr th {\n",
       "        vertical-align: top;\n",
       "    }\n",
       "\n",
       "    .dataframe thead th {\n",
       "        text-align: right;\n",
       "    }\n",
       "</style>\n",
       "<table border=\"1\" class=\"dataframe\">\n",
       "  <thead>\n",
       "    <tr style=\"text-align: right;\">\n",
       "      <th></th>\n",
       "      <th>Price</th>\n",
       "      <th>Age</th>\n",
       "      <th>KM</th>\n",
       "      <th>HP</th>\n",
       "      <th>CC</th>\n",
       "      <th>Doors</th>\n",
       "      <th>Weight</th>\n",
       "    </tr>\n",
       "  </thead>\n",
       "  <tbody>\n",
       "    <tr>\n",
       "      <th>pearson</th>\n",
       "      <td>0.0000</td>\n",
       "      <td>0.0000</td>\n",
       "      <td>0.0000</td>\n",
       "      <td>0.0000</td>\n",
       "      <td>0.0724</td>\n",
       "      <td>0.0000</td>\n",
       "      <td>0.0000</td>\n",
       "    </tr>\n",
       "  </tbody>\n",
       "</table>\n",
       "</div>"
      ],
      "text/plain": [
       "         Price    Age     KM     HP     CC  Doors  Weight\n",
       "pearson 0.0000 0.0000 0.0000 0.0000 0.0724 0.0000  0.0000"
      ]
     },
     "execution_count": 25,
     "metadata": {},
     "output_type": "execute_result"
    }
   ],
   "source": [
    "df.loc[:, locs].apply(func = corr, axis = 0)"
   ]
  },
  {
   "cell_type": "code",
   "execution_count": 34,
   "id": "40f8ec09",
   "metadata": {},
   "outputs": [
    {
     "data": {
      "text/html": [
       "<div>\n",
       "<style scoped>\n",
       "    .dataframe tbody tr th:only-of-type {\n",
       "        vertical-align: middle;\n",
       "    }\n",
       "\n",
       "    .dataframe tbody tr th {\n",
       "        vertical-align: top;\n",
       "    }\n",
       "\n",
       "    .dataframe thead th {\n",
       "        text-align: right;\n",
       "    }\n",
       "</style>\n",
       "<table border=\"1\" class=\"dataframe\">\n",
       "  <thead>\n",
       "    <tr style=\"text-align: right;\">\n",
       "      <th></th>\n",
       "      <th>Price</th>\n",
       "      <th>Age</th>\n",
       "      <th>KM</th>\n",
       "      <th>HP</th>\n",
       "      <th>CC</th>\n",
       "      <th>Doors</th>\n",
       "      <th>Weight</th>\n",
       "    </tr>\n",
       "  </thead>\n",
       "  <tbody>\n",
       "    <tr>\n",
       "      <th>pearson</th>\n",
       "      <td>True</td>\n",
       "      <td>True</td>\n",
       "      <td>True</td>\n",
       "      <td>True</td>\n",
       "      <td>False</td>\n",
       "      <td>True</td>\n",
       "      <td>True</td>\n",
       "    </tr>\n",
       "  </tbody>\n",
       "</table>\n",
       "</div>"
      ],
      "text/plain": [
       "         Price   Age    KM    HP     CC  Doors  Weight\n",
       "pearson   True  True  True  True  False   True    True"
      ]
     },
     "execution_count": 34,
     "metadata": {},
     "output_type": "execute_result"
    }
   ],
   "source": [
    "result = df.loc[:, locs].apply(func = corr, axis = 0).lt(0.05)\n",
    "result"
   ]
  },
  {
   "cell_type": "code",
   "execution_count": 35,
   "id": "1368e483",
   "metadata": {
    "collapsed": true
   },
   "outputs": [
    {
     "data": {
      "text/plain": [
       "Price      True\n",
       "Age        True\n",
       "KM         True\n",
       "HP         True\n",
       "CC        False\n",
       "Doors      True\n",
       "Weight     True\n",
       "Name: pearson, dtype: bool"
      ]
     },
     "execution_count": 35,
     "metadata": {},
     "output_type": "execute_result"
    }
   ],
   "source": [
    "result.iloc[0]"
   ]
  },
  {
   "cell_type": "code",
   "execution_count": 38,
   "id": "31e839a4",
   "metadata": {},
   "outputs": [
    {
     "data": {
      "text/plain": [
       "array([4], dtype=int64)"
      ]
     },
     "execution_count": 38,
     "metadata": {},
     "output_type": "execute_result"
    }
   ],
   "source": [
    "locs = np.where(~result.iloc[0])\n",
    "locs[0]"
   ]
  },
  {
   "cell_type": "code",
   "execution_count": 39,
   "id": "99a3e51d",
   "metadata": {},
   "outputs": [
    {
     "data": {
      "text/plain": [
       "Index(['CC'], dtype='object')"
      ]
     },
     "execution_count": 39,
     "metadata": {},
     "output_type": "execute_result"
    }
   ],
   "source": [
    "result.columns[locs[0]]"
   ]
  },
  {
   "cell_type": "code",
   "execution_count": 40,
   "id": "eabd0f7a",
   "metadata": {},
   "outputs": [
    {
     "data": {
      "text/html": [
       "<div>\n",
       "<style scoped>\n",
       "    .dataframe tbody tr th:only-of-type {\n",
       "        vertical-align: middle;\n",
       "    }\n",
       "\n",
       "    .dataframe tbody tr th {\n",
       "        vertical-align: top;\n",
       "    }\n",
       "\n",
       "    .dataframe thead th {\n",
       "        text-align: right;\n",
       "    }\n",
       "</style>\n",
       "<table border=\"1\" class=\"dataframe\">\n",
       "  <thead>\n",
       "    <tr style=\"text-align: right;\">\n",
       "      <th></th>\n",
       "      <th>W</th>\n",
       "      <th>pval</th>\n",
       "      <th>normal</th>\n",
       "    </tr>\n",
       "    <tr>\n",
       "      <th>MetColor</th>\n",
       "      <th></th>\n",
       "      <th></th>\n",
       "      <th></th>\n",
       "    </tr>\n",
       "  </thead>\n",
       "  <tbody>\n",
       "    <tr>\n",
       "      <th>1</th>\n",
       "      <td>0.9748</td>\n",
       "      <td>0.0000</td>\n",
       "      <td>False</td>\n",
       "    </tr>\n",
       "    <tr>\n",
       "      <th>0</th>\n",
       "      <td>0.9881</td>\n",
       "      <td>0.0014</td>\n",
       "      <td>False</td>\n",
       "    </tr>\n",
       "  </tbody>\n",
       "</table>\n",
       "</div>"
      ],
      "text/plain": [
       "              W   pval  normal\n",
       "MetColor                      \n",
       "1        0.9748 0.0000   False\n",
       "0        0.9881 0.0014   False"
      ]
     },
     "execution_count": 40,
     "metadata": {},
     "output_type": "execute_result"
    }
   ],
   "source": [
    "pg.normality(data = df, dv = 'Price', group = 'MetColor')"
   ]
  },
  {
   "cell_type": "code",
   "execution_count": 41,
   "id": "19fcd732",
   "metadata": {},
   "outputs": [
    {
     "data": {
      "text/html": [
       "<div>\n",
       "<style scoped>\n",
       "    .dataframe tbody tr th:only-of-type {\n",
       "        vertical-align: middle;\n",
       "    }\n",
       "\n",
       "    .dataframe tbody tr th {\n",
       "        vertical-align: top;\n",
       "    }\n",
       "\n",
       "    .dataframe thead th {\n",
       "        text-align: right;\n",
       "    }\n",
       "</style>\n",
       "<table border=\"1\" class=\"dataframe\">\n",
       "  <thead>\n",
       "    <tr style=\"text-align: right;\">\n",
       "      <th></th>\n",
       "      <th>W</th>\n",
       "      <th>pval</th>\n",
       "      <th>equal_var</th>\n",
       "    </tr>\n",
       "  </thead>\n",
       "  <tbody>\n",
       "    <tr>\n",
       "      <th>levene</th>\n",
       "      <td>5.7613</td>\n",
       "      <td>0.0165</td>\n",
       "      <td>False</td>\n",
       "    </tr>\n",
       "  </tbody>\n",
       "</table>\n",
       "</div>"
      ],
      "text/plain": [
       "            W   pval  equal_var\n",
       "levene 5.7613 0.0165      False"
      ]
     },
     "execution_count": 41,
     "metadata": {},
     "output_type": "execute_result"
    }
   ],
   "source": [
    "pg.homoscedasticity(data = df, dv = 'Price', group = 'MetColor')"
   ]
  },
  {
   "cell_type": "code",
   "execution_count": 42,
   "id": "5e333468",
   "metadata": {},
   "outputs": [
    {
     "data": {
      "text/html": [
       "<div>\n",
       "<style scoped>\n",
       "    .dataframe tbody tr th:only-of-type {\n",
       "        vertical-align: middle;\n",
       "    }\n",
       "\n",
       "    .dataframe tbody tr th {\n",
       "        vertical-align: top;\n",
       "    }\n",
       "\n",
       "    .dataframe thead th {\n",
       "        text-align: right;\n",
       "    }\n",
       "</style>\n",
       "<table border=\"1\" class=\"dataframe\">\n",
       "  <thead>\n",
       "    <tr style=\"text-align: right;\">\n",
       "      <th></th>\n",
       "      <th>Price</th>\n",
       "      <th>Age</th>\n",
       "      <th>KM</th>\n",
       "      <th>FuelType</th>\n",
       "      <th>HP</th>\n",
       "      <th>MetColor</th>\n",
       "      <th>Automatic</th>\n",
       "      <th>CC</th>\n",
       "      <th>Doors</th>\n",
       "      <th>Weight</th>\n",
       "    </tr>\n",
       "  </thead>\n",
       "  <tbody>\n",
       "    <tr>\n",
       "      <th>0</th>\n",
       "      <td>13500</td>\n",
       "      <td>23</td>\n",
       "      <td>46986</td>\n",
       "      <td>Diesel</td>\n",
       "      <td>90</td>\n",
       "      <td>1</td>\n",
       "      <td>0</td>\n",
       "      <td>2000</td>\n",
       "      <td>3</td>\n",
       "      <td>1165</td>\n",
       "    </tr>\n",
       "    <tr>\n",
       "      <th>1</th>\n",
       "      <td>13750</td>\n",
       "      <td>23</td>\n",
       "      <td>72937</td>\n",
       "      <td>Diesel</td>\n",
       "      <td>90</td>\n",
       "      <td>1</td>\n",
       "      <td>0</td>\n",
       "      <td>2000</td>\n",
       "      <td>3</td>\n",
       "      <td>1165</td>\n",
       "    </tr>\n",
       "    <tr>\n",
       "      <th>2</th>\n",
       "      <td>13950</td>\n",
       "      <td>24</td>\n",
       "      <td>41711</td>\n",
       "      <td>Diesel</td>\n",
       "      <td>90</td>\n",
       "      <td>1</td>\n",
       "      <td>0</td>\n",
       "      <td>2000</td>\n",
       "      <td>3</td>\n",
       "      <td>1165</td>\n",
       "    </tr>\n",
       "    <tr>\n",
       "      <th>3</th>\n",
       "      <td>14950</td>\n",
       "      <td>26</td>\n",
       "      <td>48000</td>\n",
       "      <td>Diesel</td>\n",
       "      <td>90</td>\n",
       "      <td>0</td>\n",
       "      <td>0</td>\n",
       "      <td>2000</td>\n",
       "      <td>3</td>\n",
       "      <td>1165</td>\n",
       "    </tr>\n",
       "    <tr>\n",
       "      <th>4</th>\n",
       "      <td>13750</td>\n",
       "      <td>30</td>\n",
       "      <td>38500</td>\n",
       "      <td>Diesel</td>\n",
       "      <td>90</td>\n",
       "      <td>0</td>\n",
       "      <td>0</td>\n",
       "      <td>2000</td>\n",
       "      <td>3</td>\n",
       "      <td>1170</td>\n",
       "    </tr>\n",
       "  </tbody>\n",
       "</table>\n",
       "</div>"
      ],
      "text/plain": [
       "   Price  Age     KM FuelType  HP MetColor Automatic    CC  Doors  Weight\n",
       "0  13500   23  46986   Diesel  90        1         0  2000      3    1165\n",
       "1  13750   23  72937   Diesel  90        1         0  2000      3    1165\n",
       "2  13950   24  41711   Diesel  90        1         0  2000      3    1165\n",
       "3  14950   26  48000   Diesel  90        0         0  2000      3    1165\n",
       "4  13750   30  38500   Diesel  90        0         0  2000      3    1170"
      ]
     },
     "execution_count": 42,
     "metadata": {},
     "output_type": "execute_result"
    }
   ],
   "source": [
    "df.head()"
   ]
  },
  {
   "cell_type": "code",
   "execution_count": 44,
   "id": "2360d2d4",
   "metadata": {
    "collapsed": true
   },
   "outputs": [
    {
     "name": "stdout",
     "output_type": "stream",
     "text": [
      "<class 'pandas.core.frame.DataFrame'>\n",
      "RangeIndex: 1268 entries, 0 to 1267\n",
      "Data columns (total 10 columns):\n",
      " #   Column     Non-Null Count  Dtype \n",
      "---  ------     --------------  ----- \n",
      " 0   Price      1268 non-null   int64 \n",
      " 1   Age        1268 non-null   int64 \n",
      " 2   KM         1268 non-null   int64 \n",
      " 3   FuelType   1268 non-null   object\n",
      " 4   HP         1268 non-null   int64 \n",
      " 5   MetColor   1268 non-null   object\n",
      " 6   Automatic  1268 non-null   object\n",
      " 7   CC         1268 non-null   int64 \n",
      " 8   Doors      1268 non-null   int64 \n",
      " 9   Weight     1268 non-null   int64 \n",
      "dtypes: int64(7), object(3)\n",
      "memory usage: 99.2+ KB\n"
     ]
    }
   ],
   "source": [
    "df.info()"
   ]
  },
  {
   "cell_type": "code",
   "execution_count": 46,
   "id": "10320acf",
   "metadata": {},
   "outputs": [],
   "source": [
    "sp1 = df['Price'].loc[df['MetColor'].eq('0')]\n",
    "sp2 = df['Price'].loc[df['MetColor'].eq('1')]"
   ]
  },
  {
   "cell_type": "code",
   "execution_count": 56,
   "id": "86e560fa",
   "metadata": {},
   "outputs": [
    {
     "data": {
      "text/plain": [
       "24       4350\n",
       "225      4450\n",
       "902      5600\n",
       "891      5740\n",
       "880      5750\n",
       "        ...  \n",
       "3       14950\n",
       "177     14950\n",
       "174     14950\n",
       "1264    15500\n",
       "1263    15950\n",
       "Name: Price, Length: 428, dtype: int64"
      ]
     },
     "execution_count": 56,
     "metadata": {},
     "output_type": "execute_result"
    }
   ],
   "source": [
    "sp1.sort_values()"
   ]
  },
  {
   "cell_type": "raw",
   "id": "3275826b",
   "metadata": {},
   "source": [
    "df.loc[df['MetColor'].eq('0'), 'Price']"
   ]
  },
  {
   "cell_type": "code",
   "execution_count": 50,
   "id": "9f933b6b",
   "metadata": {},
   "outputs": [
    {
     "name": "stdout",
     "output_type": "stream",
     "text": [
      "9466.672897196262\n",
      "9814.132142857143\n"
     ]
    }
   ],
   "source": [
    "print(sp1.mean())\n",
    "print(sp2.mean())"
   ]
  },
  {
   "cell_type": "code",
   "execution_count": 51,
   "id": "fce110ac",
   "metadata": {},
   "outputs": [
    {
     "data": {
      "text/plain": [
       "MetColor\n",
       "0   9466.6729\n",
       "1   9814.1321\n",
       "Name: Price, dtype: float64"
      ]
     },
     "execution_count": 51,
     "metadata": {},
     "output_type": "execute_result"
    }
   ],
   "source": [
    "df.groupby(by = 'MetColor')['Price'].mean()"
   ]
  },
  {
   "cell_type": "code",
   "execution_count": 52,
   "id": "0914dd1b",
   "metadata": {},
   "outputs": [
    {
     "data": {
      "text/html": [
       "<div>\n",
       "<style scoped>\n",
       "    .dataframe tbody tr th:only-of-type {\n",
       "        vertical-align: middle;\n",
       "    }\n",
       "\n",
       "    .dataframe tbody tr th {\n",
       "        vertical-align: top;\n",
       "    }\n",
       "\n",
       "    .dataframe thead th {\n",
       "        text-align: right;\n",
       "    }\n",
       "</style>\n",
       "<table border=\"1\" class=\"dataframe\">\n",
       "  <thead>\n",
       "    <tr style=\"text-align: right;\">\n",
       "      <th></th>\n",
       "      <th>Price</th>\n",
       "    </tr>\n",
       "    <tr>\n",
       "      <th>MetColor</th>\n",
       "      <th></th>\n",
       "    </tr>\n",
       "  </thead>\n",
       "  <tbody>\n",
       "    <tr>\n",
       "      <th>0</th>\n",
       "      <td>9466.6729</td>\n",
       "    </tr>\n",
       "    <tr>\n",
       "      <th>1</th>\n",
       "      <td>9814.1321</td>\n",
       "    </tr>\n",
       "  </tbody>\n",
       "</table>\n",
       "</div>"
      ],
      "text/plain": [
       "             Price\n",
       "MetColor          \n",
       "0        9466.6729\n",
       "1        9814.1321"
      ]
     },
     "execution_count": 52,
     "metadata": {},
     "output_type": "execute_result"
    }
   ],
   "source": [
    "pd.pivot_table(data = df, values = 'Price', index = 'MetColor', aggfunc = np.mean)"
   ]
  },
  {
   "cell_type": "code",
   "execution_count": 53,
   "id": "9683c7be",
   "metadata": {},
   "outputs": [
    {
     "data": {
      "text/html": [
       "<div>\n",
       "<style scoped>\n",
       "    .dataframe tbody tr th:only-of-type {\n",
       "        vertical-align: middle;\n",
       "    }\n",
       "\n",
       "    .dataframe tbody tr th {\n",
       "        vertical-align: top;\n",
       "    }\n",
       "\n",
       "    .dataframe thead th {\n",
       "        text-align: right;\n",
       "    }\n",
       "</style>\n",
       "<table border=\"1\" class=\"dataframe\">\n",
       "  <thead>\n",
       "    <tr style=\"text-align: right;\">\n",
       "      <th></th>\n",
       "      <th>T</th>\n",
       "      <th>dof</th>\n",
       "      <th>alternative</th>\n",
       "      <th>p-val</th>\n",
       "      <th>CI95%</th>\n",
       "      <th>cohen-d</th>\n",
       "      <th>BF10</th>\n",
       "      <th>power</th>\n",
       "    </tr>\n",
       "  </thead>\n",
       "  <tbody>\n",
       "    <tr>\n",
       "      <th>T-test</th>\n",
       "      <td>-2.8918</td>\n",
       "      <td>1266</td>\n",
       "      <td>two-sided</td>\n",
       "      <td>0.0039</td>\n",
       "      <td>[-583.18, -111.73]</td>\n",
       "      <td>0.1717</td>\n",
       "      <td>4.077</td>\n",
       "      <td>0.8237</td>\n",
       "    </tr>\n",
       "  </tbody>\n",
       "</table>\n",
       "</div>"
      ],
      "text/plain": [
       "             T   dof alternative  p-val               CI95%  cohen-d   BF10   \n",
       "T-test -2.8918  1266   two-sided 0.0039  [-583.18, -111.73]   0.1717  4.077  \\\n",
       "\n",
       "        power  \n",
       "T-test 0.8237  "
      ]
     },
     "execution_count": 53,
     "metadata": {},
     "output_type": "execute_result"
    }
   ],
   "source": [
    "pg.ttest(x = sp1, y = sp2, correction = False)"
   ]
  },
  {
   "cell_type": "code",
   "execution_count": 54,
   "id": "ded16c68",
   "metadata": {},
   "outputs": [
    {
     "data": {
      "text/html": [
       "<div>\n",
       "<style scoped>\n",
       "    .dataframe tbody tr th:only-of-type {\n",
       "        vertical-align: middle;\n",
       "    }\n",
       "\n",
       "    .dataframe tbody tr th {\n",
       "        vertical-align: top;\n",
       "    }\n",
       "\n",
       "    .dataframe thead th {\n",
       "        text-align: right;\n",
       "    }\n",
       "</style>\n",
       "<table border=\"1\" class=\"dataframe\">\n",
       "  <thead>\n",
       "    <tr style=\"text-align: right;\">\n",
       "      <th></th>\n",
       "      <th>T</th>\n",
       "      <th>dof</th>\n",
       "      <th>alternative</th>\n",
       "      <th>p-val</th>\n",
       "      <th>CI95%</th>\n",
       "      <th>cohen-d</th>\n",
       "      <th>BF10</th>\n",
       "      <th>power</th>\n",
       "    </tr>\n",
       "  </thead>\n",
       "  <tbody>\n",
       "    <tr>\n",
       "      <th>T-test</th>\n",
       "      <td>-2.9836</td>\n",
       "      <td>935.8931</td>\n",
       "      <td>two-sided</td>\n",
       "      <td>0.0029</td>\n",
       "      <td>[-576.0, -118.92]</td>\n",
       "      <td>0.1717</td>\n",
       "      <td>5.313</td>\n",
       "      <td>0.8237</td>\n",
       "    </tr>\n",
       "  </tbody>\n",
       "</table>\n",
       "</div>"
      ],
      "text/plain": [
       "             T      dof alternative  p-val              CI95%  cohen-d   BF10   \n",
       "T-test -2.9836 935.8931   two-sided 0.0029  [-576.0, -118.92]   0.1717  5.313  \\\n",
       "\n",
       "        power  \n",
       "T-test 0.8237  "
      ]
     },
     "execution_count": 54,
     "metadata": {},
     "output_type": "execute_result"
    }
   ],
   "source": [
    "pg.ttest(x = sp1, y = sp2, correction = True)"
   ]
  },
  {
   "cell_type": "code",
   "execution_count": 57,
   "id": "708c7f7b",
   "metadata": {},
   "outputs": [
    {
     "data": {
      "text/html": [
       "<div>\n",
       "<style scoped>\n",
       "    .dataframe tbody tr th:only-of-type {\n",
       "        vertical-align: middle;\n",
       "    }\n",
       "\n",
       "    .dataframe tbody tr th {\n",
       "        vertical-align: top;\n",
       "    }\n",
       "\n",
       "    .dataframe thead th {\n",
       "        text-align: right;\n",
       "    }\n",
       "</style>\n",
       "<table border=\"1\" class=\"dataframe\">\n",
       "  <thead>\n",
       "    <tr style=\"text-align: right;\">\n",
       "      <th></th>\n",
       "      <th>U-val</th>\n",
       "      <th>alternative</th>\n",
       "      <th>p-val</th>\n",
       "      <th>RBC</th>\n",
       "      <th>CLES</th>\n",
       "    </tr>\n",
       "  </thead>\n",
       "  <tbody>\n",
       "    <tr>\n",
       "      <th>MWU</th>\n",
       "      <td>166376.0000</td>\n",
       "      <td>two-sided</td>\n",
       "      <td>0.0298</td>\n",
       "      <td>0.0745</td>\n",
       "      <td>0.4628</td>\n",
       "    </tr>\n",
       "  </tbody>\n",
       "</table>\n",
       "</div>"
      ],
      "text/plain": [
       "          U-val alternative  p-val    RBC   CLES\n",
       "MWU 166376.0000   two-sided 0.0298 0.0745 0.4628"
      ]
     },
     "execution_count": 57,
     "metadata": {},
     "output_type": "execute_result"
    }
   ],
   "source": [
    "pg.mwu(x = sp1, y = sp2)"
   ]
  },
  {
   "cell_type": "code",
   "execution_count": null,
   "id": "c81a157c",
   "metadata": {},
   "outputs": [],
   "source": []
  },
  {
   "cell_type": "code",
   "execution_count": 58,
   "id": "e0101e09",
   "metadata": {},
   "outputs": [
    {
     "data": {
      "text/html": [
       "<div>\n",
       "<style scoped>\n",
       "    .dataframe tbody tr th:only-of-type {\n",
       "        vertical-align: middle;\n",
       "    }\n",
       "\n",
       "    .dataframe tbody tr th {\n",
       "        vertical-align: top;\n",
       "    }\n",
       "\n",
       "    .dataframe thead th {\n",
       "        text-align: right;\n",
       "    }\n",
       "</style>\n",
       "<table border=\"1\" class=\"dataframe\">\n",
       "  <thead>\n",
       "    <tr style=\"text-align: right;\">\n",
       "      <th></th>\n",
       "      <th>W</th>\n",
       "      <th>pval</th>\n",
       "      <th>normal</th>\n",
       "    </tr>\n",
       "    <tr>\n",
       "      <th>Automatic</th>\n",
       "      <th></th>\n",
       "      <th></th>\n",
       "      <th></th>\n",
       "    </tr>\n",
       "  </thead>\n",
       "  <tbody>\n",
       "    <tr>\n",
       "      <th>0</th>\n",
       "      <td>0.9815</td>\n",
       "      <td>0.0000</td>\n",
       "      <td>False</td>\n",
       "    </tr>\n",
       "    <tr>\n",
       "      <th>1</th>\n",
       "      <td>0.9484</td>\n",
       "      <td>0.0060</td>\n",
       "      <td>False</td>\n",
       "    </tr>\n",
       "  </tbody>\n",
       "</table>\n",
       "</div>"
      ],
      "text/plain": [
       "               W   pval  normal\n",
       "Automatic                      \n",
       "0         0.9815 0.0000   False\n",
       "1         0.9484 0.0060   False"
      ]
     },
     "execution_count": 58,
     "metadata": {},
     "output_type": "execute_result"
    }
   ],
   "source": [
    "pg.normality(data = df, dv = 'Price', group = 'Automatic')"
   ]
  },
  {
   "cell_type": "code",
   "execution_count": 59,
   "id": "48a2eff6",
   "metadata": {},
   "outputs": [
    {
     "data": {
      "text/html": [
       "<div>\n",
       "<style scoped>\n",
       "    .dataframe tbody tr th:only-of-type {\n",
       "        vertical-align: middle;\n",
       "    }\n",
       "\n",
       "    .dataframe tbody tr th {\n",
       "        vertical-align: top;\n",
       "    }\n",
       "\n",
       "    .dataframe thead th {\n",
       "        text-align: right;\n",
       "    }\n",
       "</style>\n",
       "<table border=\"1\" class=\"dataframe\">\n",
       "  <thead>\n",
       "    <tr style=\"text-align: right;\">\n",
       "      <th></th>\n",
       "      <th>W</th>\n",
       "      <th>pval</th>\n",
       "      <th>equal_var</th>\n",
       "    </tr>\n",
       "  </thead>\n",
       "  <tbody>\n",
       "    <tr>\n",
       "      <th>levene</th>\n",
       "      <td>1.0930</td>\n",
       "      <td>0.2960</td>\n",
       "      <td>True</td>\n",
       "    </tr>\n",
       "  </tbody>\n",
       "</table>\n",
       "</div>"
      ],
      "text/plain": [
       "            W   pval  equal_var\n",
       "levene 1.0930 0.2960       True"
      ]
     },
     "execution_count": 59,
     "metadata": {},
     "output_type": "execute_result"
    }
   ],
   "source": [
    "pg.homoscedasticity(data = df, dv = 'Price', group = 'Automatic')"
   ]
  },
  {
   "cell_type": "code",
   "execution_count": 60,
   "id": "fbc1fdac",
   "metadata": {},
   "outputs": [],
   "source": [
    "sp1 = df['Price'].loc[df['Automatic'].eq('0')]\n",
    "sp2 = df['Price'].loc[df['Automatic'].eq('1')]"
   ]
  },
  {
   "cell_type": "code",
   "execution_count": 61,
   "id": "a1a4928b",
   "metadata": {},
   "outputs": [
    {
     "name": "stdout",
     "output_type": "stream",
     "text": [
      "9676.575125208681\n",
      "10043.857142857143\n"
     ]
    }
   ],
   "source": [
    "print(sp1.mean())\n",
    "print(sp2.mean())"
   ]
  },
  {
   "cell_type": "code",
   "execution_count": 62,
   "id": "e674d86a",
   "metadata": {},
   "outputs": [
    {
     "data": {
      "text/html": [
       "<div>\n",
       "<style scoped>\n",
       "    .dataframe tbody tr th:only-of-type {\n",
       "        vertical-align: middle;\n",
       "    }\n",
       "\n",
       "    .dataframe tbody tr th {\n",
       "        vertical-align: top;\n",
       "    }\n",
       "\n",
       "    .dataframe thead th {\n",
       "        text-align: right;\n",
       "    }\n",
       "</style>\n",
       "<table border=\"1\" class=\"dataframe\">\n",
       "  <thead>\n",
       "    <tr style=\"text-align: right;\">\n",
       "      <th></th>\n",
       "      <th>T</th>\n",
       "      <th>dof</th>\n",
       "      <th>alternative</th>\n",
       "      <th>p-val</th>\n",
       "      <th>CI95%</th>\n",
       "      <th>cohen-d</th>\n",
       "      <th>BF10</th>\n",
       "      <th>power</th>\n",
       "    </tr>\n",
       "  </thead>\n",
       "  <tbody>\n",
       "    <tr>\n",
       "      <th>T-test</th>\n",
       "      <td>-1.4727</td>\n",
       "      <td>1266</td>\n",
       "      <td>two-sided</td>\n",
       "      <td>0.1411</td>\n",
       "      <td>[-856.55, 121.99]</td>\n",
       "      <td>0.1811</td>\n",
       "      <td>0.377</td>\n",
       "      <td>0.3129</td>\n",
       "    </tr>\n",
       "  </tbody>\n",
       "</table>\n",
       "</div>"
      ],
      "text/plain": [
       "             T   dof alternative  p-val              CI95%  cohen-d   BF10   \n",
       "T-test -1.4727  1266   two-sided 0.1411  [-856.55, 121.99]   0.1811  0.377  \\\n",
       "\n",
       "        power  \n",
       "T-test 0.3129  "
      ]
     },
     "execution_count": 62,
     "metadata": {},
     "output_type": "execute_result"
    }
   ],
   "source": [
    "pg.ttest(x = sp1, y = sp2, correction = False)"
   ]
  },
  {
   "cell_type": "code",
   "execution_count": 63,
   "id": "a687052c",
   "metadata": {},
   "outputs": [
    {
     "data": {
      "text/html": [
       "<div>\n",
       "<style scoped>\n",
       "    .dataframe tbody tr th:only-of-type {\n",
       "        vertical-align: middle;\n",
       "    }\n",
       "\n",
       "    .dataframe tbody tr th {\n",
       "        vertical-align: top;\n",
       "    }\n",
       "\n",
       "    .dataframe thead th {\n",
       "        text-align: right;\n",
       "    }\n",
       "</style>\n",
       "<table border=\"1\" class=\"dataframe\">\n",
       "  <thead>\n",
       "    <tr style=\"text-align: right;\">\n",
       "      <th></th>\n",
       "      <th>T</th>\n",
       "      <th>dof</th>\n",
       "      <th>alternative</th>\n",
       "      <th>p-val</th>\n",
       "      <th>CI95%</th>\n",
       "      <th>cohen-d</th>\n",
       "      <th>BF10</th>\n",
       "      <th>power</th>\n",
       "    </tr>\n",
       "  </thead>\n",
       "  <tbody>\n",
       "    <tr>\n",
       "      <th>T-test</th>\n",
       "      <td>-1.5677</td>\n",
       "      <td>78.5710</td>\n",
       "      <td>two-sided</td>\n",
       "      <td>0.1210</td>\n",
       "      <td>[-833.65, 99.08]</td>\n",
       "      <td>0.1811</td>\n",
       "      <td>0.433</td>\n",
       "      <td>0.3129</td>\n",
       "    </tr>\n",
       "  </tbody>\n",
       "</table>\n",
       "</div>"
      ],
      "text/plain": [
       "             T     dof alternative  p-val             CI95%  cohen-d   BF10   \n",
       "T-test -1.5677 78.5710   two-sided 0.1210  [-833.65, 99.08]   0.1811  0.433  \\\n",
       "\n",
       "        power  \n",
       "T-test 0.3129  "
      ]
     },
     "execution_count": 63,
     "metadata": {},
     "output_type": "execute_result"
    }
   ],
   "source": [
    "pg.ttest(x = sp1, y = sp2, correction = True)"
   ]
  },
  {
   "cell_type": "code",
   "execution_count": 64,
   "id": "fea587de",
   "metadata": {},
   "outputs": [
    {
     "data": {
      "text/html": [
       "<div>\n",
       "<style scoped>\n",
       "    .dataframe tbody tr th:only-of-type {\n",
       "        vertical-align: middle;\n",
       "    }\n",
       "\n",
       "    .dataframe tbody tr th {\n",
       "        vertical-align: top;\n",
       "    }\n",
       "\n",
       "    .dataframe thead th {\n",
       "        text-align: right;\n",
       "    }\n",
       "</style>\n",
       "<table border=\"1\" class=\"dataframe\">\n",
       "  <thead>\n",
       "    <tr style=\"text-align: right;\">\n",
       "      <th></th>\n",
       "      <th>U-val</th>\n",
       "      <th>alternative</th>\n",
       "      <th>p-val</th>\n",
       "      <th>RBC</th>\n",
       "      <th>CLES</th>\n",
       "    </tr>\n",
       "  </thead>\n",
       "  <tbody>\n",
       "    <tr>\n",
       "      <th>MWU</th>\n",
       "      <td>37216.5000</td>\n",
       "      <td>two-sided</td>\n",
       "      <td>0.1132</td>\n",
       "      <td>0.1124</td>\n",
       "      <td>0.4438</td>\n",
       "    </tr>\n",
       "  </tbody>\n",
       "</table>\n",
       "</div>"
      ],
      "text/plain": [
       "         U-val alternative  p-val    RBC   CLES\n",
       "MWU 37216.5000   two-sided 0.1132 0.1124 0.4438"
      ]
     },
     "execution_count": 64,
     "metadata": {},
     "output_type": "execute_result"
    }
   ],
   "source": [
    "pg.mwu(x = sp1, y = sp2)"
   ]
  },
  {
   "cell_type": "code",
   "execution_count": 65,
   "id": "9f3fb8bf",
   "metadata": {},
   "outputs": [
    {
     "data": {
      "text/plain": [
       "1198"
      ]
     },
     "execution_count": 65,
     "metadata": {},
     "output_type": "execute_result"
    }
   ],
   "source": [
    "sp1.count()"
   ]
  },
  {
   "cell_type": "code",
   "execution_count": 66,
   "id": "3443c964",
   "metadata": {},
   "outputs": [
    {
     "data": {
      "text/plain": [
       "70"
      ]
     },
     "execution_count": 66,
     "metadata": {},
     "output_type": "execute_result"
    }
   ],
   "source": [
    "sp2.count()"
   ]
  },
  {
   "cell_type": "code",
   "execution_count": 67,
   "id": "5790e9a8",
   "metadata": {},
   "outputs": [],
   "source": [
    "sp3 = pd.concat(objs = [sp2, sp2, sp2, sp2], axis = 0, ignore_index = True)"
   ]
  },
  {
   "cell_type": "code",
   "execution_count": 68,
   "id": "63183cf1",
   "metadata": {},
   "outputs": [
    {
     "data": {
      "text/html": [
       "<div>\n",
       "<style scoped>\n",
       "    .dataframe tbody tr th:only-of-type {\n",
       "        vertical-align: middle;\n",
       "    }\n",
       "\n",
       "    .dataframe tbody tr th {\n",
       "        vertical-align: top;\n",
       "    }\n",
       "\n",
       "    .dataframe thead th {\n",
       "        text-align: right;\n",
       "    }\n",
       "</style>\n",
       "<table border=\"1\" class=\"dataframe\">\n",
       "  <thead>\n",
       "    <tr style=\"text-align: right;\">\n",
       "      <th></th>\n",
       "      <th>T</th>\n",
       "      <th>dof</th>\n",
       "      <th>alternative</th>\n",
       "      <th>p-val</th>\n",
       "      <th>CI95%</th>\n",
       "      <th>cohen-d</th>\n",
       "      <th>BF10</th>\n",
       "      <th>power</th>\n",
       "    </tr>\n",
       "  </thead>\n",
       "  <tbody>\n",
       "    <tr>\n",
       "      <th>T-test</th>\n",
       "      <td>-2.7552</td>\n",
       "      <td>1476</td>\n",
       "      <td>two-sided</td>\n",
       "      <td>0.0059</td>\n",
       "      <td>[-628.77, -105.79]</td>\n",
       "      <td>0.1829</td>\n",
       "      <td>3.083</td>\n",
       "      <td>0.7862</td>\n",
       "    </tr>\n",
       "  </tbody>\n",
       "</table>\n",
       "</div>"
      ],
      "text/plain": [
       "             T   dof alternative  p-val               CI95%  cohen-d   BF10   \n",
       "T-test -2.7552  1476   two-sided 0.0059  [-628.77, -105.79]   0.1829  3.083  \\\n",
       "\n",
       "        power  \n",
       "T-test 0.7862  "
      ]
     },
     "execution_count": 68,
     "metadata": {},
     "output_type": "execute_result"
    }
   ],
   "source": [
    "pg.ttest(x = sp1, y = sp3, correction = False)"
   ]
  },
  {
   "cell_type": "code",
   "execution_count": 69,
   "id": "9f0c0d19",
   "metadata": {},
   "outputs": [],
   "source": [
    "df1 = pd.read_csv('https://bit.ly/sample_ttest')"
   ]
  },
  {
   "cell_type": "code",
   "execution_count": 70,
   "id": "a7f0b1c8",
   "metadata": {},
   "outputs": [
    {
     "name": "stdout",
     "output_type": "stream",
     "text": [
      "<class 'pandas.core.frame.DataFrame'>\n",
      "RangeIndex: 30 entries, 0 to 29\n",
      "Data columns (total 3 columns):\n",
      " #   Column  Non-Null Count  Dtype  \n",
      "---  ------  --------------  -----  \n",
      " 0   id      30 non-null     int64  \n",
      " 1   before  30 non-null     float64\n",
      " 2   after   30 non-null     float64\n",
      "dtypes: float64(2), int64(1)\n",
      "memory usage: 852.0 bytes\n"
     ]
    }
   ],
   "source": [
    "df1.info()"
   ]
  },
  {
   "cell_type": "code",
   "execution_count": 72,
   "id": "692eb495",
   "metadata": {},
   "outputs": [
    {
     "data": {
      "text/html": [
       "<div>\n",
       "<style scoped>\n",
       "    .dataframe tbody tr th:only-of-type {\n",
       "        vertical-align: middle;\n",
       "    }\n",
       "\n",
       "    .dataframe tbody tr th {\n",
       "        vertical-align: top;\n",
       "    }\n",
       "\n",
       "    .dataframe thead th {\n",
       "        text-align: right;\n",
       "    }\n",
       "</style>\n",
       "<table border=\"1\" class=\"dataframe\">\n",
       "  <thead>\n",
       "    <tr style=\"text-align: right;\">\n",
       "      <th></th>\n",
       "      <th>id</th>\n",
       "      <th>before</th>\n",
       "      <th>after</th>\n",
       "    </tr>\n",
       "  </thead>\n",
       "  <tbody>\n",
       "    <tr>\n",
       "      <th>0</th>\n",
       "      <td>1</td>\n",
       "      <td>88.4096</td>\n",
       "      <td>89.0478</td>\n",
       "    </tr>\n",
       "    <tr>\n",
       "      <th>1</th>\n",
       "      <td>2</td>\n",
       "      <td>84.7401</td>\n",
       "      <td>83.7963</td>\n",
       "    </tr>\n",
       "    <tr>\n",
       "      <th>2</th>\n",
       "      <td>3</td>\n",
       "      <td>106.9252</td>\n",
       "      <td>105.7830</td>\n",
       "    </tr>\n",
       "    <tr>\n",
       "      <th>3</th>\n",
       "      <td>4</td>\n",
       "      <td>93.2767</td>\n",
       "      <td>89.9656</td>\n",
       "    </tr>\n",
       "    <tr>\n",
       "      <th>4</th>\n",
       "      <td>5</td>\n",
       "      <td>104.5756</td>\n",
       "      <td>103.4107</td>\n",
       "    </tr>\n",
       "  </tbody>\n",
       "</table>\n",
       "</div>"
      ],
      "text/plain": [
       "   id   before    after\n",
       "0   1  88.4096  89.0478\n",
       "1   2  84.7401  83.7963\n",
       "2   3 106.9252 105.7830\n",
       "3   4  93.2767  89.9656\n",
       "4   5 104.5756 103.4107"
      ]
     },
     "execution_count": 72,
     "metadata": {},
     "output_type": "execute_result"
    }
   ],
   "source": [
    "df1.head()"
   ]
  },
  {
   "cell_type": "code",
   "execution_count": 73,
   "id": "b6f6d84f",
   "metadata": {},
   "outputs": [
    {
     "data": {
      "text/html": [
       "<div>\n",
       "<style scoped>\n",
       "    .dataframe tbody tr th:only-of-type {\n",
       "        vertical-align: middle;\n",
       "    }\n",
       "\n",
       "    .dataframe tbody tr th {\n",
       "        vertical-align: top;\n",
       "    }\n",
       "\n",
       "    .dataframe thead th {\n",
       "        text-align: right;\n",
       "    }\n",
       "</style>\n",
       "<table border=\"1\" class=\"dataframe\">\n",
       "  <thead>\n",
       "    <tr style=\"text-align: right;\">\n",
       "      <th></th>\n",
       "      <th>id</th>\n",
       "      <th>before</th>\n",
       "      <th>after</th>\n",
       "    </tr>\n",
       "  </thead>\n",
       "  <tbody>\n",
       "    <tr>\n",
       "      <th>count</th>\n",
       "      <td>30.0000</td>\n",
       "      <td>30.0000</td>\n",
       "      <td>30.0000</td>\n",
       "    </tr>\n",
       "    <tr>\n",
       "      <th>mean</th>\n",
       "      <td>15.5000</td>\n",
       "      <td>86.3314</td>\n",
       "      <td>85.3251</td>\n",
       "    </tr>\n",
       "    <tr>\n",
       "      <th>std</th>\n",
       "      <td>8.8034</td>\n",
       "      <td>9.9181</td>\n",
       "      <td>9.7795</td>\n",
       "    </tr>\n",
       "    <tr>\n",
       "      <th>min</th>\n",
       "      <td>1.0000</td>\n",
       "      <td>67.5036</td>\n",
       "      <td>65.4629</td>\n",
       "    </tr>\n",
       "    <tr>\n",
       "      <th>25%</th>\n",
       "      <td>8.2500</td>\n",
       "      <td>80.1236</td>\n",
       "      <td>79.9981</td>\n",
       "    </tr>\n",
       "    <tr>\n",
       "      <th>50%</th>\n",
       "      <td>15.5000</td>\n",
       "      <td>86.6179</td>\n",
       "      <td>86.1490</td>\n",
       "    </tr>\n",
       "    <tr>\n",
       "      <th>75%</th>\n",
       "      <td>22.7500</td>\n",
       "      <td>91.6902</td>\n",
       "      <td>90.2599</td>\n",
       "    </tr>\n",
       "    <tr>\n",
       "      <th>max</th>\n",
       "      <td>30.0000</td>\n",
       "      <td>106.9252</td>\n",
       "      <td>105.7830</td>\n",
       "    </tr>\n",
       "  </tbody>\n",
       "</table>\n",
       "</div>"
      ],
      "text/plain": [
       "           id   before    after\n",
       "count 30.0000  30.0000  30.0000\n",
       "mean  15.5000  86.3314  85.3251\n",
       "std    8.8034   9.9181   9.7795\n",
       "min    1.0000  67.5036  65.4629\n",
       "25%    8.2500  80.1236  79.9981\n",
       "50%   15.5000  86.6179  86.1490\n",
       "75%   22.7500  91.6902  90.2599\n",
       "max   30.0000 106.9252 105.7830"
      ]
     },
     "execution_count": 73,
     "metadata": {},
     "output_type": "execute_result"
    }
   ],
   "source": [
    "df1.describe()"
   ]
  },
  {
   "cell_type": "code",
   "execution_count": 75,
   "id": "65ce75f9",
   "metadata": {},
   "outputs": [
    {
     "data": {
      "text/plain": [
       "0.9512473940849304"
      ]
     },
     "execution_count": 75,
     "metadata": {},
     "output_type": "execute_result"
    }
   ],
   "source": [
    "stats.shapiro(df1['before'])[1]"
   ]
  },
  {
   "cell_type": "code",
   "execution_count": 76,
   "id": "9c671d4e",
   "metadata": {},
   "outputs": [
    {
     "data": {
      "text/html": [
       "<div>\n",
       "<style scoped>\n",
       "    .dataframe tbody tr th:only-of-type {\n",
       "        vertical-align: middle;\n",
       "    }\n",
       "\n",
       "    .dataframe tbody tr th {\n",
       "        vertical-align: top;\n",
       "    }\n",
       "\n",
       "    .dataframe thead th {\n",
       "        text-align: right;\n",
       "    }\n",
       "</style>\n",
       "<table border=\"1\" class=\"dataframe\">\n",
       "  <thead>\n",
       "    <tr style=\"text-align: right;\">\n",
       "      <th></th>\n",
       "      <th>T</th>\n",
       "      <th>dof</th>\n",
       "      <th>alternative</th>\n",
       "      <th>p-val</th>\n",
       "      <th>CI95%</th>\n",
       "      <th>cohen-d</th>\n",
       "      <th>BF10</th>\n",
       "      <th>power</th>\n",
       "    </tr>\n",
       "  </thead>\n",
       "  <tbody>\n",
       "    <tr>\n",
       "      <th>T-test</th>\n",
       "      <td>-2.0260</td>\n",
       "      <td>29</td>\n",
       "      <td>two-sided</td>\n",
       "      <td>0.0521</td>\n",
       "      <td>[82.63, 90.03]</td>\n",
       "      <td>0.3699</td>\n",
       "      <td>1.159</td>\n",
       "      <td>0.4995</td>\n",
       "    </tr>\n",
       "  </tbody>\n",
       "</table>\n",
       "</div>"
      ],
      "text/plain": [
       "             T  dof alternative  p-val           CI95%  cohen-d   BF10  power\n",
       "T-test -2.0260   29   two-sided 0.0521  [82.63, 90.03]   0.3699  1.159 0.4995"
      ]
     },
     "execution_count": 76,
     "metadata": {},
     "output_type": "execute_result"
    }
   ],
   "source": [
    "pg.ttest(x = df1['before'], y = 90, alternative = 'two.sided')"
   ]
  },
  {
   "cell_type": "code",
   "execution_count": 77,
   "id": "8e5ec1f1",
   "metadata": {},
   "outputs": [
    {
     "data": {
      "text/html": [
       "<div>\n",
       "<style scoped>\n",
       "    .dataframe tbody tr th:only-of-type {\n",
       "        vertical-align: middle;\n",
       "    }\n",
       "\n",
       "    .dataframe tbody tr th {\n",
       "        vertical-align: top;\n",
       "    }\n",
       "\n",
       "    .dataframe thead th {\n",
       "        text-align: right;\n",
       "    }\n",
       "</style>\n",
       "<table border=\"1\" class=\"dataframe\">\n",
       "  <thead>\n",
       "    <tr style=\"text-align: right;\">\n",
       "      <th></th>\n",
       "      <th>T</th>\n",
       "      <th>dof</th>\n",
       "      <th>alternative</th>\n",
       "      <th>p-val</th>\n",
       "      <th>CI95%</th>\n",
       "      <th>cohen-d</th>\n",
       "      <th>BF10</th>\n",
       "      <th>power</th>\n",
       "    </tr>\n",
       "  </thead>\n",
       "  <tbody>\n",
       "    <tr>\n",
       "      <th>T-test</th>\n",
       "      <td>-2.0260</td>\n",
       "      <td>29</td>\n",
       "      <td>less</td>\n",
       "      <td>0.0260</td>\n",
       "      <td>[-inf, 89.41]</td>\n",
       "      <td>0.3699</td>\n",
       "      <td>2.318</td>\n",
       "      <td>0.6306</td>\n",
       "    </tr>\n",
       "  </tbody>\n",
       "</table>\n",
       "</div>"
      ],
      "text/plain": [
       "             T  dof alternative  p-val          CI95%  cohen-d   BF10  power\n",
       "T-test -2.0260   29        less 0.0260  [-inf, 89.41]   0.3699  2.318 0.6306"
      ]
     },
     "execution_count": 77,
     "metadata": {},
     "output_type": "execute_result"
    }
   ],
   "source": [
    "pg.ttest(x = df1['before'], y = 90, alternative = 'less')"
   ]
  },
  {
   "cell_type": "code",
   "execution_count": 78,
   "id": "adce72ef",
   "metadata": {},
   "outputs": [
    {
     "data": {
      "text/plain": [
       "id       0.2662\n",
       "before   0.9512\n",
       "after    0.9396\n",
       "dtype: float64"
      ]
     },
     "execution_count": 78,
     "metadata": {},
     "output_type": "execute_result"
    }
   ],
   "source": [
    "df1.apply(func = lambda x: stats.shapiro(x)[1])"
   ]
  },
  {
   "cell_type": "code",
   "execution_count": 79,
   "id": "858a41ac",
   "metadata": {},
   "outputs": [
    {
     "data": {
      "text/html": [
       "<div>\n",
       "<style scoped>\n",
       "    .dataframe tbody tr th:only-of-type {\n",
       "        vertical-align: middle;\n",
       "    }\n",
       "\n",
       "    .dataframe tbody tr th {\n",
       "        vertical-align: top;\n",
       "    }\n",
       "\n",
       "    .dataframe thead th {\n",
       "        text-align: right;\n",
       "    }\n",
       "</style>\n",
       "<table border=\"1\" class=\"dataframe\">\n",
       "  <thead>\n",
       "    <tr style=\"text-align: right;\">\n",
       "      <th></th>\n",
       "      <th>T</th>\n",
       "      <th>dof</th>\n",
       "      <th>alternative</th>\n",
       "      <th>p-val</th>\n",
       "      <th>CI95%</th>\n",
       "      <th>cohen-d</th>\n",
       "      <th>BF10</th>\n",
       "      <th>power</th>\n",
       "    </tr>\n",
       "  </thead>\n",
       "  <tbody>\n",
       "    <tr>\n",
       "      <th>T-test</th>\n",
       "      <td>5.5367</td>\n",
       "      <td>29</td>\n",
       "      <td>two-sided</td>\n",
       "      <td>0.0000</td>\n",
       "      <td>[0.63, 1.38]</td>\n",
       "      <td>0.1022</td>\n",
       "      <td>3529.131</td>\n",
       "      <td>0.0842</td>\n",
       "    </tr>\n",
       "  </tbody>\n",
       "</table>\n",
       "</div>"
      ],
      "text/plain": [
       "            T  dof alternative  p-val         CI95%  cohen-d      BF10  power\n",
       "T-test 5.5367   29   two-sided 0.0000  [0.63, 1.38]   0.1022  3529.131 0.0842"
      ]
     },
     "execution_count": 79,
     "metadata": {},
     "output_type": "execute_result"
    }
   ],
   "source": [
    "pg.ttest(x = df1['before'], y = df1['after'], paired = True)"
   ]
  },
  {
   "cell_type": "code",
   "execution_count": 80,
   "id": "2bb079c8",
   "metadata": {},
   "outputs": [
    {
     "data": {
      "text/html": [
       "<div>\n",
       "<style scoped>\n",
       "    .dataframe tbody tr th:only-of-type {\n",
       "        vertical-align: middle;\n",
       "    }\n",
       "\n",
       "    .dataframe tbody tr th {\n",
       "        vertical-align: top;\n",
       "    }\n",
       "\n",
       "    .dataframe thead th {\n",
       "        text-align: right;\n",
       "    }\n",
       "</style>\n",
       "<table border=\"1\" class=\"dataframe\">\n",
       "  <thead>\n",
       "    <tr style=\"text-align: right;\">\n",
       "      <th></th>\n",
       "      <th>T</th>\n",
       "      <th>dof</th>\n",
       "      <th>alternative</th>\n",
       "      <th>p-val</th>\n",
       "      <th>CI95%</th>\n",
       "      <th>cohen-d</th>\n",
       "      <th>BF10</th>\n",
       "      <th>power</th>\n",
       "    </tr>\n",
       "  </thead>\n",
       "  <tbody>\n",
       "    <tr>\n",
       "      <th>T-test</th>\n",
       "      <td>5.5367</td>\n",
       "      <td>29</td>\n",
       "      <td>greater</td>\n",
       "      <td>0.0000</td>\n",
       "      <td>[0.7, inf]</td>\n",
       "      <td>0.1022</td>\n",
       "      <td>7058.261</td>\n",
       "      <td>0.1361</td>\n",
       "    </tr>\n",
       "  </tbody>\n",
       "</table>\n",
       "</div>"
      ],
      "text/plain": [
       "            T  dof alternative  p-val       CI95%  cohen-d      BF10  power\n",
       "T-test 5.5367   29     greater 0.0000  [0.7, inf]   0.1022  7058.261 0.1361"
      ]
     },
     "execution_count": 80,
     "metadata": {},
     "output_type": "execute_result"
    }
   ],
   "source": [
    "pg.ttest(x = df1['before'], y = df1['after'], paired = True, alternative = 'greater')"
   ]
  },
  {
   "cell_type": "code",
   "execution_count": 82,
   "id": "a0fb79c4",
   "metadata": {},
   "outputs": [
    {
     "data": {
      "text/html": [
       "<div>\n",
       "<style scoped>\n",
       "    .dataframe tbody tr th:only-of-type {\n",
       "        vertical-align: middle;\n",
       "    }\n",
       "\n",
       "    .dataframe tbody tr th {\n",
       "        vertical-align: top;\n",
       "    }\n",
       "\n",
       "    .dataframe thead th {\n",
       "        text-align: right;\n",
       "    }\n",
       "</style>\n",
       "<table border=\"1\" class=\"dataframe\">\n",
       "  <thead>\n",
       "    <tr style=\"text-align: right;\">\n",
       "      <th></th>\n",
       "      <th>id</th>\n",
       "      <th>variable</th>\n",
       "      <th>value</th>\n",
       "    </tr>\n",
       "  </thead>\n",
       "  <tbody>\n",
       "    <tr>\n",
       "      <th>0</th>\n",
       "      <td>1</td>\n",
       "      <td>before</td>\n",
       "      <td>88.4096</td>\n",
       "    </tr>\n",
       "    <tr>\n",
       "      <th>1</th>\n",
       "      <td>2</td>\n",
       "      <td>before</td>\n",
       "      <td>84.7401</td>\n",
       "    </tr>\n",
       "    <tr>\n",
       "      <th>2</th>\n",
       "      <td>3</td>\n",
       "      <td>before</td>\n",
       "      <td>106.9252</td>\n",
       "    </tr>\n",
       "    <tr>\n",
       "      <th>3</th>\n",
       "      <td>4</td>\n",
       "      <td>before</td>\n",
       "      <td>93.2767</td>\n",
       "    </tr>\n",
       "    <tr>\n",
       "      <th>4</th>\n",
       "      <td>5</td>\n",
       "      <td>before</td>\n",
       "      <td>104.5756</td>\n",
       "    </tr>\n",
       "  </tbody>\n",
       "</table>\n",
       "</div>"
      ],
      "text/plain": [
       "   id variable    value\n",
       "0   1   before  88.4096\n",
       "1   2   before  84.7401\n",
       "2   3   before 106.9252\n",
       "3   4   before  93.2767\n",
       "4   5   before 104.5756"
      ]
     },
     "execution_count": 82,
     "metadata": {},
     "output_type": "execute_result"
    }
   ],
   "source": [
    "df2 = df1.melt(id_vars = 'id')\n",
    "df2.head()"
   ]
  },
  {
   "cell_type": "code",
   "execution_count": 83,
   "id": "e6d70c37",
   "metadata": {},
   "outputs": [
    {
     "data": {
      "text/html": [
       "<div>\n",
       "<style scoped>\n",
       "    .dataframe tbody tr th:only-of-type {\n",
       "        vertical-align: middle;\n",
       "    }\n",
       "\n",
       "    .dataframe tbody tr th {\n",
       "        vertical-align: top;\n",
       "    }\n",
       "\n",
       "    .dataframe thead th {\n",
       "        text-align: right;\n",
       "    }\n",
       "</style>\n",
       "<table border=\"1\" class=\"dataframe\">\n",
       "  <thead>\n",
       "    <tr style=\"text-align: right;\">\n",
       "      <th></th>\n",
       "      <th>W</th>\n",
       "      <th>pval</th>\n",
       "      <th>normal</th>\n",
       "    </tr>\n",
       "    <tr>\n",
       "      <th>variable</th>\n",
       "      <th></th>\n",
       "      <th></th>\n",
       "      <th></th>\n",
       "    </tr>\n",
       "  </thead>\n",
       "  <tbody>\n",
       "    <tr>\n",
       "      <th>before</th>\n",
       "      <td>0.9859</td>\n",
       "      <td>0.9512</td>\n",
       "      <td>True</td>\n",
       "    </tr>\n",
       "    <tr>\n",
       "      <th>after</th>\n",
       "      <td>0.9851</td>\n",
       "      <td>0.9396</td>\n",
       "      <td>True</td>\n",
       "    </tr>\n",
       "  </tbody>\n",
       "</table>\n",
       "</div>"
      ],
      "text/plain": [
       "              W   pval  normal\n",
       "variable                      \n",
       "before   0.9859 0.9512    True\n",
       "after    0.9851 0.9396    True"
      ]
     },
     "execution_count": 83,
     "metadata": {},
     "output_type": "execute_result"
    }
   ],
   "source": [
    "pg.normality(data = df2, dv = 'value', group = 'variable')"
   ]
  },
  {
   "cell_type": "code",
   "execution_count": 84,
   "id": "ff5c844b",
   "metadata": {},
   "outputs": [
    {
     "data": {
      "text/html": [
       "<div>\n",
       "<style scoped>\n",
       "    .dataframe tbody tr th:only-of-type {\n",
       "        vertical-align: middle;\n",
       "    }\n",
       "\n",
       "    .dataframe tbody tr th {\n",
       "        vertical-align: top;\n",
       "    }\n",
       "\n",
       "    .dataframe thead th {\n",
       "        text-align: right;\n",
       "    }\n",
       "</style>\n",
       "<table border=\"1\" class=\"dataframe\">\n",
       "  <thead>\n",
       "    <tr style=\"text-align: right;\">\n",
       "      <th></th>\n",
       "      <th>W</th>\n",
       "      <th>pval</th>\n",
       "      <th>normal</th>\n",
       "    </tr>\n",
       "    <tr>\n",
       "      <th>FuelType</th>\n",
       "      <th></th>\n",
       "      <th></th>\n",
       "      <th></th>\n",
       "    </tr>\n",
       "  </thead>\n",
       "  <tbody>\n",
       "    <tr>\n",
       "      <th>Diesel</th>\n",
       "      <td>0.9560</td>\n",
       "      <td>0.0004</td>\n",
       "      <td>False</td>\n",
       "    </tr>\n",
       "    <tr>\n",
       "      <th>Petrol</th>\n",
       "      <td>0.9782</td>\n",
       "      <td>0.0000</td>\n",
       "      <td>False</td>\n",
       "    </tr>\n",
       "    <tr>\n",
       "      <th>CNG</th>\n",
       "      <td>0.9524</td>\n",
       "      <td>0.4957</td>\n",
       "      <td>True</td>\n",
       "    </tr>\n",
       "  </tbody>\n",
       "</table>\n",
       "</div>"
      ],
      "text/plain": [
       "              W   pval  normal\n",
       "FuelType                      \n",
       "Diesel   0.9560 0.0004   False\n",
       "Petrol   0.9782 0.0000   False\n",
       "CNG      0.9524 0.4957    True"
      ]
     },
     "execution_count": 84,
     "metadata": {},
     "output_type": "execute_result"
    }
   ],
   "source": [
    "pg.normality(data = df, dv = 'Price', group = 'FuelType')"
   ]
  },
  {
   "cell_type": "code",
   "execution_count": 85,
   "id": "c6f95d0c",
   "metadata": {},
   "outputs": [
    {
     "data": {
      "text/html": [
       "<div>\n",
       "<style scoped>\n",
       "    .dataframe tbody tr th:only-of-type {\n",
       "        vertical-align: middle;\n",
       "    }\n",
       "\n",
       "    .dataframe tbody tr th {\n",
       "        vertical-align: top;\n",
       "    }\n",
       "\n",
       "    .dataframe thead th {\n",
       "        text-align: right;\n",
       "    }\n",
       "</style>\n",
       "<table border=\"1\" class=\"dataframe\">\n",
       "  <thead>\n",
       "    <tr style=\"text-align: right;\">\n",
       "      <th></th>\n",
       "      <th>W</th>\n",
       "      <th>pval</th>\n",
       "      <th>equal_var</th>\n",
       "    </tr>\n",
       "  </thead>\n",
       "  <tbody>\n",
       "    <tr>\n",
       "      <th>levene</th>\n",
       "      <td>6.4979</td>\n",
       "      <td>0.0016</td>\n",
       "      <td>False</td>\n",
       "    </tr>\n",
       "  </tbody>\n",
       "</table>\n",
       "</div>"
      ],
      "text/plain": [
       "            W   pval  equal_var\n",
       "levene 6.4979 0.0016      False"
      ]
     },
     "execution_count": 85,
     "metadata": {},
     "output_type": "execute_result"
    }
   ],
   "source": [
    "pg.homoscedasticity(data = df, dv = 'Price', group = 'FuelType')"
   ]
  },
  {
   "cell_type": "code",
   "execution_count": 86,
   "id": "8f68cf85",
   "metadata": {},
   "outputs": [
    {
     "data": {
      "text/html": [
       "<div>\n",
       "<style scoped>\n",
       "    .dataframe tbody tr th:only-of-type {\n",
       "        vertical-align: middle;\n",
       "    }\n",
       "\n",
       "    .dataframe tbody tr th {\n",
       "        vertical-align: top;\n",
       "    }\n",
       "\n",
       "    .dataframe thead th {\n",
       "        text-align: right;\n",
       "    }\n",
       "</style>\n",
       "<table border=\"1\" class=\"dataframe\">\n",
       "  <thead>\n",
       "    <tr style=\"text-align: right;\">\n",
       "      <th></th>\n",
       "      <th>Source</th>\n",
       "      <th>ddof1</th>\n",
       "      <th>ddof2</th>\n",
       "      <th>F</th>\n",
       "      <th>p-unc</th>\n",
       "      <th>np2</th>\n",
       "    </tr>\n",
       "  </thead>\n",
       "  <tbody>\n",
       "    <tr>\n",
       "      <th>0</th>\n",
       "      <td>FuelType</td>\n",
       "      <td>2</td>\n",
       "      <td>1265</td>\n",
       "      <td>3.9827</td>\n",
       "      <td>0.0189</td>\n",
       "      <td>0.0063</td>\n",
       "    </tr>\n",
       "  </tbody>\n",
       "</table>\n",
       "</div>"
      ],
      "text/plain": [
       "     Source  ddof1  ddof2      F  p-unc    np2\n",
       "0  FuelType      2   1265 3.9827 0.0189 0.0063"
      ]
     },
     "execution_count": 86,
     "metadata": {},
     "output_type": "execute_result"
    }
   ],
   "source": [
    "pg.anova(data = df, dv = 'Price', between = 'FuelType')"
   ]
  },
  {
   "cell_type": "code",
   "execution_count": 87,
   "id": "98d20b62",
   "metadata": {},
   "outputs": [
    {
     "data": {
      "text/html": [
       "<div>\n",
       "<style scoped>\n",
       "    .dataframe tbody tr th:only-of-type {\n",
       "        vertical-align: middle;\n",
       "    }\n",
       "\n",
       "    .dataframe tbody tr th {\n",
       "        vertical-align: top;\n",
       "    }\n",
       "\n",
       "    .dataframe thead th {\n",
       "        text-align: right;\n",
       "    }\n",
       "</style>\n",
       "<table border=\"1\" class=\"dataframe\">\n",
       "  <thead>\n",
       "    <tr style=\"text-align: right;\">\n",
       "      <th></th>\n",
       "      <th>Source</th>\n",
       "      <th>ddof1</th>\n",
       "      <th>ddof2</th>\n",
       "      <th>F</th>\n",
       "      <th>p-unc</th>\n",
       "      <th>np2</th>\n",
       "    </tr>\n",
       "  </thead>\n",
       "  <tbody>\n",
       "    <tr>\n",
       "      <th>0</th>\n",
       "      <td>FuelType</td>\n",
       "      <td>2</td>\n",
       "      <td>38.9415</td>\n",
       "      <td>2.6120</td>\n",
       "      <td>0.0862</td>\n",
       "      <td>0.0063</td>\n",
       "    </tr>\n",
       "  </tbody>\n",
       "</table>\n",
       "</div>"
      ],
      "text/plain": [
       "     Source  ddof1   ddof2      F  p-unc    np2\n",
       "0  FuelType      2 38.9415 2.6120 0.0862 0.0063"
      ]
     },
     "execution_count": 87,
     "metadata": {},
     "output_type": "execute_result"
    }
   ],
   "source": [
    "pg.welch_anova(data = df, dv = 'Price', between = 'FuelType')"
   ]
  },
  {
   "cell_type": "code",
   "execution_count": 88,
   "id": "e2705d5f",
   "metadata": {},
   "outputs": [
    {
     "data": {
      "text/plain": [
       "FuelType\n",
       "CNG         17\n",
       "Diesel     126\n",
       "Petrol    1125\n",
       "Name: count, dtype: int64"
      ]
     },
     "execution_count": 88,
     "metadata": {},
     "output_type": "execute_result"
    }
   ],
   "source": [
    "df['FuelType'].value_counts().sort_index()"
   ]
  },
  {
   "cell_type": "code",
   "execution_count": 89,
   "id": "2ddfce36",
   "metadata": {},
   "outputs": [
    {
     "data": {
      "text/html": [
       "<div>\n",
       "<style scoped>\n",
       "    .dataframe tbody tr th:only-of-type {\n",
       "        vertical-align: middle;\n",
       "    }\n",
       "\n",
       "    .dataframe tbody tr th {\n",
       "        vertical-align: top;\n",
       "    }\n",
       "\n",
       "    .dataframe thead th {\n",
       "        text-align: right;\n",
       "    }\n",
       "</style>\n",
       "<table border=\"1\" class=\"dataframe\">\n",
       "  <thead>\n",
       "    <tr style=\"text-align: right;\">\n",
       "      <th></th>\n",
       "      <th>Source</th>\n",
       "      <th>ddof1</th>\n",
       "      <th>H</th>\n",
       "      <th>p-unc</th>\n",
       "    </tr>\n",
       "  </thead>\n",
       "  <tbody>\n",
       "    <tr>\n",
       "      <th>Kruskal</th>\n",
       "      <td>FuelType</td>\n",
       "      <td>2</td>\n",
       "      <td>10.4747</td>\n",
       "      <td>0.0053</td>\n",
       "    </tr>\n",
       "  </tbody>\n",
       "</table>\n",
       "</div>"
      ],
      "text/plain": [
       "           Source  ddof1       H  p-unc\n",
       "Kruskal  FuelType      2 10.4747 0.0053"
      ]
     },
     "execution_count": 89,
     "metadata": {},
     "output_type": "execute_result"
    }
   ],
   "source": [
    "pg.kruskal(data = df, dv = 'Price', between = 'FuelType')"
   ]
  },
  {
   "cell_type": "raw",
   "id": "8a5ed17b",
   "metadata": {},
   "source": [
    "!pip install scikit-posthocs"
   ]
  },
  {
   "cell_type": "code",
   "execution_count": 90,
   "id": "8cf73de7",
   "metadata": {},
   "outputs": [],
   "source": [
    "import scikit_posthocs as sp"
   ]
  },
  {
   "cell_type": "code",
   "execution_count": 91,
   "id": "775e8464",
   "metadata": {},
   "outputs": [
    {
     "data": {
      "text/html": [
       "<div>\n",
       "<style scoped>\n",
       "    .dataframe tbody tr th:only-of-type {\n",
       "        vertical-align: middle;\n",
       "    }\n",
       "\n",
       "    .dataframe tbody tr th {\n",
       "        vertical-align: top;\n",
       "    }\n",
       "\n",
       "    .dataframe thead th {\n",
       "        text-align: right;\n",
       "    }\n",
       "</style>\n",
       "<table border=\"1\" class=\"dataframe\">\n",
       "  <thead>\n",
       "    <tr style=\"text-align: right;\">\n",
       "      <th></th>\n",
       "      <th>Diesel</th>\n",
       "      <th>Petrol</th>\n",
       "      <th>CNG</th>\n",
       "    </tr>\n",
       "  </thead>\n",
       "  <tbody>\n",
       "    <tr>\n",
       "      <th>Diesel</th>\n",
       "      <td>1.0000</td>\n",
       "      <td>0.0159</td>\n",
       "      <td>0.9000</td>\n",
       "    </tr>\n",
       "    <tr>\n",
       "      <th>Petrol</th>\n",
       "      <td>0.0159</td>\n",
       "      <td>1.0000</td>\n",
       "      <td>0.7593</td>\n",
       "    </tr>\n",
       "    <tr>\n",
       "      <th>CNG</th>\n",
       "      <td>0.9000</td>\n",
       "      <td>0.7593</td>\n",
       "      <td>1.0000</td>\n",
       "    </tr>\n",
       "  </tbody>\n",
       "</table>\n",
       "</div>"
      ],
      "text/plain": [
       "        Diesel  Petrol    CNG\n",
       "Diesel  1.0000  0.0159 0.9000\n",
       "Petrol  0.0159  1.0000 0.7593\n",
       "CNG     0.9000  0.7593 1.0000"
      ]
     },
     "execution_count": 91,
     "metadata": {},
     "output_type": "execute_result"
    }
   ],
   "source": [
    "sp.posthoc_tukey(a = df, val_col = 'Price', group_col = 'FuelType')"
   ]
  },
  {
   "cell_type": "code",
   "execution_count": 93,
   "id": "d9ef5c0f",
   "metadata": {},
   "outputs": [
    {
     "data": {
      "text/html": [
       "<div>\n",
       "<style scoped>\n",
       "    .dataframe tbody tr th:only-of-type {\n",
       "        vertical-align: middle;\n",
       "    }\n",
       "\n",
       "    .dataframe tbody tr th {\n",
       "        vertical-align: top;\n",
       "    }\n",
       "\n",
       "    .dataframe thead th {\n",
       "        text-align: right;\n",
       "    }\n",
       "</style>\n",
       "<table border=\"1\" class=\"dataframe\">\n",
       "  <thead>\n",
       "    <tr style=\"text-align: right;\">\n",
       "      <th></th>\n",
       "      <th>CNG</th>\n",
       "      <th>Diesel</th>\n",
       "      <th>Petrol</th>\n",
       "    </tr>\n",
       "  </thead>\n",
       "  <tbody>\n",
       "    <tr>\n",
       "      <th>CNG</th>\n",
       "      <td>1</td>\n",
       "      <td>0</td>\n",
       "      <td>0</td>\n",
       "    </tr>\n",
       "    <tr>\n",
       "      <th>Diesel</th>\n",
       "      <td>0</td>\n",
       "      <td>1</td>\n",
       "      <td>1</td>\n",
       "    </tr>\n",
       "    <tr>\n",
       "      <th>Petrol</th>\n",
       "      <td>0</td>\n",
       "      <td>1</td>\n",
       "      <td>1</td>\n",
       "    </tr>\n",
       "  </tbody>\n",
       "</table>\n",
       "</div>"
      ],
      "text/plain": [
       "        CNG  Diesel  Petrol\n",
       "CNG       1       0       0\n",
       "Diesel    0       1       1\n",
       "Petrol    0       1       1"
      ]
     },
     "execution_count": 93,
     "metadata": {},
     "output_type": "execute_result"
    }
   ],
   "source": [
    "sp.posthoc_tukey_hsd(x = df['Price'], g = df['FuelType'])"
   ]
  },
  {
   "cell_type": "code",
   "execution_count": 94,
   "id": "a2f8a925",
   "metadata": {},
   "outputs": [
    {
     "data": {
      "text/html": [
       "<div>\n",
       "<style scoped>\n",
       "    .dataframe tbody tr th:only-of-type {\n",
       "        vertical-align: middle;\n",
       "    }\n",
       "\n",
       "    .dataframe tbody tr th {\n",
       "        vertical-align: top;\n",
       "    }\n",
       "\n",
       "    .dataframe thead th {\n",
       "        text-align: right;\n",
       "    }\n",
       "</style>\n",
       "<table border=\"1\" class=\"dataframe\">\n",
       "  <thead>\n",
       "    <tr style=\"text-align: right;\">\n",
       "      <th></th>\n",
       "      <th>Diesel</th>\n",
       "      <th>Petrol</th>\n",
       "      <th>CNG</th>\n",
       "    </tr>\n",
       "  </thead>\n",
       "  <tbody>\n",
       "    <tr>\n",
       "      <th>Diesel</th>\n",
       "      <td>1.0000</td>\n",
       "      <td>0.0221</td>\n",
       "      <td>0.9339</td>\n",
       "    </tr>\n",
       "    <tr>\n",
       "      <th>Petrol</th>\n",
       "      <td>0.0221</td>\n",
       "      <td>1.0000</td>\n",
       "      <td>0.7980</td>\n",
       "    </tr>\n",
       "    <tr>\n",
       "      <th>CNG</th>\n",
       "      <td>0.9339</td>\n",
       "      <td>0.7980</td>\n",
       "      <td>1.0000</td>\n",
       "    </tr>\n",
       "  </tbody>\n",
       "</table>\n",
       "</div>"
      ],
      "text/plain": [
       "        Diesel  Petrol    CNG\n",
       "Diesel  1.0000  0.0221 0.9339\n",
       "Petrol  0.0221  1.0000 0.7980\n",
       "CNG     0.9339  0.7980 1.0000"
      ]
     },
     "execution_count": 94,
     "metadata": {},
     "output_type": "execute_result"
    }
   ],
   "source": [
    "sp.posthoc_scheffe(a = df, val_col = 'Price', group_col = 'FuelType')"
   ]
  },
  {
   "cell_type": "code",
   "execution_count": 95,
   "id": "a575de1d",
   "metadata": {},
   "outputs": [
    {
     "data": {
      "text/html": [
       "<div>\n",
       "<style scoped>\n",
       "    .dataframe tbody tr th:only-of-type {\n",
       "        vertical-align: middle;\n",
       "    }\n",
       "\n",
       "    .dataframe tbody tr th {\n",
       "        vertical-align: top;\n",
       "    }\n",
       "\n",
       "    .dataframe thead th {\n",
       "        text-align: right;\n",
       "    }\n",
       "</style>\n",
       "<table border=\"1\" class=\"dataframe\">\n",
       "  <thead>\n",
       "    <tr style=\"text-align: right;\">\n",
       "      <th></th>\n",
       "      <th>Diesel</th>\n",
       "      <th>Petrol</th>\n",
       "      <th>CNG</th>\n",
       "    </tr>\n",
       "  </thead>\n",
       "  <tbody>\n",
       "    <tr>\n",
       "      <th>Diesel</th>\n",
       "      <td>1.0000</td>\n",
       "      <td>0.0757</td>\n",
       "      <td>0.9874</td>\n",
       "    </tr>\n",
       "    <tr>\n",
       "      <th>Petrol</th>\n",
       "      <td>0.0757</td>\n",
       "      <td>1.0000</td>\n",
       "      <td>0.9318</td>\n",
       "    </tr>\n",
       "    <tr>\n",
       "      <th>CNG</th>\n",
       "      <td>0.9874</td>\n",
       "      <td>0.9318</td>\n",
       "      <td>1.0000</td>\n",
       "    </tr>\n",
       "  </tbody>\n",
       "</table>\n",
       "</div>"
      ],
      "text/plain": [
       "        Diesel  Petrol    CNG\n",
       "Diesel  1.0000  0.0757 0.9874\n",
       "Petrol  0.0757  1.0000 0.9318\n",
       "CNG     0.9874  0.9318 1.0000"
      ]
     },
     "execution_count": 95,
     "metadata": {},
     "output_type": "execute_result"
    }
   ],
   "source": [
    "sp.posthoc_tamhane(a = df, val_col = 'Price', group_col = 'FuelType')"
   ]
  },
  {
   "cell_type": "code",
   "execution_count": 96,
   "id": "03dcf5cc",
   "metadata": {},
   "outputs": [
    {
     "data": {
      "text/html": [
       "<div>\n",
       "<style scoped>\n",
       "    .dataframe tbody tr th:only-of-type {\n",
       "        vertical-align: middle;\n",
       "    }\n",
       "\n",
       "    .dataframe tbody tr th {\n",
       "        vertical-align: top;\n",
       "    }\n",
       "\n",
       "    .dataframe thead th {\n",
       "        text-align: right;\n",
       "    }\n",
       "</style>\n",
       "<table border=\"1\" class=\"dataframe\">\n",
       "  <thead>\n",
       "    <tr style=\"text-align: right;\">\n",
       "      <th></th>\n",
       "      <th>CNG</th>\n",
       "      <th>Diesel</th>\n",
       "      <th>Petrol</th>\n",
       "    </tr>\n",
       "  </thead>\n",
       "  <tbody>\n",
       "    <tr>\n",
       "      <th>CNG</th>\n",
       "      <td>1.0000</td>\n",
       "      <td>0.9543</td>\n",
       "      <td>0.6756</td>\n",
       "    </tr>\n",
       "    <tr>\n",
       "      <th>Diesel</th>\n",
       "      <td>0.9543</td>\n",
       "      <td>1.0000</td>\n",
       "      <td>0.0071</td>\n",
       "    </tr>\n",
       "    <tr>\n",
       "      <th>Petrol</th>\n",
       "      <td>0.6756</td>\n",
       "      <td>0.0071</td>\n",
       "      <td>1.0000</td>\n",
       "    </tr>\n",
       "  </tbody>\n",
       "</table>\n",
       "</div>"
      ],
      "text/plain": [
       "          CNG  Diesel  Petrol\n",
       "CNG    1.0000  0.9543  0.6756\n",
       "Diesel 0.9543  1.0000  0.0071\n",
       "Petrol 0.6756  0.0071  1.0000"
      ]
     },
     "execution_count": 96,
     "metadata": {},
     "output_type": "execute_result"
    }
   ],
   "source": [
    "sp.posthoc_nemenyi(a = df, val_col = 'Price', group_col = 'FuelType')"
   ]
  },
  {
   "cell_type": "code",
   "execution_count": 97,
   "id": "c80619f0",
   "metadata": {},
   "outputs": [],
   "source": [
    "df2 = df[df['FuelType'].ne('CNG')]"
   ]
  },
  {
   "cell_type": "code",
   "execution_count": 98,
   "id": "0579dba9",
   "metadata": {},
   "outputs": [
    {
     "data": {
      "text/html": [
       "<div>\n",
       "<style scoped>\n",
       "    .dataframe tbody tr th:only-of-type {\n",
       "        vertical-align: middle;\n",
       "    }\n",
       "\n",
       "    .dataframe tbody tr th {\n",
       "        vertical-align: top;\n",
       "    }\n",
       "\n",
       "    .dataframe thead th {\n",
       "        text-align: right;\n",
       "    }\n",
       "</style>\n",
       "<table border=\"1\" class=\"dataframe\">\n",
       "  <thead>\n",
       "    <tr style=\"text-align: right;\">\n",
       "      <th></th>\n",
       "      <th>W</th>\n",
       "      <th>pval</th>\n",
       "      <th>equal_var</th>\n",
       "    </tr>\n",
       "  </thead>\n",
       "  <tbody>\n",
       "    <tr>\n",
       "      <th>levene</th>\n",
       "      <td>12.3698</td>\n",
       "      <td>0.0005</td>\n",
       "      <td>False</td>\n",
       "    </tr>\n",
       "  </tbody>\n",
       "</table>\n",
       "</div>"
      ],
      "text/plain": [
       "             W   pval  equal_var\n",
       "levene 12.3698 0.0005      False"
      ]
     },
     "execution_count": 98,
     "metadata": {},
     "output_type": "execute_result"
    }
   ],
   "source": [
    "pg.homoscedasticity(data = df2, dv = 'Price', group = 'FuelType')"
   ]
  },
  {
   "cell_type": "code",
   "execution_count": 100,
   "id": "cfdff85b",
   "metadata": {},
   "outputs": [],
   "source": [
    "sp1 = df2['Price'][df2['FuelType'].eq('Diesel')]\n",
    "sp2 = df2['Price'][df2['FuelType'].eq('Petrol')]"
   ]
  },
  {
   "cell_type": "code",
   "execution_count": 101,
   "id": "24ce076b",
   "metadata": {
    "collapsed": true
   },
   "outputs": [
    {
     "name": "stdout",
     "output_type": "stream",
     "text": [
      "9227.70634920635\n",
      "9753.56088888889\n"
     ]
    }
   ],
   "source": [
    "print(sp1.mean())\n",
    "print(sp2.mean())"
   ]
  },
  {
   "cell_type": "code",
   "execution_count": 102,
   "id": "a7883a68",
   "metadata": {},
   "outputs": [
    {
     "data": {
      "text/html": [
       "<div>\n",
       "<style scoped>\n",
       "    .dataframe tbody tr th:only-of-type {\n",
       "        vertical-align: middle;\n",
       "    }\n",
       "\n",
       "    .dataframe tbody tr th {\n",
       "        vertical-align: top;\n",
       "    }\n",
       "\n",
       "    .dataframe thead th {\n",
       "        text-align: right;\n",
       "    }\n",
       "</style>\n",
       "<table border=\"1\" class=\"dataframe\">\n",
       "  <thead>\n",
       "    <tr style=\"text-align: right;\">\n",
       "      <th></th>\n",
       "      <th>T</th>\n",
       "      <th>dof</th>\n",
       "      <th>alternative</th>\n",
       "      <th>p-val</th>\n",
       "      <th>CI95%</th>\n",
       "      <th>cohen-d</th>\n",
       "      <th>BF10</th>\n",
       "      <th>power</th>\n",
       "    </tr>\n",
       "  </thead>\n",
       "  <tbody>\n",
       "    <tr>\n",
       "      <th>T-test</th>\n",
       "      <td>-2.2516</td>\n",
       "      <td>142.0118</td>\n",
       "      <td>two-sided</td>\n",
       "      <td>0.0259</td>\n",
       "      <td>[-987.54, -64.17]</td>\n",
       "      <td>0.2606</td>\n",
       "      <td>1.21</td>\n",
       "      <td>0.7917</td>\n",
       "    </tr>\n",
       "  </tbody>\n",
       "</table>\n",
       "</div>"
      ],
      "text/plain": [
       "             T      dof alternative  p-val              CI95%  cohen-d  BF10   \n",
       "T-test -2.2516 142.0118   two-sided 0.0259  [-987.54, -64.17]   0.2606  1.21  \\\n",
       "\n",
       "        power  \n",
       "T-test 0.7917  "
      ]
     },
     "execution_count": 102,
     "metadata": {},
     "output_type": "execute_result"
    }
   ],
   "source": [
    "pg.ttest(x = sp1, y = sp2, correction = True)"
   ]
  },
  {
   "cell_type": "code",
   "execution_count": 103,
   "id": "962862d9",
   "metadata": {},
   "outputs": [],
   "source": [
    "df2 = pd.read_csv('https://bit.ly/sample_cross')"
   ]
  },
  {
   "cell_type": "code",
   "execution_count": 104,
   "id": "2a1a31ae",
   "metadata": {},
   "outputs": [
    {
     "name": "stdout",
     "output_type": "stream",
     "text": [
      "<class 'pandas.core.frame.DataFrame'>\n",
      "RangeIndex: 1000 entries, 0 to 999\n",
      "Data columns (total 2 columns):\n",
      " #   Column    Non-Null Count  Dtype \n",
      "---  ------    --------------  ----- \n",
      " 0   Coupon    1000 non-null   object\n",
      " 1   Purchase  1000 non-null   object\n",
      "dtypes: object(2)\n",
      "memory usage: 15.8+ KB\n"
     ]
    }
   ],
   "source": [
    "df2.info()"
   ]
  },
  {
   "cell_type": "code",
   "execution_count": 105,
   "id": "97a128d7",
   "metadata": {},
   "outputs": [
    {
     "data": {
      "text/html": [
       "<div>\n",
       "<style scoped>\n",
       "    .dataframe tbody tr th:only-of-type {\n",
       "        vertical-align: middle;\n",
       "    }\n",
       "\n",
       "    .dataframe tbody tr th {\n",
       "        vertical-align: top;\n",
       "    }\n",
       "\n",
       "    .dataframe thead th {\n",
       "        text-align: right;\n",
       "    }\n",
       "</style>\n",
       "<table border=\"1\" class=\"dataframe\">\n",
       "  <thead>\n",
       "    <tr style=\"text-align: right;\">\n",
       "      <th></th>\n",
       "      <th>Coupon</th>\n",
       "      <th>Purchase</th>\n",
       "    </tr>\n",
       "  </thead>\n",
       "  <tbody>\n",
       "    <tr>\n",
       "      <th>0</th>\n",
       "      <td>발송함</td>\n",
       "      <td>구매안함</td>\n",
       "    </tr>\n",
       "    <tr>\n",
       "      <th>1</th>\n",
       "      <td>발송안함</td>\n",
       "      <td>구매안함</td>\n",
       "    </tr>\n",
       "    <tr>\n",
       "      <th>2</th>\n",
       "      <td>발송함</td>\n",
       "      <td>구매안함</td>\n",
       "    </tr>\n",
       "    <tr>\n",
       "      <th>3</th>\n",
       "      <td>발송안함</td>\n",
       "      <td>구매안함</td>\n",
       "    </tr>\n",
       "    <tr>\n",
       "      <th>4</th>\n",
       "      <td>발송함</td>\n",
       "      <td>구매안함</td>\n",
       "    </tr>\n",
       "  </tbody>\n",
       "</table>\n",
       "</div>"
      ],
      "text/plain": [
       "  Coupon Purchase\n",
       "0    발송함     구매안함\n",
       "1   발송안함     구매안함\n",
       "2    발송함     구매안함\n",
       "3   발송안함     구매안함\n",
       "4    발송함     구매안함"
      ]
     },
     "execution_count": 105,
     "metadata": {},
     "output_type": "execute_result"
    }
   ],
   "source": [
    "df2.head()"
   ]
  },
  {
   "cell_type": "code",
   "execution_count": 106,
   "id": "f71af201",
   "metadata": {},
   "outputs": [
    {
     "data": {
      "text/html": [
       "<div>\n",
       "<style scoped>\n",
       "    .dataframe tbody tr th:only-of-type {\n",
       "        vertical-align: middle;\n",
       "    }\n",
       "\n",
       "    .dataframe tbody tr th {\n",
       "        vertical-align: top;\n",
       "    }\n",
       "\n",
       "    .dataframe thead th {\n",
       "        text-align: right;\n",
       "    }\n",
       "</style>\n",
       "<table border=\"1\" class=\"dataframe\">\n",
       "  <thead>\n",
       "    <tr style=\"text-align: right;\">\n",
       "      <th></th>\n",
       "      <th>Coupon</th>\n",
       "      <th>Purchase</th>\n",
       "    </tr>\n",
       "  </thead>\n",
       "  <tbody>\n",
       "    <tr>\n",
       "      <th>count</th>\n",
       "      <td>1000</td>\n",
       "      <td>1000</td>\n",
       "    </tr>\n",
       "    <tr>\n",
       "      <th>unique</th>\n",
       "      <td>2</td>\n",
       "      <td>2</td>\n",
       "    </tr>\n",
       "    <tr>\n",
       "      <th>top</th>\n",
       "      <td>발송함</td>\n",
       "      <td>구매안함</td>\n",
       "    </tr>\n",
       "    <tr>\n",
       "      <th>freq</th>\n",
       "      <td>500</td>\n",
       "      <td>900</td>\n",
       "    </tr>\n",
       "  </tbody>\n",
       "</table>\n",
       "</div>"
      ],
      "text/plain": [
       "       Coupon Purchase\n",
       "count    1000     1000\n",
       "unique      2        2\n",
       "top       발송함     구매안함\n",
       "freq      500      900"
      ]
     },
     "execution_count": 106,
     "metadata": {},
     "output_type": "execute_result"
    }
   ],
   "source": [
    "df2.describe(include = object)"
   ]
  },
  {
   "cell_type": "code",
   "execution_count": 111,
   "id": "75a57e7a",
   "metadata": {},
   "outputs": [
    {
     "data": {
      "text/html": [
       "<div>\n",
       "<style scoped>\n",
       "    .dataframe tbody tr th:only-of-type {\n",
       "        vertical-align: middle;\n",
       "    }\n",
       "\n",
       "    .dataframe tbody tr th {\n",
       "        vertical-align: top;\n",
       "    }\n",
       "\n",
       "    .dataframe thead th {\n",
       "        text-align: right;\n",
       "    }\n",
       "</style>\n",
       "<table border=\"1\" class=\"dataframe\">\n",
       "  <thead>\n",
       "    <tr style=\"text-align: right;\">\n",
       "      <th>Purchase</th>\n",
       "      <th>구매안함</th>\n",
       "      <th>구매함</th>\n",
       "    </tr>\n",
       "    <tr>\n",
       "      <th>Coupon</th>\n",
       "      <th></th>\n",
       "      <th></th>\n",
       "    </tr>\n",
       "  </thead>\n",
       "  <tbody>\n",
       "    <tr>\n",
       "      <th>발송안함</th>\n",
       "      <td>0.9800</td>\n",
       "      <td>0.0200</td>\n",
       "    </tr>\n",
       "    <tr>\n",
       "      <th>발송함</th>\n",
       "      <td>0.8200</td>\n",
       "      <td>0.1800</td>\n",
       "    </tr>\n",
       "    <tr>\n",
       "      <th>합계</th>\n",
       "      <td>0.9000</td>\n",
       "      <td>0.1000</td>\n",
       "    </tr>\n",
       "  </tbody>\n",
       "</table>\n",
       "</div>"
      ],
      "text/plain": [
       "Purchase   구매안함    구매함\n",
       "Coupon                \n",
       "발송안함     0.9800 0.0200\n",
       "발송함      0.8200 0.1800\n",
       "합계       0.9000 0.1000"
      ]
     },
     "execution_count": 111,
     "metadata": {},
     "output_type": "execute_result"
    }
   ],
   "source": [
    "pd.crosstab(\n",
    "    index = df2['Coupon'], \n",
    "    columns = df2['Purchase'], \n",
    "    margins = True, \n",
    "    margins_name = '합계', \n",
    "    normalize = 'index'\n",
    ")"
   ]
  },
  {
   "cell_type": "code",
   "execution_count": 113,
   "id": "6091fdbf",
   "metadata": {},
   "outputs": [],
   "source": [
    "test = pg.chi2_independence(data = df2, x = 'Coupon', y = 'Purchase', correction = True)"
   ]
  },
  {
   "cell_type": "code",
   "execution_count": 114,
   "id": "e420c725",
   "metadata": {},
   "outputs": [
    {
     "data": {
      "text/html": [
       "<div>\n",
       "<style scoped>\n",
       "    .dataframe tbody tr th:only-of-type {\n",
       "        vertical-align: middle;\n",
       "    }\n",
       "\n",
       "    .dataframe tbody tr th {\n",
       "        vertical-align: top;\n",
       "    }\n",
       "\n",
       "    .dataframe thead th {\n",
       "        text-align: right;\n",
       "    }\n",
       "</style>\n",
       "<table border=\"1\" class=\"dataframe\">\n",
       "  <thead>\n",
       "    <tr style=\"text-align: right;\">\n",
       "      <th>Purchase</th>\n",
       "      <th>구매안함</th>\n",
       "      <th>구매함</th>\n",
       "    </tr>\n",
       "    <tr>\n",
       "      <th>Coupon</th>\n",
       "      <th></th>\n",
       "      <th></th>\n",
       "    </tr>\n",
       "  </thead>\n",
       "  <tbody>\n",
       "    <tr>\n",
       "      <th>발송안함</th>\n",
       "      <td>450.0000</td>\n",
       "      <td>50.0000</td>\n",
       "    </tr>\n",
       "    <tr>\n",
       "      <th>발송함</th>\n",
       "      <td>450.0000</td>\n",
       "      <td>50.0000</td>\n",
       "    </tr>\n",
       "  </tbody>\n",
       "</table>\n",
       "</div>"
      ],
      "text/plain": [
       "Purchase     구매안함     구매함\n",
       "Coupon                   \n",
       "발송안함     450.0000 50.0000\n",
       "발송함      450.0000 50.0000"
      ]
     },
     "execution_count": 114,
     "metadata": {},
     "output_type": "execute_result"
    }
   ],
   "source": [
    "test[0]"
   ]
  },
  {
   "cell_type": "code",
   "execution_count": 115,
   "id": "fc86d7e8",
   "metadata": {},
   "outputs": [
    {
     "data": {
      "text/html": [
       "<div>\n",
       "<style scoped>\n",
       "    .dataframe tbody tr th:only-of-type {\n",
       "        vertical-align: middle;\n",
       "    }\n",
       "\n",
       "    .dataframe tbody tr th {\n",
       "        vertical-align: top;\n",
       "    }\n",
       "\n",
       "    .dataframe thead th {\n",
       "        text-align: right;\n",
       "    }\n",
       "</style>\n",
       "<table border=\"1\" class=\"dataframe\">\n",
       "  <thead>\n",
       "    <tr style=\"text-align: right;\">\n",
       "      <th>Purchase</th>\n",
       "      <th>구매안함</th>\n",
       "      <th>구매함</th>\n",
       "    </tr>\n",
       "    <tr>\n",
       "      <th>Coupon</th>\n",
       "      <th></th>\n",
       "      <th></th>\n",
       "    </tr>\n",
       "  </thead>\n",
       "  <tbody>\n",
       "    <tr>\n",
       "      <th>발송안함</th>\n",
       "      <td>489.5000</td>\n",
       "      <td>10.5000</td>\n",
       "    </tr>\n",
       "    <tr>\n",
       "      <th>발송함</th>\n",
       "      <td>410.5000</td>\n",
       "      <td>89.5000</td>\n",
       "    </tr>\n",
       "  </tbody>\n",
       "</table>\n",
       "</div>"
      ],
      "text/plain": [
       "Purchase     구매안함     구매함\n",
       "Coupon                   \n",
       "발송안함     489.5000 10.5000\n",
       "발송함      410.5000 89.5000"
      ]
     },
     "execution_count": 115,
     "metadata": {},
     "output_type": "execute_result"
    }
   ],
   "source": [
    "test[1]"
   ]
  },
  {
   "cell_type": "code",
   "execution_count": 116,
   "id": "9fb7a874",
   "metadata": {},
   "outputs": [
    {
     "data": {
      "text/html": [
       "<div>\n",
       "<style scoped>\n",
       "    .dataframe tbody tr th:only-of-type {\n",
       "        vertical-align: middle;\n",
       "    }\n",
       "\n",
       "    .dataframe tbody tr th {\n",
       "        vertical-align: top;\n",
       "    }\n",
       "\n",
       "    .dataframe thead th {\n",
       "        text-align: right;\n",
       "    }\n",
       "</style>\n",
       "<table border=\"1\" class=\"dataframe\">\n",
       "  <thead>\n",
       "    <tr style=\"text-align: right;\">\n",
       "      <th></th>\n",
       "      <th>test</th>\n",
       "      <th>lambda</th>\n",
       "      <th>chi2</th>\n",
       "      <th>dof</th>\n",
       "      <th>pval</th>\n",
       "      <th>cramer</th>\n",
       "      <th>power</th>\n",
       "    </tr>\n",
       "  </thead>\n",
       "  <tbody>\n",
       "    <tr>\n",
       "      <th>0</th>\n",
       "      <td>pearson</td>\n",
       "      <td>1.0000</td>\n",
       "      <td>69.3444</td>\n",
       "      <td>1.0000</td>\n",
       "      <td>0.0000</td>\n",
       "      <td>0.2633</td>\n",
       "      <td>1.0000</td>\n",
       "    </tr>\n",
       "    <tr>\n",
       "      <th>1</th>\n",
       "      <td>cressie-read</td>\n",
       "      <td>0.6667</td>\n",
       "      <td>71.1142</td>\n",
       "      <td>1.0000</td>\n",
       "      <td>0.0000</td>\n",
       "      <td>0.2667</td>\n",
       "      <td>1.0000</td>\n",
       "    </tr>\n",
       "    <tr>\n",
       "      <th>2</th>\n",
       "      <td>log-likelihood</td>\n",
       "      <td>0.0000</td>\n",
       "      <td>78.3864</td>\n",
       "      <td>1.0000</td>\n",
       "      <td>0.0000</td>\n",
       "      <td>0.2800</td>\n",
       "      <td>1.0000</td>\n",
       "    </tr>\n",
       "    <tr>\n",
       "      <th>3</th>\n",
       "      <td>freeman-tukey</td>\n",
       "      <td>-0.5000</td>\n",
       "      <td>88.4847</td>\n",
       "      <td>1.0000</td>\n",
       "      <td>0.0000</td>\n",
       "      <td>0.2975</td>\n",
       "      <td>1.0000</td>\n",
       "    </tr>\n",
       "    <tr>\n",
       "      <th>4</th>\n",
       "      <td>mod-log-likelihood</td>\n",
       "      <td>-1.0000</td>\n",
       "      <td>104.8045</td>\n",
       "      <td>1.0000</td>\n",
       "      <td>0.0000</td>\n",
       "      <td>0.3237</td>\n",
       "      <td>1.0000</td>\n",
       "    </tr>\n",
       "    <tr>\n",
       "      <th>5</th>\n",
       "      <td>neyman</td>\n",
       "      <td>-2.0000</td>\n",
       "      <td>173.0165</td>\n",
       "      <td>1.0000</td>\n",
       "      <td>0.0000</td>\n",
       "      <td>0.4160</td>\n",
       "      <td>1.0000</td>\n",
       "    </tr>\n",
       "  </tbody>\n",
       "</table>\n",
       "</div>"
      ],
      "text/plain": [
       "                 test  lambda     chi2    dof   pval  cramer  power\n",
       "0             pearson  1.0000  69.3444 1.0000 0.0000  0.2633 1.0000\n",
       "1        cressie-read  0.6667  71.1142 1.0000 0.0000  0.2667 1.0000\n",
       "2      log-likelihood  0.0000  78.3864 1.0000 0.0000  0.2800 1.0000\n",
       "3       freeman-tukey -0.5000  88.4847 1.0000 0.0000  0.2975 1.0000\n",
       "4  mod-log-likelihood -1.0000 104.8045 1.0000 0.0000  0.3237 1.0000\n",
       "5              neyman -2.0000 173.0165 1.0000 0.0000  0.4160 1.0000"
      ]
     },
     "execution_count": 116,
     "metadata": {},
     "output_type": "execute_result"
    }
   ],
   "source": [
    "test[2]"
   ]
  },
  {
   "cell_type": "code",
   "execution_count": 117,
   "id": "bdaf1222",
   "metadata": {},
   "outputs": [],
   "source": [
    "from statsmodels.stats.proportion import proportions_ztest"
   ]
  },
  {
   "cell_type": "code",
   "execution_count": 118,
   "id": "9aa60cd0",
   "metadata": {},
   "outputs": [
    {
     "data": {
      "text/plain": [
       "(2.182178902359923, 0.029096331741252257)"
      ]
     },
     "execution_count": 118,
     "metadata": {},
     "output_type": "execute_result"
    }
   ],
   "source": [
    "proportions_ztest(count = 30, nobs = 100, value = 0.2)"
   ]
  },
  {
   "cell_type": "code",
   "execution_count": 119,
   "id": "ad7173ac",
   "metadata": {},
   "outputs": [
    {
     "data": {
      "text/plain": [
       "(0.9847319278346616, 0.3247557654026184)"
      ]
     },
     "execution_count": 119,
     "metadata": {},
     "output_type": "execute_result"
    }
   ],
   "source": [
    "proportions_ztest(count = [100, 150], nobs = [300, 500], value = 0.0)"
   ]
  },
  {
   "cell_type": "code",
   "execution_count": 120,
   "id": "0c3198db",
   "metadata": {},
   "outputs": [],
   "source": [
    "df = df.drop(columns = ['CC', 'Automatic'])"
   ]
  },
  {
   "cell_type": "code",
   "execution_count": 121,
   "id": "67f71707",
   "metadata": {},
   "outputs": [],
   "source": [
    "df = df[df['FuelType'].ne('CNG')]"
   ]
  },
  {
   "cell_type": "code",
   "execution_count": 122,
   "id": "45cce632",
   "metadata": {},
   "outputs": [],
   "source": [
    "df = df.reset_index(drop = True)"
   ]
  },
  {
   "cell_type": "code",
   "execution_count": 123,
   "id": "0213b216",
   "metadata": {},
   "outputs": [
    {
     "data": {
      "text/plain": [
       "['Used_Cars_Price_Prep.z']"
      ]
     },
     "execution_count": 123,
     "metadata": {},
     "output_type": "execute_result"
    }
   ],
   "source": [
    "joblib.dump(value = df, filename = 'Used_Cars_Price_Prep.z')"
   ]
  },
  {
   "cell_type": "code",
   "execution_count": null,
   "id": "6c5692eb",
   "metadata": {},
   "outputs": [],
   "source": []
  }
 ],
 "metadata": {
  "kernelspec": {
   "display_name": "Python 3 (ipykernel)",
   "language": "python",
   "name": "python3"
  },
  "language_info": {
   "codemirror_mode": {
    "name": "ipython",
    "version": 3
   },
   "file_extension": ".py",
   "mimetype": "text/x-python",
   "name": "python",
   "nbconvert_exporter": "python",
   "pygments_lexer": "ipython3",
   "version": "3.11.3"
  }
 },
 "nbformat": 4,
 "nbformat_minor": 5
}
