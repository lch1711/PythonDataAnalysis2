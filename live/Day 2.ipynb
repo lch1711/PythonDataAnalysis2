{
 "cells": [
  {
   "cell_type": "code",
   "execution_count": 1,
   "id": "563f2c00",
   "metadata": {},
   "outputs": [],
   "source": [
    "import os\n",
    "import numpy as np\n",
    "import pandas as pd\n",
    "import joblib"
   ]
  },
  {
   "cell_type": "code",
   "execution_count": 2,
   "id": "5e13ebf5",
   "metadata": {},
   "outputs": [
    {
     "data": {
      "text/plain": [
       "'C:\\\\Users\\\\Administrator\\\\Documents\\\\PythonAdvanced-main\\\\live'"
      ]
     },
     "execution_count": 2,
     "metadata": {},
     "output_type": "execute_result"
    }
   ],
   "source": [
    "os.getcwd()"
   ]
  },
  {
   "cell_type": "code",
   "execution_count": 3,
   "id": "2554eb79",
   "metadata": {},
   "outputs": [],
   "source": [
    "os.chdir(path = '../data')"
   ]
  },
  {
   "cell_type": "code",
   "execution_count": 4,
   "id": "45552b4f",
   "metadata": {},
   "outputs": [
    {
     "data": {
      "text/plain": [
       "['GDP_Per_Capital_2021.csv',\n",
       " 'KBO_Hitter_2021.z',\n",
       " 'Used_Cars_Price.csv',\n",
       " 'Used_Cars_Price.xlsx',\n",
       " 'Used_Cars_Price.z',\n",
       " 'Used_Cars_Price_Prep.z']"
      ]
     },
     "execution_count": 4,
     "metadata": {},
     "output_type": "execute_result"
    }
   ],
   "source": [
    "os.listdir()"
   ]
  },
  {
   "cell_type": "code",
   "execution_count": 5,
   "id": "c26449b1",
   "metadata": {},
   "outputs": [],
   "source": [
    "df = pd.read_excel('Used_Cars_Price.xlsx')"
   ]
  },
  {
   "cell_type": "code",
   "execution_count": 6,
   "id": "a144a4d0",
   "metadata": {},
   "outputs": [
    {
     "name": "stdout",
     "output_type": "stream",
     "text": [
      "<class 'pandas.core.frame.DataFrame'>\n",
      "RangeIndex: 1268 entries, 0 to 1267\n",
      "Data columns (total 10 columns):\n",
      " #   Column     Non-Null Count  Dtype \n",
      "---  ------     --------------  ----- \n",
      " 0   Price      1268 non-null   int64 \n",
      " 1   Age        1268 non-null   int64 \n",
      " 2   KM         1268 non-null   int64 \n",
      " 3   FuelType   1268 non-null   object\n",
      " 4   HP         1268 non-null   int64 \n",
      " 5   MetColor   1268 non-null   int64 \n",
      " 6   Automatic  1268 non-null   int64 \n",
      " 7   CC         1268 non-null   int64 \n",
      " 8   Doors      1268 non-null   int64 \n",
      " 9   Weight     1268 non-null   int64 \n",
      "dtypes: int64(9), object(1)\n",
      "memory usage: 99.2+ KB\n"
     ]
    }
   ],
   "source": [
    "df.info()"
   ]
  },
  {
   "cell_type": "code",
   "execution_count": 7,
   "id": "091082fb",
   "metadata": {},
   "outputs": [],
   "source": [
    "df = joblib.load('Used_Cars_Price.z')"
   ]
  },
  {
   "cell_type": "code",
   "execution_count": 8,
   "id": "6357b3f6",
   "metadata": {},
   "outputs": [
    {
     "name": "stdout",
     "output_type": "stream",
     "text": [
      "<class 'pandas.core.frame.DataFrame'>\n",
      "RangeIndex: 1268 entries, 0 to 1267\n",
      "Data columns (total 10 columns):\n",
      " #   Column     Non-Null Count  Dtype \n",
      "---  ------     --------------  ----- \n",
      " 0   Price      1268 non-null   int64 \n",
      " 1   Age        1268 non-null   int64 \n",
      " 2   KM         1268 non-null   int64 \n",
      " 3   FuelType   1268 non-null   object\n",
      " 4   HP         1268 non-null   int64 \n",
      " 5   MetColor   1268 non-null   object\n",
      " 6   Automatic  1268 non-null   object\n",
      " 7   CC         1268 non-null   int64 \n",
      " 8   Doors      1268 non-null   int64 \n",
      " 9   Weight     1268 non-null   int64 \n",
      "dtypes: int64(7), object(3)\n",
      "memory usage: 99.2+ KB\n"
     ]
    }
   ],
   "source": [
    "df.info()"
   ]
  },
  {
   "cell_type": "code",
   "execution_count": 9,
   "id": "69530d41",
   "metadata": {},
   "outputs": [],
   "source": [
    "%precision 3\n",
    "pd.options.display.precision = 3"
   ]
  },
  {
   "cell_type": "raw",
   "id": "f0133938",
   "metadata": {},
   "source": [
    "!pip install statsmodels"
   ]
  },
  {
   "cell_type": "code",
   "execution_count": 10,
   "id": "53f36ca6",
   "metadata": {},
   "outputs": [],
   "source": [
    "from scipy import stats\n",
    "from statsmodels import robust"
   ]
  },
  {
   "cell_type": "code",
   "execution_count": 11,
   "id": "72b0552b",
   "metadata": {},
   "outputs": [
    {
     "data": {
      "text/plain": [
       "9696.851"
      ]
     },
     "execution_count": 11,
     "metadata": {},
     "output_type": "execute_result"
    }
   ],
   "source": [
    "df['Price'].mean()"
   ]
  },
  {
   "cell_type": "code",
   "execution_count": 13,
   "id": "4b5e95a2",
   "metadata": {},
   "outputs": [
    {
     "data": {
      "text/plain": [
       "0    1.0\n",
       "1    NaN\n",
       "2    2.0\n",
       "dtype: float64"
      ]
     },
     "execution_count": 13,
     "metadata": {},
     "output_type": "execute_result"
    }
   ],
   "source": [
    "nums = pd.Series(data = [1, np.nan, 2])\n",
    "nums"
   ]
  },
  {
   "cell_type": "code",
   "execution_count": 14,
   "id": "87928bd1",
   "metadata": {},
   "outputs": [
    {
     "data": {
      "text/plain": [
       "1.500"
      ]
     },
     "execution_count": 14,
     "metadata": {},
     "output_type": "execute_result"
    }
   ],
   "source": [
    "nums.mean()"
   ]
  },
  {
   "cell_type": "code",
   "execution_count": 15,
   "id": "09feefbb",
   "metadata": {},
   "outputs": [
    {
     "data": {
      "text/plain": [
       "9591.892"
      ]
     },
     "execution_count": 15,
     "metadata": {},
     "output_type": "execute_result"
    }
   ],
   "source": [
    "stats.trim_mean(df['Price'], 0.1)"
   ]
  },
  {
   "cell_type": "code",
   "execution_count": 16,
   "id": "597d11b0",
   "metadata": {},
   "outputs": [
    {
     "data": {
      "text/plain": [
       "9487.500"
      ]
     },
     "execution_count": 16,
     "metadata": {},
     "output_type": "execute_result"
    }
   ],
   "source": [
    "df['Price'].median()"
   ]
  },
  {
   "cell_type": "code",
   "execution_count": 17,
   "id": "dd7737fe",
   "metadata": {},
   "outputs": [
    {
     "name": "stderr",
     "output_type": "stream",
     "text": [
      "C:\\Users\\Administrator\\Venv\\lib\\site-packages\\numpy\\core\\fromnumeric.py:3432: RuntimeWarning: Mean of empty slice.\n",
      "  return _methods._mean(a, axis=axis, dtype=dtype,\n",
      "C:\\Users\\Administrator\\Venv\\lib\\site-packages\\numpy\\core\\_methods.py:190: RuntimeWarning: invalid value encountered in double_scalars\n",
      "  ret = ret.dtype.type(ret / rcount)\n"
     ]
    },
    {
     "data": {
      "text/plain": [
       "nan"
      ]
     },
     "execution_count": 17,
     "metadata": {},
     "output_type": "execute_result"
    }
   ],
   "source": [
    "stats.trim_mean(df['Price'], 0.5)"
   ]
  },
  {
   "cell_type": "code",
   "execution_count": 18,
   "id": "8f5aa2db",
   "metadata": {},
   "outputs": [
    {
     "data": {
      "text/plain": [
       "0.00     4350.00\n",
       "0.01     5830.15\n",
       "0.02     5950.00\n",
       "0.03     6495.05\n",
       "0.04     6650.00\n",
       "          ...   \n",
       "0.96    13580.00\n",
       "0.97    13950.00\n",
       "0.98    14229.30\n",
       "0.99    14950.00\n",
       "1.00    15950.00\n",
       "Name: Price, Length: 101, dtype: float64"
      ]
     },
     "execution_count": 18,
     "metadata": {},
     "output_type": "execute_result"
    }
   ],
   "source": [
    "df['Price'].quantile(np.linspace(0, 1, 100+1))"
   ]
  },
  {
   "cell_type": "code",
   "execution_count": 19,
   "id": "714e5340",
   "metadata": {},
   "outputs": [
    {
     "data": {
      "text/plain": [
       "0.0     4350.0\n",
       "0.1     7250.0\n",
       "0.2     7950.0\n",
       "0.3     8500.0\n",
       "0.4     8950.0\n",
       "0.5     9487.5\n",
       "0.6     9950.0\n",
       "0.7    10500.0\n",
       "0.8    11468.0\n",
       "0.9    12500.0\n",
       "1.0    15950.0\n",
       "Name: Price, dtype: float64"
      ]
     },
     "execution_count": 19,
     "metadata": {},
     "output_type": "execute_result"
    }
   ],
   "source": [
    "df['Price'].quantile(np.linspace(0, 1, 10+1))"
   ]
  },
  {
   "cell_type": "code",
   "execution_count": 20,
   "id": "40433cc0",
   "metadata": {},
   "outputs": [
    {
     "data": {
      "text/plain": [
       "0.00     4350.0\n",
       "0.25     8250.0\n",
       "0.50     9487.5\n",
       "0.75    10950.0\n",
       "1.00    15950.0\n",
       "Name: Price, dtype: float64"
      ]
     },
     "execution_count": 20,
     "metadata": {},
     "output_type": "execute_result"
    }
   ],
   "source": [
    "df['Price'].quantile(np.linspace(0, 1, 4+1))"
   ]
  },
  {
   "cell_type": "code",
   "execution_count": 21,
   "id": "541bb9ac",
   "metadata": {},
   "outputs": [
    {
     "data": {
      "text/plain": [
       "array([80.   , 79.833, 79.667, 79.5  , 79.333, 79.167, 79.   , 78.833,\n",
       "       78.667, 78.5  , 78.333, 78.167, 78.   , 77.833, 77.667, 77.5  ,\n",
       "       77.333, 77.167, 77.   , 76.833, 76.667, 76.5  , 76.333, 76.167,\n",
       "       76.   , 75.833, 75.667, 75.5  , 75.333, 75.167, 75.   ])"
      ]
     },
     "execution_count": 21,
     "metadata": {},
     "output_type": "execute_result"
    }
   ],
   "source": [
    "np.linspace(80, 75, 30+1)"
   ]
  },
  {
   "cell_type": "code",
   "execution_count": 22,
   "id": "1f2290c2",
   "metadata": {},
   "outputs": [
    {
     "data": {
      "text/plain": [
       "15950"
      ]
     },
     "execution_count": 22,
     "metadata": {},
     "output_type": "execute_result"
    }
   ],
   "source": [
    "df['Price'].max()"
   ]
  },
  {
   "cell_type": "code",
   "execution_count": 23,
   "id": "1be15fdb",
   "metadata": {},
   "outputs": [
    {
     "data": {
      "text/plain": [
       "4350"
      ]
     },
     "execution_count": 23,
     "metadata": {},
     "output_type": "execute_result"
    }
   ],
   "source": [
    "df['Price'].min()"
   ]
  },
  {
   "cell_type": "code",
   "execution_count": 24,
   "id": "e46162fb",
   "metadata": {},
   "outputs": [
    {
     "data": {
      "text/plain": [
       "11600"
      ]
     },
     "execution_count": 24,
     "metadata": {},
     "output_type": "execute_result"
    }
   ],
   "source": [
    "df['Price'].max() - df['Price'].min()"
   ]
  },
  {
   "cell_type": "code",
   "execution_count": 25,
   "id": "212f06d1",
   "metadata": {},
   "outputs": [
    {
     "data": {
      "text/plain": [
       "0.0     4350.0\n",
       "1.0    15950.0\n",
       "Name: Price, dtype: float64"
      ]
     },
     "execution_count": 25,
     "metadata": {},
     "output_type": "execute_result"
    }
   ],
   "source": [
    "df['Price'].quantile([0, 1])"
   ]
  },
  {
   "cell_type": "code",
   "execution_count": 27,
   "id": "62e86596",
   "metadata": {},
   "outputs": [
    {
     "data": {
      "text/plain": [
       "11600.000"
      ]
     },
     "execution_count": 27,
     "metadata": {},
     "output_type": "execute_result"
    }
   ],
   "source": [
    "df['Price'].quantile([0, 1]).diff().iloc[-1]"
   ]
  },
  {
   "cell_type": "code",
   "execution_count": 28,
   "id": "96f1dd82",
   "metadata": {},
   "outputs": [
    {
     "data": {
      "text/plain": [
       "1.0    11600.0\n",
       "Name: Price, dtype: float64"
      ]
     },
     "execution_count": 28,
     "metadata": {},
     "output_type": "execute_result"
    }
   ],
   "source": [
    "df['Price'].quantile([0, 1]).diff().iloc[[-1]]"
   ]
  },
  {
   "cell_type": "code",
   "execution_count": 29,
   "id": "0a9594ff",
   "metadata": {},
   "outputs": [
    {
     "data": {
      "text/plain": [
       "2700.000"
      ]
     },
     "execution_count": 29,
     "metadata": {},
     "output_type": "execute_result"
    }
   ],
   "source": [
    "df['Price'].quantile([0.25, 0.75]).diff().iloc[-1]"
   ]
  },
  {
   "cell_type": "code",
   "execution_count": 30,
   "id": "467505cf",
   "metadata": {},
   "outputs": [
    {
     "data": {
      "text/plain": [
       "0    Petrol\n",
       "Name: FuelType, dtype: object"
      ]
     },
     "execution_count": 30,
     "metadata": {},
     "output_type": "execute_result"
    }
   ],
   "source": [
    "df['FuelType'].mode()"
   ]
  },
  {
   "cell_type": "code",
   "execution_count": 31,
   "id": "96dac70d",
   "metadata": {},
   "outputs": [
    {
     "data": {
      "text/plain": [
       "Petrol    1125\n",
       "Diesel     126\n",
       "CNG         17\n",
       "Name: FuelType, dtype: int64"
      ]
     },
     "execution_count": 31,
     "metadata": {},
     "output_type": "execute_result"
    }
   ],
   "source": [
    "df['FuelType'].value_counts()"
   ]
  },
  {
   "cell_type": "code",
   "execution_count": 32,
   "id": "3c54bbab",
   "metadata": {},
   "outputs": [
    {
     "data": {
      "text/plain": [
       "CNG         17\n",
       "Diesel     126\n",
       "Petrol    1125\n",
       "Name: FuelType, dtype: int64"
      ]
     },
     "execution_count": 32,
     "metadata": {},
     "output_type": "execute_result"
    }
   ],
   "source": [
    "df['FuelType'].value_counts().sort_index()"
   ]
  },
  {
   "cell_type": "code",
   "execution_count": 33,
   "id": "bb25e31b",
   "metadata": {},
   "outputs": [
    {
     "data": {
      "text/plain": [
       "CNG       0.013\n",
       "Diesel    0.099\n",
       "Petrol    0.887\n",
       "Name: FuelType, dtype: float64"
      ]
     },
     "execution_count": 33,
     "metadata": {},
     "output_type": "execute_result"
    }
   ],
   "source": [
    "df['FuelType'].value_counts(normalize = True).sort_index()"
   ]
  },
  {
   "cell_type": "code",
   "execution_count": 34,
   "id": "6a569570",
   "metadata": {},
   "outputs": [
    {
     "data": {
      "text/plain": [
       "4117236.370"
      ]
     },
     "execution_count": 34,
     "metadata": {},
     "output_type": "execute_result"
    }
   ],
   "source": [
    "df['Price'].var()"
   ]
  },
  {
   "cell_type": "code",
   "execution_count": 35,
   "id": "59c6fd1d",
   "metadata": {},
   "outputs": [
    {
     "data": {
      "text/plain": [
       "2029.097"
      ]
     },
     "execution_count": 35,
     "metadata": {},
     "output_type": "execute_result"
    }
   ],
   "source": [
    "df['Price'].std()"
   ]
  },
  {
   "cell_type": "code",
   "execution_count": null,
   "id": "0bbc2616",
   "metadata": {},
   "outputs": [],
   "source": [
    "x = df['Price']"
   ]
  },
  {
   "cell_type": "code",
   "execution_count": null,
   "id": "6f34dfe0",
   "metadata": {},
   "outputs": [],
   "source": [
    "xsum = x.sum()\n",
    "xcnt = x.count()"
   ]
  },
  {
   "cell_type": "code",
   "execution_count": 37,
   "id": "2e4e7f34",
   "metadata": {},
   "outputs": [],
   "source": [
    "xavg = xsum / xcnt"
   ]
  },
  {
   "cell_type": "code",
   "execution_count": 44,
   "id": "fedacfe4",
   "metadata": {},
   "outputs": [],
   "source": [
    "xvar = sum((x - xavg) ** 2) / xcnt"
   ]
  },
  {
   "cell_type": "code",
   "execution_count": 45,
   "id": "ee159681",
   "metadata": {},
   "outputs": [
    {
     "data": {
      "text/plain": [
       "2028.297"
      ]
     },
     "execution_count": 45,
     "metadata": {},
     "output_type": "execute_result"
    }
   ],
   "source": [
    "xvar ** (1/2)"
   ]
  },
  {
   "cell_type": "code",
   "execution_count": 46,
   "id": "848c5275",
   "metadata": {},
   "outputs": [
    {
     "data": {
      "text/plain": [
       "2168.306"
      ]
     },
     "execution_count": 46,
     "metadata": {},
     "output_type": "execute_result"
    }
   ],
   "source": [
    "robust.mad(df['Price'])"
   ]
  },
  {
   "cell_type": "code",
   "execution_count": 48,
   "id": "1db17e49",
   "metadata": {},
   "outputs": [
    {
     "data": {
      "text/plain": [
       "Price      9696.851\n",
       "Age          60.593\n",
       "KM        73737.629\n",
       "HP          100.442\n",
       "CC         1558.816\n",
       "Doors         4.002\n",
       "Weight     1061.572\n",
       "dtype: float64"
      ]
     },
     "execution_count": 48,
     "metadata": {},
     "output_type": "execute_result"
    }
   ],
   "source": [
    "df.mean(numeric_only = True)"
   ]
  },
  {
   "cell_type": "code",
   "execution_count": 49,
   "id": "2b25a8f5",
   "metadata": {},
   "outputs": [
    {
     "data": {
      "text/plain": [
       "Price      9696.851\n",
       "Age          60.593\n",
       "KM        73737.629\n",
       "HP          100.442\n",
       "CC         1558.816\n",
       "Doors         4.002\n",
       "Weight     1061.572\n",
       "dtype: float64"
      ]
     },
     "execution_count": 49,
     "metadata": {},
     "output_type": "execute_result"
    }
   ],
   "source": [
    "df.apply(func = 'mean', numeric_only = True)"
   ]
  },
  {
   "cell_type": "code",
   "execution_count": 54,
   "id": "fb9f1963",
   "metadata": {},
   "outputs": [
    {
     "data": {
      "text/plain": [
       "Price      2029.097\n",
       "Age          13.709\n",
       "KM        35858.332\n",
       "HP           13.100\n",
       "CC          183.657\n",
       "Doors         0.949\n",
       "Weight       33.839\n",
       "dtype: float64"
      ]
     },
     "execution_count": 54,
     "metadata": {},
     "output_type": "execute_result"
    }
   ],
   "source": [
    "df.apply(func = 'std', numeric_only = True)"
   ]
  },
  {
   "cell_type": "code",
   "execution_count": 55,
   "id": "4c0a4e83",
   "metadata": {},
   "outputs": [
    {
     "data": {
      "text/plain": [
       "Price      9487.5\n",
       "Age          63.0\n",
       "KM        67358.5\n",
       "HP          110.0\n",
       "CC         1600.0\n",
       "Doors         4.0\n",
       "Weight     1060.0\n",
       "dtype: float64"
      ]
     },
     "execution_count": 55,
     "metadata": {},
     "output_type": "execute_result"
    }
   ],
   "source": [
    "df.apply(func = 'median', numeric_only = True)"
   ]
  },
  {
   "cell_type": "code",
   "execution_count": 56,
   "id": "b4aeba2e",
   "metadata": {},
   "outputs": [
    {
     "data": {
      "text/html": [
       "<div>\n",
       "<style scoped>\n",
       "    .dataframe tbody tr th:only-of-type {\n",
       "        vertical-align: middle;\n",
       "    }\n",
       "\n",
       "    .dataframe tbody tr th {\n",
       "        vertical-align: top;\n",
       "    }\n",
       "\n",
       "    .dataframe thead th {\n",
       "        text-align: right;\n",
       "    }\n",
       "</style>\n",
       "<table border=\"1\" class=\"dataframe\">\n",
       "  <thead>\n",
       "    <tr style=\"text-align: right;\">\n",
       "      <th></th>\n",
       "      <th>Price</th>\n",
       "      <th>Age</th>\n",
       "      <th>KM</th>\n",
       "      <th>HP</th>\n",
       "      <th>CC</th>\n",
       "      <th>Doors</th>\n",
       "      <th>Weight</th>\n",
       "    </tr>\n",
       "  </thead>\n",
       "  <tbody>\n",
       "    <tr>\n",
       "      <th>count</th>\n",
       "      <td>1268.000</td>\n",
       "      <td>1268.000</td>\n",
       "      <td>1268.000</td>\n",
       "      <td>1268.000</td>\n",
       "      <td>1268.000</td>\n",
       "      <td>1268.000</td>\n",
       "      <td>1268.000</td>\n",
       "    </tr>\n",
       "    <tr>\n",
       "      <th>mean</th>\n",
       "      <td>9696.851</td>\n",
       "      <td>60.593</td>\n",
       "      <td>73737.629</td>\n",
       "      <td>100.442</td>\n",
       "      <td>1558.816</td>\n",
       "      <td>4.002</td>\n",
       "      <td>1061.572</td>\n",
       "    </tr>\n",
       "    <tr>\n",
       "      <th>std</th>\n",
       "      <td>2029.097</td>\n",
       "      <td>13.709</td>\n",
       "      <td>35858.332</td>\n",
       "      <td>13.100</td>\n",
       "      <td>183.657</td>\n",
       "      <td>0.949</td>\n",
       "      <td>33.839</td>\n",
       "    </tr>\n",
       "    <tr>\n",
       "      <th>min</th>\n",
       "      <td>4350.000</td>\n",
       "      <td>19.000</td>\n",
       "      <td>5309.000</td>\n",
       "      <td>69.000</td>\n",
       "      <td>1300.000</td>\n",
       "      <td>3.000</td>\n",
       "      <td>1000.000</td>\n",
       "    </tr>\n",
       "    <tr>\n",
       "      <th>25%</th>\n",
       "      <td>8250.000</td>\n",
       "      <td>51.000</td>\n",
       "      <td>48950.250</td>\n",
       "      <td>86.000</td>\n",
       "      <td>1400.000</td>\n",
       "      <td>3.000</td>\n",
       "      <td>1035.000</td>\n",
       "    </tr>\n",
       "    <tr>\n",
       "      <th>50%</th>\n",
       "      <td>9487.500</td>\n",
       "      <td>63.000</td>\n",
       "      <td>67358.500</td>\n",
       "      <td>110.000</td>\n",
       "      <td>1600.000</td>\n",
       "      <td>4.000</td>\n",
       "      <td>1060.000</td>\n",
       "    </tr>\n",
       "    <tr>\n",
       "      <th>75%</th>\n",
       "      <td>10950.000</td>\n",
       "      <td>72.000</td>\n",
       "      <td>90315.000</td>\n",
       "      <td>110.000</td>\n",
       "      <td>1600.000</td>\n",
       "      <td>5.000</td>\n",
       "      <td>1075.000</td>\n",
       "    </tr>\n",
       "    <tr>\n",
       "      <th>max</th>\n",
       "      <td>15950.000</td>\n",
       "      <td>80.000</td>\n",
       "      <td>243000.000</td>\n",
       "      <td>116.000</td>\n",
       "      <td>2000.000</td>\n",
       "      <td>5.000</td>\n",
       "      <td>1205.000</td>\n",
       "    </tr>\n",
       "  </tbody>\n",
       "</table>\n",
       "</div>"
      ],
      "text/plain": [
       "           Price       Age          KM        HP        CC     Doors    Weight\n",
       "count   1268.000  1268.000    1268.000  1268.000  1268.000  1268.000  1268.000\n",
       "mean    9696.851    60.593   73737.629   100.442  1558.816     4.002  1061.572\n",
       "std     2029.097    13.709   35858.332    13.100   183.657     0.949    33.839\n",
       "min     4350.000    19.000    5309.000    69.000  1300.000     3.000  1000.000\n",
       "25%     8250.000    51.000   48950.250    86.000  1400.000     3.000  1035.000\n",
       "50%     9487.500    63.000   67358.500   110.000  1600.000     4.000  1060.000\n",
       "75%    10950.000    72.000   90315.000   110.000  1600.000     5.000  1075.000\n",
       "max    15950.000    80.000  243000.000   116.000  2000.000     5.000  1205.000"
      ]
     },
     "execution_count": 56,
     "metadata": {},
     "output_type": "execute_result"
    }
   ],
   "source": [
    "df.describe()"
   ]
  },
  {
   "cell_type": "code",
   "execution_count": 57,
   "id": "332783da",
   "metadata": {},
   "outputs": [
    {
     "data": {
      "text/html": [
       "<div>\n",
       "<style scoped>\n",
       "    .dataframe tbody tr th:only-of-type {\n",
       "        vertical-align: middle;\n",
       "    }\n",
       "\n",
       "    .dataframe tbody tr th {\n",
       "        vertical-align: top;\n",
       "    }\n",
       "\n",
       "    .dataframe thead th {\n",
       "        text-align: right;\n",
       "    }\n",
       "</style>\n",
       "<table border=\"1\" class=\"dataframe\">\n",
       "  <thead>\n",
       "    <tr style=\"text-align: right;\">\n",
       "      <th></th>\n",
       "      <th>FuelType</th>\n",
       "      <th>MetColor</th>\n",
       "      <th>Automatic</th>\n",
       "    </tr>\n",
       "  </thead>\n",
       "  <tbody>\n",
       "    <tr>\n",
       "      <th>count</th>\n",
       "      <td>1268</td>\n",
       "      <td>1268</td>\n",
       "      <td>1268</td>\n",
       "    </tr>\n",
       "    <tr>\n",
       "      <th>unique</th>\n",
       "      <td>3</td>\n",
       "      <td>2</td>\n",
       "      <td>2</td>\n",
       "    </tr>\n",
       "    <tr>\n",
       "      <th>top</th>\n",
       "      <td>Petrol</td>\n",
       "      <td>1</td>\n",
       "      <td>0</td>\n",
       "    </tr>\n",
       "    <tr>\n",
       "      <th>freq</th>\n",
       "      <td>1125</td>\n",
       "      <td>840</td>\n",
       "      <td>1198</td>\n",
       "    </tr>\n",
       "  </tbody>\n",
       "</table>\n",
       "</div>"
      ],
      "text/plain": [
       "       FuelType MetColor Automatic\n",
       "count      1268     1268      1268\n",
       "unique        3        2         2\n",
       "top      Petrol        1         0\n",
       "freq       1125      840      1198"
      ]
     },
     "execution_count": 57,
     "metadata": {},
     "output_type": "execute_result"
    }
   ],
   "source": [
    "df.describe(include = object)"
   ]
  },
  {
   "cell_type": "code",
   "execution_count": 58,
   "id": "54db93d4",
   "metadata": {},
   "outputs": [
    {
     "data": {
      "text/plain": [
       "pandas.core.frame.DataFrame"
      ]
     },
     "execution_count": 58,
     "metadata": {},
     "output_type": "execute_result"
    }
   ],
   "source": [
    "type(df.describe(include = object))"
   ]
  },
  {
   "cell_type": "code",
   "execution_count": 59,
   "id": "8e6b4c86",
   "metadata": {},
   "outputs": [],
   "source": [
    "from GraphicSetting import *\n",
    "import HelloDataScience as hds"
   ]
  },
  {
   "cell_type": "code",
   "execution_count": 62,
   "id": "edcf2b0a",
   "metadata": {},
   "outputs": [
    {
     "data": {
      "text/plain": [
       "array([ 8, 28, 33, 34, 37, 44])"
      ]
     },
     "execution_count": 62,
     "metadata": {},
     "output_type": "execute_result"
    }
   ],
   "source": [
    "lotto = np.random.choice(a = np.arange(1, 46), size = 6, replace = False)\n",
    "lotto.sort()\n",
    "lotto"
   ]
  },
  {
   "cell_type": "code",
   "execution_count": 66,
   "id": "7891d522",
   "metadata": {},
   "outputs": [
    {
     "name": "stdout",
     "output_type": "stream",
     "text": [
      "[ 1 10 12 29 31 34]\n",
      "[ 6 19 23 32 33 38]\n",
      "[11 15 22 31 32 33]\n",
      "[ 7  8 29 30 32 43]\n",
      "[ 7  8 13 30 33 43]\n",
      "[ 4  6 10 30 34 41]\n",
      "[ 3  9 11 23 35 38]\n",
      "[16 17 21 26 30 43]\n",
      "[ 1  4  5  8 35 37]\n",
      "[24 32 37 43 44 45]\n"
     ]
    }
   ],
   "source": [
    "for i in range(10):\n",
    "    # np.random.seed(seed = 1234)\n",
    "    lotto = np.random.choice(a = np.arange(1, 46), size = 6, replace = False)\n",
    "    lotto.sort()\n",
    "    print(lotto)"
   ]
  },
  {
   "cell_type": "code",
   "execution_count": 76,
   "id": "7bf7a386",
   "metadata": {},
   "outputs": [],
   "source": [
    "np.random.seed(1234)"
   ]
  },
  {
   "cell_type": "code",
   "execution_count": 77,
   "id": "0f270d91",
   "metadata": {},
   "outputs": [],
   "source": [
    "heights = stats.norm.rvs(loc = 175, scale = 5, size = 5000)"
   ]
  },
  {
   "cell_type": "code",
   "execution_count": 78,
   "id": "26b39768",
   "metadata": {},
   "outputs": [
    {
     "data": {
      "text/plain": [
       "175.121"
      ]
     },
     "execution_count": 78,
     "metadata": {},
     "output_type": "execute_result"
    }
   ],
   "source": [
    "heights.mean()"
   ]
  },
  {
   "cell_type": "code",
   "execution_count": 79,
   "id": "dc999992",
   "metadata": {},
   "outputs": [
    {
     "data": {
      "text/plain": [
       "4.959"
      ]
     },
     "execution_count": 79,
     "metadata": {},
     "output_type": "execute_result"
    }
   ],
   "source": [
    "heights.std()"
   ]
  },
  {
   "cell_type": "code",
   "execution_count": 83,
   "id": "52aa4c95",
   "metadata": {},
   "outputs": [
    {
     "data": {
      "text/plain": [
       "26596.152"
      ]
     },
     "execution_count": 83,
     "metadata": {},
     "output_type": "execute_result"
    }
   ],
   "source": [
    "stats.norm.pdf(x = 175, loc = 175, scale = 15) * 1000000"
   ]
  },
  {
   "cell_type": "code",
   "execution_count": 84,
   "id": "c8e1d298",
   "metadata": {},
   "outputs": [
    {
     "data": {
      "text/plain": [
       "39894.228"
      ]
     },
     "execution_count": 84,
     "metadata": {},
     "output_type": "execute_result"
    }
   ],
   "source": [
    "stats.norm.pdf(x = 175, loc = 175, scale = 10) * 1000000"
   ]
  },
  {
   "cell_type": "code",
   "execution_count": 85,
   "id": "ab6dd1cf",
   "metadata": {},
   "outputs": [
    {
     "data": {
      "text/plain": [
       "79788.456"
      ]
     },
     "execution_count": 85,
     "metadata": {},
     "output_type": "execute_result"
    }
   ],
   "source": [
    "stats.norm.pdf(x = 175, loc = 175, scale = 5) * 1000000"
   ]
  },
  {
   "cell_type": "code",
   "execution_count": 86,
   "id": "429f6d6c",
   "metadata": {},
   "outputs": [
    {
     "data": {
      "text/plain": [
       "array([0.078, 0.08 , 0.078])"
      ]
     },
     "execution_count": 86,
     "metadata": {},
     "output_type": "execute_result"
    }
   ],
   "source": [
    "stats.norm.pdf(x = [174, 175, 176], loc = 175, scale = 5)"
   ]
  },
  {
   "cell_type": "code",
   "execution_count": 87,
   "id": "abdb5ce7",
   "metadata": {},
   "outputs": [
    {
     "data": {
      "text/plain": [
       "0.000"
      ]
     },
     "execution_count": 87,
     "metadata": {},
     "output_type": "execute_result"
    }
   ],
   "source": [
    "stats.norm.pdf(x = [174, 175, 176], loc = 175, scale = 5).prod()"
   ]
  },
  {
   "cell_type": "code",
   "execution_count": 88,
   "id": "1bac78e6",
   "metadata": {},
   "outputs": [
    {
     "data": {
      "text/plain": [
       "-7.625"
      ]
     },
     "execution_count": 88,
     "metadata": {},
     "output_type": "execute_result"
    }
   ],
   "source": [
    "np.log(stats.norm.pdf(x = [174, 175, 176], loc = 175, scale = 5)).sum()"
   ]
  },
  {
   "cell_type": "code",
   "execution_count": 89,
   "id": "d04afce5",
   "metadata": {},
   "outputs": [
    {
     "data": {
      "text/plain": [
       "-7.865"
      ]
     },
     "execution_count": 89,
     "metadata": {},
     "output_type": "execute_result"
    }
   ],
   "source": [
    "np.log(stats.norm.pdf(x = [174, 175, 176], loc = 173, scale = 5)).sum()"
   ]
  },
  {
   "cell_type": "code",
   "execution_count": 90,
   "id": "defb43cb",
   "metadata": {},
   "outputs": [
    {
     "data": {
      "text/plain": [
       "-7.865"
      ]
     },
     "execution_count": 90,
     "metadata": {},
     "output_type": "execute_result"
    }
   ],
   "source": [
    "np.log(stats.norm.pdf(x = [174, 175, 176], loc = 177, scale = 5)).sum()"
   ]
  },
  {
   "cell_type": "code",
   "execution_count": 91,
   "id": "d039cbac",
   "metadata": {},
   "outputs": [
    {
     "data": {
      "text/plain": [
       "0.748"
      ]
     },
     "execution_count": 91,
     "metadata": {},
     "output_type": "execute_result"
    }
   ],
   "source": [
    "stats.norm.cdf(x = 185, loc = 175, scale = 15)"
   ]
  },
  {
   "cell_type": "code",
   "execution_count": 92,
   "id": "9522cb28",
   "metadata": {},
   "outputs": [
    {
     "data": {
      "text/plain": [
       "0.841"
      ]
     },
     "execution_count": 92,
     "metadata": {},
     "output_type": "execute_result"
    }
   ],
   "source": [
    "stats.norm.cdf(x = 185, loc = 175, scale = 10)"
   ]
  },
  {
   "cell_type": "code",
   "execution_count": 93,
   "id": "fe72fc8a",
   "metadata": {},
   "outputs": [
    {
     "data": {
      "text/plain": [
       "0.977"
      ]
     },
     "execution_count": 93,
     "metadata": {},
     "output_type": "execute_result"
    }
   ],
   "source": [
    "stats.norm.cdf(x = 185, loc = 175, scale = 5)"
   ]
  },
  {
   "cell_type": "code",
   "execution_count": 94,
   "id": "0c07dfcf",
   "metadata": {},
   "outputs": [
    {
     "data": {
      "text/plain": [
       "0.023"
      ]
     },
     "execution_count": 94,
     "metadata": {},
     "output_type": "execute_result"
    }
   ],
   "source": [
    "1 - stats.norm.cdf(x = 185, loc = 175, scale = 5)"
   ]
  },
  {
   "cell_type": "code",
   "execution_count": 96,
   "id": "bbc085d4",
   "metadata": {},
   "outputs": [
    {
     "data": {
      "text/plain": [
       "array([0.023, 0.977])"
      ]
     },
     "execution_count": 96,
     "metadata": {},
     "output_type": "execute_result"
    }
   ],
   "source": [
    "cdfs = stats.norm.cdf(x = [165, 185], loc = 175, scale = 5)\n",
    "cdfs"
   ]
  },
  {
   "cell_type": "code",
   "execution_count": 98,
   "id": "63221745",
   "metadata": {},
   "outputs": [
    {
     "data": {
      "text/plain": [
       "0.954"
      ]
     },
     "execution_count": 98,
     "metadata": {},
     "output_type": "execute_result"
    }
   ],
   "source": [
    "np.diff(cdfs)[0]"
   ]
  },
  {
   "cell_type": "code",
   "execution_count": 101,
   "id": "2e97a185",
   "metadata": {},
   "outputs": [
    {
     "data": {
      "text/plain": [
       "0.954"
      ]
     },
     "execution_count": 101,
     "metadata": {},
     "output_type": "execute_result"
    }
   ],
   "source": [
    "pd.Series(data = cdfs).diff().iloc[-1]"
   ]
  },
  {
   "cell_type": "code",
   "execution_count": 103,
   "id": "419e96b8",
   "metadata": {},
   "outputs": [
    {
     "data": {
      "text/plain": [
       "0.954"
      ]
     },
     "execution_count": 103,
     "metadata": {},
     "output_type": "execute_result"
    }
   ],
   "source": [
    "# 평균이 3, 표준편차가 1인 정규분포에서 1~5일 확률\n",
    "np.diff(stats.norm.cdf(x = [1, 5], loc = 3, scale = 1))[0]"
   ]
  },
  {
   "cell_type": "code",
   "execution_count": 104,
   "id": "e177a75d",
   "metadata": {},
   "outputs": [
    {
     "data": {
      "text/plain": [
       "185.023"
      ]
     },
     "execution_count": 104,
     "metadata": {},
     "output_type": "execute_result"
    }
   ],
   "source": [
    "stats.norm.ppf(q = 0.748, loc = 175, scale = 15)"
   ]
  },
  {
   "cell_type": "code",
   "execution_count": 105,
   "id": "a0e0b3e1",
   "metadata": {},
   "outputs": [
    {
     "data": {
      "text/plain": [
       "184.986"
      ]
     },
     "execution_count": 105,
     "metadata": {},
     "output_type": "execute_result"
    }
   ],
   "source": [
    "stats.norm.ppf(q = 0.841, loc = 175, scale = 10)"
   ]
  },
  {
   "cell_type": "code",
   "execution_count": 106,
   "id": "a6dbef10",
   "metadata": {},
   "outputs": [
    {
     "data": {
      "text/plain": [
       "184.977"
      ]
     },
     "execution_count": 106,
     "metadata": {},
     "output_type": "execute_result"
    }
   ],
   "source": [
    "stats.norm.ppf(q = 0.977, loc = 175, scale = 5)"
   ]
  },
  {
   "cell_type": "code",
   "execution_count": 107,
   "id": "15b7c7e8",
   "metadata": {},
   "outputs": [
    {
     "data": {
      "text/plain": [
       "183.224"
      ]
     },
     "execution_count": 107,
     "metadata": {},
     "output_type": "execute_result"
    }
   ],
   "source": [
    "stats.norm.ppf(q = 0.95, loc = 175, scale = 5)"
   ]
  },
  {
   "cell_type": "code",
   "execution_count": 108,
   "id": "3d979a2a",
   "metadata": {},
   "outputs": [
    {
     "data": {
      "text/plain": [
       "186.632"
      ]
     },
     "execution_count": 108,
     "metadata": {},
     "output_type": "execute_result"
    }
   ],
   "source": [
    "stats.norm.ppf(q = 0.99, loc = 175, scale = 5)"
   ]
  },
  {
   "cell_type": "code",
   "execution_count": 109,
   "id": "7c204ef0",
   "metadata": {},
   "outputs": [
    {
     "data": {
      "text/plain": [
       "-0.037"
      ]
     },
     "execution_count": 109,
     "metadata": {},
     "output_type": "execute_result"
    }
   ],
   "source": [
    "stats.skew(heights)"
   ]
  },
  {
   "cell_type": "code",
   "execution_count": 110,
   "id": "dd4a9998",
   "metadata": {},
   "outputs": [
    {
     "data": {
      "text/plain": [
       "-0.071"
      ]
     },
     "execution_count": 110,
     "metadata": {},
     "output_type": "execute_result"
    }
   ],
   "source": [
    "stats.kurtosis(heights)"
   ]
  },
  {
   "cell_type": "code",
   "execution_count": 111,
   "id": "2ec10a03",
   "metadata": {},
   "outputs": [
    {
     "data": {
      "text/plain": [
       "ShapiroResult(statistic=0.9995919466018677, pvalue=0.396047443151474)"
      ]
     },
     "execution_count": 111,
     "metadata": {},
     "output_type": "execute_result"
    }
   ],
   "source": [
    "stats.shapiro(heights)"
   ]
  },
  {
   "cell_type": "code",
   "execution_count": 112,
   "id": "a19875b6",
   "metadata": {},
   "outputs": [],
   "source": [
    "np.random.seed(1234)"
   ]
  },
  {
   "cell_type": "code",
   "execution_count": 113,
   "id": "f0c87753",
   "metadata": {},
   "outputs": [],
   "source": [
    "heights = stats.norm.rvs(loc = 175, scale = 5, size = 10000)"
   ]
  },
  {
   "cell_type": "code",
   "execution_count": 114,
   "id": "fad93ee0",
   "metadata": {},
   "outputs": [
    {
     "data": {
      "text/plain": [
       "175.081"
      ]
     },
     "execution_count": 114,
     "metadata": {},
     "output_type": "execute_result"
    }
   ],
   "source": [
    "heights.mean()"
   ]
  },
  {
   "cell_type": "code",
   "execution_count": 115,
   "id": "24cd76fa",
   "metadata": {},
   "outputs": [
    {
     "data": {
      "text/plain": [
       "4.976"
      ]
     },
     "execution_count": 115,
     "metadata": {},
     "output_type": "execute_result"
    }
   ],
   "source": [
    "heights.std()"
   ]
  },
  {
   "cell_type": "code",
   "execution_count": 116,
   "id": "521885c0",
   "metadata": {},
   "outputs": [
    {
     "name": "stderr",
     "output_type": "stream",
     "text": [
      "C:\\Users\\Administrator\\Venv\\lib\\site-packages\\scipy\\stats\\_morestats.py:1800: UserWarning: p-value may not be accurate for N > 5000.\n",
      "  warnings.warn(\"p-value may not be accurate for N > 5000.\")\n"
     ]
    },
    {
     "data": {
      "text/plain": [
       "ShapiroResult(statistic=0.9996193051338196, pvalue=0.04346244037151337)"
      ]
     },
     "execution_count": 116,
     "metadata": {},
     "output_type": "execute_result"
    }
   ],
   "source": [
    "stats.shapiro(heights)"
   ]
  },
  {
   "cell_type": "code",
   "execution_count": 117,
   "id": "5c6feb17",
   "metadata": {},
   "outputs": [
    {
     "data": {
      "text/plain": [
       "AndersonResult(statistic=0.35265258232357155, critical_values=array([0.576, 0.656, 0.787, 0.918, 1.092]), significance_level=array([15. , 10. ,  5. ,  2.5,  1. ]))"
      ]
     },
     "execution_count": 117,
     "metadata": {},
     "output_type": "execute_result"
    }
   ],
   "source": [
    "stats.anderson(heights)"
   ]
  },
  {
   "cell_type": "code",
   "execution_count": 118,
   "id": "00282e21",
   "metadata": {},
   "outputs": [],
   "source": [
    "def scale(x, loc, scale):\n",
    "    return (x - loc) / scale"
   ]
  },
  {
   "cell_type": "code",
   "execution_count": 120,
   "id": "f7c428d6",
   "metadata": {},
   "outputs": [
    {
     "data": {
      "text/plain": [
       "0.667"
      ]
     },
     "execution_count": 120,
     "metadata": {},
     "output_type": "execute_result"
    }
   ],
   "source": [
    "scale(x = 185, loc = 175, scale = 15)"
   ]
  },
  {
   "cell_type": "code",
   "execution_count": 121,
   "id": "a8f499c4",
   "metadata": {},
   "outputs": [
    {
     "data": {
      "text/plain": [
       "1.000"
      ]
     },
     "execution_count": 121,
     "metadata": {},
     "output_type": "execute_result"
    }
   ],
   "source": [
    "scale(x = 185, loc = 175, scale = 10)"
   ]
  },
  {
   "cell_type": "code",
   "execution_count": 122,
   "id": "de069df5",
   "metadata": {},
   "outputs": [
    {
     "data": {
      "text/plain": [
       "2.000"
      ]
     },
     "execution_count": 122,
     "metadata": {},
     "output_type": "execute_result"
    }
   ],
   "source": [
    "scale(x = 185, loc = 175, scale = 5)"
   ]
  },
  {
   "cell_type": "code",
   "execution_count": 127,
   "id": "42bd8271",
   "metadata": {},
   "outputs": [
    {
     "data": {
      "text/plain": [
       "(array([  81, 1307, 1333, 1670, 2053, 2289, 3136, 3924, 4097, 4477, 4599,\n",
       "        5274, 5903, 5935, 7040, 7340, 7510, 7743, 8578, 8650, 9406, 9888],\n",
       "       dtype=int64),)"
      ]
     },
     "execution_count": 127,
     "metadata": {},
     "output_type": "execute_result"
    }
   ],
   "source": [
    "locs = np.where(np.abs(stats.zscore(heights)) > 3)\n",
    "locs"
   ]
  },
  {
   "cell_type": "code",
   "execution_count": 128,
   "id": "ee139e71",
   "metadata": {},
   "outputs": [
    {
     "data": {
      "text/plain": [
       "array([157.182, 190.628, 190.548, 155.596, 158.613, 191.103, 158.832,\n",
       "       157.826, 160.072, 159.918, 159.246, 158.679, 157.003, 160.031,\n",
       "       158.681, 160.142, 159.258, 191.439, 158.343, 155.707, 190.188,\n",
       "       159.739])"
      ]
     },
     "execution_count": 128,
     "metadata": {},
     "output_type": "execute_result"
    }
   ],
   "source": [
    "heights[locs]"
   ]
  },
  {
   "cell_type": "code",
   "execution_count": 129,
   "id": "0a70405e",
   "metadata": {},
   "outputs": [
    {
     "data": {
      "text/plain": [
       "175.090"
      ]
     },
     "execution_count": 129,
     "metadata": {},
     "output_type": "execute_result"
    }
   ],
   "source": [
    "med = np.median(heights)\n",
    "med"
   ]
  },
  {
   "cell_type": "code",
   "execution_count": 130,
   "id": "cb0b4ee3",
   "metadata": {},
   "outputs": [
    {
     "data": {
      "text/plain": [
       "4.932"
      ]
     },
     "execution_count": 130,
     "metadata": {},
     "output_type": "execute_result"
    }
   ],
   "source": [
    "mad = robust.mad(heights)\n",
    "mad"
   ]
  },
  {
   "cell_type": "code",
   "execution_count": 131,
   "id": "715d1701",
   "metadata": {},
   "outputs": [
    {
     "data": {
      "text/plain": [
       "(array([  81, 1307, 1333, 1670, 2053, 2289, 2404, 3136, 3780, 3924, 4097,\n",
       "        4477, 4599, 4712, 5274, 5903, 5935, 7040, 7340, 7510, 7743, 8578,\n",
       "        8650, 9406, 9678, 9888], dtype=int64),)"
      ]
     },
     "execution_count": 131,
     "metadata": {},
     "output_type": "execute_result"
    }
   ],
   "source": [
    "locs = np.where(np.abs((heights - med) / mad) > 3)\n",
    "locs"
   ]
  },
  {
   "cell_type": "code",
   "execution_count": 132,
   "id": "df6f8ff9",
   "metadata": {},
   "outputs": [
    {
     "data": {
      "text/plain": [
       "array([157.182, 190.628, 190.548, 155.596, 158.613, 191.103, 160.277,\n",
       "       158.832, 160.279, 157.826, 160.072, 159.918, 159.246, 190.006,\n",
       "       158.679, 157.003, 160.031, 158.681, 160.142, 159.258, 191.439,\n",
       "       158.343, 155.707, 190.188, 160.236, 159.739])"
      ]
     },
     "execution_count": 132,
     "metadata": {},
     "output_type": "execute_result"
    }
   ],
   "source": [
    "heights[locs]"
   ]
  },
  {
   "cell_type": "raw",
   "id": "a7776ec7",
   "metadata": {},
   "source": [
    "!pip install pingouin\n",
    "!pip install scikit_posthocs"
   ]
  },
  {
   "cell_type": "code",
   "execution_count": 133,
   "id": "2d0d431a",
   "metadata": {},
   "outputs": [],
   "source": [
    "import pingouin as pg\n",
    "import scikit_posthocs as sp"
   ]
  },
  {
   "cell_type": "code",
   "execution_count": 134,
   "id": "33b7dedf",
   "metadata": {},
   "outputs": [
    {
     "data": {
      "text/plain": [
       "['GDP_Per_Capital_2021.csv',\n",
       " 'KBO_Hitter_2021.z',\n",
       " 'Used_Cars_Price.csv',\n",
       " 'Used_Cars_Price.xlsx',\n",
       " 'Used_Cars_Price.z',\n",
       " 'Used_Cars_Price_Prep.z']"
      ]
     },
     "execution_count": 134,
     "metadata": {},
     "output_type": "execute_result"
    }
   ],
   "source": [
    "os.listdir()"
   ]
  },
  {
   "cell_type": "code",
   "execution_count": 135,
   "id": "524e067d",
   "metadata": {},
   "outputs": [],
   "source": [
    "df = joblib.load('Used_Cars_Price.z')"
   ]
  },
  {
   "cell_type": "code",
   "execution_count": 136,
   "id": "7639addb",
   "metadata": {},
   "outputs": [
    {
     "name": "stdout",
     "output_type": "stream",
     "text": [
      "<class 'pandas.core.frame.DataFrame'>\n",
      "RangeIndex: 1268 entries, 0 to 1267\n",
      "Data columns (total 10 columns):\n",
      " #   Column     Non-Null Count  Dtype \n",
      "---  ------     --------------  ----- \n",
      " 0   Price      1268 non-null   int64 \n",
      " 1   Age        1268 non-null   int64 \n",
      " 2   KM         1268 non-null   int64 \n",
      " 3   FuelType   1268 non-null   object\n",
      " 4   HP         1268 non-null   int64 \n",
      " 5   MetColor   1268 non-null   object\n",
      " 6   Automatic  1268 non-null   object\n",
      " 7   CC         1268 non-null   int64 \n",
      " 8   Doors      1268 non-null   int64 \n",
      " 9   Weight     1268 non-null   int64 \n",
      "dtypes: int64(7), object(3)\n",
      "memory usage: 99.2+ KB\n"
     ]
    }
   ],
   "source": [
    "df.info()"
   ]
  },
  {
   "cell_type": "code",
   "execution_count": 137,
   "id": "4f669868",
   "metadata": {},
   "outputs": [
    {
     "data": {
      "text/html": [
       "<div>\n",
       "<style scoped>\n",
       "    .dataframe tbody tr th:only-of-type {\n",
       "        vertical-align: middle;\n",
       "    }\n",
       "\n",
       "    .dataframe tbody tr th {\n",
       "        vertical-align: top;\n",
       "    }\n",
       "\n",
       "    .dataframe thead th {\n",
       "        text-align: right;\n",
       "    }\n",
       "</style>\n",
       "<table border=\"1\" class=\"dataframe\">\n",
       "  <thead>\n",
       "    <tr style=\"text-align: right;\">\n",
       "      <th></th>\n",
       "      <th>Price</th>\n",
       "      <th>Age</th>\n",
       "      <th>KM</th>\n",
       "      <th>FuelType</th>\n",
       "      <th>HP</th>\n",
       "      <th>MetColor</th>\n",
       "      <th>Automatic</th>\n",
       "      <th>CC</th>\n",
       "      <th>Doors</th>\n",
       "      <th>Weight</th>\n",
       "    </tr>\n",
       "  </thead>\n",
       "  <tbody>\n",
       "    <tr>\n",
       "      <th>0</th>\n",
       "      <td>13500</td>\n",
       "      <td>23</td>\n",
       "      <td>46986</td>\n",
       "      <td>Diesel</td>\n",
       "      <td>90</td>\n",
       "      <td>1</td>\n",
       "      <td>0</td>\n",
       "      <td>2000</td>\n",
       "      <td>3</td>\n",
       "      <td>1165</td>\n",
       "    </tr>\n",
       "    <tr>\n",
       "      <th>1</th>\n",
       "      <td>13750</td>\n",
       "      <td>23</td>\n",
       "      <td>72937</td>\n",
       "      <td>Diesel</td>\n",
       "      <td>90</td>\n",
       "      <td>1</td>\n",
       "      <td>0</td>\n",
       "      <td>2000</td>\n",
       "      <td>3</td>\n",
       "      <td>1165</td>\n",
       "    </tr>\n",
       "    <tr>\n",
       "      <th>2</th>\n",
       "      <td>13950</td>\n",
       "      <td>24</td>\n",
       "      <td>41711</td>\n",
       "      <td>Diesel</td>\n",
       "      <td>90</td>\n",
       "      <td>1</td>\n",
       "      <td>0</td>\n",
       "      <td>2000</td>\n",
       "      <td>3</td>\n",
       "      <td>1165</td>\n",
       "    </tr>\n",
       "    <tr>\n",
       "      <th>3</th>\n",
       "      <td>14950</td>\n",
       "      <td>26</td>\n",
       "      <td>48000</td>\n",
       "      <td>Diesel</td>\n",
       "      <td>90</td>\n",
       "      <td>0</td>\n",
       "      <td>0</td>\n",
       "      <td>2000</td>\n",
       "      <td>3</td>\n",
       "      <td>1165</td>\n",
       "    </tr>\n",
       "    <tr>\n",
       "      <th>4</th>\n",
       "      <td>13750</td>\n",
       "      <td>30</td>\n",
       "      <td>38500</td>\n",
       "      <td>Diesel</td>\n",
       "      <td>90</td>\n",
       "      <td>0</td>\n",
       "      <td>0</td>\n",
       "      <td>2000</td>\n",
       "      <td>3</td>\n",
       "      <td>1170</td>\n",
       "    </tr>\n",
       "  </tbody>\n",
       "</table>\n",
       "</div>"
      ],
      "text/plain": [
       "   Price  Age     KM FuelType  HP MetColor Automatic    CC  Doors  Weight\n",
       "0  13500   23  46986   Diesel  90        1         0  2000      3    1165\n",
       "1  13750   23  72937   Diesel  90        1         0  2000      3    1165\n",
       "2  13950   24  41711   Diesel  90        1         0  2000      3    1165\n",
       "3  14950   26  48000   Diesel  90        0         0  2000      3    1165\n",
       "4  13750   30  38500   Diesel  90        0         0  2000      3    1170"
      ]
     },
     "execution_count": 137,
     "metadata": {},
     "output_type": "execute_result"
    }
   ],
   "source": [
    "df.head()"
   ]
  },
  {
   "cell_type": "code",
   "execution_count": 138,
   "id": "6ecb1f23",
   "metadata": {},
   "outputs": [
    {
     "data": {
      "text/plain": [
       "-22157.693"
      ]
     },
     "execution_count": 138,
     "metadata": {},
     "output_type": "execute_result"
    }
   ],
   "source": [
    "df['Age'].cov(df['Price'])"
   ]
  },
  {
   "cell_type": "code",
   "execution_count": 140,
   "id": "6c069a1c",
   "metadata": {},
   "outputs": [
    {
     "name": "stderr",
     "output_type": "stream",
     "text": [
      "C:\\Users\\Administrator\\AppData\\Local\\Temp\\ipykernel_2140\\3994763845.py:1: FutureWarning: The default value of numeric_only in DataFrame.cov is deprecated. In a future version, it will default to False. Select only valid columns or specify the value of numeric_only to silence this warning.\n",
      "  df.cov().round(2)\n"
     ]
    },
    {
     "data": {
      "text/html": [
       "<div>\n",
       "<style scoped>\n",
       "    .dataframe tbody tr th:only-of-type {\n",
       "        vertical-align: middle;\n",
       "    }\n",
       "\n",
       "    .dataframe tbody tr th {\n",
       "        vertical-align: top;\n",
       "    }\n",
       "\n",
       "    .dataframe thead th {\n",
       "        text-align: right;\n",
       "    }\n",
       "</style>\n",
       "<table border=\"1\" class=\"dataframe\">\n",
       "  <thead>\n",
       "    <tr style=\"text-align: right;\">\n",
       "      <th></th>\n",
       "      <th>Price</th>\n",
       "      <th>Age</th>\n",
       "      <th>KM</th>\n",
       "      <th>HP</th>\n",
       "      <th>CC</th>\n",
       "      <th>Doors</th>\n",
       "      <th>Weight</th>\n",
       "    </tr>\n",
       "  </thead>\n",
       "  <tbody>\n",
       "    <tr>\n",
       "      <th>Price</th>\n",
       "      <td>4.117e+06</td>\n",
       "      <td>-22157.69</td>\n",
       "      <td>-3.744e+07</td>\n",
       "      <td>5899.69</td>\n",
       "      <td>1.881e+04</td>\n",
       "      <td>317.01</td>\n",
       "      <td>15155.22</td>\n",
       "    </tr>\n",
       "    <tr>\n",
       "      <th>Age</th>\n",
       "      <td>-2.216e+04</td>\n",
       "      <td>187.94</td>\n",
       "      <td>1.712e+05</td>\n",
       "      <td>-7.99</td>\n",
       "      <td>-2.136e+02</td>\n",
       "      <td>-1.18</td>\n",
       "      <td>-98.23</td>\n",
       "    </tr>\n",
       "    <tr>\n",
       "      <th>KM</th>\n",
       "      <td>-3.744e+07</td>\n",
       "      <td>171187.12</td>\n",
       "      <td>1.286e+09</td>\n",
       "      <td>-155996.12</td>\n",
       "      <td>2.558e+06</td>\n",
       "      <td>595.87</td>\n",
       "      <td>359258.46</td>\n",
       "    </tr>\n",
       "    <tr>\n",
       "      <th>HP</th>\n",
       "      <td>5.900e+03</td>\n",
       "      <td>-7.99</td>\n",
       "      <td>-1.560e+05</td>\n",
       "      <td>171.61</td>\n",
       "      <td>-4.669e+01</td>\n",
       "      <td>1.50</td>\n",
       "      <td>-39.09</td>\n",
       "    </tr>\n",
       "    <tr>\n",
       "      <th>CC</th>\n",
       "      <td>1.881e+04</td>\n",
       "      <td>-213.61</td>\n",
       "      <td>2.558e+06</td>\n",
       "      <td>-46.69</td>\n",
       "      <td>3.373e+04</td>\n",
       "      <td>23.85</td>\n",
       "      <td>5001.29</td>\n",
       "    </tr>\n",
       "    <tr>\n",
       "      <th>Doors</th>\n",
       "      <td>3.170e+02</td>\n",
       "      <td>-1.18</td>\n",
       "      <td>5.959e+02</td>\n",
       "      <td>1.50</td>\n",
       "      <td>2.385e+01</td>\n",
       "      <td>0.90</td>\n",
       "      <td>13.21</td>\n",
       "    </tr>\n",
       "    <tr>\n",
       "      <th>Weight</th>\n",
       "      <td>1.516e+04</td>\n",
       "      <td>-98.23</td>\n",
       "      <td>3.593e+05</td>\n",
       "      <td>-39.09</td>\n",
       "      <td>5.001e+03</td>\n",
       "      <td>13.21</td>\n",
       "      <td>1145.08</td>\n",
       "    </tr>\n",
       "  </tbody>\n",
       "</table>\n",
       "</div>"
      ],
      "text/plain": [
       "            Price        Age         KM         HP         CC   Doors  \\\n",
       "Price   4.117e+06  -22157.69 -3.744e+07    5899.69  1.881e+04  317.01   \n",
       "Age    -2.216e+04     187.94  1.712e+05      -7.99 -2.136e+02   -1.18   \n",
       "KM     -3.744e+07  171187.12  1.286e+09 -155996.12  2.558e+06  595.87   \n",
       "HP      5.900e+03      -7.99 -1.560e+05     171.61 -4.669e+01    1.50   \n",
       "CC      1.881e+04    -213.61  2.558e+06     -46.69  3.373e+04   23.85   \n",
       "Doors   3.170e+02      -1.18  5.959e+02       1.50  2.385e+01    0.90   \n",
       "Weight  1.516e+04     -98.23  3.593e+05     -39.09  5.001e+03   13.21   \n",
       "\n",
       "           Weight  \n",
       "Price    15155.22  \n",
       "Age        -98.23  \n",
       "KM      359258.46  \n",
       "HP         -39.09  \n",
       "CC        5001.29  \n",
       "Doors       13.21  \n",
       "Weight    1145.08  "
      ]
     },
     "execution_count": 140,
     "metadata": {},
     "output_type": "execute_result"
    }
   ],
   "source": [
    "df.cov().round(2)"
   ]
  },
  {
   "cell_type": "code",
   "execution_count": 141,
   "id": "479f1458",
   "metadata": {},
   "outputs": [
    {
     "data": {
      "text/plain": [
       "-0.797"
      ]
     },
     "execution_count": 141,
     "metadata": {},
     "output_type": "execute_result"
    }
   ],
   "source": [
    "df['Age'].corr(df['Price'])"
   ]
  },
  {
   "cell_type": "code",
   "execution_count": 142,
   "id": "44b1bb6b",
   "metadata": {},
   "outputs": [
    {
     "name": "stderr",
     "output_type": "stream",
     "text": [
      "C:\\Users\\Administrator\\AppData\\Local\\Temp\\ipykernel_2140\\1134722465.py:1: FutureWarning: The default value of numeric_only in DataFrame.corr is deprecated. In a future version, it will default to False. Select only valid columns or specify the value of numeric_only to silence this warning.\n",
      "  df.corr()\n"
     ]
    },
    {
     "data": {
      "text/html": [
       "<div>\n",
       "<style scoped>\n",
       "    .dataframe tbody tr th:only-of-type {\n",
       "        vertical-align: middle;\n",
       "    }\n",
       "\n",
       "    .dataframe tbody tr th {\n",
       "        vertical-align: top;\n",
       "    }\n",
       "\n",
       "    .dataframe thead th {\n",
       "        text-align: right;\n",
       "    }\n",
       "</style>\n",
       "<table border=\"1\" class=\"dataframe\">\n",
       "  <thead>\n",
       "    <tr style=\"text-align: right;\">\n",
       "      <th></th>\n",
       "      <th>Price</th>\n",
       "      <th>Age</th>\n",
       "      <th>KM</th>\n",
       "      <th>HP</th>\n",
       "      <th>CC</th>\n",
       "      <th>Doors</th>\n",
       "      <th>Weight</th>\n",
       "    </tr>\n",
       "  </thead>\n",
       "  <tbody>\n",
       "    <tr>\n",
       "      <th>Price</th>\n",
       "      <td>1.000</td>\n",
       "      <td>-0.797</td>\n",
       "      <td>-0.515</td>\n",
       "      <td>0.222</td>\n",
       "      <td>0.050</td>\n",
       "      <td>0.165</td>\n",
       "      <td>0.221</td>\n",
       "    </tr>\n",
       "    <tr>\n",
       "      <th>Age</th>\n",
       "      <td>-0.797</td>\n",
       "      <td>1.000</td>\n",
       "      <td>0.348</td>\n",
       "      <td>-0.044</td>\n",
       "      <td>-0.085</td>\n",
       "      <td>-0.091</td>\n",
       "      <td>-0.212</td>\n",
       "    </tr>\n",
       "    <tr>\n",
       "      <th>KM</th>\n",
       "      <td>-0.515</td>\n",
       "      <td>0.348</td>\n",
       "      <td>1.000</td>\n",
       "      <td>-0.332</td>\n",
       "      <td>0.388</td>\n",
       "      <td>0.018</td>\n",
       "      <td>0.296</td>\n",
       "    </tr>\n",
       "    <tr>\n",
       "      <th>HP</th>\n",
       "      <td>0.222</td>\n",
       "      <td>-0.044</td>\n",
       "      <td>-0.332</td>\n",
       "      <td>1.000</td>\n",
       "      <td>-0.019</td>\n",
       "      <td>0.120</td>\n",
       "      <td>-0.088</td>\n",
       "    </tr>\n",
       "    <tr>\n",
       "      <th>CC</th>\n",
       "      <td>0.050</td>\n",
       "      <td>-0.085</td>\n",
       "      <td>0.388</td>\n",
       "      <td>-0.019</td>\n",
       "      <td>1.000</td>\n",
       "      <td>0.137</td>\n",
       "      <td>0.805</td>\n",
       "    </tr>\n",
       "    <tr>\n",
       "      <th>Doors</th>\n",
       "      <td>0.165</td>\n",
       "      <td>-0.091</td>\n",
       "      <td>0.018</td>\n",
       "      <td>0.120</td>\n",
       "      <td>0.137</td>\n",
       "      <td>1.000</td>\n",
       "      <td>0.412</td>\n",
       "    </tr>\n",
       "    <tr>\n",
       "      <th>Weight</th>\n",
       "      <td>0.221</td>\n",
       "      <td>-0.212</td>\n",
       "      <td>0.296</td>\n",
       "      <td>-0.088</td>\n",
       "      <td>0.805</td>\n",
       "      <td>0.412</td>\n",
       "      <td>1.000</td>\n",
       "    </tr>\n",
       "  </tbody>\n",
       "</table>\n",
       "</div>"
      ],
      "text/plain": [
       "        Price    Age     KM     HP     CC  Doors  Weight\n",
       "Price   1.000 -0.797 -0.515  0.222  0.050  0.165   0.221\n",
       "Age    -0.797  1.000  0.348 -0.044 -0.085 -0.091  -0.212\n",
       "KM     -0.515  0.348  1.000 -0.332  0.388  0.018   0.296\n",
       "HP      0.222 -0.044 -0.332  1.000 -0.019  0.120  -0.088\n",
       "CC      0.050 -0.085  0.388 -0.019  1.000  0.137   0.805\n",
       "Doors   0.165 -0.091  0.018  0.120  0.137  1.000   0.412\n",
       "Weight  0.221 -0.212  0.296 -0.088  0.805  0.412   1.000"
      ]
     },
     "execution_count": 142,
     "metadata": {},
     "output_type": "execute_result"
    }
   ],
   "source": [
    "df.corr()"
   ]
  },
  {
   "cell_type": "code",
   "execution_count": 144,
   "id": "0837ae5c",
   "metadata": {},
   "outputs": [],
   "source": [
    "files = os.listdir()"
   ]
  },
  {
   "cell_type": "code",
   "execution_count": 145,
   "id": "6f25de37",
   "metadata": {},
   "outputs": [
    {
     "data": {
      "text/plain": [
       "['GDP_Per_Capital_2021.csv',\n",
       " 'KBO_Hitter_2021.z',\n",
       " 'Used_Cars_Price.csv',\n",
       " 'Used_Cars_Price.xlsx',\n",
       " 'Used_Cars_Price.z',\n",
       " 'Used_Cars_Price_Prep.z']"
      ]
     },
     "execution_count": 145,
     "metadata": {},
     "output_type": "execute_result"
    }
   ],
   "source": [
    "[file for file in files if os.path.isfile(file)]"
   ]
  },
  {
   "cell_type": "code",
   "execution_count": 146,
   "id": "c999919a",
   "metadata": {},
   "outputs": [
    {
     "data": {
      "text/plain": [
       "['temp']"
      ]
     },
     "execution_count": 146,
     "metadata": {},
     "output_type": "execute_result"
    }
   ],
   "source": [
    "[file for file in files if os.path.isdir(file)]"
   ]
  },
  {
   "cell_type": "code",
   "execution_count": 147,
   "id": "08f8c123",
   "metadata": {},
   "outputs": [
    {
     "data": {
      "text/plain": [
       "['Used_Cars_Price.xlsx']"
      ]
     },
     "execution_count": 147,
     "metadata": {},
     "output_type": "execute_result"
    }
   ],
   "source": [
    "[file for file in files if 'xlsx' in file]"
   ]
  },
  {
   "cell_type": "code",
   "execution_count": 148,
   "id": "755b3359",
   "metadata": {},
   "outputs": [
    {
     "data": {
      "text/html": [
       "<div>\n",
       "<style scoped>\n",
       "    .dataframe tbody tr th:only-of-type {\n",
       "        vertical-align: middle;\n",
       "    }\n",
       "\n",
       "    .dataframe tbody tr th {\n",
       "        vertical-align: top;\n",
       "    }\n",
       "\n",
       "    .dataframe thead th {\n",
       "        text-align: right;\n",
       "    }\n",
       "</style>\n",
       "<table border=\"1\" class=\"dataframe\">\n",
       "  <thead>\n",
       "    <tr style=\"text-align: right;\">\n",
       "      <th></th>\n",
       "      <th>n</th>\n",
       "      <th>r</th>\n",
       "      <th>CI95%</th>\n",
       "      <th>p-val</th>\n",
       "      <th>BF10</th>\n",
       "      <th>power</th>\n",
       "    </tr>\n",
       "  </thead>\n",
       "  <tbody>\n",
       "    <tr>\n",
       "      <th>pearson</th>\n",
       "      <td>1268</td>\n",
       "      <td>-0.797</td>\n",
       "      <td>[-0.82, -0.78]</td>\n",
       "      <td>5.880e-279</td>\n",
       "      <td>6.169e+274</td>\n",
       "      <td>1.0</td>\n",
       "    </tr>\n",
       "  </tbody>\n",
       "</table>\n",
       "</div>"
      ],
      "text/plain": [
       "            n      r           CI95%       p-val        BF10  power\n",
       "pearson  1268 -0.797  [-0.82, -0.78]  5.880e-279  6.169e+274    1.0"
      ]
     },
     "execution_count": 148,
     "metadata": {},
     "output_type": "execute_result"
    }
   ],
   "source": [
    "pg.corr(x = df['Age'], y = df['Price'])"
   ]
  },
  {
   "cell_type": "code",
   "execution_count": 149,
   "id": "9bfbf2bb",
   "metadata": {},
   "outputs": [],
   "source": [
    "x = df['Age']"
   ]
  },
  {
   "cell_type": "code",
   "execution_count": 151,
   "id": "7932669d",
   "metadata": {},
   "outputs": [
    {
     "data": {
      "text/plain": [
       "pearson    5.880e-279\n",
       "Name: p-val, dtype: float64"
      ]
     },
     "execution_count": 151,
     "metadata": {},
     "output_type": "execute_result"
    }
   ],
   "source": [
    "pg.corr(x = x, y = df['Price'])['p-val']"
   ]
  },
  {
   "cell_type": "code",
   "execution_count": 154,
   "id": "eb17ce39",
   "metadata": {},
   "outputs": [],
   "source": [
    "locs = df.dtypes == 'int64'"
   ]
  },
  {
   "cell_type": "code",
   "execution_count": 155,
   "id": "47d9700c",
   "metadata": {
    "collapsed": true
   },
   "outputs": [
    {
     "data": {
      "text/html": [
       "<div>\n",
       "<style scoped>\n",
       "    .dataframe tbody tr th:only-of-type {\n",
       "        vertical-align: middle;\n",
       "    }\n",
       "\n",
       "    .dataframe tbody tr th {\n",
       "        vertical-align: top;\n",
       "    }\n",
       "\n",
       "    .dataframe thead th {\n",
       "        text-align: right;\n",
       "    }\n",
       "</style>\n",
       "<table border=\"1\" class=\"dataframe\">\n",
       "  <thead>\n",
       "    <tr style=\"text-align: right;\">\n",
       "      <th></th>\n",
       "      <th>Price</th>\n",
       "      <th>Age</th>\n",
       "      <th>KM</th>\n",
       "      <th>HP</th>\n",
       "      <th>CC</th>\n",
       "      <th>Doors</th>\n",
       "      <th>Weight</th>\n",
       "    </tr>\n",
       "  </thead>\n",
       "  <tbody>\n",
       "    <tr>\n",
       "      <th>0</th>\n",
       "      <td>13500</td>\n",
       "      <td>23</td>\n",
       "      <td>46986</td>\n",
       "      <td>90</td>\n",
       "      <td>2000</td>\n",
       "      <td>3</td>\n",
       "      <td>1165</td>\n",
       "    </tr>\n",
       "    <tr>\n",
       "      <th>1</th>\n",
       "      <td>13750</td>\n",
       "      <td>23</td>\n",
       "      <td>72937</td>\n",
       "      <td>90</td>\n",
       "      <td>2000</td>\n",
       "      <td>3</td>\n",
       "      <td>1165</td>\n",
       "    </tr>\n",
       "    <tr>\n",
       "      <th>2</th>\n",
       "      <td>13950</td>\n",
       "      <td>24</td>\n",
       "      <td>41711</td>\n",
       "      <td>90</td>\n",
       "      <td>2000</td>\n",
       "      <td>3</td>\n",
       "      <td>1165</td>\n",
       "    </tr>\n",
       "    <tr>\n",
       "      <th>3</th>\n",
       "      <td>14950</td>\n",
       "      <td>26</td>\n",
       "      <td>48000</td>\n",
       "      <td>90</td>\n",
       "      <td>2000</td>\n",
       "      <td>3</td>\n",
       "      <td>1165</td>\n",
       "    </tr>\n",
       "    <tr>\n",
       "      <th>4</th>\n",
       "      <td>13750</td>\n",
       "      <td>30</td>\n",
       "      <td>38500</td>\n",
       "      <td>90</td>\n",
       "      <td>2000</td>\n",
       "      <td>3</td>\n",
       "      <td>1170</td>\n",
       "    </tr>\n",
       "    <tr>\n",
       "      <th>...</th>\n",
       "      <td>...</td>\n",
       "      <td>...</td>\n",
       "      <td>...</td>\n",
       "      <td>...</td>\n",
       "      <td>...</td>\n",
       "      <td>...</td>\n",
       "      <td>...</td>\n",
       "    </tr>\n",
       "    <tr>\n",
       "      <th>1263</th>\n",
       "      <td>15950</td>\n",
       "      <td>25</td>\n",
       "      <td>25000</td>\n",
       "      <td>97</td>\n",
       "      <td>1400</td>\n",
       "      <td>3</td>\n",
       "      <td>1100</td>\n",
       "    </tr>\n",
       "    <tr>\n",
       "      <th>1264</th>\n",
       "      <td>15500</td>\n",
       "      <td>25</td>\n",
       "      <td>49163</td>\n",
       "      <td>110</td>\n",
       "      <td>1600</td>\n",
       "      <td>5</td>\n",
       "      <td>1165</td>\n",
       "    </tr>\n",
       "    <tr>\n",
       "      <th>1265</th>\n",
       "      <td>15950</td>\n",
       "      <td>25</td>\n",
       "      <td>29719</td>\n",
       "      <td>97</td>\n",
       "      <td>1400</td>\n",
       "      <td>5</td>\n",
       "      <td>1110</td>\n",
       "    </tr>\n",
       "    <tr>\n",
       "      <th>1266</th>\n",
       "      <td>15950</td>\n",
       "      <td>19</td>\n",
       "      <td>51884</td>\n",
       "      <td>97</td>\n",
       "      <td>1400</td>\n",
       "      <td>3</td>\n",
       "      <td>1100</td>\n",
       "    </tr>\n",
       "    <tr>\n",
       "      <th>1267</th>\n",
       "      <td>15950</td>\n",
       "      <td>20</td>\n",
       "      <td>36000</td>\n",
       "      <td>110</td>\n",
       "      <td>1600</td>\n",
       "      <td>5</td>\n",
       "      <td>1075</td>\n",
       "    </tr>\n",
       "  </tbody>\n",
       "</table>\n",
       "<p>1268 rows × 7 columns</p>\n",
       "</div>"
      ],
      "text/plain": [
       "      Price  Age     KM   HP    CC  Doors  Weight\n",
       "0     13500   23  46986   90  2000      3    1165\n",
       "1     13750   23  72937   90  2000      3    1165\n",
       "2     13950   24  41711   90  2000      3    1165\n",
       "3     14950   26  48000   90  2000      3    1165\n",
       "4     13750   30  38500   90  2000      3    1170\n",
       "...     ...  ...    ...  ...   ...    ...     ...\n",
       "1263  15950   25  25000   97  1400      3    1100\n",
       "1264  15500   25  49163  110  1600      5    1165\n",
       "1265  15950   25  29719   97  1400      5    1110\n",
       "1266  15950   19  51884   97  1400      3    1100\n",
       "1267  15950   20  36000  110  1600      5    1075\n",
       "\n",
       "[1268 rows x 7 columns]"
      ]
     },
     "execution_count": 155,
     "metadata": {},
     "output_type": "execute_result"
    }
   ],
   "source": [
    "df.loc[:, locs]"
   ]
  },
  {
   "cell_type": "code",
   "execution_count": 158,
   "id": "206ea6b4",
   "metadata": {},
   "outputs": [
    {
     "data": {
      "text/html": [
       "<div>\n",
       "<style scoped>\n",
       "    .dataframe tbody tr th:only-of-type {\n",
       "        vertical-align: middle;\n",
       "    }\n",
       "\n",
       "    .dataframe tbody tr th {\n",
       "        vertical-align: top;\n",
       "    }\n",
       "\n",
       "    .dataframe thead th {\n",
       "        text-align: right;\n",
       "    }\n",
       "</style>\n",
       "<table border=\"1\" class=\"dataframe\">\n",
       "  <thead>\n",
       "    <tr style=\"text-align: right;\">\n",
       "      <th></th>\n",
       "      <th>Price</th>\n",
       "      <th>Age</th>\n",
       "      <th>KM</th>\n",
       "      <th>HP</th>\n",
       "      <th>CC</th>\n",
       "      <th>Doors</th>\n",
       "      <th>Weight</th>\n",
       "    </tr>\n",
       "  </thead>\n",
       "  <tbody>\n",
       "    <tr>\n",
       "      <th>pearson</th>\n",
       "      <td>False</td>\n",
       "      <td>False</td>\n",
       "      <td>False</td>\n",
       "      <td>False</td>\n",
       "      <td>True</td>\n",
       "      <td>False</td>\n",
       "      <td>False</td>\n",
       "    </tr>\n",
       "  </tbody>\n",
       "</table>\n",
       "</div>"
      ],
      "text/plain": [
       "         Price    Age     KM     HP    CC  Doors  Weight\n",
       "pearson  False  False  False  False  True  False   False"
      ]
     },
     "execution_count": 158,
     "metadata": {},
     "output_type": "execute_result"
    }
   ],
   "source": [
    "pval = df.loc[:, locs].apply(func = lambda x: pg.corr(x = x, y = df['Price'])['p-val'])\n",
    "pval.ge(0.05)"
   ]
  },
  {
   "cell_type": "code",
   "execution_count": 157,
   "id": "1e4cb9f8",
   "metadata": {},
   "outputs": [
    {
     "data": {
      "text/html": [
       "<div>\n",
       "<style scoped>\n",
       "    .dataframe tbody tr th:only-of-type {\n",
       "        vertical-align: middle;\n",
       "    }\n",
       "\n",
       "    .dataframe tbody tr th {\n",
       "        vertical-align: top;\n",
       "    }\n",
       "\n",
       "    .dataframe thead th {\n",
       "        text-align: right;\n",
       "    }\n",
       "</style>\n",
       "<table border=\"1\" class=\"dataframe\">\n",
       "  <thead>\n",
       "    <tr style=\"text-align: right;\">\n",
       "      <th></th>\n",
       "      <th>Price</th>\n",
       "      <th>Age</th>\n",
       "      <th>KM</th>\n",
       "      <th>HP</th>\n",
       "      <th>CC</th>\n",
       "      <th>Doors</th>\n",
       "      <th>Weight</th>\n",
       "    </tr>\n",
       "  </thead>\n",
       "  <tbody>\n",
       "    <tr>\n",
       "      <th>pearson</th>\n",
       "      <td>1.0</td>\n",
       "      <td>-0.797</td>\n",
       "      <td>-0.515</td>\n",
       "      <td>0.222</td>\n",
       "      <td>0.05</td>\n",
       "      <td>0.165</td>\n",
       "      <td>0.221</td>\n",
       "    </tr>\n",
       "  </tbody>\n",
       "</table>\n",
       "</div>"
      ],
      "text/plain": [
       "         Price    Age     KM     HP    CC  Doors  Weight\n",
       "pearson    1.0 -0.797 -0.515  0.222  0.05  0.165   0.221"
      ]
     },
     "execution_count": 157,
     "metadata": {},
     "output_type": "execute_result"
    }
   ],
   "source": [
    "df.loc[:, locs].apply(func = lambda x: pg.corr(x = x, y = df['Price'])['r'])"
   ]
  },
  {
   "cell_type": "code",
   "execution_count": 160,
   "id": "f250b2fe",
   "metadata": {},
   "outputs": [
    {
     "data": {
      "text/html": [
       "<div>\n",
       "<style scoped>\n",
       "    .dataframe tbody tr th:only-of-type {\n",
       "        vertical-align: middle;\n",
       "    }\n",
       "\n",
       "    .dataframe tbody tr th {\n",
       "        vertical-align: top;\n",
       "    }\n",
       "\n",
       "    .dataframe thead th {\n",
       "        text-align: right;\n",
       "    }\n",
       "</style>\n",
       "<table border=\"1\" class=\"dataframe\">\n",
       "  <thead>\n",
       "    <tr style=\"text-align: right;\">\n",
       "      <th></th>\n",
       "      <th>W</th>\n",
       "      <th>pval</th>\n",
       "      <th>normal</th>\n",
       "    </tr>\n",
       "  </thead>\n",
       "  <tbody>\n",
       "    <tr>\n",
       "      <th>1</th>\n",
       "      <td>0.975</td>\n",
       "      <td>7.077e-11</td>\n",
       "      <td>False</td>\n",
       "    </tr>\n",
       "    <tr>\n",
       "      <th>0</th>\n",
       "      <td>0.988</td>\n",
       "      <td>1.430e-03</td>\n",
       "      <td>False</td>\n",
       "    </tr>\n",
       "  </tbody>\n",
       "</table>\n",
       "</div>"
      ],
      "text/plain": [
       "       W       pval  normal\n",
       "1  0.975  7.077e-11   False\n",
       "0  0.988  1.430e-03   False"
      ]
     },
     "execution_count": 160,
     "metadata": {},
     "output_type": "execute_result"
    }
   ],
   "source": [
    "pg.normality(data = df, dv = 'Price', group = 'MetColor', method = 'shapiro')"
   ]
  },
  {
   "cell_type": "code",
   "execution_count": 162,
   "id": "3923f211",
   "metadata": {},
   "outputs": [
    {
     "data": {
      "text/html": [
       "<div>\n",
       "<style scoped>\n",
       "    .dataframe tbody tr th:only-of-type {\n",
       "        vertical-align: middle;\n",
       "    }\n",
       "\n",
       "    .dataframe tbody tr th {\n",
       "        vertical-align: top;\n",
       "    }\n",
       "\n",
       "    .dataframe thead th {\n",
       "        text-align: right;\n",
       "    }\n",
       "</style>\n",
       "<table border=\"1\" class=\"dataframe\">\n",
       "  <thead>\n",
       "    <tr style=\"text-align: right;\">\n",
       "      <th></th>\n",
       "      <th>MetColor</th>\n",
       "      <th>Price</th>\n",
       "    </tr>\n",
       "  </thead>\n",
       "  <tbody>\n",
       "    <tr>\n",
       "      <th>0</th>\n",
       "      <td>0</td>\n",
       "      <td>9466.673</td>\n",
       "    </tr>\n",
       "    <tr>\n",
       "      <th>1</th>\n",
       "      <td>1</td>\n",
       "      <td>9814.132</td>\n",
       "    </tr>\n",
       "  </tbody>\n",
       "</table>\n",
       "</div>"
      ],
      "text/plain": [
       "  MetColor     Price\n",
       "0        0  9466.673\n",
       "1        1  9814.132"
      ]
     },
     "execution_count": 162,
     "metadata": {},
     "output_type": "execute_result"
    }
   ],
   "source": [
    "avgs = df.groupby(by = ['MetColor'])['Price'].mean().reset_index()\n",
    "avgs"
   ]
  },
  {
   "cell_type": "code",
   "execution_count": 163,
   "id": "60a5bd41",
   "metadata": {
    "collapsed": true
   },
   "outputs": [
    {
     "data": {
      "text/html": [
       "<div>\n",
       "<style scoped>\n",
       "    .dataframe tbody tr th:only-of-type {\n",
       "        vertical-align: middle;\n",
       "    }\n",
       "\n",
       "    .dataframe tbody tr th {\n",
       "        vertical-align: top;\n",
       "    }\n",
       "\n",
       "    .dataframe thead th {\n",
       "        text-align: right;\n",
       "    }\n",
       "</style>\n",
       "<table border=\"1\" class=\"dataframe\">\n",
       "  <thead>\n",
       "    <tr style=\"text-align: right;\">\n",
       "      <th></th>\n",
       "      <th>Price_x</th>\n",
       "      <th>Age</th>\n",
       "      <th>KM</th>\n",
       "      <th>FuelType</th>\n",
       "      <th>HP</th>\n",
       "      <th>MetColor</th>\n",
       "      <th>Automatic</th>\n",
       "      <th>CC</th>\n",
       "      <th>Doors</th>\n",
       "      <th>Weight</th>\n",
       "      <th>Price_y</th>\n",
       "    </tr>\n",
       "  </thead>\n",
       "  <tbody>\n",
       "    <tr>\n",
       "      <th>0</th>\n",
       "      <td>13500</td>\n",
       "      <td>23</td>\n",
       "      <td>46986</td>\n",
       "      <td>Diesel</td>\n",
       "      <td>90</td>\n",
       "      <td>1</td>\n",
       "      <td>0</td>\n",
       "      <td>2000</td>\n",
       "      <td>3</td>\n",
       "      <td>1165</td>\n",
       "      <td>9814.132</td>\n",
       "    </tr>\n",
       "    <tr>\n",
       "      <th>1</th>\n",
       "      <td>13750</td>\n",
       "      <td>23</td>\n",
       "      <td>72937</td>\n",
       "      <td>Diesel</td>\n",
       "      <td>90</td>\n",
       "      <td>1</td>\n",
       "      <td>0</td>\n",
       "      <td>2000</td>\n",
       "      <td>3</td>\n",
       "      <td>1165</td>\n",
       "      <td>9814.132</td>\n",
       "    </tr>\n",
       "    <tr>\n",
       "      <th>2</th>\n",
       "      <td>13950</td>\n",
       "      <td>24</td>\n",
       "      <td>41711</td>\n",
       "      <td>Diesel</td>\n",
       "      <td>90</td>\n",
       "      <td>1</td>\n",
       "      <td>0</td>\n",
       "      <td>2000</td>\n",
       "      <td>3</td>\n",
       "      <td>1165</td>\n",
       "      <td>9814.132</td>\n",
       "    </tr>\n",
       "    <tr>\n",
       "      <th>3</th>\n",
       "      <td>12950</td>\n",
       "      <td>29</td>\n",
       "      <td>9750</td>\n",
       "      <td>Petrol</td>\n",
       "      <td>97</td>\n",
       "      <td>1</td>\n",
       "      <td>0</td>\n",
       "      <td>1400</td>\n",
       "      <td>3</td>\n",
       "      <td>1100</td>\n",
       "      <td>9814.132</td>\n",
       "    </tr>\n",
       "    <tr>\n",
       "      <th>4</th>\n",
       "      <td>14950</td>\n",
       "      <td>26</td>\n",
       "      <td>32692</td>\n",
       "      <td>Petrol</td>\n",
       "      <td>97</td>\n",
       "      <td>1</td>\n",
       "      <td>0</td>\n",
       "      <td>1400</td>\n",
       "      <td>3</td>\n",
       "      <td>1100</td>\n",
       "      <td>9814.132</td>\n",
       "    </tr>\n",
       "  </tbody>\n",
       "</table>\n",
       "</div>"
      ],
      "text/plain": [
       "   Price_x  Age     KM FuelType  HP MetColor Automatic    CC  Doors  Weight  \\\n",
       "0    13500   23  46986   Diesel  90        1         0  2000      3    1165   \n",
       "1    13750   23  72937   Diesel  90        1         0  2000      3    1165   \n",
       "2    13950   24  41711   Diesel  90        1         0  2000      3    1165   \n",
       "3    12950   29   9750   Petrol  97        1         0  1400      3    1100   \n",
       "4    14950   26  32692   Petrol  97        1         0  1400      3    1100   \n",
       "\n",
       "    Price_y  \n",
       "0  9814.132  \n",
       "1  9814.132  \n",
       "2  9814.132  \n",
       "3  9814.132  \n",
       "4  9814.132  "
      ]
     },
     "execution_count": 163,
     "metadata": {},
     "output_type": "execute_result"
    }
   ],
   "source": [
    "df1 = pd.merge(left = df, right = avgs, how = 'inner', on = 'MetColor')\n",
    "df1.head()"
   ]
  },
  {
   "cell_type": "code",
   "execution_count": 166,
   "id": "41a8b97b",
   "metadata": {
    "collapsed": true
   },
   "outputs": [
    {
     "data": {
      "text/html": [
       "<div>\n",
       "<style scoped>\n",
       "    .dataframe tbody tr th:only-of-type {\n",
       "        vertical-align: middle;\n",
       "    }\n",
       "\n",
       "    .dataframe tbody tr th {\n",
       "        vertical-align: top;\n",
       "    }\n",
       "\n",
       "    .dataframe thead th {\n",
       "        text-align: right;\n",
       "    }\n",
       "</style>\n",
       "<table border=\"1\" class=\"dataframe\">\n",
       "  <thead>\n",
       "    <tr style=\"text-align: right;\">\n",
       "      <th></th>\n",
       "      <th>Price_x</th>\n",
       "      <th>Age</th>\n",
       "      <th>KM</th>\n",
       "      <th>FuelType</th>\n",
       "      <th>HP</th>\n",
       "      <th>MetColor</th>\n",
       "      <th>Automatic</th>\n",
       "      <th>CC</th>\n",
       "      <th>Doors</th>\n",
       "      <th>Weight</th>\n",
       "      <th>Price_y</th>\n",
       "      <th>Error</th>\n",
       "    </tr>\n",
       "  </thead>\n",
       "  <tbody>\n",
       "    <tr>\n",
       "      <th>0</th>\n",
       "      <td>13500</td>\n",
       "      <td>23</td>\n",
       "      <td>46986</td>\n",
       "      <td>Diesel</td>\n",
       "      <td>90</td>\n",
       "      <td>1</td>\n",
       "      <td>0</td>\n",
       "      <td>2000</td>\n",
       "      <td>3</td>\n",
       "      <td>1165</td>\n",
       "      <td>9814.132</td>\n",
       "      <td>3685.868</td>\n",
       "    </tr>\n",
       "    <tr>\n",
       "      <th>1</th>\n",
       "      <td>13750</td>\n",
       "      <td>23</td>\n",
       "      <td>72937</td>\n",
       "      <td>Diesel</td>\n",
       "      <td>90</td>\n",
       "      <td>1</td>\n",
       "      <td>0</td>\n",
       "      <td>2000</td>\n",
       "      <td>3</td>\n",
       "      <td>1165</td>\n",
       "      <td>9814.132</td>\n",
       "      <td>3935.868</td>\n",
       "    </tr>\n",
       "    <tr>\n",
       "      <th>2</th>\n",
       "      <td>13950</td>\n",
       "      <td>24</td>\n",
       "      <td>41711</td>\n",
       "      <td>Diesel</td>\n",
       "      <td>90</td>\n",
       "      <td>1</td>\n",
       "      <td>0</td>\n",
       "      <td>2000</td>\n",
       "      <td>3</td>\n",
       "      <td>1165</td>\n",
       "      <td>9814.132</td>\n",
       "      <td>4135.868</td>\n",
       "    </tr>\n",
       "    <tr>\n",
       "      <th>3</th>\n",
       "      <td>12950</td>\n",
       "      <td>29</td>\n",
       "      <td>9750</td>\n",
       "      <td>Petrol</td>\n",
       "      <td>97</td>\n",
       "      <td>1</td>\n",
       "      <td>0</td>\n",
       "      <td>1400</td>\n",
       "      <td>3</td>\n",
       "      <td>1100</td>\n",
       "      <td>9814.132</td>\n",
       "      <td>3135.868</td>\n",
       "    </tr>\n",
       "    <tr>\n",
       "      <th>4</th>\n",
       "      <td>14950</td>\n",
       "      <td>26</td>\n",
       "      <td>32692</td>\n",
       "      <td>Petrol</td>\n",
       "      <td>97</td>\n",
       "      <td>1</td>\n",
       "      <td>0</td>\n",
       "      <td>1400</td>\n",
       "      <td>3</td>\n",
       "      <td>1100</td>\n",
       "      <td>9814.132</td>\n",
       "      <td>5135.868</td>\n",
       "    </tr>\n",
       "  </tbody>\n",
       "</table>\n",
       "</div>"
      ],
      "text/plain": [
       "   Price_x  Age     KM FuelType  HP MetColor Automatic    CC  Doors  Weight  \\\n",
       "0    13500   23  46986   Diesel  90        1         0  2000      3    1165   \n",
       "1    13750   23  72937   Diesel  90        1         0  2000      3    1165   \n",
       "2    13950   24  41711   Diesel  90        1         0  2000      3    1165   \n",
       "3    12950   29   9750   Petrol  97        1         0  1400      3    1100   \n",
       "4    14950   26  32692   Petrol  97        1         0  1400      3    1100   \n",
       "\n",
       "    Price_y     Error  \n",
       "0  9814.132  3685.868  \n",
       "1  9814.132  3935.868  \n",
       "2  9814.132  4135.868  \n",
       "3  9814.132  3135.868  \n",
       "4  9814.132  5135.868  "
      ]
     },
     "execution_count": 166,
     "metadata": {},
     "output_type": "execute_result"
    }
   ],
   "source": [
    "df1['Error'] = df1['Price_x'] - df1['Price_y']\n",
    "df1.head()"
   ]
  },
  {
   "cell_type": "code",
   "execution_count": 167,
   "id": "1f3ea8ae",
   "metadata": {},
   "outputs": [
    {
     "data": {
      "text/plain": [
       "ShapiroResult(statistic=0.9835606813430786, pvalue=8.399511641776769e-11)"
      ]
     },
     "execution_count": 167,
     "metadata": {},
     "output_type": "execute_result"
    }
   ],
   "source": [
    "stats.shapiro(df1['Error'])"
   ]
  },
  {
   "cell_type": "code",
   "execution_count": 168,
   "id": "f98093ed",
   "metadata": {},
   "outputs": [
    {
     "data": {
      "text/html": [
       "<div>\n",
       "<style scoped>\n",
       "    .dataframe tbody tr th:only-of-type {\n",
       "        vertical-align: middle;\n",
       "    }\n",
       "\n",
       "    .dataframe tbody tr th {\n",
       "        vertical-align: top;\n",
       "    }\n",
       "\n",
       "    .dataframe thead th {\n",
       "        text-align: right;\n",
       "    }\n",
       "</style>\n",
       "<table border=\"1\" class=\"dataframe\">\n",
       "  <thead>\n",
       "    <tr style=\"text-align: right;\">\n",
       "      <th></th>\n",
       "      <th>W</th>\n",
       "      <th>pval</th>\n",
       "      <th>equal_var</th>\n",
       "    </tr>\n",
       "  </thead>\n",
       "  <tbody>\n",
       "    <tr>\n",
       "      <th>levene</th>\n",
       "      <td>5.761</td>\n",
       "      <td>0.017</td>\n",
       "      <td>False</td>\n",
       "    </tr>\n",
       "  </tbody>\n",
       "</table>\n",
       "</div>"
      ],
      "text/plain": [
       "            W   pval  equal_var\n",
       "levene  5.761  0.017      False"
      ]
     },
     "execution_count": 168,
     "metadata": {},
     "output_type": "execute_result"
    }
   ],
   "source": [
    "pg.homoscedasticity(data = df, dv = 'Price', group = 'MetColor', method = 'levene')"
   ]
  },
  {
   "cell_type": "code",
   "execution_count": 169,
   "id": "f25d7e8e",
   "metadata": {},
   "outputs": [
    {
     "data": {
      "text/plain": [
       "array(['1', '0'], dtype=object)"
      ]
     },
     "execution_count": 169,
     "metadata": {},
     "output_type": "execute_result"
    }
   ],
   "source": [
    "values = df['MetColor'].unique()\n",
    "values"
   ]
  },
  {
   "cell_type": "code",
   "execution_count": 170,
   "id": "52b40e28",
   "metadata": {},
   "outputs": [
    {
     "data": {
      "text/plain": [
       "['1', '0']"
      ]
     },
     "execution_count": 170,
     "metadata": {},
     "output_type": "execute_result"
    }
   ],
   "source": [
    "[v for v in values]"
   ]
  },
  {
   "cell_type": "code",
   "execution_count": 172,
   "id": "eb2d6aa6",
   "metadata": {},
   "outputs": [],
   "source": [
    "sp1, sp2 = [df['Price'][df['MetColor'].eq(v)] for v in values]"
   ]
  },
  {
   "cell_type": "code",
   "execution_count": 173,
   "id": "8e1dd09e",
   "metadata": {},
   "outputs": [],
   "source": [
    "sp1 = df['Price'][df['MetColor'].eq('1')]\n",
    "sp2 = df['Price'][df['MetColor'].eq('0')]"
   ]
  },
  {
   "cell_type": "code",
   "execution_count": 174,
   "id": "c5b9dcfb",
   "metadata": {},
   "outputs": [
    {
     "data": {
      "text/html": [
       "<div>\n",
       "<style scoped>\n",
       "    .dataframe tbody tr th:only-of-type {\n",
       "        vertical-align: middle;\n",
       "    }\n",
       "\n",
       "    .dataframe tbody tr th {\n",
       "        vertical-align: top;\n",
       "    }\n",
       "\n",
       "    .dataframe thead th {\n",
       "        text-align: right;\n",
       "    }\n",
       "</style>\n",
       "<table border=\"1\" class=\"dataframe\">\n",
       "  <thead>\n",
       "    <tr style=\"text-align: right;\">\n",
       "      <th></th>\n",
       "      <th>T</th>\n",
       "      <th>dof</th>\n",
       "      <th>alternative</th>\n",
       "      <th>p-val</th>\n",
       "      <th>CI95%</th>\n",
       "      <th>cohen-d</th>\n",
       "      <th>BF10</th>\n",
       "      <th>power</th>\n",
       "    </tr>\n",
       "  </thead>\n",
       "  <tbody>\n",
       "    <tr>\n",
       "      <th>T-test</th>\n",
       "      <td>2.892</td>\n",
       "      <td>1266</td>\n",
       "      <td>two-sided</td>\n",
       "      <td>0.004</td>\n",
       "      <td>[111.73, 583.18]</td>\n",
       "      <td>0.172</td>\n",
       "      <td>4.077</td>\n",
       "      <td>0.824</td>\n",
       "    </tr>\n",
       "  </tbody>\n",
       "</table>\n",
       "</div>"
      ],
      "text/plain": [
       "            T   dof alternative  p-val             CI95%  cohen-d   BF10  \\\n",
       "T-test  2.892  1266   two-sided  0.004  [111.73, 583.18]    0.172  4.077   \n",
       "\n",
       "        power  \n",
       "T-test  0.824  "
      ]
     },
     "execution_count": 174,
     "metadata": {},
     "output_type": "execute_result"
    }
   ],
   "source": [
    "pg.ttest(x = sp1, y = sp2, correction = False)"
   ]
  },
  {
   "cell_type": "code",
   "execution_count": 175,
   "id": "bd7708cf",
   "metadata": {},
   "outputs": [
    {
     "data": {
      "text/html": [
       "<div>\n",
       "<style scoped>\n",
       "    .dataframe tbody tr th:only-of-type {\n",
       "        vertical-align: middle;\n",
       "    }\n",
       "\n",
       "    .dataframe tbody tr th {\n",
       "        vertical-align: top;\n",
       "    }\n",
       "\n",
       "    .dataframe thead th {\n",
       "        text-align: right;\n",
       "    }\n",
       "</style>\n",
       "<table border=\"1\" class=\"dataframe\">\n",
       "  <thead>\n",
       "    <tr style=\"text-align: right;\">\n",
       "      <th></th>\n",
       "      <th>T</th>\n",
       "      <th>dof</th>\n",
       "      <th>alternative</th>\n",
       "      <th>p-val</th>\n",
       "      <th>CI95%</th>\n",
       "      <th>cohen-d</th>\n",
       "      <th>BF10</th>\n",
       "      <th>power</th>\n",
       "    </tr>\n",
       "  </thead>\n",
       "  <tbody>\n",
       "    <tr>\n",
       "      <th>T-test</th>\n",
       "      <td>2.984</td>\n",
       "      <td>935.893</td>\n",
       "      <td>two-sided</td>\n",
       "      <td>0.003</td>\n",
       "      <td>[118.92, 576.0]</td>\n",
       "      <td>0.172</td>\n",
       "      <td>5.313</td>\n",
       "      <td>0.824</td>\n",
       "    </tr>\n",
       "  </tbody>\n",
       "</table>\n",
       "</div>"
      ],
      "text/plain": [
       "            T      dof alternative  p-val            CI95%  cohen-d   BF10  \\\n",
       "T-test  2.984  935.893   two-sided  0.003  [118.92, 576.0]    0.172  5.313   \n",
       "\n",
       "        power  \n",
       "T-test  0.824  "
      ]
     },
     "execution_count": 175,
     "metadata": {},
     "output_type": "execute_result"
    }
   ],
   "source": [
    "pg.ttest(x = sp1, y = sp2, correction = True)"
   ]
  },
  {
   "cell_type": "code",
   "execution_count": 176,
   "id": "33b3c33f",
   "metadata": {},
   "outputs": [
    {
     "data": {
      "text/html": [
       "<div>\n",
       "<style scoped>\n",
       "    .dataframe tbody tr th:only-of-type {\n",
       "        vertical-align: middle;\n",
       "    }\n",
       "\n",
       "    .dataframe tbody tr th {\n",
       "        vertical-align: top;\n",
       "    }\n",
       "\n",
       "    .dataframe thead th {\n",
       "        text-align: right;\n",
       "    }\n",
       "</style>\n",
       "<table border=\"1\" class=\"dataframe\">\n",
       "  <thead>\n",
       "    <tr style=\"text-align: right;\">\n",
       "      <th></th>\n",
       "      <th>U-val</th>\n",
       "      <th>alternative</th>\n",
       "      <th>p-val</th>\n",
       "      <th>RBC</th>\n",
       "      <th>CLES</th>\n",
       "    </tr>\n",
       "  </thead>\n",
       "  <tbody>\n",
       "    <tr>\n",
       "      <th>MWU</th>\n",
       "      <td>193144.0</td>\n",
       "      <td>two-sided</td>\n",
       "      <td>0.03</td>\n",
       "      <td>-0.074</td>\n",
       "      <td>0.537</td>\n",
       "    </tr>\n",
       "  </tbody>\n",
       "</table>\n",
       "</div>"
      ],
      "text/plain": [
       "        U-val alternative  p-val    RBC   CLES\n",
       "MWU  193144.0   two-sided   0.03 -0.074  0.537"
      ]
     },
     "execution_count": 176,
     "metadata": {},
     "output_type": "execute_result"
    }
   ],
   "source": [
    "pg.mwu(x = sp1, y = sp2)"
   ]
  },
  {
   "cell_type": "code",
   "execution_count": 179,
   "id": "8cb0c12d",
   "metadata": {},
   "outputs": [
    {
     "data": {
      "image/png": "[encoded data removed]",
      "text/plain": [
       "<Figure size 600x600 with 1 Axes>"
      ]
     },
     "metadata": {},
     "output_type": "display_data"
    }
   ],
   "source": [
    "sns.kdeplot(data = df, x = 'Price', hue = 'MetColor', fill = True, alpha = 0.2);"
   ]
  },
  {
   "cell_type": "code",
   "execution_count": 180,
   "id": "f520023c",
   "metadata": {},
   "outputs": [
    {
     "data": {
      "text/html": [
       "<div>\n",
       "<style scoped>\n",
       "    .dataframe tbody tr th:only-of-type {\n",
       "        vertical-align: middle;\n",
       "    }\n",
       "\n",
       "    .dataframe tbody tr th {\n",
       "        vertical-align: top;\n",
       "    }\n",
       "\n",
       "    .dataframe thead th {\n",
       "        text-align: right;\n",
       "    }\n",
       "</style>\n",
       "<table border=\"1\" class=\"dataframe\">\n",
       "  <thead>\n",
       "    <tr style=\"text-align: right;\">\n",
       "      <th></th>\n",
       "      <th>W</th>\n",
       "      <th>pval</th>\n",
       "      <th>normal</th>\n",
       "    </tr>\n",
       "  </thead>\n",
       "  <tbody>\n",
       "    <tr>\n",
       "      <th>Diesel</th>\n",
       "      <td>0.956</td>\n",
       "      <td>4.250e-04</td>\n",
       "      <td>False</td>\n",
       "    </tr>\n",
       "    <tr>\n",
       "      <th>Petrol</th>\n",
       "      <td>0.978</td>\n",
       "      <td>5.504e-12</td>\n",
       "      <td>False</td>\n",
       "    </tr>\n",
       "    <tr>\n",
       "      <th>CNG</th>\n",
       "      <td>0.952</td>\n",
       "      <td>4.957e-01</td>\n",
       "      <td>True</td>\n",
       "    </tr>\n",
       "  </tbody>\n",
       "</table>\n",
       "</div>"
      ],
      "text/plain": [
       "            W       pval  normal\n",
       "Diesel  0.956  4.250e-04   False\n",
       "Petrol  0.978  5.504e-12   False\n",
       "CNG     0.952  4.957e-01    True"
      ]
     },
     "execution_count": 180,
     "metadata": {},
     "output_type": "execute_result"
    }
   ],
   "source": [
    "pg.normality(data = df, dv = 'Price', group = 'FuelType')"
   ]
  },
  {
   "cell_type": "code",
   "execution_count": 181,
   "id": "8b939aa9",
   "metadata": {},
   "outputs": [
    {
     "data": {
      "text/html": [
       "<div>\n",
       "<style scoped>\n",
       "    .dataframe tbody tr th:only-of-type {\n",
       "        vertical-align: middle;\n",
       "    }\n",
       "\n",
       "    .dataframe tbody tr th {\n",
       "        vertical-align: top;\n",
       "    }\n",
       "\n",
       "    .dataframe thead th {\n",
       "        text-align: right;\n",
       "    }\n",
       "</style>\n",
       "<table border=\"1\" class=\"dataframe\">\n",
       "  <thead>\n",
       "    <tr style=\"text-align: right;\">\n",
       "      <th></th>\n",
       "      <th>W</th>\n",
       "      <th>pval</th>\n",
       "      <th>equal_var</th>\n",
       "    </tr>\n",
       "  </thead>\n",
       "  <tbody>\n",
       "    <tr>\n",
       "      <th>levene</th>\n",
       "      <td>6.498</td>\n",
       "      <td>0.002</td>\n",
       "      <td>False</td>\n",
       "    </tr>\n",
       "  </tbody>\n",
       "</table>\n",
       "</div>"
      ],
      "text/plain": [
       "            W   pval  equal_var\n",
       "levene  6.498  0.002      False"
      ]
     },
     "execution_count": 181,
     "metadata": {},
     "output_type": "execute_result"
    }
   ],
   "source": [
    "pg.homoscedasticity(data = df, dv = 'Price', group = 'FuelType')"
   ]
  },
  {
   "cell_type": "code",
   "execution_count": 182,
   "id": "e6fd7803",
   "metadata": {},
   "outputs": [
    {
     "name": "stderr",
     "output_type": "stream",
     "text": [
      "C:\\Users\\Administrator\\Venv\\lib\\site-packages\\pingouin\\parametric.py:992: FutureWarning: Not prepending group keys to the result index of transform-like apply. In the future, the group keys will be included in the index, regardless of whether the applied function returns a like-indexed object.\n",
      "To preserve the previous behavior, use\n",
      "\n",
      "\t>>> .groupby(..., group_keys=False)\n",
      "\n",
      "To adopt the future behavior and silence this warning, use \n",
      "\n",
      "\t>>> .groupby(..., group_keys=True)\n",
      "  sserror = grp.apply(lambda x: (x - x.mean()) ** 2).sum()\n"
     ]
    },
    {
     "data": {
      "text/html": [
       "<div>\n",
       "<style scoped>\n",
       "    .dataframe tbody tr th:only-of-type {\n",
       "        vertical-align: middle;\n",
       "    }\n",
       "\n",
       "    .dataframe tbody tr th {\n",
       "        vertical-align: top;\n",
       "    }\n",
       "\n",
       "    .dataframe thead th {\n",
       "        text-align: right;\n",
       "    }\n",
       "</style>\n",
       "<table border=\"1\" class=\"dataframe\">\n",
       "  <thead>\n",
       "    <tr style=\"text-align: right;\">\n",
       "      <th></th>\n",
       "      <th>Source</th>\n",
       "      <th>ddof1</th>\n",
       "      <th>ddof2</th>\n",
       "      <th>F</th>\n",
       "      <th>p-unc</th>\n",
       "      <th>np2</th>\n",
       "    </tr>\n",
       "  </thead>\n",
       "  <tbody>\n",
       "    <tr>\n",
       "      <th>0</th>\n",
       "      <td>FuelType</td>\n",
       "      <td>2</td>\n",
       "      <td>1265</td>\n",
       "      <td>3.983</td>\n",
       "      <td>0.019</td>\n",
       "      <td>0.006</td>\n",
       "    </tr>\n",
       "  </tbody>\n",
       "</table>\n",
       "</div>"
      ],
      "text/plain": [
       "     Source  ddof1  ddof2      F  p-unc    np2\n",
       "0  FuelType      2   1265  3.983  0.019  0.006"
      ]
     },
     "execution_count": 182,
     "metadata": {},
     "output_type": "execute_result"
    }
   ],
   "source": [
    "pg.anova(data = df, dv = 'Price', between = 'FuelType')"
   ]
  },
  {
   "cell_type": "code",
   "execution_count": 183,
   "id": "98fa6460",
   "metadata": {},
   "outputs": [
    {
     "name": "stderr",
     "output_type": "stream",
     "text": [
      "C:\\Users\\Administrator\\Venv\\lib\\site-packages\\pingouin\\parametric.py:1341: FutureWarning: Not prepending group keys to the result index of transform-like apply. In the future, the group keys will be included in the index, regardless of whether the applied function returns a like-indexed object.\n",
      "To preserve the previous behavior, use\n",
      "\n",
      "\t>>> .groupby(..., group_keys=False)\n",
      "\n",
      "To adopt the future behavior and silence this warning, use \n",
      "\n",
      "\t>>> .groupby(..., group_keys=True)\n",
      "  ss_res = grp.apply(lambda x: (x - x.mean()) ** 2).sum()\n"
     ]
    },
    {
     "data": {
      "text/html": [
       "<div>\n",
       "<style scoped>\n",
       "    .dataframe tbody tr th:only-of-type {\n",
       "        vertical-align: middle;\n",
       "    }\n",
       "\n",
       "    .dataframe tbody tr th {\n",
       "        vertical-align: top;\n",
       "    }\n",
       "\n",
       "    .dataframe thead th {\n",
       "        text-align: right;\n",
       "    }\n",
       "</style>\n",
       "<table border=\"1\" class=\"dataframe\">\n",
       "  <thead>\n",
       "    <tr style=\"text-align: right;\">\n",
       "      <th></th>\n",
       "      <th>Source</th>\n",
       "      <th>ddof1</th>\n",
       "      <th>ddof2</th>\n",
       "      <th>F</th>\n",
       "      <th>p-unc</th>\n",
       "      <th>np2</th>\n",
       "    </tr>\n",
       "  </thead>\n",
       "  <tbody>\n",
       "    <tr>\n",
       "      <th>0</th>\n",
       "      <td>FuelType</td>\n",
       "      <td>2</td>\n",
       "      <td>38.942</td>\n",
       "      <td>2.612</td>\n",
       "      <td>0.086</td>\n",
       "      <td>0.006</td>\n",
       "    </tr>\n",
       "  </tbody>\n",
       "</table>\n",
       "</div>"
      ],
      "text/plain": [
       "     Source  ddof1   ddof2      F  p-unc    np2\n",
       "0  FuelType      2  38.942  2.612  0.086  0.006"
      ]
     },
     "execution_count": 183,
     "metadata": {},
     "output_type": "execute_result"
    }
   ],
   "source": [
    "pg.welch_anova(data = df, dv = 'Price', between = 'FuelType')"
   ]
  },
  {
   "cell_type": "code",
   "execution_count": 184,
   "id": "49b36553",
   "metadata": {},
   "outputs": [
    {
     "data": {
      "text/html": [
       "<div>\n",
       "<style scoped>\n",
       "    .dataframe tbody tr th:only-of-type {\n",
       "        vertical-align: middle;\n",
       "    }\n",
       "\n",
       "    .dataframe tbody tr th {\n",
       "        vertical-align: top;\n",
       "    }\n",
       "\n",
       "    .dataframe thead th {\n",
       "        text-align: right;\n",
       "    }\n",
       "</style>\n",
       "<table border=\"1\" class=\"dataframe\">\n",
       "  <thead>\n",
       "    <tr style=\"text-align: right;\">\n",
       "      <th></th>\n",
       "      <th>Source</th>\n",
       "      <th>ddof1</th>\n",
       "      <th>H</th>\n",
       "      <th>p-unc</th>\n",
       "    </tr>\n",
       "  </thead>\n",
       "  <tbody>\n",
       "    <tr>\n",
       "      <th>Kruskal</th>\n",
       "      <td>FuelType</td>\n",
       "      <td>2</td>\n",
       "      <td>10.475</td>\n",
       "      <td>0.005</td>\n",
       "    </tr>\n",
       "  </tbody>\n",
       "</table>\n",
       "</div>"
      ],
      "text/plain": [
       "           Source  ddof1       H  p-unc\n",
       "Kruskal  FuelType      2  10.475  0.005"
      ]
     },
     "execution_count": 184,
     "metadata": {},
     "output_type": "execute_result"
    }
   ],
   "source": [
    "pg.kruskal(data = df, dv = 'Price', between = 'FuelType')"
   ]
  },
  {
   "cell_type": "code",
   "execution_count": 186,
   "id": "d14fb46d",
   "metadata": {},
   "outputs": [
    {
     "data": {
      "text/html": [
       "<div>\n",
       "<style scoped>\n",
       "    .dataframe tbody tr th:only-of-type {\n",
       "        vertical-align: middle;\n",
       "    }\n",
       "\n",
       "    .dataframe tbody tr th {\n",
       "        vertical-align: top;\n",
       "    }\n",
       "\n",
       "    .dataframe thead th {\n",
       "        text-align: right;\n",
       "    }\n",
       "</style>\n",
       "<table border=\"1\" class=\"dataframe\">\n",
       "  <thead>\n",
       "    <tr style=\"text-align: right;\">\n",
       "      <th></th>\n",
       "      <th>Diesel</th>\n",
       "      <th>Petrol</th>\n",
       "      <th>CNG</th>\n",
       "    </tr>\n",
       "  </thead>\n",
       "  <tbody>\n",
       "    <tr>\n",
       "      <th>Diesel</th>\n",
       "      <td>1.000</td>\n",
       "      <td>0.022</td>\n",
       "      <td>0.934</td>\n",
       "    </tr>\n",
       "    <tr>\n",
       "      <th>Petrol</th>\n",
       "      <td>0.022</td>\n",
       "      <td>1.000</td>\n",
       "      <td>0.798</td>\n",
       "    </tr>\n",
       "    <tr>\n",
       "      <th>CNG</th>\n",
       "      <td>0.934</td>\n",
       "      <td>0.798</td>\n",
       "      <td>1.000</td>\n",
       "    </tr>\n",
       "  </tbody>\n",
       "</table>\n",
       "</div>"
      ],
      "text/plain": [
       "        Diesel  Petrol    CNG\n",
       "Diesel   1.000   0.022  0.934\n",
       "Petrol   0.022   1.000  0.798\n",
       "CNG      0.934   0.798  1.000"
      ]
     },
     "execution_count": 186,
     "metadata": {},
     "output_type": "execute_result"
    }
   ],
   "source": [
    "sp.posthoc_scheffe(a = df, val_col = 'Price', group_col = 'FuelType')"
   ]
  },
  {
   "cell_type": "code",
   "execution_count": 187,
   "id": "9ac97aff",
   "metadata": {},
   "outputs": [
    {
     "data": {
      "text/html": [
       "<div>\n",
       "<style scoped>\n",
       "    .dataframe tbody tr th:only-of-type {\n",
       "        vertical-align: middle;\n",
       "    }\n",
       "\n",
       "    .dataframe tbody tr th {\n",
       "        vertical-align: top;\n",
       "    }\n",
       "\n",
       "    .dataframe thead th {\n",
       "        text-align: right;\n",
       "    }\n",
       "</style>\n",
       "<table border=\"1\" class=\"dataframe\">\n",
       "  <thead>\n",
       "    <tr style=\"text-align: right;\">\n",
       "      <th></th>\n",
       "      <th>Diesel</th>\n",
       "      <th>Petrol</th>\n",
       "      <th>CNG</th>\n",
       "    </tr>\n",
       "  </thead>\n",
       "  <tbody>\n",
       "    <tr>\n",
       "      <th>Diesel</th>\n",
       "      <td>1.000</td>\n",
       "      <td>0.016</td>\n",
       "      <td>0.900</td>\n",
       "    </tr>\n",
       "    <tr>\n",
       "      <th>Petrol</th>\n",
       "      <td>0.016</td>\n",
       "      <td>1.000</td>\n",
       "      <td>0.759</td>\n",
       "    </tr>\n",
       "    <tr>\n",
       "      <th>CNG</th>\n",
       "      <td>0.900</td>\n",
       "      <td>0.759</td>\n",
       "      <td>1.000</td>\n",
       "    </tr>\n",
       "  </tbody>\n",
       "</table>\n",
       "</div>"
      ],
      "text/plain": [
       "        Diesel  Petrol    CNG\n",
       "Diesel   1.000   0.016  0.900\n",
       "Petrol   0.016   1.000  0.759\n",
       "CNG      0.900   0.759  1.000"
      ]
     },
     "execution_count": 187,
     "metadata": {},
     "output_type": "execute_result"
    }
   ],
   "source": [
    "sp.posthoc_tukey(a = df, val_col = 'Price', group_col = 'FuelType')"
   ]
  },
  {
   "cell_type": "code",
   "execution_count": 188,
   "id": "aef29c64",
   "metadata": {},
   "outputs": [
    {
     "data": {
      "text/html": [
       "<div>\n",
       "<style scoped>\n",
       "    .dataframe tbody tr th:only-of-type {\n",
       "        vertical-align: middle;\n",
       "    }\n",
       "\n",
       "    .dataframe tbody tr th {\n",
       "        vertical-align: top;\n",
       "    }\n",
       "\n",
       "    .dataframe thead th {\n",
       "        text-align: right;\n",
       "    }\n",
       "</style>\n",
       "<table border=\"1\" class=\"dataframe\">\n",
       "  <thead>\n",
       "    <tr style=\"text-align: right;\">\n",
       "      <th></th>\n",
       "      <th>W</th>\n",
       "      <th>pval</th>\n",
       "      <th>normal</th>\n",
       "    </tr>\n",
       "  </thead>\n",
       "  <tbody>\n",
       "    <tr>\n",
       "      <th>0</th>\n",
       "      <td>0.981</td>\n",
       "      <td>2.977e-11</td>\n",
       "      <td>False</td>\n",
       "    </tr>\n",
       "    <tr>\n",
       "      <th>1</th>\n",
       "      <td>0.948</td>\n",
       "      <td>5.998e-03</td>\n",
       "      <td>False</td>\n",
       "    </tr>\n",
       "  </tbody>\n",
       "</table>\n",
       "</div>"
      ],
      "text/plain": [
       "       W       pval  normal\n",
       "0  0.981  2.977e-11   False\n",
       "1  0.948  5.998e-03   False"
      ]
     },
     "execution_count": 188,
     "metadata": {},
     "output_type": "execute_result"
    }
   ],
   "source": [
    "pg.normality(data = df, dv = 'Price', group = 'Automatic')"
   ]
  },
  {
   "cell_type": "code",
   "execution_count": 189,
   "id": "c353ceea",
   "metadata": {},
   "outputs": [],
   "source": [
    "values = df['Automatic'].unique()\n",
    "sp1, sp2 = [df['Price'][df['Automatic'].eq(v)] for v in values]"
   ]
  },
  {
   "cell_type": "code",
   "execution_count": 190,
   "id": "eb30bae3",
   "metadata": {},
   "outputs": [
    {
     "data": {
      "text/html": [
       "<div>\n",
       "<style scoped>\n",
       "    .dataframe tbody tr th:only-of-type {\n",
       "        vertical-align: middle;\n",
       "    }\n",
       "\n",
       "    .dataframe tbody tr th {\n",
       "        vertical-align: top;\n",
       "    }\n",
       "\n",
       "    .dataframe thead th {\n",
       "        text-align: right;\n",
       "    }\n",
       "</style>\n",
       "<table border=\"1\" class=\"dataframe\">\n",
       "  <thead>\n",
       "    <tr style=\"text-align: right;\">\n",
       "      <th></th>\n",
       "      <th>U-val</th>\n",
       "      <th>alternative</th>\n",
       "      <th>p-val</th>\n",
       "      <th>RBC</th>\n",
       "      <th>CLES</th>\n",
       "    </tr>\n",
       "  </thead>\n",
       "  <tbody>\n",
       "    <tr>\n",
       "      <th>MWU</th>\n",
       "      <td>37216.5</td>\n",
       "      <td>two-sided</td>\n",
       "      <td>0.113</td>\n",
       "      <td>0.112</td>\n",
       "      <td>0.444</td>\n",
       "    </tr>\n",
       "  </tbody>\n",
       "</table>\n",
       "</div>"
      ],
      "text/plain": [
       "       U-val alternative  p-val    RBC   CLES\n",
       "MWU  37216.5   two-sided  0.113  0.112  0.444"
      ]
     },
     "execution_count": 190,
     "metadata": {},
     "output_type": "execute_result"
    }
   ],
   "source": [
    "pg.mwu(x = sp1, y = sp2)"
   ]
  },
  {
   "cell_type": "code",
   "execution_count": 191,
   "id": "1774f434",
   "metadata": {},
   "outputs": [
    {
     "data": {
      "text/html": [
       "<div>\n",
       "<style scoped>\n",
       "    .dataframe tbody tr th:only-of-type {\n",
       "        vertical-align: middle;\n",
       "    }\n",
       "\n",
       "    .dataframe tbody tr th {\n",
       "        vertical-align: top;\n",
       "    }\n",
       "\n",
       "    .dataframe thead th {\n",
       "        text-align: right;\n",
       "    }\n",
       "</style>\n",
       "<table border=\"1\" class=\"dataframe\">\n",
       "  <thead>\n",
       "    <tr style=\"text-align: right;\">\n",
       "      <th></th>\n",
       "      <th>W</th>\n",
       "      <th>pval</th>\n",
       "      <th>equal_var</th>\n",
       "    </tr>\n",
       "  </thead>\n",
       "  <tbody>\n",
       "    <tr>\n",
       "      <th>levene</th>\n",
       "      <td>1.093</td>\n",
       "      <td>0.296</td>\n",
       "      <td>True</td>\n",
       "    </tr>\n",
       "  </tbody>\n",
       "</table>\n",
       "</div>"
      ],
      "text/plain": [
       "            W   pval  equal_var\n",
       "levene  1.093  0.296       True"
      ]
     },
     "execution_count": 191,
     "metadata": {},
     "output_type": "execute_result"
    }
   ],
   "source": [
    "pg.homoscedasticity(data = df, dv = 'Price', group = 'Automatic')"
   ]
  },
  {
   "cell_type": "code",
   "execution_count": 192,
   "id": "21b50a41",
   "metadata": {},
   "outputs": [
    {
     "data": {
      "text/html": [
       "<div>\n",
       "<style scoped>\n",
       "    .dataframe tbody tr th:only-of-type {\n",
       "        vertical-align: middle;\n",
       "    }\n",
       "\n",
       "    .dataframe tbody tr th {\n",
       "        vertical-align: top;\n",
       "    }\n",
       "\n",
       "    .dataframe thead th {\n",
       "        text-align: right;\n",
       "    }\n",
       "</style>\n",
       "<table border=\"1\" class=\"dataframe\">\n",
       "  <thead>\n",
       "    <tr style=\"text-align: right;\">\n",
       "      <th></th>\n",
       "      <th>T</th>\n",
       "      <th>dof</th>\n",
       "      <th>alternative</th>\n",
       "      <th>p-val</th>\n",
       "      <th>CI95%</th>\n",
       "      <th>cohen-d</th>\n",
       "      <th>BF10</th>\n",
       "      <th>power</th>\n",
       "    </tr>\n",
       "  </thead>\n",
       "  <tbody>\n",
       "    <tr>\n",
       "      <th>T-test</th>\n",
       "      <td>-1.473</td>\n",
       "      <td>1266</td>\n",
       "      <td>two-sided</td>\n",
       "      <td>0.141</td>\n",
       "      <td>[-856.55, 121.99]</td>\n",
       "      <td>0.181</td>\n",
       "      <td>0.377</td>\n",
       "      <td>0.313</td>\n",
       "    </tr>\n",
       "  </tbody>\n",
       "</table>\n",
       "</div>"
      ],
      "text/plain": [
       "            T   dof alternative  p-val              CI95%  cohen-d   BF10  \\\n",
       "T-test -1.473  1266   two-sided  0.141  [-856.55, 121.99]    0.181  0.377   \n",
       "\n",
       "        power  \n",
       "T-test  0.313  "
      ]
     },
     "execution_count": 192,
     "metadata": {},
     "output_type": "execute_result"
    }
   ],
   "source": [
    "pg.ttest(x = sp1, y = sp2, correction = False)"
   ]
  },
  {
   "cell_type": "code",
   "execution_count": 195,
   "id": "32d92fa6",
   "metadata": {},
   "outputs": [
    {
     "data": {
      "text/html": [
       "<div>\n",
       "<style scoped>\n",
       "    .dataframe tbody tr th:only-of-type {\n",
       "        vertical-align: middle;\n",
       "    }\n",
       "\n",
       "    .dataframe tbody tr th {\n",
       "        vertical-align: top;\n",
       "    }\n",
       "\n",
       "    .dataframe thead th {\n",
       "        text-align: right;\n",
       "    }\n",
       "</style>\n",
       "<table border=\"1\" class=\"dataframe\">\n",
       "  <thead>\n",
       "    <tr style=\"text-align: right;\">\n",
       "      <th>Automatic</th>\n",
       "      <th>0</th>\n",
       "      <th>1</th>\n",
       "      <th>합계</th>\n",
       "    </tr>\n",
       "    <tr>\n",
       "      <th>MetColor</th>\n",
       "      <th></th>\n",
       "      <th></th>\n",
       "      <th></th>\n",
       "    </tr>\n",
       "  </thead>\n",
       "  <tbody>\n",
       "    <tr>\n",
       "      <th>0</th>\n",
       "      <td>402</td>\n",
       "      <td>26</td>\n",
       "      <td>428</td>\n",
       "    </tr>\n",
       "    <tr>\n",
       "      <th>1</th>\n",
       "      <td>796</td>\n",
       "      <td>44</td>\n",
       "      <td>840</td>\n",
       "    </tr>\n",
       "    <tr>\n",
       "      <th>합계</th>\n",
       "      <td>1198</td>\n",
       "      <td>70</td>\n",
       "      <td>1268</td>\n",
       "    </tr>\n",
       "  </tbody>\n",
       "</table>\n",
       "</div>"
      ],
      "text/plain": [
       "Automatic     0   1    합계\n",
       "MetColor                 \n",
       "0           402  26   428\n",
       "1           796  44   840\n",
       "합계         1198  70  1268"
      ]
     },
     "execution_count": 195,
     "metadata": {},
     "output_type": "execute_result"
    }
   ],
   "source": [
    "pd.crosstab(index = df['MetColor'], \n",
    "            columns = df['Automatic'], \n",
    "            margins = True, \n",
    "            margins_name = '합계')"
   ]
  },
  {
   "cell_type": "code",
   "execution_count": 196,
   "id": "536d91ae",
   "metadata": {},
   "outputs": [
    {
     "data": {
      "text/html": [
       "<div>\n",
       "<style scoped>\n",
       "    .dataframe tbody tr th:only-of-type {\n",
       "        vertical-align: middle;\n",
       "    }\n",
       "\n",
       "    .dataframe tbody tr th {\n",
       "        vertical-align: top;\n",
       "    }\n",
       "\n",
       "    .dataframe thead th {\n",
       "        text-align: right;\n",
       "    }\n",
       "</style>\n",
       "<table border=\"1\" class=\"dataframe\">\n",
       "  <thead>\n",
       "    <tr style=\"text-align: right;\">\n",
       "      <th>Automatic</th>\n",
       "      <th>0</th>\n",
       "      <th>1</th>\n",
       "    </tr>\n",
       "    <tr>\n",
       "      <th>MetColor</th>\n",
       "      <th></th>\n",
       "      <th></th>\n",
       "    </tr>\n",
       "  </thead>\n",
       "  <tbody>\n",
       "    <tr>\n",
       "      <th>0</th>\n",
       "      <td>0.939</td>\n",
       "      <td>0.061</td>\n",
       "    </tr>\n",
       "    <tr>\n",
       "      <th>1</th>\n",
       "      <td>0.948</td>\n",
       "      <td>0.052</td>\n",
       "    </tr>\n",
       "    <tr>\n",
       "      <th>합계</th>\n",
       "      <td>0.945</td>\n",
       "      <td>0.055</td>\n",
       "    </tr>\n",
       "  </tbody>\n",
       "</table>\n",
       "</div>"
      ],
      "text/plain": [
       "Automatic      0      1\n",
       "MetColor               \n",
       "0          0.939  0.061\n",
       "1          0.948  0.052\n",
       "합계         0.945  0.055"
      ]
     },
     "execution_count": 196,
     "metadata": {},
     "output_type": "execute_result"
    }
   ],
   "source": [
    "pd.crosstab(index = df['MetColor'], \n",
    "            columns = df['Automatic'], \n",
    "            margins = True, \n",
    "            margins_name = '합계', \n",
    "            normalize = 'index')"
   ]
  },
  {
   "cell_type": "code",
   "execution_count": 198,
   "id": "024125bf",
   "metadata": {},
   "outputs": [],
   "source": [
    "test = pg.chi2_independence(data = df, x = 'MetColor', y = 'Automatic', correction = False)"
   ]
  },
  {
   "cell_type": "code",
   "execution_count": 200,
   "id": "465e3ab0",
   "metadata": {},
   "outputs": [
    {
     "data": {
      "text/plain": [
       "test      pearson\n",
       "lambda        1.0\n",
       "chi2        0.381\n",
       "dof           1.0\n",
       "pval        0.537\n",
       "cramer      0.017\n",
       "power       0.095\n",
       "Name: 0, dtype: object"
      ]
     },
     "execution_count": 200,
     "metadata": {},
     "output_type": "execute_result"
    }
   ],
   "source": [
    "test[2].iloc[0]"
   ]
  },
  {
   "cell_type": "code",
   "execution_count": 201,
   "id": "01ab8a13",
   "metadata": {},
   "outputs": [],
   "source": [
    "df = df.drop(columns = ['CC', 'Automatic'])\n",
    "df = df[df['FuelType'].ne('CNG')]"
   ]
  },
  {
   "cell_type": "code",
   "execution_count": 202,
   "id": "f72179f2",
   "metadata": {},
   "outputs": [],
   "source": [
    "df = df.reset_index(drop = True)"
   ]
  },
  {
   "cell_type": "code",
   "execution_count": 203,
   "id": "92decff2",
   "metadata": {},
   "outputs": [
    {
     "data": {
      "text/plain": [
       "['Used_Cars_Price_Prep.z']"
      ]
     },
     "execution_count": 203,
     "metadata": {},
     "output_type": "execute_result"
    }
   ],
   "source": [
    "joblib.dump(value = df, filename = 'Used_Cars_Price_Prep.z')"
   ]
  },
  {
   "cell_type": "code",
   "execution_count": null,
   "id": "c6bdd318",
   "metadata": {},
   "outputs": [],
   "source": []
  }
 ],
 "metadata": {
  "kernelspec": {
   "display_name": "Python 3 (ipykernel)",
   "language": "python",
   "name": "python3"
  },
  "language_info": {
   "codemirror_mode": {
    "name": "ipython",
    "version": 3
   },
   "file_extension": ".py",
   "mimetype": "text/x-python",
   "name": "python",
   "nbconvert_exporter": "python",
   "pygments_lexer": "ipython3",
   "version": "3.10.7"
  }
 },
 "nbformat": 4,
 "nbformat_minor": 5
}
