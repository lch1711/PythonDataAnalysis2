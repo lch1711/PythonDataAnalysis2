{
 "cells": [
  {
   "cell_type": "raw",
   "id": "be4107a3",
   "metadata": {},
   "source": [
    "!pip install scipy"
   ]
  },
  {
   "cell_type": "code",
   "execution_count": 2,
   "id": "3571d979",
   "metadata": {},
   "outputs": [],
   "source": [
    "import os\n",
    "import joblib\n",
    "import numpy as np\n",
    "import pandas as pd\n",
    "from scipy import stats\n",
    "from statsmodels import robust"
   ]
  },
  {
   "cell_type": "code",
   "execution_count": 3,
   "id": "cf2ca65f",
   "metadata": {},
   "outputs": [],
   "source": [
    "df = pd.read_csv('https://bit.ly/Used_Cars_Price')"
   ]
  },
  {
   "cell_type": "code",
   "execution_count": 4,
   "id": "44285fa0",
   "metadata": {},
   "outputs": [
    {
     "name": "stdout",
     "output_type": "stream",
     "text": [
      "<class 'pandas.core.frame.DataFrame'>\n",
      "RangeIndex: 1275 entries, 0 to 1274\n",
      "Data columns (total 10 columns):\n",
      " #   Column     Non-Null Count  Dtype \n",
      "---  ------     --------------  ----- \n",
      " 0   Price      1275 non-null   int64 \n",
      " 1   Age        1275 non-null   int64 \n",
      " 2   KM         1275 non-null   int64 \n",
      " 3   FuelType   1275 non-null   object\n",
      " 4   HP         1275 non-null   int64 \n",
      " 5   MetColor   1275 non-null   int64 \n",
      " 6   Automatic  1275 non-null   int64 \n",
      " 7   CC         1275 non-null   int64 \n",
      " 8   Doors      1275 non-null   int64 \n",
      " 9   Weight     1275 non-null   int64 \n",
      "dtypes: int64(9), object(1)\n",
      "memory usage: 99.7+ KB\n"
     ]
    }
   ],
   "source": [
    "df.info()"
   ]
  },
  {
   "cell_type": "code",
   "execution_count": 5,
   "id": "bd098f18",
   "metadata": {},
   "outputs": [
    {
     "data": {
      "text/html": [
       "<div>\n",
       "<style scoped>\n",
       "    .dataframe tbody tr th:only-of-type {\n",
       "        vertical-align: middle;\n",
       "    }\n",
       "\n",
       "    .dataframe tbody tr th {\n",
       "        vertical-align: top;\n",
       "    }\n",
       "\n",
       "    .dataframe thead th {\n",
       "        text-align: right;\n",
       "    }\n",
       "</style>\n",
       "<table border=\"1\" class=\"dataframe\">\n",
       "  <thead>\n",
       "    <tr style=\"text-align: right;\">\n",
       "      <th></th>\n",
       "      <th>Price</th>\n",
       "      <th>Age</th>\n",
       "      <th>KM</th>\n",
       "      <th>FuelType</th>\n",
       "      <th>HP</th>\n",
       "      <th>MetColor</th>\n",
       "      <th>Automatic</th>\n",
       "      <th>CC</th>\n",
       "      <th>Doors</th>\n",
       "      <th>Weight</th>\n",
       "    </tr>\n",
       "  </thead>\n",
       "  <tbody>\n",
       "    <tr>\n",
       "      <th>0</th>\n",
       "      <td>13500</td>\n",
       "      <td>23</td>\n",
       "      <td>46986</td>\n",
       "      <td>Diesel</td>\n",
       "      <td>90</td>\n",
       "      <td>1</td>\n",
       "      <td>0</td>\n",
       "      <td>2000</td>\n",
       "      <td>3</td>\n",
       "      <td>1165</td>\n",
       "    </tr>\n",
       "    <tr>\n",
       "      <th>1</th>\n",
       "      <td>13750</td>\n",
       "      <td>23</td>\n",
       "      <td>72937</td>\n",
       "      <td>Diesel</td>\n",
       "      <td>90</td>\n",
       "      <td>1</td>\n",
       "      <td>0</td>\n",
       "      <td>2000</td>\n",
       "      <td>3</td>\n",
       "      <td>1165</td>\n",
       "    </tr>\n",
       "    <tr>\n",
       "      <th>2</th>\n",
       "      <td>13950</td>\n",
       "      <td>24</td>\n",
       "      <td>41711</td>\n",
       "      <td>Diesel</td>\n",
       "      <td>90</td>\n",
       "      <td>1</td>\n",
       "      <td>0</td>\n",
       "      <td>2000</td>\n",
       "      <td>3</td>\n",
       "      <td>1165</td>\n",
       "    </tr>\n",
       "    <tr>\n",
       "      <th>3</th>\n",
       "      <td>14950</td>\n",
       "      <td>26</td>\n",
       "      <td>48000</td>\n",
       "      <td>Diesel</td>\n",
       "      <td>90</td>\n",
       "      <td>0</td>\n",
       "      <td>0</td>\n",
       "      <td>2000</td>\n",
       "      <td>3</td>\n",
       "      <td>1165</td>\n",
       "    </tr>\n",
       "    <tr>\n",
       "      <th>4</th>\n",
       "      <td>13750</td>\n",
       "      <td>30</td>\n",
       "      <td>38500</td>\n",
       "      <td>Diesel</td>\n",
       "      <td>90</td>\n",
       "      <td>0</td>\n",
       "      <td>0</td>\n",
       "      <td>2000</td>\n",
       "      <td>3</td>\n",
       "      <td>1170</td>\n",
       "    </tr>\n",
       "  </tbody>\n",
       "</table>\n",
       "</div>"
      ],
      "text/plain": [
       "   Price  Age     KM FuelType  HP  MetColor  Automatic    CC  Doors  Weight\n",
       "0  13500   23  46986   Diesel  90         1          0  2000      3    1165\n",
       "1  13750   23  72937   Diesel  90         1          0  2000      3    1165\n",
       "2  13950   24  41711   Diesel  90         1          0  2000      3    1165\n",
       "3  14950   26  48000   Diesel  90         0          0  2000      3    1165\n",
       "4  13750   30  38500   Diesel  90         0          0  2000      3    1170"
      ]
     },
     "execution_count": 5,
     "metadata": {},
     "output_type": "execute_result"
    }
   ],
   "source": [
    "df.head()"
   ]
  },
  {
   "cell_type": "code",
   "execution_count": 6,
   "id": "ed555798",
   "metadata": {},
   "outputs": [
    {
     "data": {
      "text/plain": [
       "Index(['Price', 'Age', 'KM', 'FuelType', 'HP', 'MetColor', 'Automatic', 'CC',\n",
       "       'Doors', 'Weight'],\n",
       "      dtype='object')"
      ]
     },
     "execution_count": 6,
     "metadata": {},
     "output_type": "execute_result"
    }
   ],
   "source": [
    "df.columns"
   ]
  },
  {
   "cell_type": "code",
   "execution_count": 7,
   "id": "5f397f29",
   "metadata": {},
   "outputs": [],
   "source": [
    "cols = ['MetColor', 'Automatic']"
   ]
  },
  {
   "cell_type": "code",
   "execution_count": 9,
   "id": "9eab6081",
   "metadata": {},
   "outputs": [],
   "source": [
    "df[cols] = df[cols].astype(str)"
   ]
  },
  {
   "cell_type": "code",
   "execution_count": 10,
   "id": "90d7f951",
   "metadata": {},
   "outputs": [
    {
     "data": {
      "text/plain": [
       "Price         int64\n",
       "Age           int64\n",
       "KM            int64\n",
       "FuelType     object\n",
       "HP            int64\n",
       "MetColor     object\n",
       "Automatic    object\n",
       "CC            int64\n",
       "Doors         int64\n",
       "Weight        int64\n",
       "dtype: object"
      ]
     },
     "execution_count": 10,
     "metadata": {},
     "output_type": "execute_result"
    }
   ],
   "source": [
    "df.dtypes"
   ]
  },
  {
   "cell_type": "code",
   "execution_count": 11,
   "id": "36433a0f",
   "metadata": {},
   "outputs": [
    {
     "data": {
      "text/plain": [
       "9690.232941176471"
      ]
     },
     "execution_count": 11,
     "metadata": {},
     "output_type": "execute_result"
    }
   ],
   "source": [
    "df['Price'].mean()"
   ]
  },
  {
   "cell_type": "code",
   "execution_count": 12,
   "id": "7d15b72f",
   "metadata": {},
   "outputs": [
    {
     "data": {
      "text/plain": [
       "9584.380019588638"
      ]
     },
     "execution_count": 12,
     "metadata": {},
     "output_type": "execute_result"
    }
   ],
   "source": [
    "stats.trim_mean(df['Price'], 0.1)"
   ]
  },
  {
   "cell_type": "code",
   "execution_count": 13,
   "id": "2674cbab",
   "metadata": {},
   "outputs": [
    {
     "data": {
      "text/plain": [
       "9450.0"
      ]
     },
     "execution_count": 13,
     "metadata": {},
     "output_type": "execute_result"
    }
   ],
   "source": [
    "stats.trim_mean(df['Price'], 0.5)"
   ]
  },
  {
   "cell_type": "code",
   "execution_count": 14,
   "id": "a0891632",
   "metadata": {},
   "outputs": [
    {
     "data": {
      "text/plain": [
       "9450.0"
      ]
     },
     "execution_count": 14,
     "metadata": {},
     "output_type": "execute_result"
    }
   ],
   "source": [
    "df['Price'].median()"
   ]
  },
  {
   "cell_type": "code",
   "execution_count": 15,
   "id": "98b798b7",
   "metadata": {},
   "outputs": [
    {
     "data": {
      "text/plain": [
       "0    Petrol\n",
       "Name: FuelType, dtype: object"
      ]
     },
     "execution_count": 15,
     "metadata": {},
     "output_type": "execute_result"
    }
   ],
   "source": [
    "df['FuelType'].mode()"
   ]
  },
  {
   "cell_type": "code",
   "execution_count": 16,
   "id": "cef14c06",
   "metadata": {},
   "outputs": [
    {
     "data": {
      "text/plain": [
       "Petrol    1129\n",
       "Diesel     129\n",
       "CNG         17\n",
       "Name: FuelType, dtype: int64"
      ]
     },
     "execution_count": 16,
     "metadata": {},
     "output_type": "execute_result"
    }
   ],
   "source": [
    "df['FuelType'].value_counts()"
   ]
  },
  {
   "cell_type": "code",
   "execution_count": 17,
   "id": "2331e9ce",
   "metadata": {},
   "outputs": [
    {
     "data": {
      "text/plain": [
       "CNG         17\n",
       "Diesel     129\n",
       "Petrol    1129\n",
       "Name: FuelType, dtype: int64"
      ]
     },
     "execution_count": 17,
     "metadata": {},
     "output_type": "execute_result"
    }
   ],
   "source": [
    "df['FuelType'].value_counts().sort_index()"
   ]
  },
  {
   "cell_type": "code",
   "execution_count": 18,
   "id": "cf1c91ff",
   "metadata": {},
   "outputs": [
    {
     "data": {
      "text/plain": [
       "Petrol    0.885490\n",
       "Diesel    0.101176\n",
       "CNG       0.013333\n",
       "Name: FuelType, dtype: float64"
      ]
     },
     "execution_count": 18,
     "metadata": {},
     "output_type": "execute_result"
    }
   ],
   "source": [
    "df['FuelType'].value_counts(normalize = True)"
   ]
  },
  {
   "cell_type": "code",
   "execution_count": 19,
   "id": "39e85e44",
   "metadata": {},
   "outputs": [
    {
     "data": {
      "text/plain": [
       "array([0. , 0.1, 0.2, 0.3, 0.4, 0.5, 0.6, 0.7, 0.8, 0.9])"
      ]
     },
     "execution_count": 19,
     "metadata": {},
     "output_type": "execute_result"
    }
   ],
   "source": [
    "np.arange(start = 0, stop = 1, step = 0.1)"
   ]
  },
  {
   "cell_type": "code",
   "execution_count": 20,
   "id": "0a881c82",
   "metadata": {},
   "outputs": [
    {
     "data": {
      "text/plain": [
       "array([0. , 0.1, 0.2, 0.3, 0.4, 0.5, 0.6, 0.7, 0.8, 0.9, 1. ])"
      ]
     },
     "execution_count": 20,
     "metadata": {},
     "output_type": "execute_result"
    }
   ],
   "source": [
    "np.arange(0, 1.1, 0.1)"
   ]
  },
  {
   "cell_type": "code",
   "execution_count": 21,
   "id": "f4591f70",
   "metadata": {},
   "outputs": [
    {
     "data": {
      "text/plain": [
       "array([0. , 0.1, 0.2, 0.3, 0.4, 0.5, 0.6, 0.7, 0.8, 0.9, 1. ])"
      ]
     },
     "execution_count": 21,
     "metadata": {},
     "output_type": "execute_result"
    }
   ],
   "source": [
    "np.linspace(start = 0, stop = 1, num = 10+1)"
   ]
  },
  {
   "cell_type": "code",
   "execution_count": 22,
   "id": "406318ac",
   "metadata": {},
   "outputs": [
    {
     "data": {
      "text/plain": [
       "array([80.        , 79.83333333, 79.66666667, 79.5       , 79.33333333,\n",
       "       79.16666667, 79.        , 78.83333333, 78.66666667, 78.5       ,\n",
       "       78.33333333, 78.16666667, 78.        , 77.83333333, 77.66666667,\n",
       "       77.5       , 77.33333333, 77.16666667, 77.        , 76.83333333,\n",
       "       76.66666667, 76.5       , 76.33333333, 76.16666667, 76.        ,\n",
       "       75.83333333, 75.66666667, 75.5       , 75.33333333, 75.16666667,\n",
       "       75.        ])"
      ]
     },
     "execution_count": 22,
     "metadata": {},
     "output_type": "execute_result"
    }
   ],
   "source": [
    "np.linspace(start = 80, stop = 75, num = 30+1)"
   ]
  },
  {
   "cell_type": "code",
   "execution_count": 23,
   "id": "fca91c91",
   "metadata": {},
   "outputs": [
    {
     "data": {
      "text/plain": [
       "0.00     4350.0\n",
       "0.01     5833.3\n",
       "0.02     5950.0\n",
       "0.03     6496.1\n",
       "0.04     6650.0\n",
       "         ...   \n",
       "0.96    13510.0\n",
       "0.97    13950.0\n",
       "0.98    14179.6\n",
       "0.99    14950.0\n",
       "1.00    15950.0\n",
       "Name: Price, Length: 101, dtype: float64"
      ]
     },
     "execution_count": 23,
     "metadata": {},
     "output_type": "execute_result"
    }
   ],
   "source": [
    "df['Price'].quantile(np.linspace(0, 1, 100+1))"
   ]
  },
  {
   "cell_type": "code",
   "execution_count": 24,
   "id": "efab62d6",
   "metadata": {},
   "outputs": [
    {
     "data": {
      "text/plain": [
       "0.0     4350.0\n",
       "0.1     7250.0\n",
       "0.2     7950.0\n",
       "0.3     8500.0\n",
       "0.4     8950.0\n",
       "0.5     9450.0\n",
       "0.6     9950.0\n",
       "0.7    10500.0\n",
       "0.8    11456.0\n",
       "0.9    12500.0\n",
       "1.0    15950.0\n",
       "Name: Price, dtype: float64"
      ]
     },
     "execution_count": 24,
     "metadata": {},
     "output_type": "execute_result"
    }
   ],
   "source": [
    "df['Price'].quantile(np.linspace(0, 1, 10+1))"
   ]
  },
  {
   "cell_type": "code",
   "execution_count": 25,
   "id": "ae6739cc",
   "metadata": {},
   "outputs": [
    {
     "data": {
      "text/plain": [
       "0.00     4350.0\n",
       "0.25     8250.0\n",
       "0.50     9450.0\n",
       "0.75    10950.0\n",
       "1.00    15950.0\n",
       "Name: Price, dtype: float64"
      ]
     },
     "execution_count": 25,
     "metadata": {},
     "output_type": "execute_result"
    }
   ],
   "source": [
    "df['Price'].quantile(np.linspace(0, 1, 4+1))"
   ]
  },
  {
   "cell_type": "code",
   "execution_count": 26,
   "id": "65046f03",
   "metadata": {},
   "outputs": [
    {
     "data": {
      "text/plain": [
       "11600"
      ]
     },
     "execution_count": 26,
     "metadata": {},
     "output_type": "execute_result"
    }
   ],
   "source": [
    "df['Price'].max() - df['Price'].min()"
   ]
  },
  {
   "cell_type": "code",
   "execution_count": 27,
   "id": "5d5a1aa1",
   "metadata": {},
   "outputs": [
    {
     "data": {
      "text/plain": [
       "0.0     4350.0\n",
       "1.0    15950.0\n",
       "Name: Price, dtype: float64"
      ]
     },
     "execution_count": 27,
     "metadata": {},
     "output_type": "execute_result"
    }
   ],
   "source": [
    "df['Price'].quantile([0, 1])"
   ]
  },
  {
   "cell_type": "code",
   "execution_count": 28,
   "id": "7b68eaaf",
   "metadata": {},
   "outputs": [
    {
     "data": {
      "text/plain": [
       "0.0        NaN\n",
       "1.0    11600.0\n",
       "Name: Price, dtype: float64"
      ]
     },
     "execution_count": 28,
     "metadata": {},
     "output_type": "execute_result"
    }
   ],
   "source": [
    "df['Price'].quantile([0, 1]).diff()"
   ]
  },
  {
   "cell_type": "code",
   "execution_count": 29,
   "id": "2d14d192",
   "metadata": {},
   "outputs": [
    {
     "data": {
      "text/plain": [
       "11600.0"
      ]
     },
     "execution_count": 29,
     "metadata": {},
     "output_type": "execute_result"
    }
   ],
   "source": [
    "df['Price'].quantile([0, 1]).diff().iloc[-1]"
   ]
  },
  {
   "cell_type": "code",
   "execution_count": 30,
   "id": "04b3b197",
   "metadata": {},
   "outputs": [
    {
     "data": {
      "text/plain": [
       "2700.0"
      ]
     },
     "execution_count": 30,
     "metadata": {},
     "output_type": "execute_result"
    }
   ],
   "source": [
    "df['Price'].quantile([0.25, 0.75]).diff().iloc[-1]"
   ]
  },
  {
   "cell_type": "code",
   "execution_count": 31,
   "id": "929c2806",
   "metadata": {},
   "outputs": [
    {
     "data": {
      "text/plain": [
       "4120265.326386555"
      ]
     },
     "execution_count": 31,
     "metadata": {},
     "output_type": "execute_result"
    }
   ],
   "source": [
    "df['Price'].var()"
   ]
  },
  {
   "cell_type": "code",
   "execution_count": 32,
   "id": "4547d90a",
   "metadata": {},
   "outputs": [
    {
     "data": {
      "text/plain": [
       "2029.8436704304484"
      ]
     },
     "execution_count": 32,
     "metadata": {},
     "output_type": "execute_result"
    }
   ],
   "source": [
    "df['Price'].var() ** (1/2)"
   ]
  },
  {
   "cell_type": "code",
   "execution_count": 33,
   "id": "fde26295",
   "metadata": {},
   "outputs": [
    {
     "data": {
      "text/plain": [
       "2029.8436704304484"
      ]
     },
     "execution_count": 33,
     "metadata": {},
     "output_type": "execute_result"
    }
   ],
   "source": [
    "df['Price'].std()"
   ]
  },
  {
   "cell_type": "code",
   "execution_count": 34,
   "id": "1633f88f",
   "metadata": {},
   "outputs": [
    {
     "data": {
      "text/plain": [
       "2223.903327758403"
      ]
     },
     "execution_count": 34,
     "metadata": {},
     "output_type": "execute_result"
    }
   ],
   "source": [
    "robust.mad(df['Price'])"
   ]
  },
  {
   "cell_type": "code",
   "execution_count": 36,
   "id": "f24d9f87",
   "metadata": {},
   "outputs": [
    {
     "data": {
      "text/html": [
       "<div>\n",
       "<style scoped>\n",
       "    .dataframe tbody tr th:only-of-type {\n",
       "        vertical-align: middle;\n",
       "    }\n",
       "\n",
       "    .dataframe tbody tr th {\n",
       "        vertical-align: top;\n",
       "    }\n",
       "\n",
       "    .dataframe thead th {\n",
       "        text-align: right;\n",
       "    }\n",
       "</style>\n",
       "<table border=\"1\" class=\"dataframe\">\n",
       "  <thead>\n",
       "    <tr style=\"text-align: right;\">\n",
       "      <th></th>\n",
       "      <th>Price</th>\n",
       "      <th>Age</th>\n",
       "      <th>KM</th>\n",
       "      <th>HP</th>\n",
       "      <th>CC</th>\n",
       "      <th>Doors</th>\n",
       "      <th>Weight</th>\n",
       "    </tr>\n",
       "  </thead>\n",
       "  <tbody>\n",
       "    <tr>\n",
       "      <th>count</th>\n",
       "      <td>1275.00</td>\n",
       "      <td>1275.00</td>\n",
       "      <td>1275.00</td>\n",
       "      <td>1275.00</td>\n",
       "      <td>1275.00</td>\n",
       "      <td>1275.00</td>\n",
       "      <td>1275.00</td>\n",
       "    </tr>\n",
       "    <tr>\n",
       "      <th>mean</th>\n",
       "      <td>9690.23</td>\n",
       "      <td>60.60</td>\n",
       "      <td>73692.41</td>\n",
       "      <td>100.40</td>\n",
       "      <td>1559.51</td>\n",
       "      <td>4.00</td>\n",
       "      <td>1062.69</td>\n",
       "    </tr>\n",
       "    <tr>\n",
       "      <th>std</th>\n",
       "      <td>2029.84</td>\n",
       "      <td>13.69</td>\n",
       "      <td>35949.78</td>\n",
       "      <td>13.11</td>\n",
       "      <td>184.69</td>\n",
       "      <td>0.95</td>\n",
       "      <td>39.79</td>\n",
       "    </tr>\n",
       "    <tr>\n",
       "      <th>min</th>\n",
       "      <td>4350.00</td>\n",
       "      <td>19.00</td>\n",
       "      <td>1.00</td>\n",
       "      <td>69.00</td>\n",
       "      <td>1300.00</td>\n",
       "      <td>2.00</td>\n",
       "      <td>1000.00</td>\n",
       "    </tr>\n",
       "    <tr>\n",
       "      <th>25%</th>\n",
       "      <td>8250.00</td>\n",
       "      <td>51.00</td>\n",
       "      <td>48948.50</td>\n",
       "      <td>86.00</td>\n",
       "      <td>1400.00</td>\n",
       "      <td>3.00</td>\n",
       "      <td>1035.00</td>\n",
       "    </tr>\n",
       "    <tr>\n",
       "      <th>50%</th>\n",
       "      <td>9450.00</td>\n",
       "      <td>63.00</td>\n",
       "      <td>67451.00</td>\n",
       "      <td>110.00</td>\n",
       "      <td>1600.00</td>\n",
       "      <td>4.00</td>\n",
       "      <td>1060.00</td>\n",
       "    </tr>\n",
       "    <tr>\n",
       "      <th>75%</th>\n",
       "      <td>10950.00</td>\n",
       "      <td>71.50</td>\n",
       "      <td>90325.00</td>\n",
       "      <td>110.00</td>\n",
       "      <td>1600.00</td>\n",
       "      <td>5.00</td>\n",
       "      <td>1075.00</td>\n",
       "    </tr>\n",
       "    <tr>\n",
       "      <th>max</th>\n",
       "      <td>15950.00</td>\n",
       "      <td>80.00</td>\n",
       "      <td>243000.00</td>\n",
       "      <td>116.00</td>\n",
       "      <td>2000.00</td>\n",
       "      <td>5.00</td>\n",
       "      <td>1615.00</td>\n",
       "    </tr>\n",
       "  </tbody>\n",
       "</table>\n",
       "</div>"
      ],
      "text/plain": [
       "          Price      Age         KM       HP       CC    Doors   Weight\n",
       "count   1275.00  1275.00    1275.00  1275.00  1275.00  1275.00  1275.00\n",
       "mean    9690.23    60.60   73692.41   100.40  1559.51     4.00  1062.69\n",
       "std     2029.84    13.69   35949.78    13.11   184.69     0.95    39.79\n",
       "min     4350.00    19.00       1.00    69.00  1300.00     2.00  1000.00\n",
       "25%     8250.00    51.00   48948.50    86.00  1400.00     3.00  1035.00\n",
       "50%     9450.00    63.00   67451.00   110.00  1600.00     4.00  1060.00\n",
       "75%    10950.00    71.50   90325.00   110.00  1600.00     5.00  1075.00\n",
       "max    15950.00    80.00  243000.00   116.00  2000.00     5.00  1615.00"
      ]
     },
     "execution_count": 36,
     "metadata": {},
     "output_type": "execute_result"
    }
   ],
   "source": [
    "df.describe().round(2)"
   ]
  },
  {
   "cell_type": "code",
   "execution_count": 37,
   "id": "8d276aef",
   "metadata": {},
   "outputs": [
    {
     "data": {
      "text/html": [
       "<div>\n",
       "<style scoped>\n",
       "    .dataframe tbody tr th:only-of-type {\n",
       "        vertical-align: middle;\n",
       "    }\n",
       "\n",
       "    .dataframe tbody tr th {\n",
       "        vertical-align: top;\n",
       "    }\n",
       "\n",
       "    .dataframe thead th {\n",
       "        text-align: right;\n",
       "    }\n",
       "</style>\n",
       "<table border=\"1\" class=\"dataframe\">\n",
       "  <thead>\n",
       "    <tr style=\"text-align: right;\">\n",
       "      <th></th>\n",
       "      <th>Price</th>\n",
       "      <th>Age</th>\n",
       "      <th>KM</th>\n",
       "      <th>HP</th>\n",
       "      <th>CC</th>\n",
       "      <th>Doors</th>\n",
       "      <th>Weight</th>\n",
       "    </tr>\n",
       "  </thead>\n",
       "  <tbody>\n",
       "    <tr>\n",
       "      <th>count</th>\n",
       "      <td>1275</td>\n",
       "      <td>1275</td>\n",
       "      <td>1275</td>\n",
       "      <td>1275</td>\n",
       "      <td>1275</td>\n",
       "      <td>1275</td>\n",
       "      <td>1275</td>\n",
       "    </tr>\n",
       "    <tr>\n",
       "      <th>mean</th>\n",
       "      <td>9690</td>\n",
       "      <td>60</td>\n",
       "      <td>73692</td>\n",
       "      <td>100</td>\n",
       "      <td>1559</td>\n",
       "      <td>4</td>\n",
       "      <td>1062</td>\n",
       "    </tr>\n",
       "    <tr>\n",
       "      <th>std</th>\n",
       "      <td>2029</td>\n",
       "      <td>13</td>\n",
       "      <td>35949</td>\n",
       "      <td>13</td>\n",
       "      <td>184</td>\n",
       "      <td>0</td>\n",
       "      <td>39</td>\n",
       "    </tr>\n",
       "    <tr>\n",
       "      <th>min</th>\n",
       "      <td>4350</td>\n",
       "      <td>19</td>\n",
       "      <td>1</td>\n",
       "      <td>69</td>\n",
       "      <td>1300</td>\n",
       "      <td>2</td>\n",
       "      <td>1000</td>\n",
       "    </tr>\n",
       "    <tr>\n",
       "      <th>25%</th>\n",
       "      <td>8250</td>\n",
       "      <td>51</td>\n",
       "      <td>48948</td>\n",
       "      <td>86</td>\n",
       "      <td>1400</td>\n",
       "      <td>3</td>\n",
       "      <td>1035</td>\n",
       "    </tr>\n",
       "    <tr>\n",
       "      <th>50%</th>\n",
       "      <td>9450</td>\n",
       "      <td>63</td>\n",
       "      <td>67451</td>\n",
       "      <td>110</td>\n",
       "      <td>1600</td>\n",
       "      <td>4</td>\n",
       "      <td>1060</td>\n",
       "    </tr>\n",
       "    <tr>\n",
       "      <th>75%</th>\n",
       "      <td>10950</td>\n",
       "      <td>71</td>\n",
       "      <td>90325</td>\n",
       "      <td>110</td>\n",
       "      <td>1600</td>\n",
       "      <td>5</td>\n",
       "      <td>1075</td>\n",
       "    </tr>\n",
       "    <tr>\n",
       "      <th>max</th>\n",
       "      <td>15950</td>\n",
       "      <td>80</td>\n",
       "      <td>243000</td>\n",
       "      <td>116</td>\n",
       "      <td>2000</td>\n",
       "      <td>5</td>\n",
       "      <td>1615</td>\n",
       "    </tr>\n",
       "  </tbody>\n",
       "</table>\n",
       "</div>"
      ],
      "text/plain": [
       "       Price   Age      KM    HP    CC  Doors  Weight\n",
       "count   1275  1275    1275  1275  1275   1275    1275\n",
       "mean    9690    60   73692   100  1559      4    1062\n",
       "std     2029    13   35949    13   184      0      39\n",
       "min     4350    19       1    69  1300      2    1000\n",
       "25%     8250    51   48948    86  1400      3    1035\n",
       "50%     9450    63   67451   110  1600      4    1060\n",
       "75%    10950    71   90325   110  1600      5    1075\n",
       "max    15950    80  243000   116  2000      5    1615"
      ]
     },
     "execution_count": 37,
     "metadata": {},
     "output_type": "execute_result"
    }
   ],
   "source": [
    "df.describe().apply(func = lambda x: x.round(2).astype(int), axis = 0)"
   ]
  },
  {
   "cell_type": "code",
   "execution_count": 38,
   "id": "ea35180f",
   "metadata": {},
   "outputs": [
    {
     "data": {
      "text/html": [
       "<div>\n",
       "<style scoped>\n",
       "    .dataframe tbody tr th:only-of-type {\n",
       "        vertical-align: middle;\n",
       "    }\n",
       "\n",
       "    .dataframe tbody tr th {\n",
       "        vertical-align: top;\n",
       "    }\n",
       "\n",
       "    .dataframe thead th {\n",
       "        text-align: right;\n",
       "    }\n",
       "</style>\n",
       "<table border=\"1\" class=\"dataframe\">\n",
       "  <thead>\n",
       "    <tr style=\"text-align: right;\">\n",
       "      <th></th>\n",
       "      <th>Price</th>\n",
       "      <th>Age</th>\n",
       "      <th>KM</th>\n",
       "      <th>HP</th>\n",
       "      <th>CC</th>\n",
       "      <th>Doors</th>\n",
       "      <th>Weight</th>\n",
       "    </tr>\n",
       "  </thead>\n",
       "  <tbody>\n",
       "    <tr>\n",
       "      <th>count</th>\n",
       "      <td>1275</td>\n",
       "      <td>1275</td>\n",
       "      <td>1275</td>\n",
       "      <td>1275</td>\n",
       "      <td>1275</td>\n",
       "      <td>1275</td>\n",
       "      <td>1275</td>\n",
       "    </tr>\n",
       "    <tr>\n",
       "      <th>mean</th>\n",
       "      <td>9690</td>\n",
       "      <td>60</td>\n",
       "      <td>73692</td>\n",
       "      <td>100</td>\n",
       "      <td>1559</td>\n",
       "      <td>3</td>\n",
       "      <td>1062</td>\n",
       "    </tr>\n",
       "    <tr>\n",
       "      <th>std</th>\n",
       "      <td>2029</td>\n",
       "      <td>13</td>\n",
       "      <td>35949</td>\n",
       "      <td>13</td>\n",
       "      <td>184</td>\n",
       "      <td>0</td>\n",
       "      <td>39</td>\n",
       "    </tr>\n",
       "    <tr>\n",
       "      <th>min</th>\n",
       "      <td>4350</td>\n",
       "      <td>19</td>\n",
       "      <td>1</td>\n",
       "      <td>69</td>\n",
       "      <td>1300</td>\n",
       "      <td>2</td>\n",
       "      <td>1000</td>\n",
       "    </tr>\n",
       "    <tr>\n",
       "      <th>25%</th>\n",
       "      <td>8250</td>\n",
       "      <td>51</td>\n",
       "      <td>48948</td>\n",
       "      <td>86</td>\n",
       "      <td>1400</td>\n",
       "      <td>3</td>\n",
       "      <td>1035</td>\n",
       "    </tr>\n",
       "    <tr>\n",
       "      <th>50%</th>\n",
       "      <td>9450</td>\n",
       "      <td>63</td>\n",
       "      <td>67451</td>\n",
       "      <td>110</td>\n",
       "      <td>1600</td>\n",
       "      <td>4</td>\n",
       "      <td>1060</td>\n",
       "    </tr>\n",
       "    <tr>\n",
       "      <th>75%</th>\n",
       "      <td>10950</td>\n",
       "      <td>71</td>\n",
       "      <td>90325</td>\n",
       "      <td>110</td>\n",
       "      <td>1600</td>\n",
       "      <td>5</td>\n",
       "      <td>1075</td>\n",
       "    </tr>\n",
       "    <tr>\n",
       "      <th>max</th>\n",
       "      <td>15950</td>\n",
       "      <td>80</td>\n",
       "      <td>243000</td>\n",
       "      <td>116</td>\n",
       "      <td>2000</td>\n",
       "      <td>5</td>\n",
       "      <td>1615</td>\n",
       "    </tr>\n",
       "  </tbody>\n",
       "</table>\n",
       "</div>"
      ],
      "text/plain": [
       "       Price   Age      KM    HP    CC  Doors  Weight\n",
       "count   1275  1275    1275  1275  1275   1275    1275\n",
       "mean    9690    60   73692   100  1559      3    1062\n",
       "std     2029    13   35949    13   184      0      39\n",
       "min     4350    19       1    69  1300      2    1000\n",
       "25%     8250    51   48948    86  1400      3    1035\n",
       "50%     9450    63   67451   110  1600      4    1060\n",
       "75%    10950    71   90325   110  1600      5    1075\n",
       "max    15950    80  243000   116  2000      5    1615"
      ]
     },
     "execution_count": 38,
     "metadata": {},
     "output_type": "execute_result"
    }
   ],
   "source": [
    "df.describe().astype(int)"
   ]
  },
  {
   "cell_type": "code",
   "execution_count": 40,
   "id": "458c33cc",
   "metadata": {},
   "outputs": [
    {
     "data": {
      "text/html": [
       "<div>\n",
       "<style scoped>\n",
       "    .dataframe tbody tr th:only-of-type {\n",
       "        vertical-align: middle;\n",
       "    }\n",
       "\n",
       "    .dataframe tbody tr th {\n",
       "        vertical-align: top;\n",
       "    }\n",
       "\n",
       "    .dataframe thead th {\n",
       "        text-align: right;\n",
       "    }\n",
       "</style>\n",
       "<table border=\"1\" class=\"dataframe\">\n",
       "  <thead>\n",
       "    <tr style=\"text-align: right;\">\n",
       "      <th></th>\n",
       "      <th>Price</th>\n",
       "      <th>Age</th>\n",
       "      <th>KM</th>\n",
       "      <th>FuelType</th>\n",
       "      <th>HP</th>\n",
       "      <th>MetColor</th>\n",
       "      <th>Automatic</th>\n",
       "      <th>CC</th>\n",
       "      <th>Doors</th>\n",
       "      <th>Weight</th>\n",
       "    </tr>\n",
       "  </thead>\n",
       "  <tbody>\n",
       "    <tr>\n",
       "      <th>433</th>\n",
       "      <td>7500</td>\n",
       "      <td>50</td>\n",
       "      <td>1</td>\n",
       "      <td>Diesel</td>\n",
       "      <td>90</td>\n",
       "      <td>1</td>\n",
       "      <td>0</td>\n",
       "      <td>2000</td>\n",
       "      <td>3</td>\n",
       "      <td>1260</td>\n",
       "    </tr>\n",
       "    <tr>\n",
       "      <th>1267</th>\n",
       "      <td>6950</td>\n",
       "      <td>76</td>\n",
       "      <td>1</td>\n",
       "      <td>Petrol</td>\n",
       "      <td>110</td>\n",
       "      <td>0</td>\n",
       "      <td>0</td>\n",
       "      <td>1600</td>\n",
       "      <td>5</td>\n",
       "      <td>1114</td>\n",
       "    </tr>\n",
       "    <tr>\n",
       "      <th>432</th>\n",
       "      <td>11250</td>\n",
       "      <td>47</td>\n",
       "      <td>5309</td>\n",
       "      <td>Petrol</td>\n",
       "      <td>110</td>\n",
       "      <td>1</td>\n",
       "      <td>1</td>\n",
       "      <td>1600</td>\n",
       "      <td>3</td>\n",
       "      <td>1070</td>\n",
       "    </tr>\n",
       "    <tr>\n",
       "      <th>18</th>\n",
       "      <td>14900</td>\n",
       "      <td>30</td>\n",
       "      <td>7000</td>\n",
       "      <td>Petrol</td>\n",
       "      <td>97</td>\n",
       "      <td>1</td>\n",
       "      <td>0</td>\n",
       "      <td>1400</td>\n",
       "      <td>5</td>\n",
       "      <td>1100</td>\n",
       "    </tr>\n",
       "    <tr>\n",
       "      <th>7</th>\n",
       "      <td>12950</td>\n",
       "      <td>29</td>\n",
       "      <td>9750</td>\n",
       "      <td>Petrol</td>\n",
       "      <td>97</td>\n",
       "      <td>1</td>\n",
       "      <td>0</td>\n",
       "      <td>1400</td>\n",
       "      <td>3</td>\n",
       "      <td>1100</td>\n",
       "    </tr>\n",
       "  </tbody>\n",
       "</table>\n",
       "</div>"
      ],
      "text/plain": [
       "      Price  Age    KM FuelType   HP MetColor Automatic    CC  Doors  Weight\n",
       "433    7500   50     1   Diesel   90        1         0  2000      3    1260\n",
       "1267   6950   76     1   Petrol  110        0         0  1600      5    1114\n",
       "432   11250   47  5309   Petrol  110        1         1  1600      3    1070\n",
       "18    14900   30  7000   Petrol   97        1         0  1400      5    1100\n",
       "7     12950   29  9750   Petrol   97        1         0  1400      3    1100"
      ]
     },
     "execution_count": 40,
     "metadata": {},
     "output_type": "execute_result"
    }
   ],
   "source": [
    "imsi = df.sort_values(by = ['KM']).head()\n",
    "imsi"
   ]
  },
  {
   "cell_type": "code",
   "execution_count": 42,
   "id": "800acd16",
   "metadata": {},
   "outputs": [
    {
     "data": {
      "text/plain": [
       "Price          7500\n",
       "Age              50\n",
       "KM                1\n",
       "FuelType     Diesel\n",
       "HP               90\n",
       "MetColor          1\n",
       "Automatic         0\n",
       "CC             2000\n",
       "Doors             3\n",
       "Weight         1260\n",
       "Name: 433, dtype: object"
      ]
     },
     "execution_count": 42,
     "metadata": {},
     "output_type": "execute_result"
    }
   ],
   "source": [
    "imsi.iloc[0]"
   ]
  },
  {
   "cell_type": "code",
   "execution_count": 43,
   "id": "559323e0",
   "metadata": {},
   "outputs": [
    {
     "data": {
      "text/plain": [
       "Price          7500\n",
       "Age              50\n",
       "KM                1\n",
       "FuelType     Diesel\n",
       "HP               90\n",
       "MetColor          1\n",
       "Automatic         0\n",
       "CC             2000\n",
       "Doors             3\n",
       "Weight         1260\n",
       "Name: 433, dtype: object"
      ]
     },
     "execution_count": 43,
     "metadata": {},
     "output_type": "execute_result"
    }
   ],
   "source": [
    "imsi.loc[433]"
   ]
  },
  {
   "cell_type": "code",
   "execution_count": 44,
   "id": "ce9c880a",
   "metadata": {},
   "outputs": [
    {
     "data": {
      "text/html": [
       "<div>\n",
       "<style scoped>\n",
       "    .dataframe tbody tr th:only-of-type {\n",
       "        vertical-align: middle;\n",
       "    }\n",
       "\n",
       "    .dataframe tbody tr th {\n",
       "        vertical-align: top;\n",
       "    }\n",
       "\n",
       "    .dataframe thead th {\n",
       "        text-align: right;\n",
       "    }\n",
       "</style>\n",
       "<table border=\"1\" class=\"dataframe\">\n",
       "  <thead>\n",
       "    <tr style=\"text-align: right;\">\n",
       "      <th></th>\n",
       "      <th>Price</th>\n",
       "      <th>Age</th>\n",
       "      <th>KM</th>\n",
       "      <th>FuelType</th>\n",
       "      <th>HP</th>\n",
       "      <th>MetColor</th>\n",
       "      <th>Automatic</th>\n",
       "      <th>CC</th>\n",
       "      <th>Doors</th>\n",
       "      <th>Weight</th>\n",
       "    </tr>\n",
       "  </thead>\n",
       "  <tbody>\n",
       "    <tr>\n",
       "      <th>433</th>\n",
       "      <td>7500</td>\n",
       "      <td>50</td>\n",
       "      <td>1</td>\n",
       "      <td>Diesel</td>\n",
       "      <td>90</td>\n",
       "      <td>1</td>\n",
       "      <td>0</td>\n",
       "      <td>2000</td>\n",
       "      <td>3</td>\n",
       "      <td>1260</td>\n",
       "    </tr>\n",
       "    <tr>\n",
       "      <th>1267</th>\n",
       "      <td>6950</td>\n",
       "      <td>76</td>\n",
       "      <td>1</td>\n",
       "      <td>Petrol</td>\n",
       "      <td>110</td>\n",
       "      <td>0</td>\n",
       "      <td>0</td>\n",
       "      <td>1600</td>\n",
       "      <td>5</td>\n",
       "      <td>1114</td>\n",
       "    </tr>\n",
       "  </tbody>\n",
       "</table>\n",
       "</div>"
      ],
      "text/plain": [
       "      Price  Age  KM FuelType   HP MetColor Automatic    CC  Doors  Weight\n",
       "433    7500   50   1   Diesel   90        1         0  2000      3    1260\n",
       "1267   6950   76   1   Petrol  110        0         0  1600      5    1114"
      ]
     },
     "execution_count": 44,
     "metadata": {},
     "output_type": "execute_result"
    }
   ],
   "source": [
    "imsi.loc[imsi['KM'].eq(1)]"
   ]
  },
  {
   "cell_type": "code",
   "execution_count": 45,
   "id": "54cb163b",
   "metadata": {},
   "outputs": [
    {
     "ename": "NotImplementedError",
     "evalue": "iLocation based boolean indexing on an integer type is not available",
     "output_type": "error",
     "traceback": [
      "\u001b[1;31m---------------------------------------------------------------------------\u001b[0m",
      "\u001b[1;31mNotImplementedError\u001b[0m                       Traceback (most recent call last)",
      "Cell \u001b[1;32mIn[45], line 1\u001b[0m\n\u001b[1;32m----> 1\u001b[0m \u001b[43mimsi\u001b[49m\u001b[38;5;241;43m.\u001b[39;49m\u001b[43miloc\u001b[49m\u001b[43m[\u001b[49m\u001b[43mimsi\u001b[49m\u001b[43m[\u001b[49m\u001b[38;5;124;43m'\u001b[39;49m\u001b[38;5;124;43mKM\u001b[39;49m\u001b[38;5;124;43m'\u001b[39;49m\u001b[43m]\u001b[49m\u001b[38;5;241;43m.\u001b[39;49m\u001b[43meq\u001b[49m\u001b[43m(\u001b[49m\u001b[38;5;241;43m1\u001b[39;49m\u001b[43m)\u001b[49m\u001b[43m]\u001b[49m\n",
      "File \u001b[1;32m~\\ve310\\lib\\site-packages\\pandas\\core\\indexing.py:1073\u001b[0m, in \u001b[0;36m_LocationIndexer.__getitem__\u001b[1;34m(self, key)\u001b[0m\n\u001b[0;32m   1070\u001b[0m axis \u001b[38;5;241m=\u001b[39m \u001b[38;5;28mself\u001b[39m\u001b[38;5;241m.\u001b[39maxis \u001b[38;5;129;01mor\u001b[39;00m \u001b[38;5;241m0\u001b[39m\n\u001b[0;32m   1072\u001b[0m maybe_callable \u001b[38;5;241m=\u001b[39m com\u001b[38;5;241m.\u001b[39mapply_if_callable(key, \u001b[38;5;28mself\u001b[39m\u001b[38;5;241m.\u001b[39mobj)\n\u001b[1;32m-> 1073\u001b[0m \u001b[38;5;28;01mreturn\u001b[39;00m \u001b[38;5;28;43mself\u001b[39;49m\u001b[38;5;241;43m.\u001b[39;49m\u001b[43m_getitem_axis\u001b[49m\u001b[43m(\u001b[49m\u001b[43mmaybe_callable\u001b[49m\u001b[43m,\u001b[49m\u001b[43m \u001b[49m\u001b[43maxis\u001b[49m\u001b[38;5;241;43m=\u001b[39;49m\u001b[43maxis\u001b[49m\u001b[43m)\u001b[49m\n",
      "File \u001b[1;32m~\\ve310\\lib\\site-packages\\pandas\\core\\indexing.py:1611\u001b[0m, in \u001b[0;36m_iLocIndexer._getitem_axis\u001b[1;34m(self, key, axis)\u001b[0m\n\u001b[0;32m   1608\u001b[0m     key \u001b[38;5;241m=\u001b[39m np\u001b[38;5;241m.\u001b[39masarray(key)\n\u001b[0;32m   1610\u001b[0m \u001b[38;5;28;01mif\u001b[39;00m com\u001b[38;5;241m.\u001b[39mis_bool_indexer(key):\n\u001b[1;32m-> 1611\u001b[0m     \u001b[38;5;28;43mself\u001b[39;49m\u001b[38;5;241;43m.\u001b[39;49m\u001b[43m_validate_key\u001b[49m\u001b[43m(\u001b[49m\u001b[43mkey\u001b[49m\u001b[43m,\u001b[49m\u001b[43m \u001b[49m\u001b[43maxis\u001b[49m\u001b[43m)\u001b[49m\n\u001b[0;32m   1612\u001b[0m     \u001b[38;5;28;01mreturn\u001b[39;00m \u001b[38;5;28mself\u001b[39m\u001b[38;5;241m.\u001b[39m_getbool_axis(key, axis\u001b[38;5;241m=\u001b[39maxis)\n\u001b[0;32m   1614\u001b[0m \u001b[38;5;66;03m# a list of integers\u001b[39;00m\n",
      "File \u001b[1;32m~\\ve310\\lib\\site-packages\\pandas\\core\\indexing.py:1452\u001b[0m, in \u001b[0;36m_iLocIndexer._validate_key\u001b[1;34m(self, key, axis)\u001b[0m\n\u001b[0;32m   1450\u001b[0m \u001b[38;5;28;01mif\u001b[39;00m \u001b[38;5;28mhasattr\u001b[39m(key, \u001b[38;5;124m\"\u001b[39m\u001b[38;5;124mindex\u001b[39m\u001b[38;5;124m\"\u001b[39m) \u001b[38;5;129;01mand\u001b[39;00m \u001b[38;5;28misinstance\u001b[39m(key\u001b[38;5;241m.\u001b[39mindex, Index):\n\u001b[0;32m   1451\u001b[0m     \u001b[38;5;28;01mif\u001b[39;00m key\u001b[38;5;241m.\u001b[39mindex\u001b[38;5;241m.\u001b[39minferred_type \u001b[38;5;241m==\u001b[39m \u001b[38;5;124m\"\u001b[39m\u001b[38;5;124minteger\u001b[39m\u001b[38;5;124m\"\u001b[39m:\n\u001b[1;32m-> 1452\u001b[0m         \u001b[38;5;28;01mraise\u001b[39;00m \u001b[38;5;167;01mNotImplementedError\u001b[39;00m(\n\u001b[0;32m   1453\u001b[0m             \u001b[38;5;124m\"\u001b[39m\u001b[38;5;124miLocation based boolean \u001b[39m\u001b[38;5;124m\"\u001b[39m\n\u001b[0;32m   1454\u001b[0m             \u001b[38;5;124m\"\u001b[39m\u001b[38;5;124mindexing on an integer type \u001b[39m\u001b[38;5;124m\"\u001b[39m\n\u001b[0;32m   1455\u001b[0m             \u001b[38;5;124m\"\u001b[39m\u001b[38;5;124mis not available\u001b[39m\u001b[38;5;124m\"\u001b[39m\n\u001b[0;32m   1456\u001b[0m         )\n\u001b[0;32m   1457\u001b[0m     \u001b[38;5;28;01mraise\u001b[39;00m \u001b[38;5;167;01mValueError\u001b[39;00m(\n\u001b[0;32m   1458\u001b[0m         \u001b[38;5;124m\"\u001b[39m\u001b[38;5;124miLocation based boolean indexing cannot use \u001b[39m\u001b[38;5;124m\"\u001b[39m\n\u001b[0;32m   1459\u001b[0m         \u001b[38;5;124m\"\u001b[39m\u001b[38;5;124man indexable as a mask\u001b[39m\u001b[38;5;124m\"\u001b[39m\n\u001b[0;32m   1460\u001b[0m     )\n\u001b[0;32m   1461\u001b[0m \u001b[38;5;28;01mreturn\u001b[39;00m\n",
      "\u001b[1;31mNotImplementedError\u001b[0m: iLocation based boolean indexing on an integer type is not available"
     ]
    }
   ],
   "source": [
    "imsi.iloc[imsi['KM'].eq(1)]"
   ]
  },
  {
   "cell_type": "code",
   "execution_count": 49,
   "id": "3bcd8999",
   "metadata": {},
   "outputs": [
    {
     "data": {
      "text/html": [
       "<div>\n",
       "<style scoped>\n",
       "    .dataframe tbody tr th:only-of-type {\n",
       "        vertical-align: middle;\n",
       "    }\n",
       "\n",
       "    .dataframe tbody tr th {\n",
       "        vertical-align: top;\n",
       "    }\n",
       "\n",
       "    .dataframe thead th {\n",
       "        text-align: right;\n",
       "    }\n",
       "</style>\n",
       "<table border=\"1\" class=\"dataframe\">\n",
       "  <thead>\n",
       "    <tr style=\"text-align: right;\">\n",
       "      <th></th>\n",
       "      <th>Price</th>\n",
       "      <th>Age</th>\n",
       "      <th>KM</th>\n",
       "      <th>FuelType</th>\n",
       "      <th>HP</th>\n",
       "      <th>MetColor</th>\n",
       "      <th>Automatic</th>\n",
       "      <th>CC</th>\n",
       "      <th>Doors</th>\n",
       "      <th>Weight</th>\n",
       "    </tr>\n",
       "  </thead>\n",
       "  <tbody>\n",
       "    <tr>\n",
       "      <th>0</th>\n",
       "      <td>7500</td>\n",
       "      <td>50</td>\n",
       "      <td>1</td>\n",
       "      <td>Diesel</td>\n",
       "      <td>90</td>\n",
       "      <td>1</td>\n",
       "      <td>0</td>\n",
       "      <td>2000</td>\n",
       "      <td>3</td>\n",
       "      <td>1260</td>\n",
       "    </tr>\n",
       "    <tr>\n",
       "      <th>1</th>\n",
       "      <td>6950</td>\n",
       "      <td>76</td>\n",
       "      <td>1</td>\n",
       "      <td>Petrol</td>\n",
       "      <td>110</td>\n",
       "      <td>0</td>\n",
       "      <td>0</td>\n",
       "      <td>1600</td>\n",
       "      <td>5</td>\n",
       "      <td>1114</td>\n",
       "    </tr>\n",
       "    <tr>\n",
       "      <th>2</th>\n",
       "      <td>11250</td>\n",
       "      <td>47</td>\n",
       "      <td>5309</td>\n",
       "      <td>Petrol</td>\n",
       "      <td>110</td>\n",
       "      <td>1</td>\n",
       "      <td>1</td>\n",
       "      <td>1600</td>\n",
       "      <td>3</td>\n",
       "      <td>1070</td>\n",
       "    </tr>\n",
       "    <tr>\n",
       "      <th>3</th>\n",
       "      <td>14900</td>\n",
       "      <td>30</td>\n",
       "      <td>7000</td>\n",
       "      <td>Petrol</td>\n",
       "      <td>97</td>\n",
       "      <td>1</td>\n",
       "      <td>0</td>\n",
       "      <td>1400</td>\n",
       "      <td>5</td>\n",
       "      <td>1100</td>\n",
       "    </tr>\n",
       "    <tr>\n",
       "      <th>4</th>\n",
       "      <td>12950</td>\n",
       "      <td>29</td>\n",
       "      <td>9750</td>\n",
       "      <td>Petrol</td>\n",
       "      <td>97</td>\n",
       "      <td>1</td>\n",
       "      <td>0</td>\n",
       "      <td>1400</td>\n",
       "      <td>3</td>\n",
       "      <td>1100</td>\n",
       "    </tr>\n",
       "  </tbody>\n",
       "</table>\n",
       "</div>"
      ],
      "text/plain": [
       "   Price  Age    KM FuelType   HP MetColor Automatic    CC  Doors  Weight\n",
       "0   7500   50     1   Diesel   90        1         0  2000      3    1260\n",
       "1   6950   76     1   Petrol  110        0         0  1600      5    1114\n",
       "2  11250   47  5309   Petrol  110        1         1  1600      3    1070\n",
       "3  14900   30  7000   Petrol   97        1         0  1400      5    1100\n",
       "4  12950   29  9750   Petrol   97        1         0  1400      3    1100"
      ]
     },
     "execution_count": 49,
     "metadata": {},
     "output_type": "execute_result"
    }
   ],
   "source": [
    "imsi = imsi.reset_index(drop = True)\n",
    "imsi"
   ]
  },
  {
   "cell_type": "code",
   "execution_count": 50,
   "id": "847b83ac",
   "metadata": {},
   "outputs": [],
   "source": [
    "df = df[df['KM'].gt(1)].reset_index(drop = True)"
   ]
  },
  {
   "cell_type": "code",
   "execution_count": 51,
   "id": "d24a6704",
   "metadata": {},
   "outputs": [
    {
     "data": {
      "text/plain": [
       "1273"
      ]
     },
     "execution_count": 51,
     "metadata": {},
     "output_type": "execute_result"
    }
   ],
   "source": [
    "df.shape[0]"
   ]
  },
  {
   "cell_type": "code",
   "execution_count": 52,
   "id": "fb3610d6",
   "metadata": {},
   "outputs": [
    {
     "data": {
      "text/plain": [
       "'C:\\\\Users\\\\hdsce\\\\Documents\\\\PythonAdvanced-main\\\\live'"
      ]
     },
     "execution_count": 52,
     "metadata": {},
     "output_type": "execute_result"
    }
   ],
   "source": [
    "os.getcwd()"
   ]
  },
  {
   "cell_type": "code",
   "execution_count": 53,
   "id": "30f6d09a",
   "metadata": {},
   "outputs": [],
   "source": [
    "os.chdir(path = '../data')"
   ]
  },
  {
   "cell_type": "code",
   "execution_count": 54,
   "id": "90ffe5d4",
   "metadata": {},
   "outputs": [
    {
     "data": {
      "text/plain": [
       "['Seafood_Trade_Prep.z', 'Used_Cars_Price.csv', 'Used_Cars_Price.xlsx']"
      ]
     },
     "execution_count": 54,
     "metadata": {},
     "output_type": "execute_result"
    }
   ],
   "source": [
    "os.listdir()"
   ]
  },
  {
   "cell_type": "code",
   "execution_count": 58,
   "id": "f2b38cee",
   "metadata": {},
   "outputs": [
    {
     "name": "stdout",
     "output_type": "stream",
     "text": [
      "CPU times: total: 344 ms\n",
      "Wall time: 508 ms\n"
     ]
    }
   ],
   "source": [
    "%time df.to_excel('Used_Cars_Price.xlsx', index = None)"
   ]
  },
  {
   "cell_type": "code",
   "execution_count": 59,
   "id": "dcd65bce",
   "metadata": {},
   "outputs": [
    {
     "name": "stdout",
     "output_type": "stream",
     "text": [
      "CPU times: total: 0 ns\n",
      "Wall time: 12.7 ms\n"
     ]
    }
   ],
   "source": [
    "%time df.to_csv('Used_Cars_Price.csv', index = None)"
   ]
  },
  {
   "cell_type": "code",
   "execution_count": 60,
   "id": "510e0947",
   "metadata": {},
   "outputs": [
    {
     "name": "stdout",
     "output_type": "stream",
     "text": [
      "CPU times: total: 0 ns\n",
      "Wall time: 5.28 ms\n"
     ]
    },
    {
     "data": {
      "text/plain": [
       "['Used_Cars_Price.z']"
      ]
     },
     "execution_count": 60,
     "metadata": {},
     "output_type": "execute_result"
    }
   ],
   "source": [
    "%time joblib.dump(value = df, filename = 'Used_Cars_Price.z')"
   ]
  },
  {
   "cell_type": "code",
   "execution_count": 61,
   "id": "3dd0d483",
   "metadata": {},
   "outputs": [],
   "source": [
    "import seaborn as sns\n",
    "import matplotlib.pyplot as plt"
   ]
  },
  {
   "cell_type": "code",
   "execution_count": 62,
   "id": "a3c5b3ce",
   "metadata": {},
   "outputs": [],
   "source": [
    "plt.rc(group = 'font', family = 'Gowun Dodum', size = 10)\n",
    "plt.rc(group = 'figure', figsize = (4, 4), dpi = 100)\n",
    "plt.rc(group = 'axes', unicode_minus = False)\n",
    "plt.rc(group = 'legend', frameon = True, fc = '1', ec = '0')"
   ]
  },
  {
   "cell_type": "code",
   "execution_count": null,
   "id": "3f42b4b5",
   "metadata": {},
   "outputs": [],
   "source": []
  }
 ],
 "metadata": {
  "kernelspec": {
   "display_name": "Python 3 (ipykernel)",
   "language": "python",
   "name": "python3"
  },
  "language_info": {
   "codemirror_mode": {
    "name": "ipython",
    "version": 3
   },
   "file_extension": ".py",
   "mimetype": "text/x-python",
   "name": "python",
   "nbconvert_exporter": "python",
   "pygments_lexer": "ipython3",
   "version": "3.10.9"
  }
 },
 "nbformat": 4,
 "nbformat_minor": 5
}
