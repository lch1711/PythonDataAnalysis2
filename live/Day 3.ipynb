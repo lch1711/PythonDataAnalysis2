{
 "cells": [
  {
   "cell_type": "code",
   "execution_count": 1,
   "id": "db251440",
   "metadata": {},
   "outputs": [],
   "source": [
    "import os\n",
    "import joblib\n",
    "import numpy as np\n",
    "import pandas as pd\n",
    "from scipy import stats\n",
    "from statsmodels import robust"
   ]
  },
  {
   "cell_type": "code",
   "execution_count": 2,
   "id": "67b4030f",
   "metadata": {},
   "outputs": [],
   "source": [
    "from GraphicSetting import *\n",
    "import HelloDataScience as hds"
   ]
  },
  {
   "cell_type": "code",
   "execution_count": 5,
   "id": "39d75396",
   "metadata": {},
   "outputs": [
    {
     "data": {
      "text/plain": [
       "array([40, 35, 45, 26,  9, 15])"
      ]
     },
     "execution_count": 5,
     "metadata": {},
     "output_type": "execute_result"
    }
   ],
   "source": [
    "np.random.seed(seed = 1234)\n",
    "np.random.choice(a = range(1, 46), size = 6, replace = False)"
   ]
  },
  {
   "cell_type": "code",
   "execution_count": 6,
   "id": "09d3b3c1",
   "metadata": {},
   "outputs": [
    {
     "data": {
      "text/plain": [
       "array([40, 35, 45, 26,  9, 15])"
      ]
     },
     "execution_count": 6,
     "metadata": {},
     "output_type": "execute_result"
    }
   ],
   "source": [
    "np.random.seed(seed = 1234)\n",
    "np.random.choice(a = range(1, 46), size = 6, replace = False)"
   ]
  },
  {
   "cell_type": "code",
   "execution_count": 9,
   "id": "cab9783c",
   "metadata": {},
   "outputs": [
    {
     "name": "stdout",
     "output_type": "stream",
     "text": [
      "[ 6 11 15 16 21 28]\n",
      "[12 13 15 24 34 38]\n",
      "[ 3 13 14 33 35 38]\n",
      "[ 1  4  7 20 21 37]\n",
      "[ 2 10 23 24 25 43]\n",
      "[13 19 22 25 39 43]\n",
      "[15 16 19 36 42 44]\n",
      "[ 3 25 31 32 42 44]\n",
      "[22 31 34 39 43 44]\n",
      "[ 3  8 12 14 25 36]\n"
     ]
    }
   ],
   "source": [
    "for i in range(10):\n",
    "    lotto = np.random.choice(a = range(1, 46), size = 6, replace = False)\n",
    "    lotto.sort()\n",
    "    print(lotto)"
   ]
  },
  {
   "cell_type": "code",
   "execution_count": 10,
   "id": "1c201a6a",
   "metadata": {},
   "outputs": [],
   "source": [
    "np.random.seed(seed = 1234)"
   ]
  },
  {
   "cell_type": "code",
   "execution_count": 11,
   "id": "03ecff8f",
   "metadata": {},
   "outputs": [],
   "source": [
    "heights = stats.norm.rvs(loc = 175, scale = 5, size = 5000)"
   ]
  },
  {
   "cell_type": "code",
   "execution_count": 12,
   "id": "13c1869f",
   "metadata": {},
   "outputs": [
    {
     "data": {
      "text/plain": [
       "175.12138663450918"
      ]
     },
     "execution_count": 12,
     "metadata": {},
     "output_type": "execute_result"
    }
   ],
   "source": [
    "heights.mean()"
   ]
  },
  {
   "cell_type": "code",
   "execution_count": 13,
   "id": "1b2b1beb",
   "metadata": {},
   "outputs": [
    {
     "data": {
      "text/plain": [
       "4.9588737381446055"
      ]
     },
     "execution_count": 13,
     "metadata": {},
     "output_type": "execute_result"
    }
   ],
   "source": [
    "heights.std()"
   ]
  },
  {
   "cell_type": "code",
   "execution_count": 14,
   "id": "03db7ece",
   "metadata": {},
   "outputs": [],
   "source": [
    "h2 = stats.norm.rvs(loc = 175, scale = 5, size = 50000)"
   ]
  },
  {
   "cell_type": "code",
   "execution_count": 15,
   "id": "5731c24f",
   "metadata": {},
   "outputs": [
    {
     "data": {
      "text/plain": [
       "174.99687649633296"
      ]
     },
     "execution_count": 15,
     "metadata": {},
     "output_type": "execute_result"
    }
   ],
   "source": [
    "h2.mean()"
   ]
  },
  {
   "cell_type": "code",
   "execution_count": 16,
   "id": "3cea7857",
   "metadata": {},
   "outputs": [
    {
     "data": {
      "text/plain": [
       "4.9973187848258815"
      ]
     },
     "execution_count": 16,
     "metadata": {},
     "output_type": "execute_result"
    }
   ],
   "source": [
    "h2.std()"
   ]
  },
  {
   "cell_type": "code",
   "execution_count": 21,
   "id": "4ab290c7",
   "metadata": {},
   "outputs": [
    {
     "data": {
      "image/png": "[encoded data removed]",
      "text/plain": [
       "<Figure size 400x400 with 1 Axes>"
      ]
     },
     "metadata": {},
     "output_type": "display_data"
    }
   ],
   "source": [
    "x = np.arange(130, 220.1, 0.1)\n",
    "y1 = stats.norm.pdf(x = x, loc = 175, scale = 15)\n",
    "y2 = stats.norm.pdf(x = x, loc = 175, scale = 10)\n",
    "y3 = stats.norm.pdf(x = x, loc = 175, scale = 5)\n",
    "\n",
    "sns.lineplot(x = x, y = y1, color = 'blue', label = 'STD: 15')\n",
    "sns.lineplot(x = x, y = y2, color = 'orange', label = 'STD: 10')\n",
    "sns.lineplot(x = x, y = y3, color = 'red', label = 'STD: 5', lw = 1.5)\n",
    "plt.axvline(x = 175, color = 'black', ls = '--');"
   ]
  },
  {
   "cell_type": "code",
   "execution_count": 26,
   "id": "9f77707a",
   "metadata": {
    "scrolled": true
   },
   "outputs": [
    {
     "data": {
      "text/plain": [
       "array([2.05595471e-19, 2.46093245e-19, 2.94450382e-19, 3.52168765e-19,\n",
       "       4.21032702e-19, 5.03161155e-19, 6.01069463e-19, 7.17742240e-19,\n",
       "       8.56719454e-19, 1.02219802e-18, 1.21915163e-18, 1.45347207e-18,\n",
       "       1.73213583e-18, 2.06340025e-18, 2.45703473e-18, 2.92459272e-18,\n",
       "       3.47973182e-18, 4.13859032e-18, 4.92022976e-18, 5.84715506e-18,\n",
       "       6.94592550e-18, 8.24787200e-18, 9.78993903e-18, 1.16156721e-17,\n",
       "       1.37763758e-17, 1.63324713e-17, 1.93550860e-17, 2.29279165e-17,\n",
       "       2.71494076e-17, 3.21353037e-17, 3.80216308e-17, 4.49681845e-17,\n",
       "       5.31626046e-17, 6.28251347e-17, 7.42141793e-17, 8.76327887e-17,\n",
       "       1.03436224e-16, 1.22040777e-16, 1.43934053e-16, 1.69686943e-16,\n",
       "       1.99967575e-16, 2.35557543e-16, 2.77370797e-16, 3.26475605e-16,\n",
       "       3.84120086e-16, 4.51761881e-16, 5.31102603e-16, 6.24127846e-16,\n",
       "       7.33153599e-16, 8.60880092e-16, 1.01045422e-15, 1.18554188e-15,\n",
       "       1.39041178e-15, 1.63003249e-15, 1.91018472e-15, 2.23759124e-15,\n",
       "       2.62006716e-15, 3.06669351e-15, 3.58801796e-15, 4.19628642e-15,\n",
       "       4.90571057e-15, 5.73277639e-15, 6.69660010e-15, 7.81933841e-15,\n",
       "       9.12666136e-15, 1.06482967e-14, 1.24186571e-14, 1.44775612e-14,\n",
       "       1.68710637e-14, 1.96524095e-14, 2.28831298e-14, 2.66343024e-14,\n",
       "       3.09879974e-14, 3.60389374e-14, 4.18964019e-14, 4.86864107e-14,\n",
       "       5.65542271e-14, 6.56672254e-14, 7.62181748e-14, 8.84289982e-14,\n",
       "       1.02555073e-13, 1.18890149e-13, 1.37771973e-13, 1.59588711e-13,\n",
       "       1.84786287e-13, 2.13876757e-13, 2.47447874e-13, 2.86173980e-13,\n",
       "       3.30828445e-13, 3.82297824e-13, 4.41597993e-13, 5.09892515e-13,\n",
       "       5.88513549e-13, 6.78985620e-13, 7.83052661e-13, 9.02708735e-13,\n",
       "       1.04023294e-12, 1.19822904e-12, 1.37967046e-12, 1.58795126e-12,\n",
       "       1.82694408e-12, 2.10106565e-12, 2.41535113e-12, 2.77553819e-12,\n",
       "       3.18816230e-12, 3.66066443e-12, 4.20151288e-12, 4.82034099e-12,\n",
       "       5.52810273e-12, 6.33724841e-12, 7.26192300e-12, 8.31818989e-12,\n",
       "       9.52428326e-12, 1.09008925e-11, 1.24714829e-11, 1.42626562e-11,\n",
       "       1.63045575e-11, 1.86313318e-11, 2.12816387e-11, 2.42992302e-11,\n",
       "       2.77335999e-11, 3.16407128e-11, 3.60838238e-11, 4.11343965e-11,\n",
       "       4.68731338e-11, 5.33911323e-11, 6.07911774e-11, 6.91891923e-11,\n",
       "       7.87158608e-11, 8.95184429e-11, 1.01762806e-10, 1.15635693e-10,\n",
       "       1.31347262e-10, 1.49133916e-10, 1.69261469e-10, 1.92028667e-10,\n",
       "       2.17771135e-10, 2.46865751e-10, 2.79735544e-10, 3.16855131e-10,\n",
       "       3.58756782e-10, 4.06037155e-10, 4.59364802e-10, 5.19488498e-10,\n",
       "       5.87246504e-10, 6.63576849e-10, 7.49528746e-10, 8.46275258e-10,\n",
       "       9.55127338e-10, 1.07754940e-09, 1.21517657e-09, 1.36983376e-09,\n",
       "       1.54355684e-09, 1.73861599e-09, 1.95754158e-09, 2.20315272e-09,\n",
       "       2.47858886e-09, 2.78734461e-09, 3.13330824e-09, 3.52080407e-09,\n",
       "       3.95463928e-09, 4.44015547e-09, 4.98328539e-09, 5.59061552e-09,\n",
       "       6.26945476e-09, 7.02791019e-09, 7.87497013e-09, 8.82059556e-09,\n",
       "       9.87582045e-09, 1.10528619e-08, 1.23652410e-08, 1.38279152e-08,\n",
       "       1.54574238e-08, 1.72720466e-08, 1.92919786e-08, 2.15395201e-08,\n",
       "       2.40392856e-08, 2.68184314e-08, 2.99069050e-08, 3.33377168e-08,\n",
       "       3.71472369e-08, 4.13755196e-08, 4.60666560e-08, 5.12691595e-08,\n",
       "       5.70363846e-08, 6.34269843e-08, 7.05054063e-08, 7.83424335e-08,\n",
       "       8.70157722e-08, 9.66106894e-08, 1.07220707e-07, 1.18948353e-07,\n",
       "       1.31905979e-07, 1.46216645e-07, 1.62015076e-07, 1.79448703e-07,\n",
       "       1.98678788e-07, 2.19881638e-07, 2.43249920e-07, 2.68994085e-07,\n",
       "       2.97343903e-07, 3.28550118e-07, 3.62886238e-07, 4.00650466e-07,\n",
       "       4.42167775e-07, 4.87792149e-07, 5.37908995e-07, 5.92937734e-07,\n",
       "       6.53334593e-07, 7.19595603e-07, 7.92259818e-07, 8.71912776e-07,\n",
       "       9.59190204e-07, 1.05478200e-06, 1.15943650e-06, 1.27396504e-06,\n",
       "       1.39924683e-06, 1.53623422e-06, 1.68595828e-06, 1.84953473e-06,\n",
       "       2.02817041e-06, 2.22317002e-06, 2.43594339e-06, 2.66801330e-06,\n",
       "       2.92102363e-06, 3.19674822e-06, 3.49710021e-06, 3.82414194e-06,\n",
       "       4.18009558e-06, 4.56735431e-06, 4.98849426e-06, 5.44628711e-06,\n",
       "       5.94371354e-06, 6.48397736e-06, 7.07052060e-06, 7.70703935e-06,\n",
       "       8.39750059e-06, 9.14615994e-06, 9.95758042e-06, 1.08366522e-05,\n",
       "       1.17886136e-05, 1.28190726e-05, 1.39340309e-05, 1.51399071e-05,\n",
       "       1.64435633e-05, 1.78523314e-05, 1.93740417e-05, 2.10170521e-05,\n",
       "       2.27902796e-05, 2.47032327e-05, 2.67660452e-05, 2.89895121e-05,\n",
       "       3.13851268e-05, 3.39651199e-05, 3.67424996e-05, 3.97310943e-05,\n",
       "       4.29455963e-05, 4.64016079e-05, 5.01156890e-05, 5.41054063e-05,\n",
       "       5.83893852e-05, 6.29873626e-05, 6.79202425e-05, 7.32101529e-05,\n",
       "       7.88805050e-05, 8.49560541e-05, 9.14629628e-05, 9.84288658e-05,\n",
       "       1.05882937e-04, 1.13855957e-04, 1.22380386e-04, 1.31490435e-04,\n",
       "       1.41222140e-04, 1.51613438e-04, 1.62704246e-04, 1.74536539e-04,\n",
       "       1.87154431e-04, 2.00604260e-04, 2.14934668e-04, 2.30196689e-04,\n",
       "       2.46443834e-04, 2.63732178e-04, 2.82120451e-04, 3.01670123e-04,\n",
       "       3.22445494e-04, 3.44513788e-04, 3.67945236e-04, 3.92813173e-04,\n",
       "       4.19194123e-04, 4.47167888e-04, 4.76817640e-04, 5.08230006e-04,\n",
       "       5.41495151e-04, 5.76706870e-04, 6.13962660e-04, 6.53363811e-04,\n",
       "       6.95015476e-04, 7.39026746e-04, 7.85510726e-04, 8.34584597e-04,\n",
       "       8.86369682e-04, 9.40991505e-04, 9.98579843e-04, 1.05926877e-03,\n",
       "       1.12319672e-03, 1.19050648e-03, 1.26134528e-03, 1.33586475e-03,\n",
       "       1.41422098e-03, 1.49657451e-03, 1.58309032e-03, 1.67393783e-03,\n",
       "       1.76929088e-03, 1.86932767e-03, 1.97423076e-03, 2.08418696e-03,\n",
       "       2.19938733e-03, 2.32002702e-03, 2.44630527e-03, 2.57842522e-03,\n",
       "       2.71659385e-03, 2.86102180e-03, 3.01192327e-03, 3.16951581e-03,\n",
       "       3.33402017e-03, 3.50566010e-03, 3.68466213e-03, 3.87125535e-03,\n",
       "       4.06567115e-03, 4.26814298e-03, 4.47890606e-03, 4.69819707e-03,\n",
       "       4.92625386e-03, 5.16331509e-03, 5.40961991e-03, 5.66540755e-03,\n",
       "       5.93091697e-03, 6.20638644e-03, 6.49205313e-03, 6.78815264e-03,\n",
       "       7.09491857e-03, 7.41258205e-03, 7.74137123e-03, 8.08151078e-03,\n",
       "       8.43322139e-03, 8.79671920e-03, 9.17221525e-03, 9.55991498e-03,\n",
       "       9.96001755e-03, 1.03727153e-02, 1.07981933e-02, 1.12366284e-02,\n",
       "       1.16881889e-02, 1.21530338e-02, 1.26313123e-02, 1.31231630e-02,\n",
       "       1.36287132e-02, 1.41480787e-02, 1.46813625e-02, 1.52286547e-02,\n",
       "       1.57900317e-02, 1.63655552e-02, 1.69552723e-02, 1.75592141e-02,\n",
       "       1.81773958e-02, 1.88098155e-02, 1.94564539e-02, 2.01172737e-02,\n",
       "       2.07922191e-02, 2.14812150e-02, 2.21841669e-02, 2.29009601e-02,\n",
       "       2.36314590e-02, 2.43755074e-02, 2.51329274e-02, 2.59035191e-02,\n",
       "       2.66870608e-02, 2.74833079e-02, 2.82919930e-02, 2.91128260e-02,\n",
       "       2.99454931e-02, 3.07896574e-02, 3.16449581e-02, 3.25110110e-02,\n",
       "       3.33874083e-02, 3.42737184e-02, 3.51694861e-02, 3.60742326e-02,\n",
       "       3.69874562e-02, 3.79086316e-02, 3.88372110e-02, 3.97726239e-02,\n",
       "       4.07142777e-02, 4.16615580e-02, 4.26138294e-02, 4.35704354e-02,\n",
       "       4.45306998e-02, 4.54939265e-02, 4.64594009e-02, 4.74263904e-02,\n",
       "       4.83941449e-02, 4.93618981e-02, 5.03288682e-02, 5.12942589e-02,\n",
       "       5.22572602e-02, 5.32170500e-02, 5.41727944e-02, 5.51236494e-02,\n",
       "       5.60687622e-02, 5.70072717e-02, 5.79383106e-02, 5.88610060e-02,\n",
       "       5.97744812e-02, 6.06778568e-02, 6.15702521e-02, 6.24507867e-02,\n",
       "       6.33185815e-02, 6.41727608e-02, 6.50124528e-02, 6.58367922e-02,\n",
       "       6.66449206e-02, 6.74359888e-02, 6.82091577e-02, 6.89636003e-02,\n",
       "       6.96985026e-02, 7.04130654e-02, 7.11065057e-02, 7.17780582e-02,\n",
       "       7.24269765e-02, 7.30525345e-02, 7.36540281e-02, 7.42307759e-02,\n",
       "       7.47821211e-02, 7.53074324e-02, 7.58061052e-02, 7.62775631e-02,\n",
       "       7.67212584e-02, 7.71366738e-02, 7.75233230e-02, 7.78807518e-02,\n",
       "       7.82085388e-02, 7.85062966e-02, 7.87736723e-02, 7.90103482e-02,\n",
       "       7.92160424e-02, 7.93905095e-02, 7.95335411e-02, 7.96449660e-02,\n",
       "       7.97246508e-02, 7.97725000e-02, 7.97884561e-02, 7.97725000e-02,\n",
       "       7.97246508e-02, 7.96449660e-02, 7.95335411e-02, 7.93905095e-02,\n",
       "       7.92160424e-02, 7.90103482e-02, 7.87736723e-02, 7.85062966e-02,\n",
       "       7.82085388e-02, 7.78807518e-02, 7.75233230e-02, 7.71366738e-02,\n",
       "       7.67212584e-02, 7.62775631e-02, 7.58061052e-02, 7.53074324e-02,\n",
       "       7.47821211e-02, 7.42307759e-02, 7.36540281e-02, 7.30525345e-02,\n",
       "       7.24269765e-02, 7.17780582e-02, 7.11065057e-02, 7.04130654e-02,\n",
       "       6.96985026e-02, 6.89636003e-02, 6.82091577e-02, 6.74359888e-02,\n",
       "       6.66449206e-02, 6.58367922e-02, 6.50124528e-02, 6.41727608e-02,\n",
       "       6.33185815e-02, 6.24507867e-02, 6.15702521e-02, 6.06778568e-02,\n",
       "       5.97744812e-02, 5.88610060e-02, 5.79383106e-02, 5.70072717e-02,\n",
       "       5.60687622e-02, 5.51236494e-02, 5.41727944e-02, 5.32170500e-02,\n",
       "       5.22572602e-02, 5.12942589e-02, 5.03288682e-02, 4.93618981e-02,\n",
       "       4.83941449e-02, 4.74263904e-02, 4.64594009e-02, 4.54939265e-02,\n",
       "       4.45306998e-02, 4.35704354e-02, 4.26138294e-02, 4.16615580e-02,\n",
       "       4.07142777e-02, 3.97726239e-02, 3.88372110e-02, 3.79086316e-02,\n",
       "       3.69874562e-02, 3.60742326e-02, 3.51694861e-02, 3.42737184e-02,\n",
       "       3.33874083e-02, 3.25110110e-02, 3.16449581e-02, 3.07896574e-02,\n",
       "       2.99454931e-02, 2.91128260e-02, 2.82919930e-02, 2.74833079e-02,\n",
       "       2.66870608e-02, 2.59035191e-02, 2.51329274e-02, 2.43755074e-02,\n",
       "       2.36314590e-02, 2.29009601e-02, 2.21841669e-02, 2.14812150e-02,\n",
       "       2.07922191e-02, 2.01172737e-02, 1.94564539e-02, 1.88098155e-02,\n",
       "       1.81773958e-02, 1.75592141e-02, 1.69552723e-02, 1.63655552e-02,\n",
       "       1.57900317e-02, 1.52286547e-02, 1.46813625e-02, 1.41480787e-02,\n",
       "       1.36287132e-02, 1.31231630e-02, 1.26313123e-02, 1.21530338e-02,\n",
       "       1.16881889e-02, 1.12366284e-02, 1.07981933e-02, 1.03727153e-02,\n",
       "       9.96001755e-03, 9.55991498e-03, 9.17221525e-03, 8.79671920e-03,\n",
       "       8.43322139e-03, 8.08151078e-03, 7.74137123e-03, 7.41258205e-03,\n",
       "       7.09491857e-03, 6.78815264e-03, 6.49205313e-03, 6.20638644e-03,\n",
       "       5.93091697e-03, 5.66540755e-03, 5.40961991e-03, 5.16331509e-03,\n",
       "       4.92625386e-03, 4.69819707e-03, 4.47890606e-03, 4.26814298e-03,\n",
       "       4.06567115e-03, 3.87125535e-03, 3.68466213e-03, 3.50566010e-03,\n",
       "       3.33402017e-03, 3.16951581e-03, 3.01192327e-03, 2.86102180e-03,\n",
       "       2.71659385e-03, 2.57842522e-03, 2.44630527e-03, 2.32002702e-03,\n",
       "       2.19938733e-03, 2.08418696e-03, 1.97423076e-03, 1.86932767e-03,\n",
       "       1.76929088e-03, 1.67393783e-03, 1.58309032e-03, 1.49657451e-03,\n",
       "       1.41422098e-03, 1.33586475e-03, 1.26134528e-03, 1.19050648e-03,\n",
       "       1.12319672e-03, 1.05926877e-03, 9.98579843e-04, 9.40991505e-04,\n",
       "       8.86369682e-04, 8.34584597e-04, 7.85510726e-04, 7.39026746e-04,\n",
       "       6.95015476e-04, 6.53363811e-04, 6.13962660e-04, 5.76706870e-04,\n",
       "       5.41495151e-04, 5.08230006e-04, 4.76817640e-04, 4.47167888e-04,\n",
       "       4.19194123e-04, 3.92813173e-04, 3.67945236e-04, 3.44513788e-04,\n",
       "       3.22445494e-04, 3.01670123e-04, 2.82120451e-04, 2.63732178e-04,\n",
       "       2.46443834e-04, 2.30196689e-04, 2.14934668e-04, 2.00604260e-04,\n",
       "       1.87154431e-04, 1.74536539e-04, 1.62704246e-04, 1.51613438e-04,\n",
       "       1.41222140e-04, 1.31490435e-04, 1.22380386e-04, 1.13855957e-04,\n",
       "       1.05882937e-04, 9.84288658e-05, 9.14629628e-05, 8.49560541e-05,\n",
       "       7.88805050e-05, 7.32101529e-05, 6.79202425e-05, 6.29873626e-05,\n",
       "       5.83893852e-05, 5.41054063e-05, 5.01156890e-05, 4.64016079e-05,\n",
       "       4.29455963e-05, 3.97310943e-05, 3.67424996e-05, 3.39651199e-05,\n",
       "       3.13851268e-05, 2.89895121e-05, 2.67660452e-05, 2.47032327e-05,\n",
       "       2.27902796e-05, 2.10170521e-05, 1.93740417e-05, 1.78523314e-05,\n",
       "       1.64435633e-05, 1.51399071e-05, 1.39340309e-05, 1.28190726e-05,\n",
       "       1.17886136e-05, 1.08366522e-05, 9.95758042e-06, 9.14615994e-06,\n",
       "       8.39750059e-06, 7.70703935e-06, 7.07052060e-06, 6.48397736e-06,\n",
       "       5.94371354e-06, 5.44628711e-06, 4.98849426e-06, 4.56735431e-06,\n",
       "       4.18009558e-06, 3.82414194e-06, 3.49710021e-06, 3.19674822e-06,\n",
       "       2.92102363e-06, 2.66801330e-06, 2.43594339e-06, 2.22317002e-06,\n",
       "       2.02817041e-06, 1.84953473e-06, 1.68595828e-06, 1.53623422e-06,\n",
       "       1.39924683e-06, 1.27396504e-06, 1.15943650e-06, 1.05478200e-06,\n",
       "       9.59190204e-07, 8.71912776e-07, 7.92259818e-07, 7.19595603e-07,\n",
       "       6.53334593e-07, 5.92937734e-07, 5.37908995e-07, 4.87792149e-07,\n",
       "       4.42167775e-07, 4.00650466e-07, 3.62886238e-07, 3.28550118e-07,\n",
       "       2.97343903e-07, 2.68994085e-07, 2.43249920e-07, 2.19881638e-07,\n",
       "       1.98678788e-07, 1.79448703e-07, 1.62015076e-07, 1.46216645e-07,\n",
       "       1.31905979e-07, 1.18948353e-07, 1.07220707e-07, 9.66106894e-08,\n",
       "       8.70157722e-08, 7.83424335e-08, 7.05054063e-08, 6.34269843e-08,\n",
       "       5.70363846e-08, 5.12691595e-08, 4.60666560e-08, 4.13755196e-08,\n",
       "       3.71472369e-08, 3.33377168e-08, 2.99069050e-08, 2.68184314e-08,\n",
       "       2.40392856e-08, 2.15395201e-08, 1.92919786e-08, 1.72720466e-08,\n",
       "       1.54574238e-08, 1.38279152e-08, 1.23652410e-08, 1.10528619e-08,\n",
       "       9.87582045e-09, 8.82059556e-09, 7.87497013e-09, 7.02791019e-09,\n",
       "       6.26945476e-09, 5.59061552e-09, 4.98328539e-09, 4.44015547e-09,\n",
       "       3.95463928e-09, 3.52080407e-09, 3.13330824e-09, 2.78734461e-09,\n",
       "       2.47858886e-09, 2.20315272e-09, 1.95754158e-09, 1.73861599e-09,\n",
       "       1.54355684e-09, 1.36983376e-09, 1.21517657e-09, 1.07754940e-09,\n",
       "       9.55127338e-10, 8.46275258e-10, 7.49528746e-10, 6.63576849e-10,\n",
       "       5.87246504e-10, 5.19488498e-10, 4.59364802e-10, 4.06037155e-10,\n",
       "       3.58756782e-10, 3.16855131e-10, 2.79735544e-10, 2.46865751e-10,\n",
       "       2.17771135e-10, 1.92028667e-10, 1.69261469e-10, 1.49133916e-10,\n",
       "       1.31347262e-10, 1.15635693e-10, 1.01762806e-10, 8.95184429e-11,\n",
       "       7.87158608e-11, 6.91891923e-11, 6.07911774e-11, 5.33911323e-11,\n",
       "       4.68731338e-11, 4.11343965e-11, 3.60838238e-11, 3.16407128e-11,\n",
       "       2.77335999e-11, 2.42992302e-11, 2.12816387e-11, 1.86313318e-11,\n",
       "       1.63045575e-11, 1.42626562e-11, 1.24714829e-11, 1.09008925e-11,\n",
       "       9.52428326e-12, 8.31818989e-12, 7.26192300e-12, 6.33724841e-12,\n",
       "       5.52810273e-12, 4.82034099e-12, 4.20151288e-12, 3.66066443e-12,\n",
       "       3.18816230e-12, 2.77553819e-12, 2.41535113e-12, 2.10106565e-12,\n",
       "       1.82694408e-12, 1.58795126e-12, 1.37967046e-12, 1.19822904e-12,\n",
       "       1.04023294e-12, 9.02708735e-13, 7.83052661e-13, 6.78985620e-13,\n",
       "       5.88513549e-13, 5.09892515e-13, 4.41597993e-13, 3.82297824e-13,\n",
       "       3.30828445e-13, 2.86173980e-13, 2.47447874e-13, 2.13876757e-13,\n",
       "       1.84786287e-13, 1.59588711e-13, 1.37771973e-13, 1.18890149e-13,\n",
       "       1.02555073e-13, 8.84289982e-14, 7.62181748e-14, 6.56672254e-14,\n",
       "       5.65542271e-14, 4.86864107e-14, 4.18964019e-14, 3.60389374e-14,\n",
       "       3.09879974e-14, 2.66343024e-14, 2.28831298e-14, 1.96524095e-14,\n",
       "       1.68710637e-14, 1.44775612e-14, 1.24186571e-14, 1.06482967e-14,\n",
       "       9.12666136e-15, 7.81933841e-15, 6.69660010e-15, 5.73277639e-15,\n",
       "       4.90571057e-15, 4.19628642e-15, 3.58801796e-15, 3.06669351e-15,\n",
       "       2.62006716e-15, 2.23759124e-15, 1.91018472e-15, 1.63003249e-15,\n",
       "       1.39041178e-15, 1.18554188e-15, 1.01045422e-15, 8.60880092e-16,\n",
       "       7.33153599e-16, 6.24127846e-16, 5.31102603e-16, 4.51761881e-16,\n",
       "       3.84120086e-16, 3.26475605e-16, 2.77370797e-16, 2.35557543e-16,\n",
       "       1.99967575e-16, 1.69686943e-16, 1.43934053e-16, 1.22040777e-16,\n",
       "       1.03436224e-16, 8.76327887e-17, 7.42141793e-17, 6.28251347e-17,\n",
       "       5.31626046e-17, 4.49681845e-17, 3.80216308e-17, 3.21353037e-17,\n",
       "       2.71494076e-17, 2.29279165e-17, 1.93550860e-17, 1.63324713e-17,\n",
       "       1.37763758e-17, 1.16156721e-17, 9.78993903e-18, 8.24787200e-18,\n",
       "       6.94592550e-18, 5.84715506e-18, 4.92022976e-18, 4.13859032e-18,\n",
       "       3.47973182e-18, 2.92459272e-18, 2.45703473e-18, 2.06340025e-18,\n",
       "       1.73213583e-18, 1.45347207e-18, 1.21915163e-18, 1.02219802e-18,\n",
       "       8.56719454e-19, 7.17742240e-19, 6.01069463e-19, 5.03161155e-19,\n",
       "       4.21032702e-19, 3.52168765e-19, 2.94450382e-19, 2.46093245e-19,\n",
       "       2.05595471e-19])"
      ]
     },
     "execution_count": 26,
     "metadata": {},
     "output_type": "execute_result"
    }
   ],
   "source": [
    "stats.norm.pdf(x = x, loc = 175, scale = 5)"
   ]
  },
  {
   "cell_type": "code",
   "execution_count": 17,
   "id": "48210a48",
   "metadata": {},
   "outputs": [
    {
     "data": {
      "text/plain": [
       "0.02659615202676218"
      ]
     },
     "execution_count": 17,
     "metadata": {},
     "output_type": "execute_result"
    }
   ],
   "source": [
    "stats.norm.pdf(x = 175, loc = 175, scale = 15)"
   ]
  },
  {
   "cell_type": "code",
   "execution_count": 18,
   "id": "764c6a3a",
   "metadata": {},
   "outputs": [
    {
     "data": {
      "text/plain": [
       "0.03989422804014327"
      ]
     },
     "execution_count": 18,
     "metadata": {},
     "output_type": "execute_result"
    }
   ],
   "source": [
    "stats.norm.pdf(x = 175, loc = 175, scale = 10)"
   ]
  },
  {
   "cell_type": "code",
   "execution_count": 19,
   "id": "b583280d",
   "metadata": {},
   "outputs": [
    {
     "data": {
      "text/plain": [
       "0.07978845608028654"
      ]
     },
     "execution_count": 19,
     "metadata": {},
     "output_type": "execute_result"
    }
   ],
   "source": [
    "stats.norm.pdf(x = 175, loc = 175, scale = 5)"
   ]
  },
  {
   "cell_type": "code",
   "execution_count": 22,
   "id": "816868b7",
   "metadata": {},
   "outputs": [
    {
     "data": {
      "text/plain": [
       "0.7475074624530771"
      ]
     },
     "execution_count": 22,
     "metadata": {},
     "output_type": "execute_result"
    }
   ],
   "source": [
    "stats.norm.cdf(x = 185, loc = 175, scale = 15)"
   ]
  },
  {
   "cell_type": "code",
   "execution_count": 23,
   "id": "d599723d",
   "metadata": {},
   "outputs": [
    {
     "data": {
      "text/plain": [
       "0.8413447460685429"
      ]
     },
     "execution_count": 23,
     "metadata": {},
     "output_type": "execute_result"
    }
   ],
   "source": [
    "stats.norm.cdf(x = 185, loc = 175, scale = 10)"
   ]
  },
  {
   "cell_type": "code",
   "execution_count": 24,
   "id": "56177806",
   "metadata": {},
   "outputs": [
    {
     "data": {
      "text/plain": [
       "0.9772498680518208"
      ]
     },
     "execution_count": 24,
     "metadata": {},
     "output_type": "execute_result"
    }
   ],
   "source": [
    "stats.norm.cdf(x = 185, loc = 175, scale = 5)"
   ]
  },
  {
   "cell_type": "code",
   "execution_count": 28,
   "id": "96393c17",
   "metadata": {},
   "outputs": [],
   "source": [
    "cdfs = stats.norm.cdf(x = [185, 188], loc = 175, scale = 5)"
   ]
  },
  {
   "cell_type": "code",
   "execution_count": 29,
   "id": "a4777c05",
   "metadata": {},
   "outputs": [
    {
     "data": {
      "text/plain": [
       "array([0.01808894])"
      ]
     },
     "execution_count": 29,
     "metadata": {},
     "output_type": "execute_result"
    }
   ],
   "source": [
    "np.diff(cdfs)"
   ]
  },
  {
   "cell_type": "code",
   "execution_count": 31,
   "id": "39516460",
   "metadata": {},
   "outputs": [
    {
     "data": {
      "text/plain": [
       "185.0"
      ]
     },
     "execution_count": 31,
     "metadata": {},
     "output_type": "execute_result"
    }
   ],
   "source": [
    "stats.norm.ppf(q = 0.7475074624530771, loc = 175, scale = 15)"
   ]
  },
  {
   "cell_type": "code",
   "execution_count": 32,
   "id": "2b01f164",
   "metadata": {},
   "outputs": [
    {
     "data": {
      "text/plain": [
       "185.0"
      ]
     },
     "execution_count": 32,
     "metadata": {},
     "output_type": "execute_result"
    }
   ],
   "source": [
    "stats.norm.ppf(q = 0.8413447460685429, loc = 175, scale = 10)"
   ]
  },
  {
   "cell_type": "code",
   "execution_count": 33,
   "id": "3ef912ce",
   "metadata": {},
   "outputs": [
    {
     "data": {
      "text/plain": [
       "185.0"
      ]
     },
     "execution_count": 33,
     "metadata": {},
     "output_type": "execute_result"
    }
   ],
   "source": [
    "stats.norm.ppf(q = 0.9772498680518208, loc = 175, scale = 5)"
   ]
  },
  {
   "cell_type": "code",
   "execution_count": 34,
   "id": "63d52338",
   "metadata": {},
   "outputs": [
    {
     "data": {
      "text/plain": [
       "183.22426813475735"
      ]
     },
     "execution_count": 34,
     "metadata": {},
     "output_type": "execute_result"
    }
   ],
   "source": [
    "stats.norm.ppf(q = 0.95, loc = 175, scale = 5)"
   ]
  },
  {
   "cell_type": "code",
   "execution_count": 35,
   "id": "1e519997",
   "metadata": {},
   "outputs": [
    {
     "data": {
      "text/plain": [
       "175.6317393702042"
      ]
     },
     "execution_count": 35,
     "metadata": {},
     "output_type": "execute_result"
    }
   ],
   "source": [
    "stats.norm.ppf(q = 0.99, loc = 164, scale = 5)"
   ]
  },
  {
   "cell_type": "code",
   "execution_count": 36,
   "id": "3423e1f3",
   "metadata": {},
   "outputs": [
    {
     "data": {
      "text/plain": [
       "-0.03668062034777025"
      ]
     },
     "execution_count": 36,
     "metadata": {},
     "output_type": "execute_result"
    }
   ],
   "source": [
    "stats.skew(heights)"
   ]
  },
  {
   "cell_type": "code",
   "execution_count": 37,
   "id": "4520a489",
   "metadata": {},
   "outputs": [
    {
     "data": {
      "text/plain": [
       "-0.07067499523641407"
      ]
     },
     "execution_count": 37,
     "metadata": {},
     "output_type": "execute_result"
    }
   ],
   "source": [
    "stats.kurtosis(heights)"
   ]
  },
  {
   "cell_type": "code",
   "execution_count": 38,
   "id": "b44ac486",
   "metadata": {},
   "outputs": [
    {
     "data": {
      "text/plain": [
       "ShapiroResult(statistic=0.9995919466018677, pvalue=0.396047443151474)"
      ]
     },
     "execution_count": 38,
     "metadata": {},
     "output_type": "execute_result"
    }
   ],
   "source": [
    "stats.shapiro(heights)"
   ]
  },
  {
   "cell_type": "code",
   "execution_count": 39,
   "id": "7fa4ffd5",
   "metadata": {},
   "outputs": [],
   "source": [
    "np.random.seed(seed = 1234)"
   ]
  },
  {
   "cell_type": "code",
   "execution_count": 40,
   "id": "df3a7865",
   "metadata": {},
   "outputs": [],
   "source": [
    "heights = stats.norm.rvs(loc = 175, scale = 5, size = 10000)"
   ]
  },
  {
   "cell_type": "code",
   "execution_count": 41,
   "id": "4a706eb8",
   "metadata": {},
   "outputs": [
    {
     "name": "stderr",
     "output_type": "stream",
     "text": [
      "C:\\Users\\hdsce\\ve310\\lib\\site-packages\\scipy\\stats\\_morestats.py:1816: UserWarning: p-value may not be accurate for N > 5000.\n",
      "  warnings.warn(\"p-value may not be accurate for N > 5000.\")\n"
     ]
    },
    {
     "data": {
      "text/plain": [
       "ShapiroResult(statistic=0.9996193051338196, pvalue=0.04346244037151337)"
      ]
     },
     "execution_count": 41,
     "metadata": {},
     "output_type": "execute_result"
    }
   ],
   "source": [
    "stats.shapiro(heights)"
   ]
  },
  {
   "cell_type": "code",
   "execution_count": 42,
   "id": "140021e5",
   "metadata": {},
   "outputs": [
    {
     "data": {
      "text/plain": [
       "AndersonResult(statistic=0.35265258232357155, critical_values=array([0.576, 0.656, 0.787, 0.918, 1.092]), significance_level=array([15. , 10. ,  5. ,  2.5,  1. ]), fit_result=  params: FitParams(loc=175.08063230023598, scale=4.9761483416071846)\n",
       " success: True\n",
       " message: '`anderson` successfully fit the distribution to the data.')"
      ]
     },
     "execution_count": 42,
     "metadata": {},
     "output_type": "execute_result"
    }
   ],
   "source": [
    "stats.anderson(heights)"
   ]
  },
  {
   "cell_type": "code",
   "execution_count": 43,
   "id": "acd9a37d",
   "metadata": {},
   "outputs": [],
   "source": [
    "def scale(x, loc, scale):\n",
    "    return (x - loc) / scale"
   ]
  },
  {
   "cell_type": "code",
   "execution_count": 44,
   "id": "074051b3",
   "metadata": {},
   "outputs": [
    {
     "data": {
      "text/plain": [
       "1.0"
      ]
     },
     "execution_count": 44,
     "metadata": {},
     "output_type": "execute_result"
    }
   ],
   "source": [
    "scale(x = 90, loc = 75, scale = 15)"
   ]
  },
  {
   "cell_type": "code",
   "execution_count": 45,
   "id": "f5b58679",
   "metadata": {},
   "outputs": [
    {
     "data": {
      "text/plain": [
       "1.5"
      ]
     },
     "execution_count": 45,
     "metadata": {},
     "output_type": "execute_result"
    }
   ],
   "source": [
    "scale(x = 55, loc = 40, scale = 10)"
   ]
  },
  {
   "cell_type": "code",
   "execution_count": 47,
   "id": "27ade367",
   "metadata": {},
   "outputs": [
    {
     "data": {
      "text/plain": [
       "array([ 0.47143516, -1.19097569,  1.43270697, ..., -1.05246069,\n",
       "       -0.4976931 , -0.2560062 ])"
      ]
     },
     "execution_count": 47,
     "metadata": {},
     "output_type": "execute_result"
    }
   ],
   "source": [
    "scaled = scale(x = heights, loc = 175, scale = 5)\n",
    "scaled"
   ]
  },
  {
   "cell_type": "code",
   "execution_count": 50,
   "id": "926cac61",
   "metadata": {},
   "outputs": [
    {
     "data": {
      "text/plain": [
       "array([0.47143516, 1.19097569, 1.43270697, ..., 1.05246069, 0.4976931 ,\n",
       "       0.2560062 ])"
      ]
     },
     "execution_count": 50,
     "metadata": {},
     "output_type": "execute_result"
    }
   ],
   "source": [
    "np.abs(scaled)"
   ]
  },
  {
   "cell_type": "code",
   "execution_count": 51,
   "id": "8f89513d",
   "metadata": {},
   "outputs": [
    {
     "data": {
      "text/plain": [
       "array([False, False, False, ..., False, False, False])"
      ]
     },
     "execution_count": 51,
     "metadata": {},
     "output_type": "execute_result"
    }
   ],
   "source": [
    "np.abs(scaled) > 3"
   ]
  },
  {
   "cell_type": "code",
   "execution_count": 52,
   "id": "c31bf315",
   "metadata": {},
   "outputs": [
    {
     "data": {
      "text/plain": [
       "array(['정상치', '정상치', '정상치', ..., '정상치', '정상치', '정상치'], dtype='<U3')"
      ]
     },
     "execution_count": 52,
     "metadata": {},
     "output_type": "execute_result"
    }
   ],
   "source": [
    "np.where(np.abs(scaled) > 3, '이상치', '정상치')"
   ]
  },
  {
   "cell_type": "code",
   "execution_count": 54,
   "id": "6f39db59",
   "metadata": {},
   "outputs": [],
   "source": [
    "locs = np.where(np.abs(scaled) > 3)"
   ]
  },
  {
   "cell_type": "code",
   "execution_count": 55,
   "id": "8f2e2e65",
   "metadata": {},
   "outputs": [
    {
     "data": {
      "text/plain": [
       "array([157.1824167 , 190.62817574, 190.54817675, 155.59550794,\n",
       "       158.61347962, 191.10284213, 158.83247735, 157.82590423,\n",
       "       159.91806595, 159.24619206, 190.00573485, 158.67898086,\n",
       "       157.0030016 , 158.68108413, 159.25844267, 191.43893949,\n",
       "       158.34281695, 155.70665632, 190.18821417, 159.73908333])"
      ]
     },
     "execution_count": 55,
     "metadata": {},
     "output_type": "execute_result"
    }
   ],
   "source": [
    "heights[locs]"
   ]
  },
  {
   "cell_type": "code",
   "execution_count": 56,
   "id": "2b750b26",
   "metadata": {},
   "outputs": [],
   "source": [
    "heights = pd.Series(data = heights)"
   ]
  },
  {
   "cell_type": "code",
   "execution_count": 63,
   "id": "41e64f64",
   "metadata": {},
   "outputs": [
    {
     "data": {
      "image/png": "[encoded data removed]",
      "text/plain": [
       "<Figure size 1200x400 with 1 Axes>"
      ]
     },
     "metadata": {},
     "output_type": "display_data"
    }
   ],
   "source": [
    "plt.figure(figsize = (12, 4))\n",
    "sns.scatterplot(x = heights.index, y = heights, \n",
    "                color = '0.8', s = 10, alpha = 0.2)\n",
    "sns.scatterplot(x = heights.loc[locs].index, y = heights.loc[locs], \n",
    "                color = 'red', s = 30, alpha = 1)\n",
    "plt.axhline(y = 175, color = 'red', ls = '-')\n",
    "plt.axhline(y = 190, color = 'red', ls = '--')\n",
    "plt.axhline(y = 160, color = 'red', ls = '--');"
   ]
  },
  {
   "cell_type": "raw",
   "id": "448fe5fc",
   "metadata": {},
   "source": [
    "!pip install pingouin"
   ]
  },
  {
   "cell_type": "code",
   "execution_count": 64,
   "id": "88b10937",
   "metadata": {},
   "outputs": [],
   "source": [
    "import os\n",
    "import joblib\n",
    "import numpy as np\n",
    "import pandas as pd\n",
    "\n",
    "from scipy import stats\n",
    "import pingouin as pg\n",
    "import scikit_posthocs as sp\n",
    "from statsmodels.stats.proportion import proportions_ztest"
   ]
  },
  {
   "cell_type": "code",
   "execution_count": 65,
   "id": "c08f69e7",
   "metadata": {},
   "outputs": [
    {
     "data": {
      "text/plain": [
       "'C:\\\\Users\\\\hdsce\\\\Documents\\\\PythonAdvanced-main\\\\live'"
      ]
     },
     "execution_count": 65,
     "metadata": {},
     "output_type": "execute_result"
    }
   ],
   "source": [
    "os.getcwd()"
   ]
  },
  {
   "cell_type": "code",
   "execution_count": 66,
   "id": "ee2f9141",
   "metadata": {},
   "outputs": [],
   "source": [
    "os.chdir(path = '../data')"
   ]
  },
  {
   "cell_type": "code",
   "execution_count": 67,
   "id": "a53bcf62",
   "metadata": {},
   "outputs": [
    {
     "data": {
      "text/plain": [
       "['Seafood_Trade_Prep.z',\n",
       " 'Used_Cars_Price.csv',\n",
       " 'Used_Cars_Price.xlsx',\n",
       " 'Used_Cars_Price.z']"
      ]
     },
     "execution_count": 67,
     "metadata": {},
     "output_type": "execute_result"
    }
   ],
   "source": [
    "os.listdir()"
   ]
  },
  {
   "cell_type": "code",
   "execution_count": 68,
   "id": "9f496bcd",
   "metadata": {},
   "outputs": [],
   "source": [
    "df = joblib.load(filename = 'Used_Cars_Price.z')"
   ]
  },
  {
   "cell_type": "code",
   "execution_count": 69,
   "id": "268339ad",
   "metadata": {},
   "outputs": [
    {
     "name": "stdout",
     "output_type": "stream",
     "text": [
      "<class 'pandas.core.frame.DataFrame'>\n",
      "RangeIndex: 1268 entries, 0 to 1267\n",
      "Data columns (total 10 columns):\n",
      " #   Column     Non-Null Count  Dtype \n",
      "---  ------     --------------  ----- \n",
      " 0   Price      1268 non-null   int64 \n",
      " 1   Age        1268 non-null   int64 \n",
      " 2   KM         1268 non-null   int64 \n",
      " 3   FuelType   1268 non-null   object\n",
      " 4   HP         1268 non-null   int64 \n",
      " 5   MetColor   1268 non-null   object\n",
      " 6   Automatic  1268 non-null   object\n",
      " 7   CC         1268 non-null   int64 \n",
      " 8   Doors      1268 non-null   int64 \n",
      " 9   Weight     1268 non-null   int64 \n",
      "dtypes: int64(7), object(3)\n",
      "memory usage: 99.2+ KB\n"
     ]
    }
   ],
   "source": [
    "df.info()"
   ]
  },
  {
   "cell_type": "code",
   "execution_count": 70,
   "id": "850204cc",
   "metadata": {},
   "outputs": [
    {
     "data": {
      "text/html": [
       "<div>\n",
       "<style scoped>\n",
       "    .dataframe tbody tr th:only-of-type {\n",
       "        vertical-align: middle;\n",
       "    }\n",
       "\n",
       "    .dataframe tbody tr th {\n",
       "        vertical-align: top;\n",
       "    }\n",
       "\n",
       "    .dataframe thead th {\n",
       "        text-align: right;\n",
       "    }\n",
       "</style>\n",
       "<table border=\"1\" class=\"dataframe\">\n",
       "  <thead>\n",
       "    <tr style=\"text-align: right;\">\n",
       "      <th></th>\n",
       "      <th>Price</th>\n",
       "      <th>Age</th>\n",
       "      <th>KM</th>\n",
       "      <th>FuelType</th>\n",
       "      <th>HP</th>\n",
       "      <th>MetColor</th>\n",
       "      <th>Automatic</th>\n",
       "      <th>CC</th>\n",
       "      <th>Doors</th>\n",
       "      <th>Weight</th>\n",
       "    </tr>\n",
       "  </thead>\n",
       "  <tbody>\n",
       "    <tr>\n",
       "      <th>0</th>\n",
       "      <td>13500</td>\n",
       "      <td>23</td>\n",
       "      <td>46986</td>\n",
       "      <td>Diesel</td>\n",
       "      <td>90</td>\n",
       "      <td>1</td>\n",
       "      <td>0</td>\n",
       "      <td>2000</td>\n",
       "      <td>3</td>\n",
       "      <td>1165</td>\n",
       "    </tr>\n",
       "    <tr>\n",
       "      <th>1</th>\n",
       "      <td>13750</td>\n",
       "      <td>23</td>\n",
       "      <td>72937</td>\n",
       "      <td>Diesel</td>\n",
       "      <td>90</td>\n",
       "      <td>1</td>\n",
       "      <td>0</td>\n",
       "      <td>2000</td>\n",
       "      <td>3</td>\n",
       "      <td>1165</td>\n",
       "    </tr>\n",
       "    <tr>\n",
       "      <th>2</th>\n",
       "      <td>13950</td>\n",
       "      <td>24</td>\n",
       "      <td>41711</td>\n",
       "      <td>Diesel</td>\n",
       "      <td>90</td>\n",
       "      <td>1</td>\n",
       "      <td>0</td>\n",
       "      <td>2000</td>\n",
       "      <td>3</td>\n",
       "      <td>1165</td>\n",
       "    </tr>\n",
       "    <tr>\n",
       "      <th>3</th>\n",
       "      <td>14950</td>\n",
       "      <td>26</td>\n",
       "      <td>48000</td>\n",
       "      <td>Diesel</td>\n",
       "      <td>90</td>\n",
       "      <td>0</td>\n",
       "      <td>0</td>\n",
       "      <td>2000</td>\n",
       "      <td>3</td>\n",
       "      <td>1165</td>\n",
       "    </tr>\n",
       "    <tr>\n",
       "      <th>4</th>\n",
       "      <td>13750</td>\n",
       "      <td>30</td>\n",
       "      <td>38500</td>\n",
       "      <td>Diesel</td>\n",
       "      <td>90</td>\n",
       "      <td>0</td>\n",
       "      <td>0</td>\n",
       "      <td>2000</td>\n",
       "      <td>3</td>\n",
       "      <td>1170</td>\n",
       "    </tr>\n",
       "  </tbody>\n",
       "</table>\n",
       "</div>"
      ],
      "text/plain": [
       "   Price  Age     KM FuelType  HP MetColor Automatic    CC  Doors  Weight\n",
       "0  13500   23  46986   Diesel  90        1         0  2000      3    1165\n",
       "1  13750   23  72937   Diesel  90        1         0  2000      3    1165\n",
       "2  13950   24  41711   Diesel  90        1         0  2000      3    1165\n",
       "3  14950   26  48000   Diesel  90        0         0  2000      3    1165\n",
       "4  13750   30  38500   Diesel  90        0         0  2000      3    1170"
      ]
     },
     "execution_count": 70,
     "metadata": {},
     "output_type": "execute_result"
    }
   ],
   "source": [
    "df.head()"
   ]
  },
  {
   "cell_type": "code",
   "execution_count": 71,
   "id": "c27393d2",
   "metadata": {},
   "outputs": [
    {
     "data": {
      "text/plain": [
       "-22157.692905818418"
      ]
     },
     "execution_count": 71,
     "metadata": {},
     "output_type": "execute_result"
    }
   ],
   "source": [
    "df['Age'].cov(df['Price'])"
   ]
  },
  {
   "cell_type": "code",
   "execution_count": 74,
   "id": "c6177f2d",
   "metadata": {},
   "outputs": [
    {
     "data": {
      "text/html": [
       "<div>\n",
       "<style scoped>\n",
       "    .dataframe tbody tr th:only-of-type {\n",
       "        vertical-align: middle;\n",
       "    }\n",
       "\n",
       "    .dataframe tbody tr th {\n",
       "        vertical-align: top;\n",
       "    }\n",
       "\n",
       "    .dataframe thead th {\n",
       "        text-align: right;\n",
       "    }\n",
       "</style>\n",
       "<table border=\"1\" class=\"dataframe\">\n",
       "  <thead>\n",
       "    <tr style=\"text-align: right;\">\n",
       "      <th></th>\n",
       "      <th>Price</th>\n",
       "      <th>Age</th>\n",
       "      <th>KM</th>\n",
       "      <th>HP</th>\n",
       "      <th>CC</th>\n",
       "      <th>Doors</th>\n",
       "      <th>Weight</th>\n",
       "    </tr>\n",
       "  </thead>\n",
       "  <tbody>\n",
       "    <tr>\n",
       "      <th>Price</th>\n",
       "      <td>4117236.37</td>\n",
       "      <td>-22157.69</td>\n",
       "      <td>-3.744107e+07</td>\n",
       "      <td>5899.69</td>\n",
       "      <td>18808.75</td>\n",
       "      <td>317.01</td>\n",
       "      <td>15155.22</td>\n",
       "    </tr>\n",
       "    <tr>\n",
       "      <th>Age</th>\n",
       "      <td>-22157.69</td>\n",
       "      <td>187.94</td>\n",
       "      <td>1.711871e+05</td>\n",
       "      <td>-7.99</td>\n",
       "      <td>-213.61</td>\n",
       "      <td>-1.18</td>\n",
       "      <td>-98.23</td>\n",
       "    </tr>\n",
       "    <tr>\n",
       "      <th>KM</th>\n",
       "      <td>-37441074.77</td>\n",
       "      <td>171187.12</td>\n",
       "      <td>1.285820e+09</td>\n",
       "      <td>-155996.12</td>\n",
       "      <td>2557934.81</td>\n",
       "      <td>595.87</td>\n",
       "      <td>359258.46</td>\n",
       "    </tr>\n",
       "    <tr>\n",
       "      <th>HP</th>\n",
       "      <td>5899.69</td>\n",
       "      <td>-7.99</td>\n",
       "      <td>-1.559961e+05</td>\n",
       "      <td>171.61</td>\n",
       "      <td>-46.69</td>\n",
       "      <td>1.50</td>\n",
       "      <td>-39.09</td>\n",
       "    </tr>\n",
       "    <tr>\n",
       "      <th>CC</th>\n",
       "      <td>18808.75</td>\n",
       "      <td>-213.61</td>\n",
       "      <td>2.557935e+06</td>\n",
       "      <td>-46.69</td>\n",
       "      <td>33730.00</td>\n",
       "      <td>23.85</td>\n",
       "      <td>5001.29</td>\n",
       "    </tr>\n",
       "    <tr>\n",
       "      <th>Doors</th>\n",
       "      <td>317.01</td>\n",
       "      <td>-1.18</td>\n",
       "      <td>5.958700e+02</td>\n",
       "      <td>1.50</td>\n",
       "      <td>23.85</td>\n",
       "      <td>0.90</td>\n",
       "      <td>13.21</td>\n",
       "    </tr>\n",
       "    <tr>\n",
       "      <th>Weight</th>\n",
       "      <td>15155.22</td>\n",
       "      <td>-98.23</td>\n",
       "      <td>3.592585e+05</td>\n",
       "      <td>-39.09</td>\n",
       "      <td>5001.29</td>\n",
       "      <td>13.21</td>\n",
       "      <td>1145.08</td>\n",
       "    </tr>\n",
       "  </tbody>\n",
       "</table>\n",
       "</div>"
      ],
      "text/plain": [
       "              Price        Age            KM         HP          CC   Doors  \\\n",
       "Price    4117236.37  -22157.69 -3.744107e+07    5899.69    18808.75  317.01   \n",
       "Age       -22157.69     187.94  1.711871e+05      -7.99     -213.61   -1.18   \n",
       "KM     -37441074.77  171187.12  1.285820e+09 -155996.12  2557934.81  595.87   \n",
       "HP          5899.69      -7.99 -1.559961e+05     171.61      -46.69    1.50   \n",
       "CC         18808.75    -213.61  2.557935e+06     -46.69    33730.00   23.85   \n",
       "Doors        317.01      -1.18  5.958700e+02       1.50       23.85    0.90   \n",
       "Weight     15155.22     -98.23  3.592585e+05     -39.09     5001.29   13.21   \n",
       "\n",
       "           Weight  \n",
       "Price    15155.22  \n",
       "Age        -98.23  \n",
       "KM      359258.46  \n",
       "HP         -39.09  \n",
       "CC        5001.29  \n",
       "Doors       13.21  \n",
       "Weight    1145.08  "
      ]
     },
     "execution_count": 74,
     "metadata": {},
     "output_type": "execute_result"
    }
   ],
   "source": [
    "df.cov(numeric_only = True).round(2)"
   ]
  },
  {
   "cell_type": "code",
   "execution_count": 76,
   "id": "38e37cbe",
   "metadata": {},
   "outputs": [
    {
     "data": {
      "text/plain": [
       "-0.7965447290519272"
      ]
     },
     "execution_count": 76,
     "metadata": {},
     "output_type": "execute_result"
    }
   ],
   "source": [
    "df['Age'].corr(df['Price'])"
   ]
  },
  {
   "cell_type": "code",
   "execution_count": 77,
   "id": "d11c44a1",
   "metadata": {},
   "outputs": [
    {
     "data": {
      "text/html": [
       "<div>\n",
       "<style scoped>\n",
       "    .dataframe tbody tr th:only-of-type {\n",
       "        vertical-align: middle;\n",
       "    }\n",
       "\n",
       "    .dataframe tbody tr th {\n",
       "        vertical-align: top;\n",
       "    }\n",
       "\n",
       "    .dataframe thead th {\n",
       "        text-align: right;\n",
       "    }\n",
       "</style>\n",
       "<table border=\"1\" class=\"dataframe\">\n",
       "  <thead>\n",
       "    <tr style=\"text-align: right;\">\n",
       "      <th></th>\n",
       "      <th>Price</th>\n",
       "      <th>Age</th>\n",
       "      <th>KM</th>\n",
       "      <th>HP</th>\n",
       "      <th>CC</th>\n",
       "      <th>Doors</th>\n",
       "      <th>Weight</th>\n",
       "    </tr>\n",
       "  </thead>\n",
       "  <tbody>\n",
       "    <tr>\n",
       "      <th>Price</th>\n",
       "      <td>1.00</td>\n",
       "      <td>-0.80</td>\n",
       "      <td>-0.51</td>\n",
       "      <td>0.22</td>\n",
       "      <td>0.05</td>\n",
       "      <td>0.16</td>\n",
       "      <td>0.22</td>\n",
       "    </tr>\n",
       "    <tr>\n",
       "      <th>Age</th>\n",
       "      <td>-0.80</td>\n",
       "      <td>1.00</td>\n",
       "      <td>0.35</td>\n",
       "      <td>-0.04</td>\n",
       "      <td>-0.08</td>\n",
       "      <td>-0.09</td>\n",
       "      <td>-0.21</td>\n",
       "    </tr>\n",
       "    <tr>\n",
       "      <th>KM</th>\n",
       "      <td>-0.51</td>\n",
       "      <td>0.35</td>\n",
       "      <td>1.00</td>\n",
       "      <td>-0.33</td>\n",
       "      <td>0.39</td>\n",
       "      <td>0.02</td>\n",
       "      <td>0.30</td>\n",
       "    </tr>\n",
       "    <tr>\n",
       "      <th>HP</th>\n",
       "      <td>0.22</td>\n",
       "      <td>-0.04</td>\n",
       "      <td>-0.33</td>\n",
       "      <td>1.00</td>\n",
       "      <td>-0.02</td>\n",
       "      <td>0.12</td>\n",
       "      <td>-0.09</td>\n",
       "    </tr>\n",
       "    <tr>\n",
       "      <th>CC</th>\n",
       "      <td>0.05</td>\n",
       "      <td>-0.08</td>\n",
       "      <td>0.39</td>\n",
       "      <td>-0.02</td>\n",
       "      <td>1.00</td>\n",
       "      <td>0.14</td>\n",
       "      <td>0.80</td>\n",
       "    </tr>\n",
       "    <tr>\n",
       "      <th>Doors</th>\n",
       "      <td>0.16</td>\n",
       "      <td>-0.09</td>\n",
       "      <td>0.02</td>\n",
       "      <td>0.12</td>\n",
       "      <td>0.14</td>\n",
       "      <td>1.00</td>\n",
       "      <td>0.41</td>\n",
       "    </tr>\n",
       "    <tr>\n",
       "      <th>Weight</th>\n",
       "      <td>0.22</td>\n",
       "      <td>-0.21</td>\n",
       "      <td>0.30</td>\n",
       "      <td>-0.09</td>\n",
       "      <td>0.80</td>\n",
       "      <td>0.41</td>\n",
       "      <td>1.00</td>\n",
       "    </tr>\n",
       "  </tbody>\n",
       "</table>\n",
       "</div>"
      ],
      "text/plain": [
       "        Price   Age    KM    HP    CC  Doors  Weight\n",
       "Price    1.00 -0.80 -0.51  0.22  0.05   0.16    0.22\n",
       "Age     -0.80  1.00  0.35 -0.04 -0.08  -0.09   -0.21\n",
       "KM      -0.51  0.35  1.00 -0.33  0.39   0.02    0.30\n",
       "HP       0.22 -0.04 -0.33  1.00 -0.02   0.12   -0.09\n",
       "CC       0.05 -0.08  0.39 -0.02  1.00   0.14    0.80\n",
       "Doors    0.16 -0.09  0.02  0.12  0.14   1.00    0.41\n",
       "Weight   0.22 -0.21  0.30 -0.09  0.80   0.41    1.00"
      ]
     },
     "execution_count": 77,
     "metadata": {},
     "output_type": "execute_result"
    }
   ],
   "source": [
    "df.corr(numeric_only = True).round(2)"
   ]
  },
  {
   "cell_type": "code",
   "execution_count": 78,
   "id": "2ca15fc1",
   "metadata": {},
   "outputs": [
    {
     "data": {
      "text/html": [
       "<div>\n",
       "<style scoped>\n",
       "    .dataframe tbody tr th:only-of-type {\n",
       "        vertical-align: middle;\n",
       "    }\n",
       "\n",
       "    .dataframe tbody tr th {\n",
       "        vertical-align: top;\n",
       "    }\n",
       "\n",
       "    .dataframe thead th {\n",
       "        text-align: right;\n",
       "    }\n",
       "</style>\n",
       "<table border=\"1\" class=\"dataframe\">\n",
       "  <thead>\n",
       "    <tr style=\"text-align: right;\">\n",
       "      <th></th>\n",
       "      <th>Price</th>\n",
       "      <th>Age</th>\n",
       "      <th>KM</th>\n",
       "      <th>HP</th>\n",
       "      <th>CC</th>\n",
       "      <th>Doors</th>\n",
       "      <th>Weight</th>\n",
       "    </tr>\n",
       "  </thead>\n",
       "  <tbody>\n",
       "    <tr>\n",
       "      <th>Price</th>\n",
       "      <td>1.00</td>\n",
       "      <td>-0.78</td>\n",
       "      <td>-0.52</td>\n",
       "      <td>0.20</td>\n",
       "      <td>0.08</td>\n",
       "      <td>0.17</td>\n",
       "      <td>0.24</td>\n",
       "    </tr>\n",
       "    <tr>\n",
       "      <th>Age</th>\n",
       "      <td>-0.78</td>\n",
       "      <td>1.00</td>\n",
       "      <td>0.40</td>\n",
       "      <td>-0.03</td>\n",
       "      <td>-0.08</td>\n",
       "      <td>-0.09</td>\n",
       "      <td>-0.18</td>\n",
       "    </tr>\n",
       "    <tr>\n",
       "      <th>KM</th>\n",
       "      <td>-0.52</td>\n",
       "      <td>0.40</td>\n",
       "      <td>1.00</td>\n",
       "      <td>-0.17</td>\n",
       "      <td>0.25</td>\n",
       "      <td>0.02</td>\n",
       "      <td>0.16</td>\n",
       "    </tr>\n",
       "    <tr>\n",
       "      <th>HP</th>\n",
       "      <td>0.20</td>\n",
       "      <td>-0.03</td>\n",
       "      <td>-0.17</td>\n",
       "      <td>1.00</td>\n",
       "      <td>0.34</td>\n",
       "      <td>0.15</td>\n",
       "      <td>0.16</td>\n",
       "    </tr>\n",
       "    <tr>\n",
       "      <th>CC</th>\n",
       "      <td>0.08</td>\n",
       "      <td>-0.08</td>\n",
       "      <td>0.25</td>\n",
       "      <td>0.34</td>\n",
       "      <td>1.00</td>\n",
       "      <td>0.17</td>\n",
       "      <td>0.74</td>\n",
       "    </tr>\n",
       "    <tr>\n",
       "      <th>Doors</th>\n",
       "      <td>0.17</td>\n",
       "      <td>-0.09</td>\n",
       "      <td>0.02</td>\n",
       "      <td>0.15</td>\n",
       "      <td>0.17</td>\n",
       "      <td>1.00</td>\n",
       "      <td>0.49</td>\n",
       "    </tr>\n",
       "    <tr>\n",
       "      <th>Weight</th>\n",
       "      <td>0.24</td>\n",
       "      <td>-0.18</td>\n",
       "      <td>0.16</td>\n",
       "      <td>0.16</td>\n",
       "      <td>0.74</td>\n",
       "      <td>0.49</td>\n",
       "      <td>1.00</td>\n",
       "    </tr>\n",
       "  </tbody>\n",
       "</table>\n",
       "</div>"
      ],
      "text/plain": [
       "        Price   Age    KM    HP    CC  Doors  Weight\n",
       "Price    1.00 -0.78 -0.52  0.20  0.08   0.17    0.24\n",
       "Age     -0.78  1.00  0.40 -0.03 -0.08  -0.09   -0.18\n",
       "KM      -0.52  0.40  1.00 -0.17  0.25   0.02    0.16\n",
       "HP       0.20 -0.03 -0.17  1.00  0.34   0.15    0.16\n",
       "CC       0.08 -0.08  0.25  0.34  1.00   0.17    0.74\n",
       "Doors    0.17 -0.09  0.02  0.15  0.17   1.00    0.49\n",
       "Weight   0.24 -0.18  0.16  0.16  0.74   0.49    1.00"
      ]
     },
     "execution_count": 78,
     "metadata": {},
     "output_type": "execute_result"
    }
   ],
   "source": [
    "df.corr(numeric_only = True, method = 'spearman').round(2)"
   ]
  },
  {
   "cell_type": "code",
   "execution_count": 96,
   "id": "2074005d",
   "metadata": {},
   "outputs": [
    {
     "data": {
      "text/plain": [
       "Price     1.00\n",
       "Age      -0.78\n",
       "KM       -0.52\n",
       "HP        0.20\n",
       "CC        0.08\n",
       "Doors     0.17\n",
       "Weight    0.24\n",
       "Name: Price, dtype: float64"
      ]
     },
     "execution_count": 96,
     "metadata": {},
     "output_type": "execute_result"
    }
   ],
   "source": [
    "df.corr(numeric_only = True, method = 'spearman').round(2)['Price']"
   ]
  },
  {
   "cell_type": "code",
   "execution_count": 79,
   "id": "207e9f2a",
   "metadata": {},
   "outputs": [
    {
     "data": {
      "text/html": [
       "<div>\n",
       "<style scoped>\n",
       "    .dataframe tbody tr th:only-of-type {\n",
       "        vertical-align: middle;\n",
       "    }\n",
       "\n",
       "    .dataframe tbody tr th {\n",
       "        vertical-align: top;\n",
       "    }\n",
       "\n",
       "    .dataframe thead th {\n",
       "        text-align: right;\n",
       "    }\n",
       "</style>\n",
       "<table border=\"1\" class=\"dataframe\">\n",
       "  <thead>\n",
       "    <tr style=\"text-align: right;\">\n",
       "      <th></th>\n",
       "      <th>n</th>\n",
       "      <th>r</th>\n",
       "      <th>CI95%</th>\n",
       "      <th>p-val</th>\n",
       "      <th>BF10</th>\n",
       "      <th>power</th>\n",
       "    </tr>\n",
       "  </thead>\n",
       "  <tbody>\n",
       "    <tr>\n",
       "      <th>pearson</th>\n",
       "      <td>1268</td>\n",
       "      <td>-0.796545</td>\n",
       "      <td>[-0.82, -0.78]</td>\n",
       "      <td>5.879611e-279</td>\n",
       "      <td>6.169e+274</td>\n",
       "      <td>1.0</td>\n",
       "    </tr>\n",
       "  </tbody>\n",
       "</table>\n",
       "</div>"
      ],
      "text/plain": [
       "            n         r           CI95%          p-val        BF10  power\n",
       "pearson  1268 -0.796545  [-0.82, -0.78]  5.879611e-279  6.169e+274    1.0"
      ]
     },
     "execution_count": 79,
     "metadata": {},
     "output_type": "execute_result"
    }
   ],
   "source": [
    "pg.corr(x = df['Age'], y = df['Price'])"
   ]
  },
  {
   "cell_type": "code",
   "execution_count": 80,
   "id": "8f7ce0ff",
   "metadata": {},
   "outputs": [],
   "source": [
    "x = df['Age']"
   ]
  },
  {
   "cell_type": "code",
   "execution_count": 82,
   "id": "99a8786f",
   "metadata": {},
   "outputs": [
    {
     "data": {
      "text/plain": [
       "pearson    5.879611e-279\n",
       "Name: p-val, dtype: float64"
      ]
     },
     "execution_count": 82,
     "metadata": {},
     "output_type": "execute_result"
    }
   ],
   "source": [
    "pg.corr(x = x, y = df['Price'])['p-val']"
   ]
  },
  {
   "cell_type": "code",
   "execution_count": 83,
   "id": "00442338",
   "metadata": {},
   "outputs": [],
   "source": [
    "corr = lambda x: pg.corr(x = x, y = df['Price'])['p-val']"
   ]
  },
  {
   "cell_type": "code",
   "execution_count": 84,
   "id": "f6eda5e6",
   "metadata": {},
   "outputs": [
    {
     "data": {
      "text/plain": [
       "pearson    5.879611e-279\n",
       "Name: p-val, dtype: float64"
      ]
     },
     "execution_count": 84,
     "metadata": {},
     "output_type": "execute_result"
    }
   ],
   "source": [
    "corr(x = df['Age'])"
   ]
  },
  {
   "cell_type": "code",
   "execution_count": 85,
   "id": "45b0d307",
   "metadata": {},
   "outputs": [
    {
     "data": {
      "text/plain": [
       "(1268, 10)"
      ]
     },
     "execution_count": 85,
     "metadata": {},
     "output_type": "execute_result"
    }
   ],
   "source": [
    "df.shape"
   ]
  },
  {
   "cell_type": "code",
   "execution_count": 86,
   "id": "7f936439",
   "metadata": {
    "collapsed": true
   },
   "outputs": [
    {
     "data": {
      "text/plain": [
       "Price        1268\n",
       "Age          1268\n",
       "KM           1268\n",
       "FuelType     1268\n",
       "HP           1268\n",
       "MetColor     1268\n",
       "Automatic    1268\n",
       "CC           1268\n",
       "Doors        1268\n",
       "Weight       1268\n",
       "dtype: int64"
      ]
     },
     "execution_count": 86,
     "metadata": {},
     "output_type": "execute_result"
    }
   ],
   "source": [
    "df.apply(func = len, axis = 0)"
   ]
  },
  {
   "cell_type": "code",
   "execution_count": 87,
   "id": "45c9f200",
   "metadata": {
    "collapsed": true
   },
   "outputs": [
    {
     "data": {
      "text/plain": [
       "0       10\n",
       "1       10\n",
       "2       10\n",
       "3       10\n",
       "4       10\n",
       "        ..\n",
       "1263    10\n",
       "1264    10\n",
       "1265    10\n",
       "1266    10\n",
       "1267    10\n",
       "Length: 1268, dtype: int64"
      ]
     },
     "execution_count": 87,
     "metadata": {},
     "output_type": "execute_result"
    }
   ],
   "source": [
    "df.apply(func = len, axis = 1)"
   ]
  },
  {
   "cell_type": "code",
   "execution_count": 91,
   "id": "ffdff04a",
   "metadata": {},
   "outputs": [],
   "source": [
    "locs = df.dtypes == np.int64"
   ]
  },
  {
   "cell_type": "code",
   "execution_count": 93,
   "id": "f869a4f7",
   "metadata": {},
   "outputs": [
    {
     "data": {
      "text/html": [
       "<div>\n",
       "<style scoped>\n",
       "    .dataframe tbody tr th:only-of-type {\n",
       "        vertical-align: middle;\n",
       "    }\n",
       "\n",
       "    .dataframe tbody tr th {\n",
       "        vertical-align: top;\n",
       "    }\n",
       "\n",
       "    .dataframe thead th {\n",
       "        text-align: right;\n",
       "    }\n",
       "</style>\n",
       "<table border=\"1\" class=\"dataframe\">\n",
       "  <thead>\n",
       "    <tr style=\"text-align: right;\">\n",
       "      <th></th>\n",
       "      <th>Price</th>\n",
       "      <th>Age</th>\n",
       "      <th>KM</th>\n",
       "      <th>HP</th>\n",
       "      <th>CC</th>\n",
       "      <th>Doors</th>\n",
       "      <th>Weight</th>\n",
       "    </tr>\n",
       "  </thead>\n",
       "  <tbody>\n",
       "    <tr>\n",
       "      <th>pearson</th>\n",
       "      <td>0.0</td>\n",
       "      <td>5.879611e-279</td>\n",
       "      <td>1.187373e-86</td>\n",
       "      <td>1.289468e-15</td>\n",
       "      <td>0.072396</td>\n",
       "      <td>3.644964e-09</td>\n",
       "      <td>1.863429e-15</td>\n",
       "    </tr>\n",
       "  </tbody>\n",
       "</table>\n",
       "</div>"
      ],
      "text/plain": [
       "         Price            Age            KM            HP        CC  \\\n",
       "pearson    0.0  5.879611e-279  1.187373e-86  1.289468e-15  0.072396   \n",
       "\n",
       "                Doors        Weight  \n",
       "pearson  3.644964e-09  1.863429e-15  "
      ]
     },
     "execution_count": 93,
     "metadata": {},
     "output_type": "execute_result"
    }
   ],
   "source": [
    "# df.apply(func = lambda x: pg.corr(x = x, y = df['Price'])['p-val'], axis = 0)\n",
    "df.loc[:, locs].apply(func = corr, axis = 0)"
   ]
  },
  {
   "cell_type": "code",
   "execution_count": 94,
   "id": "480427aa",
   "metadata": {},
   "outputs": [
    {
     "data": {
      "text/html": [
       "<div>\n",
       "<style scoped>\n",
       "    .dataframe tbody tr th:only-of-type {\n",
       "        vertical-align: middle;\n",
       "    }\n",
       "\n",
       "    .dataframe tbody tr th {\n",
       "        vertical-align: top;\n",
       "    }\n",
       "\n",
       "    .dataframe thead th {\n",
       "        text-align: right;\n",
       "    }\n",
       "</style>\n",
       "<table border=\"1\" class=\"dataframe\">\n",
       "  <thead>\n",
       "    <tr style=\"text-align: right;\">\n",
       "      <th></th>\n",
       "      <th>Price</th>\n",
       "      <th>Age</th>\n",
       "      <th>KM</th>\n",
       "      <th>HP</th>\n",
       "      <th>CC</th>\n",
       "      <th>Doors</th>\n",
       "      <th>Weight</th>\n",
       "    </tr>\n",
       "  </thead>\n",
       "  <tbody>\n",
       "    <tr>\n",
       "      <th>pearson</th>\n",
       "      <td>False</td>\n",
       "      <td>False</td>\n",
       "      <td>False</td>\n",
       "      <td>False</td>\n",
       "      <td>True</td>\n",
       "      <td>False</td>\n",
       "      <td>False</td>\n",
       "    </tr>\n",
       "  </tbody>\n",
       "</table>\n",
       "</div>"
      ],
      "text/plain": [
       "         Price    Age     KM     HP    CC  Doors  Weight\n",
       "pearson  False  False  False  False  True  False   False"
      ]
     },
     "execution_count": 94,
     "metadata": {},
     "output_type": "execute_result"
    }
   ],
   "source": [
    "df.loc[:, locs].apply(func = corr, axis = 0).ge(0.05)"
   ]
  },
  {
   "cell_type": "code",
   "execution_count": 95,
   "id": "6309ffd8",
   "metadata": {},
   "outputs": [
    {
     "data": {
      "text/html": [
       "<div>\n",
       "<style scoped>\n",
       "    .dataframe tbody tr th:only-of-type {\n",
       "        vertical-align: middle;\n",
       "    }\n",
       "\n",
       "    .dataframe tbody tr th {\n",
       "        vertical-align: top;\n",
       "    }\n",
       "\n",
       "    .dataframe thead th {\n",
       "        text-align: right;\n",
       "    }\n",
       "</style>\n",
       "<table border=\"1\" class=\"dataframe\">\n",
       "  <thead>\n",
       "    <tr style=\"text-align: right;\">\n",
       "      <th></th>\n",
       "      <th>Price</th>\n",
       "      <th>Age</th>\n",
       "      <th>KM</th>\n",
       "      <th>HP</th>\n",
       "      <th>CC</th>\n",
       "      <th>Doors</th>\n",
       "      <th>Weight</th>\n",
       "    </tr>\n",
       "  </thead>\n",
       "  <tbody>\n",
       "    <tr>\n",
       "      <th>pearson</th>\n",
       "      <td>1.0</td>\n",
       "      <td>-0.796545</td>\n",
       "      <td>-0.514583</td>\n",
       "      <td>0.221951</td>\n",
       "      <td>0.050472</td>\n",
       "      <td>0.164706</td>\n",
       "      <td>0.22072</td>\n",
       "    </tr>\n",
       "  </tbody>\n",
       "</table>\n",
       "</div>"
      ],
      "text/plain": [
       "         Price       Age        KM        HP        CC     Doors   Weight\n",
       "pearson    1.0 -0.796545 -0.514583  0.221951  0.050472  0.164706  0.22072"
      ]
     },
     "execution_count": 95,
     "metadata": {},
     "output_type": "execute_result"
    }
   ],
   "source": [
    "df.loc[:, locs].apply(func = lambda x: pg.corr(x = x, y = df['Price'])['r'])"
   ]
  },
  {
   "cell_type": "code",
   "execution_count": 97,
   "id": "cf28e597",
   "metadata": {},
   "outputs": [
    {
     "data": {
      "text/html": [
       "<div>\n",
       "<style scoped>\n",
       "    .dataframe tbody tr th:only-of-type {\n",
       "        vertical-align: middle;\n",
       "    }\n",
       "\n",
       "    .dataframe tbody tr th {\n",
       "        vertical-align: top;\n",
       "    }\n",
       "\n",
       "    .dataframe thead th {\n",
       "        text-align: right;\n",
       "    }\n",
       "</style>\n",
       "<table border=\"1\" class=\"dataframe\">\n",
       "  <thead>\n",
       "    <tr style=\"text-align: right;\">\n",
       "      <th></th>\n",
       "      <th>W</th>\n",
       "      <th>pval</th>\n",
       "      <th>normal</th>\n",
       "    </tr>\n",
       "    <tr>\n",
       "      <th>MetColor</th>\n",
       "      <th></th>\n",
       "      <th></th>\n",
       "      <th></th>\n",
       "    </tr>\n",
       "  </thead>\n",
       "  <tbody>\n",
       "    <tr>\n",
       "      <th>1</th>\n",
       "      <td>0.974759</td>\n",
       "      <td>7.077313e-11</td>\n",
       "      <td>False</td>\n",
       "    </tr>\n",
       "    <tr>\n",
       "      <th>0</th>\n",
       "      <td>0.988073</td>\n",
       "      <td>1.429560e-03</td>\n",
       "      <td>False</td>\n",
       "    </tr>\n",
       "  </tbody>\n",
       "</table>\n",
       "</div>"
      ],
      "text/plain": [
       "                 W          pval  normal\n",
       "MetColor                                \n",
       "1         0.974759  7.077313e-11   False\n",
       "0         0.988073  1.429560e-03   False"
      ]
     },
     "execution_count": 97,
     "metadata": {},
     "output_type": "execute_result"
    }
   ],
   "source": [
    "pg.normality(data = df, dv = 'Price', group = 'MetColor')"
   ]
  },
  {
   "cell_type": "code",
   "execution_count": 98,
   "id": "095f7c61",
   "metadata": {},
   "outputs": [
    {
     "data": {
      "text/html": [
       "<div>\n",
       "<style scoped>\n",
       "    .dataframe tbody tr th:only-of-type {\n",
       "        vertical-align: middle;\n",
       "    }\n",
       "\n",
       "    .dataframe tbody tr th {\n",
       "        vertical-align: top;\n",
       "    }\n",
       "\n",
       "    .dataframe thead th {\n",
       "        text-align: right;\n",
       "    }\n",
       "</style>\n",
       "<table border=\"1\" class=\"dataframe\">\n",
       "  <thead>\n",
       "    <tr style=\"text-align: right;\">\n",
       "      <th></th>\n",
       "      <th>W</th>\n",
       "      <th>pval</th>\n",
       "      <th>equal_var</th>\n",
       "    </tr>\n",
       "  </thead>\n",
       "  <tbody>\n",
       "    <tr>\n",
       "      <th>levene</th>\n",
       "      <td>5.761315</td>\n",
       "      <td>0.016526</td>\n",
       "      <td>False</td>\n",
       "    </tr>\n",
       "  </tbody>\n",
       "</table>\n",
       "</div>"
      ],
      "text/plain": [
       "               W      pval  equal_var\n",
       "levene  5.761315  0.016526      False"
      ]
     },
     "execution_count": 98,
     "metadata": {},
     "output_type": "execute_result"
    }
   ],
   "source": [
    "pg.homoscedasticity(data = df, dv = 'Price', group = 'MetColor')"
   ]
  },
  {
   "cell_type": "code",
   "execution_count": 99,
   "id": "8eac0c3a",
   "metadata": {},
   "outputs": [],
   "source": [
    "sp1 = df['Price'][df['MetColor'].eq('0')]\n",
    "sp2 = df['Price'][df['MetColor'].eq('1')]"
   ]
  },
  {
   "cell_type": "code",
   "execution_count": 104,
   "id": "297e373d",
   "metadata": {},
   "outputs": [
    {
     "name": "stdout",
     "output_type": "stream",
     "text": [
      "9466.672897196262\n",
      "9814.132142857143\n"
     ]
    }
   ],
   "source": [
    "print(sp1.mean())\n",
    "print(sp2.mean())"
   ]
  },
  {
   "cell_type": "code",
   "execution_count": 105,
   "id": "1c111975",
   "metadata": {},
   "outputs": [
    {
     "name": "stdout",
     "output_type": "stream",
     "text": [
      "1894.0820249158035\n",
      "2085.8869846927896\n"
     ]
    }
   ],
   "source": [
    "print(sp1.std())\n",
    "print(sp2.std())"
   ]
  },
  {
   "cell_type": "code",
   "execution_count": 100,
   "id": "80efae95",
   "metadata": {},
   "outputs": [
    {
     "data": {
      "text/html": [
       "<div>\n",
       "<style scoped>\n",
       "    .dataframe tbody tr th:only-of-type {\n",
       "        vertical-align: middle;\n",
       "    }\n",
       "\n",
       "    .dataframe tbody tr th {\n",
       "        vertical-align: top;\n",
       "    }\n",
       "\n",
       "    .dataframe thead th {\n",
       "        text-align: right;\n",
       "    }\n",
       "</style>\n",
       "<table border=\"1\" class=\"dataframe\">\n",
       "  <thead>\n",
       "    <tr style=\"text-align: right;\">\n",
       "      <th></th>\n",
       "      <th>T</th>\n",
       "      <th>dof</th>\n",
       "      <th>alternative</th>\n",
       "      <th>p-val</th>\n",
       "      <th>CI95%</th>\n",
       "      <th>cohen-d</th>\n",
       "      <th>BF10</th>\n",
       "      <th>power</th>\n",
       "    </tr>\n",
       "  </thead>\n",
       "  <tbody>\n",
       "    <tr>\n",
       "      <th>T-test</th>\n",
       "      <td>-2.891752</td>\n",
       "      <td>1266</td>\n",
       "      <td>two-sided</td>\n",
       "      <td>0.003896</td>\n",
       "      <td>[-583.18, -111.73]</td>\n",
       "      <td>0.171735</td>\n",
       "      <td>4.077</td>\n",
       "      <td>0.82371</td>\n",
       "    </tr>\n",
       "  </tbody>\n",
       "</table>\n",
       "</div>"
      ],
      "text/plain": [
       "               T   dof alternative     p-val               CI95%   cohen-d  \\\n",
       "T-test -2.891752  1266   two-sided  0.003896  [-583.18, -111.73]  0.171735   \n",
       "\n",
       "         BF10    power  \n",
       "T-test  4.077  0.82371  "
      ]
     },
     "execution_count": 100,
     "metadata": {},
     "output_type": "execute_result"
    }
   ],
   "source": [
    "pg.ttest(x = sp1, y = sp2, correction = False)"
   ]
  },
  {
   "cell_type": "code",
   "execution_count": 101,
   "id": "7f3991ae",
   "metadata": {},
   "outputs": [
    {
     "data": {
      "text/html": [
       "<div>\n",
       "<style scoped>\n",
       "    .dataframe tbody tr th:only-of-type {\n",
       "        vertical-align: middle;\n",
       "    }\n",
       "\n",
       "    .dataframe tbody tr th {\n",
       "        vertical-align: top;\n",
       "    }\n",
       "\n",
       "    .dataframe thead th {\n",
       "        text-align: right;\n",
       "    }\n",
       "</style>\n",
       "<table border=\"1\" class=\"dataframe\">\n",
       "  <thead>\n",
       "    <tr style=\"text-align: right;\">\n",
       "      <th></th>\n",
       "      <th>T</th>\n",
       "      <th>dof</th>\n",
       "      <th>alternative</th>\n",
       "      <th>p-val</th>\n",
       "      <th>CI95%</th>\n",
       "      <th>cohen-d</th>\n",
       "      <th>BF10</th>\n",
       "      <th>power</th>\n",
       "    </tr>\n",
       "  </thead>\n",
       "  <tbody>\n",
       "    <tr>\n",
       "      <th>T-test</th>\n",
       "      <td>-2.983633</td>\n",
       "      <td>935.893141</td>\n",
       "      <td>two-sided</td>\n",
       "      <td>0.002922</td>\n",
       "      <td>[-576.0, -118.92]</td>\n",
       "      <td>0.171735</td>\n",
       "      <td>5.313</td>\n",
       "      <td>0.82371</td>\n",
       "    </tr>\n",
       "  </tbody>\n",
       "</table>\n",
       "</div>"
      ],
      "text/plain": [
       "               T         dof alternative     p-val              CI95%  \\\n",
       "T-test -2.983633  935.893141   two-sided  0.002922  [-576.0, -118.92]   \n",
       "\n",
       "         cohen-d   BF10    power  \n",
       "T-test  0.171735  5.313  0.82371  "
      ]
     },
     "execution_count": 101,
     "metadata": {},
     "output_type": "execute_result"
    }
   ],
   "source": [
    "pg.ttest(x = sp1, y = sp2, correction = True)"
   ]
  },
  {
   "cell_type": "code",
   "execution_count": 102,
   "id": "16d196de",
   "metadata": {},
   "outputs": [
    {
     "data": {
      "text/html": [
       "<div>\n",
       "<style scoped>\n",
       "    .dataframe tbody tr th:only-of-type {\n",
       "        vertical-align: middle;\n",
       "    }\n",
       "\n",
       "    .dataframe tbody tr th {\n",
       "        vertical-align: top;\n",
       "    }\n",
       "\n",
       "    .dataframe thead th {\n",
       "        text-align: right;\n",
       "    }\n",
       "</style>\n",
       "<table border=\"1\" class=\"dataframe\">\n",
       "  <thead>\n",
       "    <tr style=\"text-align: right;\">\n",
       "      <th></th>\n",
       "      <th>U-val</th>\n",
       "      <th>alternative</th>\n",
       "      <th>p-val</th>\n",
       "      <th>RBC</th>\n",
       "      <th>CLES</th>\n",
       "    </tr>\n",
       "  </thead>\n",
       "  <tbody>\n",
       "    <tr>\n",
       "      <th>MWU</th>\n",
       "      <td>166376.0</td>\n",
       "      <td>two-sided</td>\n",
       "      <td>0.029849</td>\n",
       "      <td>0.074455</td>\n",
       "      <td>0.462773</td>\n",
       "    </tr>\n",
       "  </tbody>\n",
       "</table>\n",
       "</div>"
      ],
      "text/plain": [
       "        U-val alternative     p-val       RBC      CLES\n",
       "MWU  166376.0   two-sided  0.029849  0.074455  0.462773"
      ]
     },
     "execution_count": 102,
     "metadata": {},
     "output_type": "execute_result"
    }
   ],
   "source": [
    "pg.mwu(x = sp1, y = sp2)"
   ]
  },
  {
   "cell_type": "code",
   "execution_count": 107,
   "id": "be3c5129",
   "metadata": {},
   "outputs": [],
   "source": [
    "df1 = pd.read_csv('https://bit.ly/ttest_dataset')"
   ]
  },
  {
   "cell_type": "code",
   "execution_count": 108,
   "id": "4069f548",
   "metadata": {},
   "outputs": [
    {
     "name": "stdout",
     "output_type": "stream",
     "text": [
      "<class 'pandas.core.frame.DataFrame'>\n",
      "RangeIndex: 30 entries, 0 to 29\n",
      "Data columns (total 3 columns):\n",
      " #   Column  Non-Null Count  Dtype  \n",
      "---  ------  --------------  -----  \n",
      " 0   id      30 non-null     int64  \n",
      " 1   before  30 non-null     float64\n",
      " 2   after   30 non-null     float64\n",
      "dtypes: float64(2), int64(1)\n",
      "memory usage: 848.0 bytes\n"
     ]
    }
   ],
   "source": [
    "df1.info()"
   ]
  },
  {
   "cell_type": "code",
   "execution_count": 109,
   "id": "10514ca0",
   "metadata": {},
   "outputs": [
    {
     "data": {
      "text/html": [
       "<div>\n",
       "<style scoped>\n",
       "    .dataframe tbody tr th:only-of-type {\n",
       "        vertical-align: middle;\n",
       "    }\n",
       "\n",
       "    .dataframe tbody tr th {\n",
       "        vertical-align: top;\n",
       "    }\n",
       "\n",
       "    .dataframe thead th {\n",
       "        text-align: right;\n",
       "    }\n",
       "</style>\n",
       "<table border=\"1\" class=\"dataframe\">\n",
       "  <thead>\n",
       "    <tr style=\"text-align: right;\">\n",
       "      <th></th>\n",
       "      <th>id</th>\n",
       "      <th>before</th>\n",
       "      <th>after</th>\n",
       "    </tr>\n",
       "  </thead>\n",
       "  <tbody>\n",
       "    <tr>\n",
       "      <th>0</th>\n",
       "      <td>1</td>\n",
       "      <td>88.409617</td>\n",
       "      <td>89.047771</td>\n",
       "    </tr>\n",
       "    <tr>\n",
       "      <th>1</th>\n",
       "      <td>2</td>\n",
       "      <td>84.740057</td>\n",
       "      <td>83.796276</td>\n",
       "    </tr>\n",
       "    <tr>\n",
       "      <th>2</th>\n",
       "      <td>3</td>\n",
       "      <td>106.925242</td>\n",
       "      <td>105.782969</td>\n",
       "    </tr>\n",
       "    <tr>\n",
       "      <th>3</th>\n",
       "      <td>4</td>\n",
       "      <td>93.276659</td>\n",
       "      <td>89.965632</td>\n",
       "    </tr>\n",
       "    <tr>\n",
       "      <th>4</th>\n",
       "      <td>5</td>\n",
       "      <td>104.575636</td>\n",
       "      <td>103.410691</td>\n",
       "    </tr>\n",
       "  </tbody>\n",
       "</table>\n",
       "</div>"
      ],
      "text/plain": [
       "   id      before       after\n",
       "0   1   88.409617   89.047771\n",
       "1   2   84.740057   83.796276\n",
       "2   3  106.925242  105.782969\n",
       "3   4   93.276659   89.965632\n",
       "4   5  104.575636  103.410691"
      ]
     },
     "execution_count": 109,
     "metadata": {},
     "output_type": "execute_result"
    }
   ],
   "source": [
    "df1.head()"
   ]
  },
  {
   "cell_type": "code",
   "execution_count": 110,
   "id": "2f23cbc3",
   "metadata": {},
   "outputs": [
    {
     "data": {
      "text/html": [
       "<div>\n",
       "<style scoped>\n",
       "    .dataframe tbody tr th:only-of-type {\n",
       "        vertical-align: middle;\n",
       "    }\n",
       "\n",
       "    .dataframe tbody tr th {\n",
       "        vertical-align: top;\n",
       "    }\n",
       "\n",
       "    .dataframe thead th {\n",
       "        text-align: right;\n",
       "    }\n",
       "</style>\n",
       "<table border=\"1\" class=\"dataframe\">\n",
       "  <thead>\n",
       "    <tr style=\"text-align: right;\">\n",
       "      <th></th>\n",
       "      <th>id</th>\n",
       "      <th>before</th>\n",
       "      <th>after</th>\n",
       "    </tr>\n",
       "  </thead>\n",
       "  <tbody>\n",
       "    <tr>\n",
       "      <th>count</th>\n",
       "      <td>30.000000</td>\n",
       "      <td>30.000000</td>\n",
       "      <td>30.000000</td>\n",
       "    </tr>\n",
       "    <tr>\n",
       "      <th>mean</th>\n",
       "      <td>15.500000</td>\n",
       "      <td>86.331409</td>\n",
       "      <td>85.325118</td>\n",
       "    </tr>\n",
       "    <tr>\n",
       "      <th>std</th>\n",
       "      <td>8.803408</td>\n",
       "      <td>9.918105</td>\n",
       "      <td>9.779472</td>\n",
       "    </tr>\n",
       "    <tr>\n",
       "      <th>min</th>\n",
       "      <td>1.000000</td>\n",
       "      <td>67.503561</td>\n",
       "      <td>65.462936</td>\n",
       "    </tr>\n",
       "    <tr>\n",
       "      <th>25%</th>\n",
       "      <td>8.250000</td>\n",
       "      <td>80.123625</td>\n",
       "      <td>79.998144</td>\n",
       "    </tr>\n",
       "    <tr>\n",
       "      <th>50%</th>\n",
       "      <td>15.500000</td>\n",
       "      <td>86.617928</td>\n",
       "      <td>86.149042</td>\n",
       "    </tr>\n",
       "    <tr>\n",
       "      <th>75%</th>\n",
       "      <td>22.750000</td>\n",
       "      <td>91.690221</td>\n",
       "      <td>90.259867</td>\n",
       "    </tr>\n",
       "    <tr>\n",
       "      <th>max</th>\n",
       "      <td>30.000000</td>\n",
       "      <td>106.925242</td>\n",
       "      <td>105.782969</td>\n",
       "    </tr>\n",
       "  </tbody>\n",
       "</table>\n",
       "</div>"
      ],
      "text/plain": [
       "              id      before       after\n",
       "count  30.000000   30.000000   30.000000\n",
       "mean   15.500000   86.331409   85.325118\n",
       "std     8.803408    9.918105    9.779472\n",
       "min     1.000000   67.503561   65.462936\n",
       "25%     8.250000   80.123625   79.998144\n",
       "50%    15.500000   86.617928   86.149042\n",
       "75%    22.750000   91.690221   90.259867\n",
       "max    30.000000  106.925242  105.782969"
      ]
     },
     "execution_count": 110,
     "metadata": {},
     "output_type": "execute_result"
    }
   ],
   "source": [
    "df1.describe()"
   ]
  },
  {
   "cell_type": "code",
   "execution_count": 111,
   "id": "c58d812d",
   "metadata": {},
   "outputs": [
    {
     "data": {
      "text/plain": [
       "ShapiroResult(statistic=0.9858832359313965, pvalue=0.9512473940849304)"
      ]
     },
     "execution_count": 111,
     "metadata": {},
     "output_type": "execute_result"
    }
   ],
   "source": [
    "stats.shapiro(df1['before'])"
   ]
  },
  {
   "cell_type": "code",
   "execution_count": 112,
   "id": "0530186b",
   "metadata": {},
   "outputs": [
    {
     "data": {
      "text/plain": [
       "0.9512473940849304"
      ]
     },
     "execution_count": 112,
     "metadata": {},
     "output_type": "execute_result"
    }
   ],
   "source": [
    "stats.shapiro(df1['before'])[1]"
   ]
  },
  {
   "cell_type": "code",
   "execution_count": 113,
   "id": "d3eebf26",
   "metadata": {},
   "outputs": [
    {
     "data": {
      "text/html": [
       "<div>\n",
       "<style scoped>\n",
       "    .dataframe tbody tr th:only-of-type {\n",
       "        vertical-align: middle;\n",
       "    }\n",
       "\n",
       "    .dataframe tbody tr th {\n",
       "        vertical-align: top;\n",
       "    }\n",
       "\n",
       "    .dataframe thead th {\n",
       "        text-align: right;\n",
       "    }\n",
       "</style>\n",
       "<table border=\"1\" class=\"dataframe\">\n",
       "  <thead>\n",
       "    <tr style=\"text-align: right;\">\n",
       "      <th></th>\n",
       "      <th>T</th>\n",
       "      <th>dof</th>\n",
       "      <th>alternative</th>\n",
       "      <th>p-val</th>\n",
       "      <th>CI95%</th>\n",
       "      <th>cohen-d</th>\n",
       "      <th>BF10</th>\n",
       "      <th>power</th>\n",
       "    </tr>\n",
       "  </thead>\n",
       "  <tbody>\n",
       "    <tr>\n",
       "      <th>T-test</th>\n",
       "      <td>-2.025961</td>\n",
       "      <td>29</td>\n",
       "      <td>two-sided</td>\n",
       "      <td>0.052056</td>\n",
       "      <td>[82.63, 90.03]</td>\n",
       "      <td>0.369888</td>\n",
       "      <td>1.159</td>\n",
       "      <td>0.499536</td>\n",
       "    </tr>\n",
       "  </tbody>\n",
       "</table>\n",
       "</div>"
      ],
      "text/plain": [
       "               T  dof alternative     p-val           CI95%   cohen-d   BF10  \\\n",
       "T-test -2.025961   29   two-sided  0.052056  [82.63, 90.03]  0.369888  1.159   \n",
       "\n",
       "           power  \n",
       "T-test  0.499536  "
      ]
     },
     "execution_count": 113,
     "metadata": {},
     "output_type": "execute_result"
    }
   ],
   "source": [
    "pg.ttest(x = df1['before'], y = 90)"
   ]
  },
  {
   "cell_type": "code",
   "execution_count": 114,
   "id": "156e085b",
   "metadata": {},
   "outputs": [
    {
     "data": {
      "text/html": [
       "<div>\n",
       "<style scoped>\n",
       "    .dataframe tbody tr th:only-of-type {\n",
       "        vertical-align: middle;\n",
       "    }\n",
       "\n",
       "    .dataframe tbody tr th {\n",
       "        vertical-align: top;\n",
       "    }\n",
       "\n",
       "    .dataframe thead th {\n",
       "        text-align: right;\n",
       "    }\n",
       "</style>\n",
       "<table border=\"1\" class=\"dataframe\">\n",
       "  <thead>\n",
       "    <tr style=\"text-align: right;\">\n",
       "      <th></th>\n",
       "      <th>T</th>\n",
       "      <th>dof</th>\n",
       "      <th>alternative</th>\n",
       "      <th>p-val</th>\n",
       "      <th>CI95%</th>\n",
       "      <th>cohen-d</th>\n",
       "      <th>BF10</th>\n",
       "      <th>power</th>\n",
       "    </tr>\n",
       "  </thead>\n",
       "  <tbody>\n",
       "    <tr>\n",
       "      <th>T-test</th>\n",
       "      <td>-2.025961</td>\n",
       "      <td>29</td>\n",
       "      <td>less</td>\n",
       "      <td>0.026028</td>\n",
       "      <td>[-inf, 89.41]</td>\n",
       "      <td>0.369888</td>\n",
       "      <td>2.318</td>\n",
       "      <td>0.63062</td>\n",
       "    </tr>\n",
       "  </tbody>\n",
       "</table>\n",
       "</div>"
      ],
      "text/plain": [
       "               T  dof alternative     p-val          CI95%   cohen-d   BF10  \\\n",
       "T-test -2.025961   29        less  0.026028  [-inf, 89.41]  0.369888  2.318   \n",
       "\n",
       "          power  \n",
       "T-test  0.63062  "
      ]
     },
     "execution_count": 114,
     "metadata": {},
     "output_type": "execute_result"
    }
   ],
   "source": [
    "pg.ttest(x = df1['before'], y = 90, alternative = 'less')"
   ]
  },
  {
   "cell_type": "code",
   "execution_count": 115,
   "id": "69698c76",
   "metadata": {},
   "outputs": [
    {
     "data": {
      "text/plain": [
       "id        0.266230\n",
       "before    0.951247\n",
       "after     0.939600\n",
       "dtype: float64"
      ]
     },
     "execution_count": 115,
     "metadata": {},
     "output_type": "execute_result"
    }
   ],
   "source": [
    "df1.apply(func = lambda x: stats.shapiro(x)[1])"
   ]
  },
  {
   "cell_type": "code",
   "execution_count": 116,
   "id": "060e25d1",
   "metadata": {},
   "outputs": [
    {
     "data": {
      "text/html": [
       "<div>\n",
       "<style scoped>\n",
       "    .dataframe tbody tr th:only-of-type {\n",
       "        vertical-align: middle;\n",
       "    }\n",
       "\n",
       "    .dataframe tbody tr th {\n",
       "        vertical-align: top;\n",
       "    }\n",
       "\n",
       "    .dataframe thead th {\n",
       "        text-align: right;\n",
       "    }\n",
       "</style>\n",
       "<table border=\"1\" class=\"dataframe\">\n",
       "  <thead>\n",
       "    <tr style=\"text-align: right;\">\n",
       "      <th></th>\n",
       "      <th>T</th>\n",
       "      <th>dof</th>\n",
       "      <th>alternative</th>\n",
       "      <th>p-val</th>\n",
       "      <th>CI95%</th>\n",
       "      <th>cohen-d</th>\n",
       "      <th>BF10</th>\n",
       "      <th>power</th>\n",
       "    </tr>\n",
       "  </thead>\n",
       "  <tbody>\n",
       "    <tr>\n",
       "      <th>T-test</th>\n",
       "      <td>5.53666</td>\n",
       "      <td>29</td>\n",
       "      <td>two-sided</td>\n",
       "      <td>0.000006</td>\n",
       "      <td>[0.63, 1.38]</td>\n",
       "      <td>0.102172</td>\n",
       "      <td>3529.131</td>\n",
       "      <td>0.084186</td>\n",
       "    </tr>\n",
       "  </tbody>\n",
       "</table>\n",
       "</div>"
      ],
      "text/plain": [
       "              T  dof alternative     p-val         CI95%   cohen-d      BF10  \\\n",
       "T-test  5.53666   29   two-sided  0.000006  [0.63, 1.38]  0.102172  3529.131   \n",
       "\n",
       "           power  \n",
       "T-test  0.084186  "
      ]
     },
     "execution_count": 116,
     "metadata": {},
     "output_type": "execute_result"
    }
   ],
   "source": [
    "pg.ttest(x = df1['before'], y = df1['after'], paired = True)"
   ]
  },
  {
   "cell_type": "code",
   "execution_count": 117,
   "id": "ef97623d",
   "metadata": {},
   "outputs": [
    {
     "data": {
      "text/html": [
       "<div>\n",
       "<style scoped>\n",
       "    .dataframe tbody tr th:only-of-type {\n",
       "        vertical-align: middle;\n",
       "    }\n",
       "\n",
       "    .dataframe tbody tr th {\n",
       "        vertical-align: top;\n",
       "    }\n",
       "\n",
       "    .dataframe thead th {\n",
       "        text-align: right;\n",
       "    }\n",
       "</style>\n",
       "<table border=\"1\" class=\"dataframe\">\n",
       "  <thead>\n",
       "    <tr style=\"text-align: right;\">\n",
       "      <th></th>\n",
       "      <th>T</th>\n",
       "      <th>dof</th>\n",
       "      <th>alternative</th>\n",
       "      <th>p-val</th>\n",
       "      <th>CI95%</th>\n",
       "      <th>cohen-d</th>\n",
       "      <th>BF10</th>\n",
       "      <th>power</th>\n",
       "    </tr>\n",
       "  </thead>\n",
       "  <tbody>\n",
       "    <tr>\n",
       "      <th>T-test</th>\n",
       "      <td>5.53666</td>\n",
       "      <td>29</td>\n",
       "      <td>greater</td>\n",
       "      <td>0.000003</td>\n",
       "      <td>[0.7, inf]</td>\n",
       "      <td>0.102172</td>\n",
       "      <td>7058.261</td>\n",
       "      <td>0.136056</td>\n",
       "    </tr>\n",
       "  </tbody>\n",
       "</table>\n",
       "</div>"
      ],
      "text/plain": [
       "              T  dof alternative     p-val       CI95%   cohen-d      BF10  \\\n",
       "T-test  5.53666   29     greater  0.000003  [0.7, inf]  0.102172  7058.261   \n",
       "\n",
       "           power  \n",
       "T-test  0.136056  "
      ]
     },
     "execution_count": 117,
     "metadata": {},
     "output_type": "execute_result"
    }
   ],
   "source": [
    "pg.ttest(x = df1['before'], y = df1['after'], paired = True, alternative = 'greater')"
   ]
  },
  {
   "cell_type": "code",
   "execution_count": 118,
   "id": "416afb95",
   "metadata": {},
   "outputs": [
    {
     "data": {
      "text/html": [
       "<div>\n",
       "<style scoped>\n",
       "    .dataframe tbody tr th:only-of-type {\n",
       "        vertical-align: middle;\n",
       "    }\n",
       "\n",
       "    .dataframe tbody tr th {\n",
       "        vertical-align: top;\n",
       "    }\n",
       "\n",
       "    .dataframe thead th {\n",
       "        text-align: right;\n",
       "    }\n",
       "</style>\n",
       "<table border=\"1\" class=\"dataframe\">\n",
       "  <thead>\n",
       "    <tr style=\"text-align: right;\">\n",
       "      <th></th>\n",
       "      <th>W</th>\n",
       "      <th>pval</th>\n",
       "      <th>normal</th>\n",
       "    </tr>\n",
       "    <tr>\n",
       "      <th>FuelType</th>\n",
       "      <th></th>\n",
       "      <th></th>\n",
       "      <th></th>\n",
       "    </tr>\n",
       "  </thead>\n",
       "  <tbody>\n",
       "    <tr>\n",
       "      <th>Diesel</th>\n",
       "      <td>0.955971</td>\n",
       "      <td>4.250351e-04</td>\n",
       "      <td>False</td>\n",
       "    </tr>\n",
       "    <tr>\n",
       "      <th>Petrol</th>\n",
       "      <td>0.978165</td>\n",
       "      <td>5.503549e-12</td>\n",
       "      <td>False</td>\n",
       "    </tr>\n",
       "    <tr>\n",
       "      <th>CNG</th>\n",
       "      <td>0.952408</td>\n",
       "      <td>4.957061e-01</td>\n",
       "      <td>True</td>\n",
       "    </tr>\n",
       "  </tbody>\n",
       "</table>\n",
       "</div>"
      ],
      "text/plain": [
       "                 W          pval  normal\n",
       "FuelType                                \n",
       "Diesel    0.955971  4.250351e-04   False\n",
       "Petrol    0.978165  5.503549e-12   False\n",
       "CNG       0.952408  4.957061e-01    True"
      ]
     },
     "execution_count": 118,
     "metadata": {},
     "output_type": "execute_result"
    }
   ],
   "source": [
    "pg.normality(data = df, dv = 'Price', group = 'FuelType')"
   ]
  },
  {
   "cell_type": "code",
   "execution_count": 119,
   "id": "df292de9",
   "metadata": {},
   "outputs": [
    {
     "data": {
      "text/html": [
       "<div>\n",
       "<style scoped>\n",
       "    .dataframe tbody tr th:only-of-type {\n",
       "        vertical-align: middle;\n",
       "    }\n",
       "\n",
       "    .dataframe tbody tr th {\n",
       "        vertical-align: top;\n",
       "    }\n",
       "\n",
       "    .dataframe thead th {\n",
       "        text-align: right;\n",
       "    }\n",
       "</style>\n",
       "<table border=\"1\" class=\"dataframe\">\n",
       "  <thead>\n",
       "    <tr style=\"text-align: right;\">\n",
       "      <th></th>\n",
       "      <th>W</th>\n",
       "      <th>pval</th>\n",
       "      <th>equal_var</th>\n",
       "    </tr>\n",
       "  </thead>\n",
       "  <tbody>\n",
       "    <tr>\n",
       "      <th>levene</th>\n",
       "      <td>6.497893</td>\n",
       "      <td>0.001557</td>\n",
       "      <td>False</td>\n",
       "    </tr>\n",
       "  </tbody>\n",
       "</table>\n",
       "</div>"
      ],
      "text/plain": [
       "               W      pval  equal_var\n",
       "levene  6.497893  0.001557      False"
      ]
     },
     "execution_count": 119,
     "metadata": {},
     "output_type": "execute_result"
    }
   ],
   "source": [
    "pg.homoscedasticity(data = df, dv = 'Price', group = 'FuelType')"
   ]
  },
  {
   "cell_type": "code",
   "execution_count": 120,
   "id": "94961cb9",
   "metadata": {},
   "outputs": [
    {
     "data": {
      "text/html": [
       "<div>\n",
       "<style scoped>\n",
       "    .dataframe tbody tr th:only-of-type {\n",
       "        vertical-align: middle;\n",
       "    }\n",
       "\n",
       "    .dataframe tbody tr th {\n",
       "        vertical-align: top;\n",
       "    }\n",
       "\n",
       "    .dataframe thead th {\n",
       "        text-align: right;\n",
       "    }\n",
       "</style>\n",
       "<table border=\"1\" class=\"dataframe\">\n",
       "  <thead>\n",
       "    <tr style=\"text-align: right;\">\n",
       "      <th></th>\n",
       "      <th>Source</th>\n",
       "      <th>ddof1</th>\n",
       "      <th>ddof2</th>\n",
       "      <th>F</th>\n",
       "      <th>p-unc</th>\n",
       "      <th>np2</th>\n",
       "    </tr>\n",
       "  </thead>\n",
       "  <tbody>\n",
       "    <tr>\n",
       "      <th>0</th>\n",
       "      <td>FuelType</td>\n",
       "      <td>2</td>\n",
       "      <td>1265</td>\n",
       "      <td>3.982748</td>\n",
       "      <td>0.018869</td>\n",
       "      <td>0.006257</td>\n",
       "    </tr>\n",
       "  </tbody>\n",
       "</table>\n",
       "</div>"
      ],
      "text/plain": [
       "     Source  ddof1  ddof2         F     p-unc       np2\n",
       "0  FuelType      2   1265  3.982748  0.018869  0.006257"
      ]
     },
     "execution_count": 120,
     "metadata": {},
     "output_type": "execute_result"
    }
   ],
   "source": [
    "pg.anova(data = df, dv = 'Price', between = 'FuelType')"
   ]
  },
  {
   "cell_type": "code",
   "execution_count": 121,
   "id": "450b58a0",
   "metadata": {},
   "outputs": [
    {
     "data": {
      "text/html": [
       "<div>\n",
       "<style scoped>\n",
       "    .dataframe tbody tr th:only-of-type {\n",
       "        vertical-align: middle;\n",
       "    }\n",
       "\n",
       "    .dataframe tbody tr th {\n",
       "        vertical-align: top;\n",
       "    }\n",
       "\n",
       "    .dataframe thead th {\n",
       "        text-align: right;\n",
       "    }\n",
       "</style>\n",
       "<table border=\"1\" class=\"dataframe\">\n",
       "  <thead>\n",
       "    <tr style=\"text-align: right;\">\n",
       "      <th></th>\n",
       "      <th>Source</th>\n",
       "      <th>ddof1</th>\n",
       "      <th>ddof2</th>\n",
       "      <th>F</th>\n",
       "      <th>p-unc</th>\n",
       "      <th>np2</th>\n",
       "    </tr>\n",
       "  </thead>\n",
       "  <tbody>\n",
       "    <tr>\n",
       "      <th>0</th>\n",
       "      <td>FuelType</td>\n",
       "      <td>2</td>\n",
       "      <td>38.941548</td>\n",
       "      <td>2.611953</td>\n",
       "      <td>0.086207</td>\n",
       "      <td>0.006257</td>\n",
       "    </tr>\n",
       "  </tbody>\n",
       "</table>\n",
       "</div>"
      ],
      "text/plain": [
       "     Source  ddof1      ddof2         F     p-unc       np2\n",
       "0  FuelType      2  38.941548  2.611953  0.086207  0.006257"
      ]
     },
     "execution_count": 121,
     "metadata": {},
     "output_type": "execute_result"
    }
   ],
   "source": [
    "pg.welch_anova(data = df, dv = 'Price', between = 'FuelType')"
   ]
  },
  {
   "cell_type": "code",
   "execution_count": 122,
   "id": "5aea484c",
   "metadata": {},
   "outputs": [
    {
     "data": {
      "text/plain": [
       "Petrol    1125\n",
       "Diesel     126\n",
       "CNG         17\n",
       "Name: FuelType, dtype: int64"
      ]
     },
     "execution_count": 122,
     "metadata": {},
     "output_type": "execute_result"
    }
   ],
   "source": [
    "df['FuelType'].value_counts()"
   ]
  },
  {
   "cell_type": "code",
   "execution_count": 123,
   "id": "bf42a5e2",
   "metadata": {},
   "outputs": [
    {
     "data": {
      "text/html": [
       "<div>\n",
       "<style scoped>\n",
       "    .dataframe tbody tr th:only-of-type {\n",
       "        vertical-align: middle;\n",
       "    }\n",
       "\n",
       "    .dataframe tbody tr th {\n",
       "        vertical-align: top;\n",
       "    }\n",
       "\n",
       "    .dataframe thead th {\n",
       "        text-align: right;\n",
       "    }\n",
       "</style>\n",
       "<table border=\"1\" class=\"dataframe\">\n",
       "  <thead>\n",
       "    <tr style=\"text-align: right;\">\n",
       "      <th></th>\n",
       "      <th>Source</th>\n",
       "      <th>ddof1</th>\n",
       "      <th>H</th>\n",
       "      <th>p-unc</th>\n",
       "    </tr>\n",
       "  </thead>\n",
       "  <tbody>\n",
       "    <tr>\n",
       "      <th>Kruskal</th>\n",
       "      <td>FuelType</td>\n",
       "      <td>2</td>\n",
       "      <td>10.47472</td>\n",
       "      <td>0.005314</td>\n",
       "    </tr>\n",
       "  </tbody>\n",
       "</table>\n",
       "</div>"
      ],
      "text/plain": [
       "           Source  ddof1         H     p-unc\n",
       "Kruskal  FuelType      2  10.47472  0.005314"
      ]
     },
     "execution_count": 123,
     "metadata": {},
     "output_type": "execute_result"
    }
   ],
   "source": [
    "pg.kruskal(data = df, dv = 'Price', between = 'FuelType')"
   ]
  },
  {
   "cell_type": "code",
   "execution_count": 124,
   "id": "ffa2826d",
   "metadata": {
    "collapsed": true
   },
   "outputs": [
    {
     "data": {
      "text/html": [
       "<div>\n",
       "<style scoped>\n",
       "    .dataframe tbody tr th:only-of-type {\n",
       "        vertical-align: middle;\n",
       "    }\n",
       "\n",
       "    .dataframe tbody tr th {\n",
       "        vertical-align: top;\n",
       "    }\n",
       "\n",
       "    .dataframe thead th {\n",
       "        text-align: right;\n",
       "    }\n",
       "</style>\n",
       "<table border=\"1\" class=\"dataframe\">\n",
       "  <thead>\n",
       "    <tr style=\"text-align: right;\">\n",
       "      <th></th>\n",
       "      <th>Diesel</th>\n",
       "      <th>Petrol</th>\n",
       "      <th>CNG</th>\n",
       "    </tr>\n",
       "  </thead>\n",
       "  <tbody>\n",
       "    <tr>\n",
       "      <th>Diesel</th>\n",
       "      <td>1.000000</td>\n",
       "      <td>0.022116</td>\n",
       "      <td>0.933882</td>\n",
       "    </tr>\n",
       "    <tr>\n",
       "      <th>Petrol</th>\n",
       "      <td>0.022116</td>\n",
       "      <td>1.000000</td>\n",
       "      <td>0.797953</td>\n",
       "    </tr>\n",
       "    <tr>\n",
       "      <th>CNG</th>\n",
       "      <td>0.933882</td>\n",
       "      <td>0.797953</td>\n",
       "      <td>1.000000</td>\n",
       "    </tr>\n",
       "  </tbody>\n",
       "</table>\n",
       "</div>"
      ],
      "text/plain": [
       "          Diesel    Petrol       CNG\n",
       "Diesel  1.000000  0.022116  0.933882\n",
       "Petrol  0.022116  1.000000  0.797953\n",
       "CNG     0.933882  0.797953  1.000000"
      ]
     },
     "execution_count": 124,
     "metadata": {},
     "output_type": "execute_result"
    }
   ],
   "source": [
    "sp.posthoc_scheffe(a = df, val_col = 'Price', group_col = 'FuelType')"
   ]
  },
  {
   "cell_type": "code",
   "execution_count": 125,
   "id": "f4cea66b",
   "metadata": {
    "collapsed": true
   },
   "outputs": [
    {
     "data": {
      "text/html": [
       "<div>\n",
       "<style scoped>\n",
       "    .dataframe tbody tr th:only-of-type {\n",
       "        vertical-align: middle;\n",
       "    }\n",
       "\n",
       "    .dataframe tbody tr th {\n",
       "        vertical-align: top;\n",
       "    }\n",
       "\n",
       "    .dataframe thead th {\n",
       "        text-align: right;\n",
       "    }\n",
       "</style>\n",
       "<table border=\"1\" class=\"dataframe\">\n",
       "  <thead>\n",
       "    <tr style=\"text-align: right;\">\n",
       "      <th></th>\n",
       "      <th>Diesel</th>\n",
       "      <th>Petrol</th>\n",
       "      <th>CNG</th>\n",
       "    </tr>\n",
       "  </thead>\n",
       "  <tbody>\n",
       "    <tr>\n",
       "      <th>Diesel</th>\n",
       "      <td>1.000000</td>\n",
       "      <td>0.015915</td>\n",
       "      <td>0.900000</td>\n",
       "    </tr>\n",
       "    <tr>\n",
       "      <th>Petrol</th>\n",
       "      <td>0.015915</td>\n",
       "      <td>1.000000</td>\n",
       "      <td>0.759308</td>\n",
       "    </tr>\n",
       "    <tr>\n",
       "      <th>CNG</th>\n",
       "      <td>0.900000</td>\n",
       "      <td>0.759308</td>\n",
       "      <td>1.000000</td>\n",
       "    </tr>\n",
       "  </tbody>\n",
       "</table>\n",
       "</div>"
      ],
      "text/plain": [
       "          Diesel    Petrol       CNG\n",
       "Diesel  1.000000  0.015915  0.900000\n",
       "Petrol  0.015915  1.000000  0.759308\n",
       "CNG     0.900000  0.759308  1.000000"
      ]
     },
     "execution_count": 125,
     "metadata": {},
     "output_type": "execute_result"
    }
   ],
   "source": [
    "sp.posthoc_tukey(a = df, val_col = 'Price', group_col = 'FuelType')"
   ]
  },
  {
   "cell_type": "code",
   "execution_count": 126,
   "id": "769173f0",
   "metadata": {},
   "outputs": [
    {
     "data": {
      "image/png": "[encoded data removed]",
      "text/plain": [
       "<Figure size 400x400 with 1 Axes>"
      ]
     },
     "metadata": {},
     "output_type": "display_data"
    }
   ],
   "source": [
    "hds.plot_box_group(data = df, x = 'FuelType', y = 'Price')"
   ]
  },
  {
   "cell_type": "code",
   "execution_count": 127,
   "id": "e487a5f1",
   "metadata": {},
   "outputs": [
    {
     "data": {
      "text/html": [
       "<div>\n",
       "<style scoped>\n",
       "    .dataframe tbody tr th:only-of-type {\n",
       "        vertical-align: middle;\n",
       "    }\n",
       "\n",
       "    .dataframe tbody tr th {\n",
       "        vertical-align: top;\n",
       "    }\n",
       "\n",
       "    .dataframe thead th {\n",
       "        text-align: right;\n",
       "    }\n",
       "</style>\n",
       "<table border=\"1\" class=\"dataframe\">\n",
       "  <thead>\n",
       "    <tr style=\"text-align: right;\">\n",
       "      <th></th>\n",
       "      <th>W</th>\n",
       "      <th>pval</th>\n",
       "      <th>normal</th>\n",
       "    </tr>\n",
       "    <tr>\n",
       "      <th>Automatic</th>\n",
       "      <th></th>\n",
       "      <th></th>\n",
       "      <th></th>\n",
       "    </tr>\n",
       "  </thead>\n",
       "  <tbody>\n",
       "    <tr>\n",
       "      <th>0</th>\n",
       "      <td>0.981458</td>\n",
       "      <td>2.977123e-11</td>\n",
       "      <td>False</td>\n",
       "    </tr>\n",
       "    <tr>\n",
       "      <th>1</th>\n",
       "      <td>0.948419</td>\n",
       "      <td>5.997743e-03</td>\n",
       "      <td>False</td>\n",
       "    </tr>\n",
       "  </tbody>\n",
       "</table>\n",
       "</div>"
      ],
      "text/plain": [
       "                  W          pval  normal\n",
       "Automatic                                \n",
       "0          0.981458  2.977123e-11   False\n",
       "1          0.948419  5.997743e-03   False"
      ]
     },
     "execution_count": 127,
     "metadata": {},
     "output_type": "execute_result"
    }
   ],
   "source": [
    "# Automatic과 Price로 독립표본 t-검정을 순차적으로 실행해보세요.\n",
    "pg.normality(data = df, dv = 'Price', group = 'Automatic')"
   ]
  },
  {
   "cell_type": "code",
   "execution_count": 128,
   "id": "c57010b0",
   "metadata": {},
   "outputs": [
    {
     "data": {
      "text/html": [
       "<div>\n",
       "<style scoped>\n",
       "    .dataframe tbody tr th:only-of-type {\n",
       "        vertical-align: middle;\n",
       "    }\n",
       "\n",
       "    .dataframe tbody tr th {\n",
       "        vertical-align: top;\n",
       "    }\n",
       "\n",
       "    .dataframe thead th {\n",
       "        text-align: right;\n",
       "    }\n",
       "</style>\n",
       "<table border=\"1\" class=\"dataframe\">\n",
       "  <thead>\n",
       "    <tr style=\"text-align: right;\">\n",
       "      <th></th>\n",
       "      <th>W</th>\n",
       "      <th>pval</th>\n",
       "      <th>equal_var</th>\n",
       "    </tr>\n",
       "  </thead>\n",
       "  <tbody>\n",
       "    <tr>\n",
       "      <th>levene</th>\n",
       "      <td>1.092962</td>\n",
       "      <td>0.296015</td>\n",
       "      <td>True</td>\n",
       "    </tr>\n",
       "  </tbody>\n",
       "</table>\n",
       "</div>"
      ],
      "text/plain": [
       "               W      pval  equal_var\n",
       "levene  1.092962  0.296015       True"
      ]
     },
     "execution_count": 128,
     "metadata": {},
     "output_type": "execute_result"
    }
   ],
   "source": [
    "pg.homoscedasticity(data = df, dv = 'Price', group = 'Automatic')"
   ]
  },
  {
   "cell_type": "code",
   "execution_count": 129,
   "id": "b688446d",
   "metadata": {},
   "outputs": [],
   "source": [
    "sp1 = df['Price'][df['Automatic'].eq('0')]\n",
    "sp2 = df['Price'][df['Automatic'].eq('1')]"
   ]
  },
  {
   "cell_type": "code",
   "execution_count": 130,
   "id": "28e61319",
   "metadata": {},
   "outputs": [
    {
     "data": {
      "text/html": [
       "<div>\n",
       "<style scoped>\n",
       "    .dataframe tbody tr th:only-of-type {\n",
       "        vertical-align: middle;\n",
       "    }\n",
       "\n",
       "    .dataframe tbody tr th {\n",
       "        vertical-align: top;\n",
       "    }\n",
       "\n",
       "    .dataframe thead th {\n",
       "        text-align: right;\n",
       "    }\n",
       "</style>\n",
       "<table border=\"1\" class=\"dataframe\">\n",
       "  <thead>\n",
       "    <tr style=\"text-align: right;\">\n",
       "      <th></th>\n",
       "      <th>T</th>\n",
       "      <th>dof</th>\n",
       "      <th>alternative</th>\n",
       "      <th>p-val</th>\n",
       "      <th>CI95%</th>\n",
       "      <th>cohen-d</th>\n",
       "      <th>BF10</th>\n",
       "      <th>power</th>\n",
       "    </tr>\n",
       "  </thead>\n",
       "  <tbody>\n",
       "    <tr>\n",
       "      <th>T-test</th>\n",
       "      <td>-1.472702</td>\n",
       "      <td>1266</td>\n",
       "      <td>two-sided</td>\n",
       "      <td>0.14108</td>\n",
       "      <td>[-856.55, 121.99]</td>\n",
       "      <td>0.181091</td>\n",
       "      <td>0.377</td>\n",
       "      <td>0.312941</td>\n",
       "    </tr>\n",
       "  </tbody>\n",
       "</table>\n",
       "</div>"
      ],
      "text/plain": [
       "               T   dof alternative    p-val              CI95%   cohen-d  \\\n",
       "T-test -1.472702  1266   two-sided  0.14108  [-856.55, 121.99]  0.181091   \n",
       "\n",
       "         BF10     power  \n",
       "T-test  0.377  0.312941  "
      ]
     },
     "execution_count": 130,
     "metadata": {},
     "output_type": "execute_result"
    }
   ],
   "source": [
    "pg.ttest(x = sp1, y = sp2, correction = False)"
   ]
  },
  {
   "cell_type": "code",
   "execution_count": 131,
   "id": "a24c20c7",
   "metadata": {},
   "outputs": [
    {
     "data": {
      "text/plain": [
       "0    1198\n",
       "1      70\n",
       "Name: Automatic, dtype: int64"
      ]
     },
     "execution_count": 131,
     "metadata": {},
     "output_type": "execute_result"
    }
   ],
   "source": [
    "df['Automatic'].value_counts()"
   ]
  },
  {
   "cell_type": "code",
   "execution_count": 134,
   "id": "8d678b08",
   "metadata": {},
   "outputs": [
    {
     "data": {
      "text/html": [
       "<div>\n",
       "<style scoped>\n",
       "    .dataframe tbody tr th:only-of-type {\n",
       "        vertical-align: middle;\n",
       "    }\n",
       "\n",
       "    .dataframe tbody tr th {\n",
       "        vertical-align: top;\n",
       "    }\n",
       "\n",
       "    .dataframe thead th {\n",
       "        text-align: right;\n",
       "    }\n",
       "</style>\n",
       "<table border=\"1\" class=\"dataframe\">\n",
       "  <thead>\n",
       "    <tr style=\"text-align: right;\">\n",
       "      <th>Automatic</th>\n",
       "      <th>0</th>\n",
       "      <th>1</th>\n",
       "    </tr>\n",
       "    <tr>\n",
       "      <th>MetColor</th>\n",
       "      <th></th>\n",
       "      <th></th>\n",
       "    </tr>\n",
       "  </thead>\n",
       "  <tbody>\n",
       "    <tr>\n",
       "      <th>0</th>\n",
       "      <td>402</td>\n",
       "      <td>26</td>\n",
       "    </tr>\n",
       "    <tr>\n",
       "      <th>1</th>\n",
       "      <td>796</td>\n",
       "      <td>44</td>\n",
       "    </tr>\n",
       "  </tbody>\n",
       "</table>\n",
       "</div>"
      ],
      "text/plain": [
       "Automatic    0   1\n",
       "MetColor          \n",
       "0          402  26\n",
       "1          796  44"
      ]
     },
     "execution_count": 134,
     "metadata": {},
     "output_type": "execute_result"
    }
   ],
   "source": [
    "pd.pivot_table(\n",
    "    data = df, \n",
    "    values = 'Price', \n",
    "    index = 'MetColor', \n",
    "    columns = 'Automatic', \n",
    "    aggfunc = np.size\n",
    ")"
   ]
  },
  {
   "cell_type": "code",
   "execution_count": 138,
   "id": "4208a195",
   "metadata": {},
   "outputs": [
    {
     "data": {
      "text/html": [
       "<div>\n",
       "<style scoped>\n",
       "    .dataframe tbody tr th:only-of-type {\n",
       "        vertical-align: middle;\n",
       "    }\n",
       "\n",
       "    .dataframe tbody tr th {\n",
       "        vertical-align: top;\n",
       "    }\n",
       "\n",
       "    .dataframe thead th {\n",
       "        text-align: right;\n",
       "    }\n",
       "</style>\n",
       "<table border=\"1\" class=\"dataframe\">\n",
       "  <thead>\n",
       "    <tr style=\"text-align: right;\">\n",
       "      <th>Automatic</th>\n",
       "      <th>0</th>\n",
       "      <th>1</th>\n",
       "    </tr>\n",
       "    <tr>\n",
       "      <th>MetColor</th>\n",
       "      <th></th>\n",
       "      <th></th>\n",
       "    </tr>\n",
       "  </thead>\n",
       "  <tbody>\n",
       "    <tr>\n",
       "      <th>0</th>\n",
       "      <td>0.939252</td>\n",
       "      <td>0.060748</td>\n",
       "    </tr>\n",
       "    <tr>\n",
       "      <th>1</th>\n",
       "      <td>0.947619</td>\n",
       "      <td>0.052381</td>\n",
       "    </tr>\n",
       "    <tr>\n",
       "      <th>합계</th>\n",
       "      <td>0.944795</td>\n",
       "      <td>0.055205</td>\n",
       "    </tr>\n",
       "  </tbody>\n",
       "</table>\n",
       "</div>"
      ],
      "text/plain": [
       "Automatic         0         1\n",
       "MetColor                     \n",
       "0          0.939252  0.060748\n",
       "1          0.947619  0.052381\n",
       "합계         0.944795  0.055205"
      ]
     },
     "execution_count": 138,
     "metadata": {},
     "output_type": "execute_result"
    }
   ],
   "source": [
    "pd.crosstab(\n",
    "    index = df['MetColor'], \n",
    "    columns = df['Automatic'], \n",
    "    margins = True, \n",
    "    margins_name = '합계', \n",
    "    normalize = 'index'\n",
    ")"
   ]
  },
  {
   "cell_type": "code",
   "execution_count": 139,
   "id": "c34958a7",
   "metadata": {},
   "outputs": [],
   "source": [
    "test = pg.chi2_independence(data = df, x = 'MetColor', y = 'Automatic', correction = True)"
   ]
  },
  {
   "cell_type": "code",
   "execution_count": 140,
   "id": "731c382d",
   "metadata": {},
   "outputs": [
    {
     "data": {
      "text/plain": [
       "(Automatic          0         1\n",
       " MetColor                      \n",
       " 0          404.37224  23.62776\n",
       " 1          793.62776  46.37224,\n",
       " Automatic      0     1\n",
       " MetColor              \n",
       " 0          402.5  25.5\n",
       " 1          795.5  44.5,\n",
       "                  test    lambda      chi2  dof      pval    cramer     power\n",
       " 0             pearson  1.000000  0.237030  1.0  0.626360  0.013672  0.077567\n",
       " 1        cressie-read  0.666667  0.236104  1.0  0.627034  0.013646  0.077458\n",
       " 2      log-likelihood  0.000000  0.234308  1.0  0.628348  0.013594  0.077246\n",
       " 3       freeman-tukey -0.500000  0.233008  1.0  0.629302  0.013556  0.077093\n",
       " 4  mod-log-likelihood -1.000000  0.231749  1.0  0.630230  0.013519  0.076945\n",
       " 5              neyman -2.000000  0.229348  1.0  0.632008  0.013449  0.076662)"
      ]
     },
     "execution_count": 140,
     "metadata": {},
     "output_type": "execute_result"
    }
   ],
   "source": [
    "test"
   ]
  },
  {
   "cell_type": "code",
   "execution_count": 141,
   "id": "4b563cec",
   "metadata": {},
   "outputs": [],
   "source": [
    "df = df.drop(columns = ['CC', 'Automatic'])"
   ]
  },
  {
   "cell_type": "code",
   "execution_count": 142,
   "id": "66dd11df",
   "metadata": {},
   "outputs": [],
   "source": [
    "df = df[df['FuelType'].ne('CNG')]"
   ]
  },
  {
   "cell_type": "code",
   "execution_count": 143,
   "id": "74d4f066",
   "metadata": {},
   "outputs": [],
   "source": [
    "df = df.reset_index(drop = True)"
   ]
  },
  {
   "cell_type": "code",
   "execution_count": 144,
   "id": "5e3472db",
   "metadata": {},
   "outputs": [
    {
     "data": {
      "text/plain": [
       "['Used_Cars_Price_Prep.z']"
      ]
     },
     "execution_count": 144,
     "metadata": {},
     "output_type": "execute_result"
    }
   ],
   "source": [
    "joblib.dump(value = df, filename = 'Used_Cars_Price_Prep.z')"
   ]
  },
  {
   "cell_type": "code",
   "execution_count": null,
   "id": "22f11a29",
   "metadata": {},
   "outputs": [],
   "source": []
  }
 ],
 "metadata": {
  "kernelspec": {
   "display_name": "Python 3 (ipykernel)",
   "language": "python",
   "name": "python3"
  },
  "language_info": {
   "codemirror_mode": {
    "name": "ipython",
    "version": 3
   },
   "file_extension": ".py",
   "mimetype": "text/x-python",
   "name": "python",
   "nbconvert_exporter": "python",
   "pygments_lexer": "ipython3",
   "version": "3.10.9"
  }
 },
 "nbformat": 4,
 "nbformat_minor": 5
}
