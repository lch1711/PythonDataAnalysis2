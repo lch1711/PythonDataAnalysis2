{
 "cells": [
  {
   "cell_type": "markdown",
   "id": "344f8a49",
   "metadata": {},
   "source": [
    "## OPENAI API\n",
    "\n",
    "- 링크: https://platform.openai.com/overview\n",
    "- 위 링크에서 회원가입하고 API KEY를 발급받으세요.\n",
    "\n",
    "- 헬로데이터사이언스 나성호 드림"
   ]
  },
  {
   "cell_type": "raw",
   "id": "17c6a718",
   "metadata": {},
   "source": [
    "!pip install python-dotenv"
   ]
  },
  {
   "cell_type": "code",
   "execution_count": null,
   "id": "5fdd5d5c",
   "metadata": {},
   "outputs": [],
   "source": [
    "import os\n",
    "from dotenv import load_dotenv\n",
    "import requests\n",
    "import json"
   ]
  },
  {
   "cell_type": "raw",
   "id": "693f6ae2",
   "metadata": {},
   "source": [
    "# OPENAI에서 발급한 API KEY 설정\n",
    "key = 'OPENAI에서 발급한 API KEY를 붙여 넣으세요.'"
   ]
  },
  {
   "cell_type": "raw",
   "id": "8a020e0d",
   "metadata": {},
   "source": [
    "# 환경 변수를 저장할 .env 파일 생성\n",
    "with open(file = '.env', mode = 'w') as file:\n",
    "    file.write(f'OPENAI_API_KEY = {key}\\n')"
   ]
  },
  {
   "cell_type": "code",
   "execution_count": null,
   "id": "549fbf8e",
   "metadata": {},
   "outputs": [],
   "source": [
    "load_dotenv()"
   ]
  },
  {
   "cell_type": "code",
   "execution_count": null,
   "id": "2fca4e4c",
   "metadata": {},
   "outputs": [],
   "source": [
    "KEY = os.getenv(key = 'OPENAI_API_KEY')\n",
    "KEY"
   ]
  },
  {
   "cell_type": "code",
   "execution_count": null,
   "id": "ec3f1604",
   "metadata": {},
   "outputs": [],
   "source": [
    "URL = 'https://api.openai.com/v1/chat/completions'"
   ]
  },
  {
   "cell_type": "code",
   "execution_count": null,
   "id": "63fee6cc",
   "metadata": {},
   "outputs": [],
   "source": [
    "headers = {\n",
    "    'Content-Type': 'application/json',\n",
    "    'Authorization': f'Bearer {KEY}'\n",
    "}"
   ]
  },
  {
   "cell_type": "code",
   "execution_count": null,
   "id": "67864934",
   "metadata": {},
   "outputs": [],
   "source": [
    "prompt = '아버지가방에들어가신다.방에서테레비으로여구를보시는가보다. 이 문장을 띄어쓰기와 오탈자를 고쳐서 알려줘.'"
   ]
  },
  {
   "cell_type": "code",
   "execution_count": null,
   "id": "ed4455ab",
   "metadata": {},
   "outputs": [],
   "source": [
    "body = {\n",
    "    'model': 'gpt-3.5-turbo', \n",
    "    'messages': [\n",
    "        {\n",
    "            'role': 'user', \n",
    "            'content': prompt\n",
    "        }\n",
    "    ]\n",
    "}"
   ]
  },
  {
   "cell_type": "code",
   "execution_count": null,
   "id": "6c2fb9f8",
   "metadata": {},
   "outputs": [],
   "source": [
    "# 딕셔너리를 JSON 형태의 문자열로 변환\n",
    "json.dumps(obj = body)"
   ]
  },
  {
   "cell_type": "code",
   "execution_count": null,
   "id": "67b93fa2",
   "metadata": {},
   "outputs": [],
   "source": [
    "# requests.post() 함수의 data 매개변수에는 JSON 형태의 문자열을 넣어야 함!\n",
    "res = requests.post(url = URL, data = json.dumps(obj = body), headers = headers)"
   ]
  },
  {
   "cell_type": "raw",
   "id": "f3411188",
   "metadata": {},
   "source": [
    "# requests.post() 함수의 json 매개변수에는 딕셔너리를 넣어야 함!\n",
    "res = requests.post(url = URL, json = body, headers = headers)"
   ]
  },
  {
   "cell_type": "code",
   "execution_count": null,
   "id": "5ca18d88",
   "metadata": {},
   "outputs": [],
   "source": [
    "res.status_code"
   ]
  },
  {
   "cell_type": "code",
   "execution_count": null,
   "id": "18289df1",
   "metadata": {},
   "outputs": [],
   "source": [
    "res.text"
   ]
  },
  {
   "cell_type": "code",
   "execution_count": null,
   "id": "e95d8ce6",
   "metadata": {},
   "outputs": [],
   "source": [
    "dat = json.loads(s = res.text)\n",
    "dat"
   ]
  },
  {
   "cell_type": "code",
   "execution_count": null,
   "id": "95a4f850",
   "metadata": {},
   "outputs": [],
   "source": [
    "dat['choices'][0]['message']['content']"
   ]
  },
  {
   "cell_type": "code",
   "execution_count": null,
   "id": "3b8397bc",
   "metadata": {},
   "outputs": [],
   "source": []
  }
 ],
 "metadata": {
  "kernelspec": {
   "display_name": "Python 3 (ipykernel)",
   "language": "python",
   "name": "python3"
  },
  "language_info": {
   "codemirror_mode": {
    "name": "ipython",
    "version": 3
   },
   "file_extension": ".py",
   "mimetype": "text/x-python",
   "name": "python",
   "nbconvert_exporter": "python",
   "pygments_lexer": "ipython3",
   "version": "3.11.3"
  },
  "varInspector": {
   "cols": {
    "lenName": 16,
    "lenType": 16,
    "lenVar": 40
   },
   "kernels_config": {
    "python": {
     "delete_cmd_postfix": "",
     "delete_cmd_prefix": "del ",
     "library": "var_list.py",
     "varRefreshCmd": "print(var_dic_list())"
    },
    "r": {
     "delete_cmd_postfix": ") ",
     "delete_cmd_prefix": "rm(",
     "library": "var_list.r",
     "varRefreshCmd": "cat(var_dic_list()) "
    }
   },
   "types_to_exclude": [
    "module",
    "function",
    "builtin_function_or_method",
    "instance",
    "_Feature"
   ],
   "window_display": false
  }
 },
 "nbformat": 4,
 "nbformat_minor": 5
}
