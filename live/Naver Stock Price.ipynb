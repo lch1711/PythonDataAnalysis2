{
 "cells": [
  {
   "cell_type": "raw",
   "id": "481f988a",
   "metadata": {},
   "source": [
    "!pip install bs4"
   ]
  },
  {
   "cell_type": "code",
   "execution_count": 1,
   "id": "825cb68b",
   "metadata": {},
   "outputs": [],
   "source": [
    "import requests\n",
    "from bs4 import BeautifulSoup as bts\n",
    "import pandas as pd"
   ]
  },
  {
   "cell_type": "code",
   "execution_count": null,
   "id": "8022405c",
   "metadata": {},
   "outputs": [],
   "source": [
    "ticker = '066570'"
   ]
  },
  {
   "cell_type": "code",
   "execution_count": null,
   "id": "57ed681a",
   "metadata": {},
   "outputs": [],
   "source": [
    "url = f'https://finance.naver.com/item/main.naver?code={ticker}'"
   ]
  },
  {
   "cell_type": "code",
   "execution_count": null,
   "id": "820ec90c",
   "metadata": {},
   "outputs": [],
   "source": [
    "res = requests.get(url)"
   ]
  },
  {
   "cell_type": "code",
   "execution_count": null,
   "id": "7d3c0256",
   "metadata": {},
   "outputs": [],
   "source": [
    "res.status_code"
   ]
  },
  {
   "cell_type": "code",
   "execution_count": null,
   "id": "50b6ec3c",
   "metadata": {},
   "outputs": [],
   "source": [
    "res.headers['content-type']"
   ]
  },
  {
   "cell_type": "code",
   "execution_count": null,
   "id": "137ececa",
   "metadata": {},
   "outputs": [],
   "source": [
    "res.text"
   ]
  },
  {
   "cell_type": "code",
   "execution_count": null,
   "id": "0f68750a",
   "metadata": {},
   "outputs": [],
   "source": [
    "soup = bts(markup = res.text, features = 'html.parser')"
   ]
  },
  {
   "cell_type": "code",
   "execution_count": null,
   "id": "d95d47f0",
   "metadata": {},
   "outputs": [],
   "source": [
    "type(soup)"
   ]
  },
  {
   "cell_type": "code",
   "execution_count": null,
   "id": "ac89fdfd",
   "metadata": {},
   "outputs": [],
   "source": [
    "items = soup.select('div.today > p > em > span')"
   ]
  },
  {
   "cell_type": "code",
   "execution_count": null,
   "id": "239af325",
   "metadata": {},
   "outputs": [],
   "source": [
    "int(items[0].text.replace(',', ''))"
   ]
  },
  {
   "cell_type": "code",
   "execution_count": null,
   "id": "5e91ea08",
   "metadata": {},
   "outputs": [],
   "source": [
    "items = soup.select('h2 > a')"
   ]
  },
  {
   "cell_type": "code",
   "execution_count": null,
   "id": "153e1011",
   "metadata": {},
   "outputs": [],
   "source": [
    "items[0].text"
   ]
  },
  {
   "cell_type": "code",
   "execution_count": null,
   "id": "7933c815",
   "metadata": {},
   "outputs": [],
   "source": []
  },
  {
   "cell_type": "code",
   "execution_count": null,
   "id": "b7eac95f",
   "metadata": {},
   "outputs": [],
   "source": [
    "def stockPrice(ticker):\n",
    "    url = f'https://finance.naver.com/item/main.naver?code={ticker}'\n",
    "    res = requests.get(url)\n",
    "    soup = bts(markup = res.text, features = 'html.parser')\n",
    "    try:\n",
    "        items = soup.select('div.today > p > em > span')\n",
    "        return int(items[0].text.replace(',', ''))\n",
    "    except:\n",
    "        print('티커를 확인하시오!')"
   ]
  },
  {
   "cell_type": "code",
   "execution_count": null,
   "id": "4576adff",
   "metadata": {
    "scrolled": true
   },
   "outputs": [],
   "source": [
    "stockPrice(ticker = '066570')"
   ]
  },
  {
   "cell_type": "code",
   "execution_count": null,
   "id": "483dd2f9",
   "metadata": {},
   "outputs": [],
   "source": [
    "stockPrice(ticker = '066557')"
   ]
  },
  {
   "cell_type": "code",
   "execution_count": null,
   "id": "1eb4dc33",
   "metadata": {},
   "outputs": [],
   "source": [
    "stockPrice(ticker = '005930')"
   ]
  },
  {
   "cell_type": "code",
   "execution_count": null,
   "id": "33afccd8",
   "metadata": {},
   "outputs": [],
   "source": [
    "stockPrice(ticker = '000660')"
   ]
  },
  {
   "cell_type": "code",
   "execution_count": null,
   "id": "c2839652",
   "metadata": {},
   "outputs": [],
   "source": []
  },
  {
   "cell_type": "code",
   "execution_count": null,
   "id": "b4fe3cc8",
   "metadata": {},
   "outputs": [],
   "source": []
  },
  {
   "cell_type": "raw",
   "id": "31df6404",
   "metadata": {},
   "source": [
    "!pip install lxml"
   ]
  },
  {
   "cell_type": "code",
   "execution_count": 2,
   "id": "a1423367",
   "metadata": {},
   "outputs": [],
   "source": [
    "url = 'https://finance.naver.com/sise/sise_market_sum.naver'"
   ]
  },
  {
   "cell_type": "code",
   "execution_count": 5,
   "id": "95f2d34f",
   "metadata": {},
   "outputs": [],
   "source": [
    "tbls = pd.read_html(io = url, encoding = 'EUC-KR')"
   ]
  },
  {
   "cell_type": "code",
   "execution_count": 8,
   "id": "4d571e30",
   "metadata": {},
   "outputs": [],
   "source": [
    "price = tbls[1]"
   ]
  },
  {
   "cell_type": "code",
   "execution_count": 9,
   "id": "877a734d",
   "metadata": {
    "collapsed": true
   },
   "outputs": [
    {
     "data": {
      "text/html": [
       "<div>\n",
       "<style scoped>\n",
       "    .dataframe tbody tr th:only-of-type {\n",
       "        vertical-align: middle;\n",
       "    }\n",
       "\n",
       "    .dataframe tbody tr th {\n",
       "        vertical-align: top;\n",
       "    }\n",
       "\n",
       "    .dataframe thead th {\n",
       "        text-align: right;\n",
       "    }\n",
       "</style>\n",
       "<table border=\"1\" class=\"dataframe\">\n",
       "  <thead>\n",
       "    <tr style=\"text-align: right;\">\n",
       "      <th></th>\n",
       "      <th>N</th>\n",
       "      <th>종목명</th>\n",
       "      <th>현재가</th>\n",
       "      <th>전일비</th>\n",
       "      <th>등락률</th>\n",
       "      <th>액면가</th>\n",
       "      <th>시가총액</th>\n",
       "      <th>상장주식수</th>\n",
       "      <th>외국인비율</th>\n",
       "      <th>거래량</th>\n",
       "      <th>PER</th>\n",
       "      <th>ROE</th>\n",
       "      <th>토론실</th>\n",
       "    </tr>\n",
       "  </thead>\n",
       "  <tbody>\n",
       "    <tr>\n",
       "      <th>0</th>\n",
       "      <td>NaN</td>\n",
       "      <td>NaN</td>\n",
       "      <td>NaN</td>\n",
       "      <td>NaN</td>\n",
       "      <td>NaN</td>\n",
       "      <td>NaN</td>\n",
       "      <td>NaN</td>\n",
       "      <td>NaN</td>\n",
       "      <td>NaN</td>\n",
       "      <td>NaN</td>\n",
       "      <td>NaN</td>\n",
       "      <td>NaN</td>\n",
       "      <td>NaN</td>\n",
       "    </tr>\n",
       "    <tr>\n",
       "      <th>1</th>\n",
       "      <td>1.0</td>\n",
       "      <td>삼성전자</td>\n",
       "      <td>56200.0</td>\n",
       "      <td>100.0</td>\n",
       "      <td>-0.18%</td>\n",
       "      <td>100.0</td>\n",
       "      <td>3355018.0</td>\n",
       "      <td>5969783.0</td>\n",
       "      <td>49.44</td>\n",
       "      <td>15907472.0</td>\n",
       "      <td>8.52</td>\n",
       "      <td>13.92</td>\n",
       "      <td>NaN</td>\n",
       "    </tr>\n",
       "    <tr>\n",
       "      <th>2</th>\n",
       "      <td>2.0</td>\n",
       "      <td>LG에너지솔루션</td>\n",
       "      <td>482500.0</td>\n",
       "      <td>4500.0</td>\n",
       "      <td>+0.94%</td>\n",
       "      <td>500.0</td>\n",
       "      <td>1129050.0</td>\n",
       "      <td>234000.0</td>\n",
       "      <td>4.40</td>\n",
       "      <td>256331.0</td>\n",
       "      <td>801.50</td>\n",
       "      <td>10.68</td>\n",
       "      <td>NaN</td>\n",
       "    </tr>\n",
       "    <tr>\n",
       "      <th>3</th>\n",
       "      <td>3.0</td>\n",
       "      <td>SK하이닉스</td>\n",
       "      <td>91200.0</td>\n",
       "      <td>1300.0</td>\n",
       "      <td>+1.45%</td>\n",
       "      <td>5000.0</td>\n",
       "      <td>663938.0</td>\n",
       "      <td>728002.0</td>\n",
       "      <td>50.24</td>\n",
       "      <td>2405984.0</td>\n",
       "      <td>5.78</td>\n",
       "      <td>16.84</td>\n",
       "      <td>NaN</td>\n",
       "    </tr>\n",
       "    <tr>\n",
       "      <th>4</th>\n",
       "      <td>4.0</td>\n",
       "      <td>삼성바이오로직스</td>\n",
       "      <td>811000.0</td>\n",
       "      <td>1000.0</td>\n",
       "      <td>-0.12%</td>\n",
       "      <td>2500.0</td>\n",
       "      <td>577221.0</td>\n",
       "      <td>71174.0</td>\n",
       "      <td>10.51</td>\n",
       "      <td>36035.0</td>\n",
       "      <td>107.86</td>\n",
       "      <td>8.21</td>\n",
       "      <td>NaN</td>\n",
       "    </tr>\n",
       "  </tbody>\n",
       "</table>\n",
       "</div>"
      ],
      "text/plain": [
       "     N       종목명       현재가     전일비     등락률     액면가       시가총액      상장주식수  \\\n",
       "0  NaN       NaN       NaN     NaN     NaN     NaN        NaN        NaN   \n",
       "1  1.0      삼성전자   56200.0   100.0  -0.18%   100.0  3355018.0  5969783.0   \n",
       "2  2.0  LG에너지솔루션  482500.0  4500.0  +0.94%   500.0  1129050.0   234000.0   \n",
       "3  3.0    SK하이닉스   91200.0  1300.0  +1.45%  5000.0   663938.0   728002.0   \n",
       "4  4.0  삼성바이오로직스  811000.0  1000.0  -0.12%  2500.0   577221.0    71174.0   \n",
       "\n",
       "   외국인비율         거래량     PER    ROE  토론실  \n",
       "0    NaN         NaN     NaN    NaN  NaN  \n",
       "1  49.44  15907472.0    8.52  13.92  NaN  \n",
       "2   4.40    256331.0  801.50  10.68  NaN  \n",
       "3  50.24   2405984.0    5.78  16.84  NaN  \n",
       "4  10.51     36035.0  107.86   8.21  NaN  "
      ]
     },
     "execution_count": 9,
     "metadata": {},
     "output_type": "execute_result"
    }
   ],
   "source": [
    "price.head()"
   ]
  },
  {
   "cell_type": "code",
   "execution_count": 10,
   "id": "df038730",
   "metadata": {},
   "outputs": [],
   "source": [
    "price = price.drop(columns = ['N', '토론실'])"
   ]
  },
  {
   "cell_type": "code",
   "execution_count": 12,
   "id": "4c856708",
   "metadata": {
    "collapsed": true
   },
   "outputs": [
    {
     "data": {
      "text/html": [
       "<div>\n",
       "<style scoped>\n",
       "    .dataframe tbody tr th:only-of-type {\n",
       "        vertical-align: middle;\n",
       "    }\n",
       "\n",
       "    .dataframe tbody tr th {\n",
       "        vertical-align: top;\n",
       "    }\n",
       "\n",
       "    .dataframe thead th {\n",
       "        text-align: right;\n",
       "    }\n",
       "</style>\n",
       "<table border=\"1\" class=\"dataframe\">\n",
       "  <thead>\n",
       "    <tr style=\"text-align: right;\">\n",
       "      <th></th>\n",
       "      <th>종목명</th>\n",
       "      <th>현재가</th>\n",
       "      <th>전일비</th>\n",
       "      <th>등락률</th>\n",
       "      <th>액면가</th>\n",
       "      <th>시가총액</th>\n",
       "      <th>상장주식수</th>\n",
       "      <th>외국인비율</th>\n",
       "      <th>거래량</th>\n",
       "      <th>PER</th>\n",
       "      <th>ROE</th>\n",
       "    </tr>\n",
       "  </thead>\n",
       "  <tbody>\n",
       "    <tr>\n",
       "      <th>0</th>\n",
       "      <td>NaN</td>\n",
       "      <td>NaN</td>\n",
       "      <td>NaN</td>\n",
       "      <td>NaN</td>\n",
       "      <td>NaN</td>\n",
       "      <td>NaN</td>\n",
       "      <td>NaN</td>\n",
       "      <td>NaN</td>\n",
       "      <td>NaN</td>\n",
       "      <td>NaN</td>\n",
       "      <td>NaN</td>\n",
       "    </tr>\n",
       "    <tr>\n",
       "      <th>1</th>\n",
       "      <td>삼성전자</td>\n",
       "      <td>56200.0</td>\n",
       "      <td>100.0</td>\n",
       "      <td>-0.18%</td>\n",
       "      <td>100.0</td>\n",
       "      <td>3355018.0</td>\n",
       "      <td>5969783.0</td>\n",
       "      <td>49.44</td>\n",
       "      <td>15907472.0</td>\n",
       "      <td>8.52</td>\n",
       "      <td>13.92</td>\n",
       "    </tr>\n",
       "    <tr>\n",
       "      <th>2</th>\n",
       "      <td>LG에너지솔루션</td>\n",
       "      <td>482500.0</td>\n",
       "      <td>4500.0</td>\n",
       "      <td>+0.94%</td>\n",
       "      <td>500.0</td>\n",
       "      <td>1129050.0</td>\n",
       "      <td>234000.0</td>\n",
       "      <td>4.40</td>\n",
       "      <td>256331.0</td>\n",
       "      <td>801.50</td>\n",
       "      <td>10.68</td>\n",
       "    </tr>\n",
       "    <tr>\n",
       "      <th>3</th>\n",
       "      <td>SK하이닉스</td>\n",
       "      <td>91200.0</td>\n",
       "      <td>1300.0</td>\n",
       "      <td>+1.45%</td>\n",
       "      <td>5000.0</td>\n",
       "      <td>663938.0</td>\n",
       "      <td>728002.0</td>\n",
       "      <td>50.24</td>\n",
       "      <td>2405984.0</td>\n",
       "      <td>5.78</td>\n",
       "      <td>16.84</td>\n",
       "    </tr>\n",
       "    <tr>\n",
       "      <th>4</th>\n",
       "      <td>삼성바이오로직스</td>\n",
       "      <td>811000.0</td>\n",
       "      <td>1000.0</td>\n",
       "      <td>-0.12%</td>\n",
       "      <td>2500.0</td>\n",
       "      <td>577221.0</td>\n",
       "      <td>71174.0</td>\n",
       "      <td>10.51</td>\n",
       "      <td>36035.0</td>\n",
       "      <td>107.86</td>\n",
       "      <td>8.21</td>\n",
       "    </tr>\n",
       "    <tr>\n",
       "      <th>5</th>\n",
       "      <td>삼성전자우</td>\n",
       "      <td>51100.0</td>\n",
       "      <td>500.0</td>\n",
       "      <td>+0.99%</td>\n",
       "      <td>100.0</td>\n",
       "      <td>420495.0</td>\n",
       "      <td>822887.0</td>\n",
       "      <td>71.48</td>\n",
       "      <td>1116192.0</td>\n",
       "      <td>7.75</td>\n",
       "      <td>NaN</td>\n",
       "    </tr>\n",
       "    <tr>\n",
       "      <th>6</th>\n",
       "      <td>NaN</td>\n",
       "      <td>NaN</td>\n",
       "      <td>NaN</td>\n",
       "      <td>NaN</td>\n",
       "      <td>NaN</td>\n",
       "      <td>NaN</td>\n",
       "      <td>NaN</td>\n",
       "      <td>NaN</td>\n",
       "      <td>NaN</td>\n",
       "      <td>NaN</td>\n",
       "      <td>NaN</td>\n",
       "    </tr>\n",
       "    <tr>\n",
       "      <th>7</th>\n",
       "      <td>NaN</td>\n",
       "      <td>NaN</td>\n",
       "      <td>NaN</td>\n",
       "      <td>NaN</td>\n",
       "      <td>NaN</td>\n",
       "      <td>NaN</td>\n",
       "      <td>NaN</td>\n",
       "      <td>NaN</td>\n",
       "      <td>NaN</td>\n",
       "      <td>NaN</td>\n",
       "      <td>NaN</td>\n",
       "    </tr>\n",
       "    <tr>\n",
       "      <th>8</th>\n",
       "      <td>NaN</td>\n",
       "      <td>NaN</td>\n",
       "      <td>NaN</td>\n",
       "      <td>NaN</td>\n",
       "      <td>NaN</td>\n",
       "      <td>NaN</td>\n",
       "      <td>NaN</td>\n",
       "      <td>NaN</td>\n",
       "      <td>NaN</td>\n",
       "      <td>NaN</td>\n",
       "      <td>NaN</td>\n",
       "    </tr>\n",
       "    <tr>\n",
       "      <th>9</th>\n",
       "      <td>LG화학</td>\n",
       "      <td>589000.0</td>\n",
       "      <td>6000.0</td>\n",
       "      <td>+1.03%</td>\n",
       "      <td>5000.0</td>\n",
       "      <td>415789.0</td>\n",
       "      <td>70592.0</td>\n",
       "      <td>48.31</td>\n",
       "      <td>220850.0</td>\n",
       "      <td>20.77</td>\n",
       "      <td>18.47</td>\n",
       "    </tr>\n",
       "  </tbody>\n",
       "</table>\n",
       "</div>"
      ],
      "text/plain": [
       "        종목명       현재가     전일비     등락률     액면가       시가총액      상장주식수  외국인비율  \\\n",
       "0       NaN       NaN     NaN     NaN     NaN        NaN        NaN    NaN   \n",
       "1      삼성전자   56200.0   100.0  -0.18%   100.0  3355018.0  5969783.0  49.44   \n",
       "2  LG에너지솔루션  482500.0  4500.0  +0.94%   500.0  1129050.0   234000.0   4.40   \n",
       "3    SK하이닉스   91200.0  1300.0  +1.45%  5000.0   663938.0   728002.0  50.24   \n",
       "4  삼성바이오로직스  811000.0  1000.0  -0.12%  2500.0   577221.0    71174.0  10.51   \n",
       "5     삼성전자우   51100.0   500.0  +0.99%   100.0   420495.0   822887.0  71.48   \n",
       "6       NaN       NaN     NaN     NaN     NaN        NaN        NaN    NaN   \n",
       "7       NaN       NaN     NaN     NaN     NaN        NaN        NaN    NaN   \n",
       "8       NaN       NaN     NaN     NaN     NaN        NaN        NaN    NaN   \n",
       "9      LG화학  589000.0  6000.0  +1.03%  5000.0   415789.0    70592.0  48.31   \n",
       "\n",
       "          거래량     PER    ROE  \n",
       "0         NaN     NaN    NaN  \n",
       "1  15907472.0    8.52  13.92  \n",
       "2    256331.0  801.50  10.68  \n",
       "3   2405984.0    5.78  16.84  \n",
       "4     36035.0  107.86   8.21  \n",
       "5   1116192.0    7.75    NaN  \n",
       "6         NaN     NaN    NaN  \n",
       "7         NaN     NaN    NaN  \n",
       "8         NaN     NaN    NaN  \n",
       "9    220850.0   20.77  18.47  "
      ]
     },
     "execution_count": 12,
     "metadata": {},
     "output_type": "execute_result"
    }
   ],
   "source": [
    "price.head(n = 10)"
   ]
  },
  {
   "cell_type": "code",
   "execution_count": 14,
   "id": "0bf293b7",
   "metadata": {},
   "outputs": [],
   "source": [
    "price = price[price['종목명'].notna()]"
   ]
  },
  {
   "cell_type": "code",
   "execution_count": 15,
   "id": "9ad382a4",
   "metadata": {},
   "outputs": [
    {
     "data": {
      "text/plain": [
       "50"
      ]
     },
     "execution_count": 15,
     "metadata": {},
     "output_type": "execute_result"
    }
   ],
   "source": [
    "price.shape[0]"
   ]
  },
  {
   "cell_type": "code",
   "execution_count": null,
   "id": "3f1b8cd1",
   "metadata": {},
   "outputs": [],
   "source": []
  }
 ],
 "metadata": {
  "kernelspec": {
   "display_name": "Python 3",
   "language": "python",
   "name": "python3"
  },
  "language_info": {
   "codemirror_mode": {
    "name": "ipython",
    "version": 3
   },
   "file_extension": ".py",
   "mimetype": "text/x-python",
   "name": "python",
   "nbconvert_exporter": "python",
   "pygments_lexer": "ipython3",
   "version": "3.10.7"
  }
 },
 "nbformat": 4,
 "nbformat_minor": 5
}
