{
 "cells": [
  {
   "cell_type": "markdown",
   "id": "b8a1951d",
   "metadata": {},
   "source": [
    "## 파이썬 파일 경로 추가"
   ]
  },
  {
   "cell_type": "markdown",
   "id": "291d0930",
   "metadata": {},
   "source": [
    "### 시스템 환경 변수에 PYTHONPATH 추가\n",
    "\n",
    "1. 파이썬 파일 경로로 추가할 폴더 생성<br>\n",
    "1. 제어판을 열고, 검색창에서 **시스템 환경 변수**으로 검색<br>\n",
    "1. **시스템 환경 변수 편집** 선택<br>\n",
    "1. 하단의 **환경 변수(N)** 클릭하고 **시스템 변수**에 추가<br>"
   ]
  },
  {
   "cell_type": "markdown",
   "id": "cfa3bd84",
   "metadata": {},
   "source": [
    "<img src=\"https://github.com/hdsceokevin/images/blob/main/PythonPathWindows.png?raw=true\" style=\"border: 2px solid black\">"
   ]
  },
  {
   "cell_type": "code",
   "execution_count": 1,
   "id": "5ef628d7",
   "metadata": {},
   "outputs": [],
   "source": [
    "import sys"
   ]
  },
  {
   "cell_type": "code",
   "execution_count": 2,
   "id": "b3bc42ee",
   "metadata": {},
   "outputs": [
    {
     "data": {
      "text/plain": [
       "['C:\\\\Users\\\\Administrator\\\\Documents\\\\PythonAdvanced-main\\\\live',\n",
       " 'C:\\\\Users\\\\Administrator\\\\Documents\\\\mypath',\n",
       " 'C:\\\\Users\\\\Administrator\\\\AppData\\\\Local\\\\Programs\\\\Python\\\\Python310\\\\python310.zip',\n",
       " 'C:\\\\Users\\\\Administrator\\\\AppData\\\\Local\\\\Programs\\\\Python\\\\Python310\\\\DLLs',\n",
       " 'C:\\\\Users\\\\Administrator\\\\AppData\\\\Local\\\\Programs\\\\Python\\\\Python310\\\\lib',\n",
       " 'C:\\\\Users\\\\Administrator\\\\AppData\\\\Local\\\\Programs\\\\Python\\\\Python310',\n",
       " 'C:\\\\Users\\\\Administrator\\\\Venv',\n",
       " '',\n",
       " 'C:\\\\Users\\\\Administrator\\\\Venv\\\\lib\\\\site-packages',\n",
       " 'C:\\\\Users\\\\Administrator\\\\Venv\\\\lib\\\\site-packages\\\\win32',\n",
       " 'C:\\\\Users\\\\Administrator\\\\Venv\\\\lib\\\\site-packages\\\\win32\\\\lib',\n",
       " 'C:\\\\Users\\\\Administrator\\\\Venv\\\\lib\\\\site-packages\\\\Pythonwin']"
      ]
     },
     "execution_count": 2,
     "metadata": {},
     "output_type": "execute_result"
    }
   ],
   "source": [
    "# 파일 탐색 경로 목록 확인\n",
    "sys.path"
   ]
  },
  {
   "cell_type": "raw",
   "id": "56bb6453",
   "metadata": {},
   "source": [
    "# 임시 경로 추가: 주피터 노트북을 재구동하면 사라짐\n",
    "sys.path.append(r'C:\\Users\\Administrator\\Documents\\mypath')"
   ]
  },
  {
   "cell_type": "code",
   "execution_count": null,
   "id": "8f381ddd",
   "metadata": {},
   "outputs": [],
   "source": []
  }
 ],
 "metadata": {
  "kernelspec": {
   "display_name": "Python 3",
   "language": "python",
   "name": "python3"
  },
  "language_info": {
   "codemirror_mode": {
    "name": "ipython",
    "version": 3
   },
   "file_extension": ".py",
   "mimetype": "text/x-python",
   "name": "python",
   "nbconvert_exporter": "python",
   "pygments_lexer": "ipython3",
   "version": "3.10.7"
  }
 },
 "nbformat": 4,
 "nbformat_minor": 5
}
