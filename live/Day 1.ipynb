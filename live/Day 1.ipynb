{
 "cells": [
  {
   "cell_type": "code",
   "execution_count": null,
   "id": "814bfb89",
   "metadata": {},
   "outputs": [],
   "source": [
    "import os\n",
    "import joblib\n",
    "import numpy as np\n",
    "import pandas as pd"
   ]
  },
  {
   "cell_type": "raw",
   "id": "f5a9fdd2",
   "metadata": {},
   "source": [
    "!pip install statsmodels"
   ]
  },
  {
   "cell_type": "code",
   "execution_count": null,
   "id": "6aee3691",
   "metadata": {},
   "outputs": [],
   "source": [
    "from scipy import stats\n",
    "from statsmodels import robust"
   ]
  },
  {
   "cell_type": "code",
   "execution_count": null,
   "id": "7ab77849",
   "metadata": {},
   "outputs": [],
   "source": [
    "%precision 3\n",
    "pd.set_option('display.float_format', lambda x: f'{x:.3f}')"
   ]
  },
  {
   "cell_type": "code",
   "execution_count": null,
   "id": "99362ac8",
   "metadata": {},
   "outputs": [],
   "source": [
    "df = pd.read_csv('https://bit.ly/UsedCarsPrice')"
   ]
  },
  {
   "cell_type": "code",
   "execution_count": null,
   "id": "1376b6e1",
   "metadata": {},
   "outputs": [],
   "source": [
    "df.info()"
   ]
  },
  {
   "cell_type": "code",
   "execution_count": null,
   "id": "afddc1a8",
   "metadata": {},
   "outputs": [],
   "source": [
    "df.head()"
   ]
  },
  {
   "cell_type": "code",
   "execution_count": null,
   "id": "9252fa3f",
   "metadata": {},
   "outputs": [],
   "source": [
    "df.columns"
   ]
  },
  {
   "cell_type": "code",
   "execution_count": null,
   "id": "bda3a563",
   "metadata": {},
   "outputs": [],
   "source": [
    "cols = ['MetColor', 'Automatic']"
   ]
  },
  {
   "cell_type": "code",
   "execution_count": null,
   "id": "3ebe5a33",
   "metadata": {},
   "outputs": [],
   "source": [
    "df[cols] = df[cols].astype(str)"
   ]
  },
  {
   "cell_type": "code",
   "execution_count": null,
   "id": "0d810a57",
   "metadata": {},
   "outputs": [],
   "source": [
    "df.dtypes"
   ]
  },
  {
   "cell_type": "code",
   "execution_count": null,
   "id": "f1e56b63",
   "metadata": {},
   "outputs": [],
   "source": [
    "df['Price'].mean()"
   ]
  },
  {
   "cell_type": "code",
   "execution_count": null,
   "id": "09217d94",
   "metadata": {},
   "outputs": [],
   "source": [
    "stats.trim_mean(df['Price'], 0.1)"
   ]
  },
  {
   "cell_type": "code",
   "execution_count": null,
   "id": "9fb93771",
   "metadata": {},
   "outputs": [],
   "source": [
    "df['Price'].median()"
   ]
  },
  {
   "cell_type": "code",
   "execution_count": null,
   "id": "8c3515a5",
   "metadata": {},
   "outputs": [],
   "source": [
    "stats.trim_mean(df['Price'], 0.5)"
   ]
  },
  {
   "cell_type": "code",
   "execution_count": null,
   "id": "f01942de",
   "metadata": {},
   "outputs": [],
   "source": [
    "df['FuelType'].mode()"
   ]
  },
  {
   "cell_type": "code",
   "execution_count": null,
   "id": "6053d81e",
   "metadata": {},
   "outputs": [],
   "source": [
    "df['FuelType'].value_counts()"
   ]
  },
  {
   "cell_type": "code",
   "execution_count": null,
   "id": "3f55c473",
   "metadata": {},
   "outputs": [],
   "source": [
    "df['FuelType'].value_counts().sort_index()"
   ]
  },
  {
   "cell_type": "code",
   "execution_count": null,
   "id": "897eddef",
   "metadata": {},
   "outputs": [],
   "source": [
    "df['FuelType'].value_counts(normalize = True) * 100"
   ]
  },
  {
   "cell_type": "code",
   "execution_count": null,
   "id": "59350b56",
   "metadata": {},
   "outputs": [],
   "source": [
    "df['Price'].quantile(np.linspace(0, 1, 100+1))"
   ]
  },
  {
   "cell_type": "code",
   "execution_count": null,
   "id": "37e5b343",
   "metadata": {},
   "outputs": [],
   "source": [
    "df['Price'].quantile(np.linspace(0, 1, 10+1))"
   ]
  },
  {
   "cell_type": "code",
   "execution_count": null,
   "id": "ab81660c",
   "metadata": {},
   "outputs": [],
   "source": [
    "df['Price'].quantile(np.linspace(0, 1, 4+1))"
   ]
  },
  {
   "cell_type": "code",
   "execution_count": null,
   "id": "a3a7aa85",
   "metadata": {},
   "outputs": [],
   "source": [
    "df['Price'].max() - df['Price'].min()"
   ]
  },
  {
   "cell_type": "code",
   "execution_count": null,
   "id": "7313d5b2",
   "metadata": {},
   "outputs": [],
   "source": [
    "df['Price'].quantile([0, 1])"
   ]
  },
  {
   "cell_type": "code",
   "execution_count": null,
   "id": "109a0dda",
   "metadata": {},
   "outputs": [],
   "source": [
    "df['Price'].quantile([0, 1]).diff()"
   ]
  },
  {
   "cell_type": "code",
   "execution_count": null,
   "id": "737a5b5e",
   "metadata": {},
   "outputs": [],
   "source": [
    "df['Price'].quantile([0, 1]).diff().iloc[-1]"
   ]
  },
  {
   "cell_type": "code",
   "execution_count": null,
   "id": "060b1d93",
   "metadata": {},
   "outputs": [],
   "source": [
    "df['Price'].quantile([0.25, 0.75]).diff().iloc[-1]"
   ]
  },
  {
   "cell_type": "code",
   "execution_count": null,
   "id": "8e1dbec2",
   "metadata": {},
   "outputs": [],
   "source": [
    "df['Price'].var()"
   ]
  },
  {
   "cell_type": "code",
   "execution_count": null,
   "id": "0e1a23d7",
   "metadata": {},
   "outputs": [],
   "source": [
    "df['Price'].var() ** (1/2)"
   ]
  },
  {
   "cell_type": "code",
   "execution_count": null,
   "id": "6b5ae2ab",
   "metadata": {},
   "outputs": [],
   "source": [
    "df['Price'].std()"
   ]
  },
  {
   "cell_type": "code",
   "execution_count": null,
   "id": "36811444",
   "metadata": {},
   "outputs": [],
   "source": [
    "robust.mad(df['Price'])"
   ]
  },
  {
   "cell_type": "code",
   "execution_count": null,
   "id": "c110ce74",
   "metadata": {},
   "outputs": [],
   "source": [
    "df.describe()"
   ]
  },
  {
   "cell_type": "code",
   "execution_count": null,
   "id": "86e5e30d",
   "metadata": {},
   "outputs": [],
   "source": [
    "df.describe(include = object)"
   ]
  },
  {
   "cell_type": "code",
   "execution_count": null,
   "id": "c5a7074b",
   "metadata": {},
   "outputs": [],
   "source": [
    "df.describe(include = int)"
   ]
  },
  {
   "cell_type": "code",
   "execution_count": null,
   "id": "b799a4e7",
   "metadata": {},
   "outputs": [],
   "source": [
    "df.sort_values(by = ['KM']).head()"
   ]
  },
  {
   "cell_type": "code",
   "execution_count": null,
   "id": "a726fbf2",
   "metadata": {},
   "outputs": [],
   "source": [
    "df = df[df['KM'].gt(1)].reset_index(drop = True)"
   ]
  },
  {
   "cell_type": "code",
   "execution_count": null,
   "id": "ceac5c81",
   "metadata": {},
   "outputs": [],
   "source": [
    "df.info()"
   ]
  },
  {
   "cell_type": "code",
   "execution_count": null,
   "id": "b5b025fa",
   "metadata": {},
   "outputs": [],
   "source": [
    "df"
   ]
  },
  {
   "cell_type": "code",
   "execution_count": null,
   "id": "ae6d3e7b",
   "metadata": {},
   "outputs": [],
   "source": [
    "df.loc[1274]"
   ]
  },
  {
   "cell_type": "code",
   "execution_count": null,
   "id": "e31c4d9f",
   "metadata": {},
   "outputs": [],
   "source": [
    "os.getcwd()"
   ]
  },
  {
   "cell_type": "code",
   "execution_count": null,
   "id": "031652e7",
   "metadata": {},
   "outputs": [],
   "source": [
    "os.chdir('../data')"
   ]
  },
  {
   "cell_type": "code",
   "execution_count": null,
   "id": "0c35b5e5",
   "metadata": {},
   "outputs": [],
   "source": [
    "os.listdir()"
   ]
  },
  {
   "cell_type": "code",
   "execution_count": null,
   "id": "158bfa7d",
   "metadata": {},
   "outputs": [],
   "source": [
    "%time df.to_excel('Used_Cars_Price.xlsx', index = False)"
   ]
  },
  {
   "cell_type": "code",
   "execution_count": null,
   "id": "e891a8c4",
   "metadata": {},
   "outputs": [],
   "source": [
    "%time df.to_csv('Used_Cars_Price.csv', index = False)"
   ]
  },
  {
   "cell_type": "code",
   "execution_count": null,
   "id": "e9859bfd",
   "metadata": {},
   "outputs": [],
   "source": [
    "%time joblib.dump(value = df, filename = 'Used_Cars_Price.z')"
   ]
  },
  {
   "cell_type": "code",
   "execution_count": null,
   "id": "0abaca18",
   "metadata": {},
   "outputs": [],
   "source": []
  },
  {
   "cell_type": "code",
   "execution_count": null,
   "id": "679e4c96",
   "metadata": {},
   "outputs": [],
   "source": [
    "import os\n",
    "import joblib\n",
    "import numpy as np\n",
    "import pandas as pd"
   ]
  },
  {
   "cell_type": "code",
   "execution_count": null,
   "id": "be0a7728",
   "metadata": {},
   "outputs": [],
   "source": [
    "import seaborn as sns\n",
    "import matplotlib.pyplot as plt"
   ]
  },
  {
   "cell_type": "code",
   "execution_count": null,
   "id": "06994384",
   "metadata": {},
   "outputs": [],
   "source": [
    "%precision 3\n",
    "pd.set_option('display.float_format', lambda x: f'{x:.3f}')"
   ]
  },
  {
   "cell_type": "raw",
   "id": "e2682044",
   "metadata": {},
   "source": [
    "import matplotlib.font_manager as fm"
   ]
  },
  {
   "cell_type": "raw",
   "id": "ca0d2623",
   "metadata": {},
   "source": [
    "fontList = fm.findSystemFonts(fontext = 'ttf')"
   ]
  },
  {
   "cell_type": "raw",
   "id": "4d0e02d4",
   "metadata": {},
   "source": [
    "fontPath = [font for font in fontList if 'Gowun' in font]"
   ]
  },
  {
   "cell_type": "raw",
   "id": "7e460447",
   "metadata": {},
   "source": [
    "for font in fontPath:\n",
    "    print(fm.FontProperties(fname = font).get_name())"
   ]
  },
  {
   "cell_type": "raw",
   "id": "c6ca9388",
   "metadata": {},
   "source": [
    "plt.rc(group = 'font', family = 'Gowun Dodum', size = 10)\n",
    "plt.rc(group = 'figure', figsize = (4, 4), dpi = 100)\n",
    "plt.rc(group = 'axes', unicode_minus = False)\n",
    "plt.rc(group = 'legend', frameon = True, fc = '1', ec = '0')"
   ]
  },
  {
   "cell_type": "code",
   "execution_count": null,
   "id": "a3ca5c4d",
   "metadata": {},
   "outputs": [],
   "source": [
    "from GraphicSetting import *"
   ]
  },
  {
   "cell_type": "raw",
   "id": "1d058470",
   "metadata": {},
   "source": [
    "!pip install hds-stats"
   ]
  },
  {
   "cell_type": "code",
   "execution_count": null,
   "id": "1d2b0ecd",
   "metadata": {},
   "outputs": [],
   "source": [
    "import hds_stats as hds"
   ]
  },
  {
   "cell_type": "code",
   "execution_count": null,
   "id": "b31d3f5c",
   "metadata": {},
   "outputs": [],
   "source": [
    "os.getcwd()"
   ]
  },
  {
   "cell_type": "code",
   "execution_count": null,
   "id": "02356f15",
   "metadata": {},
   "outputs": [],
   "source": [
    "os.chdir('../data')"
   ]
  },
  {
   "cell_type": "code",
   "execution_count": null,
   "id": "02f4dbd0",
   "metadata": {},
   "outputs": [],
   "source": [
    "os.listdir()"
   ]
  },
  {
   "cell_type": "code",
   "execution_count": null,
   "id": "c1df2866",
   "metadata": {},
   "outputs": [],
   "source": [
    "%time df = pd.read_excel('Used_Cars_Price.xlsx')"
   ]
  },
  {
   "cell_type": "code",
   "execution_count": null,
   "id": "02300a03",
   "metadata": {},
   "outputs": [],
   "source": [
    "df.dtypes"
   ]
  },
  {
   "cell_type": "code",
   "execution_count": null,
   "id": "3c463e9a",
   "metadata": {},
   "outputs": [],
   "source": [
    "df = joblib.load('Used_Cars_Price.z')"
   ]
  },
  {
   "cell_type": "code",
   "execution_count": null,
   "id": "00d34b3f",
   "metadata": {},
   "outputs": [],
   "source": [
    "df.dtypes"
   ]
  },
  {
   "cell_type": "code",
   "execution_count": null,
   "id": "452f4d51",
   "metadata": {},
   "outputs": [],
   "source": [
    "df['Price'].min()"
   ]
  },
  {
   "cell_type": "code",
   "execution_count": null,
   "id": "09c8a5f7",
   "metadata": {},
   "outputs": [],
   "source": [
    "df['Price'].max()"
   ]
  },
  {
   "cell_type": "code",
   "execution_count": null,
   "id": "16eb9721",
   "metadata": {},
   "outputs": [],
   "source": [
    "df['Price'].describe()[['min', 'max']]"
   ]
  },
  {
   "cell_type": "raw",
   "id": "64c04b71",
   "metadata": {},
   "source": [
    "sen = '나는 배고프다. '"
   ]
  },
  {
   "cell_type": "raw",
   "id": "dff22840",
   "metadata": {},
   "source": [
    "sen"
   ]
  },
  {
   "cell_type": "raw",
   "id": "2bd198ac",
   "metadata": {},
   "source": [
    "print(sen)"
   ]
  },
  {
   "cell_type": "code",
   "execution_count": null,
   "id": "b27702a5",
   "metadata": {},
   "outputs": [],
   "source": [
    "sns.histplot(data = df, x = 'Price', \n",
    "             binrange = (4000, 16000), binwidth = 1000, \n",
    "             fc = 'orange', ec = '0')\n",
    "plt.title(label = '중고차 가격의 분포');"
   ]
  },
  {
   "cell_type": "code",
   "execution_count": null,
   "id": "289edc9e",
   "metadata": {},
   "outputs": [],
   "source": [
    "sns.kdeplot(data = df, x = 'Price', color = 'black', lw = 0.5, fill = True)\n",
    "plt.axvline(x = df['Price'].mean(), color = 'red', ls = '-')\n",
    "plt.axvline(x = df['Price'].median(), color = 'red', ls = '--');"
   ]
  },
  {
   "cell_type": "code",
   "execution_count": null,
   "id": "91bffbad",
   "metadata": {},
   "outputs": [],
   "source": [
    "hds.plot.regline(data = df, x = 'Age', y = 'Price')"
   ]
  },
  {
   "cell_type": "code",
   "execution_count": null,
   "id": "b019ad0c",
   "metadata": {},
   "outputs": [],
   "source": [
    "hds.plot.regline(data = df, x = 'KM', y = 'Price')"
   ]
  },
  {
   "cell_type": "code",
   "execution_count": null,
   "id": "e668659c",
   "metadata": {},
   "outputs": [],
   "source": [
    "hds.plot.regline(data = df, x = 'HP', y = 'Price')"
   ]
  },
  {
   "cell_type": "code",
   "execution_count": null,
   "id": "10741f12",
   "metadata": {},
   "outputs": [],
   "source": [
    "hds.plot.regline(data = df, x = 'CC', y = 'Price')"
   ]
  },
  {
   "cell_type": "code",
   "execution_count": null,
   "id": "987edbc2",
   "metadata": {},
   "outputs": [],
   "source": [
    "hds.plot.regline(data = df, x = 'Doors', y = 'Price')"
   ]
  },
  {
   "cell_type": "code",
   "execution_count": null,
   "id": "c8c9ec60",
   "metadata": {},
   "outputs": [],
   "source": [
    "df['Doors'].value_counts().sort_index()"
   ]
  },
  {
   "cell_type": "code",
   "execution_count": null,
   "id": "8a8de8d2",
   "metadata": {},
   "outputs": [],
   "source": [
    "hds.plot.regline(data = df, x = 'Weight', y = 'Price')\n",
    "plt.axvline(x = 1250, color = 'red', lw = 0.4, ls = '--');"
   ]
  },
  {
   "cell_type": "code",
   "execution_count": null,
   "id": "a10cebc2",
   "metadata": {},
   "outputs": [],
   "source": [
    "hds.plot.box_group(data = df, x = 'FuelType', y = 'Price', pal = 'Pastel1')"
   ]
  },
  {
   "cell_type": "code",
   "execution_count": null,
   "id": "c852244b",
   "metadata": {},
   "outputs": [],
   "source": [
    "hds.plot.box_group(data = df, x = 'MetColor', y = 'Price', pal = 'Pastel1')"
   ]
  },
  {
   "cell_type": "code",
   "execution_count": null,
   "id": "c63ebaf1",
   "metadata": {},
   "outputs": [],
   "source": [
    "hds.plot.box_group(data = df, x = 'Automatic', y = 'Price', pal = 'Pastel1')"
   ]
  },
  {
   "cell_type": "code",
   "execution_count": null,
   "id": "b05cc7c3",
   "metadata": {},
   "outputs": [],
   "source": [
    "df = df[df['Doors'].ne(2) & df['Weight'].le(1250)]"
   ]
  },
  {
   "cell_type": "code",
   "execution_count": null,
   "id": "1d7a3347",
   "metadata": {},
   "outputs": [],
   "source": [
    "df = df.reset_index(drop = True)"
   ]
  },
  {
   "cell_type": "code",
   "execution_count": null,
   "id": "9ce77ab6",
   "metadata": {},
   "outputs": [],
   "source": [
    "df.shape[0]"
   ]
  },
  {
   "cell_type": "code",
   "execution_count": null,
   "id": "b1d53c6c",
   "metadata": {},
   "outputs": [],
   "source": [
    "joblib.dump(value = df, filename = 'Used_Cars_Price.z')"
   ]
  },
  {
   "cell_type": "code",
   "execution_count": null,
   "id": "6f8e4a2e",
   "metadata": {},
   "outputs": [],
   "source": [
    "df['Doors'].eq(3).any()"
   ]
  },
  {
   "cell_type": "code",
   "execution_count": null,
   "id": "afd20e1b",
   "metadata": {},
   "outputs": [],
   "source": [
    "df['Doors'].eq(3).all()"
   ]
  },
  {
   "cell_type": "code",
   "execution_count": null,
   "id": "faf3c4ce",
   "metadata": {},
   "outputs": [],
   "source": [
    "(df['Doors'] == 3) & (df['Weight'] <= 1000)"
   ]
  },
  {
   "cell_type": "code",
   "execution_count": null,
   "id": "e0361785",
   "metadata": {},
   "outputs": [],
   "source": [
    "plt.rcParams['font.family'] = 'Gowun Dodum'\n",
    "plt.rcParams['font.sans-serif'] = 'Arial'\n",
    "\n",
    "sns.histplot(data = df, x = 'Price', \n",
    "             binrange = (4000, 16000), binwidth = 1000, \n",
    "             fc = 'orange', ec = '0')\n",
    "plt.title(label = '중고차 Price의 분포')\n",
    "plt.xlabel(xlabel = 'Price');"
   ]
  },
  {
   "cell_type": "code",
   "execution_count": null,
   "id": "66062658",
   "metadata": {},
   "outputs": [],
   "source": []
  },
  {
   "cell_type": "code",
   "execution_count": null,
   "id": "c8d604dd",
   "metadata": {},
   "outputs": [],
   "source": []
  },
  {
   "cell_type": "code",
   "execution_count": 1,
   "id": "53616aee",
   "metadata": {},
   "outputs": [],
   "source": [
    "import os\n",
    "import joblib\n",
    "import numpy as np\n",
    "import pandas as pd"
   ]
  },
  {
   "cell_type": "code",
   "execution_count": 2,
   "id": "1ba2387e",
   "metadata": {},
   "outputs": [],
   "source": [
    "from scipy import stats\n",
    "from statsmodels import robust"
   ]
  },
  {
   "cell_type": "code",
   "execution_count": 3,
   "id": "202803f7",
   "metadata": {},
   "outputs": [],
   "source": [
    "%precision 3\n",
    "pd.set_option('display.float_format', lambda x: f'{x:.3f}')"
   ]
  },
  {
   "cell_type": "code",
   "execution_count": 4,
   "id": "b3e21750",
   "metadata": {},
   "outputs": [],
   "source": [
    "np.random.seed(seed = 1234)"
   ]
  },
  {
   "cell_type": "code",
   "execution_count": 5,
   "id": "113c0456",
   "metadata": {},
   "outputs": [],
   "source": [
    "heights = stats.norm.rvs(loc = 175, scale = 5, size = 500000)"
   ]
  },
  {
   "cell_type": "code",
   "execution_count": 6,
   "id": "523ffc99",
   "metadata": {},
   "outputs": [
    {
     "data": {
      "text/plain": [
       "174.996"
      ]
     },
     "execution_count": 6,
     "metadata": {},
     "output_type": "execute_result"
    }
   ],
   "source": [
    "heights.mean()"
   ]
  },
  {
   "cell_type": "code",
   "execution_count": 7,
   "id": "c48a8284",
   "metadata": {},
   "outputs": [
    {
     "data": {
      "text/plain": [
       "5.003"
      ]
     },
     "execution_count": 7,
     "metadata": {},
     "output_type": "execute_result"
    }
   ],
   "source": [
    "heights.std()"
   ]
  },
  {
   "cell_type": "code",
   "execution_count": 8,
   "id": "1e68d4d4",
   "metadata": {},
   "outputs": [],
   "source": [
    "np.random.seed(seed = 1234)"
   ]
  },
  {
   "cell_type": "code",
   "execution_count": 9,
   "id": "16773ba5",
   "metadata": {},
   "outputs": [],
   "source": [
    "heights = stats.norm.rvs(loc = 175, scale = 5, size = 5000)"
   ]
  },
  {
   "cell_type": "code",
   "execution_count": 10,
   "id": "d8ff5991",
   "metadata": {},
   "outputs": [
    {
     "data": {
      "text/plain": [
       "175.121"
      ]
     },
     "execution_count": 10,
     "metadata": {},
     "output_type": "execute_result"
    }
   ],
   "source": [
    "heights.mean()"
   ]
  },
  {
   "cell_type": "code",
   "execution_count": 11,
   "id": "9b51eee8",
   "metadata": {},
   "outputs": [
    {
     "data": {
      "text/plain": [
       "4.959"
      ]
     },
     "execution_count": 11,
     "metadata": {},
     "output_type": "execute_result"
    }
   ],
   "source": [
    "heights.std()"
   ]
  },
  {
   "cell_type": "code",
   "execution_count": 12,
   "id": "427d485e",
   "metadata": {},
   "outputs": [
    {
     "data": {
      "text/plain": [
       "0.027"
      ]
     },
     "execution_count": 12,
     "metadata": {},
     "output_type": "execute_result"
    }
   ],
   "source": [
    "stats.norm.pdf(x = 175, loc = 175, scale = 15)"
   ]
  },
  {
   "cell_type": "code",
   "execution_count": 13,
   "id": "689c4889",
   "metadata": {},
   "outputs": [
    {
     "data": {
      "text/plain": [
       "0.040"
      ]
     },
     "execution_count": 13,
     "metadata": {},
     "output_type": "execute_result"
    }
   ],
   "source": [
    "stats.norm.pdf(x = 175, loc = 175, scale = 10)"
   ]
  },
  {
   "cell_type": "code",
   "execution_count": 14,
   "id": "526b1f76",
   "metadata": {},
   "outputs": [
    {
     "data": {
      "text/plain": [
       "0.080"
      ]
     },
     "execution_count": 14,
     "metadata": {},
     "output_type": "execute_result"
    }
   ],
   "source": [
    "stats.norm.pdf(x = 175, loc = 175, scale = 5)"
   ]
  },
  {
   "cell_type": "code",
   "execution_count": 15,
   "id": "b6eaff97",
   "metadata": {},
   "outputs": [],
   "source": [
    "from GraphicSetting import *"
   ]
  },
  {
   "cell_type": "code",
   "execution_count": 16,
   "id": "fde4e886",
   "metadata": {
    "collapsed": true
   },
   "outputs": [
    {
     "data": {
      "text/plain": [
       "array([130.   , 130.909, 131.818, 132.727, 133.636, 134.545, 135.455,\n",
       "       136.364, 137.273, 138.182, 139.091, 140.   , 140.909, 141.818,\n",
       "       142.727, 143.636, 144.545, 145.455, 146.364, 147.273, 148.182,\n",
       "       149.091, 150.   , 150.909, 151.818, 152.727, 153.636, 154.545,\n",
       "       155.455, 156.364, 157.273, 158.182, 159.091, 160.   , 160.909,\n",
       "       161.818, 162.727, 163.636, 164.545, 165.455, 166.364, 167.273,\n",
       "       168.182, 169.091, 170.   , 170.909, 171.818, 172.727, 173.636,\n",
       "       174.545, 175.455, 176.364, 177.273, 178.182, 179.091, 180.   ,\n",
       "       180.909, 181.818, 182.727, 183.636, 184.545, 185.455, 186.364,\n",
       "       187.273, 188.182, 189.091, 190.   , 190.909, 191.818, 192.727,\n",
       "       193.636, 194.545, 195.455, 196.364, 197.273, 198.182, 199.091,\n",
       "       200.   , 200.909, 201.818, 202.727, 203.636, 204.545, 205.455,\n",
       "       206.364, 207.273, 208.182, 209.091, 210.   , 210.909, 211.818,\n",
       "       212.727, 213.636, 214.545, 215.455, 216.364, 217.273, 218.182,\n",
       "       219.091, 220.   ])"
      ]
     },
     "execution_count": 16,
     "metadata": {},
     "output_type": "execute_result"
    }
   ],
   "source": [
    "x = np.linspace(130, 220, 100)\n",
    "x"
   ]
  },
  {
   "cell_type": "code",
   "execution_count": 17,
   "id": "4bd937a0",
   "metadata": {},
   "outputs": [],
   "source": [
    "y1 = stats.norm.pdf(x = x, loc = 175, scale = 15)\n",
    "y2 = stats.norm.pdf(x = x, loc = 175, scale = 10)\n",
    "y3 = stats.norm.pdf(x = x, loc = 175, scale = 5)"
   ]
  },
  {
   "cell_type": "code",
   "execution_count": 19,
   "id": "ac1848fb",
   "metadata": {},
   "outputs": [
    {
     "data": {
      "image/png": "[encoded data removed]",
      "text/plain": [
       "<Figure size 400x400 with 1 Axes>"
      ]
     },
     "metadata": {},
     "output_type": "display_data"
    }
   ],
   "source": [
    "sns.lineplot(x = x, y = y1, label = 'Scale: 15')\n",
    "sns.lineplot(x = x, y = y2, label = 'Scale: 10')\n",
    "sns.lineplot(x = x, y = y3, label = 'Scale: 5')\n",
    "plt.axvline(x = 175, color = '0');"
   ]
  },
  {
   "cell_type": "code",
   "execution_count": 20,
   "id": "4fc71a74",
   "metadata": {},
   "outputs": [
    {
     "data": {
      "text/plain": [
       "0.748"
      ]
     },
     "execution_count": 20,
     "metadata": {},
     "output_type": "execute_result"
    }
   ],
   "source": [
    "stats.norm.cdf(x = 185, loc = 175, scale = 15)"
   ]
  },
  {
   "cell_type": "code",
   "execution_count": 21,
   "id": "cffbf1d2",
   "metadata": {},
   "outputs": [
    {
     "data": {
      "text/plain": [
       "0.841"
      ]
     },
     "execution_count": 21,
     "metadata": {},
     "output_type": "execute_result"
    }
   ],
   "source": [
    "stats.norm.cdf(x = 185, loc = 175, scale = 10)"
   ]
  },
  {
   "cell_type": "code",
   "execution_count": 22,
   "id": "7eac8dab",
   "metadata": {},
   "outputs": [
    {
     "data": {
      "text/plain": [
       "0.977"
      ]
     },
     "execution_count": 22,
     "metadata": {},
     "output_type": "execute_result"
    }
   ],
   "source": [
    "stats.norm.cdf(x = 185, loc = 175, scale = 5)"
   ]
  },
  {
   "cell_type": "code",
   "execution_count": 23,
   "id": "30ea01e4",
   "metadata": {},
   "outputs": [
    {
     "data": {
      "text/plain": [
       "0.023"
      ]
     },
     "execution_count": 23,
     "metadata": {},
     "output_type": "execute_result"
    }
   ],
   "source": [
    "1 - stats.norm.cdf(x = 185, loc = 175, scale = 5)"
   ]
  },
  {
   "cell_type": "code",
   "execution_count": 24,
   "id": "49b6f0a8",
   "metadata": {},
   "outputs": [
    {
     "data": {
      "text/plain": [
       "array([0.977, 0.999])"
      ]
     },
     "execution_count": 24,
     "metadata": {},
     "output_type": "execute_result"
    }
   ],
   "source": [
    "stats.norm.cdf(x = [185, 190], loc = 175, scale = 5)"
   ]
  },
  {
   "cell_type": "code",
   "execution_count": 25,
   "id": "f3f1dad4",
   "metadata": {},
   "outputs": [],
   "source": [
    "cdfs = stats.norm.cdf(x = [185, 190], loc = 175, scale = 5)"
   ]
  },
  {
   "cell_type": "code",
   "execution_count": 26,
   "id": "35f70896",
   "metadata": {},
   "outputs": [
    {
     "data": {
      "text/plain": [
       "array([0.021])"
      ]
     },
     "execution_count": 26,
     "metadata": {},
     "output_type": "execute_result"
    }
   ],
   "source": [
    "np.diff(cdfs)"
   ]
  },
  {
   "cell_type": "code",
   "execution_count": 29,
   "id": "90b937b2",
   "metadata": {},
   "outputs": [
    {
     "data": {
      "text/plain": [
       "0.021"
      ]
     },
     "execution_count": 29,
     "metadata": {},
     "output_type": "execute_result"
    }
   ],
   "source": [
    "pd.Series(cdfs).diff().iloc[-1]"
   ]
  },
  {
   "cell_type": "code",
   "execution_count": 30,
   "id": "d174ca73",
   "metadata": {},
   "outputs": [
    {
     "data": {
      "text/plain": [
       "array([0.977, 1.   ])"
      ]
     },
     "execution_count": 30,
     "metadata": {},
     "output_type": "execute_result"
    }
   ],
   "source": [
    "stats.norm.cdf(x = [4, 5], loc = 3, scale = 0.5)"
   ]
  },
  {
   "cell_type": "code",
   "execution_count": 31,
   "id": "e65999af",
   "metadata": {},
   "outputs": [
    {
     "data": {
      "text/plain": [
       "185.023"
      ]
     },
     "execution_count": 31,
     "metadata": {},
     "output_type": "execute_result"
    }
   ],
   "source": [
    "stats.norm.ppf(q = 0.748, loc = 175, scale = 15)"
   ]
  },
  {
   "cell_type": "code",
   "execution_count": 32,
   "id": "0f6bb3c7",
   "metadata": {},
   "outputs": [
    {
     "data": {
      "text/plain": [
       "184.986"
      ]
     },
     "execution_count": 32,
     "metadata": {},
     "output_type": "execute_result"
    }
   ],
   "source": [
    "stats.norm.ppf(q = 0.841, loc = 175, scale = 10)"
   ]
  },
  {
   "cell_type": "code",
   "execution_count": 33,
   "id": "b887eb49",
   "metadata": {},
   "outputs": [
    {
     "data": {
      "text/plain": [
       "184.977"
      ]
     },
     "execution_count": 33,
     "metadata": {},
     "output_type": "execute_result"
    }
   ],
   "source": [
    "stats.norm.ppf(q = 0.977, loc = 175, scale = 5)"
   ]
  },
  {
   "cell_type": "code",
   "execution_count": 34,
   "id": "2c931202",
   "metadata": {},
   "outputs": [
    {
     "data": {
      "text/plain": [
       "186.632"
      ]
     },
     "execution_count": 34,
     "metadata": {},
     "output_type": "execute_result"
    }
   ],
   "source": [
    "stats.norm.ppf(q = 0.99, loc = 175, scale = 5)"
   ]
  },
  {
   "cell_type": "code",
   "execution_count": 35,
   "id": "f3b5a97b",
   "metadata": {},
   "outputs": [
    {
     "data": {
      "text/plain": [
       "183.224"
      ]
     },
     "execution_count": 35,
     "metadata": {},
     "output_type": "execute_result"
    }
   ],
   "source": [
    "stats.norm.ppf(q = 0.95, loc = 175, scale = 5)"
   ]
  },
  {
   "cell_type": "code",
   "execution_count": 36,
   "id": "334d827e",
   "metadata": {},
   "outputs": [
    {
     "data": {
      "text/plain": [
       "-0.037"
      ]
     },
     "execution_count": 36,
     "metadata": {},
     "output_type": "execute_result"
    }
   ],
   "source": [
    "stats.skew(heights)"
   ]
  },
  {
   "cell_type": "code",
   "execution_count": 37,
   "id": "e995bef0",
   "metadata": {},
   "outputs": [
    {
     "data": {
      "text/plain": [
       "-0.071"
      ]
     },
     "execution_count": 37,
     "metadata": {},
     "output_type": "execute_result"
    }
   ],
   "source": [
    "stats.kurtosis(heights)"
   ]
  },
  {
   "cell_type": "code",
   "execution_count": 38,
   "id": "6f798848",
   "metadata": {},
   "outputs": [
    {
     "data": {
      "text/plain": [
       "ShapiroResult(statistic=0.9995919466018677, pvalue=0.396047443151474)"
      ]
     },
     "execution_count": 38,
     "metadata": {},
     "output_type": "execute_result"
    }
   ],
   "source": [
    "stats.shapiro(heights)"
   ]
  },
  {
   "cell_type": "code",
   "execution_count": 39,
   "id": "11838540",
   "metadata": {},
   "outputs": [],
   "source": [
    "np.random.seed(seed = 1234)"
   ]
  },
  {
   "cell_type": "code",
   "execution_count": 40,
   "id": "9cee2e2e",
   "metadata": {},
   "outputs": [],
   "source": [
    "heights = stats.norm.rvs(loc = 175, scale = 5, size = 10000)"
   ]
  },
  {
   "cell_type": "code",
   "execution_count": 41,
   "id": "267867aa",
   "metadata": {},
   "outputs": [
    {
     "name": "stderr",
     "output_type": "stream",
     "text": [
      "C:\\Users\\hdsce\\ve311\\Lib\\site-packages\\scipy\\stats\\_morestats.py:1816: UserWarning: p-value may not be accurate for N > 5000.\n",
      "  warnings.warn(\"p-value may not be accurate for N > 5000.\")\n"
     ]
    },
    {
     "data": {
      "text/plain": [
       "ShapiroResult(statistic=0.9996193051338196, pvalue=0.04346244037151337)"
      ]
     },
     "execution_count": 41,
     "metadata": {},
     "output_type": "execute_result"
    }
   ],
   "source": [
    "stats.shapiro(heights)"
   ]
  },
  {
   "cell_type": "code",
   "execution_count": 42,
   "id": "7e3fd552",
   "metadata": {},
   "outputs": [
    {
     "data": {
      "text/plain": [
       "AndersonResult(statistic=0.35265258232357155, critical_values=array([0.576, 0.656, 0.787, 0.918, 1.092]), significance_level=array([15. , 10. ,  5. ,  2.5,  1. ]), fit_result=  params: FitParams(loc=175.08063230023598, scale=4.9761483416071846)\n",
       " success: True\n",
       " message: '`anderson` successfully fit the distribution to the data.')"
      ]
     },
     "execution_count": 42,
     "metadata": {},
     "output_type": "execute_result"
    }
   ],
   "source": [
    "stats.anderson(heights)"
   ]
  },
  {
   "cell_type": "code",
   "execution_count": 43,
   "id": "7477ebd1",
   "metadata": {},
   "outputs": [],
   "source": [
    "def scale(x, loc, scale):\n",
    "    return (x - loc) / scale"
   ]
  },
  {
   "cell_type": "code",
   "execution_count": 44,
   "id": "c5001424",
   "metadata": {},
   "outputs": [
    {
     "data": {
      "text/plain": [
       "2.000"
      ]
     },
     "execution_count": 44,
     "metadata": {},
     "output_type": "execute_result"
    }
   ],
   "source": [
    "scale(x = 185, loc = 175, scale = 5)"
   ]
  },
  {
   "cell_type": "code",
   "execution_count": 47,
   "id": "925038d6",
   "metadata": {},
   "outputs": [],
   "source": [
    "scaled = scale(x = heights, loc = 175, scale = 5)"
   ]
  },
  {
   "cell_type": "raw",
   "id": "0082947c",
   "metadata": {},
   "source": [
    "stats.zscore(heights)"
   ]
  },
  {
   "cell_type": "raw",
   "id": "28ac3080",
   "metadata": {},
   "source": [
    "(scaled > 3) | (scaled < -3)"
   ]
  },
  {
   "cell_type": "raw",
   "id": "1e1137d6",
   "metadata": {},
   "source": [
    "np.abs(scaled)"
   ]
  },
  {
   "cell_type": "raw",
   "id": "361c310f",
   "metadata": {},
   "source": [
    "np.abs(scaled) > 3"
   ]
  },
  {
   "cell_type": "code",
   "execution_count": 53,
   "id": "56c07a0e",
   "metadata": {},
   "outputs": [],
   "source": [
    "locs = np.where(np.abs(scaled) > 3)"
   ]
  },
  {
   "cell_type": "code",
   "execution_count": 54,
   "id": "3ce644b8",
   "metadata": {},
   "outputs": [
    {
     "data": {
      "text/plain": [
       "array([157.182, 190.628, 190.548, 155.596, 158.613, 191.103, 158.832,\n",
       "       157.826, 159.918, 159.246, 190.006, 158.679, 157.003, 158.681,\n",
       "       159.258, 191.439, 158.343, 155.707, 190.188, 159.739])"
      ]
     },
     "execution_count": 54,
     "metadata": {},
     "output_type": "execute_result"
    }
   ],
   "source": [
    "heights[locs]"
   ]
  },
  {
   "cell_type": "code",
   "execution_count": 55,
   "id": "6dfbccf1",
   "metadata": {},
   "outputs": [],
   "source": [
    "heights = pd.Series(heights)"
   ]
  },
  {
   "cell_type": "code",
   "execution_count": 60,
   "id": "34e79c81",
   "metadata": {},
   "outputs": [
    {
     "data": {
      "image/png": "[encoded data removed]",
      "text/plain": [
       "<Figure size 1200x400 with 1 Axes>"
      ]
     },
     "metadata": {},
     "output_type": "display_data"
    }
   ],
   "source": [
    "plt.figure(figsize = (12, 4))\n",
    "sns.scatterplot(x = heights.index, y = heights.values, \n",
    "                color = '0.8', s = 15, alpha = 0.2)\n",
    "sns.scatterplot(x = heights.iloc[locs].index, y = heights.iloc[locs].values, \n",
    "                color = 'red')\n",
    "plt.axhline(y = 175, color = '0', lw = 0.5, ls = '-')\n",
    "plt.axhline(y = 190, color = '0', lw = 0.5, ls = '--')\n",
    "plt.axhline(y = 160, color = '0', lw = 0.5, ls = '--');"
   ]
  },
  {
   "cell_type": "code",
   "execution_count": null,
   "id": "77f7a914",
   "metadata": {},
   "outputs": [],
   "source": []
  }
 ],
 "metadata": {
  "kernelspec": {
   "display_name": "Python 3 (ipykernel)",
   "language": "python",
   "name": "python3"
  },
  "language_info": {
   "codemirror_mode": {
    "name": "ipython",
    "version": 3
   },
   "file_extension": ".py",
   "mimetype": "text/x-python",
   "name": "python",
   "nbconvert_exporter": "python",
   "pygments_lexer": "ipython3",
   "version": "3.11.3"
  }
 },
 "nbformat": 4,
 "nbformat_minor": 5
}
