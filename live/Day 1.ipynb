{
 "cells": [
  {
   "cell_type": "raw",
   "id": "d422bda6",
   "metadata": {},
   "source": [
    "!pip install joblib scipy statsmodels"
   ]
  },
  {
   "cell_type": "code",
   "execution_count": null,
   "id": "f1cd1864",
   "metadata": {},
   "outputs": [],
   "source": [
    "import os\n",
    "import joblib\n",
    "import numpy as np\n",
    "import pandas as pd\n",
    "from scipy import stats\n",
    "from statsmodels import robust"
   ]
  },
  {
   "cell_type": "code",
   "execution_count": null,
   "id": "3a1ae6c4",
   "metadata": {},
   "outputs": [],
   "source": [
    "df = pd.read_csv('https://bit.ly/UsedCarsPrice')"
   ]
  },
  {
   "cell_type": "code",
   "execution_count": null,
   "id": "168eb014",
   "metadata": {},
   "outputs": [],
   "source": [
    "df.info()"
   ]
  },
  {
   "cell_type": "code",
   "execution_count": null,
   "id": "d7319f60",
   "metadata": {},
   "outputs": [],
   "source": [
    "df.head()"
   ]
  },
  {
   "cell_type": "code",
   "execution_count": null,
   "id": "4088c030",
   "metadata": {},
   "outputs": [],
   "source": [
    "df.columns"
   ]
  },
  {
   "cell_type": "code",
   "execution_count": null,
   "id": "ba46fc08",
   "metadata": {},
   "outputs": [],
   "source": [
    "cols = ['MetColor', 'Automatic']"
   ]
  },
  {
   "cell_type": "code",
   "execution_count": null,
   "id": "9cb23eec",
   "metadata": {},
   "outputs": [],
   "source": [
    "df[cols] = df[cols].astype(str)"
   ]
  },
  {
   "cell_type": "code",
   "execution_count": null,
   "id": "9779f323",
   "metadata": {},
   "outputs": [],
   "source": [
    "df.dtypes"
   ]
  },
  {
   "cell_type": "code",
   "execution_count": null,
   "id": "c9473a42",
   "metadata": {},
   "outputs": [],
   "source": [
    "df['Price'].mean()"
   ]
  },
  {
   "cell_type": "code",
   "execution_count": null,
   "id": "249db724",
   "metadata": {},
   "outputs": [],
   "source": [
    "stats.trim_mean(df['Price'], 0.1)"
   ]
  },
  {
   "cell_type": "code",
   "execution_count": null,
   "id": "1294ce15",
   "metadata": {},
   "outputs": [],
   "source": [
    "df['Price'].median()"
   ]
  },
  {
   "cell_type": "code",
   "execution_count": null,
   "id": "1587489d",
   "metadata": {},
   "outputs": [],
   "source": [
    "df['FuelType'].mode()"
   ]
  },
  {
   "cell_type": "code",
   "execution_count": null,
   "id": "c3e2550a",
   "metadata": {},
   "outputs": [],
   "source": [
    "df['FuelType'].value_counts()"
   ]
  },
  {
   "cell_type": "code",
   "execution_count": null,
   "id": "29051b07",
   "metadata": {},
   "outputs": [],
   "source": [
    "df['FuelType'].value_counts().sort_index()"
   ]
  },
  {
   "cell_type": "code",
   "execution_count": null,
   "id": "22479a0c",
   "metadata": {},
   "outputs": [],
   "source": [
    "df['FuelType'].value_counts(normalize = True) * 100"
   ]
  },
  {
   "cell_type": "code",
   "execution_count": null,
   "id": "f9b5ad0f",
   "metadata": {},
   "outputs": [],
   "source": [
    "df['Price'].quantile(q = np.linspace(0, 1, 100+1))"
   ]
  },
  {
   "cell_type": "code",
   "execution_count": null,
   "id": "aa1c7ff4",
   "metadata": {},
   "outputs": [],
   "source": [
    "df['Price'].quantile(q = np.linspace(0, 1, 10+1))"
   ]
  },
  {
   "cell_type": "code",
   "execution_count": null,
   "id": "cd3e6178",
   "metadata": {},
   "outputs": [],
   "source": [
    "df['Price'].quantile(q = np.linspace(0, 1, 4+1))"
   ]
  },
  {
   "cell_type": "code",
   "execution_count": null,
   "id": "4d0da708",
   "metadata": {},
   "outputs": [],
   "source": [
    "df['Price'].max() - df['Price'].min()"
   ]
  },
  {
   "cell_type": "code",
   "execution_count": null,
   "id": "95a31c2d",
   "metadata": {},
   "outputs": [],
   "source": [
    "df['Price'].quantile(q = [0, 1])"
   ]
  },
  {
   "cell_type": "code",
   "execution_count": null,
   "id": "afd700ff",
   "metadata": {},
   "outputs": [],
   "source": [
    "df['Price'].quantile(q = [0, 1]).diff().iloc[-1]"
   ]
  },
  {
   "cell_type": "code",
   "execution_count": null,
   "id": "d6b79839",
   "metadata": {},
   "outputs": [],
   "source": [
    "df['Price'].quantile(q = [0.25, 0.75]).diff().iloc[-1]"
   ]
  },
  {
   "cell_type": "code",
   "execution_count": null,
   "id": "cc427e11",
   "metadata": {},
   "outputs": [],
   "source": [
    "df['Price'].var()"
   ]
  },
  {
   "cell_type": "code",
   "execution_count": null,
   "id": "3682916d",
   "metadata": {},
   "outputs": [],
   "source": [
    "df['Price'].var() ** (1/2)"
   ]
  },
  {
   "cell_type": "code",
   "execution_count": null,
   "id": "c9a541a3",
   "metadata": {},
   "outputs": [],
   "source": [
    "df['Price'].std()"
   ]
  },
  {
   "cell_type": "code",
   "execution_count": null,
   "id": "931175f0",
   "metadata": {},
   "outputs": [],
   "source": [
    "robust.mad(df['Price'])"
   ]
  },
  {
   "cell_type": "code",
   "execution_count": null,
   "id": "9d9df984",
   "metadata": {},
   "outputs": [],
   "source": [
    "df.describe().round(2)"
   ]
  },
  {
   "cell_type": "code",
   "execution_count": null,
   "id": "f24f2f51",
   "metadata": {},
   "outputs": [],
   "source": [
    "df.describe(include = object)"
   ]
  },
  {
   "cell_type": "code",
   "execution_count": null,
   "id": "8b895042",
   "metadata": {},
   "outputs": [],
   "source": [
    "df.sort_values(by = 'KM').head()"
   ]
  },
  {
   "cell_type": "code",
   "execution_count": null,
   "id": "b867b6b1",
   "metadata": {},
   "outputs": [],
   "source": [
    "df = df[df['KM'].gt(1)]"
   ]
  },
  {
   "cell_type": "code",
   "execution_count": null,
   "id": "55a0df0b",
   "metadata": {},
   "outputs": [],
   "source": [
    "df.iloc[430:436]"
   ]
  },
  {
   "cell_type": "code",
   "execution_count": null,
   "id": "dc9f3b5d",
   "metadata": {},
   "outputs": [],
   "source": [
    "df = df.reset_index(drop = True)"
   ]
  },
  {
   "cell_type": "code",
   "execution_count": null,
   "id": "936eb829",
   "metadata": {},
   "outputs": [],
   "source": [
    "df.shape[0]"
   ]
  },
  {
   "cell_type": "code",
   "execution_count": null,
   "id": "4e481106",
   "metadata": {},
   "outputs": [],
   "source": [
    "os.getcwd()"
   ]
  },
  {
   "cell_type": "code",
   "execution_count": null,
   "id": "6e6ee71e",
   "metadata": {},
   "outputs": [],
   "source": [
    "folder_path = '../data'"
   ]
  },
  {
   "cell_type": "code",
   "execution_count": null,
   "id": "c6c749fd",
   "metadata": {},
   "outputs": [],
   "source": [
    "not os.path.exists(folder_path)"
   ]
  },
  {
   "cell_type": "code",
   "execution_count": null,
   "id": "b69b297e",
   "metadata": {},
   "outputs": [],
   "source": [
    "if not os.path.exists(folder_path):\n",
    "    os.mkdir(folder_path)"
   ]
  },
  {
   "cell_type": "code",
   "execution_count": null,
   "id": "0845cf5e",
   "metadata": {},
   "outputs": [],
   "source": [
    "os.chdir(folder_path)"
   ]
  },
  {
   "cell_type": "code",
   "execution_count": null,
   "id": "ea7a9458",
   "metadata": {},
   "outputs": [],
   "source": [
    "df.to_excel('Used_Cars_Price.xlsx', index = None)"
   ]
  },
  {
   "cell_type": "code",
   "execution_count": null,
   "id": "ca47310f",
   "metadata": {},
   "outputs": [],
   "source": [
    "df.to_csv('Used_Cars_Price.csv', index = None)"
   ]
  },
  {
   "cell_type": "code",
   "execution_count": null,
   "id": "0197a35d",
   "metadata": {},
   "outputs": [],
   "source": [
    "joblib.dump(value = df, filename = 'Used_Cars_Price.z')"
   ]
  },
  {
   "cell_type": "code",
   "execution_count": null,
   "id": "1ea0ad10",
   "metadata": {},
   "outputs": [],
   "source": [
    "os.listdir()"
   ]
  },
  {
   "cell_type": "code",
   "execution_count": null,
   "id": "0a2850a0",
   "metadata": {},
   "outputs": [],
   "source": []
  },
  {
   "cell_type": "code",
   "execution_count": null,
   "id": "e6b0c1c2",
   "metadata": {},
   "outputs": [],
   "source": [
    "import os\n",
    "import joblib\n",
    "import numpy as np\n",
    "import pandas as pd\n",
    "import seaborn as sns\n",
    "import matplotlib.pyplot as plt"
   ]
  },
  {
   "cell_type": "raw",
   "id": "10e5c745",
   "metadata": {},
   "source": [
    "import matplotlib.font_manager as fm"
   ]
  },
  {
   "cell_type": "raw",
   "id": "ab7c4178",
   "metadata": {},
   "source": [
    "fontList = fm.findSystemFonts(fontext = 'ttf')"
   ]
  },
  {
   "cell_type": "raw",
   "id": "533b78fa",
   "metadata": {},
   "source": [
    "fontPath = [font for font in fontList if 'Gowun' in font]\n",
    "fontPath"
   ]
  },
  {
   "cell_type": "raw",
   "id": "052f3888",
   "metadata": {},
   "source": [
    "for font in fontPath:\n",
    "    print(fm.FontProperties(fname = font).get_name())"
   ]
  },
  {
   "cell_type": "raw",
   "id": "29e2993a",
   "metadata": {},
   "source": [
    "plt.rc(group = 'font', family = 'Gowun Dodum', size = 10)\n",
    "plt.rc(group = 'figure', figsize = (4, 4), dpi = 100)\n",
    "plt.rc(group = 'axes', unicode_minus = False)\n",
    "plt.rc(group = 'legend', frameon = True, fc = '1', ec = '0')"
   ]
  },
  {
   "cell_type": "code",
   "execution_count": null,
   "id": "30a2ded4",
   "metadata": {},
   "outputs": [],
   "source": [
    "!type GraphicSetting.py"
   ]
  },
  {
   "cell_type": "code",
   "execution_count": null,
   "id": "2520be1b",
   "metadata": {},
   "outputs": [],
   "source": [
    "from GraphicSetting import *"
   ]
  },
  {
   "cell_type": "code",
   "execution_count": null,
   "id": "dc4ff807",
   "metadata": {},
   "outputs": [],
   "source": [
    "!pip install hds-stats"
   ]
  },
  {
   "cell_type": "code",
   "execution_count": null,
   "id": "2adaffef",
   "metadata": {},
   "outputs": [],
   "source": [
    "import hds_stats as hds"
   ]
  },
  {
   "cell_type": "code",
   "execution_count": null,
   "id": "d515ff08",
   "metadata": {},
   "outputs": [],
   "source": [
    "os.getcwd()"
   ]
  },
  {
   "cell_type": "code",
   "execution_count": null,
   "id": "b6910e52",
   "metadata": {},
   "outputs": [],
   "source": [
    "os.chdir('../data')"
   ]
  },
  {
   "cell_type": "code",
   "execution_count": null,
   "id": "9d591802",
   "metadata": {},
   "outputs": [],
   "source": [
    "os.listdir()"
   ]
  },
  {
   "cell_type": "code",
   "execution_count": null,
   "id": "4eddacaf",
   "metadata": {},
   "outputs": [],
   "source": [
    "df = pd.read_excel('Used_Cars_Price.xlsx')"
   ]
  },
  {
   "cell_type": "code",
   "execution_count": null,
   "id": "f1eb6040",
   "metadata": {},
   "outputs": [],
   "source": [
    "df.info()"
   ]
  },
  {
   "cell_type": "code",
   "execution_count": null,
   "id": "45943a1a",
   "metadata": {},
   "outputs": [],
   "source": [
    "df = joblib.load('Used_Cars_Price.z')"
   ]
  },
  {
   "cell_type": "code",
   "execution_count": null,
   "id": "f4841cf0",
   "metadata": {},
   "outputs": [],
   "source": [
    "df.info()"
   ]
  },
  {
   "cell_type": "code",
   "execution_count": null,
   "id": "83eea0af",
   "metadata": {},
   "outputs": [],
   "source": [
    "print(df['Price'].min())\n",
    "print(df['Price'].max())"
   ]
  },
  {
   "cell_type": "code",
   "execution_count": null,
   "id": "7429226e",
   "metadata": {},
   "outputs": [],
   "source": [
    "df['Price'].describe()[['min', 'max']]"
   ]
  },
  {
   "cell_type": "code",
   "execution_count": null,
   "id": "093da175",
   "metadata": {},
   "outputs": [],
   "source": [
    "sns.histplot(data = df, x = 'Price', binrange = (4000, 16000), \n",
    "             binwidth = 1000, fc = '0.8', ec = '0')\n",
    "plt.title(label = '중고차 가격 분포');"
   ]
  },
  {
   "cell_type": "code",
   "execution_count": null,
   "id": "2f5f7f95",
   "metadata": {},
   "outputs": [],
   "source": [
    "sns.kdeplot(data = df, x = 'Price', fc = '0.8', ec = '0', fill = True)\n",
    "plt.axvline(x = df['Price'].mean(), color = 'red', lw = 0.5, ls = '-')\n",
    "plt.axvline(x = df['Price'].median(), color = 'red', lw = 0.5, ls = '--')\n",
    "plt.title(label = '중고차 가격 분포');"
   ]
  },
  {
   "cell_type": "code",
   "execution_count": null,
   "id": "22640c02",
   "metadata": {},
   "outputs": [],
   "source": [
    "hds.plot.regline(data = df, x = 'Age', y = 'Price')"
   ]
  },
  {
   "cell_type": "code",
   "execution_count": null,
   "id": "45b6d096",
   "metadata": {},
   "outputs": [],
   "source": [
    "hds.plot.regline(data = df, x = 'KM', y = 'Price')"
   ]
  },
  {
   "cell_type": "code",
   "execution_count": null,
   "id": "74835b4b",
   "metadata": {},
   "outputs": [],
   "source": [
    "hds.plot.regline(data = df, x = 'HP', y = 'Price')"
   ]
  },
  {
   "cell_type": "code",
   "execution_count": null,
   "id": "d46431b9",
   "metadata": {},
   "outputs": [],
   "source": [
    "hds.plot.regline(data = df, x = 'CC', y = 'Price')"
   ]
  },
  {
   "cell_type": "code",
   "execution_count": null,
   "id": "a09286a9",
   "metadata": {},
   "outputs": [],
   "source": [
    "hds.plot.regline(data = df, x = 'Doors', y = 'Price')"
   ]
  },
  {
   "cell_type": "code",
   "execution_count": null,
   "id": "ca79bbc6",
   "metadata": {},
   "outputs": [],
   "source": [
    "df['Doors'].value_counts().sort_index()"
   ]
  },
  {
   "cell_type": "code",
   "execution_count": null,
   "id": "3d5bf17e",
   "metadata": {},
   "outputs": [],
   "source": [
    "hds.plot.regline(data = df, x = 'Weight', y = 'Price')\n",
    "plt.axvline(x = 1250, color = '0', lw = 0.5, ls = '--');"
   ]
  },
  {
   "cell_type": "code",
   "execution_count": null,
   "id": "c10ca7a0",
   "metadata": {},
   "outputs": [],
   "source": [
    "hds.plot.box_group(data = df, x = 'FuelType', y = 'Price', \n",
    "                   pal = ['pink', 'skyblue', 'yellowgreen'])"
   ]
  },
  {
   "cell_type": "code",
   "execution_count": null,
   "id": "a55304ee",
   "metadata": {},
   "outputs": [],
   "source": [
    "hds.plot.box_group(data = df, x = 'MetColor', y = 'Price', \n",
    "                   pal = ['pink', 'skyblue'])"
   ]
  },
  {
   "cell_type": "code",
   "execution_count": null,
   "id": "5bb8793f",
   "metadata": {},
   "outputs": [],
   "source": [
    "hds.plot.box_group(data = df, x = 'Automatic', y = 'Price', \n",
    "                   pal = ['pink', 'skyblue'])"
   ]
  },
  {
   "cell_type": "code",
   "execution_count": null,
   "id": "4fbf76ab",
   "metadata": {},
   "outputs": [],
   "source": [
    "??hds.plot.box_group"
   ]
  },
  {
   "cell_type": "code",
   "execution_count": null,
   "id": "df95c40c",
   "metadata": {},
   "outputs": [],
   "source": [
    "??pd.read_excel"
   ]
  },
  {
   "cell_type": "code",
   "execution_count": null,
   "id": "c25098c2",
   "metadata": {},
   "outputs": [],
   "source": [
    "df = df[df['Doors'].ne(2) & df['Weight'].le(1250)]"
   ]
  },
  {
   "cell_type": "code",
   "execution_count": null,
   "id": "d6278a0a",
   "metadata": {},
   "outputs": [],
   "source": [
    "df = df.reset_index(drop = True)"
   ]
  },
  {
   "cell_type": "code",
   "execution_count": null,
   "id": "1b10096b",
   "metadata": {},
   "outputs": [],
   "source": [
    "df.shape[0]"
   ]
  },
  {
   "cell_type": "code",
   "execution_count": null,
   "id": "95115edd",
   "metadata": {},
   "outputs": [],
   "source": [
    "joblib.dump(value = df, filename = 'Used_Cars_Price.z')"
   ]
  },
  {
   "cell_type": "code",
   "execution_count": null,
   "id": "4de4dae9",
   "metadata": {},
   "outputs": [],
   "source": []
  },
  {
   "cell_type": "code",
   "execution_count": 1,
   "id": "4760d73d",
   "metadata": {},
   "outputs": [],
   "source": [
    "import os\n",
    "import joblib\n",
    "import numpy as np\n",
    "import pandas as pd\n",
    "from scipy import stats\n",
    "from GraphicSetting import *"
   ]
  },
  {
   "cell_type": "code",
   "execution_count": 2,
   "id": "ba719f64",
   "metadata": {},
   "outputs": [
    {
     "data": {
      "text/plain": [
       "'C:\\\\Users\\\\hdsce\\\\Documents\\\\PythonDataAnalysis2\\\\live'"
      ]
     },
     "execution_count": 2,
     "metadata": {},
     "output_type": "execute_result"
    }
   ],
   "source": [
    "os.getcwd()"
   ]
  },
  {
   "cell_type": "code",
   "execution_count": 3,
   "id": "46749bac",
   "metadata": {},
   "outputs": [],
   "source": [
    "os.chdir('../data')"
   ]
  },
  {
   "cell_type": "code",
   "execution_count": 4,
   "id": "d9c91707",
   "metadata": {},
   "outputs": [
    {
     "data": {
      "text/plain": [
       "['Used_Cars_Price.csv', 'Used_Cars_Price.xlsx', 'Used_Cars_Price.z']"
      ]
     },
     "execution_count": 4,
     "metadata": {},
     "output_type": "execute_result"
    }
   ],
   "source": [
    "os.listdir()"
   ]
  },
  {
   "cell_type": "code",
   "execution_count": 5,
   "id": "4f91d5c1",
   "metadata": {},
   "outputs": [],
   "source": [
    "df = joblib.load('Used_Cars_Price.z')"
   ]
  },
  {
   "cell_type": "code",
   "execution_count": 6,
   "id": "29f5577a",
   "metadata": {},
   "outputs": [
    {
     "name": "stdout",
     "output_type": "stream",
     "text": [
      "<class 'pandas.core.frame.DataFrame'>\n",
      "RangeIndex: 1268 entries, 0 to 1267\n",
      "Data columns (total 10 columns):\n",
      " #   Column     Non-Null Count  Dtype \n",
      "---  ------     --------------  ----- \n",
      " 0   Price      1268 non-null   int64 \n",
      " 1   Age        1268 non-null   int64 \n",
      " 2   KM         1268 non-null   int64 \n",
      " 3   FuelType   1268 non-null   object\n",
      " 4   HP         1268 non-null   int64 \n",
      " 5   MetColor   1268 non-null   object\n",
      " 6   Automatic  1268 non-null   object\n",
      " 7   CC         1268 non-null   int64 \n",
      " 8   Doors      1268 non-null   int64 \n",
      " 9   Weight     1268 non-null   int64 \n",
      "dtypes: int64(7), object(3)\n",
      "memory usage: 99.2+ KB\n"
     ]
    }
   ],
   "source": [
    "df.info()"
   ]
  },
  {
   "cell_type": "code",
   "execution_count": 7,
   "id": "be6a5419",
   "metadata": {},
   "outputs": [],
   "source": [
    "np.random.seed(1234)"
   ]
  },
  {
   "cell_type": "code",
   "execution_count": 8,
   "id": "51d72c34",
   "metadata": {},
   "outputs": [],
   "source": [
    "heights = stats.norm.rvs(loc = 175, scale = 5, size = 5000)"
   ]
  },
  {
   "cell_type": "code",
   "execution_count": 9,
   "id": "a791b071",
   "metadata": {},
   "outputs": [
    {
     "data": {
      "text/plain": [
       "175.12138663450918"
      ]
     },
     "execution_count": 9,
     "metadata": {},
     "output_type": "execute_result"
    }
   ],
   "source": [
    "heights.mean()"
   ]
  },
  {
   "cell_type": "code",
   "execution_count": 10,
   "id": "f2051f96",
   "metadata": {},
   "outputs": [
    {
     "data": {
      "text/plain": [
       "4.9588737381446055"
      ]
     },
     "execution_count": 10,
     "metadata": {},
     "output_type": "execute_result"
    }
   ],
   "source": [
    "heights.std()"
   ]
  },
  {
   "cell_type": "code",
   "execution_count": 11,
   "id": "184ca116",
   "metadata": {},
   "outputs": [],
   "source": [
    "heights2 = stats.norm.rvs(loc = 175, scale = 5, size = 500000)"
   ]
  },
  {
   "cell_type": "code",
   "execution_count": 12,
   "id": "4b16739e",
   "metadata": {},
   "outputs": [
    {
     "data": {
      "text/plain": [
       "174.99431587005557"
      ]
     },
     "execution_count": 12,
     "metadata": {},
     "output_type": "execute_result"
    }
   ],
   "source": [
    "heights2.mean()"
   ]
  },
  {
   "cell_type": "code",
   "execution_count": 13,
   "id": "dd86e934",
   "metadata": {},
   "outputs": [
    {
     "data": {
      "text/plain": [
       "5.004031583431358"
      ]
     },
     "execution_count": 13,
     "metadata": {},
     "output_type": "execute_result"
    }
   ],
   "source": [
    "heights2.std()"
   ]
  },
  {
   "cell_type": "code",
   "execution_count": 82,
   "id": "1df25445",
   "metadata": {},
   "outputs": [],
   "source": [
    "means = []\n",
    "iters = 5000\n",
    "for i in range(iters):\n",
    "    dat = stats.norm.rvs(loc = 175, scale = 5, size = 100)\n",
    "    means.append(dat.mean())"
   ]
  },
  {
   "cell_type": "code",
   "execution_count": 83,
   "id": "a33bc4e0",
   "metadata": {},
   "outputs": [
    {
     "data": {
      "text/plain": [
       "5000"
      ]
     },
     "execution_count": 83,
     "metadata": {},
     "output_type": "execute_result"
    }
   ],
   "source": [
    "means = pd.Series(means)\n",
    "len(means)"
   ]
  },
  {
   "cell_type": "code",
   "execution_count": 84,
   "id": "95702452",
   "metadata": {},
   "outputs": [
    {
     "data": {
      "text/plain": [
       "ShapiroResult(statistic=0.9996752142906189, pvalue=0.6314006447792053)"
      ]
     },
     "execution_count": 84,
     "metadata": {},
     "output_type": "execute_result"
    }
   ],
   "source": [
    "stats.shapiro(means)"
   ]
  },
  {
   "cell_type": "code",
   "execution_count": 74,
   "id": "b9a0f1a3",
   "metadata": {},
   "outputs": [
    {
     "data": {
      "text/plain": [
       "175.00025933800592"
      ]
     },
     "execution_count": 74,
     "metadata": {},
     "output_type": "execute_result"
    }
   ],
   "source": [
    "np.mean(means)"
   ]
  },
  {
   "cell_type": "code",
   "execution_count": 75,
   "id": "3f7e316f",
   "metadata": {},
   "outputs": [
    {
     "data": {
      "text/plain": [
       "0.24783173931356256"
      ]
     },
     "execution_count": 75,
     "metadata": {},
     "output_type": "execute_result"
    }
   ],
   "source": [
    "np.var(means, ddof = 1)"
   ]
  },
  {
   "cell_type": "code",
   "execution_count": 70,
   "id": "8c9af6d9",
   "metadata": {},
   "outputs": [
    {
     "data": {
      "text/plain": [
       "0.25"
      ]
     },
     "execution_count": 70,
     "metadata": {},
     "output_type": "execute_result"
    }
   ],
   "source": [
    "25/100"
   ]
  },
  {
   "cell_type": "code",
   "execution_count": null,
   "id": "d2e3f70c",
   "metadata": {},
   "outputs": [],
   "source": []
  },
  {
   "cell_type": "code",
   "execution_count": 19,
   "id": "a89170d9",
   "metadata": {},
   "outputs": [
    {
     "data": {
      "text/plain": [
       "0.02659615202676218"
      ]
     },
     "execution_count": 19,
     "metadata": {},
     "output_type": "execute_result"
    }
   ],
   "source": [
    "stats.norm.pdf(x = 175, loc = 175, scale = 15)"
   ]
  },
  {
   "cell_type": "code",
   "execution_count": 20,
   "id": "a96775cb",
   "metadata": {},
   "outputs": [
    {
     "data": {
      "text/plain": [
       "0.03989422804014327"
      ]
     },
     "execution_count": 20,
     "metadata": {},
     "output_type": "execute_result"
    }
   ],
   "source": [
    "stats.norm.pdf(x = 175, loc = 175, scale = 10)"
   ]
  },
  {
   "cell_type": "code",
   "execution_count": 21,
   "id": "945ae0bb",
   "metadata": {},
   "outputs": [
    {
     "data": {
      "text/plain": [
       "0.07978845608028654"
      ]
     },
     "execution_count": 21,
     "metadata": {},
     "output_type": "execute_result"
    }
   ],
   "source": [
    "stats.norm.pdf(x = 175, loc = 175, scale = 5)"
   ]
  },
  {
   "cell_type": "code",
   "execution_count": 22,
   "id": "7a4a6a27",
   "metadata": {},
   "outputs": [],
   "source": [
    "x = np.linspace(130, 220, 100+1)\n",
    "y1 = stats.norm.pdf(loc = 175, scale = 15, x = x)\n",
    "y2 = stats.norm.pdf(loc = 175, scale = 10, x = x)\n",
    "y3 = stats.norm.pdf(loc = 175, scale = 5, x = x)"
   ]
  },
  {
   "cell_type": "code",
   "execution_count": 23,
   "id": "c1f37462",
   "metadata": {},
   "outputs": [
    {
     "data": {
      "image/png": "[encoded data removed]",
      "text/plain": [
       "<Figure size 400x400 with 1 Axes>"
      ]
     },
     "metadata": {},
     "output_type": "display_data"
    }
   ],
   "source": [
    "sns.lineplot(x = x, y = y1, label = 'Std: 15')\n",
    "sns.lineplot(x = x, y = y2, label = 'Std: 10')\n",
    "sns.lineplot(x = x, y = y3, label = 'Std: 5');"
   ]
  },
  {
   "cell_type": "code",
   "execution_count": 24,
   "id": "013bdcf7",
   "metadata": {},
   "outputs": [
    {
     "data": {
      "text/plain": [
       "0.7475074624530771"
      ]
     },
     "execution_count": 24,
     "metadata": {},
     "output_type": "execute_result"
    }
   ],
   "source": [
    "stats.norm.cdf(x = 185, loc = 175, scale = 15)"
   ]
  },
  {
   "cell_type": "code",
   "execution_count": 25,
   "id": "0d3b9c02",
   "metadata": {},
   "outputs": [
    {
     "data": {
      "text/plain": [
       "0.8413447460685429"
      ]
     },
     "execution_count": 25,
     "metadata": {},
     "output_type": "execute_result"
    }
   ],
   "source": [
    "stats.norm.cdf(x = 185, loc = 175, scale = 10)"
   ]
  },
  {
   "cell_type": "code",
   "execution_count": 26,
   "id": "f42375c9",
   "metadata": {},
   "outputs": [
    {
     "data": {
      "text/plain": [
       "0.9772498680518208"
      ]
     },
     "execution_count": 26,
     "metadata": {},
     "output_type": "execute_result"
    }
   ],
   "source": [
    "stats.norm.cdf(x = 185, loc = 175, scale = 5)"
   ]
  },
  {
   "cell_type": "code",
   "execution_count": 27,
   "id": "edb5aee7",
   "metadata": {},
   "outputs": [],
   "source": [
    "cdfs = stats.norm.cdf(x = [165, 185], loc = 175, scale = 5)"
   ]
  },
  {
   "cell_type": "code",
   "execution_count": 28,
   "id": "802e3988",
   "metadata": {},
   "outputs": [
    {
     "data": {
      "text/plain": [
       "array([0.95449974])"
      ]
     },
     "execution_count": 28,
     "metadata": {},
     "output_type": "execute_result"
    }
   ],
   "source": [
    "np.diff(cdfs)"
   ]
  },
  {
   "cell_type": "code",
   "execution_count": 29,
   "id": "7534e5b3",
   "metadata": {},
   "outputs": [
    {
     "data": {
      "text/plain": [
       "array([0.13590512])"
      ]
     },
     "execution_count": 29,
     "metadata": {},
     "output_type": "execute_result"
    }
   ],
   "source": [
    "cdfs = stats.norm.cdf(x = [180, 185], loc = 175, scale = 5)\n",
    "np.diff(cdfs)"
   ]
  },
  {
   "cell_type": "code",
   "execution_count": 30,
   "id": "b3678ad3",
   "metadata": {},
   "outputs": [
    {
     "data": {
      "text/plain": [
       "185.0"
      ]
     },
     "execution_count": 30,
     "metadata": {},
     "output_type": "execute_result"
    }
   ],
   "source": [
    "stats.norm.ppf(q = 0.7475074624530771, loc = 175, scale = 15)"
   ]
  },
  {
   "cell_type": "code",
   "execution_count": 31,
   "id": "c20e3eed",
   "metadata": {},
   "outputs": [
    {
     "data": {
      "text/plain": [
       "185.0"
      ]
     },
     "execution_count": 31,
     "metadata": {},
     "output_type": "execute_result"
    }
   ],
   "source": [
    "stats.norm.ppf(q = 0.8413447460685429, loc = 175, scale = 10)"
   ]
  },
  {
   "cell_type": "code",
   "execution_count": 32,
   "id": "010f82a1",
   "metadata": {},
   "outputs": [
    {
     "data": {
      "text/plain": [
       "185.0"
      ]
     },
     "execution_count": 32,
     "metadata": {},
     "output_type": "execute_result"
    }
   ],
   "source": [
    "stats.norm.ppf(q = 0.9772498680518208, loc = 175, scale = 5)"
   ]
  },
  {
   "cell_type": "code",
   "execution_count": 33,
   "id": "a5967cb0",
   "metadata": {},
   "outputs": [
    {
     "data": {
      "text/plain": [
       "183.22426813475735"
      ]
     },
     "execution_count": 33,
     "metadata": {},
     "output_type": "execute_result"
    }
   ],
   "source": [
    "stats.norm.ppf(q = 0.95, loc = 175, scale = 5)"
   ]
  },
  {
   "cell_type": "code",
   "execution_count": 34,
   "id": "8e8b1193",
   "metadata": {},
   "outputs": [
    {
     "data": {
      "text/plain": [
       "186.6317393702042"
      ]
     },
     "execution_count": 34,
     "metadata": {},
     "output_type": "execute_result"
    }
   ],
   "source": [
    "stats.norm.ppf(q = 0.99, loc = 175, scale = 5)"
   ]
  },
  {
   "cell_type": "code",
   "execution_count": 35,
   "id": "7ee28a39",
   "metadata": {},
   "outputs": [
    {
     "data": {
      "text/plain": [
       "4.163173937020421"
      ]
     },
     "execution_count": 35,
     "metadata": {},
     "output_type": "execute_result"
    }
   ],
   "source": [
    "stats.norm.ppf(q = 0.99, loc = 3, scale = 0.5)"
   ]
  },
  {
   "cell_type": "code",
   "execution_count": 36,
   "id": "3a664153",
   "metadata": {},
   "outputs": [
    {
     "data": {
      "text/plain": [
       "-0.03668062034777025"
      ]
     },
     "execution_count": 36,
     "metadata": {},
     "output_type": "execute_result"
    }
   ],
   "source": [
    "stats.skew(heights)"
   ]
  },
  {
   "cell_type": "code",
   "execution_count": 37,
   "id": "571f3ea2",
   "metadata": {},
   "outputs": [
    {
     "data": {
      "text/plain": [
       "-0.07067499523641407"
      ]
     },
     "execution_count": 37,
     "metadata": {},
     "output_type": "execute_result"
    }
   ],
   "source": [
    "stats.kurtosis(heights)"
   ]
  },
  {
   "cell_type": "code",
   "execution_count": 38,
   "id": "60351a2b",
   "metadata": {},
   "outputs": [
    {
     "data": {
      "text/plain": [
       "ShapiroResult(statistic=0.9995919466018677, pvalue=0.396047443151474)"
      ]
     },
     "execution_count": 38,
     "metadata": {},
     "output_type": "execute_result"
    }
   ],
   "source": [
    "stats.shapiro(heights)"
   ]
  },
  {
   "cell_type": "code",
   "execution_count": 39,
   "id": "89f879c7",
   "metadata": {},
   "outputs": [],
   "source": [
    "np.random.seed(1234)"
   ]
  },
  {
   "cell_type": "code",
   "execution_count": 40,
   "id": "0e20b06c",
   "metadata": {},
   "outputs": [],
   "source": [
    "heights = stats.norm.rvs(loc = 175, scale = 5, size = 10000)"
   ]
  },
  {
   "cell_type": "code",
   "execution_count": 41,
   "id": "18262c74",
   "metadata": {},
   "outputs": [
    {
     "name": "stderr",
     "output_type": "stream",
     "text": [
      "C:\\Users\\hdsce\\ve311\\Lib\\site-packages\\scipy\\stats\\_morestats.py:1816: UserWarning: p-value may not be accurate for N > 5000.\n",
      "  warnings.warn(\"p-value may not be accurate for N > 5000.\")\n"
     ]
    },
    {
     "data": {
      "text/plain": [
       "ShapiroResult(statistic=0.9996193051338196, pvalue=0.04346244037151337)"
      ]
     },
     "execution_count": 41,
     "metadata": {},
     "output_type": "execute_result"
    }
   ],
   "source": [
    "stats.shapiro(heights)"
   ]
  },
  {
   "cell_type": "code",
   "execution_count": 42,
   "id": "297ea510",
   "metadata": {},
   "outputs": [
    {
     "data": {
      "text/plain": [
       "AndersonResult(statistic=0.35265258232357155, critical_values=array([0.576, 0.656, 0.787, 0.918, 1.092]), significance_level=array([15. , 10. ,  5. ,  2.5,  1. ]), fit_result=  params: FitParams(loc=175.08063230023598, scale=4.9761483416071846)\n",
       " success: True\n",
       " message: '`anderson` successfully fit the distribution to the data.')"
      ]
     },
     "execution_count": 42,
     "metadata": {},
     "output_type": "execute_result"
    }
   ],
   "source": [
    "stats.anderson(heights)"
   ]
  },
  {
   "cell_type": "code",
   "execution_count": 43,
   "id": "66136385",
   "metadata": {},
   "outputs": [],
   "source": [
    "def scale(x, loc, scale):\n",
    "    return (x - loc) / scale"
   ]
  },
  {
   "cell_type": "code",
   "execution_count": 44,
   "id": "250cfb24",
   "metadata": {},
   "outputs": [
    {
     "data": {
      "text/plain": [
       "1.0"
      ]
     },
     "execution_count": 44,
     "metadata": {},
     "output_type": "execute_result"
    }
   ],
   "source": [
    "scale(x = 90, loc = 75, scale = 15)"
   ]
  },
  {
   "cell_type": "code",
   "execution_count": 45,
   "id": "1fdc772d",
   "metadata": {},
   "outputs": [
    {
     "data": {
      "text/plain": [
       "1.5"
      ]
     },
     "execution_count": 45,
     "metadata": {},
     "output_type": "execute_result"
    }
   ],
   "source": [
    "scale(x = 55, loc = 40, scale = 10)"
   ]
  },
  {
   "cell_type": "code",
   "execution_count": 46,
   "id": "4cac5689",
   "metadata": {},
   "outputs": [
    {
     "data": {
      "text/plain": [
       "0       177.357176\n",
       "1       169.045122\n",
       "2       182.163535\n",
       "3       173.436741\n",
       "4       171.397056\n",
       "           ...    \n",
       "9995    169.759503\n",
       "9996    171.106078\n",
       "9997    169.737697\n",
       "9998    172.511534\n",
       "9999    173.719969\n",
       "Length: 10000, dtype: float64"
      ]
     },
     "execution_count": 46,
     "metadata": {},
     "output_type": "execute_result"
    }
   ],
   "source": [
    "hgts = pd.Series(heights)\n",
    "hgts"
   ]
  },
  {
   "cell_type": "code",
   "execution_count": 47,
   "id": "391571ef",
   "metadata": {},
   "outputs": [
    {
     "data": {
      "text/plain": [
       "175.08063230023598"
      ]
     },
     "execution_count": 47,
     "metadata": {},
     "output_type": "execute_result"
    }
   ],
   "source": [
    "hgts.mean()"
   ]
  },
  {
   "cell_type": "code",
   "execution_count": 48,
   "id": "cb2e7524",
   "metadata": {},
   "outputs": [
    {
     "data": {
      "text/plain": [
       "4.9761483416071846"
      ]
     },
     "execution_count": 48,
     "metadata": {},
     "output_type": "execute_result"
    }
   ],
   "source": [
    "hgts.std()"
   ]
  },
  {
   "cell_type": "code",
   "execution_count": 49,
   "id": "6cb6fce5",
   "metadata": {},
   "outputs": [
    {
     "data": {
      "text/plain": [
       "0       0.457514\n",
       "1      -1.212949\n",
       "2       1.423442\n",
       "3      -0.330371\n",
       "4      -0.740283\n",
       "          ...   \n",
       "9995   -1.069380\n",
       "9996   -0.798761\n",
       "9997   -1.073763\n",
       "9998   -0.516308\n",
       "9999   -0.273451\n",
       "Length: 10000, dtype: float64"
      ]
     },
     "execution_count": 49,
     "metadata": {},
     "output_type": "execute_result"
    }
   ],
   "source": [
    "stats.zscore(hgts)"
   ]
  },
  {
   "cell_type": "code",
   "execution_count": 50,
   "id": "1a2d7335",
   "metadata": {},
   "outputs": [
    {
     "data": {
      "text/plain": [
       "0       0.471435\n",
       "1      -1.190976\n",
       "2       1.432707\n",
       "3      -0.312652\n",
       "4      -0.720589\n",
       "          ...   \n",
       "9995   -1.048099\n",
       "9996   -0.778784\n",
       "9997   -1.052461\n",
       "9998   -0.497693\n",
       "9999   -0.256006\n",
       "Length: 10000, dtype: float64"
      ]
     },
     "execution_count": 50,
     "metadata": {},
     "output_type": "execute_result"
    }
   ],
   "source": [
    "scaled = scale(x = hgts, loc = 175, scale = 5)\n",
    "scaled"
   ]
  },
  {
   "cell_type": "code",
   "execution_count": 54,
   "id": "9c16314e",
   "metadata": {
    "collapsed": true
   },
   "outputs": [
    {
     "data": {
      "text/plain": [
       "0       False\n",
       "1       False\n",
       "2       False\n",
       "3       False\n",
       "4       False\n",
       "        ...  \n",
       "9995    False\n",
       "9996    False\n",
       "9997    False\n",
       "9998    False\n",
       "9999    False\n",
       "Length: 10000, dtype: bool"
      ]
     },
     "execution_count": 54,
     "metadata": {},
     "output_type": "execute_result"
    }
   ],
   "source": [
    "# (scaled > 3) | (scaled < -3)\n",
    "np.abs(scaled) > 3"
   ]
  },
  {
   "cell_type": "code",
   "execution_count": 56,
   "id": "fec66a98",
   "metadata": {},
   "outputs": [
    {
     "data": {
      "text/plain": [
       "(array([  81, 1307, 1333, 1670, 2053, 2289, 3136, 3924, 4477, 4599, 4712,\n",
       "        5274, 5903, 7040, 7510, 7743, 8578, 8650, 9406, 9888], dtype=int64),)"
      ]
     },
     "execution_count": 56,
     "metadata": {},
     "output_type": "execute_result"
    }
   ],
   "source": [
    "locs = np.where(np.abs(scaled) > 3)\n",
    "locs"
   ]
  },
  {
   "cell_type": "code",
   "execution_count": 57,
   "id": "f964188c",
   "metadata": {},
   "outputs": [
    {
     "data": {
      "text/plain": [
       "array([  81, 1307, 1333, 1670, 2053, 2289, 3136, 3924, 4477, 4599, 4712,\n",
       "       5274, 5903, 7040, 7510, 7743, 8578, 8650, 9406, 9888], dtype=int64)"
      ]
     },
     "execution_count": 57,
     "metadata": {},
     "output_type": "execute_result"
    }
   ],
   "source": [
    "locs[0]"
   ]
  },
  {
   "cell_type": "code",
   "execution_count": 59,
   "id": "459a50b6",
   "metadata": {},
   "outputs": [],
   "source": [
    "outs = hgts[locs[0]]"
   ]
  },
  {
   "cell_type": "code",
   "execution_count": 65,
   "id": "1dae88fc",
   "metadata": {},
   "outputs": [
    {
     "data": {
      "image/png": "[encoded data removed]",
      "text/plain": [
       "<Figure size 1200x400 with 1 Axes>"
      ]
     },
     "metadata": {},
     "output_type": "display_data"
    }
   ],
   "source": [
    "plt.figure(figsize = (12, 4))\n",
    "sns.scatterplot(x = hgts.index, y = hgts, c = '0.8', s = 15, alpha = 0.2)\n",
    "sns.scatterplot(x = outs.index, y = outs, c = 'red')\n",
    "plt.axhline(y = 175, c = '0', lw = 1, ls = '-')\n",
    "plt.axhline(y = 190, c = '0', lw = 1, ls = '--')\n",
    "plt.axhline(y = 160, c = '0', lw = 1, ls = '--');"
   ]
  },
  {
   "cell_type": "code",
   "execution_count": null,
   "id": "7e017c49",
   "metadata": {},
   "outputs": [],
   "source": []
  }
 ],
 "metadata": {
  "kernelspec": {
   "display_name": "Python 3 (ipykernel)",
   "language": "python",
   "name": "python3"
  },
  "language_info": {
   "codemirror_mode": {
    "name": "ipython",
    "version": 3
   },
   "file_extension": ".py",
   "mimetype": "text/x-python",
   "name": "python",
   "nbconvert_exporter": "python",
   "pygments_lexer": "ipython3",
   "version": "3.11.3"
  }
 },
 "nbformat": 4,
 "nbformat_minor": 5
}
