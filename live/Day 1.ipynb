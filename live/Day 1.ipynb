{
 "cells": [
  {
   "cell_type": "code",
   "execution_count": null,
   "id": "4f3b400f",
   "metadata": {},
   "outputs": [],
   "source": [
    "import os\n",
    "import joblib\n",
    "import numpy as np\n",
    "import pandas as pd\n",
    "from scipy import stats\n",
    "from statsmodels import robust"
   ]
  },
  {
   "cell_type": "code",
   "execution_count": null,
   "id": "398f2306",
   "metadata": {},
   "outputs": [],
   "source": [
    "df = pd.read_csv('https://bit.ly/UsedCarsPrice')"
   ]
  },
  {
   "cell_type": "code",
   "execution_count": null,
   "id": "dd43b9f9",
   "metadata": {},
   "outputs": [],
   "source": [
    "df.info()"
   ]
  },
  {
   "cell_type": "code",
   "execution_count": null,
   "id": "14996d99",
   "metadata": {},
   "outputs": [],
   "source": [
    "df.head()"
   ]
  },
  {
   "cell_type": "code",
   "execution_count": null,
   "id": "0017fc4c",
   "metadata": {},
   "outputs": [],
   "source": [
    "df.columns"
   ]
  },
  {
   "cell_type": "code",
   "execution_count": null,
   "id": "f84942d9",
   "metadata": {},
   "outputs": [],
   "source": [
    "cols = ['MetColor', 'Automatic']"
   ]
  },
  {
   "cell_type": "code",
   "execution_count": null,
   "id": "bc64529f",
   "metadata": {},
   "outputs": [],
   "source": [
    "df[cols] = df[cols].astype(str)"
   ]
  },
  {
   "cell_type": "code",
   "execution_count": null,
   "id": "dd8c143b",
   "metadata": {},
   "outputs": [],
   "source": [
    "df.dtypes"
   ]
  },
  {
   "cell_type": "code",
   "execution_count": null,
   "id": "320e816c",
   "metadata": {},
   "outputs": [],
   "source": [
    "df['Price'].mean()"
   ]
  },
  {
   "cell_type": "code",
   "execution_count": null,
   "id": "58899ea2",
   "metadata": {},
   "outputs": [],
   "source": [
    "stats.trim_mean(df['Price'], 0.1)"
   ]
  },
  {
   "cell_type": "code",
   "execution_count": null,
   "id": "c2499d39",
   "metadata": {},
   "outputs": [],
   "source": [
    "df['Price'].median()"
   ]
  },
  {
   "cell_type": "code",
   "execution_count": null,
   "id": "08ed572b",
   "metadata": {},
   "outputs": [],
   "source": [
    "stats.trim_mean(df['Price'], 0.5)"
   ]
  },
  {
   "cell_type": "code",
   "execution_count": null,
   "id": "cfdbae4d",
   "metadata": {},
   "outputs": [],
   "source": [
    "df['FuelType'].mode()"
   ]
  },
  {
   "cell_type": "code",
   "execution_count": null,
   "id": "e70d228a",
   "metadata": {},
   "outputs": [],
   "source": [
    "df['FuelType'].value_counts()"
   ]
  },
  {
   "cell_type": "code",
   "execution_count": null,
   "id": "187e049d",
   "metadata": {},
   "outputs": [],
   "source": [
    "df['FuelType'].value_counts().sort_index()"
   ]
  },
  {
   "cell_type": "code",
   "execution_count": null,
   "id": "e39db1d0",
   "metadata": {},
   "outputs": [],
   "source": [
    "df['FuelType'].value_counts(normalize = True) * 100"
   ]
  },
  {
   "cell_type": "code",
   "execution_count": null,
   "id": "bb0f5c7b",
   "metadata": {},
   "outputs": [],
   "source": [
    "df['Price'].quantile(np.linspace(0, 1, 100+1))"
   ]
  },
  {
   "cell_type": "code",
   "execution_count": null,
   "id": "354ef83e",
   "metadata": {},
   "outputs": [],
   "source": [
    "df['Price'].quantile(np.linspace(0, 1, 10+1))"
   ]
  },
  {
   "cell_type": "code",
   "execution_count": null,
   "id": "fa3afca7",
   "metadata": {},
   "outputs": [],
   "source": [
    "df['Price'].quantile(np.linspace(0, 1, 4+1))"
   ]
  },
  {
   "cell_type": "code",
   "execution_count": null,
   "id": "efb216ed",
   "metadata": {},
   "outputs": [],
   "source": [
    "df['Price'].max() - df['Price'].min()"
   ]
  },
  {
   "cell_type": "code",
   "execution_count": null,
   "id": "7a1b546b",
   "metadata": {},
   "outputs": [],
   "source": [
    "df['Price'].quantile([0, 1])"
   ]
  },
  {
   "cell_type": "code",
   "execution_count": null,
   "id": "3012b31b",
   "metadata": {},
   "outputs": [],
   "source": [
    "df['Price'].quantile([0, 1]).diff()"
   ]
  },
  {
   "cell_type": "code",
   "execution_count": null,
   "id": "ff6c673a",
   "metadata": {},
   "outputs": [],
   "source": [
    "df['Price'].quantile([0, 1]).diff().iloc[-1]"
   ]
  },
  {
   "cell_type": "code",
   "execution_count": null,
   "id": "05553a2c",
   "metadata": {},
   "outputs": [],
   "source": [
    "df['Price'].quantile([0.25, 0.75]).diff().iloc[-1]"
   ]
  },
  {
   "cell_type": "code",
   "execution_count": null,
   "id": "c227489f",
   "metadata": {},
   "outputs": [],
   "source": [
    "df['Price'].var()"
   ]
  },
  {
   "cell_type": "code",
   "execution_count": null,
   "id": "bba5d15e",
   "metadata": {},
   "outputs": [],
   "source": [
    "df['Price'].var() ** (1/2)"
   ]
  },
  {
   "cell_type": "code",
   "execution_count": null,
   "id": "78dace9a",
   "metadata": {},
   "outputs": [],
   "source": [
    "df['Price'].std()"
   ]
  },
  {
   "cell_type": "code",
   "execution_count": null,
   "id": "397dba20",
   "metadata": {},
   "outputs": [],
   "source": [
    "robust.mad(df['Price'])"
   ]
  },
  {
   "cell_type": "code",
   "execution_count": null,
   "id": "0a104ca6",
   "metadata": {},
   "outputs": [],
   "source": [
    "df.describe()"
   ]
  },
  {
   "cell_type": "code",
   "execution_count": null,
   "id": "fb21da55",
   "metadata": {},
   "outputs": [],
   "source": [
    "df.describe(include = int)"
   ]
  },
  {
   "cell_type": "code",
   "execution_count": null,
   "id": "d5269ad0",
   "metadata": {},
   "outputs": [],
   "source": [
    "df.describe(include = object)"
   ]
  },
  {
   "cell_type": "code",
   "execution_count": null,
   "id": "e42ba007",
   "metadata": {},
   "outputs": [],
   "source": [
    "df.sort_values(by = 'KM')"
   ]
  },
  {
   "cell_type": "code",
   "execution_count": null,
   "id": "f1f0c33c",
   "metadata": {},
   "outputs": [],
   "source": [
    "df = df[df['KM'].gt(1)].reset_index(drop = True)"
   ]
  },
  {
   "cell_type": "code",
   "execution_count": null,
   "id": "675c5226",
   "metadata": {},
   "outputs": [],
   "source": [
    "df.info()"
   ]
  },
  {
   "cell_type": "code",
   "execution_count": null,
   "id": "94dc1886",
   "metadata": {},
   "outputs": [],
   "source": [
    "os.getcwd()"
   ]
  },
  {
   "cell_type": "code",
   "execution_count": null,
   "id": "84367859",
   "metadata": {},
   "outputs": [],
   "source": [
    "os.chdir('../data')"
   ]
  },
  {
   "cell_type": "code",
   "execution_count": null,
   "id": "6f1e0856",
   "metadata": {},
   "outputs": [],
   "source": [
    "os.listdir()"
   ]
  },
  {
   "cell_type": "code",
   "execution_count": null,
   "id": "f426bc67",
   "metadata": {},
   "outputs": [],
   "source": [
    "%time df.to_excel('Used_Cars_Price.xlsx', index = False)"
   ]
  },
  {
   "cell_type": "code",
   "execution_count": null,
   "id": "a6b62b93",
   "metadata": {},
   "outputs": [],
   "source": [
    "%time df.to_csv('Used_Cars_Price.csv', index = False)"
   ]
  },
  {
   "cell_type": "code",
   "execution_count": null,
   "id": "627aa1ea",
   "metadata": {},
   "outputs": [],
   "source": [
    "%time joblib.dump(value = df, filename = 'Used_Cars_Price.z')"
   ]
  },
  {
   "cell_type": "code",
   "execution_count": null,
   "id": "99c43775",
   "metadata": {},
   "outputs": [],
   "source": []
  },
  {
   "cell_type": "code",
   "execution_count": null,
   "id": "ef19e50e",
   "metadata": {},
   "outputs": [],
   "source": []
  },
  {
   "cell_type": "code",
   "execution_count": null,
   "id": "1226efa3",
   "metadata": {},
   "outputs": [],
   "source": [
    "import os\n",
    "import joblib\n",
    "import numpy as np\n",
    "import pandas as pd\n",
    "import seaborn as sns\n",
    "import matplotlib.pyplot as plt"
   ]
  },
  {
   "cell_type": "raw",
   "id": "0b7eb33e",
   "metadata": {},
   "source": [
    "import matplotlib.font_manager as fm"
   ]
  },
  {
   "cell_type": "raw",
   "id": "7499fc87",
   "metadata": {},
   "source": [
    "fontList = fm.findSystemFonts(fontext = 'ttf')"
   ]
  },
  {
   "cell_type": "raw",
   "id": "eb0a73a8",
   "metadata": {},
   "source": [
    "fontPath = [font for font in fontList if 'LG' in font]\n",
    "fontPath"
   ]
  },
  {
   "cell_type": "raw",
   "id": "3e929696",
   "metadata": {},
   "source": [
    "for font in fontPath:\n",
    "    print(fm.FontProperties(fname = font).get_name())"
   ]
  },
  {
   "cell_type": "raw",
   "id": "3afcdb5d",
   "metadata": {},
   "source": [
    "plt.rc(group = 'font', family = 'Gowun Dodum', size = 10)\n",
    "plt.rc(group = 'figure', figsize = (4, 4), dpi = 100)\n",
    "plt.rc(group = 'axes', unicode_minus = False)\n",
    "plt.rc(group = 'legend', frameon = True, fc = '1', ec = '0')"
   ]
  },
  {
   "cell_type": "code",
   "execution_count": null,
   "id": "cc44609e",
   "metadata": {},
   "outputs": [],
   "source": [
    "from GraphicSetting import *"
   ]
  },
  {
   "cell_type": "raw",
   "id": "8d7d1529",
   "metadata": {},
   "source": [
    "!pip install hds-stats"
   ]
  },
  {
   "cell_type": "code",
   "execution_count": null,
   "id": "c0ce6020",
   "metadata": {},
   "outputs": [],
   "source": [
    "import hds_stats as hds"
   ]
  },
  {
   "cell_type": "code",
   "execution_count": null,
   "id": "13d71899",
   "metadata": {},
   "outputs": [],
   "source": [
    "os.getcwd()"
   ]
  },
  {
   "cell_type": "code",
   "execution_count": null,
   "id": "913c486d",
   "metadata": {},
   "outputs": [],
   "source": [
    "os.chdir('../data')"
   ]
  },
  {
   "cell_type": "code",
   "execution_count": null,
   "id": "2f2878ec",
   "metadata": {},
   "outputs": [],
   "source": [
    "os.listdir()"
   ]
  },
  {
   "cell_type": "code",
   "execution_count": null,
   "id": "5e1b2089",
   "metadata": {},
   "outputs": [],
   "source": [
    "df = pd.read_excel('Used_Cars_Price.xlsx')"
   ]
  },
  {
   "cell_type": "code",
   "execution_count": null,
   "id": "dfeaf886",
   "metadata": {},
   "outputs": [],
   "source": [
    "df.info()"
   ]
  },
  {
   "cell_type": "code",
   "execution_count": null,
   "id": "93587499",
   "metadata": {},
   "outputs": [],
   "source": [
    "df = joblib.load('Used_Cars_Price.z')"
   ]
  },
  {
   "cell_type": "code",
   "execution_count": null,
   "id": "34c2bdb0",
   "metadata": {},
   "outputs": [],
   "source": [
    "df.info()"
   ]
  },
  {
   "cell_type": "code",
   "execution_count": null,
   "id": "95a5a805",
   "metadata": {},
   "outputs": [],
   "source": [
    "df['Price'].describe()[['min', 'max']]"
   ]
  },
  {
   "cell_type": "code",
   "execution_count": null,
   "id": "b6ee169d",
   "metadata": {},
   "outputs": [],
   "source": [
    "sns.histplot(data = df, x = 'Price', binwidth = 1000, \n",
    "             binrange = (4000, 16000), fc = '1', ec = '0')\n",
    "plt.title(label = '중고차 가격의 분포');"
   ]
  },
  {
   "cell_type": "code",
   "execution_count": null,
   "id": "5e40f95d",
   "metadata": {},
   "outputs": [],
   "source": [
    "sns.kdeplot(data = df, x = 'Price', color = '0')\n",
    "plt.axvline(x = df['Price'].mean(), color = 'red', lw = 0.5, ls = '-')\n",
    "plt.axvline(x = df['Price'].median(), color = 'red', lw = 0.5, ls = '--')\n",
    "plt.title(label = '중고차 가격의 분포');"
   ]
  },
  {
   "cell_type": "code",
   "execution_count": null,
   "id": "32a509d6",
   "metadata": {},
   "outputs": [],
   "source": [
    "hds.plot.regline(data = df, x = 'Age', y = 'Price')"
   ]
  },
  {
   "cell_type": "code",
   "execution_count": null,
   "id": "9ddd7ba5",
   "metadata": {},
   "outputs": [],
   "source": [
    "hds.plot.regline(data = df, x = 'KM', y = 'Price')"
   ]
  },
  {
   "cell_type": "code",
   "execution_count": null,
   "id": "e5e5f095",
   "metadata": {},
   "outputs": [],
   "source": [
    "hds.plot.regline(data = df, x = np.log(df['KM']), y = 'Price')"
   ]
  },
  {
   "cell_type": "code",
   "execution_count": null,
   "id": "f8ffcfc1",
   "metadata": {},
   "outputs": [],
   "source": [
    "hds.plot.regline(data = df, x = 'HP', y = 'Price')"
   ]
  },
  {
   "cell_type": "code",
   "execution_count": null,
   "id": "2a735dfa",
   "metadata": {},
   "outputs": [],
   "source": [
    "hds.plot.regline(data = df, x = 'CC', y = 'Price')"
   ]
  },
  {
   "cell_type": "code",
   "execution_count": null,
   "id": "6f5d184a",
   "metadata": {},
   "outputs": [],
   "source": [
    "hds.plot.regline(data = df, x = 'Doors', y = 'Price')"
   ]
  },
  {
   "cell_type": "code",
   "execution_count": null,
   "id": "4fc399f2",
   "metadata": {},
   "outputs": [],
   "source": [
    "df['Doors'].value_counts().sort_index()"
   ]
  },
  {
   "cell_type": "code",
   "execution_count": null,
   "id": "01b3d787",
   "metadata": {},
   "outputs": [],
   "source": [
    "hds.plot.regline(data = df, x = 'Weight', y = 'Price')\n",
    "plt.axvline(x = 1250, color = 'red', ls = '--');"
   ]
  },
  {
   "cell_type": "code",
   "execution_count": null,
   "id": "d299ec7a",
   "metadata": {},
   "outputs": [],
   "source": [
    "sns.color_palette()"
   ]
  },
  {
   "cell_type": "code",
   "execution_count": null,
   "id": "8a3a9a49",
   "metadata": {},
   "outputs": [],
   "source": [
    "hds.plot.box_group(data = df, x = 'FuelType', y = 'Price', \n",
    "                   # pal = ['skyblue', 'orange', 'purple'], \n",
    "                   pal = 'Pastel1')"
   ]
  },
  {
   "cell_type": "code",
   "execution_count": null,
   "id": "0cdd6613",
   "metadata": {},
   "outputs": [],
   "source": [
    "hds.plot.box_group(data = df, x = 'MetColor', y = 'Price', pal = 'Pastel1')"
   ]
  },
  {
   "cell_type": "code",
   "execution_count": null,
   "id": "4b294de0",
   "metadata": {},
   "outputs": [],
   "source": [
    "hds.plot.box_group(data = df, x = 'Automatic', y = 'Price', pal = 'Pastel1')"
   ]
  },
  {
   "cell_type": "code",
   "execution_count": null,
   "id": "876b055a",
   "metadata": {},
   "outputs": [],
   "source": [
    "df = df[df['Doors'].ne(2) & df['Weight'].le(1250)]"
   ]
  },
  {
   "cell_type": "code",
   "execution_count": null,
   "id": "5a0ad662",
   "metadata": {},
   "outputs": [],
   "source": [
    "df = df.reset_index(drop = True)"
   ]
  },
  {
   "cell_type": "code",
   "execution_count": null,
   "id": "653b4878",
   "metadata": {},
   "outputs": [],
   "source": [
    "df.shape[0]"
   ]
  },
  {
   "cell_type": "code",
   "execution_count": null,
   "id": "e55a69b5",
   "metadata": {},
   "outputs": [],
   "source": [
    "joblib.dump(value = df, filename = 'Used_Cars_Price.z')"
   ]
  },
  {
   "cell_type": "code",
   "execution_count": null,
   "id": "e6b1986b",
   "metadata": {},
   "outputs": [],
   "source": []
  },
  {
   "cell_type": "code",
   "execution_count": 1,
   "id": "1fe667f9",
   "metadata": {},
   "outputs": [],
   "source": [
    "import os\n",
    "import joblib\n",
    "import numpy as np\n",
    "import pandas as pd\n",
    "from scipy import stats\n",
    "from GraphicSetting import *"
   ]
  },
  {
   "cell_type": "code",
   "execution_count": 19,
   "id": "1bedfee0",
   "metadata": {},
   "outputs": [],
   "source": [
    "np.random.seed(seed = 1234)"
   ]
  },
  {
   "cell_type": "code",
   "execution_count": 20,
   "id": "9bacb0d0",
   "metadata": {},
   "outputs": [],
   "source": [
    "heights = stats.norm.rvs(loc = 175, scale = 5, size = 5000)"
   ]
  },
  {
   "cell_type": "code",
   "execution_count": 21,
   "id": "afe9f506",
   "metadata": {},
   "outputs": [
    {
     "data": {
      "text/plain": [
       "175.12138663450918"
      ]
     },
     "execution_count": 21,
     "metadata": {},
     "output_type": "execute_result"
    }
   ],
   "source": [
    "heights.mean()"
   ]
  },
  {
   "cell_type": "code",
   "execution_count": 22,
   "id": "240322c3",
   "metadata": {},
   "outputs": [
    {
     "data": {
      "text/plain": [
       "4.9588737381446055"
      ]
     },
     "execution_count": 22,
     "metadata": {},
     "output_type": "execute_result"
    }
   ],
   "source": [
    "heights.std()"
   ]
  },
  {
   "cell_type": "code",
   "execution_count": 30,
   "id": "2054b163",
   "metadata": {},
   "outputs": [
    {
     "data": {
      "text/plain": [
       "0.02659615202676218"
      ]
     },
     "execution_count": 30,
     "metadata": {},
     "output_type": "execute_result"
    }
   ],
   "source": [
    "stats.norm.pdf(x = 175, loc = 175, scale = 15)"
   ]
  },
  {
   "cell_type": "code",
   "execution_count": 31,
   "id": "eb8ea4b3",
   "metadata": {},
   "outputs": [
    {
     "data": {
      "text/plain": [
       "0.03989422804014327"
      ]
     },
     "execution_count": 31,
     "metadata": {},
     "output_type": "execute_result"
    }
   ],
   "source": [
    "stats.norm.pdf(x = 175, loc = 175, scale = 10)"
   ]
  },
  {
   "cell_type": "code",
   "execution_count": 32,
   "id": "3df2fbef",
   "metadata": {},
   "outputs": [
    {
     "data": {
      "text/plain": [
       "0.07978845608028654"
      ]
     },
     "execution_count": 32,
     "metadata": {},
     "output_type": "execute_result"
    }
   ],
   "source": [
    "stats.norm.pdf(x = 175, loc = 175, scale = 5)"
   ]
  },
  {
   "cell_type": "code",
   "execution_count": 33,
   "id": "29427721",
   "metadata": {},
   "outputs": [],
   "source": [
    "x = np.linspace(130, 220, 100+1)\n",
    "y1 = stats.norm.pdf(x = x, loc = 175, scale = 15)\n",
    "y2 = stats.norm.pdf(x = x, loc = 175, scale = 10)\n",
    "y3 = stats.norm.pdf(x = x, loc = 175, scale = 5)"
   ]
  },
  {
   "cell_type": "code",
   "execution_count": 34,
   "id": "bbe89eea",
   "metadata": {},
   "outputs": [
    {
     "data": {
      "image/png": "[encoded data removed]",
      "text/plain": [
       "<Figure size 400x400 with 1 Axes>"
      ]
     },
     "metadata": {},
     "output_type": "display_data"
    }
   ],
   "source": [
    "sns.lineplot(x = x, y = y1, color = 'black', label = 'Std: 15')\n",
    "sns.lineplot(x = x, y = y2, color = 'blue', label = 'Std: 10')\n",
    "sns.lineplot(x = x, y = y3, color = 'red', label = 'Std: 5');"
   ]
  },
  {
   "cell_type": "code",
   "execution_count": 35,
   "id": "683258e4",
   "metadata": {},
   "outputs": [
    {
     "data": {
      "text/plain": [
       "0.7475074624530771"
      ]
     },
     "execution_count": 35,
     "metadata": {},
     "output_type": "execute_result"
    }
   ],
   "source": [
    "stats.norm.cdf(x = 185, loc = 175, scale = 15)"
   ]
  },
  {
   "cell_type": "code",
   "execution_count": 36,
   "id": "77b5505e",
   "metadata": {},
   "outputs": [
    {
     "data": {
      "text/plain": [
       "0.8413447460685429"
      ]
     },
     "execution_count": 36,
     "metadata": {},
     "output_type": "execute_result"
    }
   ],
   "source": [
    "stats.norm.cdf(x = 185, loc = 175, scale = 10)"
   ]
  },
  {
   "cell_type": "code",
   "execution_count": 37,
   "id": "c97324e7",
   "metadata": {},
   "outputs": [
    {
     "data": {
      "text/plain": [
       "0.9772498680518208"
      ]
     },
     "execution_count": 37,
     "metadata": {},
     "output_type": "execute_result"
    }
   ],
   "source": [
    "stats.norm.cdf(x = 185, loc = 175, scale = 5)"
   ]
  },
  {
   "cell_type": "code",
   "execution_count": 38,
   "id": "8fc728d2",
   "metadata": {},
   "outputs": [
    {
     "data": {
      "text/plain": [
       "array([0.15865525, 0.84134475])"
      ]
     },
     "execution_count": 38,
     "metadata": {},
     "output_type": "execute_result"
    }
   ],
   "source": [
    "stats.norm.cdf(x = [170, 180], loc = 175, scale = 5)"
   ]
  },
  {
   "cell_type": "code",
   "execution_count": 40,
   "id": "811e7665",
   "metadata": {},
   "outputs": [
    {
     "data": {
      "text/plain": [
       "array([0.68268949])"
      ]
     },
     "execution_count": 40,
     "metadata": {},
     "output_type": "execute_result"
    }
   ],
   "source": [
    "np.diff(stats.norm.cdf(x = [170, 180], loc = 175, scale = 5))"
   ]
  },
  {
   "cell_type": "code",
   "execution_count": 41,
   "id": "9c0e62a3",
   "metadata": {},
   "outputs": [
    {
     "data": {
      "text/plain": [
       "array([0.02271846])"
      ]
     },
     "execution_count": 41,
     "metadata": {},
     "output_type": "execute_result"
    }
   ],
   "source": [
    "np.diff(stats.norm.cdf(x = [4, 5], loc = 3, scale = 0.5))"
   ]
  },
  {
   "cell_type": "code",
   "execution_count": 42,
   "id": "a1dff076",
   "metadata": {},
   "outputs": [
    {
     "data": {
      "text/plain": [
       "185.0"
      ]
     },
     "execution_count": 42,
     "metadata": {},
     "output_type": "execute_result"
    }
   ],
   "source": [
    "stats.norm.ppf(q = 0.7475074624530771, loc = 175, scale = 15)"
   ]
  },
  {
   "cell_type": "code",
   "execution_count": 43,
   "id": "b58df852",
   "metadata": {},
   "outputs": [
    {
     "data": {
      "text/plain": [
       "185.0"
      ]
     },
     "execution_count": 43,
     "metadata": {},
     "output_type": "execute_result"
    }
   ],
   "source": [
    "stats.norm.ppf(q = 0.8413447460685429, loc = 175, scale = 10)"
   ]
  },
  {
   "cell_type": "code",
   "execution_count": 44,
   "id": "9b55e8c5",
   "metadata": {},
   "outputs": [
    {
     "data": {
      "text/plain": [
       "185.0"
      ]
     },
     "execution_count": 44,
     "metadata": {},
     "output_type": "execute_result"
    }
   ],
   "source": [
    "stats.norm.ppf(q = 0.9772498680518208, loc = 175, scale = 5)"
   ]
  },
  {
   "cell_type": "code",
   "execution_count": 45,
   "id": "a906f18f",
   "metadata": {},
   "outputs": [
    {
     "data": {
      "text/plain": [
       "183.22426813475735"
      ]
     },
     "execution_count": 45,
     "metadata": {},
     "output_type": "execute_result"
    }
   ],
   "source": [
    "stats.norm.ppf(q = 0.95, loc = 175, scale = 5)"
   ]
  },
  {
   "cell_type": "code",
   "execution_count": 46,
   "id": "e8e48d44",
   "metadata": {},
   "outputs": [
    {
     "data": {
      "text/plain": [
       "186.6317393702042"
      ]
     },
     "execution_count": 46,
     "metadata": {},
     "output_type": "execute_result"
    }
   ],
   "source": [
    "stats.norm.ppf(q = 0.99, loc = 175, scale = 5)"
   ]
  },
  {
   "cell_type": "code",
   "execution_count": 47,
   "id": "e6d12639",
   "metadata": {},
   "outputs": [
    {
     "data": {
      "text/plain": [
       "-0.03668062034777025"
      ]
     },
     "execution_count": 47,
     "metadata": {},
     "output_type": "execute_result"
    }
   ],
   "source": [
    "stats.skew(heights)"
   ]
  },
  {
   "cell_type": "code",
   "execution_count": 48,
   "id": "829e728a",
   "metadata": {},
   "outputs": [
    {
     "data": {
      "text/plain": [
       "-0.07067499523641407"
      ]
     },
     "execution_count": 48,
     "metadata": {},
     "output_type": "execute_result"
    }
   ],
   "source": [
    "stats.kurtosis(heights)"
   ]
  },
  {
   "cell_type": "code",
   "execution_count": 49,
   "id": "89697431",
   "metadata": {},
   "outputs": [
    {
     "data": {
      "text/plain": [
       "ShapiroResult(statistic=0.9995919466018677, pvalue=0.396047443151474)"
      ]
     },
     "execution_count": 49,
     "metadata": {},
     "output_type": "execute_result"
    }
   ],
   "source": [
    "stats.shapiro(heights)"
   ]
  },
  {
   "cell_type": "code",
   "execution_count": 50,
   "id": "75f354f4",
   "metadata": {},
   "outputs": [],
   "source": [
    "np.random.seed(seed = 1234)\n",
    "heights = stats.norm.rvs(loc = 175, scale = 5, size = 10000)"
   ]
  },
  {
   "cell_type": "code",
   "execution_count": 51,
   "id": "a38bf175",
   "metadata": {},
   "outputs": [
    {
     "name": "stderr",
     "output_type": "stream",
     "text": [
      "C:\\Users\\hdsce\\ve311\\Lib\\site-packages\\scipy\\stats\\_morestats.py:1816: UserWarning: p-value may not be accurate for N > 5000.\n",
      "  warnings.warn(\"p-value may not be accurate for N > 5000.\")\n"
     ]
    },
    {
     "data": {
      "text/plain": [
       "ShapiroResult(statistic=0.9996193051338196, pvalue=0.04346244037151337)"
      ]
     },
     "execution_count": 51,
     "metadata": {},
     "output_type": "execute_result"
    }
   ],
   "source": [
    "stats.shapiro(heights)"
   ]
  },
  {
   "cell_type": "code",
   "execution_count": 52,
   "id": "9f2b7169",
   "metadata": {},
   "outputs": [
    {
     "data": {
      "text/plain": [
       "AndersonResult(statistic=0.35265258232357155, critical_values=array([0.576, 0.656, 0.787, 0.918, 1.092]), significance_level=array([15. , 10. ,  5. ,  2.5,  1. ]), fit_result=  params: FitParams(loc=175.08063230023598, scale=4.9761483416071846)\n",
       " success: True\n",
       " message: '`anderson` successfully fit the distribution to the data.')"
      ]
     },
     "execution_count": 52,
     "metadata": {},
     "output_type": "execute_result"
    }
   ],
   "source": [
    "stats.anderson(heights)"
   ]
  },
  {
   "cell_type": "code",
   "execution_count": 53,
   "id": "bcb0394f",
   "metadata": {},
   "outputs": [],
   "source": [
    "def scale(x, loc, scale):\n",
    "    return (x - loc) / scale"
   ]
  },
  {
   "cell_type": "code",
   "execution_count": 54,
   "id": "91b77d39",
   "metadata": {},
   "outputs": [
    {
     "data": {
      "text/plain": [
       "1.0"
      ]
     },
     "execution_count": 54,
     "metadata": {},
     "output_type": "execute_result"
    }
   ],
   "source": [
    "scale(x = 90, loc = 75, scale = 15)"
   ]
  },
  {
   "cell_type": "code",
   "execution_count": 55,
   "id": "b5ae4974",
   "metadata": {},
   "outputs": [
    {
     "data": {
      "text/plain": [
       "1.5"
      ]
     },
     "execution_count": 55,
     "metadata": {},
     "output_type": "execute_result"
    }
   ],
   "source": [
    "scale(x = 55, loc = 40, scale = 10)"
   ]
  },
  {
   "cell_type": "code",
   "execution_count": 57,
   "id": "8a5e5355",
   "metadata": {},
   "outputs": [
    {
     "data": {
      "text/plain": [
       "array([ 1., -1.])"
      ]
     },
     "execution_count": 57,
     "metadata": {},
     "output_type": "execute_result"
    }
   ],
   "source": [
    "stats.zscore([90, 80])"
   ]
  },
  {
   "cell_type": "code",
   "execution_count": 58,
   "id": "6dadb63f",
   "metadata": {},
   "outputs": [],
   "source": [
    "hgts = pd.Series(data = heights)"
   ]
  },
  {
   "cell_type": "code",
   "execution_count": 59,
   "id": "6a4519aa",
   "metadata": {
    "collapsed": true
   },
   "outputs": [
    {
     "data": {
      "text/plain": [
       "0       0.471435\n",
       "1      -1.190976\n",
       "2       1.432707\n",
       "3      -0.312652\n",
       "4      -0.720589\n",
       "          ...   \n",
       "9995   -1.048099\n",
       "9996   -0.778784\n",
       "9997   -1.052461\n",
       "9998   -0.497693\n",
       "9999   -0.256006\n",
       "Length: 10000, dtype: float64"
      ]
     },
     "execution_count": 59,
     "metadata": {},
     "output_type": "execute_result"
    }
   ],
   "source": [
    "scaled = scale(x = hgts, loc = 175, scale = 5)\n",
    "scaled"
   ]
  },
  {
   "cell_type": "code",
   "execution_count": 65,
   "id": "e345efcb",
   "metadata": {},
   "outputs": [
    {
     "data": {
      "text/plain": [
       "0       False\n",
       "1       False\n",
       "2       False\n",
       "3       False\n",
       "4       False\n",
       "        ...  \n",
       "9995    False\n",
       "9996    False\n",
       "9997    False\n",
       "9998    False\n",
       "9999    False\n",
       "Length: 10000, dtype: bool"
      ]
     },
     "execution_count": 65,
     "metadata": {},
     "output_type": "execute_result"
    }
   ],
   "source": [
    "scaled.abs() > 3"
   ]
  },
  {
   "cell_type": "code",
   "execution_count": 67,
   "id": "67536875",
   "metadata": {},
   "outputs": [
    {
     "data": {
      "text/plain": [
       "(array([  81, 1307, 1333, 1670, 2053, 2289, 3136, 3924, 4477, 4599, 4712,\n",
       "        5274, 5903, 7040, 7510, 7743, 8578, 8650, 9406, 9888], dtype=int64),)"
      ]
     },
     "execution_count": 67,
     "metadata": {},
     "output_type": "execute_result"
    }
   ],
   "source": [
    "locs = np.where(scaled.abs() > 3)\n",
    "locs"
   ]
  },
  {
   "cell_type": "code",
   "execution_count": 83,
   "id": "d80c9288",
   "metadata": {},
   "outputs": [
    {
     "data": {
      "text/plain": [
       "(array([0, 3], dtype=int64),)"
      ]
     },
     "execution_count": 83,
     "metadata": {},
     "output_type": "execute_result"
    }
   ],
   "source": [
    "np.where([True, False, False, True])"
   ]
  },
  {
   "cell_type": "code",
   "execution_count": 70,
   "id": "bcc93241",
   "metadata": {
    "collapsed": true
   },
   "outputs": [
    {
     "data": {
      "text/plain": [
       "81     -3.563517\n",
       "1307    3.125635\n",
       "1333    3.109635\n",
       "1670   -3.880898\n",
       "2053   -3.277304\n",
       "2289    3.220568\n",
       "3136   -3.233505\n",
       "3924   -3.434819\n",
       "4477   -3.016387\n",
       "4599   -3.150762\n",
       "4712    3.001147\n",
       "5274   -3.264204\n",
       "5903   -3.599400\n",
       "7040   -3.263783\n",
       "7510   -3.148311\n",
       "7743    3.287788\n",
       "8578   -3.331437\n",
       "8650   -3.858669\n",
       "9406    3.037643\n",
       "9888   -3.052183\n",
       "dtype: float64"
      ]
     },
     "execution_count": 70,
     "metadata": {},
     "output_type": "execute_result"
    }
   ],
   "source": [
    "scaled[locs[0]]"
   ]
  },
  {
   "cell_type": "code",
   "execution_count": 71,
   "id": "159cc105",
   "metadata": {},
   "outputs": [],
   "source": [
    "outs = hgts[locs[0]]"
   ]
  },
  {
   "cell_type": "code",
   "execution_count": 72,
   "id": "34905001",
   "metadata": {},
   "outputs": [
    {
     "data": {
      "text/plain": [
       "RangeIndex(start=0, stop=10000, step=1)"
      ]
     },
     "execution_count": 72,
     "metadata": {},
     "output_type": "execute_result"
    }
   ],
   "source": [
    "hgts.index"
   ]
  },
  {
   "cell_type": "code",
   "execution_count": 79,
   "id": "1fb7f4dd",
   "metadata": {},
   "outputs": [
    {
     "data": {
      "image/png": "[encoded data removed]",
      "text/plain": [
       "<Figure size 800x400 with 1 Axes>"
      ]
     },
     "metadata": {},
     "output_type": "display_data"
    }
   ],
   "source": [
    "plt.figure(figsize = (8, 4))\n",
    "sns.scatterplot(x = hgts.index, y = hgts, s = 20, color = '0.8', alpha = 0.2)\n",
    "sns.scatterplot(x = outs.index, y = outs, s = 20, color = 'red')\n",
    "plt.axhline(y = 175, color = '0', lw = 0.5, ls = '-')\n",
    "plt.axhline(y = 190, color = '0', lw = 0.5, ls = '--')\n",
    "plt.axhline(y = 160, color = '0', lw = 0.5, ls = '--');"
   ]
  },
  {
   "cell_type": "code",
   "execution_count": null,
   "id": "c250a746",
   "metadata": {},
   "outputs": [],
   "source": []
  }
 ],
 "metadata": {
  "kernelspec": {
   "display_name": "Python 3 (ipykernel)",
   "language": "python",
   "name": "python3"
  },
  "language_info": {
   "codemirror_mode": {
    "name": "ipython",
    "version": 3
   },
   "file_extension": ".py",
   "mimetype": "text/x-python",
   "name": "python",
   "nbconvert_exporter": "python",
   "pygments_lexer": "ipython3",
   "version": "3.11.3"
  }
 },
 "nbformat": 4,
 "nbformat_minor": 5
}
