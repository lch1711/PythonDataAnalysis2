{
 "cells": [
  {
   "cell_type": "markdown",
   "id": "d67ed441",
   "metadata": {},
   "source": [
    "## 사후과제"
   ]
  },
  {
   "cell_type": "markdown",
   "id": "b9412587",
   "metadata": {},
   "source": [
    "- 아래 링크를 읽고 데이터프레임을 생성합니다.\n",
    "  - url : https://bit.ly/Gangnam_APT_Price_2021_txt (구분자: ';', 인코딩방식: 'UTF-16BE')\n",
    "  \n",
    "  \n",
    "- 데이터 전처리와 시각화 및 통계분석을 실행합니다."
   ]
  },
  {
   "cell_type": "markdown",
   "id": "06860a4d",
   "metadata": {},
   "source": [
    "### 실습 데이터셋 안내\n",
    "\n",
    "- price: 거래금액 [목표변수]\n",
    "- date: 거래일자\n",
    "- aptName: 아파트단지명\n",
    "- dongName: 법정동\n",
    "- householdCnt: 아파트단지 세대수\n",
    "- floorAreaRate: 아파트단지 용적률\n",
    "- parkingLotCnt: 아파트단지 주차대수\n",
    "- exclusiveArea: 전용면적\n",
    "- floor: 층"
   ]
  },
  {
   "cell_type": "markdown",
   "id": "02695637",
   "metadata": {},
   "source": [
    "### 실습 데이터셋 준비\n",
    "\n",
    "URL을 읽고 데이터프레임을 생성합니다.<br>\n",
    "서울특별시 강남구 전지역에서 APT 매매가격에 편차가 크므로 일부 지역을 선택하고<br>\n",
    "세대수(householdCnt)와 매매가격(price)이 일정 기준 이상인 행만 남깁니다."
   ]
  },
  {
   "cell_type": "code",
   "execution_count": null,
   "id": "7619df2e",
   "metadata": {
    "ExecuteTime": {
     "end_time": "2022-06-07T14:12:36.231611Z",
     "start_time": "2022-06-07T14:12:35.624533Z"
    }
   },
   "outputs": [],
   "source": [
    "# 관련 라이브러리를 호출합니다.\n"
   ]
  },
  {
   "cell_type": "code",
   "execution_count": null,
   "id": "8d222585",
   "metadata": {
    "ExecuteTime": {
     "end_time": "2022-06-07T14:12:36.236205Z",
     "start_time": "2022-06-07T14:12:36.234076Z"
    }
   },
   "outputs": [],
   "source": [
    "# 온라인으로 공유 중인 csv 파일 주소를 URL에 할당합니다.\n"
   ]
  },
  {
   "cell_type": "code",
   "execution_count": null,
   "id": "45e3b38f",
   "metadata": {
    "ExecuteTime": {
     "end_time": "2022-06-07T14:12:36.983274Z",
     "start_time": "2022-06-07T14:12:36.238275Z"
    }
   },
   "outputs": [],
   "source": [
    "# URL을 읽고 데이터프레임 apt를 생성합니다.\n"
   ]
  },
  {
   "cell_type": "code",
   "execution_count": null,
   "id": "7ce0699d",
   "metadata": {
    "ExecuteTime": {
     "end_time": "2022-06-07T14:12:36.995142Z",
     "start_time": "2022-06-07T14:12:36.986333Z"
    }
   },
   "outputs": [],
   "source": [
    "# apt의 정보를 확인합니다.\n"
   ]
  },
  {
   "cell_type": "code",
   "execution_count": null,
   "id": "d9b08400",
   "metadata": {
    "ExecuteTime": {
     "end_time": "2022-06-07T14:12:37.018391Z",
     "start_time": "2022-06-07T14:12:36.996676Z"
    },
    "scrolled": true
   },
   "outputs": [],
   "source": [
    "# apt의 처음 5행을 출력합니다.\n"
   ]
  },
  {
   "cell_type": "code",
   "execution_count": null,
   "id": "81b814f3",
   "metadata": {},
   "outputs": [],
   "source": [
    "# dongName 범주별 price의 평균과 표준편차 및 빈도수를 확인합니다.\n"
   ]
  },
  {
   "cell_type": "code",
   "execution_count": null,
   "id": "08309c69",
   "metadata": {},
   "outputs": [],
   "source": [
    "# '압구정동', '청담동', '삼성동', '대치동', '역삼동' 및 '도곡동'을 원소로 갖는 \n",
    "# 리스트 dongs를 생성합니다.\n"
   ]
  },
  {
   "cell_type": "code",
   "execution_count": null,
   "id": "6de85d04",
   "metadata": {},
   "outputs": [],
   "source": [
    "# dongName이 dongs의 원소일 때 True, 아니면 False인 부울형 시리즈 locs를 생성합니다.\n"
   ]
  },
  {
   "cell_type": "code",
   "execution_count": null,
   "id": "48a4fa83",
   "metadata": {},
   "outputs": [],
   "source": [
    "# apt에서 locs가 True인 행을 선택하고 apt에 재할당합니다.\n"
   ]
  },
  {
   "cell_type": "code",
   "execution_count": null,
   "id": "f0eec5eb",
   "metadata": {},
   "outputs": [],
   "source": [
    "# householdCnt가 100 이상인 행만 남기고 apt에 재할당합니다.\n"
   ]
  },
  {
   "cell_type": "code",
   "execution_count": null,
   "id": "c55c3b9d",
   "metadata": {},
   "outputs": [],
   "source": [
    "# price가 10 이상인 행만 남기고 apt에 재할당합니다.\n"
   ]
  },
  {
   "cell_type": "code",
   "execution_count": null,
   "id": "d1e2d44d",
   "metadata": {},
   "outputs": [],
   "source": [
    "# apt의 행 길이를 출력합니다.\n"
   ]
  },
  {
   "cell_type": "markdown",
   "id": "7690eedc",
   "metadata": {},
   "source": [
    "### 데이터 전처리\n",
    "\n",
    "열별로 결측값 개수를 확인합니다. 단순대체 또는 결측값이 있는 행을 삭제해야 합니다.<br>\n",
    "날짜 데이터를 날짜형(np.datetime64)으로 변환하고 월을 정수로 추출합니다.<br>\n",
    "실수형 변수가 목표변수와 직선의 관계가 아니면 구간화(binning)로 범주형 변수를 생성합니다.<br>\n",
    "불필요한 변수를 삭제하고 기술통계량을 확인합니다."
   ]
  },
  {
   "cell_type": "code",
   "execution_count": null,
   "id": "c34100dc",
   "metadata": {},
   "outputs": [],
   "source": [
    "# apt의 열별 결측값 개수를 확인합니다.\n"
   ]
  },
  {
   "cell_type": "code",
   "execution_count": null,
   "id": "666a2a60",
   "metadata": {},
   "outputs": [],
   "source": [
    "# 문자형 변수 date의 이름을 tradeDate로 변경합니다.\n"
   ]
  },
  {
   "cell_type": "code",
   "execution_count": null,
   "id": "4a47fbbf",
   "metadata": {},
   "outputs": [],
   "source": [
    "# tradeDate의 자료형을 날짜형(np.datetime64)으로 변환합니다.\n"
   ]
  },
  {
   "cell_type": "code",
   "execution_count": null,
   "id": "d888b22a",
   "metadata": {},
   "outputs": [],
   "source": [
    "# tradeDate에서 '월'을 추출하여 정수형 변수 tradeMonth를 생성합니다.\n"
   ]
  },
  {
   "cell_type": "code",
   "execution_count": null,
   "id": "3e72d160",
   "metadata": {},
   "outputs": [],
   "source": [
    "# 정수형 변수 parkingLotCnt를 정수형 변수 householdCnt로 나눈 값을 반올림하여 \n",
    "# 소수점 둘째자리까지 남긴 실수형 변수 parkingLotHouse를 생성합니다.\n"
   ]
  },
  {
   "cell_type": "code",
   "execution_count": null,
   "id": "50fe29a5",
   "metadata": {
    "ExecuteTime": {
     "end_time": "2022-06-07T14:12:37.032316Z",
     "start_time": "2022-06-07T14:12:37.029929Z"
    }
   },
   "outputs": [],
   "source": [
    "# 실수형 변수 parkingLotHouse가 1.25 이상이면 'Plenty', 1.25 미만이면 'Short'인 \n",
    "# 문자형 변수 parkingLotGubun을 생성합니다.\n"
   ]
  },
  {
   "cell_type": "code",
   "execution_count": null,
   "id": "1f049b2d",
   "metadata": {},
   "outputs": [],
   "source": [
    "# 정수형 변수 householdCnt가 1000 이상이면 'Large', 500 이상 1000 미만이면 \n",
    "# 'Medium', 0 이상 500 미만이면 'Small'인 문자형 변수 aptSizeGubun을 생성합니다.\n"
   ]
  },
  {
   "cell_type": "code",
   "execution_count": null,
   "id": "8ca1bd50",
   "metadata": {},
   "outputs": [],
   "source": [
    "# apt에서 변수 tradeDate, aptName, dongName 및 tradeMonth를 삭제합니다.\n"
   ]
  },
  {
   "cell_type": "code",
   "execution_count": null,
   "id": "70bae0dc",
   "metadata": {
    "ExecuteTime": {
     "end_time": "2022-06-07T14:12:37.039665Z",
     "start_time": "2022-06-07T14:12:37.033907Z"
    },
    "scrolled": true
   },
   "outputs": [],
   "source": [
    "# apt의 처음 10행을 출력합니다.\n"
   ]
  },
  {
   "cell_type": "code",
   "execution_count": null,
   "id": "3565020b",
   "metadata": {},
   "outputs": [],
   "source": [
    "# apt의 수치형 변수에 대한 기술통계량을 확인합니다.\n"
   ]
  },
  {
   "cell_type": "code",
   "execution_count": null,
   "id": "36601d60",
   "metadata": {},
   "outputs": [],
   "source": [
    "# apt의 범주형 변수에 대한 기술통계량을 확인합니다.\n"
   ]
  },
  {
   "cell_type": "code",
   "execution_count": null,
   "id": "69cc3009",
   "metadata": {},
   "outputs": [],
   "source": [
    "# parkingLotGubun 범주별 빈도수를 확인합니다.\n"
   ]
  },
  {
   "cell_type": "code",
   "execution_count": null,
   "id": "2d079652",
   "metadata": {},
   "outputs": [],
   "source": [
    "# aptSizeGubun 범주별 빈도수를 확인합니다.\n"
   ]
  },
  {
   "cell_type": "markdown",
   "id": "f9cb2db6",
   "metadata": {},
   "source": [
    "### 데이터 시각화\n",
    "\n",
    "price의 히스토그램과 상자 수염 그림을 그려서 분포를 확인하고, <br>\n",
    "실수형 변수와 산점도를 그려서 직선의 관계가 있는지 확인합니다.<br>\n",
    "범주형 변수와 상자 수염 그림을 그려서 평균의 차이가 있는지 확인합니다.<br>"
   ]
  },
  {
   "cell_type": "code",
   "execution_count": null,
   "id": "6a62dd5d",
   "metadata": {
    "ExecuteTime": {
     "end_time": "2022-06-07T14:12:37.899309Z",
     "start_time": "2022-06-07T14:12:37.058981Z"
    }
   },
   "outputs": [],
   "source": [
    "# 시각화 관련 모듈을 호출합니다.\n",
    "from GraphicSetting import *\n",
    "import HelloDataScience as hds"
   ]
  },
  {
   "cell_type": "code",
   "execution_count": null,
   "id": "a432ac78",
   "metadata": {
    "ExecuteTime": {
     "end_time": "2022-06-07T14:12:37.904292Z",
     "start_time": "2022-06-07T14:12:37.901399Z"
    }
   },
   "outputs": [],
   "source": [
    "# 기본 팔레트를 'Set1'으로 설정합니다.\n"
   ]
  },
  {
   "cell_type": "code",
   "execution_count": null,
   "id": "8bf51956",
   "metadata": {
    "ExecuteTime": {
     "end_time": "2022-06-07T14:12:37.909706Z",
     "start_time": "2022-06-07T14:12:37.906024Z"
    }
   },
   "outputs": [],
   "source": [
    "# 기본 팔레트 색을 출력합니다.\n"
   ]
  },
  {
   "cell_type": "code",
   "execution_count": null,
   "id": "41164c6f",
   "metadata": {
    "ExecuteTime": {
     "end_time": "2022-06-07T14:12:37.917754Z",
     "start_time": "2022-06-07T14:12:37.911404Z"
    }
   },
   "outputs": [],
   "source": [
    "# price의 최솟값과 최댓값을 확인합니다.\n"
   ]
  },
  {
   "cell_type": "code",
   "execution_count": null,
   "id": "34a2194f",
   "metadata": {
    "ExecuteTime": {
     "end_time": "2022-06-07T14:12:38.052010Z",
     "start_time": "2022-06-07T14:12:37.923654Z"
    }
   },
   "outputs": [],
   "source": [
    "# price로 히스토그램을 그립니다.\n"
   ]
  },
  {
   "cell_type": "code",
   "execution_count": null,
   "id": "2486b943",
   "metadata": {
    "ExecuteTime": {
     "end_time": "2022-06-07T14:12:38.132114Z",
     "start_time": "2022-06-07T14:12:38.053808Z"
    }
   },
   "outputs": [],
   "source": [
    "# price로 상자 수염 그림을 세워서 그립니다.\n"
   ]
  },
  {
   "cell_type": "code",
   "execution_count": null,
   "id": "d413f9fd",
   "metadata": {},
   "outputs": [],
   "source": [
    "# apt의 열별 자료형을 출력합니다.\n"
   ]
  },
  {
   "cell_type": "code",
   "execution_count": null,
   "id": "4c0f7333",
   "metadata": {},
   "outputs": [],
   "source": [
    "# apt에서 열별 자료형이 수치형(실수형 또는 정수형)이면 True, 아니면 False인 시리즈 \n",
    "# locs를 생성합니다.\n"
   ]
  },
  {
   "cell_type": "code",
   "execution_count": null,
   "id": "dbc7831d",
   "metadata": {},
   "outputs": [],
   "source": [
    "# locs를 출력합니다.\n"
   ]
  },
  {
   "cell_type": "code",
   "execution_count": null,
   "id": "75d7aeb8",
   "metadata": {
    "scrolled": false
   },
   "outputs": [],
   "source": [
    "# apt에서 수치형 변수만 선택합니다.\n"
   ]
  },
  {
   "cell_type": "code",
   "execution_count": null,
   "id": "126c7d7a",
   "metadata": {},
   "outputs": [],
   "source": [
    "# apt에서 열별 자료형이 수치형인 열이름을 출력합니다.\n"
   ]
  },
  {
   "cell_type": "code",
   "execution_count": null,
   "id": "5a2b7a2a",
   "metadata": {},
   "outputs": [],
   "source": [
    "# householdCnt와 price의 산점도를 그립니다.\n"
   ]
  },
  {
   "cell_type": "code",
   "execution_count": null,
   "id": "5d34458e",
   "metadata": {},
   "outputs": [],
   "source": [
    "# floorAreaRate와 price의 산점도를 그립니다.\n"
   ]
  },
  {
   "cell_type": "code",
   "execution_count": null,
   "id": "0d4ebdcd",
   "metadata": {},
   "outputs": [],
   "source": [
    "# parkingLotCnt와 price의 산점도를 그립니다.\n"
   ]
  },
  {
   "cell_type": "code",
   "execution_count": null,
   "id": "8f6ad5e9",
   "metadata": {},
   "outputs": [],
   "source": [
    "# exclusiveArea와 price의 산점도를 그립니다.\n"
   ]
  },
  {
   "cell_type": "code",
   "execution_count": null,
   "id": "26ff2d00",
   "metadata": {},
   "outputs": [],
   "source": [
    "# floor와 price의 산점도를 그립니다.\n"
   ]
  },
  {
   "cell_type": "code",
   "execution_count": null,
   "id": "bfccf075",
   "metadata": {},
   "outputs": [],
   "source": [
    "# parkingLotHouse와 price의 산점도를 그립니다.\n"
   ]
  },
  {
   "cell_type": "code",
   "execution_count": null,
   "id": "76cacd8a",
   "metadata": {},
   "outputs": [],
   "source": [
    "# parkingLotGubun 범주별 price의 분포를 비교합니다.\n"
   ]
  },
  {
   "cell_type": "code",
   "execution_count": null,
   "id": "b13a0036",
   "metadata": {},
   "outputs": [],
   "source": [
    "# aptSizeGubun 범주별 price의 분포를 비교합니다.\n"
   ]
  },
  {
   "cell_type": "markdown",
   "id": "e64ee035",
   "metadata": {},
   "source": [
    "### 피어슨 상관분석\n",
    "\n",
    "apt에서 실수형 열을 선택하고 price와의 피어슨 상관분석을 실행합니다."
   ]
  },
  {
   "cell_type": "code",
   "execution_count": null,
   "id": "4358b679",
   "metadata": {
    "scrolled": true
   },
   "outputs": [],
   "source": [
    "# apt의 수치형 변수와 price의 피어슨 상관분석을 실행하고 유의확률을 출력합니다.\n"
   ]
  },
  {
   "cell_type": "code",
   "execution_count": null,
   "id": "a6b214b1",
   "metadata": {},
   "outputs": [],
   "source": [
    "# apt의 수치형 변수와 price의 피어슨 상관분석을 실행하고 상관계수를 출력합니다.\n"
   ]
  },
  {
   "cell_type": "markdown",
   "id": "808adfbf",
   "metadata": {},
   "source": [
    "### t-검정: parkingLotGubun\n",
    "\n",
    "parkingLotGubun 범주별 price의 평균이 같은지 확인합니다."
   ]
  },
  {
   "cell_type": "code",
   "execution_count": null,
   "id": "cd447796",
   "metadata": {
    "scrolled": true
   },
   "outputs": [],
   "source": [
    "# apt의 parkingLotGubun 범주별 price의 평균을 확인합니다.\n"
   ]
  },
  {
   "cell_type": "code",
   "execution_count": null,
   "id": "1e2fb63d",
   "metadata": {
    "ExecuteTime": {
     "end_time": "2022-06-07T14:40:03.024451Z",
     "start_time": "2022-06-07T14:40:03.012526Z"
    }
   },
   "outputs": [],
   "source": [
    "# apt의 parkingLotGubun 범주별 price의 정규성 검정을 실행합니다.\n"
   ]
  },
  {
   "cell_type": "code",
   "execution_count": null,
   "id": "75b57b84",
   "metadata": {
    "ExecuteTime": {
     "end_time": "2022-06-07T14:40:03.034422Z",
     "start_time": "2022-06-07T14:40:03.026109Z"
    }
   },
   "outputs": [],
   "source": [
    "# (정규성 가정 만족) apt의 parkingLotGubun 범주별 price의 등분산성 검정을 실행합니다.\n"
   ]
  },
  {
   "cell_type": "code",
   "execution_count": null,
   "id": "ff35dc8e",
   "metadata": {},
   "outputs": [],
   "source": [
    "# parkingLotGubun 원소의 중복을 제거한 values를 생성합니다.\n"
   ]
  },
  {
   "cell_type": "code",
   "execution_count": null,
   "id": "a6e76983",
   "metadata": {},
   "outputs": [],
   "source": [
    "# values를 출력합니다.\n"
   ]
  },
  {
   "cell_type": "code",
   "execution_count": null,
   "id": "9f007838",
   "metadata": {},
   "outputs": [],
   "source": [
    "# apt의 parkingLotGubun 범주별 price를 시리즈 sp1과 sp2로 생성합니다.\n"
   ]
  },
  {
   "cell_type": "code",
   "execution_count": null,
   "id": "8eabc728",
   "metadata": {
    "ExecuteTime": {
     "end_time": "2022-06-07T14:40:03.053597Z",
     "start_time": "2022-06-07T14:40:03.041567Z"
    }
   },
   "outputs": [],
   "source": [
    "# 등분산 검정 결과에 따라 등분산 또는 이분산 가정된 t-검정을 실행합니다.\n"
   ]
  },
  {
   "cell_type": "code",
   "execution_count": null,
   "id": "4a490af7",
   "metadata": {
    "ExecuteTime": {
     "end_time": "2022-06-07T14:40:03.064191Z",
     "start_time": "2022-06-07T14:40:03.055590Z"
    }
   },
   "outputs": [],
   "source": [
    "# (정규성 가정 불만족) 맨-휘트니 U 검정을 실행합니다.\n"
   ]
  },
  {
   "cell_type": "markdown",
   "id": "4bcd0a01",
   "metadata": {},
   "source": [
    "### 분산분석: aptSizeGubun\n",
    "\n",
    "aptSizeGubun 범주별 price 평균이 같은지 확인합니다."
   ]
  },
  {
   "cell_type": "code",
   "execution_count": null,
   "id": "4609009e",
   "metadata": {
    "ExecuteTime": {
     "end_time": "2022-06-07T14:40:03.082631Z",
     "start_time": "2022-06-07T14:40:03.071672Z"
    }
   },
   "outputs": [],
   "source": [
    "# apt의 aptSizeGubun 범주별 price의 정규성 검정을 실행합니다.\n"
   ]
  },
  {
   "cell_type": "code",
   "execution_count": null,
   "id": "ec9f639a",
   "metadata": {
    "ExecuteTime": {
     "end_time": "2022-06-07T14:40:03.092215Z",
     "start_time": "2022-06-07T14:40:03.084453Z"
    }
   },
   "outputs": [],
   "source": [
    "# (정규성 가정 만족) apt의 aptSizeGubun 범주별 price의 등분산성 검정을 실행합니다.\n"
   ]
  },
  {
   "cell_type": "code",
   "execution_count": null,
   "id": "c0b86470",
   "metadata": {
    "ExecuteTime": {
     "end_time": "2022-06-07T14:40:03.107498Z",
     "start_time": "2022-06-07T14:40:03.094111Z"
    }
   },
   "outputs": [],
   "source": [
    "# 등분산 검정 결과에 따라 등분산 또는 이분산 가정된 분산분석을 실행합니다.\n"
   ]
  },
  {
   "cell_type": "code",
   "execution_count": null,
   "id": "74e02a58",
   "metadata": {
    "ExecuteTime": {
     "end_time": "2022-06-07T14:40:03.118618Z",
     "start_time": "2022-06-07T14:40:03.109033Z"
    }
   },
   "outputs": [],
   "source": [
    "# (정규성 가정 불만족) 크루스칼-왈리스 순위합 검정을 실행합니다.\n"
   ]
  },
  {
   "cell_type": "markdown",
   "id": "4ed399c3",
   "metadata": {},
   "source": [
    "### 사후분석\n",
    "\n",
    "두 범주별로 묶어서 price의 평균이 같은지 확인합니다."
   ]
  },
  {
   "cell_type": "code",
   "execution_count": null,
   "id": "3aa190d6",
   "metadata": {
    "ExecuteTime": {
     "end_time": "2022-06-07T14:40:03.209349Z",
     "start_time": "2022-06-07T14:40:03.120514Z"
    }
   },
   "outputs": [],
   "source": [
    "# Tukey 방식으로 사후분석을 실행합니다.\n"
   ]
  },
  {
   "cell_type": "code",
   "execution_count": null,
   "id": "2064396c",
   "metadata": {},
   "outputs": [],
   "source": [
    "# Scheffe 방식으로 사후분석을 실행합니다.\n"
   ]
  },
  {
   "cell_type": "markdown",
   "id": "27389316",
   "metadata": {},
   "source": [
    "## End of Document"
   ]
  }
 ],
 "metadata": {
  "kernelspec": {
   "display_name": "Python 3 (ipykernel)",
   "language": "python",
   "name": "python3"
  },
  "language_info": {
   "codemirror_mode": {
    "name": "ipython",
    "version": 3
   },
   "file_extension": ".py",
   "mimetype": "text/x-python",
   "name": "python",
   "nbconvert_exporter": "python",
   "pygments_lexer": "ipython3",
   "version": "3.10.4"
  },
  "toc": {
   "base_numbering": 1,
   "nav_menu": {},
   "number_sections": false,
   "sideBar": true,
   "skip_h1_title": false,
   "title_cell": "Table of Contents",
   "title_sidebar": "Contents",
   "toc_cell": false,
   "toc_position": {},
   "toc_section_display": true,
   "toc_window_display": false
  },
  "varInspector": {
   "cols": {
    "lenName": 16,
    "lenType": 16,
    "lenVar": 40
   },
   "kernels_config": {
    "python": {
     "delete_cmd_postfix": "",
     "delete_cmd_prefix": "del ",
     "library": "var_list.py",
     "varRefreshCmd": "print(var_dic_list())"
    },
    "r": {
     "delete_cmd_postfix": ") ",
     "delete_cmd_prefix": "rm(",
     "library": "var_list.r",
     "varRefreshCmd": "cat(var_dic_list()) "
    }
   },
   "types_to_exclude": [
    "module",
    "function",
    "builtin_function_or_method",
    "instance",
    "_Feature"
   ],
   "window_display": false
  }
 },
 "nbformat": 4,
 "nbformat_minor": 5
}
