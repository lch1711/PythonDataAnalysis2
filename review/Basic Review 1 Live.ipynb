{
 "cells": [
  {
   "cell_type": "markdown",
   "id": "dde8d412",
   "metadata": {},
   "source": [
    "## 공공데이터 실습: 국가별 수산물 수출입 현황 (2021년)\n",
    "\n",
    "- 아래 링크를 읽고 데이터프레임을 생성합니다.\n",
    "  - https://bit.ly/Seafood_Trade_2021yr (구분자: ',', 인코딩방식: 'UTF-8')\n",
    "  \n",
    "  \n",
    "- 데이터 전처리를 실습합니다."
   ]
  },
  {
   "cell_type": "markdown",
   "id": "d844785c",
   "metadata": {},
   "source": [
    "### 실습 데이터셋 안내\n",
    "\n",
    "- 2021년 1~12월에 전세계 165여 개 국가와 수산물 수출입 내역입니다.<br><br>\n",
    "\n",
    "- 변수(열)에 대한 간단한 설명입니다.\n",
    "  - ymonth: 거래년월\n",
    "  - nation: 거래국가\n",
    "  - itemNm: 거래품목(수산물)\n",
    "  - imxprt: 수출/수입 구분\n",
    "  - weight: 거래중량(kg)\n",
    "  - dollar: 거래금액(달러)<br><br>\n",
    "\n",
    "- 실습 데이터셋을 미리보기 합니다.\n",
    "<img src=\"https://raw.githubusercontent.com/HelloDataScience/Images/main/Seafood%20Preview%202021.png\" align=\"left\" width=\"400\">"
   ]
  },
  {
   "cell_type": "markdown",
   "id": "3f40ad22",
   "metadata": {},
   "source": [
    "### 실습 데이터셋 준비"
   ]
  },
  {
   "cell_type": "raw",
   "id": "6d0f32af",
   "metadata": {},
   "source": [
    "# 관련 라이브러리를 설치합니다.\n",
    "!pip install requests"
   ]
  },
  {
   "cell_type": "raw",
   "id": "066cd531",
   "metadata": {},
   "source": [
    "!pip install scipy"
   ]
  },
  {
   "cell_type": "code",
   "execution_count": 2,
   "id": "b387b6b6",
   "metadata": {},
   "outputs": [],
   "source": [
    "# 관련 라이브러리를 호출합니다.\n",
    "import os\n",
    "import chardet\n",
    "import requests\n",
    "import numpy as np\n",
    "import pandas as pd\n",
    "from scipy import stats"
   ]
  },
  {
   "cell_type": "code",
   "execution_count": 3,
   "id": "04b2f80a",
   "metadata": {},
   "outputs": [],
   "source": [
    "# 온라인으로 공유 중인 csv 파일 주소를 URL1에 할당합니다.\n",
    "URL1 = 'https://bit.ly/Seafood_Trade_2021yr'"
   ]
  },
  {
   "cell_type": "code",
   "execution_count": 4,
   "id": "2d02dab4",
   "metadata": {},
   "outputs": [],
   "source": [
    "# URL1에 있는 텍스트를 내려받습니다.(HTTP Requests)\n",
    "# [힌트] requests.get() 함수를 사용하세요.\n",
    "res = requests.get(URL1)"
   ]
  },
  {
   "cell_type": "code",
   "execution_count": 5,
   "id": "c0a98cf6",
   "metadata": {},
   "outputs": [
    {
     "data": {
      "text/plain": [
       "'\"ymonth\",\"nation\",\"itemNm\",\"imxprt\",\"weight\",\"dollar\"\\n\"202101\",\"가나\",\"고등어\",\"수출\",107300,121443\\n\"202101\",\"가나\",\"기타\",\"수입\",10,2808\\n\"202101\",\"가나\",\"다랑어\",\"수입\",47446.8,241880\\n\"202101\",\"가나\",\"전갱이\",\"수출\",108000,106400\\n\"202101\",\"가봉\",\"어류\",\"수입\",1.615,26\\n\"202101\",\"감비아\",\"민어\",\"수입\",31238.5,196204\\n\"202101\",\"과테말라\",\"생선묵\",\"수출\",112.1,821\\n\"202101\",\"과테말라\",\"오징어\",\"수출\",12.24,86\\n\"202101\",\"괌\",\"갑각류\",\"수출\",1500,10712\\n\"202101\",\"괌\",\"갑오징어\",\"수출\",12,480\\n\"202101\",\"괌\",\"건조한 것\",\"수출\",4,744\\n\"202101\",\"괌\",\"김\",\"수출\",666,8830\\n\"202101\",\"괌\",\"김\",\"수출\",911.28,31548\\n\"202101\",\"괌\",\"다랑어\",\"수출\",54,360\\n\"202101\",\"괌\",\"다랑어류\",\"수출\",216,1507\\n\"202101\",\"괌\",\"달팽이\",\"수출\",96,565\\n\"202101\",\"괌\",\"멸치\",\"수출\",76,752\\n\"202101\",\"괌\",\"명태\",\"수출\",136,655\\n\"202101\",\"괌\",\"미역\",\"수출\",38,1085\\n\"202101\",\"괌\",\"생선묵\",\"수출\",1704,5070\\n\"202101\",\"괌\",\"수우프\",\"수출\",54,322\\n\"202101\",\"괌\",\"식염\",\"수출\",378,669\\n\"202101\",\"괌\",\"어류조제품\",\"수출\",389.5,946\\n\"202101\",\"괌\",\"오징어\",\"수출\",75,1107\\n\"202101\",\"괌\",\"조미오징어\",\"수출\",300.4,4960\\n\"202101\",\"괌\",\"조제품한 해조류 김 제외\",\"수출\",40,200\\n\"202101\",\"괌\",\"즙\",\"수출\",30,73\\n\"202101\",\"괌\",\"천일염\",\"수출\",130'"
      ]
     },
     "execution_count": 5,
     "metadata": {},
     "output_type": "execute_result"
    }
   ],
   "source": [
    "# res에서 문자열의 일부를 출력합니다.\n",
    "res.text[:1000]"
   ]
  },
  {
   "cell_type": "code",
   "execution_count": 6,
   "id": "3e38bcc5",
   "metadata": {},
   "outputs": [
    {
     "data": {
      "text/plain": [
       "b'\"ymonth\",\"nation\",\"itemNm\",\"imxprt\",\"weight\",\"dollar\"\\n\"202101\",\"\\xea\\xb0\\x80\\xeb\\x82\\x98\",\"\\xea\\xb3\\xa0\\xeb\\x93\\xb1\\xec\\x96\\xb4\",\"\\xec\\x88\\x98\\xec\\xb6\\x9c\",107300,121443\\n\"202101\",\"\\xea\\xb0\\x80\\xeb\\x82\\x98\",\"\\xea\\xb8\\xb0\\xed\\x83\\x80\",\"\\xec\\x88\\x98\\xec\\x9e\\x85\",10,2808\\n\"202101\",\"\\xea\\xb0\\x80\\xeb\\x82\\x98\",\"\\xeb\\x8b\\xa4\\xeb\\x9e\\x91\\xec\\x96\\xb4\",\"\\xec\\x88\\x98\\xec\\x9e\\x85\",47446.8,241880\\n\"202101\",\"\\xea\\xb0\\x80\\xeb\\x82\\x98\",\"\\xec\\xa0\\x84\\xea\\xb0\\xb1\\xec\\x9d\\xb4\",\"\\xec\\x88\\x98\\xec\\xb6\\x9c\",108000,106400\\n\"202101\",\"\\xea\\xb0\\x80\\xeb\\xb4\\x89\",\"\\xec\\x96\\xb4\\xeb\\xa5\\x98\",\"\\xec\\x88\\x98\\xec\\x9e\\x85\",1.615,26\\n\"202101\",\"\\xea\\xb0\\x90\\xeb\\xb9\\x84\\xec\\x95\\x84\",\"\\xeb\\xaf\\xbc\\xec\\x96\\xb4\",\"\\xec\\x88\\x98\\xec\\x9e\\x85\",31238.5,196204\\n\"202101\",\"\\xea\\xb3\\xbc\\xed\\x85\\x8c\\xeb\\xa7\\x90\\xeb\\x9d\\xbc\",\"\\xec\\x83\\x9d\\xec\\x84\\xa0\\xeb\\xac\\xb5\",\"\\xec\\x88\\x98\\xec\\xb6\\x9c\",112.1,821\\n\"202101\",\"\\xea\\xb3\\xbc\\xed\\x85\\x8c\\xeb\\xa7\\x90\\xeb\\x9d\\xbc\",\"\\xec\\x98\\xa4\\xec\\xa7\\x95\\xec\\x96\\xb4\",\"\\xec\\x88\\x98\\xec\\xb6\\x9c\",12.24,86\\n\"202101\",\"\\xea\\xb4\\x8c\",\"\\xea\\xb0\\x91\\xea\\xb0\\x81\\xeb\\xa5\\x98\",\"\\xec\\x88\\x98\\xec\\xb6\\x9c\",1500,10712\\n\"202101\",\"\\xea\\xb4\\x8c\",\"\\xea\\xb0\\x91\\xec\\x98\\xa4\\xec\\xa7\\x95\\xec\\x96\\xb4\",\"\\xec\\x88\\x98\\xec\\xb6\\x9c\",12,480\\n\"202101\",\"\\xea\\xb4\\x8c\",\"\\xea\\xb1\\xb4\\xec\\xa1\\xb0\\xed\\x95\\x9c \\xea\\xb2\\x83\",\"\\xec\\x88\\x98\\xec\\xb6\\x9c\",4,744\\n\"202101\",\"\\xea\\xb4\\x8c\",\"\\xea\\xb9\\x80\",\"\\xec\\x88\\x98\\xec\\xb6\\x9c\",666,8830\\n\"202101\",\"\\xea\\xb4\\x8c\",\"\\xea\\xb9\\x80\",\"\\xec\\x88\\x98\\xec\\xb6\\x9c\",911.28,31548\\n\"202101\",\"\\xea\\xb4\\x8c\",\"\\xeb\\x8b\\xa4\\xeb\\x9e\\x91\\xec\\x96\\xb4\",\"\\xec\\x88\\x98\\xec\\xb6\\x9c\",54,360\\n\"202101\",\"\\xea\\xb4\\x8c\",\"\\xeb\\x8b\\xa4\\xeb\\x9e\\x91\\xec\\x96\\xb4\\xeb\\xa5\\x98\",\"\\xec\\x88\\x98\\xec\\xb6\\x9c\",216,1507\\n\"202101\",\"\\xea\\xb4\\x8c\",\"\\xeb\\x8b\\xac\\xed\\x8c\\xbd\\xec\\x9d\\xb4\",\"\\xec\\x88\\x98\\xec\\xb6\\x9c\",96,565\\n\"202101\",\"\\xea\\xb4\\x8c\",\"\\xeb\\xa9\\xb8\\xec\\xb9\\x98\",\"\\xec\\x88\\x98\\xec\\xb6\\x9c\",76,752\\n\"202101\",\"\\xea\\xb4\\x8c\",\"\\xeb\\xaa\\x85\\xed\\x83\\x9c\",\"\\xec\\x88\\x98\\xec\\xb6\\x9c\",136,655\\n\"202101\",\"\\xea\\xb4\\x8c\",\"\\xeb\\xaf\\xb8\\xec\\x97\\xad\",\"\\xec\\x88\\x98\\xec\\xb6\\x9c\",38,1085\\n\"202101\",\"\\xea\\xb4\\x8c\",\"\\xec\\x83\\x9d\\xec\\x84\\xa0\\xeb\\xac\\xb5\",\"\\xec\\x88\\x98\\xec\\xb6\\x9c\",1704,5070\\n\"202101\",\"\\xea'"
      ]
     },
     "execution_count": 6,
     "metadata": {},
     "output_type": "execute_result"
    }
   ],
   "source": [
    "# res에서 바이너리 텍스트의 일부를 출력합니다.\n",
    "# [힌트] content 속성을 사용하세요.\n",
    "res.content[:1000]"
   ]
  },
  {
   "cell_type": "code",
   "execution_count": 7,
   "id": "afb5643a",
   "metadata": {},
   "outputs": [
    {
     "data": {
      "text/plain": [
       "{'encoding': 'utf-8', 'confidence': 0.99, 'language': ''}"
      ]
     },
     "execution_count": 7,
     "metadata": {},
     "output_type": "execute_result"
    }
   ],
   "source": [
    "# 바이너리 텍스트의 인코딩 방식을 확인합니다.\n",
    "# [힌트] chardet.detect() 함수를 사용하세요.\n",
    "chardet.detect(res.content[:1000])"
   ]
  },
  {
   "cell_type": "code",
   "execution_count": 9,
   "id": "7a40dc11",
   "metadata": {},
   "outputs": [],
   "source": [
    "# URL1을 읽고, 데이터프레임 sfd를 생성합니다.\n",
    "sfd = pd.read_csv(filepath_or_buffer = URL1, encoding = 'UTF-8')"
   ]
  },
  {
   "cell_type": "code",
   "execution_count": 10,
   "id": "b34ac766",
   "metadata": {},
   "outputs": [
    {
     "name": "stdout",
     "output_type": "stream",
     "text": [
      "<class 'pandas.core.frame.DataFrame'>\n",
      "RangeIndex: 31865 entries, 0 to 31864\n",
      "Data columns (total 6 columns):\n",
      " #   Column  Non-Null Count  Dtype  \n",
      "---  ------  --------------  -----  \n",
      " 0   ymonth  31865 non-null  int64  \n",
      " 1   nation  31865 non-null  object \n",
      " 2   itemNm  31865 non-null  object \n",
      " 3   imxprt  31865 non-null  object \n",
      " 4   weight  31865 non-null  float64\n",
      " 5   dollar  31865 non-null  int64  \n",
      "dtypes: float64(1), int64(2), object(3)\n",
      "memory usage: 1.5+ MB\n"
     ]
    }
   ],
   "source": [
    "# sfd의 정보를 확인합니다.\n",
    "# [힌트] info() 함수를 사용하세요.\n",
    "sfd.info()"
   ]
  },
  {
   "cell_type": "code",
   "execution_count": 11,
   "id": "8fe9c9e1",
   "metadata": {},
   "outputs": [],
   "source": [
    "a = [1, 2.0, '3']"
   ]
  },
  {
   "cell_type": "code",
   "execution_count": 12,
   "id": "694b7da1",
   "metadata": {},
   "outputs": [],
   "source": [
    "sr = pd.Series(data = a)"
   ]
  },
  {
   "cell_type": "code",
   "execution_count": 13,
   "id": "f33d8460",
   "metadata": {
    "collapsed": true
   },
   "outputs": [
    {
     "data": {
      "text/plain": [
       "0      1\n",
       "1    2.0\n",
       "2      3\n",
       "dtype: object"
      ]
     },
     "execution_count": 13,
     "metadata": {},
     "output_type": "execute_result"
    }
   ],
   "source": [
    "sr"
   ]
  },
  {
   "cell_type": "code",
   "execution_count": 14,
   "id": "a08eceff",
   "metadata": {
    "collapsed": true
   },
   "outputs": [
    {
     "name": "stdout",
     "output_type": "stream",
     "text": [
      "<class 'int'>\n",
      "<class 'float'>\n",
      "<class 'str'>\n"
     ]
    }
   ],
   "source": [
    "for i in sr:\n",
    "    print(type(i))"
   ]
  },
  {
   "cell_type": "code",
   "execution_count": 15,
   "id": "9822da1d",
   "metadata": {
    "collapsed": true
   },
   "outputs": [
    {
     "ename": "TypeError",
     "evalue": "unsupported operand type(s) for +: 'int' and 'str'",
     "output_type": "error",
     "traceback": [
      "\u001b[1;31m---------------------------------------------------------------------------\u001b[0m",
      "\u001b[1;31mTypeError\u001b[0m                                 Traceback (most recent call last)",
      "File \u001b[1;32m~\\Venv\\lib\\site-packages\\pandas\\core\\ops\\array_ops.py:165\u001b[0m, in \u001b[0;36m_na_arithmetic_op\u001b[1;34m(left, right, op, is_cmp)\u001b[0m\n\u001b[0;32m    164\u001b[0m \u001b[38;5;28;01mtry\u001b[39;00m:\n\u001b[1;32m--> 165\u001b[0m     result \u001b[38;5;241m=\u001b[39m \u001b[43mfunc\u001b[49m\u001b[43m(\u001b[49m\u001b[43mleft\u001b[49m\u001b[43m,\u001b[49m\u001b[43m \u001b[49m\u001b[43mright\u001b[49m\u001b[43m)\u001b[49m\n\u001b[0;32m    166\u001b[0m \u001b[38;5;28;01mexcept\u001b[39;00m \u001b[38;5;167;01mTypeError\u001b[39;00m:\n",
      "\u001b[1;31mTypeError\u001b[0m: unsupported operand type(s) for +: 'int' and 'str'",
      "\nDuring handling of the above exception, another exception occurred:\n",
      "\u001b[1;31mTypeError\u001b[0m                                 Traceback (most recent call last)",
      "Cell \u001b[1;32mIn [15], line 1\u001b[0m\n\u001b[1;32m----> 1\u001b[0m sr \u001b[38;5;241m+\u001b[39m \u001b[38;5;124m'\u001b[39m\u001b[38;5;124m등\u001b[39m\u001b[38;5;124m'\u001b[39m\n",
      "File \u001b[1;32m~\\Venv\\lib\\site-packages\\pandas\\core\\ops\\common.py:72\u001b[0m, in \u001b[0;36m_unpack_zerodim_and_defer.<locals>.new_method\u001b[1;34m(self, other)\u001b[0m\n\u001b[0;32m     68\u001b[0m             \u001b[38;5;28;01mreturn\u001b[39;00m \u001b[38;5;28mNotImplemented\u001b[39m\n\u001b[0;32m     70\u001b[0m other \u001b[38;5;241m=\u001b[39m item_from_zerodim(other)\n\u001b[1;32m---> 72\u001b[0m \u001b[38;5;28;01mreturn\u001b[39;00m \u001b[43mmethod\u001b[49m\u001b[43m(\u001b[49m\u001b[38;5;28;43mself\u001b[39;49m\u001b[43m,\u001b[49m\u001b[43m \u001b[49m\u001b[43mother\u001b[49m\u001b[43m)\u001b[49m\n",
      "File \u001b[1;32m~\\Venv\\lib\\site-packages\\pandas\\core\\arraylike.py:103\u001b[0m, in \u001b[0;36mOpsMixin.__add__\u001b[1;34m(self, other)\u001b[0m\n\u001b[0;32m    101\u001b[0m \u001b[38;5;129m@unpack_zerodim_and_defer\u001b[39m(\u001b[38;5;124m\"\u001b[39m\u001b[38;5;124m__add__\u001b[39m\u001b[38;5;124m\"\u001b[39m)\n\u001b[0;32m    102\u001b[0m \u001b[38;5;28;01mdef\u001b[39;00m \u001b[38;5;21m__add__\u001b[39m(\u001b[38;5;28mself\u001b[39m, other):\n\u001b[1;32m--> 103\u001b[0m     \u001b[38;5;28;01mreturn\u001b[39;00m \u001b[38;5;28;43mself\u001b[39;49m\u001b[38;5;241;43m.\u001b[39;49m\u001b[43m_arith_method\u001b[49m\u001b[43m(\u001b[49m\u001b[43mother\u001b[49m\u001b[43m,\u001b[49m\u001b[43m \u001b[49m\u001b[43moperator\u001b[49m\u001b[38;5;241;43m.\u001b[39;49m\u001b[43madd\u001b[49m\u001b[43m)\u001b[49m\n",
      "File \u001b[1;32m~\\Venv\\lib\\site-packages\\pandas\\core\\series.py:6262\u001b[0m, in \u001b[0;36mSeries._arith_method\u001b[1;34m(self, other, op)\u001b[0m\n\u001b[0;32m   6260\u001b[0m \u001b[38;5;28;01mdef\u001b[39;00m \u001b[38;5;21m_arith_method\u001b[39m(\u001b[38;5;28mself\u001b[39m, other, op):\n\u001b[0;32m   6261\u001b[0m     \u001b[38;5;28mself\u001b[39m, other \u001b[38;5;241m=\u001b[39m ops\u001b[38;5;241m.\u001b[39malign_method_SERIES(\u001b[38;5;28mself\u001b[39m, other)\n\u001b[1;32m-> 6262\u001b[0m     \u001b[38;5;28;01mreturn\u001b[39;00m \u001b[43mbase\u001b[49m\u001b[38;5;241;43m.\u001b[39;49m\u001b[43mIndexOpsMixin\u001b[49m\u001b[38;5;241;43m.\u001b[39;49m\u001b[43m_arith_method\u001b[49m\u001b[43m(\u001b[49m\u001b[38;5;28;43mself\u001b[39;49m\u001b[43m,\u001b[49m\u001b[43m \u001b[49m\u001b[43mother\u001b[49m\u001b[43m,\u001b[49m\u001b[43m \u001b[49m\u001b[43mop\u001b[49m\u001b[43m)\u001b[49m\n",
      "File \u001b[1;32m~\\Venv\\lib\\site-packages\\pandas\\core\\base.py:1325\u001b[0m, in \u001b[0;36mIndexOpsMixin._arith_method\u001b[1;34m(self, other, op)\u001b[0m\n\u001b[0;32m   1322\u001b[0m rvalues \u001b[38;5;241m=\u001b[39m ensure_wrapped_if_datetimelike(rvalues)\n\u001b[0;32m   1324\u001b[0m \u001b[38;5;28;01mwith\u001b[39;00m np\u001b[38;5;241m.\u001b[39merrstate(\u001b[38;5;28mall\u001b[39m\u001b[38;5;241m=\u001b[39m\u001b[38;5;124m\"\u001b[39m\u001b[38;5;124mignore\u001b[39m\u001b[38;5;124m\"\u001b[39m):\n\u001b[1;32m-> 1325\u001b[0m     result \u001b[38;5;241m=\u001b[39m \u001b[43mops\u001b[49m\u001b[38;5;241;43m.\u001b[39;49m\u001b[43marithmetic_op\u001b[49m\u001b[43m(\u001b[49m\u001b[43mlvalues\u001b[49m\u001b[43m,\u001b[49m\u001b[43m \u001b[49m\u001b[43mrvalues\u001b[49m\u001b[43m,\u001b[49m\u001b[43m \u001b[49m\u001b[43mop\u001b[49m\u001b[43m)\u001b[49m\n\u001b[0;32m   1327\u001b[0m \u001b[38;5;28;01mreturn\u001b[39;00m \u001b[38;5;28mself\u001b[39m\u001b[38;5;241m.\u001b[39m_construct_result(result, name\u001b[38;5;241m=\u001b[39mres_name)\n",
      "File \u001b[1;32m~\\Venv\\lib\\site-packages\\pandas\\core\\ops\\array_ops.py:226\u001b[0m, in \u001b[0;36marithmetic_op\u001b[1;34m(left, right, op)\u001b[0m\n\u001b[0;32m    222\u001b[0m     _bool_arith_check(op, left, right)\n\u001b[0;32m    224\u001b[0m     \u001b[38;5;66;03m# error: Argument 1 to \"_na_arithmetic_op\" has incompatible type\u001b[39;00m\n\u001b[0;32m    225\u001b[0m     \u001b[38;5;66;03m# \"Union[ExtensionArray, ndarray[Any, Any]]\"; expected \"ndarray[Any, Any]\"\u001b[39;00m\n\u001b[1;32m--> 226\u001b[0m     res_values \u001b[38;5;241m=\u001b[39m \u001b[43m_na_arithmetic_op\u001b[49m\u001b[43m(\u001b[49m\u001b[43mleft\u001b[49m\u001b[43m,\u001b[49m\u001b[43m \u001b[49m\u001b[43mright\u001b[49m\u001b[43m,\u001b[49m\u001b[43m \u001b[49m\u001b[43mop\u001b[49m\u001b[43m)\u001b[49m  \u001b[38;5;66;03m# type: ignore[arg-type]\u001b[39;00m\n\u001b[0;32m    228\u001b[0m \u001b[38;5;28;01mreturn\u001b[39;00m res_values\n",
      "File \u001b[1;32m~\\Venv\\lib\\site-packages\\pandas\\core\\ops\\array_ops.py:172\u001b[0m, in \u001b[0;36m_na_arithmetic_op\u001b[1;34m(left, right, op, is_cmp)\u001b[0m\n\u001b[0;32m    166\u001b[0m \u001b[38;5;28;01mexcept\u001b[39;00m \u001b[38;5;167;01mTypeError\u001b[39;00m:\n\u001b[0;32m    167\u001b[0m     \u001b[38;5;28;01mif\u001b[39;00m \u001b[38;5;129;01mnot\u001b[39;00m is_cmp \u001b[38;5;129;01mand\u001b[39;00m (is_object_dtype(left\u001b[38;5;241m.\u001b[39mdtype) \u001b[38;5;129;01mor\u001b[39;00m is_object_dtype(right)):\n\u001b[0;32m    168\u001b[0m         \u001b[38;5;66;03m# For object dtype, fallback to a masked operation (only operating\u001b[39;00m\n\u001b[0;32m    169\u001b[0m         \u001b[38;5;66;03m#  on the non-missing values)\u001b[39;00m\n\u001b[0;32m    170\u001b[0m         \u001b[38;5;66;03m# Don't do this for comparisons, as that will handle complex numbers\u001b[39;00m\n\u001b[0;32m    171\u001b[0m         \u001b[38;5;66;03m#  incorrectly, see GH#32047\u001b[39;00m\n\u001b[1;32m--> 172\u001b[0m         result \u001b[38;5;241m=\u001b[39m \u001b[43m_masked_arith_op\u001b[49m\u001b[43m(\u001b[49m\u001b[43mleft\u001b[49m\u001b[43m,\u001b[49m\u001b[43m \u001b[49m\u001b[43mright\u001b[49m\u001b[43m,\u001b[49m\u001b[43m \u001b[49m\u001b[43mop\u001b[49m\u001b[43m)\u001b[49m\n\u001b[0;32m    173\u001b[0m     \u001b[38;5;28;01melse\u001b[39;00m:\n\u001b[0;32m    174\u001b[0m         \u001b[38;5;28;01mraise\u001b[39;00m\n",
      "File \u001b[1;32m~\\Venv\\lib\\site-packages\\pandas\\core\\ops\\array_ops.py:129\u001b[0m, in \u001b[0;36m_masked_arith_op\u001b[1;34m(x, y, op)\u001b[0m\n\u001b[0;32m    126\u001b[0m         mask \u001b[38;5;241m=\u001b[39m np\u001b[38;5;241m.\u001b[39mwhere(y \u001b[38;5;241m==\u001b[39m \u001b[38;5;241m1\u001b[39m, \u001b[38;5;28;01mFalse\u001b[39;00m, mask)\n\u001b[0;32m    128\u001b[0m     \u001b[38;5;28;01mif\u001b[39;00m mask\u001b[38;5;241m.\u001b[39many():\n\u001b[1;32m--> 129\u001b[0m         result[mask] \u001b[38;5;241m=\u001b[39m \u001b[43mop\u001b[49m\u001b[43m(\u001b[49m\u001b[43mxrav\u001b[49m\u001b[43m[\u001b[49m\u001b[43mmask\u001b[49m\u001b[43m]\u001b[49m\u001b[43m,\u001b[49m\u001b[43m \u001b[49m\u001b[43my\u001b[49m\u001b[43m)\u001b[49m\n\u001b[0;32m    131\u001b[0m np\u001b[38;5;241m.\u001b[39mputmask(result, \u001b[38;5;241m~\u001b[39mmask, np\u001b[38;5;241m.\u001b[39mnan)\n\u001b[0;32m    132\u001b[0m result \u001b[38;5;241m=\u001b[39m result\u001b[38;5;241m.\u001b[39mreshape(x\u001b[38;5;241m.\u001b[39mshape)  \u001b[38;5;66;03m# 2D compat\u001b[39;00m\n",
      "\u001b[1;31mTypeError\u001b[0m: unsupported operand type(s) for +: 'int' and 'str'"
     ]
    }
   ],
   "source": [
    "sr + '등'"
   ]
  },
  {
   "cell_type": "code",
   "execution_count": 16,
   "id": "5f85496b",
   "metadata": {
    "collapsed": true
   },
   "outputs": [
    {
     "data": {
      "text/plain": [
       "0    2.0\n",
       "1    3.0\n",
       "2    4.0\n",
       "dtype: float64"
      ]
     },
     "execution_count": 16,
     "metadata": {},
     "output_type": "execute_result"
    }
   ],
   "source": [
    "sr.astype(float) + 1"
   ]
  },
  {
   "cell_type": "code",
   "execution_count": 17,
   "id": "0ef37930",
   "metadata": {},
   "outputs": [
    {
     "data": {
      "text/plain": [
       "0      1등\n",
       "1    2.0등\n",
       "2      3등\n",
       "dtype: object"
      ]
     },
     "execution_count": 17,
     "metadata": {},
     "output_type": "execute_result"
    }
   ],
   "source": [
    "sr.astype(str) + '등'"
   ]
  },
  {
   "cell_type": "code",
   "execution_count": 18,
   "id": "66413e2b",
   "metadata": {},
   "outputs": [
    {
     "data": {
      "text/html": [
       "<div>\n",
       "<style scoped>\n",
       "    .dataframe tbody tr th:only-of-type {\n",
       "        vertical-align: middle;\n",
       "    }\n",
       "\n",
       "    .dataframe tbody tr th {\n",
       "        vertical-align: top;\n",
       "    }\n",
       "\n",
       "    .dataframe thead th {\n",
       "        text-align: right;\n",
       "    }\n",
       "</style>\n",
       "<table border=\"1\" class=\"dataframe\">\n",
       "  <thead>\n",
       "    <tr style=\"text-align: right;\">\n",
       "      <th></th>\n",
       "      <th>ymonth</th>\n",
       "      <th>nation</th>\n",
       "      <th>itemNm</th>\n",
       "      <th>imxprt</th>\n",
       "      <th>weight</th>\n",
       "      <th>dollar</th>\n",
       "    </tr>\n",
       "  </thead>\n",
       "  <tbody>\n",
       "    <tr>\n",
       "      <th>0</th>\n",
       "      <td>202101</td>\n",
       "      <td>가나</td>\n",
       "      <td>고등어</td>\n",
       "      <td>수출</td>\n",
       "      <td>107300.000</td>\n",
       "      <td>121443</td>\n",
       "    </tr>\n",
       "    <tr>\n",
       "      <th>1</th>\n",
       "      <td>202101</td>\n",
       "      <td>가나</td>\n",
       "      <td>기타</td>\n",
       "      <td>수입</td>\n",
       "      <td>10.000</td>\n",
       "      <td>2808</td>\n",
       "    </tr>\n",
       "    <tr>\n",
       "      <th>2</th>\n",
       "      <td>202101</td>\n",
       "      <td>가나</td>\n",
       "      <td>다랑어</td>\n",
       "      <td>수입</td>\n",
       "      <td>47446.800</td>\n",
       "      <td>241880</td>\n",
       "    </tr>\n",
       "    <tr>\n",
       "      <th>3</th>\n",
       "      <td>202101</td>\n",
       "      <td>가나</td>\n",
       "      <td>전갱이</td>\n",
       "      <td>수출</td>\n",
       "      <td>108000.000</td>\n",
       "      <td>106400</td>\n",
       "    </tr>\n",
       "    <tr>\n",
       "      <th>4</th>\n",
       "      <td>202101</td>\n",
       "      <td>가봉</td>\n",
       "      <td>어류</td>\n",
       "      <td>수입</td>\n",
       "      <td>1.615</td>\n",
       "      <td>26</td>\n",
       "    </tr>\n",
       "  </tbody>\n",
       "</table>\n",
       "</div>"
      ],
      "text/plain": [
       "   ymonth nation itemNm imxprt      weight  dollar\n",
       "0  202101     가나    고등어     수출  107300.000  121443\n",
       "1  202101     가나     기타     수입      10.000    2808\n",
       "2  202101     가나    다랑어     수입   47446.800  241880\n",
       "3  202101     가나    전갱이     수출  108000.000  106400\n",
       "4  202101     가봉     어류     수입       1.615      26"
      ]
     },
     "execution_count": 18,
     "metadata": {},
     "output_type": "execute_result"
    }
   ],
   "source": [
    "# sfd의 처음 5행을 출력합니다.\n",
    "# [힌트] head() 함수를 사용하세요.\n",
    "sfd.head(n = 5)"
   ]
  },
  {
   "cell_type": "code",
   "execution_count": 19,
   "id": "b01559d8",
   "metadata": {},
   "outputs": [
    {
     "data": {
      "text/html": [
       "<div>\n",
       "<style scoped>\n",
       "    .dataframe tbody tr th:only-of-type {\n",
       "        vertical-align: middle;\n",
       "    }\n",
       "\n",
       "    .dataframe tbody tr th {\n",
       "        vertical-align: top;\n",
       "    }\n",
       "\n",
       "    .dataframe thead th {\n",
       "        text-align: right;\n",
       "    }\n",
       "</style>\n",
       "<table border=\"1\" class=\"dataframe\">\n",
       "  <thead>\n",
       "    <tr style=\"text-align: right;\">\n",
       "      <th></th>\n",
       "      <th>ymonth</th>\n",
       "      <th>nation</th>\n",
       "      <th>itemNm</th>\n",
       "      <th>imxprt</th>\n",
       "      <th>weight</th>\n",
       "      <th>dollar</th>\n",
       "    </tr>\n",
       "  </thead>\n",
       "  <tbody>\n",
       "    <tr>\n",
       "      <th>31855</th>\n",
       "      <td>202112</td>\n",
       "      <td>홍콩</td>\n",
       "      <td>조미오징어</td>\n",
       "      <td>수출</td>\n",
       "      <td>314.00</td>\n",
       "      <td>10678</td>\n",
       "    </tr>\n",
       "    <tr>\n",
       "      <th>31856</th>\n",
       "      <td>202112</td>\n",
       "      <td>홍콩</td>\n",
       "      <td>쥐치포</td>\n",
       "      <td>수출</td>\n",
       "      <td>733.00</td>\n",
       "      <td>16432</td>\n",
       "    </tr>\n",
       "    <tr>\n",
       "      <th>31857</th>\n",
       "      <td>202112</td>\n",
       "      <td>홍콩</td>\n",
       "      <td>즙</td>\n",
       "      <td>수출</td>\n",
       "      <td>480.00</td>\n",
       "      <td>725</td>\n",
       "    </tr>\n",
       "    <tr>\n",
       "      <th>31858</th>\n",
       "      <td>202112</td>\n",
       "      <td>홍콩</td>\n",
       "      <td>천연진주로만든 것</td>\n",
       "      <td>수출</td>\n",
       "      <td>0.40</td>\n",
       "      <td>1603</td>\n",
       "    </tr>\n",
       "    <tr>\n",
       "      <th>31859</th>\n",
       "      <td>202112</td>\n",
       "      <td>홍콩</td>\n",
       "      <td>파래</td>\n",
       "      <td>수출</td>\n",
       "      <td>1.25</td>\n",
       "      <td>214</td>\n",
       "    </tr>\n",
       "    <tr>\n",
       "      <th>31860</th>\n",
       "      <td>202112</td>\n",
       "      <td>홍콩</td>\n",
       "      <td>포유동물</td>\n",
       "      <td>수출</td>\n",
       "      <td>4.00</td>\n",
       "      <td>600</td>\n",
       "    </tr>\n",
       "    <tr>\n",
       "      <th>31861</th>\n",
       "      <td>202112</td>\n",
       "      <td>홍콩</td>\n",
       "      <td>해삼</td>\n",
       "      <td>수출</td>\n",
       "      <td>20.00</td>\n",
       "      <td>17000</td>\n",
       "    </tr>\n",
       "    <tr>\n",
       "      <th>31862</th>\n",
       "      <td>202112</td>\n",
       "      <td>홍콩</td>\n",
       "      <td>해삼</td>\n",
       "      <td>수출</td>\n",
       "      <td>180.00</td>\n",
       "      <td>1180</td>\n",
       "    </tr>\n",
       "    <tr>\n",
       "      <th>31863</th>\n",
       "      <td>202112</td>\n",
       "      <td>홍콩</td>\n",
       "      <td>해초류와조류</td>\n",
       "      <td>수출</td>\n",
       "      <td>16.00</td>\n",
       "      <td>153</td>\n",
       "    </tr>\n",
       "    <tr>\n",
       "      <th>31864</th>\n",
       "      <td>202112</td>\n",
       "      <td>홍콩</td>\n",
       "      <td>해파리</td>\n",
       "      <td>수출</td>\n",
       "      <td>81.60</td>\n",
       "      <td>515</td>\n",
       "    </tr>\n",
       "  </tbody>\n",
       "</table>\n",
       "</div>"
      ],
      "text/plain": [
       "       ymonth nation     itemNm imxprt  weight  dollar\n",
       "31855  202112     홍콩      조미오징어     수출  314.00   10678\n",
       "31856  202112     홍콩        쥐치포     수출  733.00   16432\n",
       "31857  202112     홍콩          즙     수출  480.00     725\n",
       "31858  202112     홍콩  천연진주로만든 것     수출    0.40    1603\n",
       "31859  202112     홍콩         파래     수출    1.25     214\n",
       "31860  202112     홍콩       포유동물     수출    4.00     600\n",
       "31861  202112     홍콩         해삼     수출   20.00   17000\n",
       "31862  202112     홍콩         해삼     수출  180.00    1180\n",
       "31863  202112     홍콩     해초류와조류     수출   16.00     153\n",
       "31864  202112     홍콩        해파리     수출   81.60     515"
      ]
     },
     "execution_count": 19,
     "metadata": {},
     "output_type": "execute_result"
    }
   ],
   "source": [
    "# sfd의 마지막 5행을 출력합니다.\n",
    "# [힌트] tail() 함수를 사용하세요.\n",
    "sfd.tail(n = 10)"
   ]
  },
  {
   "cell_type": "markdown",
   "id": "5aac4c94",
   "metadata": {},
   "source": [
    "### 실습 데이터셋 전처리"
   ]
  },
  {
   "cell_type": "code",
   "execution_count": 20,
   "id": "35948017",
   "metadata": {},
   "outputs": [],
   "source": [
    "# ymonth의 자료형을 문자열로 변환하고 ymonth에 재할당합니다. \n",
    "# [힌트] astype() 함수를 사용하세요.\n",
    "sfd['ymonth'] = sfd['ymonth'].astype(str)"
   ]
  },
  {
   "cell_type": "code",
   "execution_count": 21,
   "id": "d982ac5e",
   "metadata": {},
   "outputs": [],
   "source": [
    "# dollar를 1000으로 나눈 결과를 dollar에 재할당합니다.\n",
    "sfd['dollar'] = sfd['dollar'] / 1000"
   ]
  },
  {
   "cell_type": "code",
   "execution_count": 23,
   "id": "74ece1f1",
   "metadata": {
    "collapsed": true
   },
   "outputs": [
    {
     "data": {
      "text/plain": [
       "ymonth     object\n",
       "nation     object\n",
       "itemNm     object\n",
       "imxprt     object\n",
       "weight    float64\n",
       "dollar    float64\n",
       "dtype: object"
      ]
     },
     "execution_count": 23,
     "metadata": {},
     "output_type": "execute_result"
    }
   ],
   "source": [
    "sfd.dtypes"
   ]
  },
  {
   "cell_type": "code",
   "execution_count": 22,
   "id": "1ab7c7d6",
   "metadata": {
    "collapsed": true
   },
   "outputs": [
    {
     "data": {
      "text/html": [
       "<div>\n",
       "<style scoped>\n",
       "    .dataframe tbody tr th:only-of-type {\n",
       "        vertical-align: middle;\n",
       "    }\n",
       "\n",
       "    .dataframe tbody tr th {\n",
       "        vertical-align: top;\n",
       "    }\n",
       "\n",
       "    .dataframe thead th {\n",
       "        text-align: right;\n",
       "    }\n",
       "</style>\n",
       "<table border=\"1\" class=\"dataframe\">\n",
       "  <thead>\n",
       "    <tr style=\"text-align: right;\">\n",
       "      <th></th>\n",
       "      <th>weight</th>\n",
       "      <th>dollar</th>\n",
       "    </tr>\n",
       "  </thead>\n",
       "  <tbody>\n",
       "    <tr>\n",
       "      <th>count</th>\n",
       "      <td>3.186500e+04</td>\n",
       "      <td>31865.000000</td>\n",
       "    </tr>\n",
       "    <tr>\n",
       "      <th>mean</th>\n",
       "      <td>2.255741e+05</td>\n",
       "      <td>282.516008</td>\n",
       "    </tr>\n",
       "    <tr>\n",
       "      <th>std</th>\n",
       "      <td>4.805245e+06</td>\n",
       "      <td>1388.473510</td>\n",
       "    </tr>\n",
       "    <tr>\n",
       "      <th>min</th>\n",
       "      <td>0.000000e+00</td>\n",
       "      <td>0.000000</td>\n",
       "    </tr>\n",
       "    <tr>\n",
       "      <th>25%</th>\n",
       "      <td>5.000000e+01</td>\n",
       "      <td>0.838000</td>\n",
       "    </tr>\n",
       "    <tr>\n",
       "      <th>50%</th>\n",
       "      <td>7.340000e+02</td>\n",
       "      <td>8.251000</td>\n",
       "    </tr>\n",
       "    <tr>\n",
       "      <th>75%</th>\n",
       "      <td>1.469400e+04</td>\n",
       "      <td>78.132000</td>\n",
       "    </tr>\n",
       "    <tr>\n",
       "      <th>max</th>\n",
       "      <td>3.071980e+08</td>\n",
       "      <td>40737.080000</td>\n",
       "    </tr>\n",
       "  </tbody>\n",
       "</table>\n",
       "</div>"
      ],
      "text/plain": [
       "             weight        dollar\n",
       "count  3.186500e+04  31865.000000\n",
       "mean   2.255741e+05    282.516008\n",
       "std    4.805245e+06   1388.473510\n",
       "min    0.000000e+00      0.000000\n",
       "25%    5.000000e+01      0.838000\n",
       "50%    7.340000e+02      8.251000\n",
       "75%    1.469400e+04     78.132000\n",
       "max    3.071980e+08  40737.080000"
      ]
     },
     "execution_count": 22,
     "metadata": {},
     "output_type": "execute_result"
    }
   ],
   "source": [
    "# sfd의 수치형(정수형 또는 실수형) 변수에 대한 기술통계량을 확인합니다.\n",
    "# [힌트] describe() 함수를 사용하세요.\n",
    "sfd.describe()"
   ]
  },
  {
   "cell_type": "code",
   "execution_count": 24,
   "id": "9e2fda8a",
   "metadata": {},
   "outputs": [
    {
     "data": {
      "text/html": [
       "<div>\n",
       "<style scoped>\n",
       "    .dataframe tbody tr th:only-of-type {\n",
       "        vertical-align: middle;\n",
       "    }\n",
       "\n",
       "    .dataframe tbody tr th {\n",
       "        vertical-align: top;\n",
       "    }\n",
       "\n",
       "    .dataframe thead th {\n",
       "        text-align: right;\n",
       "    }\n",
       "</style>\n",
       "<table border=\"1\" class=\"dataframe\">\n",
       "  <thead>\n",
       "    <tr style=\"text-align: right;\">\n",
       "      <th></th>\n",
       "      <th>ymonth</th>\n",
       "      <th>nation</th>\n",
       "      <th>itemNm</th>\n",
       "      <th>imxprt</th>\n",
       "    </tr>\n",
       "  </thead>\n",
       "  <tbody>\n",
       "    <tr>\n",
       "      <th>count</th>\n",
       "      <td>31865</td>\n",
       "      <td>31865</td>\n",
       "      <td>31865</td>\n",
       "      <td>31865</td>\n",
       "    </tr>\n",
       "    <tr>\n",
       "      <th>unique</th>\n",
       "      <td>12</td>\n",
       "      <td>165</td>\n",
       "      <td>206</td>\n",
       "      <td>2</td>\n",
       "    </tr>\n",
       "    <tr>\n",
       "      <th>top</th>\n",
       "      <td>202104</td>\n",
       "      <td>미국</td>\n",
       "      <td>기타</td>\n",
       "      <td>수출</td>\n",
       "    </tr>\n",
       "    <tr>\n",
       "      <th>freq</th>\n",
       "      <td>2772</td>\n",
       "      <td>3351</td>\n",
       "      <td>2707</td>\n",
       "      <td>17793</td>\n",
       "    </tr>\n",
       "  </tbody>\n",
       "</table>\n",
       "</div>"
      ],
      "text/plain": [
       "        ymonth nation itemNm imxprt\n",
       "count    31865  31865  31865  31865\n",
       "unique      12    165    206      2\n",
       "top     202104     미국     기타     수출\n",
       "freq      2772   3351   2707  17793"
      ]
     },
     "execution_count": 24,
     "metadata": {},
     "output_type": "execute_result"
    }
   ],
   "source": [
    "# sfd의 범주형 변수에 대한 기술통계량을 확인합니다.\n",
    "sfd.describe(include = object)"
   ]
  },
  {
   "cell_type": "code",
   "execution_count": 25,
   "id": "613f92e9",
   "metadata": {
    "collapsed": true
   },
   "outputs": [
    {
     "data": {
      "text/plain": [
       "미국        3351\n",
       "중국        2905\n",
       "일본        2614\n",
       "베트남       1948\n",
       "캐나다       1371\n",
       "          ... \n",
       "우간다          1\n",
       "룩셈부르크        1\n",
       "포클랜드제도       1\n",
       "조지아          1\n",
       "통가           1\n",
       "Name: nation, Length: 165, dtype: int64"
      ]
     },
     "execution_count": 25,
     "metadata": {},
     "output_type": "execute_result"
    }
   ],
   "source": [
    "# nation의 빈도수를 확인합니다.\n",
    "# [힌트] value_counts() 함수를 사용하세요.\n",
    "sfd['nation'].value_counts()"
   ]
  },
  {
   "cell_type": "code",
   "execution_count": 37,
   "id": "7336a7c3",
   "metadata": {},
   "outputs": [],
   "source": [
    "# 교차표는 두 범주형 변수의 빈도수를 피벗팅합니다.\n",
    "# crt = pd.crosstab(index = sfd['ymonth'], columns = sfd['nation'])\n",
    "crt = pd.crosstab(index = sfd['nation'], \n",
    "                  columns = sfd['ymonth'],\n",
    "                  margins = True, \n",
    "                  margins_name = '합계')"
   ]
  },
  {
   "cell_type": "code",
   "execution_count": 38,
   "id": "f0f64011",
   "metadata": {},
   "outputs": [],
   "source": [
    "crt.to_excel(excel_writer = 'CrossTable.xlsx', sheet_name = 'Freq')"
   ]
  },
  {
   "cell_type": "code",
   "execution_count": 39,
   "id": "0857df6b",
   "metadata": {},
   "outputs": [],
   "source": [
    "# 상대도수를 피벗팅하려면 normalize 매개변수를 추가합니다.\n",
    "crt = pd.crosstab(index = sfd['nation'], \n",
    "                  columns = sfd['ymonth'],\n",
    "                  margins = True, \n",
    "                  margins_name = '합계',\n",
    "                  normalize = 'index')"
   ]
  },
  {
   "cell_type": "code",
   "execution_count": 40,
   "id": "0d922c70",
   "metadata": {},
   "outputs": [],
   "source": [
    "crt.to_excel(excel_writer = 'CrossTable.xlsx', sheet_name = 'Prop')"
   ]
  },
  {
   "cell_type": "markdown",
   "id": "1d73330c",
   "metadata": {},
   "source": [
    "### 국가별 수출입금액을 합산하고 무역수지 흑자 상위 국가 확인"
   ]
  },
  {
   "cell_type": "code",
   "execution_count": 41,
   "id": "1cd5b1b6",
   "metadata": {},
   "outputs": [],
   "source": [
    "# 아래 조건을 만족하는 피벗 테이블을 trade에 할당합니다.\n",
    "# [힌트] pd.pivot_table() 함수를 사용하세요.\n",
    "# 데이터(data)는 sfd, 값(values)은 dollar, 행이름(index)은 nation, \n",
    "# 열이름(columns)은 imxprt, 집계함수는 np.sum을 지정하세요.\n",
    "trade = pd.pivot_table(\n",
    "    data = sfd,\n",
    "    values = 'dollar', \n",
    "    index = 'nation',\n",
    "    columns = 'imxprt', \n",
    "    aggfunc = np.sum\n",
    ")"
   ]
  },
  {
   "cell_type": "code",
   "execution_count": 43,
   "id": "705f0d79",
   "metadata": {},
   "outputs": [
    {
     "data": {
      "text/plain": [
       "165"
      ]
     },
     "execution_count": 43,
     "metadata": {},
     "output_type": "execute_result"
    }
   ],
   "source": [
    "# trade의 행 개수를 출력합니다.\n",
    "# [힌트] shape 속성 결과에 0번 인덱스 원소를 선택하세요.\n",
    "trade.shape[0]"
   ]
  },
  {
   "cell_type": "code",
   "execution_count": 44,
   "id": "0c6945a3",
   "metadata": {},
   "outputs": [
    {
     "data": {
      "text/html": [
       "<div>\n",
       "<style scoped>\n",
       "    .dataframe tbody tr th:only-of-type {\n",
       "        vertical-align: middle;\n",
       "    }\n",
       "\n",
       "    .dataframe tbody tr th {\n",
       "        vertical-align: top;\n",
       "    }\n",
       "\n",
       "    .dataframe thead th {\n",
       "        text-align: right;\n",
       "    }\n",
       "</style>\n",
       "<table border=\"1\" class=\"dataframe\">\n",
       "  <thead>\n",
       "    <tr style=\"text-align: right;\">\n",
       "      <th>imxprt</th>\n",
       "      <th>수입</th>\n",
       "      <th>수출</th>\n",
       "    </tr>\n",
       "    <tr>\n",
       "      <th>nation</th>\n",
       "      <th></th>\n",
       "      <th></th>\n",
       "    </tr>\n",
       "  </thead>\n",
       "  <tbody>\n",
       "    <tr>\n",
       "      <th>가나</th>\n",
       "      <td>1847.987</td>\n",
       "      <td>8088.674</td>\n",
       "    </tr>\n",
       "    <tr>\n",
       "      <th>가봉</th>\n",
       "      <td>0.026</td>\n",
       "      <td>NaN</td>\n",
       "    </tr>\n",
       "    <tr>\n",
       "      <th>가이아나</th>\n",
       "      <td>17.290</td>\n",
       "      <td>0.036</td>\n",
       "    </tr>\n",
       "    <tr>\n",
       "      <th>감비아</th>\n",
       "      <td>2065.081</td>\n",
       "      <td>NaN</td>\n",
       "    </tr>\n",
       "    <tr>\n",
       "      <th>과테말라</th>\n",
       "      <td>NaN</td>\n",
       "      <td>131.373</td>\n",
       "    </tr>\n",
       "  </tbody>\n",
       "</table>\n",
       "</div>"
      ],
      "text/plain": [
       "imxprt        수입        수출\n",
       "nation                    \n",
       "가나      1847.987  8088.674\n",
       "가봉         0.026       NaN\n",
       "가이아나      17.290     0.036\n",
       "감비아     2065.081       NaN\n",
       "과테말라         NaN   131.373"
      ]
     },
     "execution_count": 44,
     "metadata": {},
     "output_type": "execute_result"
    }
   ],
   "source": [
    "# trade의 처음 5행을 출력합니다.\n",
    "trade.head()"
   ]
  },
  {
   "cell_type": "code",
   "execution_count": 48,
   "id": "7b2a79fc",
   "metadata": {},
   "outputs": [
    {
     "data": {
      "text/html": [
       "<div>\n",
       "<style scoped>\n",
       "    .dataframe tbody tr th:only-of-type {\n",
       "        vertical-align: middle;\n",
       "    }\n",
       "\n",
       "    .dataframe tbody tr th {\n",
       "        vertical-align: top;\n",
       "    }\n",
       "\n",
       "    .dataframe thead tr th {\n",
       "        text-align: left;\n",
       "    }\n",
       "\n",
       "    .dataframe thead tr:last-of-type th {\n",
       "        text-align: right;\n",
       "    }\n",
       "</style>\n",
       "<table border=\"1\" class=\"dataframe\">\n",
       "  <thead>\n",
       "    <tr>\n",
       "      <th></th>\n",
       "      <th colspan=\"2\" halign=\"left\">sum</th>\n",
       "      <th colspan=\"2\" halign=\"left\">size</th>\n",
       "      <th colspan=\"2\" halign=\"left\">mean</th>\n",
       "      <th colspan=\"2\" halign=\"left\">std</th>\n",
       "    </tr>\n",
       "    <tr>\n",
       "      <th>imxprt</th>\n",
       "      <th>수입</th>\n",
       "      <th>수출</th>\n",
       "      <th>수입</th>\n",
       "      <th>수출</th>\n",
       "      <th>수입</th>\n",
       "      <th>수출</th>\n",
       "      <th>수입</th>\n",
       "      <th>수출</th>\n",
       "    </tr>\n",
       "    <tr>\n",
       "      <th>nation</th>\n",
       "      <th></th>\n",
       "      <th></th>\n",
       "      <th></th>\n",
       "      <th></th>\n",
       "      <th></th>\n",
       "      <th></th>\n",
       "      <th></th>\n",
       "      <th></th>\n",
       "    </tr>\n",
       "  </thead>\n",
       "  <tbody>\n",
       "    <tr>\n",
       "      <th>가나</th>\n",
       "      <td>1847.987</td>\n",
       "      <td>8088.674</td>\n",
       "      <td>14.0</td>\n",
       "      <td>30.0</td>\n",
       "      <td>131.999071</td>\n",
       "      <td>269.622467</td>\n",
       "      <td>156.609224</td>\n",
       "      <td>542.453956</td>\n",
       "    </tr>\n",
       "    <tr>\n",
       "      <th>가봉</th>\n",
       "      <td>0.026</td>\n",
       "      <td>NaN</td>\n",
       "      <td>1.0</td>\n",
       "      <td>NaN</td>\n",
       "      <td>0.026000</td>\n",
       "      <td>NaN</td>\n",
       "      <td>NaN</td>\n",
       "      <td>NaN</td>\n",
       "    </tr>\n",
       "    <tr>\n",
       "      <th>가이아나</th>\n",
       "      <td>17.290</td>\n",
       "      <td>0.036</td>\n",
       "      <td>1.0</td>\n",
       "      <td>1.0</td>\n",
       "      <td>17.290000</td>\n",
       "      <td>0.036000</td>\n",
       "      <td>NaN</td>\n",
       "      <td>NaN</td>\n",
       "    </tr>\n",
       "    <tr>\n",
       "      <th>감비아</th>\n",
       "      <td>2065.081</td>\n",
       "      <td>NaN</td>\n",
       "      <td>24.0</td>\n",
       "      <td>NaN</td>\n",
       "      <td>86.045042</td>\n",
       "      <td>NaN</td>\n",
       "      <td>119.921323</td>\n",
       "      <td>NaN</td>\n",
       "    </tr>\n",
       "    <tr>\n",
       "      <th>과테말라</th>\n",
       "      <td>NaN</td>\n",
       "      <td>131.373</td>\n",
       "      <td>NaN</td>\n",
       "      <td>112.0</td>\n",
       "      <td>NaN</td>\n",
       "      <td>1.172973</td>\n",
       "      <td>NaN</td>\n",
       "      <td>2.351919</td>\n",
       "    </tr>\n",
       "    <tr>\n",
       "      <th>...</th>\n",
       "      <td>...</td>\n",
       "      <td>...</td>\n",
       "      <td>...</td>\n",
       "      <td>...</td>\n",
       "      <td>...</td>\n",
       "      <td>...</td>\n",
       "      <td>...</td>\n",
       "      <td>...</td>\n",
       "    </tr>\n",
       "    <tr>\n",
       "      <th>피지</th>\n",
       "      <td>1.362</td>\n",
       "      <td>69.910</td>\n",
       "      <td>1.0</td>\n",
       "      <td>16.0</td>\n",
       "      <td>1.362000</td>\n",
       "      <td>4.369375</td>\n",
       "      <td>NaN</td>\n",
       "      <td>7.350710</td>\n",
       "    </tr>\n",
       "    <tr>\n",
       "      <th>핀란드</th>\n",
       "      <td>5.993</td>\n",
       "      <td>377.437</td>\n",
       "      <td>2.0</td>\n",
       "      <td>8.0</td>\n",
       "      <td>2.996500</td>\n",
       "      <td>47.179625</td>\n",
       "      <td>3.264712</td>\n",
       "      <td>25.152760</td>\n",
       "    </tr>\n",
       "    <tr>\n",
       "      <th>필리핀</th>\n",
       "      <td>29771.506</td>\n",
       "      <td>37663.369</td>\n",
       "      <td>381.0</td>\n",
       "      <td>709.0</td>\n",
       "      <td>78.140436</td>\n",
       "      <td>53.121818</td>\n",
       "      <td>167.776507</td>\n",
       "      <td>178.693117</td>\n",
       "    </tr>\n",
       "    <tr>\n",
       "      <th>헝가리</th>\n",
       "      <td>1.957</td>\n",
       "      <td>18.857</td>\n",
       "      <td>3.0</td>\n",
       "      <td>7.0</td>\n",
       "      <td>0.652333</td>\n",
       "      <td>2.693857</td>\n",
       "      <td>0.415596</td>\n",
       "      <td>1.867109</td>\n",
       "    </tr>\n",
       "    <tr>\n",
       "      <th>홍콩</th>\n",
       "      <td>32389.424</td>\n",
       "      <td>54560.233</td>\n",
       "      <td>94.0</td>\n",
       "      <td>946.0</td>\n",
       "      <td>344.568340</td>\n",
       "      <td>57.674665</td>\n",
       "      <td>1810.756656</td>\n",
       "      <td>319.837881</td>\n",
       "    </tr>\n",
       "  </tbody>\n",
       "</table>\n",
       "<p>165 rows × 8 columns</p>\n",
       "</div>"
      ],
      "text/plain": [
       "              sum              size               mean              \\\n",
       "imxprt         수입         수출     수입     수출          수입          수출   \n",
       "nation                                                               \n",
       "가나       1847.987   8088.674   14.0   30.0  131.999071  269.622467   \n",
       "가봉          0.026        NaN    1.0    NaN    0.026000         NaN   \n",
       "가이아나       17.290      0.036    1.0    1.0   17.290000    0.036000   \n",
       "감비아      2065.081        NaN   24.0    NaN   86.045042         NaN   \n",
       "과테말라          NaN    131.373    NaN  112.0         NaN    1.172973   \n",
       "...           ...        ...    ...    ...         ...         ...   \n",
       "피지          1.362     69.910    1.0   16.0    1.362000    4.369375   \n",
       "핀란드         5.993    377.437    2.0    8.0    2.996500   47.179625   \n",
       "필리핀     29771.506  37663.369  381.0  709.0   78.140436   53.121818   \n",
       "헝가리         1.957     18.857    3.0    7.0    0.652333    2.693857   \n",
       "홍콩      32389.424  54560.233   94.0  946.0  344.568340   57.674665   \n",
       "\n",
       "                std              \n",
       "imxprt           수입          수출  \n",
       "nation                           \n",
       "가나       156.609224  542.453956  \n",
       "가봉              NaN         NaN  \n",
       "가이아나            NaN         NaN  \n",
       "감비아      119.921323         NaN  \n",
       "과테말라            NaN    2.351919  \n",
       "...             ...         ...  \n",
       "피지              NaN    7.350710  \n",
       "핀란드        3.264712   25.152760  \n",
       "필리핀      167.776507  178.693117  \n",
       "헝가리        0.415596    1.867109  \n",
       "홍콩      1810.756656  319.837881  \n",
       "\n",
       "[165 rows x 8 columns]"
      ]
     },
     "execution_count": 48,
     "metadata": {},
     "output_type": "execute_result"
    }
   ],
   "source": [
    "pd.pivot_table(\n",
    "    data = sfd,\n",
    "    values = 'dollar', \n",
    "    index = 'nation',\n",
    "    columns = 'imxprt', \n",
    "    aggfunc = [np.sum, np.size, np.mean, np.std]\n",
    ")"
   ]
  },
  {
   "cell_type": "code",
   "execution_count": 51,
   "id": "3e8e1269",
   "metadata": {},
   "outputs": [
    {
     "data": {
      "text/plain": [
       "pandas.core.frame.DataFrame"
      ]
     },
     "execution_count": 51,
     "metadata": {},
     "output_type": "execute_result"
    }
   ],
   "source": [
    "type(trade)"
   ]
  },
  {
   "cell_type": "code",
   "execution_count": 52,
   "id": "ad9cde98",
   "metadata": {
    "collapsed": true
   },
   "outputs": [
    {
     "data": {
      "text/plain": [
       "['T',\n",
       " '_AXIS_LEN',\n",
       " '_AXIS_ORDERS',\n",
       " '_AXIS_TO_AXIS_NUMBER',\n",
       " '_HANDLED_TYPES',\n",
       " '__abs__',\n",
       " '__add__',\n",
       " '__and__',\n",
       " '__annotations__',\n",
       " '__array__',\n",
       " '__array_priority__',\n",
       " '__array_ufunc__',\n",
       " '__array_wrap__',\n",
       " '__bool__',\n",
       " '__class__',\n",
       " '__contains__',\n",
       " '__copy__',\n",
       " '__dataframe__',\n",
       " '__deepcopy__',\n",
       " '__delattr__',\n",
       " '__delitem__',\n",
       " '__dict__',\n",
       " '__dir__',\n",
       " '__divmod__',\n",
       " '__doc__',\n",
       " '__eq__',\n",
       " '__finalize__',\n",
       " '__floordiv__',\n",
       " '__format__',\n",
       " '__ge__',\n",
       " '__getattr__',\n",
       " '__getattribute__',\n",
       " '__getitem__',\n",
       " '__getstate__',\n",
       " '__gt__',\n",
       " '__hash__',\n",
       " '__iadd__',\n",
       " '__iand__',\n",
       " '__ifloordiv__',\n",
       " '__imod__',\n",
       " '__imul__',\n",
       " '__init__',\n",
       " '__init_subclass__',\n",
       " '__invert__',\n",
       " '__ior__',\n",
       " '__ipow__',\n",
       " '__isub__',\n",
       " '__iter__',\n",
       " '__itruediv__',\n",
       " '__ixor__',\n",
       " '__le__',\n",
       " '__len__',\n",
       " '__lt__',\n",
       " '__matmul__',\n",
       " '__mod__',\n",
       " '__module__',\n",
       " '__mul__',\n",
       " '__ne__',\n",
       " '__neg__',\n",
       " '__new__',\n",
       " '__nonzero__',\n",
       " '__or__',\n",
       " '__pos__',\n",
       " '__pow__',\n",
       " '__radd__',\n",
       " '__rand__',\n",
       " '__rdivmod__',\n",
       " '__reduce__',\n",
       " '__reduce_ex__',\n",
       " '__repr__',\n",
       " '__rfloordiv__',\n",
       " '__rmatmul__',\n",
       " '__rmod__',\n",
       " '__rmul__',\n",
       " '__ror__',\n",
       " '__round__',\n",
       " '__rpow__',\n",
       " '__rsub__',\n",
       " '__rtruediv__',\n",
       " '__rxor__',\n",
       " '__setattr__',\n",
       " '__setitem__',\n",
       " '__setstate__',\n",
       " '__sizeof__',\n",
       " '__str__',\n",
       " '__sub__',\n",
       " '__subclasshook__',\n",
       " '__truediv__',\n",
       " '__weakref__',\n",
       " '__xor__',\n",
       " '_accessors',\n",
       " '_accum_func',\n",
       " '_add_numeric_operations',\n",
       " '_agg_by_level',\n",
       " '_agg_examples_doc',\n",
       " '_agg_summary_and_see_also_doc',\n",
       " '_align_frame',\n",
       " '_align_series',\n",
       " '_append',\n",
       " '_arith_method',\n",
       " '_as_manager',\n",
       " '_attrs',\n",
       " '_box_col_values',\n",
       " '_can_fast_transpose',\n",
       " '_check_inplace_and_allows_duplicate_labels',\n",
       " '_check_inplace_setting',\n",
       " '_check_is_chained_assignment_possible',\n",
       " '_check_label_or_level_ambiguity',\n",
       " '_check_setitem_copy',\n",
       " '_clear_item_cache',\n",
       " '_clip_with_one_bound',\n",
       " '_clip_with_scalar',\n",
       " '_cmp_method',\n",
       " '_combine_frame',\n",
       " '_consolidate',\n",
       " '_consolidate_inplace',\n",
       " '_construct_axes_dict',\n",
       " '_construct_axes_from_arguments',\n",
       " '_construct_result',\n",
       " '_constructor',\n",
       " '_constructor_sliced',\n",
       " '_convert',\n",
       " '_count_level',\n",
       " '_data',\n",
       " '_dir_additions',\n",
       " '_dir_deletions',\n",
       " '_dispatch_frame_op',\n",
       " '_drop_axis',\n",
       " '_drop_labels_or_levels',\n",
       " '_ensure_valid_index',\n",
       " '_find_valid_index',\n",
       " '_flags',\n",
       " '_from_arrays',\n",
       " '_get_agg_axis',\n",
       " '_get_axis',\n",
       " '_get_axis_name',\n",
       " '_get_axis_number',\n",
       " '_get_axis_resolvers',\n",
       " '_get_block_manager_axis',\n",
       " '_get_bool_data',\n",
       " '_get_cleaned_column_resolvers',\n",
       " '_get_column_array',\n",
       " '_get_index_resolvers',\n",
       " '_get_item_cache',\n",
       " '_get_label_or_level_values',\n",
       " '_get_numeric_data',\n",
       " '_get_value',\n",
       " '_getitem_bool_array',\n",
       " '_getitem_multilevel',\n",
       " '_gotitem',\n",
       " '_hidden_attrs',\n",
       " '_indexed_same',\n",
       " '_info_axis',\n",
       " '_info_axis_name',\n",
       " '_info_axis_number',\n",
       " '_info_repr',\n",
       " '_init_mgr',\n",
       " '_inplace_method',\n",
       " '_internal_names',\n",
       " '_internal_names_set',\n",
       " '_is_copy',\n",
       " '_is_homogeneous_type',\n",
       " '_is_label_or_level_reference',\n",
       " '_is_label_reference',\n",
       " '_is_level_reference',\n",
       " '_is_mixed_type',\n",
       " '_is_view',\n",
       " '_iset_item',\n",
       " '_iset_item_mgr',\n",
       " '_iset_not_inplace',\n",
       " '_item_cache',\n",
       " '_iter_column_arrays',\n",
       " '_ixs',\n",
       " '_join_compat',\n",
       " '_logical_func',\n",
       " '_logical_method',\n",
       " '_maybe_cache_changed',\n",
       " '_maybe_update_cacher',\n",
       " '_metadata',\n",
       " '_mgr',\n",
       " '_min_count_stat_function',\n",
       " '_needs_reindex_multi',\n",
       " '_protect_consolidate',\n",
       " '_reduce',\n",
       " '_reduce_axis1',\n",
       " '_reindex_axes',\n",
       " '_reindex_columns',\n",
       " '_reindex_index',\n",
       " '_reindex_multi',\n",
       " '_reindex_with_indexers',\n",
       " '_rename',\n",
       " '_replace_columnwise',\n",
       " '_repr_data_resource_',\n",
       " '_repr_fits_horizontal_',\n",
       " '_repr_fits_vertical_',\n",
       " '_repr_html_',\n",
       " '_repr_latex_',\n",
       " '_reset_cache',\n",
       " '_reset_cacher',\n",
       " '_sanitize_column',\n",
       " '_series',\n",
       " '_set_axis',\n",
       " '_set_axis_name',\n",
       " '_set_axis_nocheck',\n",
       " '_set_is_copy',\n",
       " '_set_item',\n",
       " '_set_item_frame_value',\n",
       " '_set_item_mgr',\n",
       " '_set_value',\n",
       " '_setitem_array',\n",
       " '_setitem_frame',\n",
       " '_setitem_slice',\n",
       " '_slice',\n",
       " '_stat_axis',\n",
       " '_stat_axis_name',\n",
       " '_stat_axis_number',\n",
       " '_stat_function',\n",
       " '_stat_function_ddof',\n",
       " '_take',\n",
       " '_take_with_is_copy',\n",
       " '_to_dict_of_blocks',\n",
       " '_typ',\n",
       " '_update_inplace',\n",
       " '_validate_dtype',\n",
       " '_values',\n",
       " '_where',\n",
       " 'abs',\n",
       " 'add',\n",
       " 'add_prefix',\n",
       " 'add_suffix',\n",
       " 'agg',\n",
       " 'aggregate',\n",
       " 'align',\n",
       " 'all',\n",
       " 'any',\n",
       " 'append',\n",
       " 'apply',\n",
       " 'applymap',\n",
       " 'asfreq',\n",
       " 'asof',\n",
       " 'assign',\n",
       " 'astype',\n",
       " 'at',\n",
       " 'at_time',\n",
       " 'attrs',\n",
       " 'axes',\n",
       " 'backfill',\n",
       " 'between_time',\n",
       " 'bfill',\n",
       " 'bool',\n",
       " 'boxplot',\n",
       " 'clip',\n",
       " 'columns',\n",
       " 'combine',\n",
       " 'combine_first',\n",
       " 'compare',\n",
       " 'convert_dtypes',\n",
       " 'copy',\n",
       " 'corr',\n",
       " 'corrwith',\n",
       " 'count',\n",
       " 'cov',\n",
       " 'cummax',\n",
       " 'cummin',\n",
       " 'cumprod',\n",
       " 'cumsum',\n",
       " 'describe',\n",
       " 'diff',\n",
       " 'div',\n",
       " 'divide',\n",
       " 'dot',\n",
       " 'drop',\n",
       " 'drop_duplicates',\n",
       " 'droplevel',\n",
       " 'dropna',\n",
       " 'dtypes',\n",
       " 'duplicated',\n",
       " 'empty',\n",
       " 'eq',\n",
       " 'equals',\n",
       " 'eval',\n",
       " 'ewm',\n",
       " 'expanding',\n",
       " 'explode',\n",
       " 'ffill',\n",
       " 'fillna',\n",
       " 'filter',\n",
       " 'first',\n",
       " 'first_valid_index',\n",
       " 'flags',\n",
       " 'floordiv',\n",
       " 'from_dict',\n",
       " 'from_records',\n",
       " 'ge',\n",
       " 'get',\n",
       " 'groupby',\n",
       " 'gt',\n",
       " 'head',\n",
       " 'hist',\n",
       " 'iat',\n",
       " 'idxmax',\n",
       " 'idxmin',\n",
       " 'iloc',\n",
       " 'index',\n",
       " 'infer_objects',\n",
       " 'info',\n",
       " 'insert',\n",
       " 'interpolate',\n",
       " 'isetitem',\n",
       " 'isin',\n",
       " 'isna',\n",
       " 'isnull',\n",
       " 'items',\n",
       " 'iteritems',\n",
       " 'iterrows',\n",
       " 'itertuples',\n",
       " 'join',\n",
       " 'keys',\n",
       " 'kurt',\n",
       " 'kurtosis',\n",
       " 'last',\n",
       " 'last_valid_index',\n",
       " 'le',\n",
       " 'loc',\n",
       " 'lookup',\n",
       " 'lt',\n",
       " 'mad',\n",
       " 'mask',\n",
       " 'max',\n",
       " 'mean',\n",
       " 'median',\n",
       " 'melt',\n",
       " 'memory_usage',\n",
       " 'merge',\n",
       " 'min',\n",
       " 'mod',\n",
       " 'mode',\n",
       " 'mul',\n",
       " 'multiply',\n",
       " 'ndim',\n",
       " 'ne',\n",
       " 'nlargest',\n",
       " 'notna',\n",
       " 'notnull',\n",
       " 'nsmallest',\n",
       " 'nunique',\n",
       " 'pad',\n",
       " 'pct_change',\n",
       " 'pipe',\n",
       " 'pivot',\n",
       " 'pivot_table',\n",
       " 'plot',\n",
       " 'pop',\n",
       " 'pow',\n",
       " 'prod',\n",
       " 'product',\n",
       " 'quantile',\n",
       " 'query',\n",
       " 'radd',\n",
       " 'rank',\n",
       " 'rdiv',\n",
       " 'reindex',\n",
       " 'reindex_like',\n",
       " 'rename',\n",
       " 'rename_axis',\n",
       " 'reorder_levels',\n",
       " 'replace',\n",
       " 'resample',\n",
       " 'reset_index',\n",
       " 'rfloordiv',\n",
       " 'rmod',\n",
       " 'rmul',\n",
       " 'rolling',\n",
       " 'round',\n",
       " 'rpow',\n",
       " 'rsub',\n",
       " 'rtruediv',\n",
       " 'sample',\n",
       " 'select_dtypes',\n",
       " 'sem',\n",
       " 'set_axis',\n",
       " 'set_flags',\n",
       " 'set_index',\n",
       " 'shape',\n",
       " 'shift',\n",
       " 'size',\n",
       " 'skew',\n",
       " 'slice_shift',\n",
       " 'sort_index',\n",
       " 'sort_values',\n",
       " 'squeeze',\n",
       " 'stack',\n",
       " 'std',\n",
       " 'style',\n",
       " 'sub',\n",
       " 'subtract',\n",
       " 'sum',\n",
       " 'swapaxes',\n",
       " 'swaplevel',\n",
       " 'tail',\n",
       " 'take',\n",
       " 'to_clipboard',\n",
       " 'to_csv',\n",
       " 'to_dict',\n",
       " 'to_excel',\n",
       " 'to_feather',\n",
       " 'to_gbq',\n",
       " 'to_hdf',\n",
       " 'to_html',\n",
       " 'to_json',\n",
       " 'to_latex',\n",
       " 'to_markdown',\n",
       " 'to_numpy',\n",
       " 'to_orc',\n",
       " 'to_parquet',\n",
       " 'to_period',\n",
       " 'to_pickle',\n",
       " 'to_records',\n",
       " 'to_sql',\n",
       " 'to_stata',\n",
       " 'to_string',\n",
       " 'to_timestamp',\n",
       " 'to_xarray',\n",
       " 'to_xml',\n",
       " 'transform',\n",
       " 'transpose',\n",
       " 'truediv',\n",
       " 'truncate',\n",
       " 'tz_convert',\n",
       " 'tz_localize',\n",
       " 'unstack',\n",
       " 'update',\n",
       " 'value_counts',\n",
       " 'values',\n",
       " 'var',\n",
       " 'where',\n",
       " 'xs',\n",
       " '수입',\n",
       " '수출']"
      ]
     },
     "execution_count": 52,
     "metadata": {},
     "output_type": "execute_result"
    }
   ],
   "source": [
    "# 파이썬 객체의 속성(attribute)과 방식(method) 목록을 리스트로 반환합니다.\n",
    "dir(trade)"
   ]
  },
  {
   "cell_type": "code",
   "execution_count": 49,
   "id": "7c49ba7f",
   "metadata": {},
   "outputs": [],
   "source": [
    "# trade에 있는 결측값을 0으로 대체하고 trade에 재할당합니다.\n",
    "# [힌트] fillna() 함수를 사용하세요.\n",
    "trade = trade.fillna(value = 0)"
   ]
  },
  {
   "cell_type": "code",
   "execution_count": 50,
   "id": "3875a882",
   "metadata": {},
   "outputs": [
    {
     "data": {
      "text/html": [
       "<div>\n",
       "<style scoped>\n",
       "    .dataframe tbody tr th:only-of-type {\n",
       "        vertical-align: middle;\n",
       "    }\n",
       "\n",
       "    .dataframe tbody tr th {\n",
       "        vertical-align: top;\n",
       "    }\n",
       "\n",
       "    .dataframe thead th {\n",
       "        text-align: right;\n",
       "    }\n",
       "</style>\n",
       "<table border=\"1\" class=\"dataframe\">\n",
       "  <thead>\n",
       "    <tr style=\"text-align: right;\">\n",
       "      <th>imxprt</th>\n",
       "      <th>수입</th>\n",
       "      <th>수출</th>\n",
       "    </tr>\n",
       "    <tr>\n",
       "      <th>nation</th>\n",
       "      <th></th>\n",
       "      <th></th>\n",
       "    </tr>\n",
       "  </thead>\n",
       "  <tbody>\n",
       "    <tr>\n",
       "      <th>가나</th>\n",
       "      <td>1847.987</td>\n",
       "      <td>8088.674</td>\n",
       "    </tr>\n",
       "    <tr>\n",
       "      <th>가봉</th>\n",
       "      <td>0.026</td>\n",
       "      <td>0.000</td>\n",
       "    </tr>\n",
       "    <tr>\n",
       "      <th>가이아나</th>\n",
       "      <td>17.290</td>\n",
       "      <td>0.036</td>\n",
       "    </tr>\n",
       "    <tr>\n",
       "      <th>감비아</th>\n",
       "      <td>2065.081</td>\n",
       "      <td>0.000</td>\n",
       "    </tr>\n",
       "    <tr>\n",
       "      <th>과테말라</th>\n",
       "      <td>0.000</td>\n",
       "      <td>131.373</td>\n",
       "    </tr>\n",
       "  </tbody>\n",
       "</table>\n",
       "</div>"
      ],
      "text/plain": [
       "imxprt        수입        수출\n",
       "nation                    \n",
       "가나      1847.987  8088.674\n",
       "가봉         0.026     0.000\n",
       "가이아나      17.290     0.036\n",
       "감비아     2065.081     0.000\n",
       "과테말라       0.000   131.373"
      ]
     },
     "execution_count": 50,
     "metadata": {},
     "output_type": "execute_result"
    }
   ],
   "source": [
    "trade.head()"
   ]
  },
  {
   "cell_type": "code",
   "execution_count": 53,
   "id": "7b5cb4dd",
   "metadata": {},
   "outputs": [
    {
     "data": {
      "text/plain": [
       "Index(['가나', '가봉', '가이아나', '감비아', '과테말라', '괌', '그리스', '그린란드', '기니', '기니비사우',\n",
       "       ...\n",
       "       '포클랜드제도', '폴란드', '푸에르토리코', '프랑스', '프랑스령 폴리네시아', '피지', '핀란드', '필리핀',\n",
       "       '헝가리', '홍콩'],\n",
       "      dtype='object', name='nation', length=165)"
      ]
     },
     "execution_count": 53,
     "metadata": {},
     "output_type": "execute_result"
    }
   ],
   "source": [
    "# trade의 인덱스를 출력합니다.\n",
    "# [힌트] index 속성을 사용하세요.\n",
    "trade.index"
   ]
  },
  {
   "cell_type": "code",
   "execution_count": 63,
   "id": "eb9c3ec2",
   "metadata": {},
   "outputs": [],
   "source": [
    "# trade의 인덱스 네임을 '국가'로 변경합니다.\n",
    "# [힌트] index.name 속성을 사용하세요.\n",
    "trade.index.name = '국가'"
   ]
  },
  {
   "cell_type": "code",
   "execution_count": 64,
   "id": "59c8ffe4",
   "metadata": {},
   "outputs": [
    {
     "data": {
      "text/plain": [
       "Index(['수입', '수출'], dtype='object')"
      ]
     },
     "execution_count": 64,
     "metadata": {},
     "output_type": "execute_result"
    }
   ],
   "source": [
    "# trade의 열이름을 출력합니다.\n",
    "# [힌트] columns 속성을 사용하세요.\n",
    "trade.columns"
   ]
  },
  {
   "cell_type": "code",
   "execution_count": 65,
   "id": "94874c93",
   "metadata": {},
   "outputs": [],
   "source": [
    "# trade의 열이름 네임에 빈 문자열을 지정합니다.\n",
    "# [힌트] columns.name 속성을 사용하세요.\n",
    "trade.columns.name = None"
   ]
  },
  {
   "cell_type": "code",
   "execution_count": 66,
   "id": "b3fa5c5c",
   "metadata": {},
   "outputs": [
    {
     "data": {
      "text/html": [
       "<div>\n",
       "<style scoped>\n",
       "    .dataframe tbody tr th:only-of-type {\n",
       "        vertical-align: middle;\n",
       "    }\n",
       "\n",
       "    .dataframe tbody tr th {\n",
       "        vertical-align: top;\n",
       "    }\n",
       "\n",
       "    .dataframe thead th {\n",
       "        text-align: right;\n",
       "    }\n",
       "</style>\n",
       "<table border=\"1\" class=\"dataframe\">\n",
       "  <thead>\n",
       "    <tr style=\"text-align: right;\">\n",
       "      <th></th>\n",
       "      <th>수입</th>\n",
       "      <th>수출</th>\n",
       "    </tr>\n",
       "    <tr>\n",
       "      <th>국가</th>\n",
       "      <th></th>\n",
       "      <th></th>\n",
       "    </tr>\n",
       "  </thead>\n",
       "  <tbody>\n",
       "    <tr>\n",
       "      <th>가나</th>\n",
       "      <td>1847.987</td>\n",
       "      <td>8088.674</td>\n",
       "    </tr>\n",
       "    <tr>\n",
       "      <th>가봉</th>\n",
       "      <td>0.026</td>\n",
       "      <td>0.000</td>\n",
       "    </tr>\n",
       "    <tr>\n",
       "      <th>가이아나</th>\n",
       "      <td>17.290</td>\n",
       "      <td>0.036</td>\n",
       "    </tr>\n",
       "    <tr>\n",
       "      <th>감비아</th>\n",
       "      <td>2065.081</td>\n",
       "      <td>0.000</td>\n",
       "    </tr>\n",
       "    <tr>\n",
       "      <th>과테말라</th>\n",
       "      <td>0.000</td>\n",
       "      <td>131.373</td>\n",
       "    </tr>\n",
       "  </tbody>\n",
       "</table>\n",
       "</div>"
      ],
      "text/plain": [
       "            수입        수출\n",
       "국가                      \n",
       "가나    1847.987  8088.674\n",
       "가봉       0.026     0.000\n",
       "가이아나    17.290     0.036\n",
       "감비아   2065.081     0.000\n",
       "과테말라     0.000   131.373"
      ]
     },
     "execution_count": 66,
     "metadata": {},
     "output_type": "execute_result"
    }
   ],
   "source": [
    "trade.head()"
   ]
  },
  {
   "cell_type": "code",
   "execution_count": 67,
   "id": "30b5504d",
   "metadata": {},
   "outputs": [],
   "source": [
    "# trade의 인덱스를 초기화합니다.\n",
    "# [힌트] reset_index() 함수를 사용하세요.\n",
    "# [참고] 기존 인덱스를 열로 추가하려면 drop = True를 추가하지 않습니다.\n",
    "trade = trade.reset_index()"
   ]
  },
  {
   "cell_type": "code",
   "execution_count": 68,
   "id": "b78efb77",
   "metadata": {},
   "outputs": [
    {
     "data": {
      "text/html": [
       "<div>\n",
       "<style scoped>\n",
       "    .dataframe tbody tr th:only-of-type {\n",
       "        vertical-align: middle;\n",
       "    }\n",
       "\n",
       "    .dataframe tbody tr th {\n",
       "        vertical-align: top;\n",
       "    }\n",
       "\n",
       "    .dataframe thead th {\n",
       "        text-align: right;\n",
       "    }\n",
       "</style>\n",
       "<table border=\"1\" class=\"dataframe\">\n",
       "  <thead>\n",
       "    <tr style=\"text-align: right;\">\n",
       "      <th></th>\n",
       "      <th>국가</th>\n",
       "      <th>수입</th>\n",
       "      <th>수출</th>\n",
       "    </tr>\n",
       "  </thead>\n",
       "  <tbody>\n",
       "    <tr>\n",
       "      <th>0</th>\n",
       "      <td>가나</td>\n",
       "      <td>1847.987</td>\n",
       "      <td>8088.674</td>\n",
       "    </tr>\n",
       "    <tr>\n",
       "      <th>1</th>\n",
       "      <td>가봉</td>\n",
       "      <td>0.026</td>\n",
       "      <td>0.000</td>\n",
       "    </tr>\n",
       "    <tr>\n",
       "      <th>2</th>\n",
       "      <td>가이아나</td>\n",
       "      <td>17.290</td>\n",
       "      <td>0.036</td>\n",
       "    </tr>\n",
       "    <tr>\n",
       "      <th>3</th>\n",
       "      <td>감비아</td>\n",
       "      <td>2065.081</td>\n",
       "      <td>0.000</td>\n",
       "    </tr>\n",
       "    <tr>\n",
       "      <th>4</th>\n",
       "      <td>과테말라</td>\n",
       "      <td>0.000</td>\n",
       "      <td>131.373</td>\n",
       "    </tr>\n",
       "  </tbody>\n",
       "</table>\n",
       "</div>"
      ],
      "text/plain": [
       "     국가        수입        수출\n",
       "0    가나  1847.987  8088.674\n",
       "1    가봉     0.026     0.000\n",
       "2  가이아나    17.290     0.036\n",
       "3   감비아  2065.081     0.000\n",
       "4  과테말라     0.000   131.373"
      ]
     },
     "execution_count": 68,
     "metadata": {},
     "output_type": "execute_result"
    }
   ],
   "source": [
    "# trade의 처음 5행을 출력합니다.\n",
    "trade.head()"
   ]
  },
  {
   "cell_type": "code",
   "execution_count": 69,
   "id": "0c19ea88",
   "metadata": {},
   "outputs": [],
   "source": [
    "# trade의 수출에서 수입을 뺀 무역수지를 생성합니다.\n",
    "trade['무역수지'] = trade['수출'] - trade['수입']"
   ]
  },
  {
   "cell_type": "code",
   "execution_count": 70,
   "id": "3d250bb4",
   "metadata": {},
   "outputs": [],
   "source": [
    "# trade를 무역수지로 내림차순 정렬하고 trade에 재할당합니다.\n",
    "# [힌트] sort_values() 함수를 사용하세요.\n",
    "trade = trade.sort_values(by = ['무역수지'], ascending = False)"
   ]
  },
  {
   "cell_type": "code",
   "execution_count": 71,
   "id": "5ff82669",
   "metadata": {},
   "outputs": [
    {
     "data": {
      "text/html": [
       "<div>\n",
       "<style scoped>\n",
       "    .dataframe tbody tr th:only-of-type {\n",
       "        vertical-align: middle;\n",
       "    }\n",
       "\n",
       "    .dataframe tbody tr th {\n",
       "        vertical-align: top;\n",
       "    }\n",
       "\n",
       "    .dataframe thead th {\n",
       "        text-align: right;\n",
       "    }\n",
       "</style>\n",
       "<table border=\"1\" class=\"dataframe\">\n",
       "  <thead>\n",
       "    <tr style=\"text-align: right;\">\n",
       "      <th></th>\n",
       "      <th>국가</th>\n",
       "      <th>수입</th>\n",
       "      <th>수출</th>\n",
       "      <th>무역수지</th>\n",
       "    </tr>\n",
       "  </thead>\n",
       "  <tbody>\n",
       "    <tr>\n",
       "      <th>116</th>\n",
       "      <td>일본</td>\n",
       "      <td>170243.592</td>\n",
       "      <td>635499.670</td>\n",
       "      <td>465256.078</td>\n",
       "    </tr>\n",
       "    <tr>\n",
       "      <th>49</th>\n",
       "      <td>미국</td>\n",
       "      <td>250113.606</td>\n",
       "      <td>395386.470</td>\n",
       "      <td>145272.864</td>\n",
       "    </tr>\n",
       "    <tr>\n",
       "      <th>158</th>\n",
       "      <td>프랑스</td>\n",
       "      <td>34315.325</td>\n",
       "      <td>66501.818</td>\n",
       "      <td>32186.493</td>\n",
       "    </tr>\n",
       "    <tr>\n",
       "      <th>113</th>\n",
       "      <td>이탈리아</td>\n",
       "      <td>25683.273</td>\n",
       "      <td>52961.214</td>\n",
       "      <td>27277.941</td>\n",
       "    </tr>\n",
       "    <tr>\n",
       "      <th>25</th>\n",
       "      <td>독일</td>\n",
       "      <td>1263.392</td>\n",
       "      <td>27186.712</td>\n",
       "      <td>25923.320</td>\n",
       "    </tr>\n",
       "    <tr>\n",
       "      <th>164</th>\n",
       "      <td>홍콩</td>\n",
       "      <td>32389.424</td>\n",
       "      <td>54560.233</td>\n",
       "      <td>22170.809</td>\n",
       "    </tr>\n",
       "    <tr>\n",
       "      <th>87</th>\n",
       "      <td>싱가포르</td>\n",
       "      <td>2593.154</td>\n",
       "      <td>21449.930</td>\n",
       "      <td>18856.776</td>\n",
       "    </tr>\n",
       "    <tr>\n",
       "      <th>14</th>\n",
       "      <td>네덜란드</td>\n",
       "      <td>5373.894</td>\n",
       "      <td>20403.436</td>\n",
       "      <td>15029.542</td>\n",
       "    </tr>\n",
       "    <tr>\n",
       "      <th>162</th>\n",
       "      <td>필리핀</td>\n",
       "      <td>29771.506</td>\n",
       "      <td>37663.369</td>\n",
       "      <td>7891.863</td>\n",
       "    </tr>\n",
       "    <tr>\n",
       "      <th>50</th>\n",
       "      <td>미령사모아</td>\n",
       "      <td>811.309</td>\n",
       "      <td>8649.957</td>\n",
       "      <td>7838.648</td>\n",
       "    </tr>\n",
       "  </tbody>\n",
       "</table>\n",
       "</div>"
      ],
      "text/plain": [
       "        국가          수입          수출        무역수지\n",
       "116     일본  170243.592  635499.670  465256.078\n",
       "49      미국  250113.606  395386.470  145272.864\n",
       "158    프랑스   34315.325   66501.818   32186.493\n",
       "113   이탈리아   25683.273   52961.214   27277.941\n",
       "25      독일    1263.392   27186.712   25923.320\n",
       "164     홍콩   32389.424   54560.233   22170.809\n",
       "87    싱가포르    2593.154   21449.930   18856.776\n",
       "14    네덜란드    5373.894   20403.436   15029.542\n",
       "162    필리핀   29771.506   37663.369    7891.863\n",
       "50   미령사모아     811.309    8649.957    7838.648"
      ]
     },
     "execution_count": 71,
     "metadata": {},
     "output_type": "execute_result"
    }
   ],
   "source": [
    "# trade의 처음 10행을 출력합니다.(무역수지 흑자 국가)\n",
    "trade.head(n = 10)"
   ]
  },
  {
   "cell_type": "code",
   "execution_count": 72,
   "id": "ee9b7ad0",
   "metadata": {
    "scrolled": true
   },
   "outputs": [
    {
     "data": {
      "text/html": [
       "<div>\n",
       "<style scoped>\n",
       "    .dataframe tbody tr th:only-of-type {\n",
       "        vertical-align: middle;\n",
       "    }\n",
       "\n",
       "    .dataframe tbody tr th {\n",
       "        vertical-align: top;\n",
       "    }\n",
       "\n",
       "    .dataframe thead th {\n",
       "        text-align: right;\n",
       "    }\n",
       "</style>\n",
       "<table border=\"1\" class=\"dataframe\">\n",
       "  <thead>\n",
       "    <tr style=\"text-align: right;\">\n",
       "      <th></th>\n",
       "      <th>국가</th>\n",
       "      <th>수입</th>\n",
       "      <th>수출</th>\n",
       "      <th>무역수지</th>\n",
       "    </tr>\n",
       "  </thead>\n",
       "  <tbody>\n",
       "    <tr>\n",
       "      <th>22</th>\n",
       "      <td>대만</td>\n",
       "      <td>129664.240</td>\n",
       "      <td>60066.032</td>\n",
       "      <td>-69598.208</td>\n",
       "    </tr>\n",
       "    <tr>\n",
       "      <th>89</th>\n",
       "      <td>아르헨티나</td>\n",
       "      <td>69720.069</td>\n",
       "      <td>53.530</td>\n",
       "      <td>-69666.539</td>\n",
       "    </tr>\n",
       "    <tr>\n",
       "      <th>127</th>\n",
       "      <td>캐나다</td>\n",
       "      <td>113857.715</td>\n",
       "      <td>41938.119</td>\n",
       "      <td>-71919.596</td>\n",
       "    </tr>\n",
       "    <tr>\n",
       "      <th>114</th>\n",
       "      <td>인도</td>\n",
       "      <td>106905.400</td>\n",
       "      <td>687.022</td>\n",
       "      <td>-106218.378</td>\n",
       "    </tr>\n",
       "    <tr>\n",
       "      <th>122</th>\n",
       "      <td>칠레</td>\n",
       "      <td>119811.899</td>\n",
       "      <td>1426.241</td>\n",
       "      <td>-118385.658</td>\n",
       "    </tr>\n",
       "    <tr>\n",
       "      <th>153</th>\n",
       "      <td>페루</td>\n",
       "      <td>165384.173</td>\n",
       "      <td>2710.209</td>\n",
       "      <td>-162673.964</td>\n",
       "    </tr>\n",
       "    <tr>\n",
       "      <th>119</th>\n",
       "      <td>중국</td>\n",
       "      <td>1300449.248</td>\n",
       "      <td>726529.129</td>\n",
       "      <td>-573920.119</td>\n",
       "    </tr>\n",
       "    <tr>\n",
       "      <th>17</th>\n",
       "      <td>노르웨이</td>\n",
       "      <td>575973.581</td>\n",
       "      <td>1884.646</td>\n",
       "      <td>-574088.935</td>\n",
       "    </tr>\n",
       "    <tr>\n",
       "      <th>58</th>\n",
       "      <td>베트남</td>\n",
       "      <td>808388.014</td>\n",
       "      <td>177741.726</td>\n",
       "      <td>-630646.288</td>\n",
       "    </tr>\n",
       "    <tr>\n",
       "      <th>29</th>\n",
       "      <td>러시아</td>\n",
       "      <td>1219825.619</td>\n",
       "      <td>54078.994</td>\n",
       "      <td>-1165746.625</td>\n",
       "    </tr>\n",
       "  </tbody>\n",
       "</table>\n",
       "</div>"
      ],
      "text/plain": [
       "        국가           수입          수출         무역수지\n",
       "22      대만   129664.240   60066.032   -69598.208\n",
       "89   아르헨티나    69720.069      53.530   -69666.539\n",
       "127    캐나다   113857.715   41938.119   -71919.596\n",
       "114     인도   106905.400     687.022  -106218.378\n",
       "122     칠레   119811.899    1426.241  -118385.658\n",
       "153     페루   165384.173    2710.209  -162673.964\n",
       "119     중국  1300449.248  726529.129  -573920.119\n",
       "17    노르웨이   575973.581    1884.646  -574088.935\n",
       "58     베트남   808388.014  177741.726  -630646.288\n",
       "29     러시아  1219825.619   54078.994 -1165746.625"
      ]
     },
     "execution_count": 72,
     "metadata": {},
     "output_type": "execute_result"
    }
   ],
   "source": [
    "# trade의 마지막 10행을 출력합니다.(무역수지 적자 국가)\n",
    "trade.tail(n = 10)"
   ]
  },
  {
   "cell_type": "markdown",
   "id": "238c9e01",
   "metadata": {},
   "source": [
    "### 통계청 1인당 국민총소득 데이터 (2021년)\n",
    "\n",
    "- 아래 링크를 읽고 데이터프레임을 생성합니다.\n",
    "  - url: https://bit.ly/GDP_Per_Capita_2021 (구분자: ',', 인코딩방식: 'EUC-KR')\n",
    "  \n",
    "  \n",
    "- 데이터 전처리를 실행하고, trade와 병합합니다."
   ]
  },
  {
   "cell_type": "code",
   "execution_count": 73,
   "id": "a56d953d",
   "metadata": {},
   "outputs": [],
   "source": [
    "# 위 링크를 URL2에 할당합니다.\n",
    "URL2 = 'https://bit.ly/GDP_Per_Capita_2021'"
   ]
  },
  {
   "cell_type": "code",
   "execution_count": 74,
   "id": "13aaf635",
   "metadata": {},
   "outputs": [],
   "source": [
    "# URL2에 있는 텍스트를 내려받습니다.(HTTP Requests)\n",
    "res = requests.get(URL2)"
   ]
  },
  {
   "cell_type": "code",
   "execution_count": 75,
   "id": "cef212dc",
   "metadata": {
    "collapsed": true
   },
   "outputs": [
    {
     "data": {
      "text/plain": [
       "b'\"\\xb1\\xb9\\xb0\\xa1\",2019,2020,2021\\n\"\\xbe\\xc6\\xc7\\xc1\\xb0\\xa1\\xb4\\xcf\\xbd\\xba\\xc5\\xba\",520,500,-\\n\"\\xbe\\xc6\\xb8\\xa3\\xb8\\xde\\xb4\\xcf\\xbe\\xc6\",4660,4220,4560\\n\"\\xbe\\xc6\\xc1\\xa6\\xb8\\xa3\\xb9\\xd9\\xc0\\xcc\\xc0\\xdc\",4510,4480,4880\\n\"\\xb9\\xd9\\xb7\\xb9\\xc0\\xce\",22230,19930,-\\n\"\\xb9\\xe6\\xb1\\xdb\\xb6\\xf3\\xb5\\xa5\\xbd\\xc3\",2250,2340,2620\\n\"\\xba\\xce\\xc5\\xba\",3150,2840,-\\n\"\\xba\\xea\\xb7\\xe7\\xb3\\xaa\\xc0\\xcc\",32230,31510,-\\n\"\\xc4\\xaf\\xba\\xb8\\xb5\\xf0\\xbe\\xc6\",1530,1510,1550\\n\"\\xc1\\xdf\\xb1\\xb9\",10310,10530,11890\\n\"\\xc5\\xb0\\xc7\\xc1\\xb7\\xce\\xbd\\xba\",28600,26490,28130\\n\"\\xc1\\xb6\\xc1\\xf6\\xbe\\xc6\",4690,4260,4740\\n\"\\xc8\\xab\\xc4\\xe1\",50480,48560,54450\\n\"\\xc0\\xce\\xb5\\xb5\",2100,1910,2170\\n\"\\xc0\\xce\\xb5\\xb5\\xb3\\xd7\\xbd\\xc3\\xbe\\xc6\",4050,3870,4140\\n\"\\xc0\\xcc\\xb6\\xf5\",4260,3370,-\\n\"\\xc0\\xcc\\xb6\\xf3\\xc5\\xa9\",5780,4990,5040\\n\"\\xc0\\xcc\\xbd\\xba\\xb6\\xf3\\xbf\\xa4\",43540,42610,49560\\n\"\\xc0\\xcf\\xba\\xbb\",42010,40810,42620\\n\"\\xbf\\xe4\\xb8\\xa3\\xb4\\xdc\",4410,4310,4480\\n\"\\xc4\\xab\\xc0\\xda\\xc8\\xe5\\xbd\\xba\\xc5\\xba\",8820,8710,8720\\n\"\\xb4\\xeb\\xc7\\xd1\\xb9\\xce\\xb1\\xb9\",33830,32930,34980\\n\"\\xc4\\xed\\xbf\\xfe\\xc0\\xcc\\xc6\\xae\",36200,-,-\\n\"\\xc5\\xb0\\xb8\\xa3\\xb1\\xe2\\xbd\\xba\\xbd\\xba\\xc5\\xba\",1240,1180,1180\\n\"\\xb6\\xf3\\xbf\\xc0\\xbd\\xba\",2540,2490,2520\\n\"\\xb7\\xb9\\xb9\\xd9\\xb3\\xed\",7280,4660,3450\\n\"\\xb8\\xb6\\xc4\\xab\\xbf\\xc0\",75820,46730,-\\n\"\\xb8\\xbb\\xb7\\xb9\\xc0\\xcc\\xbd\\xc3\\xbe\\xc6\",11260,10570,10930\\n\"\\xb8\\xf4\\xb5\\xf0\\xba\\xea\",9640,6450,8400\\n\"\\xb8\\xf9\\xb0\\xf1\",3850,3740,3760\\n\"\\xb9\\xcc\\xbe\\xe1\\xb8\\xb6\",1270,1340,1140\\n\"\\xb3\\xd7\\xc6\\xc8\",1230,1190,1230\\n\"\\xbf\\xc0\\xb8\\xb8\",16430,15030,-\\n\"\\xc6\\xc4\\xc5\\xb0\\xbd\\xba\\xc5\\xba\",1620,1460,1500\\n\"\\xc7\\xca\\xb8\\xae\\xc7\\xc9\",3850,3430,3640\\n\"\\xc4\\xab\\xc5\\xb8\\xb8\\xa3\",61180,55920,57120\\n\"\\xbb\\xe7\\xbf\\xec\\xb5\\xf0\\xbe\\xc6\\xb6\\xf3\\xba\\xf1\\xbe\\xc6\",23220,22270,-\\n\"\\xbd\\xcc\\xb0\\xa1\\xc6\\xf7\\xb8\\xa3\",58060,55010,64010\\n\"\\xbd\\xba\\xb8\\xae\\xb6\\xfb\\xc4\\xab\",4010,3720,3820\\n\"\\xc5\\xb8\\xc1\\xf6\\xc5\\xb0\\xbd\\xba\\xc5\\xba\",1'"
      ]
     },
     "execution_count": 75,
     "metadata": {},
     "output_type": "execute_result"
    }
   ],
   "source": [
    "# res에서 바이너리 텍스트의 일부를 출력합니다.\n",
    "res.content[:1000]"
   ]
  },
  {
   "cell_type": "code",
   "execution_count": 76,
   "id": "a0526293",
   "metadata": {},
   "outputs": [
    {
     "data": {
      "text/plain": [
       "{'encoding': 'EUC-KR', 'confidence': 0.9242424242424242, 'language': 'Korean'}"
      ]
     },
     "execution_count": 76,
     "metadata": {},
     "output_type": "execute_result"
    }
   ],
   "source": [
    "# 바이너리 텍스트의 인코딩 방식을 확인합니다.\n",
    "chardet.detect(res.content[:1000])"
   ]
  },
  {
   "cell_type": "code",
   "execution_count": 78,
   "id": "eb9b71c1",
   "metadata": {},
   "outputs": [],
   "source": [
    "# URL2를 읽고, 데이터프레임 gdp를 생성합니다.\n",
    "gdp = pd.read_csv(URL2, encoding = 'EUC-KR')"
   ]
  },
  {
   "cell_type": "code",
   "execution_count": 79,
   "id": "6505b476",
   "metadata": {},
   "outputs": [
    {
     "name": "stdout",
     "output_type": "stream",
     "text": [
      "<class 'pandas.core.frame.DataFrame'>\n",
      "RangeIndex: 193 entries, 0 to 192\n",
      "Data columns (total 4 columns):\n",
      " #   Column  Non-Null Count  Dtype \n",
      "---  ------  --------------  ----- \n",
      " 0   국가      193 non-null    object\n",
      " 1   2019    193 non-null    int64 \n",
      " 2   2020    193 non-null    object\n",
      " 3   2021    193 non-null    object\n",
      "dtypes: int64(1), object(3)\n",
      "memory usage: 6.2+ KB\n"
     ]
    }
   ],
   "source": [
    "# gdp의 정보를 확인합니다.\n",
    "gdp.info()"
   ]
  },
  {
   "cell_type": "code",
   "execution_count": 80,
   "id": "19940452",
   "metadata": {},
   "outputs": [
    {
     "data": {
      "text/html": [
       "<div>\n",
       "<style scoped>\n",
       "    .dataframe tbody tr th:only-of-type {\n",
       "        vertical-align: middle;\n",
       "    }\n",
       "\n",
       "    .dataframe tbody tr th {\n",
       "        vertical-align: top;\n",
       "    }\n",
       "\n",
       "    .dataframe thead th {\n",
       "        text-align: right;\n",
       "    }\n",
       "</style>\n",
       "<table border=\"1\" class=\"dataframe\">\n",
       "  <thead>\n",
       "    <tr style=\"text-align: right;\">\n",
       "      <th></th>\n",
       "      <th>국가</th>\n",
       "      <th>2019</th>\n",
       "      <th>2020</th>\n",
       "      <th>2021</th>\n",
       "    </tr>\n",
       "  </thead>\n",
       "  <tbody>\n",
       "    <tr>\n",
       "      <th>0</th>\n",
       "      <td>아프가니스탄</td>\n",
       "      <td>520</td>\n",
       "      <td>500</td>\n",
       "      <td>-</td>\n",
       "    </tr>\n",
       "    <tr>\n",
       "      <th>1</th>\n",
       "      <td>아르메니아</td>\n",
       "      <td>4660</td>\n",
       "      <td>4220</td>\n",
       "      <td>4560</td>\n",
       "    </tr>\n",
       "    <tr>\n",
       "      <th>2</th>\n",
       "      <td>아제르바이잔</td>\n",
       "      <td>4510</td>\n",
       "      <td>4480</td>\n",
       "      <td>4880</td>\n",
       "    </tr>\n",
       "    <tr>\n",
       "      <th>3</th>\n",
       "      <td>바레인</td>\n",
       "      <td>22230</td>\n",
       "      <td>19930</td>\n",
       "      <td>-</td>\n",
       "    </tr>\n",
       "    <tr>\n",
       "      <th>4</th>\n",
       "      <td>방글라데시</td>\n",
       "      <td>2250</td>\n",
       "      <td>2340</td>\n",
       "      <td>2620</td>\n",
       "    </tr>\n",
       "  </tbody>\n",
       "</table>\n",
       "</div>"
      ],
      "text/plain": [
       "       국가   2019   2020  2021\n",
       "0  아프가니스탄    520    500     -\n",
       "1   아르메니아   4660   4220  4560\n",
       "2  아제르바이잔   4510   4480  4880\n",
       "3     바레인  22230  19930     -\n",
       "4   방글라데시   2250   2340  2620"
      ]
     },
     "execution_count": 80,
     "metadata": {},
     "output_type": "execute_result"
    }
   ],
   "source": [
    "# gdp의 처음 5행을 출력합니다.\n",
    "gdp.head()"
   ]
  },
  {
   "cell_type": "code",
   "execution_count": 81,
   "id": "8f63fad5",
   "metadata": {},
   "outputs": [
    {
     "data": {
      "text/plain": [
       "Index(['국가', '2019', '2020', '2021'], dtype='object')"
      ]
     },
     "execution_count": 81,
     "metadata": {},
     "output_type": "execute_result"
    }
   ],
   "source": [
    "# gdp의 열이름을 출력합니다.\n",
    "gdp.columns"
   ]
  },
  {
   "cell_type": "code",
   "execution_count": 82,
   "id": "bf4df42e",
   "metadata": {},
   "outputs": [],
   "source": [
    "# gdp에서 '2019', '2020' 열을 삭제합니다.\n",
    "# [힌트] drop() 함수를 사용하세요.\n",
    "gdp = gdp.drop(columns = ['2019', '2020'])"
   ]
  },
  {
   "cell_type": "code",
   "execution_count": 83,
   "id": "a63d9b59",
   "metadata": {},
   "outputs": [],
   "source": [
    "# gdp에서 '2021'의 이름을 '인당GDP'로 변경합니다.\n",
    "# [힌트] rename() 함수를 사용하세요.\n",
    "gdp = gdp.rename(columns = {'2021': '인당GDP'})"
   ]
  },
  {
   "cell_type": "code",
   "execution_count": 84,
   "id": "079d377a",
   "metadata": {},
   "outputs": [
    {
     "data": {
      "text/html": [
       "<div>\n",
       "<style scoped>\n",
       "    .dataframe tbody tr th:only-of-type {\n",
       "        vertical-align: middle;\n",
       "    }\n",
       "\n",
       "    .dataframe tbody tr th {\n",
       "        vertical-align: top;\n",
       "    }\n",
       "\n",
       "    .dataframe thead th {\n",
       "        text-align: right;\n",
       "    }\n",
       "</style>\n",
       "<table border=\"1\" class=\"dataframe\">\n",
       "  <thead>\n",
       "    <tr style=\"text-align: right;\">\n",
       "      <th></th>\n",
       "      <th>국가</th>\n",
       "      <th>인당GDP</th>\n",
       "    </tr>\n",
       "  </thead>\n",
       "  <tbody>\n",
       "    <tr>\n",
       "      <th>0</th>\n",
       "      <td>아프가니스탄</td>\n",
       "      <td>-</td>\n",
       "    </tr>\n",
       "    <tr>\n",
       "      <th>1</th>\n",
       "      <td>아르메니아</td>\n",
       "      <td>4560</td>\n",
       "    </tr>\n",
       "    <tr>\n",
       "      <th>2</th>\n",
       "      <td>아제르바이잔</td>\n",
       "      <td>4880</td>\n",
       "    </tr>\n",
       "    <tr>\n",
       "      <th>3</th>\n",
       "      <td>바레인</td>\n",
       "      <td>-</td>\n",
       "    </tr>\n",
       "    <tr>\n",
       "      <th>4</th>\n",
       "      <td>방글라데시</td>\n",
       "      <td>2620</td>\n",
       "    </tr>\n",
       "  </tbody>\n",
       "</table>\n",
       "</div>"
      ],
      "text/plain": [
       "       국가 인당GDP\n",
       "0  아프가니스탄     -\n",
       "1   아르메니아  4560\n",
       "2  아제르바이잔  4880\n",
       "3     바레인     -\n",
       "4   방글라데시  2620"
      ]
     },
     "execution_count": 84,
     "metadata": {},
     "output_type": "execute_result"
    }
   ],
   "source": [
    "gdp.head()"
   ]
  },
  {
   "cell_type": "code",
   "execution_count": 86,
   "id": "ac05a58b",
   "metadata": {},
   "outputs": [
    {
     "data": {
      "text/plain": [
       "0       True\n",
       "1      False\n",
       "2      False\n",
       "3       True\n",
       "4      False\n",
       "       ...  \n",
       "188    False\n",
       "189    False\n",
       "190     True\n",
       "191    False\n",
       "192    False\n",
       "Name: 인당GDP, Length: 193, dtype: bool"
      ]
     },
     "execution_count": 86,
     "metadata": {},
     "output_type": "execute_result"
    }
   ],
   "source": [
    "gdp['인당GDP'].eq('-')"
   ]
  },
  {
   "cell_type": "code",
   "execution_count": 87,
   "id": "737e534f",
   "metadata": {},
   "outputs": [],
   "source": [
    "# 인당GDP에서 원소가 '-'이면 결측값(np.nan)으로 변경합니다.\n",
    "# [힌트] np.where()와 eq() 함수를 사용하세요.\n",
    "gdp['인당GDP'] = np.where(gdp['인당GDP'].eq('-'), np.nan, gdp['인당GDP'])"
   ]
  },
  {
   "cell_type": "code",
   "execution_count": 88,
   "id": "49ab39a5",
   "metadata": {},
   "outputs": [
    {
     "data": {
      "text/html": [
       "<div>\n",
       "<style scoped>\n",
       "    .dataframe tbody tr th:only-of-type {\n",
       "        vertical-align: middle;\n",
       "    }\n",
       "\n",
       "    .dataframe tbody tr th {\n",
       "        vertical-align: top;\n",
       "    }\n",
       "\n",
       "    .dataframe thead th {\n",
       "        text-align: right;\n",
       "    }\n",
       "</style>\n",
       "<table border=\"1\" class=\"dataframe\">\n",
       "  <thead>\n",
       "    <tr style=\"text-align: right;\">\n",
       "      <th></th>\n",
       "      <th>국가</th>\n",
       "      <th>인당GDP</th>\n",
       "    </tr>\n",
       "  </thead>\n",
       "  <tbody>\n",
       "    <tr>\n",
       "      <th>0</th>\n",
       "      <td>아프가니스탄</td>\n",
       "      <td>NaN</td>\n",
       "    </tr>\n",
       "    <tr>\n",
       "      <th>1</th>\n",
       "      <td>아르메니아</td>\n",
       "      <td>4560</td>\n",
       "    </tr>\n",
       "    <tr>\n",
       "      <th>2</th>\n",
       "      <td>아제르바이잔</td>\n",
       "      <td>4880</td>\n",
       "    </tr>\n",
       "    <tr>\n",
       "      <th>3</th>\n",
       "      <td>바레인</td>\n",
       "      <td>NaN</td>\n",
       "    </tr>\n",
       "    <tr>\n",
       "      <th>4</th>\n",
       "      <td>방글라데시</td>\n",
       "      <td>2620</td>\n",
       "    </tr>\n",
       "  </tbody>\n",
       "</table>\n",
       "</div>"
      ],
      "text/plain": [
       "       국가 인당GDP\n",
       "0  아프가니스탄   NaN\n",
       "1   아르메니아  4560\n",
       "2  아제르바이잔  4880\n",
       "3     바레인   NaN\n",
       "4   방글라데시  2620"
      ]
     },
     "execution_count": 88,
     "metadata": {},
     "output_type": "execute_result"
    }
   ],
   "source": [
    "gdp.head()"
   ]
  },
  {
   "cell_type": "code",
   "execution_count": 90,
   "id": "3926edf4",
   "metadata": {},
   "outputs": [],
   "source": [
    "gdp['인당GDP'] = gdp['인당GDP'].astype(float)"
   ]
  },
  {
   "cell_type": "code",
   "execution_count": 92,
   "id": "65000823",
   "metadata": {},
   "outputs": [
    {
     "data": {
      "text/plain": [
       "35"
      ]
     },
     "execution_count": 92,
     "metadata": {},
     "output_type": "execute_result"
    }
   ],
   "source": [
    "gdp['인당GDP'].ge(23000).sum()"
   ]
  },
  {
   "cell_type": "code",
   "execution_count": 100,
   "id": "07324da0",
   "metadata": {},
   "outputs": [
    {
     "data": {
      "text/plain": [
       "0.18134715025906736"
      ]
     },
     "execution_count": 100,
     "metadata": {},
     "output_type": "execute_result"
    }
   ],
   "source": [
    "gdp['인당GDP'].ge(23000).mean()"
   ]
  },
  {
   "cell_type": "code",
   "execution_count": 95,
   "id": "94f077cc",
   "metadata": {},
   "outputs": [
    {
     "data": {
      "text/plain": [
       "35"
      ]
     },
     "execution_count": 95,
     "metadata": {},
     "output_type": "execute_result"
    }
   ],
   "source": [
    "(gdp['인당GDP'] > 23000).sum()"
   ]
  },
  {
   "cell_type": "code",
   "execution_count": 98,
   "id": "266a69aa",
   "metadata": {},
   "outputs": [
    {
     "data": {
      "text/plain": [
       "0      False\n",
       "1      False\n",
       "2      False\n",
       "3      False\n",
       "4      False\n",
       "       ...  \n",
       "188    False\n",
       "189    False\n",
       "190    False\n",
       "191     True\n",
       "192    False\n",
       "Name: 인당GDP, Length: 193, dtype: bool"
      ]
     },
     "execution_count": 98,
     "metadata": {},
     "output_type": "execute_result"
    }
   ],
   "source": [
    "(gdp['인당GDP'] < 23000) & (gdp['인당GDP'] >= 6500)"
   ]
  },
  {
   "cell_type": "code",
   "execution_count": 99,
   "id": "ed11fc0a",
   "metadata": {},
   "outputs": [
    {
     "data": {
      "text/plain": [
       "0      False\n",
       "1      False\n",
       "2      False\n",
       "3      False\n",
       "4      False\n",
       "       ...  \n",
       "188    False\n",
       "189    False\n",
       "190    False\n",
       "191     True\n",
       "192    False\n",
       "Name: 인당GDP, Length: 193, dtype: bool"
      ]
     },
     "execution_count": 99,
     "metadata": {},
     "output_type": "execute_result"
    }
   ],
   "source": [
    "gdp['인당GDP'].lt(23000) & gdp['인당GDP'].ge(6500)"
   ]
  },
  {
   "cell_type": "code",
   "execution_count": 103,
   "id": "2ed6496c",
   "metadata": {},
   "outputs": [
    {
     "name": "stdout",
     "output_type": "stream",
     "text": [
      "<class 'pandas.core.frame.DataFrame'>\n",
      "RangeIndex: 193 entries, 0 to 192\n",
      "Data columns (total 2 columns):\n",
      " #   Column  Non-Null Count  Dtype  \n",
      "---  ------  --------------  -----  \n",
      " 0   국가      193 non-null    object \n",
      " 1   인당GDP   172 non-null    float64\n",
      "dtypes: float64(1), object(1)\n",
      "memory usage: 3.1+ KB\n"
     ]
    }
   ],
   "source": [
    "gdp.info()"
   ]
  },
  {
   "cell_type": "code",
   "execution_count": 102,
   "id": "8825cb0d",
   "metadata": {},
   "outputs": [
    {
     "data": {
      "text/plain": [
       "국가        0\n",
       "인당GDP    21\n",
       "dtype: int64"
      ]
     },
     "execution_count": 102,
     "metadata": {},
     "output_type": "execute_result"
    }
   ],
   "source": [
    "# gdp의 열별 결측값 개수를 확인합니다.\n",
    "# [힌트] isna()와 sum() 함수를 사용하세요.\n",
    "gdp.isna().sum()"
   ]
  },
  {
   "cell_type": "code",
   "execution_count": 104,
   "id": "36e41557",
   "metadata": {},
   "outputs": [
    {
     "data": {
      "text/html": [
       "<div>\n",
       "<style scoped>\n",
       "    .dataframe tbody tr th:only-of-type {\n",
       "        vertical-align: middle;\n",
       "    }\n",
       "\n",
       "    .dataframe tbody tr th {\n",
       "        vertical-align: top;\n",
       "    }\n",
       "\n",
       "    .dataframe thead th {\n",
       "        text-align: right;\n",
       "    }\n",
       "</style>\n",
       "<table border=\"1\" class=\"dataframe\">\n",
       "  <thead>\n",
       "    <tr style=\"text-align: right;\">\n",
       "      <th></th>\n",
       "      <th>국가</th>\n",
       "      <th>인당GDP</th>\n",
       "    </tr>\n",
       "  </thead>\n",
       "  <tbody>\n",
       "    <tr>\n",
       "      <th>0</th>\n",
       "      <td>아프가니스탄</td>\n",
       "      <td>NaN</td>\n",
       "    </tr>\n",
       "    <tr>\n",
       "      <th>1</th>\n",
       "      <td>아르메니아</td>\n",
       "      <td>4560.0</td>\n",
       "    </tr>\n",
       "    <tr>\n",
       "      <th>2</th>\n",
       "      <td>아제르바이잔</td>\n",
       "      <td>4880.0</td>\n",
       "    </tr>\n",
       "    <tr>\n",
       "      <th>3</th>\n",
       "      <td>바레인</td>\n",
       "      <td>NaN</td>\n",
       "    </tr>\n",
       "    <tr>\n",
       "      <th>4</th>\n",
       "      <td>방글라데시</td>\n",
       "      <td>2620.0</td>\n",
       "    </tr>\n",
       "  </tbody>\n",
       "</table>\n",
       "</div>"
      ],
      "text/plain": [
       "       국가   인당GDP\n",
       "0  아프가니스탄     NaN\n",
       "1   아르메니아  4560.0\n",
       "2  아제르바이잔  4880.0\n",
       "3     바레인     NaN\n",
       "4   방글라데시  2620.0"
      ]
     },
     "execution_count": 104,
     "metadata": {},
     "output_type": "execute_result"
    }
   ],
   "source": [
    "# gdp의 처음 5행을 출력합니다.\n",
    "gdp.head()"
   ]
  },
  {
   "cell_type": "code",
   "execution_count": 105,
   "id": "326b3ccb",
   "metadata": {},
   "outputs": [
    {
     "data": {
      "text/plain": [
       "193"
      ]
     },
     "execution_count": 105,
     "metadata": {},
     "output_type": "execute_result"
    }
   ],
   "source": [
    "# gdp의 행 개수를 출력합니다.\n",
    "gdp.shape[0]"
   ]
  },
  {
   "cell_type": "markdown",
   "id": "826a22d8",
   "metadata": {},
   "source": [
    "### 데이터 병합\n",
    "\n",
    "두 데이터프레임을 좌우로 병합할 때 기준이 되는 열을 외래키라고 합니다.<br>\n",
    "두 외래키에서 일치하는 원소가 없으면 병합했을 때 행 개수가 0일 수 있습니다.<br>\n",
    "병합 방법은 내부병합, 외부병합, 왼쪽병합 등이 있습니다.<br>\n",
    "실습 데이터셋 오른쪽에 새로운 열을 추가할 때 왼쪽병합을 주로 사용합니다."
   ]
  },
  {
   "cell_type": "code",
   "execution_count": 110,
   "id": "095c2783",
   "metadata": {},
   "outputs": [
    {
     "data": {
      "text/plain": [
       "152"
      ]
     },
     "execution_count": 110,
     "metadata": {},
     "output_type": "execute_result"
    }
   ],
   "source": [
    "len(set(trade['국가']) & set(gdp['국가']))"
   ]
  },
  {
   "cell_type": "code",
   "execution_count": 111,
   "id": "2d545ca3",
   "metadata": {},
   "outputs": [
    {
     "data": {
      "text/plain": [
       "{'괌',\n",
       " '그린란드',\n",
       " '기타국',\n",
       " '네덜란드령 안틸레스',\n",
       " '누벨칼레도니',\n",
       " '니우에',\n",
       " '대만',\n",
       " '미령사모아',\n",
       " '베네수엘라',\n",
       " '북마리아나제도',\n",
       " '페로제도',\n",
       " '포클랜드제도',\n",
       " '프랑스령 폴리네시아'}"
      ]
     },
     "execution_count": 111,
     "metadata": {},
     "output_type": "execute_result"
    }
   ],
   "source": [
    "# 왼쪽 외래키에 있고, 오른쪽 외래키에 없는 원소를 확인합니다.\n",
    "# [힌트] set() 함수를 사용하여 시리즈를 집합으로 변환하세요.\n",
    "# 두 집합으로 차집합을 실행하세요.\n",
    "set(trade['국가']) - set(gdp['국가'])"
   ]
  },
  {
   "cell_type": "code",
   "execution_count": 112,
   "id": "4d97f72e",
   "metadata": {},
   "outputs": [],
   "source": [
    "# trade와 gdp를 왼쪽병합하고, trade에 재할당하세요.\n",
    "# [힌트] pd.merge() 함수를 사용하세요.\n",
    "# 왼쪽병합은 how 매개변수에 'left'를 지정합니다.(기본값: 'inner')\n",
    "# 외래키는 on 매개변수에 열이름을 문자열로 지정합니다.\n",
    "# [참고] 외래키 열이름이 다르면 left_on, right_on 매개변수에 각각 지정해야 합니다.\n",
    "trade = pd.merge(left = trade, right = gdp, how = 'left', on = '국가')"
   ]
  },
  {
   "cell_type": "code",
   "execution_count": 113,
   "id": "5dbeae44",
   "metadata": {},
   "outputs": [
    {
     "data": {
      "text/html": [
       "<div>\n",
       "<style scoped>\n",
       "    .dataframe tbody tr th:only-of-type {\n",
       "        vertical-align: middle;\n",
       "    }\n",
       "\n",
       "    .dataframe tbody tr th {\n",
       "        vertical-align: top;\n",
       "    }\n",
       "\n",
       "    .dataframe thead th {\n",
       "        text-align: right;\n",
       "    }\n",
       "</style>\n",
       "<table border=\"1\" class=\"dataframe\">\n",
       "  <thead>\n",
       "    <tr style=\"text-align: right;\">\n",
       "      <th></th>\n",
       "      <th>국가</th>\n",
       "      <th>수입</th>\n",
       "      <th>수출</th>\n",
       "      <th>무역수지</th>\n",
       "      <th>인당GDP</th>\n",
       "    </tr>\n",
       "  </thead>\n",
       "  <tbody>\n",
       "    <tr>\n",
       "      <th>0</th>\n",
       "      <td>일본</td>\n",
       "      <td>170243.592</td>\n",
       "      <td>635499.670</td>\n",
       "      <td>465256.078</td>\n",
       "      <td>42620.0</td>\n",
       "    </tr>\n",
       "    <tr>\n",
       "      <th>1</th>\n",
       "      <td>미국</td>\n",
       "      <td>250113.606</td>\n",
       "      <td>395386.470</td>\n",
       "      <td>145272.864</td>\n",
       "      <td>70430.0</td>\n",
       "    </tr>\n",
       "    <tr>\n",
       "      <th>2</th>\n",
       "      <td>프랑스</td>\n",
       "      <td>34315.325</td>\n",
       "      <td>66501.818</td>\n",
       "      <td>32186.493</td>\n",
       "      <td>43880.0</td>\n",
       "    </tr>\n",
       "    <tr>\n",
       "      <th>3</th>\n",
       "      <td>이탈리아</td>\n",
       "      <td>25683.273</td>\n",
       "      <td>52961.214</td>\n",
       "      <td>27277.941</td>\n",
       "      <td>35710.0</td>\n",
       "    </tr>\n",
       "    <tr>\n",
       "      <th>4</th>\n",
       "      <td>독일</td>\n",
       "      <td>1263.392</td>\n",
       "      <td>27186.712</td>\n",
       "      <td>25923.320</td>\n",
       "      <td>51040.0</td>\n",
       "    </tr>\n",
       "    <tr>\n",
       "      <th>5</th>\n",
       "      <td>홍콩</td>\n",
       "      <td>32389.424</td>\n",
       "      <td>54560.233</td>\n",
       "      <td>22170.809</td>\n",
       "      <td>54450.0</td>\n",
       "    </tr>\n",
       "    <tr>\n",
       "      <th>6</th>\n",
       "      <td>싱가포르</td>\n",
       "      <td>2593.154</td>\n",
       "      <td>21449.930</td>\n",
       "      <td>18856.776</td>\n",
       "      <td>64010.0</td>\n",
       "    </tr>\n",
       "    <tr>\n",
       "      <th>7</th>\n",
       "      <td>네덜란드</td>\n",
       "      <td>5373.894</td>\n",
       "      <td>20403.436</td>\n",
       "      <td>15029.542</td>\n",
       "      <td>56370.0</td>\n",
       "    </tr>\n",
       "    <tr>\n",
       "      <th>8</th>\n",
       "      <td>필리핀</td>\n",
       "      <td>29771.506</td>\n",
       "      <td>37663.369</td>\n",
       "      <td>7891.863</td>\n",
       "      <td>3640.0</td>\n",
       "    </tr>\n",
       "    <tr>\n",
       "      <th>9</th>\n",
       "      <td>미령사모아</td>\n",
       "      <td>811.309</td>\n",
       "      <td>8649.957</td>\n",
       "      <td>7838.648</td>\n",
       "      <td>NaN</td>\n",
       "    </tr>\n",
       "  </tbody>\n",
       "</table>\n",
       "</div>"
      ],
      "text/plain": [
       "      국가          수입          수출        무역수지    인당GDP\n",
       "0     일본  170243.592  635499.670  465256.078  42620.0\n",
       "1     미국  250113.606  395386.470  145272.864  70430.0\n",
       "2    프랑스   34315.325   66501.818   32186.493  43880.0\n",
       "3   이탈리아   25683.273   52961.214   27277.941  35710.0\n",
       "4     독일    1263.392   27186.712   25923.320  51040.0\n",
       "5     홍콩   32389.424   54560.233   22170.809  54450.0\n",
       "6   싱가포르    2593.154   21449.930   18856.776  64010.0\n",
       "7   네덜란드    5373.894   20403.436   15029.542  56370.0\n",
       "8    필리핀   29771.506   37663.369    7891.863   3640.0\n",
       "9  미령사모아     811.309    8649.957    7838.648      NaN"
      ]
     },
     "execution_count": 113,
     "metadata": {},
     "output_type": "execute_result"
    }
   ],
   "source": [
    "# trade의 처음 10행을 출력합니다.\n",
    "trade.head(n = 10)"
   ]
  },
  {
   "cell_type": "markdown",
   "id": "bdefd94e",
   "metadata": {},
   "source": [
    "### 이변량 연속형 변수의 상관관계 확인\n",
    "\n",
    "피어슨 상관계수는 두 연속형 변수에 직선의 관계가 있는지 확인할 때 실행합니다.<br>\n",
    "변수의 자료형이 범주형이면 에러를 반환합니다.<br>\n",
    "아울러 변수에 결측값이 포함되어 있어도 에러를 반환합니다."
   ]
  },
  {
   "cell_type": "code",
   "execution_count": 114,
   "id": "d5e9b324",
   "metadata": {
    "collapsed": true
   },
   "outputs": [
    {
     "data": {
      "text/plain": [
       "국가        object\n",
       "수입       float64\n",
       "수출       float64\n",
       "무역수지     float64\n",
       "인당GDP    float64\n",
       "dtype: object"
      ]
     },
     "execution_count": 114,
     "metadata": {},
     "output_type": "execute_result"
    }
   ],
   "source": [
    "# trade의 열별 자료형을 확인합니다.\n",
    "# [힌트] dtypes 속성을 사용하세요.\n",
    "trade.dtypes"
   ]
  },
  {
   "cell_type": "code",
   "execution_count": 115,
   "id": "1ff4caf4",
   "metadata": {},
   "outputs": [],
   "source": [
    "# 인당GDP를 실수형으로 변환합니다.\n",
    "# [힌트] astype() 함수를 사용하세요.\n",
    "trade['인당GDP'] = trade['인당GDP'].astype(float)"
   ]
  },
  {
   "cell_type": "code",
   "execution_count": 116,
   "id": "fb7e0d49",
   "metadata": {
    "collapsed": true
   },
   "outputs": [
    {
     "data": {
      "text/plain": [
       "국가        0\n",
       "수입        0\n",
       "수출        0\n",
       "무역수지      0\n",
       "인당GDP    28\n",
       "dtype: int64"
      ]
     },
     "execution_count": 116,
     "metadata": {},
     "output_type": "execute_result"
    }
   ],
   "source": [
    "# trade의 열별 결측값 개수를 확인합니다.\n",
    "# [힌트] isna()와 sum() 함수를 사용하세요.\n",
    "trade.isna().sum()"
   ]
  },
  {
   "cell_type": "code",
   "execution_count": 117,
   "id": "1381ec2f",
   "metadata": {
    "scrolled": true
   },
   "outputs": [
    {
     "data": {
      "text/html": [
       "<div>\n",
       "<style scoped>\n",
       "    .dataframe tbody tr th:only-of-type {\n",
       "        vertical-align: middle;\n",
       "    }\n",
       "\n",
       "    .dataframe tbody tr th {\n",
       "        vertical-align: top;\n",
       "    }\n",
       "\n",
       "    .dataframe thead th {\n",
       "        text-align: right;\n",
       "    }\n",
       "</style>\n",
       "<table border=\"1\" class=\"dataframe\">\n",
       "  <thead>\n",
       "    <tr style=\"text-align: right;\">\n",
       "      <th></th>\n",
       "      <th>국가</th>\n",
       "      <th>수입</th>\n",
       "      <th>수출</th>\n",
       "      <th>무역수지</th>\n",
       "      <th>인당GDP</th>\n",
       "    </tr>\n",
       "  </thead>\n",
       "  <tbody>\n",
       "    <tr>\n",
       "      <th>9</th>\n",
       "      <td>미령사모아</td>\n",
       "      <td>811.309</td>\n",
       "      <td>8649.957</td>\n",
       "      <td>7838.648</td>\n",
       "      <td>NaN</td>\n",
       "    </tr>\n",
       "    <tr>\n",
       "      <th>23</th>\n",
       "      <td>아랍에미리트</td>\n",
       "      <td>550.097</td>\n",
       "      <td>2278.901</td>\n",
       "      <td>1728.804</td>\n",
       "      <td>NaN</td>\n",
       "    </tr>\n",
       "    <tr>\n",
       "      <th>29</th>\n",
       "      <td>괌</td>\n",
       "      <td>0.248</td>\n",
       "      <td>1158.087</td>\n",
       "      <td>1157.839</td>\n",
       "      <td>NaN</td>\n",
       "    </tr>\n",
       "    <tr>\n",
       "      <th>34</th>\n",
       "      <td>북마리아나제도</td>\n",
       "      <td>0.000</td>\n",
       "      <td>614.004</td>\n",
       "      <td>614.004</td>\n",
       "      <td>NaN</td>\n",
       "    </tr>\n",
       "    <tr>\n",
       "      <th>45</th>\n",
       "      <td>쿠웨이트</td>\n",
       "      <td>0.000</td>\n",
       "      <td>171.606</td>\n",
       "      <td>171.606</td>\n",
       "      <td>NaN</td>\n",
       "    </tr>\n",
       "    <tr>\n",
       "      <th>48</th>\n",
       "      <td>브루나이</td>\n",
       "      <td>0.000</td>\n",
       "      <td>123.405</td>\n",
       "      <td>123.405</td>\n",
       "      <td>NaN</td>\n",
       "    </tr>\n",
       "    <tr>\n",
       "      <th>52</th>\n",
       "      <td>마카오</td>\n",
       "      <td>19.235</td>\n",
       "      <td>126.330</td>\n",
       "      <td>107.095</td>\n",
       "      <td>NaN</td>\n",
       "    </tr>\n",
       "    <tr>\n",
       "      <th>58</th>\n",
       "      <td>기타국</td>\n",
       "      <td>1.853</td>\n",
       "      <td>51.576</td>\n",
       "      <td>49.723</td>\n",
       "      <td>NaN</td>\n",
       "    </tr>\n",
       "    <tr>\n",
       "      <th>63</th>\n",
       "      <td>부탄</td>\n",
       "      <td>0.000</td>\n",
       "      <td>30.202</td>\n",
       "      <td>30.202</td>\n",
       "      <td>NaN</td>\n",
       "    </tr>\n",
       "    <tr>\n",
       "      <th>68</th>\n",
       "      <td>팔라우</td>\n",
       "      <td>0.405</td>\n",
       "      <td>19.791</td>\n",
       "      <td>19.386</td>\n",
       "      <td>NaN</td>\n",
       "    </tr>\n",
       "    <tr>\n",
       "      <th>79</th>\n",
       "      <td>룩셈부르크</td>\n",
       "      <td>0.000</td>\n",
       "      <td>0.371</td>\n",
       "      <td>0.371</td>\n",
       "      <td>NaN</td>\n",
       "    </tr>\n",
       "    <tr>\n",
       "      <th>80</th>\n",
       "      <td>네덜란드령 안틸레스</td>\n",
       "      <td>0.000</td>\n",
       "      <td>0.299</td>\n",
       "      <td>0.299</td>\n",
       "      <td>NaN</td>\n",
       "    </tr>\n",
       "    <tr>\n",
       "      <th>81</th>\n",
       "      <td>누벨칼레도니</td>\n",
       "      <td>0.000</td>\n",
       "      <td>0.040</td>\n",
       "      <td>0.040</td>\n",
       "      <td>NaN</td>\n",
       "    </tr>\n",
       "    <tr>\n",
       "      <th>83</th>\n",
       "      <td>푸에르토리코</td>\n",
       "      <td>0.000</td>\n",
       "      <td>0.008</td>\n",
       "      <td>0.008</td>\n",
       "      <td>NaN</td>\n",
       "    </tr>\n",
       "    <tr>\n",
       "      <th>85</th>\n",
       "      <td>통가</td>\n",
       "      <td>0.048</td>\n",
       "      <td>0.000</td>\n",
       "      <td>-0.048</td>\n",
       "      <td>NaN</td>\n",
       "    </tr>\n",
       "    <tr>\n",
       "      <th>87</th>\n",
       "      <td>니우에</td>\n",
       "      <td>0.222</td>\n",
       "      <td>0.000</td>\n",
       "      <td>-0.222</td>\n",
       "      <td>NaN</td>\n",
       "    </tr>\n",
       "    <tr>\n",
       "      <th>94</th>\n",
       "      <td>포클랜드제도</td>\n",
       "      <td>46.157</td>\n",
       "      <td>0.000</td>\n",
       "      <td>-46.157</td>\n",
       "      <td>NaN</td>\n",
       "    </tr>\n",
       "    <tr>\n",
       "      <th>97</th>\n",
       "      <td>이란</td>\n",
       "      <td>130.495</td>\n",
       "      <td>0.000</td>\n",
       "      <td>-130.495</td>\n",
       "      <td>NaN</td>\n",
       "    </tr>\n",
       "    <tr>\n",
       "      <th>98</th>\n",
       "      <td>프랑스령 폴리네시아</td>\n",
       "      <td>185.324</td>\n",
       "      <td>0.000</td>\n",
       "      <td>-185.324</td>\n",
       "      <td>NaN</td>\n",
       "    </tr>\n",
       "    <tr>\n",
       "      <th>106</th>\n",
       "      <td>그린란드</td>\n",
       "      <td>468.529</td>\n",
       "      <td>0.000</td>\n",
       "      <td>-468.529</td>\n",
       "      <td>NaN</td>\n",
       "    </tr>\n",
       "    <tr>\n",
       "      <th>110</th>\n",
       "      <td>사우디아라비아</td>\n",
       "      <td>1029.563</td>\n",
       "      <td>212.599</td>\n",
       "      <td>-816.964</td>\n",
       "      <td>NaN</td>\n",
       "    </tr>\n",
       "    <tr>\n",
       "      <th>113</th>\n",
       "      <td>예멘</td>\n",
       "      <td>1002.208</td>\n",
       "      <td>0.000</td>\n",
       "      <td>-1002.208</td>\n",
       "      <td>NaN</td>\n",
       "    </tr>\n",
       "    <tr>\n",
       "      <th>118</th>\n",
       "      <td>페로제도</td>\n",
       "      <td>1480.140</td>\n",
       "      <td>0.000</td>\n",
       "      <td>-1480.140</td>\n",
       "      <td>NaN</td>\n",
       "    </tr>\n",
       "    <tr>\n",
       "      <th>127</th>\n",
       "      <td>키리바시</td>\n",
       "      <td>3394.866</td>\n",
       "      <td>118.518</td>\n",
       "      <td>-3276.348</td>\n",
       "      <td>NaN</td>\n",
       "    </tr>\n",
       "    <tr>\n",
       "      <th>132</th>\n",
       "      <td>오만</td>\n",
       "      <td>7354.874</td>\n",
       "      <td>5.953</td>\n",
       "      <td>-7348.921</td>\n",
       "      <td>NaN</td>\n",
       "    </tr>\n",
       "    <tr>\n",
       "      <th>134</th>\n",
       "      <td>바레인</td>\n",
       "      <td>7878.994</td>\n",
       "      <td>40.690</td>\n",
       "      <td>-7838.304</td>\n",
       "      <td>NaN</td>\n",
       "    </tr>\n",
       "    <tr>\n",
       "      <th>135</th>\n",
       "      <td>베네수엘라</td>\n",
       "      <td>8581.131</td>\n",
       "      <td>0.000</td>\n",
       "      <td>-8581.131</td>\n",
       "      <td>NaN</td>\n",
       "    </tr>\n",
       "    <tr>\n",
       "      <th>155</th>\n",
       "      <td>대만</td>\n",
       "      <td>129664.240</td>\n",
       "      <td>60066.032</td>\n",
       "      <td>-69598.208</td>\n",
       "      <td>NaN</td>\n",
       "    </tr>\n",
       "  </tbody>\n",
       "</table>\n",
       "</div>"
      ],
      "text/plain": [
       "             국가          수입         수출       무역수지  인당GDP\n",
       "9         미령사모아     811.309   8649.957   7838.648    NaN\n",
       "23       아랍에미리트     550.097   2278.901   1728.804    NaN\n",
       "29            괌       0.248   1158.087   1157.839    NaN\n",
       "34      북마리아나제도       0.000    614.004    614.004    NaN\n",
       "45         쿠웨이트       0.000    171.606    171.606    NaN\n",
       "48         브루나이       0.000    123.405    123.405    NaN\n",
       "52          마카오      19.235    126.330    107.095    NaN\n",
       "58          기타국       1.853     51.576     49.723    NaN\n",
       "63           부탄       0.000     30.202     30.202    NaN\n",
       "68          팔라우       0.405     19.791     19.386    NaN\n",
       "79        룩셈부르크       0.000      0.371      0.371    NaN\n",
       "80   네덜란드령 안틸레스       0.000      0.299      0.299    NaN\n",
       "81       누벨칼레도니       0.000      0.040      0.040    NaN\n",
       "83       푸에르토리코       0.000      0.008      0.008    NaN\n",
       "85           통가       0.048      0.000     -0.048    NaN\n",
       "87          니우에       0.222      0.000     -0.222    NaN\n",
       "94       포클랜드제도      46.157      0.000    -46.157    NaN\n",
       "97           이란     130.495      0.000   -130.495    NaN\n",
       "98   프랑스령 폴리네시아     185.324      0.000   -185.324    NaN\n",
       "106        그린란드     468.529      0.000   -468.529    NaN\n",
       "110     사우디아라비아    1029.563    212.599   -816.964    NaN\n",
       "113          예멘    1002.208      0.000  -1002.208    NaN\n",
       "118        페로제도    1480.140      0.000  -1480.140    NaN\n",
       "127        키리바시    3394.866    118.518  -3276.348    NaN\n",
       "132          오만    7354.874      5.953  -7348.921    NaN\n",
       "134         바레인    7878.994     40.690  -7838.304    NaN\n",
       "135       베네수엘라    8581.131      0.000  -8581.131    NaN\n",
       "155          대만  129664.240  60066.032 -69598.208    NaN"
      ]
     },
     "execution_count": 117,
     "metadata": {},
     "output_type": "execute_result"
    }
   ],
   "source": [
    "# 인당GDP가 결측값인 행을 출력합니다.\n",
    "# [힌트] isna() 함수를 사용하세요.\n",
    "trade.loc[trade['인당GDP'].isna()]"
   ]
  },
  {
   "cell_type": "code",
   "execution_count": 135,
   "id": "e496a52e",
   "metadata": {},
   "outputs": [],
   "source": [
    "# trade에서 결측값이 있는 행을 삭제합니다.\n",
    "# [힌트] dropna() 함수를 사용하세요.\n",
    "trade = trade.dropna()"
   ]
  },
  {
   "cell_type": "code",
   "execution_count": 138,
   "id": "1ceeecb9",
   "metadata": {},
   "outputs": [
    {
     "data": {
      "text/plain": [
       "137"
      ]
     },
     "execution_count": 138,
     "metadata": {},
     "output_type": "execute_result"
    }
   ],
   "source": [
    "trade.shape[0]"
   ]
  },
  {
   "cell_type": "code",
   "execution_count": 139,
   "id": "948a8984",
   "metadata": {},
   "outputs": [
    {
     "data": {
      "text/plain": [
       "PearsonRResult(statistic=0.0011643394818442348, pvalue=0.9892261908645135)"
      ]
     },
     "execution_count": 139,
     "metadata": {},
     "output_type": "execute_result"
    }
   ],
   "source": [
    "# 무역수지와 인당GDP의 피어슨 상관계수를 확인합니다.\n",
    "# [참고] 피어슨 상관계수는 정규분포하는 데이터의 상관계수를 반환합니다.\n",
    "stats.pearsonr(x = trade['무역수지'], y = trade['인당GDP'])"
   ]
  },
  {
   "cell_type": "code",
   "execution_count": 140,
   "id": "82d3391b",
   "metadata": {},
   "outputs": [
    {
     "data": {
      "text/plain": [
       "SpearmanrResult(correlation=0.014395573752026481, pvalue=0.867401007843766)"
      ]
     },
     "execution_count": 140,
     "metadata": {},
     "output_type": "execute_result"
    }
   ],
   "source": [
    "# 무역수지와 인당GDP의 스피어만 상관계수를 확인합니다.\n",
    "# [참고] 스피어만 상관계수는 순서형/이산형 데이터의 순위 상관을 반환합니다.\n",
    "stats.spearmanr(a = trade['무역수지'], b = trade['인당GDP'])"
   ]
  },
  {
   "cell_type": "markdown",
   "id": "43be1b1a",
   "metadata": {},
   "source": [
    "### 인덱서 사용법"
   ]
  },
  {
   "cell_type": "code",
   "execution_count": 118,
   "id": "40de0f44",
   "metadata": {},
   "outputs": [],
   "source": [
    "sr = pd.Series(data = range(1, 4), index = [1, 1, 1])"
   ]
  },
  {
   "cell_type": "code",
   "execution_count": 121,
   "id": "0cd1da2a",
   "metadata": {
    "collapsed": true
   },
   "outputs": [
    {
     "data": {
      "text/plain": [
       "1"
      ]
     },
     "execution_count": 121,
     "metadata": {},
     "output_type": "execute_result"
    }
   ],
   "source": [
    "sr.iloc[0]"
   ]
  },
  {
   "cell_type": "code",
   "execution_count": 123,
   "id": "4c777762",
   "metadata": {
    "collapsed": true
   },
   "outputs": [
    {
     "data": {
      "text/plain": [
       "1    1\n",
       "1    2\n",
       "1    3\n",
       "dtype: int64"
      ]
     },
     "execution_count": 123,
     "metadata": {},
     "output_type": "execute_result"
    }
   ],
   "source": [
    "sr.loc[1]"
   ]
  },
  {
   "cell_type": "code",
   "execution_count": 127,
   "id": "b783917e",
   "metadata": {},
   "outputs": [],
   "source": [
    "sr = pd.Series(data = range(1, 4), index = ['a', 'b', 'c'])"
   ]
  },
  {
   "cell_type": "code",
   "execution_count": 128,
   "id": "701f5e0d",
   "metadata": {},
   "outputs": [
    {
     "data": {
      "text/plain": [
       "1"
      ]
     },
     "execution_count": 128,
     "metadata": {},
     "output_type": "execute_result"
    }
   ],
   "source": [
    "sr.iloc[0]"
   ]
  },
  {
   "cell_type": "code",
   "execution_count": 130,
   "id": "ae8e081a",
   "metadata": {},
   "outputs": [
    {
     "data": {
      "text/plain": [
       "1"
      ]
     },
     "execution_count": 130,
     "metadata": {},
     "output_type": "execute_result"
    }
   ],
   "source": [
    "sr.loc['a']"
   ]
  },
  {
   "cell_type": "code",
   "execution_count": 133,
   "id": "c0ac2d1f",
   "metadata": {},
   "outputs": [
    {
     "data": {
      "text/plain": [
       "a    1\n",
       "c    3\n",
       "dtype: int64"
      ]
     },
     "execution_count": 133,
     "metadata": {},
     "output_type": "execute_result"
    }
   ],
   "source": [
    "sr.loc[['a', 'c']]"
   ]
  },
  {
   "cell_type": "code",
   "execution_count": 131,
   "id": "9017d65a",
   "metadata": {},
   "outputs": [
    {
     "data": {
      "text/plain": [
       "[1, 2, 3]"
      ]
     },
     "execution_count": 131,
     "metadata": {},
     "output_type": "execute_result"
    }
   ],
   "source": [
    "a = list(range(1, 4))\n",
    "a"
   ]
  },
  {
   "cell_type": "code",
   "execution_count": 132,
   "id": "2ca7d7ff",
   "metadata": {},
   "outputs": [
    {
     "ename": "TypeError",
     "evalue": "list indices must be integers or slices, not list",
     "output_type": "error",
     "traceback": [
      "\u001b[1;31m---------------------------------------------------------------------------\u001b[0m",
      "\u001b[1;31mTypeError\u001b[0m                                 Traceback (most recent call last)",
      "Cell \u001b[1;32mIn [132], line 1\u001b[0m\n\u001b[1;32m----> 1\u001b[0m a[[\u001b[38;5;241m0\u001b[39m, \u001b[38;5;241m2\u001b[39m]]\n",
      "\u001b[1;31mTypeError\u001b[0m: list indices must be integers or slices, not list"
     ]
    }
   ],
   "source": [
    "a[[0, 2]]"
   ]
  },
  {
   "cell_type": "markdown",
   "id": "2b3fd0a7",
   "metadata": {},
   "source": [
    "### 연속형 변수의 구간화(binning)\n",
    "\n",
    "연속형 변수를 기준에 따라 범주형으로 변환하는 것을 구간화(binning)라고 합니다.<br>\n",
    "구간화는 이상치와 비선형 문제를 해결하고, 결측값을 쉽게 처리할 수 있습니다.<br>\n",
    "범주가 2개면 np.where(), 3개 이상이면 np.select() 함수를 사용하는 것이 좋습니다."
   ]
  },
  {
   "cell_type": "code",
   "execution_count": 141,
   "id": "68ee186f",
   "metadata": {},
   "outputs": [
    {
     "data": {
      "text/plain": [
       "count      137.000000\n",
       "mean     15546.423358\n",
       "std      20658.408477\n",
       "min        450.000000\n",
       "25%       2300.000000\n",
       "50%       6130.000000\n",
       "75%      17740.000000\n",
       "max      90360.000000\n",
       "Name: 인당GDP, dtype: float64"
      ]
     },
     "execution_count": 141,
     "metadata": {},
     "output_type": "execute_result"
    }
   ],
   "source": [
    "# 인당GDP의 기술통계량을 확인합니다.\n",
    "# [힌트] describe() 함수를 사용하세요.\n",
    "trade['인당GDP'].describe()"
   ]
  },
  {
   "cell_type": "code",
   "execution_count": 144,
   "id": "632b7aef",
   "metadata": {
    "collapsed": true
   },
   "outputs": [
    {
     "data": {
      "text/plain": [
       "array(['선진국', '선진국', '선진국', '선진국', '선진국', '선진국', '선진국', '선진국', '개도국',\n",
       "       '개도국', '개도국', '개도국', '개도국', '신흥국', '선진국', '선진국', '개도국', '개도국',\n",
       "       '개도국', '개도국', '신흥국', '선진국', '신흥국', '선진국', '신흥국', '개도국', '개도국',\n",
       "       '선진국', '선진국', '개도국', '개도국', '개도국', '개도국', '선진국', '선진국', '선진국',\n",
       "       '개도국', '개도국', '개도국', '개도국', '신흥국', '개도국', '개도국', '개도국', '개도국',\n",
       "       '개도국', '개도국', '개도국', '개도국', '개도국', '신흥국', '신흥국', '개도국', '개도국',\n",
       "       '개도국', '개도국', '신흥국', '개도국', '개도국', '신흥국', '개도국', '개도국', '개도국',\n",
       "       '개도국', '개도국', '신흥국', '개도국', '개도국', '개도국', '개도국', '신흥국', '신흥국',\n",
       "       '신흥국', '신흥국', '신흥국', '개도국', '신흥국', '선진국', '개도국', '개도국', '선진국',\n",
       "       '신흥국', '개도국', '신흥국', '선진국', '개도국', '신흥국', '신흥국', '개도국', '개도국',\n",
       "       '신흥국', '신흥국', '선진국', '개도국', '개도국', '신흥국', '개도국', '신흥국', '개도국',\n",
       "       '개도국', '개도국', '개도국', '개도국', '선진국', '신흥국', '개도국', '신흥국', '신흥국',\n",
       "       '개도국', '개도국', '선진국', '선진국', '선진국', '개도국', '개도국', '선진국', '신흥국',\n",
       "       '개도국', '개도국', '개도국', '선진국', '개도국', '신흥국', '신흥국', '개도국', '선진국',\n",
       "       '신흥국', '개도국', '신흥국', '선진국', '개도국', '신흥국', '신흥국', '신흥국', '선진국',\n",
       "       '개도국', '신흥국'], dtype='<U3')"
      ]
     },
     "execution_count": 144,
     "metadata": {},
     "output_type": "execute_result"
    }
   ],
   "source": [
    "np.where(trade['인당GDP'].ge(23000), \n",
    "         '선진국', \n",
    "         np.where(trade['인당GDP'].ge(6500) & trade['인당GDP'].lt(23000), \n",
    "                  '신흥국',\n",
    "                  '개도국'))"
   ]
  },
  {
   "cell_type": "code",
   "execution_count": 146,
   "id": "5cfe94b8",
   "metadata": {},
   "outputs": [],
   "source": [
    "# 인당GDP가 23000 이상이면 '선진국', 6500 이상 23000 미만이면 '신흥국', \n",
    "# 6500 미만이면 '개도국'인 원소를 갖는 국가등급 열을 생성합니다.\n",
    "# [힌트] np.select() 함수를 사용하세요.\n",
    "# condlist 매개변수에 조건, choicelist 매개변수에 원소를 리스트로 지정합니다.\n",
    "trade['국가등급'] = np.select(\n",
    "    condlist = [trade['인당GDP'].ge(23000),\n",
    "                trade['인당GDP'].ge(6500),\n",
    "                trade['인당GDP'].ge(0)],\n",
    "    choicelist = ['선진국', '신흥국', '개도국']\n",
    ")"
   ]
  },
  {
   "cell_type": "code",
   "execution_count": 147,
   "id": "114a6f33",
   "metadata": {},
   "outputs": [
    {
     "data": {
      "text/plain": [
       "개도국    71\n",
       "신흥국    36\n",
       "선진국    30\n",
       "Name: 국가등급, dtype: int64"
      ]
     },
     "execution_count": 147,
     "metadata": {},
     "output_type": "execute_result"
    }
   ],
   "source": [
    "# 국가등급 원소별 빈도수를 확인합니다.\n",
    "# [힌트] value_counts() 함수를 사용하세요.\n",
    "trade['국가등급'].value_counts()"
   ]
  },
  {
   "cell_type": "code",
   "execution_count": 148,
   "id": "bee77d2f",
   "metadata": {},
   "outputs": [
    {
     "data": {
      "text/plain": [
       "국가등급\n",
       "개도국   -13901.626549\n",
       "선진국     -809.013967\n",
       "신흥국   -62616.736361\n",
       "Name: 무역수지, dtype: float64"
      ]
     },
     "execution_count": 148,
     "metadata": {},
     "output_type": "execute_result"
    }
   ],
   "source": [
    "# 국가등급별 무역수지 평균을 확인합니다.\n",
    "# [힌트] groupby()와 mean() 함수를 사용하세요.\n",
    "trade.groupby(by = ['국가등급'])['무역수지'].mean()"
   ]
  },
  {
   "cell_type": "code",
   "execution_count": 150,
   "id": "d94253ac",
   "metadata": {},
   "outputs": [
    {
     "data": {
      "text/html": [
       "<div>\n",
       "<style scoped>\n",
       "    .dataframe tbody tr th:only-of-type {\n",
       "        vertical-align: middle;\n",
       "    }\n",
       "\n",
       "    .dataframe tbody tr th {\n",
       "        vertical-align: top;\n",
       "    }\n",
       "\n",
       "    .dataframe thead th {\n",
       "        text-align: right;\n",
       "    }\n",
       "</style>\n",
       "<table border=\"1\" class=\"dataframe\">\n",
       "  <thead>\n",
       "    <tr style=\"text-align: right;\">\n",
       "      <th></th>\n",
       "      <th>무역수지</th>\n",
       "    </tr>\n",
       "    <tr>\n",
       "      <th>국가등급</th>\n",
       "      <th></th>\n",
       "    </tr>\n",
       "  </thead>\n",
       "  <tbody>\n",
       "    <tr>\n",
       "      <th>개도국</th>\n",
       "      <td>-13901.626549</td>\n",
       "    </tr>\n",
       "    <tr>\n",
       "      <th>선진국</th>\n",
       "      <td>-809.013967</td>\n",
       "    </tr>\n",
       "    <tr>\n",
       "      <th>신흥국</th>\n",
       "      <td>-62616.736361</td>\n",
       "    </tr>\n",
       "  </tbody>\n",
       "</table>\n",
       "</div>"
      ],
      "text/plain": [
       "              무역수지\n",
       "국가등급              \n",
       "개도국  -13901.626549\n",
       "선진국    -809.013967\n",
       "신흥국  -62616.736361"
      ]
     },
     "execution_count": 150,
     "metadata": {},
     "output_type": "execute_result"
    }
   ],
   "source": [
    "trade.groupby(by = ['국가등급'])[['무역수지']].mean()"
   ]
  },
  {
   "cell_type": "code",
   "execution_count": 149,
   "id": "ee47a2b6",
   "metadata": {},
   "outputs": [
    {
     "data": {
      "text/html": [
       "<div>\n",
       "<style scoped>\n",
       "    .dataframe tbody tr th:only-of-type {\n",
       "        vertical-align: middle;\n",
       "    }\n",
       "\n",
       "    .dataframe tbody tr th {\n",
       "        vertical-align: top;\n",
       "    }\n",
       "\n",
       "    .dataframe thead th {\n",
       "        text-align: right;\n",
       "    }\n",
       "</style>\n",
       "<table border=\"1\" class=\"dataframe\">\n",
       "  <thead>\n",
       "    <tr style=\"text-align: right;\">\n",
       "      <th></th>\n",
       "      <th>무역수지</th>\n",
       "    </tr>\n",
       "    <tr>\n",
       "      <th>국가등급</th>\n",
       "      <th></th>\n",
       "    </tr>\n",
       "  </thead>\n",
       "  <tbody>\n",
       "    <tr>\n",
       "      <th>개도국</th>\n",
       "      <td>-13901.626549</td>\n",
       "    </tr>\n",
       "    <tr>\n",
       "      <th>선진국</th>\n",
       "      <td>-809.013967</td>\n",
       "    </tr>\n",
       "    <tr>\n",
       "      <th>신흥국</th>\n",
       "      <td>-62616.736361</td>\n",
       "    </tr>\n",
       "  </tbody>\n",
       "</table>\n",
       "</div>"
      ],
      "text/plain": [
       "              무역수지\n",
       "국가등급              \n",
       "개도국  -13901.626549\n",
       "선진국    -809.013967\n",
       "신흥국  -62616.736361"
      ]
     },
     "execution_count": 149,
     "metadata": {},
     "output_type": "execute_result"
    }
   ],
   "source": [
    "pd.pivot_table(\n",
    "    data = trade,\n",
    "    values = '무역수지',\n",
    "    index = '국가등급',\n",
    "    aggfunc = np.mean\n",
    ")"
   ]
  },
  {
   "cell_type": "markdown",
   "id": "82caf9de",
   "metadata": {},
   "source": [
    "### 데이터 시각화"
   ]
  },
  {
   "cell_type": "code",
   "execution_count": 153,
   "id": "eac58ce9",
   "metadata": {},
   "outputs": [],
   "source": [
    "import matplotlib.font_manager as fm"
   ]
  },
  {
   "cell_type": "code",
   "execution_count": 155,
   "id": "454ffff9",
   "metadata": {},
   "outputs": [],
   "source": [
    "fontList = fm.findSystemFonts(fontext = 'ttf')"
   ]
  },
  {
   "cell_type": "code",
   "execution_count": 159,
   "id": "f18f9a5a",
   "metadata": {},
   "outputs": [
    {
     "data": {
      "text/plain": [
       "['C:\\\\Windows\\\\Fonts\\\\ALGER.TTF', 'C:\\\\Windows\\\\Fonts\\\\ERASLGHT.TTF']"
      ]
     },
     "execution_count": 159,
     "metadata": {},
     "output_type": "execute_result"
    }
   ],
   "source": [
    "fontPath = []\n",
    "for font in fontList:\n",
    "    if 'LG' in font:\n",
    "        fontPath.append(font)\n",
    "fontPath"
   ]
  },
  {
   "cell_type": "code",
   "execution_count": 167,
   "id": "3625164d",
   "metadata": {
    "collapsed": true
   },
   "outputs": [
    {
     "data": {
      "text/plain": [
       "['C:\\\\Users\\\\Administrator\\\\AppData\\\\Local\\\\Microsoft\\\\Windows\\\\Fonts\\\\NanumGothic-Bold.ttf',\n",
       " 'C:\\\\Users\\\\Administrator\\\\AppData\\\\Local\\\\Microsoft\\\\Windows\\\\Fonts\\\\NanumGothicCoding-Regular.ttf',\n",
       " 'C:\\\\Users\\\\Administrator\\\\AppData\\\\Local\\\\Microsoft\\\\Windows\\\\Fonts\\\\NanumGothic-ExtraBold.ttf',\n",
       " 'C:\\\\Users\\\\Administrator\\\\AppData\\\\Local\\\\Microsoft\\\\Windows\\\\Fonts\\\\NanumMyeongjo-Regular.ttf',\n",
       " 'C:\\\\Users\\\\Administrator\\\\AppData\\\\Local\\\\Microsoft\\\\Windows\\\\Fonts\\\\NanumMyeongjo-Bold.ttf',\n",
       " 'C:\\\\Users\\\\Administrator\\\\AppData\\\\Local\\\\Microsoft\\\\Windows\\\\Fonts\\\\NanumGothic-Regular.ttf',\n",
       " 'C:\\\\Users\\\\Administrator\\\\AppData\\\\Local\\\\Microsoft\\\\Windows\\\\Fonts\\\\NanumGothicCoding-Bold.ttf',\n",
       " 'C:\\\\Users\\\\Administrator\\\\AppData\\\\Local\\\\Microsoft\\\\Windows\\\\Fonts\\\\NanumMyeongjo-ExtraBold.ttf']"
      ]
     },
     "execution_count": 167,
     "metadata": {},
     "output_type": "execute_result"
    }
   ],
   "source": [
    "fontPath = [font for font in fontList if 'Nanum' in font]\n",
    "fontPath"
   ]
  },
  {
   "cell_type": "code",
   "execution_count": 168,
   "id": "88276f48",
   "metadata": {},
   "outputs": [
    {
     "name": "stdout",
     "output_type": "stream",
     "text": [
      "NanumGothic\n",
      "NanumGothicCoding\n",
      "NanumGothic\n",
      "NanumMyeongjo\n",
      "NanumMyeongjo\n",
      "NanumGothic\n",
      "NanumGothicCoding\n",
      "NanumMyeongjo\n"
     ]
    }
   ],
   "source": [
    "for font in fontPath:\n",
    "    print(fm.FontProperties(fname = font).get_name())"
   ]
  },
  {
   "cell_type": "code",
   "execution_count": 151,
   "id": "2ee1be23",
   "metadata": {},
   "outputs": [],
   "source": [
    "# 관련 라이브러리를 호출합니다.\n",
    "import seaborn as sns\n",
    "import matplotlib.pyplot as plt\n",
    "\n",
    "# 그래픽 파라미터를 설정합니다.\n",
    "plt.rc(group = 'figure', figsize = (6, 6), dpi = 100)\n",
    "plt.rc(group = 'font', family = 'Gamja Flower', size = 10)\n",
    "plt.rc(group = 'axes', unicode_minus = False)\n",
    "plt.rc(group = 'legend', frameon = True, fc = '1', ec = '0')"
   ]
  },
  {
   "cell_type": "code",
   "execution_count": 176,
   "id": "e72b677f",
   "metadata": {},
   "outputs": [
    {
     "data": {
      "image/png": "[encoded data removed]",
      "text/plain": [
       "<Figure size 600x600 with 1 Axes>"
      ]
     },
     "metadata": {},
     "output_type": "display_data"
    }
   ],
   "source": [
    "# 인당GDP와 무역수지의 산점도를 그립니다.\n",
    "# [힌트] sns.scatterplot() 함수를 사용하세요.\n",
    "# hue 매개변수에 범주형 변수명을 지정하면 점의 채우기 색을 다르게 지정합니다.\n",
    "# 점의 크기는 s 매개변수에 정수로 지정합니다.(기본값: 50)\n",
    "sns.scatterplot(data = trade, x = '인당GDP', y = '무역수지', hue = '국가등급')\n",
    "plt.axhline(y = 0, color = 'red', linewidth = 0.5, linestyle = '--')\n",
    "plt.title(label = '국민총소득과 무역수지 관계')\n",
    "\n",
    "# 범례의 위치를 오른쪽 아래로 지정합니다.\n",
    "plt.legend(loc = 'lower right');"
   ]
  },
  {
   "cell_type": "markdown",
   "id": "ba268a7b",
   "metadata": {},
   "source": [
    "### 무역수지 흑자 1위 국가의 수출입 수산물 목록 확인"
   ]
  },
  {
   "cell_type": "code",
   "execution_count": 177,
   "id": "092eaad4",
   "metadata": {},
   "outputs": [],
   "source": [
    "# sfd에서 nation이 '일본'인 행을 데이터프레임 japan에 할당합니다.\n",
    "# [힌트] eq() 함수를 사용하세요.\n",
    "japan = sfd[sfd['nation'].eq('일본')]"
   ]
  },
  {
   "cell_type": "code",
   "execution_count": 178,
   "id": "6f53d82e",
   "metadata": {},
   "outputs": [
    {
     "name": "stdout",
     "output_type": "stream",
     "text": [
      "<class 'pandas.core.frame.DataFrame'>\n",
      "Int64Index: 2614 entries, 1547 to 31005\n",
      "Data columns (total 6 columns):\n",
      " #   Column  Non-Null Count  Dtype  \n",
      "---  ------  --------------  -----  \n",
      " 0   ymonth  2614 non-null   object \n",
      " 1   nation  2614 non-null   object \n",
      " 2   itemNm  2614 non-null   object \n",
      " 3   imxprt  2614 non-null   object \n",
      " 4   weight  2614 non-null   float64\n",
      " 5   dollar  2614 non-null   float64\n",
      "dtypes: float64(2), object(4)\n",
      "memory usage: 143.0+ KB\n"
     ]
    }
   ],
   "source": [
    "# japan의 정보를 확인합니다.\n",
    "japan.info()"
   ]
  },
  {
   "cell_type": "code",
   "execution_count": 179,
   "id": "d91e714e",
   "metadata": {},
   "outputs": [],
   "source": [
    "# 아래 조건을 만족하는 피벗 테이블을 japan에 재할당합니다.\n",
    "# [힌트] pd.pivot_table() 함수를 사용하세요.\n",
    "# 데이터(data)는 japan, 값(values)은 dollar, \n",
    "# 행이름(index)은 itemNm, 열이름(columns)은 imxprt, \n",
    "# 집계함수는 np.sum을 지정하세요.\n",
    "japan = pd.pivot_table(\n",
    "    data = japan,\n",
    "    values = 'dollar',\n",
    "    index = 'itemNm', \n",
    "    columns = 'imxprt', \n",
    "    aggfunc = np.sum\n",
    ")"
   ]
  },
  {
   "cell_type": "code",
   "execution_count": 180,
   "id": "fa62704b",
   "metadata": {},
   "outputs": [
    {
     "data": {
      "text/html": [
       "<div>\n",
       "<style scoped>\n",
       "    .dataframe tbody tr th:only-of-type {\n",
       "        vertical-align: middle;\n",
       "    }\n",
       "\n",
       "    .dataframe tbody tr th {\n",
       "        vertical-align: top;\n",
       "    }\n",
       "\n",
       "    .dataframe thead th {\n",
       "        text-align: right;\n",
       "    }\n",
       "</style>\n",
       "<table border=\"1\" class=\"dataframe\">\n",
       "  <thead>\n",
       "    <tr style=\"text-align: right;\">\n",
       "      <th>imxprt</th>\n",
       "      <th>수입</th>\n",
       "      <th>수출</th>\n",
       "    </tr>\n",
       "    <tr>\n",
       "      <th>itemNm</th>\n",
       "      <th></th>\n",
       "      <th></th>\n",
       "    </tr>\n",
       "  </thead>\n",
       "  <tbody>\n",
       "    <tr>\n",
       "      <th>가공하지 않은 것</th>\n",
       "      <td>0.350</td>\n",
       "      <td>0.041</td>\n",
       "    </tr>\n",
       "    <tr>\n",
       "      <th>가공한 것</th>\n",
       "      <td>6.018</td>\n",
       "      <td>1.059</td>\n",
       "    </tr>\n",
       "    <tr>\n",
       "      <th>가다랑어</th>\n",
       "      <td>4.409</td>\n",
       "      <td>2580.066</td>\n",
       "    </tr>\n",
       "    <tr>\n",
       "      <th>가리비과</th>\n",
       "      <td>39305.985</td>\n",
       "      <td>13.476</td>\n",
       "    </tr>\n",
       "    <tr>\n",
       "      <th>가오리</th>\n",
       "      <td>4622.530</td>\n",
       "      <td>NaN</td>\n",
       "    </tr>\n",
       "    <tr>\n",
       "      <th>가자미</th>\n",
       "      <td>NaN</td>\n",
       "      <td>0.009</td>\n",
       "    </tr>\n",
       "    <tr>\n",
       "      <th>간</th>\n",
       "      <td>7.931</td>\n",
       "      <td>25.204</td>\n",
       "    </tr>\n",
       "    <tr>\n",
       "      <th>간유</th>\n",
       "      <td>0.019</td>\n",
       "      <td>27.766</td>\n",
       "    </tr>\n",
       "    <tr>\n",
       "      <th>갈치</th>\n",
       "      <td>3618.230</td>\n",
       "      <td>253.127</td>\n",
       "    </tr>\n",
       "    <tr>\n",
       "      <th>갑각류</th>\n",
       "      <td>43.867</td>\n",
       "      <td>5166.244</td>\n",
       "    </tr>\n",
       "  </tbody>\n",
       "</table>\n",
       "</div>"
      ],
      "text/plain": [
       "imxprt            수입        수출\n",
       "itemNm                        \n",
       "가공하지 않은 것      0.350     0.041\n",
       "가공한 것          6.018     1.059\n",
       "가다랑어           4.409  2580.066\n",
       "가리비과       39305.985    13.476\n",
       "가오리         4622.530       NaN\n",
       "가자미              NaN     0.009\n",
       "간              7.931    25.204\n",
       "간유             0.019    27.766\n",
       "갈치          3618.230   253.127\n",
       "갑각류           43.867  5166.244"
      ]
     },
     "execution_count": 180,
     "metadata": {},
     "output_type": "execute_result"
    }
   ],
   "source": [
    "# japan의 처음 10행을 출력합니다.\n",
    "japan.head(n = 10)"
   ]
  },
  {
   "cell_type": "code",
   "execution_count": 181,
   "id": "29f8980f",
   "metadata": {},
   "outputs": [],
   "source": [
    "# japan에 있는 결측값을 0으로 대체하고 japan에 재할당합니다.\n",
    "# [힌트] fillna() 함수를 사용하세요.\n",
    "japan = japan.fillna(value = 0)"
   ]
  },
  {
   "cell_type": "code",
   "execution_count": 182,
   "id": "a3f2a1e4",
   "metadata": {},
   "outputs": [],
   "source": [
    "# japan의 인덱스 네임을 '수산물'로 변경합니다.\n",
    "# [힌트] index.name 속성을 사용하세요.\n",
    "japan.index.name = '수산물'"
   ]
  },
  {
   "cell_type": "code",
   "execution_count": 183,
   "id": "413cd4e2",
   "metadata": {},
   "outputs": [],
   "source": [
    "# japan의 열이름 네임에 빈 문자열을 지정합니다.\n",
    "# [힌트] columns.name 속성을 사용하세요.\n",
    "japan.columns.name = ''"
   ]
  },
  {
   "cell_type": "code",
   "execution_count": 184,
   "id": "4e28e397",
   "metadata": {},
   "outputs": [
    {
     "data": {
      "text/html": [
       "<div>\n",
       "<style scoped>\n",
       "    .dataframe tbody tr th:only-of-type {\n",
       "        vertical-align: middle;\n",
       "    }\n",
       "\n",
       "    .dataframe tbody tr th {\n",
       "        vertical-align: top;\n",
       "    }\n",
       "\n",
       "    .dataframe thead th {\n",
       "        text-align: right;\n",
       "    }\n",
       "</style>\n",
       "<table border=\"1\" class=\"dataframe\">\n",
       "  <thead>\n",
       "    <tr style=\"text-align: right;\">\n",
       "      <th></th>\n",
       "      <th>수입</th>\n",
       "      <th>수출</th>\n",
       "    </tr>\n",
       "    <tr>\n",
       "      <th>수산물</th>\n",
       "      <th></th>\n",
       "      <th></th>\n",
       "    </tr>\n",
       "  </thead>\n",
       "  <tbody>\n",
       "    <tr>\n",
       "      <th>가공하지 않은 것</th>\n",
       "      <td>0.350</td>\n",
       "      <td>0.041</td>\n",
       "    </tr>\n",
       "    <tr>\n",
       "      <th>가공한 것</th>\n",
       "      <td>6.018</td>\n",
       "      <td>1.059</td>\n",
       "    </tr>\n",
       "    <tr>\n",
       "      <th>가다랑어</th>\n",
       "      <td>4.409</td>\n",
       "      <td>2580.066</td>\n",
       "    </tr>\n",
       "    <tr>\n",
       "      <th>가리비과</th>\n",
       "      <td>39305.985</td>\n",
       "      <td>13.476</td>\n",
       "    </tr>\n",
       "    <tr>\n",
       "      <th>가오리</th>\n",
       "      <td>4622.530</td>\n",
       "      <td>0.000</td>\n",
       "    </tr>\n",
       "  </tbody>\n",
       "</table>\n",
       "</div>"
      ],
      "text/plain": [
       "                  수입        수출\n",
       "수산물                           \n",
       "가공하지 않은 것      0.350     0.041\n",
       "가공한 것          6.018     1.059\n",
       "가다랑어           4.409  2580.066\n",
       "가리비과       39305.985    13.476\n",
       "가오리         4622.530     0.000"
      ]
     },
     "execution_count": 184,
     "metadata": {},
     "output_type": "execute_result"
    }
   ],
   "source": [
    "japan.head()"
   ]
  },
  {
   "cell_type": "code",
   "execution_count": 187,
   "id": "c1f81faa",
   "metadata": {},
   "outputs": [
    {
     "data": {
      "text/html": [
       "<div>\n",
       "<style scoped>\n",
       "    .dataframe tbody tr th:only-of-type {\n",
       "        vertical-align: middle;\n",
       "    }\n",
       "\n",
       "    .dataframe tbody tr th {\n",
       "        vertical-align: top;\n",
       "    }\n",
       "\n",
       "    .dataframe thead th {\n",
       "        text-align: right;\n",
       "    }\n",
       "</style>\n",
       "<table border=\"1\" class=\"dataframe\">\n",
       "  <thead>\n",
       "    <tr style=\"text-align: right;\">\n",
       "      <th></th>\n",
       "      <th>수입</th>\n",
       "      <th>수출</th>\n",
       "    </tr>\n",
       "    <tr>\n",
       "      <th>수산물</th>\n",
       "      <th></th>\n",
       "      <th></th>\n",
       "    </tr>\n",
       "  </thead>\n",
       "  <tbody>\n",
       "    <tr>\n",
       "      <th>가공하지 않은 것</th>\n",
       "      <td>0.350</td>\n",
       "      <td>0.041</td>\n",
       "    </tr>\n",
       "    <tr>\n",
       "      <th>가공한 것</th>\n",
       "      <td>6.018</td>\n",
       "      <td>1.059</td>\n",
       "    </tr>\n",
       "    <tr>\n",
       "      <th>가다랑어</th>\n",
       "      <td>4.409</td>\n",
       "      <td>2580.066</td>\n",
       "    </tr>\n",
       "    <tr>\n",
       "      <th>가리비과</th>\n",
       "      <td>39305.985</td>\n",
       "      <td>13.476</td>\n",
       "    </tr>\n",
       "    <tr>\n",
       "      <th>가오리</th>\n",
       "      <td>4622.530</td>\n",
       "      <td>0.000</td>\n",
       "    </tr>\n",
       "    <tr>\n",
       "      <th>...</th>\n",
       "      <td>...</td>\n",
       "      <td>...</td>\n",
       "    </tr>\n",
       "    <tr>\n",
       "      <th>해파리</th>\n",
       "      <td>382.517</td>\n",
       "      <td>0.000</td>\n",
       "    </tr>\n",
       "    <tr>\n",
       "      <th>홍어</th>\n",
       "      <td>1010.925</td>\n",
       "      <td>0.000</td>\n",
       "    </tr>\n",
       "    <tr>\n",
       "      <th>홍합</th>\n",
       "      <td>0.016</td>\n",
       "      <td>104.642</td>\n",
       "    </tr>\n",
       "    <tr>\n",
       "      <th>황다랑어</th>\n",
       "      <td>0.000</td>\n",
       "      <td>15265.701</td>\n",
       "    </tr>\n",
       "    <tr>\n",
       "      <th>황새치</th>\n",
       "      <td>402.789</td>\n",
       "      <td>19485.220</td>\n",
       "    </tr>\n",
       "  </tbody>\n",
       "</table>\n",
       "<p>161 rows × 2 columns</p>\n",
       "</div>"
      ],
      "text/plain": [
       "                  수입         수출\n",
       "수산물                            \n",
       "가공하지 않은 것      0.350      0.041\n",
       "가공한 것          6.018      1.059\n",
       "가다랑어           4.409   2580.066\n",
       "가리비과       39305.985     13.476\n",
       "가오리         4622.530      0.000\n",
       "...              ...        ...\n",
       "해파리          382.517      0.000\n",
       "홍어          1010.925      0.000\n",
       "홍합             0.016    104.642\n",
       "황다랑어           0.000  15265.701\n",
       "황새치          402.789  19485.220\n",
       "\n",
       "[161 rows x 2 columns]"
      ]
     },
     "execution_count": 187,
     "metadata": {},
     "output_type": "execute_result"
    }
   ],
   "source": [
    "japan.set_index(keys = '수산물')"
   ]
  },
  {
   "cell_type": "code",
   "execution_count": 185,
   "id": "c63da60c",
   "metadata": {},
   "outputs": [],
   "source": [
    "# japan의 인덱스를 초기화합니다.\n",
    "# [힌트] reset_index() 함수를 사용하세요.\n",
    "# [참고] 기존 인덱스를 열로 추가하려면 drop = True를 추가하지 않습니다.\n",
    "japan = japan.reset_index()"
   ]
  },
  {
   "cell_type": "code",
   "execution_count": 186,
   "id": "b5c9dccb",
   "metadata": {},
   "outputs": [
    {
     "data": {
      "text/html": [
       "<div>\n",
       "<style scoped>\n",
       "    .dataframe tbody tr th:only-of-type {\n",
       "        vertical-align: middle;\n",
       "    }\n",
       "\n",
       "    .dataframe tbody tr th {\n",
       "        vertical-align: top;\n",
       "    }\n",
       "\n",
       "    .dataframe thead th {\n",
       "        text-align: right;\n",
       "    }\n",
       "</style>\n",
       "<table border=\"1\" class=\"dataframe\">\n",
       "  <thead>\n",
       "    <tr style=\"text-align: right;\">\n",
       "      <th></th>\n",
       "      <th>수산물</th>\n",
       "      <th>수입</th>\n",
       "      <th>수출</th>\n",
       "    </tr>\n",
       "  </thead>\n",
       "  <tbody>\n",
       "    <tr>\n",
       "      <th>0</th>\n",
       "      <td>가공하지 않은 것</td>\n",
       "      <td>0.350</td>\n",
       "      <td>0.041</td>\n",
       "    </tr>\n",
       "    <tr>\n",
       "      <th>1</th>\n",
       "      <td>가공한 것</td>\n",
       "      <td>6.018</td>\n",
       "      <td>1.059</td>\n",
       "    </tr>\n",
       "    <tr>\n",
       "      <th>2</th>\n",
       "      <td>가다랑어</td>\n",
       "      <td>4.409</td>\n",
       "      <td>2580.066</td>\n",
       "    </tr>\n",
       "    <tr>\n",
       "      <th>3</th>\n",
       "      <td>가리비과</td>\n",
       "      <td>39305.985</td>\n",
       "      <td>13.476</td>\n",
       "    </tr>\n",
       "    <tr>\n",
       "      <th>4</th>\n",
       "      <td>가오리</td>\n",
       "      <td>4622.530</td>\n",
       "      <td>0.000</td>\n",
       "    </tr>\n",
       "  </tbody>\n",
       "</table>\n",
       "</div>"
      ],
      "text/plain": [
       "         수산물         수입        수출\n",
       "0  가공하지 않은 것      0.350     0.041\n",
       "1      가공한 것      6.018     1.059\n",
       "2       가다랑어      4.409  2580.066\n",
       "3       가리비과  39305.985    13.476\n",
       "4        가오리   4622.530     0.000"
      ]
     },
     "execution_count": 186,
     "metadata": {},
     "output_type": "execute_result"
    }
   ],
   "source": [
    "# japan의 처음 5행을 출력합니다.\n",
    "japan.head()"
   ]
  },
  {
   "cell_type": "code",
   "execution_count": 188,
   "id": "6b5e1a42",
   "metadata": {},
   "outputs": [],
   "source": [
    "# japan의 수출에서 수입을 뺀 무역수지를 생성합니다.\n",
    "japan['무역수지'] = japan['수출'] - japan['수입']"
   ]
  },
  {
   "cell_type": "code",
   "execution_count": 189,
   "id": "cb025c25",
   "metadata": {},
   "outputs": [],
   "source": [
    "# japan을 무역수지로 내림차순 정렬하고 japan에 재할당합니다.\n",
    "# [힌트] sort_values() 함수를 사용하세요.\n",
    "japan = japan.sort_values(by = ['무역수지'], ascending = False)"
   ]
  },
  {
   "cell_type": "code",
   "execution_count": 190,
   "id": "dad112ad",
   "metadata": {},
   "outputs": [
    {
     "data": {
      "text/html": [
       "<div>\n",
       "<style scoped>\n",
       "    .dataframe tbody tr th:only-of-type {\n",
       "        vertical-align: middle;\n",
       "    }\n",
       "\n",
       "    .dataframe tbody tr th {\n",
       "        vertical-align: top;\n",
       "    }\n",
       "\n",
       "    .dataframe thead th {\n",
       "        text-align: right;\n",
       "    }\n",
       "</style>\n",
       "<table border=\"1\" class=\"dataframe\">\n",
       "  <thead>\n",
       "    <tr style=\"text-align: right;\">\n",
       "      <th></th>\n",
       "      <th>수산물</th>\n",
       "      <th>수입</th>\n",
       "      <th>수출</th>\n",
       "      <th>무역수지</th>\n",
       "    </tr>\n",
       "  </thead>\n",
       "  <tbody>\n",
       "    <tr>\n",
       "      <th>42</th>\n",
       "      <td>다랑어</td>\n",
       "      <td>1275.676</td>\n",
       "      <td>128950.909</td>\n",
       "      <td>127675.233</td>\n",
       "    </tr>\n",
       "    <tr>\n",
       "      <th>26</th>\n",
       "      <td>김</td>\n",
       "      <td>436.750</td>\n",
       "      <td>114139.670</td>\n",
       "      <td>113702.920</td>\n",
       "    </tr>\n",
       "    <tr>\n",
       "      <th>124</th>\n",
       "      <td>전복</td>\n",
       "      <td>36.525</td>\n",
       "      <td>42698.612</td>\n",
       "      <td>42662.087</td>\n",
       "    </tr>\n",
       "    <tr>\n",
       "      <th>77</th>\n",
       "      <td>붕장어</td>\n",
       "      <td>0.000</td>\n",
       "      <td>31125.801</td>\n",
       "      <td>31125.801</td>\n",
       "    </tr>\n",
       "    <tr>\n",
       "      <th>33</th>\n",
       "      <td>냉동한 것</td>\n",
       "      <td>501.435</td>\n",
       "      <td>22728.785</td>\n",
       "      <td>22227.350</td>\n",
       "    </tr>\n",
       "    <tr>\n",
       "      <th>76</th>\n",
       "      <td>붉은 대게살</td>\n",
       "      <td>62.880</td>\n",
       "      <td>21318.554</td>\n",
       "      <td>21255.674</td>\n",
       "    </tr>\n",
       "    <tr>\n",
       "      <th>160</th>\n",
       "      <td>황새치</td>\n",
       "      <td>402.789</td>\n",
       "      <td>19485.220</td>\n",
       "      <td>19082.431</td>\n",
       "    </tr>\n",
       "    <tr>\n",
       "      <th>65</th>\n",
       "      <td>바지락</td>\n",
       "      <td>0.000</td>\n",
       "      <td>17493.784</td>\n",
       "      <td>17493.784</td>\n",
       "    </tr>\n",
       "    <tr>\n",
       "      <th>123</th>\n",
       "      <td>전갱이</td>\n",
       "      <td>2.444</td>\n",
       "      <td>17431.010</td>\n",
       "      <td>17428.566</td>\n",
       "    </tr>\n",
       "    <tr>\n",
       "      <th>37</th>\n",
       "      <td>넙치</td>\n",
       "      <td>0.000</td>\n",
       "      <td>17113.017</td>\n",
       "      <td>17113.017</td>\n",
       "    </tr>\n",
       "  </tbody>\n",
       "</table>\n",
       "</div>"
      ],
      "text/plain": [
       "        수산물        수입          수출        무역수지\n",
       "42      다랑어  1275.676  128950.909  127675.233\n",
       "26        김   436.750  114139.670  113702.920\n",
       "124      전복    36.525   42698.612   42662.087\n",
       "77      붕장어     0.000   31125.801   31125.801\n",
       "33    냉동한 것   501.435   22728.785   22227.350\n",
       "76   붉은 대게살    62.880   21318.554   21255.674\n",
       "160     황새치   402.789   19485.220   19082.431\n",
       "65      바지락     0.000   17493.784   17493.784\n",
       "123     전갱이     2.444   17431.010   17428.566\n",
       "37       넙치     0.000   17113.017   17113.017"
      ]
     },
     "execution_count": 190,
     "metadata": {},
     "output_type": "execute_result"
    }
   ],
   "source": [
    "# japan의 처음 10행을 출력합니다.(무역수지 흑자 수산물)\n",
    "japan.head(n = 10)"
   ]
  },
  {
   "cell_type": "code",
   "execution_count": 191,
   "id": "16c46f11",
   "metadata": {
    "scrolled": true
   },
   "outputs": [
    {
     "data": {
      "text/html": [
       "<div>\n",
       "<style scoped>\n",
       "    .dataframe tbody tr th:only-of-type {\n",
       "        vertical-align: middle;\n",
       "    }\n",
       "\n",
       "    .dataframe tbody tr th {\n",
       "        vertical-align: top;\n",
       "    }\n",
       "\n",
       "    .dataframe thead th {\n",
       "        text-align: right;\n",
       "    }\n",
       "</style>\n",
       "<table border=\"1\" class=\"dataframe\">\n",
       "  <thead>\n",
       "    <tr style=\"text-align: right;\">\n",
       "      <th></th>\n",
       "      <th>수산물</th>\n",
       "      <th>수입</th>\n",
       "      <th>수출</th>\n",
       "      <th>무역수지</th>\n",
       "    </tr>\n",
       "  </thead>\n",
       "  <tbody>\n",
       "    <tr>\n",
       "      <th>39</th>\n",
       "      <td>농어</td>\n",
       "      <td>2228.608</td>\n",
       "      <td>469.551</td>\n",
       "      <td>-1759.057</td>\n",
       "    </tr>\n",
       "    <tr>\n",
       "      <th>11</th>\n",
       "      <td>개아지살</td>\n",
       "      <td>3220.833</td>\n",
       "      <td>693.652</td>\n",
       "      <td>-2527.181</td>\n",
       "    </tr>\n",
       "    <tr>\n",
       "      <th>8</th>\n",
       "      <td>갈치</td>\n",
       "      <td>3618.230</td>\n",
       "      <td>253.127</td>\n",
       "      <td>-3365.103</td>\n",
       "    </tr>\n",
       "    <tr>\n",
       "      <th>149</th>\n",
       "      <td>포유동물</td>\n",
       "      <td>4056.177</td>\n",
       "      <td>111.589</td>\n",
       "      <td>-3944.588</td>\n",
       "    </tr>\n",
       "    <tr>\n",
       "      <th>4</th>\n",
       "      <td>가오리</td>\n",
       "      <td>4622.530</td>\n",
       "      <td>0.000</td>\n",
       "      <td>-4622.530</td>\n",
       "    </tr>\n",
       "    <tr>\n",
       "      <th>59</th>\n",
       "      <td>명태</td>\n",
       "      <td>6158.574</td>\n",
       "      <td>100.207</td>\n",
       "      <td>-6058.367</td>\n",
       "    </tr>\n",
       "    <tr>\n",
       "      <th>117</th>\n",
       "      <td>우렁쉥이</td>\n",
       "      <td>7345.288</td>\n",
       "      <td>0.000</td>\n",
       "      <td>-7345.288</td>\n",
       "    </tr>\n",
       "    <tr>\n",
       "      <th>66</th>\n",
       "      <td>방어</td>\n",
       "      <td>36058.005</td>\n",
       "      <td>3505.671</td>\n",
       "      <td>-32552.334</td>\n",
       "    </tr>\n",
       "    <tr>\n",
       "      <th>50</th>\n",
       "      <td>돔</td>\n",
       "      <td>36402.686</td>\n",
       "      <td>21.139</td>\n",
       "      <td>-36381.547</td>\n",
       "    </tr>\n",
       "    <tr>\n",
       "      <th>3</th>\n",
       "      <td>가리비과</td>\n",
       "      <td>39305.985</td>\n",
       "      <td>13.476</td>\n",
       "      <td>-39292.509</td>\n",
       "    </tr>\n",
       "  </tbody>\n",
       "</table>\n",
       "</div>"
      ],
      "text/plain": [
       "      수산물         수입        수출       무역수지\n",
       "39     농어   2228.608   469.551  -1759.057\n",
       "11   개아지살   3220.833   693.652  -2527.181\n",
       "8      갈치   3618.230   253.127  -3365.103\n",
       "149  포유동물   4056.177   111.589  -3944.588\n",
       "4     가오리   4622.530     0.000  -4622.530\n",
       "59     명태   6158.574   100.207  -6058.367\n",
       "117  우렁쉥이   7345.288     0.000  -7345.288\n",
       "66     방어  36058.005  3505.671 -32552.334\n",
       "50      돔  36402.686    21.139 -36381.547\n",
       "3    가리비과  39305.985    13.476 -39292.509"
      ]
     },
     "execution_count": 191,
     "metadata": {},
     "output_type": "execute_result"
    }
   ],
   "source": [
    "# japan의 마지막 10행을 출력합니다.(무역수지 적자 수산물)\n",
    "japan.tail(n = 10)"
   ]
  },
  {
   "cell_type": "markdown",
   "id": "a9d3a2cf",
   "metadata": {},
   "source": [
    "### [보너스]"
   ]
  },
  {
   "cell_type": "code",
   "execution_count": 192,
   "id": "34f84937",
   "metadata": {},
   "outputs": [],
   "source": [
    "# 국가명을 지정하면 수출입 수산물 목록을 반환하는 함수를 생성합니다.\n",
    "# [참고] 함수에서 정의하지 않은 인수는 글로벌 변수를 사용합니다.(ex: sfd)\n",
    "# [주의] 글로벌 변수 목록에 없으면 에러를 반환합니다.\n",
    "def seafoodItemList(nation):\n",
    "    items = sfd[sfd['nation'].eq(nation)]\n",
    "    items = pd.pivot_table(\n",
    "        data = items, \n",
    "        values = 'dollar', \n",
    "        index = 'itemNm', \n",
    "        columns = 'imxprt', \n",
    "        aggfunc = np.sum\n",
    "    )\n",
    "    items = items.fillna(value = 0)\n",
    "    items.index.name = '수산물'\n",
    "    items.columns.name = ''\n",
    "    items = items.reset_index()\n",
    "    items['무역수지'] = items['수출'] - items['수입']\n",
    "    items = items.sort_values(by = ['무역수지'], ascending = False)\n",
    "    return items"
   ]
  },
  {
   "cell_type": "code",
   "execution_count": 193,
   "id": "d2ebaa94",
   "metadata": {},
   "outputs": [],
   "source": [
    "# 일본과의 수산물 무역수지 데이터를 japan에 할당합니다.\n",
    "japan = seafoodItemList(nation = '일본')"
   ]
  },
  {
   "cell_type": "code",
   "execution_count": 194,
   "id": "f54f8ffc",
   "metadata": {},
   "outputs": [
    {
     "data": {
      "text/html": [
       "<div>\n",
       "<style scoped>\n",
       "    .dataframe tbody tr th:only-of-type {\n",
       "        vertical-align: middle;\n",
       "    }\n",
       "\n",
       "    .dataframe tbody tr th {\n",
       "        vertical-align: top;\n",
       "    }\n",
       "\n",
       "    .dataframe thead th {\n",
       "        text-align: right;\n",
       "    }\n",
       "</style>\n",
       "<table border=\"1\" class=\"dataframe\">\n",
       "  <thead>\n",
       "    <tr style=\"text-align: right;\">\n",
       "      <th></th>\n",
       "      <th>수산물</th>\n",
       "      <th>수입</th>\n",
       "      <th>수출</th>\n",
       "      <th>무역수지</th>\n",
       "    </tr>\n",
       "  </thead>\n",
       "  <tbody>\n",
       "    <tr>\n",
       "      <th>42</th>\n",
       "      <td>다랑어</td>\n",
       "      <td>1275.676</td>\n",
       "      <td>128950.909</td>\n",
       "      <td>127675.233</td>\n",
       "    </tr>\n",
       "    <tr>\n",
       "      <th>26</th>\n",
       "      <td>김</td>\n",
       "      <td>436.750</td>\n",
       "      <td>114139.670</td>\n",
       "      <td>113702.920</td>\n",
       "    </tr>\n",
       "    <tr>\n",
       "      <th>124</th>\n",
       "      <td>전복</td>\n",
       "      <td>36.525</td>\n",
       "      <td>42698.612</td>\n",
       "      <td>42662.087</td>\n",
       "    </tr>\n",
       "    <tr>\n",
       "      <th>77</th>\n",
       "      <td>붕장어</td>\n",
       "      <td>0.000</td>\n",
       "      <td>31125.801</td>\n",
       "      <td>31125.801</td>\n",
       "    </tr>\n",
       "    <tr>\n",
       "      <th>33</th>\n",
       "      <td>냉동한 것</td>\n",
       "      <td>501.435</td>\n",
       "      <td>22728.785</td>\n",
       "      <td>22227.350</td>\n",
       "    </tr>\n",
       "    <tr>\n",
       "      <th>...</th>\n",
       "      <td>...</td>\n",
       "      <td>...</td>\n",
       "      <td>...</td>\n",
       "      <td>...</td>\n",
       "    </tr>\n",
       "    <tr>\n",
       "      <th>59</th>\n",
       "      <td>명태</td>\n",
       "      <td>6158.574</td>\n",
       "      <td>100.207</td>\n",
       "      <td>-6058.367</td>\n",
       "    </tr>\n",
       "    <tr>\n",
       "      <th>117</th>\n",
       "      <td>우렁쉥이</td>\n",
       "      <td>7345.288</td>\n",
       "      <td>0.000</td>\n",
       "      <td>-7345.288</td>\n",
       "    </tr>\n",
       "    <tr>\n",
       "      <th>66</th>\n",
       "      <td>방어</td>\n",
       "      <td>36058.005</td>\n",
       "      <td>3505.671</td>\n",
       "      <td>-32552.334</td>\n",
       "    </tr>\n",
       "    <tr>\n",
       "      <th>50</th>\n",
       "      <td>돔</td>\n",
       "      <td>36402.686</td>\n",
       "      <td>21.139</td>\n",
       "      <td>-36381.547</td>\n",
       "    </tr>\n",
       "    <tr>\n",
       "      <th>3</th>\n",
       "      <td>가리비과</td>\n",
       "      <td>39305.985</td>\n",
       "      <td>13.476</td>\n",
       "      <td>-39292.509</td>\n",
       "    </tr>\n",
       "  </tbody>\n",
       "</table>\n",
       "<p>161 rows × 4 columns</p>\n",
       "</div>"
      ],
      "text/plain": [
       "       수산물         수입          수출        무역수지\n",
       "42     다랑어   1275.676  128950.909  127675.233\n",
       "26       김    436.750  114139.670  113702.920\n",
       "124     전복     36.525   42698.612   42662.087\n",
       "77     붕장어      0.000   31125.801   31125.801\n",
       "33   냉동한 것    501.435   22728.785   22227.350\n",
       "..     ...        ...         ...         ...\n",
       "59      명태   6158.574     100.207   -6058.367\n",
       "117   우렁쉥이   7345.288       0.000   -7345.288\n",
       "66      방어  36058.005    3505.671  -32552.334\n",
       "50       돔  36402.686      21.139  -36381.547\n",
       "3     가리비과  39305.985      13.476  -39292.509\n",
       "\n",
       "[161 rows x 4 columns]"
      ]
     },
     "execution_count": 194,
     "metadata": {},
     "output_type": "execute_result"
    }
   ],
   "source": [
    "# japan을 출력합니다.\n",
    "japan"
   ]
  },
  {
   "cell_type": "code",
   "execution_count": 197,
   "id": "0260f1e2",
   "metadata": {
    "scrolled": false
   },
   "outputs": [
    {
     "data": {
      "text/html": [
       "<div>\n",
       "<style scoped>\n",
       "    .dataframe tbody tr th:only-of-type {\n",
       "        vertical-align: middle;\n",
       "    }\n",
       "\n",
       "    .dataframe tbody tr th {\n",
       "        vertical-align: top;\n",
       "    }\n",
       "\n",
       "    .dataframe thead th {\n",
       "        text-align: right;\n",
       "    }\n",
       "</style>\n",
       "<table border=\"1\" class=\"dataframe\">\n",
       "  <thead>\n",
       "    <tr style=\"text-align: right;\">\n",
       "      <th></th>\n",
       "      <th>수산물</th>\n",
       "      <th>수입</th>\n",
       "      <th>수출</th>\n",
       "      <th>무역수지</th>\n",
       "    </tr>\n",
       "  </thead>\n",
       "  <tbody>\n",
       "    <tr>\n",
       "      <th>28</th>\n",
       "      <td>김</td>\n",
       "      <td>276.615</td>\n",
       "      <td>139377.849</td>\n",
       "      <td>139101.234</td>\n",
       "    </tr>\n",
       "    <tr>\n",
       "      <th>56</th>\n",
       "      <td>명태</td>\n",
       "      <td>5876.522</td>\n",
       "      <td>128797.853</td>\n",
       "      <td>122921.331</td>\n",
       "    </tr>\n",
       "    <tr>\n",
       "      <th>48</th>\n",
       "      <td>대구</td>\n",
       "      <td>2980.957</td>\n",
       "      <td>64479.232</td>\n",
       "      <td>61498.275</td>\n",
       "    </tr>\n",
       "    <tr>\n",
       "      <th>78</th>\n",
       "      <td>삼치</td>\n",
       "      <td>60.038</td>\n",
       "      <td>34821.640</td>\n",
       "      <td>34761.602</td>\n",
       "    </tr>\n",
       "    <tr>\n",
       "      <th>159</th>\n",
       "      <td>해삼</td>\n",
       "      <td>1478.833</td>\n",
       "      <td>29794.894</td>\n",
       "      <td>28316.061</td>\n",
       "    </tr>\n",
       "    <tr>\n",
       "      <th>...</th>\n",
       "      <td>...</td>\n",
       "      <td>...</td>\n",
       "      <td>...</td>\n",
       "      <td>...</td>\n",
       "    </tr>\n",
       "    <tr>\n",
       "      <th>63</th>\n",
       "      <td>바지락</td>\n",
       "      <td>44599.017</td>\n",
       "      <td>0.000</td>\n",
       "      <td>-44599.017</td>\n",
       "    </tr>\n",
       "    <tr>\n",
       "      <th>31</th>\n",
       "      <td>꽃게</td>\n",
       "      <td>60971.195</td>\n",
       "      <td>5418.514</td>\n",
       "      <td>-55552.681</td>\n",
       "    </tr>\n",
       "    <tr>\n",
       "      <th>27</th>\n",
       "      <td>기타</td>\n",
       "      <td>158169.906</td>\n",
       "      <td>73960.888</td>\n",
       "      <td>-84209.018</td>\n",
       "    </tr>\n",
       "    <tr>\n",
       "      <th>127</th>\n",
       "      <td>조기</td>\n",
       "      <td>98510.747</td>\n",
       "      <td>52.674</td>\n",
       "      <td>-98458.073</td>\n",
       "    </tr>\n",
       "    <tr>\n",
       "      <th>32</th>\n",
       "      <td>낙지</td>\n",
       "      <td>226419.665</td>\n",
       "      <td>0.000</td>\n",
       "      <td>-226419.665</td>\n",
       "    </tr>\n",
       "  </tbody>\n",
       "</table>\n",
       "<p>167 rows × 4 columns</p>\n",
       "</div>"
      ],
      "text/plain": [
       "     수산물          수입          수출        무역수지\n",
       "28     김     276.615  139377.849  139101.234\n",
       "56    명태    5876.522  128797.853  122921.331\n",
       "48    대구    2980.957   64479.232   61498.275\n",
       "78    삼치      60.038   34821.640   34761.602\n",
       "159   해삼    1478.833   29794.894   28316.061\n",
       "..   ...         ...         ...         ...\n",
       "63   바지락   44599.017       0.000  -44599.017\n",
       "31    꽃게   60971.195    5418.514  -55552.681\n",
       "27    기타  158169.906   73960.888  -84209.018\n",
       "127   조기   98510.747      52.674  -98458.073\n",
       "32    낙지  226419.665       0.000 -226419.665\n",
       "\n",
       "[167 rows x 4 columns]"
      ]
     },
     "execution_count": 197,
     "metadata": {},
     "output_type": "execute_result"
    }
   ],
   "source": [
    "seafoodItemList(nation = '중국')"
   ]
  },
  {
   "cell_type": "markdown",
   "id": "5ecdc9f3",
   "metadata": {},
   "source": [
    "### 막대그래프 그리기"
   ]
  },
  {
   "cell_type": "code",
   "execution_count": 202,
   "id": "dbbe8248",
   "metadata": {},
   "outputs": [
    {
     "name": "stdout",
     "output_type": "stream",
     "text": [
      "0번 인덱스의 원소는 127675.233입니다.\n",
      "1번 인덱스의 원소는 113702.92입니다.\n",
      "2번 인덱스의 원소는 42662.087입니다.\n",
      "3번 인덱스의 원소는 31125.801입니다.\n",
      "4번 인덱스의 원소는 22227.35입니다.\n",
      "5번 인덱스의 원소는 21255.674입니다.\n",
      "6번 인덱스의 원소는 19082.431입니다.\n",
      "7번 인덱스의 원소는 17493.784입니다.\n",
      "8번 인덱스의 원소는 17428.566입니다.\n",
      "9번 인덱스의 원소는 17113.017입니다.\n"
     ]
    }
   ],
   "source": [
    "for i, v in enumerate(top10['무역수지']):\n",
    "    print(f'{i}번 인덱스의 원소는 {v}입니다.')"
   ]
  },
  {
   "cell_type": "code",
   "execution_count": 206,
   "id": "3964cce7",
   "metadata": {},
   "outputs": [
    {
     "data": {
      "image/png": "[encoded data removed]",
      "text/plain": [
       "<Figure size 600x600 with 1 Axes>"
      ]
     },
     "metadata": {},
     "output_type": "display_data"
    }
   ],
   "source": [
    "# japan의 처음 10행을 top10에 할당하고 막대그래프를 그립니다.\n",
    "top10 = japan.head(n = 10)\n",
    "\n",
    "# [힌트] sns.barplot() 함수를 사용하세요.\n",
    "# x축에 수산물, y축에 무역수지를 지정합니다.\n",
    "sns.barplot(data = top10, x = '수산물', y = '무역수지')\n",
    "\n",
    "# 그래프 제목을 '수출 상위 10위 수산물 목록'으로 지정합니다.\n",
    "plt.title(label = '수출 상위 10위 수산물 목록')\n",
    "\n",
    "# x축 눈금명을 45도 회전시킵니다.\n",
    "plt.xticks(rotation = 45)\n",
    "\n",
    "# 막대 위에 무역수지를 반올림하여 정수만 남긴 수를 텍스트로 추가합니다.\n",
    "for i, v in enumerate(top10['무역수지']):\n",
    "    plt.text(x = i, y = v, s = int(round(v, 0)), ha = 'center', va = 'bottom');"
   ]
  },
  {
   "cell_type": "code",
   "execution_count": 210,
   "id": "811a22d4",
   "metadata": {},
   "outputs": [
    {
     "data": {
      "application/vnd.jupyter.widget-view+json": {
       "model_id": "7a1afb0a6a9d4decbb1239707fee544a",
       "version_major": 2,
       "version_minor": 0
      },
      "text/plain": [
       "interactive(children=(Dropdown(description='name', options=('RdBu', 'RdGy', 'PRGn', 'PiYG', 'BrBG', 'RdYlBu', …"
      ]
     },
     "metadata": {},
     "output_type": "display_data"
    }
   ],
   "source": [
    "# Color Brewer: 'sequential', 'diverging', and 'qualitative'\n",
    "sns.choose_colorbrewer_palette(data_type = 'diverging');"
   ]
  },
  {
   "cell_type": "code",
   "execution_count": 208,
   "id": "ccbf3f69",
   "metadata": {},
   "outputs": [
    {
     "data": {
      "image/png": "[encoded data removed]",
      "text/plain": [
       "<Figure size 600x600 with 1 Axes>"
      ]
     },
     "metadata": {},
     "output_type": "display_data"
    }
   ],
   "source": [
    "# japan의 마지막 10행을 btm10에 할당하고 막대그래프를 그립니다.\n",
    "btm10 = japan.tail(n = 10)\n",
    "\n",
    "# [힌트] sns.barplot() 함수를 사용하세요.\n",
    "# x축에 수산물, y축에 무역수지를 지정합니다.\n",
    "sns.barplot(data = btm10, x = '수산물', y = '무역수지', palette = 'Spectral')\n",
    "\n",
    "# 그래프 제목을 '수입 상위 10위 수산물 목록'으로 지정합니다.\n",
    "plt.title(label = '수입 상위 10위 수산물 목록')\n",
    "\n",
    "# x축 눈금명을 45도 회전시킵니다.\n",
    "plt.xticks(rotation = 45)\n",
    "\n",
    "# 막대 아래에 무역수지를 반올림하여 정수만 남긴 수를 텍스트로 추가합니다.\n",
    "for i, v in enumerate(btm10['무역수지']):\n",
    "    plt.text(x = i, y = v, s = int(round(v, 0)), ha = 'center', va = 'top');"
   ]
  },
  {
   "cell_type": "markdown",
   "id": "e4cf499e",
   "metadata": {},
   "source": [
    "## End of Document"
   ]
  }
 ],
 "metadata": {
  "kernelspec": {
   "display_name": "Python 3 (ipykernel)",
   "language": "python",
   "name": "python3"
  },
  "language_info": {
   "codemirror_mode": {
    "name": "ipython",
    "version": 3
   },
   "file_extension": ".py",
   "mimetype": "text/x-python",
   "name": "python",
   "nbconvert_exporter": "python",
   "pygments_lexer": "ipython3",
   "version": "3.10.7"
  },
  "toc": {
   "base_numbering": 1,
   "nav_menu": {},
   "number_sections": false,
   "sideBar": true,
   "skip_h1_title": false,
   "title_cell": "Table of Contents",
   "title_sidebar": "Contents",
   "toc_cell": false,
   "toc_position": {},
   "toc_section_display": true,
   "toc_window_display": false
  },
  "varInspector": {
   "cols": {
    "lenName": 16,
    "lenType": 16,
    "lenVar": 40
   },
   "kernels_config": {
    "python": {
     "delete_cmd_postfix": "",
     "delete_cmd_prefix": "del ",
     "library": "var_list.py",
     "varRefreshCmd": "print(var_dic_list())"
    },
    "r": {
     "delete_cmd_postfix": ") ",
     "delete_cmd_prefix": "rm(",
     "library": "var_list.r",
     "varRefreshCmd": "cat(var_dic_list()) "
    }
   },
   "types_to_exclude": [
    "module",
    "function",
    "builtin_function_or_method",
    "instance",
    "_Feature"
   ],
   "window_display": false
  }
 },
 "nbformat": 4,
 "nbformat_minor": 5
}
