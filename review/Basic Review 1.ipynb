{
 "cells": [
  {
   "cell_type": "markdown",
   "id": "dde8d412",
   "metadata": {},
   "source": [
    "## 공공데이터 실습: 국가별 수산물 수출입 현황 (2021년)\n",
    "\n",
    "- 아래 링크를 읽고 데이터프레임을 생성합니다.\n",
    "  - https://bit.ly/Seafood_Trade_2021yr (구분자: ',', 인코딩방식: 'UTF-8')\n",
    "  \n",
    "  \n",
    "- 데이터 전처리를 실습합니다."
   ]
  },
  {
   "cell_type": "markdown",
   "id": "d844785c",
   "metadata": {},
   "source": [
    "### 실습 데이터셋 안내\n",
    "\n",
    "- 2021년 1~12월에 전세계 165여 개 국가와 수산물 수출입 내역입니다.<br><br>\n",
    "\n",
    "- 변수(열)에 대한 간단한 설명입니다.\n",
    "  - ymonth: 거래년월\n",
    "  - nation: 거래국가\n",
    "  - itemNm: 거래품목(수산물)\n",
    "  - imxprt: 수출/수입 구분\n",
    "  - weight: 거래중량(kg)\n",
    "  - dollar: 거래금액(달러)<br><br>\n",
    "\n",
    "- 실습 데이터셋을 미리보기 합니다.\n",
    "<img src=\"https://raw.githubusercontent.com/HelloDataScience/Images/main/Seafood%20Preview%202021.png\" align=\"left\" width=\"400\">"
   ]
  },
  {
   "cell_type": "markdown",
   "id": "3f40ad22",
   "metadata": {},
   "source": [
    "### 실습 데이터셋 준비"
   ]
  },
  {
   "cell_type": "raw",
   "id": "cd3cd596",
   "metadata": {},
   "source": [
    "# 관련 라이브러리를 설치합니다.\n",
    "!pip install requests"
   ]
  },
  {
   "cell_type": "code",
   "execution_count": null,
   "id": "b387b6b6",
   "metadata": {},
   "outputs": [],
   "source": [
    "# 관련 라이브러리를 호출합니다.\n",
    "import os\n",
    "import chardet\n",
    "import requests\n",
    "import numpy as np\n",
    "import pandas as pd\n",
    "from scipy import stats"
   ]
  },
  {
   "cell_type": "code",
   "execution_count": null,
   "id": "04b2f80a",
   "metadata": {},
   "outputs": [],
   "source": [
    "# 온라인으로 공유 중인 csv 파일 주소를 URL1에 할당합니다.\n",
    "URL1 = 'https://bit.ly/Seafood_Trade_2021yr'"
   ]
  },
  {
   "cell_type": "code",
   "execution_count": null,
   "id": "2d02dab4",
   "metadata": {},
   "outputs": [],
   "source": [
    "# URL1에 있는 텍스트를 내려받습니다.(HTTP Requests)\n",
    "# [힌트] requests.get() 함수를 사용하세요.\n",
    "res = "
   ]
  },
  {
   "cell_type": "code",
   "execution_count": null,
   "id": "3e38bcc5",
   "metadata": {},
   "outputs": [],
   "source": [
    "# res에서 바이너리 텍스트의 일부를 출력합니다.\n",
    "# [힌트] content 속성을 사용하세요.\n",
    "res."
   ]
  },
  {
   "cell_type": "code",
   "execution_count": null,
   "id": "afb5643a",
   "metadata": {},
   "outputs": [],
   "source": [
    "# 바이너리 텍스트의 인코딩 방식을 확인합니다.\n",
    "# [힌트] chardet.detect() 함수를 사용하세요.\n",
    "chardet."
   ]
  },
  {
   "cell_type": "code",
   "execution_count": null,
   "id": "7a40dc11",
   "metadata": {},
   "outputs": [],
   "source": [
    "# URL1을 읽고, 데이터프레임 sfd를 생성합니다.\n",
    "sfd = "
   ]
  },
  {
   "cell_type": "code",
   "execution_count": null,
   "id": "b34ac766",
   "metadata": {},
   "outputs": [],
   "source": [
    "# sfd의 정보를 확인합니다.\n",
    "# [힌트] info() 함수를 사용하세요.\n",
    "sfd."
   ]
  },
  {
   "cell_type": "code",
   "execution_count": null,
   "id": "66413e2b",
   "metadata": {},
   "outputs": [],
   "source": [
    "# sfd의 처음 5행을 출력합니다.\n",
    "# [힌트] head() 함수를 사용하세요.\n",
    "sfd."
   ]
  },
  {
   "cell_type": "code",
   "execution_count": null,
   "id": "b01559d8",
   "metadata": {},
   "outputs": [],
   "source": [
    "# sfd의 마지막 5행을 출력합니다.\n",
    "# [힌트] tail() 함수를 사용하세요.\n",
    "sfd."
   ]
  },
  {
   "cell_type": "markdown",
   "id": "5aac4c94",
   "metadata": {},
   "source": [
    "### 실습 데이터셋 전처리"
   ]
  },
  {
   "cell_type": "code",
   "execution_count": null,
   "id": "35948017",
   "metadata": {},
   "outputs": [],
   "source": [
    "# ymonth의 자료형을 문자열로 변환하고 ymonth에 재할당합니다. \n",
    "# [힌트] astype() 함수를 사용하세요.\n",
    "sfd['ymonth'] = "
   ]
  },
  {
   "cell_type": "code",
   "execution_count": null,
   "id": "d982ac5e",
   "metadata": {},
   "outputs": [],
   "source": [
    "# dollar를 1000으로 나눈 결과를 dollar에 재할당합니다.\n",
    "sfd['dollar'] = "
   ]
  },
  {
   "cell_type": "code",
   "execution_count": null,
   "id": "1ab7c7d6",
   "metadata": {},
   "outputs": [],
   "source": [
    "# sfd의 수치형(정수형 또는 실수형) 변수에 대한 기술통계량을 확인합니다.\n",
    "# [힌트] describe() 함수를 사용하세요.\n",
    "sfd."
   ]
  },
  {
   "cell_type": "code",
   "execution_count": null,
   "id": "9e2fda8a",
   "metadata": {},
   "outputs": [],
   "source": [
    "# sfd의 범주형 변수에 대한 기술통계량을 확인합니다.\n",
    "sfd."
   ]
  },
  {
   "cell_type": "code",
   "execution_count": null,
   "id": "613f92e9",
   "metadata": {},
   "outputs": [],
   "source": [
    "# nation의 빈도수를 확인합니다.\n",
    "# [힌트] value_counts() 함수를 사용하세요.\n",
    "sfd['nation']."
   ]
  },
  {
   "cell_type": "markdown",
   "id": "1d73330c",
   "metadata": {},
   "source": [
    "### 국가별 수출입금액을 합산하고 무역수지 흑자 상위 국가 확인"
   ]
  },
  {
   "cell_type": "code",
   "execution_count": null,
   "id": "1cd5b1b6",
   "metadata": {},
   "outputs": [],
   "source": [
    "# 아래 조건을 만족하는 피벗 테이블을 trade에 할당합니다.\n",
    "# [힌트] pd.pivot_table() 함수를 사용하세요.\n",
    "# 데이터(data)는 sfd, 값(values)은 dollar, 행이름(index)은 nation, \n",
    "# 열이름(columns)은 imxprt, 집계함수는 np.sum을 지정하세요.\n",
    "trade = pd.pivot_table()"
   ]
  },
  {
   "cell_type": "code",
   "execution_count": null,
   "id": "705f0d79",
   "metadata": {},
   "outputs": [],
   "source": [
    "# trade의 행 개수를 출력합니다.\n",
    "# [힌트] shape 속성 결과에 0번 인덱스 원소를 선택하세요.\n",
    "trade."
   ]
  },
  {
   "cell_type": "code",
   "execution_count": null,
   "id": "0c6945a3",
   "metadata": {},
   "outputs": [],
   "source": [
    "# trade의 처음 5행을 출력합니다.\n",
    "trade."
   ]
  },
  {
   "cell_type": "code",
   "execution_count": null,
   "id": "7c49ba7f",
   "metadata": {},
   "outputs": [],
   "source": [
    "# trade에 있는 결측값을 0으로 대체하고 trade에 재할당합니다.\n",
    "# [힌트] fillna() 함수를 사용하세요.\n",
    "trade = "
   ]
  },
  {
   "cell_type": "code",
   "execution_count": null,
   "id": "7b5cb4dd",
   "metadata": {},
   "outputs": [],
   "source": [
    "# trade의 인덱스를 출력합니다.\n",
    "# [힌트] index 속성을 사용하세요.\n",
    "trade."
   ]
  },
  {
   "cell_type": "code",
   "execution_count": null,
   "id": "eb9c3ec2",
   "metadata": {},
   "outputs": [],
   "source": [
    "# trade의 인덱스 네임을 '국가'로 변경합니다.\n",
    "# [힌트] index.name 속성을 사용하세요.\n",
    "trade."
   ]
  },
  {
   "cell_type": "code",
   "execution_count": null,
   "id": "59c8ffe4",
   "metadata": {},
   "outputs": [],
   "source": [
    "# trade의 열이름을 출력합니다.\n",
    "# [힌트] columns 속성을 사용하세요.\n",
    "trade."
   ]
  },
  {
   "cell_type": "code",
   "execution_count": null,
   "id": "94874c93",
   "metadata": {},
   "outputs": [],
   "source": [
    "# trade의 열이름 네임에 빈 문자열을 지정합니다.\n",
    "# [힌트] columns.name 속성을 사용하세요.\n",
    "trade."
   ]
  },
  {
   "cell_type": "code",
   "execution_count": null,
   "id": "30b5504d",
   "metadata": {},
   "outputs": [],
   "source": [
    "# trade의 인덱스를 초기화합니다.\n",
    "# [힌트] reset_index() 함수를 사용하세요.\n",
    "# [참고] 기존 인덱스를 열로 추가하려면 drop = True를 추가하지 않습니다.\n",
    "trade = "
   ]
  },
  {
   "cell_type": "code",
   "execution_count": null,
   "id": "b78efb77",
   "metadata": {},
   "outputs": [],
   "source": [
    "# trade의 처음 5행을 출력합니다.\n",
    "trade."
   ]
  },
  {
   "cell_type": "code",
   "execution_count": null,
   "id": "0c19ea88",
   "metadata": {},
   "outputs": [],
   "source": [
    "# trade의 수출에서 수입을 뺀 무역수지를 생성합니다.\n",
    "trade['무역수지'] = "
   ]
  },
  {
   "cell_type": "code",
   "execution_count": null,
   "id": "3d250bb4",
   "metadata": {},
   "outputs": [],
   "source": [
    "# trade를 무역수지로 내림차순 정렬하고 trade에 재할당합니다.\n",
    "# [힌트] sort_values() 함수를 사용하세요.\n",
    "trade = "
   ]
  },
  {
   "cell_type": "code",
   "execution_count": null,
   "id": "5ff82669",
   "metadata": {},
   "outputs": [],
   "source": [
    "# trade의 처음 10행을 출력합니다.(무역수지 흑자 국가)\n",
    "trade."
   ]
  },
  {
   "cell_type": "code",
   "execution_count": null,
   "id": "ee9b7ad0",
   "metadata": {
    "scrolled": true
   },
   "outputs": [],
   "source": [
    "# trade의 마지막 10행을 출력합니다.(무역수지 적자 국가)\n",
    "trade."
   ]
  },
  {
   "cell_type": "markdown",
   "id": "238c9e01",
   "metadata": {},
   "source": [
    "### 통계청 1인당 국민총소득 데이터 (2021년)\n",
    "\n",
    "- 아래 링크를 읽고 데이터프레임을 생성합니다.\n",
    "  - url: https://bit.ly/GDP_Per_Capita_2021 (구분자: ',', 인코딩방식: 'EUC-KR')\n",
    "  \n",
    "  \n",
    "- 데이터 전처리를 실행하고, trade와 병합합니다."
   ]
  },
  {
   "cell_type": "code",
   "execution_count": null,
   "id": "a56d953d",
   "metadata": {},
   "outputs": [],
   "source": [
    "# 위 링크를 URL2에 할당합니다.\n",
    "URL2 = 'https://bit.ly/GDP_Per_Capita_2021'"
   ]
  },
  {
   "cell_type": "code",
   "execution_count": null,
   "id": "13aaf635",
   "metadata": {},
   "outputs": [],
   "source": [
    "# URL2에 있는 텍스트를 내려받습니다.(HTTP Requests)\n",
    "res = "
   ]
  },
  {
   "cell_type": "code",
   "execution_count": null,
   "id": "cef212dc",
   "metadata": {},
   "outputs": [],
   "source": [
    "# res에서 바이너리 텍스트의 일부를 출력합니다.\n",
    "res."
   ]
  },
  {
   "cell_type": "code",
   "execution_count": null,
   "id": "a0526293",
   "metadata": {},
   "outputs": [],
   "source": [
    "# 바이너리 텍스트의 인코딩 방식을 확인합니다.\n",
    "chardet."
   ]
  },
  {
   "cell_type": "code",
   "execution_count": null,
   "id": "eb9b71c1",
   "metadata": {},
   "outputs": [],
   "source": [
    "# URL2를 읽고, 데이터프레임 gdp를 생성합니다.\n",
    "gdp = "
   ]
  },
  {
   "cell_type": "code",
   "execution_count": null,
   "id": "6505b476",
   "metadata": {},
   "outputs": [],
   "source": [
    "# gdp의 정보를 확인합니다.\n",
    "gdp."
   ]
  },
  {
   "cell_type": "code",
   "execution_count": null,
   "id": "19940452",
   "metadata": {},
   "outputs": [],
   "source": [
    "# gdp의 처음 5행을 출력합니다.\n",
    "gdp."
   ]
  },
  {
   "cell_type": "code",
   "execution_count": null,
   "id": "8f63fad5",
   "metadata": {},
   "outputs": [],
   "source": [
    "# gdp의 열이름을 출력합니다.\n",
    "gdp."
   ]
  },
  {
   "cell_type": "code",
   "execution_count": null,
   "id": "bf4df42e",
   "metadata": {},
   "outputs": [],
   "source": [
    "# gdp에서 '2019', '2020' 열을 삭제합니다.\n",
    "# [힌트] drop() 함수를 사용하세요.\n",
    "gdp = "
   ]
  },
  {
   "cell_type": "code",
   "execution_count": null,
   "id": "a63d9b59",
   "metadata": {},
   "outputs": [],
   "source": [
    "# gdp에서 '2021'의 이름을 '인당GDP'로 변경합니다.\n",
    "# [힌트] rename() 함수를 사용하세요.\n",
    "gdp = "
   ]
  },
  {
   "cell_type": "code",
   "execution_count": null,
   "id": "737e534f",
   "metadata": {},
   "outputs": [],
   "source": [
    "# 인당GDP에서 원소가 '-'이면 결측값(np.nan)으로 변경합니다.\n",
    "# [힌트] np.where()와 eq() 함수를 사용하세요.\n",
    "gdp['인당GDP'] = "
   ]
  },
  {
   "cell_type": "code",
   "execution_count": null,
   "id": "8825cb0d",
   "metadata": {},
   "outputs": [],
   "source": [
    "# gdp의 열별 결측값 개수를 확인합니다.\n",
    "# [힌트] isna()와 sum() 함수를 사용하세요.\n",
    "gdp."
   ]
  },
  {
   "cell_type": "code",
   "execution_count": null,
   "id": "36e41557",
   "metadata": {},
   "outputs": [],
   "source": [
    "# gdp의 처음 5행을 출력합니다.\n",
    "gdp."
   ]
  },
  {
   "cell_type": "code",
   "execution_count": null,
   "id": "326b3ccb",
   "metadata": {},
   "outputs": [],
   "source": [
    "# gdp의 행 개수를 출력합니다.\n",
    "gdp."
   ]
  },
  {
   "cell_type": "markdown",
   "id": "826a22d8",
   "metadata": {},
   "source": [
    "### 데이터 병합\n",
    "\n",
    "두 데이터프레임을 좌우로 병합할 때 기준이 되는 열을 외래키라고 합니다.<br>\n",
    "두 외래키에서 일치하는 원소가 없으면 병합했을 때 행 개수가 0일 수 있습니다.<br>\n",
    "병합 방법은 내부병합, 외부병합, 왼쪽병합 등이 있습니다.<br>\n",
    "실습 데이터셋 오른쪽에 새로운 열을 추가할 때 왼쪽병합을 주로 사용합니다."
   ]
  },
  {
   "cell_type": "code",
   "execution_count": null,
   "id": "2d545ca3",
   "metadata": {
    "scrolled": true
   },
   "outputs": [],
   "source": [
    "# 왼쪽 외래키에 있고, 오른쪽 외래키에 없는 원소를 확인합니다.\n",
    "# [힌트] set() 함수를 사용하여 시리즈를 집합으로 변환하세요.\n",
    "# 두 집합으로 차집합을 실행하세요.\n",
    "set() - set()"
   ]
  },
  {
   "cell_type": "code",
   "execution_count": null,
   "id": "4d97f72e",
   "metadata": {},
   "outputs": [],
   "source": [
    "# trade와 gdp를 왼쪽병합하고, trade에 재할당하세요.\n",
    "# [힌트] pd.merge() 함수를 사용하세요.\n",
    "# 왼쪽병합은 how 매개변수에 'left'를 지정합니다.\n",
    "# 외래키는 on 매개변수에 열이름을 문자열로 지정합니다.\n",
    "# [참고] 외래키 열이름이 다르면 left_on, right_on 매개변수에 각각 지정해야 합니다.\n",
    "trade = "
   ]
  },
  {
   "cell_type": "code",
   "execution_count": null,
   "id": "5dbeae44",
   "metadata": {},
   "outputs": [],
   "source": [
    "# trade의 처음 10행을 출력합니다.\n",
    "trade."
   ]
  },
  {
   "cell_type": "markdown",
   "id": "bdefd94e",
   "metadata": {},
   "source": [
    "### 이변량 연속형 변수의 상관관계 확인\n",
    "\n",
    "피어슨 상관계수는 두 연속형 변수에 직선의 관계가 있는지 확인할 때 실행합니다.<br>\n",
    "변수의 자료형이 범주형이면 에러를 반환합니다.<br>\n",
    "아울러 변수에 결측값이 포함되어 있어도 에러를 반환합니다."
   ]
  },
  {
   "cell_type": "code",
   "execution_count": null,
   "id": "d5e9b324",
   "metadata": {},
   "outputs": [],
   "source": [
    "# trade의 열별 자료형을 확인합니다.\n",
    "# [힌트] dtypes 속성을 사용하세요.\n",
    "trade.dtypes"
   ]
  },
  {
   "cell_type": "code",
   "execution_count": null,
   "id": "1ff4caf4",
   "metadata": {},
   "outputs": [],
   "source": [
    "# 인당GDP를 실수형으로 변환합니다.\n",
    "# [힌트] astype() 함수를 사용하세요.\n",
    "trade['인당GDP'] = trade['인당GDP'].astype(float)"
   ]
  },
  {
   "cell_type": "code",
   "execution_count": null,
   "id": "fb7e0d49",
   "metadata": {},
   "outputs": [],
   "source": [
    "# trade의 열별 결측값 개수를 확인합니다.\n",
    "# [힌트] isna()와 sum() 함수를 사용하세요.\n",
    "trade.isna().sum()"
   ]
  },
  {
   "cell_type": "code",
   "execution_count": null,
   "id": "1381ec2f",
   "metadata": {
    "scrolled": true
   },
   "outputs": [],
   "source": [
    "# 인당GDP가 결측값인 행을 출력합니다.\n",
    "# [힌트] isna() 함수를 사용하세요.\n",
    "trade[trade['인당GDP'].isna()]"
   ]
  },
  {
   "cell_type": "code",
   "execution_count": null,
   "id": "e496a52e",
   "metadata": {},
   "outputs": [],
   "source": [
    "# trade에서 결측값이 있는 행을 삭제합니다.\n",
    "# [힌트] dropna() 함수를 사용하세요.\n",
    "trade = trade.dropna()"
   ]
  },
  {
   "cell_type": "code",
   "execution_count": null,
   "id": "948a8984",
   "metadata": {},
   "outputs": [],
   "source": [
    "# 무역수지와 인당GDP의 피어슨 상관계수를 확인합니다.\n",
    "# [참고] 피어슨 상관계수는 정규분포하는 데이터의 상관계수를 반환합니다.\n",
    "stats.pearsonr(x = trade['무역수지'], y = trade['인당GDP'])"
   ]
  },
  {
   "cell_type": "code",
   "execution_count": null,
   "id": "82d3391b",
   "metadata": {},
   "outputs": [],
   "source": [
    "# 무역수지와 인당GDP의 스피어만 상관계수를 확인합니다.\n",
    "# [참고] 스피어만 상관계수는 순서형/이산형 데이터의 순위 상관을 반환합니다.\n",
    "stats.spearmanr(a = trade['무역수지'], b = trade['인당GDP'])"
   ]
  },
  {
   "cell_type": "markdown",
   "id": "2b3fd0a7",
   "metadata": {},
   "source": [
    "### 연속형 변수의 구간화(binning)\n",
    "\n",
    "연속형 변수를 기준에 따라 범주형으로 변환하는 것을 구간화(binning)라고 합니다.<br>\n",
    "구간화는 이상치와 비선형 문제를 해결하고, 결측값을 쉽게 처리할 수 있습니다.<br>\n",
    "범주가 2개면 np.where(), 3개 이상이면 np.seelct() 함수를 사용하는 것이 좋습니다."
   ]
  },
  {
   "cell_type": "code",
   "execution_count": null,
   "id": "68ee186f",
   "metadata": {},
   "outputs": [],
   "source": [
    "# 인당GDP의 기술통계량을 확인합니다.\n",
    "# [힌트] describe() 함수를 사용하세요.\n",
    "trade['인당GDP']."
   ]
  },
  {
   "cell_type": "code",
   "execution_count": null,
   "id": "5cfe94b8",
   "metadata": {},
   "outputs": [],
   "source": [
    "# 인당GDP가 23000 이상이면 '선진국', 6500 이상 23000 미만이면 '신흥국', \n",
    "# 6500 미만이면 '개도국'인 원소를 갖는 국가등급 열을 생성합니다.\n",
    "# [힌트] np.select() 함수를 사용하세요.\n",
    "# condlist 매개변수에 조건, choicelist 매개변수에 원소를 리스트로 지정합니다.\n",
    "trade['국가등급'] = "
   ]
  },
  {
   "cell_type": "code",
   "execution_count": null,
   "id": "114a6f33",
   "metadata": {},
   "outputs": [],
   "source": [
    "# 국가등급 원소별 빈도수를 확인합니다.\n",
    "# [힌트] value_counts() 함수를 사용하세요.\n",
    "trade['국가등급']."
   ]
  },
  {
   "cell_type": "code",
   "execution_count": null,
   "id": "bee77d2f",
   "metadata": {},
   "outputs": [],
   "source": [
    "# 국가등급별 무역수지 평균을 확인합니다.\n",
    "# [힌트] groupby()와 mean() 함수를 사용하세요.\n",
    "trade."
   ]
  },
  {
   "cell_type": "markdown",
   "id": "82caf9de",
   "metadata": {},
   "source": [
    "### 데이터 시각화"
   ]
  },
  {
   "cell_type": "code",
   "execution_count": null,
   "id": "2ee1be23",
   "metadata": {},
   "outputs": [],
   "source": [
    "# 관련 라이브러리를 호출합니다.\n",
    "import seaborn as sns\n",
    "import matplotlib.pyplot as plt\n",
    "\n",
    "# 그래픽 파라미터를 설정합니다.\n",
    "plt.rc(group = 'figure', figsize = (6, 6), dpi = 100)\n",
    "plt.rc(group = 'font', family = 'Gamja Flower', size = 10)\n",
    "plt.rc(group = 'axes', unicode_minus = False)\n",
    "plt.rc(group = 'legend', frameon = True, fc = '1', ec = '0')"
   ]
  },
  {
   "cell_type": "code",
   "execution_count": null,
   "id": "e72b677f",
   "metadata": {},
   "outputs": [],
   "source": [
    "# 인당GDP와 무역수지의 산점도를 그립니다.\n",
    "# [힌트] sns.scatterplot() 함수를 사용하세요.\n",
    "# hue 매개변수에 범주형 변수명을 지정하면 점의 채우기 색을 다르게 지정합니다.\n",
    "# 점의 크기는 s 매개변수에 정수로 지정합니다.(기본값: 50)\n",
    "sns.scatterplot()\n",
    "\n",
    "# 범례의 위치를 오른쪽 아래로 지정합니다.\n",
    "plt.legend();"
   ]
  },
  {
   "cell_type": "markdown",
   "id": "ba268a7b",
   "metadata": {},
   "source": [
    "### 무역수지 흑자 1위 국가의 수출입 수산물 목록 확인"
   ]
  },
  {
   "cell_type": "code",
   "execution_count": null,
   "id": "092eaad4",
   "metadata": {},
   "outputs": [],
   "source": [
    "# sfd에서 nation이 '일본'인 행을 데이터프레임 japan에 할당합니다.\n",
    "# [힌트] eq() 함수를 사용하세요.\n",
    "japan = "
   ]
  },
  {
   "cell_type": "code",
   "execution_count": null,
   "id": "6f53d82e",
   "metadata": {},
   "outputs": [],
   "source": [
    "# japan의 정보를 확인합니다.\n",
    "japan."
   ]
  },
  {
   "cell_type": "code",
   "execution_count": null,
   "id": "d91e714e",
   "metadata": {},
   "outputs": [],
   "source": [
    "# 아래 조건을 만족하는 피벗 테이블을 japan에 재할당합니다.\n",
    "# [힌트] pd.pivot_table() 함수를 사용하세요.\n",
    "# 데이터(data)는 japan, 값(values)은 dollar, \n",
    "# 행이름(index)은 itemNm, 열이름(columns)은 imxprt, \n",
    "# 집계함수는 np.sum을 지정하세요.\n",
    "japan = pd.pivot_table()"
   ]
  },
  {
   "cell_type": "code",
   "execution_count": null,
   "id": "fa62704b",
   "metadata": {},
   "outputs": [],
   "source": [
    "# japan의 처음 10행을 출력합니다.\n",
    "japan."
   ]
  },
  {
   "cell_type": "code",
   "execution_count": null,
   "id": "29f8980f",
   "metadata": {},
   "outputs": [],
   "source": [
    "# japan에 있는 결측값을 0으로 대체하고 japan에 재할당합니다.\n",
    "# [힌트] fillna() 함수를 사용하세요.\n",
    "japan = "
   ]
  },
  {
   "cell_type": "code",
   "execution_count": null,
   "id": "a3f2a1e4",
   "metadata": {},
   "outputs": [],
   "source": [
    "# japan의 인덱스 네임을 '수산물'로 변경합니다.\n",
    "# [힌트] index.name 속성을 사용하세요.\n",
    "japan."
   ]
  },
  {
   "cell_type": "code",
   "execution_count": null,
   "id": "413cd4e2",
   "metadata": {},
   "outputs": [],
   "source": [
    "# japan의 열이름 네임에 빈 문자열을 지정합니다.\n",
    "# [힌트] columns.name 속성을 사용하세요.\n",
    "japan."
   ]
  },
  {
   "cell_type": "code",
   "execution_count": null,
   "id": "c63da60c",
   "metadata": {},
   "outputs": [],
   "source": [
    "# japan의 인덱스를 초기화합니다.\n",
    "# [힌트] reset_index() 함수를 사용하세요.\n",
    "# [참고] 기존 인덱스를 열로 추가하려면 drop = True를 추가하지 않습니다.\n",
    "japan = "
   ]
  },
  {
   "cell_type": "code",
   "execution_count": null,
   "id": "b5c9dccb",
   "metadata": {},
   "outputs": [],
   "source": [
    "# japan의 처음 5행을 출력합니다.\n",
    "japan."
   ]
  },
  {
   "cell_type": "code",
   "execution_count": null,
   "id": "6b5e1a42",
   "metadata": {},
   "outputs": [],
   "source": [
    "# japan의 수출에서 수입을 뺀 무역수지를 생성합니다.\n",
    "japan['무역수지'] = "
   ]
  },
  {
   "cell_type": "code",
   "execution_count": null,
   "id": "cb025c25",
   "metadata": {},
   "outputs": [],
   "source": [
    "# japan을 무역수지로 내림차순 정렬하고 japan에 재할당합니다.\n",
    "# [힌트] sort_values() 함수를 사용하세요.\n",
    "japan = "
   ]
  },
  {
   "cell_type": "code",
   "execution_count": null,
   "id": "dad112ad",
   "metadata": {},
   "outputs": [],
   "source": [
    "# japan의 처음 10행을 출력합니다.(무역수지 흑자 수산물)\n",
    "japan."
   ]
  },
  {
   "cell_type": "code",
   "execution_count": null,
   "id": "16c46f11",
   "metadata": {
    "scrolled": true
   },
   "outputs": [],
   "source": [
    "# japan의 마지막 10행을 출력합니다.(무역수지 적자 수산물)\n",
    "japan."
   ]
  },
  {
   "cell_type": "markdown",
   "id": "a9d3a2cf",
   "metadata": {},
   "source": [
    "### [보너스]"
   ]
  },
  {
   "cell_type": "code",
   "execution_count": null,
   "id": "34f84937",
   "metadata": {},
   "outputs": [],
   "source": [
    "# 국가명을 지정하면 수출입 수산물 목록을 반환하는 함수를 생성합니다.\n",
    "# [참고] 함수에서 정의하지 않은 인수는 글로벌 변수를 사용합니다.(ex: sfd)\n",
    "# [주의] 글로벌 변수 목록에 없으면 에러를 반환합니다.\n",
    "def seafoodItemList(nation):\n",
    "    items = sfd[sfd['nation'].eq(nation)]\n",
    "    items = pd.pivot_table(\n",
    "        data = items, \n",
    "        values = 'dollar', \n",
    "        index = 'itemNm', \n",
    "        columns = 'imxprt', \n",
    "        aggfunc = np.sum\n",
    "    )\n",
    "    items = items.fillna(value = 0)\n",
    "    items.index.name = '수산물'\n",
    "    items.columns.name = ''\n",
    "    items = items.reset_index()\n",
    "    items['무역수지'] = items['수출'] - items['수입']\n",
    "    items = items.sort_values(by = ['무역수지'], ascending = False)\n",
    "    return items"
   ]
  },
  {
   "cell_type": "code",
   "execution_count": null,
   "id": "d2ebaa94",
   "metadata": {},
   "outputs": [],
   "source": [
    "# 일본과의 수산물 무역수지 데이터를 japan에 할당합니다.\n",
    "japan = seafoodItemList(nation = '일본')"
   ]
  },
  {
   "cell_type": "code",
   "execution_count": null,
   "id": "f54f8ffc",
   "metadata": {},
   "outputs": [],
   "source": [
    "# japan을 출력합니다.\n",
    "japan"
   ]
  },
  {
   "cell_type": "markdown",
   "id": "5ecdc9f3",
   "metadata": {},
   "source": [
    "### 막대그래프 그리기"
   ]
  },
  {
   "cell_type": "code",
   "execution_count": null,
   "id": "3964cce7",
   "metadata": {},
   "outputs": [],
   "source": [
    "# japan의 처음 10행을 top10에 할당하고 막대그래프를 그립니다.\n",
    "top10 = \n",
    "\n",
    "# [힌트] sns.barplot() 함수를 사용하세요.\n",
    "# x축에 수산물, y축에 무역수지를 지정합니다.\n",
    "sns.barplot()\n",
    "\n",
    "# 그래프 제목을 '수출 상위 10위 수산물 목록'으로 지정합니다.\n",
    "plt.title()\n",
    "\n",
    "# x축 눈금명을 45도 회전시킵니다.\n",
    "plt.xticks()\n",
    "\n",
    "# 막대 위에 무역수지를 반올림하여 정수만 남긴 수를 텍스트로 추가합니다.\n",
    "for i, v in enumerate():\n",
    "    plt.text(x = , y = , s = , ha = , va = );"
   ]
  },
  {
   "cell_type": "code",
   "execution_count": null,
   "id": "ccbf3f69",
   "metadata": {},
   "outputs": [],
   "source": [
    "# japan의 마지막 10행을 btm10에 할당하고 막대그래프를 그립니다.\n",
    "btm10 = \n",
    "\n",
    "# [힌트] sns.barplot() 함수를 사용하세요.\n",
    "# x축에 수산물, y축에 무역수지를 지정합니다.\n",
    "sns.barplot()\n",
    "\n",
    "# 그래프 제목을 '수입 상위 10위 수산물 목록'으로 지정합니다.\n",
    "plt.title()\n",
    "\n",
    "# x축 눈금명을 45도 회전시킵니다.\n",
    "plt.xticks()\n",
    "\n",
    "# 막대 아래에 무역수지를 반올림하여 정수만 남긴 수를 텍스트로 추가합니다.\n",
    "for i, v in enumerate():\n",
    "    plt.text(x = , y = , s = , ha = , va = );"
   ]
  },
  {
   "cell_type": "markdown",
   "id": "e4cf499e",
   "metadata": {},
   "source": [
    "## End of Document"
   ]
  }
 ],
 "metadata": {
  "kernelspec": {
   "display_name": "Python 3 (ipykernel)",
   "language": "python",
   "name": "python3"
  },
  "language_info": {
   "codemirror_mode": {
    "name": "ipython",
    "version": 3
   },
   "file_extension": ".py",
   "mimetype": "text/x-python",
   "name": "python",
   "nbconvert_exporter": "python",
   "pygments_lexer": "ipython3",
   "version": "3.10.4"
  },
  "toc": {
   "base_numbering": 1,
   "nav_menu": {},
   "number_sections": false,
   "sideBar": true,
   "skip_h1_title": false,
   "title_cell": "Table of Contents",
   "title_sidebar": "Contents",
   "toc_cell": false,
   "toc_position": {},
   "toc_section_display": true,
   "toc_window_display": false
  },
  "varInspector": {
   "cols": {
    "lenName": 16,
    "lenType": 16,
    "lenVar": 40
   },
   "kernels_config": {
    "python": {
     "delete_cmd_postfix": "",
     "delete_cmd_prefix": "del ",
     "library": "var_list.py",
     "varRefreshCmd": "print(var_dic_list())"
    },
    "r": {
     "delete_cmd_postfix": ") ",
     "delete_cmd_prefix": "rm(",
     "library": "var_list.r",
     "varRefreshCmd": "cat(var_dic_list()) "
    }
   },
   "types_to_exclude": [
    "module",
    "function",
    "builtin_function_or_method",
    "instance",
    "_Feature"
   ],
   "window_display": false
  }
 },
 "nbformat": 4,
 "nbformat_minor": 5
}
