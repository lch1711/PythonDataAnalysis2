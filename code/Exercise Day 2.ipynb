{
 "cells": [
  {
   "cell_type": "markdown",
   "id": "1abe1def",
   "metadata": {},
   "source": [
    "# 연습문제 Day 2"
   ]
  },
  {
   "cell_type": "markdown",
   "id": "10d84883",
   "metadata": {},
   "source": [
    "- 2020년 한국프로야구 타자 스탯 데이터인 xlsx 파일을 읽고, 상관성 분석을 실행합니다.\n",
    "- file : 'KBO_Hitter_2020.xlsx'"
   ]
  },
  {
   "cell_type": "markdown",
   "id": "66228618",
   "metadata": {},
   "source": [
    "## 실습 데이터셋 준비"
   ]
  },
  {
   "cell_type": "code",
   "execution_count": null,
   "id": "b9aabaa2",
   "metadata": {},
   "outputs": [],
   "source": [
    "# 관련 라이브러리를 호출합니다.(os, numpy, pandas)\n"
   ]
  },
  {
   "cell_type": "code",
   "execution_count": null,
   "id": "e39f30c4",
   "metadata": {},
   "outputs": [],
   "source": [
    "# 현재 작업경로를 확인합니다.\n"
   ]
  },
  {
   "cell_type": "code",
   "execution_count": null,
   "id": "8b6a334b",
   "metadata": {},
   "outputs": [],
   "source": [
    "# data 폴더로 작업경로를 변경합니다.\n"
   ]
  },
  {
   "cell_type": "code",
   "execution_count": null,
   "id": "65b32e57",
   "metadata": {},
   "outputs": [],
   "source": [
    "# 작업경로에 포함된 폴더명과 파일명을 출력합니다.\n"
   ]
  },
  {
   "cell_type": "code",
   "execution_count": null,
   "id": "6b9f6d03",
   "metadata": {},
   "outputs": [],
   "source": [
    "# xlsx 파일을 읽고, 데이터프레임 kbo를 생성합니다.\n"
   ]
  },
  {
   "cell_type": "markdown",
   "id": "dce89670",
   "metadata": {},
   "source": [
    "## 정규성 검정"
   ]
  },
  {
   "cell_type": "code",
   "execution_count": null,
   "id": "b6a9aca0",
   "metadata": {},
   "outputs": [],
   "source": [
    "# 관련 라이브러리를 호출합니다.(scipy.stats)\n"
   ]
  },
  {
   "cell_type": "code",
   "execution_count": null,
   "id": "1076bc82",
   "metadata": {},
   "outputs": [],
   "source": [
    "# OPS의 정규성 검정을 실행합니다.\n"
   ]
  },
  {
   "cell_type": "markdown",
   "id": "e64ee035",
   "metadata": {},
   "source": [
    "## 피어슨 상관분석"
   ]
  },
  {
   "cell_type": "code",
   "execution_count": null,
   "id": "494ac534",
   "metadata": {},
   "outputs": [],
   "source": [
    "# 출루율과 OPS의 피어슨 상관분석을 실행하고, 유의확률을 확인합니다.\n"
   ]
  },
  {
   "cell_type": "code",
   "execution_count": null,
   "id": "91f1628f",
   "metadata": {},
   "outputs": [],
   "source": [
    "# 장타율과 OPS의 피어슨 상관분석을 실행하고, 유의확률을 확인합니다.\n"
   ]
  },
  {
   "cell_type": "code",
   "execution_count": null,
   "id": "b25deeea",
   "metadata": {},
   "outputs": [],
   "source": [
    "# 타율과 OPS의 피어슨 상관분석을 실행하고, 유의확률을 확인합니다.\n"
   ]
  },
  {
   "cell_type": "markdown",
   "id": "808adfbf",
   "metadata": {},
   "source": [
    "## t-검정"
   ]
  },
  {
   "cell_type": "code",
   "execution_count": null,
   "id": "eb72611e",
   "metadata": {},
   "outputs": [],
   "source": [
    "# 올스타팀의 범주별 OPS 평균을 갖는 데이터프레임 avg를 생성합니다.\n"
   ]
  },
  {
   "cell_type": "code",
   "execution_count": null,
   "id": "15426f05",
   "metadata": {},
   "outputs": [],
   "source": [
    "# avg의 열이름을 변경합니다.(OPS -> OPS_mean)\n"
   ]
  },
  {
   "cell_type": "code",
   "execution_count": null,
   "id": "60e969f1",
   "metadata": {},
   "outputs": [],
   "source": [
    "# kbo에서 올스타팀과 OPS를 선택하고, avg와 병합하여 mgd를 생성합니다.\n"
   ]
  },
  {
   "cell_type": "code",
   "execution_count": null,
   "id": "a66771fe",
   "metadata": {},
   "outputs": [],
   "source": [
    "# mgd의 OPS와 OPS_mean의 차이로 새로운 파생변수를 생성합니다.\n"
   ]
  },
  {
   "cell_type": "code",
   "execution_count": null,
   "id": "9c7d2206",
   "metadata": {},
   "outputs": [],
   "source": [
    "# mgd의 처음 5행을 출력합니다.\n"
   ]
  },
  {
   "cell_type": "code",
   "execution_count": null,
   "id": "1e2fb63d",
   "metadata": {},
   "outputs": [],
   "source": [
    "# residual의 정규성 검정을 실행합니다.\n"
   ]
  },
  {
   "cell_type": "code",
   "execution_count": null,
   "id": "baa9d5ae",
   "metadata": {},
   "outputs": [],
   "source": [
    "# 등분산성 검정을 위해 범주형 변수 기준으로 샘플 데이터셋을 생성합니다.\n"
   ]
  },
  {
   "cell_type": "code",
   "execution_count": null,
   "id": "75b57b84",
   "metadata": {},
   "outputs": [],
   "source": [
    "# (정규성 가정 만족) 올스타팀의 범주별 OPS의 등분산성 검정을 실행합니다.\n"
   ]
  },
  {
   "cell_type": "code",
   "execution_count": null,
   "id": "c3c10024",
   "metadata": {},
   "outputs": [],
   "source": [
    "# (정규성 가정 만족) t-검정을 실행합니다.(등분산성 검정 결과에 따라 등분산 또는 이분산 t-검정을 실행하세요.)\n"
   ]
  },
  {
   "cell_type": "code",
   "execution_count": null,
   "id": "4a490af7",
   "metadata": {},
   "outputs": [],
   "source": [
    "# (정규성 가정 불만족) 윌콕슨 순위합 검정을 실행합니다.\n"
   ]
  },
  {
   "cell_type": "markdown",
   "id": "56f28914",
   "metadata": {},
   "source": [
    "## End of Document"
   ]
  }
 ],
 "metadata": {
  "kernelspec": {
   "display_name": "Python 3 (ipykernel)",
   "language": "python",
   "name": "python3"
  },
  "language_info": {
   "codemirror_mode": {
    "name": "ipython",
    "version": 3
   },
   "file_extension": ".py",
   "mimetype": "text/x-python",
   "name": "python",
   "nbconvert_exporter": "python",
   "pygments_lexer": "ipython3",
   "version": "3.9.7"
  },
  "toc": {
   "base_numbering": 1,
   "nav_menu": {},
   "number_sections": true,
   "sideBar": true,
   "skip_h1_title": false,
   "title_cell": "Table of Contents",
   "title_sidebar": "Contents",
   "toc_cell": false,
   "toc_position": {},
   "toc_section_display": true,
   "toc_window_display": true
  },
  "varInspector": {
   "cols": {
    "lenName": 16,
    "lenType": 16,
    "lenVar": 40
   },
   "kernels_config": {
    "python": {
     "delete_cmd_postfix": "",
     "delete_cmd_prefix": "del ",
     "library": "var_list.py",
     "varRefreshCmd": "print(var_dic_list())"
    },
    "r": {
     "delete_cmd_postfix": ") ",
     "delete_cmd_prefix": "rm(",
     "library": "var_list.r",
     "varRefreshCmd": "cat(var_dic_list()) "
    }
   },
   "types_to_exclude": [
    "module",
    "function",
    "builtin_function_or_method",
    "instance",
    "_Feature"
   ],
   "window_display": false
  }
 },
 "nbformat": 4,
 "nbformat_minor": 5
}
