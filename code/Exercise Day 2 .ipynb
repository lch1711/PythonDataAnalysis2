{
 "cells": [
  {
   "cell_type": "markdown",
   "id": "1abe1def",
   "metadata": {},
   "source": [
    "# 연습문제 Day 2 모범답안"
   ]
  },
  {
   "cell_type": "markdown",
   "id": "10d84883",
   "metadata": {},
   "source": [
    "- 2021년 한국프로야구 타자 스탯 데이터인 xlsx 파일을 읽고, 상관성 분석을 실행합니다.\n",
    "- file : 'KBO_Hitter_2021.xlsx'"
   ]
  },
  {
   "cell_type": "markdown",
   "id": "66228618",
   "metadata": {},
   "source": [
    "### 실습 데이터셋 준비"
   ]
  },
  {
   "cell_type": "code",
   "execution_count": null,
   "id": "b9aabaa2",
   "metadata": {},
   "outputs": [],
   "source": [
    "# 관련 라이브러리를 호출합니다.\n",
    "import os\n",
    "import numpy as np\n",
    "import pandas as pd\n",
    "from scipy import stats\n",
    "import pingouin as pg"
   ]
  },
  {
   "cell_type": "code",
   "execution_count": null,
   "id": "e39f30c4",
   "metadata": {},
   "outputs": [],
   "source": [
    "# 현재 작업 경로를 확인합니다.\n"
   ]
  },
  {
   "cell_type": "code",
   "execution_count": null,
   "id": "8b6a334b",
   "metadata": {},
   "outputs": [],
   "source": [
    "# data 폴더로 작업 경로를 변경합니다.\n"
   ]
  },
  {
   "cell_type": "code",
   "execution_count": null,
   "id": "65b32e57",
   "metadata": {},
   "outputs": [],
   "source": [
    "# 현재 작업 경로에 포함된 폴더명과 파일명을 출력합니다.\n"
   ]
  },
  {
   "cell_type": "code",
   "execution_count": null,
   "id": "6b9f6d03",
   "metadata": {},
   "outputs": [],
   "source": [
    "# xlsx 파일을 읽고, 데이터프레임 kbo를 생성합니다.\n"
   ]
  },
  {
   "cell_type": "code",
   "execution_count": null,
   "id": "d198535f",
   "metadata": {},
   "outputs": [],
   "source": [
    "# kbo의 정보를 확인합니다.\n"
   ]
  },
  {
   "cell_type": "code",
   "execution_count": null,
   "id": "f107658c",
   "metadata": {},
   "outputs": [],
   "source": [
    "# kbo의 처음 5행을 출력합니다.\n"
   ]
  },
  {
   "cell_type": "markdown",
   "id": "e64ee035",
   "metadata": {},
   "source": [
    "### 피어슨 상관분석"
   ]
  },
  {
   "cell_type": "code",
   "execution_count": null,
   "id": "494ac534",
   "metadata": {},
   "outputs": [],
   "source": [
    "# 출루율과 OPS의 피어슨 상관분석을 실행하고 유의확률을 확인합니다. [pg.corr() 함수]\n"
   ]
  },
  {
   "cell_type": "code",
   "execution_count": null,
   "id": "91f1628f",
   "metadata": {},
   "outputs": [],
   "source": [
    "# 장타율과 OPS의 피어슨 상관분석을 실행하고 유의확률을 확인합니다. [pg.corr() 함수]\n"
   ]
  },
  {
   "cell_type": "code",
   "execution_count": null,
   "id": "b25deeea",
   "metadata": {},
   "outputs": [],
   "source": [
    "# 타율과 OPS의 피어슨 상관분석을 실행하고 유의확률을 확인합니다. [pg.corr() 함수]\n"
   ]
  },
  {
   "cell_type": "markdown",
   "id": "808adfbf",
   "metadata": {},
   "source": [
    "## t-검정: 올스타팀"
   ]
  },
  {
   "cell_type": "code",
   "execution_count": null,
   "id": "1e2fb63d",
   "metadata": {},
   "outputs": [],
   "source": [
    "# 올스타팀의 범주별 OPS의 정규성 검정을 실행합니다. [pg.normality() 함수]\n"
   ]
  },
  {
   "cell_type": "code",
   "execution_count": null,
   "id": "75b57b84",
   "metadata": {},
   "outputs": [],
   "source": [
    "# (정규성 가정 만족) 올스타팀의 범주별 OPS의 등분산성 검정을 실행합니다. [pg.homoscedasticity() 함수]\n"
   ]
  },
  {
   "cell_type": "code",
   "execution_count": null,
   "id": "baa9d5ae",
   "metadata": {},
   "outputs": [],
   "source": [
    "# 범주형 변수별 연속형 변수를 시리즈로 생성합니다.(s0, s1)\n"
   ]
  },
  {
   "cell_type": "code",
   "execution_count": null,
   "id": "a043acd8",
   "metadata": {},
   "outputs": [],
   "source": [
    "# 등분산 가정된 t-검정을 실행합니다. [pg.ttest() 함수]\n"
   ]
  },
  {
   "cell_type": "code",
   "execution_count": null,
   "id": "c3c10024",
   "metadata": {},
   "outputs": [],
   "source": [
    "# 이분산 가정된 t-검정을 실행합니다. [pg.ttest() 함수]\n"
   ]
  },
  {
   "cell_type": "code",
   "execution_count": null,
   "id": "4a490af7",
   "metadata": {},
   "outputs": [],
   "source": [
    "# (정규성 가정 불만족) 맨-휘트니 U 검정을 실행합니다. [pg.mwu() 함수]\n"
   ]
  },
  {
   "cell_type": "markdown",
   "id": "111e06c5",
   "metadata": {},
   "source": [
    "### 분산분석: 팀명"
   ]
  },
  {
   "cell_type": "code",
   "execution_count": null,
   "id": "e475a253",
   "metadata": {},
   "outputs": [],
   "source": [
    "# kbo에서 팀명이 'LG', '롯데', 'KIA'인 선수를 선택하여 team3를 생성합니다.\n"
   ]
  },
  {
   "cell_type": "code",
   "execution_count": null,
   "id": "6cc3adbf",
   "metadata": {},
   "outputs": [],
   "source": [
    "# 팀명의 범주별 OPS의 정규성 검정을 실행합니다. [pg.normality() 함수]\n"
   ]
  },
  {
   "cell_type": "code",
   "execution_count": null,
   "id": "da14bdb9",
   "metadata": {},
   "outputs": [],
   "source": [
    "# (정규성 가정 만족) 팀명의 범주별 OPS의 등분산성 검정을 실행합니다. [pg.homoscedasticity() 함수]\n"
   ]
  },
  {
   "cell_type": "code",
   "execution_count": null,
   "id": "77730596",
   "metadata": {},
   "outputs": [],
   "source": [
    "# 등분산 가정된 분산분석을 실행합니다. [pg.anova() 함수]\n"
   ]
  },
  {
   "cell_type": "code",
   "execution_count": null,
   "id": "ec0ae9a7",
   "metadata": {},
   "outputs": [],
   "source": [
    "# 등분산 가정된 분산분석을 실행합니다. [pg.welch_anova() 함수]\n"
   ]
  },
  {
   "cell_type": "code",
   "execution_count": null,
   "id": "52d36f84",
   "metadata": {},
   "outputs": [],
   "source": [
    "# (정규성 가정 불만족) 크루스칼-왈리스 순위합 검정을 실행합니다. [pg.kruskal() 함수]\n"
   ]
  },
  {
   "cell_type": "code",
   "execution_count": null,
   "id": "eebd6cf9",
   "metadata": {},
   "outputs": [],
   "source": [
    "# Tukey 방식으로 사후분석을 실행합니다. [pg.pairwise_tukey() 함수]\n"
   ]
  },
  {
   "cell_type": "markdown",
   "id": "56f28914",
   "metadata": {},
   "source": [
    "## End of Document"
   ]
  }
 ],
 "metadata": {
  "kernelspec": {
   "display_name": "Python 3 (ipykernel)",
   "language": "python",
   "name": "python3"
  },
  "language_info": {
   "codemirror_mode": {
    "name": "ipython",
    "version": 3
   },
   "file_extension": ".py",
   "mimetype": "text/x-python",
   "name": "python",
   "nbconvert_exporter": "python",
   "pygments_lexer": "ipython3",
   "version": "3.10.3"
  },
  "toc": {
   "base_numbering": 1,
   "nav_menu": {},
   "number_sections": true,
   "sideBar": true,
   "skip_h1_title": false,
   "title_cell": "Table of Contents",
   "title_sidebar": "Contents",
   "toc_cell": false,
   "toc_position": {},
   "toc_section_display": true,
   "toc_window_display": true
  },
  "varInspector": {
   "cols": {
    "lenName": 16,
    "lenType": 16,
    "lenVar": 40
   },
   "kernels_config": {
    "python": {
     "delete_cmd_postfix": "",
     "delete_cmd_prefix": "del ",
     "library": "var_list.py",
     "varRefreshCmd": "print(var_dic_list())"
    },
    "r": {
     "delete_cmd_postfix": ") ",
     "delete_cmd_prefix": "rm(",
     "library": "var_list.r",
     "varRefreshCmd": "cat(var_dic_list()) "
    }
   },
   "types_to_exclude": [
    "module",
    "function",
    "builtin_function_or_method",
    "instance",
    "_Feature"
   ],
   "window_display": false
  }
 },
 "nbformat": 4,
 "nbformat_minor": 5
}
