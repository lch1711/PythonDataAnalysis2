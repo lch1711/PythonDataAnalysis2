{
 "cells": [
  {
   "cell_type": "markdown",
   "id": "67809a6e",
   "metadata": {},
   "source": [
    "<p style=\"font-family:verdana;font-size:200%;text-align:center;\">1 Data Visualizaion</p>"
   ]
  },
  {
   "cell_type": "markdown",
   "id": "84996d04",
   "metadata": {},
   "source": [
    "### 실습 데이터셋 준비"
   ]
  },
  {
   "cell_type": "code",
   "execution_count": null,
   "id": "54a2472d",
   "metadata": {},
   "outputs": [],
   "source": [
    "# 관련 라이브러리를 호출합니다.\n",
    "import numpy as np\n",
    "import pandas as pd"
   ]
  },
  {
   "cell_type": "code",
   "execution_count": null,
   "id": "84538c21",
   "metadata": {},
   "outputs": [],
   "source": [
    "# 인터넷으로 공유 중인 텍스트 데이터를 읽고 데이터프레임 df를 생성합니다.\n",
    "df = pd.read_csv('https://bit.ly/Used_Cars_Price')"
   ]
  },
  {
   "cell_type": "code",
   "execution_count": null,
   "id": "114f09cc",
   "metadata": {},
   "outputs": [],
   "source": [
    "# df의 정보를 확인합니다.\n",
    "df.info()"
   ]
  },
  {
   "cell_type": "code",
   "execution_count": null,
   "id": "4ba5245e",
   "metadata": {},
   "outputs": [],
   "source": [
    "# df의 일부를 출력합니다.\n",
    "df.head()"
   ]
  },
  {
   "cell_type": "markdown",
   "id": "b482e9c0",
   "metadata": {},
   "source": [
    "### 실습 데이터셋 전처리"
   ]
  },
  {
   "cell_type": "code",
   "execution_count": null,
   "id": "982c51a7",
   "metadata": {},
   "outputs": [],
   "source": [
    "# df에서 일부 정수형 변수를 문자형으로 일괄 변환합니다.\n",
    "cols = ['MetColor', 'Automatic']\n",
    "df[cols] = df[cols].astype('str')"
   ]
  },
  {
   "cell_type": "code",
   "execution_count": null,
   "id": "85e6b37c",
   "metadata": {},
   "outputs": [],
   "source": [
    "# 열별 자료형을 출력합니다.\n",
    "df.dtypes"
   ]
  },
  {
   "cell_type": "raw",
   "id": "782ff94b",
   "metadata": {},
   "source": [
    "# [참고] 개별 정수형 변수를 문자형으로 변환하는 방법입니다.\n",
    "df['MetColor'] = df['MetColor'].astype('str')\n",
    "df['Automatic'] = df['Automatic'].astype('str')"
   ]
  },
  {
   "cell_type": "markdown",
   "id": "314d7b67",
   "metadata": {},
   "source": [
    "### 그래프 옵션 설정"
   ]
  },
  {
   "cell_type": "code",
   "execution_count": null,
   "id": "5c4465c7",
   "metadata": {},
   "outputs": [],
   "source": [
    "# 관련 라이브러리를 호출합니다.\n",
    "import seaborn as sns\n",
    "import matplotlib.pyplot as plt\n",
    "import matplotlib.font_manager as fm\n",
    "%matplotlib inline"
   ]
  },
  {
   "cell_type": "code",
   "execution_count": null,
   "id": "c7f99b00",
   "metadata": {},
   "outputs": [],
   "source": [
    "# 그래프의 크기와 해상도를 설정합니다.\n",
    "plt.rcParams['figure.figsize'] = (6, 6)\n",
    "plt.rcParams['figure.dpi'] = 100"
   ]
  },
  {
   "cell_type": "markdown",
   "id": "9c23e635",
   "metadata": {},
   "source": [
    "### 한글폰트 설정"
   ]
  },
  {
   "cell_type": "code",
   "execution_count": null,
   "id": "ee181825",
   "metadata": {},
   "outputs": [],
   "source": [
    "# 컴퓨터에 설치된 폰트 목록을 리스트로 가져옵니다.\n",
    "fontList = fm.findSystemFonts(fontext = 'ttf')"
   ]
  },
  {
   "cell_type": "code",
   "execution_count": null,
   "id": "a586dd92",
   "metadata": {},
   "outputs": [],
   "source": [
    "# 한글폰트명으로 폰트 파일명을 검색합니다.\n",
    "fontFile = [font for font in fontList if 'Gamja' in font]"
   ]
  },
  {
   "cell_type": "code",
   "execution_count": null,
   "id": "8e52cb55",
   "metadata": {},
   "outputs": [],
   "source": [
    "# 첫 번째 폰트 파일명을 출력합니다.\n",
    "fontFile[0]"
   ]
  },
  {
   "cell_type": "code",
   "execution_count": null,
   "id": "2c3b8153",
   "metadata": {},
   "outputs": [],
   "source": [
    "# 한글폰트 정보를 지정합니다.\n",
    "fontProp = fm.FontProperties(fname = fontFile[0])"
   ]
  },
  {
   "cell_type": "code",
   "execution_count": null,
   "id": "e83c4b91",
   "metadata": {},
   "outputs": [],
   "source": [
    "# 한글폰트 이름과 글자 크기를 설정합니다.\n",
    "plt.rcParams['font.family'] = fontProp.get_name()\n",
    "plt.rcParams['font.size'] = 12"
   ]
  },
  {
   "cell_type": "raw",
   "id": "007ef109",
   "metadata": {},
   "source": [
    "# 시각화 관련 라이브러리 호출, 그래프 옵션 및 한글폰트 설정 등 일련의 과정을 \n",
    "# py 파일로 저장하면 필요할 때마다 편리하게 호출할 수 있습니다.\n",
    "\n",
    "# [참고] py 파일을 모듈처럼 호출하려면 주피터 노트북과 같은 폴더에 있어야 합니다."
   ]
  },
  {
   "cell_type": "code",
   "execution_count": null,
   "id": "c442226b",
   "metadata": {},
   "outputs": [],
   "source": [
    "# 그래프 옵션 관련 모듈을 호출합니다.\n",
    "from graph_setting import *"
   ]
  },
  {
   "cell_type": "markdown",
   "id": "0a3c97f6",
   "metadata": {},
   "source": [
    "### [참고] 한글이 네모로 출력되는 에러 해결 방법"
   ]
  },
  {
   "cell_type": "raw",
   "id": "9fcd5c97",
   "metadata": {},
   "source": [
    "# 관련 라이브러리를 호출합니다.\n",
    "import matplotlib as mpl"
   ]
  },
  {
   "cell_type": "raw",
   "id": "7f86617e",
   "metadata": {},
   "source": [
    "# matplotlib 라이브러리의 임시 폴더 위치를 출력합니다.\n",
    "mpl.get_cachedir()"
   ]
  },
  {
   "cell_type": "markdown",
   "id": "21315098",
   "metadata": {},
   "source": [
    "- 위 코드를 실행해서 출력되는 폴더로 이동하여 **tex.cache 폴더**와 **fontList.json** 파일을 삭제하고, 주피터 노트북을 재실행하면 한글폰트가 제대로 설정됩니다."
   ]
  },
  {
   "cell_type": "markdown",
   "id": "2c788752",
   "metadata": {},
   "source": [
    "### 목표변수 분포 확인"
   ]
  },
  {
   "cell_type": "code",
   "execution_count": null,
   "id": "2dc22ae7",
   "metadata": {},
   "outputs": [],
   "source": [
    "# 목표변수의 최솟값과 최댓값을 확인합니다.\n",
    "df['Price'].describe()[['min', 'max']]"
   ]
  },
  {
   "cell_type": "code",
   "execution_count": null,
   "id": "c7d58910",
   "metadata": {},
   "outputs": [],
   "source": [
    "# 히스토그램의 계급을 설정합니다.\n",
    "bins = np.arange(4000, 16001, 1000)"
   ]
  },
  {
   "cell_type": "code",
   "execution_count": null,
   "id": "94a817e4",
   "metadata": {},
   "outputs": [],
   "source": [
    "# 히스토그램을 그립니다.\n",
    "sns.histplot(data = df, x = 'Price', bins = bins, color = 'orange');"
   ]
  },
  {
   "cell_type": "code",
   "execution_count": null,
   "id": "c50b359e",
   "metadata": {
    "scrolled": false
   },
   "outputs": [],
   "source": [
    "# 상자수염그림을 그립니다.\n",
    "sns.boxplot(data = df, y = 'Price', color = 'orange');"
   ]
  },
  {
   "cell_type": "markdown",
   "id": "27884b7d",
   "metadata": {},
   "source": [
    "### 연속형 입력변수와 관계 파악"
   ]
  },
  {
   "cell_type": "code",
   "execution_count": null,
   "id": "23570855",
   "metadata": {},
   "outputs": [],
   "source": [
    "# Age와 Price의 산점도를 그립니다.\n",
    "sns.scatterplot(data = df, x = 'Age', y = 'Price', color = 'orange')\n",
    "plt.title(label = 'Age vs Price');"
   ]
  },
  {
   "cell_type": "code",
   "execution_count": null,
   "id": "52bc1625",
   "metadata": {},
   "outputs": [],
   "source": [
    "# KM와 Price의 산점도를 그립니다.\n",
    "sns.scatterplot(data = df, x = 'KM', y = 'Price', color = 'orange')\n",
    "plt.title(label = 'KM vs Price');"
   ]
  },
  {
   "cell_type": "code",
   "execution_count": null,
   "id": "ea47a299",
   "metadata": {},
   "outputs": [],
   "source": [
    "# HP와 Price의 산점도를 그립니다.\n",
    "sns.scatterplot(data = df, x = 'HP', y = 'Price', color = 'orange')\n",
    "plt.title(label = 'HP vs Price');"
   ]
  },
  {
   "cell_type": "code",
   "execution_count": null,
   "id": "5e12b635",
   "metadata": {
    "scrolled": false
   },
   "outputs": [],
   "source": [
    "# CC와 Price의 산점도를 그립니다.\n",
    "sns.scatterplot(data = df, x = 'CC', y = 'Price', color = 'orange')\n",
    "plt.title(label = 'CC vs Price');"
   ]
  },
  {
   "cell_type": "code",
   "execution_count": null,
   "id": "9dad1554",
   "metadata": {},
   "outputs": [],
   "source": [
    "# Doors와 Price의 산점도를 그립니다.\n",
    "sns.scatterplot(data = df, x = 'Doors', y = 'Price', color = 'orange')\n",
    "plt.title(label = 'Doors vs Price');"
   ]
  },
  {
   "cell_type": "code",
   "execution_count": null,
   "id": "477f6ef0",
   "metadata": {},
   "outputs": [],
   "source": [
    "# Doors의 빈도수를 출력합니다.\n",
    "df['Doors'].value_counts().sort_index()"
   ]
  },
  {
   "cell_type": "code",
   "execution_count": null,
   "id": "2ea16fb4",
   "metadata": {
    "scrolled": false
   },
   "outputs": [],
   "source": [
    "# Weight와 Price의 산점도를 그립니다.\n",
    "sns.scatterplot(data = df, x = 'Weight', y = 'Price', color = 'orange')\n",
    "plt.title(label = 'Weight vs Price')\n",
    "plt.axvline(x = 1250, color = 'red');"
   ]
  },
  {
   "cell_type": "markdown",
   "id": "3415211d",
   "metadata": {},
   "source": [
    "### [참고] 컬러맵(팔레트) 목록 및 색상 확인"
   ]
  },
  {
   "cell_type": "code",
   "execution_count": null,
   "id": "23fe9d31",
   "metadata": {},
   "outputs": [],
   "source": [
    "# pyplot 모듈에서 제공되는 컬러맵 목록을 출력합니다.\n",
    "dir(plt.cm)"
   ]
  },
  {
   "cell_type": "code",
   "execution_count": null,
   "id": "5c20c166",
   "metadata": {},
   "outputs": [],
   "source": [
    "# 기본 팔레트의 색을 출력합니다.\n",
    "sns.color_palette(palette = 'deep')"
   ]
  },
  {
   "cell_type": "code",
   "execution_count": null,
   "id": "0425f44b",
   "metadata": {},
   "outputs": [],
   "source": [
    "# 관심 있는 팔레트에 포함된 색을 출력합니다.\n",
    "sns.color_palette(palette = 'Spectral')"
   ]
  },
  {
   "cell_type": "code",
   "execution_count": null,
   "id": "c2f71393",
   "metadata": {},
   "outputs": [],
   "source": [
    "# 출력할 색의 개수를 변경할 수 있습니다.\n",
    "sns.color_palette(palette = 'Spectral', n_colors = 10)"
   ]
  },
  {
   "cell_type": "markdown",
   "id": "958df828",
   "metadata": {},
   "source": [
    "### 범주형 입력변수와 관계 파악"
   ]
  },
  {
   "cell_type": "code",
   "execution_count": null,
   "id": "c4a1f288",
   "metadata": {},
   "outputs": [],
   "source": [
    "# MetColor의 범주별 Price의 분포를 비교합니다.\n",
    "avg = df.groupby(['MetColor']).mean()[['Price']].reset_index()\n",
    "sns.boxplot(data = df, x = 'MetColor', y = 'Price', fliersize = 3, \n",
    "            order = avg['MetColor'], palette = 'Spectral')\n",
    "sns.scatterplot(data = avg, x = 'MetColor', y = 'Price', s = 50, \n",
    "                color = 'red', edgecolor = 'black')\n",
    "plt.title(label = 'MetColor vs Price')\n",
    "plt.axhline(y = df['Price'].mean(), color = 'red', linestyle = '--');"
   ]
  },
  {
   "cell_type": "code",
   "execution_count": null,
   "id": "8a86eabf",
   "metadata": {},
   "outputs": [],
   "source": [
    "# 그룹별 상자수염그림 시각화 모듈을 호출합니다.\n",
    "from graph_boxplot import *"
   ]
  },
  {
   "cell_type": "code",
   "execution_count": null,
   "id": "8c06163b",
   "metadata": {},
   "outputs": [],
   "source": [
    "# MetColor의 범주별 Price의 분포를 비교합니다.\n",
    "plot_box_group(data = df, x = 'MetColor', y = 'Price', pal = 'Spectral')"
   ]
  },
  {
   "cell_type": "code",
   "execution_count": null,
   "id": "1f9d0948",
   "metadata": {},
   "outputs": [],
   "source": [
    "# Automatic의 범주별 Price의 분포를 비교합니다.\n",
    "plot_box_group(data = df, x = 'Automatic', y = 'Price', pal = 'Spectral')"
   ]
  },
  {
   "cell_type": "code",
   "execution_count": null,
   "id": "83ab74e1",
   "metadata": {},
   "outputs": [],
   "source": [
    "# FuelType의 범주별 Price의 분포를 비교합니다.\n",
    "plot_box_group(data = df, x = 'FuelType', y = 'Price', pal = 'Spectral')"
   ]
  },
  {
   "cell_type": "markdown",
   "id": "88a12921",
   "metadata": {},
   "source": [
    "### 불필요한 행 삭제 및 xlsx 파일로 저장"
   ]
  },
  {
   "cell_type": "code",
   "execution_count": null,
   "id": "b323db17",
   "metadata": {},
   "outputs": [],
   "source": [
    "# df에서 삭제할 조건 만족 여부를 True 또는 False로 갖는 dels를 생성합니다.\n",
    "dels = (df['Doors'] >= 3) & (df['Weight'] <= 1250)"
   ]
  },
  {
   "cell_type": "code",
   "execution_count": null,
   "id": "ecf984c8",
   "metadata": {},
   "outputs": [],
   "source": [
    "# df의 일부 행을 삭제합니다. (불리언 인덱싱)\n",
    "df = df.loc[dels, :]"
   ]
  },
  {
   "cell_type": "code",
   "execution_count": null,
   "id": "0dd66053",
   "metadata": {},
   "outputs": [],
   "source": [
    "# df의 정보를 확인합니다.\n",
    "df.info()"
   ]
  },
  {
   "cell_type": "code",
   "execution_count": null,
   "id": "2a9ed6eb",
   "metadata": {},
   "outputs": [],
   "source": [
    "# df의 일부를 출력합니다.\n",
    "df.head()"
   ]
  },
  {
   "cell_type": "markdown",
   "id": "035b60a5",
   "metadata": {},
   "source": [
    "### xlsx 파일로 저장"
   ]
  },
  {
   "cell_type": "code",
   "execution_count": null,
   "id": "2e116bc2",
   "metadata": {},
   "outputs": [],
   "source": [
    "# 관련 라이브러리를 호출합니다.\n",
    "import os"
   ]
  },
  {
   "cell_type": "code",
   "execution_count": null,
   "id": "8fbfbbfd",
   "metadata": {},
   "outputs": [],
   "source": [
    "# 현재 작업경로를 확인합니다.\n",
    "os.getcwd()"
   ]
  },
  {
   "cell_type": "code",
   "execution_count": null,
   "id": "fa473bcd",
   "metadata": {},
   "outputs": [],
   "source": [
    "# xlsx 파일을 저장할 data 폴더로 작업경로를 변경합니다.\n",
    "os.chdir(path = '../data')"
   ]
  },
  {
   "cell_type": "code",
   "execution_count": null,
   "id": "f5ecf0d8",
   "metadata": {},
   "outputs": [],
   "source": [
    "# df를 xlsx 파일로 저장합니다.\n",
    "df.to_excel(excel_writer = 'Used_Cars_Price.xlsx', index = False)"
   ]
  },
  {
   "cell_type": "markdown",
   "id": "adb799d0",
   "metadata": {},
   "source": [
    "<p style=\"font-family:verdana;font-size:200%;text-align:center;\">End of Document</p>"
   ]
  }
 ],
 "metadata": {
  "kernelspec": {
   "display_name": "Python 3 (ipykernel)",
   "language": "python",
   "name": "python3"
  },
  "language_info": {
   "codemirror_mode": {
    "name": "ipython",
    "version": 3
   },
   "file_extension": ".py",
   "mimetype": "text/x-python",
   "name": "python",
   "nbconvert_exporter": "python",
   "pygments_lexer": "ipython3",
   "version": "3.9.6"
  },
  "toc": {
   "base_numbering": 1,
   "nav_menu": {},
   "number_sections": true,
   "sideBar": true,
   "skip_h1_title": false,
   "title_cell": "Table of Contents",
   "title_sidebar": "Contents",
   "toc_cell": false,
   "toc_position": {},
   "toc_section_display": true,
   "toc_window_display": true
  },
  "varInspector": {
   "cols": {
    "lenName": 16,
    "lenType": 16,
    "lenVar": 40
   },
   "kernels_config": {
    "python": {
     "delete_cmd_postfix": "",
     "delete_cmd_prefix": "del ",
     "library": "var_list.py",
     "varRefreshCmd": "print(var_dic_list())"
    },
    "r": {
     "delete_cmd_postfix": ") ",
     "delete_cmd_prefix": "rm(",
     "library": "var_list.r",
     "varRefreshCmd": "cat(var_dic_list()) "
    }
   },
   "types_to_exclude": [
    "module",
    "function",
    "builtin_function_or_method",
    "instance",
    "_Feature"
   ],
   "window_display": false
  }
 },
 "nbformat": 4,
 "nbformat_minor": 5
}
