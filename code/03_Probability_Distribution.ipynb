{
 "cells": [
  {
   "cell_type": "markdown",
   "id": "05bd0878",
   "metadata": {},
   "source": [
    "## 확률분포의 이해"
   ]
  },
  {
   "cell_type": "markdown",
   "id": "846b49c7",
   "metadata": {},
   "source": [
    "### 관련 라이브러리 호출"
   ]
  },
  {
   "cell_type": "code",
   "execution_count": null,
   "id": "51f76770",
   "metadata": {
    "ExecuteTime": {
     "end_time": "2022-06-11T04:54:13.468681Z",
     "start_time": "2022-06-11T04:54:13.004096Z"
    }
   },
   "outputs": [],
   "source": [
    "# 관련 라이브러리를 호출합니다.\n",
    "import os\n",
    "import joblib\n",
    "import numpy as np\n",
    "import pandas as pd\n",
    "from scipy import stats\n",
    "from GraphicSetting import *"
   ]
  },
  {
   "cell_type": "markdown",
   "id": "26abcdee",
   "metadata": {},
   "source": [
    "### 정규분포를 따르는 무작위 값 생성"
   ]
  },
  {
   "cell_type": "code",
   "execution_count": null,
   "id": "9e594389",
   "metadata": {
    "ExecuteTime": {
     "end_time": "2022-06-11T04:54:13.473846Z",
     "start_time": "2022-06-11T04:54:13.471587Z"
    }
   },
   "outputs": [],
   "source": [
    "# 시드를 고정합니다.\n",
    "np.random.seed(seed = 1234)"
   ]
  },
  {
   "cell_type": "code",
   "execution_count": null,
   "id": "64ee3d1c",
   "metadata": {
    "ExecuteTime": {
     "end_time": "2022-06-11T04:54:13.477942Z",
     "start_time": "2022-06-11T04:54:13.475472Z"
    }
   },
   "outputs": [],
   "source": [
    "# 평균이 175, 표준편차가 5인 정규분포를 따르는 무작위 표본을 생성합니다.\n",
    "heights = stats.norm.rvs(loc = 175, scale = 5, size = 5000)"
   ]
  },
  {
   "cell_type": "code",
   "execution_count": null,
   "id": "2d10e249",
   "metadata": {
    "ExecuteTime": {
     "end_time": "2022-06-11T04:54:13.488129Z",
     "start_time": "2022-06-11T04:54:13.480686Z"
    }
   },
   "outputs": [],
   "source": [
    "# heights(표본)의 평균을 출력합니다.\n",
    "heights.mean()"
   ]
  },
  {
   "cell_type": "code",
   "execution_count": null,
   "id": "eae8a52e",
   "metadata": {
    "ExecuteTime": {
     "end_time": "2022-06-11T04:54:13.493150Z",
     "start_time": "2022-06-11T04:54:13.489753Z"
    }
   },
   "outputs": [],
   "source": [
    "# heights(표본)의 표준편차를 출력합니다.\n",
    "heights.std()"
   ]
  },
  {
   "cell_type": "markdown",
   "id": "e6a9cef9",
   "metadata": {},
   "source": [
    "### 정규분포 확률밀도"
   ]
  },
  {
   "cell_type": "code",
   "execution_count": null,
   "id": "56bf2c1d",
   "metadata": {
    "ExecuteTime": {
     "end_time": "2022-06-11T04:54:13.498615Z",
     "start_time": "2022-06-11T04:54:13.494775Z"
    }
   },
   "outputs": [],
   "source": [
    "# 평균이 175, 표준편차가 15인 정규분포에서 확률변수값 175의 확률밀도(높이)를 반환합니다.\n",
    "stats.norm.pdf(x = 175, loc = 175, scale = 15)"
   ]
  },
  {
   "cell_type": "code",
   "execution_count": null,
   "id": "c1f42338",
   "metadata": {
    "ExecuteTime": {
     "end_time": "2022-06-11T04:54:13.504270Z",
     "start_time": "2022-06-11T04:54:13.500577Z"
    }
   },
   "outputs": [],
   "source": [
    "# 평균이 175, 표준편차가 10인 정규분포에서 확률변수값 175의 확률밀도(높이)를 반환합니다.\n",
    "stats.norm.pdf(x = 175, loc = 175, scale = 10)"
   ]
  },
  {
   "cell_type": "code",
   "execution_count": null,
   "id": "924ee71a",
   "metadata": {
    "ExecuteTime": {
     "end_time": "2022-06-11T04:54:13.509992Z",
     "start_time": "2022-06-11T04:54:13.505785Z"
    }
   },
   "outputs": [],
   "source": [
    "# 평균이 175, 표준편차가 5인 정규분포에서 확률변수값 175의 확률밀도(높이)를 반환합니다.\n",
    "stats.norm.pdf(x = 175, loc = 175, scale = 5)"
   ]
  },
  {
   "cell_type": "code",
   "execution_count": null,
   "id": "a9922803",
   "metadata": {},
   "outputs": [],
   "source": [
    "# 모평균이 175인 정규분포에서 표본이 추출될 확률(가능도 곱)을 계산합니다.\n",
    "stats.norm.pdf(x = [174, 175, 176], loc = 175, scale = 5).prod()"
   ]
  },
  {
   "cell_type": "code",
   "execution_count": null,
   "id": "1f88cd7b",
   "metadata": {
    "ExecuteTime": {
     "end_time": "2022-06-11T04:54:13.532878Z",
     "start_time": "2022-06-11T04:54:13.527104Z"
    },
    "scrolled": true
   },
   "outputs": [],
   "source": [
    "# 모평균이 175인 정규분포에서 표본이 추출될 확률(로그 가능도 합)을 계산합니다.\n",
    "np.log(stats.norm.pdf(x = [174, 175, 176], loc = 175, scale = 5)).sum()"
   ]
  },
  {
   "cell_type": "markdown",
   "id": "ba24f66a",
   "metadata": {},
   "source": [
    "### [참고] 확률밀도곡선 시각화"
   ]
  },
  {
   "cell_type": "code",
   "execution_count": null,
   "id": "ca6d6ff4",
   "metadata": {},
   "outputs": [],
   "source": [
    "# 확률변수값(x)을 생성합니다.\n",
    "x = np.linspace(start = 130, stop = 220, num = 100 + 1)"
   ]
  },
  {
   "cell_type": "code",
   "execution_count": null,
   "id": "ae6c107b",
   "metadata": {},
   "outputs": [],
   "source": [
    "# 확률변수값(x)에 대응하는 정규분포 확률밀도(y)를 생성합니다.\n",
    "y1 = stats.norm.pdf(x = x, loc = 175, scale = 15)\n",
    "y2 = stats.norm.pdf(x = x, loc = 175, scale = 10)\n",
    "y3 = stats.norm.pdf(x = x, loc = 175, scale = 5)"
   ]
  },
  {
   "cell_type": "code",
   "execution_count": null,
   "id": "4d393ff0",
   "metadata": {},
   "outputs": [],
   "source": [
    "# 확률변수값(x)에 대응하는 정규분포 확률밀도(y)로 곡선을 그립니다.\n",
    "sns.lineplot(x = x, y = y1, label = 'Scale: 15')\n",
    "sns.lineplot(x = x, y = y2, label = 'Scale: 10')\n",
    "sns.lineplot(x = x, y = y3, label = 'Scale: 5')"
   ]
  },
  {
   "cell_type": "markdown",
   "id": "39313ee3",
   "metadata": {},
   "source": [
    "### 정규분포 누적확률"
   ]
  },
  {
   "cell_type": "code",
   "execution_count": null,
   "id": "30078c75",
   "metadata": {
    "ExecuteTime": {
     "end_time": "2022-06-11T04:54:13.538847Z",
     "start_time": "2022-06-11T04:54:13.535081Z"
    }
   },
   "outputs": [],
   "source": [
    "# 평균이 175, 표준편차가 15인 정규분포에서 확률변수값 185의 누적확률을 반환합니다.\n",
    "stats.norm.cdf(x = 185, loc = 175, scale = 15)"
   ]
  },
  {
   "cell_type": "code",
   "execution_count": null,
   "id": "d2587dbe",
   "metadata": {
    "ExecuteTime": {
     "end_time": "2022-06-11T04:54:13.543769Z",
     "start_time": "2022-06-11T04:54:13.540397Z"
    }
   },
   "outputs": [],
   "source": [
    "# 평균이 175, 표준편차가 10인 정규분포에서 확률변수값 185의 누적확률을 반환합니다.\n",
    "stats.norm.cdf(x = 185, loc = 175, scale = 10)"
   ]
  },
  {
   "cell_type": "code",
   "execution_count": null,
   "id": "14ff7e32",
   "metadata": {
    "ExecuteTime": {
     "end_time": "2022-06-11T04:54:13.552227Z",
     "start_time": "2022-06-11T04:54:13.545442Z"
    },
    "scrolled": true
   },
   "outputs": [],
   "source": [
    "# 평균이 175, 표준편차가 5인 정규분포에서 확률변수값 185의 누적확률을 반환합니다.\n",
    "stats.norm.cdf(x = 185, loc = 175, scale = 5)"
   ]
  },
  {
   "cell_type": "code",
   "execution_count": null,
   "id": "db4fcd3f",
   "metadata": {
    "ExecuteTime": {
     "end_time": "2022-06-11T04:54:13.558743Z",
     "start_time": "2022-06-11T04:54:13.554811Z"
    }
   },
   "outputs": [],
   "source": [
    "# 두 지점 간 확률을 계산하려면 x 매개변수에 원소가 2개인 리스트를 할당합니다.\n",
    "cdfs = stats.norm.cdf(x = [165, 185], loc = 175, scale = 5)"
   ]
  },
  {
   "cell_type": "code",
   "execution_count": null,
   "id": "92878474",
   "metadata": {},
   "outputs": [],
   "source": [
    "# 두 확률변수값 사이의 확률을 계산합니다.\n",
    "np.diff(a = cdfs)[0]"
   ]
  },
  {
   "cell_type": "markdown",
   "id": "ed3e86a1",
   "metadata": {},
   "source": [
    "### 정규분포 확률변수값"
   ]
  },
  {
   "cell_type": "code",
   "execution_count": null,
   "id": "5f7766ff",
   "metadata": {
    "ExecuteTime": {
     "end_time": "2022-06-11T04:54:13.564106Z",
     "start_time": "2022-06-11T04:54:13.560560Z"
    }
   },
   "outputs": [],
   "source": [
    "# 평균이 175, 표준편차가 15인 정규분포에서 누적확률이 0.748인 확률변수값을 반환합니다.\n",
    "stats.norm.ppf(q = 0.748, loc = 175, scale = 15)"
   ]
  },
  {
   "cell_type": "code",
   "execution_count": null,
   "id": "31908788",
   "metadata": {
    "ExecuteTime": {
     "end_time": "2022-06-11T04:54:13.571087Z",
     "start_time": "2022-06-11T04:54:13.566055Z"
    }
   },
   "outputs": [],
   "source": [
    "# 평균이 175, 표준편차가 10인 정규분포에서 누적확률이 0.841인 확률변수값을 반환합니다.\n",
    "stats.norm.ppf(q = 0.841, loc = 175, scale = 10)"
   ]
  },
  {
   "cell_type": "code",
   "execution_count": null,
   "id": "9934502b",
   "metadata": {
    "ExecuteTime": {
     "end_time": "2022-06-11T04:54:13.576804Z",
     "start_time": "2022-06-11T04:54:13.573157Z"
    },
    "scrolled": true
   },
   "outputs": [],
   "source": [
    "# 평균이 175, 표준편차가 5인 정규분포에서 누적확률이 0.977인 확률변수값을 반환합니다.\n",
    "stats.norm.ppf(q = 0.977, loc = 175, scale = 5)"
   ]
  },
  {
   "cell_type": "code",
   "execution_count": null,
   "id": "05fae632",
   "metadata": {
    "ExecuteTime": {
     "end_time": "2022-06-11T04:54:13.583811Z",
     "start_time": "2022-06-11T04:54:13.578335Z"
    }
   },
   "outputs": [],
   "source": [
    "# (재미삼아) 평균이 175, 표준편차가 5인 정규분포에서 상위 5%인 남자의 키를 확인합니다.\n",
    "stats.norm.ppf(q = 0.95, loc = 175, scale = 5)"
   ]
  },
  {
   "cell_type": "code",
   "execution_count": null,
   "id": "445ac26f",
   "metadata": {
    "ExecuteTime": {
     "end_time": "2022-06-11T04:54:13.590391Z",
     "start_time": "2022-06-11T04:54:13.586216Z"
    }
   },
   "outputs": [],
   "source": [
    "# (재미삼아) 평균이 175, 표준편차가 5인 정규분포에서 상위 1%인 남자의 키를 확인합니다.\n",
    "stats.norm.ppf(q = 0.99, loc = 175, scale = 5)"
   ]
  },
  {
   "cell_type": "markdown",
   "id": "da3303d8",
   "metadata": {},
   "source": [
    "### 왜도와 첨도"
   ]
  },
  {
   "cell_type": "code",
   "execution_count": null,
   "id": "9bd19016",
   "metadata": {
    "ExecuteTime": {
     "end_time": "2022-06-11T04:54:13.595778Z",
     "start_time": "2022-06-11T04:54:13.592003Z"
    }
   },
   "outputs": [],
   "source": [
    "# 왜도로 확률밀도곡선의 중심이 한 쪽으로 치우친 정도를 알 수 있습니다.\n",
    "stats.skew(a = heights)"
   ]
  },
  {
   "cell_type": "code",
   "execution_count": null,
   "id": "ac0aa801",
   "metadata": {
    "ExecuteTime": {
     "end_time": "2022-06-11T04:54:13.601423Z",
     "start_time": "2022-06-11T04:54:13.597568Z"
    }
   },
   "outputs": [],
   "source": [
    "# 첨도로 확률밀도곡선의 봉우리가 뾰족한지 완만한지 여부를 알 수 있습니다.\n",
    "stats.kurtosis(a = heights)"
   ]
  },
  {
   "cell_type": "markdown",
   "id": "8c9d4782",
   "metadata": {},
   "source": [
    "### 정규성 검정"
   ]
  },
  {
   "cell_type": "code",
   "execution_count": null,
   "id": "b59df173",
   "metadata": {
    "ExecuteTime": {
     "end_time": "2022-06-11T04:54:13.607282Z",
     "start_time": "2022-06-11T04:54:13.603540Z"
    }
   },
   "outputs": [],
   "source": [
    "# 5천 건 이하인 데이터의 정규성 검정은 사피로-윌크 검정을 실행합니다.\n",
    "stats.shapiro(x = heights)"
   ]
  },
  {
   "cell_type": "code",
   "execution_count": null,
   "id": "e80e5b8e",
   "metadata": {
    "ExecuteTime": {
     "end_time": "2022-06-11T04:54:13.611670Z",
     "start_time": "2022-06-11T04:54:13.608971Z"
    }
   },
   "outputs": [],
   "source": [
    "# 5천 건을 초과하는 가상의 키 데이터를 생성합니다.\n",
    "np.random.seed(seed = 1234)\n",
    "heights = stats.norm.rvs(loc = 175, scale = 5, size = 10000)"
   ]
  },
  {
   "cell_type": "code",
   "execution_count": null,
   "id": "a1e0358e",
   "metadata": {
    "ExecuteTime": {
     "end_time": "2022-06-11T04:54:13.618367Z",
     "start_time": "2022-06-11T04:54:13.613274Z"
    }
   },
   "outputs": [],
   "source": [
    "# 5천 건을 초과하는 데이터로 사피로-윌크 검정을 실행하면 유의확률이\n",
    "# 정확하지 않다는 경고를 출력합니다.\n",
    "stats.shapiro(x = heights)"
   ]
  },
  {
   "cell_type": "code",
   "execution_count": null,
   "id": "4e0a8997",
   "metadata": {
    "ExecuteTime": {
     "end_time": "2022-06-11T04:54:13.625924Z",
     "start_time": "2022-06-11T04:54:13.620393Z"
    }
   },
   "outputs": [],
   "source": [
    "# 5천 건을 초과하는 데이터의 정규성 검정은 앤더슨-달링 검정을 실행합니다.\n",
    "# [참고] 이 함수는 유의확률 대신 임계치를 반환합니다.\n",
    "stats.anderson(x = heights)"
   ]
  },
  {
   "cell_type": "markdown",
   "id": "835ee3f4",
   "metadata": {},
   "source": [
    "### 데이터 표준화"
   ]
  },
  {
   "cell_type": "code",
   "execution_count": null,
   "id": "b84b5d64",
   "metadata": {},
   "outputs": [],
   "source": [
    "# 데이터를 표준화하는 함수를 생성합니다.\n",
    "def scale(x, loc, scale):\n",
    "    return (x - loc) / scale"
   ]
  },
  {
   "cell_type": "code",
   "execution_count": null,
   "id": "54384acc",
   "metadata": {
    "ExecuteTime": {
     "end_time": "2022-06-11T04:54:13.630922Z",
     "start_time": "2022-06-11T04:54:13.627709Z"
    }
   },
   "outputs": [],
   "source": [
    "# 평균이 175, 표준편차가 15인 정규분포에서 확률변수값 185의 표준화된 값을 반환합니다.\n",
    "scale(x = 185, loc = 175, scale = 15)"
   ]
  },
  {
   "cell_type": "code",
   "execution_count": null,
   "id": "b52125ed",
   "metadata": {
    "ExecuteTime": {
     "end_time": "2022-06-11T04:54:13.643201Z",
     "start_time": "2022-06-11T04:54:13.639939Z"
    }
   },
   "outputs": [],
   "source": [
    "# 평균이 175, 표준편차가 10인 정규분포에서 확률변수값 185의 표준화된 값을 반환합니다.\n",
    "scale(x = 185, loc = 175, scale = 10)"
   ]
  },
  {
   "cell_type": "code",
   "execution_count": null,
   "id": "eacf45da",
   "metadata": {
    "ExecuteTime": {
     "end_time": "2022-06-11T04:54:13.647582Z",
     "start_time": "2022-06-11T04:54:13.644818Z"
    }
   },
   "outputs": [],
   "source": [
    "# 평균이 175, 표준편차가 5인 정규분포에서 확률변수값 185의 표준화된 값을 반환합니다.\n",
    "scale(x = 185, loc = 175, scale = 5)"
   ]
  },
  {
   "cell_type": "markdown",
   "id": "006fe62e",
   "metadata": {},
   "source": [
    "### [참고] 이상치 탐지"
   ]
  },
  {
   "cell_type": "code",
   "execution_count": null,
   "id": "9bb1be28",
   "metadata": {},
   "outputs": [],
   "source": [
    "# heights를 시리즈로 변환하고 hgts에 재할당합니다.\n",
    "hgts = pd.Series(data = heights)"
   ]
  },
  {
   "cell_type": "code",
   "execution_count": null,
   "id": "eb6415ef",
   "metadata": {},
   "outputs": [],
   "source": [
    "# hgts를 표준화한 결과를 scaled에 할당합니다.\n",
    "scaled = scale(x = hgts, loc = 175, scale = 5)"
   ]
  },
  {
   "cell_type": "code",
   "execution_count": null,
   "id": "b9a21049",
   "metadata": {
    "ExecuteTime": {
     "end_time": "2022-06-11T04:54:13.658357Z",
     "start_time": "2022-06-11T04:54:13.654154Z"
    }
   },
   "outputs": [],
   "source": [
    "# scaled의 절대값이 3을 초과하면 True, 아니면 False인 locs에 할당합니다.\n",
    "locs = np.where(np.abs(scaled) > 3)"
   ]
  },
  {
   "cell_type": "code",
   "execution_count": null,
   "id": "39421498",
   "metadata": {},
   "outputs": [],
   "source": [
    "# hgts에서 locs가 True인 원소를 outs에 할당합니다.\n",
    "outs = hgts[locs[0]]"
   ]
  },
  {
   "cell_type": "markdown",
   "id": "06314167",
   "metadata": {},
   "source": [
    "### [참고] 이상치 시각화"
   ]
  },
  {
   "cell_type": "code",
   "execution_count": null,
   "id": "8b8ae38f",
   "metadata": {},
   "outputs": [],
   "source": [
    "# 중심(평균)에서 ±3 표준편차 바깥에 있는 점을 이상치로 시각화합니다.\n",
    "plt.figure(figsize = (12, 4))\n",
    "sns.scatterplot(x = hgts.index, y = hgts, c = '0.8', s = 15, alpha = 0.2)\n",
    "sns.scatterplot(x = outs.index, y = outs, c = 'red')\n",
    "plt.axhline(y = 175, color = '0', lw = 0.5, ls = '-')\n",
    "plt.axhline(y = 190, color = '0', lw = 0.5, ls = '--')\n",
    "plt.axhline(y = 160, color = '0', lw = 0.5, ls = '--')"
   ]
  },
  {
   "cell_type": "markdown",
   "id": "9597fc48",
   "metadata": {},
   "source": [
    "## End of Document"
   ]
  }
 ],
 "metadata": {
  "kernelspec": {
   "display_name": "Python 3 (ipykernel)",
   "language": "python",
   "name": "python3"
  },
  "language_info": {
   "codemirror_mode": {
    "name": "ipython",
    "version": 3
   },
   "file_extension": ".py",
   "mimetype": "text/x-python",
   "name": "python",
   "nbconvert_exporter": "python",
   "pygments_lexer": "ipython3",
   "version": "3.11.3"
  },
  "toc": {
   "base_numbering": 1,
   "nav_menu": {},
   "number_sections": false,
   "sideBar": true,
   "skip_h1_title": false,
   "title_cell": "Table of Contents",
   "title_sidebar": "Contents",
   "toc_cell": false,
   "toc_position": {},
   "toc_section_display": true,
   "toc_window_display": false
  },
  "varInspector": {
   "cols": {
    "lenName": 16,
    "lenType": 16,
    "lenVar": 40
   },
   "kernels_config": {
    "python": {
     "delete_cmd_postfix": "",
     "delete_cmd_prefix": "del ",
     "library": "var_list.py",
     "varRefreshCmd": "print(var_dic_list())"
    },
    "r": {
     "delete_cmd_postfix": ") ",
     "delete_cmd_prefix": "rm(",
     "library": "var_list.r",
     "varRefreshCmd": "cat(var_dic_list()) "
    }
   },
   "types_to_exclude": [
    "module",
    "function",
    "builtin_function_or_method",
    "instance",
    "_Feature"
   ],
   "window_display": false
  }
 },
 "nbformat": 4,
 "nbformat_minor": 5
}
