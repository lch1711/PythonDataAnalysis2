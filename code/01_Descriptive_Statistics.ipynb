{
 "cells": [
  {
   "cell_type": "markdown",
   "id": "67809a6e",
   "metadata": {},
   "source": [
    "## 기술통계 분석"
   ]
  },
  {
   "cell_type": "markdown",
   "id": "b56eeb24-2e8b-464f-94c2-a9ef5b83add1",
   "metadata": {},
   "source": [
    "### 관련 라이브러리 호출"
   ]
  },
  {
   "cell_type": "code",
   "execution_count": null,
   "id": "804a837b",
   "metadata": {
    "ExecuteTime": {
     "end_time": "2022-06-11T04:54:01.083201Z",
     "start_time": "2022-06-11T04:54:00.515370Z"
    }
   },
   "outputs": [],
   "source": [
    "# 관련 라이브러리를 호출합니다.\n",
    "import os\n",
    "import joblib\n",
    "import numpy as np\n",
    "import pandas as pd\n",
    "from scipy import stats\n",
    "from statsmodels import robust"
   ]
  },
  {
   "cell_type": "markdown",
   "id": "5b72fe50",
   "metadata": {},
   "source": [
    "### 실습 데이터셋 준비"
   ]
  },
  {
   "cell_type": "code",
   "execution_count": null,
   "id": "881dd750",
   "metadata": {},
   "outputs": [],
   "source": [
    "# 인터넷에 공유 중인 텍스트 데이터를 읽고 데이터프레임을 생성합니다.\n",
    "df = pd.read_csv(filepath_or_buffer = 'https://bit.ly/UsedCarsPrice')"
   ]
  },
  {
   "cell_type": "code",
   "execution_count": null,
   "id": "114f09cc",
   "metadata": {
    "ExecuteTime": {
     "end_time": "2022-06-11T04:53:25.250256Z",
     "start_time": "2022-06-11T04:53:25.241089Z"
    }
   },
   "outputs": [],
   "source": [
    "# df의 정보를 확인합니다.\n",
    "df.info()"
   ]
  },
  {
   "cell_type": "code",
   "execution_count": null,
   "id": "4ba5245e",
   "metadata": {
    "ExecuteTime": {
     "end_time": "2022-06-11T04:53:25.265469Z",
     "start_time": "2022-06-11T04:53:25.252670Z"
    }
   },
   "outputs": [],
   "source": [
    "# df의 처음 5행을 출력합니다.\n",
    "df.head()"
   ]
  },
  {
   "cell_type": "markdown",
   "id": "d503a829",
   "metadata": {},
   "source": [
    "### 실습 데이터셋 전처리"
   ]
  },
  {
   "cell_type": "code",
   "execution_count": null,
   "id": "af10aa65",
   "metadata": {},
   "outputs": [],
   "source": [
    "# df의 열이름을 출력합니다.\n",
    "df.columns"
   ]
  },
  {
   "cell_type": "code",
   "execution_count": null,
   "id": "6a3055ed",
   "metadata": {
    "ExecuteTime": {
     "end_time": "2022-06-11T04:53:25.269181Z",
     "start_time": "2022-06-11T04:53:25.267138Z"
    }
   },
   "outputs": [],
   "source": [
    "# 범주형으로 변환할 열이름으로 리스트를 생성합니다.\n",
    "cols = ['MetColor', 'Automatic']"
   ]
  },
  {
   "cell_type": "code",
   "execution_count": null,
   "id": "e18e3163",
   "metadata": {
    "ExecuteTime": {
     "end_time": "2022-06-11T04:53:25.274762Z",
     "start_time": "2022-06-11T04:53:25.270666Z"
    }
   },
   "outputs": [],
   "source": [
    "# 지정한 변수를 범주형으로 일괄 변환합니다.\n",
    "df[cols] = df[cols].astype(str)"
   ]
  },
  {
   "cell_type": "code",
   "execution_count": null,
   "id": "deffe7ae-1670-4829-bc66-c335dd3f8a23",
   "metadata": {},
   "outputs": [],
   "source": [
    "# 열별 자료형을 확인합니다.\n",
    "df.dtypes"
   ]
  },
  {
   "cell_type": "markdown",
   "id": "6becb55d",
   "metadata": {},
   "source": [
    "### 평균"
   ]
  },
  {
   "cell_type": "code",
   "execution_count": null,
   "id": "91e65df6",
   "metadata": {
    "ExecuteTime": {
     "end_time": "2022-06-11T04:54:01.431785Z",
     "start_time": "2022-06-11T04:54:01.427584Z"
    },
    "scrolled": true
   },
   "outputs": [],
   "source": [
    "# 연속형 변수의 평균을 반환합니다.\n",
    "df['Price'].mean()"
   ]
  },
  {
   "cell_type": "code",
   "execution_count": null,
   "id": "13f3e481",
   "metadata": {
    "ExecuteTime": {
     "end_time": "2022-06-11T04:54:01.435972Z",
     "start_time": "2022-06-11T04:54:01.433501Z"
    }
   },
   "outputs": [],
   "source": [
    "# 결측값을 포함하는 시리즈를 생성합니다.\n",
    "# [참고] nums의 1번 인덱스(두 번째) 원소가 결측값입니다.\n",
    "nums = pd.Series(data = [1, np.nan, 2])\n",
    "nums"
   ]
  },
  {
   "cell_type": "code",
   "execution_count": null,
   "id": "02faf25d",
   "metadata": {
    "ExecuteTime": {
     "end_time": "2022-06-11T04:54:01.447717Z",
     "start_time": "2022-06-11T04:54:01.444415Z"
    }
   },
   "outputs": [],
   "source": [
    "# nums의 평균을 반환합니다.\n",
    "nums.mean()"
   ]
  },
  {
   "cell_type": "markdown",
   "id": "de42749f",
   "metadata": {},
   "source": [
    "### 절사평균"
   ]
  },
  {
   "cell_type": "code",
   "execution_count": null,
   "id": "25338bcd",
   "metadata": {
    "ExecuteTime": {
     "end_time": "2022-06-11T04:54:01.454217Z",
     "start_time": "2022-06-11T04:54:01.450021Z"
    }
   },
   "outputs": [],
   "source": [
    "# 연속형 변수의 10% 절사평균을 반환합니다.\n",
    "stats.trim_mean(a = df['Price'], proportiontocut = 0.1)"
   ]
  },
  {
   "cell_type": "markdown",
   "id": "f0ffa9eb",
   "metadata": {},
   "source": [
    "### 중위수"
   ]
  },
  {
   "cell_type": "code",
   "execution_count": null,
   "id": "aef54a41",
   "metadata": {
    "ExecuteTime": {
     "end_time": "2022-06-11T04:54:01.460033Z",
     "start_time": "2022-06-11T04:54:01.456043Z"
    }
   },
   "outputs": [],
   "source": [
    "# 연속형 변수의 중위수를 반환합니다.\n",
    "df['Price'].median()"
   ]
  },
  {
   "cell_type": "markdown",
   "id": "4bcec1b4",
   "metadata": {},
   "source": [
    "### 최빈값"
   ]
  },
  {
   "cell_type": "code",
   "execution_count": null,
   "id": "971b59bd",
   "metadata": {
    "ExecuteTime": {
     "end_time": "2022-06-11T04:54:01.518147Z",
     "start_time": "2022-06-11T04:54:01.513249Z"
    }
   },
   "outputs": [],
   "source": [
    "# 범주형 변수의 최빈값을 반환합니다.\n",
    "df['FuelType'].mode()"
   ]
  },
  {
   "cell_type": "code",
   "execution_count": null,
   "id": "df6449be",
   "metadata": {
    "ExecuteTime": {
     "end_time": "2022-06-11T04:54:01.524492Z",
     "start_time": "2022-06-11T04:54:01.519961Z"
    }
   },
   "outputs": [],
   "source": [
    "# 범주형 변수의 빈도수를 내림차순 정렬한 결과를 반환합니다.\n",
    "df['FuelType'].value_counts()"
   ]
  },
  {
   "cell_type": "code",
   "execution_count": null,
   "id": "df41e0f3",
   "metadata": {
    "ExecuteTime": {
     "end_time": "2022-06-11T04:54:01.531146Z",
     "start_time": "2022-06-11T04:54:01.526824Z"
    }
   },
   "outputs": [],
   "source": [
    "# 범주형 변수의 빈도수를 인덱스로 오름차순 정렬한 결과를 반환합니다. \n",
    "df['FuelType'].value_counts().sort_index()"
   ]
  },
  {
   "cell_type": "code",
   "execution_count": null,
   "id": "31c9f0f9",
   "metadata": {
    "ExecuteTime": {
     "end_time": "2022-06-11T04:54:01.538712Z",
     "start_time": "2022-06-11T04:54:01.532788Z"
    }
   },
   "outputs": [],
   "source": [
    "# 범주형 변수의 상대도수를 내림차순 정렬한 결과를 반환합니다.\n",
    "df['FuelType'].value_counts(normalize = True)"
   ]
  },
  {
   "cell_type": "markdown",
   "id": "2a3cade4",
   "metadata": {},
   "source": [
    "### 분위수와 사분위수"
   ]
  },
  {
   "cell_type": "code",
   "execution_count": null,
   "id": "6179cf59",
   "metadata": {
    "ExecuteTime": {
     "end_time": "2022-06-11T04:54:01.475253Z",
     "start_time": "2022-06-11T04:54:01.468741Z"
    }
   },
   "outputs": [],
   "source": [
    "# 전체 데이터를 100 등분하는 경계값인 백분위수를 반환합니다.\n",
    "df['Price'].quantile(q = np.linspace(start = 0, stop = 1, num = 100 + 1))"
   ]
  },
  {
   "cell_type": "code",
   "execution_count": null,
   "id": "4b2fcb32",
   "metadata": {
    "ExecuteTime": {
     "end_time": "2022-06-11T04:54:01.483069Z",
     "start_time": "2022-06-11T04:54:01.477364Z"
    }
   },
   "outputs": [],
   "source": [
    "# 전체 데이터를 10 등분하는 경계값인 십분위수를 반환합니다.\n",
    "df['Price'].quantile(q = np.linspace(start = 0, stop = 1, num = 10 + 1))"
   ]
  },
  {
   "cell_type": "code",
   "execution_count": null,
   "id": "5a14b7ac",
   "metadata": {
    "ExecuteTime": {
     "end_time": "2022-06-11T04:54:01.491149Z",
     "start_time": "2022-06-11T04:54:01.485005Z"
    }
   },
   "outputs": [],
   "source": [
    "# 전체 데이터를 4 등분하는 경계값인 사분위수를 반환합니다.\n",
    "df['Price'].quantile(q = np.linspace(start = 0, stop = 1, num = 4 + 1))"
   ]
  },
  {
   "cell_type": "markdown",
   "id": "3dea93b4",
   "metadata": {},
   "source": [
    "### 범위와 사분범위"
   ]
  },
  {
   "cell_type": "code",
   "execution_count": null,
   "id": "3dd2e3c2",
   "metadata": {
    "ExecuteTime": {
     "end_time": "2022-06-11T04:54:01.497193Z",
     "start_time": "2022-06-11T04:54:01.493376Z"
    }
   },
   "outputs": [],
   "source": [
    "# 연속형 변수의 범위(최댓값과 최솟값의 간격)를 반환합니다.\n",
    "df['Price'].max() - df['Price'].min()"
   ]
  },
  {
   "cell_type": "code",
   "execution_count": null,
   "id": "a24c75cd",
   "metadata": {
    "ExecuteTime": {
     "end_time": "2022-06-11T04:54:01.504071Z",
     "start_time": "2022-06-11T04:54:01.498938Z"
    }
   },
   "outputs": [],
   "source": [
    "# diff()는 인접한 원소 간 차이를 반환합니다.(최댓값 - 최솟값)\n",
    "df['Price'].quantile(q = [0, 1]).diff().iloc[-1]"
   ]
  },
  {
   "cell_type": "code",
   "execution_count": null,
   "id": "072797af",
   "metadata": {
    "ExecuteTime": {
     "end_time": "2022-06-11T04:54:01.511562Z",
     "start_time": "2022-06-11T04:54:01.506308Z"
    }
   },
   "outputs": [],
   "source": [
    "# 연속형 변수의 사분범위(3사분위수와 1사분위수의 간격)를 반환합니다.\n",
    "df['Price'].quantile(q = [0.25, 0.75]).diff().iloc[-1]"
   ]
  },
  {
   "cell_type": "markdown",
   "id": "74727580",
   "metadata": {},
   "source": [
    "### 분산"
   ]
  },
  {
   "cell_type": "code",
   "execution_count": null,
   "id": "d55d5c0e",
   "metadata": {
    "ExecuteTime": {
     "end_time": "2022-06-11T04:54:01.550960Z",
     "start_time": "2022-06-11T04:54:01.547660Z"
    }
   },
   "outputs": [],
   "source": [
    "# 연속형 변수의 분산을 반환합니다.\n",
    "df['Price'].var()"
   ]
  },
  {
   "cell_type": "markdown",
   "id": "85520be5",
   "metadata": {},
   "source": [
    "### 표준편차"
   ]
  },
  {
   "cell_type": "code",
   "execution_count": null,
   "id": "fb1d19a2",
   "metadata": {
    "ExecuteTime": {
     "end_time": "2022-06-11T04:54:01.556540Z",
     "start_time": "2022-06-11T04:54:01.552357Z"
    }
   },
   "outputs": [],
   "source": [
    "# 연속형 변수의 표준편차를 반환합니다.\n",
    "df['Price'].std()"
   ]
  },
  {
   "cell_type": "markdown",
   "id": "3174bdc1",
   "metadata": {},
   "source": [
    "### 중위수절대편차"
   ]
  },
  {
   "cell_type": "code",
   "execution_count": null,
   "id": "a1cdcddc",
   "metadata": {
    "ExecuteTime": {
     "end_time": "2022-06-11T04:54:01.562418Z",
     "start_time": "2022-06-11T04:54:01.558633Z"
    }
   },
   "outputs": [],
   "source": [
    "# 연속형 변수의 중위수절대편차를 반환합니다.\n",
    "robust.mad(a = df['Price'])"
   ]
  },
  {
   "cell_type": "markdown",
   "id": "c5a3171a",
   "metadata": {},
   "source": [
    "### 여러 열의 기술통계량 확인"
   ]
  },
  {
   "cell_type": "code",
   "execution_count": null,
   "id": "7e9beb68",
   "metadata": {
    "ExecuteTime": {
     "end_time": "2022-06-11T04:54:01.613682Z",
     "start_time": "2022-06-11T04:54:01.585996Z"
    }
   },
   "outputs": [],
   "source": [
    "# df의 연속형 변수별 기술통계량을 반환합니다.\n",
    "df.describe()"
   ]
  },
  {
   "cell_type": "code",
   "execution_count": null,
   "id": "c768a253",
   "metadata": {
    "ExecuteTime": {
     "end_time": "2022-06-11T04:54:01.625244Z",
     "start_time": "2022-06-11T04:54:01.615471Z"
    }
   },
   "outputs": [],
   "source": [
    "# df의 범주형 변수별 기술통계량을 반환합니다.\n",
    "df.describe(include = object)"
   ]
  },
  {
   "cell_type": "markdown",
   "id": "62ee836c",
   "metadata": {},
   "source": [
    "### 실습 데이터셋 전처리"
   ]
  },
  {
   "cell_type": "code",
   "execution_count": null,
   "id": "bc07da02",
   "metadata": {
    "ExecuteTime": {
     "end_time": "2022-06-11T04:53:25.280314Z",
     "start_time": "2022-06-11T04:53:25.276255Z"
    }
   },
   "outputs": [],
   "source": [
    "# df를 KM로 오름차순 정렬하고 처음 5행을 출력합니다.\n",
    "df.sort_values(by = ['KM']).head()"
   ]
  },
  {
   "cell_type": "code",
   "execution_count": null,
   "id": "29849010-02e1-4651-8aad-31f8664198b0",
   "metadata": {},
   "outputs": [],
   "source": [
    "# df에서 KM가 1보다 큰 행을 선택합니다.\n",
    "df = df[df['KM'].gt(1)]"
   ]
  },
  {
   "cell_type": "code",
   "execution_count": null,
   "id": "8c5bc957",
   "metadata": {},
   "outputs": [],
   "source": [
    "# df의 행이름을 초기화합니다.\n",
    "df = df.reset_index(drop = True)"
   ]
  },
  {
   "cell_type": "code",
   "execution_count": null,
   "id": "9d7ac322",
   "metadata": {},
   "outputs": [],
   "source": [
    "# df의 행 개수를 확인합니다.\n",
    "df.shape[0]"
   ]
  },
  {
   "cell_type": "markdown",
   "id": "29168cb0-8fd0-4641-97e0-6f8b5fd43ba1",
   "metadata": {},
   "source": [
    "### 작업 경로 확인 및 변경"
   ]
  },
  {
   "cell_type": "code",
   "execution_count": null,
   "id": "d8ffc27d",
   "metadata": {
    "ExecuteTime": {
     "end_time": "2022-06-11T04:54:01.093292Z",
     "start_time": "2022-06-11T04:54:01.085805Z"
    }
   },
   "outputs": [],
   "source": [
    "# 현재 작업 경로를 확인합니다.\n",
    "os.getcwd()"
   ]
  },
  {
   "cell_type": "code",
   "execution_count": null,
   "id": "e4479bd7",
   "metadata": {},
   "outputs": [],
   "source": [
    "# 파일을 저장할 폴더명을 현재 작업 경로와 형제 관계로 설정합니다.\n",
    "folder_path = '../data'"
   ]
  },
  {
   "cell_type": "code",
   "execution_count": null,
   "id": "922f1eb7",
   "metadata": {},
   "outputs": [],
   "source": [
    "# data 폴더가 없으면 새로 만듭니다.\n",
    "if not os.path.exists(path = folder_path):\n",
    "    os.mkdir(path = folder_path)"
   ]
  },
  {
   "cell_type": "code",
   "execution_count": null,
   "id": "bbfe1c72",
   "metadata": {
    "ExecuteTime": {
     "end_time": "2022-06-11T04:54:01.101846Z",
     "start_time": "2022-06-11T04:54:01.099697Z"
    }
   },
   "outputs": [],
   "source": [
    "# data 폴더로 작업 경로를 변경합니다.\n",
    "os.chdir(path = folder_path)"
   ]
  },
  {
   "cell_type": "markdown",
   "id": "8390c762",
   "metadata": {},
   "source": [
    "### 외부 파일로 저장"
   ]
  },
  {
   "cell_type": "code",
   "execution_count": null,
   "id": "9df7a37f",
   "metadata": {
    "ExecuteTime": {
     "end_time": "2022-06-11T04:53:29.254429Z",
     "start_time": "2022-06-11T04:53:28.880426Z"
    }
   },
   "outputs": [],
   "source": [
    "# df를 xlsx 파일로 저장합니다.\n",
    "df.to_excel(excel_writer = 'Used_Cars_Price.xlsx', index = False)"
   ]
  },
  {
   "cell_type": "code",
   "execution_count": null,
   "id": "ccf4266a",
   "metadata": {
    "ExecuteTime": {
     "end_time": "2022-06-11T04:53:29.264789Z",
     "start_time": "2022-06-11T04:53:29.256617Z"
    }
   },
   "outputs": [],
   "source": [
    "# df를 csv 파일로 저장합니다.\n",
    "df.to_csv(path_or_buf = 'Used_Cars_Price.csv', index = False)"
   ]
  },
  {
   "cell_type": "code",
   "execution_count": null,
   "id": "f5ecf0d8",
   "metadata": {
    "ExecuteTime": {
     "end_time": "2022-06-11T04:53:29.285939Z",
     "start_time": "2022-06-11T04:53:29.269110Z"
    }
   },
   "outputs": [],
   "source": [
    "# df를 z 파일로 저장합니다.\n",
    "joblib.dump(value = df, filename = 'Used_Cars_Price.z')"
   ]
  },
  {
   "cell_type": "code",
   "execution_count": null,
   "id": "8ada3e39",
   "metadata": {},
   "outputs": [],
   "source": [
    "# 현재 작업 경로에 있는 폴더명과 파일명을 출력합니다.\n",
    "os.listdir()"
   ]
  },
  {
   "cell_type": "markdown",
   "id": "adb799d0",
   "metadata": {},
   "source": [
    "## End of Document"
   ]
  }
 ],
 "metadata": {
  "kernelspec": {
   "display_name": "Python 3 (ipykernel)",
   "language": "python",
   "name": "python3"
  },
  "language_info": {
   "codemirror_mode": {
    "name": "ipython",
    "version": 3
   },
   "file_extension": ".py",
   "mimetype": "text/x-python",
   "name": "python",
   "nbconvert_exporter": "python",
   "pygments_lexer": "ipython3",
   "version": "3.11.3"
  },
  "toc": {
   "base_numbering": 1,
   "nav_menu": {},
   "number_sections": false,
   "sideBar": true,
   "skip_h1_title": false,
   "title_cell": "Table of Contents",
   "title_sidebar": "Contents",
   "toc_cell": false,
   "toc_position": {},
   "toc_section_display": true,
   "toc_window_display": false
  },
  "varInspector": {
   "cols": {
    "lenName": 16,
    "lenType": 16,
    "lenVar": 40
   },
   "kernels_config": {
    "python": {
     "delete_cmd_postfix": "",
     "delete_cmd_prefix": "del ",
     "library": "var_list.py",
     "varRefreshCmd": "print(var_dic_list())"
    },
    "r": {
     "delete_cmd_postfix": ") ",
     "delete_cmd_prefix": "rm(",
     "library": "var_list.r",
     "varRefreshCmd": "cat(var_dic_list()) "
    }
   },
   "types_to_exclude": [
    "module",
    "function",
    "builtin_function_or_method",
    "instance",
    "_Feature"
   ],
   "window_display": false
  }
 },
 "nbformat": 4,
 "nbformat_minor": 5
}
