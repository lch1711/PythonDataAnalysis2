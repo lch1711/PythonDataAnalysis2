{
 "cells": [
  {
   "cell_type": "markdown",
   "id": "67809a6e",
   "metadata": {},
   "source": [
    "## 기술통계 분석"
   ]
  },
  {
   "cell_type": "markdown",
   "id": "b56eeb24-2e8b-464f-94c2-a9ef5b83add1",
   "metadata": {},
   "source": [
    "### 관련 라이브러리 호출"
   ]
  },
  {
   "cell_type": "code",
   "execution_count": 1,
   "id": "804a837b",
   "metadata": {
    "ExecuteTime": {
     "end_time": "2022-06-11T04:54:01.083201Z",
     "start_time": "2022-06-11T04:54:00.515370Z"
    }
   },
   "outputs": [],
   "source": [
    "# 관련 라이브러리를 호출합니다.\n",
    "import os\n",
    "import joblib\n",
    "import numpy as np\n",
    "import pandas as pd"
   ]
  },
  {
   "cell_type": "code",
   "execution_count": 2,
   "id": "24a0298f",
   "metadata": {},
   "outputs": [],
   "source": [
    "# 통계 관련 라이브러리를 호출합니다.\n",
    "from scipy import stats\n",
    "from statsmodels import robust"
   ]
  },
  {
   "cell_type": "code",
   "execution_count": 3,
   "id": "d27eb83a",
   "metadata": {},
   "outputs": [],
   "source": [
    "# 실수를 출력할 소수점 자릿수를 설정합니다.\n",
    "%precision 3\n",
    "pd.set_option('display.float_format', lambda x: f'{x:.3f}')"
   ]
  },
  {
   "cell_type": "markdown",
   "id": "5b72fe50",
   "metadata": {},
   "source": [
    "### 실습 데이터셋 준비"
   ]
  },
  {
   "cell_type": "code",
   "execution_count": 4,
   "id": "881dd750",
   "metadata": {},
   "outputs": [],
   "source": [
    "# 인터넷에 공유 중인 텍스트 데이터를 읽고 데이터프레임을 생성합니다.\n",
    "df = pd.read_csv(filepath_or_buffer = 'https://bit.ly/UsedCarsPrice')"
   ]
  },
  {
   "cell_type": "code",
   "execution_count": 5,
   "id": "114f09cc",
   "metadata": {
    "ExecuteTime": {
     "end_time": "2022-06-11T04:53:25.250256Z",
     "start_time": "2022-06-11T04:53:25.241089Z"
    }
   },
   "outputs": [
    {
     "name": "stdout",
     "output_type": "stream",
     "text": [
      "<class 'pandas.core.frame.DataFrame'>\n",
      "RangeIndex: 1275 entries, 0 to 1274\n",
      "Data columns (total 10 columns):\n",
      " #   Column     Non-Null Count  Dtype \n",
      "---  ------     --------------  ----- \n",
      " 0   Price      1275 non-null   int64 \n",
      " 1   Age        1275 non-null   int64 \n",
      " 2   KM         1275 non-null   int64 \n",
      " 3   FuelType   1275 non-null   object\n",
      " 4   HP         1275 non-null   int64 \n",
      " 5   MetColor   1275 non-null   int64 \n",
      " 6   Automatic  1275 non-null   int64 \n",
      " 7   CC         1275 non-null   int64 \n",
      " 8   Doors      1275 non-null   int64 \n",
      " 9   Weight     1275 non-null   int64 \n",
      "dtypes: int64(9), object(1)\n",
      "memory usage: 99.7+ KB\n"
     ]
    }
   ],
   "source": [
    "# df의 정보를 확인합니다.\n",
    "df.info()"
   ]
  },
  {
   "cell_type": "code",
   "execution_count": 6,
   "id": "4ba5245e",
   "metadata": {
    "ExecuteTime": {
     "end_time": "2022-06-11T04:53:25.265469Z",
     "start_time": "2022-06-11T04:53:25.252670Z"
    }
   },
   "outputs": [
    {
     "data": {
      "text/html": [
       "<div>\n",
       "<style scoped>\n",
       "    .dataframe tbody tr th:only-of-type {\n",
       "        vertical-align: middle;\n",
       "    }\n",
       "\n",
       "    .dataframe tbody tr th {\n",
       "        vertical-align: top;\n",
       "    }\n",
       "\n",
       "    .dataframe thead th {\n",
       "        text-align: right;\n",
       "    }\n",
       "</style>\n",
       "<table border=\"1\" class=\"dataframe\">\n",
       "  <thead>\n",
       "    <tr style=\"text-align: right;\">\n",
       "      <th></th>\n",
       "      <th>Price</th>\n",
       "      <th>Age</th>\n",
       "      <th>KM</th>\n",
       "      <th>FuelType</th>\n",
       "      <th>HP</th>\n",
       "      <th>MetColor</th>\n",
       "      <th>Automatic</th>\n",
       "      <th>CC</th>\n",
       "      <th>Doors</th>\n",
       "      <th>Weight</th>\n",
       "    </tr>\n",
       "  </thead>\n",
       "  <tbody>\n",
       "    <tr>\n",
       "      <th>0</th>\n",
       "      <td>13500</td>\n",
       "      <td>23</td>\n",
       "      <td>46986</td>\n",
       "      <td>Diesel</td>\n",
       "      <td>90</td>\n",
       "      <td>1</td>\n",
       "      <td>0</td>\n",
       "      <td>2000</td>\n",
       "      <td>3</td>\n",
       "      <td>1165</td>\n",
       "    </tr>\n",
       "    <tr>\n",
       "      <th>1</th>\n",
       "      <td>13750</td>\n",
       "      <td>23</td>\n",
       "      <td>72937</td>\n",
       "      <td>Diesel</td>\n",
       "      <td>90</td>\n",
       "      <td>1</td>\n",
       "      <td>0</td>\n",
       "      <td>2000</td>\n",
       "      <td>3</td>\n",
       "      <td>1165</td>\n",
       "    </tr>\n",
       "    <tr>\n",
       "      <th>2</th>\n",
       "      <td>13950</td>\n",
       "      <td>24</td>\n",
       "      <td>41711</td>\n",
       "      <td>Diesel</td>\n",
       "      <td>90</td>\n",
       "      <td>1</td>\n",
       "      <td>0</td>\n",
       "      <td>2000</td>\n",
       "      <td>3</td>\n",
       "      <td>1165</td>\n",
       "    </tr>\n",
       "    <tr>\n",
       "      <th>3</th>\n",
       "      <td>14950</td>\n",
       "      <td>26</td>\n",
       "      <td>48000</td>\n",
       "      <td>Diesel</td>\n",
       "      <td>90</td>\n",
       "      <td>0</td>\n",
       "      <td>0</td>\n",
       "      <td>2000</td>\n",
       "      <td>3</td>\n",
       "      <td>1165</td>\n",
       "    </tr>\n",
       "    <tr>\n",
       "      <th>4</th>\n",
       "      <td>13750</td>\n",
       "      <td>30</td>\n",
       "      <td>38500</td>\n",
       "      <td>Diesel</td>\n",
       "      <td>90</td>\n",
       "      <td>0</td>\n",
       "      <td>0</td>\n",
       "      <td>2000</td>\n",
       "      <td>3</td>\n",
       "      <td>1170</td>\n",
       "    </tr>\n",
       "  </tbody>\n",
       "</table>\n",
       "</div>"
      ],
      "text/plain": [
       "   Price  Age     KM FuelType  HP  MetColor  Automatic    CC  Doors  Weight\n",
       "0  13500   23  46986   Diesel  90         1          0  2000      3    1165\n",
       "1  13750   23  72937   Diesel  90         1          0  2000      3    1165\n",
       "2  13950   24  41711   Diesel  90         1          0  2000      3    1165\n",
       "3  14950   26  48000   Diesel  90         0          0  2000      3    1165\n",
       "4  13750   30  38500   Diesel  90         0          0  2000      3    1170"
      ]
     },
     "execution_count": 6,
     "metadata": {},
     "output_type": "execute_result"
    }
   ],
   "source": [
    "# df의 처음 5행을 출력합니다.\n",
    "df.head()"
   ]
  },
  {
   "cell_type": "markdown",
   "id": "d503a829",
   "metadata": {},
   "source": [
    "### 실습 데이터셋 전처리"
   ]
  },
  {
   "cell_type": "code",
   "execution_count": 7,
   "id": "af10aa65",
   "metadata": {},
   "outputs": [
    {
     "data": {
      "text/plain": [
       "Index(['Price', 'Age', 'KM', 'FuelType', 'HP', 'MetColor', 'Automatic', 'CC',\n",
       "       'Doors', 'Weight'],\n",
       "      dtype='object')"
      ]
     },
     "execution_count": 7,
     "metadata": {},
     "output_type": "execute_result"
    }
   ],
   "source": [
    "# df의 열이름을 출력합니다.\n",
    "df.columns"
   ]
  },
  {
   "cell_type": "code",
   "execution_count": 8,
   "id": "6a3055ed",
   "metadata": {
    "ExecuteTime": {
     "end_time": "2022-06-11T04:53:25.269181Z",
     "start_time": "2022-06-11T04:53:25.267138Z"
    }
   },
   "outputs": [],
   "source": [
    "# 범주형으로 변환할 열이름으로 리스트를 생성합니다.\n",
    "cols = ['MetColor', 'Automatic']"
   ]
  },
  {
   "cell_type": "code",
   "execution_count": 9,
   "id": "e18e3163",
   "metadata": {
    "ExecuteTime": {
     "end_time": "2022-06-11T04:53:25.274762Z",
     "start_time": "2022-06-11T04:53:25.270666Z"
    }
   },
   "outputs": [],
   "source": [
    "# 지정한 변수를 범주형으로 일괄 변환합니다.\n",
    "df[cols] = df[cols].astype(str)"
   ]
  },
  {
   "cell_type": "code",
   "execution_count": 10,
   "id": "deffe7ae-1670-4829-bc66-c335dd3f8a23",
   "metadata": {},
   "outputs": [
    {
     "data": {
      "text/plain": [
       "Price         int64\n",
       "Age           int64\n",
       "KM            int64\n",
       "FuelType     object\n",
       "HP            int64\n",
       "MetColor     object\n",
       "Automatic    object\n",
       "CC            int64\n",
       "Doors         int64\n",
       "Weight        int64\n",
       "dtype: object"
      ]
     },
     "execution_count": 10,
     "metadata": {},
     "output_type": "execute_result"
    }
   ],
   "source": [
    "# 열별 자료형을 확인합니다.\n",
    "df.dtypes"
   ]
  },
  {
   "cell_type": "markdown",
   "id": "6becb55d",
   "metadata": {},
   "source": [
    "### 평균"
   ]
  },
  {
   "cell_type": "code",
   "execution_count": 11,
   "id": "91e65df6",
   "metadata": {
    "ExecuteTime": {
     "end_time": "2022-06-11T04:54:01.431785Z",
     "start_time": "2022-06-11T04:54:01.427584Z"
    },
    "scrolled": true
   },
   "outputs": [
    {
     "data": {
      "text/plain": [
       "9690.233"
      ]
     },
     "execution_count": 11,
     "metadata": {},
     "output_type": "execute_result"
    }
   ],
   "source": [
    "# 연속형 변수의 평균을 반환합니다.\n",
    "df['Price'].mean()"
   ]
  },
  {
   "cell_type": "code",
   "execution_count": 12,
   "id": "13f3e481",
   "metadata": {
    "ExecuteTime": {
     "end_time": "2022-06-11T04:54:01.435972Z",
     "start_time": "2022-06-11T04:54:01.433501Z"
    }
   },
   "outputs": [
    {
     "data": {
      "text/plain": [
       "0   1.000\n",
       "1     NaN\n",
       "2   2.000\n",
       "dtype: float64"
      ]
     },
     "execution_count": 12,
     "metadata": {},
     "output_type": "execute_result"
    }
   ],
   "source": [
    "# 결측값을 포함하는 시리즈를 생성합니다.\n",
    "# [참고] nums의 1번 인덱스(두 번째) 원소가 결측값입니다.\n",
    "nums = pd.Series(data = [1, np.nan, 2])\n",
    "nums"
   ]
  },
  {
   "cell_type": "code",
   "execution_count": 13,
   "id": "02faf25d",
   "metadata": {
    "ExecuteTime": {
     "end_time": "2022-06-11T04:54:01.447717Z",
     "start_time": "2022-06-11T04:54:01.444415Z"
    }
   },
   "outputs": [
    {
     "data": {
      "text/plain": [
       "1.500"
      ]
     },
     "execution_count": 13,
     "metadata": {},
     "output_type": "execute_result"
    }
   ],
   "source": [
    "# nums의 평균을 반환합니다.\n",
    "nums.mean()"
   ]
  },
  {
   "cell_type": "markdown",
   "id": "de42749f",
   "metadata": {},
   "source": [
    "### 절사평균"
   ]
  },
  {
   "cell_type": "code",
   "execution_count": 14,
   "id": "25338bcd",
   "metadata": {
    "ExecuteTime": {
     "end_time": "2022-06-11T04:54:01.454217Z",
     "start_time": "2022-06-11T04:54:01.450021Z"
    }
   },
   "outputs": [
    {
     "data": {
      "text/plain": [
       "9584.380"
      ]
     },
     "execution_count": 14,
     "metadata": {},
     "output_type": "execute_result"
    }
   ],
   "source": [
    "# 연속형 변수의 10% 절사평균을 반환합니다.\n",
    "stats.trim_mean(df['Price'], 0.1)"
   ]
  },
  {
   "cell_type": "markdown",
   "id": "f0ffa9eb",
   "metadata": {},
   "source": [
    "### 중위수"
   ]
  },
  {
   "cell_type": "code",
   "execution_count": 15,
   "id": "aef54a41",
   "metadata": {
    "ExecuteTime": {
     "end_time": "2022-06-11T04:54:01.460033Z",
     "start_time": "2022-06-11T04:54:01.456043Z"
    }
   },
   "outputs": [
    {
     "data": {
      "text/plain": [
       "9450.000"
      ]
     },
     "execution_count": 15,
     "metadata": {},
     "output_type": "execute_result"
    }
   ],
   "source": [
    "# 연속형 변수의 중위수를 반환합니다.\n",
    "df['Price'].median()"
   ]
  },
  {
   "cell_type": "code",
   "execution_count": 16,
   "id": "6e552e39",
   "metadata": {
    "ExecuteTime": {
     "end_time": "2022-06-11T04:54:01.466277Z",
     "start_time": "2022-06-11T04:54:01.461930Z"
    }
   },
   "outputs": [
    {
     "data": {
      "text/plain": [
       "9450.000"
      ]
     },
     "execution_count": 16,
     "metadata": {},
     "output_type": "execute_result"
    }
   ],
   "source": [
    "# [참고] 50% 절사평균을 계산하면 원소 개수가 홀수일 때 중위수, \n",
    "# 짝수일 때 결측값을 반환합니다.\n",
    "stats.trim_mean(df['Price'], 0.5)"
   ]
  },
  {
   "cell_type": "markdown",
   "id": "4bcec1b4",
   "metadata": {},
   "source": [
    "### 최빈값"
   ]
  },
  {
   "cell_type": "code",
   "execution_count": 17,
   "id": "971b59bd",
   "metadata": {
    "ExecuteTime": {
     "end_time": "2022-06-11T04:54:01.518147Z",
     "start_time": "2022-06-11T04:54:01.513249Z"
    }
   },
   "outputs": [
    {
     "data": {
      "text/plain": [
       "0    Petrol\n",
       "Name: FuelType, dtype: object"
      ]
     },
     "execution_count": 17,
     "metadata": {},
     "output_type": "execute_result"
    }
   ],
   "source": [
    "# 범주형 변수의 최빈값을 반환합니다.\n",
    "df['FuelType'].mode()"
   ]
  },
  {
   "cell_type": "code",
   "execution_count": 18,
   "id": "df6449be",
   "metadata": {
    "ExecuteTime": {
     "end_time": "2022-06-11T04:54:01.524492Z",
     "start_time": "2022-06-11T04:54:01.519961Z"
    }
   },
   "outputs": [
    {
     "data": {
      "text/plain": [
       "Petrol    1129\n",
       "Diesel     129\n",
       "CNG         17\n",
       "Name: FuelType, dtype: int64"
      ]
     },
     "execution_count": 18,
     "metadata": {},
     "output_type": "execute_result"
    }
   ],
   "source": [
    "# 범주형 변수의 빈도수를 내림차순 정렬한 결과를 반환합니다.\n",
    "df['FuelType'].value_counts()"
   ]
  },
  {
   "cell_type": "code",
   "execution_count": 19,
   "id": "df41e0f3",
   "metadata": {
    "ExecuteTime": {
     "end_time": "2022-06-11T04:54:01.531146Z",
     "start_time": "2022-06-11T04:54:01.526824Z"
    }
   },
   "outputs": [
    {
     "data": {
      "text/plain": [
       "CNG         17\n",
       "Diesel     129\n",
       "Petrol    1129\n",
       "Name: FuelType, dtype: int64"
      ]
     },
     "execution_count": 19,
     "metadata": {},
     "output_type": "execute_result"
    }
   ],
   "source": [
    "# 범주형 변수의 빈도수를 인덱스로 오름차순 정렬한 결과를 반환합니다. \n",
    "df['FuelType'].value_counts().sort_index()"
   ]
  },
  {
   "cell_type": "code",
   "execution_count": 20,
   "id": "31c9f0f9",
   "metadata": {
    "ExecuteTime": {
     "end_time": "2022-06-11T04:54:01.538712Z",
     "start_time": "2022-06-11T04:54:01.532788Z"
    }
   },
   "outputs": [
    {
     "data": {
      "text/plain": [
       "Petrol   0.885\n",
       "Diesel   0.101\n",
       "CNG      0.013\n",
       "Name: FuelType, dtype: float64"
      ]
     },
     "execution_count": 20,
     "metadata": {},
     "output_type": "execute_result"
    }
   ],
   "source": [
    "# 범주형 변수의 상대도수를 내림차순 정렬한 결과를 반환합니다.\n",
    "df['FuelType'].value_counts(normalize = True)"
   ]
  },
  {
   "cell_type": "markdown",
   "id": "2a3cade4",
   "metadata": {},
   "source": [
    "### 분위수와 사분위수"
   ]
  },
  {
   "cell_type": "code",
   "execution_count": 21,
   "id": "6179cf59",
   "metadata": {
    "ExecuteTime": {
     "end_time": "2022-06-11T04:54:01.475253Z",
     "start_time": "2022-06-11T04:54:01.468741Z"
    }
   },
   "outputs": [
    {
     "data": {
      "text/plain": [
       "0.000    4350.000\n",
       "0.010    5833.300\n",
       "0.020    5950.000\n",
       "0.030    6496.100\n",
       "0.040    6650.000\n",
       "           ...   \n",
       "0.960   13510.000\n",
       "0.970   13950.000\n",
       "0.980   14179.600\n",
       "0.990   14950.000\n",
       "1.000   15950.000\n",
       "Name: Price, Length: 101, dtype: float64"
      ]
     },
     "execution_count": 21,
     "metadata": {},
     "output_type": "execute_result"
    }
   ],
   "source": [
    "# 전체 데이터를 100 등분하는 경계값인 백분위수를 반환합니다.\n",
    "df['Price'].quantile(q = np.linspace(start = 0, stop = 1, num = 100 + 1))"
   ]
  },
  {
   "cell_type": "code",
   "execution_count": 22,
   "id": "4b2fcb32",
   "metadata": {
    "ExecuteTime": {
     "end_time": "2022-06-11T04:54:01.483069Z",
     "start_time": "2022-06-11T04:54:01.477364Z"
    }
   },
   "outputs": [
    {
     "data": {
      "text/plain": [
       "0.000    4350.000\n",
       "0.100    7250.000\n",
       "0.200    7950.000\n",
       "0.300    8500.000\n",
       "0.400    8950.000\n",
       "0.500    9450.000\n",
       "0.600    9950.000\n",
       "0.700   10500.000\n",
       "0.800   11456.000\n",
       "0.900   12500.000\n",
       "1.000   15950.000\n",
       "Name: Price, dtype: float64"
      ]
     },
     "execution_count": 22,
     "metadata": {},
     "output_type": "execute_result"
    }
   ],
   "source": [
    "# 전체 데이터를 10 등분하는 경계값인 십분위수를 반환합니다.\n",
    "df['Price'].quantile(q = np.linspace(start = 0, stop = 1, num = 10 + 1))"
   ]
  },
  {
   "cell_type": "code",
   "execution_count": 23,
   "id": "5a14b7ac",
   "metadata": {
    "ExecuteTime": {
     "end_time": "2022-06-11T04:54:01.491149Z",
     "start_time": "2022-06-11T04:54:01.485005Z"
    }
   },
   "outputs": [
    {
     "data": {
      "text/plain": [
       "0.000    4350.000\n",
       "0.250    8250.000\n",
       "0.500    9450.000\n",
       "0.750   10950.000\n",
       "1.000   15950.000\n",
       "Name: Price, dtype: float64"
      ]
     },
     "execution_count": 23,
     "metadata": {},
     "output_type": "execute_result"
    }
   ],
   "source": [
    "# 전체 데이터를 4 등분하는 경계값인 사분위수를 반환합니다.\n",
    "df['Price'].quantile(q = np.linspace(start = 0, stop = 1, num = 4 + 1))"
   ]
  },
  {
   "cell_type": "markdown",
   "id": "3dea93b4",
   "metadata": {},
   "source": [
    "### 범위와 사분범위"
   ]
  },
  {
   "cell_type": "code",
   "execution_count": 24,
   "id": "3dd2e3c2",
   "metadata": {
    "ExecuteTime": {
     "end_time": "2022-06-11T04:54:01.497193Z",
     "start_time": "2022-06-11T04:54:01.493376Z"
    }
   },
   "outputs": [
    {
     "data": {
      "text/plain": [
       "11600"
      ]
     },
     "execution_count": 24,
     "metadata": {},
     "output_type": "execute_result"
    }
   ],
   "source": [
    "# 연속형 변수의 범위(최댓값과 최솟값의 간격)를 반환합니다.\n",
    "df['Price'].max() - df['Price'].min()"
   ]
  },
  {
   "cell_type": "code",
   "execution_count": 25,
   "id": "a24c75cd",
   "metadata": {
    "ExecuteTime": {
     "end_time": "2022-06-11T04:54:01.504071Z",
     "start_time": "2022-06-11T04:54:01.498938Z"
    }
   },
   "outputs": [
    {
     "data": {
      "text/plain": [
       "11600.000"
      ]
     },
     "execution_count": 25,
     "metadata": {},
     "output_type": "execute_result"
    }
   ],
   "source": [
    "# diff() 함수는 원소 간 차이를 반환합니다.(최댓값 - 최솟값)\n",
    "df['Price'].quantile(q = [0, 1]).diff().iloc[-1]"
   ]
  },
  {
   "cell_type": "code",
   "execution_count": 26,
   "id": "072797af",
   "metadata": {
    "ExecuteTime": {
     "end_time": "2022-06-11T04:54:01.511562Z",
     "start_time": "2022-06-11T04:54:01.506308Z"
    }
   },
   "outputs": [
    {
     "data": {
      "text/plain": [
       "2700.000"
      ]
     },
     "execution_count": 26,
     "metadata": {},
     "output_type": "execute_result"
    }
   ],
   "source": [
    "# 연속형 변수의 사분범위(3사분위수와 1사분위수의 간격)를 반환합니다.\n",
    "df['Price'].quantile(q = [0.25, 0.75]).diff().iloc[-1]"
   ]
  },
  {
   "cell_type": "markdown",
   "id": "74727580",
   "metadata": {},
   "source": [
    "### 분산"
   ]
  },
  {
   "cell_type": "code",
   "execution_count": 27,
   "id": "d55d5c0e",
   "metadata": {
    "ExecuteTime": {
     "end_time": "2022-06-11T04:54:01.550960Z",
     "start_time": "2022-06-11T04:54:01.547660Z"
    }
   },
   "outputs": [
    {
     "data": {
      "text/plain": [
       "4120265.326"
      ]
     },
     "execution_count": 27,
     "metadata": {},
     "output_type": "execute_result"
    }
   ],
   "source": [
    "# 연속형 변수의 분산을 반환합니다.\n",
    "df['Price'].var()"
   ]
  },
  {
   "cell_type": "markdown",
   "id": "85520be5",
   "metadata": {},
   "source": [
    "### 표준편차"
   ]
  },
  {
   "cell_type": "code",
   "execution_count": 28,
   "id": "fb1d19a2",
   "metadata": {
    "ExecuteTime": {
     "end_time": "2022-06-11T04:54:01.556540Z",
     "start_time": "2022-06-11T04:54:01.552357Z"
    }
   },
   "outputs": [
    {
     "data": {
      "text/plain": [
       "2029.844"
      ]
     },
     "execution_count": 28,
     "metadata": {},
     "output_type": "execute_result"
    }
   ],
   "source": [
    "# 연속형 변수의 표준편차를 반환합니다.\n",
    "df['Price'].std()"
   ]
  },
  {
   "cell_type": "markdown",
   "id": "3174bdc1",
   "metadata": {},
   "source": [
    "### 중위수절대편차"
   ]
  },
  {
   "cell_type": "code",
   "execution_count": 29,
   "id": "a1cdcddc",
   "metadata": {
    "ExecuteTime": {
     "end_time": "2022-06-11T04:54:01.562418Z",
     "start_time": "2022-06-11T04:54:01.558633Z"
    }
   },
   "outputs": [
    {
     "data": {
      "text/plain": [
       "2223.903"
      ]
     },
     "execution_count": 29,
     "metadata": {},
     "output_type": "execute_result"
    }
   ],
   "source": [
    "# 연속형 변수의 중위수절대편차를 반환합니다.\n",
    "robust.mad(a = df['Price'])"
   ]
  },
  {
   "cell_type": "markdown",
   "id": "c5a3171a",
   "metadata": {},
   "source": [
    "### 여러 열의 기술통계량 확인"
   ]
  },
  {
   "cell_type": "code",
   "execution_count": 30,
   "id": "7e9beb68",
   "metadata": {
    "ExecuteTime": {
     "end_time": "2022-06-11T04:54:01.613682Z",
     "start_time": "2022-06-11T04:54:01.585996Z"
    }
   },
   "outputs": [
    {
     "data": {
      "text/html": [
       "<div>\n",
       "<style scoped>\n",
       "    .dataframe tbody tr th:only-of-type {\n",
       "        vertical-align: middle;\n",
       "    }\n",
       "\n",
       "    .dataframe tbody tr th {\n",
       "        vertical-align: top;\n",
       "    }\n",
       "\n",
       "    .dataframe thead th {\n",
       "        text-align: right;\n",
       "    }\n",
       "</style>\n",
       "<table border=\"1\" class=\"dataframe\">\n",
       "  <thead>\n",
       "    <tr style=\"text-align: right;\">\n",
       "      <th></th>\n",
       "      <th>Price</th>\n",
       "      <th>Age</th>\n",
       "      <th>KM</th>\n",
       "      <th>HP</th>\n",
       "      <th>CC</th>\n",
       "      <th>Doors</th>\n",
       "      <th>Weight</th>\n",
       "    </tr>\n",
       "  </thead>\n",
       "  <tbody>\n",
       "    <tr>\n",
       "      <th>count</th>\n",
       "      <td>1275.000</td>\n",
       "      <td>1275.000</td>\n",
       "      <td>1275.000</td>\n",
       "      <td>1275.000</td>\n",
       "      <td>1275.000</td>\n",
       "      <td>1275.000</td>\n",
       "      <td>1275.000</td>\n",
       "    </tr>\n",
       "    <tr>\n",
       "      <th>mean</th>\n",
       "      <td>9690.233</td>\n",
       "      <td>60.603</td>\n",
       "      <td>73692.409</td>\n",
       "      <td>100.397</td>\n",
       "      <td>1559.513</td>\n",
       "      <td>3.998</td>\n",
       "      <td>1062.692</td>\n",
       "    </tr>\n",
       "    <tr>\n",
       "      <th>std</th>\n",
       "      <td>2029.844</td>\n",
       "      <td>13.694</td>\n",
       "      <td>35949.783</td>\n",
       "      <td>13.111</td>\n",
       "      <td>184.690</td>\n",
       "      <td>0.951</td>\n",
       "      <td>39.790</td>\n",
       "    </tr>\n",
       "    <tr>\n",
       "      <th>min</th>\n",
       "      <td>4350.000</td>\n",
       "      <td>19.000</td>\n",
       "      <td>1.000</td>\n",
       "      <td>69.000</td>\n",
       "      <td>1300.000</td>\n",
       "      <td>2.000</td>\n",
       "      <td>1000.000</td>\n",
       "    </tr>\n",
       "    <tr>\n",
       "      <th>25%</th>\n",
       "      <td>8250.000</td>\n",
       "      <td>51.000</td>\n",
       "      <td>48948.500</td>\n",
       "      <td>86.000</td>\n",
       "      <td>1400.000</td>\n",
       "      <td>3.000</td>\n",
       "      <td>1035.000</td>\n",
       "    </tr>\n",
       "    <tr>\n",
       "      <th>50%</th>\n",
       "      <td>9450.000</td>\n",
       "      <td>63.000</td>\n",
       "      <td>67451.000</td>\n",
       "      <td>110.000</td>\n",
       "      <td>1600.000</td>\n",
       "      <td>4.000</td>\n",
       "      <td>1060.000</td>\n",
       "    </tr>\n",
       "    <tr>\n",
       "      <th>75%</th>\n",
       "      <td>10950.000</td>\n",
       "      <td>71.500</td>\n",
       "      <td>90325.000</td>\n",
       "      <td>110.000</td>\n",
       "      <td>1600.000</td>\n",
       "      <td>5.000</td>\n",
       "      <td>1075.000</td>\n",
       "    </tr>\n",
       "    <tr>\n",
       "      <th>max</th>\n",
       "      <td>15950.000</td>\n",
       "      <td>80.000</td>\n",
       "      <td>243000.000</td>\n",
       "      <td>116.000</td>\n",
       "      <td>2000.000</td>\n",
       "      <td>5.000</td>\n",
       "      <td>1615.000</td>\n",
       "    </tr>\n",
       "  </tbody>\n",
       "</table>\n",
       "</div>"
      ],
      "text/plain": [
       "          Price      Age         KM       HP       CC    Doors   Weight\n",
       "count  1275.000 1275.000   1275.000 1275.000 1275.000 1275.000 1275.000\n",
       "mean   9690.233   60.603  73692.409  100.397 1559.513    3.998 1062.692\n",
       "std    2029.844   13.694  35949.783   13.111  184.690    0.951   39.790\n",
       "min    4350.000   19.000      1.000   69.000 1300.000    2.000 1000.000\n",
       "25%    8250.000   51.000  48948.500   86.000 1400.000    3.000 1035.000\n",
       "50%    9450.000   63.000  67451.000  110.000 1600.000    4.000 1060.000\n",
       "75%   10950.000   71.500  90325.000  110.000 1600.000    5.000 1075.000\n",
       "max   15950.000   80.000 243000.000  116.000 2000.000    5.000 1615.000"
      ]
     },
     "execution_count": 30,
     "metadata": {},
     "output_type": "execute_result"
    }
   ],
   "source": [
    "# 연속형 변수의 기술통계량을 반환합니다.\n",
    "df.describe()"
   ]
  },
  {
   "cell_type": "code",
   "execution_count": 31,
   "id": "c768a253",
   "metadata": {
    "ExecuteTime": {
     "end_time": "2022-06-11T04:54:01.625244Z",
     "start_time": "2022-06-11T04:54:01.615471Z"
    }
   },
   "outputs": [
    {
     "data": {
      "text/html": [
       "<div>\n",
       "<style scoped>\n",
       "    .dataframe tbody tr th:only-of-type {\n",
       "        vertical-align: middle;\n",
       "    }\n",
       "\n",
       "    .dataframe tbody tr th {\n",
       "        vertical-align: top;\n",
       "    }\n",
       "\n",
       "    .dataframe thead th {\n",
       "        text-align: right;\n",
       "    }\n",
       "</style>\n",
       "<table border=\"1\" class=\"dataframe\">\n",
       "  <thead>\n",
       "    <tr style=\"text-align: right;\">\n",
       "      <th></th>\n",
       "      <th>FuelType</th>\n",
       "      <th>MetColor</th>\n",
       "      <th>Automatic</th>\n",
       "    </tr>\n",
       "  </thead>\n",
       "  <tbody>\n",
       "    <tr>\n",
       "      <th>count</th>\n",
       "      <td>1275</td>\n",
       "      <td>1275</td>\n",
       "      <td>1275</td>\n",
       "    </tr>\n",
       "    <tr>\n",
       "      <th>unique</th>\n",
       "      <td>3</td>\n",
       "      <td>2</td>\n",
       "      <td>2</td>\n",
       "    </tr>\n",
       "    <tr>\n",
       "      <th>top</th>\n",
       "      <td>Petrol</td>\n",
       "      <td>1</td>\n",
       "      <td>0</td>\n",
       "    </tr>\n",
       "    <tr>\n",
       "      <th>freq</th>\n",
       "      <td>1129</td>\n",
       "      <td>843</td>\n",
       "      <td>1205</td>\n",
       "    </tr>\n",
       "  </tbody>\n",
       "</table>\n",
       "</div>"
      ],
      "text/plain": [
       "       FuelType MetColor Automatic\n",
       "count      1275     1275      1275\n",
       "unique        3        2         2\n",
       "top      Petrol        1         0\n",
       "freq       1129      843      1205"
      ]
     },
     "execution_count": 31,
     "metadata": {},
     "output_type": "execute_result"
    }
   ],
   "source": [
    "# 범주형 변수의 기술통계량을 반환합니다.\n",
    "df.describe(include = object)"
   ]
  },
  {
   "cell_type": "markdown",
   "id": "62ee836c",
   "metadata": {},
   "source": [
    "### 실습 데이터셋 전처리"
   ]
  },
  {
   "cell_type": "code",
   "execution_count": 32,
   "id": "bc07da02",
   "metadata": {
    "ExecuteTime": {
     "end_time": "2022-06-11T04:53:25.280314Z",
     "start_time": "2022-06-11T04:53:25.276255Z"
    }
   },
   "outputs": [
    {
     "data": {
      "text/html": [
       "<div>\n",
       "<style scoped>\n",
       "    .dataframe tbody tr th:only-of-type {\n",
       "        vertical-align: middle;\n",
       "    }\n",
       "\n",
       "    .dataframe tbody tr th {\n",
       "        vertical-align: top;\n",
       "    }\n",
       "\n",
       "    .dataframe thead th {\n",
       "        text-align: right;\n",
       "    }\n",
       "</style>\n",
       "<table border=\"1\" class=\"dataframe\">\n",
       "  <thead>\n",
       "    <tr style=\"text-align: right;\">\n",
       "      <th></th>\n",
       "      <th>Price</th>\n",
       "      <th>Age</th>\n",
       "      <th>KM</th>\n",
       "      <th>FuelType</th>\n",
       "      <th>HP</th>\n",
       "      <th>MetColor</th>\n",
       "      <th>Automatic</th>\n",
       "      <th>CC</th>\n",
       "      <th>Doors</th>\n",
       "      <th>Weight</th>\n",
       "    </tr>\n",
       "  </thead>\n",
       "  <tbody>\n",
       "    <tr>\n",
       "      <th>433</th>\n",
       "      <td>7500</td>\n",
       "      <td>50</td>\n",
       "      <td>1</td>\n",
       "      <td>Diesel</td>\n",
       "      <td>90</td>\n",
       "      <td>1</td>\n",
       "      <td>0</td>\n",
       "      <td>2000</td>\n",
       "      <td>3</td>\n",
       "      <td>1260</td>\n",
       "    </tr>\n",
       "    <tr>\n",
       "      <th>1267</th>\n",
       "      <td>6950</td>\n",
       "      <td>76</td>\n",
       "      <td>1</td>\n",
       "      <td>Petrol</td>\n",
       "      <td>110</td>\n",
       "      <td>0</td>\n",
       "      <td>0</td>\n",
       "      <td>1600</td>\n",
       "      <td>5</td>\n",
       "      <td>1114</td>\n",
       "    </tr>\n",
       "    <tr>\n",
       "      <th>432</th>\n",
       "      <td>11250</td>\n",
       "      <td>47</td>\n",
       "      <td>5309</td>\n",
       "      <td>Petrol</td>\n",
       "      <td>110</td>\n",
       "      <td>1</td>\n",
       "      <td>1</td>\n",
       "      <td>1600</td>\n",
       "      <td>3</td>\n",
       "      <td>1070</td>\n",
       "    </tr>\n",
       "    <tr>\n",
       "      <th>18</th>\n",
       "      <td>14900</td>\n",
       "      <td>30</td>\n",
       "      <td>7000</td>\n",
       "      <td>Petrol</td>\n",
       "      <td>97</td>\n",
       "      <td>1</td>\n",
       "      <td>0</td>\n",
       "      <td>1400</td>\n",
       "      <td>5</td>\n",
       "      <td>1100</td>\n",
       "    </tr>\n",
       "    <tr>\n",
       "      <th>7</th>\n",
       "      <td>12950</td>\n",
       "      <td>29</td>\n",
       "      <td>9750</td>\n",
       "      <td>Petrol</td>\n",
       "      <td>97</td>\n",
       "      <td>1</td>\n",
       "      <td>0</td>\n",
       "      <td>1400</td>\n",
       "      <td>3</td>\n",
       "      <td>1100</td>\n",
       "    </tr>\n",
       "  </tbody>\n",
       "</table>\n",
       "</div>"
      ],
      "text/plain": [
       "      Price  Age    KM FuelType   HP MetColor Automatic    CC  Doors  Weight\n",
       "433    7500   50     1   Diesel   90        1         0  2000      3    1260\n",
       "1267   6950   76     1   Petrol  110        0         0  1600      5    1114\n",
       "432   11250   47  5309   Petrol  110        1         1  1600      3    1070\n",
       "18    14900   30  7000   Petrol   97        1         0  1400      5    1100\n",
       "7     12950   29  9750   Petrol   97        1         0  1400      3    1100"
      ]
     },
     "execution_count": 32,
     "metadata": {},
     "output_type": "execute_result"
    }
   ],
   "source": [
    "# df를 KM로 오름차순 정렬하고 처음 5행을 출력합니다.\n",
    "df.sort_values(by = ['KM']).head()"
   ]
  },
  {
   "cell_type": "code",
   "execution_count": 33,
   "id": "29849010-02e1-4651-8aad-31f8664198b0",
   "metadata": {},
   "outputs": [],
   "source": [
    "# df에서 KM가 1보다 큰 행을 선택하고 행이름을 초기화합니다.\n",
    "df = df[df['KM'].gt(1)].reset_index(drop = True)"
   ]
  },
  {
   "cell_type": "code",
   "execution_count": 34,
   "id": "9d7ac322",
   "metadata": {},
   "outputs": [
    {
     "data": {
      "text/plain": [
       "1273"
      ]
     },
     "execution_count": 34,
     "metadata": {},
     "output_type": "execute_result"
    }
   ],
   "source": [
    "# df의 행 개수를 확인합니다.\n",
    "df.shape[0]"
   ]
  },
  {
   "cell_type": "markdown",
   "id": "29168cb0-8fd0-4641-97e0-6f8b5fd43ba1",
   "metadata": {},
   "source": [
    "### 작업 경로 확인 및 변경"
   ]
  },
  {
   "cell_type": "code",
   "execution_count": 35,
   "id": "d8ffc27d",
   "metadata": {
    "ExecuteTime": {
     "end_time": "2022-06-11T04:54:01.093292Z",
     "start_time": "2022-06-11T04:54:01.085805Z"
    }
   },
   "outputs": [
    {
     "data": {
      "text/plain": [
       "'/Users/hdsceokevin/Documents/Lectures/PythonDataAnalysis2/code'"
      ]
     },
     "execution_count": 35,
     "metadata": {},
     "output_type": "execute_result"
    }
   ],
   "source": [
    "# 현재 작업 경로를 확인합니다.\n",
    "os.getcwd()"
   ]
  },
  {
   "cell_type": "code",
   "execution_count": 36,
   "id": "bbfe1c72",
   "metadata": {
    "ExecuteTime": {
     "end_time": "2022-06-11T04:54:01.101846Z",
     "start_time": "2022-06-11T04:54:01.099697Z"
    }
   },
   "outputs": [],
   "source": [
    "# data 폴더로 작업 경로를 변경합니다.\n",
    "os.chdir('../data')"
   ]
  },
  {
   "cell_type": "code",
   "execution_count": 37,
   "id": "f9eca63c",
   "metadata": {
    "ExecuteTime": {
     "end_time": "2022-06-11T04:54:01.109929Z",
     "start_time": "2022-06-11T04:54:01.106021Z"
    }
   },
   "outputs": [
    {
     "data": {
      "text/plain": [
       "['APT_Price_GangNam_2020.xlsx',\n",
       " 'KBO_Hitter_2022.z',\n",
       " 'Seafood_Trade_Prep.z',\n",
       " 'Used_Cars_Price.csv',\n",
       " 'Used_Cars_Price.xlsx',\n",
       " 'Used_Cars_Price.z',\n",
       " 'Used_Cars_Price_Prep.z']"
      ]
     },
     "execution_count": 37,
     "metadata": {},
     "output_type": "execute_result"
    }
   ],
   "source": [
    "# 현재 작업 경로에 있는 폴더명과 파일명을 출력합니다.\n",
    "sorted(os.listdir())"
   ]
  },
  {
   "cell_type": "markdown",
   "id": "8390c762",
   "metadata": {},
   "source": [
    "### 외부 파일로 저장"
   ]
  },
  {
   "cell_type": "code",
   "execution_count": 38,
   "id": "9df7a37f",
   "metadata": {
    "ExecuteTime": {
     "end_time": "2022-06-11T04:53:29.254429Z",
     "start_time": "2022-06-11T04:53:28.880426Z"
    }
   },
   "outputs": [],
   "source": [
    "# df를 xlsx 파일로 저장합니다.\n",
    "df.to_excel(excel_writer = 'Used_Cars_Price.xlsx', index = False)"
   ]
  },
  {
   "cell_type": "code",
   "execution_count": 39,
   "id": "ccf4266a",
   "metadata": {
    "ExecuteTime": {
     "end_time": "2022-06-11T04:53:29.264789Z",
     "start_time": "2022-06-11T04:53:29.256617Z"
    }
   },
   "outputs": [],
   "source": [
    "# df를 csv 파일로 저장합니다.\n",
    "df.to_csv(path_or_buf = 'Used_Cars_Price.csv', index = False)"
   ]
  },
  {
   "cell_type": "code",
   "execution_count": 40,
   "id": "f5ecf0d8",
   "metadata": {
    "ExecuteTime": {
     "end_time": "2022-06-11T04:53:29.285939Z",
     "start_time": "2022-06-11T04:53:29.269110Z"
    }
   },
   "outputs": [
    {
     "data": {
      "text/plain": [
       "['Used_Cars_Price.z']"
      ]
     },
     "execution_count": 40,
     "metadata": {},
     "output_type": "execute_result"
    }
   ],
   "source": [
    "# df를 z 파일로 저장합니다.\n",
    "joblib.dump(value = df, filename = 'Used_Cars_Price.z')"
   ]
  },
  {
   "cell_type": "markdown",
   "id": "adb799d0",
   "metadata": {},
   "source": [
    "## End of Document"
   ]
  }
 ],
 "metadata": {
  "kernelspec": {
   "display_name": "Python 3 (ipykernel)",
   "language": "python",
   "name": "python3"
  },
  "language_info": {
   "codemirror_mode": {
    "name": "ipython",
    "version": 3
   },
   "file_extension": ".py",
   "mimetype": "text/x-python",
   "name": "python",
   "nbconvert_exporter": "python",
   "pygments_lexer": "ipython3",
   "version": "3.11.1"
  },
  "toc": {
   "base_numbering": 1,
   "nav_menu": {},
   "number_sections": false,
   "sideBar": true,
   "skip_h1_title": false,
   "title_cell": "Table of Contents",
   "title_sidebar": "Contents",
   "toc_cell": false,
   "toc_position": {},
   "toc_section_display": true,
   "toc_window_display": false
  },
  "varInspector": {
   "cols": {
    "lenName": 16,
    "lenType": 16,
    "lenVar": 40
   },
   "kernels_config": {
    "python": {
     "delete_cmd_postfix": "",
     "delete_cmd_prefix": "del ",
     "library": "var_list.py",
     "varRefreshCmd": "print(var_dic_list())"
    },
    "r": {
     "delete_cmd_postfix": ") ",
     "delete_cmd_prefix": "rm(",
     "library": "var_list.r",
     "varRefreshCmd": "cat(var_dic_list()) "
    }
   },
   "types_to_exclude": [
    "module",
    "function",
    "builtin_function_or_method",
    "instance",
    "_Feature"
   ],
   "window_display": false
  }
 },
 "nbformat": 4,
 "nbformat_minor": 5
}
