{
 "cells": [
  {
   "cell_type": "markdown",
   "id": "fc09e07d",
   "metadata": {},
   "source": [
    "## 로지스틱 회귀분석"
   ]
  },
  {
   "cell_type": "markdown",
   "id": "7d56d659",
   "metadata": {},
   "source": [
    "### 관련 라이브러리 호출"
   ]
  },
  {
   "cell_type": "code",
   "execution_count": null,
   "id": "alien-controversy",
   "metadata": {
    "ExecuteTime": {
     "end_time": "2022-06-11T04:55:04.050027Z",
     "start_time": "2022-06-11T04:55:02.854491Z"
    }
   },
   "outputs": [],
   "source": [
    "# 관련 라이브러리를 호출합니다.\n",
    "import os\n",
    "import joblib\n",
    "import numpy as np\n",
    "import pandas as pd\n",
    "from scipy import stats\n",
    "import pingouin as pg"
   ]
  },
  {
   "cell_type": "code",
   "execution_count": null,
   "id": "3c3ad5fc",
   "metadata": {
    "ExecuteTime": {
     "end_time": "2022-06-11T04:55:04.338408Z",
     "start_time": "2022-06-11T04:55:04.052268Z"
    }
   },
   "outputs": [],
   "source": [
    "# 시각화 설정 모듈을 호출합니다.\n",
    "from GraphicSetting import *\n",
    "\n",
    "# EDA 시각화 및 통계 분석 관련 모듈을 호출합니다.\n",
    "import hds_stats as hds"
   ]
  },
  {
   "cell_type": "markdown",
   "id": "separate-davis",
   "metadata": {},
   "source": [
    "### 실습 데이터셋 준비"
   ]
  },
  {
   "cell_type": "code",
   "execution_count": null,
   "id": "realistic-noise",
   "metadata": {
    "ExecuteTime": {
     "end_time": "2022-06-11T04:55:04.919444Z",
     "start_time": "2022-06-11T04:55:04.340122Z"
    }
   },
   "outputs": [],
   "source": [
    "# 인터넷에 공유 중인 텍스트 데이터를 읽고 데이터프레임 df를 생성합니다.\n",
    "df = pd.read_csv(filepath_or_buffer = 'https://bit.ly/UnivAdmit')"
   ]
  },
  {
   "cell_type": "code",
   "execution_count": null,
   "id": "martial-jacket",
   "metadata": {
    "ExecuteTime": {
     "end_time": "2022-06-11T04:55:04.930110Z",
     "start_time": "2022-06-11T04:55:04.922394Z"
    }
   },
   "outputs": [],
   "source": [
    "# df의 정보를 확인합니다.\n",
    "df.info()"
   ]
  },
  {
   "cell_type": "code",
   "execution_count": null,
   "id": "2d6ab82d",
   "metadata": {
    "ExecuteTime": {
     "end_time": "2022-06-11T04:55:04.944649Z",
     "start_time": "2022-06-11T04:55:04.931736Z"
    }
   },
   "outputs": [],
   "source": [
    "# df의 처음 5행을 출력합니다.\n",
    "df.head()"
   ]
  },
  {
   "cell_type": "code",
   "execution_count": null,
   "id": "45c4361e",
   "metadata": {},
   "outputs": [],
   "source": [
    "# y절편 역할을 수행할 상수 1을 df의 두 번째 열로 삽입합니다.\n",
    "df.insert(loc = 1, column = 'const', value = 1)"
   ]
  },
  {
   "cell_type": "markdown",
   "id": "67a7417f",
   "metadata": {},
   "source": [
    "### 실습 데이터셋 전처리"
   ]
  },
  {
   "cell_type": "code",
   "execution_count": null,
   "id": "31cf2953",
   "metadata": {
    "ExecuteTime": {
     "end_time": "2022-06-11T04:55:04.949060Z",
     "start_time": "2022-06-11T04:55:04.946349Z"
    }
   },
   "outputs": [],
   "source": [
    "# rank를 범주형으로 변환합니다.\n",
    "df['rank'] = df['rank'].astype(str)"
   ]
  },
  {
   "cell_type": "code",
   "execution_count": null,
   "id": "f901099a",
   "metadata": {
    "ExecuteTime": {
     "end_time": "2022-06-11T04:55:04.961759Z",
     "start_time": "2022-06-11T04:55:04.950593Z"
    }
   },
   "outputs": [],
   "source": [
    "# 연속형 변수의 기술통계량을 확인합니다.\n",
    "df.describe()"
   ]
  },
  {
   "cell_type": "code",
   "execution_count": null,
   "id": "5a658311",
   "metadata": {
    "ExecuteTime": {
     "end_time": "2022-06-11T04:55:04.970987Z",
     "start_time": "2022-06-11T04:55:04.963353Z"
    }
   },
   "outputs": [],
   "source": [
    "# 범주형 변수의 기술통계량을 확인합니다.\n",
    "df.describe(include = object)"
   ]
  },
  {
   "cell_type": "code",
   "execution_count": null,
   "id": "4010d7a9",
   "metadata": {
    "ExecuteTime": {
     "end_time": "2022-06-11T04:55:04.978897Z",
     "start_time": "2022-06-11T04:55:04.973525Z"
    }
   },
   "outputs": [],
   "source": [
    "# rank의 범주별 빈도수를 출력합니다.\n",
    "df['rank'].value_counts().sort_index()"
   ]
  },
  {
   "cell_type": "markdown",
   "id": "112fc20e",
   "metadata": {},
   "source": [
    "### 목표변수 시각화"
   ]
  },
  {
   "cell_type": "code",
   "execution_count": null,
   "id": "shared-database",
   "metadata": {
    "ExecuteTime": {
     "end_time": "2022-06-11T04:55:05.081896Z",
     "start_time": "2022-06-11T04:55:04.982892Z"
    }
   },
   "outputs": [],
   "source": [
    "# 목표변수 범주별 빈도수로 일변량 막대 그래프를 그립니다.\n",
    "hds.plot.bar_freq(\n",
    "    data = df, \n",
    "    x = 'admit', \n",
    "    pal = ['skyblue', 'orange']\n",
    ")"
   ]
  },
  {
   "cell_type": "markdown",
   "id": "attempted-operations",
   "metadata": {},
   "source": [
    "### 입력변수와 관계 파악: gre"
   ]
  },
  {
   "cell_type": "code",
   "execution_count": null,
   "id": "important-college",
   "metadata": {
    "ExecuteTime": {
     "end_time": "2022-06-11T04:55:05.193009Z",
     "start_time": "2022-06-11T04:55:05.083701Z"
    }
   },
   "outputs": [],
   "source": [
    "# admit 범주별 gre의 상자 수염 그림을 그립니다.\n",
    "hds.plot.box_group(\n",
    "    data = df, \n",
    "    x = 'admit', \n",
    "    y = 'gre', \n",
    "    pal = ['skyblue', 'orange']\n",
    ")"
   ]
  },
  {
   "cell_type": "markdown",
   "id": "b781873a",
   "metadata": {},
   "source": [
    "### 입력변수와 관계 파악: gpa"
   ]
  },
  {
   "cell_type": "code",
   "execution_count": null,
   "id": "synthetic-leader",
   "metadata": {
    "ExecuteTime": {
     "end_time": "2022-06-11T04:55:05.305686Z",
     "start_time": "2022-06-11T04:55:05.194837Z"
    }
   },
   "outputs": [],
   "source": [
    "# admit 범주별 gpa의 상자 수염 그림을 그립니다.\n",
    "hds.plot.box_group(\n",
    "    data = df, \n",
    "    x = 'admit', \n",
    "    y = 'gpa', \n",
    "    pal = ['skyblue', 'orange']\n",
    ")"
   ]
  },
  {
   "cell_type": "markdown",
   "id": "a8aec4e6",
   "metadata": {},
   "source": [
    "### 입력변수와 관계 파악: rank"
   ]
  },
  {
   "cell_type": "code",
   "execution_count": null,
   "id": "a599e972",
   "metadata": {
    "ExecuteTime": {
     "end_time": "2022-06-11T04:55:05.481819Z",
     "start_time": "2022-06-11T04:55:05.307470Z"
    }
   },
   "outputs": [],
   "source": [
    "# rank 범주별 admit의 빈도수로 묶음 막대 그래프를 그립니다.\n",
    "hds.plot.bar_dodge_freq(\n",
    "    data = df, \n",
    "    x = 'rank', \n",
    "    group = 'admit', \n",
    "    pal = ['skyblue', 'orange']\n",
    ")"
   ]
  },
  {
   "cell_type": "code",
   "execution_count": null,
   "id": "f09eb2ab",
   "metadata": {
    "ExecuteTime": {
     "end_time": "2022-06-11T04:55:05.609597Z",
     "start_time": "2022-06-11T04:55:05.483540Z"
    }
   },
   "outputs": [],
   "source": [
    "# rank 범주별 admit의 빈도수로 쌓은 막대 그래프를 그립니다.\n",
    "hds.plot.bar_stack_freq(\n",
    "    data = df, \n",
    "    x = 'rank', \n",
    "    group = 'admit', \n",
    "    pal = ['skyblue', 'orange']\n",
    ")"
   ]
  },
  {
   "cell_type": "code",
   "execution_count": null,
   "id": "rental-homeless",
   "metadata": {
    "ExecuteTime": {
     "end_time": "2022-06-11T04:55:05.734227Z",
     "start_time": "2022-06-11T04:55:05.611463Z"
    }
   },
   "outputs": [],
   "source": [
    "# rank 범주별 admit의 상대도수로 쌓은 막대 그래프를 그립니다.\n",
    "hds.plot.bar_stack_prop(\n",
    "    data = df, \n",
    "    x = 'rank', \n",
    "    group = 'admit', \n",
    "    pal = ['skyblue', 'orange']\n",
    ");"
   ]
  },
  {
   "cell_type": "markdown",
   "id": "5fde44a8",
   "metadata": {},
   "source": [
    "### t-검정: gre"
   ]
  },
  {
   "cell_type": "code",
   "execution_count": null,
   "id": "d03bd596",
   "metadata": {
    "ExecuteTime": {
     "end_time": "2022-06-11T04:55:05.745577Z",
     "start_time": "2022-06-11T04:55:05.735942Z"
    }
   },
   "outputs": [],
   "source": [
    "# (정규성 가정 만족) 등분산 검정을 실행합니다.\n",
    "pg.homoscedasticity(data = df, dv = 'gre', group = 'admit')"
   ]
  },
  {
   "cell_type": "code",
   "execution_count": null,
   "id": "010f1451",
   "metadata": {
    "ExecuteTime": {
     "end_time": "2022-06-11T04:55:05.750178Z",
     "start_time": "2022-06-11T04:55:05.747245Z"
    }
   },
   "outputs": [],
   "source": [
    "# admit 범주별 gre로 시리즈를 생성합니다.\n",
    "sp1 = df['gre'][df['admit'].eq('Fail')]\n",
    "sp2 = df['gre'][df['admit'].eq('Pass')]"
   ]
  },
  {
   "cell_type": "code",
   "execution_count": null,
   "id": "dba616fe",
   "metadata": {
    "ExecuteTime": {
     "end_time": "2022-06-11T04:55:05.761349Z",
     "start_time": "2022-06-11T04:55:05.752140Z"
    }
   },
   "outputs": [],
   "source": [
    "# (정규성 가정 만족) 등분산 가정된 독립표본 t-검정을 실행합니다.\n",
    "pg.ttest(x = sp1, y = sp2, correction = False)"
   ]
  },
  {
   "cell_type": "markdown",
   "id": "cb9ba4a3",
   "metadata": {},
   "source": [
    "### t-검정 : gpa"
   ]
  },
  {
   "cell_type": "code",
   "execution_count": null,
   "id": "8e1eedbe",
   "metadata": {
    "ExecuteTime": {
     "end_time": "2022-06-11T04:55:05.772349Z",
     "start_time": "2022-06-11T04:55:05.762901Z"
    }
   },
   "outputs": [],
   "source": [
    "# (정규성 가정 만족) 등분산 검정을 실행합니다.\n",
    "pg.homoscedasticity(data = df, dv = 'gpa', group = 'admit')"
   ]
  },
  {
   "cell_type": "code",
   "execution_count": null,
   "id": "b84be5e7",
   "metadata": {
    "ExecuteTime": {
     "end_time": "2022-06-11T04:55:05.778289Z",
     "start_time": "2022-06-11T04:55:05.774442Z"
    }
   },
   "outputs": [],
   "source": [
    "# admit 범주별 gpa로 시리즈를 생성합니다.\n",
    "sp1 = df['gpa'][df['admit'].eq('Fail')]\n",
    "sp2 = df['gpa'][df['admit'].eq('Pass')]"
   ]
  },
  {
   "cell_type": "code",
   "execution_count": null,
   "id": "7ae06bb1",
   "metadata": {
    "ExecuteTime": {
     "end_time": "2022-06-11T04:55:05.788886Z",
     "start_time": "2022-06-11T04:55:05.779958Z"
    }
   },
   "outputs": [],
   "source": [
    "# (정규성 가정 만족) 등분산 가정된 독립표본 t-검정을 실행합니다.\n",
    "pg.ttest(x = sp1, y = sp2, correction = False)"
   ]
  },
  {
   "cell_type": "markdown",
   "id": "386a1ff4",
   "metadata": {},
   "source": [
    "### 교차분석: rank"
   ]
  },
  {
   "cell_type": "code",
   "execution_count": null,
   "id": "697025d7",
   "metadata": {
    "ExecuteTime": {
     "end_time": "2022-06-11T04:55:05.818625Z",
     "start_time": "2022-06-11T04:55:05.791244Z"
    }
   },
   "outputs": [],
   "source": [
    "# 범주형 입력변수 rank와 목표변수의 교차테이블을 출력합니다.\n",
    "pd.crosstab(index = df['rank'], \n",
    "            columns = df['admit'], \n",
    "            margins = True, \n",
    "            margins_name = '합계', \n",
    "            normalize = 'index')"
   ]
  },
  {
   "cell_type": "code",
   "execution_count": null,
   "id": "0e998d5b",
   "metadata": {
    "ExecuteTime": {
     "end_time": "2022-06-11T04:55:05.843067Z",
     "start_time": "2022-06-11T04:55:05.820265Z"
    }
   },
   "outputs": [],
   "source": [
    "# 교차테이블 빈도수로 교차분석(카이제곱 검정)을 실행합니다.\n",
    "test = pg.chi2_independence(data = df, x = 'rank', y = 'admit')\n",
    "test[2]"
   ]
  },
  {
   "cell_type": "markdown",
   "id": "97a19a13",
   "metadata": {},
   "source": [
    "### 더미변수 생성"
   ]
  },
  {
   "cell_type": "code",
   "execution_count": null,
   "id": "01d35410",
   "metadata": {},
   "outputs": [],
   "source": [
    "# 범주형 입력변수로 더미변수를 생성합니다.\n",
    "df = pd.get_dummies(data = df, \n",
    "                    prefix = ['rank', None], \n",
    "                    columns = ['rank', 'admit'], \n",
    "                    drop_first = True, \n",
    "                    dtype = np.uint8)"
   ]
  },
  {
   "cell_type": "code",
   "execution_count": null,
   "id": "above-vulnerability",
   "metadata": {
    "ExecuteTime": {
     "end_time": "2022-06-11T04:55:05.867448Z",
     "start_time": "2022-06-11T04:55:05.860294Z"
    }
   },
   "outputs": [],
   "source": [
    "# df의 처음 10행을 출력합니다.\n",
    "df.head(n = 10)"
   ]
  },
  {
   "cell_type": "markdown",
   "id": "swiss-chuck",
   "metadata": {},
   "source": [
    "### 실습 데이터셋 분할"
   ]
  },
  {
   "cell_type": "code",
   "execution_count": null,
   "id": "latter-administrator",
   "metadata": {
    "ExecuteTime": {
     "end_time": "2022-06-11T04:55:05.895778Z",
     "start_time": "2022-06-11T04:55:05.893675Z"
    }
   },
   "outputs": [],
   "source": [
    "# 관련 라이브러리를 호출합니다.\n",
    "from sklearn.model_selection import train_test_split"
   ]
  },
  {
   "cell_type": "code",
   "execution_count": null,
   "id": "conscious-brunswick",
   "metadata": {
    "ExecuteTime": {
     "end_time": "2022-06-11T04:55:05.909437Z",
     "start_time": "2022-06-11T04:55:05.905762Z"
    }
   },
   "outputs": [],
   "source": [
    "# 전체 데이터의 70%를 훈련셋, 30%를 검증셋으로 분할합니다.\n",
    "train, valid = train_test_split(df, train_size = 0.7, random_state = 0, stratify = df['Pass'])"
   ]
  },
  {
   "cell_type": "code",
   "execution_count": null,
   "id": "0cd10edf-8d18-4f1f-bbf5-223c6deb3e87",
   "metadata": {},
   "outputs": [],
   "source": [
    "# 목표변수명을 변수에 할당합니다.\n",
    "yvar = 'Pass'"
   ]
  },
  {
   "cell_type": "markdown",
   "id": "4d024575-0668-41a6-a597-02daa32bc2a0",
   "metadata": {
    "tags": []
   },
   "source": [
    "### 입력변수와 목표변수 분리"
   ]
  },
  {
   "cell_type": "code",
   "execution_count": null,
   "id": "d5466346-7ff2-431c-9cbf-7d2a6ac4944d",
   "metadata": {},
   "outputs": [],
   "source": [
    "# 훈련셋을 입력변수 행렬과 목표변수 벡터로 분리합니다.\n",
    "trainX = train.drop(columns = [yvar])\n",
    "trReal = train[yvar].copy()"
   ]
  },
  {
   "cell_type": "code",
   "execution_count": null,
   "id": "amber-shopping",
   "metadata": {
    "ExecuteTime": {
     "end_time": "2022-06-11T04:55:05.915379Z",
     "start_time": "2022-06-11T04:55:05.911087Z"
    }
   },
   "outputs": [],
   "source": [
    "# 훈련셋의 목표변수 범주별 상대도수를 확인합니다.\n",
    "trReal.value_counts(normalize = True)"
   ]
  },
  {
   "cell_type": "code",
   "execution_count": null,
   "id": "1c692b1a",
   "metadata": {
    "ExecuteTime": {
     "end_time": "2022-06-11T04:55:05.946804Z",
     "start_time": "2022-06-11T04:55:05.940413Z"
    }
   },
   "outputs": [],
   "source": [
    "# 검증셋을 입력변수 행렬과 목표변수 벡터로 분리합니다.\n",
    "validX = valid.drop(columns = [yvar])\n",
    "vaReal = valid[yvar].copy()"
   ]
  },
  {
   "cell_type": "code",
   "execution_count": null,
   "id": "fiscal-buffer",
   "metadata": {
    "ExecuteTime": {
     "end_time": "2022-06-11T04:55:05.921225Z",
     "start_time": "2022-06-11T04:55:05.917033Z"
    }
   },
   "outputs": [],
   "source": [
    "# 검증셋의 목표변수 범주별 상대도수를 확인합니다.\n",
    "vaReal.value_counts(normalize = True)"
   ]
  },
  {
   "cell_type": "markdown",
   "id": "03d162be",
   "metadata": {},
   "source": [
    "### 로지스틱 회귀모형 적합 및 결과 확인"
   ]
  },
  {
   "cell_type": "code",
   "execution_count": null,
   "id": "fa4411bb",
   "metadata": {
    "ExecuteTime": {
     "end_time": "2022-06-11T04:55:05.953968Z",
     "start_time": "2022-06-11T04:55:05.948453Z"
    }
   },
   "outputs": [],
   "source": [
    "# 훈련셋으로 로지스틱 회귀모형을 적합합니다.\n",
    "fit1 = hds.stat.glm(y = trReal, X = trainX)"
   ]
  },
  {
   "cell_type": "code",
   "execution_count": null,
   "id": "6e8c6b30",
   "metadata": {
    "ExecuteTime": {
     "end_time": "2022-06-11T04:55:05.965519Z",
     "start_time": "2022-06-11T04:55:05.955564Z"
    }
   },
   "outputs": [],
   "source": [
    "# fit1 모형의 적합 결과를 확인합니다.\n",
    "fit1.summary()"
   ]
  },
  {
   "cell_type": "markdown",
   "id": "9d9dfcb3",
   "metadata": {},
   "source": [
    "### 로지스틱 회귀모형의 유의성 검정"
   ]
  },
  {
   "cell_type": "code",
   "execution_count": null,
   "id": "d357b2d6",
   "metadata": {
    "ExecuteTime": {
     "end_time": "2022-06-11T04:55:05.970556Z",
     "start_time": "2022-06-11T04:55:05.967128Z"
    }
   },
   "outputs": [],
   "source": [
    "# 두 모형의 이탈도 차이를 출력합니다.(검정통계량)\n",
    "devGap = fit1.null_deviance - fit1.deviance\n",
    "devGap"
   ]
  },
  {
   "cell_type": "code",
   "execution_count": null,
   "id": "d003bc73",
   "metadata": {
    "ExecuteTime": {
     "end_time": "2022-06-11T04:55:05.975366Z",
     "start_time": "2022-06-11T04:55:05.972126Z"
    }
   },
   "outputs": [],
   "source": [
    "# 두 모형의 자유도 차이를 출력합니다.(카이제곱 분포의 자유도)\n",
    "dofGap = fit1.df_model.copy()\n",
    "dofGap"
   ]
  },
  {
   "cell_type": "code",
   "execution_count": null,
   "id": "8624cff4",
   "metadata": {
    "ExecuteTime": {
     "end_time": "2022-06-11T04:55:05.980334Z",
     "start_time": "2022-06-11T04:55:05.976976Z"
    }
   },
   "outputs": [],
   "source": [
    "# 검정통계량과 자유도로 유의확률을 출력합니다.\n",
    "1 - stats.chi2.cdf(x = devGap, df = dofGap)"
   ]
  },
  {
   "cell_type": "markdown",
   "id": "5910432d",
   "metadata": {},
   "source": [
    "### 다중공선성 확인"
   ]
  },
  {
   "cell_type": "code",
   "execution_count": null,
   "id": "5954cf60",
   "metadata": {
    "ExecuteTime": {
     "end_time": "2022-06-11T04:55:05.991466Z",
     "start_time": "2022-06-11T04:55:05.981944Z"
    }
   },
   "outputs": [],
   "source": [
    "# 분산팽창지수를 출력하고 다중공선성 입력변수를 확인합니다.\n",
    "hds.stat.vif(X = trainX)"
   ]
  },
  {
   "cell_type": "markdown",
   "id": "abdcbec6",
   "metadata": {},
   "source": [
    "### 오즈비 확인"
   ]
  },
  {
   "cell_type": "code",
   "execution_count": null,
   "id": "b199d2c9",
   "metadata": {
    "ExecuteTime": {
     "end_time": "2022-06-11T04:55:05.997644Z",
     "start_time": "2022-06-11T04:55:05.993225Z"
    }
   },
   "outputs": [],
   "source": [
    "# 입력변수별 회귀계수의 오즈비를 출력합니다.\n",
    "np.exp(fit1.params)"
   ]
  },
  {
   "cell_type": "markdown",
   "id": "918b5c0a",
   "metadata": {
    "tags": []
   },
   "source": [
    "### 표준화 회귀계수 확인"
   ]
  },
  {
   "cell_type": "code",
   "execution_count": null,
   "id": "c9f97f96",
   "metadata": {
    "ExecuteTime": {
     "end_time": "2022-06-11T04:55:06.003692Z",
     "start_time": "2022-06-11T04:55:05.999214Z"
    }
   },
   "outputs": [],
   "source": [
    "# fit1 모형의 회귀계수를 출력합니다.\n",
    "fit1.params"
   ]
  },
  {
   "cell_type": "code",
   "execution_count": null,
   "id": "2e1fbcda",
   "metadata": {
    "ExecuteTime": {
     "end_time": "2022-06-11T04:55:06.011102Z",
     "start_time": "2022-06-11T04:55:06.005399Z"
    }
   },
   "outputs": [],
   "source": [
    "# 표준화 회귀계수를 생성합니다.\n",
    "beta_z = hds.stat.std_coefs(model = fit1)\n",
    "beta_z"
   ]
  },
  {
   "cell_type": "code",
   "execution_count": null,
   "id": "b188f3ed",
   "metadata": {
    "ExecuteTime": {
     "end_time": "2022-06-11T04:55:06.016733Z",
     "start_time": "2022-06-11T04:55:06.012836Z"
    }
   },
   "outputs": [],
   "source": [
    "# 표준화 회귀계수의 절대값을 오름차순 정렬한 결과를 출력합니다.\n",
    "beta_z.abs().sort_values()"
   ]
  },
  {
   "cell_type": "markdown",
   "id": "582f73eb",
   "metadata": {},
   "source": [
    "### 목표변수의 추정확률 생성"
   ]
  },
  {
   "cell_type": "code",
   "execution_count": null,
   "id": "57cce4c0",
   "metadata": {
    "ExecuteTime": {
     "end_time": "2022-06-11T04:55:06.026225Z",
     "start_time": "2022-06-11T04:55:06.018541Z"
    }
   },
   "outputs": [],
   "source": [
    "# 훈련셋으로 fit1 모형의 추정확률을 생성하고 실제값과 비교합니다.\n",
    "trProb = fit1.predict(exog = trainX)\n",
    "pd.DataFrame(data = {'Real': trReal, 'Prob': trProb})"
   ]
  },
  {
   "cell_type": "code",
   "execution_count": null,
   "id": "a80c548b",
   "metadata": {
    "ExecuteTime": {
     "end_time": "2022-06-11T04:55:06.038306Z",
     "start_time": "2022-06-11T04:55:06.027853Z"
    }
   },
   "outputs": [],
   "source": [
    "# 검증셋으로 fit1 모형의 추정확률을 생성하고 실제값과 비교합니다.\n",
    "vaProb = fit1.predict(exog = validX)\n",
    "pd.DataFrame(data = {'Real': vaReal, 'Prob': vaProb})"
   ]
  },
  {
   "cell_type": "markdown",
   "id": "fitting-termination",
   "metadata": {},
   "source": [
    "### 분류모형 성능 평가 : ROC 곡선"
   ]
  },
  {
   "cell_type": "code",
   "execution_count": null,
   "id": "hairy-cincinnati",
   "metadata": {
    "ExecuteTime": {
     "end_time": "2022-06-11T04:55:06.160890Z",
     "start_time": "2022-06-11T04:55:06.039933Z"
    }
   },
   "outputs": [],
   "source": [
    "# 훈련셋과 검증셋의 추정확률로 ROC 곡선을 그립니다.\n",
    "hds.stat.roc_curve(y_true = trReal, y_prob = trProb, color = 'red')\n",
    "hds.stat.roc_curve(y_true = vaReal, y_prob = vaProb, color = 'blue')"
   ]
  },
  {
   "cell_type": "markdown",
   "id": "7ed34cd6",
   "metadata": {},
   "source": [
    "### 목표변수의 추정값 생성"
   ]
  },
  {
   "cell_type": "code",
   "execution_count": null,
   "id": "c1e64445",
   "metadata": {
    "ExecuteTime": {
     "end_time": "2022-06-11T04:55:06.164904Z",
     "start_time": "2022-06-11T04:55:06.162633Z"
    }
   },
   "outputs": [],
   "source": [
    "# 분리 기준점을 0.5로 설정합니다.\n",
    "cutoff = 0.5"
   ]
  },
  {
   "cell_type": "code",
   "execution_count": null,
   "id": "c6aea886",
   "metadata": {
    "ExecuteTime": {
     "end_time": "2022-06-11T04:55:06.169152Z",
     "start_time": "2022-06-11T04:55:06.166585Z"
    }
   },
   "outputs": [],
   "source": [
    "# 훈련셋의 목표변수 추정값(라벨)을 생성합니다.\n",
    "trPred1 = np.where(trProb >= cutoff, 1, 0)"
   ]
  },
  {
   "cell_type": "code",
   "execution_count": null,
   "id": "e2d63a8d",
   "metadata": {
    "ExecuteTime": {
     "end_time": "2022-06-11T04:55:06.173917Z",
     "start_time": "2022-06-11T04:55:06.171425Z"
    }
   },
   "outputs": [],
   "source": [
    "# 검증셋의 목표변수 추정값(라벨)을 생성합니다.\n",
    "vaPred1 = np.where(vaProb >= cutoff, 1, 0)"
   ]
  },
  {
   "cell_type": "markdown",
   "id": "2ead22d7",
   "metadata": {},
   "source": [
    "### 분류모형 성능 평가 : 혼동행렬 리포트"
   ]
  },
  {
   "cell_type": "code",
   "execution_count": null,
   "id": "9a830c56",
   "metadata": {
    "ExecuteTime": {
     "end_time": "2022-06-11T04:55:06.183008Z",
     "start_time": "2022-06-11T04:55:06.175933Z"
    }
   },
   "outputs": [],
   "source": [
    "# 훈련셋 추정값으로 혼동행렬 리포트를 출력합니다.\n",
    "hds.stat.clfmetrics(y_true = trReal, y_pred = trPred1)"
   ]
  },
  {
   "cell_type": "code",
   "execution_count": null,
   "id": "722b899b",
   "metadata": {
    "ExecuteTime": {
     "end_time": "2022-06-11T04:55:06.192623Z",
     "start_time": "2022-06-11T04:55:06.184689Z"
    }
   },
   "outputs": [],
   "source": [
    "# 검증셋 추정값으로 혼동행렬 리포트를 출력합니다.\n",
    "hds.stat.clfmetrics(y_true = vaReal, y_pred = vaPred1)"
   ]
  },
  {
   "cell_type": "markdown",
   "id": "gross-motion",
   "metadata": {},
   "source": [
    "### [참고] 혼동행렬 관련 함수"
   ]
  },
  {
   "cell_type": "code",
   "execution_count": null,
   "id": "european-assistant",
   "metadata": {
    "ExecuteTime": {
     "end_time": "2022-06-11T04:55:06.196806Z",
     "start_time": "2022-06-11T04:55:06.194417Z"
    }
   },
   "outputs": [],
   "source": [
    "# 관련 라이브러리를 호출합니다.\n",
    "from sklearn import metrics"
   ]
  },
  {
   "cell_type": "code",
   "execution_count": null,
   "id": "6898a97c",
   "metadata": {
    "ExecuteTime": {
     "end_time": "2022-06-11T04:55:06.202479Z",
     "start_time": "2022-06-11T04:55:06.198898Z"
    }
   },
   "outputs": [],
   "source": [
    "# 검증셋 추정값으로 혼동행렬을 출력합니다.\n",
    "print(metrics.confusion_matrix(y_true = vaReal, y_pred = vaPred1))"
   ]
  },
  {
   "cell_type": "code",
   "execution_count": null,
   "id": "organizational-arrangement",
   "metadata": {
    "ExecuteTime": {
     "end_time": "2022-06-11T04:55:06.210491Z",
     "start_time": "2022-06-11T04:55:06.204150Z"
    }
   },
   "outputs": [],
   "source": [
    "# 검증셋 추정값으로 분류모형 리포트를 출력합니다.\n",
    "print(metrics.classification_report(y_true = vaReal, y_pred = vaPred1))"
   ]
  },
  {
   "cell_type": "code",
   "execution_count": null,
   "id": "parallel-mercy",
   "metadata": {
    "ExecuteTime": {
     "end_time": "2022-06-11T04:55:06.216754Z",
     "start_time": "2022-06-11T04:55:06.212059Z"
    }
   },
   "outputs": [],
   "source": [
    "# 검증셋 추정값으로 F1 점수를 출력합니다.\n",
    "metrics.f1_score(y_true = vaReal, y_pred = vaPred1, pos_label = 1)"
   ]
  },
  {
   "cell_type": "markdown",
   "id": "e0019005",
   "metadata": {},
   "source": [
    "### [참고] 목표변수의 범주별 추정확률 분포"
   ]
  },
  {
   "cell_type": "code",
   "execution_count": null,
   "id": "804dfbd6",
   "metadata": {
    "ExecuteTime": {
     "end_time": "2022-06-11T04:55:06.314970Z",
     "start_time": "2022-06-11T04:55:06.218317Z"
    }
   },
   "outputs": [],
   "source": [
    "# 목표변수 범주별 추정확률 분포를 비교합니다.\n",
    "sns.boxplot(x = trReal, y = trProb)\n",
    "plt.title(label = '범주별 추정확률')\n",
    "plt.xlabel(xlabel = '실제값')\n",
    "plt.ylabel(ylabel = '추정확률')\n",
    "plt.axhline(y = 0.5, color = 'red', lw = 1.5, ls = '--');"
   ]
  },
  {
   "cell_type": "markdown",
   "id": "d8ead17c",
   "metadata": {},
   "source": [
    "### [참고] 최적의 분리 기준점 탐색"
   ]
  },
  {
   "cell_type": "code",
   "execution_count": null,
   "id": "bbfeee05",
   "metadata": {
    "ExecuteTime": {
     "end_time": "2022-06-11T04:55:06.892208Z",
     "start_time": "2022-06-11T04:55:06.691966Z"
    }
   },
   "outputs": [],
   "source": [
    "# 분리 기준점마다 민감도와 특이도를 계산하고 두 값의 합계가 최댓값일 때의 \n",
    "# 분리 기준점을 ROC 곡선 위에 빨간 점으로 표시합니다.\n",
    "hds.stat.EpiROC(y_true = vaReal, y_prob = vaProb)"
   ]
  },
  {
   "cell_type": "markdown",
   "id": "ca981333",
   "metadata": {},
   "source": [
    "### [참고] 최적의 분리 기준점으로 성능지표 확인"
   ]
  },
  {
   "cell_type": "code",
   "execution_count": null,
   "id": "42e5d9a4",
   "metadata": {
    "ExecuteTime": {
     "end_time": "2022-06-11T04:55:06.896099Z",
     "start_time": "2022-06-11T04:55:06.893966Z"
    }
   },
   "outputs": [],
   "source": [
    "# 최적의 분리 기준점을 설정합니다.\n",
    "cutoff = 0.27"
   ]
  },
  {
   "cell_type": "code",
   "execution_count": null,
   "id": "b3b2b850",
   "metadata": {
    "ExecuteTime": {
     "end_time": "2022-06-11T04:55:06.900428Z",
     "start_time": "2022-06-11T04:55:06.897825Z"
    }
   },
   "outputs": [],
   "source": [
    "# 분리 기준점 변경 후 검증셋의 목표변수 추정값(라벨)을 생성합니다.\n",
    "vaPred2 = np.where(vaProb >= cutoff, 1, 0)"
   ]
  },
  {
   "cell_type": "code",
   "execution_count": null,
   "id": "590879c1",
   "metadata": {
    "ExecuteTime": {
     "end_time": "2022-06-11T04:55:06.909816Z",
     "start_time": "2022-06-11T04:55:06.902730Z"
    }
   },
   "outputs": [],
   "source": [
    "# 분리 기준점 변경 후 검증셋 추정값으로 혼동행렬 리포트를 출력합니다.\n",
    "hds.stat.clfmetrics(y_true = vaReal, y_pred = vaPred2)"
   ]
  },
  {
   "cell_type": "code",
   "execution_count": null,
   "id": "8b23d834",
   "metadata": {
    "ExecuteTime": {
     "end_time": "2022-06-11T04:55:06.919560Z",
     "start_time": "2022-06-11T04:55:06.911760Z"
    }
   },
   "outputs": [],
   "source": [
    "# 분리 기준점 변경 전 검증셋 추정값으로 혼동행렬 리포트와 비교합니다.\n",
    "hds.stat.clfmetrics(y_true = vaReal, y_pred = vaPred1)"
   ]
  },
  {
   "cell_type": "markdown",
   "id": "4c115486",
   "metadata": {},
   "source": [
    "### [참고] 매튜의 상관계수"
   ]
  },
  {
   "cell_type": "code",
   "execution_count": null,
   "id": "e6c51ffc",
   "metadata": {
    "ExecuteTime": {
     "end_time": "2022-06-11T04:55:06.926843Z",
     "start_time": "2022-06-11T04:55:06.921558Z"
    }
   },
   "outputs": [],
   "source": [
    "# 분리 기준점 변경 전 검증셋 추정값으로 매튜의 상관계수를 출력합니다.\n",
    "metrics.matthews_corrcoef(y_true = vaReal, y_pred = vaPred1)"
   ]
  },
  {
   "cell_type": "code",
   "execution_count": null,
   "id": "0ad49ee0",
   "metadata": {
    "ExecuteTime": {
     "end_time": "2022-06-11T04:55:06.933441Z",
     "start_time": "2022-06-11T04:55:06.928594Z"
    }
   },
   "outputs": [],
   "source": [
    "# 분리 기준점 변경 후 검증셋 추정값으로 매튜의 상관계수와 비교합니다.\n",
    "metrics.matthews_corrcoef(y_true = vaReal, y_pred = vaPred2)"
   ]
  },
  {
   "cell_type": "markdown",
   "id": "a7ba46af",
   "metadata": {},
   "source": [
    "### [참고] 최적의 분리 기준점 탐색 with MCC"
   ]
  },
  {
   "cell_type": "code",
   "execution_count": null,
   "id": "99cfa37d",
   "metadata": {},
   "outputs": [],
   "source": [
    "# 분리 기준점 후보를 설정합니다.\n",
    "cutoffs = np.linspace(start = 0, stop = 1, num = 100 + 1)"
   ]
  },
  {
   "cell_type": "code",
   "execution_count": null,
   "id": "8b52000c",
   "metadata": {},
   "outputs": [],
   "source": [
    "# 매튜의 상관계수를 저장할 빈 리스트를 생성합니다.\n",
    "mccs = []"
   ]
  },
  {
   "cell_type": "code",
   "execution_count": null,
   "id": "751acd16",
   "metadata": {},
   "outputs": [],
   "source": [
    "# for 반복문으로 분리 기준점 후보마다 매튜의 상관계수를 계산합니다.\n",
    "for cutoff in cutoffs:\n",
    "    vaPred = np.where(vaProb >= cutoff, 1, 0)\n",
    "    mcc = metrics.matthews_corrcoef(y_true = vaReal, y_pred = vaPred)\n",
    "    mccs.append(mcc)"
   ]
  },
  {
   "cell_type": "code",
   "execution_count": null,
   "id": "4428b83c",
   "metadata": {},
   "outputs": [],
   "source": [
    "# 최적의 분리 기준점을 반환합니다.\n",
    "cutoffs[np.argmax(a = mccs)]"
   ]
  },
  {
   "cell_type": "markdown",
   "id": "33a2aaf1",
   "metadata": {},
   "source": [
    "## End of Document"
   ]
  }
 ],
 "metadata": {
  "kernelspec": {
   "display_name": "Python 3",
   "language": "python",
   "name": "python3"
  },
  "language_info": {
   "codemirror_mode": {
    "name": "ipython",
    "version": 3
   },
   "file_extension": ".py",
   "mimetype": "text/x-python",
   "name": "python",
   "nbconvert_exporter": "python",
   "pygments_lexer": "ipython3",
   "version": "3.11.1"
  },
  "toc": {
   "base_numbering": 1,
   "nav_menu": {},
   "number_sections": false,
   "sideBar": true,
   "skip_h1_title": false,
   "title_cell": "Table of Contents",
   "title_sidebar": "Contents",
   "toc_cell": false,
   "toc_position": {},
   "toc_section_display": true,
   "toc_window_display": false
  },
  "varInspector": {
   "cols": {
    "lenName": 16,
    "lenType": 16,
    "lenVar": 40
   },
   "kernels_config": {
    "python": {
     "delete_cmd_postfix": "",
     "delete_cmd_prefix": "del ",
     "library": "var_list.py",
     "varRefreshCmd": "print(var_dic_list())"
    },
    "r": {
     "delete_cmd_postfix": ") ",
     "delete_cmd_prefix": "rm(",
     "library": "var_list.r",
     "varRefreshCmd": "cat(var_dic_list()) "
    }
   },
   "types_to_exclude": [
    "module",
    "function",
    "builtin_function_or_method",
    "instance",
    "_Feature"
   ],
   "window_display": false
  }
 },
 "nbformat": 4,
 "nbformat_minor": 5
}
