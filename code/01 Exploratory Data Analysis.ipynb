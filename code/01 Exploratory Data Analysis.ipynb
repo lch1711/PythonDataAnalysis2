{
 "cells": [
  {
   "cell_type": "markdown",
   "id": "67809a6e",
   "metadata": {},
   "source": [
    "## 탐색적 데이터 분석"
   ]
  },
  {
   "cell_type": "markdown",
   "id": "84996d04",
   "metadata": {},
   "source": [
    "### 실습 데이터셋 준비"
   ]
  },
  {
   "cell_type": "code",
   "execution_count": null,
   "id": "54a2472d",
   "metadata": {
    "ExecuteTime": {
     "end_time": "2022-06-07T14:40:40.230319Z",
     "start_time": "2022-06-07T14:40:39.933090Z"
    }
   },
   "outputs": [],
   "source": [
    "# 관련 라이브러리를 호출합니다.\n",
    "import os\n",
    "import joblib\n",
    "import numpy as np\n",
    "import pandas as pd"
   ]
  },
  {
   "cell_type": "code",
   "execution_count": null,
   "id": "84538c21",
   "metadata": {
    "ExecuteTime": {
     "end_time": "2022-06-07T14:40:41.019873Z",
     "start_time": "2022-06-07T14:40:40.232653Z"
    }
   },
   "outputs": [],
   "source": [
    "# 인터넷으로 공유 중인 텍스트 데이터를 읽고 데이터프레임 df를 생성합니다.\n",
    "df = pd.read_csv(filepath_or_buffer = 'https://bit.ly/Used_Cars_Price')"
   ]
  },
  {
   "cell_type": "code",
   "execution_count": null,
   "id": "114f09cc",
   "metadata": {
    "ExecuteTime": {
     "end_time": "2022-06-07T14:40:41.032126Z",
     "start_time": "2022-06-07T14:40:41.022083Z"
    }
   },
   "outputs": [],
   "source": [
    "# df의 정보를 확인합니다.\n",
    "df.info()"
   ]
  },
  {
   "cell_type": "code",
   "execution_count": null,
   "id": "4ba5245e",
   "metadata": {
    "ExecuteTime": {
     "end_time": "2022-06-07T14:40:41.049530Z",
     "start_time": "2022-06-07T14:40:41.036259Z"
    }
   },
   "outputs": [],
   "source": [
    "# df의 처음 5행을 출력합니다.\n",
    "df.head()"
   ]
  },
  {
   "cell_type": "code",
   "execution_count": null,
   "id": "e18e3163",
   "metadata": {
    "ExecuteTime": {
     "end_time": "2022-06-07T14:40:41.056647Z",
     "start_time": "2022-06-07T14:40:41.051717Z"
    }
   },
   "outputs": [],
   "source": [
    "# 일부 정수형 변수를 문자형으로 변환합니다.\n",
    "cols = ['MetColor', 'Automatic']\n",
    "df[cols] = df[cols].astype('str')"
   ]
  },
  {
   "cell_type": "markdown",
   "id": "314d7b67",
   "metadata": {},
   "source": [
    "### 관련 라이브러리 호출"
   ]
  },
  {
   "cell_type": "code",
   "execution_count": null,
   "id": "5c4465c7",
   "metadata": {
    "ExecuteTime": {
     "end_time": "2022-06-07T14:40:41.846561Z",
     "start_time": "2022-06-07T14:40:41.058558Z"
    }
   },
   "outputs": [],
   "source": [
    "# 관련 라이브러리를 호출합니다.\n",
    "import seaborn as sns\n",
    "import matplotlib.pyplot as plt\n",
    "import matplotlib.font_manager as fm"
   ]
  },
  {
   "cell_type": "code",
   "execution_count": null,
   "id": "e0d8605b",
   "metadata": {
    "ExecuteTime": {
     "end_time": "2022-06-07T14:40:42.042584Z",
     "start_time": "2022-06-07T14:40:41.848398Z"
    }
   },
   "outputs": [],
   "source": [
    "# 테스트용 그래프를 그립니다.\n",
    "sns.histplot(data = df, x = 'Price')\n",
    "plt.title(label = '중고차 가격 분포');"
   ]
  },
  {
   "cell_type": "markdown",
   "id": "9c23e635",
   "metadata": {},
   "source": [
    "### 한글폰트명 탐색"
   ]
  },
  {
   "cell_type": "code",
   "execution_count": null,
   "id": "ee181825",
   "metadata": {
    "ExecuteTime": {
     "end_time": "2022-06-07T14:40:42.198700Z",
     "start_time": "2022-06-07T14:40:42.044147Z"
    }
   },
   "outputs": [],
   "source": [
    "# 현재 사용 중인 컴퓨터에 설치된 전체 폰트 파일명을 리스트로 반환합니다.\n",
    "fontList = fm.findSystemFonts(fontext = 'ttf')"
   ]
  },
  {
   "cell_type": "code",
   "execution_count": null,
   "id": "a586dd92",
   "metadata": {
    "ExecuteTime": {
     "end_time": "2022-06-07T14:40:42.203778Z",
     "start_time": "2022-06-07T14:40:42.200972Z"
    }
   },
   "outputs": [],
   "source": [
    "# 특정 문자열을 갖는 파일명을 남깁니다.\n",
    "fontPath = [font for font in fontList if 'Gamja' in font]"
   ]
  },
  {
   "cell_type": "code",
   "execution_count": null,
   "id": "8e52cb55",
   "metadata": {
    "ExecuteTime": {
     "end_time": "2022-06-07T14:40:42.210779Z",
     "start_time": "2022-06-07T14:40:42.208274Z"
    }
   },
   "outputs": [],
   "source": [
    "# fontPath를 오름차순 정렬합니다.\n",
    "fontPath.sort()"
   ]
  },
  {
   "cell_type": "code",
   "execution_count": null,
   "id": "2c3b8153",
   "metadata": {
    "ExecuteTime": {
     "end_time": "2022-06-07T14:40:42.217112Z",
     "start_time": "2022-06-07T14:40:42.212706Z"
    }
   },
   "outputs": [],
   "source": [
    "# 반복문으로 폰트명을 출력합니다.\n",
    "for font in fontPath:\n",
    "    print(fm.FontProperties(fname = font).get_name())"
   ]
  },
  {
   "cell_type": "markdown",
   "id": "1c2ab2de",
   "metadata": {},
   "source": [
    "### 그래픽 파라미터 설정"
   ]
  },
  {
   "cell_type": "code",
   "execution_count": null,
   "id": "93ca1e47",
   "metadata": {
    "ExecuteTime": {
     "end_time": "2022-06-07T14:40:42.221405Z",
     "start_time": "2022-06-07T14:40:42.218827Z"
    }
   },
   "outputs": [],
   "source": [
    "# 그래프 크기와 해상도를 설정합니다.\n",
    "plt.rc(group = 'figure', figsize = (4, 4), dpi = 150)"
   ]
  },
  {
   "cell_type": "code",
   "execution_count": null,
   "id": "00270e26",
   "metadata": {
    "ExecuteTime": {
     "end_time": "2022-06-07T14:40:42.225581Z",
     "start_time": "2022-06-07T14:40:42.223241Z"
    }
   },
   "outputs": [],
   "source": [
    "# 한글폰트와 글자 크기를 설정합니다.\n",
    "plt.rc(group = 'font', family = 'Gamja Flower', size = 10)"
   ]
  },
  {
   "cell_type": "code",
   "execution_count": null,
   "id": "c7f99b00",
   "metadata": {
    "ExecuteTime": {
     "end_time": "2022-06-07T14:40:42.229656Z",
     "start_time": "2022-06-07T14:40:42.227423Z"
    }
   },
   "outputs": [],
   "source": [
    "# 유니코드 마이너스를 축에 출력하지 않도록 설정합니다.\n",
    "plt.rc(group = 'axes', unicode_minus = False)"
   ]
  },
  {
   "cell_type": "code",
   "execution_count": null,
   "id": "f0fe3a82",
   "metadata": {
    "ExecuteTime": {
     "end_time": "2022-06-07T14:40:42.235300Z",
     "start_time": "2022-06-07T14:40:42.231494Z"
    }
   },
   "outputs": [],
   "source": [
    "# 범례에 채우기 색과 테두리 색을 추가합니다.\n",
    "plt.rc(group = 'legend', frameon = True, fc = '1', ec = '0')"
   ]
  },
  {
   "cell_type": "markdown",
   "id": "fa987ad9",
   "metadata": {},
   "source": [
    "### [참고] 그래픽 파라미터 설정 관련 모듈 생성"
   ]
  },
  {
   "cell_type": "raw",
   "id": "bf65cf45",
   "metadata": {},
   "source": [
    "# 시각화 설정 모듈을 호출합니다.\n",
    "from GraphicSetting import *"
   ]
  },
  {
   "cell_type": "markdown",
   "id": "b0822312",
   "metadata": {},
   "source": [
    "### [참고] Python 파일 탐색 경로 확인"
   ]
  },
  {
   "cell_type": "raw",
   "id": "bb0b28b6",
   "metadata": {},
   "source": [
    "# 관련 라이브러리를 호출합니다.\n",
    "import sys"
   ]
  },
  {
   "cell_type": "raw",
   "id": "44155136",
   "metadata": {},
   "source": [
    "# Python 파일 탐색 경로를 모두 출력합니다.\n",
    "sys.path"
   ]
  },
  {
   "cell_type": "markdown",
   "id": "0d227527",
   "metadata": {},
   "source": [
    "### [참고] 시각화 함수 모듈 제공"
   ]
  },
  {
   "cell_type": "code",
   "execution_count": null,
   "id": "36ec584b",
   "metadata": {
    "ExecuteTime": {
     "end_time": "2022-06-07T14:40:42.516619Z",
     "start_time": "2022-06-07T14:40:42.237213Z"
    }
   },
   "outputs": [],
   "source": [
    "# 시각화 함수 모듈을 호출합니다.\n",
    "import HelloDataScience as hds"
   ]
  },
  {
   "cell_type": "markdown",
   "id": "2c788752",
   "metadata": {},
   "source": [
    "### 목표변수 분포 확인"
   ]
  },
  {
   "cell_type": "code",
   "execution_count": null,
   "id": "2dc22ae7",
   "metadata": {
    "ExecuteTime": {
     "end_time": "2022-06-07T14:40:42.526588Z",
     "start_time": "2022-06-07T14:40:42.518643Z"
    }
   },
   "outputs": [],
   "source": [
    "# 목표변수 최솟값과 최댓값을 확인합니다.\n",
    "df['Price'].describe()[['min', 'max']]"
   ]
  },
  {
   "cell_type": "code",
   "execution_count": null,
   "id": "c7d58910",
   "metadata": {
    "ExecuteTime": {
     "end_time": "2022-06-07T14:40:42.531127Z",
     "start_time": "2022-06-07T14:40:42.528314Z"
    }
   },
   "outputs": [],
   "source": [
    "# 히스토그램 계급을 설정합니다.\n",
    "bins = np.arange(start = 4000, stop = 16001, step = 1000)"
   ]
  },
  {
   "cell_type": "code",
   "execution_count": null,
   "id": "94a817e4",
   "metadata": {
    "ExecuteTime": {
     "end_time": "2022-06-07T14:40:42.676576Z",
     "start_time": "2022-06-07T14:40:42.532819Z"
    }
   },
   "outputs": [],
   "source": [
    "# 히스토그램을 그리고 목표변수 분포를 확인합니다.\n",
    "sns.histplot(data = df, x = 'Price', bins = bins, color = '0.8')\n",
    "plt.title(label = '중고차 가격 히스토그램');"
   ]
  },
  {
   "cell_type": "code",
   "execution_count": null,
   "id": "c50b359e",
   "metadata": {
    "ExecuteTime": {
     "end_time": "2022-06-07T14:40:42.768624Z",
     "start_time": "2022-06-07T14:40:42.678318Z"
    },
    "scrolled": false
   },
   "outputs": [],
   "source": [
    "# 상자 수염 그림을 그리고 목표변수 분포를 확인합니다.\n",
    "sns.boxplot(data = df, y = 'Price', color = '0.8')\n",
    "plt.title(label = '중고차 가격 상자 수염 그림');"
   ]
  },
  {
   "cell_type": "markdown",
   "id": "27884b7d",
   "metadata": {},
   "source": [
    "### 연속형 입력변수와 관계 파악"
   ]
  },
  {
   "cell_type": "code",
   "execution_count": null,
   "id": "23570855",
   "metadata": {
    "ExecuteTime": {
     "end_time": "2022-06-07T14:40:43.024507Z",
     "start_time": "2022-06-07T14:40:42.770388Z"
    }
   },
   "outputs": [],
   "source": [
    "# Age와 Price의 산점도를 그립니다.\n",
    "hds.plot_regression(data = df, x = 'Age', y = 'Price')"
   ]
  },
  {
   "cell_type": "code",
   "execution_count": null,
   "id": "52bc1625",
   "metadata": {
    "ExecuteTime": {
     "end_time": "2022-06-07T14:40:43.273870Z",
     "start_time": "2022-06-07T14:40:43.026027Z"
    }
   },
   "outputs": [],
   "source": [
    "# KM와 Price의 산점도를 그립니다.\n",
    "hds.plot_regression(data = df, x = 'KM', y = 'Price')"
   ]
  },
  {
   "cell_type": "code",
   "execution_count": null,
   "id": "ea47a299",
   "metadata": {
    "ExecuteTime": {
     "end_time": "2022-06-07T14:40:43.576918Z",
     "start_time": "2022-06-07T14:40:43.275571Z"
    }
   },
   "outputs": [],
   "source": [
    "# HP와 Price의 산점도를 그립니다.\n",
    "hds.plot_regression(data = df, x = 'HP', y = 'Price')"
   ]
  },
  {
   "cell_type": "code",
   "execution_count": null,
   "id": "5e12b635",
   "metadata": {
    "ExecuteTime": {
     "end_time": "2022-06-07T14:40:43.815739Z",
     "start_time": "2022-06-07T14:40:43.578456Z"
    },
    "scrolled": false
   },
   "outputs": [],
   "source": [
    "# CC와 Price의 산점도를 그립니다.\n",
    "hds.plot_regression(data = df, x = 'CC', y = 'Price')"
   ]
  },
  {
   "cell_type": "code",
   "execution_count": null,
   "id": "9dad1554",
   "metadata": {
    "ExecuteTime": {
     "end_time": "2022-06-07T14:40:44.064366Z",
     "start_time": "2022-06-07T14:40:43.817425Z"
    }
   },
   "outputs": [],
   "source": [
    "# Doors와 Price의 산점도를 그립니다.\n",
    "hds.plot_regression(data = df, x = 'Doors', y = 'Price')"
   ]
  },
  {
   "cell_type": "code",
   "execution_count": null,
   "id": "477f6ef0",
   "metadata": {
    "ExecuteTime": {
     "end_time": "2022-06-07T14:40:44.070870Z",
     "start_time": "2022-06-07T14:40:44.065908Z"
    }
   },
   "outputs": [],
   "source": [
    "# Doors 범주별 빈도수를 확인합니다.\n",
    "df['Doors'].value_counts().sort_index()"
   ]
  },
  {
   "cell_type": "code",
   "execution_count": null,
   "id": "2ea16fb4",
   "metadata": {
    "ExecuteTime": {
     "end_time": "2022-06-07T14:40:44.314251Z",
     "start_time": "2022-06-07T14:40:44.072542Z"
    },
    "scrolled": false
   },
   "outputs": [],
   "source": [
    "# Weight와 Price의 산점도를 그립니다.\n",
    "hds.plot_regression(data = df, x = 'Weight', y = 'Price')\n",
    "\n",
    "# 세로선을 추가합니다.\n",
    "plt.axvline(x = 1250, color = 'red');"
   ]
  },
  {
   "cell_type": "markdown",
   "id": "958df828",
   "metadata": {},
   "source": [
    "### 범주형 입력변수와 관계 파악"
   ]
  },
  {
   "cell_type": "code",
   "execution_count": null,
   "id": "83ab74e1",
   "metadata": {
    "ExecuteTime": {
     "end_time": "2022-06-07T14:40:44.455113Z",
     "start_time": "2022-06-07T14:40:44.322725Z"
    }
   },
   "outputs": [],
   "source": [
    "# FuelType 범주별 Price의 상자 수염 그림을 그립니다.\n",
    "hds.plot_box_group(\n",
    "    data = df, \n",
    "    x = 'FuelType', \n",
    "    y = 'Price', \n",
    "    pal = ['skyblue', 'orange', 'yellow']\n",
    ")"
   ]
  },
  {
   "cell_type": "code",
   "execution_count": null,
   "id": "8c06163b",
   "metadata": {
    "ExecuteTime": {
     "end_time": "2022-06-07T14:40:44.578194Z",
     "start_time": "2022-06-07T14:40:44.456821Z"
    }
   },
   "outputs": [],
   "source": [
    "# MetColor 범주별 Price의 상자 수염 그림을 그립니다.\n",
    "hds.plot_box_group(\n",
    "    data = df, \n",
    "    x = 'MetColor', \n",
    "    y = 'Price',\n",
    "    pal = ['skyblue', 'orange']\n",
    ")"
   ]
  },
  {
   "cell_type": "code",
   "execution_count": null,
   "id": "1f9d0948",
   "metadata": {
    "ExecuteTime": {
     "end_time": "2022-06-07T14:40:44.707962Z",
     "start_time": "2022-06-07T14:40:44.579926Z"
    }
   },
   "outputs": [],
   "source": [
    "# Automatic 범주별 Price의 상자 수염 그림을 그립니다.\n",
    "hds.plot_box_group(\n",
    "    data = df, \n",
    "    x = 'Automatic', \n",
    "    y = 'Price',\n",
    "    pal = ['skyblue', 'orange']\n",
    ")"
   ]
  },
  {
   "cell_type": "markdown",
   "id": "88a12921",
   "metadata": {},
   "source": [
    "### 불필요한 행 삭제 및 z 파일로 저장"
   ]
  },
  {
   "cell_type": "code",
   "execution_count": null,
   "id": "ecf984c8",
   "metadata": {
    "ExecuteTime": {
     "end_time": "2022-06-07T14:40:44.713419Z",
     "start_time": "2022-06-07T14:40:44.709806Z"
    }
   },
   "outputs": [],
   "source": [
    "# 시각화 결과 불필요하다고 판단하는 일부 행을 삭제합니다.\n",
    "df = df.loc[df['Doors'].ge(3) & df['Weight'].le(1250)]"
   ]
  },
  {
   "cell_type": "code",
   "execution_count": null,
   "id": "8fbfbbfd",
   "metadata": {
    "ExecuteTime": {
     "end_time": "2022-06-07T14:40:44.718172Z",
     "start_time": "2022-06-07T14:40:44.715133Z"
    }
   },
   "outputs": [],
   "source": [
    "# 현재 작업 경로를 확인합니다.\n",
    "os.getcwd()"
   ]
  },
  {
   "cell_type": "code",
   "execution_count": null,
   "id": "fa473bcd",
   "metadata": {
    "ExecuteTime": {
     "end_time": "2022-06-07T14:40:44.721772Z",
     "start_time": "2022-06-07T14:40:44.719781Z"
    }
   },
   "outputs": [],
   "source": [
    "# data 폴더로 작업 경로를 변경합니다.\n",
    "os.chdir(path = '../data')"
   ]
  },
  {
   "cell_type": "code",
   "execution_count": null,
   "id": "f5ecf0d8",
   "metadata": {
    "ExecuteTime": {
     "end_time": "2022-06-07T14:40:44.729680Z",
     "start_time": "2022-06-07T14:40:44.723443Z"
    }
   },
   "outputs": [],
   "source": [
    "# df를 z 파일로 저장합니다.\n",
    "joblib.dump(value = df, filename = 'Used_Cars_Price.z')"
   ]
  },
  {
   "cell_type": "markdown",
   "id": "adb799d0",
   "metadata": {},
   "source": [
    "## End of Document"
   ]
  }
 ],
 "metadata": {
  "kernelspec": {
   "display_name": "Python 3",
   "language": "python",
   "name": "python3"
  },
  "language_info": {
   "codemirror_mode": {
    "name": "ipython",
    "version": 3
   },
   "file_extension": ".py",
   "mimetype": "text/x-python",
   "name": "python",
   "nbconvert_exporter": "python",
   "pygments_lexer": "ipython3",
   "version": "3.10.4"
  },
  "toc": {
   "base_numbering": 1,
   "nav_menu": {},
   "number_sections": false,
   "sideBar": true,
   "skip_h1_title": false,
   "title_cell": "Table of Contents",
   "title_sidebar": "Contents",
   "toc_cell": false,
   "toc_position": {},
   "toc_section_display": true,
   "toc_window_display": false
  },
  "varInspector": {
   "cols": {
    "lenName": 16,
    "lenType": 16,
    "lenVar": 40
   },
   "kernels_config": {
    "python": {
     "delete_cmd_postfix": "",
     "delete_cmd_prefix": "del ",
     "library": "var_list.py",
     "varRefreshCmd": "print(var_dic_list())"
    },
    "r": {
     "delete_cmd_postfix": ") ",
     "delete_cmd_prefix": "rm(",
     "library": "var_list.r",
     "varRefreshCmd": "cat(var_dic_list()) "
    }
   },
   "types_to_exclude": [
    "module",
    "function",
    "builtin_function_or_method",
    "instance",
    "_Feature"
   ],
   "window_display": false
  }
 },
 "nbformat": 4,
 "nbformat_minor": 5
}
