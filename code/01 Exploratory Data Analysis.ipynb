{
 "cells": [
  {
   "cell_type": "markdown",
   "id": "67809a6e",
   "metadata": {},
   "source": [
    "# 탐색적 데이터 분석"
   ]
  },
  {
   "cell_type": "markdown",
   "id": "84996d04",
   "metadata": {},
   "source": [
    "### 실습 데이터셋 준비"
   ]
  },
  {
   "cell_type": "code",
   "execution_count": null,
   "id": "54a2472d",
   "metadata": {},
   "outputs": [],
   "source": [
    "# 관련 라이브러리를 호출합니다.\n",
    "import os, joblib\n",
    "import numpy as np\n",
    "import pandas as pd"
   ]
  },
  {
   "cell_type": "code",
   "execution_count": null,
   "id": "84538c21",
   "metadata": {},
   "outputs": [],
   "source": [
    "# 인터넷으로 공유 중인 텍스트 데이터를 읽고 데이터프레임 df를 생성합니다.\n",
    "df = pd.read_csv(filepath_or_buffer = 'https://bit.ly/Used_Cars_Price')"
   ]
  },
  {
   "cell_type": "code",
   "execution_count": null,
   "id": "114f09cc",
   "metadata": {},
   "outputs": [],
   "source": [
    "# df의 정보를 확인합니다.\n",
    "df.info()"
   ]
  },
  {
   "cell_type": "code",
   "execution_count": null,
   "id": "4ba5245e",
   "metadata": {},
   "outputs": [],
   "source": [
    "# df의 처음 5행을 출력합니다.\n",
    "df.head()"
   ]
  },
  {
   "cell_type": "markdown",
   "id": "314d7b67",
   "metadata": {},
   "source": [
    "### 관련 라이브러리 호출"
   ]
  },
  {
   "cell_type": "code",
   "execution_count": null,
   "id": "5c4465c7",
   "metadata": {},
   "outputs": [],
   "source": [
    "# 관련 라이브러리를 호출합니다.\n",
    "import seaborn as sns\n",
    "import matplotlib.pyplot as plt\n",
    "import matplotlib.font_manager as fm\n",
    "%matplotlib inline"
   ]
  },
  {
   "cell_type": "code",
   "execution_count": null,
   "id": "a28a0ce4",
   "metadata": {},
   "outputs": [],
   "source": [
    "# matplotlib에서 사용할 수 있는 스타일시트 목록을 확인합니다.\n",
    "plt.style.available"
   ]
  },
  {
   "cell_type": "code",
   "execution_count": null,
   "id": "15cc2782",
   "metadata": {},
   "outputs": [],
   "source": [
    "# 그래프에 적용할 스타일시트를 설정합니다.\n",
    "plt.style.use(style = 'seaborn-white')"
   ]
  },
  {
   "cell_type": "markdown",
   "id": "9c23e635",
   "metadata": {},
   "source": [
    "### 한글폰트명 탐색"
   ]
  },
  {
   "cell_type": "code",
   "execution_count": null,
   "id": "ee181825",
   "metadata": {},
   "outputs": [],
   "source": [
    "# 컴퓨터에 설치된 폰트파일명을 리스트로 반환합니다.\n",
    "fontList = fm.findSystemFonts(fontext = 'ttf')"
   ]
  },
  {
   "cell_type": "code",
   "execution_count": null,
   "id": "a586dd92",
   "metadata": {},
   "outputs": [],
   "source": [
    "# 특정 문자열이 포함된 파일명만 선택합니다.\n",
    "fontPath = [font for font in fontList if 'Gamja' in font]"
   ]
  },
  {
   "cell_type": "code",
   "execution_count": null,
   "id": "8e52cb55",
   "metadata": {},
   "outputs": [],
   "source": [
    "# fontPath를 오름차순으로 정렬합니다.\n",
    "fontPath.sort()"
   ]
  },
  {
   "cell_type": "code",
   "execution_count": null,
   "id": "2c3b8153",
   "metadata": {},
   "outputs": [],
   "source": [
    "# 반복문으로 한글폰트명을 출력하고 마음에 드는 폰트명을 선택합니다.\n",
    "for font in fontPath:\n",
    "    print(fm.FontProperties(fname = font).get_name())"
   ]
  },
  {
   "cell_type": "markdown",
   "id": "1c2ab2de",
   "metadata": {},
   "source": [
    "### 그래픽 파라미터 설정"
   ]
  },
  {
   "cell_type": "code",
   "execution_count": null,
   "id": "93ca1e47",
   "metadata": {},
   "outputs": [],
   "source": [
    "# 그래프의 크기 및 해상도를 설정합니다.\n",
    "plt.rc(group = 'figure', figsize = (12, 6), dpi = 100)"
   ]
  },
  {
   "cell_type": "code",
   "execution_count": null,
   "id": "fbd115e7",
   "metadata": {},
   "outputs": [],
   "source": [
    "# 선 굵기 및 스타일을 설정합니다.\n",
    "plt.rc(group = 'lines', linewidth = 0.5, linestyle = '-')"
   ]
  },
  {
   "cell_type": "code",
   "execution_count": null,
   "id": "00270e26",
   "metadata": {},
   "outputs": [],
   "source": [
    "# 한글폰트 및 글자 크기를 설정합니다.\n",
    "plt.rc(group = 'font', family = 'Gamja Flower', size = 10)"
   ]
  },
  {
   "cell_type": "code",
   "execution_count": null,
   "id": "c7f99b00",
   "metadata": {},
   "outputs": [],
   "source": [
    "# 한글폰트에는 마이너스 기호가 없으므로 축에 출력되지 않도록 설정합니다.\n",
    "plt.rc(group = 'axes', unicode_minus = False)"
   ]
  },
  {
   "cell_type": "markdown",
   "id": "0a3c97f6",
   "metadata": {},
   "source": [
    "### [참고] 한글이 네모로 출력되는 에러 해결 방법"
   ]
  },
  {
   "cell_type": "raw",
   "id": "c64c4b26",
   "metadata": {},
   "source": [
    "# 관련 라이브러리를 호출합니다.\n",
    "import matplotlib, glob"
   ]
  },
  {
   "cell_type": "raw",
   "id": "01af09c3",
   "metadata": {},
   "source": [
    "# matplotlib 라이브러리 임시 폴더 경로로 path를 생성합니다.\n",
    "path = matplotlib.get_cachedir()"
   ]
  },
  {
   "cell_type": "raw",
   "id": "b56e8c94",
   "metadata": {},
   "source": [
    "# 폰트 목록을 담고 있는 JSON 파일명으로 file을 생성합니다.\n",
    "file = glob.glob(pathname = f'{path}/fontlist-*.json')[0]"
   ]
  },
  {
   "cell_type": "raw",
   "id": "5adcd506",
   "metadata": {},
   "source": [
    "# matplotlib 라이브러리의 임시 폴더에 있는 JSON 파일을 삭제합니다.\n",
    "os.remove(path = file)"
   ]
  },
  {
   "cell_type": "markdown",
   "id": "fa987ad9",
   "metadata": {},
   "source": [
    "### [참고] 그래픽 파라미터 설정 관련 모듈 생성"
   ]
  },
  {
   "cell_type": "code",
   "execution_count": null,
   "id": "c442226b",
   "metadata": {},
   "outputs": [],
   "source": [
    "# 시각화 관련 모듈을 호출합니다.\n",
    "from GraphicSetting import *\n",
    "import HelloDataScience as hds"
   ]
  },
  {
   "cell_type": "markdown",
   "id": "2c788752",
   "metadata": {},
   "source": [
    "### 목표변수 분포 확인"
   ]
  },
  {
   "cell_type": "code",
   "execution_count": null,
   "id": "2dc22ae7",
   "metadata": {},
   "outputs": [],
   "source": [
    "# 목표변수의 최솟값과 최댓값을 확인합니다.\n",
    "df['Price'].describe()[['min', 'max']]"
   ]
  },
  {
   "cell_type": "code",
   "execution_count": null,
   "id": "c7d58910",
   "metadata": {},
   "outputs": [],
   "source": [
    "# 히스토그램의 계급을 설정합니다.\n",
    "bins = np.arange(start = 4000, stop = 16001, step = 1000)"
   ]
  },
  {
   "cell_type": "code",
   "execution_count": null,
   "id": "94a817e4",
   "metadata": {},
   "outputs": [],
   "source": [
    "# 히스토그램으로 목표변수의 분포를 시각화합니다.\n",
    "sns.histplot(data = df, x = 'Price', bins = bins, color = 'orange')\n",
    "plt.title(label = '중고차 가격 히스토그램');"
   ]
  },
  {
   "cell_type": "code",
   "execution_count": null,
   "id": "c50b359e",
   "metadata": {
    "scrolled": false
   },
   "outputs": [],
   "source": [
    "# 상자 수염 그림으로 목표변수의 분포를 시각화합니다.\n",
    "sns.boxplot(data = df, y = 'Price', color = 'orange', )\n",
    "plt.title(label = '중고차 가격 상자 수염 그림');"
   ]
  },
  {
   "cell_type": "markdown",
   "id": "27884b7d",
   "metadata": {},
   "source": [
    "### 연속형 입력변수와 관계 파악"
   ]
  },
  {
   "cell_type": "code",
   "execution_count": null,
   "id": "23570855",
   "metadata": {},
   "outputs": [],
   "source": [
    "# Age와 Price의 산점도를 그립니다.\n",
    "hds.plot_regression(data = df, x = 'Age', y = 'Price')"
   ]
  },
  {
   "cell_type": "code",
   "execution_count": null,
   "id": "52bc1625",
   "metadata": {},
   "outputs": [],
   "source": [
    "# KM와 Price의 산점도를 그립니다.\n",
    "hds.plot_regression(data = df, x = 'KM', y = 'Price')"
   ]
  },
  {
   "cell_type": "code",
   "execution_count": null,
   "id": "ea47a299",
   "metadata": {},
   "outputs": [],
   "source": [
    "# HP와 Price의 산점도를 그립니다.\n",
    "hds.plot_regression(data = df, x = 'HP', y = 'Price')"
   ]
  },
  {
   "cell_type": "code",
   "execution_count": null,
   "id": "5e12b635",
   "metadata": {
    "scrolled": false
   },
   "outputs": [],
   "source": [
    "# CC와 Price의 산점도를 그립니다.\n",
    "hds.plot_regression(data = df, x = 'CC', y = 'Price')"
   ]
  },
  {
   "cell_type": "code",
   "execution_count": null,
   "id": "9dad1554",
   "metadata": {},
   "outputs": [],
   "source": [
    "# Doors와 Price의 산점도를 그립니다.\n",
    "hds.plot_regression(data = df, x = 'Doors', y = 'Price')"
   ]
  },
  {
   "cell_type": "code",
   "execution_count": null,
   "id": "477f6ef0",
   "metadata": {},
   "outputs": [],
   "source": [
    "# Doors의 범주별 빈도수를 확인합니다.\n",
    "df['Doors'].value_counts().sort_index()"
   ]
  },
  {
   "cell_type": "code",
   "execution_count": null,
   "id": "2ea16fb4",
   "metadata": {
    "scrolled": false
   },
   "outputs": [],
   "source": [
    "# Weight와 Price의 산점도를 그립니다.\n",
    "hds.plot_regression(data = df, x = 'Weight', y = 'Price')\n",
    "\n",
    "# 세로선을 추가합니다.\n",
    "plt.axvline(x = 1250, color = 'red');"
   ]
  },
  {
   "cell_type": "markdown",
   "id": "958df828",
   "metadata": {},
   "source": [
    "### 범주형 입력변수와 관계 파악"
   ]
  },
  {
   "cell_type": "code",
   "execution_count": null,
   "id": "83ab74e1",
   "metadata": {},
   "outputs": [],
   "source": [
    "# FuelType의 범주별 Price의 분포를 상자 수염 그림으로 시각화합니다.\n",
    "hds.plot_box_group(data = df, x = 'FuelType', y = 'Price')"
   ]
  },
  {
   "cell_type": "code",
   "execution_count": null,
   "id": "8c06163b",
   "metadata": {},
   "outputs": [],
   "source": [
    "# MetColor의 범주별 Price의 분포를 상자 수염 그림으로 시각화합니다.\n",
    "hds.plot_box_group(data = df, x = 'MetColor', y = 'Price')"
   ]
  },
  {
   "cell_type": "code",
   "execution_count": null,
   "id": "1f9d0948",
   "metadata": {},
   "outputs": [],
   "source": [
    "# Automatic의 범주별 Price의 분포를 상자 수염 그림으로 시각화합니다.\n",
    "hds.plot_box_group(data = df, x = 'Automatic', y = 'Price')"
   ]
  },
  {
   "cell_type": "markdown",
   "id": "88a12921",
   "metadata": {},
   "source": [
    "### 불필요한 행 삭제 및 압축 파일로 저장"
   ]
  },
  {
   "cell_type": "code",
   "execution_count": null,
   "id": "ecf984c8",
   "metadata": {},
   "outputs": [],
   "source": [
    "# 시각화 결과 불필요하다고 판단되는 일부 행을 삭제합니다.\n",
    "df = df.loc[df['Doors'].ge(3) & df['Weight'].le(1250)]"
   ]
  },
  {
   "cell_type": "code",
   "execution_count": null,
   "id": "8fbfbbfd",
   "metadata": {},
   "outputs": [],
   "source": [
    "# 현재 작업 경로를 확인합니다.\n",
    "os.getcwd()"
   ]
  },
  {
   "cell_type": "code",
   "execution_count": null,
   "id": "fa473bcd",
   "metadata": {},
   "outputs": [],
   "source": [
    "# data 폴더로 작업 경로를 변경합니다.\n",
    "os.chdir(path = '../data')"
   ]
  },
  {
   "cell_type": "code",
   "execution_count": null,
   "id": "f5ecf0d8",
   "metadata": {},
   "outputs": [],
   "source": [
    "# 압축 파일로 저장합니다.\n",
    "joblib.dump(value = df, filename = 'Used_Cars_Price.z')"
   ]
  },
  {
   "cell_type": "markdown",
   "id": "adb799d0",
   "metadata": {},
   "source": [
    "## End of Document"
   ]
  }
 ],
 "metadata": {
  "kernelspec": {
   "display_name": "Python 3 (ipykernel)",
   "language": "python",
   "name": "python3"
  },
  "language_info": {
   "codemirror_mode": {
    "name": "ipython",
    "version": 3
   },
   "file_extension": ".py",
   "mimetype": "text/x-python",
   "name": "python",
   "nbconvert_exporter": "python",
   "pygments_lexer": "ipython3",
   "version": "3.10.3"
  },
  "toc": {
   "base_numbering": 1,
   "nav_menu": {},
   "number_sections": true,
   "sideBar": true,
   "skip_h1_title": false,
   "title_cell": "Table of Contents",
   "title_sidebar": "Contents",
   "toc_cell": false,
   "toc_position": {},
   "toc_section_display": true,
   "toc_window_display": false
  },
  "varInspector": {
   "cols": {
    "lenName": 16,
    "lenType": 16,
    "lenVar": 40
   },
   "kernels_config": {
    "python": {
     "delete_cmd_postfix": "",
     "delete_cmd_prefix": "del ",
     "library": "var_list.py",
     "varRefreshCmd": "print(var_dic_list())"
    },
    "r": {
     "delete_cmd_postfix": ") ",
     "delete_cmd_prefix": "rm(",
     "library": "var_list.r",
     "varRefreshCmd": "cat(var_dic_list()) "
    }
   },
   "types_to_exclude": [
    "module",
    "function",
    "builtin_function_or_method",
    "instance",
    "_Feature"
   ],
   "window_display": false
  }
 },
 "nbformat": 4,
 "nbformat_minor": 5
}
