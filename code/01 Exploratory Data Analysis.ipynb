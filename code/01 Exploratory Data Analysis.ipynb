{
 "cells": [
  {
   "cell_type": "markdown",
   "id": "67809a6e",
   "metadata": {},
   "source": [
    "## 탐색적 데이터 분석"
   ]
  },
  {
   "cell_type": "markdown",
   "id": "84996d04",
   "metadata": {},
   "source": [
    "### 관련 라이브러리 호출"
   ]
  },
  {
   "cell_type": "code",
   "execution_count": null,
   "id": "54a2472d",
   "metadata": {
    "ExecuteTime": {
     "end_time": "2022-06-11T04:53:24.635847Z",
     "start_time": "2022-06-11T04:53:24.338653Z"
    }
   },
   "outputs": [],
   "source": [
    "# 관련 라이브러리를 호출합니다.\n",
    "import os\n",
    "import joblib\n",
    "import numpy as np\n",
    "import pandas as pd"
   ]
  },
  {
   "cell_type": "code",
   "execution_count": null,
   "id": "6b4e20ab",
   "metadata": {},
   "outputs": [],
   "source": [
    "# 실수를 출력할 소수점 자리수를 설정합니다.\n",
    "%precision 3\n",
    "pd.options.display.precision = 3"
   ]
  },
  {
   "cell_type": "markdown",
   "id": "2ee53f71",
   "metadata": {},
   "source": [
    "### 작업 경로 확인 및 변경"
   ]
  },
  {
   "cell_type": "code",
   "execution_count": null,
   "id": "c06b490b",
   "metadata": {
    "ExecuteTime": {
     "end_time": "2022-06-11T04:53:28.868064Z",
     "start_time": "2022-06-11T04:53:28.863608Z"
    }
   },
   "outputs": [],
   "source": [
    "# 현재 작업 경로를 확인합니다.\n",
    "os.getcwd()"
   ]
  },
  {
   "cell_type": "code",
   "execution_count": null,
   "id": "3d35493b",
   "metadata": {
    "ExecuteTime": {
     "end_time": "2022-06-11T04:53:28.872054Z",
     "start_time": "2022-06-11T04:53:28.869684Z"
    }
   },
   "outputs": [],
   "source": [
    "# data 폴더로 작업 경로를 변경합니다.\n",
    "os.chdir(path = '../data')"
   ]
  },
  {
   "cell_type": "code",
   "execution_count": null,
   "id": "e4b23720",
   "metadata": {},
   "outputs": [],
   "source": [
    "# 현재 작업 경로에 있는 폴더명과 파일명을 출력합니다.\n",
    "os.listdir()"
   ]
  },
  {
   "cell_type": "markdown",
   "id": "12b10704",
   "metadata": {},
   "source": [
    "### 실습 데이터셋 준비"
   ]
  },
  {
   "cell_type": "code",
   "execution_count": null,
   "id": "84538c21",
   "metadata": {
    "ExecuteTime": {
     "end_time": "2022-06-11T04:53:25.239336Z",
     "start_time": "2022-06-11T04:53:24.638110Z"
    }
   },
   "outputs": [],
   "source": [
    "# 인터넷에 공유 중인 텍스트 데이터를 읽고 데이터프레임 df를 생성합니다.\n",
    "df = pd.read_csv(filepath_or_buffer = 'https://bit.ly/Used_Cars_Price')"
   ]
  },
  {
   "cell_type": "code",
   "execution_count": null,
   "id": "114f09cc",
   "metadata": {
    "ExecuteTime": {
     "end_time": "2022-06-11T04:53:25.250256Z",
     "start_time": "2022-06-11T04:53:25.241089Z"
    }
   },
   "outputs": [],
   "source": [
    "# df의 정보를 확인합니다.\n",
    "df.info()"
   ]
  },
  {
   "cell_type": "code",
   "execution_count": null,
   "id": "4ba5245e",
   "metadata": {
    "ExecuteTime": {
     "end_time": "2022-06-11T04:53:25.265469Z",
     "start_time": "2022-06-11T04:53:25.252670Z"
    }
   },
   "outputs": [],
   "source": [
    "# df의 처음 5행을 출력합니다.\n",
    "df.head()"
   ]
  },
  {
   "cell_type": "markdown",
   "id": "e7e18c3a-2371-4ab7-bae0-8e5e647ce521",
   "metadata": {},
   "source": [
    "### 실습 데이터셋 전처리"
   ]
  },
  {
   "cell_type": "code",
   "execution_count": null,
   "id": "6a3055ed",
   "metadata": {
    "ExecuteTime": {
     "end_time": "2022-06-11T04:53:25.269181Z",
     "start_time": "2022-06-11T04:53:25.267138Z"
    }
   },
   "outputs": [],
   "source": [
    "# 범주형으로 변환할 열이름으로 리스트를 생성합니다.\n",
    "cols = ['MetColor', 'Automatic']"
   ]
  },
  {
   "cell_type": "code",
   "execution_count": null,
   "id": "e18e3163",
   "metadata": {
    "ExecuteTime": {
     "end_time": "2022-06-11T04:53:25.274762Z",
     "start_time": "2022-06-11T04:53:25.270666Z"
    }
   },
   "outputs": [],
   "source": [
    "# 지정한 변수를 문자형으로 일괄 변환합니다.\n",
    "df[cols] = df[cols].astype(str)"
   ]
  },
  {
   "cell_type": "code",
   "execution_count": null,
   "id": "deffe7ae-1670-4829-bc66-c335dd3f8a23",
   "metadata": {},
   "outputs": [],
   "source": [
    "# df의 열별 자료형을 확인합니다.\n",
    "df.dtypes"
   ]
  },
  {
   "cell_type": "code",
   "execution_count": null,
   "id": "7af3325f-b745-4347-9283-db950d1126f3",
   "metadata": {},
   "outputs": [],
   "source": [
    "# 실수 및 정수형 변수의 기술통계량을 확인합니다.\n",
    "df.describe()"
   ]
  },
  {
   "cell_type": "code",
   "execution_count": null,
   "id": "bc07da02",
   "metadata": {
    "ExecuteTime": {
     "end_time": "2022-06-11T04:53:25.280314Z",
     "start_time": "2022-06-11T04:53:25.276255Z"
    }
   },
   "outputs": [],
   "source": [
    "# df를 KM로 오름차순 정렬하고 처음 5행을 출력합니다.\n",
    "df.sort_values(by = ['KM']).head()"
   ]
  },
  {
   "cell_type": "code",
   "execution_count": null,
   "id": "29849010-02e1-4651-8aad-31f8664198b0",
   "metadata": {},
   "outputs": [],
   "source": [
    "# df에서 KM가 1보다 큰 행을 선택하고 행이름을 초기화합니다.\n",
    "df = df[df['KM'].gt(1)].reset_index(drop = True)"
   ]
  },
  {
   "cell_type": "code",
   "execution_count": null,
   "id": "8aa43800-91b7-4a6c-a6f1-d221b88981ff",
   "metadata": {},
   "outputs": [],
   "source": [
    "# 범주형 변수의 기술통계량을 확인합니다.\n",
    "df.describe(include = object)"
   ]
  },
  {
   "cell_type": "code",
   "execution_count": null,
   "id": "88f005e7-e0a2-41d1-afbb-31172fe1b439",
   "metadata": {},
   "outputs": [],
   "source": [
    "# FuelType의 범주별 상대도수를 출력합니다.\n",
    "df['FuelType'].value_counts(normalize = True)"
   ]
  },
  {
   "cell_type": "code",
   "execution_count": null,
   "id": "f8501526-f622-4e63-b87a-75457d65cd99",
   "metadata": {},
   "outputs": [],
   "source": [
    "# MetColor의 범주별 상대도수를 출력합니다.\n",
    "df['MetColor'].value_counts(normalize = True)"
   ]
  },
  {
   "cell_type": "code",
   "execution_count": null,
   "id": "c958d216-63cd-4aa5-a646-c1235bcf7d69",
   "metadata": {},
   "outputs": [],
   "source": [
    "# Automatic의 범주별 상대도수를 출력합니다.\n",
    "df['Automatic'].value_counts(normalize = True)"
   ]
  },
  {
   "cell_type": "markdown",
   "id": "314d7b67",
   "metadata": {},
   "source": [
    "### 시각화 설정: 라이브러리 호출"
   ]
  },
  {
   "cell_type": "code",
   "execution_count": null,
   "id": "5c4465c7",
   "metadata": {
    "ExecuteTime": {
     "end_time": "2022-06-11T04:53:26.170985Z",
     "start_time": "2022-06-11T04:53:25.281863Z"
    }
   },
   "outputs": [],
   "source": [
    "# 관련 라이브러리를 호출합니다.\n",
    "import seaborn as sns\n",
    "import matplotlib.pyplot as plt\n",
    "import matplotlib.font_manager as fm"
   ]
  },
  {
   "cell_type": "code",
   "execution_count": null,
   "id": "e0d8605b",
   "metadata": {
    "ExecuteTime": {
     "end_time": "2022-06-11T04:53:26.401688Z",
     "start_time": "2022-06-11T04:53:26.172713Z"
    }
   },
   "outputs": [],
   "source": [
    "# 테스트용 그래프를 그립니다.\n",
    "sns.histplot(data = df, x = 'Price')\n",
    "plt.title(label = '중고차 가격 분포');"
   ]
  },
  {
   "cell_type": "markdown",
   "id": "9c23e635",
   "metadata": {},
   "source": [
    "### 시각화 설정: 한글폰트명 탐색"
   ]
  },
  {
   "cell_type": "code",
   "execution_count": null,
   "id": "ee181825",
   "metadata": {
    "ExecuteTime": {
     "end_time": "2022-06-11T04:53:26.490109Z",
     "start_time": "2022-06-11T04:53:26.408278Z"
    }
   },
   "outputs": [],
   "source": [
    "# 현재 사용 중인 컴퓨터에 설치한 전체 폰트 파일명을 리스트로 반환합니다.\n",
    "fontList = fm.findSystemFonts(fontext = 'ttf')\n",
    "fontList"
   ]
  },
  {
   "cell_type": "code",
   "execution_count": null,
   "id": "a586dd92",
   "metadata": {
    "ExecuteTime": {
     "end_time": "2022-06-11T04:53:26.496234Z",
     "start_time": "2022-06-11T04:53:26.492733Z"
    }
   },
   "outputs": [],
   "source": [
    "# 특정 문자열을 갖는 파일명으로 리스트를 생성합니다.\n",
    "fontPath = [font for font in fontList if 'Gamja' in font]\n",
    "fontPath"
   ]
  },
  {
   "cell_type": "code",
   "execution_count": null,
   "id": "2c3b8153",
   "metadata": {
    "ExecuteTime": {
     "end_time": "2022-06-11T04:53:26.507305Z",
     "start_time": "2022-06-11T04:53:26.503675Z"
    }
   },
   "outputs": [],
   "source": [
    "# 반복문으로 폰트명을 출력합니다.\n",
    "for font in fontPath:\n",
    "    print(fm.FontProperties(fname = font).get_name())"
   ]
  },
  {
   "cell_type": "markdown",
   "id": "1c2ab2de",
   "metadata": {},
   "source": [
    "### 시각화 설정: 그래픽 파라미터 설정"
   ]
  },
  {
   "cell_type": "code",
   "execution_count": null,
   "id": "93ca1e47",
   "metadata": {
    "ExecuteTime": {
     "end_time": "2022-06-11T04:53:26.511787Z",
     "start_time": "2022-06-11T04:53:26.509027Z"
    }
   },
   "outputs": [],
   "source": [
    "# 그래프 크기와 해상도를 설정합니다.\n",
    "plt.rc(group = 'figure', figsize = (4, 4), dpi = 150)"
   ]
  },
  {
   "cell_type": "code",
   "execution_count": null,
   "id": "00270e26",
   "metadata": {
    "ExecuteTime": {
     "end_time": "2022-06-11T04:53:26.517711Z",
     "start_time": "2022-06-11T04:53:26.515092Z"
    }
   },
   "outputs": [],
   "source": [
    "# 한글폰트와 글자 크기를 설정합니다.\n",
    "plt.rc(group = 'font', family = 'Gamja Flower', size = 10)"
   ]
  },
  {
   "cell_type": "code",
   "execution_count": null,
   "id": "c7f99b00",
   "metadata": {
    "ExecuteTime": {
     "end_time": "2022-06-11T04:53:26.521763Z",
     "start_time": "2022-06-11T04:53:26.519411Z"
    }
   },
   "outputs": [],
   "source": [
    "# 축에 유니코드 마이너스를 출력하지 않도록 설정합니다.\n",
    "plt.rc(group = 'axes', unicode_minus = False)"
   ]
  },
  {
   "cell_type": "code",
   "execution_count": null,
   "id": "f0fe3a82",
   "metadata": {
    "ExecuteTime": {
     "end_time": "2022-06-11T04:53:26.526438Z",
     "start_time": "2022-06-11T04:53:26.523822Z"
    }
   },
   "outputs": [],
   "source": [
    "# 범례에 채우기 색과 테두리 색을 추가합니다.\n",
    "plt.rc(group = 'legend', frameon = True, fc = '1', ec = '0')"
   ]
  },
  {
   "cell_type": "markdown",
   "id": "fa987ad9",
   "metadata": {},
   "source": [
    "### [참고] 그래픽 파라미터 설정 관련 모듈 생성"
   ]
  },
  {
   "cell_type": "raw",
   "id": "bf65cf45",
   "metadata": {},
   "source": [
    "# 시각화 설정 모듈을 호출합니다.\n",
    "from GraphicSetting import *"
   ]
  },
  {
   "cell_type": "markdown",
   "id": "b0822312",
   "metadata": {},
   "source": [
    "### [참고] Python 파일 탐색 경로 확인"
   ]
  },
  {
   "cell_type": "raw",
   "id": "bb0b28b6",
   "metadata": {},
   "source": [
    "# 관련 라이브러리를 호출합니다.\n",
    "import sys"
   ]
  },
  {
   "cell_type": "raw",
   "id": "44155136",
   "metadata": {},
   "source": [
    "# Python 파일 탐색 경로를 모두 출력합니다.\n",
    "sys.path"
   ]
  },
  {
   "cell_type": "markdown",
   "id": "0d227527",
   "metadata": {},
   "source": [
    "### [참고] 시각화 함수 모듈 제공"
   ]
  },
  {
   "cell_type": "raw",
   "id": "3a330fc6-183a-43c0-a393-7aac5342ae2d",
   "metadata": {},
   "source": [
    "# HelloDataScience 모듈의 의존성 라이브러리를 설치합니다.\n",
    "!pip install statsmodels\n",
    "!pip install graphviz"
   ]
  },
  {
   "cell_type": "code",
   "execution_count": null,
   "id": "36ec584b",
   "metadata": {
    "ExecuteTime": {
     "end_time": "2022-06-11T04:53:26.794338Z",
     "start_time": "2022-06-11T04:53:26.528591Z"
    }
   },
   "outputs": [],
   "source": [
    "# 통계 분석 및 머신러닝 관련 시각화 함수 모듈을 호출합니다.\n",
    "import HelloDataScience as hds"
   ]
  },
  {
   "cell_type": "markdown",
   "id": "2c788752",
   "metadata": {},
   "source": [
    "### 목표변수 분포 확인"
   ]
  },
  {
   "cell_type": "code",
   "execution_count": null,
   "id": "2dc22ae7",
   "metadata": {
    "ExecuteTime": {
     "end_time": "2022-06-11T04:53:26.803723Z",
     "start_time": "2022-06-11T04:53:26.795984Z"
    }
   },
   "outputs": [],
   "source": [
    "# 목표변수의 최솟값과 최댓값을 확인합니다.\n",
    "df['Price'].describe()[['min', 'max']]"
   ]
  },
  {
   "cell_type": "code",
   "execution_count": null,
   "id": "94a817e4",
   "metadata": {
    "ExecuteTime": {
     "end_time": "2022-06-11T04:53:26.940301Z",
     "start_time": "2022-06-11T04:53:26.809698Z"
    }
   },
   "outputs": [],
   "source": [
    "# 히스토그램을 그립니다.\n",
    "sns.histplot(data = df, x = 'Price', bins = 12, binrange = (4000, 16000), color = 'orange')\n",
    "plt.title(label = '중고차 가격');"
   ]
  },
  {
   "cell_type": "code",
   "execution_count": null,
   "id": "c50b359e",
   "metadata": {
    "ExecuteTime": {
     "end_time": "2022-06-11T04:53:27.018375Z",
     "start_time": "2022-06-11T04:53:26.942123Z"
    }
   },
   "outputs": [],
   "source": [
    "# 상자 수염 그림을 그립니다.\n",
    "sns.boxplot(data = df, y = 'Price', color = 'orange')\n",
    "plt.title(label = '중고차 가격');"
   ]
  },
  {
   "cell_type": "markdown",
   "id": "27884b7d",
   "metadata": {},
   "source": [
    "### 연속형 입력변수와 관계 파악"
   ]
  },
  {
   "cell_type": "code",
   "execution_count": null,
   "id": "23570855",
   "metadata": {
    "ExecuteTime": {
     "end_time": "2022-06-11T04:53:27.263416Z",
     "start_time": "2022-06-11T04:53:27.020182Z"
    }
   },
   "outputs": [],
   "source": [
    "# Age와 Price의 산점도를 그립니다.\n",
    "hds.plot_regression(data = df, x = 'Age', y = 'Price')"
   ]
  },
  {
   "cell_type": "code",
   "execution_count": null,
   "id": "52bc1625",
   "metadata": {
    "ExecuteTime": {
     "end_time": "2022-06-11T04:53:27.554158Z",
     "start_time": "2022-06-11T04:53:27.265947Z"
    }
   },
   "outputs": [],
   "source": [
    "# KM와 Price의 산점도를 그립니다.\n",
    "hds.plot_regression(data = df, x = 'KM', y = 'Price')"
   ]
  },
  {
   "cell_type": "code",
   "execution_count": null,
   "id": "ea47a299",
   "metadata": {
    "ExecuteTime": {
     "end_time": "2022-06-11T04:53:27.779619Z",
     "start_time": "2022-06-11T04:53:27.555890Z"
    }
   },
   "outputs": [],
   "source": [
    "# HP와 Price의 산점도를 그립니다.\n",
    "hds.plot_regression(data = df, x = 'HP', y = 'Price')"
   ]
  },
  {
   "cell_type": "code",
   "execution_count": null,
   "id": "5e12b635",
   "metadata": {
    "ExecuteTime": {
     "end_time": "2022-06-11T04:53:27.997568Z",
     "start_time": "2022-06-11T04:53:27.781133Z"
    }
   },
   "outputs": [],
   "source": [
    "# CC와 Price의 산점도를 그립니다.\n",
    "hds.plot_regression(data = df, x = 'CC', y = 'Price')"
   ]
  },
  {
   "cell_type": "code",
   "execution_count": null,
   "id": "9dad1554",
   "metadata": {
    "ExecuteTime": {
     "end_time": "2022-06-11T04:53:28.221875Z",
     "start_time": "2022-06-11T04:53:27.999354Z"
    }
   },
   "outputs": [],
   "source": [
    "# Doors와 Price의 산점도를 그립니다.\n",
    "hds.plot_regression(data = df, x = 'Doors', y = 'Price')"
   ]
  },
  {
   "cell_type": "code",
   "execution_count": null,
   "id": "477f6ef0",
   "metadata": {
    "ExecuteTime": {
     "end_time": "2022-06-11T04:53:28.234557Z",
     "start_time": "2022-06-11T04:53:28.230235Z"
    }
   },
   "outputs": [],
   "source": [
    "# Doors 원소별 빈도수를 확인합니다.\n",
    "df['Doors'].value_counts().sort_index()"
   ]
  },
  {
   "cell_type": "code",
   "execution_count": null,
   "id": "2ea16fb4",
   "metadata": {
    "ExecuteTime": {
     "end_time": "2022-06-11T04:53:28.476246Z",
     "start_time": "2022-06-11T04:53:28.236170Z"
    }
   },
   "outputs": [],
   "source": [
    "# Weight와 Price의 산점도를 그립니다.\n",
    "hds.plot_regression(data = df, x = 'Weight', y = 'Price')\n",
    "\n",
    "# 세로선을 추가합니다.\n",
    "plt.axvline(x = 1250, color = 'red', lw = 0.5, ls = '--');"
   ]
  },
  {
   "cell_type": "markdown",
   "id": "958df828",
   "metadata": {},
   "source": [
    "### 범주형 입력변수와 관계 파악"
   ]
  },
  {
   "cell_type": "code",
   "execution_count": null,
   "id": "83ab74e1",
   "metadata": {
    "ExecuteTime": {
     "end_time": "2022-06-11T04:53:28.614833Z",
     "start_time": "2022-06-11T04:53:28.478789Z"
    }
   },
   "outputs": [],
   "source": [
    "# FuelType 범주별 Price의 상자 수염 그림을 그립니다.\n",
    "hds.plot_box_group(data = df, x = 'FuelType', y = 'Price', pal = 'Set1')"
   ]
  },
  {
   "cell_type": "code",
   "execution_count": null,
   "id": "8c06163b",
   "metadata": {
    "ExecuteTime": {
     "end_time": "2022-06-11T04:53:28.732385Z",
     "start_time": "2022-06-11T04:53:28.617653Z"
    }
   },
   "outputs": [],
   "source": [
    "# MetColor 범주별 Price의 상자 수염 그림을 그립니다.\n",
    "hds.plot_box_group(data = df, x = 'MetColor', y = 'Price', pal = 'Set1')"
   ]
  },
  {
   "cell_type": "code",
   "execution_count": null,
   "id": "1f9d0948",
   "metadata": {
    "ExecuteTime": {
     "end_time": "2022-06-11T04:53:28.855157Z",
     "start_time": "2022-06-11T04:53:28.734553Z"
    }
   },
   "outputs": [],
   "source": [
    "# Automatic 범주별 Price의 상자 수염 그림을 그립니다.\n",
    "hds.plot_box_group(data = df, x = 'Automatic', y = 'Price', pal = 'Set1')"
   ]
  },
  {
   "cell_type": "markdown",
   "id": "88a12921",
   "metadata": {},
   "source": [
    "### 불필요한 행 삭제 및 외부 파일로 저장"
   ]
  },
  {
   "cell_type": "code",
   "execution_count": null,
   "id": "ecf984c8",
   "metadata": {
    "ExecuteTime": {
     "end_time": "2022-06-11T04:53:28.861191Z",
     "start_time": "2022-06-11T04:53:28.857223Z"
    }
   },
   "outputs": [],
   "source": [
    "# 시각화 결과 불필요하다고 판단하는 일부 행을 삭제합니다.\n",
    "df = df[df['Doors'].ne(2) & df['Weight'].le(1250)]"
   ]
  },
  {
   "cell_type": "code",
   "execution_count": null,
   "id": "9df7a37f",
   "metadata": {
    "ExecuteTime": {
     "end_time": "2022-06-11T04:53:29.254429Z",
     "start_time": "2022-06-11T04:53:28.880426Z"
    }
   },
   "outputs": [],
   "source": [
    "# df를 xlsx 파일로 저장합니다.\n",
    "df.to_excel(excel_writer = 'Used_Cars_Price.xlsx', index = None)"
   ]
  },
  {
   "cell_type": "code",
   "execution_count": null,
   "id": "ccf4266a",
   "metadata": {
    "ExecuteTime": {
     "end_time": "2022-06-11T04:53:29.264789Z",
     "start_time": "2022-06-11T04:53:29.256617Z"
    }
   },
   "outputs": [],
   "source": [
    "# df를 csv 파일로 저장합니다.\n",
    "df.to_csv(path_or_buf = 'Used_Cars_Price.csv', index = None)"
   ]
  },
  {
   "cell_type": "code",
   "execution_count": null,
   "id": "f5ecf0d8",
   "metadata": {
    "ExecuteTime": {
     "end_time": "2022-06-11T04:53:29.285939Z",
     "start_time": "2022-06-11T04:53:29.269110Z"
    }
   },
   "outputs": [],
   "source": [
    "# df를 z 파일로 저장합니다.\n",
    "joblib.dump(value = df, filename = 'Used_Cars_Price.z')"
   ]
  },
  {
   "cell_type": "markdown",
   "id": "adb799d0",
   "metadata": {},
   "source": [
    "## End of Document"
   ]
  }
 ],
 "metadata": {
  "kernelspec": {
   "display_name": "Python 3",
   "language": "python",
   "name": "python3"
  },
  "language_info": {
   "codemirror_mode": {
    "name": "ipython",
    "version": 3
   },
   "file_extension": ".py",
   "mimetype": "text/x-python",
   "name": "python",
   "nbconvert_exporter": "python",
   "pygments_lexer": "ipython3",
   "version": "3.10.4"
  },
  "toc": {
   "base_numbering": 1,
   "nav_menu": {},
   "number_sections": false,
   "sideBar": true,
   "skip_h1_title": false,
   "title_cell": "Table of Contents",
   "title_sidebar": "Contents",
   "toc_cell": false,
   "toc_position": {},
   "toc_section_display": true,
   "toc_window_display": false
  },
  "varInspector": {
   "cols": {
    "lenName": 16,
    "lenType": 16,
    "lenVar": 40
   },
   "kernels_config": {
    "python": {
     "delete_cmd_postfix": "",
     "delete_cmd_prefix": "del ",
     "library": "var_list.py",
     "varRefreshCmd": "print(var_dic_list())"
    },
    "r": {
     "delete_cmd_postfix": ") ",
     "delete_cmd_prefix": "rm(",
     "library": "var_list.r",
     "varRefreshCmd": "cat(var_dic_list()) "
    }
   },
   "types_to_exclude": [
    "module",
    "function",
    "builtin_function_or_method",
    "instance",
    "_Feature"
   ],
   "window_display": false
  }
 },
 "nbformat": 4,
 "nbformat_minor": 5
}
