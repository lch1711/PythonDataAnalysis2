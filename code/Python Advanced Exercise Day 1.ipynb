{
 "cells": [
  {
   "cell_type": "markdown",
   "id": "d67ed441",
   "metadata": {},
   "source": [
    "<p style=\"font-family:verdana;font-size:200%;text-align:center;\">Python Advanced Exercise Day 1</p>"
   ]
  },
  {
   "cell_type": "markdown",
   "id": "b9412587",
   "metadata": {},
   "source": [
    "- 2020년 한국프로야구 타자 스탯 데이터를 읽고, 기술통계 분석과 데이터 시각화를 실행합니다.\n",
    "- url : https://bit.ly/KBO_Hitters_2020"
   ]
  },
  {
   "cell_type": "markdown",
   "id": "02695637",
   "metadata": {},
   "source": [
    "## 실습 데이터셋 준비"
   ]
  },
  {
   "cell_type": "code",
   "execution_count": null,
   "id": "7619df2e",
   "metadata": {},
   "outputs": [],
   "source": [
    "# 관련 라이브러리를 호출합니다.(numpy, pandas)\n"
   ]
  },
  {
   "cell_type": "code",
   "execution_count": null,
   "id": "45e3b38f",
   "metadata": {},
   "outputs": [],
   "source": [
    "# url을 읽고, 데이터프레임 kbo에 할당합니다.\n"
   ]
  },
  {
   "cell_type": "code",
   "execution_count": null,
   "id": "7ce0699d",
   "metadata": {},
   "outputs": [],
   "source": [
    "# kbo의 정보를 확인합니다.\n"
   ]
  },
  {
   "cell_type": "code",
   "execution_count": null,
   "id": "d9b08400",
   "metadata": {},
   "outputs": [],
   "source": [
    "# kbo의 처음 10행을 출력합니다.\n"
   ]
  },
  {
   "cell_type": "code",
   "execution_count": null,
   "id": "3f4836e3",
   "metadata": {},
   "outputs": [],
   "source": [
    "# 경기가 50 이상인 행만 남겨서 kbo에 재할당합니다.\n"
   ]
  },
  {
   "cell_type": "code",
   "execution_count": null,
   "id": "1447fada",
   "metadata": {},
   "outputs": [],
   "source": [
    "# 팀명이 '두산', '롯데', '삼성', 'SK', 'KT'면 '드림', 아니면 '나눔'인 값을 갖는 \n",
    "# 새로운 파생변수 올스타팀을 생성합니다.\n",
    "kbo.loc[kbo['팀명'].str.contains('두산|롯데|삼성|SK|KT'), '올스타팀'] = '드림'\n",
    "kbo.loc[~kbo['팀명'].str.contains('두산|롯데|삼성|SK|KT'), '올스타팀'] = '나눔'"
   ]
  },
  {
   "cell_type": "markdown",
   "id": "f9cb2db6",
   "metadata": {},
   "source": [
    "## 데이터 시각화"
   ]
  },
  {
   "cell_type": "code",
   "execution_count": null,
   "id": "6a62dd5d",
   "metadata": {},
   "outputs": [],
   "source": [
    "# 관련 모듈을 호출합니다.\n",
    "from GraphicSetting import *\n",
    "import HelloDataScience as hds"
   ]
  },
  {
   "cell_type": "code",
   "execution_count": null,
   "id": "41164c6f",
   "metadata": {},
   "outputs": [],
   "source": [
    "# OPS의 최솟값과 최댓값을 확인합니다.\n"
   ]
  },
  {
   "cell_type": "code",
   "execution_count": null,
   "id": "7a97a7e3",
   "metadata": {},
   "outputs": [],
   "source": [
    "# 히스토그램의 계급을 설정합니다.(시작과 끝, 간격을 스스로 정해보세요.)\n"
   ]
  },
  {
   "cell_type": "code",
   "execution_count": null,
   "id": "34a2194f",
   "metadata": {},
   "outputs": [],
   "source": [
    "# OPS로 히스토그램을 그립니다.\n"
   ]
  },
  {
   "cell_type": "code",
   "execution_count": null,
   "id": "2486b943",
   "metadata": {},
   "outputs": [],
   "source": [
    "# OPS로 상자수염그림을 그립니다.\n"
   ]
  },
  {
   "cell_type": "code",
   "execution_count": null,
   "id": "cf0b6499",
   "metadata": {},
   "outputs": [],
   "source": [
    "# 출루율과 OPS의 산점도를 그립니다.\n"
   ]
  },
  {
   "cell_type": "code",
   "execution_count": null,
   "id": "e2112e4e",
   "metadata": {},
   "outputs": [],
   "source": [
    "# 장타율과 OPS의 산점도를 그립니다.\n"
   ]
  },
  {
   "cell_type": "code",
   "execution_count": null,
   "id": "5216e1a6",
   "metadata": {},
   "outputs": [],
   "source": [
    "# 타율과 OPS의 산점도를 그립니다.\n"
   ]
  },
  {
   "cell_type": "code",
   "execution_count": null,
   "id": "c82887a0",
   "metadata": {},
   "outputs": [],
   "source": [
    "# 올스타팀의 범주별 OPS의 분포를 비교합니다.\n"
   ]
  },
  {
   "cell_type": "markdown",
   "id": "846ab49f",
   "metadata": {},
   "source": [
    "## 기술통계 분석"
   ]
  },
  {
   "cell_type": "code",
   "execution_count": null,
   "id": "2bf3421c",
   "metadata": {},
   "outputs": [],
   "source": [
    "# OPS의 평균을 출력합니다.\n"
   ]
  },
  {
   "cell_type": "code",
   "execution_count": null,
   "id": "bbd1b2d1",
   "metadata": {},
   "outputs": [],
   "source": [
    "# OPS의 중위수를 출력합니다.\n"
   ]
  },
  {
   "cell_type": "code",
   "execution_count": null,
   "id": "403fb622",
   "metadata": {},
   "outputs": [],
   "source": [
    "# OPS의 범위를 출력합니다.\n"
   ]
  },
  {
   "cell_type": "code",
   "execution_count": null,
   "id": "985a9d18",
   "metadata": {},
   "outputs": [],
   "source": [
    "# OPS의 사분위수를 출력합니다.\n"
   ]
  },
  {
   "cell_type": "code",
   "execution_count": null,
   "id": "1d801d2b",
   "metadata": {},
   "outputs": [],
   "source": [
    "# OPS의 분산을 출력합니다.\n"
   ]
  },
  {
   "cell_type": "code",
   "execution_count": null,
   "id": "bcd9458c",
   "metadata": {},
   "outputs": [],
   "source": [
    "# OPS의 표준편차를 출력합니다.\n"
   ]
  },
  {
   "cell_type": "markdown",
   "id": "0a3062e6",
   "metadata": {},
   "source": [
    "## xlsx 파일로 저장"
   ]
  },
  {
   "cell_type": "code",
   "execution_count": null,
   "id": "b8d2fa67",
   "metadata": {},
   "outputs": [],
   "source": [
    "# 관련 라이브러리를 호출합니다.(os)\n"
   ]
  },
  {
   "cell_type": "code",
   "execution_count": null,
   "id": "34757084",
   "metadata": {},
   "outputs": [],
   "source": [
    "# 현재 작업경로를 확인합니다.\n"
   ]
  },
  {
   "cell_type": "code",
   "execution_count": null,
   "id": "764f3a7d",
   "metadata": {},
   "outputs": [],
   "source": [
    "# data 폴더로 작업경로를 변경합니다.\n"
   ]
  },
  {
   "cell_type": "code",
   "execution_count": null,
   "id": "3b780db8",
   "metadata": {},
   "outputs": [],
   "source": [
    "# kbo를 xlsx 파일로 저장합니다.(파일명은 'KBO_Hitter_2020.xlsx'로 설정하세요.)\n"
   ]
  },
  {
   "cell_type": "markdown",
   "id": "27389316",
   "metadata": {},
   "source": [
    "<p style=\"font-family:verdana;font-size:200%;text-align:center;\">End of Document</p>"
   ]
  }
 ],
 "metadata": {
  "kernelspec": {
   "display_name": "Python 3 (ipykernel)",
   "language": "python",
   "name": "python3"
  },
  "language_info": {
   "codemirror_mode": {
    "name": "ipython",
    "version": 3
   },
   "file_extension": ".py",
   "mimetype": "text/x-python",
   "name": "python",
   "nbconvert_exporter": "python",
   "pygments_lexer": "ipython3",
   "version": "3.9.6"
  },
  "toc": {
   "base_numbering": 1,
   "nav_menu": {},
   "number_sections": true,
   "sideBar": true,
   "skip_h1_title": false,
   "title_cell": "Table of Contents",
   "title_sidebar": "Contents",
   "toc_cell": false,
   "toc_position": {},
   "toc_section_display": true,
   "toc_window_display": true
  },
  "varInspector": {
   "cols": {
    "lenName": 16,
    "lenType": 16,
    "lenVar": 40
   },
   "kernels_config": {
    "python": {
     "delete_cmd_postfix": "",
     "delete_cmd_prefix": "del ",
     "library": "var_list.py",
     "varRefreshCmd": "print(var_dic_list())"
    },
    "r": {
     "delete_cmd_postfix": ") ",
     "delete_cmd_prefix": "rm(",
     "library": "var_list.r",
     "varRefreshCmd": "cat(var_dic_list()) "
    }
   },
   "types_to_exclude": [
    "module",
    "function",
    "builtin_function_or_method",
    "instance",
    "_Feature"
   ],
   "window_display": false
  }
 },
 "nbformat": 4,
 "nbformat_minor": 5
}
