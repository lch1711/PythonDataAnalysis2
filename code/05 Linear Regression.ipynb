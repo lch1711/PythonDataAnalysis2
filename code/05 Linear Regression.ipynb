{
 "cells": [
  {
   "cell_type": "markdown",
   "id": "fc09e07d",
   "metadata": {},
   "source": [
    "## 선형 회귀분석"
   ]
  },
  {
   "cell_type": "markdown",
   "id": "01d92874",
   "metadata": {},
   "source": [
    "### 관련 라이브러리 호출"
   ]
  },
  {
   "cell_type": "code",
   "execution_count": null,
   "id": "3f9f7096",
   "metadata": {
    "ExecuteTime": {
     "end_time": "2022-06-11T04:54:36.548320Z",
     "start_time": "2022-06-11T04:54:35.971830Z"
    }
   },
   "outputs": [],
   "source": [
    "# 관련 라이브러리를 호출합니다.\n",
    "import os\n",
    "import joblib\n",
    "import numpy as np\n",
    "import pandas as pd"
   ]
  },
  {
   "cell_type": "code",
   "execution_count": null,
   "id": "bcfcbac3",
   "metadata": {},
   "outputs": [],
   "source": [
    "# 실수를 출력할 소수점 자리수를 설정합니다.\n",
    "%precision 3\n",
    "pd.options.display.precision = 3"
   ]
  },
  {
   "cell_type": "code",
   "execution_count": null,
   "id": "521ebfae",
   "metadata": {},
   "outputs": [],
   "source": [
    "# 통계 관련 라이브러리를 호출합니다.\n",
    "from scipy import stats\n",
    "import pingouin as pg"
   ]
  },
  {
   "cell_type": "code",
   "execution_count": null,
   "id": "05689602",
   "metadata": {
    "ExecuteTime": {
     "end_time": "2022-06-11T04:54:37.423709Z",
     "start_time": "2022-06-11T04:54:36.550906Z"
    }
   },
   "outputs": [],
   "source": [
    "# 시각화 및 통계 분석 관련 모듈을 호출합니다.\n",
    "from GraphicSetting import *\n",
    "import HelloDataScience as hds"
   ]
  },
  {
   "cell_type": "markdown",
   "id": "9b7216ae",
   "metadata": {},
   "source": [
    "### 작업 경로 확인 및 변경"
   ]
  },
  {
   "cell_type": "code",
   "execution_count": null,
   "id": "cdc03232",
   "metadata": {
    "ExecuteTime": {
     "end_time": "2022-06-11T04:54:37.430323Z",
     "start_time": "2022-06-11T04:54:37.425736Z"
    }
   },
   "outputs": [],
   "source": [
    "# 현재 작업 경로를 확인합니다.\n",
    "os.getcwd()"
   ]
  },
  {
   "cell_type": "code",
   "execution_count": null,
   "id": "2916cbe2",
   "metadata": {
    "ExecuteTime": {
     "end_time": "2022-06-11T04:54:37.436374Z",
     "start_time": "2022-06-11T04:54:37.433100Z"
    }
   },
   "outputs": [],
   "source": [
    "# data 폴더로 작업 경로를 변경합니다.\n",
    "os.chdir('../data')"
   ]
  },
  {
   "cell_type": "code",
   "execution_count": null,
   "id": "59839f39",
   "metadata": {
    "ExecuteTime": {
     "end_time": "2022-06-11T04:54:37.442383Z",
     "start_time": "2022-06-11T04:54:37.438782Z"
    }
   },
   "outputs": [],
   "source": [
    "# 현재 작업 경로에 있는 폴더명과 파일명을 출력합니다.\n",
    "os.listdir()"
   ]
  },
  {
   "cell_type": "markdown",
   "id": "e951b3a2",
   "metadata": {},
   "source": [
    "### 실습 데이터셋 준비"
   ]
  },
  {
   "cell_type": "code",
   "execution_count": null,
   "id": "6a9c1975",
   "metadata": {
    "ExecuteTime": {
     "end_time": "2022-06-11T04:54:37.448468Z",
     "start_time": "2022-06-11T04:54:37.444649Z"
    }
   },
   "outputs": [],
   "source": [
    "# z 파일을 읽고 데이터프레임 df를 생성합니다.\n",
    "df = joblib.load(filename = 'Used_Cars_Price_Prep.z')"
   ]
  },
  {
   "cell_type": "code",
   "execution_count": null,
   "id": "af4e3c8b",
   "metadata": {
    "ExecuteTime": {
     "end_time": "2022-06-11T04:54:37.461921Z",
     "start_time": "2022-06-11T04:54:37.451668Z"
    }
   },
   "outputs": [],
   "source": [
    "# df의 정보를 확인합니다.\n",
    "df.info()"
   ]
  },
  {
   "cell_type": "code",
   "execution_count": null,
   "id": "6e6a51ff",
   "metadata": {
    "ExecuteTime": {
     "end_time": "2022-06-11T04:54:37.473835Z",
     "start_time": "2022-06-11T04:54:37.463835Z"
    }
   },
   "outputs": [],
   "source": [
    "# df의 처음 5행을 출력합니다.\n",
    "df.head()"
   ]
  },
  {
   "cell_type": "code",
   "execution_count": null,
   "id": "8ca3f873-31bc-4c99-9e8b-a29857985f44",
   "metadata": {},
   "outputs": [],
   "source": [
    "# y절편 역할을 수행할 상수 1을 df의 두 번째 열로 삽입합니다.\n",
    "df.insert(loc = 1, column = 'const', value = 1)"
   ]
  },
  {
   "cell_type": "markdown",
   "id": "59456c81",
   "metadata": {},
   "source": [
    "### 더미변수 생성"
   ]
  },
  {
   "cell_type": "code",
   "execution_count": null,
   "id": "18887459",
   "metadata": {
    "ExecuteTime": {
     "end_time": "2022-06-11T04:54:37.478276Z",
     "start_time": "2022-06-11T04:54:37.475418Z"
    }
   },
   "outputs": [],
   "source": [
    "# FuelType으로 더미변수를 생성합니다.\n",
    "df = pd.get_dummies(data = df, columns = ['FuelType'], drop_first = True)"
   ]
  },
  {
   "cell_type": "code",
   "execution_count": null,
   "id": "46525566",
   "metadata": {
    "ExecuteTime": {
     "end_time": "2022-06-11T04:54:37.497493Z",
     "start_time": "2022-06-11T04:54:37.489675Z"
    }
   },
   "outputs": [],
   "source": [
    "# df의 처음 10행을 출력합니다.\n",
    "df.head(n = 10)"
   ]
  },
  {
   "cell_type": "code",
   "execution_count": null,
   "id": "2b332756-4f14-42dc-b36f-4a02377a01b5",
   "metadata": {},
   "outputs": [],
   "source": [
    "# 더미변수명을 변경합니다.\n",
    "df = df.rename(columns = {'FuelType_Petrol': 'Petrol'})"
   ]
  },
  {
   "cell_type": "code",
   "execution_count": null,
   "id": "9c4f2909",
   "metadata": {
    "ExecuteTime": {
     "end_time": "2022-06-11T04:54:37.521240Z",
     "start_time": "2022-06-11T04:54:37.509055Z"
    }
   },
   "outputs": [],
   "source": [
    "# df의 열별 자료형을 확인합니다.\n",
    "df.dtypes"
   ]
  },
  {
   "cell_type": "code",
   "execution_count": null,
   "id": "78f268a9-b387-459c-a408-3d8d1020c2cc",
   "metadata": {},
   "outputs": [],
   "source": [
    "# 더미변수로 변환할 문자형 열이름으로 리스트를 생성합니다.\n",
    "cols = ['MetColor']"
   ]
  },
  {
   "cell_type": "code",
   "execution_count": null,
   "id": "1cbc058f-4a48-4530-937a-e0fb2f1f0e33",
   "metadata": {},
   "outputs": [],
   "source": [
    "# 지정한 변수를 정수형으로 일괄 변환합니다.\n",
    "df[cols] = df[cols].astype(np.uint8)"
   ]
  },
  {
   "cell_type": "code",
   "execution_count": null,
   "id": "c14c703e",
   "metadata": {
    "ExecuteTime": {
     "end_time": "2022-06-11T04:54:37.532893Z",
     "start_time": "2022-06-11T04:54:37.528673Z"
    }
   },
   "outputs": [],
   "source": [
    "# df의 열별 자료형을 확인합니다.\n",
    "df.dtypes"
   ]
  },
  {
   "cell_type": "markdown",
   "id": "f9c0f762",
   "metadata": {},
   "source": [
    "### 실습 데이터셋 분할"
   ]
  },
  {
   "cell_type": "code",
   "execution_count": null,
   "id": "58684117",
   "metadata": {
    "ExecuteTime": {
     "end_time": "2022-06-11T04:54:37.537401Z",
     "start_time": "2022-06-11T04:54:37.534582Z"
    }
   },
   "outputs": [],
   "source": [
    "# 관련 라이브러리를 호출합니다.\n",
    "from sklearn.model_selection import train_test_split"
   ]
  },
  {
   "cell_type": "code",
   "execution_count": null,
   "id": "5b01bb71-43d8-4ed5-8870-7036eaab645b",
   "metadata": {},
   "outputs": [],
   "source": [
    "# 전체 데이터의 70%를 훈련셋, 30%를 시험셋으로 분할합니다.\n",
    "trSet, teSet = train_test_split(df, test_size = 0.3, random_state = 0)"
   ]
  },
  {
   "cell_type": "code",
   "execution_count": null,
   "id": "12983875-b7f9-46ab-9b71-980c433c5388",
   "metadata": {},
   "outputs": [],
   "source": [
    "# 훈련셋의 목표변수 평균을 확인합니다.\n",
    "trSet['Price'].mean()"
   ]
  },
  {
   "cell_type": "code",
   "execution_count": null,
   "id": "223e50d6-66b1-4183-8d5f-affc10b866d3",
   "metadata": {},
   "outputs": [],
   "source": [
    "# 시험셋의 목표변수 평균을 확인합니다.\n",
    "teSet['Price'].mean()"
   ]
  },
  {
   "cell_type": "markdown",
   "id": "c8e8fd68-4a8e-4f0d-b6aa-517f730a2c1f",
   "metadata": {},
   "source": [
    "### 입력변수와 목표변수 분리"
   ]
  },
  {
   "cell_type": "code",
   "execution_count": null,
   "id": "82c25238-0e2a-4c23-914d-793dd58aead4",
   "metadata": {},
   "outputs": [],
   "source": [
    "# 목표변수명을 변수에 할당합니다.\n",
    "yvar = 'Price'"
   ]
  },
  {
   "cell_type": "code",
   "execution_count": null,
   "id": "ae3edbe4-525f-4148-b897-7d095055086c",
   "metadata": {},
   "outputs": [],
   "source": [
    "# 훈련셋을 목표변수 벡터와 입력변수 행렬로 분리합니다.\n",
    "trReal = trSet[yvar].copy()\n",
    "trSetX = trSet.drop(columns = [yvar])"
   ]
  },
  {
   "cell_type": "code",
   "execution_count": null,
   "id": "14822e91-2cf0-4947-9043-9f9b703e50c5",
   "metadata": {},
   "outputs": [],
   "source": [
    "# 시험셋을 목표변수 벡터와 입력변수 행렬로 분리합니다.\n",
    "teReal = teSet[yvar].copy()\n",
    "teSetX = teSet.drop(columns = [yvar])"
   ]
  },
  {
   "cell_type": "markdown",
   "id": "5dbe574d",
   "metadata": {},
   "source": [
    "### 선형 회귀모형 적합 함수 생성"
   ]
  },
  {
   "cell_type": "code",
   "execution_count": null,
   "id": "12849c37",
   "metadata": {
    "ExecuteTime": {
     "end_time": "2022-06-11T04:54:37.570698Z",
     "start_time": "2022-06-11T04:54:37.567549Z"
    }
   },
   "outputs": [],
   "source": [
    "# 관련 라이브러리를 호출합니다.\n",
    "import statsmodels.api as sa"
   ]
  },
  {
   "cell_type": "code",
   "execution_count": null,
   "id": "7cc1c58a",
   "metadata": {
    "ExecuteTime": {
     "end_time": "2022-06-11T04:54:37.574597Z",
     "start_time": "2022-06-11T04:54:37.572398Z"
    }
   },
   "outputs": [],
   "source": [
    "# 선형 회귀모형을 반환하는 함수를 생성합니다.\n",
    "def ols(y, X):\n",
    "    model = sa.OLS(endog = y, exog = X)\n",
    "    return model.fit()"
   ]
  },
  {
   "cell_type": "markdown",
   "id": "1fe12f98",
   "metadata": {},
   "source": [
    "### 선형 회귀모형 적합 및 결과 확인"
   ]
  },
  {
   "cell_type": "code",
   "execution_count": null,
   "id": "c69f330d",
   "metadata": {
    "ExecuteTime": {
     "end_time": "2022-06-11T04:54:37.600465Z",
     "start_time": "2022-06-11T04:54:37.596229Z"
    }
   },
   "outputs": [],
   "source": [
    "# 훈련셋으로 선형 회귀모형을 적합합니다.\n",
    "fit1 = ols(y = trReal, X = trSetX)"
   ]
  },
  {
   "cell_type": "code",
   "execution_count": null,
   "id": "0c7554da",
   "metadata": {
    "ExecuteTime": {
     "end_time": "2022-06-11T04:54:37.616415Z",
     "start_time": "2022-06-11T04:54:37.602527Z"
    }
   },
   "outputs": [],
   "source": [
    "# fit1 모형의 적합 결과를 확인합니다.\n",
    "fit1.summary()"
   ]
  },
  {
   "cell_type": "markdown",
   "id": "930206da",
   "metadata": {},
   "source": [
    "### 회귀진단: 잔차 가정 확인"
   ]
  },
  {
   "cell_type": "code",
   "execution_count": null,
   "id": "a5b1a0e1",
   "metadata": {
    "ExecuteTime": {
     "end_time": "2022-06-11T04:54:37.634484Z",
     "start_time": "2022-06-11T04:54:37.625030Z"
    }
   },
   "outputs": [],
   "source": [
    "# fit1 모형 잔차의 등분산성 검정을 실행합니다.\n",
    "hds.breushpagan(model = fit1)"
   ]
  },
  {
   "cell_type": "markdown",
   "id": "19eb1a36",
   "metadata": {},
   "source": [
    "### 회귀진단: 잔차 그래프"
   ]
  },
  {
   "cell_type": "code",
   "execution_count": null,
   "id": "2e2e3d69",
   "metadata": {
    "ExecuteTime": {
     "end_time": "2022-06-11T04:54:39.029341Z",
     "start_time": "2022-06-11T04:54:37.636498Z"
    }
   },
   "outputs": [],
   "source": [
    "# fit1 모형의 잔차 그래프를 그립니다.\n",
    "hds.regressionDiagnosis(model = fit1)"
   ]
  },
  {
   "cell_type": "markdown",
   "id": "b3050876",
   "metadata": {},
   "source": [
    "### 회귀진단: 잔차의 정규성 검정"
   ]
  },
  {
   "cell_type": "code",
   "execution_count": null,
   "id": "d310d00a",
   "metadata": {
    "ExecuteTime": {
     "end_time": "2022-06-11T04:54:39.257062Z",
     "start_time": "2022-06-11T04:54:39.030827Z"
    }
   },
   "outputs": [],
   "source": [
    "# 잔차의 히스토그램을 그려서 분포를 확인합니다.\n",
    "sns.histplot(x = fit1.resid, bins = 50, stat = 'density');"
   ]
  },
  {
   "cell_type": "code",
   "execution_count": null,
   "id": "2d980601",
   "metadata": {
    "ExecuteTime": {
     "end_time": "2022-06-11T04:54:39.262519Z",
     "start_time": "2022-06-11T04:54:39.258653Z"
    }
   },
   "outputs": [],
   "source": [
    "# 잔차의 정규성 검정을 실행합니다.\n",
    "stats.shapiro(x = fit1.resid)"
   ]
  },
  {
   "cell_type": "markdown",
   "id": "8f0a438a",
   "metadata": {},
   "source": [
    "### [참고] 영향점 확인"
   ]
  },
  {
   "cell_type": "code",
   "execution_count": null,
   "id": "74fb7bed",
   "metadata": {
    "ExecuteTime": {
     "end_time": "2022-06-11T04:54:39.677798Z",
     "start_time": "2022-06-11T04:54:39.264135Z"
    }
   },
   "outputs": [],
   "source": [
    "# 훈련셋의 관측값마다 영향점 정보를 갖는 데이터프레임을 생성합니다.\n",
    "aug = hds.augment(model = fit1)"
   ]
  },
  {
   "cell_type": "code",
   "execution_count": null,
   "id": "0d8d4dc0",
   "metadata": {
    "ExecuteTime": {
     "end_time": "2022-06-11T04:54:39.696946Z",
     "start_time": "2022-06-11T04:54:39.688978Z"
    }
   },
   "outputs": [],
   "source": [
    "# aug의 처음 5행을 출력합니다.\n",
    "aug.head()"
   ]
  },
  {
   "cell_type": "code",
   "execution_count": null,
   "id": "1d095639",
   "metadata": {
    "ExecuteTime": {
     "end_time": "2022-06-11T04:54:39.702819Z",
     "start_time": "2022-06-11T04:54:39.698730Z"
    }
   },
   "outputs": [],
   "source": [
    "# 스튜던트 잔차의 절대값이 3을 초과하는 행 개수를 확인합니다.\n",
    "aug['std_resid'].abs().gt(3).sum()"
   ]
  },
  {
   "cell_type": "code",
   "execution_count": null,
   "id": "40a14cb1",
   "metadata": {
    "ExecuteTime": {
     "end_time": "2022-06-11T04:54:39.708594Z",
     "start_time": "2022-06-11T04:54:39.705200Z"
    }
   },
   "outputs": [],
   "source": [
    "# 레버리지 평균을 계산합니다.\n",
    "hatAvg = aug['hat'].mean()\n",
    "hatAvg"
   ]
  },
  {
   "cell_type": "code",
   "execution_count": null,
   "id": "dbd53f71",
   "metadata": {
    "ExecuteTime": {
     "end_time": "2022-06-11T04:54:39.714049Z",
     "start_time": "2022-06-11T04:54:39.710137Z"
    }
   },
   "outputs": [],
   "source": [
    "# 레버리지 평균의 3배를 초과하는 행 개수를 확인합니다.\n",
    "aug['hat'].gt(hatAvg * 3).sum()"
   ]
  },
  {
   "cell_type": "markdown",
   "id": "f44a60fb",
   "metadata": {},
   "source": [
    "### 훈련셋에서 이상치 제거"
   ]
  },
  {
   "cell_type": "code",
   "execution_count": null,
   "id": "5de7bae8",
   "metadata": {
    "ExecuteTime": {
     "end_time": "2022-06-11T04:54:39.718635Z",
     "start_time": "2022-06-11T04:54:39.716361Z"
    }
   },
   "outputs": [],
   "source": [
    "# 훈련셋의 행 개수 n을 생성합니다.\n",
    "n = trSet.shape[0]"
   ]
  },
  {
   "cell_type": "code",
   "execution_count": null,
   "id": "abf64599-7e70-46f9-ad1d-4d4248e3d62b",
   "metadata": {},
   "outputs": [],
   "source": [
    "# 쿡의 거리가 4/n(행 개수)를 초과하면 True, 미만이면 False인 원소를 갖는 \n",
    "# 부울형 시리즈 locs를 생성합니다.\n",
    "locs = aug['cooksd'].gt(4/n)"
   ]
  },
  {
   "cell_type": "code",
   "execution_count": null,
   "id": "f0c281bb",
   "metadata": {
    "ExecuteTime": {
     "end_time": "2022-06-11T04:54:39.724210Z",
     "start_time": "2022-06-11T04:54:39.720592Z"
    },
    "scrolled": true
   },
   "outputs": [],
   "source": [
    "# 쿡의 거리가 4/n(행 개수)를 초과하는 원소 개수를 확인합니다.\n",
    "locs.sum()"
   ]
  },
  {
   "cell_type": "code",
   "execution_count": null,
   "id": "20582702",
   "metadata": {
    "ExecuteTime": {
     "end_time": "2022-06-11T04:54:39.735163Z",
     "start_time": "2022-06-11T04:54:39.730292Z"
    }
   },
   "outputs": [],
   "source": [
    "# 훈련셋에서 locs가 True(이상치)인 행을 제거합니다.\n",
    "trReal = trReal.loc[~locs]\n",
    "trSetX = trSetX.loc[~locs]"
   ]
  },
  {
   "cell_type": "code",
   "execution_count": null,
   "id": "463069eb",
   "metadata": {
    "ExecuteTime": {
     "end_time": "2022-06-11T04:54:39.741137Z",
     "start_time": "2022-06-11T04:54:39.737076Z"
    }
   },
   "outputs": [],
   "source": [
    "# 이상치를 제거한 훈련셋의 행 개수를 확인합니다.\n",
    "trSetX.shape[0]"
   ]
  },
  {
   "cell_type": "markdown",
   "id": "c6463901",
   "metadata": {},
   "source": [
    "### 선형 회귀모형 재적합 및 결과 확인"
   ]
  },
  {
   "cell_type": "code",
   "execution_count": null,
   "id": "57bbe72e",
   "metadata": {
    "ExecuteTime": {
     "end_time": "2022-06-11T04:54:39.745726Z",
     "start_time": "2022-06-11T04:54:39.742709Z"
    }
   },
   "outputs": [],
   "source": [
    "# 이상치를 제거한 훈련셋으로 선형 회귀모형을 적합합니다.\n",
    "fit2 = ols(y = trReal, X = trSetX)"
   ]
  },
  {
   "cell_type": "code",
   "execution_count": null,
   "id": "0de5c378",
   "metadata": {
    "ExecuteTime": {
     "end_time": "2022-06-11T04:54:39.762322Z",
     "start_time": "2022-06-11T04:54:39.747550Z"
    }
   },
   "outputs": [],
   "source": [
    "# fit2 모형의 적합 결과를 확인합니다.\n",
    "fit2.summary()"
   ]
  },
  {
   "cell_type": "code",
   "execution_count": null,
   "id": "4272f96e",
   "metadata": {
    "ExecuteTime": {
     "end_time": "2022-06-11T04:54:39.773459Z",
     "start_time": "2022-06-11T04:54:39.764621Z"
    }
   },
   "outputs": [],
   "source": [
    "# fit2 모형 잔차의 등분산성 검정을 실행합니다.\n",
    "hds.breushpagan(model = fit2)"
   ]
  },
  {
   "cell_type": "code",
   "execution_count": null,
   "id": "cdfd0044",
   "metadata": {
    "ExecuteTime": {
     "end_time": "2022-06-11T04:54:41.181406Z",
     "start_time": "2022-06-11T04:54:39.775089Z"
    }
   },
   "outputs": [],
   "source": [
    "# fit2 모형의 잔차 그래프를 그립니다.\n",
    "hds.regressionDiagnosis(model = fit2)"
   ]
  },
  {
   "cell_type": "markdown",
   "id": "d1325c4d",
   "metadata": {},
   "source": [
    "### [참고] 더미변수의 시각적 이해"
   ]
  },
  {
   "cell_type": "code",
   "execution_count": null,
   "id": "0ead5825",
   "metadata": {
    "ExecuteTime": {
     "end_time": "2022-06-11T04:54:41.340088Z",
     "start_time": "2022-06-11T04:54:41.183058Z"
    }
   },
   "outputs": [],
   "source": [
    "# Age와 Price의 회귀직선은 FuelType에 따라 달라집니다.\n",
    "labels = ['Diesel', 'Petrol']\n",
    "for i, v in enumerate(labels):\n",
    "    sns.regplot(data = df[df['Petrol'].eq(i)], \n",
    "                x = 'Age', y = 'Price', \n",
    "                ci = None, label = v, \n",
    "                scatter_kws = dict(s = 10, alpha = 0.2))\n",
    "plt.legend(loc = 'best', title = 'FuelType');"
   ]
  },
  {
   "cell_type": "markdown",
   "id": "5a84e7c9",
   "metadata": {},
   "source": [
    "### 목표변수의 추정값 생성"
   ]
  },
  {
   "cell_type": "code",
   "execution_count": null,
   "id": "7a497191",
   "metadata": {
    "ExecuteTime": {
     "end_time": "2022-06-11T04:54:41.351150Z",
     "start_time": "2022-06-11T04:54:41.341780Z"
    }
   },
   "outputs": [],
   "source": [
    "# 훈련셋으로 fit1과 fit2 모형의 추정값을 생성하고 실제값과 비교합니다.\n",
    "trPred1 = fit1.predict(exog = trSetX)\n",
    "trPred2 = fit2.predict(exog = trSetX)\n",
    "pd.DataFrame(data = {'Real': trReal, 'Pred1': trPred1, 'Pred2': trPred2})"
   ]
  },
  {
   "cell_type": "code",
   "execution_count": null,
   "id": "d60261d7",
   "metadata": {
    "ExecuteTime": {
     "end_time": "2022-06-11T04:54:41.361018Z",
     "start_time": "2022-06-11T04:54:41.352706Z"
    }
   },
   "outputs": [],
   "source": [
    "# 시험셋으로 fit1과 fit2 모형의 추정값을 생성하고 실제값과 비교합니다.\n",
    "tePred1 = fit1.predict(exog = teSetX)\n",
    "tePred2 = fit2.predict(exog = teSetX)\n",
    "pd.DataFrame(data = {'Real': teReal, 'Pred1': tePred1, 'Pred2': tePred2})"
   ]
  },
  {
   "cell_type": "markdown",
   "id": "00c91490",
   "metadata": {},
   "source": [
    "### 회귀모형 성능 평가"
   ]
  },
  {
   "cell_type": "code",
   "execution_count": null,
   "id": "ec40686a",
   "metadata": {
    "ExecuteTime": {
     "end_time": "2022-06-11T04:54:41.372340Z",
     "start_time": "2022-06-11T04:54:41.362657Z"
    }
   },
   "outputs": [],
   "source": [
    "# 훈련셋으로 fit1 모형의 성능지표를 출력합니다.\n",
    "hds.regmetrics(y_true = trReal, y_pred = trPred1)"
   ]
  },
  {
   "cell_type": "code",
   "execution_count": null,
   "id": "2be72d71",
   "metadata": {
    "ExecuteTime": {
     "end_time": "2022-06-11T04:54:41.383368Z",
     "start_time": "2022-06-11T04:54:41.373835Z"
    }
   },
   "outputs": [],
   "source": [
    "# 훈련셋으로 fit2 모형의 성능지표를 출력합니다.\n",
    "hds.regmetrics(y_true = trReal, y_pred = trPred2)"
   ]
  },
  {
   "cell_type": "code",
   "execution_count": null,
   "id": "146fdffc",
   "metadata": {
    "ExecuteTime": {
     "end_time": "2022-06-11T04:54:41.394874Z",
     "start_time": "2022-06-11T04:54:41.385573Z"
    }
   },
   "outputs": [],
   "source": [
    "# 시험셋으로 fit1 모형의 성능지표를 출력합니다.\n",
    "hds.regmetrics(y_true = teReal, y_pred = tePred1)"
   ]
  },
  {
   "cell_type": "code",
   "execution_count": null,
   "id": "47f0b790",
   "metadata": {
    "ExecuteTime": {
     "end_time": "2022-06-11T04:54:41.407093Z",
     "start_time": "2022-06-11T04:54:41.396539Z"
    }
   },
   "outputs": [],
   "source": [
    "# 시험셋으로 fit2 모형의 성능지표를 출력합니다.\n",
    "hds.regmetrics(y_true = teReal, y_pred = tePred2)"
   ]
  },
  {
   "cell_type": "markdown",
   "id": "143e4e46",
   "metadata": {},
   "source": [
    "### [참고] MSE, MSLE, MAE, MAPE 관련 함수"
   ]
  },
  {
   "cell_type": "code",
   "execution_count": null,
   "id": "ae919443",
   "metadata": {
    "ExecuteTime": {
     "end_time": "2022-06-11T04:54:41.410733Z",
     "start_time": "2022-06-11T04:54:41.408785Z"
    }
   },
   "outputs": [],
   "source": [
    "# 관련 라이브러리를 호출합니다.\n",
    "from sklearn import metrics"
   ]
  },
  {
   "cell_type": "code",
   "execution_count": null,
   "id": "dd451d49",
   "metadata": {
    "ExecuteTime": {
     "end_time": "2022-06-11T04:54:41.417525Z",
     "start_time": "2022-06-11T04:54:41.412274Z"
    }
   },
   "outputs": [],
   "source": [
    "# 시험셋 추정값으로 MSE를 출력합니다.\n",
    "metrics.mean_squared_error(y_true = teReal, y_pred = tePred2)"
   ]
  },
  {
   "cell_type": "code",
   "execution_count": null,
   "id": "0d54dccd",
   "metadata": {},
   "outputs": [],
   "source": [
    "# 시험셋 추정값으로 MSLE를 출력합니다.\n",
    "metrics.mean_squared_log_error(y_true = teReal, y_pred = tePred2)"
   ]
  },
  {
   "cell_type": "code",
   "execution_count": null,
   "id": "0f33d71f",
   "metadata": {
    "ExecuteTime": {
     "end_time": "2022-06-11T04:54:41.425400Z",
     "start_time": "2022-06-11T04:54:41.420551Z"
    }
   },
   "outputs": [],
   "source": [
    "# 시험셋 추정값으로 MAE를 출력합니다.\n",
    "metrics.mean_absolute_error(y_true = teReal, y_pred = tePred2)"
   ]
  },
  {
   "cell_type": "code",
   "execution_count": null,
   "id": "d892ad5b",
   "metadata": {
    "ExecuteTime": {
     "end_time": "2022-06-11T04:54:41.430462Z",
     "start_time": "2022-06-11T04:54:41.426937Z"
    }
   },
   "outputs": [],
   "source": [
    "# 시험셋 추정값으로 MAPE를 출력합니다.\n",
    "metrics.mean_absolute_percentage_error(y_true = teReal, y_pred = tePred2)"
   ]
  },
  {
   "cell_type": "markdown",
   "id": "843e9aa7",
   "metadata": {},
   "source": [
    "### 다중공선성 확인"
   ]
  },
  {
   "cell_type": "code",
   "execution_count": null,
   "id": "e8ea5a4c",
   "metadata": {
    "ExecuteTime": {
     "end_time": "2022-06-11T04:54:41.445913Z",
     "start_time": "2022-06-11T04:54:41.432518Z"
    }
   },
   "outputs": [],
   "source": [
    "# 분산팽창지수를 출력하고 다중공선성 입력변수를 확인합니다.\n",
    "hds.vif(X = trSetX)"
   ]
  },
  {
   "cell_type": "code",
   "execution_count": null,
   "id": "3541622e",
   "metadata": {
    "ExecuteTime": {
     "end_time": "2022-06-11T04:54:41.451563Z",
     "start_time": "2022-06-11T04:54:41.447878Z"
    }
   },
   "outputs": [],
   "source": [
    "# 다중공선성 입력변수가 있다고 가정하고 훈련셋에서 삭제합니다.\n",
    "trSetX1 = trSetX.drop(columns = ['Petrol'])"
   ]
  },
  {
   "cell_type": "code",
   "execution_count": null,
   "id": "ea7fcc66",
   "metadata": {
    "ExecuteTime": {
     "end_time": "2022-06-11T04:54:41.465323Z",
     "start_time": "2022-06-11T04:54:41.453994Z"
    }
   },
   "outputs": [],
   "source": [
    "# 입력변수별 분산팽창지수를 다시 출력합니다.\n",
    "hds.vif(X = trSetX1)"
   ]
  },
  {
   "cell_type": "markdown",
   "id": "7b7599a5",
   "metadata": {},
   "source": [
    "### 단계적방법으로 선형 회귀모형 적합"
   ]
  },
  {
   "cell_type": "code",
   "execution_count": null,
   "id": "350f681f",
   "metadata": {
    "ExecuteTime": {
     "end_time": "2022-06-11T04:54:41.666523Z",
     "start_time": "2022-06-11T04:54:41.468022Z"
    }
   },
   "outputs": [],
   "source": [
    "# 단계적방법으로 선형 회귀모형을 적합합니다.\n",
    "fit3 = hds.stepwise(y = trReal, X = trSetX, direction = 'both')"
   ]
  },
  {
   "cell_type": "code",
   "execution_count": null,
   "id": "77ddf024",
   "metadata": {
    "ExecuteTime": {
     "end_time": "2022-06-11T04:54:41.682021Z",
     "start_time": "2022-06-11T04:54:41.668982Z"
    }
   },
   "outputs": [],
   "source": [
    "# fit3 모형의 적합 결과를 확인합니다.\n",
    "fit3.summary()"
   ]
  },
  {
   "cell_type": "code",
   "execution_count": null,
   "id": "dc666e1b",
   "metadata": {
    "ExecuteTime": {
     "end_time": "2022-06-11T04:54:41.693092Z",
     "start_time": "2022-06-11T04:54:41.683906Z"
    }
   },
   "outputs": [],
   "source": [
    "# fit3 모형 잔차의 등분산성 검정을 실행합니다.\n",
    "hds.breushpagan(model = fit3)"
   ]
  },
  {
   "cell_type": "markdown",
   "id": "9fe66253",
   "metadata": {},
   "source": [
    "### 표준화 회귀계수 확인"
   ]
  },
  {
   "cell_type": "code",
   "execution_count": null,
   "id": "da4364b2",
   "metadata": {
    "ExecuteTime": {
     "end_time": "2022-06-11T04:54:41.699529Z",
     "start_time": "2022-06-11T04:54:41.694937Z"
    }
   },
   "outputs": [],
   "source": [
    "# fit3 모형의 회귀계수를 출력합니다.\n",
    "fit3.params"
   ]
  },
  {
   "cell_type": "code",
   "execution_count": null,
   "id": "fc1bbef9",
   "metadata": {
    "ExecuteTime": {
     "end_time": "2022-06-11T04:54:41.708096Z",
     "start_time": "2022-06-11T04:54:41.701625Z"
    }
   },
   "outputs": [],
   "source": [
    "# 표준화 회귀계수를 생성합니다.\n",
    "beta_z = hds.std_coefs(model = fit3)\n",
    "beta_z"
   ]
  },
  {
   "cell_type": "code",
   "execution_count": null,
   "id": "ca8530a3",
   "metadata": {
    "ExecuteTime": {
     "end_time": "2022-06-11T04:54:41.713918Z",
     "start_time": "2022-06-11T04:54:41.709713Z"
    }
   },
   "outputs": [],
   "source": [
    "# 표준화 회귀계수의 절대값을 오름차순 정렬한 결과를 출력합니다.\n",
    "beta_z.abs().sort_values()"
   ]
  },
  {
   "cell_type": "markdown",
   "id": "5cefb8e1",
   "metadata": {},
   "source": [
    "### 회귀모형 성능 평가"
   ]
  },
  {
   "cell_type": "code",
   "execution_count": null,
   "id": "c6d4dcff",
   "metadata": {
    "ExecuteTime": {
     "end_time": "2022-06-11T04:54:41.724208Z",
     "start_time": "2022-06-11T04:54:41.715825Z"
    }
   },
   "outputs": [],
   "source": [
    "# 시험셋으로 fit3 모형의 추정값을 생성합니다.\n",
    "tePred3 = fit3.predict(exog = teSetX)"
   ]
  },
  {
   "cell_type": "code",
   "execution_count": null,
   "id": "453b005c",
   "metadata": {
    "ExecuteTime": {
     "end_time": "2022-06-11T04:54:41.736230Z",
     "start_time": "2022-06-11T04:54:41.725879Z"
    }
   },
   "outputs": [],
   "source": [
    "# 시험셋으로 fit3 모형의 성능지표를 출력합니다.\n",
    "hds.regmetrics(y_true = teReal, y_pred = tePred3)"
   ]
  },
  {
   "cell_type": "code",
   "execution_count": null,
   "id": "98134869",
   "metadata": {
    "ExecuteTime": {
     "end_time": "2022-06-11T04:54:41.751103Z",
     "start_time": "2022-06-11T04:54:41.741680Z"
    }
   },
   "outputs": [],
   "source": [
    "# 시험셋으로 fit2 모형의 성능지표와 비교합니다.\n",
    "hds.regmetrics(y_true = teReal, y_pred = tePred2)"
   ]
  },
  {
   "cell_type": "markdown",
   "id": "33a2aaf1",
   "metadata": {},
   "source": [
    "## End of Document"
   ]
  }
 ],
 "metadata": {
  "kernelspec": {
   "display_name": "Python 3 (ipykernel)",
   "language": "python",
   "name": "python3"
  },
  "language_info": {
   "codemirror_mode": {
    "name": "ipython",
    "version": 3
   },
   "file_extension": ".py",
   "mimetype": "text/x-python",
   "name": "python",
   "nbconvert_exporter": "python",
   "pygments_lexer": "ipython3",
   "version": "3.10.4"
  },
  "toc": {
   "base_numbering": 1,
   "nav_menu": {},
   "number_sections": false,
   "sideBar": true,
   "skip_h1_title": false,
   "title_cell": "Table of Contents",
   "title_sidebar": "Contents",
   "toc_cell": false,
   "toc_position": {},
   "toc_section_display": true,
   "toc_window_display": false
  },
  "varInspector": {
   "cols": {
    "lenName": 16,
    "lenType": 16,
    "lenVar": 40
   },
   "kernels_config": {
    "python": {
     "delete_cmd_postfix": "",
     "delete_cmd_prefix": "del ",
     "library": "var_list.py",
     "varRefreshCmd": "print(var_dic_list())"
    },
    "r": {
     "delete_cmd_postfix": ") ",
     "delete_cmd_prefix": "rm(",
     "library": "var_list.r",
     "varRefreshCmd": "cat(var_dic_list()) "
    }
   },
   "types_to_exclude": [
    "module",
    "function",
    "builtin_function_or_method",
    "instance",
    "_Feature"
   ],
   "window_display": false
  }
 },
 "nbformat": 4,
 "nbformat_minor": 5
}
