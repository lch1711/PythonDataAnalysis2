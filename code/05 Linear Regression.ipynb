{
 "cells": [
  {
   "cell_type": "markdown",
   "id": "fc09e07d",
   "metadata": {},
   "source": [
    "## 선형 회귀분석"
   ]
  },
  {
   "cell_type": "markdown",
   "id": "e951b3a2",
   "metadata": {},
   "source": [
    "### 실습 데이터셋 준비"
   ]
  },
  {
   "cell_type": "code",
   "execution_count": null,
   "id": "3f9f7096",
   "metadata": {
    "ExecuteTime": {
     "end_time": "2022-06-07T14:42:43.853856Z",
     "start_time": "2022-06-07T14:42:42.396739Z"
    }
   },
   "outputs": [],
   "source": [
    "# 관련 라이브러리를 호출합니다.\n",
    "import os, joblib\n",
    "import numpy as np\n",
    "import pandas as pd\n",
    "from scipy import stats"
   ]
  },
  {
   "cell_type": "code",
   "execution_count": null,
   "id": "05689602",
   "metadata": {},
   "outputs": [],
   "source": [
    "# 시각화 관련 모듈을 호출합니다.\n",
    "from GraphicSetting import *\n",
    "import HelloDataScience as hds"
   ]
  },
  {
   "cell_type": "code",
   "execution_count": null,
   "id": "cdc03232",
   "metadata": {
    "ExecuteTime": {
     "end_time": "2022-06-07T14:42:43.862113Z",
     "start_time": "2022-06-07T14:42:43.856569Z"
    }
   },
   "outputs": [],
   "source": [
    "# 현재 작업 경로를 확인합니다.\n",
    "os.getcwd()"
   ]
  },
  {
   "cell_type": "code",
   "execution_count": null,
   "id": "2916cbe2",
   "metadata": {
    "ExecuteTime": {
     "end_time": "2022-06-07T14:42:43.870961Z",
     "start_time": "2022-06-07T14:42:43.867639Z"
    }
   },
   "outputs": [],
   "source": [
    "# data 폴더로 작업 경로를 변경합니다.\n",
    "os.chdir('../data')"
   ]
  },
  {
   "cell_type": "code",
   "execution_count": null,
   "id": "59839f39",
   "metadata": {
    "ExecuteTime": {
     "end_time": "2022-06-07T14:42:43.876261Z",
     "start_time": "2022-06-07T14:42:43.872607Z"
    }
   },
   "outputs": [],
   "source": [
    "# 현재 작업 경로에 있는 폴더명과 파일명을 출력합니다.\n",
    "os.listdir()"
   ]
  },
  {
   "cell_type": "code",
   "execution_count": null,
   "id": "6a9c1975",
   "metadata": {
    "ExecuteTime": {
     "end_time": "2022-06-07T14:42:43.882232Z",
     "start_time": "2022-06-07T14:42:43.878111Z"
    }
   },
   "outputs": [],
   "source": [
    "# z 파일을 읽고 데이터프레임 df를 생성합니다.\n",
    "df = joblib.load(filename = 'Used_Cars_Price_Prep.z')"
   ]
  },
  {
   "cell_type": "code",
   "execution_count": null,
   "id": "af4e3c8b",
   "metadata": {
    "ExecuteTime": {
     "end_time": "2022-06-07T14:42:43.893746Z",
     "start_time": "2022-06-07T14:42:43.883809Z"
    }
   },
   "outputs": [],
   "source": [
    "# df의 정보를 확인합니다.\n",
    "df.info()"
   ]
  },
  {
   "cell_type": "code",
   "execution_count": null,
   "id": "6e6a51ff",
   "metadata": {
    "ExecuteTime": {
     "end_time": "2022-06-07T14:42:43.904107Z",
     "start_time": "2022-06-07T14:42:43.895433Z"
    }
   },
   "outputs": [],
   "source": [
    "# df의 처음 5행을 출력합니다.\n",
    "df.head()"
   ]
  },
  {
   "cell_type": "markdown",
   "id": "59456c81",
   "metadata": {},
   "source": [
    "### 더미변수 생성"
   ]
  },
  {
   "cell_type": "code",
   "execution_count": null,
   "id": "18887459",
   "metadata": {
    "ExecuteTime": {
     "end_time": "2022-06-07T14:42:43.909879Z",
     "start_time": "2022-06-07T14:42:43.906827Z"
    }
   },
   "outputs": [],
   "source": [
    "# FuelType으로 더미변수를 생성합니다.\n",
    "dm = pd.get_dummies(data = df['FuelType'], drop_first = True)"
   ]
  },
  {
   "cell_type": "code",
   "execution_count": null,
   "id": "6ecff562",
   "metadata": {
    "ExecuteTime": {
     "end_time": "2022-06-07T14:42:43.916798Z",
     "start_time": "2022-06-07T14:42:43.914027Z"
    }
   },
   "outputs": [],
   "source": [
    "# df의 오른쪽에 더미변수 dm을 추가합니다.\n",
    "df = pd.concat(objs = [df, dm], axis = 1)"
   ]
  },
  {
   "cell_type": "code",
   "execution_count": null,
   "id": "46525566",
   "metadata": {
    "ExecuteTime": {
     "end_time": "2022-06-07T14:42:43.927181Z",
     "start_time": "2022-06-07T14:42:43.918369Z"
    }
   },
   "outputs": [],
   "source": [
    "# df의 처음 10행을 출력합니다.\n",
    "df.head(n = 10)"
   ]
  },
  {
   "cell_type": "code",
   "execution_count": null,
   "id": "ebdf7f76",
   "metadata": {
    "ExecuteTime": {
     "end_time": "2022-06-07T14:42:43.931723Z",
     "start_time": "2022-06-07T14:42:43.928686Z"
    }
   },
   "outputs": [],
   "source": [
    "# df에서 FuelType을 삭제합니다.\n",
    "df = df.drop(labels = ['FuelType'], axis = 1)"
   ]
  },
  {
   "cell_type": "code",
   "execution_count": null,
   "id": "9c4f2909",
   "metadata": {
    "ExecuteTime": {
     "end_time": "2022-06-07T14:42:43.941869Z",
     "start_time": "2022-06-07T14:42:43.933322Z"
    }
   },
   "outputs": [],
   "source": [
    "# df의 정보를 확인합니다.\n",
    "df.info()"
   ]
  },
  {
   "cell_type": "code",
   "execution_count": null,
   "id": "2adf445e",
   "metadata": {
    "ExecuteTime": {
     "end_time": "2022-06-07T14:42:43.945954Z",
     "start_time": "2022-06-07T14:42:43.943484Z"
    }
   },
   "outputs": [],
   "source": [
    "# MetColor 원소의 자료형을 정수로 변환합니다.\n",
    "df['MetColor'] = df['MetColor'].astype('uint8')"
   ]
  },
  {
   "cell_type": "code",
   "execution_count": null,
   "id": "c14c703e",
   "metadata": {
    "ExecuteTime": {
     "end_time": "2022-06-07T14:42:43.954748Z",
     "start_time": "2022-06-07T14:42:43.947839Z"
    }
   },
   "outputs": [],
   "source": [
    "# df의 처음 10행을 출력합니다.\n",
    "df.head(n = 10)"
   ]
  },
  {
   "cell_type": "markdown",
   "id": "f9c0f762",
   "metadata": {},
   "source": [
    "### 실습 데이터셋 분할"
   ]
  },
  {
   "cell_type": "code",
   "execution_count": null,
   "id": "58684117",
   "metadata": {
    "ExecuteTime": {
     "end_time": "2022-06-07T14:42:43.959648Z",
     "start_time": "2022-06-07T14:42:43.957236Z"
    }
   },
   "outputs": [],
   "source": [
    "# 관련 라이브러리를 호출합니다.\n",
    "from sklearn.model_selection import train_test_split"
   ]
  },
  {
   "cell_type": "code",
   "execution_count": null,
   "id": "c32108d7",
   "metadata": {
    "ExecuteTime": {
     "end_time": "2022-06-07T14:42:43.963386Z",
     "start_time": "2022-06-07T14:42:43.961289Z"
    }
   },
   "outputs": [],
   "source": [
    "# 목표변수 열이름을 설정합니다.\n",
    "yvar = 'Price'"
   ]
  },
  {
   "cell_type": "code",
   "execution_count": null,
   "id": "44c9500e",
   "metadata": {
    "ExecuteTime": {
     "end_time": "2022-06-07T14:42:43.968101Z",
     "start_time": "2022-06-07T14:42:43.964971Z"
    }
   },
   "outputs": [],
   "source": [
    "# 입력변수 행렬 X와 목표변수 벡터 y를 생성합니다.\n",
    "X = df.drop(labels = [yvar], axis = 1)\n",
    "y = df[yvar]"
   ]
  },
  {
   "cell_type": "code",
   "execution_count": null,
   "id": "2271e7dd",
   "metadata": {
    "ExecuteTime": {
     "end_time": "2022-06-07T14:42:43.976594Z",
     "start_time": "2022-06-07T14:42:43.970300Z"
    }
   },
   "outputs": [],
   "source": [
    "# 전체 데이터의 70%를 훈련셋, 30%를 시험셋으로 분할합니다.\n",
    "Xtr, Xte, ytr, yte = train_test_split(\n",
    "    X, y, test_size = 0.3, random_state = 0\n",
    ")"
   ]
  },
  {
   "cell_type": "code",
   "execution_count": null,
   "id": "c6d67477",
   "metadata": {
    "ExecuteTime": {
     "end_time": "2022-06-07T14:42:43.981561Z",
     "start_time": "2022-06-07T14:42:43.978188Z"
    }
   },
   "outputs": [],
   "source": [
    "# 훈련셋의 목표변수 평균을 확인합니다.\n",
    "ytr.mean()"
   ]
  },
  {
   "cell_type": "code",
   "execution_count": null,
   "id": "e4523c96",
   "metadata": {
    "ExecuteTime": {
     "end_time": "2022-06-07T14:42:43.988071Z",
     "start_time": "2022-06-07T14:42:43.983315Z"
    }
   },
   "outputs": [],
   "source": [
    "# 시험셋의 목표변수 평균을 확인합니다.\n",
    "yte.mean()"
   ]
  },
  {
   "cell_type": "markdown",
   "id": "5dbe574d",
   "metadata": {},
   "source": [
    "### 선형 회귀모형 적합"
   ]
  },
  {
   "cell_type": "code",
   "execution_count": null,
   "id": "12849c37",
   "metadata": {
    "ExecuteTime": {
     "end_time": "2022-06-07T14:42:43.994366Z",
     "start_time": "2022-06-07T14:42:43.990475Z"
    }
   },
   "outputs": [],
   "source": [
    "# 관련 라이브러리를 호출합니다.\n",
    "import statsmodels.api as sm"
   ]
  },
  {
   "cell_type": "code",
   "execution_count": null,
   "id": "7cc1c58a",
   "metadata": {
    "ExecuteTime": {
     "end_time": "2022-06-07T14:42:43.998423Z",
     "start_time": "2022-06-07T14:42:43.996125Z"
    }
   },
   "outputs": [],
   "source": [
    "# 선형 회귀모형을 반환하는 함수를 정의합니다.\n",
    "def ols(y, X):\n",
    "    model = sm.OLS(endog = y, exog = X)\n",
    "    return model.fit()"
   ]
  },
  {
   "cell_type": "code",
   "execution_count": null,
   "id": "ceb0769d",
   "metadata": {
    "ExecuteTime": {
     "end_time": "2022-06-07T14:42:44.009371Z",
     "start_time": "2022-06-07T14:42:44.000026Z"
    }
   },
   "outputs": [],
   "source": [
    "# 훈련셋과 시험셋 입력변수에 y절편의 역할을 수행할 상수 1을 추가합니다.\n",
    "Xtr = sm.add_constant(data = Xtr)\n",
    "Xte = sm.add_constant(data = Xte)"
   ]
  },
  {
   "cell_type": "code",
   "execution_count": null,
   "id": "a66cf1f8",
   "metadata": {
    "ExecuteTime": {
     "end_time": "2022-06-07T14:42:44.018862Z",
     "start_time": "2022-06-07T14:42:44.011200Z"
    }
   },
   "outputs": [],
   "source": [
    "# 훈련셋 입력변수의 처음 5행을 출력합니다.\n",
    "Xtr.head()"
   ]
  },
  {
   "cell_type": "code",
   "execution_count": null,
   "id": "c69f330d",
   "metadata": {
    "ExecuteTime": {
     "end_time": "2022-06-07T14:42:44.025066Z",
     "start_time": "2022-06-07T14:42:44.020763Z"
    }
   },
   "outputs": [],
   "source": [
    "# 훈련셋으로 선형 회귀모형을 적합합니다.\n",
    "fit0 = ols(y = ytr, X = Xtr)"
   ]
  },
  {
   "cell_type": "markdown",
   "id": "1fe12f98",
   "metadata": {},
   "source": [
    "### 선형 회귀모형 적합 결과 확인"
   ]
  },
  {
   "cell_type": "code",
   "execution_count": null,
   "id": "0c7554da",
   "metadata": {
    "ExecuteTime": {
     "end_time": "2022-06-07T14:42:44.040206Z",
     "start_time": "2022-06-07T14:42:44.026842Z"
    },
    "scrolled": false
   },
   "outputs": [],
   "source": [
    "# fit0 모형의 적합 결과를 확인합니다.\n",
    "fit0.summary()"
   ]
  },
  {
   "cell_type": "markdown",
   "id": "930206da",
   "metadata": {},
   "source": [
    "### 회귀진단: 잔차 가정 확인"
   ]
  },
  {
   "cell_type": "code",
   "execution_count": null,
   "id": "a5b1a0e1",
   "metadata": {
    "ExecuteTime": {
     "end_time": "2022-06-07T14:42:44.055824Z",
     "start_time": "2022-06-07T14:42:44.048615Z"
    }
   },
   "outputs": [],
   "source": [
    "# fit0 모형 잔차의 등분산성 검정을 실행합니다.\n",
    "hds.breushpagan(model = fit0)"
   ]
  },
  {
   "cell_type": "markdown",
   "id": "19eb1a36",
   "metadata": {},
   "source": [
    "### 회귀진단: 잔차 그래프"
   ]
  },
  {
   "cell_type": "code",
   "execution_count": null,
   "id": "2e2e3d69",
   "metadata": {
    "ExecuteTime": {
     "end_time": "2022-06-07T14:42:45.397386Z",
     "start_time": "2022-06-07T14:42:44.057276Z"
    },
    "scrolled": false
   },
   "outputs": [],
   "source": [
    "# fit0 모형의 잔차 그래프를 그립니다.\n",
    "hds.regressionDiagnosis(model = fit0)"
   ]
  },
  {
   "cell_type": "markdown",
   "id": "b3050876",
   "metadata": {},
   "source": [
    "### 회귀진단: 잔차의 정규성 검정"
   ]
  },
  {
   "cell_type": "code",
   "execution_count": null,
   "id": "d310d00a",
   "metadata": {
    "ExecuteTime": {
     "end_time": "2022-06-07T14:42:45.607620Z",
     "start_time": "2022-06-07T14:42:45.399526Z"
    }
   },
   "outputs": [],
   "source": [
    "# 잔차의 히스토그램을 그려서 분포를 확인합니다.\n",
    "sns.histplot(x = fit0.resid, bins = 50, stat = 'density');"
   ]
  },
  {
   "cell_type": "code",
   "execution_count": null,
   "id": "2d980601",
   "metadata": {
    "ExecuteTime": {
     "end_time": "2022-06-07T14:42:45.612926Z",
     "start_time": "2022-06-07T14:42:45.609197Z"
    }
   },
   "outputs": [],
   "source": [
    "# 잔차의 정규성 검정을 실행합니다.\n",
    "stats.shapiro(x = fit0.resid)"
   ]
  },
  {
   "cell_type": "markdown",
   "id": "8f0a438a",
   "metadata": {},
   "source": [
    "### [참고] 영향점 확인"
   ]
  },
  {
   "cell_type": "code",
   "execution_count": null,
   "id": "74fb7bed",
   "metadata": {
    "ExecuteTime": {
     "end_time": "2022-06-07T14:42:46.030536Z",
     "start_time": "2022-06-07T14:42:45.614567Z"
    }
   },
   "outputs": [],
   "source": [
    "# 훈련셋의 관측값마다 영향점 정보를 갖는 데이터프레임을 생성합니다.\n",
    "aug = hds.augment(model = fit0)"
   ]
  },
  {
   "cell_type": "code",
   "execution_count": null,
   "id": "82b8076c",
   "metadata": {
    "ExecuteTime": {
     "end_time": "2022-06-07T14:42:46.039211Z",
     "start_time": "2022-06-07T14:42:46.032326Z"
    }
   },
   "outputs": [],
   "source": [
    "# aug의 정보를 확인합니다.\n",
    "aug.info()"
   ]
  },
  {
   "cell_type": "code",
   "execution_count": null,
   "id": "0d8d4dc0",
   "metadata": {
    "ExecuteTime": {
     "end_time": "2022-06-07T14:42:46.050424Z",
     "start_time": "2022-06-07T14:42:46.041055Z"
    }
   },
   "outputs": [],
   "source": [
    "# aug의 처음 5행을 출력합니다.\n",
    "aug.head()"
   ]
  },
  {
   "cell_type": "code",
   "execution_count": null,
   "id": "1d095639",
   "metadata": {
    "ExecuteTime": {
     "end_time": "2022-06-07T14:42:46.056064Z",
     "start_time": "2022-06-07T14:42:46.052204Z"
    }
   },
   "outputs": [],
   "source": [
    "# 스튜던트 잔차의 절대값이 3을 초과하는 행 개수를 확인합니다.\n",
    "aug[np.abs(aug['std_resid']).gt(3)].shape[0]"
   ]
  },
  {
   "cell_type": "code",
   "execution_count": null,
   "id": "40a14cb1",
   "metadata": {
    "ExecuteTime": {
     "end_time": "2022-06-07T14:42:46.067635Z",
     "start_time": "2022-06-07T14:42:46.057767Z"
    }
   },
   "outputs": [],
   "source": [
    "# 레버리지 평균을 계산합니다.\n",
    "hatAvg = aug['hat'].mean()"
   ]
  },
  {
   "cell_type": "code",
   "execution_count": null,
   "id": "dbd53f71",
   "metadata": {
    "ExecuteTime": {
     "end_time": "2022-06-07T14:42:46.074588Z",
     "start_time": "2022-06-07T14:42:46.069584Z"
    }
   },
   "outputs": [],
   "source": [
    "# 레버리지 평균의 3배를 초과하는 행 개수를 확인합니다.\n",
    "aug[aug['hat'].gt(hatAvg * 3)].shape[0]"
   ]
  },
  {
   "cell_type": "code",
   "execution_count": null,
   "id": "5de7bae8",
   "metadata": {
    "ExecuteTime": {
     "end_time": "2022-06-07T14:42:46.078727Z",
     "start_time": "2022-06-07T14:42:46.076118Z"
    }
   },
   "outputs": [],
   "source": [
    "# 훈련셋의 행 개수 n을 생성합니다.\n",
    "n = Xtr.shape[0]"
   ]
  },
  {
   "cell_type": "code",
   "execution_count": null,
   "id": "f0c281bb",
   "metadata": {
    "ExecuteTime": {
     "end_time": "2022-06-07T14:42:46.084501Z",
     "start_time": "2022-06-07T14:42:46.080498Z"
    },
    "scrolled": true
   },
   "outputs": [],
   "source": [
    "# 쿡의 거리가 4/n(행 개수)를 초과하는 행 개수를 확인합니다.\n",
    "aug[aug['cooksd'].gt(4/n)].shape[0]"
   ]
  },
  {
   "cell_type": "markdown",
   "id": "f44a60fb",
   "metadata": {},
   "source": [
    "### 훈련셋에서 이상치 제거"
   ]
  },
  {
   "cell_type": "code",
   "execution_count": null,
   "id": "462be517",
   "metadata": {
    "ExecuteTime": {
     "end_time": "2022-06-07T14:42:46.088596Z",
     "start_time": "2022-06-07T14:42:46.086169Z"
    }
   },
   "outputs": [],
   "source": [
    "# 쿡의 거리가 4/n(행 개수)를 초과하는 True, 아니면 False인 locs를 생성합니다.\n",
    "locs = aug['cooksd'].gt(4/n)"
   ]
  },
  {
   "cell_type": "code",
   "execution_count": null,
   "id": "20582702",
   "metadata": {
    "ExecuteTime": {
     "end_time": "2022-06-07T14:42:46.147980Z",
     "start_time": "2022-06-07T14:42:46.090366Z"
    }
   },
   "outputs": [],
   "source": [
    "# 훈련셋에서 locs가 True인 이상치를 제거합니다.\n",
    "Xtr1 = Xtr.loc[~locs]\n",
    "ytr1 = ytr.loc[~locs]"
   ]
  },
  {
   "cell_type": "markdown",
   "id": "c6463901",
   "metadata": {},
   "source": [
    "### 선형 회귀모형 재적합 및 결과 확인"
   ]
  },
  {
   "cell_type": "code",
   "execution_count": null,
   "id": "57bbe72e",
   "metadata": {
    "ExecuteTime": {
     "end_time": "2022-06-07T14:42:46.152830Z",
     "start_time": "2022-06-07T14:42:46.149595Z"
    }
   },
   "outputs": [],
   "source": [
    "# 이상치를 제거한 훈련셋으로 선형 회귀모형을 적합합니다.\n",
    "fit1 = ols(y = ytr1, X = Xtr1)"
   ]
  },
  {
   "cell_type": "code",
   "execution_count": null,
   "id": "0de5c378",
   "metadata": {
    "ExecuteTime": {
     "end_time": "2022-06-07T14:42:46.166859Z",
     "start_time": "2022-06-07T14:42:46.154388Z"
    }
   },
   "outputs": [],
   "source": [
    "# fit1 모형의 적합 결과를 확인합니다.\n",
    "fit1.summary()"
   ]
  },
  {
   "cell_type": "code",
   "execution_count": null,
   "id": "4272f96e",
   "metadata": {
    "ExecuteTime": {
     "end_time": "2022-06-07T14:42:46.175899Z",
     "start_time": "2022-06-07T14:42:46.168538Z"
    }
   },
   "outputs": [],
   "source": [
    "# fit1 모형 잔차의 등분산성 검정을 실행합니다.\n",
    "hds.breushpagan(model = fit1)"
   ]
  },
  {
   "cell_type": "code",
   "execution_count": null,
   "id": "cdfd0044",
   "metadata": {
    "ExecuteTime": {
     "end_time": "2022-06-07T14:42:47.531840Z",
     "start_time": "2022-06-07T14:42:46.177563Z"
    }
   },
   "outputs": [],
   "source": [
    "# fit1 모형의 잔차 그래프를 그립니다.\n",
    "hds.regressionDiagnosis(model = fit1)"
   ]
  },
  {
   "cell_type": "markdown",
   "id": "d1325c4d",
   "metadata": {},
   "source": [
    "### [참고] 더미변수의 시각적 이해"
   ]
  },
  {
   "cell_type": "code",
   "execution_count": null,
   "id": "0ead5825",
   "metadata": {
    "ExecuteTime": {
     "end_time": "2022-06-07T14:42:47.720379Z",
     "start_time": "2022-06-07T14:42:47.533645Z"
    }
   },
   "outputs": [],
   "source": [
    "# Age와 Price의 회귀직선은 FuelType에 따라 달라집니다.\n",
    "labels = ['Diesel', 'Petrol']\n",
    "for i, v in enumerate(labels):\n",
    "    sns.regplot(data = df[df['Petrol'].eq(i)], \n",
    "                x = 'Age', y = 'Price', \n",
    "                ci = None, label = v, \n",
    "                scatter_kws = dict(s = 10, alpha = 0.2))\n",
    "plt.legend(loc = 'best', title = 'FuelType');"
   ]
  },
  {
   "cell_type": "markdown",
   "id": "5a84e7c9",
   "metadata": {},
   "source": [
    "### 목표변수의 추정값 생성"
   ]
  },
  {
   "cell_type": "code",
   "execution_count": null,
   "id": "7a497191",
   "metadata": {
    "ExecuteTime": {
     "end_time": "2022-06-07T14:42:47.733654Z",
     "start_time": "2022-06-07T14:42:47.722431Z"
    }
   },
   "outputs": [],
   "source": [
    "# 훈련셋의 실제값과 fit0 및 fit1 모형의 추정값을 비교합니다.\n",
    "ytrPred0 = fit0.predict(exog = Xtr)\n",
    "ytrPred1 = fit1.predict(exog = Xtr1)\n",
    "pd.DataFrame(data = {'real': ytr, 'pred0': ytrPred0, 'pred1': ytrPred1})"
   ]
  },
  {
   "cell_type": "code",
   "execution_count": null,
   "id": "d60261d7",
   "metadata": {
    "ExecuteTime": {
     "end_time": "2022-06-07T14:42:47.746003Z",
     "start_time": "2022-06-07T14:42:47.735595Z"
    }
   },
   "outputs": [],
   "source": [
    "# 시험셋의 실제값과 fit0 및 fit1 모형의 추정값을 비교합니다.\n",
    "ytePred0 = fit0.predict(exog = Xte)\n",
    "ytePred1 = fit1.predict(exog = Xte)\n",
    "pd.DataFrame(data = {'real': yte, 'pred0': ytePred0, 'pred1': ytePred1})"
   ]
  },
  {
   "cell_type": "markdown",
   "id": "00c91490",
   "metadata": {},
   "source": [
    "### 회귀모형 성능 평가"
   ]
  },
  {
   "cell_type": "code",
   "execution_count": null,
   "id": "ec40686a",
   "metadata": {
    "ExecuteTime": {
     "end_time": "2022-06-07T14:42:47.756757Z",
     "start_time": "2022-06-07T14:42:47.747900Z"
    }
   },
   "outputs": [],
   "source": [
    "# 훈련셋으로 fit0 모형의 성능지표를 출력합니다.\n",
    "hds.regmetrics(y_true = ytr, y_pred = ytrPred0)"
   ]
  },
  {
   "cell_type": "code",
   "execution_count": null,
   "id": "2be72d71",
   "metadata": {
    "ExecuteTime": {
     "end_time": "2022-06-07T14:42:47.767898Z",
     "start_time": "2022-06-07T14:42:47.759374Z"
    }
   },
   "outputs": [],
   "source": [
    "# 훈련셋으로 fit1 모형의 성능지표를 출력합니다.\n",
    "hds.regmetrics(y_true = ytr1, y_pred = ytrPred1)"
   ]
  },
  {
   "cell_type": "code",
   "execution_count": null,
   "id": "146fdffc",
   "metadata": {
    "ExecuteTime": {
     "end_time": "2022-06-07T14:42:47.778762Z",
     "start_time": "2022-06-07T14:42:47.769799Z"
    }
   },
   "outputs": [],
   "source": [
    "# 시험셋으로 fit0 모형의 성능지표를 출력합니다.\n",
    "hds.regmetrics(y_true = yte, y_pred = ytePred0)"
   ]
  },
  {
   "cell_type": "code",
   "execution_count": null,
   "id": "47f0b790",
   "metadata": {
    "ExecuteTime": {
     "end_time": "2022-06-07T14:42:47.789287Z",
     "start_time": "2022-06-07T14:42:47.780700Z"
    }
   },
   "outputs": [],
   "source": [
    "# 시험셋으로 fit1 모형의 성능지표를 출력합니다.\n",
    "hds.regmetrics(y_true = yte, y_pred = ytePred1)"
   ]
  },
  {
   "cell_type": "markdown",
   "id": "143e4e46",
   "metadata": {},
   "source": [
    "### [참고] MSE, MAE, MAPE 관련 함수"
   ]
  },
  {
   "cell_type": "code",
   "execution_count": null,
   "id": "ae919443",
   "metadata": {
    "ExecuteTime": {
     "end_time": "2022-06-07T14:42:47.794223Z",
     "start_time": "2022-06-07T14:42:47.790994Z"
    }
   },
   "outputs": [],
   "source": [
    "# 관련 라이브러리를 호출합니다.\n",
    "from sklearn import metrics"
   ]
  },
  {
   "cell_type": "code",
   "execution_count": null,
   "id": "dd451d49",
   "metadata": {
    "ExecuteTime": {
     "end_time": "2022-06-07T14:42:47.800795Z",
     "start_time": "2022-06-07T14:42:47.796399Z"
    }
   },
   "outputs": [],
   "source": [
    "# 시험셋의 MSE를 출력합니다.\n",
    "metrics.mean_squared_error(y_true = yte, y_pred = ytePred1)"
   ]
  },
  {
   "cell_type": "code",
   "execution_count": null,
   "id": "0f33d71f",
   "metadata": {
    "ExecuteTime": {
     "end_time": "2022-06-07T14:42:47.808508Z",
     "start_time": "2022-06-07T14:42:47.803141Z"
    }
   },
   "outputs": [],
   "source": [
    "# 시험셋의 MAE를 출력합니다.\n",
    "metrics.mean_absolute_error(y_true = yte, y_pred = ytePred1)"
   ]
  },
  {
   "cell_type": "code",
   "execution_count": null,
   "id": "d892ad5b",
   "metadata": {
    "ExecuteTime": {
     "end_time": "2022-06-07T14:42:47.817833Z",
     "start_time": "2022-06-07T14:42:47.811352Z"
    }
   },
   "outputs": [],
   "source": [
    "# 시험셋의 MAPE를 출력합니다.\n",
    "metrics.mean_absolute_percentage_error(y_true = yte, y_pred = ytePred1)"
   ]
  },
  {
   "cell_type": "markdown",
   "id": "843e9aa7",
   "metadata": {},
   "source": [
    "### 다중공선성 확인"
   ]
  },
  {
   "cell_type": "code",
   "execution_count": null,
   "id": "e8ea5a4c",
   "metadata": {
    "ExecuteTime": {
     "end_time": "2022-06-07T14:42:47.838403Z",
     "start_time": "2022-06-07T14:42:47.821173Z"
    }
   },
   "outputs": [],
   "source": [
    "# 분산팽창지수를 출력하고 다중공선성 입력변수를 확인합니다.\n",
    "hds.vif(X = Xtr1)"
   ]
  },
  {
   "cell_type": "code",
   "execution_count": null,
   "id": "3541622e",
   "metadata": {
    "ExecuteTime": {
     "end_time": "2022-06-07T14:42:47.844790Z",
     "start_time": "2022-06-07T14:42:47.840529Z"
    }
   },
   "outputs": [],
   "source": [
    "# 다중공선성 입력변수가 있다고 가정하고 훈련셋에서 삭제합니다.\n",
    "Xtr2 = Xtr1.drop(labels = ['Petrol'], axis = 1)"
   ]
  },
  {
   "cell_type": "code",
   "execution_count": null,
   "id": "ea7fcc66",
   "metadata": {
    "ExecuteTime": {
     "end_time": "2022-06-07T14:42:47.858912Z",
     "start_time": "2022-06-07T14:42:47.847096Z"
    }
   },
   "outputs": [],
   "source": [
    "# 입력변수별 분산팽창지수를 다시 출력합니다.\n",
    "hds.vif(X = Xtr2)"
   ]
  },
  {
   "cell_type": "markdown",
   "id": "7b7599a5",
   "metadata": {},
   "source": [
    "### 단계적방법으로 선형 회귀모형 적합"
   ]
  },
  {
   "cell_type": "code",
   "execution_count": null,
   "id": "350f681f",
   "metadata": {
    "ExecuteTime": {
     "end_time": "2022-06-07T14:42:48.057349Z",
     "start_time": "2022-06-07T14:42:47.861048Z"
    }
   },
   "outputs": [],
   "source": [
    "# 단계적방법으로 선형 회귀모형을 적합합니다.\n",
    "fit2 = hds.stepwise(y = ytr1, X = Xtr1, direction = 'both')"
   ]
  },
  {
   "cell_type": "code",
   "execution_count": null,
   "id": "77ddf024",
   "metadata": {
    "ExecuteTime": {
     "end_time": "2022-06-07T14:42:48.071600Z",
     "start_time": "2022-06-07T14:42:48.059731Z"
    }
   },
   "outputs": [],
   "source": [
    "# fit2 모형의 적합 결과를 확인합니다.\n",
    "fit2.summary()"
   ]
  },
  {
   "cell_type": "code",
   "execution_count": null,
   "id": "dc666e1b",
   "metadata": {
    "ExecuteTime": {
     "end_time": "2022-06-07T14:42:48.082162Z",
     "start_time": "2022-06-07T14:42:48.073354Z"
    }
   },
   "outputs": [],
   "source": [
    "# fit2 모형 잔차의 등분산성 검정을 실행합니다.\n",
    "hds.breushpagan(model = fit2)"
   ]
  },
  {
   "cell_type": "code",
   "execution_count": null,
   "id": "a4bc97f2",
   "metadata": {
    "ExecuteTime": {
     "end_time": "2022-06-07T14:42:49.393635Z",
     "start_time": "2022-06-07T14:42:48.084093Z"
    }
   },
   "outputs": [],
   "source": [
    "# fit2 모형의 잔차 그래프를 그립니다.\n",
    "hds.regressionDiagnosis(model = fit2)"
   ]
  },
  {
   "cell_type": "markdown",
   "id": "9fe66253",
   "metadata": {},
   "source": [
    "### 표준화 회귀계수 확인"
   ]
  },
  {
   "cell_type": "code",
   "execution_count": null,
   "id": "da4364b2",
   "metadata": {
    "ExecuteTime": {
     "end_time": "2022-06-07T14:42:49.399852Z",
     "start_time": "2022-06-07T14:42:49.395446Z"
    }
   },
   "outputs": [],
   "source": [
    "# fit2 모형의 회귀계수를 출력합니다.\n",
    "fit2.params"
   ]
  },
  {
   "cell_type": "code",
   "execution_count": null,
   "id": "fc1bbef9",
   "metadata": {
    "ExecuteTime": {
     "end_time": "2022-06-07T14:42:49.405549Z",
     "start_time": "2022-06-07T14:42:49.401569Z"
    }
   },
   "outputs": [],
   "source": [
    "# 표준화 회귀계수를 생성합니다.\n",
    "beta_z = hds.std_coefs(model = fit2)"
   ]
  },
  {
   "cell_type": "code",
   "execution_count": null,
   "id": "00d6c423",
   "metadata": {
    "ExecuteTime": {
     "end_time": "2022-06-07T14:42:49.411297Z",
     "start_time": "2022-06-07T14:42:49.407159Z"
    }
   },
   "outputs": [],
   "source": [
    "# 표준화 회귀계수를 출력합니다.\n",
    "beta_z"
   ]
  },
  {
   "cell_type": "code",
   "execution_count": null,
   "id": "ca8530a3",
   "metadata": {
    "ExecuteTime": {
     "end_time": "2022-06-07T14:42:49.417865Z",
     "start_time": "2022-06-07T14:42:49.413345Z"
    }
   },
   "outputs": [],
   "source": [
    "# 표준화 회귀계수의 절대값을 오름차순 정렬한 결과를 출력합니다.\n",
    "beta_z.abs().sort_values()"
   ]
  },
  {
   "cell_type": "markdown",
   "id": "5cefb8e1",
   "metadata": {},
   "source": [
    "### 회귀모형 성능 평가"
   ]
  },
  {
   "cell_type": "code",
   "execution_count": null,
   "id": "c6d4dcff",
   "metadata": {
    "ExecuteTime": {
     "end_time": "2022-06-07T14:42:49.427363Z",
     "start_time": "2022-06-07T14:42:49.419776Z"
    }
   },
   "outputs": [],
   "source": [
    "# 시험셋으로 fit2 모형의 추정값을 생성합니다.\n",
    "ytePred2 = fit2.predict(exog = Xte)"
   ]
  },
  {
   "cell_type": "code",
   "execution_count": null,
   "id": "453b005c",
   "metadata": {
    "ExecuteTime": {
     "end_time": "2022-06-07T14:42:49.437733Z",
     "start_time": "2022-06-07T14:42:49.429116Z"
    }
   },
   "outputs": [],
   "source": [
    "# 시험셋으로 fit2 모형의 성능지표를 출력합니다.\n",
    "hds.regmetrics(y_true = yte, y_pred = ytePred2)"
   ]
  },
  {
   "cell_type": "code",
   "execution_count": null,
   "id": "98134869",
   "metadata": {
    "ExecuteTime": {
     "end_time": "2022-06-07T14:42:49.448050Z",
     "start_time": "2022-06-07T14:42:49.439529Z"
    }
   },
   "outputs": [],
   "source": [
    "# fit1 모형의 성능지표와 비교합니다.\n",
    "hds.regmetrics(y_true = yte, y_pred = ytePred1)"
   ]
  },
  {
   "cell_type": "markdown",
   "id": "33a2aaf1",
   "metadata": {},
   "source": [
    "## End of Document"
   ]
  }
 ],
 "metadata": {
  "kernelspec": {
   "display_name": "Python 3",
   "language": "python",
   "name": "python3"
  },
  "language_info": {
   "codemirror_mode": {
    "name": "ipython",
    "version": 3
   },
   "file_extension": ".py",
   "mimetype": "text/x-python",
   "name": "python",
   "nbconvert_exporter": "python",
   "pygments_lexer": "ipython3",
   "version": "3.10.4"
  },
  "toc": {
   "base_numbering": 1,
   "nav_menu": {},
   "number_sections": false,
   "sideBar": true,
   "skip_h1_title": false,
   "title_cell": "Table of Contents",
   "title_sidebar": "Contents",
   "toc_cell": false,
   "toc_position": {},
   "toc_section_display": true,
   "toc_window_display": false
  },
  "varInspector": {
   "cols": {
    "lenName": 16,
    "lenType": 16,
    "lenVar": 40
   },
   "kernels_config": {
    "python": {
     "delete_cmd_postfix": "",
     "delete_cmd_prefix": "del ",
     "library": "var_list.py",
     "varRefreshCmd": "print(var_dic_list())"
    },
    "r": {
     "delete_cmd_postfix": ") ",
     "delete_cmd_prefix": "rm(",
     "library": "var_list.r",
     "varRefreshCmd": "cat(var_dic_list()) "
    }
   },
   "types_to_exclude": [
    "module",
    "function",
    "builtin_function_or_method",
    "instance",
    "_Feature"
   ],
   "window_display": false
  }
 },
 "nbformat": 4,
 "nbformat_minor": 5
}
