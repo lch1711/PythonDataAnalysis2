{
 "cells": [
  {
   "cell_type": "markdown",
   "id": "fc09e07d",
   "metadata": {},
   "source": [
    "<p style=\"font-family:verdana;font-size:200%;text-align:center;\">Linear Regression</p>"
   ]
  },
  {
   "cell_type": "markdown",
   "id": "e951b3a2",
   "metadata": {},
   "source": [
    "### 실습 데이터셋 준비"
   ]
  },
  {
   "cell_type": "code",
   "execution_count": null,
   "id": "3f9f7096",
   "metadata": {},
   "outputs": [],
   "source": [
    "# 관련 라이브러리를 호출합니다.\n",
    "import os\n",
    "import numpy as np\n",
    "import pandas as pd"
   ]
  },
  {
   "cell_type": "code",
   "execution_count": null,
   "id": "cdc03232",
   "metadata": {},
   "outputs": [],
   "source": [
    "# 현재 작업경로를 확인합니다.\n",
    "os.getcwd()"
   ]
  },
  {
   "cell_type": "code",
   "execution_count": null,
   "id": "2916cbe2",
   "metadata": {},
   "outputs": [],
   "source": [
    "# data 폴더로 작업경로를 변경합니다.\n",
    "os.chdir('../data')"
   ]
  },
  {
   "cell_type": "code",
   "execution_count": null,
   "id": "59839f39",
   "metadata": {},
   "outputs": [],
   "source": [
    "# 작업경로에 포함된 폴더명과 파일명을 출력합니다.\n",
    "os.listdir()"
   ]
  },
  {
   "cell_type": "code",
   "execution_count": null,
   "id": "6a9c1975",
   "metadata": {},
   "outputs": [],
   "source": [
    "# xlsx 파일을 읽고, 데이터프레임 df를 생성합니다.\n",
    "df = pd.read_excel(io = 'Used_Cars_Price_Prep.xlsx')"
   ]
  },
  {
   "cell_type": "code",
   "execution_count": null,
   "id": "af4e3c8b",
   "metadata": {},
   "outputs": [],
   "source": [
    "# df의 정보를 확인합니다.\n",
    "df.info()"
   ]
  },
  {
   "cell_type": "code",
   "execution_count": null,
   "id": "6e6a51ff",
   "metadata": {},
   "outputs": [],
   "source": [
    "# df의 처음 5행을 출력합니다.\n",
    "df.head()"
   ]
  },
  {
   "cell_type": "markdown",
   "id": "59456c81",
   "metadata": {},
   "source": [
    "### 더미변수 생성"
   ]
  },
  {
   "cell_type": "code",
   "execution_count": null,
   "id": "18887459",
   "metadata": {},
   "outputs": [],
   "source": [
    "# 범주형 입력변수로 더미변수를 생성합니다.\n",
    "dm = pd.get_dummies(data = df['FuelType'], drop_first = True)"
   ]
  },
  {
   "cell_type": "code",
   "execution_count": null,
   "id": "6ecff562",
   "metadata": {},
   "outputs": [],
   "source": [
    "# df의 오른쪽에 더미변수 dm을 추가합니다.\n",
    "df = pd.concat(objs = [df, dm], axis = 1)"
   ]
  },
  {
   "cell_type": "code",
   "execution_count": null,
   "id": "46525566",
   "metadata": {},
   "outputs": [],
   "source": [
    "# df의 처음 10행을 출력합니다.\n",
    "df.head(n = 10)"
   ]
  },
  {
   "cell_type": "code",
   "execution_count": null,
   "id": "ebdf7f76",
   "metadata": {},
   "outputs": [],
   "source": [
    "# df에서 FuelType을 삭제합니다.\n",
    "df = df.drop(labels = ['FuelType'], axis = 1)"
   ]
  },
  {
   "cell_type": "markdown",
   "id": "f9c0f762",
   "metadata": {},
   "source": [
    "### 실습 데이터셋 분할"
   ]
  },
  {
   "cell_type": "code",
   "execution_count": null,
   "id": "58684117",
   "metadata": {},
   "outputs": [],
   "source": [
    "# 관련 라이브러리를 호출합니다.\n",
    "from sklearn.model_selection import train_test_split"
   ]
  },
  {
   "cell_type": "code",
   "execution_count": null,
   "id": "c32108d7",
   "metadata": {},
   "outputs": [],
   "source": [
    "# 목표변수 열이름을 설정합니다.\n",
    "yvar = 'Price'"
   ]
  },
  {
   "cell_type": "code",
   "execution_count": null,
   "id": "44c9500e",
   "metadata": {},
   "outputs": [],
   "source": [
    "# 입력변수 행렬 X와 목표변수 벡터 y를 생성합니다.\n",
    "X = df.drop(labels = [yvar], axis = 1)\n",
    "y = df[yvar]"
   ]
  },
  {
   "cell_type": "code",
   "execution_count": null,
   "id": "2271e7dd",
   "metadata": {},
   "outputs": [],
   "source": [
    "# 전체 데이터의 70%를 훈련셋, 30%를 시험셋으로 분할합니다.\n",
    "X_tr, X_te, y_tr, y_te = train_test_split(\n",
    "    X, y, test_size = 0.3, random_state = 0\n",
    ")"
   ]
  },
  {
   "cell_type": "code",
   "execution_count": null,
   "id": "c6d67477",
   "metadata": {},
   "outputs": [],
   "source": [
    "# 훈련셋의 목표변수 평균을 확인합니다.\n",
    "y_tr.mean().round(2)"
   ]
  },
  {
   "cell_type": "code",
   "execution_count": null,
   "id": "e4523c96",
   "metadata": {},
   "outputs": [],
   "source": [
    "# 시험셋의 목표변수 평균을 확인합니다.\n",
    "y_te.mean().round(2)"
   ]
  },
  {
   "cell_type": "markdown",
   "id": "5dbe574d",
   "metadata": {},
   "source": [
    "### 선형 회귀모형 적합"
   ]
  },
  {
   "cell_type": "code",
   "execution_count": null,
   "id": "12849c37",
   "metadata": {},
   "outputs": [],
   "source": [
    "# 관련 라이브러리를 호출합니다.\n",
    "import statsmodels.api as sm"
   ]
  },
  {
   "cell_type": "code",
   "execution_count": null,
   "id": "ceb0769d",
   "metadata": {},
   "outputs": [],
   "source": [
    "# 훈련셋 입력변수에 y절편의 역할을 수행할 상수 1을 추가합니다.\n",
    "X_tr = sm.add_constant(data = X_tr)"
   ]
  },
  {
   "cell_type": "code",
   "execution_count": null,
   "id": "7cc1c58a",
   "metadata": {},
   "outputs": [],
   "source": [
    "# 선형 회귀모형을 반환하는 함수를 정의합니다.\n",
    "def ols(y, X):\n",
    "    model = sm.OLS(endog = y, exog = X)\n",
    "    return model.fit()"
   ]
  },
  {
   "cell_type": "markdown",
   "id": "1fe12f98",
   "metadata": {},
   "source": [
    "### 선형 회귀모형 적합 결과 확인"
   ]
  },
  {
   "cell_type": "code",
   "execution_count": null,
   "id": "0c7554da",
   "metadata": {},
   "outputs": [],
   "source": [
    "# 훈련셋으로 선형 회귀모형 적합 결과를 확인합니다.\n",
    "fit1 = ols(y = y_tr, X = X_tr)\n",
    "fit1.summary()"
   ]
  },
  {
   "cell_type": "markdown",
   "id": "a9e8d3fc",
   "metadata": {},
   "source": [
    "### 다중공선성 확인"
   ]
  },
  {
   "cell_type": "code",
   "execution_count": null,
   "id": "bcdb1cca",
   "metadata": {},
   "outputs": [],
   "source": [
    "# 관련 모듈을 호출합니다.\n",
    "import HelloDataScience as hds"
   ]
  },
  {
   "cell_type": "code",
   "execution_count": null,
   "id": "1041d553",
   "metadata": {},
   "outputs": [],
   "source": [
    "# 훈련셋의 입력변수별 분산팽창지수를 출력합니다.\n",
    "hds.vif(X = X_tr)"
   ]
  },
  {
   "cell_type": "code",
   "execution_count": null,
   "id": "c9c7d682",
   "metadata": {},
   "outputs": [],
   "source": [
    "# 분산팽창지수가 5 이상인 입력변수를 훈련셋에서 삭제합니다.\n",
    "X_tr = X_tr.drop(labels = ['Petrol'], axis = 1)"
   ]
  },
  {
   "cell_type": "code",
   "execution_count": null,
   "id": "c09f04d8",
   "metadata": {},
   "outputs": [],
   "source": [
    "# 훈련셋의 입력변수별 분산팽창지수를 다시 출력합니다.\n",
    "hds.vif(X = X_tr)"
   ]
  },
  {
   "cell_type": "markdown",
   "id": "fac4fadb",
   "metadata": {},
   "source": [
    "### 후진소거법으로 변수 선택"
   ]
  },
  {
   "cell_type": "code",
   "execution_count": null,
   "id": "4dd4d24e",
   "metadata": {},
   "outputs": [],
   "source": [
    "# 변경된 훈련셋으로 선형 회귀모형 적합 결과를 확인합니다.\n",
    "fit2 = ols(y = y_tr, X = X_tr)\n",
    "fit2.summary()"
   ]
  },
  {
   "cell_type": "code",
   "execution_count": null,
   "id": "36123aab",
   "metadata": {},
   "outputs": [],
   "source": [
    "# 회귀계수의 유의성 검정을 통과하지 못한 입력변수를 모두 제거합니다.\n",
    "X_tr = X_tr.drop(labels = ['MetColor', 'Doors'], axis = 1)"
   ]
  },
  {
   "cell_type": "code",
   "execution_count": null,
   "id": "ddd00e87",
   "metadata": {},
   "outputs": [],
   "source": [
    "# 변경된 훈련셋으로 선형 회귀모형 적합 결과를 확인합니다.\n",
    "fit3 = ols(y = y_tr, X = X_tr)\n",
    "fit3.summary()"
   ]
  },
  {
   "cell_type": "markdown",
   "id": "9fe66253",
   "metadata": {},
   "source": [
    "### 표준화 회귀계수 확인"
   ]
  },
  {
   "cell_type": "code",
   "execution_count": null,
   "id": "043e61de",
   "metadata": {},
   "outputs": [],
   "source": [
    "# 선형 회귀모형의 회귀계수만 출력합니다.\n",
    "fit3.params"
   ]
  },
  {
   "cell_type": "code",
   "execution_count": null,
   "id": "44406c73",
   "metadata": {},
   "outputs": [],
   "source": [
    "# 입력변수의 표준편차를 목표변수의 표준편차로 나눈 값을 출력합니다.\n",
    "X_tr.std() / y_tr.std()"
   ]
  },
  {
   "cell_type": "code",
   "execution_count": null,
   "id": "fc1bbef9",
   "metadata": {},
   "outputs": [],
   "source": [
    "# 표준화 회귀계수를 생성합니다.\n",
    "beta_z = fit3.params * (X_tr.std() / y_tr.std())"
   ]
  },
  {
   "cell_type": "code",
   "execution_count": null,
   "id": "ca8530a3",
   "metadata": {},
   "outputs": [],
   "source": [
    "# 표준화 회귀계수의 절대값을 오름차순으로 정렬하여 출력합니다.\n",
    "beta_z.abs().sort_values()"
   ]
  },
  {
   "cell_type": "markdown",
   "id": "674aab01",
   "metadata": {},
   "source": [
    "### 목표변수의 추정값 생성"
   ]
  },
  {
   "cell_type": "code",
   "execution_count": null,
   "id": "69dc22b4",
   "metadata": {},
   "outputs": [],
   "source": [
    "# 훈련셋의 추정값을 생성합니다.\n",
    "y_tr_pred = fit3.predict(exog = X_tr)"
   ]
  },
  {
   "cell_type": "code",
   "execution_count": null,
   "id": "fcd1ac29",
   "metadata": {},
   "outputs": [],
   "source": [
    "# 훈련셋의 추정값 일부를 출력합니다.\n",
    "y_tr_pred[0:5]"
   ]
  },
  {
   "cell_type": "code",
   "execution_count": null,
   "id": "1a086160",
   "metadata": {},
   "outputs": [],
   "source": [
    "# 훈련셋의 실제값과 비교합니다.\n",
    "y_tr[0:5]"
   ]
  },
  {
   "cell_type": "code",
   "execution_count": null,
   "id": "914c9f90",
   "metadata": {},
   "outputs": [],
   "source": [
    "# 훈련셋에서 삭제했던 입력변수를 시험셋에서도 삭제합니다.\n",
    "X_te = X_te.drop(labels = ['MetColor', 'Doors', 'Petrol'], axis = 1)"
   ]
  },
  {
   "cell_type": "code",
   "execution_count": null,
   "id": "770beecb",
   "metadata": {},
   "outputs": [],
   "source": [
    "# 시험셋에 상수항을 추가합니다.\n",
    "X_te = sm.add_constant(data = X_te)"
   ]
  },
  {
   "cell_type": "code",
   "execution_count": null,
   "id": "1d4628fb",
   "metadata": {},
   "outputs": [],
   "source": [
    "# 시험셋의 추정값을 생성합니다.\n",
    "y_te_pred = fit3.predict(exog = X_te)"
   ]
  },
  {
   "cell_type": "code",
   "execution_count": null,
   "id": "347d0390",
   "metadata": {},
   "outputs": [],
   "source": [
    "# 시험셋의 추정값 일부를 출력합니다.\n",
    "y_te_pred[0:5]"
   ]
  },
  {
   "cell_type": "code",
   "execution_count": null,
   "id": "d1473b4b",
   "metadata": {},
   "outputs": [],
   "source": [
    "# 시험셋의 실제값과 비교합니다.\n",
    "y_te[0:5]"
   ]
  },
  {
   "cell_type": "markdown",
   "id": "230aef0e",
   "metadata": {},
   "source": [
    "### 회귀모형 성능 평가"
   ]
  },
  {
   "cell_type": "code",
   "execution_count": null,
   "id": "84e6ce1f",
   "metadata": {},
   "outputs": [],
   "source": [
    "# 훈련셋의 실제값과 추정값으로 회귀모형의 성능을 평가합니다.\n",
    "hds.regmetrics(y_true = y_tr, y_pred = y_tr_pred)"
   ]
  },
  {
   "cell_type": "code",
   "execution_count": null,
   "id": "cbe8d6a4",
   "metadata": {},
   "outputs": [],
   "source": [
    "# 시험셋의 실제값과 추정값으로 회귀모형의 성능을 평가합니다.\n",
    "hds.regmetrics(y_true = y_te, y_pred = y_te_pred)"
   ]
  },
  {
   "cell_type": "markdown",
   "id": "33a2aaf1",
   "metadata": {},
   "source": [
    "<p style=\"font-family:verdana;font-size:200%;text-align:center;\">End of Document</p>"
   ]
  }
 ],
 "metadata": {
  "kernelspec": {
   "display_name": "Python 3 (ipykernel)",
   "language": "python",
   "name": "python3"
  },
  "language_info": {
   "codemirror_mode": {
    "name": "ipython",
    "version": 3
   },
   "file_extension": ".py",
   "mimetype": "text/x-python",
   "name": "python",
   "nbconvert_exporter": "python",
   "pygments_lexer": "ipython3",
   "version": "3.9.6"
  },
  "toc": {
   "base_numbering": 1,
   "nav_menu": {},
   "number_sections": true,
   "sideBar": true,
   "skip_h1_title": false,
   "title_cell": "Table of Contents",
   "title_sidebar": "Contents",
   "toc_cell": false,
   "toc_position": {},
   "toc_section_display": true,
   "toc_window_display": true
  },
  "varInspector": {
   "cols": {
    "lenName": 16,
    "lenType": 16,
    "lenVar": 40
   },
   "kernels_config": {
    "python": {
     "delete_cmd_postfix": "",
     "delete_cmd_prefix": "del ",
     "library": "var_list.py",
     "varRefreshCmd": "print(var_dic_list())"
    },
    "r": {
     "delete_cmd_postfix": ") ",
     "delete_cmd_prefix": "rm(",
     "library": "var_list.r",
     "varRefreshCmd": "cat(var_dic_list()) "
    }
   },
   "types_to_exclude": [
    "module",
    "function",
    "builtin_function_or_method",
    "instance",
    "_Feature"
   ],
   "window_display": false
  }
 },
 "nbformat": 4,
 "nbformat_minor": 5
}
