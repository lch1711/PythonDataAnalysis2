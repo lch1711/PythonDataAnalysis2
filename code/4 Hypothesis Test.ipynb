{
 "cells": [
  {
   "cell_type": "markdown",
   "id": "05bd0878",
   "metadata": {},
   "source": [
    "<p style=\"font-family:verdana;font-size:200%;text-align:center;\">4 Hypothesis Test</p>"
   ]
  },
  {
   "cell_type": "markdown",
   "id": "9692ff48",
   "metadata": {},
   "source": [
    "### 실습 데이터셋 준비"
   ]
  },
  {
   "cell_type": "code",
   "execution_count": null,
   "id": "6e0fe794",
   "metadata": {},
   "outputs": [],
   "source": [
    "# 관련 라이브러리를 호출합니다.\n",
    "import os\n",
    "import numpy as np\n",
    "import pandas as pd"
   ]
  },
  {
   "cell_type": "code",
   "execution_count": null,
   "id": "f6739ed2",
   "metadata": {},
   "outputs": [],
   "source": [
    "# 현재 작업경로를 확인합니다.\n",
    "os.getcwd()"
   ]
  },
  {
   "cell_type": "code",
   "execution_count": null,
   "id": "9bc50609",
   "metadata": {},
   "outputs": [],
   "source": [
    "# data 폴더로 작업경로를 변경합니다.\n",
    "os.chdir('../data')"
   ]
  },
  {
   "cell_type": "code",
   "execution_count": null,
   "id": "696d9b4c",
   "metadata": {},
   "outputs": [],
   "source": [
    "# 작업경로에 포함된 폴더명과 파일명을 출력합니다.\n",
    "os.listdir()"
   ]
  },
  {
   "cell_type": "code",
   "execution_count": null,
   "id": "f3f01b8f",
   "metadata": {},
   "outputs": [],
   "source": [
    "# xlsx 파일을 읽고, 데이터프레임 df를 생성합니다.\n",
    "df = pd.read_excel(io = 'Used_Cars_Price.xlsx')"
   ]
  },
  {
   "cell_type": "code",
   "execution_count": null,
   "id": "3ba5b942",
   "metadata": {},
   "outputs": [],
   "source": [
    "# df의 정보를 확인합니다.\n",
    "df.info()"
   ]
  },
  {
   "cell_type": "code",
   "execution_count": null,
   "id": "c32c6629",
   "metadata": {},
   "outputs": [],
   "source": [
    "# df의 일부를 출력합니다.\n",
    "df.head()"
   ]
  },
  {
   "cell_type": "markdown",
   "id": "b482e9c0",
   "metadata": {},
   "source": [
    "### 실습 데이터셋 전처리"
   ]
  },
  {
   "cell_type": "code",
   "execution_count": null,
   "id": "982c51a7",
   "metadata": {},
   "outputs": [],
   "source": [
    "# df에서 일부 정수형 변수를 문자형으로 일괄 변환합니다.\n",
    "cols = ['MetColor', 'Automatic']\n",
    "df[cols] = df[cols].astype('str')"
   ]
  },
  {
   "cell_type": "code",
   "execution_count": null,
   "id": "85e6b37c",
   "metadata": {},
   "outputs": [],
   "source": [
    "# 열별 자료형을 출력합니다.\n",
    "df.dtypes"
   ]
  },
  {
   "cell_type": "raw",
   "id": "782ff94b",
   "metadata": {},
   "source": [
    "# [참고] 개별 정수형 변수를 문자형으로 변환하는 방법입니다.\n",
    "df['MetColor'] = df['MetColor'].astype('str')\n",
    "df['Automatic'] = df['Automatic'].astype('str')"
   ]
  },
  {
   "cell_type": "markdown",
   "id": "30aa1380",
   "metadata": {},
   "source": [
    "### 공분산"
   ]
  },
  {
   "cell_type": "code",
   "execution_count": null,
   "id": "ead145c0",
   "metadata": {},
   "outputs": [],
   "source": [
    "# 두 연속형 변수에 대한 공분산을 반환합니다.\n",
    "df['Price'].cov(df['Age']).round(2)"
   ]
  },
  {
   "cell_type": "code",
   "execution_count": null,
   "id": "61c81778",
   "metadata": {},
   "outputs": [],
   "source": [
    "# 모든 연속형 변수의 분산-공분산 행렬을 반환합니다.\n",
    "df.cov().round(2)"
   ]
  },
  {
   "cell_type": "markdown",
   "id": "f52bbe7a",
   "metadata": {},
   "source": [
    "### 상관계수"
   ]
  },
  {
   "cell_type": "code",
   "execution_count": null,
   "id": "68b23cf0",
   "metadata": {},
   "outputs": [],
   "source": [
    "# 두 연속형 변수에 대한 피어슨 상관계수를 반환합니다.\n",
    "df['Age'].corr(df['Price'], method = 'pearson').round(2)"
   ]
  },
  {
   "cell_type": "code",
   "execution_count": null,
   "id": "f087750d",
   "metadata": {},
   "outputs": [],
   "source": [
    "# 두 연속형 변수에 대한 스피어만 상관계수를 반환합니다.\n",
    "df['Age'].corr(df['Price'], method = 'spearman').round(2)"
   ]
  },
  {
   "cell_type": "code",
   "execution_count": null,
   "id": "87547610",
   "metadata": {},
   "outputs": [],
   "source": [
    "# 모든 연속형 변수의 상관계수 행렬을 반환합니다.\n",
    "df.corr().round(2)"
   ]
  },
  {
   "cell_type": "markdown",
   "id": "f9b8e91c",
   "metadata": {},
   "source": [
    "### 피어슨 상관분석"
   ]
  },
  {
   "cell_type": "code",
   "execution_count": null,
   "id": "c2f7fe0b",
   "metadata": {},
   "outputs": [],
   "source": [
    "# 관련 라이브러리를 호출합니다.\n",
    "from scipy import stats"
   ]
  },
  {
   "cell_type": "code",
   "execution_count": null,
   "id": "107f8e1b",
   "metadata": {},
   "outputs": [],
   "source": [
    "# 두 연속형 변수의 피어슨 상관분석을 실행합니다.\n",
    "stats.pearsonr(x = df['Age'], y = df['Price'])"
   ]
  },
  {
   "cell_type": "code",
   "execution_count": null,
   "id": "2d6c9115",
   "metadata": {},
   "outputs": [],
   "source": [
    "# 연속형 입력변수명을 리스트로 생성합니다.\n",
    "cols = ['Age', 'KM', 'HP', 'CC', 'Doors', 'Weight']"
   ]
  },
  {
   "cell_type": "code",
   "execution_count": null,
   "id": "ac27e3c8",
   "metadata": {},
   "outputs": [],
   "source": [
    "# apply() 함수로 피어슨 상관분석을 일괄 실행합니다.\n",
    "df[cols].apply(func = lambda x: stats.pearsonr(x, df['Price']))"
   ]
  },
  {
   "cell_type": "markdown",
   "id": "fb781c44",
   "metadata": {},
   "source": [
    "### t-검정 : MetColor"
   ]
  },
  {
   "cell_type": "code",
   "execution_count": null,
   "id": "018b85f1",
   "metadata": {},
   "outputs": [],
   "source": [
    "# MetColor의 범주별 Price 평균을 갖는 데이터프레임 avg를 생성합니다.\n",
    "avg = df.groupby(by = ['MetColor']).mean()[['Price']].reset_index()"
   ]
  },
  {
   "cell_type": "code",
   "execution_count": null,
   "id": "27d0b7c2",
   "metadata": {},
   "outputs": [],
   "source": [
    "# avg의 열이름을 변경합니다.\n",
    "avg = avg.rename(columns = {'Price': 'PriceMean'})"
   ]
  },
  {
   "cell_type": "code",
   "execution_count": null,
   "id": "7709d9b8",
   "metadata": {},
   "outputs": [],
   "source": [
    "# df에서 목표변수와 입력변수를 선택하고, avg와 병합하여 df1을 생성합니다.\n",
    "df1 = pd.merge(left = df[['Price', 'MetColor']], right = avg)"
   ]
  },
  {
   "cell_type": "code",
   "execution_count": null,
   "id": "6db0fcc3",
   "metadata": {},
   "outputs": [],
   "source": [
    "# df1의 Price와 PriceMean의 차이를 새로운 파생변수로 생성합니다.\n",
    "df1['residual'] = df1['Price'] - df1['PriceMean']"
   ]
  },
  {
   "cell_type": "code",
   "execution_count": null,
   "id": "ca75f0be",
   "metadata": {},
   "outputs": [],
   "source": [
    "# df1의 일부를 출력합니다.\n",
    "df1.head()"
   ]
  },
  {
   "cell_type": "code",
   "execution_count": null,
   "id": "5a568b2e",
   "metadata": {},
   "outputs": [],
   "source": [
    "# df1의 residual로 정규성 검정을 실행합니다.\n",
    "stats.shapiro(x = df1['residual'])"
   ]
  },
  {
   "cell_type": "code",
   "execution_count": null,
   "id": "26bf91f8",
   "metadata": {},
   "outputs": [],
   "source": [
    "# 등분산성 검정을 위해 범주형 샘플 데이터셋을 생성합니다.\n",
    "sample1 = df.loc[df['MetColor'] == '0', 'Price']\n",
    "sample2 = df.loc[df['MetColor'] == '1', 'Price']"
   ]
  },
  {
   "cell_type": "code",
   "execution_count": null,
   "id": "497b98b7",
   "metadata": {},
   "outputs": [],
   "source": [
    "# (정규성 가정 만족) MetColor의 범주별 Price의 등분산성 검정을 실행합니다.\n",
    "stats.bartlett(sample1, sample2)"
   ]
  },
  {
   "cell_type": "code",
   "execution_count": null,
   "id": "8c6ddb6b",
   "metadata": {},
   "outputs": [],
   "source": [
    "# 등분산 가정된 t-검정을 실행합니다.\n",
    "stats.ttest_ind(sample1, sample2, equal_var = True)"
   ]
  },
  {
   "cell_type": "code",
   "execution_count": null,
   "id": "75e94ffd",
   "metadata": {},
   "outputs": [],
   "source": [
    "# 이분산 가정된 t-검정을 실행합니다.\n",
    "stats.ttest_ind(sample1, sample2, equal_var = False)"
   ]
  },
  {
   "cell_type": "code",
   "execution_count": null,
   "id": "fa1e765c",
   "metadata": {},
   "outputs": [],
   "source": [
    "# (정규성 가정 불만족) 윌콕슨 순위합 검정을 실행합니다.\n",
    "stats.ranksums(sample1, sample2)"
   ]
  },
  {
   "cell_type": "markdown",
   "id": "dd3028c8",
   "metadata": {},
   "source": [
    "### t-검정 : Automatic"
   ]
  },
  {
   "cell_type": "code",
   "execution_count": null,
   "id": "64a05f75",
   "metadata": {},
   "outputs": [],
   "source": [
    "# Automatic의 범주별 Price 평균을 갖는 데이터프레임 avg를 생성합니다.\n",
    "avg = df.groupby(by = ['Automatic']).mean()[['Price']].reset_index()"
   ]
  },
  {
   "cell_type": "code",
   "execution_count": null,
   "id": "15aa6ee6",
   "metadata": {},
   "outputs": [],
   "source": [
    "# avg의 열이름을 변경합니다.\n",
    "avg = avg.rename(columns = {'Price': 'PriceMean'})"
   ]
  },
  {
   "cell_type": "code",
   "execution_count": null,
   "id": "90d27ebf",
   "metadata": {},
   "outputs": [],
   "source": [
    "# df에서 목표변수와 입력변수를 선택하고, avg와 병합하여 df1을 생성합니다.\n",
    "df1 = pd.merge(left = df[['Price', 'Automatic']], right = avg)"
   ]
  },
  {
   "cell_type": "code",
   "execution_count": null,
   "id": "83c733f0",
   "metadata": {},
   "outputs": [],
   "source": [
    "# df1의 Price와 PriceMean의 차이를 새로운 파생변수로 생성합니다.\n",
    "df1['residual'] = df1['Price'] - df1['PriceMean']"
   ]
  },
  {
   "cell_type": "code",
   "execution_count": null,
   "id": "56560871",
   "metadata": {},
   "outputs": [],
   "source": [
    "# df1의 일부를 출력합니다.\n",
    "df1.head()"
   ]
  },
  {
   "cell_type": "code",
   "execution_count": null,
   "id": "7c679d69",
   "metadata": {},
   "outputs": [],
   "source": [
    "# df1의 residual로 정규성 검정을 실행합니다.\n",
    "stats.shapiro(x = df1['residual'])"
   ]
  },
  {
   "cell_type": "code",
   "execution_count": null,
   "id": "6a08b5d2",
   "metadata": {},
   "outputs": [],
   "source": [
    "# 등분산성 검정을 위해 범주형 샘플 데이터셋을 생성합니다.\n",
    "sample1 = df.loc[df['Automatic'] == '0', 'Price']\n",
    "sample2 = df.loc[df['Automatic'] == '1', 'Price']"
   ]
  },
  {
   "cell_type": "code",
   "execution_count": null,
   "id": "7ecbf93b",
   "metadata": {},
   "outputs": [],
   "source": [
    "# (정규성 가정 만족) Automatic의 범주별 Price의 등분산성 검정을 확인합니다.\n",
    "stats.bartlett(sample1, sample2)"
   ]
  },
  {
   "cell_type": "code",
   "execution_count": null,
   "id": "2a003f5e",
   "metadata": {},
   "outputs": [],
   "source": [
    "# 등분산 가정된 t-검정을 실행합니다.\n",
    "stats.ttest_ind(sample1, sample2, equal_var = True)"
   ]
  },
  {
   "cell_type": "code",
   "execution_count": null,
   "id": "58a22acc",
   "metadata": {},
   "outputs": [],
   "source": [
    "# 이분산 가정된 t-검정을 실행합니다.\n",
    "stats.ttest_ind(sample1, sample2, equal_var = False)"
   ]
  },
  {
   "cell_type": "code",
   "execution_count": null,
   "id": "98f671a2",
   "metadata": {},
   "outputs": [],
   "source": [
    "# (정규성 가정 불만족) 윌콕슨 순위합 검정을 실행합니다.\n",
    "stats.ranksums(sample1, sample2)"
   ]
  },
  {
   "cell_type": "markdown",
   "id": "43ddbade",
   "metadata": {},
   "source": [
    "### 분산분석 : FuelType"
   ]
  },
  {
   "cell_type": "code",
   "execution_count": null,
   "id": "dc8180c2",
   "metadata": {},
   "outputs": [],
   "source": [
    "# FuelType의 범주별 Price 평균을 갖는 데이터프레임 avg를 생성합니다.\n",
    "avg = df.groupby(by = ['FuelType']).mean()[['Price']].reset_index()"
   ]
  },
  {
   "cell_type": "code",
   "execution_count": null,
   "id": "8d707d4e",
   "metadata": {},
   "outputs": [],
   "source": [
    "# avg의 열이름을 변경합니다.\n",
    "avg = avg.rename(columns = {'Price': 'PriceMean'})"
   ]
  },
  {
   "cell_type": "code",
   "execution_count": null,
   "id": "aaf0dea8",
   "metadata": {},
   "outputs": [],
   "source": [
    "# df에서 목표변수와 입력변수를 선택하고, avg와 병합하여 df1을 생성합니다.\n",
    "df1 = pd.merge(left = df[['Price', 'FuelType']], right = avg)"
   ]
  },
  {
   "cell_type": "code",
   "execution_count": null,
   "id": "955d0bc6",
   "metadata": {},
   "outputs": [],
   "source": [
    "# df1의 Price와 PriceMean의 차이를 새로운 파생변수로 생성합니다.\n",
    "df1['residual'] = df1['Price'] - df1['PriceMean']"
   ]
  },
  {
   "cell_type": "code",
   "execution_count": null,
   "id": "6b26a989",
   "metadata": {},
   "outputs": [],
   "source": [
    "# df1의 일부를 출력합니다.\n",
    "df1.head()"
   ]
  },
  {
   "cell_type": "code",
   "execution_count": null,
   "id": "7d084bc5",
   "metadata": {},
   "outputs": [],
   "source": [
    "# df1의 residual로 정규성 검정을 실행합니다.\n",
    "stats.shapiro(x = df1['residual'])"
   ]
  },
  {
   "cell_type": "raw",
   "id": "39235f40",
   "metadata": {},
   "source": [
    "# pingouin 라이브러리를 설치합니다.\n",
    "!pip install pingouin"
   ]
  },
  {
   "cell_type": "code",
   "execution_count": null,
   "id": "34193aea",
   "metadata": {},
   "outputs": [],
   "source": [
    "# 관련 라이브러리를 호출합니다.\n",
    "import pingouin as pg"
   ]
  },
  {
   "cell_type": "code",
   "execution_count": null,
   "id": "27999cf7",
   "metadata": {},
   "outputs": [],
   "source": [
    "# (정규성 가정 만족) FuelType의 범주별 Price의 등분산성 검정을 실행합니다.\n",
    "pg.homoscedasticity(data = df, dv = 'Price', group = 'FuelType', method = 'bartlett')"
   ]
  },
  {
   "cell_type": "code",
   "execution_count": null,
   "id": "c96538b5",
   "metadata": {},
   "outputs": [],
   "source": [
    "# 등분산 가정된 분산분석을 실행합니다.\n",
    "pg.anova(data = df, dv = 'Price', between = 'FuelType')"
   ]
  },
  {
   "cell_type": "code",
   "execution_count": null,
   "id": "c1583d97",
   "metadata": {},
   "outputs": [],
   "source": [
    "# 이분산 가정된 분산분석을 실행합니다.\n",
    "pg.welch_anova(data = df, dv = 'Price', between = 'FuelType')"
   ]
  },
  {
   "cell_type": "code",
   "execution_count": null,
   "id": "2c99c89a",
   "metadata": {},
   "outputs": [],
   "source": [
    "# (정규성 가정 불만족) 크루스칼-왈리스 순위합 검정을 실행합니다.\n",
    "pg.kruskal(data = df, dv = 'Price', between = 'FuelType')"
   ]
  },
  {
   "cell_type": "code",
   "execution_count": null,
   "id": "4722e034",
   "metadata": {},
   "outputs": [],
   "source": [
    "# Tukey 방식으로 사후분석을 실행합니다.\n",
    "pg.pairwise_tukey(data = df, dv = 'Price', between = 'FuelType')"
   ]
  },
  {
   "cell_type": "markdown",
   "id": "2e9f4268",
   "metadata": {},
   "source": [
    "### 교차분석"
   ]
  },
  {
   "cell_type": "code",
   "execution_count": null,
   "id": "bfde858d",
   "metadata": {},
   "outputs": [],
   "source": [
    "# 두 범주형 변수로 교차테이블을 생성합니다.\n",
    "cross = pd.crosstab(index = df['MetColor'], columns = df['Automatic'])"
   ]
  },
  {
   "cell_type": "code",
   "execution_count": null,
   "id": "9f524278",
   "metadata": {},
   "outputs": [],
   "source": [
    "# 교차테이블을 출력합니다.\n",
    "cross"
   ]
  },
  {
   "cell_type": "code",
   "execution_count": null,
   "id": "d4af7c74",
   "metadata": {},
   "outputs": [],
   "source": [
    "# 교차테이블 빈도수로 카이제곱 검정을 실행합니다.\n",
    "stats.chi2_contingency(observed = cross)"
   ]
  },
  {
   "cell_type": "markdown",
   "id": "ce73cf3a",
   "metadata": {},
   "source": [
    "### 변수 제거 및 xlsx 파일로 저장"
   ]
  },
  {
   "cell_type": "code",
   "execution_count": null,
   "id": "db8dbe6b",
   "metadata": {},
   "outputs": [],
   "source": [
    "# 가설검정 결과를 반영하여 CC와 Automatic을 삭제합니다.\n",
    "df = df.drop(labels = ['CC', 'Automatic'], axis = 1)"
   ]
  },
  {
   "cell_type": "code",
   "execution_count": null,
   "id": "7a6ae6d5",
   "metadata": {},
   "outputs": [],
   "source": [
    "# FuelType이 'CNG'인 빈도수가 매우 작으므로 해당 행을 삭제합니다.\n",
    "df = df.loc[df['FuelType'] != 'CNG', :]"
   ]
  },
  {
   "cell_type": "code",
   "execution_count": null,
   "id": "0710b85d",
   "metadata": {},
   "outputs": [],
   "source": [
    "# df의 정보를 확인합니다.\n",
    "df.info()"
   ]
  },
  {
   "cell_type": "code",
   "execution_count": null,
   "id": "a8d0a30c",
   "metadata": {},
   "outputs": [],
   "source": [
    "# df를 xlsx 파일로 저장합니다.\n",
    "df.to_excel(excel_writer = 'Used_Cars_Price_Prep.xlsx', index = False)"
   ]
  },
  {
   "cell_type": "markdown",
   "id": "9597fc48",
   "metadata": {},
   "source": [
    "<p style=\"font-family:verdana;font-size:200%;text-align:center;\">End of Document</p>"
   ]
  }
 ],
 "metadata": {
  "kernelspec": {
   "display_name": "Python 3 (ipykernel)",
   "language": "python",
   "name": "python3"
  },
  "language_info": {
   "codemirror_mode": {
    "name": "ipython",
    "version": 3
   },
   "file_extension": ".py",
   "mimetype": "text/x-python",
   "name": "python",
   "nbconvert_exporter": "python",
   "pygments_lexer": "ipython3",
   "version": "3.9.6"
  },
  "toc": {
   "base_numbering": 1,
   "nav_menu": {},
   "number_sections": true,
   "sideBar": true,
   "skip_h1_title": false,
   "title_cell": "Table of Contents",
   "title_sidebar": "Contents",
   "toc_cell": false,
   "toc_position": {},
   "toc_section_display": true,
   "toc_window_display": true
  },
  "varInspector": {
   "cols": {
    "lenName": 16,
    "lenType": 16,
    "lenVar": 40
   },
   "kernels_config": {
    "python": {
     "delete_cmd_postfix": "",
     "delete_cmd_prefix": "del ",
     "library": "var_list.py",
     "varRefreshCmd": "print(var_dic_list())"
    },
    "r": {
     "delete_cmd_postfix": ") ",
     "delete_cmd_prefix": "rm(",
     "library": "var_list.r",
     "varRefreshCmd": "cat(var_dic_list()) "
    }
   },
   "types_to_exclude": [
    "module",
    "function",
    "builtin_function_or_method",
    "instance",
    "_Feature"
   ],
   "window_display": false
  }
 },
 "nbformat": 4,
 "nbformat_minor": 5
}
