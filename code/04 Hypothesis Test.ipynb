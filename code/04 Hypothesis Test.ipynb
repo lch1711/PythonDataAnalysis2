{
 "cells": [
  {
   "cell_type": "markdown",
   "id": "05bd0878",
   "metadata": {},
   "source": [
    "## 가설검정의 이해"
   ]
  },
  {
   "cell_type": "markdown",
   "id": "34f3f65b",
   "metadata": {},
   "source": [
    "### 관련 라이브러리 호출"
   ]
  },
  {
   "cell_type": "code",
   "execution_count": 1,
   "id": "6e0fe794",
   "metadata": {
    "ExecuteTime": {
     "end_time": "2022-06-11T04:54:25.336036Z",
     "start_time": "2022-06-11T04:54:24.130843Z"
    }
   },
   "outputs": [],
   "source": [
    "# 관련 라이브러리를 호출합니다.\n",
    "import os\n",
    "import joblib\n",
    "import numpy as np\n",
    "import pandas as pd"
   ]
  },
  {
   "cell_type": "code",
   "execution_count": 2,
   "id": "4ea05eec",
   "metadata": {},
   "outputs": [],
   "source": [
    "# 통계 관련 라이브러리를 호출합니다.\n",
    "from scipy import stats\n",
    "import pingouin as pg\n",
    "import scikit_posthocs as sp\n",
    "from statsmodels.stats.proportion import proportions_ztest"
   ]
  },
  {
   "cell_type": "markdown",
   "id": "ed7d6b62",
   "metadata": {},
   "source": [
    "### 작업 경로 확인 및 변경"
   ]
  },
  {
   "cell_type": "code",
   "execution_count": 3,
   "id": "f6739ed2",
   "metadata": {
    "ExecuteTime": {
     "end_time": "2022-06-11T04:54:25.346524Z",
     "start_time": "2022-06-11T04:54:25.338508Z"
    }
   },
   "outputs": [
    {
     "data": {
      "text/plain": [
       "'/Users/hdsceokevin/Documents/Lectures/PythonAdvanced/code'"
      ]
     },
     "execution_count": 3,
     "metadata": {},
     "output_type": "execute_result"
    }
   ],
   "source": [
    "# 현재 작업 경로를 확인합니다.\n",
    "os.getcwd()"
   ]
  },
  {
   "cell_type": "code",
   "execution_count": 4,
   "id": "9bc50609",
   "metadata": {
    "ExecuteTime": {
     "end_time": "2022-06-11T04:54:25.350306Z",
     "start_time": "2022-06-11T04:54:25.348167Z"
    }
   },
   "outputs": [],
   "source": [
    "# data 폴더로 작업 경로를 변경합니다.\n",
    "os.chdir('../data')"
   ]
  },
  {
   "cell_type": "code",
   "execution_count": 5,
   "id": "696d9b4c",
   "metadata": {
    "ExecuteTime": {
     "end_time": "2022-06-11T04:54:25.356344Z",
     "start_time": "2022-06-11T04:54:25.352849Z"
    }
   },
   "outputs": [
    {
     "data": {
      "text/plain": [
       "['Used_Cars_Price.z',\n",
       " 'Used_Cars_Price.xlsx',\n",
       " 'Seafood_Trade_Prep.z',\n",
       " 'Used_Cars_Price_Prep.z',\n",
       " 'Used_Cars_Price.csv']"
      ]
     },
     "execution_count": 5,
     "metadata": {},
     "output_type": "execute_result"
    }
   ],
   "source": [
    "# 현재 작업 경로에 있는 폴더명과 파일명을 출력합니다.\n",
    "os.listdir()"
   ]
  },
  {
   "cell_type": "markdown",
   "id": "9692ff48",
   "metadata": {},
   "source": [
    "### 실습 데이터셋 준비"
   ]
  },
  {
   "cell_type": "code",
   "execution_count": 6,
   "id": "f3f01b8f",
   "metadata": {
    "ExecuteTime": {
     "end_time": "2022-06-11T04:54:25.362483Z",
     "start_time": "2022-06-11T04:54:25.358381Z"
    }
   },
   "outputs": [],
   "source": [
    "# z 파일을 읽고 데이터프레임 df를 생성합니다.\n",
    "df = joblib.load(filename = 'Used_Cars_Price.z')"
   ]
  },
  {
   "cell_type": "code",
   "execution_count": 7,
   "id": "3ba5b942",
   "metadata": {
    "ExecuteTime": {
     "end_time": "2022-06-11T04:54:25.373754Z",
     "start_time": "2022-06-11T04:54:25.364002Z"
    }
   },
   "outputs": [
    {
     "name": "stdout",
     "output_type": "stream",
     "text": [
      "<class 'pandas.core.frame.DataFrame'>\n",
      "RangeIndex: 1268 entries, 0 to 1267\n",
      "Data columns (total 10 columns):\n",
      " #   Column     Non-Null Count  Dtype \n",
      "---  ------     --------------  ----- \n",
      " 0   Price      1268 non-null   int64 \n",
      " 1   Age        1268 non-null   int64 \n",
      " 2   KM         1268 non-null   int64 \n",
      " 3   FuelType   1268 non-null   object\n",
      " 4   HP         1268 non-null   int64 \n",
      " 5   MetColor   1268 non-null   object\n",
      " 6   Automatic  1268 non-null   object\n",
      " 7   CC         1268 non-null   int64 \n",
      " 8   Doors      1268 non-null   int64 \n",
      " 9   Weight     1268 non-null   int64 \n",
      "dtypes: int64(7), object(3)\n",
      "memory usage: 99.2+ KB\n"
     ]
    }
   ],
   "source": [
    "# df의 정보를 확인합니다.\n",
    "df.info()"
   ]
  },
  {
   "cell_type": "code",
   "execution_count": 8,
   "id": "ca308b52",
   "metadata": {
    "ExecuteTime": {
     "end_time": "2022-06-11T04:54:25.384893Z",
     "start_time": "2022-06-11T04:54:25.375538Z"
    }
   },
   "outputs": [
    {
     "data": {
      "text/html": [
       "<div>\n",
       "<style scoped>\n",
       "    .dataframe tbody tr th:only-of-type {\n",
       "        vertical-align: middle;\n",
       "    }\n",
       "\n",
       "    .dataframe tbody tr th {\n",
       "        vertical-align: top;\n",
       "    }\n",
       "\n",
       "    .dataframe thead th {\n",
       "        text-align: right;\n",
       "    }\n",
       "</style>\n",
       "<table border=\"1\" class=\"dataframe\">\n",
       "  <thead>\n",
       "    <tr style=\"text-align: right;\">\n",
       "      <th></th>\n",
       "      <th>Price</th>\n",
       "      <th>Age</th>\n",
       "      <th>KM</th>\n",
       "      <th>FuelType</th>\n",
       "      <th>HP</th>\n",
       "      <th>MetColor</th>\n",
       "      <th>Automatic</th>\n",
       "      <th>CC</th>\n",
       "      <th>Doors</th>\n",
       "      <th>Weight</th>\n",
       "    </tr>\n",
       "  </thead>\n",
       "  <tbody>\n",
       "    <tr>\n",
       "      <th>0</th>\n",
       "      <td>13500</td>\n",
       "      <td>23</td>\n",
       "      <td>46986</td>\n",
       "      <td>Diesel</td>\n",
       "      <td>90</td>\n",
       "      <td>1</td>\n",
       "      <td>0</td>\n",
       "      <td>2000</td>\n",
       "      <td>3</td>\n",
       "      <td>1165</td>\n",
       "    </tr>\n",
       "    <tr>\n",
       "      <th>1</th>\n",
       "      <td>13750</td>\n",
       "      <td>23</td>\n",
       "      <td>72937</td>\n",
       "      <td>Diesel</td>\n",
       "      <td>90</td>\n",
       "      <td>1</td>\n",
       "      <td>0</td>\n",
       "      <td>2000</td>\n",
       "      <td>3</td>\n",
       "      <td>1165</td>\n",
       "    </tr>\n",
       "    <tr>\n",
       "      <th>2</th>\n",
       "      <td>13950</td>\n",
       "      <td>24</td>\n",
       "      <td>41711</td>\n",
       "      <td>Diesel</td>\n",
       "      <td>90</td>\n",
       "      <td>1</td>\n",
       "      <td>0</td>\n",
       "      <td>2000</td>\n",
       "      <td>3</td>\n",
       "      <td>1165</td>\n",
       "    </tr>\n",
       "    <tr>\n",
       "      <th>3</th>\n",
       "      <td>14950</td>\n",
       "      <td>26</td>\n",
       "      <td>48000</td>\n",
       "      <td>Diesel</td>\n",
       "      <td>90</td>\n",
       "      <td>0</td>\n",
       "      <td>0</td>\n",
       "      <td>2000</td>\n",
       "      <td>3</td>\n",
       "      <td>1165</td>\n",
       "    </tr>\n",
       "    <tr>\n",
       "      <th>4</th>\n",
       "      <td>13750</td>\n",
       "      <td>30</td>\n",
       "      <td>38500</td>\n",
       "      <td>Diesel</td>\n",
       "      <td>90</td>\n",
       "      <td>0</td>\n",
       "      <td>0</td>\n",
       "      <td>2000</td>\n",
       "      <td>3</td>\n",
       "      <td>1170</td>\n",
       "    </tr>\n",
       "  </tbody>\n",
       "</table>\n",
       "</div>"
      ],
      "text/plain": [
       "   Price  Age     KM FuelType  HP MetColor Automatic    CC  Doors  Weight\n",
       "0  13500   23  46986   Diesel  90        1         0  2000      3    1165\n",
       "1  13750   23  72937   Diesel  90        1         0  2000      3    1165\n",
       "2  13950   24  41711   Diesel  90        1         0  2000      3    1165\n",
       "3  14950   26  48000   Diesel  90        0         0  2000      3    1165\n",
       "4  13750   30  38500   Diesel  90        0         0  2000      3    1170"
      ]
     },
     "execution_count": 8,
     "metadata": {},
     "output_type": "execute_result"
    }
   ],
   "source": [
    "# df의 처음 5행을 출력합니다.\n",
    "df.head()"
   ]
  },
  {
   "cell_type": "markdown",
   "id": "30aa1380",
   "metadata": {},
   "source": [
    "### 공분산"
   ]
  },
  {
   "cell_type": "code",
   "execution_count": 9,
   "id": "ead145c0",
   "metadata": {
    "ExecuteTime": {
     "end_time": "2022-06-11T04:54:25.391225Z",
     "start_time": "2022-06-11T04:54:25.386677Z"
    }
   },
   "outputs": [
    {
     "data": {
      "text/plain": [
       "-22157.692905818414"
      ]
     },
     "execution_count": 9,
     "metadata": {},
     "output_type": "execute_result"
    }
   ],
   "source": [
    "# 두 연속형 변수의 공분산을 반환합니다.\n",
    "df['Age'].cov(df['Price'])"
   ]
  },
  {
   "cell_type": "code",
   "execution_count": 10,
   "id": "61c81778",
   "metadata": {
    "ExecuteTime": {
     "end_time": "2022-06-11T04:54:25.404391Z",
     "start_time": "2022-06-11T04:54:25.392919Z"
    }
   },
   "outputs": [
    {
     "data": {
      "text/html": [
       "<div>\n",
       "<style scoped>\n",
       "    .dataframe tbody tr th:only-of-type {\n",
       "        vertical-align: middle;\n",
       "    }\n",
       "\n",
       "    .dataframe tbody tr th {\n",
       "        vertical-align: top;\n",
       "    }\n",
       "\n",
       "    .dataframe thead th {\n",
       "        text-align: right;\n",
       "    }\n",
       "</style>\n",
       "<table border=\"1\" class=\"dataframe\">\n",
       "  <thead>\n",
       "    <tr style=\"text-align: right;\">\n",
       "      <th></th>\n",
       "      <th>Price</th>\n",
       "      <th>Age</th>\n",
       "      <th>KM</th>\n",
       "      <th>HP</th>\n",
       "      <th>CC</th>\n",
       "      <th>Doors</th>\n",
       "      <th>Weight</th>\n",
       "    </tr>\n",
       "  </thead>\n",
       "  <tbody>\n",
       "    <tr>\n",
       "      <th>Price</th>\n",
       "      <td>4.117236e+06</td>\n",
       "      <td>-22157.692906</td>\n",
       "      <td>-3.744107e+07</td>\n",
       "      <td>5899.685571</td>\n",
       "      <td>1.880875e+04</td>\n",
       "      <td>317.011285</td>\n",
       "      <td>15155.221834</td>\n",
       "    </tr>\n",
       "    <tr>\n",
       "      <th>Age</th>\n",
       "      <td>-2.215769e+04</td>\n",
       "      <td>187.941609</td>\n",
       "      <td>1.711871e+05</td>\n",
       "      <td>-7.990297</td>\n",
       "      <td>-2.136068e+02</td>\n",
       "      <td>-1.180889</td>\n",
       "      <td>-98.225705</td>\n",
       "    </tr>\n",
       "    <tr>\n",
       "      <th>KM</th>\n",
       "      <td>-3.744107e+07</td>\n",
       "      <td>171187.124497</td>\n",
       "      <td>1.285820e+09</td>\n",
       "      <td>-155996.120014</td>\n",
       "      <td>2.557935e+06</td>\n",
       "      <td>595.872724</td>\n",
       "      <td>359258.457561</td>\n",
       "    </tr>\n",
       "    <tr>\n",
       "      <th>HP</th>\n",
       "      <td>5.899686e+03</td>\n",
       "      <td>-7.990297</td>\n",
       "      <td>-1.559961e+05</td>\n",
       "      <td>171.607575</td>\n",
       "      <td>-4.668580e+01</td>\n",
       "      <td>1.496539</td>\n",
       "      <td>-39.090577</td>\n",
       "    </tr>\n",
       "    <tr>\n",
       "      <th>CC</th>\n",
       "      <td>1.880875e+04</td>\n",
       "      <td>-213.606801</td>\n",
       "      <td>2.557935e+06</td>\n",
       "      <td>-46.685804</td>\n",
       "      <td>3.373000e+04</td>\n",
       "      <td>23.854276</td>\n",
       "      <td>5001.292993</td>\n",
       "    </tr>\n",
       "    <tr>\n",
       "      <th>Doors</th>\n",
       "      <td>3.170113e+02</td>\n",
       "      <td>-1.180889</td>\n",
       "      <td>5.958727e+02</td>\n",
       "      <td>1.496539</td>\n",
       "      <td>2.385428e+01</td>\n",
       "      <td>0.899761</td>\n",
       "      <td>13.211410</td>\n",
       "    </tr>\n",
       "    <tr>\n",
       "      <th>Weight</th>\n",
       "      <td>1.515522e+04</td>\n",
       "      <td>-98.225705</td>\n",
       "      <td>3.592585e+05</td>\n",
       "      <td>-39.090577</td>\n",
       "      <td>5.001293e+03</td>\n",
       "      <td>13.211410</td>\n",
       "      <td>1145.078508</td>\n",
       "    </tr>\n",
       "  </tbody>\n",
       "</table>\n",
       "</div>"
      ],
      "text/plain": [
       "               Price            Age            KM             HP  \\\n",
       "Price   4.117236e+06  -22157.692906 -3.744107e+07    5899.685571   \n",
       "Age    -2.215769e+04     187.941609  1.711871e+05      -7.990297   \n",
       "KM     -3.744107e+07  171187.124497  1.285820e+09 -155996.120014   \n",
       "HP      5.899686e+03      -7.990297 -1.559961e+05     171.607575   \n",
       "CC      1.880875e+04    -213.606801  2.557935e+06     -46.685804   \n",
       "Doors   3.170113e+02      -1.180889  5.958727e+02       1.496539   \n",
       "Weight  1.515522e+04     -98.225705  3.592585e+05     -39.090577   \n",
       "\n",
       "                  CC       Doors         Weight  \n",
       "Price   1.880875e+04  317.011285   15155.221834  \n",
       "Age    -2.136068e+02   -1.180889     -98.225705  \n",
       "KM      2.557935e+06  595.872724  359258.457561  \n",
       "HP     -4.668580e+01    1.496539     -39.090577  \n",
       "CC      3.373000e+04   23.854276    5001.292993  \n",
       "Doors   2.385428e+01    0.899761      13.211410  \n",
       "Weight  5.001293e+03   13.211410    1145.078508  "
      ]
     },
     "execution_count": 10,
     "metadata": {},
     "output_type": "execute_result"
    }
   ],
   "source": [
    "# df의 연속형 변수로 분산-공분산 행렬을 반환합니다.\n",
    "df.cov(numeric_only = True)"
   ]
  },
  {
   "cell_type": "markdown",
   "id": "f52bbe7a",
   "metadata": {},
   "source": [
    "### 상관계수"
   ]
  },
  {
   "cell_type": "code",
   "execution_count": 11,
   "id": "68b23cf0",
   "metadata": {
    "ExecuteTime": {
     "end_time": "2022-06-11T04:54:25.414554Z",
     "start_time": "2022-06-11T04:54:25.409966Z"
    }
   },
   "outputs": [
    {
     "data": {
      "text/plain": [
       "-0.7965447290519274"
      ]
     },
     "execution_count": 11,
     "metadata": {},
     "output_type": "execute_result"
    }
   ],
   "source": [
    "# 두 연속형 변수의 피어슨 상관계수를 반환합니다.\n",
    "df['Age'].corr(df['Price'])"
   ]
  },
  {
   "cell_type": "code",
   "execution_count": 12,
   "id": "87547610",
   "metadata": {
    "ExecuteTime": {
     "end_time": "2022-06-11T04:54:25.429855Z",
     "start_time": "2022-06-11T04:54:25.416178Z"
    }
   },
   "outputs": [
    {
     "data": {
      "text/html": [
       "<div>\n",
       "<style scoped>\n",
       "    .dataframe tbody tr th:only-of-type {\n",
       "        vertical-align: middle;\n",
       "    }\n",
       "\n",
       "    .dataframe tbody tr th {\n",
       "        vertical-align: top;\n",
       "    }\n",
       "\n",
       "    .dataframe thead th {\n",
       "        text-align: right;\n",
       "    }\n",
       "</style>\n",
       "<table border=\"1\" class=\"dataframe\">\n",
       "  <thead>\n",
       "    <tr style=\"text-align: right;\">\n",
       "      <th></th>\n",
       "      <th>Price</th>\n",
       "      <th>Age</th>\n",
       "      <th>KM</th>\n",
       "      <th>HP</th>\n",
       "      <th>CC</th>\n",
       "      <th>Doors</th>\n",
       "      <th>Weight</th>\n",
       "    </tr>\n",
       "  </thead>\n",
       "  <tbody>\n",
       "    <tr>\n",
       "      <th>Price</th>\n",
       "      <td>1.000000</td>\n",
       "      <td>-0.796545</td>\n",
       "      <td>-0.514583</td>\n",
       "      <td>0.221951</td>\n",
       "      <td>0.050472</td>\n",
       "      <td>0.164706</td>\n",
       "      <td>0.220720</td>\n",
       "    </tr>\n",
       "    <tr>\n",
       "      <th>Age</th>\n",
       "      <td>-0.796545</td>\n",
       "      <td>1.000000</td>\n",
       "      <td>0.348233</td>\n",
       "      <td>-0.044492</td>\n",
       "      <td>-0.084839</td>\n",
       "      <td>-0.090810</td>\n",
       "      <td>-0.211737</td>\n",
       "    </tr>\n",
       "    <tr>\n",
       "      <th>KM</th>\n",
       "      <td>-0.514583</td>\n",
       "      <td>0.348233</td>\n",
       "      <td>1.000000</td>\n",
       "      <td>-0.332090</td>\n",
       "      <td>0.388411</td>\n",
       "      <td>0.017519</td>\n",
       "      <td>0.296073</td>\n",
       "    </tr>\n",
       "    <tr>\n",
       "      <th>HP</th>\n",
       "      <td>0.221951</td>\n",
       "      <td>-0.044492</td>\n",
       "      <td>-0.332090</td>\n",
       "      <td>1.000000</td>\n",
       "      <td>-0.019405</td>\n",
       "      <td>0.120436</td>\n",
       "      <td>-0.088183</td>\n",
       "    </tr>\n",
       "    <tr>\n",
       "      <th>CC</th>\n",
       "      <td>0.050472</td>\n",
       "      <td>-0.084839</td>\n",
       "      <td>0.388411</td>\n",
       "      <td>-0.019405</td>\n",
       "      <td>1.000000</td>\n",
       "      <td>0.136929</td>\n",
       "      <td>0.804742</td>\n",
       "    </tr>\n",
       "    <tr>\n",
       "      <th>Doors</th>\n",
       "      <td>0.164706</td>\n",
       "      <td>-0.090810</td>\n",
       "      <td>0.017519</td>\n",
       "      <td>0.120436</td>\n",
       "      <td>0.136929</td>\n",
       "      <td>1.000000</td>\n",
       "      <td>0.411593</td>\n",
       "    </tr>\n",
       "    <tr>\n",
       "      <th>Weight</th>\n",
       "      <td>0.220720</td>\n",
       "      <td>-0.211737</td>\n",
       "      <td>0.296073</td>\n",
       "      <td>-0.088183</td>\n",
       "      <td>0.804742</td>\n",
       "      <td>0.411593</td>\n",
       "      <td>1.000000</td>\n",
       "    </tr>\n",
       "  </tbody>\n",
       "</table>\n",
       "</div>"
      ],
      "text/plain": [
       "           Price       Age        KM        HP        CC     Doors    Weight\n",
       "Price   1.000000 -0.796545 -0.514583  0.221951  0.050472  0.164706  0.220720\n",
       "Age    -0.796545  1.000000  0.348233 -0.044492 -0.084839 -0.090810 -0.211737\n",
       "KM     -0.514583  0.348233  1.000000 -0.332090  0.388411  0.017519  0.296073\n",
       "HP      0.221951 -0.044492 -0.332090  1.000000 -0.019405  0.120436 -0.088183\n",
       "CC      0.050472 -0.084839  0.388411 -0.019405  1.000000  0.136929  0.804742\n",
       "Doors   0.164706 -0.090810  0.017519  0.120436  0.136929  1.000000  0.411593\n",
       "Weight  0.220720 -0.211737  0.296073 -0.088183  0.804742  0.411593  1.000000"
      ]
     },
     "execution_count": 12,
     "metadata": {},
     "output_type": "execute_result"
    }
   ],
   "source": [
    "# df의 연속형 변수로 피어슨 상관계수 행렬을 반환합니다.\n",
    "df.corr(numeric_only = True)"
   ]
  },
  {
   "cell_type": "markdown",
   "id": "f9b8e91c",
   "metadata": {},
   "source": [
    "### 피어슨 상관분석"
   ]
  },
  {
   "cell_type": "code",
   "execution_count": 13,
   "id": "a007ec5a",
   "metadata": {
    "ExecuteTime": {
     "end_time": "2022-06-11T04:54:25.447906Z",
     "start_time": "2022-06-11T04:54:25.431506Z"
    }
   },
   "outputs": [
    {
     "data": {
      "text/html": [
       "<div>\n",
       "<style scoped>\n",
       "    .dataframe tbody tr th:only-of-type {\n",
       "        vertical-align: middle;\n",
       "    }\n",
       "\n",
       "    .dataframe tbody tr th {\n",
       "        vertical-align: top;\n",
       "    }\n",
       "\n",
       "    .dataframe thead th {\n",
       "        text-align: right;\n",
       "    }\n",
       "</style>\n",
       "<table border=\"1\" class=\"dataframe\">\n",
       "  <thead>\n",
       "    <tr style=\"text-align: right;\">\n",
       "      <th></th>\n",
       "      <th>n</th>\n",
       "      <th>r</th>\n",
       "      <th>CI95%</th>\n",
       "      <th>p-val</th>\n",
       "      <th>BF10</th>\n",
       "      <th>power</th>\n",
       "    </tr>\n",
       "  </thead>\n",
       "  <tbody>\n",
       "    <tr>\n",
       "      <th>pearson</th>\n",
       "      <td>1268</td>\n",
       "      <td>-0.796545</td>\n",
       "      <td>[-0.82, -0.78]</td>\n",
       "      <td>5.879611e-279</td>\n",
       "      <td>6.169e+274</td>\n",
       "      <td>1.0</td>\n",
       "    </tr>\n",
       "  </tbody>\n",
       "</table>\n",
       "</div>"
      ],
      "text/plain": [
       "            n         r           CI95%          p-val        BF10  power\n",
       "pearson  1268 -0.796545  [-0.82, -0.78]  5.879611e-279  6.169e+274    1.0"
      ]
     },
     "execution_count": 13,
     "metadata": {},
     "output_type": "execute_result"
    }
   ],
   "source": [
    "# Age와 Price의 피어슨 상관분석을 실행하고 유의확률을 확인합니다.\n",
    "pg.corr(x = df['Age'], y = df['Price'])"
   ]
  },
  {
   "cell_type": "code",
   "execution_count": 14,
   "id": "80c0695d",
   "metadata": {
    "ExecuteTime": {
     "end_time": "2022-06-11T04:54:25.462973Z",
     "start_time": "2022-06-11T04:54:25.449521Z"
    }
   },
   "outputs": [
    {
     "data": {
      "text/html": [
       "<div>\n",
       "<style scoped>\n",
       "    .dataframe tbody tr th:only-of-type {\n",
       "        vertical-align: middle;\n",
       "    }\n",
       "\n",
       "    .dataframe tbody tr th {\n",
       "        vertical-align: top;\n",
       "    }\n",
       "\n",
       "    .dataframe thead th {\n",
       "        text-align: right;\n",
       "    }\n",
       "</style>\n",
       "<table border=\"1\" class=\"dataframe\">\n",
       "  <thead>\n",
       "    <tr style=\"text-align: right;\">\n",
       "      <th></th>\n",
       "      <th>n</th>\n",
       "      <th>r</th>\n",
       "      <th>CI95%</th>\n",
       "      <th>p-val</th>\n",
       "      <th>BF10</th>\n",
       "      <th>power</th>\n",
       "    </tr>\n",
       "  </thead>\n",
       "  <tbody>\n",
       "    <tr>\n",
       "      <th>pearson</th>\n",
       "      <td>1268</td>\n",
       "      <td>-0.514583</td>\n",
       "      <td>[-0.55, -0.47]</td>\n",
       "      <td>1.187373e-86</td>\n",
       "      <td>9.482e+82</td>\n",
       "      <td>1.0</td>\n",
       "    </tr>\n",
       "  </tbody>\n",
       "</table>\n",
       "</div>"
      ],
      "text/plain": [
       "            n         r           CI95%         p-val       BF10  power\n",
       "pearson  1268 -0.514583  [-0.55, -0.47]  1.187373e-86  9.482e+82    1.0"
      ]
     },
     "execution_count": 14,
     "metadata": {},
     "output_type": "execute_result"
    }
   ],
   "source": [
    "# KM와 Price의 피어슨 상관분석을 실행하고 유의확률을 확인합니다.\n",
    "pg.corr(x = df['KM'], y = df['Price'])"
   ]
  },
  {
   "cell_type": "code",
   "execution_count": 15,
   "id": "ff1e8edf",
   "metadata": {
    "ExecuteTime": {
     "end_time": "2022-06-11T04:54:25.478324Z",
     "start_time": "2022-06-11T04:54:25.464801Z"
    }
   },
   "outputs": [
    {
     "data": {
      "text/html": [
       "<div>\n",
       "<style scoped>\n",
       "    .dataframe tbody tr th:only-of-type {\n",
       "        vertical-align: middle;\n",
       "    }\n",
       "\n",
       "    .dataframe tbody tr th {\n",
       "        vertical-align: top;\n",
       "    }\n",
       "\n",
       "    .dataframe thead th {\n",
       "        text-align: right;\n",
       "    }\n",
       "</style>\n",
       "<table border=\"1\" class=\"dataframe\">\n",
       "  <thead>\n",
       "    <tr style=\"text-align: right;\">\n",
       "      <th></th>\n",
       "      <th>n</th>\n",
       "      <th>r</th>\n",
       "      <th>CI95%</th>\n",
       "      <th>p-val</th>\n",
       "      <th>BF10</th>\n",
       "      <th>power</th>\n",
       "    </tr>\n",
       "  </thead>\n",
       "  <tbody>\n",
       "    <tr>\n",
       "      <th>pearson</th>\n",
       "      <td>1268</td>\n",
       "      <td>0.221951</td>\n",
       "      <td>[0.17, 0.27]</td>\n",
       "      <td>1.289468e-15</td>\n",
       "      <td>2.583e+12</td>\n",
       "      <td>1.0</td>\n",
       "    </tr>\n",
       "  </tbody>\n",
       "</table>\n",
       "</div>"
      ],
      "text/plain": [
       "            n         r         CI95%         p-val       BF10  power\n",
       "pearson  1268  0.221951  [0.17, 0.27]  1.289468e-15  2.583e+12    1.0"
      ]
     },
     "execution_count": 15,
     "metadata": {},
     "output_type": "execute_result"
    }
   ],
   "source": [
    "# HP와 Price의 피어슨 상관분석을 실행하고 유의확률을 확인합니다.\n",
    "pg.corr(x = df['HP'], y = df['Price'])"
   ]
  },
  {
   "cell_type": "code",
   "execution_count": 16,
   "id": "f9b4b424",
   "metadata": {
    "ExecuteTime": {
     "end_time": "2022-06-11T04:54:25.489930Z",
     "start_time": "2022-06-11T04:54:25.479953Z"
    }
   },
   "outputs": [
    {
     "data": {
      "text/html": [
       "<div>\n",
       "<style scoped>\n",
       "    .dataframe tbody tr th:only-of-type {\n",
       "        vertical-align: middle;\n",
       "    }\n",
       "\n",
       "    .dataframe tbody tr th {\n",
       "        vertical-align: top;\n",
       "    }\n",
       "\n",
       "    .dataframe thead th {\n",
       "        text-align: right;\n",
       "    }\n",
       "</style>\n",
       "<table border=\"1\" class=\"dataframe\">\n",
       "  <thead>\n",
       "    <tr style=\"text-align: right;\">\n",
       "      <th></th>\n",
       "      <th>n</th>\n",
       "      <th>r</th>\n",
       "      <th>CI95%</th>\n",
       "      <th>p-val</th>\n",
       "      <th>BF10</th>\n",
       "      <th>power</th>\n",
       "    </tr>\n",
       "  </thead>\n",
       "  <tbody>\n",
       "    <tr>\n",
       "      <th>pearson</th>\n",
       "      <td>1268</td>\n",
       "      <td>0.050472</td>\n",
       "      <td>[-0.0, 0.11]</td>\n",
       "      <td>0.072396</td>\n",
       "      <td>0.176</td>\n",
       "      <td>0.435457</td>\n",
       "    </tr>\n",
       "  </tbody>\n",
       "</table>\n",
       "</div>"
      ],
      "text/plain": [
       "            n         r         CI95%     p-val   BF10     power\n",
       "pearson  1268  0.050472  [-0.0, 0.11]  0.072396  0.176  0.435457"
      ]
     },
     "execution_count": 16,
     "metadata": {},
     "output_type": "execute_result"
    }
   ],
   "source": [
    "# CC와 Price의 피어슨 상관분석을 실행하고 유의확률을 확인합니다.\n",
    "pg.corr(x = df['CC'], y = df['Price'])"
   ]
  },
  {
   "cell_type": "code",
   "execution_count": 17,
   "id": "4fcf9d12",
   "metadata": {
    "ExecuteTime": {
     "end_time": "2022-06-11T04:54:25.504013Z",
     "start_time": "2022-06-11T04:54:25.492221Z"
    }
   },
   "outputs": [
    {
     "data": {
      "text/html": [
       "<div>\n",
       "<style scoped>\n",
       "    .dataframe tbody tr th:only-of-type {\n",
       "        vertical-align: middle;\n",
       "    }\n",
       "\n",
       "    .dataframe tbody tr th {\n",
       "        vertical-align: top;\n",
       "    }\n",
       "\n",
       "    .dataframe thead th {\n",
       "        text-align: right;\n",
       "    }\n",
       "</style>\n",
       "<table border=\"1\" class=\"dataframe\">\n",
       "  <thead>\n",
       "    <tr style=\"text-align: right;\">\n",
       "      <th></th>\n",
       "      <th>n</th>\n",
       "      <th>r</th>\n",
       "      <th>CI95%</th>\n",
       "      <th>p-val</th>\n",
       "      <th>BF10</th>\n",
       "      <th>power</th>\n",
       "    </tr>\n",
       "  </thead>\n",
       "  <tbody>\n",
       "    <tr>\n",
       "      <th>pearson</th>\n",
       "      <td>1268</td>\n",
       "      <td>0.164706</td>\n",
       "      <td>[0.11, 0.22]</td>\n",
       "      <td>3.644964e-09</td>\n",
       "      <td>1.245e+06</td>\n",
       "      <td>0.999962</td>\n",
       "    </tr>\n",
       "  </tbody>\n",
       "</table>\n",
       "</div>"
      ],
      "text/plain": [
       "            n         r         CI95%         p-val       BF10     power\n",
       "pearson  1268  0.164706  [0.11, 0.22]  3.644964e-09  1.245e+06  0.999962"
      ]
     },
     "execution_count": 17,
     "metadata": {},
     "output_type": "execute_result"
    }
   ],
   "source": [
    "# Doors와 Price의 피어슨 상관분석을 실행하고 유의확률을 확인합니다.\n",
    "pg.corr(x = df['Doors'], y = df['Price'])"
   ]
  },
  {
   "cell_type": "code",
   "execution_count": 18,
   "id": "c01f3838",
   "metadata": {
    "ExecuteTime": {
     "end_time": "2022-06-11T04:54:25.517898Z",
     "start_time": "2022-06-11T04:54:25.505979Z"
    }
   },
   "outputs": [
    {
     "data": {
      "text/html": [
       "<div>\n",
       "<style scoped>\n",
       "    .dataframe tbody tr th:only-of-type {\n",
       "        vertical-align: middle;\n",
       "    }\n",
       "\n",
       "    .dataframe tbody tr th {\n",
       "        vertical-align: top;\n",
       "    }\n",
       "\n",
       "    .dataframe thead th {\n",
       "        text-align: right;\n",
       "    }\n",
       "</style>\n",
       "<table border=\"1\" class=\"dataframe\">\n",
       "  <thead>\n",
       "    <tr style=\"text-align: right;\">\n",
       "      <th></th>\n",
       "      <th>n</th>\n",
       "      <th>r</th>\n",
       "      <th>CI95%</th>\n",
       "      <th>p-val</th>\n",
       "      <th>BF10</th>\n",
       "      <th>power</th>\n",
       "    </tr>\n",
       "  </thead>\n",
       "  <tbody>\n",
       "    <tr>\n",
       "      <th>pearson</th>\n",
       "      <td>1268</td>\n",
       "      <td>0.22072</td>\n",
       "      <td>[0.17, 0.27]</td>\n",
       "      <td>1.863429e-15</td>\n",
       "      <td>1.798e+12</td>\n",
       "      <td>1.0</td>\n",
       "    </tr>\n",
       "  </tbody>\n",
       "</table>\n",
       "</div>"
      ],
      "text/plain": [
       "            n        r         CI95%         p-val       BF10  power\n",
       "pearson  1268  0.22072  [0.17, 0.27]  1.863429e-15  1.798e+12    1.0"
      ]
     },
     "execution_count": 18,
     "metadata": {},
     "output_type": "execute_result"
    }
   ],
   "source": [
    "# Weight와 Price의 피어슨 상관분석을 실행하고 유의확률을 확인합니다.\n",
    "pg.corr(x = df['Weight'], y = df['Price'])"
   ]
  },
  {
   "cell_type": "markdown",
   "id": "45641785-5c09-448b-a767-d0c39752b3b8",
   "metadata": {},
   "source": [
    "### [참고] 피어슨 상관분석 유의확률 출력 함수 생성"
   ]
  },
  {
   "cell_type": "code",
   "execution_count": 19,
   "id": "4bfdcf06-e476-410b-8798-220aeb4db6f1",
   "metadata": {},
   "outputs": [],
   "source": [
    "# 변수 x에 df의 연속형 변수를 할당합니다.\n",
    "x = df['Age']"
   ]
  },
  {
   "cell_type": "code",
   "execution_count": 20,
   "id": "4a7ecc15-ca7d-4dcb-b6b5-79065714eb69",
   "metadata": {},
   "outputs": [
    {
     "data": {
      "text/plain": [
       "pearson    5.879611e-279\n",
       "Name: p-val, dtype: float64"
      ]
     },
     "execution_count": 20,
     "metadata": {},
     "output_type": "execute_result"
    }
   ],
   "source": [
    "# 변수 x와 Price의 피어슨 상관분석 실행 결과에서 유의확률만 출력합니다.\n",
    "pg.corr(x = x, y = df['Price'])['p-val']"
   ]
  },
  {
   "cell_type": "code",
   "execution_count": 21,
   "id": "59aabbf9-0673-4d2e-bff4-56c8ba9c0fed",
   "metadata": {},
   "outputs": [],
   "source": [
    "# 연속형 입력변수와의 상관분석 유의확률을 출력하는 람다 표현식을 생성합니다.\n",
    "corr = lambda x: pg.corr(x = x, y = df['Price'])['p-val']"
   ]
  },
  {
   "cell_type": "code",
   "execution_count": 22,
   "id": "549bd637-61b1-42b9-ba19-c87dc5ad0ae5",
   "metadata": {},
   "outputs": [
    {
     "data": {
      "text/plain": [
       "pearson    5.879611e-279\n",
       "Name: p-val, dtype: float64"
      ]
     },
     "execution_count": 22,
     "metadata": {},
     "output_type": "execute_result"
    }
   ],
   "source": [
    "# 람다 표현식 함수로 피어슨 상관분석 유의확률을 출력합니다.\n",
    "corr(x = df['Age'])"
   ]
  },
  {
   "cell_type": "markdown",
   "id": "570a3f6c",
   "metadata": {},
   "source": [
    "### [참고] apply() 함수를 활용한 상관분석 실행"
   ]
  },
  {
   "cell_type": "code",
   "execution_count": 23,
   "id": "e6e68c98",
   "metadata": {
    "ExecuteTime": {
     "end_time": "2022-06-11T04:54:25.529011Z",
     "start_time": "2022-06-11T04:54:25.519752Z"
    }
   },
   "outputs": [
    {
     "data": {
      "text/plain": [
       "Price         int64\n",
       "Age           int64\n",
       "KM            int64\n",
       "FuelType     object\n",
       "HP            int64\n",
       "MetColor     object\n",
       "Automatic    object\n",
       "CC            int64\n",
       "Doors         int64\n",
       "Weight        int64\n",
       "dtype: object"
      ]
     },
     "execution_count": 23,
     "metadata": {},
     "output_type": "execute_result"
    }
   ],
   "source": [
    "# df의 열별 자료형을 확인합니다.\n",
    "df.dtypes"
   ]
  },
  {
   "cell_type": "code",
   "execution_count": 24,
   "id": "79da48da",
   "metadata": {
    "ExecuteTime": {
     "end_time": "2022-06-11T04:54:25.541606Z",
     "start_time": "2022-06-11T04:54:25.536577Z"
    }
   },
   "outputs": [
    {
     "data": {
      "text/plain": [
       "Price         True\n",
       "Age           True\n",
       "KM            True\n",
       "FuelType     False\n",
       "HP            True\n",
       "MetColor     False\n",
       "Automatic    False\n",
       "CC            True\n",
       "Doors         True\n",
       "Weight        True\n",
       "dtype: bool"
      ]
     },
     "execution_count": 24,
     "metadata": {},
     "output_type": "execute_result"
    }
   ],
   "source": [
    "# 열별 자료형이 정수형 또는 실수형이면 True, 아니면 False인 벡터를 생성합니다.\n",
    "locs = df.dtypes.astype(str).isin(values = ['float64', 'int64'])\n",
    "locs"
   ]
  },
  {
   "cell_type": "code",
   "execution_count": 25,
   "id": "75ee37e6",
   "metadata": {
    "ExecuteTime": {
     "end_time": "2022-06-11T04:54:25.572897Z",
     "start_time": "2022-06-11T04:54:25.544274Z"
    }
   },
   "outputs": [
    {
     "data": {
      "text/html": [
       "<div>\n",
       "<style scoped>\n",
       "    .dataframe tbody tr th:only-of-type {\n",
       "        vertical-align: middle;\n",
       "    }\n",
       "\n",
       "    .dataframe tbody tr th {\n",
       "        vertical-align: top;\n",
       "    }\n",
       "\n",
       "    .dataframe thead th {\n",
       "        text-align: right;\n",
       "    }\n",
       "</style>\n",
       "<table border=\"1\" class=\"dataframe\">\n",
       "  <thead>\n",
       "    <tr style=\"text-align: right;\">\n",
       "      <th></th>\n",
       "      <th>Price</th>\n",
       "      <th>Age</th>\n",
       "      <th>KM</th>\n",
       "      <th>HP</th>\n",
       "      <th>CC</th>\n",
       "      <th>Doors</th>\n",
       "      <th>Weight</th>\n",
       "    </tr>\n",
       "  </thead>\n",
       "  <tbody>\n",
       "    <tr>\n",
       "      <th>pearson</th>\n",
       "      <td>True</td>\n",
       "      <td>True</td>\n",
       "      <td>True</td>\n",
       "      <td>True</td>\n",
       "      <td>False</td>\n",
       "      <td>True</td>\n",
       "      <td>True</td>\n",
       "    </tr>\n",
       "  </tbody>\n",
       "</table>\n",
       "</div>"
      ],
      "text/plain": [
       "         Price   Age    KM    HP     CC  Doors  Weight\n",
       "pearson   True  True  True  True  False   True    True"
      ]
     },
     "execution_count": 25,
     "metadata": {},
     "output_type": "execute_result"
    }
   ],
   "source": [
    "# df의 정수형 또는 실수형 변수만 선택하여 상관분석을 실행하고, \n",
    "# 유의확률이 0.05보다 작은지 여부를 데이터프레임으로 반환합니다.\n",
    "df.loc[:, locs].apply(func = corr).lt(0.05)"
   ]
  },
  {
   "cell_type": "markdown",
   "id": "fb781c44",
   "metadata": {},
   "source": [
    "### t-검정: MetColor"
   ]
  },
  {
   "cell_type": "code",
   "execution_count": 26,
   "id": "f11a59e6",
   "metadata": {
    "ExecuteTime": {
     "end_time": "2022-06-11T04:54:25.588502Z",
     "start_time": "2022-06-11T04:54:25.575331Z"
    }
   },
   "outputs": [
    {
     "data": {
      "text/html": [
       "<div>\n",
       "<style scoped>\n",
       "    .dataframe tbody tr th:only-of-type {\n",
       "        vertical-align: middle;\n",
       "    }\n",
       "\n",
       "    .dataframe tbody tr th {\n",
       "        vertical-align: top;\n",
       "    }\n",
       "\n",
       "    .dataframe thead th {\n",
       "        text-align: right;\n",
       "    }\n",
       "</style>\n",
       "<table border=\"1\" class=\"dataframe\">\n",
       "  <thead>\n",
       "    <tr style=\"text-align: right;\">\n",
       "      <th></th>\n",
       "      <th>W</th>\n",
       "      <th>pval</th>\n",
       "      <th>normal</th>\n",
       "    </tr>\n",
       "    <tr>\n",
       "      <th>MetColor</th>\n",
       "      <th></th>\n",
       "      <th></th>\n",
       "      <th></th>\n",
       "    </tr>\n",
       "  </thead>\n",
       "  <tbody>\n",
       "    <tr>\n",
       "      <th>1</th>\n",
       "      <td>0.974759</td>\n",
       "      <td>7.077313e-11</td>\n",
       "      <td>False</td>\n",
       "    </tr>\n",
       "    <tr>\n",
       "      <th>0</th>\n",
       "      <td>0.988073</td>\n",
       "      <td>1.429560e-03</td>\n",
       "      <td>False</td>\n",
       "    </tr>\n",
       "  </tbody>\n",
       "</table>\n",
       "</div>"
      ],
      "text/plain": [
       "                 W          pval  normal\n",
       "MetColor                                \n",
       "1         0.974759  7.077313e-11   False\n",
       "0         0.988073  1.429560e-03   False"
      ]
     },
     "execution_count": 26,
     "metadata": {},
     "output_type": "execute_result"
    }
   ],
   "source": [
    "# MetColor 범주별 Price의 정규성 검정을 실행합니다.\n",
    "pg.normality(data = df, dv = 'Price', group = 'MetColor', method = 'shapiro')"
   ]
  },
  {
   "cell_type": "code",
   "execution_count": 27,
   "id": "ceca9783",
   "metadata": {
    "ExecuteTime": {
     "end_time": "2022-06-11T04:54:25.600220Z",
     "start_time": "2022-06-11T04:54:25.590871Z"
    }
   },
   "outputs": [
    {
     "data": {
      "text/html": [
       "<div>\n",
       "<style scoped>\n",
       "    .dataframe tbody tr th:only-of-type {\n",
       "        vertical-align: middle;\n",
       "    }\n",
       "\n",
       "    .dataframe tbody tr th {\n",
       "        vertical-align: top;\n",
       "    }\n",
       "\n",
       "    .dataframe thead th {\n",
       "        text-align: right;\n",
       "    }\n",
       "</style>\n",
       "<table border=\"1\" class=\"dataframe\">\n",
       "  <thead>\n",
       "    <tr style=\"text-align: right;\">\n",
       "      <th></th>\n",
       "      <th>W</th>\n",
       "      <th>pval</th>\n",
       "      <th>equal_var</th>\n",
       "    </tr>\n",
       "  </thead>\n",
       "  <tbody>\n",
       "    <tr>\n",
       "      <th>levene</th>\n",
       "      <td>5.761315</td>\n",
       "      <td>0.016526</td>\n",
       "      <td>False</td>\n",
       "    </tr>\n",
       "  </tbody>\n",
       "</table>\n",
       "</div>"
      ],
      "text/plain": [
       "               W      pval  equal_var\n",
       "levene  5.761315  0.016526      False"
      ]
     },
     "execution_count": 27,
     "metadata": {},
     "output_type": "execute_result"
    }
   ],
   "source": [
    "# (정규성 가정 만족) MetColor 범주별 Price의 등분산성 검정을 실행합니다.\n",
    "pg.homoscedasticity(data = df, dv = 'Price', group = 'MetColor', method = 'levene')"
   ]
  },
  {
   "cell_type": "code",
   "execution_count": 28,
   "id": "0311d074",
   "metadata": {},
   "outputs": [],
   "source": [
    "# MetColor 범주별 Price로 시리즈를 생성합니다.\n",
    "sp1 = df['Price'][df['MetColor'].eq('0')]\n",
    "sp2 = df['Price'][df['MetColor'].eq('1')]"
   ]
  },
  {
   "cell_type": "code",
   "execution_count": 29,
   "id": "09f0d853",
   "metadata": {},
   "outputs": [
    {
     "name": "stdout",
     "output_type": "stream",
     "text": [
      "9466.672897196262\n",
      "9814.132142857143\n"
     ]
    }
   ],
   "source": [
    "# 두 시리즈의 평균을 확인합니다.\n",
    "print(sp1.mean())\n",
    "print(sp2.mean())"
   ]
  },
  {
   "cell_type": "code",
   "execution_count": 30,
   "id": "1e7a7632",
   "metadata": {
    "ExecuteTime": {
     "end_time": "2022-06-11T04:54:25.619408Z",
     "start_time": "2022-06-11T04:54:25.607108Z"
    }
   },
   "outputs": [
    {
     "data": {
      "text/html": [
       "<div>\n",
       "<style scoped>\n",
       "    .dataframe tbody tr th:only-of-type {\n",
       "        vertical-align: middle;\n",
       "    }\n",
       "\n",
       "    .dataframe tbody tr th {\n",
       "        vertical-align: top;\n",
       "    }\n",
       "\n",
       "    .dataframe thead th {\n",
       "        text-align: right;\n",
       "    }\n",
       "</style>\n",
       "<table border=\"1\" class=\"dataframe\">\n",
       "  <thead>\n",
       "    <tr style=\"text-align: right;\">\n",
       "      <th></th>\n",
       "      <th>T</th>\n",
       "      <th>dof</th>\n",
       "      <th>alternative</th>\n",
       "      <th>p-val</th>\n",
       "      <th>CI95%</th>\n",
       "      <th>cohen-d</th>\n",
       "      <th>BF10</th>\n",
       "      <th>power</th>\n",
       "    </tr>\n",
       "  </thead>\n",
       "  <tbody>\n",
       "    <tr>\n",
       "      <th>T-test</th>\n",
       "      <td>-2.891752</td>\n",
       "      <td>1266</td>\n",
       "      <td>two-sided</td>\n",
       "      <td>0.003896</td>\n",
       "      <td>[-583.18, -111.73]</td>\n",
       "      <td>0.171735</td>\n",
       "      <td>4.077</td>\n",
       "      <td>0.82371</td>\n",
       "    </tr>\n",
       "  </tbody>\n",
       "</table>\n",
       "</div>"
      ],
      "text/plain": [
       "               T   dof alternative     p-val               CI95%   cohen-d  \\\n",
       "T-test -2.891752  1266   two-sided  0.003896  [-583.18, -111.73]  0.171735   \n",
       "\n",
       "         BF10    power  \n",
       "T-test  4.077  0.82371  "
      ]
     },
     "execution_count": 30,
     "metadata": {},
     "output_type": "execute_result"
    }
   ],
   "source": [
    "# 등분산 가정된 t-검정을 실행합니다.\n",
    "pg.ttest(x = sp1, y = sp2, correction = False)"
   ]
  },
  {
   "cell_type": "code",
   "execution_count": 31,
   "id": "f7200b7a",
   "metadata": {
    "ExecuteTime": {
     "end_time": "2022-06-11T04:54:25.634009Z",
     "start_time": "2022-06-11T04:54:25.621043Z"
    }
   },
   "outputs": [
    {
     "data": {
      "text/html": [
       "<div>\n",
       "<style scoped>\n",
       "    .dataframe tbody tr th:only-of-type {\n",
       "        vertical-align: middle;\n",
       "    }\n",
       "\n",
       "    .dataframe tbody tr th {\n",
       "        vertical-align: top;\n",
       "    }\n",
       "\n",
       "    .dataframe thead th {\n",
       "        text-align: right;\n",
       "    }\n",
       "</style>\n",
       "<table border=\"1\" class=\"dataframe\">\n",
       "  <thead>\n",
       "    <tr style=\"text-align: right;\">\n",
       "      <th></th>\n",
       "      <th>T</th>\n",
       "      <th>dof</th>\n",
       "      <th>alternative</th>\n",
       "      <th>p-val</th>\n",
       "      <th>CI95%</th>\n",
       "      <th>cohen-d</th>\n",
       "      <th>BF10</th>\n",
       "      <th>power</th>\n",
       "    </tr>\n",
       "  </thead>\n",
       "  <tbody>\n",
       "    <tr>\n",
       "      <th>T-test</th>\n",
       "      <td>-2.983633</td>\n",
       "      <td>935.893141</td>\n",
       "      <td>two-sided</td>\n",
       "      <td>0.002922</td>\n",
       "      <td>[-576.0, -118.92]</td>\n",
       "      <td>0.171735</td>\n",
       "      <td>5.313</td>\n",
       "      <td>0.82371</td>\n",
       "    </tr>\n",
       "  </tbody>\n",
       "</table>\n",
       "</div>"
      ],
      "text/plain": [
       "               T         dof alternative     p-val              CI95%  \\\n",
       "T-test -2.983633  935.893141   two-sided  0.002922  [-576.0, -118.92]   \n",
       "\n",
       "         cohen-d   BF10    power  \n",
       "T-test  0.171735  5.313  0.82371  "
      ]
     },
     "execution_count": 31,
     "metadata": {},
     "output_type": "execute_result"
    }
   ],
   "source": [
    "# 이분산 가정된 t-검정을 실행합니다.\n",
    "pg.ttest(x = sp1, y = sp2, correction = True)"
   ]
  },
  {
   "cell_type": "code",
   "execution_count": 32,
   "id": "026fa973",
   "metadata": {
    "ExecuteTime": {
     "end_time": "2022-06-11T04:54:25.649600Z",
     "start_time": "2022-06-11T04:54:25.635731Z"
    }
   },
   "outputs": [
    {
     "data": {
      "text/html": [
       "<div>\n",
       "<style scoped>\n",
       "    .dataframe tbody tr th:only-of-type {\n",
       "        vertical-align: middle;\n",
       "    }\n",
       "\n",
       "    .dataframe tbody tr th {\n",
       "        vertical-align: top;\n",
       "    }\n",
       "\n",
       "    .dataframe thead th {\n",
       "        text-align: right;\n",
       "    }\n",
       "</style>\n",
       "<table border=\"1\" class=\"dataframe\">\n",
       "  <thead>\n",
       "    <tr style=\"text-align: right;\">\n",
       "      <th></th>\n",
       "      <th>U-val</th>\n",
       "      <th>alternative</th>\n",
       "      <th>p-val</th>\n",
       "      <th>RBC</th>\n",
       "      <th>CLES</th>\n",
       "    </tr>\n",
       "  </thead>\n",
       "  <tbody>\n",
       "    <tr>\n",
       "      <th>MWU</th>\n",
       "      <td>166376.0</td>\n",
       "      <td>two-sided</td>\n",
       "      <td>0.029849</td>\n",
       "      <td>0.074455</td>\n",
       "      <td>0.462773</td>\n",
       "    </tr>\n",
       "  </tbody>\n",
       "</table>\n",
       "</div>"
      ],
      "text/plain": [
       "        U-val alternative     p-val       RBC      CLES\n",
       "MWU  166376.0   two-sided  0.029849  0.074455  0.462773"
      ]
     },
     "execution_count": 32,
     "metadata": {},
     "output_type": "execute_result"
    }
   ],
   "source": [
    "# (정규성 가정 불만족) 맨-휘트니 U 검정을 실행합니다.\n",
    "pg.mwu(x = sp1, y = sp2)"
   ]
  },
  {
   "cell_type": "markdown",
   "id": "dd3028c8",
   "metadata": {},
   "source": [
    "### t-검정: Automatic"
   ]
  },
  {
   "cell_type": "code",
   "execution_count": 33,
   "id": "0f3415a8",
   "metadata": {
    "ExecuteTime": {
     "end_time": "2022-06-11T04:54:25.668589Z",
     "start_time": "2022-06-11T04:54:25.658240Z"
    }
   },
   "outputs": [
    {
     "data": {
      "text/html": [
       "<div>\n",
       "<style scoped>\n",
       "    .dataframe tbody tr th:only-of-type {\n",
       "        vertical-align: middle;\n",
       "    }\n",
       "\n",
       "    .dataframe tbody tr th {\n",
       "        vertical-align: top;\n",
       "    }\n",
       "\n",
       "    .dataframe thead th {\n",
       "        text-align: right;\n",
       "    }\n",
       "</style>\n",
       "<table border=\"1\" class=\"dataframe\">\n",
       "  <thead>\n",
       "    <tr style=\"text-align: right;\">\n",
       "      <th></th>\n",
       "      <th>W</th>\n",
       "      <th>pval</th>\n",
       "      <th>normal</th>\n",
       "    </tr>\n",
       "    <tr>\n",
       "      <th>Automatic</th>\n",
       "      <th></th>\n",
       "      <th></th>\n",
       "      <th></th>\n",
       "    </tr>\n",
       "  </thead>\n",
       "  <tbody>\n",
       "    <tr>\n",
       "      <th>0</th>\n",
       "      <td>0.981458</td>\n",
       "      <td>2.977123e-11</td>\n",
       "      <td>False</td>\n",
       "    </tr>\n",
       "    <tr>\n",
       "      <th>1</th>\n",
       "      <td>0.948419</td>\n",
       "      <td>5.997743e-03</td>\n",
       "      <td>False</td>\n",
       "    </tr>\n",
       "  </tbody>\n",
       "</table>\n",
       "</div>"
      ],
      "text/plain": [
       "                  W          pval  normal\n",
       "Automatic                                \n",
       "0          0.981458  2.977123e-11   False\n",
       "1          0.948419  5.997743e-03   False"
      ]
     },
     "execution_count": 33,
     "metadata": {},
     "output_type": "execute_result"
    }
   ],
   "source": [
    "# Automatic 범주별 Price의 정규성 검정을 실행합니다.\n",
    "pg.normality(data = df, dv = 'Price', group = 'Automatic', method = 'shapiro')"
   ]
  },
  {
   "cell_type": "code",
   "execution_count": 34,
   "id": "1602e35d",
   "metadata": {
    "ExecuteTime": {
     "end_time": "2022-06-11T04:54:25.679020Z",
     "start_time": "2022-06-11T04:54:25.670158Z"
    }
   },
   "outputs": [
    {
     "data": {
      "text/html": [
       "<div>\n",
       "<style scoped>\n",
       "    .dataframe tbody tr th:only-of-type {\n",
       "        vertical-align: middle;\n",
       "    }\n",
       "\n",
       "    .dataframe tbody tr th {\n",
       "        vertical-align: top;\n",
       "    }\n",
       "\n",
       "    .dataframe thead th {\n",
       "        text-align: right;\n",
       "    }\n",
       "</style>\n",
       "<table border=\"1\" class=\"dataframe\">\n",
       "  <thead>\n",
       "    <tr style=\"text-align: right;\">\n",
       "      <th></th>\n",
       "      <th>W</th>\n",
       "      <th>pval</th>\n",
       "      <th>equal_var</th>\n",
       "    </tr>\n",
       "  </thead>\n",
       "  <tbody>\n",
       "    <tr>\n",
       "      <th>levene</th>\n",
       "      <td>1.092962</td>\n",
       "      <td>0.296015</td>\n",
       "      <td>True</td>\n",
       "    </tr>\n",
       "  </tbody>\n",
       "</table>\n",
       "</div>"
      ],
      "text/plain": [
       "               W      pval  equal_var\n",
       "levene  1.092962  0.296015       True"
      ]
     },
     "execution_count": 34,
     "metadata": {},
     "output_type": "execute_result"
    }
   ],
   "source": [
    "# (정규성 가정 만족) Automatic 범주별 Price의 등분산성 검정을 실행합니다.\n",
    "pg.homoscedasticity(data = df, dv = 'Price', group = 'Automatic', method = 'levene')"
   ]
  },
  {
   "cell_type": "code",
   "execution_count": 35,
   "id": "47dc99f9",
   "metadata": {},
   "outputs": [],
   "source": [
    "# Automatic 범주별 Price로 시리즈를 생성합니다.\n",
    "sp1 = df['Price'][df['Automatic'].eq('0')]\n",
    "sp2 = df['Price'][df['Automatic'].eq('1')]"
   ]
  },
  {
   "cell_type": "code",
   "execution_count": 36,
   "id": "5ffc7d4a-ed0d-46e4-8d51-ae6fca89aefe",
   "metadata": {},
   "outputs": [
    {
     "name": "stdout",
     "output_type": "stream",
     "text": [
      "9676.575125208681\n",
      "10043.857142857143\n"
     ]
    }
   ],
   "source": [
    "# 두 시리즈의 평균을 확인합니다.\n",
    "print(sp1.mean())\n",
    "print(sp2.mean())"
   ]
  },
  {
   "cell_type": "code",
   "execution_count": 37,
   "id": "b56e7652",
   "metadata": {
    "ExecuteTime": {
     "end_time": "2022-06-11T04:54:25.697765Z",
     "start_time": "2022-06-11T04:54:25.685415Z"
    }
   },
   "outputs": [
    {
     "data": {
      "text/html": [
       "<div>\n",
       "<style scoped>\n",
       "    .dataframe tbody tr th:only-of-type {\n",
       "        vertical-align: middle;\n",
       "    }\n",
       "\n",
       "    .dataframe tbody tr th {\n",
       "        vertical-align: top;\n",
       "    }\n",
       "\n",
       "    .dataframe thead th {\n",
       "        text-align: right;\n",
       "    }\n",
       "</style>\n",
       "<table border=\"1\" class=\"dataframe\">\n",
       "  <thead>\n",
       "    <tr style=\"text-align: right;\">\n",
       "      <th></th>\n",
       "      <th>T</th>\n",
       "      <th>dof</th>\n",
       "      <th>alternative</th>\n",
       "      <th>p-val</th>\n",
       "      <th>CI95%</th>\n",
       "      <th>cohen-d</th>\n",
       "      <th>BF10</th>\n",
       "      <th>power</th>\n",
       "    </tr>\n",
       "  </thead>\n",
       "  <tbody>\n",
       "    <tr>\n",
       "      <th>T-test</th>\n",
       "      <td>-1.472702</td>\n",
       "      <td>1266</td>\n",
       "      <td>two-sided</td>\n",
       "      <td>0.14108</td>\n",
       "      <td>[-856.55, 121.99]</td>\n",
       "      <td>0.181091</td>\n",
       "      <td>0.377</td>\n",
       "      <td>0.312941</td>\n",
       "    </tr>\n",
       "  </tbody>\n",
       "</table>\n",
       "</div>"
      ],
      "text/plain": [
       "               T   dof alternative    p-val              CI95%   cohen-d  \\\n",
       "T-test -1.472702  1266   two-sided  0.14108  [-856.55, 121.99]  0.181091   \n",
       "\n",
       "         BF10     power  \n",
       "T-test  0.377  0.312941  "
      ]
     },
     "execution_count": 37,
     "metadata": {},
     "output_type": "execute_result"
    }
   ],
   "source": [
    "# 등분산 가정된 t-검정을 실행합니다.\n",
    "pg.ttest(x = sp1, y = sp2, correction = False)"
   ]
  },
  {
   "cell_type": "code",
   "execution_count": 38,
   "id": "ffb19d4a",
   "metadata": {
    "ExecuteTime": {
     "end_time": "2022-06-11T04:54:25.711243Z",
     "start_time": "2022-06-11T04:54:25.699261Z"
    }
   },
   "outputs": [
    {
     "data": {
      "text/html": [
       "<div>\n",
       "<style scoped>\n",
       "    .dataframe tbody tr th:only-of-type {\n",
       "        vertical-align: middle;\n",
       "    }\n",
       "\n",
       "    .dataframe tbody tr th {\n",
       "        vertical-align: top;\n",
       "    }\n",
       "\n",
       "    .dataframe thead th {\n",
       "        text-align: right;\n",
       "    }\n",
       "</style>\n",
       "<table border=\"1\" class=\"dataframe\">\n",
       "  <thead>\n",
       "    <tr style=\"text-align: right;\">\n",
       "      <th></th>\n",
       "      <th>T</th>\n",
       "      <th>dof</th>\n",
       "      <th>alternative</th>\n",
       "      <th>p-val</th>\n",
       "      <th>CI95%</th>\n",
       "      <th>cohen-d</th>\n",
       "      <th>BF10</th>\n",
       "      <th>power</th>\n",
       "    </tr>\n",
       "  </thead>\n",
       "  <tbody>\n",
       "    <tr>\n",
       "      <th>T-test</th>\n",
       "      <td>-1.567689</td>\n",
       "      <td>78.571012</td>\n",
       "      <td>two-sided</td>\n",
       "      <td>0.120972</td>\n",
       "      <td>[-833.65, 99.08]</td>\n",
       "      <td>0.181091</td>\n",
       "      <td>0.433</td>\n",
       "      <td>0.312941</td>\n",
       "    </tr>\n",
       "  </tbody>\n",
       "</table>\n",
       "</div>"
      ],
      "text/plain": [
       "               T        dof alternative     p-val             CI95%   cohen-d  \\\n",
       "T-test -1.567689  78.571012   two-sided  0.120972  [-833.65, 99.08]  0.181091   \n",
       "\n",
       "         BF10     power  \n",
       "T-test  0.433  0.312941  "
      ]
     },
     "execution_count": 38,
     "metadata": {},
     "output_type": "execute_result"
    }
   ],
   "source": [
    "# 이분산 가정된 t-검정을 실행합니다.\n",
    "pg.ttest(x = sp1, y = sp2, correction = True)"
   ]
  },
  {
   "cell_type": "code",
   "execution_count": 39,
   "id": "64004912",
   "metadata": {
    "ExecuteTime": {
     "end_time": "2022-06-11T04:54:25.721909Z",
     "start_time": "2022-06-11T04:54:25.712937Z"
    }
   },
   "outputs": [
    {
     "data": {
      "text/html": [
       "<div>\n",
       "<style scoped>\n",
       "    .dataframe tbody tr th:only-of-type {\n",
       "        vertical-align: middle;\n",
       "    }\n",
       "\n",
       "    .dataframe tbody tr th {\n",
       "        vertical-align: top;\n",
       "    }\n",
       "\n",
       "    .dataframe thead th {\n",
       "        text-align: right;\n",
       "    }\n",
       "</style>\n",
       "<table border=\"1\" class=\"dataframe\">\n",
       "  <thead>\n",
       "    <tr style=\"text-align: right;\">\n",
       "      <th></th>\n",
       "      <th>U-val</th>\n",
       "      <th>alternative</th>\n",
       "      <th>p-val</th>\n",
       "      <th>RBC</th>\n",
       "      <th>CLES</th>\n",
       "    </tr>\n",
       "  </thead>\n",
       "  <tbody>\n",
       "    <tr>\n",
       "      <th>MWU</th>\n",
       "      <td>37216.5</td>\n",
       "      <td>two-sided</td>\n",
       "      <td>0.113249</td>\n",
       "      <td>0.112414</td>\n",
       "      <td>0.443793</td>\n",
       "    </tr>\n",
       "  </tbody>\n",
       "</table>\n",
       "</div>"
      ],
      "text/plain": [
       "       U-val alternative     p-val       RBC      CLES\n",
       "MWU  37216.5   two-sided  0.113249  0.112414  0.443793"
      ]
     },
     "execution_count": 39,
     "metadata": {},
     "output_type": "execute_result"
    }
   ],
   "source": [
    "# (정규성 가정 불만족) 맨-휘트니 U 검정을 실행합니다.\n",
    "pg.mwu(x = sp1, y = sp2)"
   ]
  },
  {
   "cell_type": "markdown",
   "id": "674f9dfa",
   "metadata": {},
   "source": [
    "### 모평균 검정"
   ]
  },
  {
   "cell_type": "code",
   "execution_count": 40,
   "id": "47bad317",
   "metadata": {},
   "outputs": [],
   "source": [
    "# 단일표본, 대응표본 t-검정에 사용할 데이터프레임 df1을 생성합니다.\n",
    "df1 = pd.read_csv(filepath_or_buffer = 'https://bit.ly/ttest_dataset')"
   ]
  },
  {
   "cell_type": "code",
   "execution_count": 41,
   "id": "7be08845",
   "metadata": {},
   "outputs": [
    {
     "name": "stdout",
     "output_type": "stream",
     "text": [
      "<class 'pandas.core.frame.DataFrame'>\n",
      "RangeIndex: 30 entries, 0 to 29\n",
      "Data columns (total 3 columns):\n",
      " #   Column  Non-Null Count  Dtype  \n",
      "---  ------  --------------  -----  \n",
      " 0   id      30 non-null     int64  \n",
      " 1   before  30 non-null     float64\n",
      " 2   after   30 non-null     float64\n",
      "dtypes: float64(2), int64(1)\n",
      "memory usage: 848.0 bytes\n"
     ]
    }
   ],
   "source": [
    "# df1의 정보를 확인합니다.\n",
    "df1.info()"
   ]
  },
  {
   "cell_type": "code",
   "execution_count": 42,
   "id": "515b5da8",
   "metadata": {},
   "outputs": [
    {
     "data": {
      "text/html": [
       "<div>\n",
       "<style scoped>\n",
       "    .dataframe tbody tr th:only-of-type {\n",
       "        vertical-align: middle;\n",
       "    }\n",
       "\n",
       "    .dataframe tbody tr th {\n",
       "        vertical-align: top;\n",
       "    }\n",
       "\n",
       "    .dataframe thead th {\n",
       "        text-align: right;\n",
       "    }\n",
       "</style>\n",
       "<table border=\"1\" class=\"dataframe\">\n",
       "  <thead>\n",
       "    <tr style=\"text-align: right;\">\n",
       "      <th></th>\n",
       "      <th>id</th>\n",
       "      <th>before</th>\n",
       "      <th>after</th>\n",
       "    </tr>\n",
       "  </thead>\n",
       "  <tbody>\n",
       "    <tr>\n",
       "      <th>0</th>\n",
       "      <td>1</td>\n",
       "      <td>88.409617</td>\n",
       "      <td>89.047771</td>\n",
       "    </tr>\n",
       "    <tr>\n",
       "      <th>1</th>\n",
       "      <td>2</td>\n",
       "      <td>84.740057</td>\n",
       "      <td>83.796276</td>\n",
       "    </tr>\n",
       "    <tr>\n",
       "      <th>2</th>\n",
       "      <td>3</td>\n",
       "      <td>106.925242</td>\n",
       "      <td>105.782969</td>\n",
       "    </tr>\n",
       "    <tr>\n",
       "      <th>3</th>\n",
       "      <td>4</td>\n",
       "      <td>93.276659</td>\n",
       "      <td>89.965632</td>\n",
       "    </tr>\n",
       "    <tr>\n",
       "      <th>4</th>\n",
       "      <td>5</td>\n",
       "      <td>104.575636</td>\n",
       "      <td>103.410691</td>\n",
       "    </tr>\n",
       "  </tbody>\n",
       "</table>\n",
       "</div>"
      ],
      "text/plain": [
       "   id      before       after\n",
       "0   1   88.409617   89.047771\n",
       "1   2   84.740057   83.796276\n",
       "2   3  106.925242  105.782969\n",
       "3   4   93.276659   89.965632\n",
       "4   5  104.575636  103.410691"
      ]
     },
     "execution_count": 42,
     "metadata": {},
     "output_type": "execute_result"
    }
   ],
   "source": [
    "# df1의 처음 5행을 출력합니다.\n",
    "df1.head()"
   ]
  },
  {
   "cell_type": "code",
   "execution_count": 43,
   "id": "a50646fc",
   "metadata": {},
   "outputs": [
    {
     "data": {
      "text/html": [
       "<div>\n",
       "<style scoped>\n",
       "    .dataframe tbody tr th:only-of-type {\n",
       "        vertical-align: middle;\n",
       "    }\n",
       "\n",
       "    .dataframe tbody tr th {\n",
       "        vertical-align: top;\n",
       "    }\n",
       "\n",
       "    .dataframe thead th {\n",
       "        text-align: right;\n",
       "    }\n",
       "</style>\n",
       "<table border=\"1\" class=\"dataframe\">\n",
       "  <thead>\n",
       "    <tr style=\"text-align: right;\">\n",
       "      <th></th>\n",
       "      <th>id</th>\n",
       "      <th>before</th>\n",
       "      <th>after</th>\n",
       "    </tr>\n",
       "  </thead>\n",
       "  <tbody>\n",
       "    <tr>\n",
       "      <th>count</th>\n",
       "      <td>30.000000</td>\n",
       "      <td>30.000000</td>\n",
       "      <td>30.000000</td>\n",
       "    </tr>\n",
       "    <tr>\n",
       "      <th>mean</th>\n",
       "      <td>15.500000</td>\n",
       "      <td>86.331409</td>\n",
       "      <td>85.325118</td>\n",
       "    </tr>\n",
       "    <tr>\n",
       "      <th>std</th>\n",
       "      <td>8.803408</td>\n",
       "      <td>9.918105</td>\n",
       "      <td>9.779472</td>\n",
       "    </tr>\n",
       "    <tr>\n",
       "      <th>min</th>\n",
       "      <td>1.000000</td>\n",
       "      <td>67.503561</td>\n",
       "      <td>65.462936</td>\n",
       "    </tr>\n",
       "    <tr>\n",
       "      <th>25%</th>\n",
       "      <td>8.250000</td>\n",
       "      <td>80.123625</td>\n",
       "      <td>79.998144</td>\n",
       "    </tr>\n",
       "    <tr>\n",
       "      <th>50%</th>\n",
       "      <td>15.500000</td>\n",
       "      <td>86.617928</td>\n",
       "      <td>86.149042</td>\n",
       "    </tr>\n",
       "    <tr>\n",
       "      <th>75%</th>\n",
       "      <td>22.750000</td>\n",
       "      <td>91.690221</td>\n",
       "      <td>90.259867</td>\n",
       "    </tr>\n",
       "    <tr>\n",
       "      <th>max</th>\n",
       "      <td>30.000000</td>\n",
       "      <td>106.925242</td>\n",
       "      <td>105.782969</td>\n",
       "    </tr>\n",
       "  </tbody>\n",
       "</table>\n",
       "</div>"
      ],
      "text/plain": [
       "              id      before       after\n",
       "count  30.000000   30.000000   30.000000\n",
       "mean   15.500000   86.331409   85.325118\n",
       "std     8.803408    9.918105    9.779472\n",
       "min     1.000000   67.503561   65.462936\n",
       "25%     8.250000   80.123625   79.998144\n",
       "50%    15.500000   86.617928   86.149042\n",
       "75%    22.750000   91.690221   90.259867\n",
       "max    30.000000  106.925242  105.782969"
      ]
     },
     "execution_count": 43,
     "metadata": {},
     "output_type": "execute_result"
    }
   ],
   "source": [
    "# df1 수치형 변수의 기술통계량을 확인합니다.\n",
    "df1.describe()"
   ]
  },
  {
   "cell_type": "code",
   "execution_count": 44,
   "id": "4a24470d",
   "metadata": {},
   "outputs": [
    {
     "data": {
      "text/plain": [
       "0.9512473940849304"
      ]
     },
     "execution_count": 44,
     "metadata": {},
     "output_type": "execute_result"
    }
   ],
   "source": [
    "# before의 정규성 검정을 실행합니다.\n",
    "stats.shapiro(x = df1['before'])[1]"
   ]
  },
  {
   "cell_type": "code",
   "execution_count": 45,
   "id": "82326f26",
   "metadata": {},
   "outputs": [
    {
     "data": {
      "text/html": [
       "<div>\n",
       "<style scoped>\n",
       "    .dataframe tbody tr th:only-of-type {\n",
       "        vertical-align: middle;\n",
       "    }\n",
       "\n",
       "    .dataframe tbody tr th {\n",
       "        vertical-align: top;\n",
       "    }\n",
       "\n",
       "    .dataframe thead th {\n",
       "        text-align: right;\n",
       "    }\n",
       "</style>\n",
       "<table border=\"1\" class=\"dataframe\">\n",
       "  <thead>\n",
       "    <tr style=\"text-align: right;\">\n",
       "      <th></th>\n",
       "      <th>T</th>\n",
       "      <th>dof</th>\n",
       "      <th>alternative</th>\n",
       "      <th>p-val</th>\n",
       "      <th>CI95%</th>\n",
       "      <th>cohen-d</th>\n",
       "      <th>BF10</th>\n",
       "      <th>power</th>\n",
       "    </tr>\n",
       "  </thead>\n",
       "  <tbody>\n",
       "    <tr>\n",
       "      <th>T-test</th>\n",
       "      <td>-2.025961</td>\n",
       "      <td>29</td>\n",
       "      <td>two-sided</td>\n",
       "      <td>0.052056</td>\n",
       "      <td>[82.63, 90.03]</td>\n",
       "      <td>0.369888</td>\n",
       "      <td>1.159</td>\n",
       "      <td>0.499536</td>\n",
       "    </tr>\n",
       "  </tbody>\n",
       "</table>\n",
       "</div>"
      ],
      "text/plain": [
       "               T  dof alternative     p-val           CI95%   cohen-d   BF10  \\\n",
       "T-test -2.025961   29   two-sided  0.052056  [82.63, 90.03]  0.369888  1.159   \n",
       "\n",
       "           power  \n",
       "T-test  0.499536  "
      ]
     },
     "execution_count": 45,
     "metadata": {},
     "output_type": "execute_result"
    }
   ],
   "source": [
    "# 단일표본 t-검정을 실행합니다.(양측검정)\n",
    "pg.ttest(x = df1['before'], y = 90)"
   ]
  },
  {
   "cell_type": "code",
   "execution_count": 46,
   "id": "3c66b562",
   "metadata": {},
   "outputs": [
    {
     "data": {
      "text/html": [
       "<div>\n",
       "<style scoped>\n",
       "    .dataframe tbody tr th:only-of-type {\n",
       "        vertical-align: middle;\n",
       "    }\n",
       "\n",
       "    .dataframe tbody tr th {\n",
       "        vertical-align: top;\n",
       "    }\n",
       "\n",
       "    .dataframe thead th {\n",
       "        text-align: right;\n",
       "    }\n",
       "</style>\n",
       "<table border=\"1\" class=\"dataframe\">\n",
       "  <thead>\n",
       "    <tr style=\"text-align: right;\">\n",
       "      <th></th>\n",
       "      <th>T</th>\n",
       "      <th>dof</th>\n",
       "      <th>alternative</th>\n",
       "      <th>p-val</th>\n",
       "      <th>CI95%</th>\n",
       "      <th>cohen-d</th>\n",
       "      <th>BF10</th>\n",
       "      <th>power</th>\n",
       "    </tr>\n",
       "  </thead>\n",
       "  <tbody>\n",
       "    <tr>\n",
       "      <th>T-test</th>\n",
       "      <td>-2.025961</td>\n",
       "      <td>29</td>\n",
       "      <td>less</td>\n",
       "      <td>0.026028</td>\n",
       "      <td>[-inf, 89.41]</td>\n",
       "      <td>0.369888</td>\n",
       "      <td>2.318</td>\n",
       "      <td>0.63062</td>\n",
       "    </tr>\n",
       "  </tbody>\n",
       "</table>\n",
       "</div>"
      ],
      "text/plain": [
       "               T  dof alternative     p-val          CI95%   cohen-d   BF10  \\\n",
       "T-test -2.025961   29        less  0.026028  [-inf, 89.41]  0.369888  2.318   \n",
       "\n",
       "          power  \n",
       "T-test  0.63062  "
      ]
     },
     "execution_count": 46,
     "metadata": {},
     "output_type": "execute_result"
    }
   ],
   "source": [
    "# 단일표본 t-검정을 실행합니다.(단측검정)\n",
    "pg.ttest(x = df1['before'], y = 90, alternative = 'less')"
   ]
  },
  {
   "cell_type": "code",
   "execution_count": 47,
   "id": "1e461002",
   "metadata": {},
   "outputs": [
    {
     "data": {
      "text/plain": [
       "id        0.266230\n",
       "before    0.951247\n",
       "after     0.939600\n",
       "dtype: float64"
      ]
     },
     "execution_count": 47,
     "metadata": {},
     "output_type": "execute_result"
    }
   ],
   "source": [
    "# df1의 열별 정규성 검정을 실행합니다.\n",
    "df1.apply(func = lambda x: stats.shapiro(x)[1])"
   ]
  },
  {
   "cell_type": "code",
   "execution_count": 48,
   "id": "36735b2b",
   "metadata": {},
   "outputs": [
    {
     "data": {
      "text/html": [
       "<div>\n",
       "<style scoped>\n",
       "    .dataframe tbody tr th:only-of-type {\n",
       "        vertical-align: middle;\n",
       "    }\n",
       "\n",
       "    .dataframe tbody tr th {\n",
       "        vertical-align: top;\n",
       "    }\n",
       "\n",
       "    .dataframe thead th {\n",
       "        text-align: right;\n",
       "    }\n",
       "</style>\n",
       "<table border=\"1\" class=\"dataframe\">\n",
       "  <thead>\n",
       "    <tr style=\"text-align: right;\">\n",
       "      <th></th>\n",
       "      <th>T</th>\n",
       "      <th>dof</th>\n",
       "      <th>alternative</th>\n",
       "      <th>p-val</th>\n",
       "      <th>CI95%</th>\n",
       "      <th>cohen-d</th>\n",
       "      <th>BF10</th>\n",
       "      <th>power</th>\n",
       "    </tr>\n",
       "  </thead>\n",
       "  <tbody>\n",
       "    <tr>\n",
       "      <th>T-test</th>\n",
       "      <td>5.53666</td>\n",
       "      <td>29</td>\n",
       "      <td>two-sided</td>\n",
       "      <td>0.000006</td>\n",
       "      <td>[0.63, 1.38]</td>\n",
       "      <td>0.102172</td>\n",
       "      <td>3529.131</td>\n",
       "      <td>0.084186</td>\n",
       "    </tr>\n",
       "  </tbody>\n",
       "</table>\n",
       "</div>"
      ],
      "text/plain": [
       "              T  dof alternative     p-val         CI95%   cohen-d      BF10  \\\n",
       "T-test  5.53666   29   two-sided  0.000006  [0.63, 1.38]  0.102172  3529.131   \n",
       "\n",
       "           power  \n",
       "T-test  0.084186  "
      ]
     },
     "execution_count": 48,
     "metadata": {},
     "output_type": "execute_result"
    }
   ],
   "source": [
    "# 대응표본 t-검정을 실행합니다.(양측검정)\n",
    "pg.ttest(x = df1['before'], y = df1['after'], paired = True)"
   ]
  },
  {
   "cell_type": "code",
   "execution_count": 49,
   "id": "6c723d9c",
   "metadata": {},
   "outputs": [
    {
     "data": {
      "text/html": [
       "<div>\n",
       "<style scoped>\n",
       "    .dataframe tbody tr th:only-of-type {\n",
       "        vertical-align: middle;\n",
       "    }\n",
       "\n",
       "    .dataframe tbody tr th {\n",
       "        vertical-align: top;\n",
       "    }\n",
       "\n",
       "    .dataframe thead th {\n",
       "        text-align: right;\n",
       "    }\n",
       "</style>\n",
       "<table border=\"1\" class=\"dataframe\">\n",
       "  <thead>\n",
       "    <tr style=\"text-align: right;\">\n",
       "      <th></th>\n",
       "      <th>T</th>\n",
       "      <th>dof</th>\n",
       "      <th>alternative</th>\n",
       "      <th>p-val</th>\n",
       "      <th>CI95%</th>\n",
       "      <th>cohen-d</th>\n",
       "      <th>BF10</th>\n",
       "      <th>power</th>\n",
       "    </tr>\n",
       "  </thead>\n",
       "  <tbody>\n",
       "    <tr>\n",
       "      <th>T-test</th>\n",
       "      <td>5.53666</td>\n",
       "      <td>29</td>\n",
       "      <td>greater</td>\n",
       "      <td>0.000003</td>\n",
       "      <td>[0.7, inf]</td>\n",
       "      <td>0.102172</td>\n",
       "      <td>7058.261</td>\n",
       "      <td>0.136056</td>\n",
       "    </tr>\n",
       "  </tbody>\n",
       "</table>\n",
       "</div>"
      ],
      "text/plain": [
       "              T  dof alternative     p-val       CI95%   cohen-d      BF10  \\\n",
       "T-test  5.53666   29     greater  0.000003  [0.7, inf]  0.102172  7058.261   \n",
       "\n",
       "           power  \n",
       "T-test  0.136056  "
      ]
     },
     "execution_count": 49,
     "metadata": {},
     "output_type": "execute_result"
    }
   ],
   "source": [
    "# 대응표본 t-검정을 실행합니다.(단측검정)\n",
    "pg.ttest(x = df1['before'], y = df1['after'], paired = True, alternative = 'greater')"
   ]
  },
  {
   "cell_type": "markdown",
   "id": "43ddbade",
   "metadata": {},
   "source": [
    "### 분산분석: FuelType"
   ]
  },
  {
   "cell_type": "code",
   "execution_count": 50,
   "id": "65fb2245",
   "metadata": {
    "ExecuteTime": {
     "end_time": "2022-06-11T04:54:25.739361Z",
     "start_time": "2022-06-11T04:54:25.723754Z"
    }
   },
   "outputs": [
    {
     "data": {
      "text/html": [
       "<div>\n",
       "<style scoped>\n",
       "    .dataframe tbody tr th:only-of-type {\n",
       "        vertical-align: middle;\n",
       "    }\n",
       "\n",
       "    .dataframe tbody tr th {\n",
       "        vertical-align: top;\n",
       "    }\n",
       "\n",
       "    .dataframe thead th {\n",
       "        text-align: right;\n",
       "    }\n",
       "</style>\n",
       "<table border=\"1\" class=\"dataframe\">\n",
       "  <thead>\n",
       "    <tr style=\"text-align: right;\">\n",
       "      <th></th>\n",
       "      <th>W</th>\n",
       "      <th>pval</th>\n",
       "      <th>normal</th>\n",
       "    </tr>\n",
       "    <tr>\n",
       "      <th>FuelType</th>\n",
       "      <th></th>\n",
       "      <th></th>\n",
       "      <th></th>\n",
       "    </tr>\n",
       "  </thead>\n",
       "  <tbody>\n",
       "    <tr>\n",
       "      <th>Diesel</th>\n",
       "      <td>0.955971</td>\n",
       "      <td>4.250351e-04</td>\n",
       "      <td>False</td>\n",
       "    </tr>\n",
       "    <tr>\n",
       "      <th>Petrol</th>\n",
       "      <td>0.978165</td>\n",
       "      <td>5.503549e-12</td>\n",
       "      <td>False</td>\n",
       "    </tr>\n",
       "    <tr>\n",
       "      <th>CNG</th>\n",
       "      <td>0.952408</td>\n",
       "      <td>4.957061e-01</td>\n",
       "      <td>True</td>\n",
       "    </tr>\n",
       "  </tbody>\n",
       "</table>\n",
       "</div>"
      ],
      "text/plain": [
       "                 W          pval  normal\n",
       "FuelType                                \n",
       "Diesel    0.955971  4.250351e-04   False\n",
       "Petrol    0.978165  5.503549e-12   False\n",
       "CNG       0.952408  4.957061e-01    True"
      ]
     },
     "execution_count": 50,
     "metadata": {},
     "output_type": "execute_result"
    }
   ],
   "source": [
    "# FuelType 범주별 Price의 정규성 검정을 실행합니다.\n",
    "pg.normality(data = df, dv = 'Price', group = 'FuelType', method = 'shapiro')"
   ]
  },
  {
   "cell_type": "code",
   "execution_count": 51,
   "id": "27999cf7",
   "metadata": {
    "ExecuteTime": {
     "end_time": "2022-06-11T04:54:25.749768Z",
     "start_time": "2022-06-11T04:54:25.741463Z"
    }
   },
   "outputs": [
    {
     "data": {
      "text/html": [
       "<div>\n",
       "<style scoped>\n",
       "    .dataframe tbody tr th:only-of-type {\n",
       "        vertical-align: middle;\n",
       "    }\n",
       "\n",
       "    .dataframe tbody tr th {\n",
       "        vertical-align: top;\n",
       "    }\n",
       "\n",
       "    .dataframe thead th {\n",
       "        text-align: right;\n",
       "    }\n",
       "</style>\n",
       "<table border=\"1\" class=\"dataframe\">\n",
       "  <thead>\n",
       "    <tr style=\"text-align: right;\">\n",
       "      <th></th>\n",
       "      <th>W</th>\n",
       "      <th>pval</th>\n",
       "      <th>equal_var</th>\n",
       "    </tr>\n",
       "  </thead>\n",
       "  <tbody>\n",
       "    <tr>\n",
       "      <th>levene</th>\n",
       "      <td>6.497893</td>\n",
       "      <td>0.001557</td>\n",
       "      <td>False</td>\n",
       "    </tr>\n",
       "  </tbody>\n",
       "</table>\n",
       "</div>"
      ],
      "text/plain": [
       "               W      pval  equal_var\n",
       "levene  6.497893  0.001557      False"
      ]
     },
     "execution_count": 51,
     "metadata": {},
     "output_type": "execute_result"
    }
   ],
   "source": [
    "# (정규성 가정 만족) FuelType 범주별 Price의 등분산성 검정을 실행합니다.\n",
    "pg.homoscedasticity(data = df, dv = 'Price', group = 'FuelType', method = 'levene')"
   ]
  },
  {
   "cell_type": "code",
   "execution_count": 52,
   "id": "c96538b5",
   "metadata": {
    "ExecuteTime": {
     "end_time": "2022-06-11T04:54:25.765131Z",
     "start_time": "2022-06-11T04:54:25.751414Z"
    }
   },
   "outputs": [
    {
     "data": {
      "text/html": [
       "<div>\n",
       "<style scoped>\n",
       "    .dataframe tbody tr th:only-of-type {\n",
       "        vertical-align: middle;\n",
       "    }\n",
       "\n",
       "    .dataframe tbody tr th {\n",
       "        vertical-align: top;\n",
       "    }\n",
       "\n",
       "    .dataframe thead th {\n",
       "        text-align: right;\n",
       "    }\n",
       "</style>\n",
       "<table border=\"1\" class=\"dataframe\">\n",
       "  <thead>\n",
       "    <tr style=\"text-align: right;\">\n",
       "      <th></th>\n",
       "      <th>Source</th>\n",
       "      <th>ddof1</th>\n",
       "      <th>ddof2</th>\n",
       "      <th>F</th>\n",
       "      <th>p-unc</th>\n",
       "      <th>np2</th>\n",
       "    </tr>\n",
       "  </thead>\n",
       "  <tbody>\n",
       "    <tr>\n",
       "      <th>0</th>\n",
       "      <td>FuelType</td>\n",
       "      <td>2</td>\n",
       "      <td>1265</td>\n",
       "      <td>3.982748</td>\n",
       "      <td>0.018869</td>\n",
       "      <td>0.006257</td>\n",
       "    </tr>\n",
       "  </tbody>\n",
       "</table>\n",
       "</div>"
      ],
      "text/plain": [
       "     Source  ddof1  ddof2         F     p-unc       np2\n",
       "0  FuelType      2   1265  3.982748  0.018869  0.006257"
      ]
     },
     "execution_count": 52,
     "metadata": {},
     "output_type": "execute_result"
    }
   ],
   "source": [
    "# 등분산 가정된 분산분석을 실행합니다.\n",
    "pg.anova(data = df, dv = 'Price', between = 'FuelType')"
   ]
  },
  {
   "cell_type": "code",
   "execution_count": 53,
   "id": "c1583d97",
   "metadata": {
    "ExecuteTime": {
     "end_time": "2022-06-11T04:54:25.780675Z",
     "start_time": "2022-06-11T04:54:25.767226Z"
    }
   },
   "outputs": [
    {
     "data": {
      "text/html": [
       "<div>\n",
       "<style scoped>\n",
       "    .dataframe tbody tr th:only-of-type {\n",
       "        vertical-align: middle;\n",
       "    }\n",
       "\n",
       "    .dataframe tbody tr th {\n",
       "        vertical-align: top;\n",
       "    }\n",
       "\n",
       "    .dataframe thead th {\n",
       "        text-align: right;\n",
       "    }\n",
       "</style>\n",
       "<table border=\"1\" class=\"dataframe\">\n",
       "  <thead>\n",
       "    <tr style=\"text-align: right;\">\n",
       "      <th></th>\n",
       "      <th>Source</th>\n",
       "      <th>ddof1</th>\n",
       "      <th>ddof2</th>\n",
       "      <th>F</th>\n",
       "      <th>p-unc</th>\n",
       "      <th>np2</th>\n",
       "    </tr>\n",
       "  </thead>\n",
       "  <tbody>\n",
       "    <tr>\n",
       "      <th>0</th>\n",
       "      <td>FuelType</td>\n",
       "      <td>2</td>\n",
       "      <td>38.941548</td>\n",
       "      <td>2.611953</td>\n",
       "      <td>0.086207</td>\n",
       "      <td>0.006257</td>\n",
       "    </tr>\n",
       "  </tbody>\n",
       "</table>\n",
       "</div>"
      ],
      "text/plain": [
       "     Source  ddof1      ddof2         F     p-unc       np2\n",
       "0  FuelType      2  38.941548  2.611953  0.086207  0.006257"
      ]
     },
     "execution_count": 53,
     "metadata": {},
     "output_type": "execute_result"
    }
   ],
   "source": [
    "# 이분산 가정된 분산분석을 실행합니다.\n",
    "pg.welch_anova(data = df, dv = 'Price', between = 'FuelType')"
   ]
  },
  {
   "cell_type": "code",
   "execution_count": 54,
   "id": "2c99c89a",
   "metadata": {
    "ExecuteTime": {
     "end_time": "2022-06-11T04:54:25.791764Z",
     "start_time": "2022-06-11T04:54:25.782273Z"
    }
   },
   "outputs": [
    {
     "data": {
      "text/html": [
       "<div>\n",
       "<style scoped>\n",
       "    .dataframe tbody tr th:only-of-type {\n",
       "        vertical-align: middle;\n",
       "    }\n",
       "\n",
       "    .dataframe tbody tr th {\n",
       "        vertical-align: top;\n",
       "    }\n",
       "\n",
       "    .dataframe thead th {\n",
       "        text-align: right;\n",
       "    }\n",
       "</style>\n",
       "<table border=\"1\" class=\"dataframe\">\n",
       "  <thead>\n",
       "    <tr style=\"text-align: right;\">\n",
       "      <th></th>\n",
       "      <th>Source</th>\n",
       "      <th>ddof1</th>\n",
       "      <th>H</th>\n",
       "      <th>p-unc</th>\n",
       "    </tr>\n",
       "  </thead>\n",
       "  <tbody>\n",
       "    <tr>\n",
       "      <th>Kruskal</th>\n",
       "      <td>FuelType</td>\n",
       "      <td>2</td>\n",
       "      <td>10.47472</td>\n",
       "      <td>0.005314</td>\n",
       "    </tr>\n",
       "  </tbody>\n",
       "</table>\n",
       "</div>"
      ],
      "text/plain": [
       "           Source  ddof1         H     p-unc\n",
       "Kruskal  FuelType      2  10.47472  0.005314"
      ]
     },
     "execution_count": 54,
     "metadata": {},
     "output_type": "execute_result"
    }
   ],
   "source": [
    "# (정규성 가정 불만족) 크루스칼-왈리스 순위합 검정을 실행합니다.\n",
    "pg.kruskal(data = df, dv = 'Price', between = 'FuelType')"
   ]
  },
  {
   "cell_type": "markdown",
   "id": "dffa2197-e3dd-428d-a1f7-a20c501f8798",
   "metadata": {},
   "source": [
    "### 사후분석(다중비교)"
   ]
  },
  {
   "cell_type": "code",
   "execution_count": 55,
   "id": "b06a896b-eab1-431c-9844-46337776f322",
   "metadata": {},
   "outputs": [
    {
     "data": {
      "text/html": [
       "<div>\n",
       "<style scoped>\n",
       "    .dataframe tbody tr th:only-of-type {\n",
       "        vertical-align: middle;\n",
       "    }\n",
       "\n",
       "    .dataframe tbody tr th {\n",
       "        vertical-align: top;\n",
       "    }\n",
       "\n",
       "    .dataframe thead th {\n",
       "        text-align: right;\n",
       "    }\n",
       "</style>\n",
       "<table border=\"1\" class=\"dataframe\">\n",
       "  <thead>\n",
       "    <tr style=\"text-align: right;\">\n",
       "      <th></th>\n",
       "      <th>Diesel</th>\n",
       "      <th>Petrol</th>\n",
       "      <th>CNG</th>\n",
       "    </tr>\n",
       "  </thead>\n",
       "  <tbody>\n",
       "    <tr>\n",
       "      <th>Diesel</th>\n",
       "      <td>1.000000</td>\n",
       "      <td>0.016843</td>\n",
       "      <td>1.0</td>\n",
       "    </tr>\n",
       "    <tr>\n",
       "      <th>Petrol</th>\n",
       "      <td>0.016843</td>\n",
       "      <td>1.000000</td>\n",
       "      <td>1.0</td>\n",
       "    </tr>\n",
       "    <tr>\n",
       "      <th>CNG</th>\n",
       "      <td>1.000000</td>\n",
       "      <td>1.000000</td>\n",
       "      <td>1.0</td>\n",
       "    </tr>\n",
       "  </tbody>\n",
       "</table>\n",
       "</div>"
      ],
      "text/plain": [
       "          Diesel    Petrol  CNG\n",
       "Diesel  1.000000  0.016843  1.0\n",
       "Petrol  0.016843  1.000000  1.0\n",
       "CNG     1.000000  1.000000  1.0"
      ]
     },
     "execution_count": 55,
     "metadata": {},
     "output_type": "execute_result"
    }
   ],
   "source": [
    "# Bonferroni 방법으로 사후분석을 실행합니다.\n",
    "sp.posthoc_ttest(a = df, val_col = 'Price', group_col = 'FuelType', \n",
    "                 p_adjust = 'bonferroni')"
   ]
  },
  {
   "cell_type": "code",
   "execution_count": 56,
   "id": "4722e034",
   "metadata": {
    "ExecuteTime": {
     "end_time": "2022-06-11T04:54:25.896194Z",
     "start_time": "2022-06-11T04:54:25.794951Z"
    }
   },
   "outputs": [
    {
     "data": {
      "text/html": [
       "<div>\n",
       "<style scoped>\n",
       "    .dataframe tbody tr th:only-of-type {\n",
       "        vertical-align: middle;\n",
       "    }\n",
       "\n",
       "    .dataframe tbody tr th {\n",
       "        vertical-align: top;\n",
       "    }\n",
       "\n",
       "    .dataframe thead th {\n",
       "        text-align: right;\n",
       "    }\n",
       "</style>\n",
       "<table border=\"1\" class=\"dataframe\">\n",
       "  <thead>\n",
       "    <tr style=\"text-align: right;\">\n",
       "      <th></th>\n",
       "      <th>Diesel</th>\n",
       "      <th>Petrol</th>\n",
       "      <th>CNG</th>\n",
       "    </tr>\n",
       "  </thead>\n",
       "  <tbody>\n",
       "    <tr>\n",
       "      <th>Diesel</th>\n",
       "      <td>1.000000</td>\n",
       "      <td>0.015915</td>\n",
       "      <td>0.900000</td>\n",
       "    </tr>\n",
       "    <tr>\n",
       "      <th>Petrol</th>\n",
       "      <td>0.015915</td>\n",
       "      <td>1.000000</td>\n",
       "      <td>0.759308</td>\n",
       "    </tr>\n",
       "    <tr>\n",
       "      <th>CNG</th>\n",
       "      <td>0.900000</td>\n",
       "      <td>0.759308</td>\n",
       "      <td>1.000000</td>\n",
       "    </tr>\n",
       "  </tbody>\n",
       "</table>\n",
       "</div>"
      ],
      "text/plain": [
       "          Diesel    Petrol       CNG\n",
       "Diesel  1.000000  0.015915  0.900000\n",
       "Petrol  0.015915  1.000000  0.759308\n",
       "CNG     0.900000  0.759308  1.000000"
      ]
     },
     "execution_count": 56,
     "metadata": {},
     "output_type": "execute_result"
    }
   ],
   "source": [
    "# Tukey 방법으로 사후분석을 실행합니다.\n",
    "sp.posthoc_tukey(a = df, val_col = 'Price', group_col = 'FuelType')"
   ]
  },
  {
   "cell_type": "code",
   "execution_count": 57,
   "id": "66fccc1e-cc2b-4034-881b-6568a0f4955f",
   "metadata": {},
   "outputs": [
    {
     "data": {
      "text/html": [
       "<div>\n",
       "<style scoped>\n",
       "    .dataframe tbody tr th:only-of-type {\n",
       "        vertical-align: middle;\n",
       "    }\n",
       "\n",
       "    .dataframe tbody tr th {\n",
       "        vertical-align: top;\n",
       "    }\n",
       "\n",
       "    .dataframe thead th {\n",
       "        text-align: right;\n",
       "    }\n",
       "</style>\n",
       "<table border=\"1\" class=\"dataframe\">\n",
       "  <thead>\n",
       "    <tr style=\"text-align: right;\">\n",
       "      <th></th>\n",
       "      <th>Diesel</th>\n",
       "      <th>Petrol</th>\n",
       "      <th>CNG</th>\n",
       "    </tr>\n",
       "  </thead>\n",
       "  <tbody>\n",
       "    <tr>\n",
       "      <th>Diesel</th>\n",
       "      <td>1.000000</td>\n",
       "      <td>0.022116</td>\n",
       "      <td>0.933882</td>\n",
       "    </tr>\n",
       "    <tr>\n",
       "      <th>Petrol</th>\n",
       "      <td>0.022116</td>\n",
       "      <td>1.000000</td>\n",
       "      <td>0.797953</td>\n",
       "    </tr>\n",
       "    <tr>\n",
       "      <th>CNG</th>\n",
       "      <td>0.933882</td>\n",
       "      <td>0.797953</td>\n",
       "      <td>1.000000</td>\n",
       "    </tr>\n",
       "  </tbody>\n",
       "</table>\n",
       "</div>"
      ],
      "text/plain": [
       "          Diesel    Petrol       CNG\n",
       "Diesel  1.000000  0.022116  0.933882\n",
       "Petrol  0.022116  1.000000  0.797953\n",
       "CNG     0.933882  0.797953  1.000000"
      ]
     },
     "execution_count": 57,
     "metadata": {},
     "output_type": "execute_result"
    }
   ],
   "source": [
    "# Scheffe 방법으로 사후분석을 실행합니다.\n",
    "sp.posthoc_scheffe(a = df, val_col = 'Price', group_col = 'FuelType')"
   ]
  },
  {
   "cell_type": "code",
   "execution_count": 58,
   "id": "27ec7621-dfb0-49de-9949-028ed70e3fe0",
   "metadata": {},
   "outputs": [
    {
     "data": {
      "text/html": [
       "<div>\n",
       "<style scoped>\n",
       "    .dataframe tbody tr th:only-of-type {\n",
       "        vertical-align: middle;\n",
       "    }\n",
       "\n",
       "    .dataframe tbody tr th {\n",
       "        vertical-align: top;\n",
       "    }\n",
       "\n",
       "    .dataframe thead th {\n",
       "        text-align: right;\n",
       "    }\n",
       "</style>\n",
       "<table border=\"1\" class=\"dataframe\">\n",
       "  <thead>\n",
       "    <tr style=\"text-align: right;\">\n",
       "      <th></th>\n",
       "      <th>Diesel</th>\n",
       "      <th>Petrol</th>\n",
       "      <th>CNG</th>\n",
       "    </tr>\n",
       "  </thead>\n",
       "  <tbody>\n",
       "    <tr>\n",
       "      <th>Diesel</th>\n",
       "      <td>1.000000</td>\n",
       "      <td>0.075664</td>\n",
       "      <td>0.987404</td>\n",
       "    </tr>\n",
       "    <tr>\n",
       "      <th>Petrol</th>\n",
       "      <td>0.075664</td>\n",
       "      <td>1.000000</td>\n",
       "      <td>0.931849</td>\n",
       "    </tr>\n",
       "    <tr>\n",
       "      <th>CNG</th>\n",
       "      <td>0.987404</td>\n",
       "      <td>0.931849</td>\n",
       "      <td>1.000000</td>\n",
       "    </tr>\n",
       "  </tbody>\n",
       "</table>\n",
       "</div>"
      ],
      "text/plain": [
       "          Diesel    Petrol       CNG\n",
       "Diesel  1.000000  0.075664  0.987404\n",
       "Petrol  0.075664  1.000000  0.931849\n",
       "CNG     0.987404  0.931849  1.000000"
      ]
     },
     "execution_count": 58,
     "metadata": {},
     "output_type": "execute_result"
    }
   ],
   "source": [
    "# Tamhane 방법으로 사후분석을 실행합니다.\n",
    "sp.posthoc_tamhane(a = df, val_col = 'Price', group_col = 'FuelType')"
   ]
  },
  {
   "cell_type": "code",
   "execution_count": 59,
   "id": "2d140e87-2448-493d-9034-04f16a5bc14d",
   "metadata": {},
   "outputs": [
    {
     "data": {
      "text/html": [
       "<div>\n",
       "<style scoped>\n",
       "    .dataframe tbody tr th:only-of-type {\n",
       "        vertical-align: middle;\n",
       "    }\n",
       "\n",
       "    .dataframe tbody tr th {\n",
       "        vertical-align: top;\n",
       "    }\n",
       "\n",
       "    .dataframe thead th {\n",
       "        text-align: right;\n",
       "    }\n",
       "</style>\n",
       "<table border=\"1\" class=\"dataframe\">\n",
       "  <thead>\n",
       "    <tr style=\"text-align: right;\">\n",
       "      <th></th>\n",
       "      <th>CNG</th>\n",
       "      <th>Diesel</th>\n",
       "      <th>Petrol</th>\n",
       "    </tr>\n",
       "  </thead>\n",
       "  <tbody>\n",
       "    <tr>\n",
       "      <th>CNG</th>\n",
       "      <td>1.000000</td>\n",
       "      <td>0.954287</td>\n",
       "      <td>0.675617</td>\n",
       "    </tr>\n",
       "    <tr>\n",
       "      <th>Diesel</th>\n",
       "      <td>0.954287</td>\n",
       "      <td>1.000000</td>\n",
       "      <td>0.007117</td>\n",
       "    </tr>\n",
       "    <tr>\n",
       "      <th>Petrol</th>\n",
       "      <td>0.675617</td>\n",
       "      <td>0.007117</td>\n",
       "      <td>1.000000</td>\n",
       "    </tr>\n",
       "  </tbody>\n",
       "</table>\n",
       "</div>"
      ],
      "text/plain": [
       "             CNG    Diesel    Petrol\n",
       "CNG     1.000000  0.954287  0.675617\n",
       "Diesel  0.954287  1.000000  0.007117\n",
       "Petrol  0.675617  0.007117  1.000000"
      ]
     },
     "execution_count": 59,
     "metadata": {},
     "output_type": "execute_result"
    }
   ],
   "source": [
    "# Nemenyi 방법으로 사후분석을 실행합니다.\n",
    "sp.posthoc_nemenyi(a = df, val_col = 'Price', group_col = 'FuelType')"
   ]
  },
  {
   "cell_type": "markdown",
   "id": "2e9f4268",
   "metadata": {},
   "source": [
    "### 교차분석"
   ]
  },
  {
   "cell_type": "code",
   "execution_count": 60,
   "id": "b9279fcb",
   "metadata": {
    "ExecuteTime": {
     "end_time": "2022-06-11T04:54:25.911243Z",
     "start_time": "2022-06-11T04:54:25.898109Z"
    }
   },
   "outputs": [
    {
     "data": {
      "text/html": [
       "<div>\n",
       "<style scoped>\n",
       "    .dataframe tbody tr th:only-of-type {\n",
       "        vertical-align: middle;\n",
       "    }\n",
       "\n",
       "    .dataframe tbody tr th {\n",
       "        vertical-align: top;\n",
       "    }\n",
       "\n",
       "    .dataframe thead th {\n",
       "        text-align: right;\n",
       "    }\n",
       "</style>\n",
       "<table border=\"1\" class=\"dataframe\">\n",
       "  <thead>\n",
       "    <tr style=\"text-align: right;\">\n",
       "      <th>Automatic</th>\n",
       "      <th>0</th>\n",
       "      <th>1</th>\n",
       "    </tr>\n",
       "    <tr>\n",
       "      <th>MetColor</th>\n",
       "      <th></th>\n",
       "      <th></th>\n",
       "    </tr>\n",
       "  </thead>\n",
       "  <tbody>\n",
       "    <tr>\n",
       "      <th>0</th>\n",
       "      <td>402</td>\n",
       "      <td>26</td>\n",
       "    </tr>\n",
       "    <tr>\n",
       "      <th>1</th>\n",
       "      <td>796</td>\n",
       "      <td>44</td>\n",
       "    </tr>\n",
       "  </tbody>\n",
       "</table>\n",
       "</div>"
      ],
      "text/plain": [
       "Automatic    0   1\n",
       "MetColor          \n",
       "0          402  26\n",
       "1          796  44"
      ]
     },
     "execution_count": 60,
     "metadata": {},
     "output_type": "execute_result"
    }
   ],
   "source": [
    "# 두 범주형 변수의 빈도수를 출력합니다.\n",
    "pd.crosstab(index = df['MetColor'], columns = df['Automatic'])"
   ]
  },
  {
   "cell_type": "code",
   "execution_count": 61,
   "id": "f47fefb2",
   "metadata": {
    "ExecuteTime": {
     "end_time": "2022-06-11T04:54:25.942041Z",
     "start_time": "2022-06-11T04:54:25.912779Z"
    }
   },
   "outputs": [
    {
     "data": {
      "text/html": [
       "<div>\n",
       "<style scoped>\n",
       "    .dataframe tbody tr th:only-of-type {\n",
       "        vertical-align: middle;\n",
       "    }\n",
       "\n",
       "    .dataframe tbody tr th {\n",
       "        vertical-align: top;\n",
       "    }\n",
       "\n",
       "    .dataframe thead th {\n",
       "        text-align: right;\n",
       "    }\n",
       "</style>\n",
       "<table border=\"1\" class=\"dataframe\">\n",
       "  <thead>\n",
       "    <tr style=\"text-align: right;\">\n",
       "      <th>Automatic</th>\n",
       "      <th>0</th>\n",
       "      <th>1</th>\n",
       "    </tr>\n",
       "    <tr>\n",
       "      <th>MetColor</th>\n",
       "      <th></th>\n",
       "      <th></th>\n",
       "    </tr>\n",
       "  </thead>\n",
       "  <tbody>\n",
       "    <tr>\n",
       "      <th>0</th>\n",
       "      <td>0.939252</td>\n",
       "      <td>0.060748</td>\n",
       "    </tr>\n",
       "    <tr>\n",
       "      <th>1</th>\n",
       "      <td>0.947619</td>\n",
       "      <td>0.052381</td>\n",
       "    </tr>\n",
       "    <tr>\n",
       "      <th>All</th>\n",
       "      <td>0.944795</td>\n",
       "      <td>0.055205</td>\n",
       "    </tr>\n",
       "  </tbody>\n",
       "</table>\n",
       "</div>"
      ],
      "text/plain": [
       "Automatic         0         1\n",
       "MetColor                     \n",
       "0          0.939252  0.060748\n",
       "1          0.947619  0.052381\n",
       "All        0.944795  0.055205"
      ]
     },
     "execution_count": 61,
     "metadata": {},
     "output_type": "execute_result"
    }
   ],
   "source": [
    "# 두 범주형 변수의 상대도수를 출력합니다.\n",
    "pd.crosstab(index = df['MetColor'], columns = df['Automatic'], \n",
    "            normalize = 'index', margins = True)"
   ]
  },
  {
   "cell_type": "code",
   "execution_count": 62,
   "id": "8258c67a",
   "metadata": {
    "ExecuteTime": {
     "end_time": "2022-06-11T04:54:25.968345Z",
     "start_time": "2022-06-11T04:54:25.945052Z"
    }
   },
   "outputs": [],
   "source": [
    "# 두 범주형 변수로 교차분석(카이제곱 검정)을 실행합니다.\n",
    "test = pg.chi2_independence(data = df, x = 'MetColor', y = 'Automatic', \n",
    "                            correction = True)"
   ]
  },
  {
   "cell_type": "code",
   "execution_count": 63,
   "id": "5c7bb389",
   "metadata": {},
   "outputs": [
    {
     "data": {
      "text/plain": [
       "(Automatic          0         1\n",
       " MetColor                      \n",
       " 0          404.37224  23.62776\n",
       " 1          793.62776  46.37224,\n",
       " Automatic      0     1\n",
       " MetColor              \n",
       " 0          402.5  25.5\n",
       " 1          795.5  44.5,\n",
       "                  test    lambda      chi2  dof      pval    cramer     power\n",
       " 0             pearson  1.000000  0.237030  1.0  0.626360  0.013672  0.077567\n",
       " 1        cressie-read  0.666667  0.236104  1.0  0.627034  0.013646  0.077458\n",
       " 2      log-likelihood  0.000000  0.234308  1.0  0.628348  0.013594  0.077246\n",
       " 3       freeman-tukey -0.500000  0.233008  1.0  0.629302  0.013556  0.077093\n",
       " 4  mod-log-likelihood -1.000000  0.231749  1.0  0.630230  0.013519  0.076945\n",
       " 5              neyman -2.000000  0.229348  1.0  0.632008  0.013449  0.076662)"
      ]
     },
     "execution_count": 63,
     "metadata": {},
     "output_type": "execute_result"
    }
   ],
   "source": [
    "# 교차분석 결과를 확인합니다.\n",
    "test"
   ]
  },
  {
   "cell_type": "code",
   "execution_count": 64,
   "id": "1435ef51-6c0b-4053-9ade-d3012e6d25b0",
   "metadata": {},
   "outputs": [
    {
     "data": {
      "text/plain": [
       "SignificanceResult(statistic=0.8899622641509434, pvalue=0.6947795226271706)"
      ]
     },
     "execution_count": 64,
     "metadata": {},
     "output_type": "execute_result"
    }
   ],
   "source": [
    "# 피셔의 정확검정을 실행하면 오즈비와 유의확률을 반환합니다.\n",
    "# test의 두 번째 원소인 관측값 행렬을 지정합니다.\n",
    "stats.fisher_exact(table = test[1])"
   ]
  },
  {
   "cell_type": "markdown",
   "id": "570b1e5b",
   "metadata": {},
   "source": [
    "### 모비율 검정"
   ]
  },
  {
   "cell_type": "code",
   "execution_count": 65,
   "id": "fdf91bd9",
   "metadata": {},
   "outputs": [
    {
     "data": {
      "text/plain": [
       "(2.182178902359923, 0.029096331741252257)"
      ]
     },
     "execution_count": 65,
     "metadata": {},
     "output_type": "execute_result"
    }
   ],
   "source": [
    "# 단일표본 모비율 검정을 실행합니다.\n",
    "proportions_ztest(count = 30, nobs = 100, value = 0.2)"
   ]
  },
  {
   "cell_type": "code",
   "execution_count": 66,
   "id": "bda58941",
   "metadata": {},
   "outputs": [
    {
     "data": {
      "text/plain": [
       "(0.9847319278346616, 0.3247557654026184)"
      ]
     },
     "execution_count": 66,
     "metadata": {},
     "output_type": "execute_result"
    }
   ],
   "source": [
    "# 두 표본의 모비율 차이 검정을 실행합니다.\n",
    "proportions_ztest(count = [100, 150], nobs = [300, 500], value = 0.0)"
   ]
  },
  {
   "cell_type": "markdown",
   "id": "ce73cf3a",
   "metadata": {},
   "source": [
    "### 변수 제거 및 외부 파일로 저장"
   ]
  },
  {
   "cell_type": "code",
   "execution_count": 67,
   "id": "db8dbe6b",
   "metadata": {
    "ExecuteTime": {
     "end_time": "2022-06-11T04:54:25.974812Z",
     "start_time": "2022-06-11T04:54:25.970670Z"
    }
   },
   "outputs": [],
   "source": [
    "# 가설검정 결과를 반영하여 CC와 Automatic을 삭제합니다.\n",
    "df = df.drop(columns = ['CC', 'Automatic'])"
   ]
  },
  {
   "cell_type": "code",
   "execution_count": 68,
   "id": "77b84029",
   "metadata": {
    "ExecuteTime": {
     "end_time": "2022-06-11T04:54:25.981052Z",
     "start_time": "2022-06-11T04:54:25.977107Z"
    }
   },
   "outputs": [],
   "source": [
    "# FuelType이 'CNG'인 건수가 매우 적고 Petrol, Diesel과의 \n",
    "# 목표변수 평균에서 유의한 차이가 없으므로 삭제합니다.\n",
    "df = df[df['FuelType'].ne('CNG')]"
   ]
  },
  {
   "cell_type": "code",
   "execution_count": 69,
   "id": "4eda3d10",
   "metadata": {
    "ExecuteTime": {
     "end_time": "2022-06-11T04:54:25.985227Z",
     "start_time": "2022-06-11T04:54:25.982680Z"
    }
   },
   "outputs": [],
   "source": [
    "# df의 행이름을 초기화합니다.\n",
    "df = df.reset_index(drop = True)"
   ]
  },
  {
   "cell_type": "code",
   "execution_count": 70,
   "id": "9ffca712",
   "metadata": {
    "ExecuteTime": {
     "end_time": "2022-06-11T04:54:25.994361Z",
     "start_time": "2022-06-11T04:54:25.987545Z"
    }
   },
   "outputs": [
    {
     "data": {
      "text/plain": [
       "['Used_Cars_Price_Prep.z']"
      ]
     },
     "execution_count": 70,
     "metadata": {},
     "output_type": "execute_result"
    }
   ],
   "source": [
    "# df를 z 파일로 저장합니다.\n",
    "joblib.dump(value = df, filename = 'Used_Cars_Price_Prep.z')"
   ]
  },
  {
   "cell_type": "markdown",
   "id": "9597fc48",
   "metadata": {},
   "source": [
    "## End of Document"
   ]
  }
 ],
 "metadata": {
  "kernelspec": {
   "display_name": "Python 3",
   "language": "python",
   "name": "python3"
  },
  "language_info": {
   "codemirror_mode": {
    "name": "ipython",
    "version": 3
   },
   "file_extension": ".py",
   "mimetype": "text/x-python",
   "name": "python",
   "nbconvert_exporter": "python",
   "pygments_lexer": "ipython3",
   "version": "3.10.9"
  },
  "toc": {
   "base_numbering": 1,
   "nav_menu": {},
   "number_sections": false,
   "sideBar": true,
   "skip_h1_title": false,
   "title_cell": "Table of Contents",
   "title_sidebar": "Contents",
   "toc_cell": false,
   "toc_position": {},
   "toc_section_display": true,
   "toc_window_display": false
  },
  "varInspector": {
   "cols": {
    "lenName": 16,
    "lenType": 16,
    "lenVar": 40
   },
   "kernels_config": {
    "python": {
     "delete_cmd_postfix": "",
     "delete_cmd_prefix": "del ",
     "library": "var_list.py",
     "varRefreshCmd": "print(var_dic_list())"
    },
    "r": {
     "delete_cmd_postfix": ") ",
     "delete_cmd_prefix": "rm(",
     "library": "var_list.r",
     "varRefreshCmd": "cat(var_dic_list()) "
    }
   },
   "types_to_exclude": [
    "module",
    "function",
    "builtin_function_or_method",
    "instance",
    "_Feature"
   ],
   "window_display": false
  }
 },
 "nbformat": 4,
 "nbformat_minor": 5
}
