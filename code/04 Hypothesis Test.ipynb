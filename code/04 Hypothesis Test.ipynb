{
 "cells": [
  {
   "cell_type": "markdown",
   "id": "05bd0878",
   "metadata": {},
   "source": [
    "## 가설검정의 이해"
   ]
  },
  {
   "cell_type": "markdown",
   "id": "9692ff48",
   "metadata": {},
   "source": [
    "### 실습 데이터셋 준비"
   ]
  },
  {
   "cell_type": "raw",
   "id": "99ee3ad6",
   "metadata": {},
   "source": [
    "# pingouin 라이브러리를 설치합니다.\n",
    "!pip install pingouin"
   ]
  },
  {
   "cell_type": "code",
   "execution_count": null,
   "id": "6e0fe794",
   "metadata": {
    "ExecuteTime": {
     "end_time": "2022-06-07T14:42:03.741592Z",
     "start_time": "2022-06-07T14:42:02.547426Z"
    }
   },
   "outputs": [],
   "source": [
    "# 관련 라이브러리를 호출합니다.\n",
    "import os, joblib\n",
    "import numpy as np\n",
    "import pandas as pd\n",
    "from scipy import stats\n",
    "import pingouin as pg"
   ]
  },
  {
   "cell_type": "code",
   "execution_count": null,
   "id": "f6739ed2",
   "metadata": {
    "ExecuteTime": {
     "end_time": "2022-06-07T14:42:03.751483Z",
     "start_time": "2022-06-07T14:42:03.743721Z"
    }
   },
   "outputs": [],
   "source": [
    "# 현재 작업 경로를 확인합니다.\n",
    "os.getcwd()"
   ]
  },
  {
   "cell_type": "code",
   "execution_count": null,
   "id": "9bc50609",
   "metadata": {
    "ExecuteTime": {
     "end_time": "2022-06-07T14:42:03.758564Z",
     "start_time": "2022-06-07T14:42:03.753230Z"
    }
   },
   "outputs": [],
   "source": [
    "# data 폴더로 작업 경로를 변경합니다.\n",
    "os.chdir('../data')"
   ]
  },
  {
   "cell_type": "code",
   "execution_count": null,
   "id": "696d9b4c",
   "metadata": {
    "ExecuteTime": {
     "end_time": "2022-06-07T14:42:03.765647Z",
     "start_time": "2022-06-07T14:42:03.761731Z"
    }
   },
   "outputs": [],
   "source": [
    "# 현재 작업 경로에 있는 폴더명과 파일명을 출력합니다.\n",
    "os.listdir()"
   ]
  },
  {
   "cell_type": "code",
   "execution_count": null,
   "id": "f3f01b8f",
   "metadata": {
    "ExecuteTime": {
     "end_time": "2022-06-07T14:42:03.771784Z",
     "start_time": "2022-06-07T14:42:03.767560Z"
    }
   },
   "outputs": [],
   "source": [
    "# z 파일을 읽고 데이터프레임 df를 생성합니다.\n",
    "df = joblib.load(filename = 'Used_Cars_Price.z')"
   ]
  },
  {
   "cell_type": "code",
   "execution_count": null,
   "id": "3ba5b942",
   "metadata": {
    "ExecuteTime": {
     "end_time": "2022-06-07T14:42:03.782055Z",
     "start_time": "2022-06-07T14:42:03.773594Z"
    }
   },
   "outputs": [],
   "source": [
    "# df의 정보를 확인합니다.\n",
    "df.info()"
   ]
  },
  {
   "cell_type": "code",
   "execution_count": null,
   "id": "c32c6629",
   "metadata": {
    "ExecuteTime": {
     "end_time": "2022-06-07T14:42:03.793746Z",
     "start_time": "2022-06-07T14:42:03.784881Z"
    }
   },
   "outputs": [],
   "source": [
    "# df의 처음 5행을 출력합니다.\n",
    "df.head()"
   ]
  },
  {
   "cell_type": "markdown",
   "id": "30aa1380",
   "metadata": {},
   "source": [
    "### 공분산"
   ]
  },
  {
   "cell_type": "code",
   "execution_count": null,
   "id": "ead145c0",
   "metadata": {
    "ExecuteTime": {
     "end_time": "2022-06-07T14:42:03.800613Z",
     "start_time": "2022-06-07T14:42:03.795965Z"
    }
   },
   "outputs": [],
   "source": [
    "# 두 연속형 변수의 공분산을 반환합니다.\n",
    "df['Age'].cov(df['Price'])"
   ]
  },
  {
   "cell_type": "code",
   "execution_count": null,
   "id": "61c81778",
   "metadata": {
    "ExecuteTime": {
     "end_time": "2022-06-07T14:42:03.815009Z",
     "start_time": "2022-06-07T14:42:03.802435Z"
    }
   },
   "outputs": [],
   "source": [
    "# df의 연속형 변수로 분산-공분산 행렬을 반환합니다.\n",
    "df.cov().round(2)"
   ]
  },
  {
   "cell_type": "markdown",
   "id": "f52bbe7a",
   "metadata": {},
   "source": [
    "### 상관계수"
   ]
  },
  {
   "cell_type": "code",
   "execution_count": null,
   "id": "68b23cf0",
   "metadata": {
    "ExecuteTime": {
     "end_time": "2022-06-07T14:42:03.825832Z",
     "start_time": "2022-06-07T14:42:03.819471Z"
    }
   },
   "outputs": [],
   "source": [
    "# 두 연속형 변수의 피어슨 상관계수를 반환합니다.\n",
    "df['Age'].corr(df['Price'])"
   ]
  },
  {
   "cell_type": "code",
   "execution_count": null,
   "id": "87547610",
   "metadata": {
    "ExecuteTime": {
     "end_time": "2022-06-07T14:42:03.839572Z",
     "start_time": "2022-06-07T14:42:03.828084Z"
    }
   },
   "outputs": [],
   "source": [
    "# df의 연속형 변수로 피어슨 상관계수 행렬을 반환합니다.\n",
    "df.corr().round(2)"
   ]
  },
  {
   "cell_type": "markdown",
   "id": "f9b8e91c",
   "metadata": {},
   "source": [
    "### 피어슨 상관분석"
   ]
  },
  {
   "cell_type": "code",
   "execution_count": null,
   "id": "a007ec5a",
   "metadata": {
    "ExecuteTime": {
     "end_time": "2022-06-07T14:42:03.856231Z",
     "start_time": "2022-06-07T14:42:03.844231Z"
    }
   },
   "outputs": [],
   "source": [
    "# Age와 Price의 피어슨 상관분석을 실행합니다.\n",
    "pg.corr(x = df['Age'], y = df['Price'])"
   ]
  },
  {
   "cell_type": "code",
   "execution_count": null,
   "id": "80c0695d",
   "metadata": {
    "ExecuteTime": {
     "end_time": "2022-06-07T14:42:03.874461Z",
     "start_time": "2022-06-07T14:42:03.862228Z"
    }
   },
   "outputs": [],
   "source": [
    "# KM와 Price의 피어슨 상관분석을 실행합니다.\n",
    "pg.corr(x = df['KM'], y = df['Price'])"
   ]
  },
  {
   "cell_type": "code",
   "execution_count": null,
   "id": "ff1e8edf",
   "metadata": {
    "ExecuteTime": {
     "end_time": "2022-06-07T14:42:03.886386Z",
     "start_time": "2022-06-07T14:42:03.876267Z"
    }
   },
   "outputs": [],
   "source": [
    "# HP와 Price의 피어슨 상관분석을 실행합니다.\n",
    "pg.corr(x = df['HP'], y = df['Price'])"
   ]
  },
  {
   "cell_type": "code",
   "execution_count": null,
   "id": "f9b4b424",
   "metadata": {
    "ExecuteTime": {
     "end_time": "2022-06-07T14:42:03.898305Z",
     "start_time": "2022-06-07T14:42:03.888065Z"
    }
   },
   "outputs": [],
   "source": [
    "# CC와 Price의 피어슨 상관분석을 실행합니다.\n",
    "pg.corr(x = df['CC'], y = df['Price'])"
   ]
  },
  {
   "cell_type": "code",
   "execution_count": null,
   "id": "4fcf9d12",
   "metadata": {
    "ExecuteTime": {
     "end_time": "2022-06-07T14:42:03.909812Z",
     "start_time": "2022-06-07T14:42:03.899920Z"
    }
   },
   "outputs": [],
   "source": [
    "# Doors와 Price의 피어슨 상관분석을 실행합니다.\n",
    "pg.corr(x = df['Doors'], y = df['Price'])"
   ]
  },
  {
   "cell_type": "code",
   "execution_count": null,
   "id": "c01f3838",
   "metadata": {
    "ExecuteTime": {
     "end_time": "2022-06-07T14:42:03.921310Z",
     "start_time": "2022-06-07T14:42:03.912154Z"
    }
   },
   "outputs": [],
   "source": [
    "# Weight와 Price의 피어슨 상관분석을 실행합니다.\n",
    "pg.corr(x = df['Weight'], y = df['Price'])"
   ]
  },
  {
   "cell_type": "markdown",
   "id": "570a3f6c",
   "metadata": {},
   "source": [
    "### [참고] apply() 함수를 활용한 상관분석 실행"
   ]
  },
  {
   "cell_type": "code",
   "execution_count": null,
   "id": "e6e68c98",
   "metadata": {
    "ExecuteTime": {
     "end_time": "2022-06-07T14:42:03.929768Z",
     "start_time": "2022-06-07T14:42:03.922937Z"
    }
   },
   "outputs": [],
   "source": [
    "# pg.corr() 함수 실행 결과에서 유의확률만 출력합니다.\n",
    "pg.corr(x = df['Age'], y = df['Price'])['p-val']"
   ]
  },
  {
   "cell_type": "code",
   "execution_count": null,
   "id": "2d6c9115",
   "metadata": {
    "ExecuteTime": {
     "end_time": "2022-06-07T14:42:03.934547Z",
     "start_time": "2022-06-07T14:42:03.931917Z"
    }
   },
   "outputs": [],
   "source": [
    "# 상관분석을 실행할 연속형 변수명으로 리스트를 생성합니다.\n",
    "cols = ['Age', 'KM', 'HP', 'CC', 'Doors', 'Weight']"
   ]
  },
  {
   "cell_type": "code",
   "execution_count": null,
   "id": "b2e543d0",
   "metadata": {
    "ExecuteTime": {
     "end_time": "2022-06-07T14:42:03.961279Z",
     "start_time": "2022-06-07T14:42:03.936478Z"
    }
   },
   "outputs": [],
   "source": [
    "# 연속형 입력변수와의 상관분석 유의확률을 출력합니다.\n",
    "corr = lambda x: pg.corr(x = x, y = df['Price'])['p-val']\n",
    "df[cols].apply(func = corr)"
   ]
  },
  {
   "cell_type": "markdown",
   "id": "fb781c44",
   "metadata": {},
   "source": [
    "### t-검정: MetColor"
   ]
  },
  {
   "cell_type": "code",
   "execution_count": null,
   "id": "f11a59e6",
   "metadata": {
    "ExecuteTime": {
     "end_time": "2022-06-07T14:42:03.972540Z",
     "start_time": "2022-06-07T14:42:03.962935Z"
    }
   },
   "outputs": [],
   "source": [
    "# MetColor 범주별 Price의 정규성 검정을 실행합니다.\n",
    "pg.normality(data = df, dv = 'Price', group = 'MetColor')"
   ]
  },
  {
   "cell_type": "code",
   "execution_count": null,
   "id": "ceca9783",
   "metadata": {
    "ExecuteTime": {
     "end_time": "2022-06-07T14:42:03.982160Z",
     "start_time": "2022-06-07T14:42:03.974412Z"
    }
   },
   "outputs": [],
   "source": [
    "# (정규성 가정 만족) MetColor 범주별 Price의 등분산성 검정을 실행합니다.\n",
    "pg.homoscedasticity(data = df, dv = 'Price', group = 'MetColor')"
   ]
  },
  {
   "cell_type": "code",
   "execution_count": null,
   "id": "8717a366",
   "metadata": {
    "ExecuteTime": {
     "end_time": "2022-06-07T14:42:03.987118Z",
     "start_time": "2022-06-07T14:42:03.983763Z"
    }
   },
   "outputs": [],
   "source": [
    "# 범주형 변수의 범주별 연속형 변수를 시리즈로 생성합니다.\n",
    "s0 = df['Price'][df['MetColor'].eq('0')]\n",
    "s1 = df['Price'][df['MetColor'].eq('1')]"
   ]
  },
  {
   "cell_type": "code",
   "execution_count": null,
   "id": "1e7a7632",
   "metadata": {
    "ExecuteTime": {
     "end_time": "2022-06-07T14:42:04.000432Z",
     "start_time": "2022-06-07T14:42:03.988783Z"
    }
   },
   "outputs": [],
   "source": [
    "# 등분산 가정된 t-검정을 실행합니다.\n",
    "pg.ttest(x = s0, y = s1, correction = False)"
   ]
  },
  {
   "cell_type": "code",
   "execution_count": null,
   "id": "f7200b7a",
   "metadata": {
    "ExecuteTime": {
     "end_time": "2022-06-07T14:42:04.015053Z",
     "start_time": "2022-06-07T14:42:04.003068Z"
    }
   },
   "outputs": [],
   "source": [
    "# 이분산 가정된 t-검정을 실행합니다.\n",
    "pg.ttest(x = s0, y = s1, correction = True)"
   ]
  },
  {
   "cell_type": "code",
   "execution_count": null,
   "id": "026fa973",
   "metadata": {
    "ExecuteTime": {
     "end_time": "2022-06-07T14:42:04.030869Z",
     "start_time": "2022-06-07T14:42:04.016680Z"
    }
   },
   "outputs": [],
   "source": [
    "# (정규성 가정 불만족) 맨-휘트니 U 검정을 실행합니다.\n",
    "pg.mwu(x = s0, y = s1)"
   ]
  },
  {
   "cell_type": "markdown",
   "id": "dd3028c8",
   "metadata": {},
   "source": [
    "### t-검정: Automatic"
   ]
  },
  {
   "cell_type": "code",
   "execution_count": null,
   "id": "0f3415a8",
   "metadata": {
    "ExecuteTime": {
     "end_time": "2022-06-07T14:42:04.043552Z",
     "start_time": "2022-06-07T14:42:04.032409Z"
    }
   },
   "outputs": [],
   "source": [
    "# Automatic 범주별 Price의 정규성 검정을 실행합니다.\n",
    "pg.normality(data = df, dv = 'Price', group = 'Automatic')"
   ]
  },
  {
   "cell_type": "code",
   "execution_count": null,
   "id": "1602e35d",
   "metadata": {
    "ExecuteTime": {
     "end_time": "2022-06-07T14:42:04.059798Z",
     "start_time": "2022-06-07T14:42:04.052110Z"
    }
   },
   "outputs": [],
   "source": [
    "# (정규성 가정 만족) Automatic 범주별 Price의 등분산성 검정을 실행합니다.\n",
    "pg.homoscedasticity(data = df, dv = 'Price', group = 'Automatic')"
   ]
  },
  {
   "cell_type": "code",
   "execution_count": null,
   "id": "f61a7f1c",
   "metadata": {
    "ExecuteTime": {
     "end_time": "2022-06-07T14:42:04.074304Z",
     "start_time": "2022-06-07T14:42:04.070463Z"
    }
   },
   "outputs": [],
   "source": [
    "# 범주형 변수의 범주별 연속형 변수를 시리즈로 생성합니다.\n",
    "s0 = df['Price'][df['Automatic'].eq('0')]\n",
    "s1 = df['Price'][df['Automatic'].eq('1')]"
   ]
  },
  {
   "cell_type": "code",
   "execution_count": null,
   "id": "b56e7652",
   "metadata": {
    "ExecuteTime": {
     "end_time": "2022-06-07T14:42:04.087118Z",
     "start_time": "2022-06-07T14:42:04.076375Z"
    }
   },
   "outputs": [],
   "source": [
    "# 등분산 가정된 t-검정을 실행합니다.\n",
    "pg.ttest(x = s0, y = s1, correction = False)"
   ]
  },
  {
   "cell_type": "code",
   "execution_count": null,
   "id": "ffb19d4a",
   "metadata": {
    "ExecuteTime": {
     "end_time": "2022-06-07T14:42:04.100650Z",
     "start_time": "2022-06-07T14:42:04.088763Z"
    }
   },
   "outputs": [],
   "source": [
    "# 이분산 가정된 t-검정을 실행합니다.\n",
    "pg.ttest(x = s0, y = s1, correction = True)"
   ]
  },
  {
   "cell_type": "code",
   "execution_count": null,
   "id": "64004912",
   "metadata": {
    "ExecuteTime": {
     "end_time": "2022-06-07T14:42:04.113259Z",
     "start_time": "2022-06-07T14:42:04.102690Z"
    }
   },
   "outputs": [],
   "source": [
    "# (정규성 가정 불만족) 맨-휘트니 U 검정을 실행합니다.\n",
    "pg.mwu(x = s0, y = s1)"
   ]
  },
  {
   "cell_type": "markdown",
   "id": "43ddbade",
   "metadata": {},
   "source": [
    "### 분산분석: FuelType"
   ]
  },
  {
   "cell_type": "code",
   "execution_count": null,
   "id": "65fb2245",
   "metadata": {
    "ExecuteTime": {
     "end_time": "2022-06-07T14:42:04.125018Z",
     "start_time": "2022-06-07T14:42:04.114932Z"
    }
   },
   "outputs": [],
   "source": [
    "# FuelType 범주별 Price의 정규성 검정을 실행합니다.\n",
    "pg.normality(data = df, dv = 'Price', group = 'FuelType')"
   ]
  },
  {
   "cell_type": "code",
   "execution_count": null,
   "id": "27999cf7",
   "metadata": {
    "ExecuteTime": {
     "end_time": "2022-06-07T14:42:04.135023Z",
     "start_time": "2022-06-07T14:42:04.126676Z"
    }
   },
   "outputs": [],
   "source": [
    "# (정규성 가정 만족) FuelType 범주별 Price의 등분산성 검정을 실행합니다.\n",
    "pg.homoscedasticity(data = df, dv = 'Price', group = 'FuelType')"
   ]
  },
  {
   "cell_type": "code",
   "execution_count": null,
   "id": "c96538b5",
   "metadata": {
    "ExecuteTime": {
     "end_time": "2022-06-07T14:42:04.151483Z",
     "start_time": "2022-06-07T14:42:04.137328Z"
    }
   },
   "outputs": [],
   "source": [
    "# 등분산 가정된 분산분석을 실행합니다.\n",
    "pg.anova(data = df, dv = 'Price', between = 'FuelType')"
   ]
  },
  {
   "cell_type": "code",
   "execution_count": null,
   "id": "c1583d97",
   "metadata": {
    "ExecuteTime": {
     "end_time": "2022-06-07T14:42:04.167117Z",
     "start_time": "2022-06-07T14:42:04.153387Z"
    }
   },
   "outputs": [],
   "source": [
    "# 이분산 가정된 분산분석을 실행합니다.\n",
    "pg.welch_anova(data = df, dv = 'Price', between = 'FuelType')"
   ]
  },
  {
   "cell_type": "code",
   "execution_count": null,
   "id": "2c99c89a",
   "metadata": {
    "ExecuteTime": {
     "end_time": "2022-06-07T14:42:04.180505Z",
     "start_time": "2022-06-07T14:42:04.168966Z"
    }
   },
   "outputs": [],
   "source": [
    "# (정규성 가정 불만족) 크루스칼-왈리스 순위합 검정을 실행합니다.\n",
    "pg.kruskal(data = df, dv = 'Price', between = 'FuelType')"
   ]
  },
  {
   "cell_type": "code",
   "execution_count": null,
   "id": "4722e034",
   "metadata": {
    "ExecuteTime": {
     "end_time": "2022-06-07T14:42:04.282515Z",
     "start_time": "2022-06-07T14:42:04.182137Z"
    }
   },
   "outputs": [],
   "source": [
    "# Tukey 방식으로 사후분석을 실행합니다.\n",
    "pg.pairwise_tukey(data = df, dv = 'Price', between = 'FuelType')"
   ]
  },
  {
   "cell_type": "markdown",
   "id": "2e9f4268",
   "metadata": {},
   "source": [
    "### 교차분석"
   ]
  },
  {
   "cell_type": "code",
   "execution_count": null,
   "id": "b9279fcb",
   "metadata": {
    "ExecuteTime": {
     "end_time": "2022-06-07T14:42:04.300722Z",
     "start_time": "2022-06-07T14:42:04.284389Z"
    }
   },
   "outputs": [],
   "source": [
    "# 두 범주형 변수로 교차테이블을 출력합니다.\n",
    "pd.crosstab(index = df['MetColor'], columns = df['Automatic'])"
   ]
  },
  {
   "cell_type": "code",
   "execution_count": null,
   "id": "8258c67a",
   "metadata": {
    "ExecuteTime": {
     "end_time": "2022-06-07T14:42:04.325294Z",
     "start_time": "2022-06-07T14:42:04.302405Z"
    }
   },
   "outputs": [],
   "source": [
    "# 두 범주형 변수로 교차분석(카이제곱 검정)을 실행합니다.\n",
    "pg.chi2_independence(data = df, x = 'MetColor', y = 'Automatic')"
   ]
  },
  {
   "cell_type": "markdown",
   "id": "ce73cf3a",
   "metadata": {},
   "source": [
    "### 변수 제거 및 압축 파일로 저장"
   ]
  },
  {
   "cell_type": "code",
   "execution_count": null,
   "id": "db8dbe6b",
   "metadata": {
    "ExecuteTime": {
     "end_time": "2022-06-07T14:42:04.333204Z",
     "start_time": "2022-06-07T14:42:04.327525Z"
    }
   },
   "outputs": [],
   "source": [
    "# 가설검정 결과를 반영하여 CC와 Automatic을 삭제합니다.\n",
    "df = df.drop(labels = ['CC', 'Automatic'], axis = 1)"
   ]
  },
  {
   "cell_type": "code",
   "execution_count": null,
   "id": "77b84029",
   "metadata": {
    "ExecuteTime": {
     "end_time": "2022-06-07T14:42:04.337967Z",
     "start_time": "2022-06-07T14:42:04.335016Z"
    }
   },
   "outputs": [],
   "source": [
    "# FuelType이 'CNG'인 건수가 매우 적고 Petrol 및 Diesel과 목표변수 \n",
    "# 평균에서 유의한 차이가 없으므로 삭제합니다.\n",
    "df = df[df['FuelType'].ne('CNG')]"
   ]
  },
  {
   "cell_type": "code",
   "execution_count": null,
   "id": "4eda3d10",
   "metadata": {
    "ExecuteTime": {
     "end_time": "2022-06-07T14:42:04.343053Z",
     "start_time": "2022-06-07T14:42:04.339864Z"
    }
   },
   "outputs": [],
   "source": [
    "# df의 행이름을 초기화합니다.\n",
    "df = df.reset_index(drop = True)"
   ]
  },
  {
   "cell_type": "code",
   "execution_count": null,
   "id": "a8d0a30c",
   "metadata": {
    "ExecuteTime": {
     "end_time": "2022-06-07T14:42:04.350390Z",
     "start_time": "2022-06-07T14:42:04.345413Z"
    }
   },
   "outputs": [],
   "source": [
    "# df를 z 파일로 저장합니다.\n",
    "joblib.dump(value = df, filename = 'Used_Cars_Price_Prep.z')"
   ]
  },
  {
   "cell_type": "markdown",
   "id": "9597fc48",
   "metadata": {},
   "source": [
    "## End of Document"
   ]
  }
 ],
 "metadata": {
  "kernelspec": {
   "display_name": "Python 3",
   "language": "python",
   "name": "python3"
  },
  "language_info": {
   "codemirror_mode": {
    "name": "ipython",
    "version": 3
   },
   "file_extension": ".py",
   "mimetype": "text/x-python",
   "name": "python",
   "nbconvert_exporter": "python",
   "pygments_lexer": "ipython3",
   "version": "3.10.4"
  },
  "toc": {
   "base_numbering": 1,
   "nav_menu": {},
   "number_sections": false,
   "sideBar": true,
   "skip_h1_title": false,
   "title_cell": "Table of Contents",
   "title_sidebar": "Contents",
   "toc_cell": false,
   "toc_position": {},
   "toc_section_display": true,
   "toc_window_display": false
  },
  "varInspector": {
   "cols": {
    "lenName": 16,
    "lenType": 16,
    "lenVar": 40
   },
   "kernels_config": {
    "python": {
     "delete_cmd_postfix": "",
     "delete_cmd_prefix": "del ",
     "library": "var_list.py",
     "varRefreshCmd": "print(var_dic_list())"
    },
    "r": {
     "delete_cmd_postfix": ") ",
     "delete_cmd_prefix": "rm(",
     "library": "var_list.r",
     "varRefreshCmd": "cat(var_dic_list()) "
    }
   },
   "types_to_exclude": [
    "module",
    "function",
    "builtin_function_or_method",
    "instance",
    "_Feature"
   ],
   "window_display": false
  }
 },
 "nbformat": 4,
 "nbformat_minor": 5
}
