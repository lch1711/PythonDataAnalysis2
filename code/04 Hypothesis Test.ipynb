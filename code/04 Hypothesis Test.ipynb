{
 "cells": [
  {
   "cell_type": "markdown",
   "id": "05bd0878",
   "metadata": {},
   "source": [
    "# 가설검정의 이해"
   ]
  },
  {
   "cell_type": "markdown",
   "id": "9692ff48",
   "metadata": {},
   "source": [
    "### 실습 데이터셋 준비"
   ]
  },
  {
   "cell_type": "code",
   "execution_count": null,
   "id": "6e0fe794",
   "metadata": {},
   "outputs": [],
   "source": [
    "# 관련 라이브러리를 호출합니다.\n",
    "import os, joblib\n",
    "import numpy as np\n",
    "import pandas as pd\n",
    "from scipy import stats"
   ]
  },
  {
   "cell_type": "code",
   "execution_count": null,
   "id": "f6739ed2",
   "metadata": {},
   "outputs": [],
   "source": [
    "# 현재 작업 경로를 확인합니다.\n",
    "os.getcwd()"
   ]
  },
  {
   "cell_type": "code",
   "execution_count": null,
   "id": "9bc50609",
   "metadata": {},
   "outputs": [],
   "source": [
    "# data 폴더로 작업 경로를 변경합니다.\n",
    "os.chdir('../data')"
   ]
  },
  {
   "cell_type": "code",
   "execution_count": null,
   "id": "696d9b4c",
   "metadata": {},
   "outputs": [],
   "source": [
    "# 현재 작업 경로에 포함된 폴더명과 파일명을 출력합니다.\n",
    "os.listdir()"
   ]
  },
  {
   "cell_type": "code",
   "execution_count": null,
   "id": "f3f01b8f",
   "metadata": {},
   "outputs": [],
   "source": [
    "# 압축 파일을 읽고 데이터프레임 df를 생성합니다.\n",
    "df = joblib.load(filename = 'Used_Cars_Price.z')"
   ]
  },
  {
   "cell_type": "code",
   "execution_count": null,
   "id": "3ba5b942",
   "metadata": {},
   "outputs": [],
   "source": [
    "# df의 정보를 확인합니다.\n",
    "df.info()"
   ]
  },
  {
   "cell_type": "code",
   "execution_count": null,
   "id": "c32c6629",
   "metadata": {},
   "outputs": [],
   "source": [
    "# df의 처음 5행을 출력합니다.\n",
    "df.head()"
   ]
  },
  {
   "cell_type": "markdown",
   "id": "30aa1380",
   "metadata": {},
   "source": [
    "### 공분산"
   ]
  },
  {
   "cell_type": "code",
   "execution_count": null,
   "id": "ead145c0",
   "metadata": {},
   "outputs": [],
   "source": [
    "# 두 연속형 변수의 공분산을 반환합니다.\n",
    "df['Age'].cov(df['Price'])"
   ]
  },
  {
   "cell_type": "code",
   "execution_count": null,
   "id": "61c81778",
   "metadata": {},
   "outputs": [],
   "source": [
    "# df에 포함된 모든 연속형 변수의 분산-공분산 행렬을 반환합니다.\n",
    "df.cov().round(2)"
   ]
  },
  {
   "cell_type": "markdown",
   "id": "f52bbe7a",
   "metadata": {},
   "source": [
    "### 상관계수"
   ]
  },
  {
   "cell_type": "code",
   "execution_count": null,
   "id": "68b23cf0",
   "metadata": {},
   "outputs": [],
   "source": [
    "# 두 연속형 변수의 피어슨 상관계수를 반환합니다.\n",
    "df['Age'].corr(df['Price'])"
   ]
  },
  {
   "cell_type": "code",
   "execution_count": null,
   "id": "87547610",
   "metadata": {},
   "outputs": [],
   "source": [
    "# df에 포함된 모든 연속형 변수의 피어슨 상관계수 행렬을 반환합니다.\n",
    "df.corr().round(2)"
   ]
  },
  {
   "cell_type": "markdown",
   "id": "f9b8e91c",
   "metadata": {},
   "source": [
    "### 피어슨 상관분석"
   ]
  },
  {
   "cell_type": "raw",
   "id": "9ee2d587",
   "metadata": {},
   "source": [
    "# pingouin 라이브러리를 설치합니다.\n",
    "!pip install pingouin"
   ]
  },
  {
   "cell_type": "code",
   "execution_count": null,
   "id": "4e0a7b88",
   "metadata": {},
   "outputs": [],
   "source": [
    "# 관련 라이브러리를 호출합니다.\n",
    "import pingouin as pg"
   ]
  },
  {
   "cell_type": "code",
   "execution_count": null,
   "id": "a007ec5a",
   "metadata": {},
   "outputs": [],
   "source": [
    "# Age와 Price의 피어슨 상관분석을 실행합니다.\n",
    "pg.corr(x = df['Age'], y = df['Price'])"
   ]
  },
  {
   "cell_type": "code",
   "execution_count": null,
   "id": "2d6c9115",
   "metadata": {},
   "outputs": [],
   "source": [
    "# 연속형 입력변수명을 리스트로 생성합니다.\n",
    "cols = ['Age', 'KM', 'HP', 'CC', 'Doors', 'Weight']"
   ]
  },
  {
   "cell_type": "code",
   "execution_count": null,
   "id": "b2e543d0",
   "metadata": {},
   "outputs": [],
   "source": [
    "# 연속형 입력변수와 Price의 피어슨 상관분석 유의확률만 데이터프레임으로 반환합니다.\n",
    "df[cols].apply(func = lambda x: pg.corr(x = x, y = df['Price'])['p-val'])"
   ]
  },
  {
   "cell_type": "markdown",
   "id": "fb781c44",
   "metadata": {},
   "source": [
    "### t-검정: MetColor"
   ]
  },
  {
   "cell_type": "code",
   "execution_count": null,
   "id": "f11a59e6",
   "metadata": {},
   "outputs": [],
   "source": [
    "# 정규성 검정을 실행합니다.\n",
    "pg.normality(data = df, \n",
    "             dv = 'Price', \n",
    "             group = 'MetColor', \n",
    "             method = 'shapiro')"
   ]
  },
  {
   "cell_type": "code",
   "execution_count": null,
   "id": "ceca9783",
   "metadata": {},
   "outputs": [],
   "source": [
    "# (정규성 가정 만족) MetColor의 범주별 Price의 등분산성 검정을 실행합니다.\n",
    "pg.homoscedasticity(data = df, \n",
    "                    dv = 'Price', \n",
    "                    group = 'MetColor', \n",
    "                    method = 'bartlett')"
   ]
  },
  {
   "cell_type": "code",
   "execution_count": null,
   "id": "8717a366",
   "metadata": {},
   "outputs": [],
   "source": [
    "# 범주형 변수별 연속형 변수를 시리즈로 생성합니다.\n",
    "s0 = df['Price'][df['MetColor'].eq(0)]\n",
    "s1 = df['Price'][df['MetColor'].eq(1)]"
   ]
  },
  {
   "cell_type": "code",
   "execution_count": null,
   "id": "f7200b7a",
   "metadata": {},
   "outputs": [],
   "source": [
    "# 이분산 가정된 t-검정을 실행합니다.\n",
    "pg.ttest(x = s0, y = s1, correction = True)"
   ]
  },
  {
   "cell_type": "code",
   "execution_count": null,
   "id": "026fa973",
   "metadata": {},
   "outputs": [],
   "source": [
    "# (정규성 가정 불만족) 맨-휘트니 U 검정을 실행합니다.\n",
    "pg.mwu(x = s0, y = s1)"
   ]
  },
  {
   "cell_type": "markdown",
   "id": "dd3028c8",
   "metadata": {},
   "source": [
    "### t-검정: Automatic"
   ]
  },
  {
   "cell_type": "code",
   "execution_count": null,
   "id": "0f3415a8",
   "metadata": {},
   "outputs": [],
   "source": [
    "# 정규성 검정을 실행합니다.\n",
    "pg.normality(data = df, \n",
    "             dv = 'Price', \n",
    "             group = 'Automatic', \n",
    "             method = 'shapiro')"
   ]
  },
  {
   "cell_type": "code",
   "execution_count": null,
   "id": "1602e35d",
   "metadata": {},
   "outputs": [],
   "source": [
    "# (정규성 가정 만족) Automatic의 범주별 Price의 등분산성 검정을 실행합니다.\n",
    "pg.homoscedasticity(data = df, \n",
    "                    dv = 'Price', \n",
    "                    group = 'Automatic', \n",
    "                    method = 'bartlett')"
   ]
  },
  {
   "cell_type": "code",
   "execution_count": null,
   "id": "f61a7f1c",
   "metadata": {},
   "outputs": [],
   "source": [
    "# 범주형 변수별 연속형 변수를 시리즈로 생성합니다.\n",
    "s0 = df['Price'][df['Automatic'].eq(0)]\n",
    "s1 = df['Price'][df['Automatic'].eq(1)]"
   ]
  },
  {
   "cell_type": "code",
   "execution_count": null,
   "id": "b56e7652",
   "metadata": {},
   "outputs": [],
   "source": [
    "# 등분산 가정된 t-검정을 실행합니다.\n",
    "pg.ttest(x = s0, y = s1, correction = False)"
   ]
  },
  {
   "cell_type": "code",
   "execution_count": null,
   "id": "64004912",
   "metadata": {},
   "outputs": [],
   "source": [
    "# (정규성 가정 불만족) 맨-휘트니 U 검정을 실행합니다.\n",
    "pg.mwu(x = s0, y = s1)"
   ]
  },
  {
   "cell_type": "markdown",
   "id": "43ddbade",
   "metadata": {},
   "source": [
    "### 분산분석: FuelType"
   ]
  },
  {
   "cell_type": "code",
   "execution_count": null,
   "id": "65fb2245",
   "metadata": {},
   "outputs": [],
   "source": [
    "# 정규성 검정을 실행합니다.\n",
    "pg.normality(data = df, \n",
    "             dv = 'Price', \n",
    "             group = 'FuelType', \n",
    "             method = 'shapiro')"
   ]
  },
  {
   "cell_type": "code",
   "execution_count": null,
   "id": "27999cf7",
   "metadata": {},
   "outputs": [],
   "source": [
    "# (정규성 가정 만족) FuelType의 범주별 Price의 등분산성 검정을 실행합니다.\n",
    "pg.homoscedasticity(data = df, \n",
    "                    dv = 'Price', \n",
    "                    group = 'FuelType', \n",
    "                    method = 'bartlett')"
   ]
  },
  {
   "cell_type": "code",
   "execution_count": null,
   "id": "c96538b5",
   "metadata": {},
   "outputs": [],
   "source": [
    "# 등분산 가정된 분산분석을 실행합니다.\n",
    "pg.anova(data = df, dv = 'Price', between = 'FuelType')"
   ]
  },
  {
   "cell_type": "code",
   "execution_count": null,
   "id": "c1583d97",
   "metadata": {},
   "outputs": [],
   "source": [
    "# 이분산 가정된 분산분석을 실행합니다.\n",
    "pg.welch_anova(data = df, dv = 'Price', between = 'FuelType')"
   ]
  },
  {
   "cell_type": "code",
   "execution_count": null,
   "id": "2c99c89a",
   "metadata": {},
   "outputs": [],
   "source": [
    "# (정규성 가정 불만족) 크루스칼-왈리스 순위합 검정을 실행합니다.\n",
    "pg.kruskal(data = df, dv = 'Price', between = 'FuelType')"
   ]
  },
  {
   "cell_type": "code",
   "execution_count": null,
   "id": "4722e034",
   "metadata": {},
   "outputs": [],
   "source": [
    "# Tukey 방식으로 사후분석을 실행합니다.\n",
    "pg.pairwise_tukey(data = df, dv = 'Price', between = 'FuelType')"
   ]
  },
  {
   "cell_type": "markdown",
   "id": "2e9f4268",
   "metadata": {},
   "source": [
    "### 교차분석"
   ]
  },
  {
   "cell_type": "code",
   "execution_count": null,
   "id": "b9279fcb",
   "metadata": {},
   "outputs": [],
   "source": [
    "# 두 범주형 변수로 교차테이블을 출력합니다.\n",
    "pd.crosstab(index = df['MetColor'], columns = df['Automatic'])"
   ]
  },
  {
   "cell_type": "code",
   "execution_count": null,
   "id": "8258c67a",
   "metadata": {},
   "outputs": [],
   "source": [
    "# 카이제곱 검정을 실행합니다.\n",
    "pg.chi2_independence(data = df, x = 'MetColor', y = 'Automatic')"
   ]
  },
  {
   "cell_type": "markdown",
   "id": "ce73cf3a",
   "metadata": {},
   "source": [
    "### 변수 제거 및 압축 파일로 저장"
   ]
  },
  {
   "cell_type": "code",
   "execution_count": null,
   "id": "db8dbe6b",
   "metadata": {},
   "outputs": [],
   "source": [
    "# 가설검정 결과를 반영하여 CC 및 Automatic을 삭제합니다.\n",
    "df = df.drop(labels = ['CC', 'Automatic'], axis = 1)"
   ]
  },
  {
   "cell_type": "code",
   "execution_count": null,
   "id": "77b84029",
   "metadata": {},
   "outputs": [],
   "source": [
    "# FuelType이 'CNG'인 건수가 매우 적고 평균 차이가 없으므로 삭제합니다.\n",
    "df = df[df['FuelType'].ne('CNG')]"
   ]
  },
  {
   "cell_type": "code",
   "execution_count": null,
   "id": "0710b85d",
   "metadata": {},
   "outputs": [],
   "source": [
    "# df의 정보를 확인합니다.\n",
    "df.info()"
   ]
  },
  {
   "cell_type": "code",
   "execution_count": null,
   "id": "a8d0a30c",
   "metadata": {},
   "outputs": [],
   "source": [
    "# df를 압축 파일로 저장합니다.\n",
    "joblib.dump(value = df, filename = 'Used_Cars_Price_Prep.z')"
   ]
  },
  {
   "cell_type": "markdown",
   "id": "9597fc48",
   "metadata": {},
   "source": [
    "## End of Document"
   ]
  }
 ],
 "metadata": {
  "kernelspec": {
   "display_name": "Python 3 (ipykernel)",
   "language": "python",
   "name": "python3"
  },
  "language_info": {
   "codemirror_mode": {
    "name": "ipython",
    "version": 3
   },
   "file_extension": ".py",
   "mimetype": "text/x-python",
   "name": "python",
   "nbconvert_exporter": "python",
   "pygments_lexer": "ipython3",
   "version": "3.10.3"
  },
  "toc": {
   "base_numbering": 1,
   "nav_menu": {},
   "number_sections": true,
   "sideBar": true,
   "skip_h1_title": false,
   "title_cell": "Table of Contents",
   "title_sidebar": "Contents",
   "toc_cell": false,
   "toc_position": {},
   "toc_section_display": true,
   "toc_window_display": false
  },
  "varInspector": {
   "cols": {
    "lenName": 16,
    "lenType": 16,
    "lenVar": 40
   },
   "kernels_config": {
    "python": {
     "delete_cmd_postfix": "",
     "delete_cmd_prefix": "del ",
     "library": "var_list.py",
     "varRefreshCmd": "print(var_dic_list())"
    },
    "r": {
     "delete_cmd_postfix": ") ",
     "delete_cmd_prefix": "rm(",
     "library": "var_list.r",
     "varRefreshCmd": "cat(var_dic_list()) "
    }
   },
   "types_to_exclude": [
    "module",
    "function",
    "builtin_function_or_method",
    "instance",
    "_Feature"
   ],
   "window_display": false
  }
 },
 "nbformat": 4,
 "nbformat_minor": 5
}
