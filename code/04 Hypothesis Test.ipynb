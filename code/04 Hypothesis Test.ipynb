{
 "cells": [
  {
   "cell_type": "markdown",
   "id": "05bd0878",
   "metadata": {},
   "source": [
    "## 가설검정의 이해"
   ]
  },
  {
   "cell_type": "markdown",
   "id": "34f3f65b",
   "metadata": {},
   "source": [
    "### 관련 라이브러리 호출"
   ]
  },
  {
   "cell_type": "code",
   "execution_count": null,
   "id": "6e0fe794",
   "metadata": {
    "ExecuteTime": {
     "end_time": "2022-06-11T04:54:25.336036Z",
     "start_time": "2022-06-11T04:54:24.130843Z"
    }
   },
   "outputs": [],
   "source": [
    "# 관련 라이브러리를 호출합니다.\n",
    "import os\n",
    "import joblib\n",
    "import numpy as np\n",
    "import pandas as pd"
   ]
  },
  {
   "cell_type": "code",
   "execution_count": null,
   "id": "ad87e3ad",
   "metadata": {},
   "outputs": [],
   "source": [
    "# 실수를 출력할 소수점 자리수를 설정합니다.\n",
    "%precision 3\n",
    "pd.options.display.precision = 3"
   ]
  },
  {
   "cell_type": "raw",
   "id": "3f2f4a9b-ff94-4091-bf73-9d11fb1431e3",
   "metadata": {},
   "source": [
    "# 통계 관련 라이브러리를 설치합니다.\n",
    "!pip install pingouin\n",
    "!pip install scikit_posthocs"
   ]
  },
  {
   "cell_type": "raw",
   "id": "f1b80b2c-aa26-4dde-add4-f231f67818fd",
   "metadata": {},
   "source": [
    "# [참고] 아나콘다 사용자는 터미널에서 아래 코드를 실행합니다. \n",
    "conda install -c conda-forge pingouin"
   ]
  },
  {
   "cell_type": "code",
   "execution_count": null,
   "id": "4ea05eec",
   "metadata": {},
   "outputs": [],
   "source": [
    "# 통계 관련 라이브러리를 호출합니다.\n",
    "from scipy import stats\n",
    "import pingouin as pg\n",
    "import scikit_posthocs as sp"
   ]
  },
  {
   "cell_type": "markdown",
   "id": "ed7d6b62",
   "metadata": {},
   "source": [
    "### 작업 경로 확인 및 변경"
   ]
  },
  {
   "cell_type": "code",
   "execution_count": null,
   "id": "f6739ed2",
   "metadata": {
    "ExecuteTime": {
     "end_time": "2022-06-11T04:54:25.346524Z",
     "start_time": "2022-06-11T04:54:25.338508Z"
    }
   },
   "outputs": [],
   "source": [
    "# 현재 작업 경로를 확인합니다.\n",
    "os.getcwd()"
   ]
  },
  {
   "cell_type": "code",
   "execution_count": null,
   "id": "9bc50609",
   "metadata": {
    "ExecuteTime": {
     "end_time": "2022-06-11T04:54:25.350306Z",
     "start_time": "2022-06-11T04:54:25.348167Z"
    }
   },
   "outputs": [],
   "source": [
    "# data 폴더로 작업 경로를 변경합니다.\n",
    "os.chdir('../data')"
   ]
  },
  {
   "cell_type": "code",
   "execution_count": null,
   "id": "696d9b4c",
   "metadata": {
    "ExecuteTime": {
     "end_time": "2022-06-11T04:54:25.356344Z",
     "start_time": "2022-06-11T04:54:25.352849Z"
    }
   },
   "outputs": [],
   "source": [
    "# 현재 작업 경로에 있는 폴더명과 파일명을 출력합니다.\n",
    "os.listdir()"
   ]
  },
  {
   "cell_type": "markdown",
   "id": "9692ff48",
   "metadata": {},
   "source": [
    "### 실습 데이터셋 준비"
   ]
  },
  {
   "cell_type": "code",
   "execution_count": null,
   "id": "f3f01b8f",
   "metadata": {
    "ExecuteTime": {
     "end_time": "2022-06-11T04:54:25.362483Z",
     "start_time": "2022-06-11T04:54:25.358381Z"
    }
   },
   "outputs": [],
   "source": [
    "# z 파일을 읽고 데이터프레임 df를 생성합니다.\n",
    "df = joblib.load(filename = 'Used_Cars_Price.z')"
   ]
  },
  {
   "cell_type": "code",
   "execution_count": null,
   "id": "3ba5b942",
   "metadata": {
    "ExecuteTime": {
     "end_time": "2022-06-11T04:54:25.373754Z",
     "start_time": "2022-06-11T04:54:25.364002Z"
    }
   },
   "outputs": [],
   "source": [
    "# df의 정보를 확인합니다.\n",
    "df.info()"
   ]
  },
  {
   "cell_type": "code",
   "execution_count": null,
   "id": "ca308b52",
   "metadata": {
    "ExecuteTime": {
     "end_time": "2022-06-11T04:54:25.384893Z",
     "start_time": "2022-06-11T04:54:25.375538Z"
    }
   },
   "outputs": [],
   "source": [
    "# df의 처음 5행을 출력합니다.\n",
    "df.head()"
   ]
  },
  {
   "cell_type": "markdown",
   "id": "30aa1380",
   "metadata": {},
   "source": [
    "### 공분산"
   ]
  },
  {
   "cell_type": "code",
   "execution_count": null,
   "id": "ead145c0",
   "metadata": {
    "ExecuteTime": {
     "end_time": "2022-06-11T04:54:25.391225Z",
     "start_time": "2022-06-11T04:54:25.386677Z"
    }
   },
   "outputs": [],
   "source": [
    "# 두 연속형 변수의 공분산을 반환합니다.\n",
    "df['Age'].cov(df['Price'])"
   ]
  },
  {
   "cell_type": "code",
   "execution_count": null,
   "id": "61c81778",
   "metadata": {
    "ExecuteTime": {
     "end_time": "2022-06-11T04:54:25.404391Z",
     "start_time": "2022-06-11T04:54:25.392919Z"
    }
   },
   "outputs": [],
   "source": [
    "# df의 연속형 변수로 분산-공분산 행렬을 반환합니다.\n",
    "df.cov()"
   ]
  },
  {
   "cell_type": "markdown",
   "id": "f52bbe7a",
   "metadata": {},
   "source": [
    "### 상관계수"
   ]
  },
  {
   "cell_type": "code",
   "execution_count": null,
   "id": "68b23cf0",
   "metadata": {
    "ExecuteTime": {
     "end_time": "2022-06-11T04:54:25.414554Z",
     "start_time": "2022-06-11T04:54:25.409966Z"
    }
   },
   "outputs": [],
   "source": [
    "# 두 연속형 변수의 피어슨 상관계수를 반환합니다.\n",
    "df['Age'].corr(df['Price'])"
   ]
  },
  {
   "cell_type": "code",
   "execution_count": null,
   "id": "87547610",
   "metadata": {
    "ExecuteTime": {
     "end_time": "2022-06-11T04:54:25.429855Z",
     "start_time": "2022-06-11T04:54:25.416178Z"
    }
   },
   "outputs": [],
   "source": [
    "# df의 연속형 변수로 피어슨 상관계수 행렬을 반환합니다.\n",
    "df.corr()"
   ]
  },
  {
   "cell_type": "markdown",
   "id": "f9b8e91c",
   "metadata": {},
   "source": [
    "### 피어슨 상관분석"
   ]
  },
  {
   "cell_type": "code",
   "execution_count": null,
   "id": "a007ec5a",
   "metadata": {
    "ExecuteTime": {
     "end_time": "2022-06-11T04:54:25.447906Z",
     "start_time": "2022-06-11T04:54:25.431506Z"
    }
   },
   "outputs": [],
   "source": [
    "# Age와 Price의 피어슨 상관분석을 실행하고 유의확률을 확인합니다.\n",
    "pg.corr(x = df['Age'], y = df['Price'])"
   ]
  },
  {
   "cell_type": "code",
   "execution_count": null,
   "id": "80c0695d",
   "metadata": {
    "ExecuteTime": {
     "end_time": "2022-06-11T04:54:25.462973Z",
     "start_time": "2022-06-11T04:54:25.449521Z"
    }
   },
   "outputs": [],
   "source": [
    "# KM와 Price의 피어슨 상관분석을 실행하고 유의확률을 확인합니다.\n",
    "pg.corr(x = df['KM'], y = df['Price'])"
   ]
  },
  {
   "cell_type": "code",
   "execution_count": null,
   "id": "ff1e8edf",
   "metadata": {
    "ExecuteTime": {
     "end_time": "2022-06-11T04:54:25.478324Z",
     "start_time": "2022-06-11T04:54:25.464801Z"
    }
   },
   "outputs": [],
   "source": [
    "# HP와 Price의 피어슨 상관분석을 실행하고 유의확률을 확인합니다.\n",
    "pg.corr(x = df['HP'], y = df['Price'])"
   ]
  },
  {
   "cell_type": "code",
   "execution_count": null,
   "id": "f9b4b424",
   "metadata": {
    "ExecuteTime": {
     "end_time": "2022-06-11T04:54:25.489930Z",
     "start_time": "2022-06-11T04:54:25.479953Z"
    }
   },
   "outputs": [],
   "source": [
    "# CC와 Price의 피어슨 상관분석을 실행하고 유의확률을 확인합니다.\n",
    "pg.corr(x = df['CC'], y = df['Price'])"
   ]
  },
  {
   "cell_type": "code",
   "execution_count": null,
   "id": "4fcf9d12",
   "metadata": {
    "ExecuteTime": {
     "end_time": "2022-06-11T04:54:25.504013Z",
     "start_time": "2022-06-11T04:54:25.492221Z"
    }
   },
   "outputs": [],
   "source": [
    "# Doors와 Price의 피어슨 상관분석을 실행하고 유의확률을 확인합니다.\n",
    "pg.corr(x = df['Doors'], y = df['Price'])"
   ]
  },
  {
   "cell_type": "code",
   "execution_count": null,
   "id": "c01f3838",
   "metadata": {
    "ExecuteTime": {
     "end_time": "2022-06-11T04:54:25.517898Z",
     "start_time": "2022-06-11T04:54:25.505979Z"
    }
   },
   "outputs": [],
   "source": [
    "# Weight와 Price의 피어슨 상관분석을 실행하고 유의확률을 확인합니다.\n",
    "pg.corr(x = df['Weight'], y = df['Price'])"
   ]
  },
  {
   "cell_type": "markdown",
   "id": "45641785-5c09-448b-a767-d0c39752b3b8",
   "metadata": {},
   "source": [
    "### [참고] 피어슨 상관분석 유의확률 출력 함수 생성"
   ]
  },
  {
   "cell_type": "code",
   "execution_count": null,
   "id": "4bfdcf06-e476-410b-8798-220aeb4db6f1",
   "metadata": {},
   "outputs": [],
   "source": [
    "# 변수 x에 df의 연속형 변수를 할당합니다.\n",
    "x = df['Age']"
   ]
  },
  {
   "cell_type": "code",
   "execution_count": null,
   "id": "4a7ecc15-ca7d-4dcb-b6b5-79065714eb69",
   "metadata": {},
   "outputs": [],
   "source": [
    "# 변수 x와 Price의 피어슨 상관분석 실행 결과에서 유의확률만 출력합니다.\n",
    "pg.corr(x = x, y = df['Price'])['p-val']"
   ]
  },
  {
   "cell_type": "code",
   "execution_count": null,
   "id": "59aabbf9-0673-4d2e-bff4-56c8ba9c0fed",
   "metadata": {},
   "outputs": [],
   "source": [
    "# 연속형 입력변수와의 상관분석 유의확률을 출력하는 람다 표현식을 생성합니다.\n",
    "corr = lambda x: pg.corr(x = x, y = df['Price'])['p-val']"
   ]
  },
  {
   "cell_type": "code",
   "execution_count": null,
   "id": "549bd637-61b1-42b9-ba19-c87dc5ad0ae5",
   "metadata": {},
   "outputs": [],
   "source": [
    "# 람다 표현식 함수로 피어슨 상관분석 유의확률을 출력합니다.\n",
    "corr(x = df['Age'])"
   ]
  },
  {
   "cell_type": "markdown",
   "id": "570a3f6c",
   "metadata": {},
   "source": [
    "### [참고] apply() 함수를 활용한 상관분석 실행"
   ]
  },
  {
   "cell_type": "code",
   "execution_count": null,
   "id": "e6e68c98",
   "metadata": {
    "ExecuteTime": {
     "end_time": "2022-06-11T04:54:25.529011Z",
     "start_time": "2022-06-11T04:54:25.519752Z"
    }
   },
   "outputs": [],
   "source": [
    "# df의 열별 자료형을 확인합니다.\n",
    "df.dtypes"
   ]
  },
  {
   "cell_type": "code",
   "execution_count": null,
   "id": "79da48da",
   "metadata": {
    "ExecuteTime": {
     "end_time": "2022-06-11T04:54:25.541606Z",
     "start_time": "2022-06-11T04:54:25.536577Z"
    }
   },
   "outputs": [],
   "source": [
    "# 열별 자료형이 정수형 또는 실수형이면 True, 아니면 False인 벡터를 생성합니다.\n",
    "locs = df.dtypes.astype(str).isin(values = ['float64', 'int64'])\n",
    "locs"
   ]
  },
  {
   "cell_type": "code",
   "execution_count": null,
   "id": "75ee37e6",
   "metadata": {
    "ExecuteTime": {
     "end_time": "2022-06-11T04:54:25.572897Z",
     "start_time": "2022-06-11T04:54:25.544274Z"
    }
   },
   "outputs": [],
   "source": [
    "# df의 정수형 또는 실수형 변수만 선택하여 상관분석을 실행하고, \n",
    "# 유의확률이 0.05보다 작은지 여부를 데이터프레임으로 반환합니다.\n",
    "df.loc[:, locs].apply(func = corr).lt(0.05)"
   ]
  },
  {
   "cell_type": "markdown",
   "id": "fb781c44",
   "metadata": {},
   "source": [
    "### t-검정: MetColor"
   ]
  },
  {
   "cell_type": "code",
   "execution_count": null,
   "id": "f11a59e6",
   "metadata": {
    "ExecuteTime": {
     "end_time": "2022-06-11T04:54:25.588502Z",
     "start_time": "2022-06-11T04:54:25.575331Z"
    }
   },
   "outputs": [],
   "source": [
    "# MetColor 범주별 Price의 정규성 검정을 실행합니다.\n",
    "pg.normality(data = df, dv = 'Price', group = 'MetColor', method = 'shapiro')"
   ]
  },
  {
   "cell_type": "code",
   "execution_count": null,
   "id": "ceca9783",
   "metadata": {
    "ExecuteTime": {
     "end_time": "2022-06-11T04:54:25.600220Z",
     "start_time": "2022-06-11T04:54:25.590871Z"
    }
   },
   "outputs": [],
   "source": [
    "# (정규성 가정 만족) MetColor 범주별 Price의 등분산성 검정을 실행합니다.\n",
    "pg.homoscedasticity(data = df, dv = 'Price', group = 'MetColor', method = 'levene')"
   ]
  },
  {
   "cell_type": "code",
   "execution_count": null,
   "id": "af4699f8",
   "metadata": {},
   "outputs": [],
   "source": [
    "# MetColor 원소의 중복을 제거한 values를 생성합니다.\n",
    "values = df['MetColor'].sort_values().unique()\n",
    "values"
   ]
  },
  {
   "cell_type": "code",
   "execution_count": null,
   "id": "0311d074",
   "metadata": {},
   "outputs": [],
   "source": [
    "# MetColor 범주별 Price로 시리즈를 생성합니다.\n",
    "sp1, sp2 = [df['Price'][df['MetColor'].eq(v)] for v in values]"
   ]
  },
  {
   "cell_type": "code",
   "execution_count": null,
   "id": "09f0d853",
   "metadata": {},
   "outputs": [],
   "source": [
    "# 두 시리즈의 평균을 확인합니다.\n",
    "print(sp1.mean())\n",
    "print(sp2.mean())"
   ]
  },
  {
   "cell_type": "code",
   "execution_count": null,
   "id": "1e7a7632",
   "metadata": {
    "ExecuteTime": {
     "end_time": "2022-06-11T04:54:25.619408Z",
     "start_time": "2022-06-11T04:54:25.607108Z"
    }
   },
   "outputs": [],
   "source": [
    "# 등분산 가정된 t-검정을 실행합니다.\n",
    "pg.ttest(x = sp1, y = sp2, correction = False)"
   ]
  },
  {
   "cell_type": "code",
   "execution_count": null,
   "id": "f7200b7a",
   "metadata": {
    "ExecuteTime": {
     "end_time": "2022-06-11T04:54:25.634009Z",
     "start_time": "2022-06-11T04:54:25.621043Z"
    }
   },
   "outputs": [],
   "source": [
    "# 이분산 가정된 t-검정을 실행합니다.\n",
    "pg.ttest(x = sp1, y = sp2, correction = True)"
   ]
  },
  {
   "cell_type": "code",
   "execution_count": null,
   "id": "026fa973",
   "metadata": {
    "ExecuteTime": {
     "end_time": "2022-06-11T04:54:25.649600Z",
     "start_time": "2022-06-11T04:54:25.635731Z"
    }
   },
   "outputs": [],
   "source": [
    "# (정규성 가정 불만족) 맨-휘트니 U 검정을 실행합니다.\n",
    "pg.mwu(x = sp1, y = sp2)"
   ]
  },
  {
   "cell_type": "markdown",
   "id": "dd3028c8",
   "metadata": {},
   "source": [
    "### t-검정: Automatic"
   ]
  },
  {
   "cell_type": "code",
   "execution_count": null,
   "id": "0f3415a8",
   "metadata": {
    "ExecuteTime": {
     "end_time": "2022-06-11T04:54:25.668589Z",
     "start_time": "2022-06-11T04:54:25.658240Z"
    }
   },
   "outputs": [],
   "source": [
    "# Automatic 범주별 Price의 정규성 검정을 실행합니다.\n",
    "pg.normality(data = df, dv = 'Price', group = 'Automatic', method = 'shapiro')"
   ]
  },
  {
   "cell_type": "code",
   "execution_count": null,
   "id": "1602e35d",
   "metadata": {
    "ExecuteTime": {
     "end_time": "2022-06-11T04:54:25.679020Z",
     "start_time": "2022-06-11T04:54:25.670158Z"
    }
   },
   "outputs": [],
   "source": [
    "# (정규성 가정 만족) Automatic 범주별 Price의 등분산성 검정을 실행합니다.\n",
    "pg.homoscedasticity(data = df, dv = 'Price', group = 'Automatic', method = 'levene')"
   ]
  },
  {
   "cell_type": "code",
   "execution_count": null,
   "id": "07b79cd4",
   "metadata": {},
   "outputs": [],
   "source": [
    "# Automatic 원소의 중복을 제거한 values를 생성합니다.\n",
    "values = df['Automatic'].sort_values().unique()\n",
    "values"
   ]
  },
  {
   "cell_type": "code",
   "execution_count": null,
   "id": "47dc99f9",
   "metadata": {},
   "outputs": [],
   "source": [
    "# Automatic 범주별 Price로 시리즈를 생성합니다.\n",
    "sp1, sp2 = [df['Price'][df['Automatic'].eq(v)] for v in values]"
   ]
  },
  {
   "cell_type": "code",
   "execution_count": null,
   "id": "5ffc7d4a-ed0d-46e4-8d51-ae6fca89aefe",
   "metadata": {},
   "outputs": [],
   "source": [
    "# 두 시리즈의 평균을 확인합니다.\n",
    "print(sp1.mean())\n",
    "print(sp2.mean())"
   ]
  },
  {
   "cell_type": "code",
   "execution_count": null,
   "id": "b56e7652",
   "metadata": {
    "ExecuteTime": {
     "end_time": "2022-06-11T04:54:25.697765Z",
     "start_time": "2022-06-11T04:54:25.685415Z"
    }
   },
   "outputs": [],
   "source": [
    "# 등분산 가정된 t-검정을 실행합니다.\n",
    "pg.ttest(x = sp1, y = sp2, correction = False)"
   ]
  },
  {
   "cell_type": "code",
   "execution_count": null,
   "id": "ffb19d4a",
   "metadata": {
    "ExecuteTime": {
     "end_time": "2022-06-11T04:54:25.711243Z",
     "start_time": "2022-06-11T04:54:25.699261Z"
    }
   },
   "outputs": [],
   "source": [
    "# 이분산 가정된 t-검정을 실행합니다.\n",
    "pg.ttest(x = sp1, y = sp2, correction = True)"
   ]
  },
  {
   "cell_type": "code",
   "execution_count": null,
   "id": "64004912",
   "metadata": {
    "ExecuteTime": {
     "end_time": "2022-06-11T04:54:25.721909Z",
     "start_time": "2022-06-11T04:54:25.712937Z"
    }
   },
   "outputs": [],
   "source": [
    "# (정규성 가정 불만족) 맨-휘트니 U 검정을 실행합니다.\n",
    "pg.mwu(x = sp1, y = sp2)"
   ]
  },
  {
   "cell_type": "markdown",
   "id": "43ddbade",
   "metadata": {},
   "source": [
    "### 분산분석: FuelType"
   ]
  },
  {
   "cell_type": "code",
   "execution_count": null,
   "id": "65fb2245",
   "metadata": {
    "ExecuteTime": {
     "end_time": "2022-06-11T04:54:25.739361Z",
     "start_time": "2022-06-11T04:54:25.723754Z"
    }
   },
   "outputs": [],
   "source": [
    "# FuelType 범주별 Price의 정규성 검정을 실행합니다.\n",
    "pg.normality(data = df, dv = 'Price', group = 'FuelType', method = 'shapiro')"
   ]
  },
  {
   "cell_type": "code",
   "execution_count": null,
   "id": "27999cf7",
   "metadata": {
    "ExecuteTime": {
     "end_time": "2022-06-11T04:54:25.749768Z",
     "start_time": "2022-06-11T04:54:25.741463Z"
    }
   },
   "outputs": [],
   "source": [
    "# (정규성 가정 만족) FuelType 범주별 Price의 등분산성 검정을 실행합니다.\n",
    "pg.homoscedasticity(data = df, dv = 'Price', group = 'FuelType', method = 'levene')"
   ]
  },
  {
   "cell_type": "code",
   "execution_count": null,
   "id": "c96538b5",
   "metadata": {
    "ExecuteTime": {
     "end_time": "2022-06-11T04:54:25.765131Z",
     "start_time": "2022-06-11T04:54:25.751414Z"
    }
   },
   "outputs": [],
   "source": [
    "# 등분산 가정된 분산분석을 실행합니다.\n",
    "pg.anova(data = df, dv = 'Price', between = 'FuelType')"
   ]
  },
  {
   "cell_type": "code",
   "execution_count": null,
   "id": "c1583d97",
   "metadata": {
    "ExecuteTime": {
     "end_time": "2022-06-11T04:54:25.780675Z",
     "start_time": "2022-06-11T04:54:25.767226Z"
    }
   },
   "outputs": [],
   "source": [
    "# 이분산 가정된 분산분석을 실행합니다.\n",
    "pg.welch_anova(data = df, dv = 'Price', between = 'FuelType')"
   ]
  },
  {
   "cell_type": "code",
   "execution_count": null,
   "id": "2c99c89a",
   "metadata": {
    "ExecuteTime": {
     "end_time": "2022-06-11T04:54:25.791764Z",
     "start_time": "2022-06-11T04:54:25.782273Z"
    }
   },
   "outputs": [],
   "source": [
    "# (정규성 가정 불만족) 크루스칼-왈리스 순위합 검정을 실행합니다.\n",
    "pg.kruskal(data = df, dv = 'Price', between = 'FuelType')"
   ]
  },
  {
   "cell_type": "markdown",
   "id": "dffa2197-e3dd-428d-a1f7-a20c501f8798",
   "metadata": {},
   "source": [
    "### 사후분석(다중비교)"
   ]
  },
  {
   "cell_type": "code",
   "execution_count": null,
   "id": "b06a896b-eab1-431c-9844-46337776f322",
   "metadata": {},
   "outputs": [],
   "source": [
    "# Bonferroni 방법으로 사후분석을 실행합니다.\n",
    "sp.posthoc_ttest(a = df, val_col = 'Price', group_col = 'FuelType', p_adjust = 'bonferroni')"
   ]
  },
  {
   "cell_type": "code",
   "execution_count": null,
   "id": "4722e034",
   "metadata": {
    "ExecuteTime": {
     "end_time": "2022-06-11T04:54:25.896194Z",
     "start_time": "2022-06-11T04:54:25.794951Z"
    }
   },
   "outputs": [],
   "source": [
    "# Tukey 방법으로 사후분석을 실행합니다.\n",
    "sp.posthoc_tukey(a = df, val_col = 'Price', group_col = 'FuelType')"
   ]
  },
  {
   "cell_type": "code",
   "execution_count": null,
   "id": "66fccc1e-cc2b-4034-881b-6568a0f4955f",
   "metadata": {},
   "outputs": [],
   "source": [
    "# Scheffe 방법으로 사후분석을 실행합니다.\n",
    "sp.posthoc_scheffe(a = df, val_col = 'Price', group_col = 'FuelType')"
   ]
  },
  {
   "cell_type": "code",
   "execution_count": null,
   "id": "27ec7621-dfb0-49de-9949-028ed70e3fe0",
   "metadata": {},
   "outputs": [],
   "source": [
    "# Tamhane 방법으로 사후분석을 실행합니다.\n",
    "sp.posthoc_tamhane(a = df, val_col = 'Price', group_col = 'FuelType')"
   ]
  },
  {
   "cell_type": "code",
   "execution_count": null,
   "id": "2d140e87-2448-493d-9034-04f16a5bc14d",
   "metadata": {},
   "outputs": [],
   "source": [
    "# Nemenyi 방법으로 사후분석을 실행합니다.\n",
    "sp.posthoc_nemenyi(a = df, val_col = 'Price', group_col = 'FuelType')"
   ]
  },
  {
   "cell_type": "markdown",
   "id": "2e9f4268",
   "metadata": {},
   "source": [
    "### 교차분석"
   ]
  },
  {
   "cell_type": "code",
   "execution_count": null,
   "id": "b9279fcb",
   "metadata": {
    "ExecuteTime": {
     "end_time": "2022-06-11T04:54:25.911243Z",
     "start_time": "2022-06-11T04:54:25.898109Z"
    }
   },
   "outputs": [],
   "source": [
    "# 두 범주형 변수의 빈도수를 출력합니다.\n",
    "pd.crosstab(index = df['MetColor'], columns = df['Automatic'])"
   ]
  },
  {
   "cell_type": "code",
   "execution_count": null,
   "id": "f47fefb2",
   "metadata": {
    "ExecuteTime": {
     "end_time": "2022-06-11T04:54:25.942041Z",
     "start_time": "2022-06-11T04:54:25.912779Z"
    }
   },
   "outputs": [],
   "source": [
    "# 두 범주형 변수의 상대도수를 출력합니다.\n",
    "pd.crosstab(index = df['MetColor'], columns = df['Automatic'], \n",
    "            normalize = 'index', margins = True)"
   ]
  },
  {
   "cell_type": "code",
   "execution_count": null,
   "id": "8258c67a",
   "metadata": {
    "ExecuteTime": {
     "end_time": "2022-06-11T04:54:25.968345Z",
     "start_time": "2022-06-11T04:54:25.945052Z"
    }
   },
   "outputs": [],
   "source": [
    "# 두 범주형 변수로 교차분석(카이제곱 검정)을 실행합니다.\n",
    "test = pg.chi2_independence(data = df, x = 'MetColor', y = 'Automatic', \n",
    "                            correction = False)\n",
    "\n",
    "# 교차분석 결과를 확인합니다.\n",
    "test[2].iloc[[0]]"
   ]
  },
  {
   "cell_type": "code",
   "execution_count": null,
   "id": "1435ef51-6c0b-4053-9ade-d3012e6d25b0",
   "metadata": {},
   "outputs": [],
   "source": [
    "# 피셔의 정확검정을 실행하면 오즈비와 유의확률을 반환합니다.\n",
    "# test의 두 번째 원소인 관측값 행렬을 지정합니다.\n",
    "stats.fisher_exact(table = test[1])"
   ]
  },
  {
   "cell_type": "markdown",
   "id": "ce73cf3a",
   "metadata": {},
   "source": [
    "### 변수 제거 및 압축 파일로 저장"
   ]
  },
  {
   "cell_type": "code",
   "execution_count": null,
   "id": "db8dbe6b",
   "metadata": {
    "ExecuteTime": {
     "end_time": "2022-06-11T04:54:25.974812Z",
     "start_time": "2022-06-11T04:54:25.970670Z"
    }
   },
   "outputs": [],
   "source": [
    "# 가설검정 결과를 반영하여 CC와 Automatic을 삭제합니다.\n",
    "df = df.drop(columns = ['CC', 'Automatic'])"
   ]
  },
  {
   "cell_type": "code",
   "execution_count": null,
   "id": "77b84029",
   "metadata": {
    "ExecuteTime": {
     "end_time": "2022-06-11T04:54:25.981052Z",
     "start_time": "2022-06-11T04:54:25.977107Z"
    }
   },
   "outputs": [],
   "source": [
    "# FuelType이 'CNG'인 건수가 매우 적고 Petrol, Diesel과의 \n",
    "# 목표변수 평균에서 유의한 차이가 없으므로 삭제합니다.\n",
    "df = df[df['FuelType'].ne('CNG')]"
   ]
  },
  {
   "cell_type": "code",
   "execution_count": null,
   "id": "4eda3d10",
   "metadata": {
    "ExecuteTime": {
     "end_time": "2022-06-11T04:54:25.985227Z",
     "start_time": "2022-06-11T04:54:25.982680Z"
    }
   },
   "outputs": [],
   "source": [
    "# df의 행이름을 초기화합니다.\n",
    "df = df.reset_index(drop = True)"
   ]
  },
  {
   "cell_type": "code",
   "execution_count": null,
   "id": "a8d0a30c",
   "metadata": {
    "ExecuteTime": {
     "end_time": "2022-06-11T04:54:25.994361Z",
     "start_time": "2022-06-11T04:54:25.987545Z"
    }
   },
   "outputs": [],
   "source": [
    "# df를 z 파일로 저장합니다.\n",
    "joblib.dump(value = df, filename = 'Used_Cars_Price_Prep.z')"
   ]
  },
  {
   "cell_type": "markdown",
   "id": "9597fc48",
   "metadata": {},
   "source": [
    "## End of Document"
   ]
  }
 ],
 "metadata": {
  "kernelspec": {
   "display_name": "Python 3 (ipykernel)",
   "language": "python",
   "name": "python3"
  },
  "language_info": {
   "codemirror_mode": {
    "name": "ipython",
    "version": 3
   },
   "file_extension": ".py",
   "mimetype": "text/x-python",
   "name": "python",
   "nbconvert_exporter": "python",
   "pygments_lexer": "ipython3",
   "version": "3.10.4"
  },
  "toc": {
   "base_numbering": 1,
   "nav_menu": {},
   "number_sections": false,
   "sideBar": true,
   "skip_h1_title": false,
   "title_cell": "Table of Contents",
   "title_sidebar": "Contents",
   "toc_cell": false,
   "toc_position": {},
   "toc_section_display": true,
   "toc_window_display": false
  },
  "varInspector": {
   "cols": {
    "lenName": 16,
    "lenType": 16,
    "lenVar": 40
   },
   "kernels_config": {
    "python": {
     "delete_cmd_postfix": "",
     "delete_cmd_prefix": "del ",
     "library": "var_list.py",
     "varRefreshCmd": "print(var_dic_list())"
    },
    "r": {
     "delete_cmd_postfix": ") ",
     "delete_cmd_prefix": "rm(",
     "library": "var_list.r",
     "varRefreshCmd": "cat(var_dic_list()) "
    }
   },
   "types_to_exclude": [
    "module",
    "function",
    "builtin_function_or_method",
    "instance",
    "_Feature"
   ],
   "window_display": false
  }
 },
 "nbformat": 4,
 "nbformat_minor": 5
}
