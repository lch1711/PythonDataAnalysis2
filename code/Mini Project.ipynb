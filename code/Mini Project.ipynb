{
 "cells": [
  {
   "cell_type": "markdown",
   "id": "dde8d412",
   "metadata": {},
   "source": [
    "## 공공데이터 실습: 국가별 수산물 수출입 현황 (2021년)"
   ]
  },
  {
   "cell_type": "markdown",
   "id": "d844785c",
   "metadata": {},
   "source": [
    "### 실습 데이터셋 설명\n",
    "\n",
    "- 2021년 1월부터 12월까지 전세계 165여 개 국가와 수산물 수출입 데이터\n",
    "- 변수(열)에 대한 간단 설명\n",
    "  - ymonth: 거래년월\n",
    "  - nation: 거래국가\n",
    "  - itemNm: 거래품목(수산물)\n",
    "  - imxprt: 수출/수입 구분\n",
    "  - weight: 거래중량(kg)\n",
    "  - dollar: 거래금액(달러)"
   ]
  },
  {
   "cell_type": "code",
   "execution_count": 1,
   "id": "b387b6b6",
   "metadata": {},
   "outputs": [],
   "source": [
    "# 관련 라이브러리 호출\n",
    "import os, chardet\n",
    "import numpy as np\n",
    "import pandas as pd"
   ]
  },
  {
   "cell_type": "code",
   "execution_count": 2,
   "id": "04b2f80a",
   "metadata": {},
   "outputs": [],
   "source": [
    "# 인터넷에 공유 중인 csv 파일 주소를 문자열로 생성\n",
    "fileName = 'https://bit.ly/Seafood_Trade_2021yr'"
   ]
  },
  {
   "cell_type": "code",
   "execution_count": 3,
   "id": "7a40dc11",
   "metadata": {},
   "outputs": [],
   "source": [
    "# csv 파일을 읽고 데이터프레임 sf 생성(인코딩 방식: UTF-8)\n",
    "sf = pd.read_csv(filepath_or_buffer = fileName)"
   ]
  },
  {
   "cell_type": "code",
   "execution_count": 4,
   "id": "b34ac766",
   "metadata": {},
   "outputs": [
    {
     "name": "stdout",
     "output_type": "stream",
     "text": [
      "<class 'pandas.core.frame.DataFrame'>\n",
      "RangeIndex: 31865 entries, 0 to 31864\n",
      "Data columns (total 6 columns):\n",
      " #   Column  Non-Null Count  Dtype  \n",
      "---  ------  --------------  -----  \n",
      " 0   ymonth  31865 non-null  int64  \n",
      " 1   nation  31865 non-null  object \n",
      " 2   itemNm  31865 non-null  object \n",
      " 3   imxprt  31865 non-null  object \n",
      " 4   weight  31865 non-null  float64\n",
      " 5   dollar  31865 non-null  int64  \n",
      "dtypes: float64(1), int64(2), object(3)\n",
      "memory usage: 1.5+ MB\n"
     ]
    }
   ],
   "source": [
    "# sf의 정보 확인\n"
   ]
  },
  {
   "cell_type": "code",
   "execution_count": 5,
   "id": "66413e2b",
   "metadata": {},
   "outputs": [
    {
     "data": {
      "text/html": [
       "<div>\n",
       "<style scoped>\n",
       "    .dataframe tbody tr th:only-of-type {\n",
       "        vertical-align: middle;\n",
       "    }\n",
       "\n",
       "    .dataframe tbody tr th {\n",
       "        vertical-align: top;\n",
       "    }\n",
       "\n",
       "    .dataframe thead th {\n",
       "        text-align: right;\n",
       "    }\n",
       "</style>\n",
       "<table border=\"1\" class=\"dataframe\">\n",
       "  <thead>\n",
       "    <tr style=\"text-align: right;\">\n",
       "      <th></th>\n",
       "      <th>ymonth</th>\n",
       "      <th>nation</th>\n",
       "      <th>itemNm</th>\n",
       "      <th>imxprt</th>\n",
       "      <th>weight</th>\n",
       "      <th>dollar</th>\n",
       "    </tr>\n",
       "  </thead>\n",
       "  <tbody>\n",
       "    <tr>\n",
       "      <th>0</th>\n",
       "      <td>202101</td>\n",
       "      <td>가나</td>\n",
       "      <td>고등어</td>\n",
       "      <td>수출</td>\n",
       "      <td>107300.000</td>\n",
       "      <td>121443</td>\n",
       "    </tr>\n",
       "    <tr>\n",
       "      <th>1</th>\n",
       "      <td>202101</td>\n",
       "      <td>가나</td>\n",
       "      <td>기타</td>\n",
       "      <td>수입</td>\n",
       "      <td>10.000</td>\n",
       "      <td>2808</td>\n",
       "    </tr>\n",
       "    <tr>\n",
       "      <th>2</th>\n",
       "      <td>202101</td>\n",
       "      <td>가나</td>\n",
       "      <td>다랑어</td>\n",
       "      <td>수입</td>\n",
       "      <td>47446.800</td>\n",
       "      <td>241880</td>\n",
       "    </tr>\n",
       "    <tr>\n",
       "      <th>3</th>\n",
       "      <td>202101</td>\n",
       "      <td>가나</td>\n",
       "      <td>전갱이</td>\n",
       "      <td>수출</td>\n",
       "      <td>108000.000</td>\n",
       "      <td>106400</td>\n",
       "    </tr>\n",
       "    <tr>\n",
       "      <th>4</th>\n",
       "      <td>202101</td>\n",
       "      <td>가봉</td>\n",
       "      <td>어류</td>\n",
       "      <td>수입</td>\n",
       "      <td>1.615</td>\n",
       "      <td>26</td>\n",
       "    </tr>\n",
       "  </tbody>\n",
       "</table>\n",
       "</div>"
      ],
      "text/plain": [
       "   ymonth nation itemNm imxprt      weight  dollar\n",
       "0  202101     가나    고등어     수출  107300.000  121443\n",
       "1  202101     가나     기타     수입      10.000    2808\n",
       "2  202101     가나    다랑어     수입   47446.800  241880\n",
       "3  202101     가나    전갱이     수출  108000.000  106400\n",
       "4  202101     가봉     어류     수입       1.615      26"
      ]
     },
     "execution_count": 5,
     "metadata": {},
     "output_type": "execute_result"
    }
   ],
   "source": [
    "# sf의 처음 5행 출력\n"
   ]
  },
  {
   "cell_type": "code",
   "execution_count": 6,
   "id": "35948017",
   "metadata": {},
   "outputs": [],
   "source": [
    "# ymonth의 자료형을 문자열로 변환\n"
   ]
  },
  {
   "cell_type": "code",
   "execution_count": 7,
   "id": "1ab7c7d6",
   "metadata": {},
   "outputs": [
    {
     "data": {
      "text/html": [
       "<div>\n",
       "<style scoped>\n",
       "    .dataframe tbody tr th:only-of-type {\n",
       "        vertical-align: middle;\n",
       "    }\n",
       "\n",
       "    .dataframe tbody tr th {\n",
       "        vertical-align: top;\n",
       "    }\n",
       "\n",
       "    .dataframe thead th {\n",
       "        text-align: right;\n",
       "    }\n",
       "</style>\n",
       "<table border=\"1\" class=\"dataframe\">\n",
       "  <thead>\n",
       "    <tr style=\"text-align: right;\">\n",
       "      <th></th>\n",
       "      <th>weight</th>\n",
       "      <th>dollar</th>\n",
       "    </tr>\n",
       "  </thead>\n",
       "  <tbody>\n",
       "    <tr>\n",
       "      <th>count</th>\n",
       "      <td>3.186500e+04</td>\n",
       "      <td>3.186500e+04</td>\n",
       "    </tr>\n",
       "    <tr>\n",
       "      <th>mean</th>\n",
       "      <td>2.255741e+05</td>\n",
       "      <td>2.825160e+05</td>\n",
       "    </tr>\n",
       "    <tr>\n",
       "      <th>std</th>\n",
       "      <td>4.805245e+06</td>\n",
       "      <td>1.388474e+06</td>\n",
       "    </tr>\n",
       "    <tr>\n",
       "      <th>min</th>\n",
       "      <td>0.000000e+00</td>\n",
       "      <td>0.000000e+00</td>\n",
       "    </tr>\n",
       "    <tr>\n",
       "      <th>25%</th>\n",
       "      <td>5.000000e+01</td>\n",
       "      <td>8.380000e+02</td>\n",
       "    </tr>\n",
       "    <tr>\n",
       "      <th>50%</th>\n",
       "      <td>7.340000e+02</td>\n",
       "      <td>8.251000e+03</td>\n",
       "    </tr>\n",
       "    <tr>\n",
       "      <th>75%</th>\n",
       "      <td>1.469400e+04</td>\n",
       "      <td>7.813200e+04</td>\n",
       "    </tr>\n",
       "    <tr>\n",
       "      <th>max</th>\n",
       "      <td>3.071980e+08</td>\n",
       "      <td>4.073708e+07</td>\n",
       "    </tr>\n",
       "  </tbody>\n",
       "</table>\n",
       "</div>"
      ],
      "text/plain": [
       "             weight        dollar\n",
       "count  3.186500e+04  3.186500e+04\n",
       "mean   2.255741e+05  2.825160e+05\n",
       "std    4.805245e+06  1.388474e+06\n",
       "min    0.000000e+00  0.000000e+00\n",
       "25%    5.000000e+01  8.380000e+02\n",
       "50%    7.340000e+02  8.251000e+03\n",
       "75%    1.469400e+04  7.813200e+04\n",
       "max    3.071980e+08  4.073708e+07"
      ]
     },
     "execution_count": 7,
     "metadata": {},
     "output_type": "execute_result"
    }
   ],
   "source": [
    "# sf의 기술통계량 확인: describe() 함수 사용\n"
   ]
  },
  {
   "cell_type": "code",
   "execution_count": 8,
   "id": "d982ac5e",
   "metadata": {},
   "outputs": [],
   "source": [
    "# dollar를 1000으로 나눈 결과를 dollar에 재할당\n"
   ]
  },
  {
   "cell_type": "code",
   "execution_count": 9,
   "id": "613f92e9",
   "metadata": {},
   "outputs": [
    {
     "data": {
      "text/plain": [
       "미국        3351\n",
       "중국        2905\n",
       "일본        2614\n",
       "베트남       1948\n",
       "카나다       1371\n",
       "          ... \n",
       "그루지야         1\n",
       "우간다          1\n",
       "세인트루시아       1\n",
       "룩셈부르그        1\n",
       "통가           1\n",
       "Name: nation, Length: 165, dtype: int64"
      ]
     },
     "execution_count": 9,
     "metadata": {},
     "output_type": "execute_result"
    }
   ],
   "source": [
    "# nation의 빈도수(거래건수) 계산: value_counts() 함수 사용\n"
   ]
  },
  {
   "cell_type": "markdown",
   "id": "1d73330c",
   "metadata": {},
   "source": [
    "### 국가별 수출입금액을 합산하고 무역수지 흑자 상위 국가 확인"
   ]
  },
  {
   "cell_type": "code",
   "execution_count": 10,
   "id": "91b00aa6",
   "metadata": {},
   "outputs": [],
   "source": [
    "# sf로 아래 내용을 실행하고 데이터프레임 elong 생성\n",
    "# nation, imxprt로 그룹을 설정하고 dollar 합계 계산: groupby(), sum() 함수 사용\n",
    "# 시리즈로 반환되는 결과에 행이름 초기화하여 데이터프레임으로 변환: reset_index() 함수 사용\n",
    "# 단, 기존 행이름을 열(컬럼)에 추가해야 함!!!\n"
   ]
  },
  {
   "cell_type": "code",
   "execution_count": 11,
   "id": "2370009b",
   "metadata": {},
   "outputs": [
    {
     "data": {
      "text/html": [
       "<div>\n",
       "<style scoped>\n",
       "    .dataframe tbody tr th:only-of-type {\n",
       "        vertical-align: middle;\n",
       "    }\n",
       "\n",
       "    .dataframe tbody tr th {\n",
       "        vertical-align: top;\n",
       "    }\n",
       "\n",
       "    .dataframe thead th {\n",
       "        text-align: right;\n",
       "    }\n",
       "</style>\n",
       "<table border=\"1\" class=\"dataframe\">\n",
       "  <thead>\n",
       "    <tr style=\"text-align: right;\">\n",
       "      <th></th>\n",
       "      <th>nation</th>\n",
       "      <th>imxprt</th>\n",
       "      <th>dollar</th>\n",
       "    </tr>\n",
       "  </thead>\n",
       "  <tbody>\n",
       "    <tr>\n",
       "      <th>0</th>\n",
       "      <td>가나</td>\n",
       "      <td>수입</td>\n",
       "      <td>1847.987</td>\n",
       "    </tr>\n",
       "    <tr>\n",
       "      <th>1</th>\n",
       "      <td>가나</td>\n",
       "      <td>수출</td>\n",
       "      <td>8088.674</td>\n",
       "    </tr>\n",
       "    <tr>\n",
       "      <th>2</th>\n",
       "      <td>가봉</td>\n",
       "      <td>수입</td>\n",
       "      <td>0.026</td>\n",
       "    </tr>\n",
       "    <tr>\n",
       "      <th>3</th>\n",
       "      <td>가이아나</td>\n",
       "      <td>수입</td>\n",
       "      <td>17.290</td>\n",
       "    </tr>\n",
       "    <tr>\n",
       "      <th>4</th>\n",
       "      <td>가이아나</td>\n",
       "      <td>수출</td>\n",
       "      <td>0.036</td>\n",
       "    </tr>\n",
       "  </tbody>\n",
       "</table>\n",
       "</div>"
      ],
      "text/plain": [
       "  nation imxprt    dollar\n",
       "0     가나     수입  1847.987\n",
       "1     가나     수출  8088.674\n",
       "2     가봉     수입     0.026\n",
       "3   가이아나     수입    17.290\n",
       "4   가이아나     수출     0.036"
      ]
     },
     "execution_count": 11,
     "metadata": {},
     "output_type": "execute_result"
    }
   ],
   "source": [
    "# elong의 처음 5행 출력\n"
   ]
  },
  {
   "cell_type": "code",
   "execution_count": 12,
   "id": "30ff8882",
   "metadata": {},
   "outputs": [],
   "source": [
    "# elong으로 아래 내용을 실행하고 데이터프레임 widen 생성\n",
    "# elong은 Long type이며, Wide type으로 변환: pivot() 함수 사용\n",
    "# index에 nation, columns에 imxprt, values에 dollar 지정\n"
   ]
  },
  {
   "cell_type": "code",
   "execution_count": 13,
   "id": "2b6c3d05",
   "metadata": {},
   "outputs": [
    {
     "data": {
      "text/html": [
       "<div>\n",
       "<style scoped>\n",
       "    .dataframe tbody tr th:only-of-type {\n",
       "        vertical-align: middle;\n",
       "    }\n",
       "\n",
       "    .dataframe tbody tr th {\n",
       "        vertical-align: top;\n",
       "    }\n",
       "\n",
       "    .dataframe thead th {\n",
       "        text-align: right;\n",
       "    }\n",
       "</style>\n",
       "<table border=\"1\" class=\"dataframe\">\n",
       "  <thead>\n",
       "    <tr style=\"text-align: right;\">\n",
       "      <th>imxprt</th>\n",
       "      <th>수입</th>\n",
       "      <th>수출</th>\n",
       "    </tr>\n",
       "    <tr>\n",
       "      <th>nation</th>\n",
       "      <th></th>\n",
       "      <th></th>\n",
       "    </tr>\n",
       "  </thead>\n",
       "  <tbody>\n",
       "    <tr>\n",
       "      <th>가나</th>\n",
       "      <td>1847.987</td>\n",
       "      <td>8088.674</td>\n",
       "    </tr>\n",
       "    <tr>\n",
       "      <th>가봉</th>\n",
       "      <td>0.026</td>\n",
       "      <td>NaN</td>\n",
       "    </tr>\n",
       "    <tr>\n",
       "      <th>가이아나</th>\n",
       "      <td>17.290</td>\n",
       "      <td>0.036</td>\n",
       "    </tr>\n",
       "    <tr>\n",
       "      <th>감비아</th>\n",
       "      <td>2065.081</td>\n",
       "      <td>NaN</td>\n",
       "    </tr>\n",
       "    <tr>\n",
       "      <th>과테말라</th>\n",
       "      <td>NaN</td>\n",
       "      <td>131.373</td>\n",
       "    </tr>\n",
       "  </tbody>\n",
       "</table>\n",
       "</div>"
      ],
      "text/plain": [
       "imxprt        수입        수출\n",
       "nation                    \n",
       "가나      1847.987  8088.674\n",
       "가봉         0.026       NaN\n",
       "가이아나      17.290     0.036\n",
       "감비아     2065.081       NaN\n",
       "과테말라         NaN   131.373"
      ]
     },
     "execution_count": 13,
     "metadata": {},
     "output_type": "execute_result"
    }
   ],
   "source": [
    "# widen의 처음 5행 출력\n"
   ]
  },
  {
   "cell_type": "code",
   "execution_count": 14,
   "id": "a0828479",
   "metadata": {},
   "outputs": [],
   "source": [
    "# widen의 결측값(NaN)을 0으로 대체하고 widen에 재할당\n"
   ]
  },
  {
   "cell_type": "code",
   "execution_count": 15,
   "id": "ba5f482f",
   "metadata": {},
   "outputs": [],
   "source": [
    "# widen으로 아래 내용을 실행하고 widen에 재할당\n",
    "# 행이름을 초기화하여 인덱스인 nation을 열(컬럼)에 추가\n"
   ]
  },
  {
   "cell_type": "code",
   "execution_count": 16,
   "id": "59bfce4f",
   "metadata": {},
   "outputs": [
    {
     "data": {
      "text/html": [
       "<div>\n",
       "<style scoped>\n",
       "    .dataframe tbody tr th:only-of-type {\n",
       "        vertical-align: middle;\n",
       "    }\n",
       "\n",
       "    .dataframe tbody tr th {\n",
       "        vertical-align: top;\n",
       "    }\n",
       "\n",
       "    .dataframe thead th {\n",
       "        text-align: right;\n",
       "    }\n",
       "</style>\n",
       "<table border=\"1\" class=\"dataframe\">\n",
       "  <thead>\n",
       "    <tr style=\"text-align: right;\">\n",
       "      <th>imxprt</th>\n",
       "      <th>nation</th>\n",
       "      <th>수입</th>\n",
       "      <th>수출</th>\n",
       "    </tr>\n",
       "  </thead>\n",
       "  <tbody>\n",
       "    <tr>\n",
       "      <th>0</th>\n",
       "      <td>가나</td>\n",
       "      <td>1847.987</td>\n",
       "      <td>8088.674</td>\n",
       "    </tr>\n",
       "    <tr>\n",
       "      <th>1</th>\n",
       "      <td>가봉</td>\n",
       "      <td>0.026</td>\n",
       "      <td>0.000</td>\n",
       "    </tr>\n",
       "    <tr>\n",
       "      <th>2</th>\n",
       "      <td>가이아나</td>\n",
       "      <td>17.290</td>\n",
       "      <td>0.036</td>\n",
       "    </tr>\n",
       "    <tr>\n",
       "      <th>3</th>\n",
       "      <td>감비아</td>\n",
       "      <td>2065.081</td>\n",
       "      <td>0.000</td>\n",
       "    </tr>\n",
       "    <tr>\n",
       "      <th>4</th>\n",
       "      <td>과테말라</td>\n",
       "      <td>0.000</td>\n",
       "      <td>131.373</td>\n",
       "    </tr>\n",
       "  </tbody>\n",
       "</table>\n",
       "</div>"
      ],
      "text/plain": [
       "imxprt nation        수입        수출\n",
       "0          가나  1847.987  8088.674\n",
       "1          가봉     0.026     0.000\n",
       "2        가이아나    17.290     0.036\n",
       "3         감비아  2065.081     0.000\n",
       "4        과테말라     0.000   131.373"
      ]
     },
     "execution_count": 16,
     "metadata": {},
     "output_type": "execute_result"
    }
   ],
   "source": [
    "# widen의 처음 5행 출력\n"
   ]
  },
  {
   "cell_type": "code",
   "execution_count": 17,
   "id": "c54c16db",
   "metadata": {},
   "outputs": [],
   "source": [
    "# widen의 columns.name에 빈 문자열 할당\n"
   ]
  },
  {
   "cell_type": "code",
   "execution_count": 18,
   "id": "6b004850",
   "metadata": {},
   "outputs": [],
   "source": [
    "# widen의 열이름 순서를 nation, 수출, 수입 순으로 변경하고 widen에 재할당\n"
   ]
  },
  {
   "cell_type": "code",
   "execution_count": 19,
   "id": "77805dfd",
   "metadata": {},
   "outputs": [
    {
     "data": {
      "text/html": [
       "<div>\n",
       "<style scoped>\n",
       "    .dataframe tbody tr th:only-of-type {\n",
       "        vertical-align: middle;\n",
       "    }\n",
       "\n",
       "    .dataframe tbody tr th {\n",
       "        vertical-align: top;\n",
       "    }\n",
       "\n",
       "    .dataframe thead th {\n",
       "        text-align: right;\n",
       "    }\n",
       "</style>\n",
       "<table border=\"1\" class=\"dataframe\">\n",
       "  <thead>\n",
       "    <tr style=\"text-align: right;\">\n",
       "      <th></th>\n",
       "      <th>nation</th>\n",
       "      <th>수출</th>\n",
       "      <th>수입</th>\n",
       "    </tr>\n",
       "  </thead>\n",
       "  <tbody>\n",
       "    <tr>\n",
       "      <th>0</th>\n",
       "      <td>가나</td>\n",
       "      <td>8088.674</td>\n",
       "      <td>1847.987</td>\n",
       "    </tr>\n",
       "    <tr>\n",
       "      <th>1</th>\n",
       "      <td>가봉</td>\n",
       "      <td>0.000</td>\n",
       "      <td>0.026</td>\n",
       "    </tr>\n",
       "    <tr>\n",
       "      <th>2</th>\n",
       "      <td>가이아나</td>\n",
       "      <td>0.036</td>\n",
       "      <td>17.290</td>\n",
       "    </tr>\n",
       "    <tr>\n",
       "      <th>3</th>\n",
       "      <td>감비아</td>\n",
       "      <td>0.000</td>\n",
       "      <td>2065.081</td>\n",
       "    </tr>\n",
       "    <tr>\n",
       "      <th>4</th>\n",
       "      <td>과테말라</td>\n",
       "      <td>131.373</td>\n",
       "      <td>0.000</td>\n",
       "    </tr>\n",
       "  </tbody>\n",
       "</table>\n",
       "</div>"
      ],
      "text/plain": [
       "  nation        수출        수입\n",
       "0     가나  8088.674  1847.987\n",
       "1     가봉     0.000     0.026\n",
       "2   가이아나     0.036    17.290\n",
       "3    감비아     0.000  2065.081\n",
       "4   과테말라   131.373     0.000"
      ]
     },
     "execution_count": 19,
     "metadata": {},
     "output_type": "execute_result"
    }
   ],
   "source": [
    "# widen의 처음 5행 출력\n"
   ]
  },
  {
   "cell_type": "code",
   "execution_count": 20,
   "id": "fb355d9c",
   "metadata": {},
   "outputs": [],
   "source": [
    "# widen의 수출에서 수입을 차감한 무역수지 열 생성\n"
   ]
  },
  {
   "cell_type": "code",
   "execution_count": 21,
   "id": "4e5f8fef",
   "metadata": {},
   "outputs": [],
   "source": [
    "# widen의 무역수지 기준으로 내림차순 정렬하고 widen에 재할당\n"
   ]
  },
  {
   "cell_type": "code",
   "execution_count": 22,
   "id": "5ff82669",
   "metadata": {},
   "outputs": [
    {
     "data": {
      "text/html": [
       "<div>\n",
       "<style scoped>\n",
       "    .dataframe tbody tr th:only-of-type {\n",
       "        vertical-align: middle;\n",
       "    }\n",
       "\n",
       "    .dataframe tbody tr th {\n",
       "        vertical-align: top;\n",
       "    }\n",
       "\n",
       "    .dataframe thead th {\n",
       "        text-align: right;\n",
       "    }\n",
       "</style>\n",
       "<table border=\"1\" class=\"dataframe\">\n",
       "  <thead>\n",
       "    <tr style=\"text-align: right;\">\n",
       "      <th></th>\n",
       "      <th>nation</th>\n",
       "      <th>수출</th>\n",
       "      <th>수입</th>\n",
       "      <th>무역수지</th>\n",
       "    </tr>\n",
       "  </thead>\n",
       "  <tbody>\n",
       "    <tr>\n",
       "      <th>117</th>\n",
       "      <td>일본</td>\n",
       "      <td>635499.670</td>\n",
       "      <td>170243.592</td>\n",
       "      <td>465256.078</td>\n",
       "    </tr>\n",
       "    <tr>\n",
       "      <th>52</th>\n",
       "      <td>미국</td>\n",
       "      <td>395386.470</td>\n",
       "      <td>250113.606</td>\n",
       "      <td>145272.864</td>\n",
       "    </tr>\n",
       "    <tr>\n",
       "      <th>157</th>\n",
       "      <td>프랑스</td>\n",
       "      <td>66501.818</td>\n",
       "      <td>34315.325</td>\n",
       "      <td>32186.493</td>\n",
       "    </tr>\n",
       "    <tr>\n",
       "      <th>114</th>\n",
       "      <td>이탈리아</td>\n",
       "      <td>52961.214</td>\n",
       "      <td>25683.273</td>\n",
       "      <td>27277.941</td>\n",
       "    </tr>\n",
       "    <tr>\n",
       "      <th>26</th>\n",
       "      <td>독일</td>\n",
       "      <td>27186.712</td>\n",
       "      <td>1263.392</td>\n",
       "      <td>25923.320</td>\n",
       "    </tr>\n",
       "  </tbody>\n",
       "</table>\n",
       "</div>"
      ],
      "text/plain": [
       "    nation          수출          수입        무역수지\n",
       "117     일본  635499.670  170243.592  465256.078\n",
       "52      미국  395386.470  250113.606  145272.864\n",
       "157    프랑스   66501.818   34315.325   32186.493\n",
       "114   이탈리아   52961.214   25683.273   27277.941\n",
       "26      독일   27186.712    1263.392   25923.320"
      ]
     },
     "execution_count": 22,
     "metadata": {},
     "output_type": "execute_result"
    }
   ],
   "source": [
    "# widen의 처음 5행 출력\n"
   ]
  },
  {
   "cell_type": "code",
   "execution_count": 23,
   "id": "ee9b7ad0",
   "metadata": {},
   "outputs": [
    {
     "data": {
      "text/html": [
       "<div>\n",
       "<style scoped>\n",
       "    .dataframe tbody tr th:only-of-type {\n",
       "        vertical-align: middle;\n",
       "    }\n",
       "\n",
       "    .dataframe tbody tr th {\n",
       "        vertical-align: top;\n",
       "    }\n",
       "\n",
       "    .dataframe thead th {\n",
       "        text-align: right;\n",
       "    }\n",
       "</style>\n",
       "<table border=\"1\" class=\"dataframe\">\n",
       "  <thead>\n",
       "    <tr style=\"text-align: right;\">\n",
       "      <th></th>\n",
       "      <th>nation</th>\n",
       "      <th>수출</th>\n",
       "      <th>수입</th>\n",
       "      <th>무역수지</th>\n",
       "    </tr>\n",
       "  </thead>\n",
       "  <tbody>\n",
       "    <tr>\n",
       "      <th>152</th>\n",
       "      <td>페루</td>\n",
       "      <td>2710.209</td>\n",
       "      <td>165384.173</td>\n",
       "      <td>-162673.964</td>\n",
       "    </tr>\n",
       "    <tr>\n",
       "      <th>119</th>\n",
       "      <td>중국</td>\n",
       "      <td>726529.129</td>\n",
       "      <td>1300449.248</td>\n",
       "      <td>-573920.119</td>\n",
       "    </tr>\n",
       "    <tr>\n",
       "      <th>18</th>\n",
       "      <td>노르웨이</td>\n",
       "      <td>1884.646</td>\n",
       "      <td>575973.581</td>\n",
       "      <td>-574088.935</td>\n",
       "    </tr>\n",
       "    <tr>\n",
       "      <th>61</th>\n",
       "      <td>베트남</td>\n",
       "      <td>177741.726</td>\n",
       "      <td>808388.014</td>\n",
       "      <td>-630646.288</td>\n",
       "    </tr>\n",
       "    <tr>\n",
       "      <th>30</th>\n",
       "      <td>러시아</td>\n",
       "      <td>54078.994</td>\n",
       "      <td>1219825.619</td>\n",
       "      <td>-1165746.625</td>\n",
       "    </tr>\n",
       "  </tbody>\n",
       "</table>\n",
       "</div>"
      ],
      "text/plain": [
       "    nation          수출           수입         무역수지\n",
       "152     페루    2710.209   165384.173  -162673.964\n",
       "119     중국  726529.129  1300449.248  -573920.119\n",
       "18    노르웨이    1884.646   575973.581  -574088.935\n",
       "61     베트남  177741.726   808388.014  -630646.288\n",
       "30     러시아   54078.994  1219825.619 -1165746.625"
      ]
     },
     "execution_count": 23,
     "metadata": {},
     "output_type": "execute_result"
    }
   ],
   "source": [
    "# widen의 마지막 5행 출력\n"
   ]
  },
  {
   "cell_type": "markdown",
   "id": "ba268a7b",
   "metadata": {},
   "source": [
    "### 무역수지 흑자 1위 국가의 수출입 수산물 목록 확인"
   ]
  },
  {
   "cell_type": "code",
   "execution_count": 24,
   "id": "092eaad4",
   "metadata": {},
   "outputs": [],
   "source": [
    "# sf의 nation이 '일본'인 행만 선택하고 데이터프레임 japan 생성\n"
   ]
  },
  {
   "cell_type": "code",
   "execution_count": 25,
   "id": "59e9f8ba",
   "metadata": {},
   "outputs": [],
   "source": [
    "# japan으로 아래 내용을 실행하고 japan에 재할당\n",
    "# itemNm, imxprt로 그룹을 설정하고 dollar 합계 계산: groupby(), sum() 함수 사용\n",
    "# 시리즈로 반환되는 결과에 행이름 초기화하여 데이터프레임으로 변환: reset_index() 함수 사용\n",
    "# 단, 기존 행이름을 열(컬럼)에 추가해야 함!!!\n"
   ]
  },
  {
   "cell_type": "code",
   "execution_count": 26,
   "id": "ce028c11",
   "metadata": {},
   "outputs": [
    {
     "data": {
      "text/html": [
       "<div>\n",
       "<style scoped>\n",
       "    .dataframe tbody tr th:only-of-type {\n",
       "        vertical-align: middle;\n",
       "    }\n",
       "\n",
       "    .dataframe tbody tr th {\n",
       "        vertical-align: top;\n",
       "    }\n",
       "\n",
       "    .dataframe thead th {\n",
       "        text-align: right;\n",
       "    }\n",
       "</style>\n",
       "<table border=\"1\" class=\"dataframe\">\n",
       "  <thead>\n",
       "    <tr style=\"text-align: right;\">\n",
       "      <th></th>\n",
       "      <th>itemNm</th>\n",
       "      <th>imxprt</th>\n",
       "      <th>dollar</th>\n",
       "    </tr>\n",
       "  </thead>\n",
       "  <tbody>\n",
       "    <tr>\n",
       "      <th>0</th>\n",
       "      <td>가공하지 않은 것</td>\n",
       "      <td>수입</td>\n",
       "      <td>0.350</td>\n",
       "    </tr>\n",
       "    <tr>\n",
       "      <th>1</th>\n",
       "      <td>가공하지 않은 것</td>\n",
       "      <td>수출</td>\n",
       "      <td>0.041</td>\n",
       "    </tr>\n",
       "    <tr>\n",
       "      <th>2</th>\n",
       "      <td>가공한 것</td>\n",
       "      <td>수입</td>\n",
       "      <td>6.018</td>\n",
       "    </tr>\n",
       "    <tr>\n",
       "      <th>3</th>\n",
       "      <td>가공한 것</td>\n",
       "      <td>수출</td>\n",
       "      <td>1.059</td>\n",
       "    </tr>\n",
       "    <tr>\n",
       "      <th>4</th>\n",
       "      <td>가다랑어</td>\n",
       "      <td>수입</td>\n",
       "      <td>4.409</td>\n",
       "    </tr>\n",
       "  </tbody>\n",
       "</table>\n",
       "</div>"
      ],
      "text/plain": [
       "      itemNm imxprt  dollar\n",
       "0  가공하지 않은 것     수입   0.350\n",
       "1  가공하지 않은 것     수출   0.041\n",
       "2      가공한 것     수입   6.018\n",
       "3      가공한 것     수출   1.059\n",
       "4       가다랑어     수입   4.409"
      ]
     },
     "execution_count": 26,
     "metadata": {},
     "output_type": "execute_result"
    }
   ],
   "source": [
    "# japan의 처음 5행 출력\n"
   ]
  },
  {
   "cell_type": "code",
   "execution_count": 27,
   "id": "27545915",
   "metadata": {},
   "outputs": [],
   "source": [
    "# japan으로 아래 내용을 실행하고 japan에 재할당\n",
    "# japan은 Long type이며, Wide type으로 변환: pivot() 함수 사용\n",
    "# index에 itemNm, columns에 imxprt, values에 dollar 지정\n"
   ]
  },
  {
   "cell_type": "code",
   "execution_count": 28,
   "id": "e0d94c53",
   "metadata": {},
   "outputs": [
    {
     "data": {
      "text/html": [
       "<div>\n",
       "<style scoped>\n",
       "    .dataframe tbody tr th:only-of-type {\n",
       "        vertical-align: middle;\n",
       "    }\n",
       "\n",
       "    .dataframe tbody tr th {\n",
       "        vertical-align: top;\n",
       "    }\n",
       "\n",
       "    .dataframe thead th {\n",
       "        text-align: right;\n",
       "    }\n",
       "</style>\n",
       "<table border=\"1\" class=\"dataframe\">\n",
       "  <thead>\n",
       "    <tr style=\"text-align: right;\">\n",
       "      <th>imxprt</th>\n",
       "      <th>수입</th>\n",
       "      <th>수출</th>\n",
       "    </tr>\n",
       "    <tr>\n",
       "      <th>itemNm</th>\n",
       "      <th></th>\n",
       "      <th></th>\n",
       "    </tr>\n",
       "  </thead>\n",
       "  <tbody>\n",
       "    <tr>\n",
       "      <th>가공하지 않은 것</th>\n",
       "      <td>0.350</td>\n",
       "      <td>0.041</td>\n",
       "    </tr>\n",
       "    <tr>\n",
       "      <th>가공한 것</th>\n",
       "      <td>6.018</td>\n",
       "      <td>1.059</td>\n",
       "    </tr>\n",
       "    <tr>\n",
       "      <th>가다랑어</th>\n",
       "      <td>4.409</td>\n",
       "      <td>2580.066</td>\n",
       "    </tr>\n",
       "    <tr>\n",
       "      <th>가리비과</th>\n",
       "      <td>39305.985</td>\n",
       "      <td>13.476</td>\n",
       "    </tr>\n",
       "    <tr>\n",
       "      <th>가오리</th>\n",
       "      <td>4622.530</td>\n",
       "      <td>NaN</td>\n",
       "    </tr>\n",
       "  </tbody>\n",
       "</table>\n",
       "</div>"
      ],
      "text/plain": [
       "imxprt            수입        수출\n",
       "itemNm                        \n",
       "가공하지 않은 것      0.350     0.041\n",
       "가공한 것          6.018     1.059\n",
       "가다랑어           4.409  2580.066\n",
       "가리비과       39305.985    13.476\n",
       "가오리         4622.530       NaN"
      ]
     },
     "execution_count": 28,
     "metadata": {},
     "output_type": "execute_result"
    }
   ],
   "source": [
    "# japan의 처음 5행 출력\n"
   ]
  },
  {
   "cell_type": "code",
   "execution_count": 29,
   "id": "e4435407",
   "metadata": {},
   "outputs": [],
   "source": [
    "# japan의 결측값(NaN)을 0으로 대체하고 japan에 재할당\n"
   ]
  },
  {
   "cell_type": "code",
   "execution_count": 30,
   "id": "877c468a",
   "metadata": {},
   "outputs": [],
   "source": [
    "# japan으로 아래 내용을 실행하고 japan에 재할당\n",
    "# 행이름을 초기화하여 인덱스인 nation을 열(컬럼)에 추가\n"
   ]
  },
  {
   "cell_type": "code",
   "execution_count": 31,
   "id": "65edccb7",
   "metadata": {},
   "outputs": [
    {
     "data": {
      "text/html": [
       "<div>\n",
       "<style scoped>\n",
       "    .dataframe tbody tr th:only-of-type {\n",
       "        vertical-align: middle;\n",
       "    }\n",
       "\n",
       "    .dataframe tbody tr th {\n",
       "        vertical-align: top;\n",
       "    }\n",
       "\n",
       "    .dataframe thead th {\n",
       "        text-align: right;\n",
       "    }\n",
       "</style>\n",
       "<table border=\"1\" class=\"dataframe\">\n",
       "  <thead>\n",
       "    <tr style=\"text-align: right;\">\n",
       "      <th>imxprt</th>\n",
       "      <th>itemNm</th>\n",
       "      <th>수입</th>\n",
       "      <th>수출</th>\n",
       "    </tr>\n",
       "  </thead>\n",
       "  <tbody>\n",
       "    <tr>\n",
       "      <th>0</th>\n",
       "      <td>가공하지 않은 것</td>\n",
       "      <td>0.350</td>\n",
       "      <td>0.041</td>\n",
       "    </tr>\n",
       "    <tr>\n",
       "      <th>1</th>\n",
       "      <td>가공한 것</td>\n",
       "      <td>6.018</td>\n",
       "      <td>1.059</td>\n",
       "    </tr>\n",
       "    <tr>\n",
       "      <th>2</th>\n",
       "      <td>가다랑어</td>\n",
       "      <td>4.409</td>\n",
       "      <td>2580.066</td>\n",
       "    </tr>\n",
       "    <tr>\n",
       "      <th>3</th>\n",
       "      <td>가리비과</td>\n",
       "      <td>39305.985</td>\n",
       "      <td>13.476</td>\n",
       "    </tr>\n",
       "    <tr>\n",
       "      <th>4</th>\n",
       "      <td>가오리</td>\n",
       "      <td>4622.530</td>\n",
       "      <td>0.000</td>\n",
       "    </tr>\n",
       "  </tbody>\n",
       "</table>\n",
       "</div>"
      ],
      "text/plain": [
       "imxprt     itemNm         수입        수출\n",
       "0       가공하지 않은 것      0.350     0.041\n",
       "1           가공한 것      6.018     1.059\n",
       "2            가다랑어      4.409  2580.066\n",
       "3            가리비과  39305.985    13.476\n",
       "4             가오리   4622.530     0.000"
      ]
     },
     "execution_count": 31,
     "metadata": {},
     "output_type": "execute_result"
    }
   ],
   "source": [
    "# japan의 처음 5행 출력\n",
    "japan.head()"
   ]
  },
  {
   "cell_type": "code",
   "execution_count": 32,
   "id": "78dc89d2",
   "metadata": {},
   "outputs": [],
   "source": [
    "# japan의 columns.name에 빈 문자열 할당\n"
   ]
  },
  {
   "cell_type": "code",
   "execution_count": 33,
   "id": "f0758ec3",
   "metadata": {},
   "outputs": [],
   "source": [
    "# japan의 열이름 순서를 itemNm, 수출, 수입 순으로 변경하고 japan에 재할당\n"
   ]
  },
  {
   "cell_type": "code",
   "execution_count": 34,
   "id": "4afa04ca",
   "metadata": {},
   "outputs": [
    {
     "data": {
      "text/html": [
       "<div>\n",
       "<style scoped>\n",
       "    .dataframe tbody tr th:only-of-type {\n",
       "        vertical-align: middle;\n",
       "    }\n",
       "\n",
       "    .dataframe tbody tr th {\n",
       "        vertical-align: top;\n",
       "    }\n",
       "\n",
       "    .dataframe thead th {\n",
       "        text-align: right;\n",
       "    }\n",
       "</style>\n",
       "<table border=\"1\" class=\"dataframe\">\n",
       "  <thead>\n",
       "    <tr style=\"text-align: right;\">\n",
       "      <th></th>\n",
       "      <th>itemNm</th>\n",
       "      <th>수출</th>\n",
       "      <th>수입</th>\n",
       "    </tr>\n",
       "  </thead>\n",
       "  <tbody>\n",
       "    <tr>\n",
       "      <th>0</th>\n",
       "      <td>가공하지 않은 것</td>\n",
       "      <td>0.041</td>\n",
       "      <td>0.350</td>\n",
       "    </tr>\n",
       "    <tr>\n",
       "      <th>1</th>\n",
       "      <td>가공한 것</td>\n",
       "      <td>1.059</td>\n",
       "      <td>6.018</td>\n",
       "    </tr>\n",
       "    <tr>\n",
       "      <th>2</th>\n",
       "      <td>가다랑어</td>\n",
       "      <td>2580.066</td>\n",
       "      <td>4.409</td>\n",
       "    </tr>\n",
       "    <tr>\n",
       "      <th>3</th>\n",
       "      <td>가리비과</td>\n",
       "      <td>13.476</td>\n",
       "      <td>39305.985</td>\n",
       "    </tr>\n",
       "    <tr>\n",
       "      <th>4</th>\n",
       "      <td>가오리</td>\n",
       "      <td>0.000</td>\n",
       "      <td>4622.530</td>\n",
       "    </tr>\n",
       "  </tbody>\n",
       "</table>\n",
       "</div>"
      ],
      "text/plain": [
       "      itemNm        수출         수입\n",
       "0  가공하지 않은 것     0.041      0.350\n",
       "1      가공한 것     1.059      6.018\n",
       "2       가다랑어  2580.066      4.409\n",
       "3       가리비과    13.476  39305.985\n",
       "4        가오리     0.000   4622.530"
      ]
     },
     "execution_count": 34,
     "metadata": {},
     "output_type": "execute_result"
    }
   ],
   "source": [
    "# japan의 처음 5행 출력\n"
   ]
  },
  {
   "cell_type": "code",
   "execution_count": 35,
   "id": "bacd5326",
   "metadata": {},
   "outputs": [],
   "source": [
    "# japan의 수출에서 수입을 차감한 무역수지 열 생성\n"
   ]
  },
  {
   "cell_type": "code",
   "execution_count": 36,
   "id": "d0fa229e",
   "metadata": {},
   "outputs": [],
   "source": [
    "# japan의 무역수지 기준으로 내림차순 정렬하고 japan에 재할당\n"
   ]
  },
  {
   "cell_type": "code",
   "execution_count": 37,
   "id": "65d2f34b",
   "metadata": {},
   "outputs": [
    {
     "data": {
      "text/html": [
       "<div>\n",
       "<style scoped>\n",
       "    .dataframe tbody tr th:only-of-type {\n",
       "        vertical-align: middle;\n",
       "    }\n",
       "\n",
       "    .dataframe tbody tr th {\n",
       "        vertical-align: top;\n",
       "    }\n",
       "\n",
       "    .dataframe thead th {\n",
       "        text-align: right;\n",
       "    }\n",
       "</style>\n",
       "<table border=\"1\" class=\"dataframe\">\n",
       "  <thead>\n",
       "    <tr style=\"text-align: right;\">\n",
       "      <th></th>\n",
       "      <th>itemNm</th>\n",
       "      <th>수출</th>\n",
       "      <th>수입</th>\n",
       "      <th>무역수지</th>\n",
       "    </tr>\n",
       "  </thead>\n",
       "  <tbody>\n",
       "    <tr>\n",
       "      <th>42</th>\n",
       "      <td>다랑어</td>\n",
       "      <td>128950.909</td>\n",
       "      <td>1275.676</td>\n",
       "      <td>127675.233</td>\n",
       "    </tr>\n",
       "    <tr>\n",
       "      <th>26</th>\n",
       "      <td>김</td>\n",
       "      <td>114139.670</td>\n",
       "      <td>436.750</td>\n",
       "      <td>113702.920</td>\n",
       "    </tr>\n",
       "    <tr>\n",
       "      <th>124</th>\n",
       "      <td>전복</td>\n",
       "      <td>42698.612</td>\n",
       "      <td>36.525</td>\n",
       "      <td>42662.087</td>\n",
       "    </tr>\n",
       "    <tr>\n",
       "      <th>77</th>\n",
       "      <td>붕장어</td>\n",
       "      <td>31125.801</td>\n",
       "      <td>0.000</td>\n",
       "      <td>31125.801</td>\n",
       "    </tr>\n",
       "    <tr>\n",
       "      <th>33</th>\n",
       "      <td>냉동한 것</td>\n",
       "      <td>22728.785</td>\n",
       "      <td>501.435</td>\n",
       "      <td>22227.350</td>\n",
       "    </tr>\n",
       "  </tbody>\n",
       "</table>\n",
       "</div>"
      ],
      "text/plain": [
       "    itemNm          수출        수입        무역수지\n",
       "42     다랑어  128950.909  1275.676  127675.233\n",
       "26       김  114139.670   436.750  113702.920\n",
       "124     전복   42698.612    36.525   42662.087\n",
       "77     붕장어   31125.801     0.000   31125.801\n",
       "33   냉동한 것   22728.785   501.435   22227.350"
      ]
     },
     "execution_count": 37,
     "metadata": {},
     "output_type": "execute_result"
    }
   ],
   "source": [
    "# japan의 처음 5행 출력\n"
   ]
  },
  {
   "cell_type": "code",
   "execution_count": 38,
   "id": "b8df517b",
   "metadata": {},
   "outputs": [
    {
     "data": {
      "text/html": [
       "<div>\n",
       "<style scoped>\n",
       "    .dataframe tbody tr th:only-of-type {\n",
       "        vertical-align: middle;\n",
       "    }\n",
       "\n",
       "    .dataframe tbody tr th {\n",
       "        vertical-align: top;\n",
       "    }\n",
       "\n",
       "    .dataframe thead th {\n",
       "        text-align: right;\n",
       "    }\n",
       "</style>\n",
       "<table border=\"1\" class=\"dataframe\">\n",
       "  <thead>\n",
       "    <tr style=\"text-align: right;\">\n",
       "      <th></th>\n",
       "      <th>itemNm</th>\n",
       "      <th>수출</th>\n",
       "      <th>수입</th>\n",
       "      <th>무역수지</th>\n",
       "    </tr>\n",
       "  </thead>\n",
       "  <tbody>\n",
       "    <tr>\n",
       "      <th>59</th>\n",
       "      <td>명태</td>\n",
       "      <td>100.207</td>\n",
       "      <td>6158.574</td>\n",
       "      <td>-6058.367</td>\n",
       "    </tr>\n",
       "    <tr>\n",
       "      <th>117</th>\n",
       "      <td>우렁쉥이</td>\n",
       "      <td>0.000</td>\n",
       "      <td>7345.288</td>\n",
       "      <td>-7345.288</td>\n",
       "    </tr>\n",
       "    <tr>\n",
       "      <th>66</th>\n",
       "      <td>방어</td>\n",
       "      <td>3505.671</td>\n",
       "      <td>36058.005</td>\n",
       "      <td>-32552.334</td>\n",
       "    </tr>\n",
       "    <tr>\n",
       "      <th>50</th>\n",
       "      <td>돔</td>\n",
       "      <td>21.139</td>\n",
       "      <td>36402.686</td>\n",
       "      <td>-36381.547</td>\n",
       "    </tr>\n",
       "    <tr>\n",
       "      <th>3</th>\n",
       "      <td>가리비과</td>\n",
       "      <td>13.476</td>\n",
       "      <td>39305.985</td>\n",
       "      <td>-39292.509</td>\n",
       "    </tr>\n",
       "  </tbody>\n",
       "</table>\n",
       "</div>"
      ],
      "text/plain": [
       "    itemNm        수출         수입       무역수지\n",
       "59      명태   100.207   6158.574  -6058.367\n",
       "117   우렁쉥이     0.000   7345.288  -7345.288\n",
       "66      방어  3505.671  36058.005 -32552.334\n",
       "50       돔    21.139  36402.686 -36381.547\n",
       "3     가리비과    13.476  39305.985 -39292.509"
      ]
     },
     "execution_count": 38,
     "metadata": {},
     "output_type": "execute_result"
    }
   ],
   "source": [
    "# japan의 마지막 5행 출력\n"
   ]
  },
  {
   "cell_type": "markdown",
   "id": "e4cf499e",
   "metadata": {},
   "source": [
    "## End of Document"
   ]
  }
 ],
 "metadata": {
  "kernelspec": {
   "display_name": "Python 3 (ipykernel)",
   "language": "python",
   "name": "python3"
  },
  "language_info": {
   "codemirror_mode": {
    "name": "ipython",
    "version": 3
   },
   "file_extension": ".py",
   "mimetype": "text/x-python",
   "name": "python",
   "nbconvert_exporter": "python",
   "pygments_lexer": "ipython3",
   "version": "3.10.3"
  }
 },
 "nbformat": 4,
 "nbformat_minor": 5
}
