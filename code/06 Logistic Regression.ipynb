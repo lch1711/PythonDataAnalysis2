{
 "cells": [
  {
   "cell_type": "markdown",
   "id": "fc09e07d",
   "metadata": {},
   "source": [
    "<p style=\"font-family:verdana;font-size:200%;text-align:center;\">Logistic Regression</p>"
   ]
  },
  {
   "cell_type": "markdown",
   "id": "separate-davis",
   "metadata": {},
   "source": [
    "### 실습 데이터셋 준비"
   ]
  },
  {
   "cell_type": "code",
   "execution_count": null,
   "id": "alien-controversy",
   "metadata": {},
   "outputs": [],
   "source": [
    "# 관련 라이브러리를 호출합니다.\n",
    "import numpy as np\n",
    "import pandas as pd\n",
    "from scipy import stats"
   ]
  },
  {
   "cell_type": "code",
   "execution_count": null,
   "id": "realistic-noise",
   "metadata": {},
   "outputs": [],
   "source": [
    "# 인터넷으로 공유 중인 텍스트 데이터를 읽고 데이터프레임 df를 생성합니다.\n",
    "df = pd.read_csv('https://bit.ly/university_admit')"
   ]
  },
  {
   "cell_type": "code",
   "execution_count": null,
   "id": "martial-jacket",
   "metadata": {},
   "outputs": [],
   "source": [
    "# df의 정보를 확인합니다.\n",
    "df.info()"
   ]
  },
  {
   "cell_type": "markdown",
   "id": "67a7417f",
   "metadata": {},
   "source": [
    "### 기술통계량 확인"
   ]
  },
  {
   "cell_type": "code",
   "execution_count": null,
   "id": "31cf2953",
   "metadata": {},
   "outputs": [],
   "source": [
    "# 정수형 변수 rank를 문자형으로 변환합니다.\n",
    "df['rank'] = df['rank'].astype('str')"
   ]
  },
  {
   "cell_type": "code",
   "execution_count": null,
   "id": "f901099a",
   "metadata": {},
   "outputs": [],
   "source": [
    "# 연속형 변수의 기술통계량을 출력합니다.\n",
    "df.describe().round(2)"
   ]
  },
  {
   "cell_type": "code",
   "execution_count": null,
   "id": "5a658311",
   "metadata": {},
   "outputs": [],
   "source": [
    "# 범주형 변수의 기술통계량을 출력합니다.\n",
    "df.describe(include = 'object')"
   ]
  },
  {
   "cell_type": "code",
   "execution_count": null,
   "id": "4010d7a9",
   "metadata": {},
   "outputs": [],
   "source": [
    "# rank의 범주별 빈도수를 출력합니다.\n",
    "df['rank'].value_counts().sort_index()"
   ]
  },
  {
   "cell_type": "markdown",
   "id": "112fc20e",
   "metadata": {},
   "source": [
    "### 목표변수 시각화"
   ]
  },
  {
   "cell_type": "code",
   "execution_count": null,
   "id": "69d30976",
   "metadata": {},
   "outputs": [],
   "source": [
    "# 관련 모듈을 호출합니다.\n",
    "from GraphicSetting import *\n",
    "import HelloDataScience as hds"
   ]
  },
  {
   "cell_type": "code",
   "execution_count": null,
   "id": "shared-database",
   "metadata": {},
   "outputs": [],
   "source": [
    "# 목표변수의 범주별 빈도수로 데이터프레임을 생성합니다.\n",
    "freq = df.groupby(by = ['admit']).count()[['gre']]"
   ]
  },
  {
   "cell_type": "code",
   "execution_count": null,
   "id": "ad10de6e",
   "metadata": {},
   "outputs": [],
   "source": [
    "# freq의 열이름을 변경하고, 인덱스를 초기화합니다.\n",
    "freq = freq.rename(columns = {'gre': 'freq'}).reset_index()"
   ]
  },
  {
   "cell_type": "code",
   "execution_count": null,
   "id": "8c9eb466",
   "metadata": {},
   "outputs": [],
   "source": [
    "# freq를 출력합니다.\n",
    "freq"
   ]
  },
  {
   "cell_type": "code",
   "execution_count": null,
   "id": "processed-start",
   "metadata": {},
   "outputs": [],
   "source": [
    "# 목표변수의 범주별 빈도수로 막대그래프를 그립니다.\n",
    "sns.barplot(data = freq, x = 'admit', y = 'freq')\n",
    "for index, row in freq.iterrows():\n",
    "    plt.text(x = index, y = row['freq'] + 5, s = row['freq'], \n",
    "             fontsize = 12, ha = 'center', va = 'bottom', c = 'black')\n",
    "plt.title(label = '목표변수의 범주별 빈도수 비교')\n",
    "plt.ylim(0, 300);"
   ]
  },
  {
   "cell_type": "markdown",
   "id": "attempted-operations",
   "metadata": {},
   "source": [
    "### 연속형 입력변수와 관계 파악"
   ]
  },
  {
   "cell_type": "code",
   "execution_count": null,
   "id": "important-college",
   "metadata": {},
   "outputs": [],
   "source": [
    "# admit의 범주별 gre의 분포를 비교합니다.\n",
    "hds.plot_box_group(data = df, x = 'admit', y = 'gre')"
   ]
  },
  {
   "cell_type": "code",
   "execution_count": null,
   "id": "synthetic-leader",
   "metadata": {},
   "outputs": [],
   "source": [
    "# admit의 범주별 gpa의 분포를 비교합니다.\n",
    "hds.plot_box_group(data = df, x = 'admit', y = 'gpa')"
   ]
  },
  {
   "cell_type": "markdown",
   "id": "a8aec4e6",
   "metadata": {},
   "source": [
    "### 범주형 입력변수와 관계 파악"
   ]
  },
  {
   "cell_type": "code",
   "execution_count": null,
   "id": "rental-homeless",
   "metadata": {},
   "outputs": [],
   "source": [
    "# rank의 범주별 admit의 빈도수를 막대그래프로 시각화합니다.\n",
    "sns.countplot(data = df, x = 'rank', hue = 'admit', order = '1234')\n",
    "plt.title(label = 'admit 범주별 rank의 빈도수 비교');"
   ]
  },
  {
   "cell_type": "markdown",
   "id": "5fde44a8",
   "metadata": {},
   "source": [
    "### t-검정: gre"
   ]
  },
  {
   "cell_type": "code",
   "execution_count": null,
   "id": "e7c12fa3",
   "metadata": {},
   "outputs": [],
   "source": [
    "# admit의 범주별 gre 평균을 갖는 데이터프레임 avg를 생성합니다.\n",
    "avg = df.groupby(by = ['admit']).mean()[['gre']].reset_index()\n",
    "avg = avg.rename(columns = {'gre': 'greMean'})"
   ]
  },
  {
   "cell_type": "code",
   "execution_count": null,
   "id": "6cbd9df8",
   "metadata": {},
   "outputs": [],
   "source": [
    "# df에서 목표변수와 입력변수를 선택하고, avg와 병합하여 mgd를 생성합니다.\n",
    "mgd = pd.merge(left = df[['admit', 'gre']], right = avg)\n",
    "mgd['residual'] = mgd['gre'] - mgd['greMean']"
   ]
  },
  {
   "cell_type": "code",
   "execution_count": null,
   "id": "bca520bf",
   "metadata": {},
   "outputs": [],
   "source": [
    "# residual의 정규성 검정을 실행합니다.\n",
    "stats.shapiro(x = mgd['residual'])"
   ]
  },
  {
   "cell_type": "code",
   "execution_count": null,
   "id": "010f1451",
   "metadata": {},
   "outputs": [],
   "source": [
    "# 등분산성 검정을 위해 범주형 변수 기준으로 샘플 데이터셋을 생성합니다.\n",
    "sample1 = df.loc[df['admit'] == 0, 'gre']\n",
    "sample2 = df.loc[df['admit'] == 1, 'gre']"
   ]
  },
  {
   "cell_type": "code",
   "execution_count": null,
   "id": "d51c6195",
   "metadata": {},
   "outputs": [],
   "source": [
    "# (정규성 가정 만족) 등분산성 검정을 실행합니다.\n",
    "stats.bartlett(sample1, sample2)"
   ]
  },
  {
   "cell_type": "code",
   "execution_count": null,
   "id": "abe079f1",
   "metadata": {},
   "outputs": [],
   "source": [
    "# (정규성 가정 만족) 등분산 가정된 t-검정을 실행합니다.\n",
    "stats.ttest_ind(sample1, sample2, equal_var = True)"
   ]
  },
  {
   "cell_type": "code",
   "execution_count": null,
   "id": "dba616fe",
   "metadata": {},
   "outputs": [],
   "source": [
    "# (정규성 가정 불만족) 윌콕슨 순위합 검정을 실행합니다.\n",
    "stats.ranksums(sample1, sample2)"
   ]
  },
  {
   "cell_type": "markdown",
   "id": "cb9ba4a3",
   "metadata": {},
   "source": [
    "### t-검정 : gpa"
   ]
  },
  {
   "cell_type": "code",
   "execution_count": null,
   "id": "8e1eedbe",
   "metadata": {},
   "outputs": [],
   "source": [
    "# admit의 범주별 gpa 평균을 갖는 데이터프레임 avg를 생성합니다.\n",
    "avg = df.groupby(by = ['admit']).mean()[['gpa']].reset_index()\n",
    "avg = avg.rename(columns = {'gpa': 'gpaMean'})"
   ]
  },
  {
   "cell_type": "code",
   "execution_count": null,
   "id": "b84be5e7",
   "metadata": {},
   "outputs": [],
   "source": [
    "# df에서 목표변수와 입력변수를 선택하고, avg와 병합하여 mgd를 생성합니다.\n",
    "mgd = pd.merge(left = df[['admit', 'gpa']], right = avg)\n",
    "mgd['residual'] = mgd['gpa'] - mgd['gpaMean']"
   ]
  },
  {
   "cell_type": "code",
   "execution_count": null,
   "id": "7ae06bb1",
   "metadata": {},
   "outputs": [],
   "source": [
    "# residual의 정규성 검정을 실행합니다.\n",
    "stats.shapiro(x = mgd['residual'])"
   ]
  },
  {
   "cell_type": "code",
   "execution_count": null,
   "id": "8c969c25",
   "metadata": {},
   "outputs": [],
   "source": [
    "# 등분산성 검정을 위해 범주형 변수 기준으로 샘플 데이터셋을 생성합니다.\n",
    "sample1 = df.loc[df['admit'] == 0, 'gpa']\n",
    "sample2 = df.loc[df['admit'] == 1, 'gpa']"
   ]
  },
  {
   "cell_type": "code",
   "execution_count": null,
   "id": "d107e87f",
   "metadata": {},
   "outputs": [],
   "source": [
    "# (정규성 가정 만족) 등분산성 검정을 실행합니다.\n",
    "stats.bartlett(sample1, sample2)"
   ]
  },
  {
   "cell_type": "code",
   "execution_count": null,
   "id": "3cd50c17",
   "metadata": {},
   "outputs": [],
   "source": [
    "# (정규성 가정 만족) 등분산 가정된 t-검정을 실행합니다.\n",
    "stats.ttest_ind(sample1, sample2, equal_var = True)"
   ]
  },
  {
   "cell_type": "code",
   "execution_count": null,
   "id": "5c4f9cf1",
   "metadata": {},
   "outputs": [],
   "source": [
    "# (정규성 가정 불만족) 윌콕슨 순위합 검정을 실행합니다.\n",
    "stats.ranksums(sample1, sample2)"
   ]
  },
  {
   "cell_type": "markdown",
   "id": "386a1ff4",
   "metadata": {},
   "source": [
    "### 교차분석: rank"
   ]
  },
  {
   "cell_type": "code",
   "execution_count": null,
   "id": "697025d7",
   "metadata": {},
   "outputs": [],
   "source": [
    "# 범주형 입력변수 rank와 목표변수의 교차테이블을 출력합니다.\n",
    "cross = pd.crosstab(index = df['rank'], columns = df['admit'])"
   ]
  },
  {
   "cell_type": "code",
   "execution_count": null,
   "id": "98127476",
   "metadata": {},
   "outputs": [],
   "source": [
    "# 교차테이블을 출력합니다.\n",
    "cross"
   ]
  },
  {
   "cell_type": "code",
   "execution_count": null,
   "id": "0e998d5b",
   "metadata": {},
   "outputs": [],
   "source": [
    "# 교차테이블 빈도수로 카이제곱 검정을 실행합니다.\n",
    "stats.chi2_contingency(observed = cross)"
   ]
  },
  {
   "cell_type": "markdown",
   "id": "97a19a13",
   "metadata": {},
   "source": [
    "### 더미변수 생성"
   ]
  },
  {
   "cell_type": "code",
   "execution_count": null,
   "id": "brave-president",
   "metadata": {},
   "outputs": [],
   "source": [
    "# 범주형 입력변수로 더미변수를 생성합니다.\n",
    "dm = pd.get_dummies(data = df['rank'], prefix = 'rank', drop_first = True)"
   ]
  },
  {
   "cell_type": "code",
   "execution_count": null,
   "id": "quick-prophet",
   "metadata": {},
   "outputs": [],
   "source": [
    "# df의 오른쪽에 더미변수 dm을 추가합니다.\n",
    "df = pd.concat(objs = [df, dm], axis = 1)"
   ]
  },
  {
   "cell_type": "code",
   "execution_count": null,
   "id": "above-vulnerability",
   "metadata": {},
   "outputs": [],
   "source": [
    "# df의 처음 10행을 출력합니다.\n",
    "df.head(n = 10)"
   ]
  },
  {
   "cell_type": "code",
   "execution_count": null,
   "id": "proper-radar",
   "metadata": {},
   "outputs": [],
   "source": [
    "# df에서 rank를 삭제합니다.\n",
    "df = df.drop(labels = ['rank'], axis = 1)"
   ]
  },
  {
   "cell_type": "markdown",
   "id": "swiss-chuck",
   "metadata": {},
   "source": [
    "### 실습 데이터셋 분할"
   ]
  },
  {
   "cell_type": "code",
   "execution_count": null,
   "id": "latter-administrator",
   "metadata": {},
   "outputs": [],
   "source": [
    "# 관련 라이브러리를 호출합니다.\n",
    "from sklearn.model_selection import train_test_split"
   ]
  },
  {
   "cell_type": "code",
   "execution_count": null,
   "id": "719622bb",
   "metadata": {},
   "outputs": [],
   "source": [
    "# 목표변수 열이름을 지정합니다.\n",
    "yvar = 'admit'"
   ]
  },
  {
   "cell_type": "code",
   "execution_count": null,
   "id": "cosmetic-homework",
   "metadata": {},
   "outputs": [],
   "source": [
    "# 입력변수 행렬 X와 목표변수 벡터 y를 생성합니다.\n",
    "X = df.drop(labels = [yvar], axis = 1)\n",
    "y = df[yvar]"
   ]
  },
  {
   "cell_type": "code",
   "execution_count": null,
   "id": "conscious-brunswick",
   "metadata": {},
   "outputs": [],
   "source": [
    "# 전체 데이터의 70%를 훈련셋, 30%를 시험셋으로 분할합니다.\n",
    "X_tr, X_te, y_tr, y_te = train_test_split(\n",
    "    X, y, test_size = 0.3, random_state = 0\n",
    ")"
   ]
  },
  {
   "cell_type": "code",
   "execution_count": null,
   "id": "amber-shopping",
   "metadata": {},
   "outputs": [],
   "source": [
    "# 훈련셋의 목표변수 범주별 상대도수를 확인합니다.\n",
    "y_tr.value_counts(normalize = True)"
   ]
  },
  {
   "cell_type": "code",
   "execution_count": null,
   "id": "fiscal-buffer",
   "metadata": {},
   "outputs": [],
   "source": [
    "# 시험셋의 목표변수 범주별 상대도수를 확인합니다.\n",
    "y_te.value_counts(normalize = True)"
   ]
  },
  {
   "cell_type": "markdown",
   "id": "unlike-claim",
   "metadata": {},
   "source": [
    "### 로지스틱 회귀모형 적합"
   ]
  },
  {
   "cell_type": "code",
   "execution_count": null,
   "id": "021d2c51",
   "metadata": {},
   "outputs": [],
   "source": [
    "# 관련 라이브러리를 호출합니다.\n",
    "import statsmodels.api as sm"
   ]
  },
  {
   "cell_type": "code",
   "execution_count": null,
   "id": "bd1327da",
   "metadata": {},
   "outputs": [],
   "source": [
    "# 훈련셋 입력변수에 y절편의 역할을 수행할 상수 1을 추가합니다.\n",
    "X_tr = sm.add_constant(data = X_tr)"
   ]
  },
  {
   "cell_type": "code",
   "execution_count": null,
   "id": "fcd2ca7c",
   "metadata": {},
   "outputs": [],
   "source": [
    "# 로지스틱 회귀모형을 반환하는 함수를 정의합니다.\n",
    "def glm(y, X):\n",
    "    model = sm.GLM(endog = y, exog = X, family = sm.families.Binomial())\n",
    "    return model.fit()"
   ]
  },
  {
   "cell_type": "markdown",
   "id": "03d162be",
   "metadata": {},
   "source": [
    "### 로지스틱 회귀모형 적합 결과 확인"
   ]
  },
  {
   "cell_type": "code",
   "execution_count": null,
   "id": "6e8c6b30",
   "metadata": {},
   "outputs": [],
   "source": [
    "# 훈련셋으로 로지스틱 회귀모형 적합 결과를 확인합니다.\n",
    "fit1 = glm(y = y_tr, X = X_tr)\n",
    "fit1.summary()"
   ]
  },
  {
   "cell_type": "markdown",
   "id": "9d9dfcb3",
   "metadata": {},
   "source": [
    "### 로지스틱 회귀모형의 유의성 검정"
   ]
  },
  {
   "cell_type": "code",
   "execution_count": null,
   "id": "d357b2d6",
   "metadata": {},
   "outputs": [],
   "source": [
    "# 두 모형의 이탈도 차이를 생성합니다.\n",
    "devGap = fit1.null_deviance - fit1.deviance\n",
    "devGap"
   ]
  },
  {
   "cell_type": "code",
   "execution_count": null,
   "id": "d003bc73",
   "metadata": {},
   "outputs": [],
   "source": [
    "# 두 모형의 자유도 차이를 생성합니다.\n",
    "dfGap = fit1.df_model\n",
    "dfGap"
   ]
  },
  {
   "cell_type": "code",
   "execution_count": null,
   "id": "8624cff4",
   "metadata": {},
   "outputs": [],
   "source": [
    "# 검정통계량과 자유도로 유의확률을 출력합니다.\n",
    "1 - stats.chi2.cdf(x = devGap, df = dfGap)"
   ]
  },
  {
   "cell_type": "markdown",
   "id": "5910432d",
   "metadata": {},
   "source": [
    "### 다중공선성 확인"
   ]
  },
  {
   "cell_type": "code",
   "execution_count": null,
   "id": "eb4b698a",
   "metadata": {},
   "outputs": [],
   "source": [
    "# 관련 모듈을 호출합니다.\n",
    "import HelloDataScience as hds"
   ]
  },
  {
   "cell_type": "code",
   "execution_count": null,
   "id": "5954cf60",
   "metadata": {},
   "outputs": [],
   "source": [
    "# 훈련셋의 입력변수별 분산팽창지수를 출력합니다.\n",
    "hds.vif(X = X_tr)"
   ]
  },
  {
   "cell_type": "markdown",
   "id": "abdcbec6",
   "metadata": {},
   "source": [
    "### 입력변수의 오즈비 확인"
   ]
  },
  {
   "cell_type": "code",
   "execution_count": null,
   "id": "b199d2c9",
   "metadata": {},
   "outputs": [],
   "source": [
    "# 입력변수별 회귀계수의 오즈비를 확인합니다.\n",
    "np.exp(fit1.params).round(4)"
   ]
  },
  {
   "cell_type": "markdown",
   "id": "918b5c0a",
   "metadata": {},
   "source": [
    "### 표준화 회귀계수 확인"
   ]
  },
  {
   "cell_type": "code",
   "execution_count": null,
   "id": "d1f4f236",
   "metadata": {},
   "outputs": [],
   "source": [
    "# 로지스틱 회귀모형의 회귀계수만 출력합니다.\n",
    "fit1.params"
   ]
  },
  {
   "cell_type": "code",
   "execution_count": null,
   "id": "27dfcc34",
   "metadata": {},
   "outputs": [],
   "source": [
    "# 입력변수의 표준편차를 목표변수의 표준편차로 나눈 값을 출력합니다.\n",
    "# 로짓변환된 목표변수는 표준편차를 구할 수 없으므로 상수 1로 대신합니다.\n",
    "X_tr.std() / 1"
   ]
  },
  {
   "cell_type": "code",
   "execution_count": null,
   "id": "2e1fbcda",
   "metadata": {},
   "outputs": [],
   "source": [
    "# 표준화 회귀계수를 생성합니다.\n",
    "beta_z = fit1.params * X_tr.std()"
   ]
  },
  {
   "cell_type": "code",
   "execution_count": null,
   "id": "b188f3ed",
   "metadata": {},
   "outputs": [],
   "source": [
    "# 표준화 회귀계수의 절대값을 오름차순으로 정렬하여 출력합니다.\n",
    "beta_z.abs().sort_values()"
   ]
  },
  {
   "cell_type": "markdown",
   "id": "582f73eb",
   "metadata": {},
   "source": [
    "### 목표변수의 추정확률 생성"
   ]
  },
  {
   "cell_type": "code",
   "execution_count": null,
   "id": "dd6c04d6",
   "metadata": {},
   "outputs": [],
   "source": [
    "# 훈련셋과의 추정확률을 생성합니다.\n",
    "y_tr_prob = fit1.predict(exog = X_tr)"
   ]
  },
  {
   "cell_type": "code",
   "execution_count": null,
   "id": "c5386ce0",
   "metadata": {},
   "outputs": [],
   "source": [
    "# 훈련셋의 추정확률 일부를 출력합니다.\n",
    "y_tr_prob[0:5]"
   ]
  },
  {
   "cell_type": "code",
   "execution_count": null,
   "id": "d1354eae",
   "metadata": {},
   "outputs": [],
   "source": [
    "# 훈련셋의 실제값과 비교합니다.\n",
    "y_tr[0:5]"
   ]
  },
  {
   "cell_type": "code",
   "execution_count": null,
   "id": "c09b9c60",
   "metadata": {},
   "outputs": [],
   "source": [
    "# 시험셋에 상수항을 추가합니다.\n",
    "X_te = sm.add_constant(data = X_te)"
   ]
  },
  {
   "cell_type": "code",
   "execution_count": null,
   "id": "brutal-province",
   "metadata": {},
   "outputs": [],
   "source": [
    "# 시험셋의 추정확률을 생성합니다.\n",
    "y_te_prob = fit1.predict(exog = X_te)"
   ]
  },
  {
   "cell_type": "code",
   "execution_count": null,
   "id": "72536d7e",
   "metadata": {},
   "outputs": [],
   "source": [
    "# 시험셋의 추정확률 일부를 출력합니다.\n",
    "y_te_prob[0:5]"
   ]
  },
  {
   "cell_type": "code",
   "execution_count": null,
   "id": "98632193",
   "metadata": {},
   "outputs": [],
   "source": [
    "# 시험셋의 실제값과 비교합니다.\n",
    "y_te[0:5]"
   ]
  },
  {
   "cell_type": "markdown",
   "id": "fitting-termination",
   "metadata": {},
   "source": [
    "### 분류모형 성능 평가 : ROC 곡선"
   ]
  },
  {
   "cell_type": "code",
   "execution_count": null,
   "id": "hairy-cincinnati",
   "metadata": {},
   "outputs": [],
   "source": [
    "# fit1의 추정확률로 ROC 곡선과 AUC를 출력합니다.\n",
    "hds.plot_roc(\n",
    "    y1_true = y_tr, \n",
    "    y1_prob = y_tr_prob, \n",
    "    y2_true = y_te, \n",
    "    y2_prob = y_te_prob, \n",
    "    pos = 1\n",
    ")"
   ]
  },
  {
   "cell_type": "markdown",
   "id": "a29328f3",
   "metadata": {},
   "source": [
    "### 목표변수의 추정값 생성"
   ]
  },
  {
   "cell_type": "code",
   "execution_count": null,
   "id": "52efbb27",
   "metadata": {},
   "outputs": [],
   "source": [
    "# 분리 기준점을 0.5로 설정합니다.\n",
    "cutoff = 0.5"
   ]
  },
  {
   "cell_type": "code",
   "execution_count": null,
   "id": "a98555c0",
   "metadata": {},
   "outputs": [],
   "source": [
    "# 훈련셋의 목표변수 추정값(라벨)을 생성합니다.\n",
    "y_tr_pred = pd.Series(np.where(y_tr_prob >= cutoff, 1, 0))"
   ]
  },
  {
   "cell_type": "code",
   "execution_count": null,
   "id": "57cce4c0",
   "metadata": {},
   "outputs": [],
   "source": [
    "# 훈련셋의 추정값 빈도수를 확인합니다.\n",
    "y_tr_pred.value_counts()"
   ]
  },
  {
   "cell_type": "code",
   "execution_count": null,
   "id": "485436e6",
   "metadata": {},
   "outputs": [],
   "source": [
    "# 시험셋의 목표변수 추정값(라벨)을 생성합니다.\n",
    "y_te_pred = pd.Series(np.where(y_te_prob >= cutoff, 1, 0))"
   ]
  },
  {
   "cell_type": "code",
   "execution_count": null,
   "id": "a80c548b",
   "metadata": {},
   "outputs": [],
   "source": [
    "# 시험셋의 추정값 빈도수를 확인합니다.\n",
    "y_te_pred.value_counts()"
   ]
  },
  {
   "cell_type": "markdown",
   "id": "gross-motion",
   "metadata": {},
   "source": [
    "### 분류모형 성능 평가 : 혼동행렬 리포트"
   ]
  },
  {
   "cell_type": "code",
   "execution_count": null,
   "id": "european-assistant",
   "metadata": {},
   "outputs": [],
   "source": [
    "# 관련 라이브러리를 호출합니다.\n",
    "from sklearn.metrics import *"
   ]
  },
  {
   "cell_type": "code",
   "execution_count": null,
   "id": "6898a97c",
   "metadata": {},
   "outputs": [],
   "source": [
    "# 훈련셋의 혼동행렬을 출력합니다.\n",
    "confusion_matrix(y_true = y_tr, y_pred = y_tr_pred)"
   ]
  },
  {
   "cell_type": "code",
   "execution_count": null,
   "id": "organizational-arrangement",
   "metadata": {},
   "outputs": [],
   "source": [
    "# 훈련셋의 혼동행렬 리포트를 출력합니다.\n",
    "print(classification_report(y_true = y_tr, y_pred = y_tr_pred))"
   ]
  },
  {
   "cell_type": "code",
   "execution_count": null,
   "id": "parallel-mercy",
   "metadata": {},
   "outputs": [],
   "source": [
    "# 시험셋의 혼동행렬을 출력합니다.\n",
    "confusion_matrix(y_true = y_te, y_pred = y_te_pred)"
   ]
  },
  {
   "cell_type": "code",
   "execution_count": null,
   "id": "db02cb2c",
   "metadata": {},
   "outputs": [],
   "source": [
    "# 시험셋의 혼동행렬 리포트를 출력합니다.\n",
    "print(classification_report(y_true = y_te, y_pred = y_te_pred))"
   ]
  },
  {
   "cell_type": "markdown",
   "id": "33a2aaf1",
   "metadata": {},
   "source": [
    "<p style=\"font-family:verdana;font-size:200%;text-align:center;\">End of Document</p>"
   ]
  }
 ],
 "metadata": {
  "kernelspec": {
   "display_name": "Python 3 (ipykernel)",
   "language": "python",
   "name": "python3"
  },
  "language_info": {
   "codemirror_mode": {
    "name": "ipython",
    "version": 3
   },
   "file_extension": ".py",
   "mimetype": "text/x-python",
   "name": "python",
   "nbconvert_exporter": "python",
   "pygments_lexer": "ipython3",
   "version": "3.9.6"
  },
  "toc": {
   "base_numbering": 1,
   "nav_menu": {},
   "number_sections": true,
   "sideBar": true,
   "skip_h1_title": false,
   "title_cell": "Table of Contents",
   "title_sidebar": "Contents",
   "toc_cell": false,
   "toc_position": {},
   "toc_section_display": true,
   "toc_window_display": true
  },
  "varInspector": {
   "cols": {
    "lenName": 16,
    "lenType": 16,
    "lenVar": 40
   },
   "kernels_config": {
    "python": {
     "delete_cmd_postfix": "",
     "delete_cmd_prefix": "del ",
     "library": "var_list.py",
     "varRefreshCmd": "print(var_dic_list())"
    },
    "r": {
     "delete_cmd_postfix": ") ",
     "delete_cmd_prefix": "rm(",
     "library": "var_list.r",
     "varRefreshCmd": "cat(var_dic_list()) "
    }
   },
   "types_to_exclude": [
    "module",
    "function",
    "builtin_function_or_method",
    "instance",
    "_Feature"
   ],
   "window_display": false
  }
 },
 "nbformat": 4,
 "nbformat_minor": 5
}
