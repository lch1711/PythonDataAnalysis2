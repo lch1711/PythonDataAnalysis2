{
 "cells": [
  {
   "cell_type": "markdown",
   "id": "fc09e07d",
   "metadata": {},
   "source": [
    "# 로지스틱 회귀분석"
   ]
  },
  {
   "cell_type": "markdown",
   "id": "separate-davis",
   "metadata": {},
   "source": [
    "### 실습 데이터셋 준비"
   ]
  },
  {
   "cell_type": "code",
   "execution_count": null,
   "id": "alien-controversy",
   "metadata": {},
   "outputs": [],
   "source": [
    "# 관련 라이브러리를 호출합니다.\n",
    "import numpy as np\n",
    "import pandas as pd\n",
    "import pingouin as pg"
   ]
  },
  {
   "cell_type": "code",
   "execution_count": null,
   "id": "realistic-noise",
   "metadata": {},
   "outputs": [],
   "source": [
    "# 인터넷으로 공유 중인 텍스트 데이터를 읽고 데이터프레임 df를 생성합니다.\n",
    "df = pd.read_csv('https://bit.ly/Univ_Admit')"
   ]
  },
  {
   "cell_type": "code",
   "execution_count": null,
   "id": "martial-jacket",
   "metadata": {},
   "outputs": [],
   "source": [
    "# df의 정보를 확인합니다.\n",
    "df.info()"
   ]
  },
  {
   "cell_type": "code",
   "execution_count": null,
   "id": "2d6ab82d",
   "metadata": {},
   "outputs": [],
   "source": [
    "# df의 처음 5행을 출력합니다.\n",
    "df.head()"
   ]
  },
  {
   "cell_type": "markdown",
   "id": "67a7417f",
   "metadata": {},
   "source": [
    "### 실습 데이터셋 전처리"
   ]
  },
  {
   "cell_type": "code",
   "execution_count": null,
   "id": "31cf2953",
   "metadata": {},
   "outputs": [],
   "source": [
    "# rank를 문자형으로 변환합니다.\n",
    "df['rank'] = df['rank'].astype('str')"
   ]
  },
  {
   "cell_type": "code",
   "execution_count": null,
   "id": "f901099a",
   "metadata": {},
   "outputs": [],
   "source": [
    "# 연속형 변수의 기술통계량을 출력합니다.\n",
    "df.describe().round(2)"
   ]
  },
  {
   "cell_type": "code",
   "execution_count": null,
   "id": "5a658311",
   "metadata": {},
   "outputs": [],
   "source": [
    "# 범주형 변수의 기술통계량을 출력합니다.\n",
    "df.describe(include = 'object')"
   ]
  },
  {
   "cell_type": "code",
   "execution_count": null,
   "id": "4010d7a9",
   "metadata": {},
   "outputs": [],
   "source": [
    "# rank의 원소별 빈도수를 출력합니다.\n",
    "df['rank'].value_counts().sort_index()"
   ]
  },
  {
   "cell_type": "markdown",
   "id": "112fc20e",
   "metadata": {},
   "source": [
    "### 목표변수 시각화"
   ]
  },
  {
   "cell_type": "code",
   "execution_count": null,
   "id": "69d30976",
   "metadata": {},
   "outputs": [],
   "source": [
    "# 시각화 관련 모듈을 호출합니다.\n",
    "from GraphicSetting import *\n",
    "import HelloDataScience as hds"
   ]
  },
  {
   "cell_type": "code",
   "execution_count": null,
   "id": "shared-database",
   "metadata": {},
   "outputs": [],
   "source": [
    "# 목표변수의 빈도수를 막대그래프를 시각화합니다.\n",
    "hds.plot_y_freq(data = df, y = 'admit')"
   ]
  },
  {
   "cell_type": "markdown",
   "id": "attempted-operations",
   "metadata": {},
   "source": [
    "### 연속형 입력변수와 관계 파악"
   ]
  },
  {
   "cell_type": "code",
   "execution_count": null,
   "id": "important-college",
   "metadata": {},
   "outputs": [],
   "source": [
    "# admit의 범주별 gre의 분포를 상자 수염 그림으로 시각화합니다.\n",
    "hds.plot_box_group(data = df, x = 'admit', y = 'gre')"
   ]
  },
  {
   "cell_type": "code",
   "execution_count": null,
   "id": "synthetic-leader",
   "metadata": {},
   "outputs": [],
   "source": [
    "# admit의 범주별 gpa의 분포를 상자 수염 그림으로 시각화합니다.\n",
    "hds.plot_box_group(data = df, x = 'admit', y = 'gpa')"
   ]
  },
  {
   "cell_type": "markdown",
   "id": "a8aec4e6",
   "metadata": {},
   "source": [
    "### 범주형 입력변수와 관계 파악"
   ]
  },
  {
   "cell_type": "code",
   "execution_count": null,
   "id": "rental-homeless",
   "metadata": {},
   "outputs": [],
   "source": [
    "# rank의 범주별 admit의 상대도수를 중첩막대그래프로 시각화합니다.\n",
    "hds.plot_stack_prop(data = df, x = 'rank', y = 'admit', \n",
    "                    pal = ['skyblue', 'orange'])"
   ]
  },
  {
   "cell_type": "markdown",
   "id": "5fde44a8",
   "metadata": {},
   "source": [
    "### t-검정: gre"
   ]
  },
  {
   "cell_type": "code",
   "execution_count": null,
   "id": "d03bd596",
   "metadata": {},
   "outputs": [],
   "source": [
    "# 정규성 검정을 실행합니다.\n",
    "pg.normality(data = df, dv = 'gre', group = 'admit')"
   ]
  },
  {
   "cell_type": "code",
   "execution_count": null,
   "id": "010f1451",
   "metadata": {},
   "outputs": [],
   "source": [
    "# admit의 범주별 gre를 시리즈로 각각 생성합니다.\n",
    "s0 = df['gre'][df['admit'].eq('Fail')]\n",
    "s1 = df['gre'][df['admit'].eq('Pass')]"
   ]
  },
  {
   "cell_type": "code",
   "execution_count": null,
   "id": "dba616fe",
   "metadata": {},
   "outputs": [],
   "source": [
    "# (정규성 가정 불만족) 맨-휘트니 U 검정을 실행합니다.\n",
    "pg.mwu(x = s0, y = s1)"
   ]
  },
  {
   "cell_type": "markdown",
   "id": "cb9ba4a3",
   "metadata": {},
   "source": [
    "### t-검정 : gpa"
   ]
  },
  {
   "cell_type": "code",
   "execution_count": null,
   "id": "8e1eedbe",
   "metadata": {},
   "outputs": [],
   "source": [
    "# 정규성 검정을 실행합니다.\n",
    "pg.normality(data = df, dv = 'gpa', group = 'admit')"
   ]
  },
  {
   "cell_type": "code",
   "execution_count": null,
   "id": "b84be5e7",
   "metadata": {},
   "outputs": [],
   "source": [
    "# admit의 범주별 gpa를 시리즈로 각각 생성합니다.\n",
    "s0 = df['gpa'][df['admit'].eq('Fail')]\n",
    "s1 = df['gpa'][df['admit'].eq('Pass')]"
   ]
  },
  {
   "cell_type": "code",
   "execution_count": null,
   "id": "7ae06bb1",
   "metadata": {},
   "outputs": [],
   "source": [
    "# (정규성 가정 불만족) 맨-휘트니 U 검정을 실행합니다.\n",
    "pg.mwu(x = s0, y = s1)"
   ]
  },
  {
   "cell_type": "markdown",
   "id": "386a1ff4",
   "metadata": {},
   "source": [
    "### 교차분석: rank"
   ]
  },
  {
   "cell_type": "code",
   "execution_count": null,
   "id": "697025d7",
   "metadata": {},
   "outputs": [],
   "source": [
    "# 범주형 입력변수 rank와 목표변수의 교차테이블을 출력합니다.\n",
    "pd.crosstab(index = df['rank'], columns = df['admit'])"
   ]
  },
  {
   "cell_type": "code",
   "execution_count": null,
   "id": "0e998d5b",
   "metadata": {},
   "outputs": [],
   "source": [
    "# 교차테이블 빈도수로 카이제곱 검정을 실행합니다.\n",
    "pg.chi2_independence(data = df, x = 'rank', y = 'admit')"
   ]
  },
  {
   "cell_type": "markdown",
   "id": "97a19a13",
   "metadata": {},
   "source": [
    "### 더미변수 생성"
   ]
  },
  {
   "cell_type": "code",
   "execution_count": null,
   "id": "c10f85ba",
   "metadata": {},
   "outputs": [],
   "source": [
    "# 범주형 입력변수명으로 리스트를 생성합니다.\n",
    "cols = ['admit', 'rank']"
   ]
  },
  {
   "cell_type": "code",
   "execution_count": null,
   "id": "2f6e2ea7",
   "metadata": {},
   "outputs": [],
   "source": [
    "# 범주형 입력변수로 더미변수를 생성합니다.\n",
    "dm = pd.get_dummies(data = df[cols], drop_first = True)"
   ]
  },
  {
   "cell_type": "code",
   "execution_count": null,
   "id": "quick-prophet",
   "metadata": {},
   "outputs": [],
   "source": [
    "# df의 오른쪽에 더미변수 dm을 추가합니다.\n",
    "df = pd.concat(objs = [df, dm], axis = 1)"
   ]
  },
  {
   "cell_type": "code",
   "execution_count": null,
   "id": "above-vulnerability",
   "metadata": {},
   "outputs": [],
   "source": [
    "# df의 처음 10행을 출력합니다.\n",
    "df.head(n = 10)"
   ]
  },
  {
   "cell_type": "code",
   "execution_count": null,
   "id": "proper-radar",
   "metadata": {},
   "outputs": [],
   "source": [
    "# df에서 범주형 입력변수를 모두 삭제합니다.\n",
    "df = df.drop(labels = cols, axis = 1)"
   ]
  },
  {
   "cell_type": "code",
   "execution_count": null,
   "id": "a315394a",
   "metadata": {},
   "outputs": [],
   "source": [
    "# 목표변수명을 'admit'으로 변경합니다.\n",
    "df = df.rename(columns = {'admit_Pass': 'admit'})"
   ]
  },
  {
   "cell_type": "code",
   "execution_count": null,
   "id": "a52938ab",
   "metadata": {},
   "outputs": [],
   "source": [
    "# df의 처음 10행을 다시 출력합니다.\n",
    "df.head(n = 10)"
   ]
  },
  {
   "cell_type": "markdown",
   "id": "swiss-chuck",
   "metadata": {},
   "source": [
    "### 실습 데이터셋 분할"
   ]
  },
  {
   "cell_type": "code",
   "execution_count": null,
   "id": "latter-administrator",
   "metadata": {},
   "outputs": [],
   "source": [
    "# 관련 라이브러리를 호출합니다.\n",
    "from sklearn.model_selection import train_test_split"
   ]
  },
  {
   "cell_type": "code",
   "execution_count": null,
   "id": "719622bb",
   "metadata": {},
   "outputs": [],
   "source": [
    "# 목표변수 열이름을 지정합니다.\n",
    "yvar = 'admit'"
   ]
  },
  {
   "cell_type": "code",
   "execution_count": null,
   "id": "cosmetic-homework",
   "metadata": {},
   "outputs": [],
   "source": [
    "# 입력변수 행렬 X와 목표변수 벡터 y를 생성합니다.\n",
    "X = df.drop(labels = [yvar], axis = 1)\n",
    "y = df[yvar]"
   ]
  },
  {
   "cell_type": "code",
   "execution_count": null,
   "id": "conscious-brunswick",
   "metadata": {},
   "outputs": [],
   "source": [
    "# 전체 데이터의 70%를 훈련셋, 30%를 시험셋으로 분할합니다.\n",
    "X_tr, X_te, y_tr, y_te = train_test_split(\n",
    "    X, y, test_size = 0.3, random_state = 0\n",
    ")"
   ]
  },
  {
   "cell_type": "code",
   "execution_count": null,
   "id": "amber-shopping",
   "metadata": {},
   "outputs": [],
   "source": [
    "# 훈련셋의 목표변수 범주별 상대도수를 확인합니다.\n",
    "y_tr.value_counts(normalize = True)"
   ]
  },
  {
   "cell_type": "code",
   "execution_count": null,
   "id": "fiscal-buffer",
   "metadata": {},
   "outputs": [],
   "source": [
    "# 시험셋의 목표변수 범주별 상대도수를 확인합니다.\n",
    "y_te.value_counts(normalize = True)"
   ]
  },
  {
   "cell_type": "markdown",
   "id": "unlike-claim",
   "metadata": {},
   "source": [
    "### 로지스틱 회귀모형 적합"
   ]
  },
  {
   "cell_type": "code",
   "execution_count": null,
   "id": "021d2c51",
   "metadata": {},
   "outputs": [],
   "source": [
    "# 관련 라이브러리를 호출합니다.\n",
    "import statsmodels.api as sm"
   ]
  },
  {
   "cell_type": "code",
   "execution_count": null,
   "id": "fcd2ca7c",
   "metadata": {},
   "outputs": [],
   "source": [
    "# 로지스틱 회귀모형을 반환하는 함수를 정의합니다.\n",
    "def glm(y, X):\n",
    "    model = sm.GLM(endog = y, exog = X, family = sm.families.Binomial())\n",
    "    return model.fit()"
   ]
  },
  {
   "cell_type": "code",
   "execution_count": null,
   "id": "bd1327da",
   "metadata": {},
   "outputs": [],
   "source": [
    "# 훈련셋 입력변수에 y절편의 역할을 수행할 상수 1을 추가합니다.\n",
    "X_tr = sm.add_constant(data = X_tr)"
   ]
  },
  {
   "cell_type": "code",
   "execution_count": null,
   "id": "1c692b1a",
   "metadata": {},
   "outputs": [],
   "source": [
    "# 훈련셋 입력변수의 처음 5행을 출력합니다.\n",
    "X_tr.head()"
   ]
  },
  {
   "cell_type": "code",
   "execution_count": null,
   "id": "bf61d5f0",
   "metadata": {},
   "outputs": [],
   "source": [
    "# 시험셋 입력변수에도 상수 1을 추가합니다.\n",
    "X_te = sm.add_constant(data = X_te)"
   ]
  },
  {
   "cell_type": "code",
   "execution_count": null,
   "id": "fa4411bb",
   "metadata": {},
   "outputs": [],
   "source": [
    "# 훈련셋으로 로지스틱 회귀모형을 적합합니다.\n",
    "fit1 = glm(y = y_tr, X = X_tr)"
   ]
  },
  {
   "cell_type": "markdown",
   "id": "03d162be",
   "metadata": {},
   "source": [
    "### 로지스틱 회귀모형 적합 결과 확인"
   ]
  },
  {
   "cell_type": "code",
   "execution_count": null,
   "id": "6e8c6b30",
   "metadata": {},
   "outputs": [],
   "source": [
    "# 로지스틱 회귀모형 적합 결과를 확인합니다.\n",
    "fit1.summary()"
   ]
  },
  {
   "cell_type": "markdown",
   "id": "9d9dfcb3",
   "metadata": {},
   "source": [
    "### 로지스틱 회귀모형의 유의성 검정"
   ]
  },
  {
   "cell_type": "code",
   "execution_count": null,
   "id": "10b258bf",
   "metadata": {},
   "outputs": [],
   "source": [
    "# 관련 라이브러리를 호출합니다.\n",
    "from scipy import stats"
   ]
  },
  {
   "cell_type": "code",
   "execution_count": null,
   "id": "d357b2d6",
   "metadata": {},
   "outputs": [],
   "source": [
    "# 두 모형의 이탈도 차이를 출력합니다.\n",
    "devGap = fit1.null_deviance - fit1.deviance\n",
    "devGap"
   ]
  },
  {
   "cell_type": "code",
   "execution_count": null,
   "id": "d003bc73",
   "metadata": {},
   "outputs": [],
   "source": [
    "# 두 모형의 자유도 차이를 출력합니다.\n",
    "dfGap = fit1.df_model\n",
    "dfGap"
   ]
  },
  {
   "cell_type": "code",
   "execution_count": null,
   "id": "8624cff4",
   "metadata": {},
   "outputs": [],
   "source": [
    "# 검정통계량과 자유도로 유의확률을 출력합니다.\n",
    "1 - stats.chi2.cdf(x = devGap, df = dfGap)"
   ]
  },
  {
   "cell_type": "markdown",
   "id": "5910432d",
   "metadata": {},
   "source": [
    "### 분산팽창지수 확인"
   ]
  },
  {
   "cell_type": "code",
   "execution_count": null,
   "id": "5954cf60",
   "metadata": {},
   "outputs": [],
   "source": [
    "# 훈련셋의 입력변수별 분산팽창지수를 출력합니다.\n",
    "hds.vif(X = X_tr)"
   ]
  },
  {
   "cell_type": "markdown",
   "id": "abdcbec6",
   "metadata": {},
   "source": [
    "### 오즈비 확인"
   ]
  },
  {
   "cell_type": "code",
   "execution_count": null,
   "id": "b199d2c9",
   "metadata": {},
   "outputs": [],
   "source": [
    "# 입력변수별 회귀계수의 오즈비를 확인합니다.\n",
    "np.exp(fit1.params).round(3)"
   ]
  },
  {
   "cell_type": "markdown",
   "id": "918b5c0a",
   "metadata": {},
   "source": [
    "### 표준화 회귀계수 확인"
   ]
  },
  {
   "cell_type": "code",
   "execution_count": null,
   "id": "d1f4f236",
   "metadata": {},
   "outputs": [],
   "source": [
    "# 로지스틱 회귀모형의 회귀계수를 출력합니다.\n",
    "fit1.params"
   ]
  },
  {
   "cell_type": "code",
   "execution_count": null,
   "id": "27dfcc34",
   "metadata": {},
   "outputs": [],
   "source": [
    "# 입력변수의 표준편차를 목표변수의 표준편차로 나눈 값을 출력합니다.\n",
    "# [참고] 로짓변환된 목표변수는 표준편차를 구할 수 없으므로 상수 1로 대신합니다.\n",
    "X_tr.std() / 1"
   ]
  },
  {
   "cell_type": "code",
   "execution_count": null,
   "id": "2e1fbcda",
   "metadata": {},
   "outputs": [],
   "source": [
    "# 표준화 회귀계수를 생성합니다.\n",
    "beta_z = fit1.params * X_tr.std()"
   ]
  },
  {
   "cell_type": "code",
   "execution_count": null,
   "id": "b188f3ed",
   "metadata": {},
   "outputs": [],
   "source": [
    "# 표준화 회귀계수의 절대값을 오름차순으로 정렬한 결과를 출력합니다.\n",
    "beta_z.abs().sort_values()"
   ]
  },
  {
   "cell_type": "markdown",
   "id": "582f73eb",
   "metadata": {},
   "source": [
    "### 목표변수의 추정확률 생성: 훈련셋"
   ]
  },
  {
   "cell_type": "code",
   "execution_count": null,
   "id": "dd6c04d6",
   "metadata": {},
   "outputs": [],
   "source": [
    "# 훈련셋의 추정확률을 생성합니다.\n",
    "y_tr_prob = fit1.predict(exog = X_tr)"
   ]
  },
  {
   "cell_type": "code",
   "execution_count": null,
   "id": "e816cee5",
   "metadata": {},
   "outputs": [],
   "source": [
    "# 훈련셋의 목표변수 추정값(라벨)을 생성합니다.(분리 기준점을 0.5로 설정)\n",
    "y_tr_pred = np.where(y_tr_prob >= 0.5, 1, 0)"
   ]
  },
  {
   "cell_type": "code",
   "execution_count": null,
   "id": "57cce4c0",
   "metadata": {},
   "outputs": [],
   "source": [
    "# 실제값과 추정확률 및 추정값으로 데이터프레임을 생성하고 값을 비교합니다.\n",
    "pd.DataFrame(data = {'Real': y_tr, 'Prob': y_tr_prob, 'Pred': y_tr_pred})"
   ]
  },
  {
   "cell_type": "markdown",
   "id": "70447284",
   "metadata": {},
   "source": [
    "### 목표변수의 추정확률 생성: 시험셋"
   ]
  },
  {
   "cell_type": "code",
   "execution_count": null,
   "id": "brutal-province",
   "metadata": {},
   "outputs": [],
   "source": [
    "# 시험셋의 추정확률을 생성합니다.\n",
    "y_te_prob = fit1.predict(exog = X_te)"
   ]
  },
  {
   "cell_type": "code",
   "execution_count": null,
   "id": "485436e6",
   "metadata": {},
   "outputs": [],
   "source": [
    "# 시험셋의 목표변수 추정값(라벨)을 생성합니다.(분리 기준점을 0.5로 설정)\n",
    "y_te_pred = np.where(y_te_prob >= 0.5, 1, 0)"
   ]
  },
  {
   "cell_type": "code",
   "execution_count": null,
   "id": "a80c548b",
   "metadata": {},
   "outputs": [],
   "source": [
    "# 실제값과 추정확률 및 추정값으로 데이터프레임을 생성하고 값을 비교합니다.\n",
    "pd.DataFrame(data = {'Real': y_te, 'Prob': y_te_prob, 'Pred': y_te_pred})"
   ]
  },
  {
   "cell_type": "markdown",
   "id": "fitting-termination",
   "metadata": {},
   "source": [
    "### 분류모형 성능 평가 : ROC 곡선"
   ]
  },
  {
   "cell_type": "code",
   "execution_count": null,
   "id": "hairy-cincinnati",
   "metadata": {},
   "outputs": [],
   "source": [
    "# 훈련셋과 시험셋의 추정확률로 ROC 곡선을 시각화합니다.\n",
    "hds.plot_roc(y_true = y_tr, y_prob = y_tr_prob, color = 'red')\n",
    "hds.plot_roc(y_true = y_te, y_prob = y_te_prob, color = 'blue')"
   ]
  },
  {
   "cell_type": "markdown",
   "id": "2ead22d7",
   "metadata": {},
   "source": [
    "### 분류모형 성능 평가 : 혼동행렬 리포트"
   ]
  },
  {
   "cell_type": "code",
   "execution_count": null,
   "id": "9a830c56",
   "metadata": {},
   "outputs": [],
   "source": [
    "# 훈련셋의 추정값으로 혼동행렬 리포트를 출력하고 정확도, 민감도, 정밀도 및\n",
    "# F1 점수를 차례로 확인합니다.\n",
    "hds.clfmetrics(y_true = y_tr, y_pred = y_tr_pred)"
   ]
  },
  {
   "cell_type": "code",
   "execution_count": null,
   "id": "74820ce6",
   "metadata": {},
   "outputs": [],
   "source": [
    "# 시험셋의 추정값으로 혼동행렬 리포트를 출력하고 정확도, 민감도, 정밀도 및\n",
    "# F1 점수를 차례로 확인합니다.\n",
    "hds.clfmetrics(y_true = y_te, y_pred = y_te_pred)"
   ]
  },
  {
   "cell_type": "markdown",
   "id": "gross-motion",
   "metadata": {},
   "source": [
    "### [참고] 혼동행렬 관련 함수"
   ]
  },
  {
   "cell_type": "code",
   "execution_count": null,
   "id": "european-assistant",
   "metadata": {},
   "outputs": [],
   "source": [
    "# 관련 라이브러리를 호출합니다.\n",
    "from sklearn.metrics import *"
   ]
  },
  {
   "cell_type": "code",
   "execution_count": null,
   "id": "6898a97c",
   "metadata": {},
   "outputs": [],
   "source": [
    "# 시험셋의 혼동행렬을 출력합니다.\n",
    "print(confusion_matrix(y_true = y_te, y_pred = y_te_pred))"
   ]
  },
  {
   "cell_type": "code",
   "execution_count": null,
   "id": "organizational-arrangement",
   "metadata": {},
   "outputs": [],
   "source": [
    "# 시험셋의 분류모형 리포트를 출력합니다.\n",
    "print(classification_report(y_true = y_te, y_pred = y_te_pred))"
   ]
  },
  {
   "cell_type": "code",
   "execution_count": null,
   "id": "parallel-mercy",
   "metadata": {},
   "outputs": [],
   "source": [
    "# 시험셋의 F1 점수를 출력합니다.\n",
    "f1_score(y_true = y_te, y_pred = y_te_pred, pos_label = 1)"
   ]
  },
  {
   "cell_type": "markdown",
   "id": "33a2aaf1",
   "metadata": {},
   "source": [
    "## End of Document"
   ]
  }
 ],
 "metadata": {
  "kernelspec": {
   "display_name": "Python 3 (ipykernel)",
   "language": "python",
   "name": "python3"
  },
  "language_info": {
   "codemirror_mode": {
    "name": "ipython",
    "version": 3
   },
   "file_extension": ".py",
   "mimetype": "text/x-python",
   "name": "python",
   "nbconvert_exporter": "python",
   "pygments_lexer": "ipython3",
   "version": "3.10.3"
  },
  "toc": {
   "base_numbering": 1,
   "nav_menu": {},
   "number_sections": true,
   "sideBar": true,
   "skip_h1_title": false,
   "title_cell": "Table of Contents",
   "title_sidebar": "Contents",
   "toc_cell": false,
   "toc_position": {},
   "toc_section_display": true,
   "toc_window_display": false
  },
  "varInspector": {
   "cols": {
    "lenName": 16,
    "lenType": 16,
    "lenVar": 40
   },
   "kernels_config": {
    "python": {
     "delete_cmd_postfix": "",
     "delete_cmd_prefix": "del ",
     "library": "var_list.py",
     "varRefreshCmd": "print(var_dic_list())"
    },
    "r": {
     "delete_cmd_postfix": ") ",
     "delete_cmd_prefix": "rm(",
     "library": "var_list.r",
     "varRefreshCmd": "cat(var_dic_list()) "
    }
   },
   "types_to_exclude": [
    "module",
    "function",
    "builtin_function_or_method",
    "instance",
    "_Feature"
   ],
   "window_display": false
  }
 },
 "nbformat": 4,
 "nbformat_minor": 5
}
