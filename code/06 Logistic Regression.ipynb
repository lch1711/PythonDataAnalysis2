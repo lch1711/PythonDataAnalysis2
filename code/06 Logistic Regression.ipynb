{
 "cells": [
  {
   "cell_type": "markdown",
   "id": "fc09e07d",
   "metadata": {},
   "source": [
    "## 로지스틱 회귀분석"
   ]
  },
  {
   "cell_type": "markdown",
   "id": "7d56d659",
   "metadata": {},
   "source": [
    "### 관련 라이브러리 호출"
   ]
  },
  {
   "cell_type": "code",
   "execution_count": 1,
   "id": "alien-controversy",
   "metadata": {
    "ExecuteTime": {
     "end_time": "2022-06-11T04:55:04.050027Z",
     "start_time": "2022-06-11T04:55:02.854491Z"
    }
   },
   "outputs": [],
   "source": [
    "# 관련 라이브러리를 호출합니다.\n",
    "import os\n",
    "import joblib\n",
    "import numpy as np\n",
    "import pandas as pd"
   ]
  },
  {
   "cell_type": "code",
   "execution_count": 2,
   "id": "d10214c0",
   "metadata": {},
   "outputs": [],
   "source": [
    "# 통계 관련 라이브러리를 호출합니다.\n",
    "from scipy import stats\n",
    "import pingouin as pg"
   ]
  },
  {
   "cell_type": "code",
   "execution_count": 3,
   "id": "3c3ad5fc",
   "metadata": {
    "ExecuteTime": {
     "end_time": "2022-06-11T04:55:04.338408Z",
     "start_time": "2022-06-11T04:55:04.052268Z"
    }
   },
   "outputs": [],
   "source": [
    "# 시각화 설정 모듈을 호출합니다.\n",
    "from GraphicSetting import *\n",
    "\n",
    "# 통계 분석 및 머신러닝 관련 모듈을 호출합니다.\n",
    "import HelloDataScience as hds"
   ]
  },
  {
   "cell_type": "markdown",
   "id": "separate-davis",
   "metadata": {},
   "source": [
    "### 실습 데이터셋 준비"
   ]
  },
  {
   "cell_type": "code",
   "execution_count": 4,
   "id": "realistic-noise",
   "metadata": {
    "ExecuteTime": {
     "end_time": "2022-06-11T04:55:04.919444Z",
     "start_time": "2022-06-11T04:55:04.340122Z"
    }
   },
   "outputs": [],
   "source": [
    "# 인터넷에 공유 중인 텍스트 데이터를 읽고 데이터프레임 df를 생성합니다.\n",
    "df = pd.read_csv(filepath_or_buffer = 'https://bit.ly/Univ_Admit')"
   ]
  },
  {
   "cell_type": "code",
   "execution_count": 5,
   "id": "martial-jacket",
   "metadata": {
    "ExecuteTime": {
     "end_time": "2022-06-11T04:55:04.930110Z",
     "start_time": "2022-06-11T04:55:04.922394Z"
    }
   },
   "outputs": [
    {
     "name": "stdout",
     "output_type": "stream",
     "text": [
      "<class 'pandas.core.frame.DataFrame'>\n",
      "RangeIndex: 1687 entries, 0 to 1686\n",
      "Data columns (total 4 columns):\n",
      " #   Column  Non-Null Count  Dtype  \n",
      "---  ------  --------------  -----  \n",
      " 0   admit   1687 non-null   object \n",
      " 1   gre     1687 non-null   float64\n",
      " 2   gpa     1687 non-null   float64\n",
      " 3   rank    1687 non-null   int64  \n",
      "dtypes: float64(2), int64(1), object(1)\n",
      "memory usage: 52.8+ KB\n"
     ]
    }
   ],
   "source": [
    "# df의 정보를 확인합니다.\n",
    "df.info()"
   ]
  },
  {
   "cell_type": "code",
   "execution_count": 6,
   "id": "2d6ab82d",
   "metadata": {
    "ExecuteTime": {
     "end_time": "2022-06-11T04:55:04.944649Z",
     "start_time": "2022-06-11T04:55:04.931736Z"
    }
   },
   "outputs": [
    {
     "data": {
      "text/html": [
       "<div>\n",
       "<style scoped>\n",
       "    .dataframe tbody tr th:only-of-type {\n",
       "        vertical-align: middle;\n",
       "    }\n",
       "\n",
       "    .dataframe tbody tr th {\n",
       "        vertical-align: top;\n",
       "    }\n",
       "\n",
       "    .dataframe thead th {\n",
       "        text-align: right;\n",
       "    }\n",
       "</style>\n",
       "<table border=\"1\" class=\"dataframe\">\n",
       "  <thead>\n",
       "    <tr style=\"text-align: right;\">\n",
       "      <th></th>\n",
       "      <th>admit</th>\n",
       "      <th>gre</th>\n",
       "      <th>gpa</th>\n",
       "      <th>rank</th>\n",
       "    </tr>\n",
       "  </thead>\n",
       "  <tbody>\n",
       "    <tr>\n",
       "      <th>0</th>\n",
       "      <td>Fail</td>\n",
       "      <td>380.0</td>\n",
       "      <td>3.61</td>\n",
       "      <td>3</td>\n",
       "    </tr>\n",
       "    <tr>\n",
       "      <th>1</th>\n",
       "      <td>Pass</td>\n",
       "      <td>660.0</td>\n",
       "      <td>3.67</td>\n",
       "      <td>3</td>\n",
       "    </tr>\n",
       "    <tr>\n",
       "      <th>2</th>\n",
       "      <td>Pass</td>\n",
       "      <td>800.0</td>\n",
       "      <td>4.00</td>\n",
       "      <td>1</td>\n",
       "    </tr>\n",
       "    <tr>\n",
       "      <th>3</th>\n",
       "      <td>Pass</td>\n",
       "      <td>640.0</td>\n",
       "      <td>3.19</td>\n",
       "      <td>4</td>\n",
       "    </tr>\n",
       "    <tr>\n",
       "      <th>4</th>\n",
       "      <td>Fail</td>\n",
       "      <td>520.0</td>\n",
       "      <td>2.93</td>\n",
       "      <td>4</td>\n",
       "    </tr>\n",
       "  </tbody>\n",
       "</table>\n",
       "</div>"
      ],
      "text/plain": [
       "  admit    gre   gpa  rank\n",
       "0  Fail  380.0  3.61     3\n",
       "1  Pass  660.0  3.67     3\n",
       "2  Pass  800.0  4.00     1\n",
       "3  Pass  640.0  3.19     4\n",
       "4  Fail  520.0  2.93     4"
      ]
     },
     "execution_count": 6,
     "metadata": {},
     "output_type": "execute_result"
    }
   ],
   "source": [
    "# df의 처음 5행을 출력합니다.\n",
    "df.head()"
   ]
  },
  {
   "cell_type": "code",
   "execution_count": 7,
   "id": "45c4361e",
   "metadata": {},
   "outputs": [],
   "source": [
    "# y절편 역할을 수행할 상수 1을 df의 두 번째 열로 삽입합니다.\n",
    "df.insert(loc = 1, column = 'const', value = 1)"
   ]
  },
  {
   "cell_type": "markdown",
   "id": "67a7417f",
   "metadata": {},
   "source": [
    "### 실습 데이터셋 전처리"
   ]
  },
  {
   "cell_type": "code",
   "execution_count": 8,
   "id": "31cf2953",
   "metadata": {
    "ExecuteTime": {
     "end_time": "2022-06-11T04:55:04.949060Z",
     "start_time": "2022-06-11T04:55:04.946349Z"
    }
   },
   "outputs": [],
   "source": [
    "# rank를 문자형으로 변환합니다.\n",
    "df['rank'] = df['rank'].astype(str)"
   ]
  },
  {
   "cell_type": "code",
   "execution_count": 9,
   "id": "f901099a",
   "metadata": {
    "ExecuteTime": {
     "end_time": "2022-06-11T04:55:04.961759Z",
     "start_time": "2022-06-11T04:55:04.950593Z"
    }
   },
   "outputs": [
    {
     "data": {
      "text/html": [
       "<div>\n",
       "<style scoped>\n",
       "    .dataframe tbody tr th:only-of-type {\n",
       "        vertical-align: middle;\n",
       "    }\n",
       "\n",
       "    .dataframe tbody tr th {\n",
       "        vertical-align: top;\n",
       "    }\n",
       "\n",
       "    .dataframe thead th {\n",
       "        text-align: right;\n",
       "    }\n",
       "</style>\n",
       "<table border=\"1\" class=\"dataframe\">\n",
       "  <thead>\n",
       "    <tr style=\"text-align: right;\">\n",
       "      <th></th>\n",
       "      <th>const</th>\n",
       "      <th>gre</th>\n",
       "      <th>gpa</th>\n",
       "    </tr>\n",
       "  </thead>\n",
       "  <tbody>\n",
       "    <tr>\n",
       "      <th>count</th>\n",
       "      <td>1687.0</td>\n",
       "      <td>1687.000000</td>\n",
       "      <td>1687.000000</td>\n",
       "    </tr>\n",
       "    <tr>\n",
       "      <th>mean</th>\n",
       "      <td>1.0</td>\n",
       "      <td>574.303497</td>\n",
       "      <td>3.346183</td>\n",
       "    </tr>\n",
       "    <tr>\n",
       "      <th>std</th>\n",
       "      <td>0.0</td>\n",
       "      <td>97.923750</td>\n",
       "      <td>0.321537</td>\n",
       "    </tr>\n",
       "    <tr>\n",
       "      <th>min</th>\n",
       "      <td>1.0</td>\n",
       "      <td>220.000000</td>\n",
       "      <td>2.260000</td>\n",
       "    </tr>\n",
       "    <tr>\n",
       "      <th>25%</th>\n",
       "      <td>1.0</td>\n",
       "      <td>510.000000</td>\n",
       "      <td>3.130000</td>\n",
       "    </tr>\n",
       "    <tr>\n",
       "      <th>50%</th>\n",
       "      <td>1.0</td>\n",
       "      <td>580.000000</td>\n",
       "      <td>3.360000</td>\n",
       "    </tr>\n",
       "    <tr>\n",
       "      <th>75%</th>\n",
       "      <td>1.0</td>\n",
       "      <td>640.000000</td>\n",
       "      <td>3.580000</td>\n",
       "    </tr>\n",
       "    <tr>\n",
       "      <th>max</th>\n",
       "      <td>1.0</td>\n",
       "      <td>800.000000</td>\n",
       "      <td>4.000000</td>\n",
       "    </tr>\n",
       "  </tbody>\n",
       "</table>\n",
       "</div>"
      ],
      "text/plain": [
       "        const          gre          gpa\n",
       "count  1687.0  1687.000000  1687.000000\n",
       "mean      1.0   574.303497     3.346183\n",
       "std       0.0    97.923750     0.321537\n",
       "min       1.0   220.000000     2.260000\n",
       "25%       1.0   510.000000     3.130000\n",
       "50%       1.0   580.000000     3.360000\n",
       "75%       1.0   640.000000     3.580000\n",
       "max       1.0   800.000000     4.000000"
      ]
     },
     "execution_count": 9,
     "metadata": {},
     "output_type": "execute_result"
    }
   ],
   "source": [
    "# 연속형 변수의 기술통계량을 확인합니다.\n",
    "df.describe()"
   ]
  },
  {
   "cell_type": "code",
   "execution_count": 10,
   "id": "5a658311",
   "metadata": {
    "ExecuteTime": {
     "end_time": "2022-06-11T04:55:04.970987Z",
     "start_time": "2022-06-11T04:55:04.963353Z"
    }
   },
   "outputs": [
    {
     "data": {
      "text/html": [
       "<div>\n",
       "<style scoped>\n",
       "    .dataframe tbody tr th:only-of-type {\n",
       "        vertical-align: middle;\n",
       "    }\n",
       "\n",
       "    .dataframe tbody tr th {\n",
       "        vertical-align: top;\n",
       "    }\n",
       "\n",
       "    .dataframe thead th {\n",
       "        text-align: right;\n",
       "    }\n",
       "</style>\n",
       "<table border=\"1\" class=\"dataframe\">\n",
       "  <thead>\n",
       "    <tr style=\"text-align: right;\">\n",
       "      <th></th>\n",
       "      <th>admit</th>\n",
       "      <th>rank</th>\n",
       "    </tr>\n",
       "  </thead>\n",
       "  <tbody>\n",
       "    <tr>\n",
       "      <th>count</th>\n",
       "      <td>1687</td>\n",
       "      <td>1687</td>\n",
       "    </tr>\n",
       "    <tr>\n",
       "      <th>unique</th>\n",
       "      <td>2</td>\n",
       "      <td>4</td>\n",
       "    </tr>\n",
       "    <tr>\n",
       "      <th>top</th>\n",
       "      <td>Fail</td>\n",
       "      <td>2</td>\n",
       "    </tr>\n",
       "    <tr>\n",
       "      <th>freq</th>\n",
       "      <td>1163</td>\n",
       "      <td>568</td>\n",
       "    </tr>\n",
       "  </tbody>\n",
       "</table>\n",
       "</div>"
      ],
      "text/plain": [
       "       admit  rank\n",
       "count   1687  1687\n",
       "unique     2     4\n",
       "top     Fail     2\n",
       "freq    1163   568"
      ]
     },
     "execution_count": 10,
     "metadata": {},
     "output_type": "execute_result"
    }
   ],
   "source": [
    "# 범주형 변수의 기술통계량을 확인합니다.\n",
    "df.describe(include = object)"
   ]
  },
  {
   "cell_type": "code",
   "execution_count": 11,
   "id": "4010d7a9",
   "metadata": {
    "ExecuteTime": {
     "end_time": "2022-06-11T04:55:04.978897Z",
     "start_time": "2022-06-11T04:55:04.973525Z"
    }
   },
   "outputs": [
    {
     "data": {
      "text/plain": [
       "1    273\n",
       "2    568\n",
       "3    540\n",
       "4    306\n",
       "Name: rank, dtype: int64"
      ]
     },
     "execution_count": 11,
     "metadata": {},
     "output_type": "execute_result"
    }
   ],
   "source": [
    "# rank의 범주별 빈도수를 출력합니다.\n",
    "df['rank'].value_counts().sort_index()"
   ]
  },
  {
   "cell_type": "markdown",
   "id": "112fc20e",
   "metadata": {},
   "source": [
    "### 목표변수 시각화"
   ]
  },
  {
   "cell_type": "code",
   "execution_count": 12,
   "id": "shared-database",
   "metadata": {
    "ExecuteTime": {
     "end_time": "2022-06-11T04:55:05.081896Z",
     "start_time": "2022-06-11T04:55:04.982892Z"
    }
   },
   "outputs": [
    {
     "data": {
      "image/png": "[encoded data removed]",
      "text/plain": [
       "<Figure size 600x600 with 1 Axes>"
      ]
     },
     "metadata": {},
     "output_type": "display_data"
    }
   ],
   "source": [
    "# 목표변수 범주별 빈도수로 일변량 막대 그래프를 그립니다.\n",
    "hds.plot_bar_freq(\n",
    "    data = df, \n",
    "    y = 'admit', \n",
    "    pal = ['skyblue', 'orange']\n",
    ")"
   ]
  },
  {
   "cell_type": "markdown",
   "id": "attempted-operations",
   "metadata": {},
   "source": [
    "### 입력변수와 관계 파악: gre"
   ]
  },
  {
   "cell_type": "code",
   "execution_count": 13,
   "id": "important-college",
   "metadata": {
    "ExecuteTime": {
     "end_time": "2022-06-11T04:55:05.193009Z",
     "start_time": "2022-06-11T04:55:05.083701Z"
    }
   },
   "outputs": [
    {
     "data": {
      "image/png": "[encoded data removed]",
      "text/plain": [
       "<Figure size 600x600 with 1 Axes>"
      ]
     },
     "metadata": {},
     "output_type": "display_data"
    }
   ],
   "source": [
    "# admit 범주별 gre의 상자 수염 그림을 그립니다.\n",
    "hds.plot_box_group(\n",
    "    data = df, \n",
    "    x = 'admit', \n",
    "    y = 'gre', \n",
    "    pal = ['skyblue', 'orange']\n",
    ")"
   ]
  },
  {
   "cell_type": "markdown",
   "id": "b781873a",
   "metadata": {},
   "source": [
    "### 입력변수와 관계 파악: gpa"
   ]
  },
  {
   "cell_type": "code",
   "execution_count": 14,
   "id": "synthetic-leader",
   "metadata": {
    "ExecuteTime": {
     "end_time": "2022-06-11T04:55:05.305686Z",
     "start_time": "2022-06-11T04:55:05.194837Z"
    }
   },
   "outputs": [
    {
     "data": {
      "image/png": "[encoded data removed]",
      "text/plain": [
       "<Figure size 600x600 with 1 Axes>"
      ]
     },
     "metadata": {},
     "output_type": "display_data"
    }
   ],
   "source": [
    "# admit 범주별 gpa의 상자 수염 그림을 그립니다.\n",
    "hds.plot_box_group(\n",
    "    data = df, \n",
    "    x = 'admit', \n",
    "    y = 'gpa', \n",
    "    pal = ['skyblue', 'orange']\n",
    ")"
   ]
  },
  {
   "cell_type": "markdown",
   "id": "a8aec4e6",
   "metadata": {},
   "source": [
    "### 입력변수와 관계 파악: rank"
   ]
  },
  {
   "cell_type": "code",
   "execution_count": 15,
   "id": "a599e972",
   "metadata": {
    "ExecuteTime": {
     "end_time": "2022-06-11T04:55:05.481819Z",
     "start_time": "2022-06-11T04:55:05.307470Z"
    }
   },
   "outputs": [
    {
     "data": {
      "image/png": "[encoded data removed]",
      "text/plain": [
       "<Figure size 600x600 with 1 Axes>"
      ]
     },
     "metadata": {},
     "output_type": "display_data"
    }
   ],
   "source": [
    "# rank 범주별 admit의 빈도수로 묶음 막대 그래프를 그립니다.\n",
    "hds.plot_bar_dodge_freq(\n",
    "    data = df, \n",
    "    x = 'rank', \n",
    "    y = 'admit', \n",
    "    pal = ['skyblue', 'orange']\n",
    ")"
   ]
  },
  {
   "cell_type": "code",
   "execution_count": 16,
   "id": "f09eb2ab",
   "metadata": {
    "ExecuteTime": {
     "end_time": "2022-06-11T04:55:05.609597Z",
     "start_time": "2022-06-11T04:55:05.483540Z"
    }
   },
   "outputs": [
    {
     "data": {
      "image/png": "[encoded data removed]",
      "text/plain": [
       "<Figure size 600x600 with 1 Axes>"
      ]
     },
     "metadata": {},
     "output_type": "display_data"
    }
   ],
   "source": [
    "# rank 범주별 admit의 빈도수로 쌓은 막대 그래프를 그립니다.\n",
    "hds.plot_bar_stack_freq(\n",
    "    data = df, \n",
    "    x = 'rank', \n",
    "    y = 'admit', \n",
    "    pal = ['skyblue', 'orange']\n",
    ")"
   ]
  },
  {
   "cell_type": "code",
   "execution_count": 17,
   "id": "rental-homeless",
   "metadata": {
    "ExecuteTime": {
     "end_time": "2022-06-11T04:55:05.734227Z",
     "start_time": "2022-06-11T04:55:05.611463Z"
    }
   },
   "outputs": [
    {
     "data": {
      "image/png": "[encoded data removed]",
      "text/plain": [
       "<Figure size 600x600 with 1 Axes>"
      ]
     },
     "metadata": {},
     "output_type": "display_data"
    }
   ],
   "source": [
    "# rank 범주별 admit의 상대도수로 쌓은 막대 그래프를 그립니다.\n",
    "hds.plot_bar_stack_prop(\n",
    "    data = df, \n",
    "    x = 'rank', \n",
    "    y = 'admit', \n",
    "    pal = ['skyblue', 'orange']\n",
    ")\n",
    "plt.legend(loc = 'lower center');"
   ]
  },
  {
   "cell_type": "markdown",
   "id": "5fde44a8",
   "metadata": {},
   "source": [
    "### t-검정: gre"
   ]
  },
  {
   "cell_type": "code",
   "execution_count": 18,
   "id": "d03bd596",
   "metadata": {
    "ExecuteTime": {
     "end_time": "2022-06-11T04:55:05.745577Z",
     "start_time": "2022-06-11T04:55:05.735942Z"
    }
   },
   "outputs": [
    {
     "data": {
      "text/html": [
       "<div>\n",
       "<style scoped>\n",
       "    .dataframe tbody tr th:only-of-type {\n",
       "        vertical-align: middle;\n",
       "    }\n",
       "\n",
       "    .dataframe tbody tr th {\n",
       "        vertical-align: top;\n",
       "    }\n",
       "\n",
       "    .dataframe thead th {\n",
       "        text-align: right;\n",
       "    }\n",
       "</style>\n",
       "<table border=\"1\" class=\"dataframe\">\n",
       "  <thead>\n",
       "    <tr style=\"text-align: right;\">\n",
       "      <th></th>\n",
       "      <th>W</th>\n",
       "      <th>pval</th>\n",
       "      <th>equal_var</th>\n",
       "    </tr>\n",
       "  </thead>\n",
       "  <tbody>\n",
       "    <tr>\n",
       "      <th>levene</th>\n",
       "      <td>3.596208</td>\n",
       "      <td>0.058082</td>\n",
       "      <td>True</td>\n",
       "    </tr>\n",
       "  </tbody>\n",
       "</table>\n",
       "</div>"
      ],
      "text/plain": [
       "               W      pval  equal_var\n",
       "levene  3.596208  0.058082       True"
      ]
     },
     "execution_count": 18,
     "metadata": {},
     "output_type": "execute_result"
    }
   ],
   "source": [
    "# (정규성 가정 만족) 등분산 검정을 실행합니다.\n",
    "pg.homoscedasticity(data = df, dv = 'gre', group = 'admit')"
   ]
  },
  {
   "cell_type": "code",
   "execution_count": 19,
   "id": "010f1451",
   "metadata": {
    "ExecuteTime": {
     "end_time": "2022-06-11T04:55:05.750178Z",
     "start_time": "2022-06-11T04:55:05.747245Z"
    }
   },
   "outputs": [],
   "source": [
    "# admit 범주별 gre로 시리즈를 생성합니다.\n",
    "sp1 = df['gre'][df['admit'].eq('Fail')]\n",
    "sp2 = df['gre'][df['admit'].eq('Pass')]"
   ]
  },
  {
   "cell_type": "code",
   "execution_count": 20,
   "id": "dba616fe",
   "metadata": {
    "ExecuteTime": {
     "end_time": "2022-06-11T04:55:05.761349Z",
     "start_time": "2022-06-11T04:55:05.752140Z"
    }
   },
   "outputs": [
    {
     "data": {
      "text/html": [
       "<div>\n",
       "<style scoped>\n",
       "    .dataframe tbody tr th:only-of-type {\n",
       "        vertical-align: middle;\n",
       "    }\n",
       "\n",
       "    .dataframe tbody tr th {\n",
       "        vertical-align: top;\n",
       "    }\n",
       "\n",
       "    .dataframe thead th {\n",
       "        text-align: right;\n",
       "    }\n",
       "</style>\n",
       "<table border=\"1\" class=\"dataframe\">\n",
       "  <thead>\n",
       "    <tr style=\"text-align: right;\">\n",
       "      <th></th>\n",
       "      <th>T</th>\n",
       "      <th>dof</th>\n",
       "      <th>alternative</th>\n",
       "      <th>p-val</th>\n",
       "      <th>CI95%</th>\n",
       "      <th>cohen-d</th>\n",
       "      <th>BF10</th>\n",
       "      <th>power</th>\n",
       "    </tr>\n",
       "  </thead>\n",
       "  <tbody>\n",
       "    <tr>\n",
       "      <th>T-test</th>\n",
       "      <td>-11.849448</td>\n",
       "      <td>1685</td>\n",
       "      <td>two-sided</td>\n",
       "      <td>3.604961e-31</td>\n",
       "      <td>[-68.38, -48.96]</td>\n",
       "      <td>0.623448</td>\n",
       "      <td>6.726e+27</td>\n",
       "      <td>1.0</td>\n",
       "    </tr>\n",
       "  </tbody>\n",
       "</table>\n",
       "</div>"
      ],
      "text/plain": [
       "                T   dof alternative         p-val             CI95%   cohen-d  \\\n",
       "T-test -11.849448  1685   two-sided  3.604961e-31  [-68.38, -48.96]  0.623448   \n",
       "\n",
       "             BF10  power  \n",
       "T-test  6.726e+27    1.0  "
      ]
     },
     "execution_count": 20,
     "metadata": {},
     "output_type": "execute_result"
    }
   ],
   "source": [
    "# (정규성 가정 만족) 등분산 가정된 독립표본 t-검정을 실행합니다.\n",
    "pg.ttest(x = sp1, y = sp2, correction = False)"
   ]
  },
  {
   "cell_type": "markdown",
   "id": "cb9ba4a3",
   "metadata": {},
   "source": [
    "### t-검정 : gpa"
   ]
  },
  {
   "cell_type": "code",
   "execution_count": 21,
   "id": "8e1eedbe",
   "metadata": {
    "ExecuteTime": {
     "end_time": "2022-06-11T04:55:05.772349Z",
     "start_time": "2022-06-11T04:55:05.762901Z"
    }
   },
   "outputs": [
    {
     "data": {
      "text/html": [
       "<div>\n",
       "<style scoped>\n",
       "    .dataframe tbody tr th:only-of-type {\n",
       "        vertical-align: middle;\n",
       "    }\n",
       "\n",
       "    .dataframe tbody tr th {\n",
       "        vertical-align: top;\n",
       "    }\n",
       "\n",
       "    .dataframe thead th {\n",
       "        text-align: right;\n",
       "    }\n",
       "</style>\n",
       "<table border=\"1\" class=\"dataframe\">\n",
       "  <thead>\n",
       "    <tr style=\"text-align: right;\">\n",
       "      <th></th>\n",
       "      <th>W</th>\n",
       "      <th>pval</th>\n",
       "      <th>equal_var</th>\n",
       "    </tr>\n",
       "  </thead>\n",
       "  <tbody>\n",
       "    <tr>\n",
       "      <th>levene</th>\n",
       "      <td>0.678495</td>\n",
       "      <td>0.410222</td>\n",
       "      <td>True</td>\n",
       "    </tr>\n",
       "  </tbody>\n",
       "</table>\n",
       "</div>"
      ],
      "text/plain": [
       "               W      pval  equal_var\n",
       "levene  0.678495  0.410222       True"
      ]
     },
     "execution_count": 21,
     "metadata": {},
     "output_type": "execute_result"
    }
   ],
   "source": [
    "# (정규성 가정 만족) 등분산 검정을 실행합니다.\n",
    "pg.homoscedasticity(data = df, dv = 'gpa', group = 'admit')"
   ]
  },
  {
   "cell_type": "code",
   "execution_count": 22,
   "id": "b84be5e7",
   "metadata": {
    "ExecuteTime": {
     "end_time": "2022-06-11T04:55:05.778289Z",
     "start_time": "2022-06-11T04:55:05.774442Z"
    }
   },
   "outputs": [],
   "source": [
    "# admit 범주별 gpa로 시리즈를 생성합니다.\n",
    "sp1 = df['gpa'][df['admit'].eq('Fail')]\n",
    "sp2 = df['gpa'][df['admit'].eq('Pass')]"
   ]
  },
  {
   "cell_type": "code",
   "execution_count": 23,
   "id": "7ae06bb1",
   "metadata": {
    "ExecuteTime": {
     "end_time": "2022-06-11T04:55:05.788886Z",
     "start_time": "2022-06-11T04:55:05.779958Z"
    }
   },
   "outputs": [
    {
     "data": {
      "text/html": [
       "<div>\n",
       "<style scoped>\n",
       "    .dataframe tbody tr th:only-of-type {\n",
       "        vertical-align: middle;\n",
       "    }\n",
       "\n",
       "    .dataframe tbody tr th {\n",
       "        vertical-align: top;\n",
       "    }\n",
       "\n",
       "    .dataframe thead th {\n",
       "        text-align: right;\n",
       "    }\n",
       "</style>\n",
       "<table border=\"1\" class=\"dataframe\">\n",
       "  <thead>\n",
       "    <tr style=\"text-align: right;\">\n",
       "      <th></th>\n",
       "      <th>T</th>\n",
       "      <th>dof</th>\n",
       "      <th>alternative</th>\n",
       "      <th>p-val</th>\n",
       "      <th>CI95%</th>\n",
       "      <th>cohen-d</th>\n",
       "      <th>BF10</th>\n",
       "      <th>power</th>\n",
       "    </tr>\n",
       "  </thead>\n",
       "  <tbody>\n",
       "    <tr>\n",
       "      <th>T-test</th>\n",
       "      <td>-11.50489</td>\n",
       "      <td>1685</td>\n",
       "      <td>two-sided</td>\n",
       "      <td>1.531444e-29</td>\n",
       "      <td>[-0.22, -0.16]</td>\n",
       "      <td>0.605319</td>\n",
       "      <td>1.664e+26</td>\n",
       "      <td>1.0</td>\n",
       "    </tr>\n",
       "  </tbody>\n",
       "</table>\n",
       "</div>"
      ],
      "text/plain": [
       "               T   dof alternative         p-val           CI95%   cohen-d  \\\n",
       "T-test -11.50489  1685   two-sided  1.531444e-29  [-0.22, -0.16]  0.605319   \n",
       "\n",
       "             BF10  power  \n",
       "T-test  1.664e+26    1.0  "
      ]
     },
     "execution_count": 23,
     "metadata": {},
     "output_type": "execute_result"
    }
   ],
   "source": [
    "# (정규성 가정 만족) 등분산 가정된 독립표본 t-검정을 실행합니다.\n",
    "pg.ttest(x = sp1, y = sp2, correction = False)"
   ]
  },
  {
   "cell_type": "markdown",
   "id": "386a1ff4",
   "metadata": {},
   "source": [
    "### 교차분석: rank"
   ]
  },
  {
   "cell_type": "code",
   "execution_count": 24,
   "id": "697025d7",
   "metadata": {
    "ExecuteTime": {
     "end_time": "2022-06-11T04:55:05.818625Z",
     "start_time": "2022-06-11T04:55:05.791244Z"
    }
   },
   "outputs": [
    {
     "data": {
      "text/html": [
       "<div>\n",
       "<style scoped>\n",
       "    .dataframe tbody tr th:only-of-type {\n",
       "        vertical-align: middle;\n",
       "    }\n",
       "\n",
       "    .dataframe tbody tr th {\n",
       "        vertical-align: top;\n",
       "    }\n",
       "\n",
       "    .dataframe thead th {\n",
       "        text-align: right;\n",
       "    }\n",
       "</style>\n",
       "<table border=\"1\" class=\"dataframe\">\n",
       "  <thead>\n",
       "    <tr style=\"text-align: right;\">\n",
       "      <th>admit</th>\n",
       "      <th>Fail</th>\n",
       "      <th>Pass</th>\n",
       "    </tr>\n",
       "    <tr>\n",
       "      <th>rank</th>\n",
       "      <th></th>\n",
       "      <th></th>\n",
       "    </tr>\n",
       "  </thead>\n",
       "  <tbody>\n",
       "    <tr>\n",
       "      <th>1</th>\n",
       "      <td>0.450549</td>\n",
       "      <td>0.549451</td>\n",
       "    </tr>\n",
       "    <tr>\n",
       "      <th>2</th>\n",
       "      <td>0.644366</td>\n",
       "      <td>0.355634</td>\n",
       "    </tr>\n",
       "    <tr>\n",
       "      <th>3</th>\n",
       "      <td>0.779630</td>\n",
       "      <td>0.220370</td>\n",
       "    </tr>\n",
       "    <tr>\n",
       "      <th>4</th>\n",
       "      <td>0.826797</td>\n",
       "      <td>0.173203</td>\n",
       "    </tr>\n",
       "    <tr>\n",
       "      <th>All</th>\n",
       "      <td>0.689389</td>\n",
       "      <td>0.310611</td>\n",
       "    </tr>\n",
       "  </tbody>\n",
       "</table>\n",
       "</div>"
      ],
      "text/plain": [
       "admit      Fail      Pass\n",
       "rank                     \n",
       "1      0.450549  0.549451\n",
       "2      0.644366  0.355634\n",
       "3      0.779630  0.220370\n",
       "4      0.826797  0.173203\n",
       "All    0.689389  0.310611"
      ]
     },
     "execution_count": 24,
     "metadata": {},
     "output_type": "execute_result"
    }
   ],
   "source": [
    "# 범주형 입력변수 rank와 목표변수의 교차테이블을 출력합니다.\n",
    "pd.crosstab(index = df['rank'], \n",
    "            columns = df['admit'], \n",
    "            normalize = 'index', \n",
    "            margins = True)"
   ]
  },
  {
   "cell_type": "code",
   "execution_count": 25,
   "id": "0e998d5b",
   "metadata": {
    "ExecuteTime": {
     "end_time": "2022-06-11T04:55:05.843067Z",
     "start_time": "2022-06-11T04:55:05.820265Z"
    }
   },
   "outputs": [
    {
     "data": {
      "text/plain": [
       "(admit        Fail        Pass\n",
       " rank                         \n",
       " 1      188.203320   84.796680\n",
       " 2      391.573207  176.426793\n",
       " 3      372.270302  167.729698\n",
       " 4      210.953171   95.046829,\n",
       " admit  Fail  Pass\n",
       " rank             \n",
       " 1       123   150\n",
       " 2       366   202\n",
       " 3       421   119\n",
       " 4       253    53,\n",
       "                  test    lambda        chi2  dof          pval    cramer  \\\n",
       " 0             pearson  1.000000  125.621299  3.0  4.748649e-27  0.272882   \n",
       " 1        cressie-read  0.666667  124.433926  3.0  8.558048e-27  0.271589   \n",
       " 2      log-likelihood  0.000000  123.670615  3.0  1.249714e-26  0.270755   \n",
       " 3       freeman-tukey -0.500000  124.456830  3.0  8.461367e-27  0.271614   \n",
       " 4  mod-log-likelihood -1.000000  126.396483  3.0  3.232631e-27  0.273722   \n",
       " 5              neyman -2.000000  133.872388  3.0  7.915429e-29  0.281701   \n",
       " \n",
       "    power  \n",
       " 0    1.0  \n",
       " 1    1.0  \n",
       " 2    1.0  \n",
       " 3    1.0  \n",
       " 4    1.0  \n",
       " 5    1.0  )"
      ]
     },
     "execution_count": 25,
     "metadata": {},
     "output_type": "execute_result"
    }
   ],
   "source": [
    "# 교차테이블 빈도수로 교차분석(카이제곱 검정)을 실행합니다.\n",
    "pg.chi2_independence(data = df, x = 'rank', y = 'admit')"
   ]
  },
  {
   "cell_type": "markdown",
   "id": "97a19a13",
   "metadata": {},
   "source": [
    "### 더미변수 생성"
   ]
  },
  {
   "cell_type": "code",
   "execution_count": 26,
   "id": "2f6e2ea7",
   "metadata": {
    "ExecuteTime": {
     "end_time": "2022-06-11T04:55:05.853380Z",
     "start_time": "2022-06-11T04:55:05.848640Z"
    }
   },
   "outputs": [],
   "source": [
    "# 범주형 입력변수로 더미변수를 생성합니다.\n",
    "df = pd.get_dummies(data = df, prefix = ['rank', None], \n",
    "                    columns = ['rank', 'admit'], \n",
    "                    drop_first = True)"
   ]
  },
  {
   "cell_type": "code",
   "execution_count": 27,
   "id": "above-vulnerability",
   "metadata": {
    "ExecuteTime": {
     "end_time": "2022-06-11T04:55:05.867448Z",
     "start_time": "2022-06-11T04:55:05.860294Z"
    }
   },
   "outputs": [
    {
     "data": {
      "text/html": [
       "<div>\n",
       "<style scoped>\n",
       "    .dataframe tbody tr th:only-of-type {\n",
       "        vertical-align: middle;\n",
       "    }\n",
       "\n",
       "    .dataframe tbody tr th {\n",
       "        vertical-align: top;\n",
       "    }\n",
       "\n",
       "    .dataframe thead th {\n",
       "        text-align: right;\n",
       "    }\n",
       "</style>\n",
       "<table border=\"1\" class=\"dataframe\">\n",
       "  <thead>\n",
       "    <tr style=\"text-align: right;\">\n",
       "      <th></th>\n",
       "      <th>const</th>\n",
       "      <th>gre</th>\n",
       "      <th>gpa</th>\n",
       "      <th>rank_2</th>\n",
       "      <th>rank_3</th>\n",
       "      <th>rank_4</th>\n",
       "      <th>Pass</th>\n",
       "    </tr>\n",
       "  </thead>\n",
       "  <tbody>\n",
       "    <tr>\n",
       "      <th>0</th>\n",
       "      <td>1</td>\n",
       "      <td>380.0</td>\n",
       "      <td>3.61</td>\n",
       "      <td>0</td>\n",
       "      <td>1</td>\n",
       "      <td>0</td>\n",
       "      <td>0</td>\n",
       "    </tr>\n",
       "    <tr>\n",
       "      <th>1</th>\n",
       "      <td>1</td>\n",
       "      <td>660.0</td>\n",
       "      <td>3.67</td>\n",
       "      <td>0</td>\n",
       "      <td>1</td>\n",
       "      <td>0</td>\n",
       "      <td>1</td>\n",
       "    </tr>\n",
       "    <tr>\n",
       "      <th>2</th>\n",
       "      <td>1</td>\n",
       "      <td>800.0</td>\n",
       "      <td>4.00</td>\n",
       "      <td>0</td>\n",
       "      <td>0</td>\n",
       "      <td>0</td>\n",
       "      <td>1</td>\n",
       "    </tr>\n",
       "    <tr>\n",
       "      <th>3</th>\n",
       "      <td>1</td>\n",
       "      <td>640.0</td>\n",
       "      <td>3.19</td>\n",
       "      <td>0</td>\n",
       "      <td>0</td>\n",
       "      <td>1</td>\n",
       "      <td>1</td>\n",
       "    </tr>\n",
       "    <tr>\n",
       "      <th>4</th>\n",
       "      <td>1</td>\n",
       "      <td>520.0</td>\n",
       "      <td>2.93</td>\n",
       "      <td>0</td>\n",
       "      <td>0</td>\n",
       "      <td>1</td>\n",
       "      <td>0</td>\n",
       "    </tr>\n",
       "    <tr>\n",
       "      <th>5</th>\n",
       "      <td>1</td>\n",
       "      <td>760.0</td>\n",
       "      <td>3.00</td>\n",
       "      <td>1</td>\n",
       "      <td>0</td>\n",
       "      <td>0</td>\n",
       "      <td>1</td>\n",
       "    </tr>\n",
       "    <tr>\n",
       "      <th>6</th>\n",
       "      <td>1</td>\n",
       "      <td>560.0</td>\n",
       "      <td>2.98</td>\n",
       "      <td>0</td>\n",
       "      <td>0</td>\n",
       "      <td>0</td>\n",
       "      <td>1</td>\n",
       "    </tr>\n",
       "    <tr>\n",
       "      <th>7</th>\n",
       "      <td>1</td>\n",
       "      <td>400.0</td>\n",
       "      <td>3.08</td>\n",
       "      <td>1</td>\n",
       "      <td>0</td>\n",
       "      <td>0</td>\n",
       "      <td>0</td>\n",
       "    </tr>\n",
       "    <tr>\n",
       "      <th>8</th>\n",
       "      <td>1</td>\n",
       "      <td>540.0</td>\n",
       "      <td>3.39</td>\n",
       "      <td>0</td>\n",
       "      <td>1</td>\n",
       "      <td>0</td>\n",
       "      <td>1</td>\n",
       "    </tr>\n",
       "    <tr>\n",
       "      <th>9</th>\n",
       "      <td>1</td>\n",
       "      <td>700.0</td>\n",
       "      <td>3.92</td>\n",
       "      <td>1</td>\n",
       "      <td>0</td>\n",
       "      <td>0</td>\n",
       "      <td>0</td>\n",
       "    </tr>\n",
       "  </tbody>\n",
       "</table>\n",
       "</div>"
      ],
      "text/plain": [
       "   const    gre   gpa  rank_2  rank_3  rank_4  Pass\n",
       "0      1  380.0  3.61       0       1       0     0\n",
       "1      1  660.0  3.67       0       1       0     1\n",
       "2      1  800.0  4.00       0       0       0     1\n",
       "3      1  640.0  3.19       0       0       1     1\n",
       "4      1  520.0  2.93       0       0       1     0\n",
       "5      1  760.0  3.00       1       0       0     1\n",
       "6      1  560.0  2.98       0       0       0     1\n",
       "7      1  400.0  3.08       1       0       0     0\n",
       "8      1  540.0  3.39       0       1       0     1\n",
       "9      1  700.0  3.92       1       0       0     0"
      ]
     },
     "execution_count": 27,
     "metadata": {},
     "output_type": "execute_result"
    }
   ],
   "source": [
    "# df의 처음 10행을 출력합니다.\n",
    "df.head(n = 10)"
   ]
  },
  {
   "cell_type": "code",
   "execution_count": 28,
   "id": "a315394a",
   "metadata": {
    "ExecuteTime": {
     "end_time": "2022-06-11T04:55:05.883907Z",
     "start_time": "2022-06-11T04:55:05.881229Z"
    }
   },
   "outputs": [],
   "source": [
    "# 목표변수명을 'admit'으로 변경합니다.\n",
    "df = df.rename(columns = {'Pass': 'admit'})"
   ]
  },
  {
   "cell_type": "markdown",
   "id": "swiss-chuck",
   "metadata": {},
   "source": [
    "### 실습 데이터셋 분할"
   ]
  },
  {
   "cell_type": "code",
   "execution_count": 29,
   "id": "latter-administrator",
   "metadata": {
    "ExecuteTime": {
     "end_time": "2022-06-11T04:55:05.895778Z",
     "start_time": "2022-06-11T04:55:05.893675Z"
    }
   },
   "outputs": [],
   "source": [
    "# 관련 라이브러리를 호출합니다.\n",
    "from sklearn.model_selection import train_test_split"
   ]
  },
  {
   "cell_type": "code",
   "execution_count": 30,
   "id": "conscious-brunswick",
   "metadata": {
    "ExecuteTime": {
     "end_time": "2022-06-11T04:55:05.909437Z",
     "start_time": "2022-06-11T04:55:05.905762Z"
    }
   },
   "outputs": [],
   "source": [
    "# 전체 데이터의 70%를 훈련셋, 30%를 시험셋으로 분할합니다.\n",
    "trSet, teSet = train_test_split(df, test_size = 0.3, random_state = 0)"
   ]
  },
  {
   "cell_type": "code",
   "execution_count": 31,
   "id": "amber-shopping",
   "metadata": {
    "ExecuteTime": {
     "end_time": "2022-06-11T04:55:05.915379Z",
     "start_time": "2022-06-11T04:55:05.911087Z"
    }
   },
   "outputs": [
    {
     "data": {
      "text/plain": [
       "0    0.691525\n",
       "1    0.308475\n",
       "Name: admit, dtype: float64"
      ]
     },
     "execution_count": 31,
     "metadata": {},
     "output_type": "execute_result"
    }
   ],
   "source": [
    "# 훈련셋의 목표변수 범주별 상대도수를 확인합니다.\n",
    "trSet['admit'].value_counts(normalize = True)"
   ]
  },
  {
   "cell_type": "code",
   "execution_count": 32,
   "id": "fiscal-buffer",
   "metadata": {
    "ExecuteTime": {
     "end_time": "2022-06-11T04:55:05.921225Z",
     "start_time": "2022-06-11T04:55:05.917033Z"
    }
   },
   "outputs": [
    {
     "data": {
      "text/plain": [
       "0    0.684418\n",
       "1    0.315582\n",
       "Name: admit, dtype: float64"
      ]
     },
     "execution_count": 32,
     "metadata": {},
     "output_type": "execute_result"
    }
   ],
   "source": [
    "# 시험셋의 목표변수 범주별 상대도수를 확인합니다.\n",
    "teSet['admit'].value_counts(normalize = True)"
   ]
  },
  {
   "cell_type": "markdown",
   "id": "4d024575-0668-41a6-a597-02daa32bc2a0",
   "metadata": {
    "tags": []
   },
   "source": [
    "### 입력변수와 목표변수 분리"
   ]
  },
  {
   "cell_type": "code",
   "execution_count": 33,
   "id": "0cd10edf-8d18-4f1f-bbf5-223c6deb3e87",
   "metadata": {},
   "outputs": [],
   "source": [
    "# 목표변수명을 변수에 할당합니다.\n",
    "yvar = 'admit'"
   ]
  },
  {
   "cell_type": "code",
   "execution_count": 34,
   "id": "d5466346-7ff2-431c-9cbf-7d2a6ac4944d",
   "metadata": {},
   "outputs": [],
   "source": [
    "# 훈련셋을 목표변수 벡터와 입력변수 행렬로 분리합니다.\n",
    "trReal = trSet[yvar].copy()\n",
    "trSetX = trSet.drop(columns = [yvar])"
   ]
  },
  {
   "cell_type": "code",
   "execution_count": 35,
   "id": "1c692b1a",
   "metadata": {
    "ExecuteTime": {
     "end_time": "2022-06-11T04:55:05.946804Z",
     "start_time": "2022-06-11T04:55:05.940413Z"
    }
   },
   "outputs": [],
   "source": [
    "# 시험셋을 목표변수 벡터와 입력변수 행렬로 분리합니다.\n",
    "teReal = teSet[yvar].copy()\n",
    "teSetX = teSet.drop(columns = [yvar])"
   ]
  },
  {
   "cell_type": "markdown",
   "id": "unlike-claim",
   "metadata": {},
   "source": [
    "### 로지스틱 회귀모형 적합 함수 생성"
   ]
  },
  {
   "cell_type": "code",
   "execution_count": 36,
   "id": "021d2c51",
   "metadata": {
    "ExecuteTime": {
     "end_time": "2022-06-11T04:55:05.925656Z",
     "start_time": "2022-06-11T04:55:05.923471Z"
    }
   },
   "outputs": [],
   "source": [
    "# 관련 라이브러리를 호출합니다.\n",
    "import statsmodels.api as sa"
   ]
  },
  {
   "cell_type": "code",
   "execution_count": 37,
   "id": "fcd2ca7c",
   "metadata": {
    "ExecuteTime": {
     "end_time": "2022-06-11T04:55:05.929950Z",
     "start_time": "2022-06-11T04:55:05.927445Z"
    }
   },
   "outputs": [],
   "source": [
    "# 로지스틱 회귀모형을 반환하는 함수를 생성합니다.\n",
    "def glm(y, X):\n",
    "    model = sa.GLM(endog = y, exog = X, family = sa.families.Binomial())\n",
    "    return model.fit()"
   ]
  },
  {
   "cell_type": "markdown",
   "id": "03d162be",
   "metadata": {},
   "source": [
    "### 로지스틱 회귀모형 적합 및 결과 확인"
   ]
  },
  {
   "cell_type": "code",
   "execution_count": 38,
   "id": "fa4411bb",
   "metadata": {
    "ExecuteTime": {
     "end_time": "2022-06-11T04:55:05.953968Z",
     "start_time": "2022-06-11T04:55:05.948453Z"
    }
   },
   "outputs": [],
   "source": [
    "# 훈련셋으로 로지스틱 회귀모형을 적합합니다.\n",
    "fit1 = glm(y = trReal, X = trSetX)"
   ]
  },
  {
   "cell_type": "code",
   "execution_count": 39,
   "id": "6e8c6b30",
   "metadata": {
    "ExecuteTime": {
     "end_time": "2022-06-11T04:55:05.965519Z",
     "start_time": "2022-06-11T04:55:05.955564Z"
    }
   },
   "outputs": [
    {
     "data": {
      "text/html": [
       "<table class=\"simpletable\">\n",
       "<caption>Generalized Linear Model Regression Results</caption>\n",
       "<tr>\n",
       "  <th>Dep. Variable:</th>         <td>admit</td>      <th>  No. Observations:  </th>  <td>  1180</td> \n",
       "</tr>\n",
       "<tr>\n",
       "  <th>Model:</th>                  <td>GLM</td>       <th>  Df Residuals:      </th>  <td>  1174</td> \n",
       "</tr>\n",
       "<tr>\n",
       "  <th>Model Family:</th>        <td>Binomial</td>     <th>  Df Model:          </th>  <td>     5</td> \n",
       "</tr>\n",
       "<tr>\n",
       "  <th>Link Function:</th>         <td>Logit</td>      <th>  Scale:             </th> <td>  1.0000</td>\n",
       "</tr>\n",
       "<tr>\n",
       "  <th>Method:</th>                <td>IRLS</td>       <th>  Log-Likelihood:    </th> <td> -637.55</td>\n",
       "</tr>\n",
       "<tr>\n",
       "  <th>Date:</th>            <td>Mon, 23 Jan 2023</td> <th>  Deviance:          </th> <td>  1275.1</td>\n",
       "</tr>\n",
       "<tr>\n",
       "  <th>Time:</th>                <td>17:31:30</td>     <th>  Pearson chi2:      </th> <td>1.16e+03</td>\n",
       "</tr>\n",
       "<tr>\n",
       "  <th>No. Iterations:</th>          <td>5</td>        <th>  Pseudo R-squ. (CS):</th>  <td>0.1437</td> \n",
       "</tr>\n",
       "<tr>\n",
       "  <th>Covariance Type:</th>     <td>nonrobust</td>    <th>                     </th>     <td> </td>   \n",
       "</tr>\n",
       "</table>\n",
       "<table class=\"simpletable\">\n",
       "<tr>\n",
       "     <td></td>       <th>coef</th>     <th>std err</th>      <th>z</th>      <th>P>|z|</th>  <th>[0.025</th>    <th>0.975]</th>  \n",
       "</tr>\n",
       "<tr>\n",
       "  <th>const</th>  <td>   -6.2059</td> <td>    0.858</td> <td>   -7.235</td> <td> 0.000</td> <td>   -7.887</td> <td>   -4.525</td>\n",
       "</tr>\n",
       "<tr>\n",
       "  <th>gre</th>    <td>    0.0040</td> <td>    0.001</td> <td>    3.399</td> <td> 0.001</td> <td>    0.002</td> <td>    0.006</td>\n",
       "</tr>\n",
       "<tr>\n",
       "  <th>gpa</th>    <td>    1.1545</td> <td>    0.363</td> <td>    3.183</td> <td> 0.001</td> <td>    0.444</td> <td>    1.865</td>\n",
       "</tr>\n",
       "<tr>\n",
       "  <th>rank_2</th> <td>   -0.6268</td> <td>    0.189</td> <td>   -3.323</td> <td> 0.001</td> <td>   -0.997</td> <td>   -0.257</td>\n",
       "</tr>\n",
       "<tr>\n",
       "  <th>rank_3</th> <td>   -1.3495</td> <td>    0.201</td> <td>   -6.716</td> <td> 0.000</td> <td>   -1.743</td> <td>   -0.956</td>\n",
       "</tr>\n",
       "<tr>\n",
       "  <th>rank_4</th> <td>   -1.6492</td> <td>    0.247</td> <td>   -6.687</td> <td> 0.000</td> <td>   -2.133</td> <td>   -1.166</td>\n",
       "</tr>\n",
       "</table>"
      ],
      "text/plain": [
       "<class 'statsmodels.iolib.summary.Summary'>\n",
       "\"\"\"\n",
       "                 Generalized Linear Model Regression Results                  \n",
       "==============================================================================\n",
       "Dep. Variable:                  admit   No. Observations:                 1180\n",
       "Model:                            GLM   Df Residuals:                     1174\n",
       "Model Family:                Binomial   Df Model:                            5\n",
       "Link Function:                  Logit   Scale:                          1.0000\n",
       "Method:                          IRLS   Log-Likelihood:                -637.55\n",
       "Date:                Mon, 23 Jan 2023   Deviance:                       1275.1\n",
       "Time:                        17:31:30   Pearson chi2:                 1.16e+03\n",
       "No. Iterations:                     5   Pseudo R-squ. (CS):             0.1437\n",
       "Covariance Type:            nonrobust                                         \n",
       "==============================================================================\n",
       "                 coef    std err          z      P>|z|      [0.025      0.975]\n",
       "------------------------------------------------------------------------------\n",
       "const         -6.2059      0.858     -7.235      0.000      -7.887      -4.525\n",
       "gre            0.0040      0.001      3.399      0.001       0.002       0.006\n",
       "gpa            1.1545      0.363      3.183      0.001       0.444       1.865\n",
       "rank_2        -0.6268      0.189     -3.323      0.001      -0.997      -0.257\n",
       "rank_3        -1.3495      0.201     -6.716      0.000      -1.743      -0.956\n",
       "rank_4        -1.6492      0.247     -6.687      0.000      -2.133      -1.166\n",
       "==============================================================================\n",
       "\"\"\""
      ]
     },
     "execution_count": 39,
     "metadata": {},
     "output_type": "execute_result"
    }
   ],
   "source": [
    "# fit1 모형의 적합 결과를 확인합니다.\n",
    "fit1.summary()"
   ]
  },
  {
   "cell_type": "markdown",
   "id": "9d9dfcb3",
   "metadata": {},
   "source": [
    "### 로지스틱 회귀모형의 유의성 검정"
   ]
  },
  {
   "cell_type": "code",
   "execution_count": 40,
   "id": "d357b2d6",
   "metadata": {
    "ExecuteTime": {
     "end_time": "2022-06-11T04:55:05.970556Z",
     "start_time": "2022-06-11T04:55:05.967128Z"
    }
   },
   "outputs": [
    {
     "data": {
      "text/plain": [
       "183.08041695158568"
      ]
     },
     "execution_count": 40,
     "metadata": {},
     "output_type": "execute_result"
    }
   ],
   "source": [
    "# 두 모형의 이탈도 차이를 출력합니다.(검정통계량)\n",
    "devGap = fit1.null_deviance - fit1.deviance\n",
    "devGap"
   ]
  },
  {
   "cell_type": "code",
   "execution_count": 41,
   "id": "d003bc73",
   "metadata": {
    "ExecuteTime": {
     "end_time": "2022-06-11T04:55:05.975366Z",
     "start_time": "2022-06-11T04:55:05.972126Z"
    }
   },
   "outputs": [
    {
     "data": {
      "text/plain": [
       "5"
      ]
     },
     "execution_count": 41,
     "metadata": {},
     "output_type": "execute_result"
    }
   ],
   "source": [
    "# 두 모형의 자유도 차이를 출력합니다.(카이제곱 분포의 자유도)\n",
    "dofGap = fit1.df_model\n",
    "dofGap"
   ]
  },
  {
   "cell_type": "code",
   "execution_count": 42,
   "id": "8624cff4",
   "metadata": {
    "ExecuteTime": {
     "end_time": "2022-06-11T04:55:05.980334Z",
     "start_time": "2022-06-11T04:55:05.976976Z"
    }
   },
   "outputs": [
    {
     "data": {
      "text/plain": [
       "0.0"
      ]
     },
     "execution_count": 42,
     "metadata": {},
     "output_type": "execute_result"
    }
   ],
   "source": [
    "# 검정통계량과 자유도로 유의확률을 출력합니다.\n",
    "1 - stats.chi2.cdf(x = devGap, df = dofGap)"
   ]
  },
  {
   "cell_type": "markdown",
   "id": "5910432d",
   "metadata": {},
   "source": [
    "### 다중공선성 확인"
   ]
  },
  {
   "cell_type": "code",
   "execution_count": 43,
   "id": "5954cf60",
   "metadata": {
    "ExecuteTime": {
     "end_time": "2022-06-11T04:55:05.991466Z",
     "start_time": "2022-06-11T04:55:05.981944Z"
    }
   },
   "outputs": [
    {
     "data": {
      "text/html": [
       "<div>\n",
       "<style scoped>\n",
       "    .dataframe tbody tr th:only-of-type {\n",
       "        vertical-align: middle;\n",
       "    }\n",
       "\n",
       "    .dataframe tbody tr th {\n",
       "        vertical-align: top;\n",
       "    }\n",
       "\n",
       "    .dataframe thead th {\n",
       "        text-align: right;\n",
       "    }\n",
       "</style>\n",
       "<table border=\"1\" class=\"dataframe\">\n",
       "  <thead>\n",
       "    <tr style=\"text-align: right;\">\n",
       "      <th></th>\n",
       "      <th>gre</th>\n",
       "      <th>gpa</th>\n",
       "      <th>rank_2</th>\n",
       "      <th>rank_3</th>\n",
       "      <th>rank_4</th>\n",
       "    </tr>\n",
       "  </thead>\n",
       "  <tbody>\n",
       "    <tr>\n",
       "      <th>0</th>\n",
       "      <td>2.83206</td>\n",
       "      <td>2.815849</td>\n",
       "      <td>2.051839</td>\n",
       "      <td>2.042184</td>\n",
       "      <td>1.734154</td>\n",
       "    </tr>\n",
       "  </tbody>\n",
       "</table>\n",
       "</div>"
      ],
      "text/plain": [
       "       gre       gpa    rank_2    rank_3    rank_4\n",
       "0  2.83206  2.815849  2.051839  2.042184  1.734154"
      ]
     },
     "execution_count": 43,
     "metadata": {},
     "output_type": "execute_result"
    }
   ],
   "source": [
    "# 분산팽창지수를 출력하고 다중공선성 입력변수를 확인합니다.\n",
    "hds.vif(X = trSetX)"
   ]
  },
  {
   "cell_type": "markdown",
   "id": "abdcbec6",
   "metadata": {},
   "source": [
    "### 오즈비 확인"
   ]
  },
  {
   "cell_type": "code",
   "execution_count": 44,
   "id": "b199d2c9",
   "metadata": {
    "ExecuteTime": {
     "end_time": "2022-06-11T04:55:05.997644Z",
     "start_time": "2022-06-11T04:55:05.993225Z"
    }
   },
   "outputs": [
    {
     "data": {
      "text/plain": [
       "const     0.002017\n",
       "gre       1.004042\n",
       "gpa       3.172317\n",
       "rank_2    0.534278\n",
       "rank_3    0.259375\n",
       "rank_4    0.192202\n",
       "dtype: float64"
      ]
     },
     "execution_count": 44,
     "metadata": {},
     "output_type": "execute_result"
    }
   ],
   "source": [
    "# 입력변수별 회귀계수의 오즈비를 출력합니다.\n",
    "np.exp(fit1.params)"
   ]
  },
  {
   "cell_type": "markdown",
   "id": "918b5c0a",
   "metadata": {
    "tags": []
   },
   "source": [
    "### 표준화 회귀계수 확인"
   ]
  },
  {
   "cell_type": "code",
   "execution_count": 45,
   "id": "c9f97f96",
   "metadata": {
    "ExecuteTime": {
     "end_time": "2022-06-11T04:55:06.003692Z",
     "start_time": "2022-06-11T04:55:05.999214Z"
    }
   },
   "outputs": [
    {
     "data": {
      "text/plain": [
       "const    -6.205935\n",
       "gre       0.004034\n",
       "gpa       1.154462\n",
       "rank_2   -0.626838\n",
       "rank_3   -1.349479\n",
       "rank_4   -1.649208\n",
       "dtype: float64"
      ]
     },
     "execution_count": 45,
     "metadata": {},
     "output_type": "execute_result"
    }
   ],
   "source": [
    "# fit1 모형의 회귀계수를 출력합니다.\n",
    "fit1.params"
   ]
  },
  {
   "cell_type": "code",
   "execution_count": 46,
   "id": "2e1fbcda",
   "metadata": {
    "ExecuteTime": {
     "end_time": "2022-06-11T04:55:06.011102Z",
     "start_time": "2022-06-11T04:55:06.005399Z"
    }
   },
   "outputs": [
    {
     "data": {
      "text/plain": [
       "const    -0.000000\n",
       "gre       0.396631\n",
       "gpa       0.367046\n",
       "rank_2   -0.297029\n",
       "rank_3   -0.630819\n",
       "rank_4   -0.627508\n",
       "dtype: float64"
      ]
     },
     "execution_count": 46,
     "metadata": {},
     "output_type": "execute_result"
    }
   ],
   "source": [
    "# 표준화 회귀계수를 생성합니다.\n",
    "beta_z = hds.std_coefs(model = fit1)\n",
    "beta_z"
   ]
  },
  {
   "cell_type": "code",
   "execution_count": 47,
   "id": "b188f3ed",
   "metadata": {
    "ExecuteTime": {
     "end_time": "2022-06-11T04:55:06.016733Z",
     "start_time": "2022-06-11T04:55:06.012836Z"
    }
   },
   "outputs": [
    {
     "data": {
      "text/plain": [
       "const     0.000000\n",
       "rank_2    0.297029\n",
       "gpa       0.367046\n",
       "gre       0.396631\n",
       "rank_4    0.627508\n",
       "rank_3    0.630819\n",
       "dtype: float64"
      ]
     },
     "execution_count": 47,
     "metadata": {},
     "output_type": "execute_result"
    }
   ],
   "source": [
    "# 표준화 회귀계수의 절대값을 오름차순 정렬한 결과를 출력합니다.\n",
    "beta_z.abs().sort_values()"
   ]
  },
  {
   "cell_type": "markdown",
   "id": "582f73eb",
   "metadata": {},
   "source": [
    "### 목표변수의 추정확률 생성"
   ]
  },
  {
   "cell_type": "code",
   "execution_count": 48,
   "id": "57cce4c0",
   "metadata": {
    "ExecuteTime": {
     "end_time": "2022-06-11T04:55:06.026225Z",
     "start_time": "2022-06-11T04:55:06.018541Z"
    }
   },
   "outputs": [
    {
     "data": {
      "text/html": [
       "<div>\n",
       "<style scoped>\n",
       "    .dataframe tbody tr th:only-of-type {\n",
       "        vertical-align: middle;\n",
       "    }\n",
       "\n",
       "    .dataframe tbody tr th {\n",
       "        vertical-align: top;\n",
       "    }\n",
       "\n",
       "    .dataframe thead th {\n",
       "        text-align: right;\n",
       "    }\n",
       "</style>\n",
       "<table border=\"1\" class=\"dataframe\">\n",
       "  <thead>\n",
       "    <tr style=\"text-align: right;\">\n",
       "      <th></th>\n",
       "      <th>Real</th>\n",
       "      <th>Prob</th>\n",
       "    </tr>\n",
       "  </thead>\n",
       "  <tbody>\n",
       "    <tr>\n",
       "      <th>1679</th>\n",
       "      <td>0</td>\n",
       "      <td>0.480613</td>\n",
       "    </tr>\n",
       "    <tr>\n",
       "      <th>519</th>\n",
       "      <td>0</td>\n",
       "      <td>0.176788</td>\n",
       "    </tr>\n",
       "    <tr>\n",
       "      <th>522</th>\n",
       "      <td>0</td>\n",
       "      <td>0.142095</td>\n",
       "    </tr>\n",
       "    <tr>\n",
       "      <th>140</th>\n",
       "      <td>0</td>\n",
       "      <td>0.571049</td>\n",
       "    </tr>\n",
       "    <tr>\n",
       "      <th>878</th>\n",
       "      <td>0</td>\n",
       "      <td>0.348149</td>\n",
       "    </tr>\n",
       "    <tr>\n",
       "      <th>...</th>\n",
       "      <td>...</td>\n",
       "      <td>...</td>\n",
       "    </tr>\n",
       "    <tr>\n",
       "      <th>835</th>\n",
       "      <td>0</td>\n",
       "      <td>0.328780</td>\n",
       "    </tr>\n",
       "    <tr>\n",
       "      <th>1216</th>\n",
       "      <td>1</td>\n",
       "      <td>0.319978</td>\n",
       "    </tr>\n",
       "    <tr>\n",
       "      <th>1653</th>\n",
       "      <td>1</td>\n",
       "      <td>0.604055</td>\n",
       "    </tr>\n",
       "    <tr>\n",
       "      <th>559</th>\n",
       "      <td>0</td>\n",
       "      <td>0.348531</td>\n",
       "    </tr>\n",
       "    <tr>\n",
       "      <th>684</th>\n",
       "      <td>0</td>\n",
       "      <td>0.189733</td>\n",
       "    </tr>\n",
       "  </tbody>\n",
       "</table>\n",
       "<p>1180 rows × 2 columns</p>\n",
       "</div>"
      ],
      "text/plain": [
       "      Real      Prob\n",
       "1679     0  0.480613\n",
       "519      0  0.176788\n",
       "522      0  0.142095\n",
       "140      0  0.571049\n",
       "878      0  0.348149\n",
       "...    ...       ...\n",
       "835      0  0.328780\n",
       "1216     1  0.319978\n",
       "1653     1  0.604055\n",
       "559      0  0.348531\n",
       "684      0  0.189733\n",
       "\n",
       "[1180 rows x 2 columns]"
      ]
     },
     "execution_count": 48,
     "metadata": {},
     "output_type": "execute_result"
    }
   ],
   "source": [
    "# 훈련셋으로 fit1 모형의 추정확률을 생성하고 실제값과 비교합니다.\n",
    "trProb = fit1.predict(exog = trSetX)\n",
    "pd.DataFrame(data = {'Real': trReal, 'Prob': trProb})"
   ]
  },
  {
   "cell_type": "code",
   "execution_count": 49,
   "id": "a80c548b",
   "metadata": {
    "ExecuteTime": {
     "end_time": "2022-06-11T04:55:06.038306Z",
     "start_time": "2022-06-11T04:55:06.027853Z"
    }
   },
   "outputs": [
    {
     "data": {
      "text/html": [
       "<div>\n",
       "<style scoped>\n",
       "    .dataframe tbody tr th:only-of-type {\n",
       "        vertical-align: middle;\n",
       "    }\n",
       "\n",
       "    .dataframe tbody tr th {\n",
       "        vertical-align: top;\n",
       "    }\n",
       "\n",
       "    .dataframe thead th {\n",
       "        text-align: right;\n",
       "    }\n",
       "</style>\n",
       "<table border=\"1\" class=\"dataframe\">\n",
       "  <thead>\n",
       "    <tr style=\"text-align: right;\">\n",
       "      <th></th>\n",
       "      <th>Real</th>\n",
       "      <th>Prob</th>\n",
       "    </tr>\n",
       "  </thead>\n",
       "  <tbody>\n",
       "    <tr>\n",
       "      <th>34</th>\n",
       "      <td>0</td>\n",
       "      <td>0.244416</td>\n",
       "    </tr>\n",
       "    <tr>\n",
       "      <th>740</th>\n",
       "      <td>1</td>\n",
       "      <td>0.373813</td>\n",
       "    </tr>\n",
       "    <tr>\n",
       "      <th>638</th>\n",
       "      <td>0</td>\n",
       "      <td>0.268570</td>\n",
       "    </tr>\n",
       "    <tr>\n",
       "      <th>901</th>\n",
       "      <td>0</td>\n",
       "      <td>0.286210</td>\n",
       "    </tr>\n",
       "    <tr>\n",
       "      <th>1188</th>\n",
       "      <td>1</td>\n",
       "      <td>0.444333</td>\n",
       "    </tr>\n",
       "    <tr>\n",
       "      <th>...</th>\n",
       "      <td>...</td>\n",
       "      <td>...</td>\n",
       "    </tr>\n",
       "    <tr>\n",
       "      <th>1017</th>\n",
       "      <td>0</td>\n",
       "      <td>0.490249</td>\n",
       "    </tr>\n",
       "    <tr>\n",
       "      <th>568</th>\n",
       "      <td>0</td>\n",
       "      <td>0.348531</td>\n",
       "    </tr>\n",
       "    <tr>\n",
       "      <th>362</th>\n",
       "      <td>0</td>\n",
       "      <td>0.385913</td>\n",
       "    </tr>\n",
       "    <tr>\n",
       "      <th>904</th>\n",
       "      <td>0</td>\n",
       "      <td>0.288574</td>\n",
       "    </tr>\n",
       "    <tr>\n",
       "      <th>420</th>\n",
       "      <td>0</td>\n",
       "      <td>0.357340</td>\n",
       "    </tr>\n",
       "  </tbody>\n",
       "</table>\n",
       "<p>507 rows × 2 columns</p>\n",
       "</div>"
      ],
      "text/plain": [
       "      Real      Prob\n",
       "34       0  0.244416\n",
       "740      1  0.373813\n",
       "638      0  0.268570\n",
       "901      0  0.286210\n",
       "1188     1  0.444333\n",
       "...    ...       ...\n",
       "1017     0  0.490249\n",
       "568      0  0.348531\n",
       "362      0  0.385913\n",
       "904      0  0.288574\n",
       "420      0  0.357340\n",
       "\n",
       "[507 rows x 2 columns]"
      ]
     },
     "execution_count": 49,
     "metadata": {},
     "output_type": "execute_result"
    }
   ],
   "source": [
    "# 시험셋으로 fit1 모형의 추정확률을 생성하고 실제값과 비교합니다.\n",
    "teProb = fit1.predict(exog = teSetX)\n",
    "pd.DataFrame(data = {'Real': teReal, 'Prob': teProb})"
   ]
  },
  {
   "cell_type": "markdown",
   "id": "fitting-termination",
   "metadata": {},
   "source": [
    "### 분류모형 성능 평가 : ROC 곡선"
   ]
  },
  {
   "cell_type": "code",
   "execution_count": 50,
   "id": "hairy-cincinnati",
   "metadata": {
    "ExecuteTime": {
     "end_time": "2022-06-11T04:55:06.160890Z",
     "start_time": "2022-06-11T04:55:06.039933Z"
    }
   },
   "outputs": [
    {
     "data": {
      "image/png": "[encoded data removed]",
      "text/plain": [
       "<Figure size 600x600 with 1 Axes>"
      ]
     },
     "metadata": {},
     "output_type": "display_data"
    }
   ],
   "source": [
    "# 훈련셋과 시험셋의 추정확률로 ROC 곡선을 그립니다.\n",
    "hds.plot_roc(y_true = trReal, y_prob = trProb, color = 'red')\n",
    "hds.plot_roc(y_true = teReal, y_prob = teProb, color = 'blue')"
   ]
  },
  {
   "cell_type": "markdown",
   "id": "7ed34cd6",
   "metadata": {},
   "source": [
    "### 목표변수의 추정값 생성"
   ]
  },
  {
   "cell_type": "code",
   "execution_count": 51,
   "id": "c1e64445",
   "metadata": {
    "ExecuteTime": {
     "end_time": "2022-06-11T04:55:06.164904Z",
     "start_time": "2022-06-11T04:55:06.162633Z"
    }
   },
   "outputs": [],
   "source": [
    "# 분리 기준점을 0.5로 설정합니다.\n",
    "cutoff = 0.5"
   ]
  },
  {
   "cell_type": "code",
   "execution_count": 52,
   "id": "c6aea886",
   "metadata": {
    "ExecuteTime": {
     "end_time": "2022-06-11T04:55:06.169152Z",
     "start_time": "2022-06-11T04:55:06.166585Z"
    }
   },
   "outputs": [],
   "source": [
    "# 훈련셋의 목표변수 추정값(라벨)을 생성합니다.\n",
    "trPred1 = np.where(trProb >= cutoff, 1, 0)"
   ]
  },
  {
   "cell_type": "code",
   "execution_count": 53,
   "id": "e2d63a8d",
   "metadata": {
    "ExecuteTime": {
     "end_time": "2022-06-11T04:55:06.173917Z",
     "start_time": "2022-06-11T04:55:06.171425Z"
    }
   },
   "outputs": [],
   "source": [
    "# 시험셋의 목표변수 추정값(라벨)을 생성합니다.\n",
    "tePred1 = np.where(teProb >= cutoff, 1, 0)"
   ]
  },
  {
   "cell_type": "markdown",
   "id": "2ead22d7",
   "metadata": {},
   "source": [
    "### 분류모형 성능 평가 : 혼동행렬 리포트"
   ]
  },
  {
   "cell_type": "code",
   "execution_count": 54,
   "id": "9a830c56",
   "metadata": {
    "ExecuteTime": {
     "end_time": "2022-06-11T04:55:06.183008Z",
     "start_time": "2022-06-11T04:55:06.175933Z"
    }
   },
   "outputs": [
    {
     "name": "stdout",
     "output_type": "stream",
     "text": [
      "▶ Confusion Matrix\n",
      "[[739  77]\n",
      " [246 118]]\n",
      "\n",
      "▶ Classification Report\n",
      "              precision    recall  f1-score   support\n",
      "\n",
      "           0     0.7503    0.9056    0.8207       816\n",
      "           1     0.6051    0.3242    0.4222       364\n",
      "\n",
      "    accuracy                         0.7263      1180\n",
      "   macro avg     0.6777    0.6149    0.6214      1180\n",
      "weighted avg     0.7055    0.7263    0.6977      1180\n",
      "\n"
     ]
    }
   ],
   "source": [
    "# 훈련셋 추정값으로 혼동행렬 리포트를 출력합니다.\n",
    "hds.clfmetrics(y_true = trReal, y_pred = trPred1)"
   ]
  },
  {
   "cell_type": "code",
   "execution_count": 55,
   "id": "722b899b",
   "metadata": {
    "ExecuteTime": {
     "end_time": "2022-06-11T04:55:06.192623Z",
     "start_time": "2022-06-11T04:55:06.184689Z"
    }
   },
   "outputs": [
    {
     "name": "stdout",
     "output_type": "stream",
     "text": [
      "▶ Confusion Matrix\n",
      "[[316  31]\n",
      " [108  52]]\n",
      "\n",
      "▶ Classification Report\n",
      "              precision    recall  f1-score   support\n",
      "\n",
      "           0     0.7453    0.9107    0.8197       347\n",
      "           1     0.6265    0.3250    0.4280       160\n",
      "\n",
      "    accuracy                         0.7258       507\n",
      "   macro avg     0.6859    0.6178    0.6238       507\n",
      "weighted avg     0.7078    0.7258    0.6961       507\n",
      "\n"
     ]
    }
   ],
   "source": [
    "# 시험셋 추정값으로 혼동행렬 리포트를 출력합니다.\n",
    "hds.clfmetrics(y_true = teReal, y_pred = tePred1)"
   ]
  },
  {
   "cell_type": "markdown",
   "id": "gross-motion",
   "metadata": {},
   "source": [
    "### [참고] 혼동행렬 관련 함수"
   ]
  },
  {
   "cell_type": "code",
   "execution_count": 56,
   "id": "european-assistant",
   "metadata": {
    "ExecuteTime": {
     "end_time": "2022-06-11T04:55:06.196806Z",
     "start_time": "2022-06-11T04:55:06.194417Z"
    }
   },
   "outputs": [],
   "source": [
    "# 관련 라이브러리를 호출합니다.\n",
    "from sklearn import metrics"
   ]
  },
  {
   "cell_type": "code",
   "execution_count": 57,
   "id": "6898a97c",
   "metadata": {
    "ExecuteTime": {
     "end_time": "2022-06-11T04:55:06.202479Z",
     "start_time": "2022-06-11T04:55:06.198898Z"
    }
   },
   "outputs": [
    {
     "name": "stdout",
     "output_type": "stream",
     "text": [
      "[[316  31]\n",
      " [108  52]]\n"
     ]
    }
   ],
   "source": [
    "# 시험셋 추정값으로 혼동행렬을 출력합니다.\n",
    "print(metrics.confusion_matrix(y_true = teReal, y_pred = tePred1))"
   ]
  },
  {
   "cell_type": "code",
   "execution_count": 58,
   "id": "organizational-arrangement",
   "metadata": {
    "ExecuteTime": {
     "end_time": "2022-06-11T04:55:06.210491Z",
     "start_time": "2022-06-11T04:55:06.204150Z"
    }
   },
   "outputs": [
    {
     "name": "stdout",
     "output_type": "stream",
     "text": [
      "              precision    recall  f1-score   support\n",
      "\n",
      "           0       0.75      0.91      0.82       347\n",
      "           1       0.63      0.33      0.43       160\n",
      "\n",
      "    accuracy                           0.73       507\n",
      "   macro avg       0.69      0.62      0.62       507\n",
      "weighted avg       0.71      0.73      0.70       507\n",
      "\n"
     ]
    }
   ],
   "source": [
    "# 시험셋 추정값으로 분류모형 리포트를 출력합니다.\n",
    "print(metrics.classification_report(y_true = teReal, y_pred = tePred1))"
   ]
  },
  {
   "cell_type": "code",
   "execution_count": 59,
   "id": "parallel-mercy",
   "metadata": {
    "ExecuteTime": {
     "end_time": "2022-06-11T04:55:06.216754Z",
     "start_time": "2022-06-11T04:55:06.212059Z"
    }
   },
   "outputs": [
    {
     "data": {
      "text/plain": [
       "0.42798353909465026"
      ]
     },
     "execution_count": 59,
     "metadata": {},
     "output_type": "execute_result"
    }
   ],
   "source": [
    "# 시험셋 추정값으로 F1 점수를 출력합니다.\n",
    "metrics.f1_score(y_true = teReal, y_pred = tePred1, pos_label = 1)"
   ]
  },
  {
   "cell_type": "markdown",
   "id": "e0019005",
   "metadata": {},
   "source": [
    "### [참고] 목표변수의 범주별 추정확률 분포"
   ]
  },
  {
   "cell_type": "code",
   "execution_count": 60,
   "id": "804dfbd6",
   "metadata": {
    "ExecuteTime": {
     "end_time": "2022-06-11T04:55:06.314970Z",
     "start_time": "2022-06-11T04:55:06.218317Z"
    }
   },
   "outputs": [
    {
     "data": {
      "image/png": "[encoded data removed]",
      "text/plain": [
       "<Figure size 600x600 with 1 Axes>"
      ]
     },
     "metadata": {},
     "output_type": "display_data"
    }
   ],
   "source": [
    "# 목표변수 범주별 추정확률 분포를 확인합니다.\n",
    "sns.boxplot(x = trReal, y = trProb)\n",
    "plt.title(label = '범주별 추정확률 분포')\n",
    "plt.xlabel(xlabel = '실제값')\n",
    "plt.ylabel(ylabel = '추정확률')\n",
    "plt.axhline(y = 0.5, color = 'red', lw = 1.5, ls = '--');"
   ]
  },
  {
   "cell_type": "markdown",
   "id": "d8ead17c",
   "metadata": {},
   "source": [
    "### [참고] 최적의 분리 기준점 탐색"
   ]
  },
  {
   "cell_type": "code",
   "execution_count": 61,
   "id": "43c6b146",
   "metadata": {
    "ExecuteTime": {
     "end_time": "2022-06-11T04:55:06.690306Z",
     "start_time": "2022-06-11T04:55:06.316914Z"
    }
   },
   "outputs": [
    {
     "data": {
      "text/html": [
       "<div>\n",
       "<style scoped>\n",
       "    .dataframe tbody tr th:only-of-type {\n",
       "        vertical-align: middle;\n",
       "    }\n",
       "\n",
       "    .dataframe tbody tr th {\n",
       "        vertical-align: top;\n",
       "    }\n",
       "\n",
       "    .dataframe thead th {\n",
       "        text-align: right;\n",
       "    }\n",
       "</style>\n",
       "<table border=\"1\" class=\"dataframe\">\n",
       "  <thead>\n",
       "    <tr style=\"text-align: right;\">\n",
       "      <th></th>\n",
       "      <th>Cutoff</th>\n",
       "      <th>Sensitivity</th>\n",
       "      <th>Specificity</th>\n",
       "      <th>Optimal</th>\n",
       "      <th>Precision</th>\n",
       "      <th>TPR</th>\n",
       "      <th>FPR</th>\n",
       "      <th>MCC</th>\n",
       "    </tr>\n",
       "  </thead>\n",
       "  <tbody>\n",
       "    <tr>\n",
       "      <th>0</th>\n",
       "      <td>0.00</td>\n",
       "      <td>1.0</td>\n",
       "      <td>0.000000</td>\n",
       "      <td>1.000000</td>\n",
       "      <td>0.308475</td>\n",
       "      <td>1.0</td>\n",
       "      <td>1.000000</td>\n",
       "      <td>0.000000</td>\n",
       "    </tr>\n",
       "    <tr>\n",
       "      <th>1</th>\n",
       "      <td>0.01</td>\n",
       "      <td>1.0</td>\n",
       "      <td>0.000000</td>\n",
       "      <td>1.000000</td>\n",
       "      <td>0.308475</td>\n",
       "      <td>1.0</td>\n",
       "      <td>1.000000</td>\n",
       "      <td>0.000000</td>\n",
       "    </tr>\n",
       "    <tr>\n",
       "      <th>2</th>\n",
       "      <td>0.02</td>\n",
       "      <td>1.0</td>\n",
       "      <td>0.000000</td>\n",
       "      <td>1.000000</td>\n",
       "      <td>0.308475</td>\n",
       "      <td>1.0</td>\n",
       "      <td>1.000000</td>\n",
       "      <td>0.000000</td>\n",
       "    </tr>\n",
       "    <tr>\n",
       "      <th>3</th>\n",
       "      <td>0.03</td>\n",
       "      <td>1.0</td>\n",
       "      <td>0.000000</td>\n",
       "      <td>1.000000</td>\n",
       "      <td>0.308475</td>\n",
       "      <td>1.0</td>\n",
       "      <td>1.000000</td>\n",
       "      <td>0.000000</td>\n",
       "    </tr>\n",
       "    <tr>\n",
       "      <th>4</th>\n",
       "      <td>0.04</td>\n",
       "      <td>1.0</td>\n",
       "      <td>0.012255</td>\n",
       "      <td>1.012255</td>\n",
       "      <td>0.311111</td>\n",
       "      <td>1.0</td>\n",
       "      <td>0.987745</td>\n",
       "      <td>0.061747</td>\n",
       "    </tr>\n",
       "    <tr>\n",
       "      <th>...</th>\n",
       "      <td>...</td>\n",
       "      <td>...</td>\n",
       "      <td>...</td>\n",
       "      <td>...</td>\n",
       "      <td>...</td>\n",
       "      <td>...</td>\n",
       "      <td>...</td>\n",
       "      <td>...</td>\n",
       "    </tr>\n",
       "    <tr>\n",
       "      <th>96</th>\n",
       "      <td>0.96</td>\n",
       "      <td>0.0</td>\n",
       "      <td>1.000000</td>\n",
       "      <td>1.000000</td>\n",
       "      <td>1.000000</td>\n",
       "      <td>0.0</td>\n",
       "      <td>0.000000</td>\n",
       "      <td>0.000000</td>\n",
       "    </tr>\n",
       "    <tr>\n",
       "      <th>97</th>\n",
       "      <td>0.97</td>\n",
       "      <td>0.0</td>\n",
       "      <td>1.000000</td>\n",
       "      <td>1.000000</td>\n",
       "      <td>1.000000</td>\n",
       "      <td>0.0</td>\n",
       "      <td>0.000000</td>\n",
       "      <td>0.000000</td>\n",
       "    </tr>\n",
       "    <tr>\n",
       "      <th>98</th>\n",
       "      <td>0.98</td>\n",
       "      <td>0.0</td>\n",
       "      <td>1.000000</td>\n",
       "      <td>1.000000</td>\n",
       "      <td>1.000000</td>\n",
       "      <td>0.0</td>\n",
       "      <td>0.000000</td>\n",
       "      <td>0.000000</td>\n",
       "    </tr>\n",
       "    <tr>\n",
       "      <th>99</th>\n",
       "      <td>0.99</td>\n",
       "      <td>0.0</td>\n",
       "      <td>1.000000</td>\n",
       "      <td>1.000000</td>\n",
       "      <td>1.000000</td>\n",
       "      <td>0.0</td>\n",
       "      <td>0.000000</td>\n",
       "      <td>0.000000</td>\n",
       "    </tr>\n",
       "    <tr>\n",
       "      <th>100</th>\n",
       "      <td>1.00</td>\n",
       "      <td>0.0</td>\n",
       "      <td>1.000000</td>\n",
       "      <td>1.000000</td>\n",
       "      <td>1.000000</td>\n",
       "      <td>0.0</td>\n",
       "      <td>0.000000</td>\n",
       "      <td>0.000000</td>\n",
       "    </tr>\n",
       "  </tbody>\n",
       "</table>\n",
       "<p>101 rows × 8 columns</p>\n",
       "</div>"
      ],
      "text/plain": [
       "     Cutoff  Sensitivity  Specificity   Optimal  Precision  TPR       FPR  \\\n",
       "0      0.00          1.0     0.000000  1.000000   0.308475  1.0  1.000000   \n",
       "1      0.01          1.0     0.000000  1.000000   0.308475  1.0  1.000000   \n",
       "2      0.02          1.0     0.000000  1.000000   0.308475  1.0  1.000000   \n",
       "3      0.03          1.0     0.000000  1.000000   0.308475  1.0  1.000000   \n",
       "4      0.04          1.0     0.012255  1.012255   0.311111  1.0  0.987745   \n",
       "..      ...          ...          ...       ...        ...  ...       ...   \n",
       "96     0.96          0.0     1.000000  1.000000   1.000000  0.0  0.000000   \n",
       "97     0.97          0.0     1.000000  1.000000   1.000000  0.0  0.000000   \n",
       "98     0.98          0.0     1.000000  1.000000   1.000000  0.0  0.000000   \n",
       "99     0.99          0.0     1.000000  1.000000   1.000000  0.0  0.000000   \n",
       "100    1.00          0.0     1.000000  1.000000   1.000000  0.0  0.000000   \n",
       "\n",
       "          MCC  \n",
       "0    0.000000  \n",
       "1    0.000000  \n",
       "2    0.000000  \n",
       "3    0.000000  \n",
       "4    0.061747  \n",
       "..        ...  \n",
       "96   0.000000  \n",
       "97   0.000000  \n",
       "98   0.000000  \n",
       "99   0.000000  \n",
       "100  0.000000  \n",
       "\n",
       "[101 rows x 8 columns]"
      ]
     },
     "execution_count": 61,
     "metadata": {},
     "output_type": "execute_result"
    }
   ],
   "source": [
    "# 분리 기준점마다 분류모형의 성능지표를 계산한 데이터프레임을 생성합니다.\n",
    "cfm = hds.clfCutoffs(y_true = trReal, y_prob = trProb)\n",
    "cfm"
   ]
  },
  {
   "cell_type": "code",
   "execution_count": 62,
   "id": "bbfeee05",
   "metadata": {
    "ExecuteTime": {
     "end_time": "2022-06-11T04:55:06.892208Z",
     "start_time": "2022-06-11T04:55:06.691966Z"
    }
   },
   "outputs": [
    {
     "data": {
      "image/png": "[encoded data removed]",
      "text/plain": [
       "<Figure size 600x600 with 1 Axes>"
      ]
     },
     "metadata": {},
     "output_type": "display_data"
    }
   ],
   "source": [
    "# 민감도와 특이도의 합계가 최댓값일 때의 분리 기준점을 확인합니다.\n",
    "hds.EpiROC(obj = cfm)"
   ]
  },
  {
   "cell_type": "markdown",
   "id": "ca981333",
   "metadata": {},
   "source": [
    "### [참고] 최적의 분리 기준점으로 성능지표 확인"
   ]
  },
  {
   "cell_type": "code",
   "execution_count": 63,
   "id": "42e5d9a4",
   "metadata": {
    "ExecuteTime": {
     "end_time": "2022-06-11T04:55:06.896099Z",
     "start_time": "2022-06-11T04:55:06.893966Z"
    }
   },
   "outputs": [],
   "source": [
    "# 최적의 분리 기준점을 설정합니다.\n",
    "cutoff = 0.35"
   ]
  },
  {
   "cell_type": "code",
   "execution_count": 64,
   "id": "b3b2b850",
   "metadata": {
    "ExecuteTime": {
     "end_time": "2022-06-11T04:55:06.900428Z",
     "start_time": "2022-06-11T04:55:06.897825Z"
    }
   },
   "outputs": [],
   "source": [
    "# 분리 기준점 변경 후 시험셋의 목표변수 추정값(라벨)을 생성합니다.\n",
    "tePred2 = np.where(teProb >= cutoff, 1, 0)"
   ]
  },
  {
   "cell_type": "code",
   "execution_count": 65,
   "id": "590879c1",
   "metadata": {
    "ExecuteTime": {
     "end_time": "2022-06-11T04:55:06.909816Z",
     "start_time": "2022-06-11T04:55:06.902730Z"
    }
   },
   "outputs": [
    {
     "name": "stdout",
     "output_type": "stream",
     "text": [
      "▶ Confusion Matrix\n",
      "[[264  83]\n",
      " [ 66  94]]\n",
      "\n",
      "▶ Classification Report\n",
      "              precision    recall  f1-score   support\n",
      "\n",
      "           0     0.8000    0.7608    0.7799       347\n",
      "           1     0.5311    0.5875    0.5579       160\n",
      "\n",
      "    accuracy                         0.7061       507\n",
      "   macro avg     0.6655    0.6742    0.6689       507\n",
      "weighted avg     0.7151    0.7061    0.7098       507\n",
      "\n"
     ]
    }
   ],
   "source": [
    "# 분리 기준점 변경 후 시험셋 추정값으로 혼동행렬과 F1 점수를 확인합니다.\n",
    "hds.clfmetrics(y_true = teReal, y_pred = tePred2)"
   ]
  },
  {
   "cell_type": "code",
   "execution_count": 66,
   "id": "8b23d834",
   "metadata": {
    "ExecuteTime": {
     "end_time": "2022-06-11T04:55:06.919560Z",
     "start_time": "2022-06-11T04:55:06.911760Z"
    }
   },
   "outputs": [
    {
     "name": "stdout",
     "output_type": "stream",
     "text": [
      "▶ Confusion Matrix\n",
      "[[316  31]\n",
      " [108  52]]\n",
      "\n",
      "▶ Classification Report\n",
      "              precision    recall  f1-score   support\n",
      "\n",
      "           0     0.7453    0.9107    0.8197       347\n",
      "           1     0.6265    0.3250    0.4280       160\n",
      "\n",
      "    accuracy                         0.7258       507\n",
      "   macro avg     0.6859    0.6178    0.6238       507\n",
      "weighted avg     0.7078    0.7258    0.6961       507\n",
      "\n"
     ]
    }
   ],
   "source": [
    "# 분리 기준점 변경 전 시험셋 추정값으로 혼동행렬과 F1 점수를 확인합니다.\n",
    "hds.clfmetrics(y_true = teReal, y_pred = tePred1)"
   ]
  },
  {
   "cell_type": "markdown",
   "id": "4c115486",
   "metadata": {},
   "source": [
    "### [참고] 매튜의 상관계수"
   ]
  },
  {
   "cell_type": "code",
   "execution_count": 67,
   "id": "0ad49ee0",
   "metadata": {
    "ExecuteTime": {
     "end_time": "2022-06-11T04:55:06.933441Z",
     "start_time": "2022-06-11T04:55:06.928594Z"
    }
   },
   "outputs": [
    {
     "data": {
      "text/plain": [
       "0.33958087578821944"
      ]
     },
     "execution_count": 67,
     "metadata": {},
     "output_type": "execute_result"
    }
   ],
   "source": [
    "# 분리 기준점 변경 후 시험셋 추정값으로 매튜의 상관계수를 확인합니다.\n",
    "metrics.matthews_corrcoef(y_true = teReal, y_pred = tePred2)"
   ]
  },
  {
   "cell_type": "code",
   "execution_count": 68,
   "id": "e6c51ffc",
   "metadata": {
    "ExecuteTime": {
     "end_time": "2022-06-11T04:55:06.926843Z",
     "start_time": "2022-06-11T04:55:06.921558Z"
    }
   },
   "outputs": [
    {
     "data": {
      "text/plain": [
       "0.2960014457302028"
      ]
     },
     "execution_count": 68,
     "metadata": {},
     "output_type": "execute_result"
    }
   ],
   "source": [
    "# 분리 기준점 변경 전 시험셋 추정값으로 매튜의 상관계수를 확인합니다.\n",
    "metrics.matthews_corrcoef(y_true = teReal, y_pred = tePred1)"
   ]
  },
  {
   "cell_type": "markdown",
   "id": "33a2aaf1",
   "metadata": {},
   "source": [
    "## End of Document"
   ]
  }
 ],
 "metadata": {
  "kernelspec": {
   "display_name": "Python 3",
   "language": "python",
   "name": "python3"
  },
  "language_info": {
   "codemirror_mode": {
    "name": "ipython",
    "version": 3
   },
   "file_extension": ".py",
   "mimetype": "text/x-python",
   "name": "python",
   "nbconvert_exporter": "python",
   "pygments_lexer": "ipython3",
   "version": "3.10.9"
  },
  "toc": {
   "base_numbering": 1,
   "nav_menu": {},
   "number_sections": false,
   "sideBar": true,
   "skip_h1_title": false,
   "title_cell": "Table of Contents",
   "title_sidebar": "Contents",
   "toc_cell": false,
   "toc_position": {},
   "toc_section_display": true,
   "toc_window_display": false
  },
  "varInspector": {
   "cols": {
    "lenName": 16,
    "lenType": 16,
    "lenVar": 40
   },
   "kernels_config": {
    "python": {
     "delete_cmd_postfix": "",
     "delete_cmd_prefix": "del ",
     "library": "var_list.py",
     "varRefreshCmd": "print(var_dic_list())"
    },
    "r": {
     "delete_cmd_postfix": ") ",
     "delete_cmd_prefix": "rm(",
     "library": "var_list.r",
     "varRefreshCmd": "cat(var_dic_list()) "
    }
   },
   "types_to_exclude": [
    "module",
    "function",
    "builtin_function_or_method",
    "instance",
    "_Feature"
   ],
   "window_display": false
  }
 },
 "nbformat": 4,
 "nbformat_minor": 5
}
