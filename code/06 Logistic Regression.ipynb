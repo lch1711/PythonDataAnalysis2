{
 "cells": [
  {
   "cell_type": "markdown",
   "id": "fc09e07d",
   "metadata": {},
   "source": [
    "## 로지스틱 회귀분석"
   ]
  },
  {
   "cell_type": "markdown",
   "id": "7d56d659",
   "metadata": {},
   "source": [
    "### 관련 라이브러리 호출"
   ]
  },
  {
   "cell_type": "code",
   "execution_count": null,
   "id": "alien-controversy",
   "metadata": {
    "ExecuteTime": {
     "end_time": "2022-06-07T14:42:46.879971Z",
     "start_time": "2022-06-07T14:42:45.321230Z"
    }
   },
   "outputs": [],
   "source": [
    "# 관련 라이브러리를 호출합니다.\n",
    "import numpy as np\n",
    "import pandas as pd\n",
    "import pingouin as pg\n",
    "from scipy import stats"
   ]
  },
  {
   "cell_type": "code",
   "execution_count": null,
   "id": "3c3ad5fc",
   "metadata": {},
   "outputs": [],
   "source": [
    "# 시각화 관련 모듈을 호출합니다.\n",
    "from GraphicSetting import *\n",
    "import HelloDataScience as hds"
   ]
  },
  {
   "cell_type": "markdown",
   "id": "separate-davis",
   "metadata": {},
   "source": [
    "### 실습 데이터셋 준비"
   ]
  },
  {
   "cell_type": "code",
   "execution_count": null,
   "id": "realistic-noise",
   "metadata": {
    "ExecuteTime": {
     "end_time": "2022-06-07T14:42:47.477863Z",
     "start_time": "2022-06-07T14:42:46.882234Z"
    }
   },
   "outputs": [],
   "source": [
    "# 인터넷으로 공유 중인 텍스트 데이터를 읽고 데이터프레임 df를 생성합니다.\n",
    "df = pd.read_csv('https://bit.ly/Univ_Admit')"
   ]
  },
  {
   "cell_type": "code",
   "execution_count": null,
   "id": "martial-jacket",
   "metadata": {
    "ExecuteTime": {
     "end_time": "2022-06-07T14:42:47.487542Z",
     "start_time": "2022-06-07T14:42:47.479715Z"
    }
   },
   "outputs": [],
   "source": [
    "# df의 정보를 확인합니다.\n",
    "df.info()"
   ]
  },
  {
   "cell_type": "code",
   "execution_count": null,
   "id": "2d6ab82d",
   "metadata": {
    "ExecuteTime": {
     "end_time": "2022-06-07T14:42:47.500044Z",
     "start_time": "2022-06-07T14:42:47.490381Z"
    }
   },
   "outputs": [],
   "source": [
    "# df의 처음 5행을 출력합니다.\n",
    "df.head()"
   ]
  },
  {
   "cell_type": "markdown",
   "id": "67a7417f",
   "metadata": {},
   "source": [
    "### 실습 데이터셋 전처리"
   ]
  },
  {
   "cell_type": "code",
   "execution_count": null,
   "id": "31cf2953",
   "metadata": {
    "ExecuteTime": {
     "end_time": "2022-06-07T14:42:47.504769Z",
     "start_time": "2022-06-07T14:42:47.501801Z"
    }
   },
   "outputs": [],
   "source": [
    "# rank를 문자형으로 변환합니다.\n",
    "df['rank'] = df['rank'].astype('str')"
   ]
  },
  {
   "cell_type": "code",
   "execution_count": null,
   "id": "f901099a",
   "metadata": {
    "ExecuteTime": {
     "end_time": "2022-06-07T14:42:47.517911Z",
     "start_time": "2022-06-07T14:42:47.506557Z"
    }
   },
   "outputs": [],
   "source": [
    "# 연속형 변수의 기술통계량을 확인합니다.\n",
    "df.describe().round(2)"
   ]
  },
  {
   "cell_type": "code",
   "execution_count": null,
   "id": "5a658311",
   "metadata": {
    "ExecuteTime": {
     "end_time": "2022-06-07T14:42:47.528443Z",
     "start_time": "2022-06-07T14:42:47.519561Z"
    }
   },
   "outputs": [],
   "source": [
    "# 범주형 변수의 기술통계량을 확인합니다.\n",
    "df.describe(include = 'object')"
   ]
  },
  {
   "cell_type": "code",
   "execution_count": null,
   "id": "4010d7a9",
   "metadata": {
    "ExecuteTime": {
     "end_time": "2022-06-07T14:42:47.534871Z",
     "start_time": "2022-06-07T14:42:47.530178Z"
    }
   },
   "outputs": [],
   "source": [
    "# rank의 원소별 빈도수를 출력합니다.\n",
    "df['rank'].value_counts().sort_index()"
   ]
  },
  {
   "cell_type": "markdown",
   "id": "112fc20e",
   "metadata": {},
   "source": [
    "### 목표변수 시각화"
   ]
  },
  {
   "cell_type": "code",
   "execution_count": null,
   "id": "shared-database",
   "metadata": {
    "ExecuteTime": {
     "end_time": "2022-06-07T14:42:47.650289Z",
     "start_time": "2022-06-07T14:42:47.536948Z"
    }
   },
   "outputs": [],
   "source": [
    "# 목표변수 범주별 빈도수로 일변량 막대그래프를 그립니다.\n",
    "hds.plot_bar_freq(data = df, \n",
    "                  y = 'admit', \n",
    "                  pal = ['skyblue', 'orange'])"
   ]
  },
  {
   "cell_type": "markdown",
   "id": "attempted-operations",
   "metadata": {},
   "source": [
    "### 연속형 입력변수와 관계 파악"
   ]
  },
  {
   "cell_type": "code",
   "execution_count": null,
   "id": "important-college",
   "metadata": {
    "ExecuteTime": {
     "end_time": "2022-06-07T14:42:47.793414Z",
     "start_time": "2022-06-07T14:42:47.655155Z"
    }
   },
   "outputs": [],
   "source": [
    "# admit 범주별 gre의 상자 수염 그림을 그립니다.\n",
    "hds.plot_box_group(data = df, \n",
    "                   x = 'admit', \n",
    "                   y = 'gre', \n",
    "                   pal = ['skyblue', 'orange'])"
   ]
  },
  {
   "cell_type": "code",
   "execution_count": null,
   "id": "synthetic-leader",
   "metadata": {
    "ExecuteTime": {
     "end_time": "2022-06-07T14:42:47.940397Z",
     "start_time": "2022-06-07T14:42:47.795598Z"
    }
   },
   "outputs": [],
   "source": [
    "# admit 범주별 gpa의 상자 수염 그림을 그립니다.\n",
    "hds.plot_box_group(data = df, \n",
    "                   x = 'admit', \n",
    "                   y = 'gpa', \n",
    "                   pal = ['skyblue', 'orange'])"
   ]
  },
  {
   "cell_type": "markdown",
   "id": "a8aec4e6",
   "metadata": {},
   "source": [
    "### 범주형 입력변수와 관계 파악"
   ]
  },
  {
   "cell_type": "code",
   "execution_count": null,
   "id": "a599e972",
   "metadata": {
    "ExecuteTime": {
     "end_time": "2022-06-07T14:42:48.083911Z",
     "start_time": "2022-06-07T14:42:47.943012Z"
    }
   },
   "outputs": [],
   "source": [
    "# rank 범주별 admit의 빈도수로 묶음 막대그래프를 그립니다.\n",
    "hds.plot_bar_dodge_freq(data = df, \n",
    "                        x = 'rank', \n",
    "                        y = 'admit', \n",
    "                        pal = ['skyblue', 'orange'])"
   ]
  },
  {
   "cell_type": "code",
   "execution_count": null,
   "id": "f09eb2ab",
   "metadata": {
    "ExecuteTime": {
     "end_time": "2022-06-07T14:42:48.288398Z",
     "start_time": "2022-06-07T14:42:48.085813Z"
    }
   },
   "outputs": [],
   "source": [
    "# rank 범주별 admit의 빈도수로 쌓은 막대그래프를 그립니다.\n",
    "hds.plot_bar_stack_freq(data = df, \n",
    "                        x = 'rank', \n",
    "                        y = 'admit', \n",
    "                        pal = ['skyblue', 'orange'])"
   ]
  },
  {
   "cell_type": "code",
   "execution_count": null,
   "id": "rental-homeless",
   "metadata": {
    "ExecuteTime": {
     "end_time": "2022-06-07T14:42:48.423778Z",
     "start_time": "2022-06-07T14:42:48.290048Z"
    }
   },
   "outputs": [],
   "source": [
    "# rank 범주별 admit의 상대도수로 쌓은 막대그래프를 그립니다.\n",
    "hds.plot_bar_stack_prop(data = df, \n",
    "                        x = 'rank', \n",
    "                        y = 'admit', \n",
    "                        pal = ['skyblue', 'orange'])"
   ]
  },
  {
   "cell_type": "markdown",
   "id": "5fde44a8",
   "metadata": {},
   "source": [
    "### t-검정: gre"
   ]
  },
  {
   "cell_type": "code",
   "execution_count": null,
   "id": "d03bd596",
   "metadata": {
    "ExecuteTime": {
     "end_time": "2022-06-07T14:42:48.435156Z",
     "start_time": "2022-06-07T14:42:48.425636Z"
    }
   },
   "outputs": [],
   "source": [
    "# 정규성 검정을 실행합니다.\n",
    "pg.normality(data = df, dv = 'gre', group = 'admit')"
   ]
  },
  {
   "cell_type": "code",
   "execution_count": null,
   "id": "010f1451",
   "metadata": {
    "ExecuteTime": {
     "end_time": "2022-06-07T14:42:48.439751Z",
     "start_time": "2022-06-07T14:42:48.436823Z"
    }
   },
   "outputs": [],
   "source": [
    "# admit 범주별 gre로 시리즈를 생성합니다.\n",
    "s0 = df['gre'][df['admit'].eq('Fail')]\n",
    "s1 = df['gre'][df['admit'].eq('Pass')]"
   ]
  },
  {
   "cell_type": "code",
   "execution_count": null,
   "id": "dba616fe",
   "metadata": {
    "ExecuteTime": {
     "end_time": "2022-06-07T14:42:48.450256Z",
     "start_time": "2022-06-07T14:42:48.441469Z"
    }
   },
   "outputs": [],
   "source": [
    "# (정규성 가정 불만족) 맨-휘트니 U 검정을 실행합니다.\n",
    "pg.mwu(x = s0, y = s1)"
   ]
  },
  {
   "cell_type": "markdown",
   "id": "cb9ba4a3",
   "metadata": {},
   "source": [
    "### t-검정 : gpa"
   ]
  },
  {
   "cell_type": "code",
   "execution_count": null,
   "id": "8e1eedbe",
   "metadata": {
    "ExecuteTime": {
     "end_time": "2022-06-07T14:42:48.461244Z",
     "start_time": "2022-06-07T14:42:48.451903Z"
    }
   },
   "outputs": [],
   "source": [
    "# 정규성 검정을 실행합니다.\n",
    "pg.normality(data = df, dv = 'gpa', group = 'admit')"
   ]
  },
  {
   "cell_type": "code",
   "execution_count": null,
   "id": "b84be5e7",
   "metadata": {
    "ExecuteTime": {
     "end_time": "2022-06-07T14:42:48.465959Z",
     "start_time": "2022-06-07T14:42:48.462955Z"
    }
   },
   "outputs": [],
   "source": [
    "# admit 범주별 gpa로 시리즈를 생성합니다.\n",
    "s0 = df['gpa'][df['admit'].eq('Fail')]\n",
    "s1 = df['gpa'][df['admit'].eq('Pass')]"
   ]
  },
  {
   "cell_type": "code",
   "execution_count": null,
   "id": "7ae06bb1",
   "metadata": {
    "ExecuteTime": {
     "end_time": "2022-06-07T14:42:48.476023Z",
     "start_time": "2022-06-07T14:42:48.467443Z"
    }
   },
   "outputs": [],
   "source": [
    "# (정규성 가정 불만족) 맨-휘트니 U 검정을 실행합니다.\n",
    "pg.mwu(x = s0, y = s1)"
   ]
  },
  {
   "cell_type": "markdown",
   "id": "386a1ff4",
   "metadata": {},
   "source": [
    "### 교차분석: rank"
   ]
  },
  {
   "cell_type": "code",
   "execution_count": null,
   "id": "697025d7",
   "metadata": {
    "ExecuteTime": {
     "end_time": "2022-06-07T14:42:48.505238Z",
     "start_time": "2022-06-07T14:42:48.477824Z"
    }
   },
   "outputs": [],
   "source": [
    "# 범주형 입력변수 rank와 목표변수의 교차테이블을 출력합니다.\n",
    "pd.crosstab(index = df['rank'], \n",
    "            columns = df['admit'], \n",
    "            normalize = 'index', \n",
    "            margins = True)"
   ]
  },
  {
   "cell_type": "code",
   "execution_count": null,
   "id": "0e998d5b",
   "metadata": {
    "ExecuteTime": {
     "end_time": "2022-06-07T14:42:48.526796Z",
     "start_time": "2022-06-07T14:42:48.507100Z"
    }
   },
   "outputs": [],
   "source": [
    "# 교차테이블 빈도수로 교차분석(카이제곱 검정)을 실행합니다.\n",
    "pg.chi2_independence(data = df, x = 'rank', y = 'admit')"
   ]
  },
  {
   "cell_type": "markdown",
   "id": "97a19a13",
   "metadata": {},
   "source": [
    "### 더미변수 생성"
   ]
  },
  {
   "cell_type": "code",
   "execution_count": null,
   "id": "c10f85ba",
   "metadata": {
    "ExecuteTime": {
     "end_time": "2022-06-07T14:42:48.530713Z",
     "start_time": "2022-06-07T14:42:48.528387Z"
    }
   },
   "outputs": [],
   "source": [
    "# 범주형 입력변수명으로 리스트를 생성합니다.\n",
    "cols = ['admit', 'rank']"
   ]
  },
  {
   "cell_type": "code",
   "execution_count": null,
   "id": "2f6e2ea7",
   "metadata": {
    "ExecuteTime": {
     "end_time": "2022-06-07T14:42:48.536681Z",
     "start_time": "2022-06-07T14:42:48.532324Z"
    }
   },
   "outputs": [],
   "source": [
    "# 범주형 입력변수로 더미변수를 생성합니다.\n",
    "dm = pd.get_dummies(data = df[cols], drop_first = True)"
   ]
  },
  {
   "cell_type": "code",
   "execution_count": null,
   "id": "quick-prophet",
   "metadata": {
    "ExecuteTime": {
     "end_time": "2022-06-07T14:42:48.540881Z",
     "start_time": "2022-06-07T14:42:48.538302Z"
    }
   },
   "outputs": [],
   "source": [
    "# df의 오른쪽에 더미변수 dm을 추가합니다.\n",
    "df = pd.concat(objs = [df, dm], axis = 1)"
   ]
  },
  {
   "cell_type": "code",
   "execution_count": null,
   "id": "above-vulnerability",
   "metadata": {
    "ExecuteTime": {
     "end_time": "2022-06-07T14:42:48.550096Z",
     "start_time": "2022-06-07T14:42:48.542761Z"
    }
   },
   "outputs": [],
   "source": [
    "# df의 정보를 확인합니다.\n",
    "df.info()"
   ]
  },
  {
   "cell_type": "code",
   "execution_count": null,
   "id": "proper-radar",
   "metadata": {
    "ExecuteTime": {
     "end_time": "2022-06-07T14:42:48.554852Z",
     "start_time": "2022-06-07T14:42:48.551788Z"
    }
   },
   "outputs": [],
   "source": [
    "# df에서 범주형 입력변수를 모두 삭제합니다.\n",
    "df = df.drop(labels = cols, axis = 1)"
   ]
  },
  {
   "cell_type": "code",
   "execution_count": null,
   "id": "a315394a",
   "metadata": {
    "ExecuteTime": {
     "end_time": "2022-06-07T14:42:48.566078Z",
     "start_time": "2022-06-07T14:42:48.563499Z"
    }
   },
   "outputs": [],
   "source": [
    "# 목표변수명을 'admit'으로 변경합니다.\n",
    "df = df.rename(columns = {'admit_Pass': 'admit'})"
   ]
  },
  {
   "cell_type": "code",
   "execution_count": null,
   "id": "a52938ab",
   "metadata": {
    "ExecuteTime": {
     "end_time": "2022-06-07T14:42:48.574239Z",
     "start_time": "2022-06-07T14:42:48.567604Z"
    }
   },
   "outputs": [],
   "source": [
    "# df의 처음 10행을 출력합니다.\n",
    "df.head(n = 10)"
   ]
  },
  {
   "cell_type": "markdown",
   "id": "swiss-chuck",
   "metadata": {},
   "source": [
    "### 실습 데이터셋 분할"
   ]
  },
  {
   "cell_type": "code",
   "execution_count": null,
   "id": "latter-administrator",
   "metadata": {
    "ExecuteTime": {
     "end_time": "2022-06-07T14:42:48.578043Z",
     "start_time": "2022-06-07T14:42:48.575908Z"
    }
   },
   "outputs": [],
   "source": [
    "# 관련 라이브러리를 호출합니다.\n",
    "from sklearn.model_selection import train_test_split"
   ]
  },
  {
   "cell_type": "code",
   "execution_count": null,
   "id": "719622bb",
   "metadata": {
    "ExecuteTime": {
     "end_time": "2022-06-07T14:42:48.581702Z",
     "start_time": "2022-06-07T14:42:48.579785Z"
    }
   },
   "outputs": [],
   "source": [
    "# 목표변수 열이름을 지정합니다.\n",
    "yvar = 'admit'"
   ]
  },
  {
   "cell_type": "code",
   "execution_count": null,
   "id": "cosmetic-homework",
   "metadata": {
    "ExecuteTime": {
     "end_time": "2022-06-07T14:42:48.586311Z",
     "start_time": "2022-06-07T14:42:48.583313Z"
    }
   },
   "outputs": [],
   "source": [
    "# 입력변수 행렬 X와 목표변수 벡터 y를 생성합니다.\n",
    "X = df.drop(labels = [yvar], axis = 1)\n",
    "y = df[yvar]"
   ]
  },
  {
   "cell_type": "code",
   "execution_count": null,
   "id": "conscious-brunswick",
   "metadata": {
    "ExecuteTime": {
     "end_time": "2022-06-07T14:42:48.591945Z",
     "start_time": "2022-06-07T14:42:48.588016Z"
    }
   },
   "outputs": [],
   "source": [
    "# 전체 데이터의 70%를 훈련셋, 30%를 시험셋으로 분할합니다.\n",
    "Xtr, Xte, ytr, yte = train_test_split(\n",
    "    X, y, test_size = 0.3, random_state = 0\n",
    ")"
   ]
  },
  {
   "cell_type": "code",
   "execution_count": null,
   "id": "amber-shopping",
   "metadata": {
    "ExecuteTime": {
     "end_time": "2022-06-07T14:42:48.598745Z",
     "start_time": "2022-06-07T14:42:48.593666Z"
    }
   },
   "outputs": [],
   "source": [
    "# 훈련셋의 목표변수 범주별 상대도수를 확인합니다.\n",
    "ytr.value_counts(normalize = True)"
   ]
  },
  {
   "cell_type": "code",
   "execution_count": null,
   "id": "fiscal-buffer",
   "metadata": {
    "ExecuteTime": {
     "end_time": "2022-06-07T14:42:48.604725Z",
     "start_time": "2022-06-07T14:42:48.600265Z"
    }
   },
   "outputs": [],
   "source": [
    "# 시험셋의 목표변수 범주별 상대도수를 확인합니다.\n",
    "yte.value_counts(normalize = True)"
   ]
  },
  {
   "cell_type": "markdown",
   "id": "unlike-claim",
   "metadata": {},
   "source": [
    "### 로지스틱 회귀모형 적합"
   ]
  },
  {
   "cell_type": "code",
   "execution_count": null,
   "id": "021d2c51",
   "metadata": {
    "ExecuteTime": {
     "end_time": "2022-06-07T14:42:48.608560Z",
     "start_time": "2022-06-07T14:42:48.606381Z"
    }
   },
   "outputs": [],
   "source": [
    "# 관련 라이브러리를 호출합니다.\n",
    "import statsmodels.api as sm"
   ]
  },
  {
   "cell_type": "code",
   "execution_count": null,
   "id": "fcd2ca7c",
   "metadata": {
    "ExecuteTime": {
     "end_time": "2022-06-07T14:42:48.613217Z",
     "start_time": "2022-06-07T14:42:48.610576Z"
    }
   },
   "outputs": [],
   "source": [
    "# 로지스틱 회귀모형을 반환하는 함수를 정의합니다.\n",
    "def glm(y, X):\n",
    "    model = sm.GLM(endog = y, exog = X, family = sm.families.Binomial())\n",
    "    return model.fit()"
   ]
  },
  {
   "cell_type": "code",
   "execution_count": null,
   "id": "bd1327da",
   "metadata": {
    "ExecuteTime": {
     "end_time": "2022-06-07T14:42:48.621265Z",
     "start_time": "2022-06-07T14:42:48.614932Z"
    }
   },
   "outputs": [],
   "source": [
    "# 훈련셋과 시험셋 입력변수에 y절편의 역할을 수행할 상수 1을 추가합니다.\n",
    "Xtr = sm.add_constant(data = Xtr)\n",
    "Xte = sm.add_constant(data = Xte)"
   ]
  },
  {
   "cell_type": "code",
   "execution_count": null,
   "id": "1c692b1a",
   "metadata": {
    "ExecuteTime": {
     "end_time": "2022-06-07T14:42:48.629539Z",
     "start_time": "2022-06-07T14:42:48.622866Z"
    }
   },
   "outputs": [],
   "source": [
    "# 훈련셋 입력변수의 처음 5행을 출력합니다.\n",
    "Xtr.head()"
   ]
  },
  {
   "cell_type": "code",
   "execution_count": null,
   "id": "fa4411bb",
   "metadata": {
    "ExecuteTime": {
     "end_time": "2022-06-07T14:42:48.637402Z",
     "start_time": "2022-06-07T14:42:48.631174Z"
    }
   },
   "outputs": [],
   "source": [
    "# 훈련셋으로 로지스틱 회귀모형을 적합합니다.\n",
    "fit0 = glm(y = ytr, X = Xtr)"
   ]
  },
  {
   "cell_type": "markdown",
   "id": "03d162be",
   "metadata": {},
   "source": [
    "### 로지스틱 회귀모형 적합 결과 확인"
   ]
  },
  {
   "cell_type": "code",
   "execution_count": null,
   "id": "6e8c6b30",
   "metadata": {
    "ExecuteTime": {
     "end_time": "2022-06-07T14:42:48.649329Z",
     "start_time": "2022-06-07T14:42:48.638994Z"
    }
   },
   "outputs": [],
   "source": [
    "# fit0 모형의 적합 결과를 확인합니다.\n",
    "fit0.summary()"
   ]
  },
  {
   "cell_type": "markdown",
   "id": "9d9dfcb3",
   "metadata": {},
   "source": [
    "### 로지스틱 회귀모형의 유의성 검정"
   ]
  },
  {
   "cell_type": "code",
   "execution_count": null,
   "id": "d357b2d6",
   "metadata": {
    "ExecuteTime": {
     "end_time": "2022-06-07T14:42:48.654378Z",
     "start_time": "2022-06-07T14:42:48.650800Z"
    }
   },
   "outputs": [],
   "source": [
    "# 두 모형의 이탈도 차이를 출력합니다.(검정통계량)\n",
    "devGap = fit0.null_deviance - fit0.deviance\n",
    "devGap"
   ]
  },
  {
   "cell_type": "code",
   "execution_count": null,
   "id": "d003bc73",
   "metadata": {
    "ExecuteTime": {
     "end_time": "2022-06-07T14:42:48.659190Z",
     "start_time": "2022-06-07T14:42:48.656019Z"
    }
   },
   "outputs": [],
   "source": [
    "# 두 모형의 자유도 차이를 출력합니다.(카이제곱 분포의 자유도)\n",
    "dfGap = fit0.df_model\n",
    "dfGap"
   ]
  },
  {
   "cell_type": "code",
   "execution_count": null,
   "id": "8624cff4",
   "metadata": {
    "ExecuteTime": {
     "end_time": "2022-06-07T14:42:48.664851Z",
     "start_time": "2022-06-07T14:42:48.661093Z"
    }
   },
   "outputs": [],
   "source": [
    "# 검정통계량과 자유도로 유의확률을 출력합니다.\n",
    "1 - stats.chi2.cdf(x = devGap, df = dfGap)"
   ]
  },
  {
   "cell_type": "markdown",
   "id": "5910432d",
   "metadata": {},
   "source": [
    "### 다중공선성 확인"
   ]
  },
  {
   "cell_type": "code",
   "execution_count": null,
   "id": "5954cf60",
   "metadata": {
    "ExecuteTime": {
     "end_time": "2022-06-07T14:42:48.675739Z",
     "start_time": "2022-06-07T14:42:48.666329Z"
    }
   },
   "outputs": [],
   "source": [
    "# 분산팽창지수를 출력하고 다중공선성 입력변수를 확인합니다.\n",
    "hds.vif(X = Xtr)"
   ]
  },
  {
   "cell_type": "markdown",
   "id": "abdcbec6",
   "metadata": {},
   "source": [
    "### 오즈비 확인"
   ]
  },
  {
   "cell_type": "code",
   "execution_count": null,
   "id": "b199d2c9",
   "metadata": {
    "ExecuteTime": {
     "end_time": "2022-06-07T14:42:48.681831Z",
     "start_time": "2022-06-07T14:42:48.677519Z"
    }
   },
   "outputs": [],
   "source": [
    "# 입력변수별 회귀계수의 오즈비를 출력합니다.\n",
    "np.exp(fit0.params).round(3)"
   ]
  },
  {
   "cell_type": "markdown",
   "id": "918b5c0a",
   "metadata": {},
   "source": [
    "### 표준화 회귀계수 확인"
   ]
  },
  {
   "cell_type": "code",
   "execution_count": null,
   "id": "2e1fbcda",
   "metadata": {
    "ExecuteTime": {
     "end_time": "2022-06-07T14:42:48.686798Z",
     "start_time": "2022-06-07T14:42:48.683478Z"
    }
   },
   "outputs": [],
   "source": [
    "# 표준화 회귀계수를 생성합니다.\n",
    "# [참고] 로짓변환된 목표변수는 표준편차를 구할 수 없으므로 상수 1로 대신합니다.\n",
    "beta_z = hds.std_coefs(model = fit0)"
   ]
  },
  {
   "cell_type": "code",
   "execution_count": null,
   "id": "a8cec9ce",
   "metadata": {
    "ExecuteTime": {
     "end_time": "2022-06-07T14:42:48.692062Z",
     "start_time": "2022-06-07T14:42:48.688418Z"
    }
   },
   "outputs": [],
   "source": [
    "# 표준화 회귀계수를 출력합니다.\n",
    "beta_z"
   ]
  },
  {
   "cell_type": "code",
   "execution_count": null,
   "id": "b188f3ed",
   "metadata": {
    "ExecuteTime": {
     "end_time": "2022-06-07T14:42:48.698013Z",
     "start_time": "2022-06-07T14:42:48.693793Z"
    }
   },
   "outputs": [],
   "source": [
    "# 표준화 회귀계수의 절대값을 오름차순 정렬한 결과를 출력합니다.\n",
    "beta_z.abs().sort_values()"
   ]
  },
  {
   "cell_type": "markdown",
   "id": "582f73eb",
   "metadata": {},
   "source": [
    "### 목표변수의 추정확률 생성"
   ]
  },
  {
   "cell_type": "code",
   "execution_count": null,
   "id": "57cce4c0",
   "metadata": {
    "ExecuteTime": {
     "end_time": "2022-06-07T14:42:48.708497Z",
     "start_time": "2022-06-07T14:42:48.700312Z"
    }
   },
   "outputs": [],
   "source": [
    "# 훈련셋의 실제값과 fit0 모형의 추정확률을 비교합니다.\n",
    "ytrProb = fit0.predict(exog = Xtr)\n",
    "pd.DataFrame(data = {'Real': ytr, 'Prob': ytrProb})"
   ]
  },
  {
   "cell_type": "code",
   "execution_count": null,
   "id": "a80c548b",
   "metadata": {
    "ExecuteTime": {
     "end_time": "2022-06-07T14:42:48.718260Z",
     "start_time": "2022-06-07T14:42:48.710504Z"
    }
   },
   "outputs": [],
   "source": [
    "# 시험셋의 실제값과 fit0 모형의 추정확률을 비교합니다.\n",
    "yteProb = fit0.predict(exog = Xte)\n",
    "pd.DataFrame(data = {'Real': yte, 'Prob': yteProb})"
   ]
  },
  {
   "cell_type": "markdown",
   "id": "fitting-termination",
   "metadata": {},
   "source": [
    "### 분류모형 성능 평가 : ROC 곡선"
   ]
  },
  {
   "cell_type": "code",
   "execution_count": null,
   "id": "hairy-cincinnati",
   "metadata": {
    "ExecuteTime": {
     "end_time": "2022-06-07T14:42:48.854264Z",
     "start_time": "2022-06-07T14:42:48.720025Z"
    }
   },
   "outputs": [],
   "source": [
    "# 훈련셋과 시험셋의 추정확률로 ROC 곡선을 그립니다.\n",
    "hds.plot_roc(y_true = ytr, y_prob = ytrProb, color = 'red')\n",
    "hds.plot_roc(y_true = yte, y_prob = yteProb, color = 'blue')"
   ]
  },
  {
   "cell_type": "markdown",
   "id": "7ed34cd6",
   "metadata": {},
   "source": [
    "### 목표변수의 추정값 생성"
   ]
  },
  {
   "cell_type": "code",
   "execution_count": null,
   "id": "c1e64445",
   "metadata": {
    "ExecuteTime": {
     "end_time": "2022-06-07T14:42:48.858663Z",
     "start_time": "2022-06-07T14:42:48.856424Z"
    }
   },
   "outputs": [],
   "source": [
    "# 분리 기준점을 0.5로 설정합니다.\n",
    "cutoff = 0.5"
   ]
  },
  {
   "cell_type": "code",
   "execution_count": null,
   "id": "c6aea886",
   "metadata": {
    "ExecuteTime": {
     "end_time": "2022-06-07T14:42:48.864173Z",
     "start_time": "2022-06-07T14:42:48.860587Z"
    }
   },
   "outputs": [],
   "source": [
    "# 훈련셋의 목표변수 추정값(라벨)을 생성합니다.\n",
    "ytrPred1 = np.where(ytrProb >= cutoff, 1, 0)"
   ]
  },
  {
   "cell_type": "code",
   "execution_count": null,
   "id": "e2d63a8d",
   "metadata": {
    "ExecuteTime": {
     "end_time": "2022-06-07T14:42:48.868455Z",
     "start_time": "2022-06-07T14:42:48.865828Z"
    }
   },
   "outputs": [],
   "source": [
    "# 시험셋의 목표변수 추정값(라벨)을 생성합니다.\n",
    "ytePred1 = np.where(yteProb >= cutoff, 1, 0)"
   ]
  },
  {
   "cell_type": "markdown",
   "id": "2ead22d7",
   "metadata": {},
   "source": [
    "### 분류모형 성능 평가 : 혼동행렬 리포트"
   ]
  },
  {
   "cell_type": "code",
   "execution_count": null,
   "id": "9a830c56",
   "metadata": {
    "ExecuteTime": {
     "end_time": "2022-06-07T14:42:48.878720Z",
     "start_time": "2022-06-07T14:42:48.870336Z"
    }
   },
   "outputs": [],
   "source": [
    "# 훈련셋으로 혼동행렬 리포트를 출력하고 정확도, 민감도, 정밀도 및 F1 점수를 \n",
    "# 차례대로 확인합니다.\n",
    "hds.clfmetrics(y_true = ytr, y_pred = ytrPred1)"
   ]
  },
  {
   "cell_type": "code",
   "execution_count": null,
   "id": "74820ce6",
   "metadata": {
    "ExecuteTime": {
     "end_time": "2022-06-07T14:42:48.887937Z",
     "start_time": "2022-06-07T14:42:48.880764Z"
    }
   },
   "outputs": [],
   "source": [
    "# 시험셋으로 혼동행렬 리포트를 출력하고 정확도, 민감도, 정밀도 및 F1 점수를 \n",
    "# 차례대로 확인합니다.\n",
    "hds.clfmetrics(y_true = yte, y_pred = ytePred1)"
   ]
  },
  {
   "cell_type": "markdown",
   "id": "gross-motion",
   "metadata": {},
   "source": [
    "### [참고] 혼동행렬 관련 함수"
   ]
  },
  {
   "cell_type": "code",
   "execution_count": null,
   "id": "european-assistant",
   "metadata": {
    "ExecuteTime": {
     "end_time": "2022-06-07T14:42:48.891962Z",
     "start_time": "2022-06-07T14:42:48.889828Z"
    }
   },
   "outputs": [],
   "source": [
    "# 관련 라이브러리를 호출합니다.\n",
    "from sklearn import metrics"
   ]
  },
  {
   "cell_type": "code",
   "execution_count": null,
   "id": "6898a97c",
   "metadata": {
    "ExecuteTime": {
     "end_time": "2022-06-07T14:42:48.898312Z",
     "start_time": "2022-06-07T14:42:48.893825Z"
    }
   },
   "outputs": [],
   "source": [
    "# 시험셋의 혼동행렬을 출력합니다.\n",
    "print(metrics.confusion_matrix(y_true = yte, y_pred = ytePred1))"
   ]
  },
  {
   "cell_type": "code",
   "execution_count": null,
   "id": "organizational-arrangement",
   "metadata": {
    "ExecuteTime": {
     "end_time": "2022-06-07T14:42:48.906772Z",
     "start_time": "2022-06-07T14:42:48.900463Z"
    }
   },
   "outputs": [],
   "source": [
    "# 시험셋의 분류모형 리포트를 출력합니다.\n",
    "print(metrics.classification_report(y_true = yte, y_pred = ytePred1))"
   ]
  },
  {
   "cell_type": "code",
   "execution_count": null,
   "id": "parallel-mercy",
   "metadata": {
    "ExecuteTime": {
     "end_time": "2022-06-07T14:42:48.914068Z",
     "start_time": "2022-06-07T14:42:48.909123Z"
    }
   },
   "outputs": [],
   "source": [
    "# 시험셋의 F1 점수를 출력합니다.\n",
    "metrics.f1_score(y_true = yte, y_pred = ytePred1, pos_label = 1)"
   ]
  },
  {
   "cell_type": "markdown",
   "id": "e0019005",
   "metadata": {},
   "source": [
    "### [참고] 목표변수의 범주별 추정확률 분포"
   ]
  },
  {
   "cell_type": "code",
   "execution_count": null,
   "id": "804dfbd6",
   "metadata": {
    "ExecuteTime": {
     "end_time": "2022-06-07T14:42:49.029047Z",
     "start_time": "2022-06-07T14:42:48.916088Z"
    }
   },
   "outputs": [],
   "source": [
    "# 목표변수 범주별 추정확률 분포를 확인합니다.\n",
    "sns.boxplot(x = ytr, y = ytrProb)\n",
    "plt.title(label = '범주별 추정확률 분포')\n",
    "plt.xlabel(xlabel = '실제값')\n",
    "plt.ylabel(ylabel = '추정확률')\n",
    "plt.axhline(y = 0.5, color = 'red', lw = 1.5, ls = '--');"
   ]
  },
  {
   "cell_type": "markdown",
   "id": "d8ead17c",
   "metadata": {},
   "source": [
    "### [참고] 최적의 분리 기준점 탐색"
   ]
  },
  {
   "cell_type": "code",
   "execution_count": null,
   "id": "43c6b146",
   "metadata": {
    "ExecuteTime": {
     "end_time": "2022-06-07T14:42:49.404578Z",
     "start_time": "2022-06-07T14:42:49.031175Z"
    }
   },
   "outputs": [],
   "source": [
    "# 분리 기준점마다 분류모형의 성능지표를 계산한 데이터프레임을 생성합니다.\n",
    "cfm = hds.clfCutoffs(y_true = ytr, y_prob = ytrProb)"
   ]
  },
  {
   "cell_type": "code",
   "execution_count": null,
   "id": "8c600a35",
   "metadata": {
    "ExecuteTime": {
     "end_time": "2022-06-07T14:42:49.417178Z",
     "start_time": "2022-06-07T14:42:49.406595Z"
    }
   },
   "outputs": [],
   "source": [
    "# cfm의 처음 5행을 출력합니다.\n",
    "cfm.head()"
   ]
  },
  {
   "cell_type": "code",
   "execution_count": null,
   "id": "bbfeee05",
   "metadata": {
    "ExecuteTime": {
     "end_time": "2022-06-07T14:42:49.642023Z",
     "start_time": "2022-06-07T14:42:49.419126Z"
    },
    "scrolled": false
   },
   "outputs": [],
   "source": [
    "# 민감도와 특이도의 합계가 최댓값일 때의 분리 기준점을 확인합니다.\n",
    "hds.EpiROC(obj = cfm)"
   ]
  },
  {
   "cell_type": "markdown",
   "id": "ca981333",
   "metadata": {},
   "source": [
    "### [참고] 최적의 분리 기준점으로 성능지표 확인"
   ]
  },
  {
   "cell_type": "code",
   "execution_count": null,
   "id": "42e5d9a4",
   "metadata": {
    "ExecuteTime": {
     "end_time": "2022-06-07T14:42:49.646024Z",
     "start_time": "2022-06-07T14:42:49.643948Z"
    }
   },
   "outputs": [],
   "source": [
    "# 최적의 분리 기준점을 설정합니다.\n",
    "cutoff = 0.32"
   ]
  },
  {
   "cell_type": "code",
   "execution_count": null,
   "id": "b3b2b850",
   "metadata": {
    "ExecuteTime": {
     "end_time": "2022-06-07T14:42:49.650411Z",
     "start_time": "2022-06-07T14:42:49.647784Z"
    }
   },
   "outputs": [],
   "source": [
    "# 시험셋의 목표변수 추정값(라벨)을 생성합니다.\n",
    "ytePred2 = np.where(yteProb >= cutoff, 1, 0)"
   ]
  },
  {
   "cell_type": "code",
   "execution_count": null,
   "id": "590879c1",
   "metadata": {
    "ExecuteTime": {
     "end_time": "2022-06-07T14:42:49.658621Z",
     "start_time": "2022-06-07T14:42:49.652215Z"
    }
   },
   "outputs": [],
   "source": [
    "# 혼동행렬과 F1 점수를 확인합니다.\n",
    "hds.clfmetrics(y_true = yte, y_pred = ytePred2)"
   ]
  },
  {
   "cell_type": "markdown",
   "id": "4c115486",
   "metadata": {},
   "source": [
    "### [참고] 매튜의 상관계수"
   ]
  },
  {
   "cell_type": "code",
   "execution_count": null,
   "id": "e6c51ffc",
   "metadata": {
    "ExecuteTime": {
     "end_time": "2022-06-07T14:42:49.665089Z",
     "start_time": "2022-06-07T14:42:49.660242Z"
    }
   },
   "outputs": [],
   "source": [
    "# 분리 기준점을 다르게 설정한 추정값으로 매튜의 상관계수를 비교합니다.\n",
    "metrics.matthews_corrcoef(y_true = yte, y_pred = ytePred1)"
   ]
  },
  {
   "cell_type": "code",
   "execution_count": null,
   "id": "0ad49ee0",
   "metadata": {
    "ExecuteTime": {
     "end_time": "2022-06-07T14:42:49.671407Z",
     "start_time": "2022-06-07T14:42:49.666720Z"
    }
   },
   "outputs": [],
   "source": [
    "# 분리 기준점을 다르게 설정한 추정값으로 매튜의 상관계수를 비교합니다.\n",
    "metrics.matthews_corrcoef(y_true = yte, y_pred = ytePred2)"
   ]
  },
  {
   "cell_type": "markdown",
   "id": "33a2aaf1",
   "metadata": {},
   "source": [
    "## End of Document"
   ]
  }
 ],
 "metadata": {
  "kernelspec": {
   "display_name": "Python 3",
   "language": "python",
   "name": "python3"
  },
  "language_info": {
   "codemirror_mode": {
    "name": "ipython",
    "version": 3
   },
   "file_extension": ".py",
   "mimetype": "text/x-python",
   "name": "python",
   "nbconvert_exporter": "python",
   "pygments_lexer": "ipython3",
   "version": "3.10.4"
  },
  "toc": {
   "base_numbering": 1,
   "nav_menu": {},
   "number_sections": false,
   "sideBar": true,
   "skip_h1_title": false,
   "title_cell": "Table of Contents",
   "title_sidebar": "Contents",
   "toc_cell": false,
   "toc_position": {},
   "toc_section_display": true,
   "toc_window_display": false
  },
  "varInspector": {
   "cols": {
    "lenName": 16,
    "lenType": 16,
    "lenVar": 40
   },
   "kernels_config": {
    "python": {
     "delete_cmd_postfix": "",
     "delete_cmd_prefix": "del ",
     "library": "var_list.py",
     "varRefreshCmd": "print(var_dic_list())"
    },
    "r": {
     "delete_cmd_postfix": ") ",
     "delete_cmd_prefix": "rm(",
     "library": "var_list.r",
     "varRefreshCmd": "cat(var_dic_list()) "
    }
   },
   "types_to_exclude": [
    "module",
    "function",
    "builtin_function_or_method",
    "instance",
    "_Feature"
   ],
   "window_display": false
  }
 },
 "nbformat": 4,
 "nbformat_minor": 5
}
