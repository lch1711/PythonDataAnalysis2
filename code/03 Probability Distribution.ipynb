{
 "cells": [
  {
   "cell_type": "markdown",
   "id": "05bd0878",
   "metadata": {},
   "source": [
    "## 확률분포의 이해"
   ]
  },
  {
   "cell_type": "markdown",
   "id": "846b49c7",
   "metadata": {},
   "source": [
    "### 관련 라이브러리 호출"
   ]
  },
  {
   "cell_type": "code",
   "execution_count": 1,
   "id": "51f76770",
   "metadata": {
    "ExecuteTime": {
     "end_time": "2022-06-11T04:54:13.468681Z",
     "start_time": "2022-06-11T04:54:13.004096Z"
    }
   },
   "outputs": [],
   "source": [
    "# 관련 라이브러리를 호출합니다.\n",
    "import os\n",
    "import joblib\n",
    "import numpy as np\n",
    "import pandas as pd"
   ]
  },
  {
   "cell_type": "code",
   "execution_count": 2,
   "id": "d0073eb9",
   "metadata": {},
   "outputs": [],
   "source": [
    "# 통계 관련 라이브러리를 호출합니다.\n",
    "from scipy import stats\n",
    "from statsmodels import robust"
   ]
  },
  {
   "cell_type": "markdown",
   "id": "26abcdee",
   "metadata": {},
   "source": [
    "### 정규분포를 따르는 무작위 값 생성"
   ]
  },
  {
   "cell_type": "code",
   "execution_count": 3,
   "id": "9e594389",
   "metadata": {
    "ExecuteTime": {
     "end_time": "2022-06-11T04:54:13.473846Z",
     "start_time": "2022-06-11T04:54:13.471587Z"
    }
   },
   "outputs": [],
   "source": [
    "# 시드를 고정합니다.\n",
    "np.random.seed(seed = 1234)"
   ]
  },
  {
   "cell_type": "code",
   "execution_count": 4,
   "id": "64ee3d1c",
   "metadata": {
    "ExecuteTime": {
     "end_time": "2022-06-11T04:54:13.477942Z",
     "start_time": "2022-06-11T04:54:13.475472Z"
    }
   },
   "outputs": [],
   "source": [
    "# 평균이 175, 표준편차가 5인 정규분포를 따르는 무작위 표본을 생성합니다.\n",
    "heights = stats.norm.rvs(loc = 175, scale = 5, size = 5000)"
   ]
  },
  {
   "cell_type": "code",
   "execution_count": 5,
   "id": "2d10e249",
   "metadata": {
    "ExecuteTime": {
     "end_time": "2022-06-11T04:54:13.488129Z",
     "start_time": "2022-06-11T04:54:13.480686Z"
    }
   },
   "outputs": [
    {
     "data": {
      "text/plain": [
       "175.12138663450918"
      ]
     },
     "execution_count": 5,
     "metadata": {},
     "output_type": "execute_result"
    }
   ],
   "source": [
    "# heights(표본)의 평균을 출력합니다.\n",
    "heights.mean()"
   ]
  },
  {
   "cell_type": "code",
   "execution_count": 6,
   "id": "eae8a52e",
   "metadata": {
    "ExecuteTime": {
     "end_time": "2022-06-11T04:54:13.493150Z",
     "start_time": "2022-06-11T04:54:13.489753Z"
    }
   },
   "outputs": [
    {
     "data": {
      "text/plain": [
       "4.9588737381446055"
      ]
     },
     "execution_count": 6,
     "metadata": {},
     "output_type": "execute_result"
    }
   ],
   "source": [
    "# heights(표본)의 표준편차를 출력합니다.\n",
    "heights.std()"
   ]
  },
  {
   "cell_type": "markdown",
   "id": "e6a9cef9",
   "metadata": {},
   "source": [
    "### 정규분포 확률밀도"
   ]
  },
  {
   "cell_type": "code",
   "execution_count": 7,
   "id": "56bf2c1d",
   "metadata": {
    "ExecuteTime": {
     "end_time": "2022-06-11T04:54:13.498615Z",
     "start_time": "2022-06-11T04:54:13.494775Z"
    }
   },
   "outputs": [
    {
     "data": {
      "text/plain": [
       "0.02659615202676218"
      ]
     },
     "execution_count": 7,
     "metadata": {},
     "output_type": "execute_result"
    }
   ],
   "source": [
    "# 평균이 175, 표준편차가 15인 정규분포에서 확률변수값 175의 확률밀도(높이)를 반환합니다.\n",
    "stats.norm.pdf(x = 175, loc = 175, scale = 15)"
   ]
  },
  {
   "cell_type": "code",
   "execution_count": 8,
   "id": "c1f42338",
   "metadata": {
    "ExecuteTime": {
     "end_time": "2022-06-11T04:54:13.504270Z",
     "start_time": "2022-06-11T04:54:13.500577Z"
    }
   },
   "outputs": [
    {
     "data": {
      "text/plain": [
       "0.03989422804014327"
      ]
     },
     "execution_count": 8,
     "metadata": {},
     "output_type": "execute_result"
    }
   ],
   "source": [
    "# 평균이 175, 표준편차가 10인 정규분포에서 확률변수값 175의 확률밀도(높이)를 반환합니다.\n",
    "stats.norm.pdf(x = 175, loc = 175, scale = 10)"
   ]
  },
  {
   "cell_type": "code",
   "execution_count": 9,
   "id": "924ee71a",
   "metadata": {
    "ExecuteTime": {
     "end_time": "2022-06-11T04:54:13.509992Z",
     "start_time": "2022-06-11T04:54:13.505785Z"
    }
   },
   "outputs": [
    {
     "data": {
      "text/plain": [
       "0.07978845608028654"
      ]
     },
     "execution_count": 9,
     "metadata": {},
     "output_type": "execute_result"
    }
   ],
   "source": [
    "# 평균이 175, 표준편차가 5인 정규분포에서 확률변수값 175의 확률밀도(높이)를 반환합니다.\n",
    "stats.norm.pdf(x = 175, loc = 175, scale = 5)"
   ]
  },
  {
   "cell_type": "code",
   "execution_count": 10,
   "id": "a9922803",
   "metadata": {},
   "outputs": [
    {
     "data": {
      "text/plain": [
       "0.0004880321188720095"
      ]
     },
     "execution_count": 10,
     "metadata": {},
     "output_type": "execute_result"
    }
   ],
   "source": [
    "# 모평균이 175인 정규분포에서 표본이 추출될 확률(가능도 곱)을 계산합니다.\n",
    "stats.norm.pdf(x = [174, 175, 176], loc = 175, scale = 5).prod()"
   ]
  },
  {
   "cell_type": "code",
   "execution_count": 11,
   "id": "1f88cd7b",
   "metadata": {
    "ExecuteTime": {
     "end_time": "2022-06-11T04:54:13.532878Z",
     "start_time": "2022-06-11T04:54:13.527104Z"
    },
    "scrolled": true
   },
   "outputs": [
    {
     "data": {
      "text/plain": [
       "-7.62512933691632"
      ]
     },
     "execution_count": 11,
     "metadata": {},
     "output_type": "execute_result"
    }
   ],
   "source": [
    "# 모평균이 175인 정규분포에서 표본이 추출될 확률(로그 가능도 합)을 계산합니다.\n",
    "np.log(stats.norm.pdf(x = [174, 175, 176], loc = 175, scale = 5)).sum()"
   ]
  },
  {
   "cell_type": "markdown",
   "id": "39313ee3",
   "metadata": {},
   "source": [
    "### 정규분포 누적확률"
   ]
  },
  {
   "cell_type": "code",
   "execution_count": 12,
   "id": "30078c75",
   "metadata": {
    "ExecuteTime": {
     "end_time": "2022-06-11T04:54:13.538847Z",
     "start_time": "2022-06-11T04:54:13.535081Z"
    }
   },
   "outputs": [
    {
     "data": {
      "text/plain": [
       "0.7475074624530771"
      ]
     },
     "execution_count": 12,
     "metadata": {},
     "output_type": "execute_result"
    }
   ],
   "source": [
    "# 평균이 175, 표준편차가 15인 정규분포에서 확률변수값 185의 누적확률을 반환합니다.\n",
    "stats.norm.cdf(x = 185, loc = 175, scale = 15)"
   ]
  },
  {
   "cell_type": "code",
   "execution_count": 13,
   "id": "d2587dbe",
   "metadata": {
    "ExecuteTime": {
     "end_time": "2022-06-11T04:54:13.543769Z",
     "start_time": "2022-06-11T04:54:13.540397Z"
    }
   },
   "outputs": [
    {
     "data": {
      "text/plain": [
       "0.8413447460685429"
      ]
     },
     "execution_count": 13,
     "metadata": {},
     "output_type": "execute_result"
    }
   ],
   "source": [
    "# 평균이 175, 표준편차가 10인 정규분포에서 확률변수값 185의 누적확률을 반환합니다.\n",
    "stats.norm.cdf(x = 185, loc = 175, scale = 10)"
   ]
  },
  {
   "cell_type": "code",
   "execution_count": 14,
   "id": "14ff7e32",
   "metadata": {
    "ExecuteTime": {
     "end_time": "2022-06-11T04:54:13.552227Z",
     "start_time": "2022-06-11T04:54:13.545442Z"
    },
    "scrolled": true
   },
   "outputs": [
    {
     "data": {
      "text/plain": [
       "0.9772498680518208"
      ]
     },
     "execution_count": 14,
     "metadata": {},
     "output_type": "execute_result"
    }
   ],
   "source": [
    "# 평균이 175, 표준편차가 5인 정규분포에서 확률변수값 185의 누적확률을 반환합니다.\n",
    "stats.norm.cdf(x = 185, loc = 175, scale = 5)"
   ]
  },
  {
   "cell_type": "code",
   "execution_count": 15,
   "id": "db4fcd3f",
   "metadata": {
    "ExecuteTime": {
     "end_time": "2022-06-11T04:54:13.558743Z",
     "start_time": "2022-06-11T04:54:13.554811Z"
    }
   },
   "outputs": [
    {
     "data": {
      "text/plain": [
       "array([0.02275013, 0.97724987])"
      ]
     },
     "execution_count": 15,
     "metadata": {},
     "output_type": "execute_result"
    }
   ],
   "source": [
    "# 두 지점 간 확률을 계산하려면 x 매개변수에 원소가 2개인 리스트를 할당합니다.\n",
    "cdfs = stats.norm.cdf(x = [165, 185], loc = 175, scale = 5)\n",
    "cdfs"
   ]
  },
  {
   "cell_type": "code",
   "execution_count": 16,
   "id": "92878474",
   "metadata": {},
   "outputs": [
    {
     "data": {
      "text/plain": [
       "0.9544997361036416"
      ]
     },
     "execution_count": 16,
     "metadata": {},
     "output_type": "execute_result"
    }
   ],
   "source": [
    "# 두 확률변수값 사이의 확률을 계산합니다.\n",
    "np.diff(a = cdfs)[0]"
   ]
  },
  {
   "cell_type": "markdown",
   "id": "ed3e86a1",
   "metadata": {},
   "source": [
    "### 정규분포 확률변수값"
   ]
  },
  {
   "cell_type": "code",
   "execution_count": 17,
   "id": "5f7766ff",
   "metadata": {
    "ExecuteTime": {
     "end_time": "2022-06-11T04:54:13.564106Z",
     "start_time": "2022-06-11T04:54:13.560560Z"
    }
   },
   "outputs": [
    {
     "data": {
      "text/plain": [
       "184.9996495957946"
      ]
     },
     "execution_count": 17,
     "metadata": {},
     "output_type": "execute_result"
    }
   ],
   "source": [
    "# 평균이 175, 표준편차가 15인 정규분포에서 누적확률이 0.7475인 확률변수값을 반환합니다.\n",
    "stats.norm.ppf(q = 0.7475, loc = 175, scale = 15)"
   ]
  },
  {
   "cell_type": "code",
   "execution_count": 18,
   "id": "31908788",
   "metadata": {
    "ExecuteTime": {
     "end_time": "2022-06-11T04:54:13.571087Z",
     "start_time": "2022-06-11T04:54:13.566055Z"
    }
   },
   "outputs": [
    {
     "data": {
      "text/plain": [
       "184.99815093614745"
      ]
     },
     "execution_count": 18,
     "metadata": {},
     "output_type": "execute_result"
    }
   ],
   "source": [
    "# 평균이 175, 표준편차가 10인 정규분포에서 누적확률이 0.8413인 확률변수값을 반환합니다.\n",
    "stats.norm.ppf(q = 0.8413, loc = 175, scale = 10)"
   ]
  },
  {
   "cell_type": "code",
   "execution_count": 19,
   "id": "9934502b",
   "metadata": {
    "ExecuteTime": {
     "end_time": "2022-06-11T04:54:13.576804Z",
     "start_time": "2022-06-11T04:54:13.573157Z"
    },
    "scrolled": true
   },
   "outputs": [
    {
     "data": {
      "text/plain": [
       "184.99538607485886"
      ]
     },
     "execution_count": 19,
     "metadata": {},
     "output_type": "execute_result"
    }
   ],
   "source": [
    "# 평균이 175, 표준편차가 5인 정규분포에서 누적확률이 0.9772인 확률변수값을 반환합니다.\n",
    "stats.norm.ppf(q = 0.9772, loc = 175, scale = 5)"
   ]
  },
  {
   "cell_type": "code",
   "execution_count": 20,
   "id": "05fae632",
   "metadata": {
    "ExecuteTime": {
     "end_time": "2022-06-11T04:54:13.583811Z",
     "start_time": "2022-06-11T04:54:13.578335Z"
    }
   },
   "outputs": [
    {
     "data": {
      "text/plain": [
       "183.22426813475735"
      ]
     },
     "execution_count": 20,
     "metadata": {},
     "output_type": "execute_result"
    }
   ],
   "source": [
    "# (재미삼아) 평균이 175, 표준편차가 5인 정규분포에서 상위 5%인 남자의 키를 확인합니다.\n",
    "stats.norm.ppf(q = 0.95, loc = 175, scale = 5)"
   ]
  },
  {
   "cell_type": "code",
   "execution_count": 21,
   "id": "445ac26f",
   "metadata": {
    "ExecuteTime": {
     "end_time": "2022-06-11T04:54:13.590391Z",
     "start_time": "2022-06-11T04:54:13.586216Z"
    }
   },
   "outputs": [
    {
     "data": {
      "text/plain": [
       "186.6317393702042"
      ]
     },
     "execution_count": 21,
     "metadata": {},
     "output_type": "execute_result"
    }
   ],
   "source": [
    "# (재미삼아) 평균이 175, 표준편차가 5인 정규분포에서 상위 1%인 남자의 키를 확인합니다.\n",
    "stats.norm.ppf(q = 0.99, loc = 175, scale = 5)"
   ]
  },
  {
   "cell_type": "markdown",
   "id": "da3303d8",
   "metadata": {},
   "source": [
    "### 왜도와 첨도"
   ]
  },
  {
   "cell_type": "code",
   "execution_count": 22,
   "id": "9bd19016",
   "metadata": {
    "ExecuteTime": {
     "end_time": "2022-06-11T04:54:13.595778Z",
     "start_time": "2022-06-11T04:54:13.592003Z"
    }
   },
   "outputs": [
    {
     "data": {
      "text/plain": [
       "-0.03668062034777025"
      ]
     },
     "execution_count": 22,
     "metadata": {},
     "output_type": "execute_result"
    }
   ],
   "source": [
    "# 왜도로 확률밀도곡선의 중심이 한 쪽으로 치우친 정도를 알 수 있습니다.\n",
    "stats.skew(a = heights)"
   ]
  },
  {
   "cell_type": "code",
   "execution_count": 23,
   "id": "ac0aa801",
   "metadata": {
    "ExecuteTime": {
     "end_time": "2022-06-11T04:54:13.601423Z",
     "start_time": "2022-06-11T04:54:13.597568Z"
    }
   },
   "outputs": [
    {
     "data": {
      "text/plain": [
       "-0.07067499523641407"
      ]
     },
     "execution_count": 23,
     "metadata": {},
     "output_type": "execute_result"
    }
   ],
   "source": [
    "# 첨도로 확률밀도곡선의 봉우리가 뾰족한지 완만한지 여부를 알 수 있습니다.\n",
    "stats.kurtosis(a = heights)"
   ]
  },
  {
   "cell_type": "markdown",
   "id": "8c9d4782",
   "metadata": {},
   "source": [
    "### 정규성 검정"
   ]
  },
  {
   "cell_type": "code",
   "execution_count": 24,
   "id": "b59df173",
   "metadata": {
    "ExecuteTime": {
     "end_time": "2022-06-11T04:54:13.607282Z",
     "start_time": "2022-06-11T04:54:13.603540Z"
    }
   },
   "outputs": [
    {
     "data": {
      "text/plain": [
       "ShapiroResult(statistic=0.9995919466018677, pvalue=0.396047443151474)"
      ]
     },
     "execution_count": 24,
     "metadata": {},
     "output_type": "execute_result"
    }
   ],
   "source": [
    "# 5천 건 이하인 데이터의 정규성 검정은 사피로-윌크 검정을 실행합니다.\n",
    "stats.shapiro(x = heights)"
   ]
  },
  {
   "cell_type": "code",
   "execution_count": 25,
   "id": "e80e5b8e",
   "metadata": {
    "ExecuteTime": {
     "end_time": "2022-06-11T04:54:13.611670Z",
     "start_time": "2022-06-11T04:54:13.608971Z"
    }
   },
   "outputs": [],
   "source": [
    "# 5천 건을 초과하는 가상의 키 데이터를 생성합니다.\n",
    "np.random.seed(seed = 1234)\n",
    "heights = stats.norm.rvs(loc = 175, scale = 5, size = 10000)"
   ]
  },
  {
   "cell_type": "code",
   "execution_count": 26,
   "id": "a1e0358e",
   "metadata": {
    "ExecuteTime": {
     "end_time": "2022-06-11T04:54:13.618367Z",
     "start_time": "2022-06-11T04:54:13.613274Z"
    }
   },
   "outputs": [
    {
     "name": "stderr",
     "output_type": "stream",
     "text": [
      "/Users/hdsceokevin/ve310/lib/python3.10/site-packages/scipy/stats/_morestats.py:1816: UserWarning: p-value may not be accurate for N > 5000.\n",
      "  warnings.warn(\"p-value may not be accurate for N > 5000.\")\n"
     ]
    },
    {
     "data": {
      "text/plain": [
       "ShapiroResult(statistic=0.9996193051338196, pvalue=0.04346244037151337)"
      ]
     },
     "execution_count": 26,
     "metadata": {},
     "output_type": "execute_result"
    }
   ],
   "source": [
    "# shapiro() 함수에 5천 건을 초과하는 데이터를 넣고 실행하면 반환되는 \n",
    "# 유의확률이 정확하지 않다는 경고를 출력합니다.\n",
    "stats.shapiro(x = heights)"
   ]
  },
  {
   "cell_type": "code",
   "execution_count": 27,
   "id": "4e0a8997",
   "metadata": {
    "ExecuteTime": {
     "end_time": "2022-06-11T04:54:13.625924Z",
     "start_time": "2022-06-11T04:54:13.620393Z"
    }
   },
   "outputs": [
    {
     "data": {
      "text/plain": [
       "AndersonResult(statistic=0.35265258232357155, critical_values=array([0.576, 0.656, 0.787, 0.918, 1.092]), significance_level=array([15. , 10. ,  5. ,  2.5,  1. ]), fit_result=  params: FitParams(loc=175.08063230023598, scale=4.9761483416071846)\n",
       " success: True\n",
       " message: '`anderson` successfully fit the distribution to the data.')"
      ]
     },
     "execution_count": 27,
     "metadata": {},
     "output_type": "execute_result"
    }
   ],
   "source": [
    "# 5천 건을 초과하는 데이터의 정규성 검정은 앤더슨-달링 검정을 실행합니다.\n",
    "# [참고] 유의확률 대신 임계치를 반환합니다.\n",
    "stats.anderson(x = heights)"
   ]
  },
  {
   "cell_type": "markdown",
   "id": "835ee3f4",
   "metadata": {},
   "source": [
    "### 데이터 표준화"
   ]
  },
  {
   "cell_type": "code",
   "execution_count": 28,
   "id": "b84b5d64",
   "metadata": {},
   "outputs": [],
   "source": [
    "# 데이터를 표준화하는 함수를 생성합니다.\n",
    "def scale(x, loc, scale):\n",
    "    return (x - loc) / scale"
   ]
  },
  {
   "cell_type": "code",
   "execution_count": 29,
   "id": "54384acc",
   "metadata": {
    "ExecuteTime": {
     "end_time": "2022-06-11T04:54:13.630922Z",
     "start_time": "2022-06-11T04:54:13.627709Z"
    }
   },
   "outputs": [
    {
     "data": {
      "text/plain": [
       "0.6666666666666666"
      ]
     },
     "execution_count": 29,
     "metadata": {},
     "output_type": "execute_result"
    }
   ],
   "source": [
    "# 평균이 175, 표준편차가 15인 정규분포에서 확률변수값 185의 표준화된 값을 반환합니다.\n",
    "scale(x = 185, loc = 175, scale = 15)"
   ]
  },
  {
   "cell_type": "code",
   "execution_count": 30,
   "id": "b52125ed",
   "metadata": {
    "ExecuteTime": {
     "end_time": "2022-06-11T04:54:13.643201Z",
     "start_time": "2022-06-11T04:54:13.639939Z"
    }
   },
   "outputs": [
    {
     "data": {
      "text/plain": [
       "1.0"
      ]
     },
     "execution_count": 30,
     "metadata": {},
     "output_type": "execute_result"
    }
   ],
   "source": [
    "# 평균이 175, 표준편차가 10인 정규분포에서 확률변수값 185의 표준화된 값을 반환합니다.\n",
    "scale(x = 185, loc = 175, scale = 10)"
   ]
  },
  {
   "cell_type": "code",
   "execution_count": 31,
   "id": "eacf45da",
   "metadata": {
    "ExecuteTime": {
     "end_time": "2022-06-11T04:54:13.647582Z",
     "start_time": "2022-06-11T04:54:13.644818Z"
    }
   },
   "outputs": [
    {
     "data": {
      "text/plain": [
       "2.0"
      ]
     },
     "execution_count": 31,
     "metadata": {},
     "output_type": "execute_result"
    }
   ],
   "source": [
    "# 평균이 175, 표준편차가 5인 정규분포에서 확률변수값 185의 표준화된 값을 반환합니다.\n",
    "scale(x = 185, loc = 175, scale = 5)"
   ]
  },
  {
   "cell_type": "markdown",
   "id": "006fe62e",
   "metadata": {},
   "source": [
    "### [참고] 이상치 탐지 방법 비교"
   ]
  },
  {
   "cell_type": "code",
   "execution_count": 32,
   "id": "b9a21049",
   "metadata": {
    "ExecuteTime": {
     "end_time": "2022-06-11T04:54:13.658357Z",
     "start_time": "2022-06-11T04:54:13.654154Z"
    }
   },
   "outputs": [],
   "source": [
    "# 표준화된 데이터의 절대값이 3을 초과하는 인덱스를 locs에 할당합니다.\n",
    "locs = np.where(np.abs(scale(x = heights, loc = 175, scale = 5)) > 3)"
   ]
  },
  {
   "cell_type": "code",
   "execution_count": 33,
   "id": "d0f2db98",
   "metadata": {
    "ExecuteTime": {
     "end_time": "2022-06-11T04:54:13.663505Z",
     "start_time": "2022-06-11T04:54:13.659984Z"
    }
   },
   "outputs": [
    {
     "data": {
      "text/plain": [
       "array([157.1824167 , 190.62817574, 190.54817675, 155.59550794,\n",
       "       158.61347962, 191.10284213, 158.83247735, 157.82590423,\n",
       "       159.91806595, 159.24619206, 190.00573485, 158.67898086,\n",
       "       157.0030016 , 158.68108413, 159.25844267, 191.43893949,\n",
       "       158.34281695, 155.70665632, 190.18821417, 159.73908333])"
      ]
     },
     "execution_count": 33,
     "metadata": {},
     "output_type": "execute_result"
    }
   ],
   "source": [
    "# 평균과 표준편차 기준에서 이상치로 보이는 원소를 출력합니다.\n",
    "heights[locs]"
   ]
  },
  {
   "cell_type": "code",
   "execution_count": 34,
   "id": "6e968273",
   "metadata": {
    "ExecuteTime": {
     "end_time": "2022-06-11T04:54:13.668139Z",
     "start_time": "2022-06-11T04:54:13.665589Z"
    }
   },
   "outputs": [],
   "source": [
    "# 중위수를 med에 할당합니다.\n",
    "med = np.median(a = heights)"
   ]
  },
  {
   "cell_type": "code",
   "execution_count": 35,
   "id": "a22e97c9",
   "metadata": {
    "ExecuteTime": {
     "end_time": "2022-06-11T04:54:13.673163Z",
     "start_time": "2022-06-11T04:54:13.670418Z"
    }
   },
   "outputs": [],
   "source": [
    "# 중위수절대편차를 mad에 할당합니다.\n",
    "mad = robust.mad(a = heights)"
   ]
  },
  {
   "cell_type": "code",
   "execution_count": 36,
   "id": "545dc7b0",
   "metadata": {
    "ExecuteTime": {
     "end_time": "2022-06-11T04:54:13.676993Z",
     "start_time": "2022-06-11T04:54:13.674673Z"
    }
   },
   "outputs": [],
   "source": [
    "# 중위수와 중위수절대편차로 정규화된 값이 3을 초과하는 인덱스를 locs에 할당합니다.\n",
    "locs = np.where(np.abs((heights - med) / mad) > 3)"
   ]
  },
  {
   "cell_type": "code",
   "execution_count": 37,
   "id": "ff054968",
   "metadata": {
    "ExecuteTime": {
     "end_time": "2022-06-11T04:54:13.681847Z",
     "start_time": "2022-06-11T04:54:13.678569Z"
    }
   },
   "outputs": [
    {
     "data": {
      "text/plain": [
       "array([157.1824167 , 190.62817574, 190.54817675, 155.59550794,\n",
       "       158.61347962, 191.10284213, 160.27713467, 158.83247735,\n",
       "       160.27904102, 157.82590423, 160.07168122, 159.91806595,\n",
       "       159.24619206, 190.00573485, 158.67898086, 157.0030016 ,\n",
       "       160.03098707, 158.68108413, 160.14227944, 159.25844267,\n",
       "       191.43893949, 158.34281695, 155.70665632, 190.18821417,\n",
       "       160.2358403 , 159.73908333])"
      ]
     },
     "execution_count": 37,
     "metadata": {},
     "output_type": "execute_result"
    }
   ],
   "source": [
    "# 중위수와 중위수절대편차 기준에서 이상치로 보이는 원소를 출력합니다.\n",
    "heights[locs]"
   ]
  },
  {
   "cell_type": "markdown",
   "id": "9597fc48",
   "metadata": {},
   "source": [
    "## End of Document"
   ]
  }
 ],
 "metadata": {
  "kernelspec": {
   "display_name": "Python 3",
   "language": "python",
   "name": "python3"
  },
  "language_info": {
   "codemirror_mode": {
    "name": "ipython",
    "version": 3
   },
   "file_extension": ".py",
   "mimetype": "text/x-python",
   "name": "python",
   "nbconvert_exporter": "python",
   "pygments_lexer": "ipython3",
   "version": "3.10.9"
  },
  "toc": {
   "base_numbering": 1,
   "nav_menu": {},
   "number_sections": false,
   "sideBar": true,
   "skip_h1_title": false,
   "title_cell": "Table of Contents",
   "title_sidebar": "Contents",
   "toc_cell": false,
   "toc_position": {},
   "toc_section_display": true,
   "toc_window_display": false
  },
  "varInspector": {
   "cols": {
    "lenName": 16,
    "lenType": 16,
    "lenVar": 40
   },
   "kernels_config": {
    "python": {
     "delete_cmd_postfix": "",
     "delete_cmd_prefix": "del ",
     "library": "var_list.py",
     "varRefreshCmd": "print(var_dic_list())"
    },
    "r": {
     "delete_cmd_postfix": ") ",
     "delete_cmd_prefix": "rm(",
     "library": "var_list.r",
     "varRefreshCmd": "cat(var_dic_list()) "
    }
   },
   "types_to_exclude": [
    "module",
    "function",
    "builtin_function_or_method",
    "instance",
    "_Feature"
   ],
   "window_display": false
  }
 },
 "nbformat": 4,
 "nbformat_minor": 5
}
