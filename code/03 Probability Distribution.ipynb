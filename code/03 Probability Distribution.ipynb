{
 "cells": [
  {
   "cell_type": "markdown",
   "id": "05bd0878",
   "metadata": {},
   "source": [
    "<p style=\"font-family:verdana;font-size:200%;text-align:center;\">Probability Distribution</p>"
   ]
  },
  {
   "cell_type": "markdown",
   "id": "26abcdee",
   "metadata": {},
   "source": [
    "### 정규분포를 따르는 임의의 수 생성"
   ]
  },
  {
   "cell_type": "code",
   "execution_count": null,
   "id": "51f76770",
   "metadata": {},
   "outputs": [],
   "source": [
    "# 관련 라이브러리를 호출합니다.\n",
    "import numpy as np\n",
    "import pandas as pd\n",
    "from scipy import stats"
   ]
  },
  {
   "cell_type": "code",
   "execution_count": null,
   "id": "9e594389",
   "metadata": {},
   "outputs": [],
   "source": [
    "# 시드를 고정합니다.\n",
    "np.random.seed(seed = 1234)"
   ]
  },
  {
   "cell_type": "code",
   "execution_count": null,
   "id": "64ee3d1c",
   "metadata": {},
   "outputs": [],
   "source": [
    "# 평균이 175, 표준편차가 5인 정규분포를 따르는 임의의 수를 생성합니다.\n",
    "heights = stats.norm.rvs(loc = 175, scale = 5, size = 5000)"
   ]
  },
  {
   "cell_type": "code",
   "execution_count": null,
   "id": "2d10e249",
   "metadata": {},
   "outputs": [],
   "source": [
    "# heights를 출력합니다.\n",
    "heights"
   ]
  },
  {
   "cell_type": "markdown",
   "id": "e6a9cef9",
   "metadata": {},
   "source": [
    "### 정규분포 확률밀도 반환"
   ]
  },
  {
   "cell_type": "code",
   "execution_count": null,
   "id": "56bf2c1d",
   "metadata": {},
   "outputs": [],
   "source": [
    "# 평균이 175, 표준편차가 15인 정규분포에서 확률변수값 175의 확률밀도(높이)를 반환합니다.\n",
    "stats.norm.pdf(x = 175, loc = 175, scale = 15)"
   ]
  },
  {
   "cell_type": "code",
   "execution_count": null,
   "id": "c1f42338",
   "metadata": {},
   "outputs": [],
   "source": [
    "# 평균이 175, 표준편차가 10인 정규분포에서 확률변수값 175의 확률밀도(높이)를 반환합니다.\n",
    "stats.norm.pdf(x = 175, loc = 175, scale = 10)"
   ]
  },
  {
   "cell_type": "code",
   "execution_count": null,
   "id": "924ee71a",
   "metadata": {},
   "outputs": [],
   "source": [
    "# 평균이 175, 표준편차가 5인 정규분포에서 확률변수값 175의 확률밀도(높이)를 반환합니다.\n",
    "stats.norm.pdf(x = 175, loc = 175, scale = 5)"
   ]
  },
  {
   "cell_type": "markdown",
   "id": "4897e1a7",
   "metadata": {},
   "source": [
    "### [참고] 다수의 정규분포 확률밀도 곡선 겹쳐서 그리기"
   ]
  },
  {
   "cell_type": "code",
   "execution_count": null,
   "id": "e8dc8c9d",
   "metadata": {},
   "outputs": [],
   "source": [
    "# 관련 모듈을 호출합니다.\n",
    "from GraphicSetting import *"
   ]
  },
  {
   "cell_type": "code",
   "execution_count": null,
   "id": "299d77d5",
   "metadata": {},
   "outputs": [],
   "source": [
    "# (가상의 키 데이터 생성을 위한) 확률변수값을 1차원 배열로 생성합니다.\n",
    "x = np.arange(start = 130, stop = 221, step = 0.1)"
   ]
  },
  {
   "cell_type": "code",
   "execution_count": null,
   "id": "78c7e39e",
   "metadata": {},
   "outputs": [],
   "source": [
    "# 확률변수값에 대한 다양한 정규분포 확률밀도(높이)를 생성합니다.\n",
    "nd1 = stats.norm.pdf(x = x, loc = 175, scale = 15)\n",
    "nd2 = stats.norm.pdf(x = x, loc = 175, scale = 10)\n",
    "nd3 = stats.norm.pdf(x = x, loc = 175, scale = 5)"
   ]
  },
  {
   "cell_type": "code",
   "execution_count": null,
   "id": "b01ec2c9",
   "metadata": {},
   "outputs": [],
   "source": [
    "# 정규분포 확률밀도 곡선을 겹쳐서 그립니다.\n",
    "sns.lineplot(x = x, y = nd1)\n",
    "sns.lineplot(x = x, y = nd2)\n",
    "sns.lineplot(x = x, y = nd3)\n",
    "plt.title(label = 'Normal Distribution Curve')\n",
    "plt.xticks(ticks = np.arange(start = 130, stop = 221, step = 15));"
   ]
  },
  {
   "cell_type": "markdown",
   "id": "39313ee3",
   "metadata": {},
   "source": [
    "### 정규분포 누적확률 반환"
   ]
  },
  {
   "cell_type": "code",
   "execution_count": null,
   "id": "30078c75",
   "metadata": {},
   "outputs": [],
   "source": [
    "# 평균이 175, 표준편차가 15인 정규분포에서 확률변수값 185의 누적확률을 반환합니다.\n",
    "stats.norm.cdf(x = 185, loc = 175, scale = 15)"
   ]
  },
  {
   "cell_type": "code",
   "execution_count": null,
   "id": "d2587dbe",
   "metadata": {},
   "outputs": [],
   "source": [
    "# 평균이 175, 표준편차가 10인 정규분포에서 확률변수값 185의 누적확률을 반환합니다.\n",
    "stats.norm.cdf(x = 185, loc = 175, scale = 10)"
   ]
  },
  {
   "cell_type": "code",
   "execution_count": null,
   "id": "14ff7e32",
   "metadata": {
    "scrolled": true
   },
   "outputs": [],
   "source": [
    "# 평균이 175, 표준편차가 5인 정규분포에서 확률변수값 185의 누적확률을 반환합니다.\n",
    "stats.norm.cdf(x = 185, loc = 175, scale = 5)"
   ]
  },
  {
   "cell_type": "code",
   "execution_count": null,
   "id": "c42fae6d",
   "metadata": {},
   "outputs": [],
   "source": [
    "# 정규분포 확률밀도 곡선을 겹쳐서 그리고, 빨간색 세로선을 추가합니다.\n",
    "sns.lineplot(x = x, y = nd1)\n",
    "sns.lineplot(x = x, y = nd2)\n",
    "sns.lineplot(x = x, y = nd3)\n",
    "plt.axvline(x = 185, color = 'red')\n",
    "plt.title(label = 'Normal Distribution Curve')\n",
    "plt.xticks(ticks = np.arange(start = 130, stop = 221, step = 15));"
   ]
  },
  {
   "cell_type": "markdown",
   "id": "ed3e86a1",
   "metadata": {},
   "source": [
    "### 정규분포 확률변수값 반환"
   ]
  },
  {
   "cell_type": "code",
   "execution_count": null,
   "id": "5f7766ff",
   "metadata": {},
   "outputs": [],
   "source": [
    "# 평균이 175, 표준편차가 15인 정규분포에서 누적확률이 0.7475인 확률변수값을 반환합니다.\n",
    "stats.norm.ppf(q = 0.7475, loc = 175, scale = 15)"
   ]
  },
  {
   "cell_type": "code",
   "execution_count": null,
   "id": "31908788",
   "metadata": {},
   "outputs": [],
   "source": [
    "# 평균이 175, 표준편차가 10인 정규분포에서 누적확률이 0.8413인 확률변수값을 반환합니다.\n",
    "stats.norm.ppf(q = 0.8413, loc = 175, scale = 10)"
   ]
  },
  {
   "cell_type": "code",
   "execution_count": null,
   "id": "9934502b",
   "metadata": {
    "scrolled": true
   },
   "outputs": [],
   "source": [
    "# 평균이 175, 표준편차가 5인 정규분포에서 누적확률이 0.9772인 확률변수값을 반환합니다.\n",
    "stats.norm.ppf(q = 0.9772, loc = 175, scale = 5)"
   ]
  },
  {
   "cell_type": "code",
   "execution_count": null,
   "id": "05fae632",
   "metadata": {},
   "outputs": [],
   "source": [
    "# (재미삼아) 평균이 175, 표준편차가 5인 정규분포에서 상위 5%인 남자의 키를 확인합니다.\n",
    "stats.norm.ppf(q = 0.95, loc = 175, scale = 5)"
   ]
  },
  {
   "cell_type": "code",
   "execution_count": null,
   "id": "445ac26f",
   "metadata": {},
   "outputs": [],
   "source": [
    "# (재미삼아) 평균이 175, 표준편차가 5인 정규분포에서 상위 1%인 남자의 키를 확인합니다.\n",
    "stats.norm.ppf(q = 0.99, loc = 175, scale = 5)"
   ]
  },
  {
   "cell_type": "markdown",
   "id": "da3303d8",
   "metadata": {},
   "source": [
    "### 왜도와 첨도"
   ]
  },
  {
   "cell_type": "code",
   "execution_count": null,
   "id": "20f48056",
   "metadata": {},
   "outputs": [],
   "source": [
    "# 배열(np.ndarray)을 시리즈(pd.Series)로 변환합니다.\n",
    "heights = pd.Series(data = heights)"
   ]
  },
  {
   "cell_type": "code",
   "execution_count": null,
   "id": "14801550",
   "metadata": {},
   "outputs": [],
   "source": [
    "# heights의 처음 5개를 출력합니다.\n",
    "heights.head()"
   ]
  },
  {
   "cell_type": "code",
   "execution_count": null,
   "id": "f098ea6a",
   "metadata": {},
   "outputs": [],
   "source": [
    "# heights의 왜도를 확인합니다.\n",
    "heights.skew()"
   ]
  },
  {
   "cell_type": "code",
   "execution_count": null,
   "id": "1f85ba86",
   "metadata": {},
   "outputs": [],
   "source": [
    "# heights의 첨도를 확인합니다.\n",
    "heights.kurtosis()"
   ]
  },
  {
   "cell_type": "markdown",
   "id": "8c9d4782",
   "metadata": {},
   "source": [
    "### 정규성 검정"
   ]
  },
  {
   "cell_type": "code",
   "execution_count": null,
   "id": "b59df173",
   "metadata": {},
   "outputs": [],
   "source": [
    "# 5천 건 이하인 데이터의 정규성 검정은 '사피로-윌크 검정'으로 실행합니다.\n",
    "stats.shapiro(x = heights)"
   ]
  },
  {
   "cell_type": "code",
   "execution_count": null,
   "id": "e80e5b8e",
   "metadata": {},
   "outputs": [],
   "source": [
    "# 5천 건을 초과하는 가상의 키 데이터를 생성합니다.\n",
    "np.random.seed(seed = 1234)\n",
    "heights = stats.norm.rvs(loc = 175, scale = 5, size = 10000)"
   ]
  },
  {
   "cell_type": "code",
   "execution_count": null,
   "id": "a1e0358e",
   "metadata": {},
   "outputs": [],
   "source": [
    "# 5천 건을 초과하는 데이터로 '사피로-윌크 검정'을 실행하면 반환되는 유의확률이 \n",
    "# 정확하지 않다는 경고가 출력됩니다.\n",
    "stats.shapiro(x = heights)"
   ]
  },
  {
   "cell_type": "code",
   "execution_count": null,
   "id": "ca34a603",
   "metadata": {},
   "outputs": [],
   "source": [
    "# 5천 건을 초과하는 데이터의 정규성 검정은 '앤더슨-달링 검정'으로 대신합니다.\n",
    "stats.anderson(x = heights)"
   ]
  },
  {
   "cell_type": "markdown",
   "id": "835ee3f4",
   "metadata": {},
   "source": [
    "### 데이터 표준화"
   ]
  },
  {
   "cell_type": "code",
   "execution_count": null,
   "id": "54384acc",
   "metadata": {},
   "outputs": [],
   "source": [
    "# 평균이 175, 표준편차가 15인 정규분포에서 확률변수값 185의 표준화된 값을 반환합니다.\n",
    "(185 - 175) / 15"
   ]
  },
  {
   "cell_type": "code",
   "execution_count": null,
   "id": "b52125ed",
   "metadata": {},
   "outputs": [],
   "source": [
    "# 평균이 175, 표준편차가 10인 정규분포에서 확률변수값 185의 표준화된 값을 반환합니다.\n",
    "(185 - 175) / 10"
   ]
  },
  {
   "cell_type": "code",
   "execution_count": null,
   "id": "eacf45da",
   "metadata": {},
   "outputs": [],
   "source": [
    "# 평균이 175, 표준편차가 5인 정규분포에서 확률변수값 185의 표준화된 값을 반환합니다.\n",
    "(185 - 175) / 5"
   ]
  },
  {
   "cell_type": "code",
   "execution_count": null,
   "id": "136cad63",
   "metadata": {},
   "outputs": [],
   "source": [
    "# '홍길동'의 영어와 수학의 표준화된 점수를 반환합니다.\n",
    "print('영어 표준화된 점수:', (90 - 75) / 15)\n",
    "print('수학 표준화된 점수:', (55 - 40) / 10)"
   ]
  },
  {
   "cell_type": "markdown",
   "id": "9597fc48",
   "metadata": {},
   "source": [
    "<p style=\"font-family:verdana;font-size:200%;text-align:center;\">End of Document</p>"
   ]
  }
 ],
 "metadata": {
  "kernelspec": {
   "display_name": "Python 3 (ipykernel)",
   "language": "python",
   "name": "python3"
  },
  "language_info": {
   "codemirror_mode": {
    "name": "ipython",
    "version": 3
   },
   "file_extension": ".py",
   "mimetype": "text/x-python",
   "name": "python",
   "nbconvert_exporter": "python",
   "pygments_lexer": "ipython3",
   "version": "3.9.6"
  },
  "toc": {
   "base_numbering": 1,
   "nav_menu": {},
   "number_sections": true,
   "sideBar": true,
   "skip_h1_title": false,
   "title_cell": "Table of Contents",
   "title_sidebar": "Contents",
   "toc_cell": false,
   "toc_position": {},
   "toc_section_display": true,
   "toc_window_display": true
  },
  "varInspector": {
   "cols": {
    "lenName": 16,
    "lenType": 16,
    "lenVar": 40
   },
   "kernels_config": {
    "python": {
     "delete_cmd_postfix": "",
     "delete_cmd_prefix": "del ",
     "library": "var_list.py",
     "varRefreshCmd": "print(var_dic_list())"
    },
    "r": {
     "delete_cmd_postfix": ") ",
     "delete_cmd_prefix": "rm(",
     "library": "var_list.r",
     "varRefreshCmd": "cat(var_dic_list()) "
    }
   },
   "types_to_exclude": [
    "module",
    "function",
    "builtin_function_or_method",
    "instance",
    "_Feature"
   ],
   "window_display": false
  }
 },
 "nbformat": 4,
 "nbformat_minor": 5
}
