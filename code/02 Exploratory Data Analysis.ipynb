{
 "cells": [
  {
   "cell_type": "markdown",
   "id": "67809a6e",
   "metadata": {},
   "source": [
    "## 탐색적 데이터 분석"
   ]
  },
  {
   "cell_type": "markdown",
   "id": "84996d04",
   "metadata": {},
   "source": [
    "### 관련 라이브러리 호출"
   ]
  },
  {
   "cell_type": "code",
   "execution_count": null,
   "id": "54a2472d",
   "metadata": {
    "ExecuteTime": {
     "end_time": "2022-06-11T04:53:24.635847Z",
     "start_time": "2022-06-11T04:53:24.338653Z"
    }
   },
   "outputs": [],
   "source": [
    "# 관련 라이브러리를 호출합니다.\n",
    "import os\n",
    "import joblib\n",
    "import numpy as np\n",
    "import pandas as pd"
   ]
  },
  {
   "cell_type": "code",
   "execution_count": null,
   "id": "42a7253a",
   "metadata": {},
   "outputs": [],
   "source": [
    "# 시각화 관련 라이브러리를 호출합니다.\n",
    "import seaborn as sns\n",
    "import matplotlib.pyplot as plt"
   ]
  },
  {
   "cell_type": "markdown",
   "id": "314d7b67",
   "metadata": {},
   "source": [
    "### 그래픽 파라미터 설정"
   ]
  },
  {
   "cell_type": "code",
   "execution_count": null,
   "id": "8ca52b1a",
   "metadata": {
    "ExecuteTime": {
     "end_time": "2022-06-11T04:53:26.517711Z",
     "start_time": "2022-06-11T04:53:26.515092Z"
    }
   },
   "outputs": [],
   "source": [
    "# 한글폰트와 글자 크기를 설정합니다.\n",
    "plt.rc(group = 'font', family = 'Gowun Dodum', size = 10)"
   ]
  },
  {
   "cell_type": "code",
   "execution_count": null,
   "id": "2635e18e",
   "metadata": {
    "ExecuteTime": {
     "end_time": "2022-06-11T04:53:26.511787Z",
     "start_time": "2022-06-11T04:53:26.509027Z"
    }
   },
   "outputs": [],
   "source": [
    "# 그래프 크기와 해상도를 설정합니다.\n",
    "plt.rc(group = 'figure', figsize = (4, 4), dpi = 150)"
   ]
  },
  {
   "cell_type": "code",
   "execution_count": null,
   "id": "c411a5c9",
   "metadata": {
    "ExecuteTime": {
     "end_time": "2022-06-11T04:53:26.521763Z",
     "start_time": "2022-06-11T04:53:26.519411Z"
    }
   },
   "outputs": [],
   "source": [
    "# 축에 유니코드 마이너스를 출력하지 않도록 설정합니다.\n",
    "plt.rc(group = 'axes', unicode_minus = False)"
   ]
  },
  {
   "cell_type": "code",
   "execution_count": null,
   "id": "9068d178",
   "metadata": {
    "ExecuteTime": {
     "end_time": "2022-06-11T04:53:26.526438Z",
     "start_time": "2022-06-11T04:53:26.523822Z"
    }
   },
   "outputs": [],
   "source": [
    "# 범례에 채우기 색과 테두리 색을 추가합니다.\n",
    "plt.rc(group = 'legend', frameon = True, fc = '1', ec = '0')"
   ]
  },
  {
   "cell_type": "markdown",
   "id": "0d227527",
   "metadata": {},
   "source": [
    "### 시각화 함수 모듈 제공"
   ]
  },
  {
   "cell_type": "code",
   "execution_count": null,
   "id": "aa6a3e05",
   "metadata": {},
   "outputs": [],
   "source": [
    "# 시각화 설정 모듈을 호출합니다.\n",
    "from GraphicSetting import *"
   ]
  },
  {
   "cell_type": "code",
   "execution_count": null,
   "id": "36ec584b",
   "metadata": {
    "ExecuteTime": {
     "end_time": "2022-06-11T04:53:26.794338Z",
     "start_time": "2022-06-11T04:53:26.528591Z"
    }
   },
   "outputs": [],
   "source": [
    "# 통계 분석 및 머신러닝 관련 모듈을 호출합니다.\n",
    "import HelloDataScience as hds"
   ]
  },
  {
   "cell_type": "markdown",
   "id": "2ee53f71",
   "metadata": {},
   "source": [
    "### 작업 경로 확인 및 변경"
   ]
  },
  {
   "cell_type": "code",
   "execution_count": null,
   "id": "c06b490b",
   "metadata": {
    "ExecuteTime": {
     "end_time": "2022-06-11T04:53:28.868064Z",
     "start_time": "2022-06-11T04:53:28.863608Z"
    }
   },
   "outputs": [],
   "source": [
    "# 현재 작업 경로를 확인합니다.\n",
    "os.getcwd()"
   ]
  },
  {
   "cell_type": "code",
   "execution_count": null,
   "id": "3d35493b",
   "metadata": {
    "ExecuteTime": {
     "end_time": "2022-06-11T04:53:28.872054Z",
     "start_time": "2022-06-11T04:53:28.869684Z"
    }
   },
   "outputs": [],
   "source": [
    "# data 폴더로 작업 경로를 변경합니다.\n",
    "os.chdir(path = '../data')"
   ]
  },
  {
   "cell_type": "code",
   "execution_count": null,
   "id": "e4b23720",
   "metadata": {},
   "outputs": [],
   "source": [
    "# 현재 작업 경로에 있는 폴더명과 파일명을 출력합니다.\n",
    "os.listdir()"
   ]
  },
  {
   "cell_type": "markdown",
   "id": "12b10704",
   "metadata": {},
   "source": [
    "### 실습 데이터셋 준비"
   ]
  },
  {
   "cell_type": "code",
   "execution_count": null,
   "id": "5a68ce28",
   "metadata": {
    "ExecuteTime": {
     "end_time": "2022-06-11T04:54:01.406595Z",
     "start_time": "2022-06-11T04:54:01.111566Z"
    }
   },
   "outputs": [],
   "source": [
    "# xlsx 파일을 읽고 데이터프레임 df를 생성합니다.\n",
    "df = pd.read_excel(io = 'Used_Cars_Price.xlsx')"
   ]
  },
  {
   "cell_type": "code",
   "execution_count": null,
   "id": "2d02cbbb",
   "metadata": {
    "ExecuteTime": {
     "end_time": "2022-06-11T04:54:01.412426Z",
     "start_time": "2022-06-11T04:54:01.408573Z"
    }
   },
   "outputs": [],
   "source": [
    "# df의 열별 자료형을 출력합니다.\n",
    "df.dtypes"
   ]
  },
  {
   "cell_type": "code",
   "execution_count": null,
   "id": "1af797cd",
   "metadata": {
    "ExecuteTime": {
     "end_time": "2022-06-11T04:54:01.420320Z",
     "start_time": "2022-06-11T04:54:01.416583Z"
    }
   },
   "outputs": [],
   "source": [
    "# z 파일을 읽고 데이터프레임 df를 생성합니다.\n",
    "df = joblib.load(filename = 'Used_Cars_Price.z')"
   ]
  },
  {
   "cell_type": "code",
   "execution_count": null,
   "id": "c79c2ae1",
   "metadata": {
    "ExecuteTime": {
     "end_time": "2022-06-11T04:54:01.426036Z",
     "start_time": "2022-06-11T04:54:01.421963Z"
    }
   },
   "outputs": [],
   "source": [
    "# df의 열별 자료형을 출력합니다.\n",
    "df.dtypes"
   ]
  },
  {
   "cell_type": "markdown",
   "id": "2c788752",
   "metadata": {},
   "source": [
    "### 목표변수 분포 확인"
   ]
  },
  {
   "cell_type": "code",
   "execution_count": null,
   "id": "2dc22ae7",
   "metadata": {
    "ExecuteTime": {
     "end_time": "2022-06-11T04:53:26.803723Z",
     "start_time": "2022-06-11T04:53:26.795984Z"
    }
   },
   "outputs": [],
   "source": [
    "# 목표변수의 최솟값과 최댓값을 확인합니다.\n",
    "df['Price'].describe()[['min', 'max']]"
   ]
  },
  {
   "cell_type": "code",
   "execution_count": null,
   "id": "822c43d1",
   "metadata": {},
   "outputs": [],
   "source": [
    "# 히스토그램을 그립니다.\n",
    "sns.histplot(data = df, x = 'Price', binwidth = 1000, \n",
    "             binrange = (4000, 16000), color = '0.8')\n",
    "plt.title(label = '중고차 가격 분포');"
   ]
  },
  {
   "cell_type": "code",
   "execution_count": null,
   "id": "94a817e4",
   "metadata": {
    "ExecuteTime": {
     "end_time": "2022-06-11T04:53:26.940301Z",
     "start_time": "2022-06-11T04:53:26.809698Z"
    }
   },
   "outputs": [],
   "source": [
    "# 커널 밀도 추정 곡선을 그립니다.\n",
    "sns.kdeplot(data = df, x = 'Price', color = '0.8', fill = True)\n",
    "plt.axvline(x = df['Price'].mean(), color = 'red', lw = 1, ls = '-')\n",
    "plt.axvline(x = df['Price'].median(), color = 'red', lw = 1, ls = '--')\n",
    "plt.title(label = '중고차 가격 분포');"
   ]
  },
  {
   "cell_type": "markdown",
   "id": "27884b7d",
   "metadata": {},
   "source": [
    "### 연속형 입력변수와 관계 파악"
   ]
  },
  {
   "cell_type": "code",
   "execution_count": null,
   "id": "23570855",
   "metadata": {
    "ExecuteTime": {
     "end_time": "2022-06-11T04:53:27.263416Z",
     "start_time": "2022-06-11T04:53:27.020182Z"
    }
   },
   "outputs": [],
   "source": [
    "# Age와 Price의 산점도를 그립니다.\n",
    "hds.plot_regression(data = df, x = 'Age', y = 'Price')"
   ]
  },
  {
   "cell_type": "code",
   "execution_count": null,
   "id": "52bc1625",
   "metadata": {
    "ExecuteTime": {
     "end_time": "2022-06-11T04:53:27.554158Z",
     "start_time": "2022-06-11T04:53:27.265947Z"
    }
   },
   "outputs": [],
   "source": [
    "# KM와 Price의 산점도를 그립니다.\n",
    "hds.plot_regression(data = df, x = 'KM', y = 'Price')"
   ]
  },
  {
   "cell_type": "code",
   "execution_count": null,
   "id": "ea47a299",
   "metadata": {
    "ExecuteTime": {
     "end_time": "2022-06-11T04:53:27.779619Z",
     "start_time": "2022-06-11T04:53:27.555890Z"
    }
   },
   "outputs": [],
   "source": [
    "# HP와 Price의 산점도를 그립니다.\n",
    "hds.plot_regression(data = df, x = 'HP', y = 'Price')"
   ]
  },
  {
   "cell_type": "code",
   "execution_count": null,
   "id": "5e12b635",
   "metadata": {
    "ExecuteTime": {
     "end_time": "2022-06-11T04:53:27.997568Z",
     "start_time": "2022-06-11T04:53:27.781133Z"
    }
   },
   "outputs": [],
   "source": [
    "# CC와 Price의 산점도를 그립니다.\n",
    "hds.plot_regression(data = df, x = 'CC', y = 'Price')"
   ]
  },
  {
   "cell_type": "code",
   "execution_count": null,
   "id": "9dad1554",
   "metadata": {
    "ExecuteTime": {
     "end_time": "2022-06-11T04:53:28.221875Z",
     "start_time": "2022-06-11T04:53:27.999354Z"
    }
   },
   "outputs": [],
   "source": [
    "# Doors와 Price의 산점도를 그립니다.\n",
    "hds.plot_regression(data = df, x = 'Doors', y = 'Price')"
   ]
  },
  {
   "cell_type": "code",
   "execution_count": null,
   "id": "477f6ef0",
   "metadata": {
    "ExecuteTime": {
     "end_time": "2022-06-11T04:53:28.234557Z",
     "start_time": "2022-06-11T04:53:28.230235Z"
    }
   },
   "outputs": [],
   "source": [
    "# Doors 원소별 빈도수를 확인합니다.\n",
    "df['Doors'].value_counts().sort_index()"
   ]
  },
  {
   "cell_type": "code",
   "execution_count": null,
   "id": "2ea16fb4",
   "metadata": {
    "ExecuteTime": {
     "end_time": "2022-06-11T04:53:28.476246Z",
     "start_time": "2022-06-11T04:53:28.236170Z"
    }
   },
   "outputs": [],
   "source": [
    "# Weight와 Price의 산점도를 그립니다.\n",
    "hds.plot_regression(data = df, x = 'Weight', y = 'Price')\n",
    "\n",
    "# 세로선을 추가합니다.\n",
    "plt.axvline(x = 1250, color = 'red', lw = 0.5, ls = '--');"
   ]
  },
  {
   "cell_type": "markdown",
   "id": "958df828",
   "metadata": {},
   "source": [
    "### 범주형 입력변수와 관계 파악"
   ]
  },
  {
   "cell_type": "code",
   "execution_count": null,
   "id": "83ab74e1",
   "metadata": {
    "ExecuteTime": {
     "end_time": "2022-06-11T04:53:28.614833Z",
     "start_time": "2022-06-11T04:53:28.478789Z"
    }
   },
   "outputs": [],
   "source": [
    "# FuelType 범주별 Price의 상자 수염 그림을 그립니다.\n",
    "hds.plot_box_group(data = df, x = 'FuelType', y = 'Price', pal = 'Pastel1')"
   ]
  },
  {
   "cell_type": "code",
   "execution_count": null,
   "id": "8c06163b",
   "metadata": {
    "ExecuteTime": {
     "end_time": "2022-06-11T04:53:28.732385Z",
     "start_time": "2022-06-11T04:53:28.617653Z"
    }
   },
   "outputs": [],
   "source": [
    "# MetColor 범주별 Price의 상자 수염 그림을 그립니다.\n",
    "hds.plot_box_group(data = df, x = 'MetColor', y = 'Price', pal = 'Pastel1')"
   ]
  },
  {
   "cell_type": "code",
   "execution_count": null,
   "id": "1f9d0948",
   "metadata": {
    "ExecuteTime": {
     "end_time": "2022-06-11T04:53:28.855157Z",
     "start_time": "2022-06-11T04:53:28.734553Z"
    }
   },
   "outputs": [],
   "source": [
    "# Automatic 범주별 Price의 상자 수염 그림을 그립니다.\n",
    "hds.plot_box_group(data = df, x = 'Automatic', y = 'Price', pal = 'Pastel1')"
   ]
  },
  {
   "cell_type": "markdown",
   "id": "88a12921",
   "metadata": {},
   "source": [
    "### 불필요한 행 삭제"
   ]
  },
  {
   "cell_type": "code",
   "execution_count": null,
   "id": "ecf984c8",
   "metadata": {
    "ExecuteTime": {
     "end_time": "2022-06-11T04:53:28.861191Z",
     "start_time": "2022-06-11T04:53:28.857223Z"
    }
   },
   "outputs": [],
   "source": [
    "# 시각화 결과 불필요하다고 판단하는 일부 행을 삭제합니다.\n",
    "df = df[df['Doors'].ne(2) & df['Weight'].le(1250)]"
   ]
  },
  {
   "cell_type": "code",
   "execution_count": null,
   "id": "0cc23d27",
   "metadata": {},
   "outputs": [],
   "source": [
    "# df의 행이름을 초기화합니다.\n",
    "df = df.reset_index(drop = True)"
   ]
  },
  {
   "cell_type": "code",
   "execution_count": null,
   "id": "1f808272",
   "metadata": {},
   "outputs": [],
   "source": [
    "# df의 행 개수를 확인합니다.\n",
    "df.shape[0]"
   ]
  },
  {
   "cell_type": "markdown",
   "id": "445234b2",
   "metadata": {},
   "source": [
    "### 외부 파일로 저장"
   ]
  },
  {
   "cell_type": "code",
   "execution_count": null,
   "id": "f5ecf0d8",
   "metadata": {
    "ExecuteTime": {
     "end_time": "2022-06-11T04:53:29.285939Z",
     "start_time": "2022-06-11T04:53:29.269110Z"
    }
   },
   "outputs": [],
   "source": [
    "# df를 z 파일로 저장합니다.\n",
    "joblib.dump(value = df, filename = 'Used_Cars_Price.z')"
   ]
  },
  {
   "cell_type": "markdown",
   "id": "adb799d0",
   "metadata": {},
   "source": [
    "## End of Document"
   ]
  }
 ],
 "metadata": {
  "kernelspec": {
   "display_name": "Python 3",
   "language": "python",
   "name": "python3"
  },
  "language_info": {
   "codemirror_mode": {
    "name": "ipython",
    "version": 3
   },
   "file_extension": ".py",
   "mimetype": "text/x-python",
   "name": "python",
   "nbconvert_exporter": "python",
   "pygments_lexer": "ipython3",
   "version": "3.11.1"
  },
  "toc": {
   "base_numbering": 1,
   "nav_menu": {},
   "number_sections": false,
   "sideBar": true,
   "skip_h1_title": false,
   "title_cell": "Table of Contents",
   "title_sidebar": "Contents",
   "toc_cell": false,
   "toc_position": {},
   "toc_section_display": true,
   "toc_window_display": false
  },
  "varInspector": {
   "cols": {
    "lenName": 16,
    "lenType": 16,
    "lenVar": 40
   },
   "kernels_config": {
    "python": {
     "delete_cmd_postfix": "",
     "delete_cmd_prefix": "del ",
     "library": "var_list.py",
     "varRefreshCmd": "print(var_dic_list())"
    },
    "r": {
     "delete_cmd_postfix": ") ",
     "delete_cmd_prefix": "rm(",
     "library": "var_list.r",
     "varRefreshCmd": "cat(var_dic_list()) "
    }
   },
   "types_to_exclude": [
    "module",
    "function",
    "builtin_function_or_method",
    "instance",
    "_Feature"
   ],
   "window_display": false
  }
 },
 "nbformat": 4,
 "nbformat_minor": 5
}
