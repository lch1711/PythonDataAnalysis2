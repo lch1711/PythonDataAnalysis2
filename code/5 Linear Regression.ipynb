{
 "cells": [
  {
   "cell_type": "markdown",
   "id": "fc09e07d",
   "metadata": {},
   "source": [
    "<p style=\"font-family:verdana;font-size:200%;text-align:center;\">5 Linear Regression</p>"
   ]
  },
  {
   "cell_type": "markdown",
   "id": "e951b3a2",
   "metadata": {},
   "source": [
    "### 실습 데이터셋 준비"
   ]
  },
  {
   "cell_type": "code",
   "execution_count": null,
   "id": "3f9f7096",
   "metadata": {},
   "outputs": [],
   "source": [
    "# 관련 라이브러리를 호출합니다.\n",
    "import os\n",
    "import numpy as np\n",
    "import pandas as pd"
   ]
  },
  {
   "cell_type": "code",
   "execution_count": null,
   "id": "cdc03232",
   "metadata": {},
   "outputs": [],
   "source": [
    "# 현재 작업경로를 확인합니다.\n",
    "os.getcwd()"
   ]
  },
  {
   "cell_type": "code",
   "execution_count": null,
   "id": "2916cbe2",
   "metadata": {},
   "outputs": [],
   "source": [
    "# data 폴더로 작업경로를 변경합니다.\n",
    "os.chdir('../data')"
   ]
  },
  {
   "cell_type": "code",
   "execution_count": null,
   "id": "59839f39",
   "metadata": {},
   "outputs": [],
   "source": [
    "# 작업경로에 포함된 폴더명과 파일명을 출력합니다.\n",
    "os.listdir()"
   ]
  },
  {
   "cell_type": "code",
   "execution_count": null,
   "id": "6a9c1975",
   "metadata": {},
   "outputs": [],
   "source": [
    "# xlsx 파일을 읽고, 데이터프레임 df를 생성합니다.\n",
    "df = pd.read_excel(io = 'Used_Cars_Price_Prep.xlsx')"
   ]
  },
  {
   "cell_type": "code",
   "execution_count": null,
   "id": "af4e3c8b",
   "metadata": {},
   "outputs": [],
   "source": [
    "# df의 정보를 확인합니다.\n",
    "df.info()"
   ]
  },
  {
   "cell_type": "code",
   "execution_count": null,
   "id": "6e6a51ff",
   "metadata": {},
   "outputs": [],
   "source": [
    "# df의 일부를 출력합니다.\n",
    "df.head()"
   ]
  },
  {
   "cell_type": "markdown",
   "id": "59456c81",
   "metadata": {},
   "source": [
    "### 더미변수 생성"
   ]
  },
  {
   "cell_type": "code",
   "execution_count": null,
   "id": "18887459",
   "metadata": {},
   "outputs": [],
   "source": [
    "# 범주형 입력변수로 더미변수를 생성합니다.\n",
    "dm = pd.get_dummies(data = df['FuelType'], drop_first = True)"
   ]
  },
  {
   "cell_type": "code",
   "execution_count": null,
   "id": "6ecff562",
   "metadata": {},
   "outputs": [],
   "source": [
    "# df의 오른쪽에 더미변수 dm을 추가합니다.\n",
    "df = pd.concat(objs = [df, dm], axis = 1)"
   ]
  },
  {
   "cell_type": "code",
   "execution_count": null,
   "id": "46525566",
   "metadata": {},
   "outputs": [],
   "source": [
    "# df의 일부를 출력합니다.\n",
    "df.head(n = 10)"
   ]
  },
  {
   "cell_type": "code",
   "execution_count": null,
   "id": "ebdf7f76",
   "metadata": {},
   "outputs": [],
   "source": [
    "# df에서 FuelType을 삭제합니다.\n",
    "df = df.drop(labels = ['FuelType'], axis = 1)"
   ]
  },
  {
   "cell_type": "markdown",
   "id": "f9c0f762",
   "metadata": {},
   "source": [
    "### 실습 데이터셋 분할"
   ]
  },
  {
   "cell_type": "code",
   "execution_count": null,
   "id": "58684117",
   "metadata": {},
   "outputs": [],
   "source": [
    "# 관련 라이브러리를 호출합니다.\n",
    "from sklearn.model_selection import train_test_split"
   ]
  },
  {
   "cell_type": "code",
   "execution_count": null,
   "id": "c32108d7",
   "metadata": {},
   "outputs": [],
   "source": [
    "# 목표변수 컬럼명을 지정합니다.\n",
    "yvar = 'Price'"
   ]
  },
  {
   "cell_type": "code",
   "execution_count": null,
   "id": "44c9500e",
   "metadata": {},
   "outputs": [],
   "source": [
    "# 입력변수 X와 목표변수 y를 각각 생성합니다.\n",
    "X = df.drop(labels = [yvar], axis = 1)\n",
    "y = df[yvar]"
   ]
  },
  {
   "cell_type": "code",
   "execution_count": null,
   "id": "2271e7dd",
   "metadata": {},
   "outputs": [],
   "source": [
    "# 전체 데이터의 70%를 훈련셋, 30%를 시험셋으로 분할합니다.\n",
    "X_tr, X_te, y_tr, y_te = train_test_split(\n",
    "    X, \n",
    "    y, \n",
    "    test_size = 0.3, \n",
    "    random_state = 0\n",
    ")"
   ]
  },
  {
   "cell_type": "code",
   "execution_count": null,
   "id": "c6d67477",
   "metadata": {},
   "outputs": [],
   "source": [
    "# 훈련셋의 목표변수 평균을 확인합니다.\n",
    "y_tr.mean().round(2)"
   ]
  },
  {
   "cell_type": "code",
   "execution_count": null,
   "id": "e4523c96",
   "metadata": {},
   "outputs": [],
   "source": [
    "# 시험셋의 목표변수 평균을 확인합니다.\n",
    "y_te.mean().round(2)"
   ]
  },
  {
   "cell_type": "markdown",
   "id": "5dbe574d",
   "metadata": {},
   "source": [
    "### 다중선형 회귀모형 적합"
   ]
  },
  {
   "cell_type": "code",
   "execution_count": null,
   "id": "12849c37",
   "metadata": {},
   "outputs": [],
   "source": [
    "# 관련 라이브러리를 호출합니다.\n",
    "import statsmodels.api as sm"
   ]
  },
  {
   "cell_type": "code",
   "execution_count": null,
   "id": "ceb0769d",
   "metadata": {},
   "outputs": [],
   "source": [
    "# 훈련셋 입력변수에 y절편의 역할을 수행할 상수 1을 추가합니다.\n",
    "X_tr = sm.add_constant(data = X_tr)"
   ]
  },
  {
   "cell_type": "code",
   "execution_count": null,
   "id": "7cc1c58a",
   "metadata": {},
   "outputs": [],
   "source": [
    "# 다중선형 회귀모형을 반환하는 함수를 정의합니다.\n",
    "def ols(y, X):\n",
    "    model = sm.OLS(endog = y, exog = X)\n",
    "    return model.fit()"
   ]
  },
  {
   "cell_type": "markdown",
   "id": "1fe12f98",
   "metadata": {},
   "source": [
    "### 다중선형 회귀모형 확인"
   ]
  },
  {
   "cell_type": "code",
   "execution_count": null,
   "id": "0c7554da",
   "metadata": {},
   "outputs": [],
   "source": [
    "# 훈련셋으로 다중선형 회귀모형 적합 결과를 확인합니다.\n",
    "fit1 = ols(y = y_tr, X = X_tr)\n",
    "fit1.summary()"
   ]
  },
  {
   "cell_type": "markdown",
   "id": "a9e8d3fc",
   "metadata": {},
   "source": [
    "### 다중공선성 확인"
   ]
  },
  {
   "cell_type": "code",
   "execution_count": null,
   "id": "bcdb1cca",
   "metadata": {},
   "outputs": [],
   "source": [
    "# 입력변수별 분산팽창지수를 출력하는 함수를 정의합니다.\n",
    "def vif(X):\n",
    "    import statsmodels.stats.outliers_influence as oi\n",
    "    func = oi.variance_inflation_factor\n",
    "    ncol = X.shape[1]\n",
    "    vifs = [func(exog = X.values, exog_idx = i) for i in range(1, ncol)]\n",
    "    return pd.DataFrame(data = vifs, index = X.columns[1:]).T"
   ]
  },
  {
   "cell_type": "code",
   "execution_count": null,
   "id": "1041d553",
   "metadata": {},
   "outputs": [],
   "source": [
    "# 훈련셋의 입력변수별 분산팽창지수를 출력합니다.\n",
    "vif(X = X_tr)"
   ]
  },
  {
   "cell_type": "code",
   "execution_count": null,
   "id": "c9c7d682",
   "metadata": {},
   "outputs": [],
   "source": [
    "# 분산팽창지수가 5 이상인 입력변수를 훈련셋에서 삭제합니다.\n",
    "X_tr = X_tr.drop(labels = ['Petrol'], axis = 1)"
   ]
  },
  {
   "cell_type": "code",
   "execution_count": null,
   "id": "c09f04d8",
   "metadata": {},
   "outputs": [],
   "source": [
    "# 훈련셋의 입력변수별 분산팽창지수를 다시 출력합니다.\n",
    "vif(X = X_tr)"
   ]
  },
  {
   "cell_type": "markdown",
   "id": "fac4fadb",
   "metadata": {},
   "source": [
    "### 후진소거법으로 변수 선택"
   ]
  },
  {
   "cell_type": "code",
   "execution_count": null,
   "id": "4dd4d24e",
   "metadata": {},
   "outputs": [],
   "source": [
    "# 변경된 훈련셋으로 다중선형 회귀모형 적합 결과를 확인합니다.\n",
    "fit2 = ols(y = y_tr, X = X_tr)\n",
    "fit2.summary()"
   ]
  },
  {
   "cell_type": "code",
   "execution_count": null,
   "id": "36123aab",
   "metadata": {},
   "outputs": [],
   "source": [
    "# 회귀계수의 유의성 검정을 통과하지 못한 입력변수를 모두 제거합니다.\n",
    "X_tr = X_tr.drop(labels = ['MetColor', 'Doors'], axis = 1)"
   ]
  },
  {
   "cell_type": "code",
   "execution_count": null,
   "id": "ddd00e87",
   "metadata": {},
   "outputs": [],
   "source": [
    "# 변경된 훈련셋으로 다중선형 회귀모형 적합 결과를 확인합니다.\n",
    "fit3 = ols(y = y_tr, X = X_tr)\n",
    "fit3.summary()"
   ]
  },
  {
   "cell_type": "markdown",
   "id": "9fe66253",
   "metadata": {},
   "source": [
    "### 표준화 회귀계수 확인"
   ]
  },
  {
   "cell_type": "code",
   "execution_count": null,
   "id": "043e61de",
   "metadata": {},
   "outputs": [],
   "source": [
    "# 다중선형 회귀모형의 회귀계수만 출력합니다.\n",
    "fit3.params"
   ]
  },
  {
   "cell_type": "code",
   "execution_count": null,
   "id": "44406c73",
   "metadata": {},
   "outputs": [],
   "source": [
    "# 입력변수의 표준편차를 목표변수의 표준편차로 나눈 값을 출력합니다.\n",
    "X_tr.std() / y_tr.std()"
   ]
  },
  {
   "cell_type": "code",
   "execution_count": null,
   "id": "fc1bbef9",
   "metadata": {},
   "outputs": [],
   "source": [
    "# 표준화 회귀계수를 생성합니다.\n",
    "beta_z = fit3.params * (X_tr.std() / y_tr.std())"
   ]
  },
  {
   "cell_type": "code",
   "execution_count": null,
   "id": "ca8530a3",
   "metadata": {},
   "outputs": [],
   "source": [
    "# 표준화 회귀계수의 절대값을 오름차순으로 정렬하여 출력합니다.\n",
    "beta_z.abs().sort_values()"
   ]
  },
  {
   "cell_type": "markdown",
   "id": "674aab01",
   "metadata": {},
   "source": [
    "### 목표변수의 추정값 생성"
   ]
  },
  {
   "cell_type": "code",
   "execution_count": null,
   "id": "914c9f90",
   "metadata": {},
   "outputs": [],
   "source": [
    "# 훈련셋에서 삭제했던 입력변수를 시험셋에서도 삭제합니다.\n",
    "X_te = X_te.drop(labels = ['MetColor', 'Doors', 'Petrol'], axis = 1)"
   ]
  },
  {
   "cell_type": "code",
   "execution_count": null,
   "id": "770beecb",
   "metadata": {},
   "outputs": [],
   "source": [
    "# 시험셋에 상수항을 추가합니다.\n",
    "X_te = sm.add_constant(data = X_te)"
   ]
  },
  {
   "cell_type": "code",
   "execution_count": null,
   "id": "69dc22b4",
   "metadata": {},
   "outputs": [],
   "source": [
    "# 훈련셋의 추정값을 생성합니다.\n",
    "tr_pred = fit3.predict(exog = X_tr)\n",
    "tr_pred"
   ]
  },
  {
   "cell_type": "code",
   "execution_count": null,
   "id": "1d4628fb",
   "metadata": {},
   "outputs": [],
   "source": [
    "# 시험셋의 추정값을 생성합니다.\n",
    "te_pred = fit3.predict(exog = X_te)\n",
    "te_pred"
   ]
  },
  {
   "cell_type": "markdown",
   "id": "230aef0e",
   "metadata": {},
   "source": [
    "### 회귀모형 성능 평가 : MSE, RMSE"
   ]
  },
  {
   "cell_type": "code",
   "execution_count": null,
   "id": "9f561d99",
   "metadata": {},
   "outputs": [],
   "source": [
    "# 관련 라이브러리를 호출합니다.\n",
    "from statsmodels.tools.eval_measures import mse, rmse"
   ]
  },
  {
   "cell_type": "code",
   "execution_count": null,
   "id": "69b8a63c",
   "metadata": {},
   "outputs": [],
   "source": [
    "# 훈련셋의 MSE를 출력합니다.\n",
    "mse(x1 = y_tr, x2 = tr_pred).round(2)"
   ]
  },
  {
   "cell_type": "code",
   "execution_count": null,
   "id": "42f3a39a",
   "metadata": {},
   "outputs": [],
   "source": [
    "# 시험셋의 MSE를 출력합니다.\n",
    "mse(x1 = y_te, x2 = te_pred).round(2)"
   ]
  },
  {
   "cell_type": "code",
   "execution_count": null,
   "id": "a7a05d0b",
   "metadata": {},
   "outputs": [],
   "source": [
    "# 훈련셋의 RMSE를 출력합니다.\n",
    "rmse(x1 = y_tr, x2 = tr_pred).round(2)"
   ]
  },
  {
   "cell_type": "code",
   "execution_count": null,
   "id": "8e79cf7c",
   "metadata": {},
   "outputs": [],
   "source": [
    "# 시험셋의 RMSE를 출력합니다.\n",
    "rmse(x1 = y_te, x2 = te_pred).round(2)"
   ]
  },
  {
   "cell_type": "markdown",
   "id": "8a5e01a1",
   "metadata": {},
   "source": [
    "### 회귀모형 성능 평가 : MAE, MAPE"
   ]
  },
  {
   "cell_type": "code",
   "execution_count": null,
   "id": "0b50e465",
   "metadata": {},
   "outputs": [],
   "source": [
    "# 관련 라이브러리를 호출합니다.\n",
    "from sklearn.metrics import *"
   ]
  },
  {
   "cell_type": "code",
   "execution_count": null,
   "id": "248ac4dd",
   "metadata": {},
   "outputs": [],
   "source": [
    "# 훈련셋의 MAE를 출력합니다.\n",
    "mean_absolute_error(y_true = y_tr, y_pred = tr_pred).round(2)"
   ]
  },
  {
   "cell_type": "code",
   "execution_count": null,
   "id": "b462f8f5",
   "metadata": {},
   "outputs": [],
   "source": [
    "# 시험셋의 MAE를 출력합니다.\n",
    "mean_absolute_error(y_true = y_te, y_pred = te_pred).round(2)"
   ]
  },
  {
   "cell_type": "code",
   "execution_count": null,
   "id": "80ce221f",
   "metadata": {},
   "outputs": [],
   "source": [
    "# 훈련셋의 MAPE를 출력합니다.\n",
    "mean_absolute_percentage_error(y_true = y_tr, y_pred = tr_pred).round(2)"
   ]
  },
  {
   "cell_type": "code",
   "execution_count": null,
   "id": "287c6c6d",
   "metadata": {},
   "outputs": [],
   "source": [
    "# 시험셋의 MAPE를 출력합니다.\n",
    "mean_absolute_percentage_error(y_true = y_te, y_pred = te_pred).round(2)"
   ]
  },
  {
   "cell_type": "markdown",
   "id": "33a2aaf1",
   "metadata": {},
   "source": [
    "<p style=\"font-family:verdana;font-size:200%;text-align:center;\">End of Document</p>"
   ]
  }
 ],
 "metadata": {
  "kernelspec": {
   "display_name": "Python 3 (ipykernel)",
   "language": "python",
   "name": "python3"
  },
  "language_info": {
   "codemirror_mode": {
    "name": "ipython",
    "version": 3
   },
   "file_extension": ".py",
   "mimetype": "text/x-python",
   "name": "python",
   "nbconvert_exporter": "python",
   "pygments_lexer": "ipython3",
   "version": "3.9.6"
  },
  "toc": {
   "base_numbering": 1,
   "nav_menu": {},
   "number_sections": true,
   "sideBar": true,
   "skip_h1_title": false,
   "title_cell": "Table of Contents",
   "title_sidebar": "Contents",
   "toc_cell": false,
   "toc_position": {},
   "toc_section_display": true,
   "toc_window_display": true
  },
  "varInspector": {
   "cols": {
    "lenName": 16,
    "lenType": 16,
    "lenVar": 40
   },
   "kernels_config": {
    "python": {
     "delete_cmd_postfix": "",
     "delete_cmd_prefix": "del ",
     "library": "var_list.py",
     "varRefreshCmd": "print(var_dic_list())"
    },
    "r": {
     "delete_cmd_postfix": ") ",
     "delete_cmd_prefix": "rm(",
     "library": "var_list.r",
     "varRefreshCmd": "cat(var_dic_list()) "
    }
   },
   "types_to_exclude": [
    "module",
    "function",
    "builtin_function_or_method",
    "instance",
    "_Feature"
   ],
   "window_display": false
  }
 },
 "nbformat": 4,
 "nbformat_minor": 5
}
