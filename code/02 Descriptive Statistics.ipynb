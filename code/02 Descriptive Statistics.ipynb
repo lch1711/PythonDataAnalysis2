{
 "cells": [
  {
   "cell_type": "markdown",
   "id": "67809a6e",
   "metadata": {},
   "source": [
    "# 기술통계 분석"
   ]
  },
  {
   "cell_type": "markdown",
   "id": "5b72fe50",
   "metadata": {},
   "source": [
    "### 실습 데이터셋 준비"
   ]
  },
  {
   "cell_type": "code",
   "execution_count": null,
   "id": "804a837b",
   "metadata": {},
   "outputs": [],
   "source": [
    "# 관련 라이브러리를 호출합니다.\n",
    "import os, joblib\n",
    "import numpy as np\n",
    "import pandas as pd\n",
    "from scipy import stats"
   ]
  },
  {
   "cell_type": "code",
   "execution_count": null,
   "id": "d8ffc27d",
   "metadata": {},
   "outputs": [],
   "source": [
    "# 현재 작업 경로를 확인합니다.\n",
    "os.getcwd()"
   ]
  },
  {
   "cell_type": "code",
   "execution_count": null,
   "id": "bbfe1c72",
   "metadata": {},
   "outputs": [],
   "source": [
    "# data 폴더로 작업 경로를 변경합니다.\n",
    "os.chdir('../data')"
   ]
  },
  {
   "cell_type": "code",
   "execution_count": null,
   "id": "f9eca63c",
   "metadata": {},
   "outputs": [],
   "source": [
    "# 현재 작업 경로에 포함된 폴더명과 파일명을 출력합니다.\n",
    "os.listdir()"
   ]
  },
  {
   "cell_type": "code",
   "execution_count": null,
   "id": "1af797cd",
   "metadata": {},
   "outputs": [],
   "source": [
    "# 압축 파일을 읽고 데이터프레임 df를 생성합니다.\n",
    "df = joblib.load(filename = 'Used_Cars_Price.z')"
   ]
  },
  {
   "cell_type": "code",
   "execution_count": null,
   "id": "c79c2ae1",
   "metadata": {},
   "outputs": [],
   "source": [
    "# df의 정보를 확인합니다.\n",
    "df.info()"
   ]
  },
  {
   "cell_type": "code",
   "execution_count": null,
   "id": "d7015adc",
   "metadata": {},
   "outputs": [],
   "source": [
    "# df의 처음 5행을 출력합니다.\n",
    "df.head()"
   ]
  },
  {
   "cell_type": "markdown",
   "id": "6becb55d",
   "metadata": {},
   "source": [
    "### 평균"
   ]
  },
  {
   "cell_type": "code",
   "execution_count": null,
   "id": "91e65df6",
   "metadata": {
    "scrolled": true
   },
   "outputs": [],
   "source": [
    "# 연속형 변수의 평균을 반환합니다.\n",
    "df['Price'].mean()"
   ]
  },
  {
   "cell_type": "code",
   "execution_count": null,
   "id": "13f3e481",
   "metadata": {},
   "outputs": [],
   "source": [
    "# 정수 1~3으로 시리즈를 생성합니다.\n",
    "nums = pd.Series(data = [1, 2, 3])"
   ]
  },
  {
   "cell_type": "code",
   "execution_count": null,
   "id": "0c39ff2d",
   "metadata": {},
   "outputs": [],
   "source": [
    "# nums의 1번 인덱스 원소를 결측값으로 변경합니다.\n",
    "nums.iloc[1] = np.nan"
   ]
  },
  {
   "cell_type": "code",
   "execution_count": null,
   "id": "02faf25d",
   "metadata": {},
   "outputs": [],
   "source": [
    "# nums의 평균을 반환합니다.\n",
    "nums.mean()"
   ]
  },
  {
   "cell_type": "markdown",
   "id": "de42749f",
   "metadata": {},
   "source": [
    "### 절사평균"
   ]
  },
  {
   "cell_type": "code",
   "execution_count": null,
   "id": "25338bcd",
   "metadata": {},
   "outputs": [],
   "source": [
    "# 연속형 변수의 10% 절사평균을 반환합니다.\n",
    "stats.trim_mean(df['Price'], 0.1)"
   ]
  },
  {
   "cell_type": "markdown",
   "id": "f0ffa9eb",
   "metadata": {},
   "source": [
    "### 중위수"
   ]
  },
  {
   "cell_type": "code",
   "execution_count": null,
   "id": "aef54a41",
   "metadata": {},
   "outputs": [],
   "source": [
    "# 연속형 변수의 중위수를 반환합니다.\n",
    "df['Price'].median()"
   ]
  },
  {
   "cell_type": "code",
   "execution_count": null,
   "id": "6e552e39",
   "metadata": {},
   "outputs": [],
   "source": [
    "# [주의] 원소 개수가 홀수명 중위수, 짝수면 결측값을 반환합니다.\n",
    "stats.trim_mean(df['Price'], 0.5)"
   ]
  },
  {
   "cell_type": "markdown",
   "id": "2a3cade4",
   "metadata": {},
   "source": [
    "### 분위수"
   ]
  },
  {
   "cell_type": "code",
   "execution_count": null,
   "id": "6179cf59",
   "metadata": {},
   "outputs": [],
   "source": [
    "# 백분위수를 반환합니다.\n",
    "df['Price'].quantile(q = np.linspace(start = 0, stop = 1, num = 101))"
   ]
  },
  {
   "cell_type": "code",
   "execution_count": null,
   "id": "4b2fcb32",
   "metadata": {},
   "outputs": [],
   "source": [
    "# 십분위수를 반환합니다.\n",
    "df['Price'].quantile(q = np.linspace(start = 0, stop = 1, num = 11))"
   ]
  },
  {
   "cell_type": "code",
   "execution_count": null,
   "id": "5a14b7ac",
   "metadata": {},
   "outputs": [],
   "source": [
    "# 사분위수를 반환합니다.\n",
    "df['Price'].quantile(q = np.linspace(start = 0, stop = 1, num = 5))"
   ]
  },
  {
   "cell_type": "markdown",
   "id": "3dea93b4",
   "metadata": {},
   "source": [
    "### 범위와 사분범위"
   ]
  },
  {
   "cell_type": "code",
   "execution_count": null,
   "id": "3dd2e3c2",
   "metadata": {},
   "outputs": [],
   "source": [
    "# 연속형 변수의 범위(최댓값과 최솟값의 간격)를 반환합니다.\n",
    "df['Price'].max() - df['Price'].min()"
   ]
  },
  {
   "cell_type": "code",
   "execution_count": null,
   "id": "a24c75cd",
   "metadata": {},
   "outputs": [],
   "source": [
    "# 연속형 변수의 범위(최댓값과 최솟값의 간격)를 반환합니다.\n",
    "df['Price'].quantile(q = [0, 1]).diff().iloc[1]"
   ]
  },
  {
   "cell_type": "code",
   "execution_count": null,
   "id": "072797af",
   "metadata": {},
   "outputs": [],
   "source": [
    "# 연속형 변수의 사분범위(3사분위수와 1사분위수의 간격)를 반환합니다.\n",
    "df['Price'].quantile(q = [0.25, 0.75]).diff().iloc[1]"
   ]
  },
  {
   "cell_type": "markdown",
   "id": "4bcec1b4",
   "metadata": {},
   "source": [
    "### 최빈값"
   ]
  },
  {
   "cell_type": "code",
   "execution_count": null,
   "id": "971b59bd",
   "metadata": {},
   "outputs": [],
   "source": [
    "# 범주형 변수의 최빈값을 반환합니다.\n",
    "df['FuelType'].mode()"
   ]
  },
  {
   "cell_type": "code",
   "execution_count": null,
   "id": "df6449be",
   "metadata": {},
   "outputs": [],
   "source": [
    "# 범주형 변수의 빈도수를 내림차순 정렬한 결과를 반환합니다.\n",
    "df['FuelType'].value_counts()"
   ]
  },
  {
   "cell_type": "code",
   "execution_count": null,
   "id": "df41e0f3",
   "metadata": {},
   "outputs": [],
   "source": [
    "# 빈도수 대신 인덱스명으로 오름차순 정렬한 결과를 반환합니다. \n",
    "df['FuelType'].value_counts().sort_index()"
   ]
  },
  {
   "cell_type": "code",
   "execution_count": null,
   "id": "31c9f0f9",
   "metadata": {},
   "outputs": [],
   "source": [
    "# 빈도수 대신 상대도수를 반환합니다.\n",
    "df['FuelType'].value_counts(normalize = True).sort_index().round(4) * 100"
   ]
  },
  {
   "cell_type": "markdown",
   "id": "74727580",
   "metadata": {},
   "source": [
    "### 분산"
   ]
  },
  {
   "cell_type": "code",
   "execution_count": null,
   "id": "d55d5c0e",
   "metadata": {},
   "outputs": [],
   "source": [
    "# 연속형 변수의 분산을 반환합니다.\n",
    "df['Price'].var()"
   ]
  },
  {
   "cell_type": "markdown",
   "id": "85520be5",
   "metadata": {},
   "source": [
    "### 표준편차"
   ]
  },
  {
   "cell_type": "code",
   "execution_count": null,
   "id": "fb1d19a2",
   "metadata": {},
   "outputs": [],
   "source": [
    "# 연속형 변수의 표준편차를 반환합니다.\n",
    "df['Price'].std()"
   ]
  },
  {
   "cell_type": "markdown",
   "id": "3174bdc1",
   "metadata": {},
   "source": [
    "### 중위수절대편차"
   ]
  },
  {
   "cell_type": "code",
   "execution_count": null,
   "id": "9ed2deaa",
   "metadata": {},
   "outputs": [],
   "source": [
    "# 관련 라이브러리를 호출합니다.\n",
    "from statsmodels import robust"
   ]
  },
  {
   "cell_type": "code",
   "execution_count": null,
   "id": "a1cdcddc",
   "metadata": {},
   "outputs": [],
   "source": [
    "# 연속형 변수의 중위수절대편차를 반환합니다.\n",
    "robust.mad(df['Price'])"
   ]
  },
  {
   "cell_type": "markdown",
   "id": "c5a3171a",
   "metadata": {},
   "source": [
    "### 여러 열의 기술통계량 확인"
   ]
  },
  {
   "cell_type": "code",
   "execution_count": null,
   "id": "25358891",
   "metadata": {},
   "outputs": [],
   "source": [
    "# 여러 연속형 변수의 평균을 반환합니다.\n",
    "df.apply(func = 'mean', numeric_only = True)"
   ]
  },
  {
   "cell_type": "code",
   "execution_count": null,
   "id": "5c2b7f7a",
   "metadata": {},
   "outputs": [],
   "source": [
    "# 여러 연속형 변수의 표준편차를 반환합니다.\n",
    "df.apply(func = 'std', numeric_only = True)"
   ]
  },
  {
   "cell_type": "code",
   "execution_count": null,
   "id": "3e4d4b17",
   "metadata": {},
   "outputs": [],
   "source": [
    "# 여러 연속형 변수의 중위수를 반환합니다.\n",
    "df.apply(func = 'median', numeric_only = True)"
   ]
  },
  {
   "cell_type": "code",
   "execution_count": null,
   "id": "7e9beb68",
   "metadata": {},
   "outputs": [],
   "source": [
    "# 여러 연속형 변수의 기술통계량을 반환합니다.\n",
    "df.describe()"
   ]
  },
  {
   "cell_type": "code",
   "execution_count": null,
   "id": "c768a253",
   "metadata": {},
   "outputs": [],
   "source": [
    "# 여러 범주형 변수의 기술통계량을 반환합니다.\n",
    "df.describe(include = 'object')"
   ]
  },
  {
   "cell_type": "markdown",
   "id": "adb799d0",
   "metadata": {},
   "source": [
    "## End of Document"
   ]
  }
 ],
 "metadata": {
  "kernelspec": {
   "display_name": "Python 3 (ipykernel)",
   "language": "python",
   "name": "python3"
  },
  "language_info": {
   "codemirror_mode": {
    "name": "ipython",
    "version": 3
   },
   "file_extension": ".py",
   "mimetype": "text/x-python",
   "name": "python",
   "nbconvert_exporter": "python",
   "pygments_lexer": "ipython3",
   "version": "3.10.3"
  },
  "toc": {
   "base_numbering": 1,
   "nav_menu": {},
   "number_sections": true,
   "sideBar": true,
   "skip_h1_title": false,
   "title_cell": "Table of Contents",
   "title_sidebar": "Contents",
   "toc_cell": false,
   "toc_position": {},
   "toc_section_display": true,
   "toc_window_display": false
  },
  "varInspector": {
   "cols": {
    "lenName": 16,
    "lenType": 16,
    "lenVar": 40
   },
   "kernels_config": {
    "python": {
     "delete_cmd_postfix": "",
     "delete_cmd_prefix": "del ",
     "library": "var_list.py",
     "varRefreshCmd": "print(var_dic_list())"
    },
    "r": {
     "delete_cmd_postfix": ") ",
     "delete_cmd_prefix": "rm(",
     "library": "var_list.r",
     "varRefreshCmd": "cat(var_dic_list()) "
    }
   },
   "types_to_exclude": [
    "module",
    "function",
    "builtin_function_or_method",
    "instance",
    "_Feature"
   ],
   "window_display": false
  }
 },
 "nbformat": 4,
 "nbformat_minor": 5
}
