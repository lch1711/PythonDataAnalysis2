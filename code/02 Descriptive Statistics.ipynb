{
 "cells": [
  {
   "cell_type": "markdown",
   "id": "67809a6e",
   "metadata": {},
   "source": [
    "## 기술통계 분석"
   ]
  },
  {
   "cell_type": "markdown",
   "id": "b56eeb24-2e8b-464f-94c2-a9ef5b83add1",
   "metadata": {},
   "source": [
    "### 관련 라이브러리 호출"
   ]
  },
  {
   "cell_type": "code",
   "execution_count": null,
   "id": "804a837b",
   "metadata": {
    "ExecuteTime": {
     "end_time": "2022-06-11T04:54:01.083201Z",
     "start_time": "2022-06-11T04:54:00.515370Z"
    }
   },
   "outputs": [],
   "source": [
    "# 관련 라이브러리를 호출합니다.\n",
    "import os\n",
    "import joblib\n",
    "import numpy as np\n",
    "import pandas as pd"
   ]
  },
  {
   "cell_type": "code",
   "execution_count": null,
   "id": "ce0681b5",
   "metadata": {},
   "outputs": [],
   "source": [
    "# 실수를 출력할 소수점 자리수를 설정합니다.\n",
    "%precision 3\n",
    "pd.options.display.precision = 3"
   ]
  },
  {
   "cell_type": "raw",
   "id": "f04ec023",
   "metadata": {},
   "source": [
    "# statsmodels 라이브러리를 설치합니다.\n",
    "!pip install statsmodels"
   ]
  },
  {
   "cell_type": "code",
   "execution_count": null,
   "id": "7513e03a",
   "metadata": {},
   "outputs": [],
   "source": [
    "# 통계 관련 라이브러리를 호출합니다.\n",
    "from scipy import stats\n",
    "from statsmodels import robust"
   ]
  },
  {
   "cell_type": "markdown",
   "id": "29168cb0-8fd0-4641-97e0-6f8b5fd43ba1",
   "metadata": {},
   "source": [
    "### 작업 경로 확인 및 변경"
   ]
  },
  {
   "cell_type": "code",
   "execution_count": null,
   "id": "d8ffc27d",
   "metadata": {
    "ExecuteTime": {
     "end_time": "2022-06-11T04:54:01.093292Z",
     "start_time": "2022-06-11T04:54:01.085805Z"
    }
   },
   "outputs": [],
   "source": [
    "# 현재 작업 경로를 확인합니다.\n",
    "os.getcwd()"
   ]
  },
  {
   "cell_type": "code",
   "execution_count": null,
   "id": "bbfe1c72",
   "metadata": {
    "ExecuteTime": {
     "end_time": "2022-06-11T04:54:01.101846Z",
     "start_time": "2022-06-11T04:54:01.099697Z"
    }
   },
   "outputs": [],
   "source": [
    "# data 폴더로 작업 경로를 변경합니다.\n",
    "os.chdir('../data')"
   ]
  },
  {
   "cell_type": "code",
   "execution_count": null,
   "id": "f9eca63c",
   "metadata": {
    "ExecuteTime": {
     "end_time": "2022-06-11T04:54:01.109929Z",
     "start_time": "2022-06-11T04:54:01.106021Z"
    }
   },
   "outputs": [],
   "source": [
    "# 현재 작업 경로에 있는 폴더명과 파일명을 출력합니다.\n",
    "os.listdir()"
   ]
  },
  {
   "cell_type": "markdown",
   "id": "5b72fe50",
   "metadata": {},
   "source": [
    "### 실습 데이터셋 준비"
   ]
  },
  {
   "cell_type": "code",
   "execution_count": null,
   "id": "5a68ce28",
   "metadata": {
    "ExecuteTime": {
     "end_time": "2022-06-11T04:54:01.406595Z",
     "start_time": "2022-06-11T04:54:01.111566Z"
    }
   },
   "outputs": [],
   "source": [
    "# xlsx 파일을 읽고 데이터프레임 df를 생성합니다.\n",
    "df = pd.read_excel(io = 'Used_Cars_Price.xlsx')"
   ]
  },
  {
   "cell_type": "code",
   "execution_count": null,
   "id": "2d02cbbb",
   "metadata": {
    "ExecuteTime": {
     "end_time": "2022-06-11T04:54:01.412426Z",
     "start_time": "2022-06-11T04:54:01.408573Z"
    }
   },
   "outputs": [],
   "source": [
    "# df의 열별 자료형을 출력합니다.\n",
    "df.dtypes"
   ]
  },
  {
   "cell_type": "code",
   "execution_count": null,
   "id": "1af797cd",
   "metadata": {
    "ExecuteTime": {
     "end_time": "2022-06-11T04:54:01.420320Z",
     "start_time": "2022-06-11T04:54:01.416583Z"
    }
   },
   "outputs": [],
   "source": [
    "# z 파일을 읽고 데이터프레임 df를 생성합니다.\n",
    "df = joblib.load(filename = 'Used_Cars_Price.z')"
   ]
  },
  {
   "cell_type": "code",
   "execution_count": null,
   "id": "c79c2ae1",
   "metadata": {
    "ExecuteTime": {
     "end_time": "2022-06-11T04:54:01.426036Z",
     "start_time": "2022-06-11T04:54:01.421963Z"
    }
   },
   "outputs": [],
   "source": [
    "# df의 열별 자료형을 출력합니다.\n",
    "df.dtypes"
   ]
  },
  {
   "cell_type": "markdown",
   "id": "6becb55d",
   "metadata": {},
   "source": [
    "### 평균"
   ]
  },
  {
   "cell_type": "code",
   "execution_count": null,
   "id": "91e65df6",
   "metadata": {
    "ExecuteTime": {
     "end_time": "2022-06-11T04:54:01.431785Z",
     "start_time": "2022-06-11T04:54:01.427584Z"
    },
    "scrolled": true
   },
   "outputs": [],
   "source": [
    "# 연속형 변수의 평균을 반환합니다.\n",
    "df['Price'].mean()"
   ]
  },
  {
   "cell_type": "code",
   "execution_count": null,
   "id": "13f3e481",
   "metadata": {
    "ExecuteTime": {
     "end_time": "2022-06-11T04:54:01.435972Z",
     "start_time": "2022-06-11T04:54:01.433501Z"
    }
   },
   "outputs": [],
   "source": [
    "# 결측값을 포함하는 시리즈를 생성합니다.\n",
    "nums = pd.Series(data = [1, np.nan, 2])"
   ]
  },
  {
   "cell_type": "code",
   "execution_count": null,
   "id": "0c39ff2d",
   "metadata": {
    "ExecuteTime": {
     "end_time": "2022-06-11T04:54:01.442348Z",
     "start_time": "2022-06-11T04:54:01.437785Z"
    }
   },
   "outputs": [],
   "source": [
    "# nums의 1번 인덱스(두 번째) 원소를 결측값입니다.\n",
    "nums"
   ]
  },
  {
   "cell_type": "code",
   "execution_count": null,
   "id": "02faf25d",
   "metadata": {
    "ExecuteTime": {
     "end_time": "2022-06-11T04:54:01.447717Z",
     "start_time": "2022-06-11T04:54:01.444415Z"
    }
   },
   "outputs": [],
   "source": [
    "# nums의 평균을 반환합니다.\n",
    "nums.mean()"
   ]
  },
  {
   "cell_type": "markdown",
   "id": "de42749f",
   "metadata": {},
   "source": [
    "### 절사평균"
   ]
  },
  {
   "cell_type": "code",
   "execution_count": null,
   "id": "25338bcd",
   "metadata": {
    "ExecuteTime": {
     "end_time": "2022-06-11T04:54:01.454217Z",
     "start_time": "2022-06-11T04:54:01.450021Z"
    }
   },
   "outputs": [],
   "source": [
    "# 연속형 변수의 10% 절사평균을 반환합니다.\n",
    "stats.trim_mean(df['Price'], 0.1)"
   ]
  },
  {
   "cell_type": "markdown",
   "id": "f0ffa9eb",
   "metadata": {},
   "source": [
    "### 중위수"
   ]
  },
  {
   "cell_type": "code",
   "execution_count": null,
   "id": "aef54a41",
   "metadata": {
    "ExecuteTime": {
     "end_time": "2022-06-11T04:54:01.460033Z",
     "start_time": "2022-06-11T04:54:01.456043Z"
    }
   },
   "outputs": [],
   "source": [
    "# 연속형 변수의 중위수를 반환합니다.\n",
    "df['Price'].median()"
   ]
  },
  {
   "cell_type": "code",
   "execution_count": null,
   "id": "6e552e39",
   "metadata": {
    "ExecuteTime": {
     "end_time": "2022-06-11T04:54:01.466277Z",
     "start_time": "2022-06-11T04:54:01.461930Z"
    }
   },
   "outputs": [],
   "source": [
    "# [참고] 50% 절사평균을 계산하면 원소 개수가 홀수일 때 중위수, \n",
    "# 짝수일 때 결측값을 반환합니다.\n",
    "stats.trim_mean(df['Price'], 0.5)"
   ]
  },
  {
   "cell_type": "markdown",
   "id": "2a3cade4",
   "metadata": {},
   "source": [
    "### 분위수"
   ]
  },
  {
   "cell_type": "code",
   "execution_count": null,
   "id": "6179cf59",
   "metadata": {
    "ExecuteTime": {
     "end_time": "2022-06-11T04:54:01.475253Z",
     "start_time": "2022-06-11T04:54:01.468741Z"
    }
   },
   "outputs": [],
   "source": [
    "# 전체 데이터를 100 등분하는 경계 값인 백분위수를 반환합니다.\n",
    "df['Price'].quantile(q = np.linspace(start = 0, stop = 1, num = 100+1))"
   ]
  },
  {
   "cell_type": "code",
   "execution_count": null,
   "id": "4b2fcb32",
   "metadata": {
    "ExecuteTime": {
     "end_time": "2022-06-11T04:54:01.483069Z",
     "start_time": "2022-06-11T04:54:01.477364Z"
    }
   },
   "outputs": [],
   "source": [
    "# 전체 데이터를 10 등분하는 경계 값인 십분위수를 반환합니다.\n",
    "df['Price'].quantile(q = np.linspace(start = 0, stop = 1, num = 10+1))"
   ]
  },
  {
   "cell_type": "code",
   "execution_count": null,
   "id": "5a14b7ac",
   "metadata": {
    "ExecuteTime": {
     "end_time": "2022-06-11T04:54:01.491149Z",
     "start_time": "2022-06-11T04:54:01.485005Z"
    }
   },
   "outputs": [],
   "source": [
    "# 전체 데이터를 4 등분하는 경계 값인 사분위수를 반환합니다.\n",
    "df['Price'].quantile(q = np.linspace(start = 0, stop = 1, num = 4+1))"
   ]
  },
  {
   "cell_type": "markdown",
   "id": "3dea93b4",
   "metadata": {},
   "source": [
    "### 범위와 사분범위"
   ]
  },
  {
   "cell_type": "code",
   "execution_count": null,
   "id": "3dd2e3c2",
   "metadata": {
    "ExecuteTime": {
     "end_time": "2022-06-11T04:54:01.497193Z",
     "start_time": "2022-06-11T04:54:01.493376Z"
    }
   },
   "outputs": [],
   "source": [
    "# 연속형 변수의 범위(최댓값과 최솟값의 간격)를 반환합니다.\n",
    "df['Price'].max() - df['Price'].min()"
   ]
  },
  {
   "cell_type": "code",
   "execution_count": null,
   "id": "a24c75cd",
   "metadata": {
    "ExecuteTime": {
     "end_time": "2022-06-11T04:54:01.504071Z",
     "start_time": "2022-06-11T04:54:01.498938Z"
    }
   },
   "outputs": [],
   "source": [
    "# diff() 함수는 원소간 차이를 반환합니다.(최댓값 - 최솟값)\n",
    "df['Price'].quantile(q = [0, 1]).diff().iloc[-1]"
   ]
  },
  {
   "cell_type": "code",
   "execution_count": null,
   "id": "072797af",
   "metadata": {
    "ExecuteTime": {
     "end_time": "2022-06-11T04:54:01.511562Z",
     "start_time": "2022-06-11T04:54:01.506308Z"
    }
   },
   "outputs": [],
   "source": [
    "# 연속형 변수의 사분범위(3사분위수와 1사분위수의 간격)를 반환합니다.\n",
    "df['Price'].quantile(q = [0.25, 0.75]).diff().iloc[-1]"
   ]
  },
  {
   "cell_type": "markdown",
   "id": "4bcec1b4",
   "metadata": {},
   "source": [
    "### 최빈값"
   ]
  },
  {
   "cell_type": "code",
   "execution_count": null,
   "id": "971b59bd",
   "metadata": {
    "ExecuteTime": {
     "end_time": "2022-06-11T04:54:01.518147Z",
     "start_time": "2022-06-11T04:54:01.513249Z"
    }
   },
   "outputs": [],
   "source": [
    "# 범주형 변수의 최빈값을 반환합니다.\n",
    "df['FuelType'].mode()"
   ]
  },
  {
   "cell_type": "code",
   "execution_count": null,
   "id": "df6449be",
   "metadata": {
    "ExecuteTime": {
     "end_time": "2022-06-11T04:54:01.524492Z",
     "start_time": "2022-06-11T04:54:01.519961Z"
    }
   },
   "outputs": [],
   "source": [
    "# 범주형 변수의 빈도수를 내림차순 정렬한 결과를 반환합니다.\n",
    "df['FuelType'].value_counts()"
   ]
  },
  {
   "cell_type": "code",
   "execution_count": null,
   "id": "df41e0f3",
   "metadata": {
    "ExecuteTime": {
     "end_time": "2022-06-11T04:54:01.531146Z",
     "start_time": "2022-06-11T04:54:01.526824Z"
    }
   },
   "outputs": [],
   "source": [
    "# 범주형 변수의 빈도수를 인덱스로 오름차순 정렬한 결과를 반환합니다. \n",
    "df['FuelType'].value_counts().sort_index()"
   ]
  },
  {
   "cell_type": "code",
   "execution_count": null,
   "id": "31c9f0f9",
   "metadata": {
    "ExecuteTime": {
     "end_time": "2022-06-11T04:54:01.538712Z",
     "start_time": "2022-06-11T04:54:01.532788Z"
    }
   },
   "outputs": [],
   "source": [
    "# 범주형 변수의 빈도수 대신 상대도수를 내림차순 정렬한 결과를 반환합니다.\n",
    "df['FuelType'].value_counts(normalize = True)"
   ]
  },
  {
   "cell_type": "markdown",
   "id": "74727580",
   "metadata": {},
   "source": [
    "### 분산"
   ]
  },
  {
   "cell_type": "code",
   "execution_count": null,
   "id": "d55d5c0e",
   "metadata": {
    "ExecuteTime": {
     "end_time": "2022-06-11T04:54:01.550960Z",
     "start_time": "2022-06-11T04:54:01.547660Z"
    }
   },
   "outputs": [],
   "source": [
    "# 연속형 변수의 분산을 반환합니다.\n",
    "df['Price'].var()"
   ]
  },
  {
   "cell_type": "markdown",
   "id": "85520be5",
   "metadata": {},
   "source": [
    "### 표준편차"
   ]
  },
  {
   "cell_type": "code",
   "execution_count": null,
   "id": "fb1d19a2",
   "metadata": {
    "ExecuteTime": {
     "end_time": "2022-06-11T04:54:01.556540Z",
     "start_time": "2022-06-11T04:54:01.552357Z"
    }
   },
   "outputs": [],
   "source": [
    "# 연속형 변수의 표준편차를 반환합니다.\n",
    "df['Price'].std()"
   ]
  },
  {
   "cell_type": "markdown",
   "id": "3174bdc1",
   "metadata": {},
   "source": [
    "### 중위수절대편차"
   ]
  },
  {
   "cell_type": "code",
   "execution_count": null,
   "id": "a1cdcddc",
   "metadata": {
    "ExecuteTime": {
     "end_time": "2022-06-11T04:54:01.562418Z",
     "start_time": "2022-06-11T04:54:01.558633Z"
    }
   },
   "outputs": [],
   "source": [
    "# 연속형 변수의 중위수절대편차를 반환합니다.\n",
    "robust.mad(a = df['Price'])"
   ]
  },
  {
   "cell_type": "markdown",
   "id": "c5a3171a",
   "metadata": {},
   "source": [
    "### 여러 열의 기술통계량 확인"
   ]
  },
  {
   "cell_type": "code",
   "execution_count": null,
   "id": "25358891",
   "metadata": {
    "ExecuteTime": {
     "end_time": "2022-06-11T04:54:01.568558Z",
     "start_time": "2022-06-11T04:54:01.564126Z"
    }
   },
   "outputs": [],
   "source": [
    "# 여러 연속형 변수의 평균을 반환합니다.\n",
    "df.apply(func = 'mean', numeric_only = True)"
   ]
  },
  {
   "cell_type": "code",
   "execution_count": null,
   "id": "5c2b7f7a",
   "metadata": {
    "ExecuteTime": {
     "end_time": "2022-06-11T04:54:01.576659Z",
     "start_time": "2022-06-11T04:54:01.570324Z"
    }
   },
   "outputs": [],
   "source": [
    "# 여러 연속형 변수의 표준편차를 반환합니다.\n",
    "df.apply(func = 'std', numeric_only = True)"
   ]
  },
  {
   "cell_type": "code",
   "execution_count": null,
   "id": "3e4d4b17",
   "metadata": {
    "ExecuteTime": {
     "end_time": "2022-06-11T04:54:01.584399Z",
     "start_time": "2022-06-11T04:54:01.579097Z"
    }
   },
   "outputs": [],
   "source": [
    "# 여러 연속형 변수의 중위수를 반환합니다.\n",
    "df.apply(func = 'median', numeric_only = True)"
   ]
  },
  {
   "cell_type": "code",
   "execution_count": null,
   "id": "7e9beb68",
   "metadata": {
    "ExecuteTime": {
     "end_time": "2022-06-11T04:54:01.613682Z",
     "start_time": "2022-06-11T04:54:01.585996Z"
    }
   },
   "outputs": [],
   "source": [
    "# 여러 연속형 변수의 기술통계량을 반환합니다.\n",
    "df.describe()"
   ]
  },
  {
   "cell_type": "code",
   "execution_count": null,
   "id": "c768a253",
   "metadata": {
    "ExecuteTime": {
     "end_time": "2022-06-11T04:54:01.625244Z",
     "start_time": "2022-06-11T04:54:01.615471Z"
    }
   },
   "outputs": [],
   "source": [
    "# 여러 범주형 변수의 기술통계량을 반환합니다.\n",
    "df.describe(include = object)"
   ]
  },
  {
   "cell_type": "markdown",
   "id": "adb799d0",
   "metadata": {},
   "source": [
    "## End of Document"
   ]
  }
 ],
 "metadata": {
  "kernelspec": {
   "display_name": "Python 3 (ipykernel)",
   "language": "python",
   "name": "python3"
  },
  "language_info": {
   "codemirror_mode": {
    "name": "ipython",
    "version": 3
   },
   "file_extension": ".py",
   "mimetype": "text/x-python",
   "name": "python",
   "nbconvert_exporter": "python",
   "pygments_lexer": "ipython3",
   "version": "3.10.4"
  },
  "toc": {
   "base_numbering": 1,
   "nav_menu": {},
   "number_sections": false,
   "sideBar": true,
   "skip_h1_title": false,
   "title_cell": "Table of Contents",
   "title_sidebar": "Contents",
   "toc_cell": false,
   "toc_position": {},
   "toc_section_display": true,
   "toc_window_display": false
  },
  "varInspector": {
   "cols": {
    "lenName": 16,
    "lenType": 16,
    "lenVar": 40
   },
   "kernels_config": {
    "python": {
     "delete_cmd_postfix": "",
     "delete_cmd_prefix": "del ",
     "library": "var_list.py",
     "varRefreshCmd": "print(var_dic_list())"
    },
    "r": {
     "delete_cmd_postfix": ") ",
     "delete_cmd_prefix": "rm(",
     "library": "var_list.r",
     "varRefreshCmd": "cat(var_dic_list()) "
    }
   },
   "types_to_exclude": [
    "module",
    "function",
    "builtin_function_or_method",
    "instance",
    "_Feature"
   ],
   "window_display": false
  }
 },
 "nbformat": 4,
 "nbformat_minor": 5
}
