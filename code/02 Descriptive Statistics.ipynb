{
 "cells": [
  {
   "cell_type": "markdown",
   "id": "67809a6e",
   "metadata": {},
   "source": [
    "<p style=\"font-family:verdana;font-size:200%;text-align:center;\">Descriptive Statistics</p>"
   ]
  },
  {
   "cell_type": "markdown",
   "id": "5b72fe50",
   "metadata": {},
   "source": [
    "### 실습 데이터셋 준비"
   ]
  },
  {
   "cell_type": "code",
   "execution_count": null,
   "id": "804a837b",
   "metadata": {},
   "outputs": [],
   "source": [
    "# 관련 라이브러리를 호출합니다.\n",
    "import os\n",
    "import numpy as np\n",
    "import pandas as pd"
   ]
  },
  {
   "cell_type": "code",
   "execution_count": null,
   "id": "d8ffc27d",
   "metadata": {},
   "outputs": [],
   "source": [
    "# 현재 작업경로를 확인합니다.\n",
    "os.getcwd()"
   ]
  },
  {
   "cell_type": "code",
   "execution_count": null,
   "id": "bbfe1c72",
   "metadata": {},
   "outputs": [],
   "source": [
    "# data 폴더로 작업경로를 변경합니다.\n",
    "os.chdir('../data')"
   ]
  },
  {
   "cell_type": "code",
   "execution_count": null,
   "id": "f9eca63c",
   "metadata": {},
   "outputs": [],
   "source": [
    "# 작업경로에 포함된 폴더명과 파일명을 반환합니다.\n",
    "os.listdir()"
   ]
  },
  {
   "cell_type": "code",
   "execution_count": null,
   "id": "1af797cd",
   "metadata": {},
   "outputs": [],
   "source": [
    "# xlsx 파일을 읽고, 데이터프레임 df를 생성합니다.\n",
    "df = pd.read_excel(io = 'Used_Cars_Price.xlsx')"
   ]
  },
  {
   "cell_type": "code",
   "execution_count": null,
   "id": "c79c2ae1",
   "metadata": {},
   "outputs": [],
   "source": [
    "# df의 정보를 확인합니다.\n",
    "df.info()"
   ]
  },
  {
   "cell_type": "code",
   "execution_count": null,
   "id": "9bacfa32",
   "metadata": {},
   "outputs": [],
   "source": [
    "# df의 처음 5행을 출력합니다.\n",
    "df.head()"
   ]
  },
  {
   "cell_type": "markdown",
   "id": "7f09410d",
   "metadata": {},
   "source": [
    "### 대푯값"
   ]
  },
  {
   "cell_type": "code",
   "execution_count": null,
   "id": "91e65df6",
   "metadata": {
    "scrolled": true
   },
   "outputs": [],
   "source": [
    "# 연속형 변수의 평균을 반환합니다.\n",
    "df['Price'].mean()"
   ]
  },
  {
   "cell_type": "code",
   "execution_count": null,
   "id": "13f3e481",
   "metadata": {},
   "outputs": [],
   "source": [
    "# 관련 라이브러리를 호출합니다.\n",
    "from scipy import stats"
   ]
  },
  {
   "cell_type": "code",
   "execution_count": null,
   "id": "02faf25d",
   "metadata": {},
   "outputs": [],
   "source": [
    "# 양 극단에서 10%씩 제외한 절사평균을 반환합니다.\n",
    "stats.trim_mean(df['Price'], 0.1)"
   ]
  },
  {
   "cell_type": "code",
   "execution_count": null,
   "id": "aef54a41",
   "metadata": {},
   "outputs": [],
   "source": [
    "# 연속형 변수의 중위수를 반환합니다.\n",
    "df['Price'].median()"
   ]
  },
  {
   "cell_type": "code",
   "execution_count": null,
   "id": "6e552e39",
   "metadata": {},
   "outputs": [],
   "source": [
    "# [주의] 50% 절사평균을 계산하면 원소 개수에 따라 중위수 또는 결측값을 반환합니다.\n",
    "stats.trim_mean(df['Price'], 0.5)"
   ]
  },
  {
   "cell_type": "code",
   "execution_count": null,
   "id": "c3819f5a",
   "metadata": {},
   "outputs": [],
   "source": [
    "# [참고] 원소 개수가 짝수면 결측값을 반환합니다.\n",
    "stats.trim_mean(range(10), 0.5)"
   ]
  },
  {
   "cell_type": "code",
   "execution_count": null,
   "id": "6179cf59",
   "metadata": {},
   "outputs": [],
   "source": [
    "# 백분위수를 반환합니다.\n",
    "df['Price'].quantile(q = np.linspace(start = 0, stop = 1, num = 101))"
   ]
  },
  {
   "cell_type": "code",
   "execution_count": null,
   "id": "4b2fcb32",
   "metadata": {},
   "outputs": [],
   "source": [
    "# 십분위수를 반환합니다.\n",
    "df['Price'].quantile(q = np.linspace(start = 0, stop = 1, num = 11))"
   ]
  },
  {
   "cell_type": "code",
   "execution_count": null,
   "id": "5a14b7ac",
   "metadata": {},
   "outputs": [],
   "source": [
    "# 사분위수를 반환합니다.\n",
    "df['Price'].quantile(q = np.linspace(start = 0, stop = 1, num = 5))"
   ]
  },
  {
   "cell_type": "code",
   "execution_count": null,
   "id": "971b59bd",
   "metadata": {},
   "outputs": [],
   "source": [
    "# 이산형 또는 범주형 변수의 최빈값을 반환합니다.\n",
    "df['FuelType'].mode()"
   ]
  },
  {
   "cell_type": "code",
   "execution_count": null,
   "id": "df6449be",
   "metadata": {},
   "outputs": [],
   "source": [
    "# 범주형 변수의 빈도수를 내림차순 정렬한 결과를 반환합니다.\n",
    "df['FuelType'].value_counts()"
   ]
  },
  {
   "cell_type": "code",
   "execution_count": null,
   "id": "df41e0f3",
   "metadata": {},
   "outputs": [],
   "source": [
    "# 빈도수 대신 인덱스명으로 오름차순 정렬한 결과를 반환합니다. \n",
    "df['FuelType'].value_counts().sort_index()"
   ]
  },
  {
   "cell_type": "code",
   "execution_count": null,
   "id": "31c9f0f9",
   "metadata": {},
   "outputs": [],
   "source": [
    "# 빈도수 대신 상대도수를 반환합니다.\n",
    "df['FuelType'].value_counts(normalize = True).sort_index().round(4) * 100"
   ]
  },
  {
   "cell_type": "markdown",
   "id": "af888fb8",
   "metadata": {},
   "source": [
    "### 산포"
   ]
  },
  {
   "cell_type": "code",
   "execution_count": null,
   "id": "3dd2e3c2",
   "metadata": {},
   "outputs": [],
   "source": [
    "# 연속형 변수의 최솟값과 최댓값을 각각 반환합니다.\n",
    "print(df['Price'].min())\n",
    "print(df['Price'].max())"
   ]
  },
  {
   "cell_type": "code",
   "execution_count": null,
   "id": "edf0104c",
   "metadata": {},
   "outputs": [],
   "source": [
    "# 연속형 변수의 범위를 반환합니다.\n",
    "df['Price'].quantile(q = [0, 1]).diff()"
   ]
  },
  {
   "cell_type": "code",
   "execution_count": null,
   "id": "072797af",
   "metadata": {},
   "outputs": [],
   "source": [
    "# 연속형 변수의 사분범위를 반환합니다.\n",
    "df['Price'].quantile(q = [0.25, 0.75]).diff()"
   ]
  },
  {
   "cell_type": "code",
   "execution_count": null,
   "id": "d55d5c0e",
   "metadata": {},
   "outputs": [],
   "source": [
    "# 연속형 변수의 분산을 반환합니다.\n",
    "df['Price'].var()"
   ]
  },
  {
   "cell_type": "code",
   "execution_count": null,
   "id": "fb1d19a2",
   "metadata": {},
   "outputs": [],
   "source": [
    "# 연속형 변수의 표준편차를 반환합니다.\n",
    "df['Price'].std()"
   ]
  },
  {
   "cell_type": "code",
   "execution_count": null,
   "id": "9ed2deaa",
   "metadata": {},
   "outputs": [],
   "source": [
    "# 라이브러리를 호출합니다.\n",
    "from statsmodels import robust"
   ]
  },
  {
   "cell_type": "code",
   "execution_count": null,
   "id": "a1cdcddc",
   "metadata": {},
   "outputs": [],
   "source": [
    "# 연속형 변수의 중위수절대편차를 반환합니다.\n",
    "robust.mad(df['Price'])"
   ]
  },
  {
   "cell_type": "markdown",
   "id": "c5a3171a",
   "metadata": {},
   "source": [
    "### 여러 열의 기술통계량 확인"
   ]
  },
  {
   "cell_type": "code",
   "execution_count": null,
   "id": "25358891",
   "metadata": {},
   "outputs": [],
   "source": [
    "# 여러 연속형 변수의 평균을 반환합니다.\n",
    "df.apply(func = 'mean', axis = 0, numeric_only = True)"
   ]
  },
  {
   "cell_type": "code",
   "execution_count": null,
   "id": "5c2b7f7a",
   "metadata": {},
   "outputs": [],
   "source": [
    "# 여러 연속형 변수의 표준편차를 반환합니다.\n",
    "df.apply(func = 'std', axis = 0, numeric_only = True)"
   ]
  },
  {
   "cell_type": "code",
   "execution_count": null,
   "id": "3e4d4b17",
   "metadata": {},
   "outputs": [],
   "source": [
    "# 여러 연속형 변수의 중위수를 반환합니다.\n",
    "df.apply(func = 'median', axis = 0, numeric_only = True)"
   ]
  },
  {
   "cell_type": "code",
   "execution_count": null,
   "id": "7e9beb68",
   "metadata": {},
   "outputs": [],
   "source": [
    "# 여러 연속형 변수의 기술통계량을 반환합니다.\n",
    "df.describe()"
   ]
  },
  {
   "cell_type": "code",
   "execution_count": null,
   "id": "c768a253",
   "metadata": {},
   "outputs": [],
   "source": [
    "# 여러 범주형 변수의 기술통계량을 반환합니다.\n",
    "df.describe(include = 'object')"
   ]
  },
  {
   "cell_type": "markdown",
   "id": "adb799d0",
   "metadata": {},
   "source": [
    "<p style=\"font-family:verdana;font-size:200%;text-align:center;\">End of Document</p>"
   ]
  }
 ],
 "metadata": {
  "kernelspec": {
   "display_name": "Python 3 (ipykernel)",
   "language": "python",
   "name": "python3"
  },
  "language_info": {
   "codemirror_mode": {
    "name": "ipython",
    "version": 3
   },
   "file_extension": ".py",
   "mimetype": "text/x-python",
   "name": "python",
   "nbconvert_exporter": "python",
   "pygments_lexer": "ipython3",
   "version": "3.9.6"
  },
  "toc": {
   "base_numbering": 1,
   "nav_menu": {},
   "number_sections": true,
   "sideBar": true,
   "skip_h1_title": false,
   "title_cell": "Table of Contents",
   "title_sidebar": "Contents",
   "toc_cell": false,
   "toc_position": {},
   "toc_section_display": true,
   "toc_window_display": true
  },
  "varInspector": {
   "cols": {
    "lenName": 16,
    "lenType": 16,
    "lenVar": 40
   },
   "kernels_config": {
    "python": {
     "delete_cmd_postfix": "",
     "delete_cmd_prefix": "del ",
     "library": "var_list.py",
     "varRefreshCmd": "print(var_dic_list())"
    },
    "r": {
     "delete_cmd_postfix": ") ",
     "delete_cmd_prefix": "rm(",
     "library": "var_list.r",
     "varRefreshCmd": "cat(var_dic_list()) "
    }
   },
   "types_to_exclude": [
    "module",
    "function",
    "builtin_function_or_method",
    "instance",
    "_Feature"
   ],
   "window_display": false
  }
 },
 "nbformat": 4,
 "nbformat_minor": 5
}
