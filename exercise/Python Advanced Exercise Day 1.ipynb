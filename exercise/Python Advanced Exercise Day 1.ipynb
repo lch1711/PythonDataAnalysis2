{
 "cells": [
  {
   "cell_type": "markdown",
   "id": "d67ed441",
   "metadata": {},
   "source": [
    "## 연습문제 Day 1"
   ]
  },
  {
   "cell_type": "markdown",
   "id": "b9412587",
   "metadata": {},
   "source": [
    "- 2021년 한국프로야구 타자 스탯 데이터를 읽고, 기술통계 분석과 데이터 시각화를 실행합니다.\n",
    "- url : https://bit.ly/KBO_Hitters_2021 (인코딩방식: EUC-KR)"
   ]
  },
  {
   "cell_type": "markdown",
   "id": "02695637",
   "metadata": {},
   "source": [
    "### 실습 데이터셋 준비\n",
    "\n",
    "URL을 읽고 데이터프레임을 생성합니다."
   ]
  },
  {
   "cell_type": "code",
   "execution_count": 1,
   "id": "7619df2e",
   "metadata": {
    "ExecuteTime": {
     "end_time": "2022-06-07T14:12:36.231611Z",
     "start_time": "2022-06-07T14:12:35.624533Z"
    }
   },
   "outputs": [],
   "source": [
    "# 관련 라이브러리를 호출합니다.\n",
    "import os\n",
    "import numpy as np\n",
    "import pandas as pd\n",
    "from scipy import stats\n",
    "from statsmodels import robust\n",
    "import joblib"
   ]
  },
  {
   "cell_type": "code",
   "execution_count": 2,
   "id": "8d222585",
   "metadata": {
    "ExecuteTime": {
     "end_time": "2022-06-07T14:12:36.236205Z",
     "start_time": "2022-06-07T14:12:36.234076Z"
    }
   },
   "outputs": [],
   "source": [
    "# 온라인으로 공유 중인 csv 파일 주소를 URL에 할당합니다.\n",
    "URL = 'https://bit.ly/KBO_Hitters_2021'"
   ]
  },
  {
   "cell_type": "code",
   "execution_count": 3,
   "id": "45e3b38f",
   "metadata": {
    "ExecuteTime": {
     "end_time": "2022-06-07T14:12:36.983274Z",
     "start_time": "2022-06-07T14:12:36.238275Z"
    }
   },
   "outputs": [],
   "source": [
    "# URL을 읽고 데이터프레임 kbo를 생성합니다.\n",
    "# [힌트] pd.read_csv() 함수를 사용하세요.\n",
    "kbo = pd.read_csv(URL, encoding = 'EUC-KR')"
   ]
  },
  {
   "cell_type": "code",
   "execution_count": 4,
   "id": "7ce0699d",
   "metadata": {
    "ExecuteTime": {
     "end_time": "2022-06-07T14:12:36.995142Z",
     "start_time": "2022-06-07T14:12:36.986333Z"
    }
   },
   "outputs": [
    {
     "name": "stdout",
     "output_type": "stream",
     "text": [
      "<class 'pandas.core.frame.DataFrame'>\n",
      "RangeIndex: 300 entries, 0 to 299\n",
      "Data columns (total 19 columns):\n",
      " #   Column  Non-Null Count  Dtype  \n",
      "---  ------  --------------  -----  \n",
      " 0   선수명     300 non-null    object \n",
      " 1   팀명      300 non-null    object \n",
      " 2   경기      300 non-null    int64  \n",
      " 3   타석      300 non-null    int64  \n",
      " 4   타수      300 non-null    int64  \n",
      " 5   안타      300 non-null    int64  \n",
      " 6   홈런      300 non-null    int64  \n",
      " 7   득점      300 non-null    int64  \n",
      " 8   타점      300 non-null    int64  \n",
      " 9   볼넷      300 non-null    int64  \n",
      " 10  삼진      300 non-null    int64  \n",
      " 11  도루      300 non-null    int64  \n",
      " 12  BABIP   300 non-null    object \n",
      " 13  타율      300 non-null    float64\n",
      " 14  출루율     300 non-null    float64\n",
      " 15  장타율     300 non-null    float64\n",
      " 16  OPS     300 non-null    float64\n",
      " 17  wOBA    300 non-null    float64\n",
      " 18  WAR     300 non-null    float64\n",
      "dtypes: float64(6), int64(10), object(3)\n",
      "memory usage: 44.7+ KB\n"
     ]
    }
   ],
   "source": [
    "# kbo의 정보를 확인합니다.\n",
    "# [힌트] info() 함수를 사용하세요.\n",
    "kbo.info()"
   ]
  },
  {
   "cell_type": "code",
   "execution_count": 5,
   "id": "d9b08400",
   "metadata": {
    "ExecuteTime": {
     "end_time": "2022-06-07T14:12:37.018391Z",
     "start_time": "2022-06-07T14:12:36.996676Z"
    },
    "scrolled": true
   },
   "outputs": [
    {
     "data": {
      "text/html": [
       "<div>\n",
       "<style scoped>\n",
       "    .dataframe tbody tr th:only-of-type {\n",
       "        vertical-align: middle;\n",
       "    }\n",
       "\n",
       "    .dataframe tbody tr th {\n",
       "        vertical-align: top;\n",
       "    }\n",
       "\n",
       "    .dataframe thead th {\n",
       "        text-align: right;\n",
       "    }\n",
       "</style>\n",
       "<table border=\"1\" class=\"dataframe\">\n",
       "  <thead>\n",
       "    <tr style=\"text-align: right;\">\n",
       "      <th></th>\n",
       "      <th>선수명</th>\n",
       "      <th>팀명</th>\n",
       "      <th>경기</th>\n",
       "      <th>타석</th>\n",
       "      <th>타수</th>\n",
       "      <th>안타</th>\n",
       "      <th>홈런</th>\n",
       "      <th>득점</th>\n",
       "      <th>타점</th>\n",
       "      <th>볼넷</th>\n",
       "      <th>삼진</th>\n",
       "      <th>도루</th>\n",
       "      <th>BABIP</th>\n",
       "      <th>타율</th>\n",
       "      <th>출루율</th>\n",
       "      <th>장타율</th>\n",
       "      <th>OPS</th>\n",
       "      <th>wOBA</th>\n",
       "      <th>WAR</th>\n",
       "    </tr>\n",
       "  </thead>\n",
       "  <tbody>\n",
       "    <tr>\n",
       "      <th>0</th>\n",
       "      <td>홍창기</td>\n",
       "      <td>LG</td>\n",
       "      <td>144</td>\n",
       "      <td>651</td>\n",
       "      <td>524</td>\n",
       "      <td>172</td>\n",
       "      <td>4</td>\n",
       "      <td>103</td>\n",
       "      <td>52</td>\n",
       "      <td>109</td>\n",
       "      <td>95</td>\n",
       "      <td>23</td>\n",
       "      <td>0.393</td>\n",
       "      <td>0.328</td>\n",
       "      <td>0.456</td>\n",
       "      <td>0.408</td>\n",
       "      <td>0.864</td>\n",
       "      <td>0.412</td>\n",
       "      <td>7.10</td>\n",
       "    </tr>\n",
       "    <tr>\n",
       "      <th>1</th>\n",
       "      <td>이정후</td>\n",
       "      <td>Hero</td>\n",
       "      <td>123</td>\n",
       "      <td>544</td>\n",
       "      <td>464</td>\n",
       "      <td>167</td>\n",
       "      <td>7</td>\n",
       "      <td>78</td>\n",
       "      <td>84</td>\n",
       "      <td>62</td>\n",
       "      <td>37</td>\n",
       "      <td>10</td>\n",
       "      <td>0.373</td>\n",
       "      <td>0.360</td>\n",
       "      <td>0.438</td>\n",
       "      <td>0.522</td>\n",
       "      <td>0.960</td>\n",
       "      <td>0.429</td>\n",
       "      <td>7.06</td>\n",
       "    </tr>\n",
       "    <tr>\n",
       "      <th>2</th>\n",
       "      <td>강백호</td>\n",
       "      <td>KT</td>\n",
       "      <td>142</td>\n",
       "      <td>628</td>\n",
       "      <td>516</td>\n",
       "      <td>179</td>\n",
       "      <td>16</td>\n",
       "      <td>76</td>\n",
       "      <td>102</td>\n",
       "      <td>104</td>\n",
       "      <td>85</td>\n",
       "      <td>10</td>\n",
       "      <td>0.385</td>\n",
       "      <td>0.347</td>\n",
       "      <td>0.451</td>\n",
       "      <td>0.521</td>\n",
       "      <td>0.972</td>\n",
       "      <td>0.434</td>\n",
       "      <td>6.97</td>\n",
       "    </tr>\n",
       "    <tr>\n",
       "      <th>3</th>\n",
       "      <td>최정</td>\n",
       "      <td>SSG</td>\n",
       "      <td>134</td>\n",
       "      <td>555</td>\n",
       "      <td>436</td>\n",
       "      <td>121</td>\n",
       "      <td>35</td>\n",
       "      <td>92</td>\n",
       "      <td>100</td>\n",
       "      <td>84</td>\n",
       "      <td>102</td>\n",
       "      <td>8</td>\n",
       "      <td>0.277</td>\n",
       "      <td>0.278</td>\n",
       "      <td>0.410</td>\n",
       "      <td>0.562</td>\n",
       "      <td>0.972</td>\n",
       "      <td>0.425</td>\n",
       "      <td>6.83</td>\n",
       "    </tr>\n",
       "    <tr>\n",
       "      <th>4</th>\n",
       "      <td>양의지</td>\n",
       "      <td>NC</td>\n",
       "      <td>141</td>\n",
       "      <td>570</td>\n",
       "      <td>480</td>\n",
       "      <td>156</td>\n",
       "      <td>30</td>\n",
       "      <td>81</td>\n",
       "      <td>111</td>\n",
       "      <td>69</td>\n",
       "      <td>60</td>\n",
       "      <td>2</td>\n",
       "      <td>0.315</td>\n",
       "      <td>0.325</td>\n",
       "      <td>0.414</td>\n",
       "      <td>0.581</td>\n",
       "      <td>0.995</td>\n",
       "      <td>0.432</td>\n",
       "      <td>6.48</td>\n",
       "    </tr>\n",
       "  </tbody>\n",
       "</table>\n",
       "</div>"
      ],
      "text/plain": [
       "   선수명    팀명   경기   타석   타수   안타  홈런   득점   타점   볼넷   삼진  도루  BABIP     타율  \\\n",
       "0  홍창기    LG  144  651  524  172   4  103   52  109   95  23  0.393  0.328   \n",
       "1  이정후  Hero  123  544  464  167   7   78   84   62   37  10  0.373  0.360   \n",
       "2  강백호    KT  142  628  516  179  16   76  102  104   85  10  0.385  0.347   \n",
       "3   최정   SSG  134  555  436  121  35   92  100   84  102   8  0.277  0.278   \n",
       "4  양의지    NC  141  570  480  156  30   81  111   69   60   2  0.315  0.325   \n",
       "\n",
       "     출루율    장타율    OPS   wOBA   WAR  \n",
       "0  0.456  0.408  0.864  0.412  7.10  \n",
       "1  0.438  0.522  0.960  0.429  7.06  \n",
       "2  0.451  0.521  0.972  0.434  6.97  \n",
       "3  0.410  0.562  0.972  0.425  6.83  \n",
       "4  0.414  0.581  0.995  0.432  6.48  "
      ]
     },
     "execution_count": 5,
     "metadata": {},
     "output_type": "execute_result"
    }
   ],
   "source": [
    "# kbo의 처음 5행을 출력합니다.\n",
    "# [힌트] head() 함수를 사용하세요.\n",
    "# [참고] n 매개변수에 출력할 행 개수를 정수로 지정합니다.(기본값: 5)\n",
    "kbo.head()"
   ]
  },
  {
   "cell_type": "markdown",
   "id": "7690eedc",
   "metadata": {},
   "source": [
    "### 데이터 전처리\n",
    "\n",
    "열별 자료형을 알맞은 형태로 변환하고, 범주형 변수 올스타를 생성합니다."
   ]
  },
  {
   "cell_type": "code",
   "execution_count": 6,
   "id": "c34100dc",
   "metadata": {},
   "outputs": [
    {
     "data": {
      "text/plain": [
       "선수명       object\n",
       "팀명        object\n",
       "경기         int64\n",
       "타석         int64\n",
       "타수         int64\n",
       "안타         int64\n",
       "홈런         int64\n",
       "득점         int64\n",
       "타점         int64\n",
       "볼넷         int64\n",
       "삼진         int64\n",
       "도루         int64\n",
       "BABIP     object\n",
       "타율       float64\n",
       "출루율      float64\n",
       "장타율      float64\n",
       "OPS      float64\n",
       "wOBA     float64\n",
       "WAR      float64\n",
       "dtype: object"
      ]
     },
     "execution_count": 6,
     "metadata": {},
     "output_type": "execute_result"
    }
   ],
   "source": [
    "# kbo의 열별 자료형을 출력합니다.\n",
    "# [힌트] dtypes 속성을 사용하세요.\n",
    "kbo.dtypes"
   ]
  },
  {
   "cell_type": "code",
   "execution_count": 7,
   "id": "4a47fbbf",
   "metadata": {},
   "outputs": [
    {
     "data": {
      "text/html": [
       "<div>\n",
       "<style scoped>\n",
       "    .dataframe tbody tr th:only-of-type {\n",
       "        vertical-align: middle;\n",
       "    }\n",
       "\n",
       "    .dataframe tbody tr th {\n",
       "        vertical-align: top;\n",
       "    }\n",
       "\n",
       "    .dataframe thead th {\n",
       "        text-align: right;\n",
       "    }\n",
       "</style>\n",
       "<table border=\"1\" class=\"dataframe\">\n",
       "  <thead>\n",
       "    <tr style=\"text-align: right;\">\n",
       "      <th></th>\n",
       "      <th>선수명</th>\n",
       "      <th>팀명</th>\n",
       "      <th>경기</th>\n",
       "      <th>타석</th>\n",
       "      <th>타수</th>\n",
       "      <th>안타</th>\n",
       "      <th>홈런</th>\n",
       "      <th>득점</th>\n",
       "      <th>타점</th>\n",
       "      <th>볼넷</th>\n",
       "      <th>삼진</th>\n",
       "      <th>도루</th>\n",
       "      <th>BABIP</th>\n",
       "      <th>타율</th>\n",
       "      <th>출루율</th>\n",
       "      <th>장타율</th>\n",
       "      <th>OPS</th>\n",
       "      <th>wOBA</th>\n",
       "      <th>WAR</th>\n",
       "    </tr>\n",
       "  </thead>\n",
       "  <tbody>\n",
       "    <tr>\n",
       "      <th>259</th>\n",
       "      <td>박정음</td>\n",
       "      <td>Hero</td>\n",
       "      <td>70</td>\n",
       "      <td>18</td>\n",
       "      <td>14</td>\n",
       "      <td>0</td>\n",
       "      <td>0</td>\n",
       "      <td>19</td>\n",
       "      <td>1</td>\n",
       "      <td>2</td>\n",
       "      <td>3</td>\n",
       "      <td>4</td>\n",
       "      <td>0.0</td>\n",
       "      <td>0.0</td>\n",
       "      <td>0.167</td>\n",
       "      <td>0.0</td>\n",
       "      <td>0.167</td>\n",
       "      <td>0.13</td>\n",
       "      <td>-0.36</td>\n",
       "    </tr>\n",
       "    <tr>\n",
       "      <th>216</th>\n",
       "      <td>고명준</td>\n",
       "      <td>SSG</td>\n",
       "      <td>3</td>\n",
       "      <td>5</td>\n",
       "      <td>5</td>\n",
       "      <td>0</td>\n",
       "      <td>0</td>\n",
       "      <td>0</td>\n",
       "      <td>0</td>\n",
       "      <td>0</td>\n",
       "      <td>3</td>\n",
       "      <td>0</td>\n",
       "      <td>0.0</td>\n",
       "      <td>0.0</td>\n",
       "      <td>0.000</td>\n",
       "      <td>0.0</td>\n",
       "      <td>0.000</td>\n",
       "      <td>0.00</td>\n",
       "      <td>-0.16</td>\n",
       "    </tr>\n",
       "    <tr>\n",
       "      <th>280</th>\n",
       "      <td>이성곤</td>\n",
       "      <td>삼성</td>\n",
       "      <td>2</td>\n",
       "      <td>2</td>\n",
       "      <td>2</td>\n",
       "      <td>0</td>\n",
       "      <td>0</td>\n",
       "      <td>0</td>\n",
       "      <td>0</td>\n",
       "      <td>0</td>\n",
       "      <td>1</td>\n",
       "      <td>0</td>\n",
       "      <td>0.0</td>\n",
       "      <td>0.0</td>\n",
       "      <td>0.000</td>\n",
       "      <td>0.0</td>\n",
       "      <td>0.000</td>\n",
       "      <td>0.00</td>\n",
       "      <td>-0.55</td>\n",
       "    </tr>\n",
       "    <tr>\n",
       "      <th>267</th>\n",
       "      <td>정진기</td>\n",
       "      <td>SSG</td>\n",
       "      <td>2</td>\n",
       "      <td>7</td>\n",
       "      <td>7</td>\n",
       "      <td>0</td>\n",
       "      <td>0</td>\n",
       "      <td>0</td>\n",
       "      <td>0</td>\n",
       "      <td>0</td>\n",
       "      <td>2</td>\n",
       "      <td>0</td>\n",
       "      <td>0.0</td>\n",
       "      <td>0.0</td>\n",
       "      <td>0.000</td>\n",
       "      <td>0.0</td>\n",
       "      <td>0.000</td>\n",
       "      <td>0.00</td>\n",
       "      <td>-0.41</td>\n",
       "    </tr>\n",
       "    <tr>\n",
       "      <th>171</th>\n",
       "      <td>오장한</td>\n",
       "      <td>NC</td>\n",
       "      <td>1</td>\n",
       "      <td>1</td>\n",
       "      <td>1</td>\n",
       "      <td>0</td>\n",
       "      <td>0</td>\n",
       "      <td>0</td>\n",
       "      <td>0</td>\n",
       "      <td>0</td>\n",
       "      <td>1</td>\n",
       "      <td>0</td>\n",
       "      <td>-</td>\n",
       "      <td>0.0</td>\n",
       "      <td>0.000</td>\n",
       "      <td>0.0</td>\n",
       "      <td>0.000</td>\n",
       "      <td>0.00</td>\n",
       "      <td>-0.03</td>\n",
       "    </tr>\n",
       "    <tr>\n",
       "      <th>174</th>\n",
       "      <td>박성재</td>\n",
       "      <td>두산</td>\n",
       "      <td>1</td>\n",
       "      <td>1</td>\n",
       "      <td>1</td>\n",
       "      <td>0</td>\n",
       "      <td>0</td>\n",
       "      <td>0</td>\n",
       "      <td>0</td>\n",
       "      <td>0</td>\n",
       "      <td>1</td>\n",
       "      <td>0</td>\n",
       "      <td>-</td>\n",
       "      <td>0.0</td>\n",
       "      <td>0.000</td>\n",
       "      <td>0.0</td>\n",
       "      <td>0.000</td>\n",
       "      <td>0.00</td>\n",
       "      <td>-0.03</td>\n",
       "    </tr>\n",
       "    <tr>\n",
       "      <th>173</th>\n",
       "      <td>최종은</td>\n",
       "      <td>롯데</td>\n",
       "      <td>1</td>\n",
       "      <td>1</td>\n",
       "      <td>1</td>\n",
       "      <td>0</td>\n",
       "      <td>0</td>\n",
       "      <td>0</td>\n",
       "      <td>0</td>\n",
       "      <td>0</td>\n",
       "      <td>1</td>\n",
       "      <td>0</td>\n",
       "      <td>-</td>\n",
       "      <td>0.0</td>\n",
       "      <td>0.000</td>\n",
       "      <td>0.0</td>\n",
       "      <td>0.000</td>\n",
       "      <td>0.00</td>\n",
       "      <td>-0.03</td>\n",
       "    </tr>\n",
       "    <tr>\n",
       "      <th>165</th>\n",
       "      <td>황경태</td>\n",
       "      <td>두산</td>\n",
       "      <td>1</td>\n",
       "      <td>1</td>\n",
       "      <td>1</td>\n",
       "      <td>0</td>\n",
       "      <td>0</td>\n",
       "      <td>0</td>\n",
       "      <td>0</td>\n",
       "      <td>0</td>\n",
       "      <td>1</td>\n",
       "      <td>0</td>\n",
       "      <td>-</td>\n",
       "      <td>0.0</td>\n",
       "      <td>0.000</td>\n",
       "      <td>0.0</td>\n",
       "      <td>0.000</td>\n",
       "      <td>0.00</td>\n",
       "      <td>-0.03</td>\n",
       "    </tr>\n",
       "    <tr>\n",
       "      <th>166</th>\n",
       "      <td>나원탁</td>\n",
       "      <td>롯데</td>\n",
       "      <td>1</td>\n",
       "      <td>1</td>\n",
       "      <td>1</td>\n",
       "      <td>0</td>\n",
       "      <td>0</td>\n",
       "      <td>0</td>\n",
       "      <td>0</td>\n",
       "      <td>0</td>\n",
       "      <td>1</td>\n",
       "      <td>0</td>\n",
       "      <td>-</td>\n",
       "      <td>0.0</td>\n",
       "      <td>0.000</td>\n",
       "      <td>0.0</td>\n",
       "      <td>0.000</td>\n",
       "      <td>0.00</td>\n",
       "      <td>-0.03</td>\n",
       "    </tr>\n",
       "    <tr>\n",
       "      <th>170</th>\n",
       "      <td>서진용(타)</td>\n",
       "      <td>SSG</td>\n",
       "      <td>1</td>\n",
       "      <td>1</td>\n",
       "      <td>1</td>\n",
       "      <td>0</td>\n",
       "      <td>0</td>\n",
       "      <td>0</td>\n",
       "      <td>0</td>\n",
       "      <td>0</td>\n",
       "      <td>1</td>\n",
       "      <td>0</td>\n",
       "      <td>-</td>\n",
       "      <td>0.0</td>\n",
       "      <td>0.000</td>\n",
       "      <td>0.0</td>\n",
       "      <td>0.000</td>\n",
       "      <td>0.00</td>\n",
       "      <td>-0.03</td>\n",
       "    </tr>\n",
       "  </tbody>\n",
       "</table>\n",
       "</div>"
      ],
      "text/plain": [
       "        선수명    팀명  경기  타석  타수  안타  홈런  득점  타점  볼넷  삼진  도루 BABIP   타율    출루율  \\\n",
       "259     박정음  Hero  70  18  14   0   0  19   1   2   3   4   0.0  0.0  0.167   \n",
       "216     고명준   SSG   3   5   5   0   0   0   0   0   3   0   0.0  0.0  0.000   \n",
       "280     이성곤    삼성   2   2   2   0   0   0   0   0   1   0   0.0  0.0  0.000   \n",
       "267     정진기   SSG   2   7   7   0   0   0   0   0   2   0   0.0  0.0  0.000   \n",
       "171     오장한    NC   1   1   1   0   0   0   0   0   1   0     -  0.0  0.000   \n",
       "174     박성재    두산   1   1   1   0   0   0   0   0   1   0     -  0.0  0.000   \n",
       "173     최종은    롯데   1   1   1   0   0   0   0   0   1   0     -  0.0  0.000   \n",
       "165     황경태    두산   1   1   1   0   0   0   0   0   1   0     -  0.0  0.000   \n",
       "166     나원탁    롯데   1   1   1   0   0   0   0   0   1   0     -  0.0  0.000   \n",
       "170  서진용(타)   SSG   1   1   1   0   0   0   0   0   1   0     -  0.0  0.000   \n",
       "\n",
       "     장타율    OPS  wOBA   WAR  \n",
       "259  0.0  0.167  0.13 -0.36  \n",
       "216  0.0  0.000  0.00 -0.16  \n",
       "280  0.0  0.000  0.00 -0.55  \n",
       "267  0.0  0.000  0.00 -0.41  \n",
       "171  0.0  0.000  0.00 -0.03  \n",
       "174  0.0  0.000  0.00 -0.03  \n",
       "173  0.0  0.000  0.00 -0.03  \n",
       "165  0.0  0.000  0.00 -0.03  \n",
       "166  0.0  0.000  0.00 -0.03  \n",
       "170  0.0  0.000  0.00 -0.03  "
      ]
     },
     "execution_count": 7,
     "metadata": {},
     "output_type": "execute_result"
    }
   ],
   "source": [
    "# kbo를 BABIP 기준으로 내림차순 정렬하고 마지막 10행을 출력합니다.\n",
    "# [힌트] sort_values()와 tail() 함수를 사용하세요.\n",
    "kbo.sort_values(by = ['BABIP'], ascending = False).tail(n = 10)"
   ]
  },
  {
   "cell_type": "code",
   "execution_count": 8,
   "id": "d888b22a",
   "metadata": {},
   "outputs": [],
   "source": [
    "# BABIP의 원소가 '-'이면 '0'으로 변경합니다.\n",
    "# [힌트] str.replace() 함수를 사용하세요.\n",
    "# [주의] 패턴(pat)과 교체(repl) 매개변수에 반드시 문자열로 지정해야 합니다!\n",
    "kbo['BABIP'] = kbo['BABIP'].str.replace(pat = '-', repl = '0')"
   ]
  },
  {
   "cell_type": "code",
   "execution_count": 9,
   "id": "1f049b2d",
   "metadata": {},
   "outputs": [],
   "source": [
    "# BABIP을 실수형으로 변환합니다.\n",
    "# [힌트] astype() 함수를 사용하세요.\n",
    "kbo['BABIP'] = kbo['BABIP'].astype(float)"
   ]
  },
  {
   "cell_type": "code",
   "execution_count": 10,
   "id": "3e72d160",
   "metadata": {},
   "outputs": [],
   "source": [
    "# '두산', '롯데', '삼성', 'SSG', 'KT'를 원소로 갖는 리스트 dream을 생성합니다.\n",
    "dream = ['두산', '롯데', '삼성', 'SSG', 'KT']"
   ]
  },
  {
   "cell_type": "code",
   "execution_count": 11,
   "id": "50fe29a5",
   "metadata": {
    "ExecuteTime": {
     "end_time": "2022-06-07T14:12:37.032316Z",
     "start_time": "2022-06-07T14:12:37.029929Z"
    }
   },
   "outputs": [],
   "source": [
    "# 팀명이 dream의 원소이면 True, 아니면 False인 부울형 시리즈 locs를 생성합니다.\n",
    "# [힌트] isin() 함수를 사용하세요.\n",
    "locs = kbo['팀명'].isin(values = dream)"
   ]
  },
  {
   "cell_type": "code",
   "execution_count": 12,
   "id": "70bae0dc",
   "metadata": {
    "ExecuteTime": {
     "end_time": "2022-06-07T14:12:37.039665Z",
     "start_time": "2022-06-07T14:12:37.033907Z"
    },
    "scrolled": true
   },
   "outputs": [
    {
     "data": {
      "text/plain": [
       "0      False\n",
       "1      False\n",
       "2       True\n",
       "3       True\n",
       "4      False\n",
       "       ...  \n",
       "295    False\n",
       "296    False\n",
       "297    False\n",
       "298    False\n",
       "299    False\n",
       "Name: 팀명, Length: 300, dtype: bool"
      ]
     },
     "execution_count": 12,
     "metadata": {},
     "output_type": "execute_result"
    }
   ],
   "source": [
    "# locs를 출력합니다.\n",
    "locs"
   ]
  },
  {
   "cell_type": "code",
   "execution_count": 13,
   "id": "a7bb5243",
   "metadata": {
    "ExecuteTime": {
     "end_time": "2022-06-07T14:12:37.047226Z",
     "start_time": "2022-06-07T14:12:37.043906Z"
    }
   },
   "outputs": [
    {
     "data": {
      "text/plain": [
       "141"
      ]
     },
     "execution_count": 13,
     "metadata": {},
     "output_type": "execute_result"
    }
   ],
   "source": [
    "# locs에서 True의 개수를 출력합니다.\n",
    "# [힌트] sum() 함수를 사용하세요.\n",
    "locs.sum()"
   ]
  },
  {
   "cell_type": "code",
   "execution_count": 14,
   "id": "1447fada",
   "metadata": {
    "ExecuteTime": {
     "end_time": "2022-06-07T14:12:37.051278Z",
     "start_time": "2022-06-07T14:12:37.048731Z"
    }
   },
   "outputs": [],
   "source": [
    "# locs가 True일 때 '드림', False일 때 '나눔'을 원소로 갖는 열을 생성합니다.\n",
    "# 새 열이름을 올스타로 지정하세요.\n",
    "# [힌트] np.where() 함수를 사용하세요.\n",
    "kbo['올스타'] = np.where(locs, '드림', '나눔')"
   ]
  },
  {
   "cell_type": "code",
   "execution_count": 15,
   "id": "e989672b",
   "metadata": {
    "ExecuteTime": {
     "end_time": "2022-06-07T14:12:37.057228Z",
     "start_time": "2022-06-07T14:12:37.052872Z"
    }
   },
   "outputs": [
    {
     "data": {
      "text/plain": [
       "나눔    159\n",
       "드림    141\n",
       "Name: 올스타, dtype: int64"
      ]
     },
     "execution_count": 15,
     "metadata": {},
     "output_type": "execute_result"
    }
   ],
   "source": [
    "# 올스타의 범주별 빈도수를 출력합니다.\n",
    "# [힌트] value_counts() 함수를 사용하세요.\n",
    "kbo['올스타'].value_counts()"
   ]
  },
  {
   "cell_type": "markdown",
   "id": "f9cb2db6",
   "metadata": {},
   "source": [
    "### 데이터 시각화\n",
    "\n",
    "OPS의 히스토그램과 상자 수염 그림을 그려서 분포를 확인하고, <br>\n",
    "실수형 변수와 산점도를 그려서 직선의 관계가 있는지 확인합니다.<br>\n",
    "범주형 변수와 상자 수염 그림을 그려서 평균의 차이가 있는지 확인합니다."
   ]
  },
  {
   "cell_type": "code",
   "execution_count": 16,
   "id": "ba616596",
   "metadata": {},
   "outputs": [],
   "source": [
    "import sys"
   ]
  },
  {
   "cell_type": "code",
   "execution_count": 17,
   "id": "c43c4fa6",
   "metadata": {},
   "outputs": [
    {
     "data": {
      "text/plain": [
       "['C:\\\\Users\\\\Administrator\\\\Documents\\\\PythonAdvanced-main\\\\exercise',\n",
       " 'C:\\\\Users\\\\Administrator\\\\Documents\\\\mypath',\n",
       " 'C:\\\\Users\\\\Administrator\\\\AppData\\\\Local\\\\Programs\\\\Python\\\\Python310\\\\python310.zip',\n",
       " 'C:\\\\Users\\\\Administrator\\\\AppData\\\\Local\\\\Programs\\\\Python\\\\Python310\\\\DLLs',\n",
       " 'C:\\\\Users\\\\Administrator\\\\AppData\\\\Local\\\\Programs\\\\Python\\\\Python310\\\\lib',\n",
       " 'C:\\\\Users\\\\Administrator\\\\AppData\\\\Local\\\\Programs\\\\Python\\\\Python310',\n",
       " 'C:\\\\Users\\\\Administrator\\\\Venv',\n",
       " '',\n",
       " 'C:\\\\Users\\\\Administrator\\\\Venv\\\\lib\\\\site-packages',\n",
       " 'C:\\\\Users\\\\Administrator\\\\Venv\\\\lib\\\\site-packages\\\\win32',\n",
       " 'C:\\\\Users\\\\Administrator\\\\Venv\\\\lib\\\\site-packages\\\\win32\\\\lib',\n",
       " 'C:\\\\Users\\\\Administrator\\\\Venv\\\\lib\\\\site-packages\\\\Pythonwin']"
      ]
     },
     "execution_count": 17,
     "metadata": {},
     "output_type": "execute_result"
    }
   ],
   "source": [
    "sys.path"
   ]
  },
  {
   "cell_type": "code",
   "execution_count": 18,
   "id": "6a62dd5d",
   "metadata": {
    "ExecuteTime": {
     "end_time": "2022-06-07T14:12:37.899309Z",
     "start_time": "2022-06-07T14:12:37.058981Z"
    }
   },
   "outputs": [],
   "source": [
    "# 시각화 관련 모듈을 호출합니다.\n",
    "from GraphicSetting import *\n",
    "import HelloDataScience as hds"
   ]
  },
  {
   "cell_type": "code",
   "execution_count": 19,
   "id": "39b6daae",
   "metadata": {},
   "outputs": [
    {
     "data": {
      "application/vnd.jupyter.widget-view+json": {
       "model_id": "9582bdf79a4742e1934a0010c4a5a577",
       "version_major": 2,
       "version_minor": 0
      },
      "text/plain": [
       "interactive(children=(Dropdown(description='name', options=('Set1', 'Set2', 'Set3', 'Paired', 'Accent', 'Paste…"
      ]
     },
     "metadata": {},
     "output_type": "display_data"
    }
   ],
   "source": [
    "sns.choose_colorbrewer_palette(data_type='qualitative');"
   ]
  },
  {
   "cell_type": "code",
   "execution_count": 20,
   "id": "a432ac78",
   "metadata": {
    "ExecuteTime": {
     "end_time": "2022-06-07T14:12:37.904292Z",
     "start_time": "2022-06-07T14:12:37.901399Z"
    }
   },
   "outputs": [],
   "source": [
    "# 기본 팔레트를 'Set1'으로 설정합니다.\n",
    "# [힌트] sns.set_palette() 함수를 사용하세요.\n",
    "sns.set_palette(palette = 'Set1', n_colors = 9)"
   ]
  },
  {
   "cell_type": "code",
   "execution_count": 21,
   "id": "8bf51956",
   "metadata": {
    "ExecuteTime": {
     "end_time": "2022-06-07T14:12:37.909706Z",
     "start_time": "2022-06-07T14:12:37.906024Z"
    }
   },
   "outputs": [
    {
     "data": {
      "text/html": [
       "<svg  width=\"495\" height=\"55\"><rect x=\"0\" y=\"0\" width=\"55\" height=\"55\" style=\"fill:#e41a1c;stroke-width:2;stroke:rgb(255,255,255)\"/><rect x=\"55\" y=\"0\" width=\"55\" height=\"55\" style=\"fill:#377eb8;stroke-width:2;stroke:rgb(255,255,255)\"/><rect x=\"110\" y=\"0\" width=\"55\" height=\"55\" style=\"fill:#4daf4a;stroke-width:2;stroke:rgb(255,255,255)\"/><rect x=\"165\" y=\"0\" width=\"55\" height=\"55\" style=\"fill:#984ea3;stroke-width:2;stroke:rgb(255,255,255)\"/><rect x=\"220\" y=\"0\" width=\"55\" height=\"55\" style=\"fill:#ff7f00;stroke-width:2;stroke:rgb(255,255,255)\"/><rect x=\"275\" y=\"0\" width=\"55\" height=\"55\" style=\"fill:#ffff33;stroke-width:2;stroke:rgb(255,255,255)\"/><rect x=\"330\" y=\"0\" width=\"55\" height=\"55\" style=\"fill:#a65628;stroke-width:2;stroke:rgb(255,255,255)\"/><rect x=\"385\" y=\"0\" width=\"55\" height=\"55\" style=\"fill:#f781bf;stroke-width:2;stroke:rgb(255,255,255)\"/><rect x=\"440\" y=\"0\" width=\"55\" height=\"55\" style=\"fill:#999999;stroke-width:2;stroke:rgb(255,255,255)\"/></svg>"
      ],
      "text/plain": [
       "[(0.8941176470588236, 0.10196078431372549, 0.10980392156862745),\n",
       " (0.21568627450980393, 0.49411764705882355, 0.7215686274509804),\n",
       " (0.30196078431372547, 0.6862745098039216, 0.2901960784313726),\n",
       " (0.596078431372549, 0.3058823529411765, 0.6392156862745098),\n",
       " (1.0, 0.4980392156862745, 0.0),\n",
       " (1.0, 1.0, 0.2),\n",
       " (0.6509803921568628, 0.33725490196078434, 0.1568627450980392),\n",
       " (0.9686274509803922, 0.5058823529411764, 0.7490196078431373),\n",
       " (0.6, 0.6, 0.6)]"
      ]
     },
     "execution_count": 21,
     "metadata": {},
     "output_type": "execute_result"
    }
   ],
   "source": [
    "# 기본 팔레트 색을 출력합니다.\n",
    "# [힌트] sns.color_palette() 함수를 사용하세요.\n",
    "sns.color_palette()"
   ]
  },
  {
   "cell_type": "code",
   "execution_count": 22,
   "id": "6be7eaab",
   "metadata": {},
   "outputs": [
    {
     "data": {
      "text/plain": [
       "min      1.0\n",
       "max    668.0\n",
       "Name: 타석, dtype: float64"
      ]
     },
     "execution_count": 22,
     "metadata": {},
     "output_type": "execute_result"
    }
   ],
   "source": [
    "# 타석의 최솟값과 최댓값을 확인합니다.\n",
    "# [힌트] describe() 함수 실행 결과에서 최솟값과 최댓값을 인덱싱하세요.\n",
    "kbo['타석'].describe()[['min', 'max']]"
   ]
  },
  {
   "cell_type": "code",
   "execution_count": 23,
   "id": "5fc710ff",
   "metadata": {},
   "outputs": [
    {
     "data": {
      "image/png": "[encoded data removed]",
      "text/plain": [
       "<Figure size 600x600 with 1 Axes>"
      ]
     },
     "metadata": {},
     "output_type": "display_data"
    }
   ],
   "source": [
    "# 타석으로 히스토그램을 그립니다.\n",
    "# [힌트] sns.histplot() 함수를 사용하세요.\n",
    "# binwidth 매개변수에 막대 너비를 50으로 지정합니다.\n",
    "# binrange 매개변수를 막대 경계의 시작을 0, 끝을 700으로 지정합니다.\n",
    "sns.histplot(data = kbo, x = '타석', binwidth = 50, binrange = (0, 700));"
   ]
  },
  {
   "cell_type": "code",
   "execution_count": 24,
   "id": "251752d0",
   "metadata": {},
   "outputs": [],
   "source": [
    "# kbo에서 타석이 50 이상인 행을 선택하고 kbo에 재할당합니다.\n",
    "# [힌트] ge() 함수를 사용하세요.\n",
    "kbo = kbo[kbo['타석'].ge(50)]"
   ]
  },
  {
   "cell_type": "code",
   "execution_count": 25,
   "id": "4243fbe5",
   "metadata": {},
   "outputs": [
    {
     "data": {
      "text/plain": [
       "194"
      ]
     },
     "execution_count": 25,
     "metadata": {},
     "output_type": "execute_result"
    }
   ],
   "source": [
    "# kbo의 행 개수를 출력합니다.\n",
    "# [힌트] shape 속성 결과에 0번 인덱스 원소를 선택하세요.\n",
    "kbo.shape[0]"
   ]
  },
  {
   "cell_type": "code",
   "execution_count": 26,
   "id": "41164c6f",
   "metadata": {
    "ExecuteTime": {
     "end_time": "2022-06-07T14:12:37.917754Z",
     "start_time": "2022-06-07T14:12:37.911404Z"
    }
   },
   "outputs": [
    {
     "data": {
      "text/plain": [
       "min    0.399\n",
       "max    1.091\n",
       "Name: OPS, dtype: float64"
      ]
     },
     "execution_count": 26,
     "metadata": {},
     "output_type": "execute_result"
    }
   ],
   "source": [
    "# OPS의 최솟값과 최댓값을 확인합니다.\n",
    "# [힌트] describe() 함수 실행 결과에서 최솟값과 최댓값을 인덱싱하세요.\n",
    "kbo['OPS'].describe()[['min', 'max']]"
   ]
  },
  {
   "cell_type": "code",
   "execution_count": 27,
   "id": "34a2194f",
   "metadata": {
    "ExecuteTime": {
     "end_time": "2022-06-07T14:12:38.052010Z",
     "start_time": "2022-06-07T14:12:37.923654Z"
    }
   },
   "outputs": [
    {
     "data": {
      "image/png": "[encoded data removed]",
      "text/plain": [
       "<Figure size 600x600 with 1 Axes>"
      ]
     },
     "metadata": {},
     "output_type": "display_data"
    }
   ],
   "source": [
    "# OPS로 히스토그램을 그립니다.\n",
    "# [힌트] sns.histplot() 함수를 사용하세요.\n",
    "# binwidth 매개변수에 막대 너비를 0.1로 지정하세요.\n",
    "# binrange 매개변수를 막대 경계의 시작을 0.3, 끝을 1.1로 지정하세요.\n",
    "sns.histplot(data = kbo, x = 'OPS', binwidth = 0.1, binrange = (0.3, 1.1));"
   ]
  },
  {
   "cell_type": "code",
   "execution_count": 28,
   "id": "2486b943",
   "metadata": {
    "ExecuteTime": {
     "end_time": "2022-06-07T14:12:38.132114Z",
     "start_time": "2022-06-07T14:12:38.053808Z"
    }
   },
   "outputs": [
    {
     "data": {
      "image/png": "[encoded data removed]",
      "text/plain": [
       "<Figure size 600x600 with 1 Axes>"
      ]
     },
     "metadata": {},
     "output_type": "display_data"
    }
   ],
   "source": [
    "# OPS로 상자 수염 그림을 세워서 그립니다.\n",
    "# [힌트] sns.boxplot() 함수를 사용하세요.\n",
    "sns.boxplot(data = kbo, y = 'OPS');"
   ]
  },
  {
   "cell_type": "code",
   "execution_count": 29,
   "id": "68e97feb",
   "metadata": {},
   "outputs": [
    {
     "data": {
      "text/plain": [
       "선수명       object\n",
       "팀명        object\n",
       "경기         int64\n",
       "타석         int64\n",
       "타수         int64\n",
       "안타         int64\n",
       "홈런         int64\n",
       "득점         int64\n",
       "타점         int64\n",
       "볼넷         int64\n",
       "삼진         int64\n",
       "도루         int64\n",
       "BABIP    float64\n",
       "타율       float64\n",
       "출루율      float64\n",
       "장타율      float64\n",
       "OPS      float64\n",
       "wOBA     float64\n",
       "WAR      float64\n",
       "올스타       object\n",
       "dtype: object"
      ]
     },
     "execution_count": 29,
     "metadata": {},
     "output_type": "execute_result"
    }
   ],
   "source": [
    "kbo.dtypes"
   ]
  },
  {
   "cell_type": "code",
   "execution_count": 30,
   "id": "2a032ce1",
   "metadata": {},
   "outputs": [],
   "source": [
    "# kbo에서 열별 자료형이 실수형이면 True, 아니면 False인 시리즈 locs를 생성합니다.\n",
    "# [힌트] eq() 함수를 사용하세요.\n",
    "locs = kbo.dtypes.eq('float64')"
   ]
  },
  {
   "cell_type": "code",
   "execution_count": 31,
   "id": "6954861b",
   "metadata": {},
   "outputs": [
    {
     "data": {
      "text/html": [
       "<div>\n",
       "<style scoped>\n",
       "    .dataframe tbody tr th:only-of-type {\n",
       "        vertical-align: middle;\n",
       "    }\n",
       "\n",
       "    .dataframe tbody tr th {\n",
       "        vertical-align: top;\n",
       "    }\n",
       "\n",
       "    .dataframe thead th {\n",
       "        text-align: right;\n",
       "    }\n",
       "</style>\n",
       "<table border=\"1\" class=\"dataframe\">\n",
       "  <thead>\n",
       "    <tr style=\"text-align: right;\">\n",
       "      <th></th>\n",
       "      <th>BABIP</th>\n",
       "      <th>타율</th>\n",
       "      <th>출루율</th>\n",
       "      <th>장타율</th>\n",
       "      <th>OPS</th>\n",
       "      <th>wOBA</th>\n",
       "      <th>WAR</th>\n",
       "    </tr>\n",
       "  </thead>\n",
       "  <tbody>\n",
       "    <tr>\n",
       "      <th>0</th>\n",
       "      <td>0.393</td>\n",
       "      <td>0.328</td>\n",
       "      <td>0.456</td>\n",
       "      <td>0.408</td>\n",
       "      <td>0.864</td>\n",
       "      <td>0.412</td>\n",
       "      <td>7.10</td>\n",
       "    </tr>\n",
       "    <tr>\n",
       "      <th>1</th>\n",
       "      <td>0.373</td>\n",
       "      <td>0.360</td>\n",
       "      <td>0.438</td>\n",
       "      <td>0.522</td>\n",
       "      <td>0.960</td>\n",
       "      <td>0.429</td>\n",
       "      <td>7.06</td>\n",
       "    </tr>\n",
       "    <tr>\n",
       "      <th>2</th>\n",
       "      <td>0.385</td>\n",
       "      <td>0.347</td>\n",
       "      <td>0.451</td>\n",
       "      <td>0.521</td>\n",
       "      <td>0.972</td>\n",
       "      <td>0.434</td>\n",
       "      <td>6.97</td>\n",
       "    </tr>\n",
       "    <tr>\n",
       "      <th>3</th>\n",
       "      <td>0.277</td>\n",
       "      <td>0.278</td>\n",
       "      <td>0.410</td>\n",
       "      <td>0.562</td>\n",
       "      <td>0.972</td>\n",
       "      <td>0.425</td>\n",
       "      <td>6.83</td>\n",
       "    </tr>\n",
       "    <tr>\n",
       "      <th>4</th>\n",
       "      <td>0.315</td>\n",
       "      <td>0.325</td>\n",
       "      <td>0.414</td>\n",
       "      <td>0.581</td>\n",
       "      <td>0.995</td>\n",
       "      <td>0.432</td>\n",
       "      <td>6.48</td>\n",
       "    </tr>\n",
       "    <tr>\n",
       "      <th>...</th>\n",
       "      <td>...</td>\n",
       "      <td>...</td>\n",
       "      <td>...</td>\n",
       "      <td>...</td>\n",
       "      <td>...</td>\n",
       "      <td>...</td>\n",
       "      <td>...</td>\n",
       "    </tr>\n",
       "    <tr>\n",
       "      <th>295</th>\n",
       "      <td>0.311</td>\n",
       "      <td>0.239</td>\n",
       "      <td>0.275</td>\n",
       "      <td>0.321</td>\n",
       "      <td>0.596</td>\n",
       "      <td>0.270</td>\n",
       "      <td>-0.76</td>\n",
       "    </tr>\n",
       "    <tr>\n",
       "      <th>296</th>\n",
       "      <td>0.198</td>\n",
       "      <td>0.158</td>\n",
       "      <td>0.248</td>\n",
       "      <td>0.254</td>\n",
       "      <td>0.502</td>\n",
       "      <td>0.241</td>\n",
       "      <td>-0.90</td>\n",
       "    </tr>\n",
       "    <tr>\n",
       "      <th>297</th>\n",
       "      <td>0.264</td>\n",
       "      <td>0.175</td>\n",
       "      <td>0.238</td>\n",
       "      <td>0.228</td>\n",
       "      <td>0.466</td>\n",
       "      <td>0.224</td>\n",
       "      <td>-0.96</td>\n",
       "    </tr>\n",
       "    <tr>\n",
       "      <th>298</th>\n",
       "      <td>0.217</td>\n",
       "      <td>0.143</td>\n",
       "      <td>0.218</td>\n",
       "      <td>0.224</td>\n",
       "      <td>0.442</td>\n",
       "      <td>0.213</td>\n",
       "      <td>-0.96</td>\n",
       "    </tr>\n",
       "    <tr>\n",
       "      <th>299</th>\n",
       "      <td>0.235</td>\n",
       "      <td>0.153</td>\n",
       "      <td>0.229</td>\n",
       "      <td>0.214</td>\n",
       "      <td>0.443</td>\n",
       "      <td>0.217</td>\n",
       "      <td>-1.47</td>\n",
       "    </tr>\n",
       "  </tbody>\n",
       "</table>\n",
       "<p>194 rows × 7 columns</p>\n",
       "</div>"
      ],
      "text/plain": [
       "     BABIP     타율    출루율    장타율    OPS   wOBA   WAR\n",
       "0    0.393  0.328  0.456  0.408  0.864  0.412  7.10\n",
       "1    0.373  0.360  0.438  0.522  0.960  0.429  7.06\n",
       "2    0.385  0.347  0.451  0.521  0.972  0.434  6.97\n",
       "3    0.277  0.278  0.410  0.562  0.972  0.425  6.83\n",
       "4    0.315  0.325  0.414  0.581  0.995  0.432  6.48\n",
       "..     ...    ...    ...    ...    ...    ...   ...\n",
       "295  0.311  0.239  0.275  0.321  0.596  0.270 -0.76\n",
       "296  0.198  0.158  0.248  0.254  0.502  0.241 -0.90\n",
       "297  0.264  0.175  0.238  0.228  0.466  0.224 -0.96\n",
       "298  0.217  0.143  0.218  0.224  0.442  0.213 -0.96\n",
       "299  0.235  0.153  0.229  0.214  0.443  0.217 -1.47\n",
       "\n",
       "[194 rows x 7 columns]"
      ]
     },
     "execution_count": 31,
     "metadata": {},
     "output_type": "execute_result"
    }
   ],
   "source": [
    "# kbo에서 실수형 변수만 선택합니다.\n",
    "# [힌트] loc 인덱서를 추가하고 열 위치에 locs를 지정하세요.\n",
    "kbo.loc[:, locs]"
   ]
  },
  {
   "cell_type": "code",
   "execution_count": 32,
   "id": "09f12a4b",
   "metadata": {
    "scrolled": true
   },
   "outputs": [
    {
     "data": {
      "text/plain": [
       "Index(['BABIP', '타율', '출루율', '장타율', 'OPS', 'wOBA', 'WAR'], dtype='object')"
      ]
     },
     "execution_count": 32,
     "metadata": {},
     "output_type": "execute_result"
    }
   ],
   "source": [
    "# kbo에서 열별 자료형이 실수형인 열이름을 출력합니다.\n",
    "# [힌트] 위 코드 실행 결과에서 열이름을 출력하세요.\n",
    "kbo.loc[:, locs].columns"
   ]
  },
  {
   "cell_type": "code",
   "execution_count": 33,
   "id": "cf0b6499",
   "metadata": {
    "ExecuteTime": {
     "end_time": "2022-06-07T14:12:38.348367Z",
     "start_time": "2022-06-07T14:12:38.148505Z"
    }
   },
   "outputs": [
    {
     "data": {
      "image/png": "[encoded data removed]",
      "text/plain": [
       "<Figure size 600x600 with 1 Axes>"
      ]
     },
     "metadata": {},
     "output_type": "display_data"
    }
   ],
   "source": [
    "# BABIP과 OPS의 산점도를 그립니다.\n",
    "# [힌트] hds.plot_regression() 함수를 사용하세요.\n",
    "hds.plot_regression(data = kbo, x = 'BABIP', y = 'OPS')"
   ]
  },
  {
   "cell_type": "code",
   "execution_count": null,
   "id": "e2112e4e",
   "metadata": {
    "ExecuteTime": {
     "end_time": "2022-06-07T14:12:38.547892Z",
     "start_time": "2022-06-07T14:12:38.350147Z"
    }
   },
   "outputs": [],
   "source": [
    "# 타율과 OPS의 산점도를 그립니다.\n",
    "# [힌트] hds.plot_regression() 함수를 사용하세요.\n",
    "hds.plot_regression()"
   ]
  },
  {
   "cell_type": "code",
   "execution_count": null,
   "id": "5216e1a6",
   "metadata": {
    "ExecuteTime": {
     "end_time": "2022-06-07T14:12:38.737728Z",
     "start_time": "2022-06-07T14:12:38.549453Z"
    }
   },
   "outputs": [],
   "source": [
    "# 출루율과 OPS의 산점도를 그립니다.\n",
    "# [힌트] hds.plot_regression() 함수를 사용하세요.\n",
    "hds.plot_regression()"
   ]
  },
  {
   "cell_type": "code",
   "execution_count": null,
   "id": "df0142d0",
   "metadata": {},
   "outputs": [],
   "source": [
    "# 장타율과 OPS의 산점도를 그립니다.\n",
    "# [힌트] hds.plot_regression() 함수를 사용하세요.\n",
    "hds.plot_regression()"
   ]
  },
  {
   "cell_type": "code",
   "execution_count": null,
   "id": "06fd1039",
   "metadata": {},
   "outputs": [],
   "source": [
    "# wOBA와 OPS의 산점도를 그립니다.\n",
    "# [힌트] hds.plot_regression() 함수를 사용하세요.\n",
    "hds.plot_regression()"
   ]
  },
  {
   "cell_type": "code",
   "execution_count": null,
   "id": "e4876bf8",
   "metadata": {},
   "outputs": [],
   "source": [
    "# WAR과 OPS의 산점도를 그립니다.\n",
    "# [힌트] hds.plot_regression() 함수를 사용하세요.\n",
    "hds.plot_regression()"
   ]
  },
  {
   "cell_type": "code",
   "execution_count": 34,
   "id": "c82887a0",
   "metadata": {
    "ExecuteTime": {
     "end_time": "2022-06-07T14:12:38.853670Z",
     "start_time": "2022-06-07T14:12:38.739611Z"
    }
   },
   "outputs": [
    {
     "data": {
      "image/png": "[encoded data removed]",
      "text/plain": [
       "<Figure size 600x600 with 1 Axes>"
      ]
     },
     "metadata": {},
     "output_type": "display_data"
    }
   ],
   "source": [
    "# 올스타의 범주별 OPS의 분포를 비교합니다.\n",
    "# [힌트] hds.plot_box_group() 함수를 사용하세요.\n",
    "hds.plot_box_group(data = kbo, x = '올스타', y = 'OPS')"
   ]
  },
  {
   "cell_type": "markdown",
   "id": "846ab49f",
   "metadata": {},
   "source": [
    "### 기술통계 분석\n",
    "\n",
    "변수별 대푯값(중심)과 산포(흩어진 정도)를 다양한 기술통계량으로 확인합니다."
   ]
  },
  {
   "cell_type": "code",
   "execution_count": null,
   "id": "2bf3421c",
   "metadata": {
    "ExecuteTime": {
     "end_time": "2022-06-07T14:12:38.859104Z",
     "start_time": "2022-06-07T14:12:38.855620Z"
    }
   },
   "outputs": [],
   "source": [
    "# OPS의 평균을 출력합니다.\n",
    "# [힌트] mean() 함수를 사용하세요.\n",
    "kbo['OPS']."
   ]
  },
  {
   "cell_type": "code",
   "execution_count": null,
   "id": "bee3b100",
   "metadata": {
    "ExecuteTime": {
     "end_time": "2022-06-07T14:12:38.865034Z",
     "start_time": "2022-06-07T14:12:38.860866Z"
    }
   },
   "outputs": [],
   "source": [
    "# OPS의 5% 절사평균을 출력합니다.\n",
    "# [힌트] stats.trim_mean() 함수를 사용하세요.\n",
    "stats.trim_mean()"
   ]
  },
  {
   "cell_type": "code",
   "execution_count": null,
   "id": "bbd1b2d1",
   "metadata": {
    "ExecuteTime": {
     "end_time": "2022-06-07T14:12:38.870517Z",
     "start_time": "2022-06-07T14:12:38.866965Z"
    }
   },
   "outputs": [],
   "source": [
    "# OPS의 중위수를 출력합니다.\n",
    "# [힌트] median() 함수를 사용하세요.\n",
    "kbo['OPS']."
   ]
  },
  {
   "cell_type": "code",
   "execution_count": null,
   "id": "a548ebd0",
   "metadata": {},
   "outputs": [],
   "source": [
    "# 팀명의 최빈값을 출력합니다.\n",
    "# [힌트] mode() 함수를 사용하세요.\n",
    "kbo['팀명']."
   ]
  },
  {
   "cell_type": "code",
   "execution_count": null,
   "id": "403fb622",
   "metadata": {
    "ExecuteTime": {
     "end_time": "2022-06-07T14:12:38.940090Z",
     "start_time": "2022-06-07T14:12:38.935948Z"
    }
   },
   "outputs": [],
   "source": [
    "# OPS의 범위를 출력합니다.\n",
    "# [힌트] quantile()과 diff() 함수를 차례대로 사용하세요.\n",
    "# diff() 함수 실행 결과에서 마지막 원소를 인덱싱하세요.\n",
    "kbo['OPS']."
   ]
  },
  {
   "cell_type": "code",
   "execution_count": null,
   "id": "985a9d18",
   "metadata": {
    "ExecuteTime": {
     "end_time": "2022-06-07T14:12:38.946053Z",
     "start_time": "2022-06-07T14:12:38.941791Z"
    }
   },
   "outputs": [],
   "source": [
    "# OPS의 사분범위를 출력합니다.\n",
    "# [힌트] quantile()과 diff() 함수를 차례대로 사용하세요.\n",
    "# diff() 함수 실행 결과에서 마지막 원소를 인덱싱하세요.\n",
    "kbo['OPS']."
   ]
  },
  {
   "cell_type": "code",
   "execution_count": null,
   "id": "1d801d2b",
   "metadata": {
    "ExecuteTime": {
     "end_time": "2022-06-07T14:12:38.951179Z",
     "start_time": "2022-06-07T14:12:38.947774Z"
    }
   },
   "outputs": [],
   "source": [
    "# OPS의 분산을 출력합니다.\n",
    "# [힌트] var() 함수를 사용하세요.\n",
    "kbo['OPS']."
   ]
  },
  {
   "cell_type": "code",
   "execution_count": null,
   "id": "bcd9458c",
   "metadata": {
    "ExecuteTime": {
     "end_time": "2022-06-07T14:12:38.956266Z",
     "start_time": "2022-06-07T14:12:38.952790Z"
    }
   },
   "outputs": [],
   "source": [
    "# OPS의 표준편차를 출력합니다.\n",
    "# [힌트] std() 함수를 사용하세요.\n",
    "kbo['OPS']."
   ]
  },
  {
   "cell_type": "code",
   "execution_count": null,
   "id": "56e1c66a",
   "metadata": {},
   "outputs": [],
   "source": [
    "# OPS의 중위수절대편차를 출력합니다.\n",
    "# [힌트] robust.mad() 함수를 사용하세요.\n",
    "robust.mad()"
   ]
  },
  {
   "cell_type": "markdown",
   "id": "0a3062e6",
   "metadata": {},
   "source": [
    "### z 파일로 저장"
   ]
  },
  {
   "cell_type": "code",
   "execution_count": 35,
   "id": "34757084",
   "metadata": {
    "ExecuteTime": {
     "end_time": "2022-06-07T14:12:38.961140Z",
     "start_time": "2022-06-07T14:12:38.957997Z"
    }
   },
   "outputs": [
    {
     "data": {
      "text/plain": [
       "'C:\\\\Users\\\\Administrator\\\\Documents\\\\PythonAdvanced-main\\\\exercise'"
      ]
     },
     "execution_count": 35,
     "metadata": {},
     "output_type": "execute_result"
    }
   ],
   "source": [
    "# 현재 작업 경로를 확인합니다.\n",
    "# [힌트] getcwd() 함수를 사용하세요.\n",
    "os.getcwd()"
   ]
  },
  {
   "cell_type": "code",
   "execution_count": 36,
   "id": "764f3a7d",
   "metadata": {
    "ExecuteTime": {
     "end_time": "2022-06-07T14:12:38.965644Z",
     "start_time": "2022-06-07T14:12:38.963037Z"
    }
   },
   "outputs": [],
   "source": [
    "# data 폴더로 작업 경로를 변경합니다.\n",
    "# [힌트] chdir() 함수를 사용하세요.\n",
    "os.chdir(path = '../data')"
   ]
  },
  {
   "cell_type": "code",
   "execution_count": 37,
   "id": "3b780db8",
   "metadata": {
    "ExecuteTime": {
     "end_time": "2022-06-07T14:12:38.972735Z",
     "start_time": "2022-06-07T14:12:38.967483Z"
    }
   },
   "outputs": [
    {
     "data": {
      "text/plain": [
       "['KBO_Hitter_2021.z']"
      ]
     },
     "execution_count": 37,
     "metadata": {},
     "output_type": "execute_result"
    }
   ],
   "source": [
    "# kbo를 'KBO_Hitter_2021.z'로 저장합니다.\n",
    "# [힌트] joblib.dump() 함수를 사용하세요.\n",
    "joblib.dump(value = kbo, filename = 'KBO_Hitter_2021.z')"
   ]
  },
  {
   "cell_type": "code",
   "execution_count": 38,
   "id": "9638ddac",
   "metadata": {
    "ExecuteTime": {
     "end_time": "2022-06-07T14:12:38.978176Z",
     "start_time": "2022-06-07T14:12:38.974604Z"
    }
   },
   "outputs": [
    {
     "data": {
      "text/plain": [
       "['GDP_Per_Capital_2021.csv',\n",
       " 'KBO_Hitter_2021.z',\n",
       " 'temp',\n",
       " 'Used_Cars_Price.csv',\n",
       " 'Used_Cars_Price.xlsx',\n",
       " 'Used_Cars_Price.z',\n",
       " 'Used_Cars_Price_Prep.z']"
      ]
     },
     "execution_count": 38,
     "metadata": {},
     "output_type": "execute_result"
    }
   ],
   "source": [
    "# 현재 작업 경로에 있는 폴더명과 파일명을 출력합니다.\n",
    "# [힌트] listdir() 함수를 사용하세요.\n",
    "os.listdir()"
   ]
  },
  {
   "cell_type": "markdown",
   "id": "27389316",
   "metadata": {},
   "source": [
    "## End of Document"
   ]
  }
 ],
 "metadata": {
  "kernelspec": {
   "display_name": "Python 3",
   "language": "python",
   "name": "python3"
  },
  "language_info": {
   "codemirror_mode": {
    "name": "ipython",
    "version": 3
   },
   "file_extension": ".py",
   "mimetype": "text/x-python",
   "name": "python",
   "nbconvert_exporter": "python",
   "pygments_lexer": "ipython3",
   "version": "3.10.7"
  },
  "toc": {
   "base_numbering": 1,
   "nav_menu": {},
   "number_sections": false,
   "sideBar": true,
   "skip_h1_title": false,
   "title_cell": "Table of Contents",
   "title_sidebar": "Contents",
   "toc_cell": false,
   "toc_position": {},
   "toc_section_display": true,
   "toc_window_display": false
  },
  "varInspector": {
   "cols": {
    "lenName": 16,
    "lenType": 16,
    "lenVar": 40
   },
   "kernels_config": {
    "python": {
     "delete_cmd_postfix": "",
     "delete_cmd_prefix": "del ",
     "library": "var_list.py",
     "varRefreshCmd": "print(var_dic_list())"
    },
    "r": {
     "delete_cmd_postfix": ") ",
     "delete_cmd_prefix": "rm(",
     "library": "var_list.r",
     "varRefreshCmd": "cat(var_dic_list()) "
    }
   },
   "types_to_exclude": [
    "module",
    "function",
    "builtin_function_or_method",
    "instance",
    "_Feature"
   ],
   "window_display": false
  }
 },
 "nbformat": 4,
 "nbformat_minor": 5
}
