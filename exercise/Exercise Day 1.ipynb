{
 "cells": [
  {
   "cell_type": "markdown",
   "id": "d67ed441",
   "metadata": {},
   "source": [
    "## 연습문제 Day 1"
   ]
  },
  {
   "cell_type": "markdown",
   "id": "b9412587",
   "metadata": {},
   "source": [
    "- 2021년 한국프로야구 타자 스탯 데이터를 읽고, 기술통계 분석과 데이터 시각화를 실행합니다.\n",
    "- url : https://bit.ly/KBO_Hitters_2021 (인코딩방식: EUC-KR)"
   ]
  },
  {
   "cell_type": "markdown",
   "id": "02695637",
   "metadata": {},
   "source": [
    "### 실습 데이터셋 준비"
   ]
  },
  {
   "cell_type": "code",
   "execution_count": 1,
   "id": "7619df2e",
   "metadata": {},
   "outputs": [],
   "source": [
    "# 관련 라이브러리를 호출합니다.\n",
    "import os\n",
    "import numpy as np\n",
    "import pandas as pd\n",
    "from scipy import stats\n",
    "import joblib"
   ]
  },
  {
   "cell_type": "code",
   "execution_count": 2,
   "id": "bb6bdee3",
   "metadata": {},
   "outputs": [],
   "source": [
    "# 온라인으로 공유 중인 csv 파일 주소를 URL에 할당합니다.\n",
    "URL = 'https://bit.ly/KBO_Hitters_2021'"
   ]
  },
  {
   "cell_type": "code",
   "execution_count": 3,
   "id": "45e3b38f",
   "metadata": {},
   "outputs": [],
   "source": [
    "# URL을 읽고, 데이터프레임 kbo를 생성합니다.\n",
    "# [힌트] pd.read_csv() 함수를 사용하세요.\n",
    "kbo = pd.read_csv(URL, encoding = 'EUC-KR')"
   ]
  },
  {
   "cell_type": "code",
   "execution_count": 4,
   "id": "7ce0699d",
   "metadata": {},
   "outputs": [
    {
     "name": "stdout",
     "output_type": "stream",
     "text": [
      "<class 'pandas.core.frame.DataFrame'>\n",
      "RangeIndex: 300 entries, 0 to 299\n",
      "Data columns (total 19 columns):\n",
      " #   Column  Non-Null Count  Dtype  \n",
      "---  ------  --------------  -----  \n",
      " 0   선수명     300 non-null    object \n",
      " 1   팀명      300 non-null    object \n",
      " 2   경기      300 non-null    int64  \n",
      " 3   타석      300 non-null    int64  \n",
      " 4   타수      300 non-null    int64  \n",
      " 5   안타      300 non-null    int64  \n",
      " 6   홈런      300 non-null    int64  \n",
      " 7   득점      300 non-null    int64  \n",
      " 8   타점      300 non-null    int64  \n",
      " 9   볼넷      300 non-null    int64  \n",
      " 10  삼진      300 non-null    int64  \n",
      " 11  도루      300 non-null    int64  \n",
      " 12  BABIP   300 non-null    object \n",
      " 13  타율      300 non-null    float64\n",
      " 14  출루율     300 non-null    float64\n",
      " 15  장타율     300 non-null    float64\n",
      " 16  OPS     300 non-null    float64\n",
      " 17  wOBA    300 non-null    float64\n",
      " 18  WAR     300 non-null    float64\n",
      "dtypes: float64(6), int64(10), object(3)\n",
      "memory usage: 44.7+ KB\n"
     ]
    }
   ],
   "source": [
    "# kbo의 정보를 확인합니다.\n",
    "# [힌트] info() 함수를 사용하세요.\n",
    "kbo.info()"
   ]
  },
  {
   "cell_type": "code",
   "execution_count": 5,
   "id": "d9b08400",
   "metadata": {},
   "outputs": [
    {
     "data": {
      "text/html": [
       "<div>\n",
       "<style scoped>\n",
       "    .dataframe tbody tr th:only-of-type {\n",
       "        vertical-align: middle;\n",
       "    }\n",
       "\n",
       "    .dataframe tbody tr th {\n",
       "        vertical-align: top;\n",
       "    }\n",
       "\n",
       "    .dataframe thead th {\n",
       "        text-align: right;\n",
       "    }\n",
       "</style>\n",
       "<table border=\"1\" class=\"dataframe\">\n",
       "  <thead>\n",
       "    <tr style=\"text-align: right;\">\n",
       "      <th></th>\n",
       "      <th>선수명</th>\n",
       "      <th>팀명</th>\n",
       "      <th>경기</th>\n",
       "      <th>타석</th>\n",
       "      <th>타수</th>\n",
       "      <th>안타</th>\n",
       "      <th>홈런</th>\n",
       "      <th>득점</th>\n",
       "      <th>타점</th>\n",
       "      <th>볼넷</th>\n",
       "      <th>삼진</th>\n",
       "      <th>도루</th>\n",
       "      <th>BABIP</th>\n",
       "      <th>타율</th>\n",
       "      <th>출루율</th>\n",
       "      <th>장타율</th>\n",
       "      <th>OPS</th>\n",
       "      <th>wOBA</th>\n",
       "      <th>WAR</th>\n",
       "    </tr>\n",
       "  </thead>\n",
       "  <tbody>\n",
       "    <tr>\n",
       "      <th>0</th>\n",
       "      <td>홍창기</td>\n",
       "      <td>LG</td>\n",
       "      <td>144</td>\n",
       "      <td>651</td>\n",
       "      <td>524</td>\n",
       "      <td>172</td>\n",
       "      <td>4</td>\n",
       "      <td>103</td>\n",
       "      <td>52</td>\n",
       "      <td>109</td>\n",
       "      <td>95</td>\n",
       "      <td>23</td>\n",
       "      <td>0.393</td>\n",
       "      <td>0.328</td>\n",
       "      <td>0.456</td>\n",
       "      <td>0.408</td>\n",
       "      <td>0.864</td>\n",
       "      <td>0.412</td>\n",
       "      <td>7.10</td>\n",
       "    </tr>\n",
       "    <tr>\n",
       "      <th>1</th>\n",
       "      <td>이정후</td>\n",
       "      <td>Hero</td>\n",
       "      <td>123</td>\n",
       "      <td>544</td>\n",
       "      <td>464</td>\n",
       "      <td>167</td>\n",
       "      <td>7</td>\n",
       "      <td>78</td>\n",
       "      <td>84</td>\n",
       "      <td>62</td>\n",
       "      <td>37</td>\n",
       "      <td>10</td>\n",
       "      <td>0.373</td>\n",
       "      <td>0.360</td>\n",
       "      <td>0.438</td>\n",
       "      <td>0.522</td>\n",
       "      <td>0.960</td>\n",
       "      <td>0.429</td>\n",
       "      <td>7.06</td>\n",
       "    </tr>\n",
       "    <tr>\n",
       "      <th>2</th>\n",
       "      <td>강백호</td>\n",
       "      <td>KT</td>\n",
       "      <td>142</td>\n",
       "      <td>628</td>\n",
       "      <td>516</td>\n",
       "      <td>179</td>\n",
       "      <td>16</td>\n",
       "      <td>76</td>\n",
       "      <td>102</td>\n",
       "      <td>104</td>\n",
       "      <td>85</td>\n",
       "      <td>10</td>\n",
       "      <td>0.385</td>\n",
       "      <td>0.347</td>\n",
       "      <td>0.451</td>\n",
       "      <td>0.521</td>\n",
       "      <td>0.972</td>\n",
       "      <td>0.434</td>\n",
       "      <td>6.97</td>\n",
       "    </tr>\n",
       "    <tr>\n",
       "      <th>3</th>\n",
       "      <td>최정</td>\n",
       "      <td>SSG</td>\n",
       "      <td>134</td>\n",
       "      <td>555</td>\n",
       "      <td>436</td>\n",
       "      <td>121</td>\n",
       "      <td>35</td>\n",
       "      <td>92</td>\n",
       "      <td>100</td>\n",
       "      <td>84</td>\n",
       "      <td>102</td>\n",
       "      <td>8</td>\n",
       "      <td>0.277</td>\n",
       "      <td>0.278</td>\n",
       "      <td>0.410</td>\n",
       "      <td>0.562</td>\n",
       "      <td>0.972</td>\n",
       "      <td>0.425</td>\n",
       "      <td>6.83</td>\n",
       "    </tr>\n",
       "    <tr>\n",
       "      <th>4</th>\n",
       "      <td>양의지</td>\n",
       "      <td>NC</td>\n",
       "      <td>141</td>\n",
       "      <td>570</td>\n",
       "      <td>480</td>\n",
       "      <td>156</td>\n",
       "      <td>30</td>\n",
       "      <td>81</td>\n",
       "      <td>111</td>\n",
       "      <td>69</td>\n",
       "      <td>60</td>\n",
       "      <td>2</td>\n",
       "      <td>0.315</td>\n",
       "      <td>0.325</td>\n",
       "      <td>0.414</td>\n",
       "      <td>0.581</td>\n",
       "      <td>0.995</td>\n",
       "      <td>0.432</td>\n",
       "      <td>6.48</td>\n",
       "    </tr>\n",
       "    <tr>\n",
       "      <th>5</th>\n",
       "      <td>알테어</td>\n",
       "      <td>NC</td>\n",
       "      <td>143</td>\n",
       "      <td>565</td>\n",
       "      <td>492</td>\n",
       "      <td>134</td>\n",
       "      <td>32</td>\n",
       "      <td>83</td>\n",
       "      <td>84</td>\n",
       "      <td>57</td>\n",
       "      <td>156</td>\n",
       "      <td>20</td>\n",
       "      <td>0.331</td>\n",
       "      <td>0.272</td>\n",
       "      <td>0.358</td>\n",
       "      <td>0.514</td>\n",
       "      <td>0.872</td>\n",
       "      <td>0.384</td>\n",
       "      <td>4.89</td>\n",
       "    </tr>\n",
       "    <tr>\n",
       "      <th>6</th>\n",
       "      <td>전준우</td>\n",
       "      <td>롯데</td>\n",
       "      <td>144</td>\n",
       "      <td>619</td>\n",
       "      <td>552</td>\n",
       "      <td>192</td>\n",
       "      <td>7</td>\n",
       "      <td>88</td>\n",
       "      <td>92</td>\n",
       "      <td>53</td>\n",
       "      <td>71</td>\n",
       "      <td>6</td>\n",
       "      <td>0.384</td>\n",
       "      <td>0.348</td>\n",
       "      <td>0.405</td>\n",
       "      <td>0.469</td>\n",
       "      <td>0.874</td>\n",
       "      <td>0.395</td>\n",
       "      <td>4.86</td>\n",
       "    </tr>\n",
       "    <tr>\n",
       "      <th>7</th>\n",
       "      <td>구자욱</td>\n",
       "      <td>삼성</td>\n",
       "      <td>139</td>\n",
       "      <td>610</td>\n",
       "      <td>543</td>\n",
       "      <td>166</td>\n",
       "      <td>22</td>\n",
       "      <td>107</td>\n",
       "      <td>88</td>\n",
       "      <td>48</td>\n",
       "      <td>98</td>\n",
       "      <td>27</td>\n",
       "      <td>0.331</td>\n",
       "      <td>0.306</td>\n",
       "      <td>0.361</td>\n",
       "      <td>0.519</td>\n",
       "      <td>0.880</td>\n",
       "      <td>0.382</td>\n",
       "      <td>4.48</td>\n",
       "    </tr>\n",
       "    <tr>\n",
       "      <th>8</th>\n",
       "      <td>정은원</td>\n",
       "      <td>한화</td>\n",
       "      <td>139</td>\n",
       "      <td>608</td>\n",
       "      <td>495</td>\n",
       "      <td>140</td>\n",
       "      <td>6</td>\n",
       "      <td>85</td>\n",
       "      <td>39</td>\n",
       "      <td>105</td>\n",
       "      <td>105</td>\n",
       "      <td>19</td>\n",
       "      <td>0.346</td>\n",
       "      <td>0.283</td>\n",
       "      <td>0.407</td>\n",
       "      <td>0.384</td>\n",
       "      <td>0.791</td>\n",
       "      <td>0.376</td>\n",
       "      <td>4.41</td>\n",
       "    </tr>\n",
       "    <tr>\n",
       "      <th>9</th>\n",
       "      <td>추신수</td>\n",
       "      <td>SSG</td>\n",
       "      <td>137</td>\n",
       "      <td>580</td>\n",
       "      <td>461</td>\n",
       "      <td>122</td>\n",
       "      <td>21</td>\n",
       "      <td>84</td>\n",
       "      <td>69</td>\n",
       "      <td>103</td>\n",
       "      <td>123</td>\n",
       "      <td>25</td>\n",
       "      <td>0.315</td>\n",
       "      <td>0.265</td>\n",
       "      <td>0.409</td>\n",
       "      <td>0.451</td>\n",
       "      <td>0.860</td>\n",
       "      <td>0.396</td>\n",
       "      <td>4.30</td>\n",
       "    </tr>\n",
       "  </tbody>\n",
       "</table>\n",
       "</div>"
      ],
      "text/plain": [
       "   선수명    팀명   경기   타석   타수   안타  홈런   득점   타점   볼넷   삼진  도루  BABIP     타율  \\\n",
       "0  홍창기    LG  144  651  524  172   4  103   52  109   95  23  0.393  0.328   \n",
       "1  이정후  Hero  123  544  464  167   7   78   84   62   37  10  0.373  0.360   \n",
       "2  강백호    KT  142  628  516  179  16   76  102  104   85  10  0.385  0.347   \n",
       "3   최정   SSG  134  555  436  121  35   92  100   84  102   8  0.277  0.278   \n",
       "4  양의지    NC  141  570  480  156  30   81  111   69   60   2  0.315  0.325   \n",
       "5  알테어    NC  143  565  492  134  32   83   84   57  156  20  0.331  0.272   \n",
       "6  전준우    롯데  144  619  552  192   7   88   92   53   71   6  0.384  0.348   \n",
       "7  구자욱    삼성  139  610  543  166  22  107   88   48   98  27  0.331  0.306   \n",
       "8  정은원    한화  139  608  495  140   6   85   39  105  105  19  0.346  0.283   \n",
       "9  추신수   SSG  137  580  461  122  21   84   69  103  123  25  0.315  0.265   \n",
       "\n",
       "     출루율    장타율    OPS   wOBA   WAR  \n",
       "0  0.456  0.408  0.864  0.412  7.10  \n",
       "1  0.438  0.522  0.960  0.429  7.06  \n",
       "2  0.451  0.521  0.972  0.434  6.97  \n",
       "3  0.410  0.562  0.972  0.425  6.83  \n",
       "4  0.414  0.581  0.995  0.432  6.48  \n",
       "5  0.358  0.514  0.872  0.384  4.89  \n",
       "6  0.405  0.469  0.874  0.395  4.86  \n",
       "7  0.361  0.519  0.880  0.382  4.48  \n",
       "8  0.407  0.384  0.791  0.376  4.41  \n",
       "9  0.409  0.451  0.860  0.396  4.30  "
      ]
     },
     "execution_count": 5,
     "metadata": {},
     "output_type": "execute_result"
    }
   ],
   "source": [
    "# kbo의 처음 10행을 출력합니다.\n",
    "# [힌트] head() 함수를 사용하세요.\n",
    "kbo.head(n = 10)"
   ]
  },
  {
   "cell_type": "code",
   "execution_count": 6,
   "id": "3f4836e3",
   "metadata": {},
   "outputs": [],
   "source": [
    "# 경기가 50 이상인 행만 남겨서 kbo에 재할당합니다.\n",
    "# [힌트] ge(), copy() 함수를 사용하세요.\n",
    "kbo = kbo[kbo['경기'].ge(50)]"
   ]
  },
  {
   "cell_type": "code",
   "execution_count": 7,
   "id": "10b9c1ef",
   "metadata": {},
   "outputs": [
    {
     "data": {
      "text/plain": [
       "156"
      ]
     },
     "execution_count": 7,
     "metadata": {},
     "output_type": "execute_result"
    }
   ],
   "source": [
    "# kbo의 행 개수를 출력합니다. 출력 결과는 156이어야 합니다.\n",
    "# [힌트] shape 속성의 첫 번째 원소를 인덱싱해보세요.\n",
    "kbo.shape[0]"
   ]
  },
  {
   "cell_type": "code",
   "execution_count": 8,
   "id": "52e0bcf4",
   "metadata": {},
   "outputs": [],
   "source": [
    "# 팀명이 '두산', '롯데', '삼성', 'SSG', 'KT'면 True, \n",
    "# 아니면 False인 부울형 시리즈 locs를 생성합니다.\n",
    "# [힌트] isin() 함수를 사용하세요.\n",
    "locs = kbo['팀명'].isin(values = ['두산', '롯데', '삼성', 'SSG', 'KT'])"
   ]
  },
  {
   "cell_type": "code",
   "execution_count": 9,
   "id": "8955be50",
   "metadata": {},
   "outputs": [
    {
     "data": {
      "text/plain": [
       "0      False\n",
       "1      False\n",
       "2       True\n",
       "3       True\n",
       "4      False\n",
       "       ...  \n",
       "289     True\n",
       "290    False\n",
       "292    False\n",
       "295    False\n",
       "296    False\n",
       "Name: 팀명, Length: 156, dtype: bool"
      ]
     },
     "execution_count": 9,
     "metadata": {},
     "output_type": "execute_result"
    }
   ],
   "source": [
    "# locs를 출력합니다.\n",
    "locs"
   ]
  },
  {
   "cell_type": "code",
   "execution_count": 10,
   "id": "83b038e0",
   "metadata": {},
   "outputs": [
    {
     "data": {
      "text/plain": [
       "77"
      ]
     },
     "execution_count": 10,
     "metadata": {},
     "output_type": "execute_result"
    }
   ],
   "source": [
    "# locs에서 True의 개수를 출력합니다. 출력 결과는 77이어야 합니다.\n",
    "# [힌트] sum() 함수를 사용하세요.\n",
    "locs.sum()"
   ]
  },
  {
   "cell_type": "code",
   "execution_count": 11,
   "id": "1447fada",
   "metadata": {},
   "outputs": [],
   "source": [
    "# locs가 True면 '드림', False면 '나눔'인 문자열 시리즈를 \n",
    "# kbo의 오른쪽 끝에 올스타팀이라는 열이름으로 추가합니다.\n",
    "# [힌트] np.where() 함수를 사용하세요.\n",
    "kbo['올스타팀'] = np.where(locs, '드림', '나눔')"
   ]
  },
  {
   "cell_type": "code",
   "execution_count": 12,
   "id": "e989672b",
   "metadata": {},
   "outputs": [
    {
     "data": {
      "text/plain": [
       "나눔    79\n",
       "드림    77\n",
       "Name: 올스타팀, dtype: int64"
      ]
     },
     "execution_count": 12,
     "metadata": {},
     "output_type": "execute_result"
    }
   ],
   "source": [
    "# 올스타팀의 범주별 빈도수를 출력합니다.\n",
    "# [힌트] value_counts() 함수를 사용하세요.\n",
    "kbo['올스타팀'].value_counts()"
   ]
  },
  {
   "cell_type": "markdown",
   "id": "f9cb2db6",
   "metadata": {},
   "source": [
    "### 데이터 시각화"
   ]
  },
  {
   "cell_type": "code",
   "execution_count": 13,
   "id": "6a62dd5d",
   "metadata": {},
   "outputs": [],
   "source": [
    "# 시각화 관련 모듈을 호출합니다.\n",
    "from GraphicSetting import *\n",
    "import HelloDataScience as hds"
   ]
  },
  {
   "cell_type": "code",
   "execution_count": 14,
   "id": "39997c09",
   "metadata": {},
   "outputs": [],
   "source": [
    "# 기본 팔레트를 'Set1'으로 변경합니다.\n",
    "sns.set_palette(palette = 'Set1', n_colors = 9)"
   ]
  },
  {
   "cell_type": "code",
   "execution_count": 15,
   "id": "662118b3",
   "metadata": {},
   "outputs": [
    {
     "data": {
      "text/html": [
       "<svg  width=\"495\" height=\"55\"><rect x=\"0\" y=\"0\" width=\"55\" height=\"55\" style=\"fill:#e41a1c;stroke-width:2;stroke:rgb(255,255,255)\"/><rect x=\"55\" y=\"0\" width=\"55\" height=\"55\" style=\"fill:#377eb8;stroke-width:2;stroke:rgb(255,255,255)\"/><rect x=\"110\" y=\"0\" width=\"55\" height=\"55\" style=\"fill:#4daf4a;stroke-width:2;stroke:rgb(255,255,255)\"/><rect x=\"165\" y=\"0\" width=\"55\" height=\"55\" style=\"fill:#984ea3;stroke-width:2;stroke:rgb(255,255,255)\"/><rect x=\"220\" y=\"0\" width=\"55\" height=\"55\" style=\"fill:#ff7f00;stroke-width:2;stroke:rgb(255,255,255)\"/><rect x=\"275\" y=\"0\" width=\"55\" height=\"55\" style=\"fill:#ffff33;stroke-width:2;stroke:rgb(255,255,255)\"/><rect x=\"330\" y=\"0\" width=\"55\" height=\"55\" style=\"fill:#a65628;stroke-width:2;stroke:rgb(255,255,255)\"/><rect x=\"385\" y=\"0\" width=\"55\" height=\"55\" style=\"fill:#f781bf;stroke-width:2;stroke:rgb(255,255,255)\"/><rect x=\"440\" y=\"0\" width=\"55\" height=\"55\" style=\"fill:#999999;stroke-width:2;stroke:rgb(255,255,255)\"/></svg>"
      ],
      "text/plain": [
       "[(0.8941176470588236, 0.10196078431372549, 0.10980392156862745),\n",
       " (0.21568627450980393, 0.49411764705882355, 0.7215686274509804),\n",
       " (0.30196078431372547, 0.6862745098039216, 0.2901960784313726),\n",
       " (0.596078431372549, 0.3058823529411765, 0.6392156862745098),\n",
       " (1.0, 0.4980392156862745, 0.0),\n",
       " (1.0, 1.0, 0.2),\n",
       " (0.6509803921568628, 0.33725490196078434, 0.1568627450980392),\n",
       " (0.9686274509803922, 0.5058823529411764, 0.7490196078431373),\n",
       " (0.6, 0.6, 0.6)]"
      ]
     },
     "execution_count": 15,
     "metadata": {},
     "output_type": "execute_result"
    }
   ],
   "source": [
    "# 기본 팔레트 색을 출력합니다.\n",
    "sns.color_palette()"
   ]
  },
  {
   "cell_type": "code",
   "execution_count": 16,
   "id": "41164c6f",
   "metadata": {},
   "outputs": [
    {
     "data": {
      "text/plain": [
       "min    0.167\n",
       "max    0.995\n",
       "Name: OPS, dtype: float64"
      ]
     },
     "execution_count": 16,
     "metadata": {},
     "output_type": "execute_result"
    }
   ],
   "source": [
    "# OPS의 최솟값과 최댓값을 확인합니다.\n",
    "# [힌트] describe() 함수를 사용하고,\n",
    "# 최솟값과 최댓값만 출력하도록 팬시 인덱싱하세요.\n",
    "kbo['OPS'].describe()[['min', 'max']]"
   ]
  },
  {
   "cell_type": "code",
   "execution_count": 17,
   "id": "7a97a7e3",
   "metadata": {},
   "outputs": [
    {
     "data": {
      "text/plain": [
       "array([0. , 0.1, 0.2, 0.3, 0.4, 0.5, 0.6, 0.7, 0.8, 0.9, 1. ])"
      ]
     },
     "execution_count": 17,
     "metadata": {},
     "output_type": "execute_result"
    }
   ],
   "source": [
    "# 히스토그램의 계급을 설정합니다.\n",
    "# [힌트] np.arange() 함수를 사용하세요.\n",
    "# 계급의 시작은 0이고, 끝은 1을 포함해야 하고, \n",
    "# 계급의 간격은 0.1로 설정하세요.\n",
    "bins = np.arange(0, 1.1, 0.1)\n",
    "bins"
   ]
  },
  {
   "cell_type": "code",
   "execution_count": 19,
   "id": "34a2194f",
   "metadata": {},
   "outputs": [
    {
     "data": {
      "image/png": "[encoded data removed]",
      "text/plain": [
       "<Figure size 600x600 with 1 Axes>"
      ]
     },
     "metadata": {
      "needs_background": "light"
     },
     "output_type": "display_data"
    }
   ],
   "source": [
    "# OPS로 히스토그램을 그립니다.\n",
    "# [힌트] sns.histplot() 함수를 사용하세요.\n",
    "# sns.histplot(data = kbo, x = 'OPS', bins = bins);\n",
    "sns.histplot(data = kbo, x = 'OPS', bins = 10, binrange = (0, 1));"
   ]
  },
  {
   "cell_type": "code",
   "execution_count": 20,
   "id": "2486b943",
   "metadata": {},
   "outputs": [
    {
     "data": {
      "image/png": "[encoded data removed]",
      "text/plain": [
       "<Figure size 600x600 with 1 Axes>"
      ]
     },
     "metadata": {
      "needs_background": "light"
     },
     "output_type": "display_data"
    }
   ],
   "source": [
    "# OPS로 상자 수염 그림을 세워서 그립니다.\n",
    "# [힌트] sns.boxplot() 함수를 사용하세요.\n",
    "sns.boxplot(data = kbo, y = 'OPS');"
   ]
  },
  {
   "cell_type": "code",
   "execution_count": 22,
   "id": "b4a532d6",
   "metadata": {},
   "outputs": [
    {
     "data": {
      "text/html": [
       "<div>\n",
       "<style scoped>\n",
       "    .dataframe tbody tr th:only-of-type {\n",
       "        vertical-align: middle;\n",
       "    }\n",
       "\n",
       "    .dataframe tbody tr th {\n",
       "        vertical-align: top;\n",
       "    }\n",
       "\n",
       "    .dataframe thead th {\n",
       "        text-align: right;\n",
       "    }\n",
       "</style>\n",
       "<table border=\"1\" class=\"dataframe\">\n",
       "  <thead>\n",
       "    <tr style=\"text-align: right;\">\n",
       "      <th></th>\n",
       "      <th>선수명</th>\n",
       "      <th>팀명</th>\n",
       "      <th>경기</th>\n",
       "      <th>타석</th>\n",
       "      <th>타수</th>\n",
       "      <th>안타</th>\n",
       "      <th>홈런</th>\n",
       "      <th>득점</th>\n",
       "      <th>타점</th>\n",
       "      <th>볼넷</th>\n",
       "      <th>삼진</th>\n",
       "      <th>도루</th>\n",
       "      <th>BABIP</th>\n",
       "      <th>타율</th>\n",
       "      <th>출루율</th>\n",
       "      <th>장타율</th>\n",
       "      <th>OPS</th>\n",
       "      <th>wOBA</th>\n",
       "      <th>WAR</th>\n",
       "      <th>올스타팀</th>\n",
       "    </tr>\n",
       "  </thead>\n",
       "  <tbody>\n",
       "    <tr>\n",
       "      <th>257</th>\n",
       "      <td>김규성</td>\n",
       "      <td>KIA</td>\n",
       "      <td>54</td>\n",
       "      <td>41</td>\n",
       "      <td>36</td>\n",
       "      <td>5</td>\n",
       "      <td>0</td>\n",
       "      <td>8</td>\n",
       "      <td>2</td>\n",
       "      <td>5</td>\n",
       "      <td>17</td>\n",
       "      <td>0</td>\n",
       "      <td>0.263</td>\n",
       "      <td>0.139</td>\n",
       "      <td>0.244</td>\n",
       "      <td>0.167</td>\n",
       "      <td>0.411</td>\n",
       "      <td>0.215</td>\n",
       "      <td>-0.35</td>\n",
       "      <td>나눔</td>\n",
       "    </tr>\n",
       "    <tr>\n",
       "      <th>292</th>\n",
       "      <td>이도윤</td>\n",
       "      <td>한화</td>\n",
       "      <td>56</td>\n",
       "      <td>68</td>\n",
       "      <td>63</td>\n",
       "      <td>11</td>\n",
       "      <td>0</td>\n",
       "      <td>5</td>\n",
       "      <td>2</td>\n",
       "      <td>4</td>\n",
       "      <td>18</td>\n",
       "      <td>1</td>\n",
       "      <td>0.244</td>\n",
       "      <td>0.175</td>\n",
       "      <td>0.224</td>\n",
       "      <td>0.175</td>\n",
       "      <td>0.399</td>\n",
       "      <td>0.197</td>\n",
       "      <td>-0.72</td>\n",
       "      <td>나눔</td>\n",
       "    </tr>\n",
       "    <tr>\n",
       "      <th>265</th>\n",
       "      <td>구본혁</td>\n",
       "      <td>LG</td>\n",
       "      <td>123</td>\n",
       "      <td>45</td>\n",
       "      <td>38</td>\n",
       "      <td>5</td>\n",
       "      <td>0</td>\n",
       "      <td>10</td>\n",
       "      <td>3</td>\n",
       "      <td>3</td>\n",
       "      <td>7</td>\n",
       "      <td>0</td>\n",
       "      <td>0.152</td>\n",
       "      <td>0.132</td>\n",
       "      <td>0.205</td>\n",
       "      <td>0.184</td>\n",
       "      <td>0.389</td>\n",
       "      <td>0.191</td>\n",
       "      <td>-0.41</td>\n",
       "      <td>나눔</td>\n",
       "    </tr>\n",
       "    <tr>\n",
       "      <th>259</th>\n",
       "      <td>박정음</td>\n",
       "      <td>Hero</td>\n",
       "      <td>70</td>\n",
       "      <td>18</td>\n",
       "      <td>14</td>\n",
       "      <td>0</td>\n",
       "      <td>0</td>\n",
       "      <td>19</td>\n",
       "      <td>1</td>\n",
       "      <td>2</td>\n",
       "      <td>3</td>\n",
       "      <td>4</td>\n",
       "      <td>0.0</td>\n",
       "      <td>0.000</td>\n",
       "      <td>0.167</td>\n",
       "      <td>0.000</td>\n",
       "      <td>0.167</td>\n",
       "      <td>0.130</td>\n",
       "      <td>-0.36</td>\n",
       "      <td>나눔</td>\n",
       "    </tr>\n",
       "  </tbody>\n",
       "</table>\n",
       "</div>"
      ],
      "text/plain": [
       "     선수명    팀명   경기  타석  타수  안타  홈런  득점  타점  볼넷  삼진  도루  BABIP     타율    출루율  \\\n",
       "257  김규성   KIA   54  41  36   5   0   8   2   5  17   0  0.263  0.139  0.244   \n",
       "292  이도윤    한화   56  68  63  11   0   5   2   4  18   1  0.244  0.175  0.224   \n",
       "265  구본혁    LG  123  45  38   5   0  10   3   3   7   0  0.152  0.132  0.205   \n",
       "259  박정음  Hero   70  18  14   0   0  19   1   2   3   4    0.0  0.000  0.167   \n",
       "\n",
       "       장타율    OPS   wOBA   WAR 올스타팀  \n",
       "257  0.167  0.411  0.215 -0.35   나눔  \n",
       "292  0.175  0.399  0.197 -0.72   나눔  \n",
       "265  0.184  0.389  0.191 -0.41   나눔  \n",
       "259  0.000  0.167  0.130 -0.36   나눔  "
      ]
     },
     "execution_count": 22,
     "metadata": {},
     "output_type": "execute_result"
    }
   ],
   "source": [
    "# OPS 하위 4명을 출력합니다.\n",
    "# [힌트] sort_values(), tail() 함수를 차례대로 사용하세요.\n",
    "kbo.sort_values(by = ['OPS'], ascending = False).tail(n = 4)"
   ]
  },
  {
   "cell_type": "code",
   "execution_count": 23,
   "id": "cf0b6499",
   "metadata": {},
   "outputs": [
    {
     "data": {
      "image/png": "[encoded data removed]",
      "text/plain": [
       "<Figure size 600x600 with 1 Axes>"
      ]
     },
     "metadata": {
      "needs_background": "light"
     },
     "output_type": "display_data"
    }
   ],
   "source": [
    "# 출루율과 OPS의 산점도를 그립니다.\n",
    "# [힌트] hds.plot_regression() 함수를 사용하세요.\n",
    "hds.plot_regression(data = kbo, x = '출루율', y = 'OPS')"
   ]
  },
  {
   "cell_type": "code",
   "execution_count": 24,
   "id": "e2112e4e",
   "metadata": {},
   "outputs": [
    {
     "data": {
      "image/png": "[encoded data removed]",
      "text/plain": [
       "<Figure size 600x600 with 1 Axes>"
      ]
     },
     "metadata": {
      "needs_background": "light"
     },
     "output_type": "display_data"
    }
   ],
   "source": [
    "# 장타율과 OPS의 산점도를 그립니다.\n",
    "# [힌트] hds.plot_regression() 함수를 사용하세요.\n",
    "hds.plot_regression(data = kbo, x = '장타율', y = 'OPS')"
   ]
  },
  {
   "cell_type": "code",
   "execution_count": 25,
   "id": "5216e1a6",
   "metadata": {},
   "outputs": [
    {
     "data": {
      "image/png": "[encoded data removed]",
      "text/plain": [
       "<Figure size 600x600 with 1 Axes>"
      ]
     },
     "metadata": {
      "needs_background": "light"
     },
     "output_type": "display_data"
    }
   ],
   "source": [
    "# 타율과 OPS의 산점도를 그립니다.\n",
    "# [힌트] hds.plot_regression() 함수를 사용하세요.\n",
    "hds.plot_regression(data = kbo, x = '타율', y = 'OPS')"
   ]
  },
  {
   "cell_type": "code",
   "execution_count": 26,
   "id": "c82887a0",
   "metadata": {},
   "outputs": [
    {
     "data": {
      "image/png": "[encoded data removed]",
      "text/plain": [
       "<Figure size 600x600 with 1 Axes>"
      ]
     },
     "metadata": {
      "needs_background": "light"
     },
     "output_type": "display_data"
    }
   ],
   "source": [
    "# 올스타팀의 범주별 OPS의 분포를 비교합니다.\n",
    "# [힌트] hds.plot_box_group() 함수를 사용하세요.\n",
    "hds.plot_box_group(data = kbo, x = '올스타팀', y = 'OPS')"
   ]
  },
  {
   "cell_type": "markdown",
   "id": "846ab49f",
   "metadata": {},
   "source": [
    "### 기술통계 분석"
   ]
  },
  {
   "cell_type": "code",
   "execution_count": 27,
   "id": "2bf3421c",
   "metadata": {},
   "outputs": [
    {
     "data": {
      "text/plain": [
       "0.7065448717948718"
      ]
     },
     "execution_count": 27,
     "metadata": {},
     "output_type": "execute_result"
    }
   ],
   "source": [
    "# OPS의 평균을 출력합니다.\n",
    "# [힌트] mean() 함수를 사용하세요.\n",
    "kbo['OPS'].mean()"
   ]
  },
  {
   "cell_type": "code",
   "execution_count": 28,
   "id": "bee3b100",
   "metadata": {},
   "outputs": [
    {
     "data": {
      "text/plain": [
       "0.709943661971831"
      ]
     },
     "execution_count": 28,
     "metadata": {},
     "output_type": "execute_result"
    }
   ],
   "source": [
    "# OPS의 5% 절사평균을 출력합니다.\n",
    "# [힌트] stats.trim_mean() 함수를 사용하세요.\n",
    "stats.trim_mean(kbo['OPS'], 0.05)"
   ]
  },
  {
   "cell_type": "code",
   "execution_count": 29,
   "id": "bbd1b2d1",
   "metadata": {},
   "outputs": [
    {
     "data": {
      "text/plain": [
       "0.703"
      ]
     },
     "execution_count": 29,
     "metadata": {},
     "output_type": "execute_result"
    }
   ],
   "source": [
    "# OPS의 중위수를 출력합니다.\n",
    "# [힌트] median() 함수를 사용하세요.\n",
    "kbo['OPS'].median()"
   ]
  },
  {
   "cell_type": "code",
   "execution_count": 30,
   "id": "403fb622",
   "metadata": {},
   "outputs": [
    {
     "data": {
      "text/plain": [
       "0.828"
      ]
     },
     "execution_count": 30,
     "metadata": {},
     "output_type": "execute_result"
    }
   ],
   "source": [
    "# OPS의 범위를 출력합니다.\n",
    "# [힌트] quantile(), diff() 함수를 차례대로 사용하고, \n",
    "# diff() 함수의 마지막 원소를 인덱싱하세요.\n",
    "kbo['OPS'].quantile([0, 1]).diff().iloc[-1]"
   ]
  },
  {
   "cell_type": "code",
   "execution_count": 31,
   "id": "985a9d18",
   "metadata": {},
   "outputs": [
    {
     "data": {
      "text/plain": [
       "0.14749999999999996"
      ]
     },
     "execution_count": 31,
     "metadata": {},
     "output_type": "execute_result"
    }
   ],
   "source": [
    "# OPS의 사분위수를 출력합니다.\n",
    "# [힌트] quantile(), diff() 함수를 차례대로 사용하고, \n",
    "# diff() 함수의 마지막 원소를 인덱싱하세요.\n",
    "kbo['OPS'].quantile([0.25, 0.75]).diff().iloc[-1]"
   ]
  },
  {
   "cell_type": "code",
   "execution_count": 32,
   "id": "1d801d2b",
   "metadata": {},
   "outputs": [
    {
     "data": {
      "text/plain": [
       "0.013513243134822167"
      ]
     },
     "execution_count": 32,
     "metadata": {},
     "output_type": "execute_result"
    }
   ],
   "source": [
    "# OPS의 분산을 출력합니다.\n",
    "# [힌트] var() 함수를 사용하세요.\n",
    "kbo['OPS'].var()"
   ]
  },
  {
   "cell_type": "code",
   "execution_count": 33,
   "id": "bcd9458c",
   "metadata": {},
   "outputs": [
    {
     "data": {
      "text/plain": [
       "0.11624647579527805"
      ]
     },
     "execution_count": 33,
     "metadata": {},
     "output_type": "execute_result"
    }
   ],
   "source": [
    "# OPS의 표준편차를 출력합니다.\n",
    "# [힌트] std() 함수를 사용하세요.\n",
    "kbo['OPS'].std()"
   ]
  },
  {
   "cell_type": "markdown",
   "id": "0a3062e6",
   "metadata": {},
   "source": [
    "### z 파일로 저장"
   ]
  },
  {
   "cell_type": "code",
   "execution_count": 34,
   "id": "34757084",
   "metadata": {},
   "outputs": [
    {
     "data": {
      "text/plain": [
       "'/Users/hdsceokevin/Documents/PythonAdvanced-main/exercise'"
      ]
     },
     "execution_count": 34,
     "metadata": {},
     "output_type": "execute_result"
    }
   ],
   "source": [
    "# 현재 작업 경로를 확인합니다.\n",
    "os.getcwd()"
   ]
  },
  {
   "cell_type": "code",
   "execution_count": 35,
   "id": "764f3a7d",
   "metadata": {},
   "outputs": [],
   "source": [
    "# data 폴더로 작업 경로를 변경합니다.\n",
    "os.chdir(path = '../data')"
   ]
  },
  {
   "cell_type": "code",
   "execution_count": 36,
   "id": "3b780db8",
   "metadata": {},
   "outputs": [
    {
     "data": {
      "text/plain": [
       "['KBO_Hitter_2021.z']"
      ]
     },
     "execution_count": 36,
     "metadata": {},
     "output_type": "execute_result"
    }
   ],
   "source": [
    "# kbo를 z 파일로 저장합니다.\n",
    "# 파일명은 'KBO_Hitter_2021.z'로 설정합니다.\n",
    "# [힌트] joblib.dump() 함수를 사용하세요.\n",
    "joblib.dump(value = kbo, filename = 'KBO_Hitter_2021.z')"
   ]
  },
  {
   "cell_type": "code",
   "execution_count": 37,
   "id": "55366788",
   "metadata": {},
   "outputs": [
    {
     "data": {
      "text/plain": [
       "['Used_Cars_Price.z',\n",
       " 'Used_Cars_Price.xlsx',\n",
       " 'Used_Cars_Price_Prep.z',\n",
       " 'KBO_Hitter_2021.z',\n",
       " 'Used_Cars_Price.csv']"
      ]
     },
     "execution_count": 37,
     "metadata": {},
     "output_type": "execute_result"
    }
   ],
   "source": [
    "# 현재 작업 경로에 있는 폴더명과 파일명을 출력합니다.\n",
    "os.listdir()"
   ]
  },
  {
   "cell_type": "markdown",
   "id": "27389316",
   "metadata": {},
   "source": [
    "## End of Document"
   ]
  }
 ],
 "metadata": {
  "kernelspec": {
   "display_name": "Python 3",
   "language": "python",
   "name": "python3"
  },
  "language_info": {
   "codemirror_mode": {
    "name": "ipython",
    "version": 3
   },
   "file_extension": ".py",
   "mimetype": "text/x-python",
   "name": "python",
   "nbconvert_exporter": "python",
   "pygments_lexer": "ipython3",
   "version": "3.10.4"
  },
  "toc": {
   "base_numbering": 1,
   "nav_menu": {},
   "number_sections": false,
   "sideBar": true,
   "skip_h1_title": false,
   "title_cell": "Table of Contents",
   "title_sidebar": "Contents",
   "toc_cell": false,
   "toc_position": {},
   "toc_section_display": true,
   "toc_window_display": false
  },
  "varInspector": {
   "cols": {
    "lenName": 16,
    "lenType": 16,
    "lenVar": 40
   },
   "kernels_config": {
    "python": {
     "delete_cmd_postfix": "",
     "delete_cmd_prefix": "del ",
     "library": "var_list.py",
     "varRefreshCmd": "print(var_dic_list())"
    },
    "r": {
     "delete_cmd_postfix": ") ",
     "delete_cmd_prefix": "rm(",
     "library": "var_list.r",
     "varRefreshCmd": "cat(var_dic_list()) "
    }
   },
   "types_to_exclude": [
    "module",
    "function",
    "builtin_function_or_method",
    "instance",
    "_Feature"
   ],
   "window_display": false
  }
 },
 "nbformat": 4,
 "nbformat_minor": 5
}
