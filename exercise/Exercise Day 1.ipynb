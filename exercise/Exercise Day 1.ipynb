{
 "cells": [
  {
   "cell_type": "markdown",
   "id": "d67ed441",
   "metadata": {},
   "source": [
    "## 연습문제 Day 1"
   ]
  },
  {
   "cell_type": "markdown",
   "id": "b9412587",
   "metadata": {},
   "source": [
    "- 2021년 한국프로야구 타자 스탯 데이터를 읽고, 기술통계 분석과 데이터 시각화를 실행합니다.\n",
    "- url : https://bit.ly/KBO_Hitters_2021 (인코딩방식: EUC-KR)"
   ]
  },
  {
   "cell_type": "markdown",
   "id": "02695637",
   "metadata": {},
   "source": [
    "### 실습 데이터셋 준비\n",
    "\n",
    "URL을 읽고 데이터프레임을 생성합니다."
   ]
  },
  {
   "cell_type": "code",
   "execution_count": null,
   "id": "7619df2e",
   "metadata": {
    "ExecuteTime": {
     "end_time": "2022-06-07T14:12:36.231611Z",
     "start_time": "2022-06-07T14:12:35.624533Z"
    }
   },
   "outputs": [],
   "source": [
    "# 관련 라이브러리를 호출합니다.\n",
    "import os\n",
    "import numpy as np\n",
    "import pandas as pd\n",
    "from scipy import stats\n",
    "from statsmodels import robust\n",
    "import joblib"
   ]
  },
  {
   "cell_type": "code",
   "execution_count": null,
   "id": "8d222585",
   "metadata": {
    "ExecuteTime": {
     "end_time": "2022-06-07T14:12:36.236205Z",
     "start_time": "2022-06-07T14:12:36.234076Z"
    }
   },
   "outputs": [],
   "source": [
    "# 온라인으로 공유 중인 csv 파일 주소를 URL에 할당합니다.\n",
    "URL = "
   ]
  },
  {
   "cell_type": "code",
   "execution_count": null,
   "id": "45e3b38f",
   "metadata": {
    "ExecuteTime": {
     "end_time": "2022-06-07T14:12:36.983274Z",
     "start_time": "2022-06-07T14:12:36.238275Z"
    }
   },
   "outputs": [],
   "source": [
    "# URL을 읽고 데이터프레임 kbo를 생성합니다.\n",
    "# [힌트] pd.read_csv() 함수를 사용하세요.\n",
    "kbo = "
   ]
  },
  {
   "cell_type": "code",
   "execution_count": null,
   "id": "7ce0699d",
   "metadata": {
    "ExecuteTime": {
     "end_time": "2022-06-07T14:12:36.995142Z",
     "start_time": "2022-06-07T14:12:36.986333Z"
    }
   },
   "outputs": [],
   "source": [
    "# kbo의 정보를 확인합니다.\n",
    "# [힌트] info() 함수를 사용하세요.\n",
    "kbo."
   ]
  },
  {
   "cell_type": "code",
   "execution_count": null,
   "id": "d9b08400",
   "metadata": {
    "ExecuteTime": {
     "end_time": "2022-06-07T14:12:37.018391Z",
     "start_time": "2022-06-07T14:12:36.996676Z"
    },
    "scrolled": true
   },
   "outputs": [],
   "source": [
    "# kbo의 처음 5행을 출력합니다.\n",
    "# [힌트] head() 함수를 사용하세요.\n",
    "# [참고] n 매개변수에 출력할 행 개수를 정수로 지정합니다.(기본값: 5)\n",
    "kbo."
   ]
  },
  {
   "cell_type": "markdown",
   "id": "7690eedc",
   "metadata": {},
   "source": [
    "### 데이터 전처리\n",
    "\n",
    "열별 자료형을 알맞은 형태로 변환하고, 범주형 변수 올스타를 생성합니다."
   ]
  },
  {
   "cell_type": "code",
   "execution_count": null,
   "id": "c34100dc",
   "metadata": {},
   "outputs": [],
   "source": [
    "# kbo의 열별 자료형을 출력합니다.\n",
    "# [힌트] dtypes 속성을 사용하세요.\n",
    "kbo."
   ]
  },
  {
   "cell_type": "code",
   "execution_count": null,
   "id": "4a47fbbf",
   "metadata": {},
   "outputs": [],
   "source": [
    "# kbo를 BABIP 기준으로 내림차순 정렬하고 마지막 10행을 출력합니다.\n",
    "# [힌트] sort_values()와 tail() 함수를 사용하세요.\n",
    "kbo."
   ]
  },
  {
   "cell_type": "code",
   "execution_count": null,
   "id": "d888b22a",
   "metadata": {},
   "outputs": [],
   "source": [
    "# BABIP의 원소가 '-'이면 '0'으로 변경합니다.\n",
    "# [힌트] str.replace() 함수를 사용하세요.\n",
    "# [주의] 패턴(pat)과 교체(repl) 매개변수에 반드시 문자열로 지정해야 합니다!\n",
    "kbo['BABIP'] = "
   ]
  },
  {
   "cell_type": "code",
   "execution_count": null,
   "id": "1f049b2d",
   "metadata": {},
   "outputs": [],
   "source": [
    "# BABIP을 실수형으로 변환합니다.\n",
    "# [힌트] astype() 함수를 사용하세요.\n",
    "kbo['BABIP'] = "
   ]
  },
  {
   "cell_type": "code",
   "execution_count": null,
   "id": "3e72d160",
   "metadata": {},
   "outputs": [],
   "source": [
    "# '두산', '롯데', '삼성', 'SSG', 'KT'를 원소로 갖는 리스트 dream을 생성합니다.\n",
    "dream = []"
   ]
  },
  {
   "cell_type": "code",
   "execution_count": null,
   "id": "50fe29a5",
   "metadata": {
    "ExecuteTime": {
     "end_time": "2022-06-07T14:12:37.032316Z",
     "start_time": "2022-06-07T14:12:37.029929Z"
    }
   },
   "outputs": [],
   "source": [
    "# 팀명이 dream의 원소이면 True, 아니면 False인 부울형 시리즈 locs를 생성합니다.\n",
    "# [힌트] isin() 함수를 사용하세요.\n",
    "locs = "
   ]
  },
  {
   "cell_type": "code",
   "execution_count": null,
   "id": "70bae0dc",
   "metadata": {
    "ExecuteTime": {
     "end_time": "2022-06-07T14:12:37.039665Z",
     "start_time": "2022-06-07T14:12:37.033907Z"
    },
    "scrolled": true
   },
   "outputs": [],
   "source": [
    "# locs를 출력합니다.\n",
    "locs"
   ]
  },
  {
   "cell_type": "code",
   "execution_count": null,
   "id": "a7bb5243",
   "metadata": {
    "ExecuteTime": {
     "end_time": "2022-06-07T14:12:37.047226Z",
     "start_time": "2022-06-07T14:12:37.043906Z"
    }
   },
   "outputs": [],
   "source": [
    "# locs에서 True의 개수를 출력합니다.\n",
    "# [힌트] sum() 함수를 사용하세요.\n",
    "locs."
   ]
  },
  {
   "cell_type": "code",
   "execution_count": null,
   "id": "1447fada",
   "metadata": {
    "ExecuteTime": {
     "end_time": "2022-06-07T14:12:37.051278Z",
     "start_time": "2022-06-07T14:12:37.048731Z"
    }
   },
   "outputs": [],
   "source": [
    "# locs가 True일 때 '드림', False일 때 '나눔'을 원소로 갖는 열을 생성합니다.\n",
    "# 새 열이름을 올스타로 지정하세요.\n",
    "# [힌트] np.where() 함수를 사용하세요.\n",
    "kbo['올스타'] = "
   ]
  },
  {
   "cell_type": "code",
   "execution_count": null,
   "id": "e989672b",
   "metadata": {
    "ExecuteTime": {
     "end_time": "2022-06-07T14:12:37.057228Z",
     "start_time": "2022-06-07T14:12:37.052872Z"
    }
   },
   "outputs": [],
   "source": [
    "# 올스타의 범주별 빈도수를 출력합니다.\n",
    "# [힌트] value_counts() 함수를 사용하세요.\n",
    "kbo['올스타']."
   ]
  },
  {
   "cell_type": "markdown",
   "id": "f9cb2db6",
   "metadata": {},
   "source": [
    "### 데이터 시각화\n",
    "\n",
    "OPS의 히스토그램과 상자 수염 그림을 그려 분포를 확인하고 <br>\n",
    "실수형 변수와 산점도를 그려서 직선의 관계가 있는지 확인합니다."
   ]
  },
  {
   "cell_type": "code",
   "execution_count": null,
   "id": "6a62dd5d",
   "metadata": {
    "ExecuteTime": {
     "end_time": "2022-06-07T14:12:37.899309Z",
     "start_time": "2022-06-07T14:12:37.058981Z"
    }
   },
   "outputs": [],
   "source": [
    "# 시각화 관련 모듈을 호출합니다.\n",
    "from GraphicSetting import *\n",
    "import HelloDataScience as hds"
   ]
  },
  {
   "cell_type": "code",
   "execution_count": null,
   "id": "a432ac78",
   "metadata": {
    "ExecuteTime": {
     "end_time": "2022-06-07T14:12:37.904292Z",
     "start_time": "2022-06-07T14:12:37.901399Z"
    }
   },
   "outputs": [],
   "source": [
    "# 기본 팔레트를 'Set1'으로 설정합니다.\n",
    "# [힌트] sns.set_palette() 함수를 사용하세요.\n",
    "sns.set_palette(palette = 'Set1', n_colors = 9)"
   ]
  },
  {
   "cell_type": "code",
   "execution_count": null,
   "id": "8bf51956",
   "metadata": {
    "ExecuteTime": {
     "end_time": "2022-06-07T14:12:37.909706Z",
     "start_time": "2022-06-07T14:12:37.906024Z"
    }
   },
   "outputs": [],
   "source": [
    "# 기본 팔레트 색을 출력합니다.\n",
    "# [힌트] sns.color_palette() 함수를 사용하세요.\n",
    "sns.color_palette()"
   ]
  },
  {
   "cell_type": "code",
   "execution_count": null,
   "id": "6be7eaab",
   "metadata": {},
   "outputs": [],
   "source": [
    "# 타석의 최솟값과 최댓값을 확인합니다.\n",
    "# [힌트] describe() 함수 실행 결과에서 최솟값과 최댓값을 인덱싱하세요.\n",
    "kbo['타석']."
   ]
  },
  {
   "cell_type": "code",
   "execution_count": null,
   "id": "5fc710ff",
   "metadata": {},
   "outputs": [],
   "source": [
    "# 타석으로 히스토그램을 그립니다.\n",
    "# [힌트] sns.histplot() 함수를 사용하세요.\n",
    "# binwidth 매개변수에 막대 너비를 50으로 지정합니다.\n",
    "# binrange 매개변수를 막대 경계의 시작을 0, 끝을 700으로 지정합니다.\n",
    "sns.histplot();"
   ]
  },
  {
   "cell_type": "code",
   "execution_count": null,
   "id": "251752d0",
   "metadata": {},
   "outputs": [],
   "source": [
    "# kbo에서 타석이 50 이상인 행을 선택하고 kbo에 재할당합니다.\n",
    "# [힌트] ge() 함수를 사용하세요.\n",
    "kbo = "
   ]
  },
  {
   "cell_type": "code",
   "execution_count": null,
   "id": "4243fbe5",
   "metadata": {},
   "outputs": [],
   "source": [
    "# kbo의 행 개수를 출력합니다.\n",
    "# [힌트] shape 속성 결과에 0번 인덱스 원소를 선택하세요.\n",
    "kbo."
   ]
  },
  {
   "cell_type": "code",
   "execution_count": null,
   "id": "41164c6f",
   "metadata": {
    "ExecuteTime": {
     "end_time": "2022-06-07T14:12:37.917754Z",
     "start_time": "2022-06-07T14:12:37.911404Z"
    }
   },
   "outputs": [],
   "source": [
    "# OPS의 최솟값과 최댓값을 확인합니다.\n",
    "# [힌트] describe() 함수 실행 결과에서 최솟값과 최댓값을 인덱싱하세요.\n",
    "kbo['OPS']."
   ]
  },
  {
   "cell_type": "code",
   "execution_count": null,
   "id": "34a2194f",
   "metadata": {
    "ExecuteTime": {
     "end_time": "2022-06-07T14:12:38.052010Z",
     "start_time": "2022-06-07T14:12:37.923654Z"
    }
   },
   "outputs": [],
   "source": [
    "# OPS로 히스토그램을 그립니다.\n",
    "# [힌트] sns.histplot() 함수를 사용하세요.\n",
    "# binwidth 매개변수에 막대 너비를 0.1로 지정하세요.\n",
    "# binrange 매개변수를 막대 경계의 시작을 0.3, 끝을 1.1로 지정하세요.\n",
    "sns.histplot();"
   ]
  },
  {
   "cell_type": "code",
   "execution_count": null,
   "id": "2486b943",
   "metadata": {
    "ExecuteTime": {
     "end_time": "2022-06-07T14:12:38.132114Z",
     "start_time": "2022-06-07T14:12:38.053808Z"
    }
   },
   "outputs": [],
   "source": [
    "# OPS로 상자 수염 그림을 세워서 그립니다.\n",
    "# [힌트] sns.boxplot() 함수를 사용하세요.\n",
    "sns.boxplot();"
   ]
  },
  {
   "cell_type": "code",
   "execution_count": null,
   "id": "2a032ce1",
   "metadata": {},
   "outputs": [],
   "source": [
    "# kbo에서 열별 자료형이 실수형이면 True, 아니면 False인 시리즈 locs를 생성합니다.\n",
    "# [힌트] eq() 함수를 사용하세요.\n",
    "locs = "
   ]
  },
  {
   "cell_type": "code",
   "execution_count": null,
   "id": "6954861b",
   "metadata": {
    "scrolled": true
   },
   "outputs": [],
   "source": [
    "# kbo에서 실수형 변수만 선택합니다.\n",
    "# [힌트] loc 인덱서를 추가하고 열 위치에 locs를 지정하세요.\n",
    "kbo.loc[]"
   ]
  },
  {
   "cell_type": "code",
   "execution_count": null,
   "id": "09f12a4b",
   "metadata": {
    "scrolled": true
   },
   "outputs": [],
   "source": [
    "# kbo에서 열별 자료형이 실수형인 열이름을 출력합니다.\n",
    "# [힌트] 위 코드 실행 결과에서 열이름을 출력하세요.\n",
    "kbo.loc[]."
   ]
  },
  {
   "cell_type": "code",
   "execution_count": null,
   "id": "cf0b6499",
   "metadata": {
    "ExecuteTime": {
     "end_time": "2022-06-07T14:12:38.348367Z",
     "start_time": "2022-06-07T14:12:38.148505Z"
    }
   },
   "outputs": [],
   "source": [
    "# BABIP과 OPS의 산점도를 그립니다.\n",
    "# [힌트] hds.plot_regression() 함수를 사용하세요.\n",
    "hds.plot_regression(data = kbo, x = 'BABIP', y = 'OPS')"
   ]
  },
  {
   "cell_type": "code",
   "execution_count": null,
   "id": "e2112e4e",
   "metadata": {
    "ExecuteTime": {
     "end_time": "2022-06-07T14:12:38.547892Z",
     "start_time": "2022-06-07T14:12:38.350147Z"
    }
   },
   "outputs": [],
   "source": [
    "# 타율과 OPS의 산점도를 그립니다.\n",
    "# [힌트] hds.plot_regression() 함수를 사용하세요.\n",
    "hds.plot_regression()"
   ]
  },
  {
   "cell_type": "code",
   "execution_count": null,
   "id": "5216e1a6",
   "metadata": {
    "ExecuteTime": {
     "end_time": "2022-06-07T14:12:38.737728Z",
     "start_time": "2022-06-07T14:12:38.549453Z"
    }
   },
   "outputs": [],
   "source": [
    "# 출루율과 OPS의 산점도를 그립니다.\n",
    "# [힌트] hds.plot_regression() 함수를 사용하세요.\n",
    "hds.plot_regression()"
   ]
  },
  {
   "cell_type": "code",
   "execution_count": null,
   "id": "df0142d0",
   "metadata": {},
   "outputs": [],
   "source": [
    "# 장타율과 OPS의 산점도를 그립니다.\n",
    "# [힌트] hds.plot_regression() 함수를 사용하세요.\n",
    "hds.plot_regression()"
   ]
  },
  {
   "cell_type": "code",
   "execution_count": null,
   "id": "06fd1039",
   "metadata": {},
   "outputs": [],
   "source": [
    "# wOBA와 OPS의 산점도를 그립니다.\n",
    "# [힌트] hds.plot_regression() 함수를 사용하세요.\n",
    "hds.plot_regression()"
   ]
  },
  {
   "cell_type": "code",
   "execution_count": null,
   "id": "e4876bf8",
   "metadata": {},
   "outputs": [],
   "source": [
    "# WAR과 OPS의 산점도를 그립니다.\n",
    "# [힌트] hds.plot_regression() 함수를 사용하세요.\n",
    "hds.plot_regression()"
   ]
  },
  {
   "cell_type": "code",
   "execution_count": null,
   "id": "c82887a0",
   "metadata": {
    "ExecuteTime": {
     "end_time": "2022-06-07T14:12:38.853670Z",
     "start_time": "2022-06-07T14:12:38.739611Z"
    }
   },
   "outputs": [],
   "source": [
    "# 올스타의 범주별 OPS의 분포를 비교합니다.\n",
    "# [힌트] hds.plot_box_group() 함수를 사용하세요.\n",
    "hds.plot_box_group()"
   ]
  },
  {
   "cell_type": "markdown",
   "id": "846ab49f",
   "metadata": {},
   "source": [
    "### 기술통계 분석"
   ]
  },
  {
   "cell_type": "code",
   "execution_count": null,
   "id": "2bf3421c",
   "metadata": {
    "ExecuteTime": {
     "end_time": "2022-06-07T14:12:38.859104Z",
     "start_time": "2022-06-07T14:12:38.855620Z"
    }
   },
   "outputs": [],
   "source": [
    "# OPS의 평균을 출력합니다.\n",
    "# [힌트] mean() 함수를 사용하세요.\n",
    "kbo['OPS']."
   ]
  },
  {
   "cell_type": "code",
   "execution_count": null,
   "id": "bee3b100",
   "metadata": {
    "ExecuteTime": {
     "end_time": "2022-06-07T14:12:38.865034Z",
     "start_time": "2022-06-07T14:12:38.860866Z"
    }
   },
   "outputs": [],
   "source": [
    "# OPS의 5% 절사평균을 출력합니다.\n",
    "# [힌트] stats.trim_mean() 함수를 사용하세요.\n",
    "stats.trim_mean()"
   ]
  },
  {
   "cell_type": "code",
   "execution_count": null,
   "id": "bbd1b2d1",
   "metadata": {
    "ExecuteTime": {
     "end_time": "2022-06-07T14:12:38.870517Z",
     "start_time": "2022-06-07T14:12:38.866965Z"
    }
   },
   "outputs": [],
   "source": [
    "# OPS의 중위수를 출력합니다.\n",
    "# [힌트] median() 함수를 사용하세요.\n",
    "kbo['OPS']."
   ]
  },
  {
   "cell_type": "code",
   "execution_count": null,
   "id": "a548ebd0",
   "metadata": {},
   "outputs": [],
   "source": [
    "# 팀명의 최빈값을 출력합니다.\n",
    "# [힌트] mode() 함수를 사용하세요.\n",
    "kbo['팀명']."
   ]
  },
  {
   "cell_type": "code",
   "execution_count": null,
   "id": "403fb622",
   "metadata": {
    "ExecuteTime": {
     "end_time": "2022-06-07T14:12:38.940090Z",
     "start_time": "2022-06-07T14:12:38.935948Z"
    }
   },
   "outputs": [],
   "source": [
    "# OPS의 범위를 출력합니다.\n",
    "# [힌트] quantile()과 diff() 함수를 차례대로 사용하세요.\n",
    "# diff() 함수 실행 결과에서 마지막 원소를 인덱싱하세요.\n",
    "kbo['OPS']."
   ]
  },
  {
   "cell_type": "code",
   "execution_count": null,
   "id": "985a9d18",
   "metadata": {
    "ExecuteTime": {
     "end_time": "2022-06-07T14:12:38.946053Z",
     "start_time": "2022-06-07T14:12:38.941791Z"
    }
   },
   "outputs": [],
   "source": [
    "# OPS의 사분범위를 출력합니다.\n",
    "# [힌트] quantile()과 diff() 함수를 차례대로 사용하세요.\n",
    "# diff() 함수 실행 결과에서 마지막 원소를 인덱싱하세요.\n",
    "kbo['OPS']."
   ]
  },
  {
   "cell_type": "code",
   "execution_count": null,
   "id": "1d801d2b",
   "metadata": {
    "ExecuteTime": {
     "end_time": "2022-06-07T14:12:38.951179Z",
     "start_time": "2022-06-07T14:12:38.947774Z"
    }
   },
   "outputs": [],
   "source": [
    "# OPS의 분산을 출력합니다.\n",
    "# [힌트] var() 함수를 사용하세요.\n",
    "kbo['OPS']."
   ]
  },
  {
   "cell_type": "code",
   "execution_count": null,
   "id": "bcd9458c",
   "metadata": {
    "ExecuteTime": {
     "end_time": "2022-06-07T14:12:38.956266Z",
     "start_time": "2022-06-07T14:12:38.952790Z"
    }
   },
   "outputs": [],
   "source": [
    "# OPS의 표준편차를 출력합니다.\n",
    "# [힌트] std() 함수를 사용하세요.\n",
    "kbo['OPS']."
   ]
  },
  {
   "cell_type": "code",
   "execution_count": null,
   "id": "56e1c66a",
   "metadata": {},
   "outputs": [],
   "source": [
    "# OPS의 중위수절대편차를 출력합니다.\n",
    "# [힌트] robust.mad() 함수를 사용하세요.\n",
    "robust.mad()"
   ]
  },
  {
   "cell_type": "markdown",
   "id": "0a3062e6",
   "metadata": {},
   "source": [
    "### z 파일로 저장"
   ]
  },
  {
   "cell_type": "code",
   "execution_count": null,
   "id": "34757084",
   "metadata": {
    "ExecuteTime": {
     "end_time": "2022-06-07T14:12:38.961140Z",
     "start_time": "2022-06-07T14:12:38.957997Z"
    }
   },
   "outputs": [],
   "source": [
    "# 현재 작업 경로를 확인합니다.\n",
    "# [힌트] getcwd() 함수를 사용하세요.\n",
    "os."
   ]
  },
  {
   "cell_type": "code",
   "execution_count": null,
   "id": "764f3a7d",
   "metadata": {
    "ExecuteTime": {
     "end_time": "2022-06-07T14:12:38.965644Z",
     "start_time": "2022-06-07T14:12:38.963037Z"
    }
   },
   "outputs": [],
   "source": [
    "# data 폴더로 작업 경로를 변경합니다.\n",
    "# [힌트] chdir() 함수를 사용하세요.\n",
    "os."
   ]
  },
  {
   "cell_type": "code",
   "execution_count": null,
   "id": "3b780db8",
   "metadata": {
    "ExecuteTime": {
     "end_time": "2022-06-07T14:12:38.972735Z",
     "start_time": "2022-06-07T14:12:38.967483Z"
    }
   },
   "outputs": [],
   "source": [
    "# kbo를 'KBO_Hitter_2021.z'로 저장합니다.\n",
    "# [힌트] joblib.dump() 함수를 사용하세요.\n",
    "joblib.dump()"
   ]
  },
  {
   "cell_type": "code",
   "execution_count": null,
   "id": "9638ddac",
   "metadata": {
    "ExecuteTime": {
     "end_time": "2022-06-07T14:12:38.978176Z",
     "start_time": "2022-06-07T14:12:38.974604Z"
    }
   },
   "outputs": [],
   "source": [
    "# 현재 작업 경로에 있는 폴더명과 파일명을 출력합니다.\n",
    "# [힌트] listdir() 함수를 사용하세요.\n",
    "os."
   ]
  },
  {
   "cell_type": "markdown",
   "id": "27389316",
   "metadata": {},
   "source": [
    "## End of Document"
   ]
  }
 ],
 "metadata": {
  "kernelspec": {
   "display_name": "Python 3 (ipykernel)",
   "language": "python",
   "name": "python3"
  },
  "language_info": {
   "codemirror_mode": {
    "name": "ipython",
    "version": 3
   },
   "file_extension": ".py",
   "mimetype": "text/x-python",
   "name": "python",
   "nbconvert_exporter": "python",
   "pygments_lexer": "ipython3",
   "version": "3.10.4"
  },
  "toc": {
   "base_numbering": 1,
   "nav_menu": {},
   "number_sections": false,
   "sideBar": true,
   "skip_h1_title": false,
   "title_cell": "Table of Contents",
   "title_sidebar": "Contents",
   "toc_cell": false,
   "toc_position": {},
   "toc_section_display": true,
   "toc_window_display": false
  },
  "varInspector": {
   "cols": {
    "lenName": 16,
    "lenType": 16,
    "lenVar": 40
   },
   "kernels_config": {
    "python": {
     "delete_cmd_postfix": "",
     "delete_cmd_prefix": "del ",
     "library": "var_list.py",
     "varRefreshCmd": "print(var_dic_list())"
    },
    "r": {
     "delete_cmd_postfix": ") ",
     "delete_cmd_prefix": "rm(",
     "library": "var_list.r",
     "varRefreshCmd": "cat(var_dic_list()) "
    }
   },
   "types_to_exclude": [
    "module",
    "function",
    "builtin_function_or_method",
    "instance",
    "_Feature"
   ],
   "window_display": false
  }
 },
 "nbformat": 4,
 "nbformat_minor": 5
}
