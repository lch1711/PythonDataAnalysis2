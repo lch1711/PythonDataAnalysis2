{
 "cells": [
  {
   "cell_type": "markdown",
   "id": "d67ed441",
   "metadata": {},
   "source": [
    "## 연습문제 Day 1"
   ]
  },
  {
   "cell_type": "markdown",
   "id": "b9412587",
   "metadata": {},
   "source": [
    "- 2021년 한국프로야구 타자 스탯 데이터를 읽고, 기술통계 분석과 데이터 시각화를 실행합니다.\n",
    "- url : https://bit.ly/KBO_Hitters_2021 (인코딩방식: EUC-KR)"
   ]
  },
  {
   "cell_type": "markdown",
   "id": "02695637",
   "metadata": {},
   "source": [
    "### 실습 데이터셋 준비"
   ]
  },
  {
   "cell_type": "code",
   "execution_count": null,
   "id": "7619df2e",
   "metadata": {},
   "outputs": [],
   "source": [
    "# 관련 라이브러리를 호출합니다.\n",
    "import os\n",
    "import numpy as np\n",
    "import pandas as pd\n",
    "from scipy import stats\n",
    "import joblib"
   ]
  },
  {
   "cell_type": "code",
   "execution_count": null,
   "id": "bb6bdee3",
   "metadata": {},
   "outputs": [],
   "source": [
    "# 온라인으로 공유 중인 csv 파일 주소를 URL에 할당합니다.\n",
    "URL = 'https://bit.ly/KBO_Hitters_2021'"
   ]
  },
  {
   "cell_type": "code",
   "execution_count": null,
   "id": "45e3b38f",
   "metadata": {},
   "outputs": [],
   "source": [
    "# URL을 읽고, 데이터프레임 kbo를 생성합니다.\n",
    "# [힌트] pd.read_csv() 함수를 사용하세요.\n"
   ]
  },
  {
   "cell_type": "code",
   "execution_count": null,
   "id": "7ce0699d",
   "metadata": {},
   "outputs": [],
   "source": [
    "# kbo의 정보를 확인합니다.\n",
    "# [힌트] info() 함수를 사용하세요.\n"
   ]
  },
  {
   "cell_type": "code",
   "execution_count": null,
   "id": "d9b08400",
   "metadata": {},
   "outputs": [],
   "source": [
    "# kbo의 처음 10행을 출력합니다.\n",
    "# [힌트] head() 함수를 사용하세요.\n"
   ]
  },
  {
   "cell_type": "code",
   "execution_count": null,
   "id": "3f4836e3",
   "metadata": {},
   "outputs": [],
   "source": [
    "# 경기가 50 이상인 행만 남겨서 kbo에 재할당합니다.\n",
    "# [힌트] ge(), copy() 함수를 사용하세요.\n"
   ]
  },
  {
   "cell_type": "code",
   "execution_count": null,
   "id": "10b9c1ef",
   "metadata": {},
   "outputs": [],
   "source": [
    "# kbo의 행 개수를 출력합니다. 출력 결과는 156이어야 합니다.\n",
    "# [힌트] shape 속성의 첫 번째 원소를 인덱싱해보세요.\n"
   ]
  },
  {
   "cell_type": "code",
   "execution_count": null,
   "id": "52e0bcf4",
   "metadata": {},
   "outputs": [],
   "source": [
    "# 팀명이 '두산', '롯데', '삼성', 'SSG', 'KT'면 True, \n",
    "# 아니면 False인 부울형 시리즈 locs를 생성합니다.\n",
    "# [힌트] isin() 함수를 사용하세요.\n"
   ]
  },
  {
   "cell_type": "code",
   "execution_count": null,
   "id": "8955be50",
   "metadata": {},
   "outputs": [],
   "source": [
    "# locs를 출력합니다.\n"
   ]
  },
  {
   "cell_type": "code",
   "execution_count": null,
   "id": "83b038e0",
   "metadata": {},
   "outputs": [],
   "source": [
    "# locs에서 True의 개수를 출력합니다. 출력 결과는 77이어야 합니다.\n",
    "# [힌트] sum() 함수를 사용하세요.\n"
   ]
  },
  {
   "cell_type": "code",
   "execution_count": null,
   "id": "1447fada",
   "metadata": {},
   "outputs": [],
   "source": [
    "# locs가 True면 '드림', False면 '나눔'인 문자열 시리즈를 \n",
    "# kbo의 오른쪽 끝에 올스타팀이라는 열이름으로 추가합니다.\n",
    "# [힌트] np.where() 함수를 사용하세요.\n"
   ]
  },
  {
   "cell_type": "code",
   "execution_count": null,
   "id": "e989672b",
   "metadata": {},
   "outputs": [],
   "source": [
    "# 올스타팀의 범주별 빈도수를 출력합니다.\n",
    "# [힌트] value_counts() 함수를 사용하세요.\n"
   ]
  },
  {
   "cell_type": "markdown",
   "id": "f9cb2db6",
   "metadata": {},
   "source": [
    "### 데이터 시각화"
   ]
  },
  {
   "cell_type": "code",
   "execution_count": null,
   "id": "6a62dd5d",
   "metadata": {},
   "outputs": [],
   "source": [
    "# 시각화 관련 모듈을 호출합니다.\n",
    "from GraphicSetting import *\n",
    "import HelloDataScience as hds"
   ]
  },
  {
   "cell_type": "code",
   "execution_count": null,
   "id": "39997c09",
   "metadata": {},
   "outputs": [],
   "source": [
    "# 기본 팔레트를 'Set1'으로 변경합니다.\n",
    "sns.set_palette(palette = 'Set1', n_colors = 9)"
   ]
  },
  {
   "cell_type": "code",
   "execution_count": null,
   "id": "662118b3",
   "metadata": {},
   "outputs": [],
   "source": [
    "# 기본 팔레트 색을 출력합니다.\n",
    "sns.color_palette()"
   ]
  },
  {
   "cell_type": "code",
   "execution_count": null,
   "id": "41164c6f",
   "metadata": {},
   "outputs": [],
   "source": [
    "# OPS의 최솟값과 최댓값을 확인합니다.\n",
    "# [힌트] describe() 함수를 사용하고,\n",
    "# 최솟값과 최댓값만 출력하도록 팬시 인덱싱하세요.\n"
   ]
  },
  {
   "cell_type": "code",
   "execution_count": null,
   "id": "7a97a7e3",
   "metadata": {},
   "outputs": [],
   "source": [
    "# 히스토그램의 계급을 설정합니다.\n",
    "# [힌트] np.arange() 함수를 사용하세요.\n",
    "# 계급의 시작은 0이고, 끝은 1을 포함해야 하고, \n",
    "# 계급의 간격은 0.1로 설정하세요.\n"
   ]
  },
  {
   "cell_type": "code",
   "execution_count": null,
   "id": "34a2194f",
   "metadata": {},
   "outputs": [],
   "source": [
    "# OPS로 히스토그램을 그립니다.\n",
    "# [힌트] sns.histplot() 함수를 사용하세요.\n"
   ]
  },
  {
   "cell_type": "code",
   "execution_count": null,
   "id": "2486b943",
   "metadata": {},
   "outputs": [],
   "source": [
    "# OPS로 상자 수염 그림을 세워서 그립니다.\n",
    "# [힌트] sns.boxplot() 함수를 사용하세요.\n"
   ]
  },
  {
   "cell_type": "code",
   "execution_count": null,
   "id": "b4a532d6",
   "metadata": {},
   "outputs": [],
   "source": [
    "# OPS 하위 4명을 출력합니다.\n",
    "# [힌트] sort_values(), tail() 함수를 차례대로 사용하세요.\n"
   ]
  },
  {
   "cell_type": "code",
   "execution_count": null,
   "id": "cf0b6499",
   "metadata": {},
   "outputs": [],
   "source": [
    "# 출루율과 OPS의 산점도를 그립니다.\n",
    "# [힌트] hds.plot_regression() 함수를 사용하세요.\n"
   ]
  },
  {
   "cell_type": "code",
   "execution_count": null,
   "id": "e2112e4e",
   "metadata": {},
   "outputs": [],
   "source": [
    "# 장타율과 OPS의 산점도를 그립니다.\n",
    "# [힌트] hds.plot_regression() 함수를 사용하세요.\n"
   ]
  },
  {
   "cell_type": "code",
   "execution_count": null,
   "id": "5216e1a6",
   "metadata": {},
   "outputs": [],
   "source": [
    "# 타율과 OPS의 산점도를 그립니다.\n",
    "# [힌트] hds.plot_regression() 함수를 사용하세요.\n"
   ]
  },
  {
   "cell_type": "code",
   "execution_count": null,
   "id": "c82887a0",
   "metadata": {},
   "outputs": [],
   "source": [
    "# 올스타팀의 범주별 OPS의 분포를 비교합니다.\n",
    "# [힌트] hds.plot_box_group() 함수를 사용하세요.\n"
   ]
  },
  {
   "cell_type": "markdown",
   "id": "846ab49f",
   "metadata": {},
   "source": [
    "### 기술통계 분석"
   ]
  },
  {
   "cell_type": "code",
   "execution_count": null,
   "id": "2bf3421c",
   "metadata": {},
   "outputs": [],
   "source": [
    "# OPS의 평균을 출력합니다.\n",
    "# [힌트] mean() 함수를 사용하세요.\n"
   ]
  },
  {
   "cell_type": "code",
   "execution_count": null,
   "id": "bee3b100",
   "metadata": {},
   "outputs": [],
   "source": [
    "# OPS의 5% 절사평균을 출력합니다.\n",
    "# [힌트] stats.trim_mean() 함수를 사용하세요.\n"
   ]
  },
  {
   "cell_type": "code",
   "execution_count": null,
   "id": "bbd1b2d1",
   "metadata": {},
   "outputs": [],
   "source": [
    "# OPS의 중위수를 출력합니다.\n",
    "# [힌트] median() 함수를 사용하세요.\n"
   ]
  },
  {
   "cell_type": "code",
   "execution_count": null,
   "id": "403fb622",
   "metadata": {},
   "outputs": [],
   "source": [
    "# OPS의 범위를 출력합니다.\n",
    "# [힌트] quantile(), diff() 함수를 차례대로 사용하고, \n",
    "# diff() 함수의 마지막 원소를 인덱싱하세요.\n"
   ]
  },
  {
   "cell_type": "code",
   "execution_count": null,
   "id": "985a9d18",
   "metadata": {},
   "outputs": [],
   "source": [
    "# OPS의 사분위수를 출력합니다.\n",
    "# [힌트] quantile(), diff() 함수를 차례대로 사용하고, \n",
    "# diff() 함수의 마지막 원소를 인덱싱하세요.\n"
   ]
  },
  {
   "cell_type": "code",
   "execution_count": null,
   "id": "1d801d2b",
   "metadata": {},
   "outputs": [],
   "source": [
    "# OPS의 분산을 출력합니다.\n",
    "# [힌트] var() 함수를 사용하세요.\n"
   ]
  },
  {
   "cell_type": "code",
   "execution_count": null,
   "id": "bcd9458c",
   "metadata": {},
   "outputs": [],
   "source": [
    "# OPS의 표준편차를 출력합니다.\n",
    "# [힌트] std() 함수를 사용하세요.\n"
   ]
  },
  {
   "cell_type": "markdown",
   "id": "0a3062e6",
   "metadata": {},
   "source": [
    "### z 파일로 저장"
   ]
  },
  {
   "cell_type": "code",
   "execution_count": null,
   "id": "34757084",
   "metadata": {},
   "outputs": [],
   "source": [
    "# 현재 작업 경로를 확인합니다.\n"
   ]
  },
  {
   "cell_type": "code",
   "execution_count": null,
   "id": "764f3a7d",
   "metadata": {},
   "outputs": [],
   "source": [
    "# data 폴더로 작업 경로를 변경합니다.\n"
   ]
  },
  {
   "cell_type": "code",
   "execution_count": null,
   "id": "3b780db8",
   "metadata": {},
   "outputs": [],
   "source": [
    "# kbo를 z 파일로 저장합니다.\n",
    "# 파일명은 'KBO_Hitter_2021.z'로 설정합니다.\n",
    "# [힌트] joblib.dump() 함수를 사용하세요.\n"
   ]
  },
  {
   "cell_type": "code",
   "execution_count": null,
   "id": "55366788",
   "metadata": {},
   "outputs": [],
   "source": [
    "# 현재 작업 경로에 있는 폴더명과 파일명을 출력합니다.\n"
   ]
  },
  {
   "cell_type": "markdown",
   "id": "27389316",
   "metadata": {},
   "source": [
    "## End of Document"
   ]
  }
 ],
 "metadata": {
  "kernelspec": {
   "display_name": "Python 3",
   "language": "python",
   "name": "python3"
  },
  "language_info": {
   "codemirror_mode": {
    "name": "ipython",
    "version": 3
   },
   "file_extension": ".py",
   "mimetype": "text/x-python",
   "name": "python",
   "nbconvert_exporter": "python",
   "pygments_lexer": "ipython3",
   "version": "3.10.4"
  },
  "toc": {
   "base_numbering": 1,
   "nav_menu": {},
   "number_sections": false,
   "sideBar": true,
   "skip_h1_title": false,
   "title_cell": "Table of Contents",
   "title_sidebar": "Contents",
   "toc_cell": false,
   "toc_position": {},
   "toc_section_display": true,
   "toc_window_display": false
  },
  "varInspector": {
   "cols": {
    "lenName": 16,
    "lenType": 16,
    "lenVar": 40
   },
   "kernels_config": {
    "python": {
     "delete_cmd_postfix": "",
     "delete_cmd_prefix": "del ",
     "library": "var_list.py",
     "varRefreshCmd": "print(var_dic_list())"
    },
    "r": {
     "delete_cmd_postfix": ") ",
     "delete_cmd_prefix": "rm(",
     "library": "var_list.r",
     "varRefreshCmd": "cat(var_dic_list()) "
    }
   },
   "types_to_exclude": [
    "module",
    "function",
    "builtin_function_or_method",
    "instance",
    "_Feature"
   ],
   "window_display": false
  }
 },
 "nbformat": 4,
 "nbformat_minor": 5
}
