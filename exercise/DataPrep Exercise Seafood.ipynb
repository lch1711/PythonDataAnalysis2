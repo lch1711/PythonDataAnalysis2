{
 "cells": [
  {
   "cell_type": "markdown",
   "id": "dde8d412",
   "metadata": {},
   "source": [
    "## 공공데이터 실습: 국가별 수산물 수출입 현황 (2021년)"
   ]
  },
  {
   "cell_type": "markdown",
   "id": "d844785c",
   "metadata": {},
   "source": [
    "### 실습 데이터셋 설명\n",
    "\n",
    "- 2021년 1~12월에 전세계 165여 개 국가와 수산물 수출입 내역입니다.<br><br>\n",
    "\n",
    "- 변수(열)에 대한 간단한 설명입니다.\n",
    "  - ymonth: 거래년월\n",
    "  - nation: 거래국가\n",
    "  - itemNm: 거래품목(수산물)\n",
    "  - imxprt: 수출/수입 구분\n",
    "  - weight: 거래중량(kg)\n",
    "  - dollar: 거래금액(달러)<br><br>\n",
    "\n",
    "- 실습 데이터셋을 미리보기 합니다.\n",
    "<img src=\"https://raw.githubusercontent.com/HelloDataScience/Images/main/Seafood%20Preview%202021.png\" align=\"left\" width=\"400\">"
   ]
  },
  {
   "cell_type": "markdown",
   "id": "3f40ad22",
   "metadata": {},
   "source": [
    "### 실습 데이터셋 인코딩 확인"
   ]
  },
  {
   "cell_type": "raw",
   "id": "cd3cd596",
   "metadata": {},
   "source": [
    "# 관련 라이브러리를 설치합니다.\n",
    "!pip install requests"
   ]
  },
  {
   "cell_type": "code",
   "execution_count": null,
   "id": "b387b6b6",
   "metadata": {},
   "outputs": [],
   "source": [
    "# 관련 라이브러리를 호출합니다.\n",
    "import os\n",
    "import chardet\n",
    "import requests\n",
    "import numpy as np\n",
    "import pandas as pd"
   ]
  },
  {
   "cell_type": "code",
   "execution_count": null,
   "id": "04b2f80a",
   "metadata": {},
   "outputs": [],
   "source": [
    "# 온라인으로 공유 중인 csv 파일 주소를 URL에 할당합니다.\n",
    "URL = "
   ]
  },
  {
   "cell_type": "code",
   "execution_count": null,
   "id": "2d02dab4",
   "metadata": {},
   "outputs": [],
   "source": [
    "# URL에 있는 텍스트를 내려받습니다.(HTTP Requests)\n",
    "# [힌트] requests.get() 함수를 사용하세요.\n",
    "res = "
   ]
  },
  {
   "cell_type": "code",
   "execution_count": null,
   "id": "3e38bcc5",
   "metadata": {},
   "outputs": [],
   "source": [
    "# res에서 바이너리 텍스트의 일부를 출력합니다.\n",
    "# [힌트] content 속성을 사용하세요.\n",
    "res."
   ]
  },
  {
   "cell_type": "code",
   "execution_count": null,
   "id": "afb5643a",
   "metadata": {},
   "outputs": [],
   "source": [
    "# 바이너리 텍스트의 인코딩 방식을 확인합니다.\n",
    "# [힌트] chardet.detect() 함수를 사용하세요.\n",
    "chardet.detect()"
   ]
  },
  {
   "cell_type": "markdown",
   "id": "5aac4c94",
   "metadata": {},
   "source": [
    "### 실습 데이터셋 전처리"
   ]
  },
  {
   "cell_type": "code",
   "execution_count": null,
   "id": "7a40dc11",
   "metadata": {},
   "outputs": [],
   "source": [
    "# csv 파일을 읽고 데이터프레임 df를 생성합니다.\n",
    "# [힌트] pd.read_csv() 함수를 사용하세요.\n",
    "df = "
   ]
  },
  {
   "cell_type": "code",
   "execution_count": null,
   "id": "b34ac766",
   "metadata": {},
   "outputs": [],
   "source": [
    "# df의 정보를 확인합니다.\n",
    "# [힌트] info() 함수를 사용하세요.\n",
    "df."
   ]
  },
  {
   "cell_type": "code",
   "execution_count": null,
   "id": "66413e2b",
   "metadata": {},
   "outputs": [],
   "source": [
    "# df의 처음 5행을 출력합니다.\n",
    "# [힌트] head() 함수를 사용하세요.\n",
    "df."
   ]
  },
  {
   "cell_type": "code",
   "execution_count": null,
   "id": "b01559d8",
   "metadata": {},
   "outputs": [],
   "source": [
    "# df의 마지막 5행을 출력합니다.\n",
    "# [힌트] tail() 함수를 사용하세요.\n",
    "df."
   ]
  },
  {
   "cell_type": "code",
   "execution_count": null,
   "id": "35948017",
   "metadata": {},
   "outputs": [],
   "source": [
    "# ymonth의 자료형을 문자열로 변환하고 ymonth에 재할당합니다. \n",
    "# [힌트] astype() 함수를 사용하세요.\n",
    "df['ymonth'] = "
   ]
  },
  {
   "cell_type": "code",
   "execution_count": null,
   "id": "d982ac5e",
   "metadata": {},
   "outputs": [],
   "source": [
    "# dollar를 1000으로 나눈 결과를 dollar에 재할당합니다.\n",
    "df['dollar'] = "
   ]
  },
  {
   "cell_type": "code",
   "execution_count": null,
   "id": "1ab7c7d6",
   "metadata": {},
   "outputs": [],
   "source": [
    "# dollar의 기술통계량을 확인합니다.\n",
    "# [힌트] describe() 함수를 사용하세요.\n",
    "df['dollar']."
   ]
  },
  {
   "cell_type": "code",
   "execution_count": null,
   "id": "613f92e9",
   "metadata": {},
   "outputs": [],
   "source": [
    "# nation의 빈도수를 확인합니다.\n",
    "# [힌트] value_counts() 함수를 사용하세요.\n",
    "df['nation']."
   ]
  },
  {
   "cell_type": "markdown",
   "id": "1d73330c",
   "metadata": {},
   "source": [
    "### 국가별 수출입금액을 합산하고 무역수지 흑자 상위 국가 확인"
   ]
  },
  {
   "cell_type": "code",
   "execution_count": null,
   "id": "1cd5b1b6",
   "metadata": {},
   "outputs": [],
   "source": [
    "# 아래 조건을 만족하는 피벗 테이블을 trade에 할당합니다.\n",
    "# [힌트] pd.pivot_table() 함수를 사용하세요.\n",
    "# 데이터(data)는 df, 값(values)은 dollar, \n",
    "# 행이름(index)은 nation, 열이름(columns)은 imxprt, \n",
    "# 집계함수는 np.sum을 지정하세요.\n",
    "trade = pd.pivot_table()"
   ]
  },
  {
   "cell_type": "code",
   "execution_count": null,
   "id": "0c6945a3",
   "metadata": {},
   "outputs": [],
   "source": [
    "# trade의 처음 10행을 출력합니다.\n",
    "trade."
   ]
  },
  {
   "cell_type": "code",
   "execution_count": null,
   "id": "7c49ba7f",
   "metadata": {},
   "outputs": [],
   "source": [
    "# trade에 있는 결측값을 0으로 대체하고 trade에 재할당합니다.\n",
    "# [힌트] fillna() 함수를 사용하세요.\n",
    "trade = "
   ]
  },
  {
   "cell_type": "code",
   "execution_count": null,
   "id": "0c19ea88",
   "metadata": {},
   "outputs": [],
   "source": [
    "# trade의 수출에서 수입을 뺀 무역수지를 생성합니다.\n",
    "trade['무역수지'] = "
   ]
  },
  {
   "cell_type": "code",
   "execution_count": null,
   "id": "ca56d88e",
   "metadata": {},
   "outputs": [],
   "source": [
    "# trade의 처음 10행을 출력합니다.\n",
    "trade."
   ]
  },
  {
   "cell_type": "code",
   "execution_count": null,
   "id": "3d250bb4",
   "metadata": {},
   "outputs": [],
   "source": [
    "# trade를 무역수지로 내림차순 정렬하고 trade에 재할당합니다.\n",
    "# [힌트] sort_values() 함수를 사용하세요.\n",
    "trade = "
   ]
  },
  {
   "cell_type": "code",
   "execution_count": null,
   "id": "5ff82669",
   "metadata": {},
   "outputs": [],
   "source": [
    "# trade의 처음 5행을 출력합니다.(무역수지 흑자국가)\n",
    "trade."
   ]
  },
  {
   "cell_type": "code",
   "execution_count": null,
   "id": "ee9b7ad0",
   "metadata": {
    "scrolled": true
   },
   "outputs": [],
   "source": [
    "# trade의 마지막 5행을 출력합니다.(무역수지 적자국가)\n",
    "trade."
   ]
  },
  {
   "cell_type": "markdown",
   "id": "ba268a7b",
   "metadata": {},
   "source": [
    "### 무역수지 흑자 1위 국가의 수출입 수산물 목록 확인"
   ]
  },
  {
   "cell_type": "code",
   "execution_count": null,
   "id": "092eaad4",
   "metadata": {},
   "outputs": [],
   "source": [
    "# df에서 nation이 '일본'인 행을 데이터프레임 japan에 할당합니다.\n",
    "# [힌트] eq() 함수를 사용하세요.\n",
    "japan = "
   ]
  },
  {
   "cell_type": "code",
   "execution_count": null,
   "id": "6f53d82e",
   "metadata": {},
   "outputs": [],
   "source": [
    "# japan의 정보를 확인합니다.\n",
    "japan."
   ]
  },
  {
   "cell_type": "code",
   "execution_count": null,
   "id": "d91e714e",
   "metadata": {},
   "outputs": [],
   "source": [
    "# 아래 조건을 만족하는 피벗 테이블을 japan에 재할당합니다.\n",
    "# [힌트] pd.pivot_table() 함수를 사용하세요.\n",
    "# 데이터(data)는 japan, 값(values)은 dollar, \n",
    "# 행이름(index)은 itemNm, 열이름(columns)은 imxprt, \n",
    "# 집계함수는 np.sum을 지정하세요.\n",
    "japan = pd.pivot_table()"
   ]
  },
  {
   "cell_type": "code",
   "execution_count": null,
   "id": "fa62704b",
   "metadata": {},
   "outputs": [],
   "source": [
    "# japan의 처음 10행을 출력합니다.\n",
    "japan."
   ]
  },
  {
   "cell_type": "code",
   "execution_count": null,
   "id": "2922d5c7",
   "metadata": {},
   "outputs": [],
   "source": [
    "# japan에 있는 결측값을 0으로 대체하고 japan에 재할당합니다.\n",
    "japan = "
   ]
  },
  {
   "cell_type": "code",
   "execution_count": null,
   "id": "cd227482",
   "metadata": {},
   "outputs": [],
   "source": [
    "# japan의 수출에서 수입을 뺀 무역수지를 생성합니다.\n",
    "japan['무역수지'] = "
   ]
  },
  {
   "cell_type": "code",
   "execution_count": null,
   "id": "77dfce05",
   "metadata": {},
   "outputs": [],
   "source": [
    "# japan의 처음 10행을 출력합니다.\n",
    "japan."
   ]
  },
  {
   "cell_type": "code",
   "execution_count": null,
   "id": "4de9ac4c",
   "metadata": {},
   "outputs": [],
   "source": [
    "# japan을 무역수지로 내림차순 정렬하고 japan에 재할당합니다.\n",
    "japan = "
   ]
  },
  {
   "cell_type": "code",
   "execution_count": null,
   "id": "65d2f34b",
   "metadata": {},
   "outputs": [],
   "source": [
    "# japan의 처음 5행을 출력합니다.\n",
    "japan."
   ]
  },
  {
   "cell_type": "code",
   "execution_count": null,
   "id": "b8df517b",
   "metadata": {},
   "outputs": [],
   "source": [
    "# japan의 마지막 5행을 출력합니다.\n",
    "japan."
   ]
  },
  {
   "cell_type": "markdown",
   "id": "a9d3a2cf",
   "metadata": {},
   "source": [
    "### [보너스]"
   ]
  },
  {
   "cell_type": "code",
   "execution_count": null,
   "id": "34f84937",
   "metadata": {},
   "outputs": [],
   "source": [
    "# 국가명을 지정하면 수출입 수산물 목록을 반환하는 함수를 생성합니다.\n",
    "# [참고] 함수에서 정의하지 않은 인수는 글로벌 변수를 사용합니다.(ex: df)\n",
    "# [주의] 글로벌 변수 목록에 없으면 에러를 반환합니다.\n",
    "def seafoodItemList(nation):\n",
    "    items = df[df['nation'].eq(nation)]\n",
    "    items = pd.pivot_table(\n",
    "        data = items, \n",
    "        values = 'dollar', \n",
    "        index = 'itemNm', \n",
    "        columns = 'imxprt', \n",
    "        aggfunc = np.sum\n",
    "    )\n",
    "    items = items.fillna(value = 0)\n",
    "    items['무역수지'] = items['수출'] - items['수입']\n",
    "    items = items.sort_values(by = ['무역수지'], ascending = False)\n",
    "    return items"
   ]
  },
  {
   "cell_type": "code",
   "execution_count": null,
   "id": "7d272797",
   "metadata": {},
   "outputs": [],
   "source": [
    "# 함수를 테스트합니다.\n",
    "seafoodItemList(nation = '러시아')"
   ]
  },
  {
   "cell_type": "markdown",
   "id": "5ecdc9f3",
   "metadata": {},
   "source": [
    "### 막대그래프 그리기"
   ]
  },
  {
   "cell_type": "code",
   "execution_count": null,
   "id": "2bc21f8c",
   "metadata": {},
   "outputs": [],
   "source": [
    "# 관련 라이브러리를 호출합니다.\n",
    "# GraphicSetting.py 모듈을 호출해보세요.\n",
    "from GraphicSetting import *"
   ]
  },
  {
   "cell_type": "code",
   "execution_count": null,
   "id": "d2ebaa94",
   "metadata": {},
   "outputs": [],
   "source": [
    "# '일본'과의 수산물 무역수지 데이터를 japan에 할당합니다.\n",
    "japan = seafoodItemList(nation = '일본')"
   ]
  },
  {
   "cell_type": "code",
   "execution_count": null,
   "id": "f54f8ffc",
   "metadata": {},
   "outputs": [],
   "source": [
    "# japan을 출력합니다.\n",
    "japan"
   ]
  },
  {
   "cell_type": "code",
   "execution_count": null,
   "id": "53a34b8e",
   "metadata": {},
   "outputs": [],
   "source": [
    "# japan의 행이름을 초기화하고 top10에 재할당합니다.\n",
    "# [힌트] reset_index() 함수를 사용하세요.\n",
    "# [주의] 기존 행이름을 열로 추가해야 하므로 drop = True를 생략합니다.\n",
    "japan = "
   ]
  },
  {
   "cell_type": "code",
   "execution_count": null,
   "id": "09404d1d",
   "metadata": {},
   "outputs": [],
   "source": [
    "# japan을 출력합니다.\n",
    "japan"
   ]
  },
  {
   "cell_type": "code",
   "execution_count": null,
   "id": "e5416943",
   "metadata": {},
   "outputs": [],
   "source": [
    "# itemNm의 이름을 '수산물'로 변경합니다.\n",
    "japan = "
   ]
  },
  {
   "cell_type": "code",
   "execution_count": null,
   "id": "7bc4b1de",
   "metadata": {},
   "outputs": [],
   "source": [
    "# japan을 출력합니다.\n",
    "japan"
   ]
  },
  {
   "cell_type": "code",
   "execution_count": null,
   "id": "ca16dd38",
   "metadata": {},
   "outputs": [],
   "source": [
    "# japan의 열이름을 출력합니다.\n",
    "japan."
   ]
  },
  {
   "cell_type": "code",
   "execution_count": null,
   "id": "9b354150",
   "metadata": {},
   "outputs": [],
   "source": [
    "# japan의 열이름 네임에 빈 문자열을 지정합니다.\n",
    "japan."
   ]
  },
  {
   "cell_type": "code",
   "execution_count": null,
   "id": "d8d86db8",
   "metadata": {},
   "outputs": [],
   "source": [
    "# japan을 출력합니다.\n",
    "japan"
   ]
  },
  {
   "cell_type": "code",
   "execution_count": null,
   "id": "3964cce7",
   "metadata": {},
   "outputs": [],
   "source": [
    "# japan의 처음 10행을 top10에 할당하고 막대그래프를 그립니다.\n",
    "top10 = \n",
    "\n",
    "# [힌트] sns.barplot() 함수를 사용하세요.\n",
    "# x축에 수산물, y축에 무역수지를 지정합니다.\n",
    "sns.barplot()\n",
    "\n",
    "# 그래프 제목을 '수출 상위 10위 수산물 목록'으로 지정합니다.\n",
    "plt.title()\n",
    "\n",
    "# x축 눈금명을 45도 회전시킵니다.\n",
    "plt.xticks()\n",
    "\n",
    "# 막대 위에 무역수지를 반올림하여 정수만 남긴 수를 텍스트로 추가합니다.\n",
    "for i, v in enumerate():\n",
    "    plt.text(x = , y = , s = , ha = , va = , fontsize = 8);"
   ]
  },
  {
   "cell_type": "code",
   "execution_count": null,
   "id": "ccbf3f69",
   "metadata": {},
   "outputs": [],
   "source": [
    "# japan의 마지막 10행을 btm10에 할당하고 막대그래프를 그립니다.\n",
    "btm10 = \n",
    "\n",
    "# [힌트] sns.barplot() 함수를 사용하세요.\n",
    "# x축에 수산물, y축에 무역수지를 지정합니다.\n",
    "sns.barplot()\n",
    "\n",
    "# 그래프 제목을 '수입 상위 10위 수산물 목록'으로 지정합니다.\n",
    "plt.title()\n",
    "\n",
    "# x축 눈금명을 45도 회전시킵니다.\n",
    "plt.xticks()\n",
    "\n",
    "# 막대 아래에 무역수지를 반올림하여 정수만 남긴 수를 텍스트로 추가합니다.\n",
    "for i, v in enumerate():\n",
    "    plt.text(x = , y = , s = , ha = , va = , fontsize = 8);"
   ]
  },
  {
   "cell_type": "markdown",
   "id": "e4cf499e",
   "metadata": {},
   "source": [
    "## End of Document"
   ]
  }
 ],
 "metadata": {
  "kernelspec": {
   "display_name": "Python 3 (ipykernel)",
   "language": "python",
   "name": "python3"
  },
  "language_info": {
   "codemirror_mode": {
    "name": "ipython",
    "version": 3
   },
   "file_extension": ".py",
   "mimetype": "text/x-python",
   "name": "python",
   "nbconvert_exporter": "python",
   "pygments_lexer": "ipython3",
   "version": "3.10.4"
  },
  "toc": {
   "base_numbering": 1,
   "nav_menu": {},
   "number_sections": false,
   "sideBar": true,
   "skip_h1_title": false,
   "title_cell": "Table of Contents",
   "title_sidebar": "Contents",
   "toc_cell": false,
   "toc_position": {},
   "toc_section_display": true,
   "toc_window_display": false
  },
  "varInspector": {
   "cols": {
    "lenName": 16,
    "lenType": 16,
    "lenVar": 40
   },
   "kernels_config": {
    "python": {
     "delete_cmd_postfix": "",
     "delete_cmd_prefix": "del ",
     "library": "var_list.py",
     "varRefreshCmd": "print(var_dic_list())"
    },
    "r": {
     "delete_cmd_postfix": ") ",
     "delete_cmd_prefix": "rm(",
     "library": "var_list.r",
     "varRefreshCmd": "cat(var_dic_list()) "
    }
   },
   "types_to_exclude": [
    "module",
    "function",
    "builtin_function_or_method",
    "instance",
    "_Feature"
   ],
   "window_display": false
  }
 },
 "nbformat": 4,
 "nbformat_minor": 5
}
