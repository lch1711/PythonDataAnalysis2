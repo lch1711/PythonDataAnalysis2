{
 "cells": [
  {
   "cell_type": "markdown",
   "id": "1abe1def",
   "metadata": {},
   "source": [
    "## 연습문제 Day 2 모범답안"
   ]
  },
  {
   "cell_type": "markdown",
   "id": "10d84883",
   "metadata": {},
   "source": [
    "- 연습문제 Day 1에서 전처리한 z 파일을 읽고 kbo를 생성합니다.\n",
    "- kbo 데이터로 상관분석과 t-검정 및 분산분석을 실행합니다."
   ]
  },
  {
   "cell_type": "markdown",
   "id": "66228618",
   "metadata": {},
   "source": [
    "### 실습 데이터셋 준비"
   ]
  },
  {
   "cell_type": "code",
   "execution_count": 1,
   "id": "b9aabaa2",
   "metadata": {
    "ExecuteTime": {
     "end_time": "2022-06-07T14:40:02.913350Z",
     "start_time": "2022-06-07T14:40:01.708014Z"
    }
   },
   "outputs": [],
   "source": [
    "# 관련 라이브러리를 호출합니다.\n",
    "import os\n",
    "import joblib\n",
    "import numpy as np\n",
    "import pandas as pd\n",
    "from scipy import stats\n",
    "import pingouin as pg\n",
    "import scikit_posthocs as sp"
   ]
  },
  {
   "cell_type": "code",
   "execution_count": 2,
   "id": "e39f30c4",
   "metadata": {
    "ExecuteTime": {
     "end_time": "2022-06-07T14:40:02.925896Z",
     "start_time": "2022-06-07T14:40:02.915705Z"
    }
   },
   "outputs": [
    {
     "data": {
      "text/plain": [
       "'/Users/hdsceokevin/Documents/Lectures/PythonAdvanced/exercise'"
      ]
     },
     "execution_count": 2,
     "metadata": {},
     "output_type": "execute_result"
    }
   ],
   "source": [
    "# 현재 작업 경로를 확인합니다.\n",
    "# [힌트] getcwd() 함수를 사용하세요.\n",
    "os.getcwd()"
   ]
  },
  {
   "cell_type": "code",
   "execution_count": 3,
   "id": "8b6a334b",
   "metadata": {
    "ExecuteTime": {
     "end_time": "2022-06-07T14:40:02.929827Z",
     "start_time": "2022-06-07T14:40:02.927715Z"
    }
   },
   "outputs": [],
   "source": [
    "# data 폴더로 작업 경로를 변경합니다.\n",
    "# [힌트] chdir() 함수를 사용하세요.\n",
    "os.chdir(path = '../data')"
   ]
  },
  {
   "cell_type": "code",
   "execution_count": 4,
   "id": "65b32e57",
   "metadata": {
    "ExecuteTime": {
     "end_time": "2022-06-07T14:40:02.936050Z",
     "start_time": "2022-06-07T14:40:02.932303Z"
    }
   },
   "outputs": [
    {
     "data": {
      "text/plain": [
       "['Used_Cars_Price.z',\n",
       " 'Used_Cars_Price.xlsx',\n",
       " 'Used_Cars_Price_Prep.z',\n",
       " 'KBO_Hitter_2021.z',\n",
       " 'Used_Cars_Price.csv']"
      ]
     },
     "execution_count": 4,
     "metadata": {},
     "output_type": "execute_result"
    }
   ],
   "source": [
    "# 현재 작업 경로에 있는 폴더명과 파일명을 출력합니다.\n",
    "# [힌트] listdir() 함수를 사용하세요.\n",
    "os.listdir()"
   ]
  },
  {
   "cell_type": "code",
   "execution_count": 5,
   "id": "6b9f6d03",
   "metadata": {
    "ExecuteTime": {
     "end_time": "2022-06-07T14:40:02.941585Z",
     "start_time": "2022-06-07T14:40:02.937666Z"
    }
   },
   "outputs": [],
   "source": [
    "# z 파일을 읽고 데이터프레임 kbo를 생성합니다.\n",
    "# [힌트] joblib.load() 함수를 사용하세요.\n",
    "kbo = joblib.load(filename = 'KBO_Hitter_2021.z')"
   ]
  },
  {
   "cell_type": "code",
   "execution_count": 6,
   "id": "44ec5005",
   "metadata": {
    "ExecuteTime": {
     "end_time": "2022-06-07T14:40:02.953231Z",
     "start_time": "2022-06-07T14:40:02.943128Z"
    }
   },
   "outputs": [
    {
     "name": "stdout",
     "output_type": "stream",
     "text": [
      "<class 'pandas.core.frame.DataFrame'>\n",
      "Int64Index: 194 entries, 0 to 299\n",
      "Data columns (total 20 columns):\n",
      " #   Column  Non-Null Count  Dtype  \n",
      "---  ------  --------------  -----  \n",
      " 0   선수명     194 non-null    object \n",
      " 1   팀명      194 non-null    object \n",
      " 2   경기      194 non-null    int64  \n",
      " 3   타석      194 non-null    int64  \n",
      " 4   타수      194 non-null    int64  \n",
      " 5   안타      194 non-null    int64  \n",
      " 6   홈런      194 non-null    int64  \n",
      " 7   득점      194 non-null    int64  \n",
      " 8   타점      194 non-null    int64  \n",
      " 9   볼넷      194 non-null    int64  \n",
      " 10  삼진      194 non-null    int64  \n",
      " 11  도루      194 non-null    int64  \n",
      " 12  BABIP   194 non-null    float64\n",
      " 13  타율      194 non-null    float64\n",
      " 14  출루율     194 non-null    float64\n",
      " 15  장타율     194 non-null    float64\n",
      " 16  OPS     194 non-null    float64\n",
      " 17  wOBA    194 non-null    float64\n",
      " 18  WAR     194 non-null    float64\n",
      " 19  올스타     194 non-null    object \n",
      "dtypes: float64(7), int64(10), object(3)\n",
      "memory usage: 31.8+ KB\n"
     ]
    }
   ],
   "source": [
    "# kbo의 정보를 확인합니다.\n",
    "# [힌트] info() 함수를 사용하세요.\n",
    "kbo.info()"
   ]
  },
  {
   "cell_type": "code",
   "execution_count": 7,
   "id": "58ab1464",
   "metadata": {
    "ExecuteTime": {
     "end_time": "2022-06-07T14:40:02.969800Z",
     "start_time": "2022-06-07T14:40:02.954989Z"
    }
   },
   "outputs": [
    {
     "data": {
      "text/html": [
       "<div>\n",
       "<style scoped>\n",
       "    .dataframe tbody tr th:only-of-type {\n",
       "        vertical-align: middle;\n",
       "    }\n",
       "\n",
       "    .dataframe tbody tr th {\n",
       "        vertical-align: top;\n",
       "    }\n",
       "\n",
       "    .dataframe thead th {\n",
       "        text-align: right;\n",
       "    }\n",
       "</style>\n",
       "<table border=\"1\" class=\"dataframe\">\n",
       "  <thead>\n",
       "    <tr style=\"text-align: right;\">\n",
       "      <th></th>\n",
       "      <th>선수명</th>\n",
       "      <th>팀명</th>\n",
       "      <th>경기</th>\n",
       "      <th>타석</th>\n",
       "      <th>타수</th>\n",
       "      <th>안타</th>\n",
       "      <th>홈런</th>\n",
       "      <th>득점</th>\n",
       "      <th>타점</th>\n",
       "      <th>볼넷</th>\n",
       "      <th>삼진</th>\n",
       "      <th>도루</th>\n",
       "      <th>BABIP</th>\n",
       "      <th>타율</th>\n",
       "      <th>출루율</th>\n",
       "      <th>장타율</th>\n",
       "      <th>OPS</th>\n",
       "      <th>wOBA</th>\n",
       "      <th>WAR</th>\n",
       "      <th>올스타</th>\n",
       "    </tr>\n",
       "  </thead>\n",
       "  <tbody>\n",
       "    <tr>\n",
       "      <th>0</th>\n",
       "      <td>홍창기</td>\n",
       "      <td>LG</td>\n",
       "      <td>144</td>\n",
       "      <td>651</td>\n",
       "      <td>524</td>\n",
       "      <td>172</td>\n",
       "      <td>4</td>\n",
       "      <td>103</td>\n",
       "      <td>52</td>\n",
       "      <td>109</td>\n",
       "      <td>95</td>\n",
       "      <td>23</td>\n",
       "      <td>0.393</td>\n",
       "      <td>0.328</td>\n",
       "      <td>0.456</td>\n",
       "      <td>0.408</td>\n",
       "      <td>0.864</td>\n",
       "      <td>0.412</td>\n",
       "      <td>7.10</td>\n",
       "      <td>나눔</td>\n",
       "    </tr>\n",
       "    <tr>\n",
       "      <th>1</th>\n",
       "      <td>이정후</td>\n",
       "      <td>Hero</td>\n",
       "      <td>123</td>\n",
       "      <td>544</td>\n",
       "      <td>464</td>\n",
       "      <td>167</td>\n",
       "      <td>7</td>\n",
       "      <td>78</td>\n",
       "      <td>84</td>\n",
       "      <td>62</td>\n",
       "      <td>37</td>\n",
       "      <td>10</td>\n",
       "      <td>0.373</td>\n",
       "      <td>0.360</td>\n",
       "      <td>0.438</td>\n",
       "      <td>0.522</td>\n",
       "      <td>0.960</td>\n",
       "      <td>0.429</td>\n",
       "      <td>7.06</td>\n",
       "      <td>나눔</td>\n",
       "    </tr>\n",
       "    <tr>\n",
       "      <th>2</th>\n",
       "      <td>강백호</td>\n",
       "      <td>KT</td>\n",
       "      <td>142</td>\n",
       "      <td>628</td>\n",
       "      <td>516</td>\n",
       "      <td>179</td>\n",
       "      <td>16</td>\n",
       "      <td>76</td>\n",
       "      <td>102</td>\n",
       "      <td>104</td>\n",
       "      <td>85</td>\n",
       "      <td>10</td>\n",
       "      <td>0.385</td>\n",
       "      <td>0.347</td>\n",
       "      <td>0.451</td>\n",
       "      <td>0.521</td>\n",
       "      <td>0.972</td>\n",
       "      <td>0.434</td>\n",
       "      <td>6.97</td>\n",
       "      <td>드림</td>\n",
       "    </tr>\n",
       "    <tr>\n",
       "      <th>3</th>\n",
       "      <td>최정</td>\n",
       "      <td>SSG</td>\n",
       "      <td>134</td>\n",
       "      <td>555</td>\n",
       "      <td>436</td>\n",
       "      <td>121</td>\n",
       "      <td>35</td>\n",
       "      <td>92</td>\n",
       "      <td>100</td>\n",
       "      <td>84</td>\n",
       "      <td>102</td>\n",
       "      <td>8</td>\n",
       "      <td>0.277</td>\n",
       "      <td>0.278</td>\n",
       "      <td>0.410</td>\n",
       "      <td>0.562</td>\n",
       "      <td>0.972</td>\n",
       "      <td>0.425</td>\n",
       "      <td>6.83</td>\n",
       "      <td>드림</td>\n",
       "    </tr>\n",
       "    <tr>\n",
       "      <th>4</th>\n",
       "      <td>양의지</td>\n",
       "      <td>NC</td>\n",
       "      <td>141</td>\n",
       "      <td>570</td>\n",
       "      <td>480</td>\n",
       "      <td>156</td>\n",
       "      <td>30</td>\n",
       "      <td>81</td>\n",
       "      <td>111</td>\n",
       "      <td>69</td>\n",
       "      <td>60</td>\n",
       "      <td>2</td>\n",
       "      <td>0.315</td>\n",
       "      <td>0.325</td>\n",
       "      <td>0.414</td>\n",
       "      <td>0.581</td>\n",
       "      <td>0.995</td>\n",
       "      <td>0.432</td>\n",
       "      <td>6.48</td>\n",
       "      <td>나눔</td>\n",
       "    </tr>\n",
       "  </tbody>\n",
       "</table>\n",
       "</div>"
      ],
      "text/plain": [
       "   선수명    팀명   경기   타석   타수   안타  홈런   득점   타점   볼넷   삼진  도루  BABIP     타율  \\\n",
       "0  홍창기    LG  144  651  524  172   4  103   52  109   95  23  0.393  0.328   \n",
       "1  이정후  Hero  123  544  464  167   7   78   84   62   37  10  0.373  0.360   \n",
       "2  강백호    KT  142  628  516  179  16   76  102  104   85  10  0.385  0.347   \n",
       "3   최정   SSG  134  555  436  121  35   92  100   84  102   8  0.277  0.278   \n",
       "4  양의지    NC  141  570  480  156  30   81  111   69   60   2  0.315  0.325   \n",
       "\n",
       "     출루율    장타율    OPS   wOBA   WAR 올스타  \n",
       "0  0.456  0.408  0.864  0.412  7.10  나눔  \n",
       "1  0.438  0.522  0.960  0.429  7.06  나눔  \n",
       "2  0.451  0.521  0.972  0.434  6.97  드림  \n",
       "3  0.410  0.562  0.972  0.425  6.83  드림  \n",
       "4  0.414  0.581  0.995  0.432  6.48  나눔  "
      ]
     },
     "execution_count": 7,
     "metadata": {},
     "output_type": "execute_result"
    }
   ],
   "source": [
    "# kbo의 처음 5행을 출력합니다.\n",
    "# [힌트] head() 함수를 사용하세요.\n",
    "kbo.head()"
   ]
  },
  {
   "cell_type": "markdown",
   "id": "e64ee035",
   "metadata": {},
   "source": [
    "### 피어슨 상관분석\n",
    "\n",
    "kbo에서 실수형 열을 선택하고 OPS와의 피어슨 상관분석을 실행합니다."
   ]
  },
  {
   "cell_type": "code",
   "execution_count": 8,
   "id": "d413f9fd",
   "metadata": {},
   "outputs": [
    {
     "data": {
      "text/plain": [
       "선수명       object\n",
       "팀명        object\n",
       "경기         int64\n",
       "타석         int64\n",
       "타수         int64\n",
       "안타         int64\n",
       "홈런         int64\n",
       "득점         int64\n",
       "타점         int64\n",
       "볼넷         int64\n",
       "삼진         int64\n",
       "도루         int64\n",
       "BABIP    float64\n",
       "타율       float64\n",
       "출루율      float64\n",
       "장타율      float64\n",
       "OPS      float64\n",
       "wOBA     float64\n",
       "WAR      float64\n",
       "올스타       object\n",
       "dtype: object"
      ]
     },
     "execution_count": 8,
     "metadata": {},
     "output_type": "execute_result"
    }
   ],
   "source": [
    "# kbo의 열별 자료형을 출력합니다.\n",
    "# [힌트] dtypes 속성을 사용하세요.\n",
    "kbo.dtypes"
   ]
  },
  {
   "cell_type": "code",
   "execution_count": 9,
   "id": "4c0f7333",
   "metadata": {},
   "outputs": [],
   "source": [
    "# kbo에서 열별 자료형이 실수형이면 True, 아니면 False인 시리즈 locs를 생성합니다.\n",
    "# [힌트] eq() 함수를 사용하세요.\n",
    "locs = kbo.dtypes.eq('float64')"
   ]
  },
  {
   "cell_type": "code",
   "execution_count": 10,
   "id": "dbc7831d",
   "metadata": {},
   "outputs": [
    {
     "data": {
      "text/plain": [
       "선수명      False\n",
       "팀명       False\n",
       "경기       False\n",
       "타석       False\n",
       "타수       False\n",
       "안타       False\n",
       "홈런       False\n",
       "득점       False\n",
       "타점       False\n",
       "볼넷       False\n",
       "삼진       False\n",
       "도루       False\n",
       "BABIP     True\n",
       "타율        True\n",
       "출루율       True\n",
       "장타율       True\n",
       "OPS       True\n",
       "wOBA      True\n",
       "WAR       True\n",
       "올스타      False\n",
       "dtype: bool"
      ]
     },
     "execution_count": 10,
     "metadata": {},
     "output_type": "execute_result"
    }
   ],
   "source": [
    "# locs를 출력합니다.\n",
    "locs"
   ]
  },
  {
   "cell_type": "code",
   "execution_count": 11,
   "id": "75d7aeb8",
   "metadata": {
    "scrolled": true
   },
   "outputs": [
    {
     "data": {
      "text/html": [
       "<div>\n",
       "<style scoped>\n",
       "    .dataframe tbody tr th:only-of-type {\n",
       "        vertical-align: middle;\n",
       "    }\n",
       "\n",
       "    .dataframe tbody tr th {\n",
       "        vertical-align: top;\n",
       "    }\n",
       "\n",
       "    .dataframe thead th {\n",
       "        text-align: right;\n",
       "    }\n",
       "</style>\n",
       "<table border=\"1\" class=\"dataframe\">\n",
       "  <thead>\n",
       "    <tr style=\"text-align: right;\">\n",
       "      <th></th>\n",
       "      <th>BABIP</th>\n",
       "      <th>타율</th>\n",
       "      <th>출루율</th>\n",
       "      <th>장타율</th>\n",
       "      <th>OPS</th>\n",
       "      <th>wOBA</th>\n",
       "      <th>WAR</th>\n",
       "    </tr>\n",
       "  </thead>\n",
       "  <tbody>\n",
       "    <tr>\n",
       "      <th>0</th>\n",
       "      <td>0.393</td>\n",
       "      <td>0.328</td>\n",
       "      <td>0.456</td>\n",
       "      <td>0.408</td>\n",
       "      <td>0.864</td>\n",
       "      <td>0.412</td>\n",
       "      <td>7.10</td>\n",
       "    </tr>\n",
       "    <tr>\n",
       "      <th>1</th>\n",
       "      <td>0.373</td>\n",
       "      <td>0.360</td>\n",
       "      <td>0.438</td>\n",
       "      <td>0.522</td>\n",
       "      <td>0.960</td>\n",
       "      <td>0.429</td>\n",
       "      <td>7.06</td>\n",
       "    </tr>\n",
       "    <tr>\n",
       "      <th>2</th>\n",
       "      <td>0.385</td>\n",
       "      <td>0.347</td>\n",
       "      <td>0.451</td>\n",
       "      <td>0.521</td>\n",
       "      <td>0.972</td>\n",
       "      <td>0.434</td>\n",
       "      <td>6.97</td>\n",
       "    </tr>\n",
       "    <tr>\n",
       "      <th>3</th>\n",
       "      <td>0.277</td>\n",
       "      <td>0.278</td>\n",
       "      <td>0.410</td>\n",
       "      <td>0.562</td>\n",
       "      <td>0.972</td>\n",
       "      <td>0.425</td>\n",
       "      <td>6.83</td>\n",
       "    </tr>\n",
       "    <tr>\n",
       "      <th>4</th>\n",
       "      <td>0.315</td>\n",
       "      <td>0.325</td>\n",
       "      <td>0.414</td>\n",
       "      <td>0.581</td>\n",
       "      <td>0.995</td>\n",
       "      <td>0.432</td>\n",
       "      <td>6.48</td>\n",
       "    </tr>\n",
       "    <tr>\n",
       "      <th>...</th>\n",
       "      <td>...</td>\n",
       "      <td>...</td>\n",
       "      <td>...</td>\n",
       "      <td>...</td>\n",
       "      <td>...</td>\n",
       "      <td>...</td>\n",
       "      <td>...</td>\n",
       "    </tr>\n",
       "    <tr>\n",
       "      <th>295</th>\n",
       "      <td>0.311</td>\n",
       "      <td>0.239</td>\n",
       "      <td>0.275</td>\n",
       "      <td>0.321</td>\n",
       "      <td>0.596</td>\n",
       "      <td>0.270</td>\n",
       "      <td>-0.76</td>\n",
       "    </tr>\n",
       "    <tr>\n",
       "      <th>296</th>\n",
       "      <td>0.198</td>\n",
       "      <td>0.158</td>\n",
       "      <td>0.248</td>\n",
       "      <td>0.254</td>\n",
       "      <td>0.502</td>\n",
       "      <td>0.241</td>\n",
       "      <td>-0.90</td>\n",
       "    </tr>\n",
       "    <tr>\n",
       "      <th>297</th>\n",
       "      <td>0.264</td>\n",
       "      <td>0.175</td>\n",
       "      <td>0.238</td>\n",
       "      <td>0.228</td>\n",
       "      <td>0.466</td>\n",
       "      <td>0.224</td>\n",
       "      <td>-0.96</td>\n",
       "    </tr>\n",
       "    <tr>\n",
       "      <th>298</th>\n",
       "      <td>0.217</td>\n",
       "      <td>0.143</td>\n",
       "      <td>0.218</td>\n",
       "      <td>0.224</td>\n",
       "      <td>0.442</td>\n",
       "      <td>0.213</td>\n",
       "      <td>-0.96</td>\n",
       "    </tr>\n",
       "    <tr>\n",
       "      <th>299</th>\n",
       "      <td>0.235</td>\n",
       "      <td>0.153</td>\n",
       "      <td>0.229</td>\n",
       "      <td>0.214</td>\n",
       "      <td>0.443</td>\n",
       "      <td>0.217</td>\n",
       "      <td>-1.47</td>\n",
       "    </tr>\n",
       "  </tbody>\n",
       "</table>\n",
       "<p>194 rows × 7 columns</p>\n",
       "</div>"
      ],
      "text/plain": [
       "     BABIP     타율    출루율    장타율    OPS   wOBA   WAR\n",
       "0    0.393  0.328  0.456  0.408  0.864  0.412  7.10\n",
       "1    0.373  0.360  0.438  0.522  0.960  0.429  7.06\n",
       "2    0.385  0.347  0.451  0.521  0.972  0.434  6.97\n",
       "3    0.277  0.278  0.410  0.562  0.972  0.425  6.83\n",
       "4    0.315  0.325  0.414  0.581  0.995  0.432  6.48\n",
       "..     ...    ...    ...    ...    ...    ...   ...\n",
       "295  0.311  0.239  0.275  0.321  0.596  0.270 -0.76\n",
       "296  0.198  0.158  0.248  0.254  0.502  0.241 -0.90\n",
       "297  0.264  0.175  0.238  0.228  0.466  0.224 -0.96\n",
       "298  0.217  0.143  0.218  0.224  0.442  0.213 -0.96\n",
       "299  0.235  0.153  0.229  0.214  0.443  0.217 -1.47\n",
       "\n",
       "[194 rows x 7 columns]"
      ]
     },
     "execution_count": 11,
     "metadata": {},
     "output_type": "execute_result"
    }
   ],
   "source": [
    "# kbo에서 실수형 변수만 선택합니다.\n",
    "# [힌트] loc 인덱서를 추가하고 열 위치에 locs를 지정하세요.\n",
    "kbo.loc[:, locs]"
   ]
  },
  {
   "cell_type": "code",
   "execution_count": 12,
   "id": "4358b679",
   "metadata": {
    "scrolled": true
   },
   "outputs": [
    {
     "data": {
      "text/html": [
       "<div>\n",
       "<style scoped>\n",
       "    .dataframe tbody tr th:only-of-type {\n",
       "        vertical-align: middle;\n",
       "    }\n",
       "\n",
       "    .dataframe tbody tr th {\n",
       "        vertical-align: top;\n",
       "    }\n",
       "\n",
       "    .dataframe thead th {\n",
       "        text-align: right;\n",
       "    }\n",
       "</style>\n",
       "<table border=\"1\" class=\"dataframe\">\n",
       "  <thead>\n",
       "    <tr style=\"text-align: right;\">\n",
       "      <th></th>\n",
       "      <th>BABIP</th>\n",
       "      <th>타율</th>\n",
       "      <th>출루율</th>\n",
       "      <th>장타율</th>\n",
       "      <th>OPS</th>\n",
       "      <th>wOBA</th>\n",
       "      <th>WAR</th>\n",
       "    </tr>\n",
       "  </thead>\n",
       "  <tbody>\n",
       "    <tr>\n",
       "      <th>pearson</th>\n",
       "      <td>0.0</td>\n",
       "      <td>0.0</td>\n",
       "      <td>0.0</td>\n",
       "      <td>0.0</td>\n",
       "      <td>0.0</td>\n",
       "      <td>0.0</td>\n",
       "      <td>0.0</td>\n",
       "    </tr>\n",
       "  </tbody>\n",
       "</table>\n",
       "</div>"
      ],
      "text/plain": [
       "         BABIP   타율  출루율  장타율  OPS  wOBA  WAR\n",
       "pearson    0.0  0.0  0.0  0.0  0.0   0.0  0.0"
      ]
     },
     "execution_count": 12,
     "metadata": {},
     "output_type": "execute_result"
    }
   ],
   "source": [
    "# kbo의 실수형 변수와 OPS의 피어슨 상관분석을 실행하고 유의확률을 출력합니다.\n",
    "# [힌트] apply() 함수에 lambda 표현식으로 pg.corr() 함수를 실행하세요.\n",
    "# [참고] 데이터프레임의 열별로 함수를 반복 실행하므로 axis 매개변수를 생략합니다.(기본값: 0)\n",
    "# [힌트] pg.corr() 함수 실행 결과에서 'p-val'을 인덱싱하세요.\n",
    "# 마지막에 round() 함수를 추가하면 반올림한 결과를 반환합니다.\n",
    "kbo.loc[:, locs].apply(func = lambda x: pg.corr(x = x, y = kbo['OPS'])['p-val']).round(4)"
   ]
  },
  {
   "cell_type": "code",
   "execution_count": 13,
   "id": "a6b214b1",
   "metadata": {},
   "outputs": [
    {
     "data": {
      "text/html": [
       "<div>\n",
       "<style scoped>\n",
       "    .dataframe tbody tr th:only-of-type {\n",
       "        vertical-align: middle;\n",
       "    }\n",
       "\n",
       "    .dataframe tbody tr th {\n",
       "        vertical-align: top;\n",
       "    }\n",
       "\n",
       "    .dataframe thead th {\n",
       "        text-align: right;\n",
       "    }\n",
       "</style>\n",
       "<table border=\"1\" class=\"dataframe\">\n",
       "  <thead>\n",
       "    <tr style=\"text-align: right;\">\n",
       "      <th></th>\n",
       "      <th>BABIP</th>\n",
       "      <th>타율</th>\n",
       "      <th>출루율</th>\n",
       "      <th>장타율</th>\n",
       "      <th>OPS</th>\n",
       "      <th>wOBA</th>\n",
       "      <th>WAR</th>\n",
       "    </tr>\n",
       "  </thead>\n",
       "  <tbody>\n",
       "    <tr>\n",
       "      <th>pearson</th>\n",
       "      <td>0.5756</td>\n",
       "      <td>0.8372</td>\n",
       "      <td>0.8289</td>\n",
       "      <td>0.9477</td>\n",
       "      <td>1.0</td>\n",
       "      <td>0.9751</td>\n",
       "      <td>0.7825</td>\n",
       "    </tr>\n",
       "  </tbody>\n",
       "</table>\n",
       "</div>"
      ],
      "text/plain": [
       "          BABIP      타율     출루율     장타율  OPS    wOBA     WAR\n",
       "pearson  0.5756  0.8372  0.8289  0.9477  1.0  0.9751  0.7825"
      ]
     },
     "execution_count": 13,
     "metadata": {},
     "output_type": "execute_result"
    }
   ],
   "source": [
    "# kbo의 실수형 변수와 OPS의 피어슨 상관분석을 실행하고 상관계수를 출력합니다.\n",
    "kbo.loc[:, locs].apply(func = lambda x: pg.corr(x = x, y = kbo['OPS'])['r']).round(4)"
   ]
  },
  {
   "cell_type": "markdown",
   "id": "808adfbf",
   "metadata": {},
   "source": [
    "### t-검정: 올스타\n",
    "\n",
    "kbo의 올스타 범주별 OPS의 평균이 같은지 확인합니다."
   ]
  },
  {
   "cell_type": "code",
   "execution_count": 14,
   "id": "2582d493",
   "metadata": {},
   "outputs": [
    {
     "data": {
      "text/plain": [
       "올스타\n",
       "나눔    0.659202\n",
       "드림    0.723000\n",
       "Name: OPS, dtype: float64"
      ]
     },
     "execution_count": 14,
     "metadata": {},
     "output_type": "execute_result"
    }
   ],
   "source": [
    "# kbo의 올스타 범주별 OPS의 평균을 확인합니다.\n",
    "kbo.groupby(by = ['올스타'])['OPS'].mean()"
   ]
  },
  {
   "cell_type": "code",
   "execution_count": 15,
   "id": "1e2fb63d",
   "metadata": {
    "ExecuteTime": {
     "end_time": "2022-06-07T14:40:03.024451Z",
     "start_time": "2022-06-07T14:40:03.012526Z"
    }
   },
   "outputs": [
    {
     "data": {
      "text/html": [
       "<div>\n",
       "<style scoped>\n",
       "    .dataframe tbody tr th:only-of-type {\n",
       "        vertical-align: middle;\n",
       "    }\n",
       "\n",
       "    .dataframe tbody tr th {\n",
       "        vertical-align: top;\n",
       "    }\n",
       "\n",
       "    .dataframe thead th {\n",
       "        text-align: right;\n",
       "    }\n",
       "</style>\n",
       "<table border=\"1\" class=\"dataframe\">\n",
       "  <thead>\n",
       "    <tr style=\"text-align: right;\">\n",
       "      <th></th>\n",
       "      <th>W</th>\n",
       "      <th>pval</th>\n",
       "      <th>normal</th>\n",
       "    </tr>\n",
       "  </thead>\n",
       "  <tbody>\n",
       "    <tr>\n",
       "      <th>나눔</th>\n",
       "      <td>0.986279</td>\n",
       "      <td>0.363086</td>\n",
       "      <td>True</td>\n",
       "    </tr>\n",
       "    <tr>\n",
       "      <th>드림</th>\n",
       "      <td>0.980158</td>\n",
       "      <td>0.185272</td>\n",
       "      <td>True</td>\n",
       "    </tr>\n",
       "  </tbody>\n",
       "</table>\n",
       "</div>"
      ],
      "text/plain": [
       "           W      pval  normal\n",
       "나눔  0.986279  0.363086    True\n",
       "드림  0.980158  0.185272    True"
      ]
     },
     "execution_count": 15,
     "metadata": {},
     "output_type": "execute_result"
    }
   ],
   "source": [
    "# kbo의 올스타 범주별 OPS의 정규성 검정을 실행합니다.\n",
    "# [힌트] pg.normality() 함수에 사용하세요.\n",
    "# [참고] method를 생략하면 인수의 기본값인 'shapiro'를 적용합니다.\n",
    "pg.normality(data = kbo, dv = 'OPS', group = '올스타')"
   ]
  },
  {
   "cell_type": "code",
   "execution_count": 16,
   "id": "75b57b84",
   "metadata": {
    "ExecuteTime": {
     "end_time": "2022-06-07T14:40:03.034422Z",
     "start_time": "2022-06-07T14:40:03.026109Z"
    }
   },
   "outputs": [
    {
     "data": {
      "text/html": [
       "<div>\n",
       "<style scoped>\n",
       "    .dataframe tbody tr th:only-of-type {\n",
       "        vertical-align: middle;\n",
       "    }\n",
       "\n",
       "    .dataframe tbody tr th {\n",
       "        vertical-align: top;\n",
       "    }\n",
       "\n",
       "    .dataframe thead th {\n",
       "        text-align: right;\n",
       "    }\n",
       "</style>\n",
       "<table border=\"1\" class=\"dataframe\">\n",
       "  <thead>\n",
       "    <tr style=\"text-align: right;\">\n",
       "      <th></th>\n",
       "      <th>W</th>\n",
       "      <th>pval</th>\n",
       "      <th>equal_var</th>\n",
       "    </tr>\n",
       "  </thead>\n",
       "  <tbody>\n",
       "    <tr>\n",
       "      <th>levene</th>\n",
       "      <td>1.666605</td>\n",
       "      <td>0.198266</td>\n",
       "      <td>True</td>\n",
       "    </tr>\n",
       "  </tbody>\n",
       "</table>\n",
       "</div>"
      ],
      "text/plain": [
       "               W      pval  equal_var\n",
       "levene  1.666605  0.198266       True"
      ]
     },
     "execution_count": 16,
     "metadata": {},
     "output_type": "execute_result"
    }
   ],
   "source": [
    "# (정규성 가정 만족) kbo의 올스타 범주별 OPS의 등분산성 검정을 실행합니다.\n",
    "# [힌트] pg.homoscedasticity() 함수를 사용하세요.\n",
    "# [참고] method를 생략하면 인수의 기본값인 'levene'을 적용합니다.\n",
    "pg.homoscedasticity(data = kbo, dv = 'OPS', group = '올스타')"
   ]
  },
  {
   "cell_type": "code",
   "execution_count": 17,
   "id": "ff35dc8e",
   "metadata": {},
   "outputs": [],
   "source": [
    "# 올스타 원소의 중복을 제거한 values를 생성합니다.\n",
    "# [힌트] unique() 함수를 사용하세요.\n",
    "values = kbo['올스타'].unique()"
   ]
  },
  {
   "cell_type": "code",
   "execution_count": 18,
   "id": "a6e76983",
   "metadata": {},
   "outputs": [
    {
     "data": {
      "text/plain": [
       "array(['나눔', '드림'], dtype=object)"
      ]
     },
     "execution_count": 18,
     "metadata": {},
     "output_type": "execute_result"
    }
   ],
   "source": [
    "# values를 출력합니다.\n",
    "values"
   ]
  },
  {
   "cell_type": "code",
   "execution_count": 19,
   "id": "9f007838",
   "metadata": {},
   "outputs": [],
   "source": [
    "# kbo의 올스타 범주별 OPS를 시리즈 sp1과 sp2로 생성합니다.\n",
    "# [힌트] 리스트 컴프리헨션과 eq() 함수를 사용하세요.\n",
    "sp1, sp2 = [kbo['OPS'][kbo['올스타'].eq(v)] for v in values]"
   ]
  },
  {
   "cell_type": "code",
   "execution_count": 20,
   "id": "8eabc728",
   "metadata": {
    "ExecuteTime": {
     "end_time": "2022-06-07T14:40:03.053597Z",
     "start_time": "2022-06-07T14:40:03.041567Z"
    }
   },
   "outputs": [
    {
     "data": {
      "text/html": [
       "<div>\n",
       "<style scoped>\n",
       "    .dataframe tbody tr th:only-of-type {\n",
       "        vertical-align: middle;\n",
       "    }\n",
       "\n",
       "    .dataframe tbody tr th {\n",
       "        vertical-align: top;\n",
       "    }\n",
       "\n",
       "    .dataframe thead th {\n",
       "        text-align: right;\n",
       "    }\n",
       "</style>\n",
       "<table border=\"1\" class=\"dataframe\">\n",
       "  <thead>\n",
       "    <tr style=\"text-align: right;\">\n",
       "      <th></th>\n",
       "      <th>T</th>\n",
       "      <th>dof</th>\n",
       "      <th>alternative</th>\n",
       "      <th>p-val</th>\n",
       "      <th>CI95%</th>\n",
       "      <th>cohen-d</th>\n",
       "      <th>BF10</th>\n",
       "      <th>power</th>\n",
       "    </tr>\n",
       "  </thead>\n",
       "  <tbody>\n",
       "    <tr>\n",
       "      <th>T-test</th>\n",
       "      <td>-3.771473</td>\n",
       "      <td>192</td>\n",
       "      <td>two-sided</td>\n",
       "      <td>0.000216</td>\n",
       "      <td>[-0.1, -0.03]</td>\n",
       "      <td>0.542968</td>\n",
       "      <td>102.029</td>\n",
       "      <td>0.96348</td>\n",
       "    </tr>\n",
       "  </tbody>\n",
       "</table>\n",
       "</div>"
      ],
      "text/plain": [
       "               T  dof alternative     p-val          CI95%   cohen-d     BF10  \\\n",
       "T-test -3.771473  192   two-sided  0.000216  [-0.1, -0.03]  0.542968  102.029   \n",
       "\n",
       "          power  \n",
       "T-test  0.96348  "
      ]
     },
     "execution_count": 20,
     "metadata": {},
     "output_type": "execute_result"
    }
   ],
   "source": [
    "# 등분산 검정 결과에 따라 등분산 또는 이분산 가정된 t-검정을 실행합니다.\n",
    "# [힌트] pg.ttest() 함수를 사용하세요.\n",
    "pg.ttest(x = sp1, y = sp2, correction = False)"
   ]
  },
  {
   "cell_type": "code",
   "execution_count": 21,
   "id": "4a490af7",
   "metadata": {
    "ExecuteTime": {
     "end_time": "2022-06-07T14:40:03.064191Z",
     "start_time": "2022-06-07T14:40:03.055590Z"
    }
   },
   "outputs": [
    {
     "data": {
      "text/html": [
       "<div>\n",
       "<style scoped>\n",
       "    .dataframe tbody tr th:only-of-type {\n",
       "        vertical-align: middle;\n",
       "    }\n",
       "\n",
       "    .dataframe tbody tr th {\n",
       "        vertical-align: top;\n",
       "    }\n",
       "\n",
       "    .dataframe thead th {\n",
       "        text-align: right;\n",
       "    }\n",
       "</style>\n",
       "<table border=\"1\" class=\"dataframe\">\n",
       "  <thead>\n",
       "    <tr style=\"text-align: right;\">\n",
       "      <th></th>\n",
       "      <th>U-val</th>\n",
       "      <th>alternative</th>\n",
       "      <th>p-val</th>\n",
       "      <th>RBC</th>\n",
       "      <th>CLES</th>\n",
       "    </tr>\n",
       "  </thead>\n",
       "  <tbody>\n",
       "    <tr>\n",
       "      <th>MWU</th>\n",
       "      <td>3315.5</td>\n",
       "      <td>two-sided</td>\n",
       "      <td>0.00047</td>\n",
       "      <td>0.29156</td>\n",
       "      <td>0.35422</td>\n",
       "    </tr>\n",
       "  </tbody>\n",
       "</table>\n",
       "</div>"
      ],
      "text/plain": [
       "      U-val alternative    p-val      RBC     CLES\n",
       "MWU  3315.5   two-sided  0.00047  0.29156  0.35422"
      ]
     },
     "execution_count": 21,
     "metadata": {},
     "output_type": "execute_result"
    }
   ],
   "source": [
    "# (정규성 가정 불만족) 맨-휘트니 U 검정을 실행합니다.\n",
    "# [힌트] pg.mwu() 함수를 사용하세요.\n",
    "pg.mwu(x = sp1, y = sp2)"
   ]
  },
  {
   "cell_type": "markdown",
   "id": "7dd2e6e7",
   "metadata": {},
   "source": [
    "### 데이터 전처리\n",
    "\n",
    "KBO 시청율 상위 3팀('KIA', '롯데', '한화')을 선택하여 teams를 생성합니다."
   ]
  },
  {
   "cell_type": "code",
   "execution_count": 22,
   "id": "589893b3",
   "metadata": {},
   "outputs": [],
   "source": [
    "# 'KIA', '롯데', '한화'를 원소로 갖는 리스트 top3를 생성합니다.\n",
    "top3 = ['KIA', '롯데', '한화']"
   ]
  },
  {
   "cell_type": "code",
   "execution_count": 23,
   "id": "39a5a1a3",
   "metadata": {
    "ExecuteTime": {
     "end_time": "2022-06-07T14:40:03.069412Z",
     "start_time": "2022-06-07T14:40:03.066219Z"
    }
   },
   "outputs": [],
   "source": [
    "# 팀명이 top3의 원소일 때 True, 아니면 False인 부울형 시리즈 locs를 생성합니다.\n",
    "# [힌트] isin() 함수를 사용하세요.\n",
    "locs = kbo['팀명'].isin(values = top3)"
   ]
  },
  {
   "cell_type": "code",
   "execution_count": 24,
   "id": "d0ebc5db",
   "metadata": {},
   "outputs": [
    {
     "data": {
      "text/plain": [
       "60"
      ]
     },
     "execution_count": 24,
     "metadata": {},
     "output_type": "execute_result"
    }
   ],
   "source": [
    "# locs에서 True의 개수를 출력합니다.\n",
    "# [힌트] sum() 함수를 사용하세요.\n",
    "locs.sum()"
   ]
  },
  {
   "cell_type": "code",
   "execution_count": 25,
   "id": "ccbc0d36",
   "metadata": {},
   "outputs": [],
   "source": [
    "# kbo에서 locs가 True인 행을 선택하고 teams에 할당합니다.\n",
    "# [참고] 데이터프레임에서 행을 선택할 때 loc 인덱서를 추가 또는 생략할 수 있습니다.\n",
    "teams = kbo[locs]"
   ]
  },
  {
   "cell_type": "code",
   "execution_count": 26,
   "id": "9586f415",
   "metadata": {},
   "outputs": [
    {
     "data": {
      "text/plain": [
       "60"
      ]
     },
     "execution_count": 26,
     "metadata": {},
     "output_type": "execute_result"
    }
   ],
   "source": [
    "# teams의 행 길이를 출력합니다.\n",
    "# [힌트] shape 속성의 첫 번째 원소를 인덱싱하세요.\n",
    "teams.shape[0]"
   ]
  },
  {
   "cell_type": "markdown",
   "id": "f9cb2db6",
   "metadata": {},
   "source": [
    "### 데이터 시각화\n",
    "\n",
    "teams의 팀명 범주별 OPS로 상자 수염 그림을 그리고 <br>\n",
    "OPS의 평균이 같은지 시각적으로 확인합니다."
   ]
  },
  {
   "cell_type": "code",
   "execution_count": 27,
   "id": "6a62dd5d",
   "metadata": {
    "ExecuteTime": {
     "end_time": "2022-06-07T14:12:37.899309Z",
     "start_time": "2022-06-07T14:12:37.058981Z"
    }
   },
   "outputs": [],
   "source": [
    "# 시각화 관련 모듈을 호출합니다.\n",
    "from GraphicSetting import *\n",
    "import HelloDataScience as hds"
   ]
  },
  {
   "cell_type": "code",
   "execution_count": 28,
   "id": "a432ac78",
   "metadata": {
    "ExecuteTime": {
     "end_time": "2022-06-07T14:12:37.904292Z",
     "start_time": "2022-06-07T14:12:37.901399Z"
    }
   },
   "outputs": [],
   "source": [
    "# 기본 팔레트를 'Set1'으로 설정합니다.\n",
    "# [힌트] sns.set_palette() 함수를 사용하세요.\n",
    "sns.set_palette(palette = 'Set1', n_colors = 9)"
   ]
  },
  {
   "cell_type": "code",
   "execution_count": 29,
   "id": "8bf51956",
   "metadata": {
    "ExecuteTime": {
     "end_time": "2022-06-07T14:12:37.909706Z",
     "start_time": "2022-06-07T14:12:37.906024Z"
    }
   },
   "outputs": [
    {
     "data": {
      "text/html": [
       "<svg  width=\"495\" height=\"55\"><rect x=\"0\" y=\"0\" width=\"55\" height=\"55\" style=\"fill:#e41a1c;stroke-width:2;stroke:rgb(255,255,255)\"/><rect x=\"55\" y=\"0\" width=\"55\" height=\"55\" style=\"fill:#377eb8;stroke-width:2;stroke:rgb(255,255,255)\"/><rect x=\"110\" y=\"0\" width=\"55\" height=\"55\" style=\"fill:#4daf4a;stroke-width:2;stroke:rgb(255,255,255)\"/><rect x=\"165\" y=\"0\" width=\"55\" height=\"55\" style=\"fill:#984ea3;stroke-width:2;stroke:rgb(255,255,255)\"/><rect x=\"220\" y=\"0\" width=\"55\" height=\"55\" style=\"fill:#ff7f00;stroke-width:2;stroke:rgb(255,255,255)\"/><rect x=\"275\" y=\"0\" width=\"55\" height=\"55\" style=\"fill:#ffff33;stroke-width:2;stroke:rgb(255,255,255)\"/><rect x=\"330\" y=\"0\" width=\"55\" height=\"55\" style=\"fill:#a65628;stroke-width:2;stroke:rgb(255,255,255)\"/><rect x=\"385\" y=\"0\" width=\"55\" height=\"55\" style=\"fill:#f781bf;stroke-width:2;stroke:rgb(255,255,255)\"/><rect x=\"440\" y=\"0\" width=\"55\" height=\"55\" style=\"fill:#999999;stroke-width:2;stroke:rgb(255,255,255)\"/></svg>"
      ],
      "text/plain": [
       "[(0.8941176470588236, 0.10196078431372549, 0.10980392156862745),\n",
       " (0.21568627450980393, 0.49411764705882355, 0.7215686274509804),\n",
       " (0.30196078431372547, 0.6862745098039216, 0.2901960784313726),\n",
       " (0.596078431372549, 0.3058823529411765, 0.6392156862745098),\n",
       " (1.0, 0.4980392156862745, 0.0),\n",
       " (1.0, 1.0, 0.2),\n",
       " (0.6509803921568628, 0.33725490196078434, 0.1568627450980392),\n",
       " (0.9686274509803922, 0.5058823529411764, 0.7490196078431373),\n",
       " (0.6, 0.6, 0.6)]"
      ]
     },
     "execution_count": 29,
     "metadata": {},
     "output_type": "execute_result"
    }
   ],
   "source": [
    "# 기본 팔레트 색을 출력합니다.\n",
    "# [힌트] sns.color_palette() 함수를 사용하세요.\n",
    "sns.color_palette()"
   ]
  },
  {
   "cell_type": "code",
   "execution_count": 30,
   "id": "76cacd8a",
   "metadata": {},
   "outputs": [
    {
     "data": {
      "image/png": "[encoded data removed]",
      "text/plain": [
       "<Figure size 600x600 with 1 Axes>"
      ]
     },
     "metadata": {},
     "output_type": "display_data"
    }
   ],
   "source": [
    "# 팀명의 범주별 OPS의 분포를 비교합니다.\n",
    "# [힌트] hds.plot_box_group() 함수를 사용하세요.\n",
    "hds.plot_box_group(data = teams, x = '팀명', y = 'OPS')"
   ]
  },
  {
   "cell_type": "markdown",
   "id": "4bcd0a01",
   "metadata": {},
   "source": [
    "### 분산분석: 팀명\n",
    "\n",
    "teams의 팀명 범주별 OPS 평균이 같은지 확인합니다."
   ]
  },
  {
   "cell_type": "code",
   "execution_count": 31,
   "id": "33b2b44c",
   "metadata": {},
   "outputs": [
    {
     "data": {
      "text/plain": [
       "팀명\n",
       "KIA    0.646778\n",
       "롯데     0.728765\n",
       "한화     0.614880\n",
       "Name: OPS, dtype: float64"
      ]
     },
     "execution_count": 31,
     "metadata": {},
     "output_type": "execute_result"
    }
   ],
   "source": [
    "# teams의 팀명 범주별 OPS의 평균을 확인합니다.\n",
    "teams.groupby(by = ['팀명'])['OPS'].mean()"
   ]
  },
  {
   "cell_type": "code",
   "execution_count": 32,
   "id": "4609009e",
   "metadata": {
    "ExecuteTime": {
     "end_time": "2022-06-07T14:40:03.082631Z",
     "start_time": "2022-06-07T14:40:03.071672Z"
    }
   },
   "outputs": [
    {
     "data": {
      "text/html": [
       "<div>\n",
       "<style scoped>\n",
       "    .dataframe tbody tr th:only-of-type {\n",
       "        vertical-align: middle;\n",
       "    }\n",
       "\n",
       "    .dataframe tbody tr th {\n",
       "        vertical-align: top;\n",
       "    }\n",
       "\n",
       "    .dataframe thead th {\n",
       "        text-align: right;\n",
       "    }\n",
       "</style>\n",
       "<table border=\"1\" class=\"dataframe\">\n",
       "  <thead>\n",
       "    <tr style=\"text-align: right;\">\n",
       "      <th></th>\n",
       "      <th>W</th>\n",
       "      <th>pval</th>\n",
       "      <th>normal</th>\n",
       "    </tr>\n",
       "  </thead>\n",
       "  <tbody>\n",
       "    <tr>\n",
       "      <th>롯데</th>\n",
       "      <td>0.970012</td>\n",
       "      <td>0.818653</td>\n",
       "      <td>True</td>\n",
       "    </tr>\n",
       "    <tr>\n",
       "      <th>한화</th>\n",
       "      <td>0.953909</td>\n",
       "      <td>0.306497</td>\n",
       "      <td>True</td>\n",
       "    </tr>\n",
       "    <tr>\n",
       "      <th>KIA</th>\n",
       "      <td>0.968616</td>\n",
       "      <td>0.771305</td>\n",
       "      <td>True</td>\n",
       "    </tr>\n",
       "  </tbody>\n",
       "</table>\n",
       "</div>"
      ],
      "text/plain": [
       "            W      pval  normal\n",
       "롯데   0.970012  0.818653    True\n",
       "한화   0.953909  0.306497    True\n",
       "KIA  0.968616  0.771305    True"
      ]
     },
     "execution_count": 32,
     "metadata": {},
     "output_type": "execute_result"
    }
   ],
   "source": [
    "# teams의 팀명 범주별 OPS의 정규성 검정을 실행합니다.\n",
    "# [힌트] pg.normality() 함수에 사용하세요.\n",
    "# [참고] method를 생략하면 인수의 기본값인 'shapiro'를 적용합니다.\n",
    "pg.normality(data = teams, dv = 'OPS', group = '팀명')"
   ]
  },
  {
   "cell_type": "code",
   "execution_count": 33,
   "id": "ec9f639a",
   "metadata": {
    "ExecuteTime": {
     "end_time": "2022-06-07T14:40:03.092215Z",
     "start_time": "2022-06-07T14:40:03.084453Z"
    }
   },
   "outputs": [
    {
     "data": {
      "text/html": [
       "<div>\n",
       "<style scoped>\n",
       "    .dataframe tbody tr th:only-of-type {\n",
       "        vertical-align: middle;\n",
       "    }\n",
       "\n",
       "    .dataframe tbody tr th {\n",
       "        vertical-align: top;\n",
       "    }\n",
       "\n",
       "    .dataframe thead th {\n",
       "        text-align: right;\n",
       "    }\n",
       "</style>\n",
       "<table border=\"1\" class=\"dataframe\">\n",
       "  <thead>\n",
       "    <tr style=\"text-align: right;\">\n",
       "      <th></th>\n",
       "      <th>W</th>\n",
       "      <th>pval</th>\n",
       "      <th>equal_var</th>\n",
       "    </tr>\n",
       "  </thead>\n",
       "  <tbody>\n",
       "    <tr>\n",
       "      <th>levene</th>\n",
       "      <td>5.556486</td>\n",
       "      <td>0.006243</td>\n",
       "      <td>False</td>\n",
       "    </tr>\n",
       "  </tbody>\n",
       "</table>\n",
       "</div>"
      ],
      "text/plain": [
       "               W      pval  equal_var\n",
       "levene  5.556486  0.006243      False"
      ]
     },
     "execution_count": 33,
     "metadata": {},
     "output_type": "execute_result"
    }
   ],
   "source": [
    "# (정규성 가정 만족) teams의 팀명 범주별 OPS의 등분산성 검정을 실행합니다.\n",
    "# [힌트] pg.homoscedasticity() 함수를 사용하세요.\n",
    "pg.homoscedasticity(data = teams, dv = 'OPS', group = '팀명')"
   ]
  },
  {
   "cell_type": "code",
   "execution_count": 34,
   "id": "c0b86470",
   "metadata": {
    "ExecuteTime": {
     "end_time": "2022-06-07T14:40:03.107498Z",
     "start_time": "2022-06-07T14:40:03.094111Z"
    }
   },
   "outputs": [
    {
     "data": {
      "text/html": [
       "<div>\n",
       "<style scoped>\n",
       "    .dataframe tbody tr th:only-of-type {\n",
       "        vertical-align: middle;\n",
       "    }\n",
       "\n",
       "    .dataframe tbody tr th {\n",
       "        vertical-align: top;\n",
       "    }\n",
       "\n",
       "    .dataframe thead th {\n",
       "        text-align: right;\n",
       "    }\n",
       "</style>\n",
       "<table border=\"1\" class=\"dataframe\">\n",
       "  <thead>\n",
       "    <tr style=\"text-align: right;\">\n",
       "      <th></th>\n",
       "      <th>Source</th>\n",
       "      <th>ddof1</th>\n",
       "      <th>ddof2</th>\n",
       "      <th>F</th>\n",
       "      <th>p-unc</th>\n",
       "      <th>np2</th>\n",
       "    </tr>\n",
       "  </thead>\n",
       "  <tbody>\n",
       "    <tr>\n",
       "      <th>0</th>\n",
       "      <td>팀명</td>\n",
       "      <td>2</td>\n",
       "      <td>37.737181</td>\n",
       "      <td>6.834187</td>\n",
       "      <td>0.002931</td>\n",
       "      <td>0.165067</td>\n",
       "    </tr>\n",
       "  </tbody>\n",
       "</table>\n",
       "</div>"
      ],
      "text/plain": [
       "  Source  ddof1      ddof2         F     p-unc       np2\n",
       "0     팀명      2  37.737181  6.834187  0.002931  0.165067"
      ]
     },
     "execution_count": 34,
     "metadata": {},
     "output_type": "execute_result"
    }
   ],
   "source": [
    "# 등분산 검정 결과에 따라 등분산 또는 이분산 가정된 분산분석을 실행합니다.\n",
    "# [힌트] pg.anova() 또는 pg.welch_anova() 함수를 사용하세요.\n",
    "pg.welch_anova(data = teams, dv = 'OPS', between = '팀명')"
   ]
  },
  {
   "cell_type": "code",
   "execution_count": 35,
   "id": "74e02a58",
   "metadata": {
    "ExecuteTime": {
     "end_time": "2022-06-07T14:40:03.118618Z",
     "start_time": "2022-06-07T14:40:03.109033Z"
    }
   },
   "outputs": [
    {
     "data": {
      "text/html": [
       "<div>\n",
       "<style scoped>\n",
       "    .dataframe tbody tr th:only-of-type {\n",
       "        vertical-align: middle;\n",
       "    }\n",
       "\n",
       "    .dataframe tbody tr th {\n",
       "        vertical-align: top;\n",
       "    }\n",
       "\n",
       "    .dataframe thead th {\n",
       "        text-align: right;\n",
       "    }\n",
       "</style>\n",
       "<table border=\"1\" class=\"dataframe\">\n",
       "  <thead>\n",
       "    <tr style=\"text-align: right;\">\n",
       "      <th></th>\n",
       "      <th>Source</th>\n",
       "      <th>ddof1</th>\n",
       "      <th>H</th>\n",
       "      <th>p-unc</th>\n",
       "    </tr>\n",
       "  </thead>\n",
       "  <tbody>\n",
       "    <tr>\n",
       "      <th>Kruskal</th>\n",
       "      <td>팀명</td>\n",
       "      <td>2</td>\n",
       "      <td>9.085054</td>\n",
       "      <td>0.010646</td>\n",
       "    </tr>\n",
       "  </tbody>\n",
       "</table>\n",
       "</div>"
      ],
      "text/plain": [
       "        Source  ddof1         H     p-unc\n",
       "Kruskal     팀명      2  9.085054  0.010646"
      ]
     },
     "execution_count": 35,
     "metadata": {},
     "output_type": "execute_result"
    }
   ],
   "source": [
    "# (정규성 가정 불만족) 크루스칼-왈리스 순위합 검정을 실행합니다.\n",
    "# [힌트] pg.kruskal() 함수를 사용하세요.\n",
    "pg.kruskal(data = teams, dv = 'OPS', between = '팀명')"
   ]
  },
  {
   "cell_type": "markdown",
   "id": "4ed399c3",
   "metadata": {},
   "source": [
    "### 사후분석\n",
    "\n",
    "두 범주별로 묶어서 OPS의 평균이 같은지 확인합니다."
   ]
  },
  {
   "cell_type": "code",
   "execution_count": 36,
   "id": "3aa190d6",
   "metadata": {
    "ExecuteTime": {
     "end_time": "2022-06-07T14:40:03.209349Z",
     "start_time": "2022-06-07T14:40:03.120514Z"
    }
   },
   "outputs": [
    {
     "data": {
      "text/html": [
       "<div>\n",
       "<style scoped>\n",
       "    .dataframe tbody tr th:only-of-type {\n",
       "        vertical-align: middle;\n",
       "    }\n",
       "\n",
       "    .dataframe tbody tr th {\n",
       "        vertical-align: top;\n",
       "    }\n",
       "\n",
       "    .dataframe thead th {\n",
       "        text-align: right;\n",
       "    }\n",
       "</style>\n",
       "<table border=\"1\" class=\"dataframe\">\n",
       "  <thead>\n",
       "    <tr style=\"text-align: right;\">\n",
       "      <th></th>\n",
       "      <th>롯데</th>\n",
       "      <th>한화</th>\n",
       "      <th>KIA</th>\n",
       "    </tr>\n",
       "  </thead>\n",
       "  <tbody>\n",
       "    <tr>\n",
       "      <th>롯데</th>\n",
       "      <td>1.000000</td>\n",
       "      <td>0.004356</td>\n",
       "      <td>0.075596</td>\n",
       "    </tr>\n",
       "    <tr>\n",
       "      <th>한화</th>\n",
       "      <td>0.004356</td>\n",
       "      <td>1.000000</td>\n",
       "      <td>0.604895</td>\n",
       "    </tr>\n",
       "    <tr>\n",
       "      <th>KIA</th>\n",
       "      <td>0.075596</td>\n",
       "      <td>0.604895</td>\n",
       "      <td>1.000000</td>\n",
       "    </tr>\n",
       "  </tbody>\n",
       "</table>\n",
       "</div>"
      ],
      "text/plain": [
       "           롯데        한화       KIA\n",
       "롯데   1.000000  0.004356  0.075596\n",
       "한화   0.004356  1.000000  0.604895\n",
       "KIA  0.075596  0.604895  1.000000"
      ]
     },
     "execution_count": 36,
     "metadata": {},
     "output_type": "execute_result"
    }
   ],
   "source": [
    "# Tukey 방식으로 사후분석을 실행합니다.\n",
    "# [힌트] pg.pairwise_tukey() 함수를 사용하세요.\n",
    "sp.posthoc_tukey(a = teams, val_col = 'OPS', group_col = '팀명')"
   ]
  },
  {
   "cell_type": "code",
   "execution_count": 37,
   "id": "2064396c",
   "metadata": {},
   "outputs": [
    {
     "data": {
      "text/html": [
       "<div>\n",
       "<style scoped>\n",
       "    .dataframe tbody tr th:only-of-type {\n",
       "        vertical-align: middle;\n",
       "    }\n",
       "\n",
       "    .dataframe tbody tr th {\n",
       "        vertical-align: top;\n",
       "    }\n",
       "\n",
       "    .dataframe thead th {\n",
       "        text-align: right;\n",
       "    }\n",
       "</style>\n",
       "<table border=\"1\" class=\"dataframe\">\n",
       "  <thead>\n",
       "    <tr style=\"text-align: right;\">\n",
       "      <th></th>\n",
       "      <th>롯데</th>\n",
       "      <th>한화</th>\n",
       "      <th>KIA</th>\n",
       "    </tr>\n",
       "  </thead>\n",
       "  <tbody>\n",
       "    <tr>\n",
       "      <th>롯데</th>\n",
       "      <td>1.000000</td>\n",
       "      <td>0.006396</td>\n",
       "      <td>0.093153</td>\n",
       "    </tr>\n",
       "    <tr>\n",
       "      <th>한화</th>\n",
       "      <td>0.006396</td>\n",
       "      <td>1.000000</td>\n",
       "      <td>0.640845</td>\n",
       "    </tr>\n",
       "    <tr>\n",
       "      <th>KIA</th>\n",
       "      <td>0.093153</td>\n",
       "      <td>0.640845</td>\n",
       "      <td>1.000000</td>\n",
       "    </tr>\n",
       "  </tbody>\n",
       "</table>\n",
       "</div>"
      ],
      "text/plain": [
       "           롯데        한화       KIA\n",
       "롯데   1.000000  0.006396  0.093153\n",
       "한화   0.006396  1.000000  0.640845\n",
       "KIA  0.093153  0.640845  1.000000"
      ]
     },
     "execution_count": 37,
     "metadata": {},
     "output_type": "execute_result"
    }
   ],
   "source": [
    "# Scheffe 방식으로 사후분석을 실행합니다.\n",
    "# [힌트] pg.pairwise_tukey() 함수를 사용하세요.\n",
    "sp.posthoc_scheffe(a = teams, val_col = 'OPS', group_col = '팀명')"
   ]
  },
  {
   "cell_type": "markdown",
   "id": "56f28914",
   "metadata": {},
   "source": [
    "## End of Document"
   ]
  }
 ],
 "metadata": {
  "kernelspec": {
   "display_name": "Python 3 (ipykernel)",
   "language": "python",
   "name": "python3"
  },
  "language_info": {
   "codemirror_mode": {
    "name": "ipython",
    "version": 3
   },
   "file_extension": ".py",
   "mimetype": "text/x-python",
   "name": "python",
   "nbconvert_exporter": "python",
   "pygments_lexer": "ipython3",
   "version": "3.10.4"
  },
  "toc": {
   "base_numbering": 1,
   "nav_menu": {},
   "number_sections": false,
   "sideBar": true,
   "skip_h1_title": false,
   "title_cell": "Table of Contents",
   "title_sidebar": "Contents",
   "toc_cell": false,
   "toc_position": {},
   "toc_section_display": true,
   "toc_window_display": false
  },
  "varInspector": {
   "cols": {
    "lenName": 16,
    "lenType": 16,
    "lenVar": 40
   },
   "kernels_config": {
    "python": {
     "delete_cmd_postfix": "",
     "delete_cmd_prefix": "del ",
     "library": "var_list.py",
     "varRefreshCmd": "print(var_dic_list())"
    },
    "r": {
     "delete_cmd_postfix": ") ",
     "delete_cmd_prefix": "rm(",
     "library": "var_list.r",
     "varRefreshCmd": "cat(var_dic_list()) "
    }
   },
   "types_to_exclude": [
    "module",
    "function",
    "builtin_function_or_method",
    "instance",
    "_Feature"
   ],
   "window_display": false
  }
 },
 "nbformat": 4,
 "nbformat_minor": 5
}
