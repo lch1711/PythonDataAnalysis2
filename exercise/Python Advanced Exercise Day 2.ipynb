{
 "cells": [
  {
   "cell_type": "markdown",
   "id": "1abe1def",
   "metadata": {},
   "source": [
    "## 연습문제 Day 2 모범답안"
   ]
  },
  {
   "cell_type": "markdown",
   "id": "10d84883",
   "metadata": {},
   "source": [
    "- 연습문제 Day 1에서 전처리한 z 파일을 읽고 kbo를 생성합니다.\n",
    "- kbo 데이터로 상관분석과 t-검정 및 분산분석을 실행합니다."
   ]
  },
  {
   "cell_type": "markdown",
   "id": "66228618",
   "metadata": {},
   "source": [
    "### 실습 데이터셋 준비"
   ]
  },
  {
   "cell_type": "code",
   "execution_count": null,
   "id": "b9aabaa2",
   "metadata": {
    "ExecuteTime": {
     "end_time": "2022-06-07T14:40:02.913350Z",
     "start_time": "2022-06-07T14:40:01.708014Z"
    }
   },
   "outputs": [],
   "source": [
    "# 관련 라이브러리를 호출합니다.\n",
    "import os\n",
    "import joblib\n",
    "import numpy as np\n",
    "import pandas as pd\n",
    "from scipy import stats\n",
    "import pingouin as pg\n",
    "import scikit_posthocs as sp"
   ]
  },
  {
   "cell_type": "code",
   "execution_count": null,
   "id": "e39f30c4",
   "metadata": {
    "ExecuteTime": {
     "end_time": "2022-06-07T14:40:02.925896Z",
     "start_time": "2022-06-07T14:40:02.915705Z"
    }
   },
   "outputs": [],
   "source": [
    "# 현재 작업 경로를 확인합니다.\n",
    "# [힌트] getcwd() 함수를 사용하세요.\n",
    "os."
   ]
  },
  {
   "cell_type": "code",
   "execution_count": null,
   "id": "8b6a334b",
   "metadata": {
    "ExecuteTime": {
     "end_time": "2022-06-07T14:40:02.929827Z",
     "start_time": "2022-06-07T14:40:02.927715Z"
    }
   },
   "outputs": [],
   "source": [
    "# data 폴더로 작업 경로를 변경합니다.\n",
    "# [힌트] chdir() 함수를 사용하세요.\n",
    "os."
   ]
  },
  {
   "cell_type": "code",
   "execution_count": null,
   "id": "65b32e57",
   "metadata": {
    "ExecuteTime": {
     "end_time": "2022-06-07T14:40:02.936050Z",
     "start_time": "2022-06-07T14:40:02.932303Z"
    }
   },
   "outputs": [],
   "source": [
    "# 현재 작업 경로에 있는 폴더명과 파일명을 출력합니다.\n",
    "# [힌트] listdir() 함수를 사용하세요.\n",
    "os."
   ]
  },
  {
   "cell_type": "code",
   "execution_count": null,
   "id": "6b9f6d03",
   "metadata": {
    "ExecuteTime": {
     "end_time": "2022-06-07T14:40:02.941585Z",
     "start_time": "2022-06-07T14:40:02.937666Z"
    }
   },
   "outputs": [],
   "source": [
    "# z 파일을 읽고 데이터프레임 kbo를 생성합니다.\n",
    "# [힌트] joblib.load() 함수를 사용하세요.\n",
    "kbo = "
   ]
  },
  {
   "cell_type": "code",
   "execution_count": null,
   "id": "44ec5005",
   "metadata": {
    "ExecuteTime": {
     "end_time": "2022-06-07T14:40:02.953231Z",
     "start_time": "2022-06-07T14:40:02.943128Z"
    }
   },
   "outputs": [],
   "source": [
    "# kbo의 정보를 확인합니다.\n",
    "# [힌트] info() 함수를 사용하세요.\n",
    "kbo."
   ]
  },
  {
   "cell_type": "code",
   "execution_count": null,
   "id": "58ab1464",
   "metadata": {
    "ExecuteTime": {
     "end_time": "2022-06-07T14:40:02.969800Z",
     "start_time": "2022-06-07T14:40:02.954989Z"
    }
   },
   "outputs": [],
   "source": [
    "# kbo의 처음 5행을 출력합니다.\n",
    "# [힌트] head() 함수를 사용하세요.\n",
    "kbo."
   ]
  },
  {
   "cell_type": "markdown",
   "id": "e64ee035",
   "metadata": {},
   "source": [
    "### 피어슨 상관분석\n",
    "\n",
    "kbo에서 실수형 열을 선택하고 OPS와의 피어슨 상관분석을 실행합니다."
   ]
  },
  {
   "cell_type": "code",
   "execution_count": null,
   "id": "d413f9fd",
   "metadata": {},
   "outputs": [],
   "source": [
    "# kbo의 열별 자료형을 출력합니다.\n",
    "# [힌트] dtypes 속성을 사용하세요.\n",
    "kbo."
   ]
  },
  {
   "cell_type": "code",
   "execution_count": null,
   "id": "4c0f7333",
   "metadata": {},
   "outputs": [],
   "source": [
    "# kbo에서 열별 자료형이 실수형이면 True, 아니면 False인 시리즈 locs를 생성합니다.\n",
    "# [힌트] eq() 함수를 사용하세요.\n",
    "locs = "
   ]
  },
  {
   "cell_type": "code",
   "execution_count": null,
   "id": "dbc7831d",
   "metadata": {},
   "outputs": [],
   "source": [
    "# locs를 출력합니다.\n",
    "locs"
   ]
  },
  {
   "cell_type": "code",
   "execution_count": null,
   "id": "75d7aeb8",
   "metadata": {
    "scrolled": true
   },
   "outputs": [],
   "source": [
    "# kbo에서 실수형 변수만 선택합니다.\n",
    "# [힌트] loc 인덱서를 추가하고 열 위치에 locs를 지정하세요.\n",
    "kbo.loc[]"
   ]
  },
  {
   "cell_type": "code",
   "execution_count": null,
   "id": "4358b679",
   "metadata": {
    "scrolled": true
   },
   "outputs": [],
   "source": [
    "# kbo의 실수형 변수와 OPS의 피어슨 상관분석을 실행하고 유의확률을 출력합니다.\n",
    "# [힌트] apply() 함수에 lambda 표현식으로 pg.corr() 함수를 실행하세요.\n",
    "# [참고] 데이터프레임의 열별로 함수를 반복 실행하므로 axis 매개변수를 생략합니다.(기본값: 0)\n",
    "# [힌트] pg.corr() 함수 실행 결과에서 'p-val'을 인덱싱하세요.\n",
    "# 마지막에 round() 함수를 추가하면 반올림한 결과를 반환합니다.\n",
    "kbo.loc[].apply().round(4)"
   ]
  },
  {
   "cell_type": "code",
   "execution_count": null,
   "id": "a6b214b1",
   "metadata": {},
   "outputs": [],
   "source": [
    "# kbo의 실수형 변수와 OPS의 피어슨 상관분석을 실행하고 상관계수를 출력합니다.\n",
    "kbo.loc[].apply().round(4)"
   ]
  },
  {
   "cell_type": "markdown",
   "id": "808adfbf",
   "metadata": {},
   "source": [
    "### t-검정: 올스타\n",
    "\n",
    "kbo의 올스타 범주별 OPS의 평균이 같은지 확인합니다."
   ]
  },
  {
   "cell_type": "code",
   "execution_count": null,
   "id": "1e2fb63d",
   "metadata": {
    "ExecuteTime": {
     "end_time": "2022-06-07T14:40:03.024451Z",
     "start_time": "2022-06-07T14:40:03.012526Z"
    }
   },
   "outputs": [],
   "source": [
    "# kbo의 올스타 범주별 OPS의 정규성 검정을 실행합니다.\n",
    "# [힌트] pg.normality() 함수에 사용하세요.\n",
    "# [참고] method를 생략하면 인수의 기본값인 'shapiro'를 적용합니다.\n",
    "pg.normality()"
   ]
  },
  {
   "cell_type": "code",
   "execution_count": null,
   "id": "75b57b84",
   "metadata": {
    "ExecuteTime": {
     "end_time": "2022-06-07T14:40:03.034422Z",
     "start_time": "2022-06-07T14:40:03.026109Z"
    }
   },
   "outputs": [],
   "source": [
    "# (정규성 가정 만족) kbo의 올스타 범주별 OPS의 등분산성 검정을 실행합니다.\n",
    "# [힌트] pg.homoscedasticity() 함수를 사용하세요.\n",
    "# [참고] method를 생략하면 인수의 기본값인 'levene'을 적용합니다.\n",
    "pg.homoscedasticity()"
   ]
  },
  {
   "cell_type": "code",
   "execution_count": null,
   "id": "ff35dc8e",
   "metadata": {},
   "outputs": [],
   "source": [
    "# 올스타 원소의 중복을 제거한 values를 생성합니다.\n",
    "# [힌트] unique() 함수를 사용하세요.\n",
    "values = "
   ]
  },
  {
   "cell_type": "code",
   "execution_count": null,
   "id": "a6e76983",
   "metadata": {},
   "outputs": [],
   "source": [
    "# values를 출력합니다.\n",
    "values"
   ]
  },
  {
   "cell_type": "code",
   "execution_count": null,
   "id": "9f007838",
   "metadata": {},
   "outputs": [],
   "source": [
    "# kbo의 올스타 범주별 OPS를 시리즈 sp1과 sp2로 생성합니다.\n",
    "# [힌트] 리스트 컴프리헨션과 eq() 함수를 사용하세요.\n",
    "sp1, sp2 = []"
   ]
  },
  {
   "cell_type": "code",
   "execution_count": null,
   "id": "8eabc728",
   "metadata": {
    "ExecuteTime": {
     "end_time": "2022-06-07T14:40:03.053597Z",
     "start_time": "2022-06-07T14:40:03.041567Z"
    }
   },
   "outputs": [],
   "source": [
    "# 등분산 검정 결과에 따라 등분산 또는 이분산 가정된 t-검정을 실행합니다.\n",
    "# [힌트] pg.ttest() 함수를 사용하세요.\n",
    "pg.ttest()"
   ]
  },
  {
   "cell_type": "code",
   "execution_count": null,
   "id": "4a490af7",
   "metadata": {
    "ExecuteTime": {
     "end_time": "2022-06-07T14:40:03.064191Z",
     "start_time": "2022-06-07T14:40:03.055590Z"
    }
   },
   "outputs": [],
   "source": [
    "# (정규성 가정 불만족) 맨-휘트니 U 검정을 실행합니다.\n",
    "# [힌트] pg.mwu() 함수를 사용하세요.\n",
    "pg.mwu()"
   ]
  },
  {
   "cell_type": "markdown",
   "id": "7dd2e6e7",
   "metadata": {},
   "source": [
    "### 데이터 전처리\n",
    "\n",
    "KBO 시청율 상위 3팀('KIA', '롯데', '한화')을 선택하여 teams를 생성합니다."
   ]
  },
  {
   "cell_type": "code",
   "execution_count": null,
   "id": "589893b3",
   "metadata": {},
   "outputs": [],
   "source": [
    "# 'KIA', '롯데', '한화'를 원소로 갖는 리스트 top3를 생성합니다.\n",
    "top3 = []"
   ]
  },
  {
   "cell_type": "code",
   "execution_count": null,
   "id": "39a5a1a3",
   "metadata": {
    "ExecuteTime": {
     "end_time": "2022-06-07T14:40:03.069412Z",
     "start_time": "2022-06-07T14:40:03.066219Z"
    }
   },
   "outputs": [],
   "source": [
    "# 팀명이 top3의 원소일 때 True, 아니면 False인 부울형 시리즈 locs를 생성합니다.\n",
    "# [힌트] isin() 함수를 사용하세요.\n",
    "locs = "
   ]
  },
  {
   "cell_type": "code",
   "execution_count": null,
   "id": "d0ebc5db",
   "metadata": {},
   "outputs": [],
   "source": [
    "# locs에서 True의 개수를 출력합니다.\n",
    "# [힌트] sum() 함수를 사용하세요.\n",
    "locs."
   ]
  },
  {
   "cell_type": "code",
   "execution_count": null,
   "id": "ccbc0d36",
   "metadata": {},
   "outputs": [],
   "source": [
    "# kbo에서 locs가 True인 행을 선택하고 teams에 할당합니다.\n",
    "# [참고] 데이터프레임에서 행을 선택할 때 loc 인덱서를 추가 또는 생략할 수 있습니다.\n",
    "teams = "
   ]
  },
  {
   "cell_type": "code",
   "execution_count": null,
   "id": "9586f415",
   "metadata": {},
   "outputs": [],
   "source": [
    "# teams의 행 길이를 출력합니다.\n",
    "# [힌트] shape 속성의 첫 번째 원소를 인덱싱하세요.\n",
    "teams."
   ]
  },
  {
   "cell_type": "markdown",
   "id": "f9cb2db6",
   "metadata": {},
   "source": [
    "### 데이터 시각화\n",
    "\n",
    "teams의 팀명 범주별 OPS로 상자 수염 그림을 그리고 <br>\n",
    "OPS의 평균이 같은지 시각적으로 확인합니다."
   ]
  },
  {
   "cell_type": "code",
   "execution_count": null,
   "id": "6a62dd5d",
   "metadata": {
    "ExecuteTime": {
     "end_time": "2022-06-07T14:12:37.899309Z",
     "start_time": "2022-06-07T14:12:37.058981Z"
    }
   },
   "outputs": [],
   "source": [
    "# 시각화 관련 모듈을 호출합니다.\n",
    "from GraphicSetting import *\n",
    "import HelloDataScience as hds"
   ]
  },
  {
   "cell_type": "code",
   "execution_count": null,
   "id": "a432ac78",
   "metadata": {
    "ExecuteTime": {
     "end_time": "2022-06-07T14:12:37.904292Z",
     "start_time": "2022-06-07T14:12:37.901399Z"
    }
   },
   "outputs": [],
   "source": [
    "# 기본 팔레트를 'Set1'으로 설정합니다.\n",
    "# [힌트] sns.set_palette() 함수를 사용하세요.\n",
    "sns.set_palette(palette = 'Set1', n_colors = 9)"
   ]
  },
  {
   "cell_type": "code",
   "execution_count": null,
   "id": "8bf51956",
   "metadata": {
    "ExecuteTime": {
     "end_time": "2022-06-07T14:12:37.909706Z",
     "start_time": "2022-06-07T14:12:37.906024Z"
    }
   },
   "outputs": [],
   "source": [
    "# 기본 팔레트 색을 출력합니다.\n",
    "# [힌트] sns.color_palette() 함수를 사용하세요.\n",
    "sns.color_palette()"
   ]
  },
  {
   "cell_type": "code",
   "execution_count": null,
   "id": "76cacd8a",
   "metadata": {},
   "outputs": [],
   "source": [
    "# 팀명의 범주별 OPS의 분포를 비교합니다.\n",
    "# [힌트] hds.plot_box_group() 함수를 사용하세요.\n",
    "hds.plot_box_group()"
   ]
  },
  {
   "cell_type": "markdown",
   "id": "4bcd0a01",
   "metadata": {},
   "source": [
    "### 분산분석: 팀명\n",
    "\n",
    "teams의 팀명 범주별 OPS 평균이 같은지 확인합니다."
   ]
  },
  {
   "cell_type": "code",
   "execution_count": null,
   "id": "4609009e",
   "metadata": {
    "ExecuteTime": {
     "end_time": "2022-06-07T14:40:03.082631Z",
     "start_time": "2022-06-07T14:40:03.071672Z"
    }
   },
   "outputs": [],
   "source": [
    "# teams의 팀명 범주별 OPS의 정규성 검정을 실행합니다.\n",
    "# [힌트] pg.normality() 함수에 사용하세요.\n",
    "# [참고] method를 생략하면 인수의 기본값인 'shapiro'를 적용합니다.\n",
    "pg.normality()"
   ]
  },
  {
   "cell_type": "code",
   "execution_count": null,
   "id": "ec9f639a",
   "metadata": {
    "ExecuteTime": {
     "end_time": "2022-06-07T14:40:03.092215Z",
     "start_time": "2022-06-07T14:40:03.084453Z"
    }
   },
   "outputs": [],
   "source": [
    "# (정규성 가정 만족) teams의 팀명 범주별 OPS의 등분산성 검정을 실행합니다.\n",
    "# [힌트] pg.homoscedasticity() 함수를 사용하세요.\n",
    "pg.homoscedasticity()"
   ]
  },
  {
   "cell_type": "code",
   "execution_count": null,
   "id": "c0b86470",
   "metadata": {
    "ExecuteTime": {
     "end_time": "2022-06-07T14:40:03.107498Z",
     "start_time": "2022-06-07T14:40:03.094111Z"
    }
   },
   "outputs": [],
   "source": [
    "# 등분산 검정 결과에 따라 등분산 또는 이분산 가정된 분산분석을 실행합니다.\n",
    "# [힌트] pg.anova() 또는 pg.welch_anova() 함수를 사용하세요.\n",
    "pg.welch_anova()"
   ]
  },
  {
   "cell_type": "code",
   "execution_count": null,
   "id": "74e02a58",
   "metadata": {
    "ExecuteTime": {
     "end_time": "2022-06-07T14:40:03.118618Z",
     "start_time": "2022-06-07T14:40:03.109033Z"
    }
   },
   "outputs": [],
   "source": [
    "# (정규성 가정 불만족) 크루스칼-왈리스 순위합 검정을 실행합니다.\n",
    "# [힌트] pg.kruskal() 함수를 사용하세요.\n",
    "pg.kruskal()"
   ]
  },
  {
   "cell_type": "markdown",
   "id": "4ed399c3",
   "metadata": {},
   "source": [
    "### 사후분석\n",
    "\n",
    "두 범주별로 묶어서 OPS의 평균이 같은지 확인합니다."
   ]
  },
  {
   "cell_type": "code",
   "execution_count": null,
   "id": "3aa190d6",
   "metadata": {
    "ExecuteTime": {
     "end_time": "2022-06-07T14:40:03.209349Z",
     "start_time": "2022-06-07T14:40:03.120514Z"
    }
   },
   "outputs": [],
   "source": [
    "# Tukey 방식으로 사후분석을 실행합니다.\n",
    "# [힌트] pg.pairwise_tukey() 함수를 사용하세요.\n",
    "sp.posthoc_tukey()"
   ]
  },
  {
   "cell_type": "code",
   "execution_count": null,
   "id": "2064396c",
   "metadata": {},
   "outputs": [],
   "source": [
    "# Scheffe 방식으로 사후분석을 실행합니다.\n",
    "# [힌트] pg.pairwise_tukey() 함수를 사용하세요.\n",
    "sp.posthoc_scheffe()"
   ]
  },
  {
   "cell_type": "markdown",
   "id": "56f28914",
   "metadata": {},
   "source": [
    "## End of Document"
   ]
  }
 ],
 "metadata": {
  "kernelspec": {
   "display_name": "Python 3 (ipykernel)",
   "language": "python",
   "name": "python3"
  },
  "language_info": {
   "codemirror_mode": {
    "name": "ipython",
    "version": 3
   },
   "file_extension": ".py",
   "mimetype": "text/x-python",
   "name": "python",
   "nbconvert_exporter": "python",
   "pygments_lexer": "ipython3",
   "version": "3.10.4"
  },
  "toc": {
   "base_numbering": 1,
   "nav_menu": {},
   "number_sections": false,
   "sideBar": true,
   "skip_h1_title": false,
   "title_cell": "Table of Contents",
   "title_sidebar": "Contents",
   "toc_cell": false,
   "toc_position": {},
   "toc_section_display": true,
   "toc_window_display": false
  },
  "varInspector": {
   "cols": {
    "lenName": 16,
    "lenType": 16,
    "lenVar": 40
   },
   "kernels_config": {
    "python": {
     "delete_cmd_postfix": "",
     "delete_cmd_prefix": "del ",
     "library": "var_list.py",
     "varRefreshCmd": "print(var_dic_list())"
    },
    "r": {
     "delete_cmd_postfix": ") ",
     "delete_cmd_prefix": "rm(",
     "library": "var_list.r",
     "varRefreshCmd": "cat(var_dic_list()) "
    }
   },
   "types_to_exclude": [
    "module",
    "function",
    "builtin_function_or_method",
    "instance",
    "_Feature"
   ],
   "window_display": false
  }
 },
 "nbformat": 4,
 "nbformat_minor": 5
}
